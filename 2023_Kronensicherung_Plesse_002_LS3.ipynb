{
 "cells": [
  {
   "cell_type": "markdown",
   "metadata": {},
   "source": [
    "---\n",
    "title: \"2023_Kronensicherung_Plesse_LS3\"\n",
    "author: \"Kyell Jensen\"\n",
    "date: \"2024-08-06\"\n",
    "format: pdf\n",
    "editor: visual\n",
    "---"
   ]
  },
  {
   "cell_type": "markdown",
   "metadata": {
    "collapsed": false
   },
   "source": [
    "# 2023_Kronensicherung_Plesse_Kraefte_LS3\n",
    "## LS3: Daten der Kraftmessdosen (lineScale3 Data = LS3)\n",
    "\n",
    "Nutze eine geeignete Python 3.11 Umgebung (z. B. virtuelle Environment) und installier das Paket linescale3 (LS3) inklusive kj_core und kj_logger und weiteren requirements."
   ]
  },
  {
   "cell_type": "markdown",
   "metadata": {
    "collapsed": false
   },
   "source": [
    "## Arbeitsumgebung vorbereiten\n",
    "\n",
    "Es werden zuerst benötigte Standard-Pakete importiert. Nachfolgend das extra geschriebenen Pakete LS3. Fehler beim Import dieses Pakets sind ggf. Bugs. Es nutzte eine gemeinsame CodeBasis in den Paketen kj_core (Core-Package) und kj_logger (individualisiertes Logging des Verarbeitungs-Prozesses). Diese sollte i. d. R. über die requirements mit installiert werden."
   ]
  },
  {
   "cell_type": "markdown",
   "metadata": {
    "collapsed": false
   },
   "source": [
    "### IMPORT: Importieren von Standardbibliotheken\n",
    "\n",
    "Die folgenden Bibliotheken werden importiert, um grundlegende Funktionen für Strukturierung, Datenverarbeitung, Plotting und statistische Auswertung bereit zu stellen."
   ]
  },
  {
   "cell_type": "code",
   "execution_count": 1,
   "metadata": {
    "ExecuteTime": {
     "end_time": "2025-03-27T10:14:36.496625Z",
     "start_time": "2025-03-27T10:14:34.594541600Z"
    }
   },
   "outputs": [],
   "source": [
    "# Struktur\n",
    "from pathlib import Path\n",
    "from typing import Dict, List\n",
    "import json\n",
    "from IPython.display import Markdown, display\n",
    "\n",
    "# Datenverarbeitung\n",
    "import numpy as np\n",
    "import pandas as pd"
   ]
  },
  {
   "cell_type": "markdown",
   "metadata": {
    "collapsed": false
   },
   "source": [
    "### IMPORT: Importieren eignes Packet lineScale3\n",
    "\n",
    "Das Paket linescale3 wurde vom Autor (Kyell Jensen) zum einfachen Analysieren, Plotten und zur Interpretation der CSV-Messdaten der lineScale3 Kraftmessdose der Firma lineGrip geschrieben (https://www.linegrip.com/linescale-3/). Das Packet ist auf GitHub verfügbar (https://github.com/kyellsen/linescale3). Nachfolgend wird das Packet und einige dort definierten Klassen importiert."
   ]
  },
  {
   "cell_type": "code",
   "execution_count": 2,
   "metadata": {
    "collapsed": false,
    "ExecuteTime": {
     "end_time": "2025-03-27T10:14:36.519625300Z",
     "start_time": "2025-03-27T10:14:34.600557500Z"
    }
   },
   "outputs": [],
   "source": [
    "import linescale3 as ls3\n",
    "# ls3.help() # Test"
   ]
  },
  {
   "cell_type": "markdown",
   "metadata": {
    "collapsed": false
   },
   "source": [
    "### IMPORT: Projekt Konfiguration laden\n",
    "\n",
    "Lege Pfade für Daten-Importe, Daten-Exporte etc. fest (ggf. anpassen an eigene Verzeichnisstruktur), ausgelagert in gemeinsame Config für verschiedene Notebooks"
   ]
  },
  {
   "cell_type": "code",
   "execution_count": 3,
   "metadata": {
    "collapsed": false,
    "ExecuteTime": {
     "end_time": "2025-03-27T10:14:36.519625300Z",
     "start_time": "2025-03-27T10:14:35.149575700Z"
    }
   },
   "outputs": [],
   "source": [
    "# Importiere alle Einstellungen aus der project_config.py\n",
    "from project_config import (\n",
    "    main_path,\n",
    "    analyse_name,\n",
    "    data_path,\n",
    "    working_directory,\n",
    "    data_export_directory,\n",
    "    latex_export_directory\n",
    ")"
   ]
  },
  {
   "cell_type": "markdown",
   "source": [
    "Lade allgemeine Export-Funktionen, um die Daten als Latex-Tabellen zu exportieren"
   ],
   "metadata": {
    "collapsed": false
   }
  },
  {
   "cell_type": "code",
   "execution_count": 4,
   "outputs": [],
   "source": [
    "from utils.latex_export import (\n",
    "    save_latex_table,\n",
    "    build_data_dict_df\n",
    ")"
   ],
   "metadata": {
    "collapsed": false,
    "ExecuteTime": {
     "end_time": "2025-03-27T10:14:36.519625300Z",
     "start_time": "2025-03-27T10:14:35.157333300Z"
    }
   }
  },
  {
   "cell_type": "markdown",
   "metadata": {},
   "source": [
    "## IMPORT: lineScale Daten laden\n",
    "\n",
    "Die Funktion 'ls3.setup' erstellt Instanzen spezifischer Klassen, die für das Paket notwendig sind (CONFIG, LOG_MANAGER, PLOT_MANAGER). \n",
    "\n",
    "Über die Klasse 'ls3.Series' wird eine neue Messreihe initialisiert und als 'ls3_series' gespeichert. Im Verzeichnis 'ls3_data_path' finden sich die Messdaten von zwei lineScale3 ('LS14BFE6' und 'LS14991E').\n",
    "LS14BFE6: Befand sich während der Messung im Zugseil zwischen den Stämmlingen und erfasste die Vorspannung. Es wurden insgesamt 31 Logs (hier Measurements) aufgezeichnet. Eine Messfrequenz von 40 Hz erschien hier ausreichend.\n",
    "LS14991E: Befand sich während der Messung in der Kronensicherung und hat die Kraft in der Kronensicherung nach dem Release gemessen. Es wurden 19 Logs erfasst, da die ersten Messungen als Referenz ohne Kronensicherung stattfanden. Hier wurde die maximale Messfrequenz von 1028 Hz gewählt, um Lastspitzen optimal zu erfassen."
   ]
  },
  {
   "cell_type": "code",
   "execution_count": 5,
   "metadata": {
    "ExecuteTime": {
     "end_time": "2025-03-27T10:14:37.620162900Z",
     "start_time": "2025-03-27T10:14:35.168627700Z"
    }
   },
   "outputs": [
    {
     "name": "stderr",
     "output_type": "stream",
     "text": [
      "2025-03-27 11:14:35 [\u001B[92mINFO\u001B[0m] kj_logger.update_config: <kj_logger.LogManager object at 0x000001BC687EAED0> initialized - update_config! Code: 000\n",
      "2025-03-27 11:14:35 [\u001B[92mINFO\u001B[0m] kj_core.core_config.set_working_directory: The directory C:\\kyellsen\\005_Projekte\\2024_BA\\032_Feldversuch_2023_Plesse\\030_Analysen\\2023_Kronensicherung_Plesse_Kraefte_Schwingungen\\working_directory\\ls3 was successfully created.\n",
      "2025-03-27 11:14:35 [\u001B[92mINFO\u001B[0m] kj_core.core_config.set_working_directory: Working directory set to C:\\kyellsen\\005_Projekte\\2024_BA\\032_Feldversuch_2023_Plesse\\030_Analysen\\2023_Kronensicherung_Plesse_Kraefte_Schwingungen\\working_directory\\ls3!\n",
      "2025-03-27 11:14:35 [\u001B[92mINFO\u001B[0m] kj_core.core_config.__init__: <linescale3.config.Config object at 0x000001BC68819650> initialized! Code: 001\n",
      "2025-03-27 11:14:35 [\u001B[92mINFO\u001B[0m] linescale3.setup: ls3: Setup linescale3 package!\n",
      "2025-03-27 11:14:35 [\u001B[92mINFO\u001B[0m] kj_core.utils.plot_manager.__init__: <kj_core.utils.plot_manager.PlotManager object at 0x000001BC698822D0> initialized! Code: 005\n",
      "2025-03-27 11:14:35 [\u001B[92mINFO\u001B[0m] linescale3.setup: ls3: linescale3 setup completed.\n",
      "2025-03-27 11:14:35 [\u001B[92mINFO\u001B[0m] linescale3.classes.measurement.read_csv: Read CSV for Measurement(id: '1', name: '14991E_23_03_22_14_41_10', sensor_id: '14:99:1E') successful.\n",
      "2025-03-27 11:14:35 [\u001B[92mINFO\u001B[0m] linescale3.classes.measurement.read_csv: Read CSV for Measurement(id: '2', name: '14991E_23_03_22_14_47_59', sensor_id: '14:99:1E') successful.\n",
      "2025-03-27 11:14:35 [\u001B[92mINFO\u001B[0m] linescale3.classes.measurement.read_csv: Read CSV for Measurement(id: '3', name: '14991E_23_03_22_14_55_03', sensor_id: '14:99:1E') successful.\n",
      "2025-03-27 11:14:35 [\u001B[92mINFO\u001B[0m] linescale3.classes.measurement.read_csv: Read CSV for Measurement(id: '4', name: '14991E_23_03_22_15_04_05', sensor_id: '14:99:1E') successful.\n",
      "2025-03-27 11:14:35 [\u001B[92mINFO\u001B[0m] linescale3.classes.measurement.read_csv: Read CSV for Measurement(id: '5', name: '14991E_23_03_22_15_08_55', sensor_id: '14:99:1E') successful.\n",
      "2025-03-27 11:14:35 [\u001B[92mINFO\u001B[0m] linescale3.classes.measurement.read_csv: Read CSV for Measurement(id: '6', name: '14991E_23_03_22_15_12_57', sensor_id: '14:99:1E') successful.\n",
      "2025-03-27 11:14:35 [\u001B[92mINFO\u001B[0m] linescale3.classes.measurement.read_csv: Read CSV for Measurement(id: '7', name: '14991E_23_03_22_15_16_58', sensor_id: '14:99:1E') successful.\n",
      "2025-03-27 11:14:35 [\u001B[92mINFO\u001B[0m] linescale3.classes.measurement.read_csv: Read CSV for Measurement(id: '8', name: '14991E_23_03_22_15_21_49', sensor_id: '14:99:1E') successful.\n",
      "2025-03-27 11:14:35 [\u001B[92mINFO\u001B[0m] linescale3.classes.measurement.read_csv: Read CSV for Measurement(id: '9', name: '14991E_23_03_22_15_25_17', sensor_id: '14:99:1E') successful.\n",
      "2025-03-27 11:14:35 [\u001B[92mINFO\u001B[0m] linescale3.classes.measurement.read_csv: Read CSV for Measurement(id: '10', name: '14991E_23_03_22_16_11_40', sensor_id: '14:99:1E') successful.\n",
      "2025-03-27 11:14:35 [\u001B[92mINFO\u001B[0m] linescale3.classes.measurement.read_csv: Read CSV for Measurement(id: '11', name: '14991E_23_03_22_16_17_21', sensor_id: '14:99:1E') successful.\n",
      "2025-03-27 11:14:35 [\u001B[92mINFO\u001B[0m] linescale3.classes.measurement.read_csv: Read CSV for Measurement(id: '12', name: '14991E_23_03_22_16_23_13', sensor_id: '14:99:1E') successful.\n",
      "2025-03-27 11:14:35 [\u001B[92mINFO\u001B[0m] linescale3.classes.measurement.read_csv: Read CSV for Measurement(id: '13', name: '14991E_23_03_22_16_37_11', sensor_id: '14:99:1E') successful.\n",
      "2025-03-27 11:14:35 [\u001B[92mINFO\u001B[0m] linescale3.classes.measurement.read_csv: Read CSV for Measurement(id: '14', name: '14991E_23_03_22_16_41_28', sensor_id: '14:99:1E') successful.\n",
      "2025-03-27 11:14:35 [\u001B[92mINFO\u001B[0m] linescale3.classes.measurement.read_csv: Read CSV for Measurement(id: '15', name: '14991E_23_03_22_16_46_46', sensor_id: '14:99:1E') successful.\n",
      "2025-03-27 11:14:35 [\u001B[92mINFO\u001B[0m] linescale3.classes.measurement.read_csv: Read CSV for Measurement(id: '16', name: '14991E_23_03_22_16_56_53', sensor_id: '14:99:1E') successful.\n",
      "2025-03-27 11:14:35 [\u001B[92mINFO\u001B[0m] linescale3.classes.measurement.read_csv: Read CSV for Measurement(id: '17', name: '14991E_23_03_22_17_01_49', sensor_id: '14:99:1E') successful.\n",
      "2025-03-27 11:14:35 [\u001B[92mINFO\u001B[0m] linescale3.classes.measurement.read_csv: Read CSV for Measurement(id: '18', name: '14991E_23_03_22_17_05_21', sensor_id: '14:99:1E') successful.\n",
      "2025-03-27 11:14:35 [\u001B[92mINFO\u001B[0m] linescale3.classes.measurement.read_csv: Read CSV for Measurement(id: '19', name: '14991E_23_03_22_17_16_51', sensor_id: '14:99:1E') successful.\n",
      "2025-03-27 11:14:36 [\u001B[92mINFO\u001B[0m] linescale3.classes.measurement.read_csv: Read CSV for Measurement(id: '1', name: '14BFE6_23_03_22_11_11_55', sensor_id: '14:BF:E6') successful.\n",
      "2025-03-27 11:14:36 [\u001B[92mINFO\u001B[0m] linescale3.classes.measurement.read_csv: Read CSV for Measurement(id: '2', name: '14BFE6_23_03_22_11_24_23', sensor_id: '14:BF:E6') successful.\n",
      "2025-03-27 11:14:36 [\u001B[92mINFO\u001B[0m] linescale3.classes.measurement.read_csv: Read CSV for Measurement(id: '3', name: '14BFE6_23_03_22_11_31_12', sensor_id: '14:BF:E6') successful.\n",
      "2025-03-27 11:14:36 [\u001B[92mINFO\u001B[0m] linescale3.classes.measurement.read_csv: Read CSV for Measurement(id: '4', name: '14BFE6_23_03_22_11_54_33', sensor_id: '14:BF:E6') successful.\n",
      "2025-03-27 11:14:36 [\u001B[92mINFO\u001B[0m] linescale3.classes.measurement.read_csv: Read CSV for Measurement(id: '5', name: '14BFE6_23_03_22_12_02_03', sensor_id: '14:BF:E6') successful.\n",
      "2025-03-27 11:14:36 [\u001B[92mINFO\u001B[0m] linescale3.classes.measurement.read_csv: Read CSV for Measurement(id: '6', name: '14BFE6_23_03_22_12_07_09', sensor_id: '14:BF:E6') successful.\n",
      "2025-03-27 11:14:36 [\u001B[92mINFO\u001B[0m] linescale3.classes.measurement.read_csv: Read CSV for Measurement(id: '7', name: '14BFE6_23_03_22_12_11_49', sensor_id: '14:BF:E6') successful.\n",
      "2025-03-27 11:14:36 [\u001B[92mINFO\u001B[0m] linescale3.classes.measurement.read_csv: Read CSV for Measurement(id: '8', name: '14BFE6_23_03_22_12_16_13', sensor_id: '14:BF:E6') successful.\n",
      "2025-03-27 11:14:36 [\u001B[92mINFO\u001B[0m] linescale3.classes.measurement.read_csv: Read CSV for Measurement(id: '9', name: '14BFE6_23_03_22_12_23_21', sensor_id: '14:BF:E6') successful.\n",
      "2025-03-27 11:14:36 [\u001B[92mINFO\u001B[0m] linescale3.classes.measurement.read_csv: Read CSV for Measurement(id: '10', name: '14BFE6_23_03_22_12_27_13', sensor_id: '14:BF:E6') successful.\n",
      "2025-03-27 11:14:36 [\u001B[92mINFO\u001B[0m] linescale3.classes.measurement.read_csv: Read CSV for Measurement(id: '11', name: '14BFE6_23_03_22_14_40_00', sensor_id: '14:BF:E6') successful.\n",
      "2025-03-27 11:14:36 [\u001B[92mINFO\u001B[0m] linescale3.classes.measurement.read_csv: Read CSV for Measurement(id: '12', name: '14BFE6_23_03_22_14_47_06', sensor_id: '14:BF:E6') successful.\n",
      "2025-03-27 11:14:36 [\u001B[92mINFO\u001B[0m] linescale3.classes.measurement.read_csv: Read CSV for Measurement(id: '13', name: '14BFE6_23_03_22_14_54_20', sensor_id: '14:BF:E6') successful.\n",
      "2025-03-27 11:14:36 [\u001B[92mINFO\u001B[0m] linescale3.classes.measurement.read_csv: Read CSV for Measurement(id: '14', name: '14BFE6_23_03_22_15_00_22', sensor_id: '14:BF:E6') successful.\n",
      "2025-03-27 11:14:36 [\u001B[92mINFO\u001B[0m] linescale3.classes.measurement.read_csv: Read CSV for Measurement(id: '15', name: '14BFE6_23_03_22_15_03_21', sensor_id: '14:BF:E6') successful.\n",
      "2025-03-27 11:14:36 [\u001B[92mINFO\u001B[0m] linescale3.classes.measurement.read_csv: Read CSV for Measurement(id: '16', name: '14BFE6_23_03_22_15_08_07', sensor_id: '14:BF:E6') successful.\n",
      "2025-03-27 11:14:36 [\u001B[92mINFO\u001B[0m] linescale3.classes.measurement.read_csv: Read CSV for Measurement(id: '17', name: '14BFE6_23_03_22_15_11_55', sensor_id: '14:BF:E6') successful.\n",
      "2025-03-27 11:14:36 [\u001B[92mINFO\u001B[0m] linescale3.classes.measurement.read_csv: Read CSV for Measurement(id: '18', name: '14BFE6_23_03_22_15_16_24', sensor_id: '14:BF:E6') successful.\n",
      "2025-03-27 11:14:36 [\u001B[92mINFO\u001B[0m] linescale3.classes.measurement.read_csv: Read CSV for Measurement(id: '19', name: '14BFE6_23_03_22_15_20_38', sensor_id: '14:BF:E6') successful.\n",
      "2025-03-27 11:14:36 [\u001B[92mINFO\u001B[0m] linescale3.classes.measurement.read_csv: Read CSV for Measurement(id: '20', name: '14BFE6_23_03_22_15_24_40', sensor_id: '14:BF:E6') successful.\n",
      "2025-03-27 11:14:36 [\u001B[92mINFO\u001B[0m] linescale3.classes.measurement.read_csv: Read CSV for Measurement(id: '21', name: '14BFE6_23_03_22_16_10_55', sensor_id: '14:BF:E6') successful.\n",
      "2025-03-27 11:14:36 [\u001B[92mINFO\u001B[0m] linescale3.classes.measurement.read_csv: Read CSV for Measurement(id: '22', name: '14BFE6_23_03_22_16_16_33', sensor_id: '14:BF:E6') successful.\n",
      "2025-03-27 11:14:36 [\u001B[92mINFO\u001B[0m] linescale3.classes.measurement.read_csv: Read CSV for Measurement(id: '23', name: '14BFE6_23_03_22_16_21_50', sensor_id: '14:BF:E6') successful.\n",
      "2025-03-27 11:14:36 [\u001B[92mINFO\u001B[0m] linescale3.classes.measurement.read_csv: Read CSV for Measurement(id: '24', name: '14BFE6_23_03_22_16_36_05', sensor_id: '14:BF:E6') successful.\n",
      "2025-03-27 11:14:36 [\u001B[92mINFO\u001B[0m] linescale3.classes.measurement.read_csv: Read CSV for Measurement(id: '25', name: '14BFE6_23_03_22_16_40_07', sensor_id: '14:BF:E6') successful.\n",
      "2025-03-27 11:14:36 [\u001B[92mINFO\u001B[0m] linescale3.classes.measurement.read_csv: Read CSV for Measurement(id: '26', name: '14BFE6_23_03_22_16_44_31', sensor_id: '14:BF:E6') successful.\n",
      "2025-03-27 11:14:36 [\u001B[92mINFO\u001B[0m] linescale3.classes.measurement.read_csv: Read CSV for Measurement(id: '27', name: '14BFE6_23_03_22_16_56_04', sensor_id: '14:BF:E6') successful.\n",
      "2025-03-27 11:14:36 [\u001B[92mINFO\u001B[0m] linescale3.classes.measurement.read_csv: Read CSV for Measurement(id: '28', name: '14BFE6_23_03_22_17_00_04', sensor_id: '14:BF:E6') successful.\n",
      "2025-03-27 11:14:36 [\u001B[92mINFO\u001B[0m] linescale3.classes.measurement.read_csv: Read CSV for Measurement(id: '29', name: '14BFE6_23_03_22_17_04_51', sensor_id: '14:BF:E6') successful.\n",
      "2025-03-27 11:14:36 [\u001B[92mINFO\u001B[0m] linescale3.classes.measurement.read_csv: Read CSV for Measurement(id: '30', name: '14BFE6_23_03_22_17_07_37', sensor_id: '14:BF:E6') successful.\n",
      "2025-03-27 11:14:36 [\u001B[92mINFO\u001B[0m] linescale3.classes.measurement.read_csv: Read CSV for Measurement(id: '31', name: '14BFE6_23_03_22_17_16_09', sensor_id: '14:BF:E6') successful.\n"
     ]
    }
   ],
   "source": [
    "ls3.setup(working_directory=working_directory, log_level=\"info\", safe_logs_to_file=True)\n",
    "\n",
    "ls3_data_path = data_path / 'LS3'\n",
    "ls3_series = ls3.classes.Series(name=analyse_name, path=ls3_data_path)"
   ]
  },
  {
   "cell_type": "markdown",
   "metadata": {
    "collapsed": false
   },
   "source": [
    "## ANALYSE: Explorative Datenanalyse"
   ]
  },
  {
   "cell_type": "markdown",
   "source": [
    "### PLOTTING: Daten der Forcemeter\n",
    "\n",
    "Da teilweise für jede Messung und jeden Sensor ein Plot generiert wird, werden diese nicht im Notebook direkt angezeigt, sondern im Explorer gespeichert. Die Plots liegen entsprechend im working_directory in den Verzeichnissen ls3/plots/ bzw. ptq/plots.\n",
    "\n",
    "'ls3_series.plot_force_vs_time' erstellt für jede Messung für beide eingesetzten LineScales einen Plot, in dem die ermittelte Kraft (force in kN) gegenüber der Zeit (sec_since_start) abgebildet wird. Die Plots werden im Verzeichnis 'ls3/plots/force_vs_time_1/' abgelegt.\n",
    "\n",
    "14:BF:E6: Hat die tatsächliche Vorspannung ermittelt und hat entsprechend für alle 29 (-2) Messungen (experiment_id) einen Log aufgezeichnet.\n",
    "Aufgrund der Messtechnik wurden 2 Logs erstellt, die keine Messung darstellen. Diese dürfen nicht mit ausgewertet werden (Measurement ID 14 und 30).\n",
    "\n",
    "14:99:1E: Hat die Lasten in der Kronensicherung aufgezeichnet und hat entsprechend nur für die 19 (-1) Messungen mit Kronensicherungen einen Log aufgezeichent."
   ],
   "metadata": {
    "collapsed": false
   }
  },
  {
   "cell_type": "code",
   "execution_count": 6,
   "metadata": {
    "collapsed": false,
    "ExecuteTime": {
     "end_time": "2025-03-27T10:15:00.534489400Z",
     "start_time": "2025-03-27T10:14:36.720632200Z"
    }
   },
   "outputs": [
    {
     "name": "stderr",
     "output_type": "stream",
     "text": [
      "2025-03-27 11:14:37 [\u001B[92mINFO\u001B[0m] linescale3.classes.measurement.plot_force_vs_time_with_max_and_release: plot_force_vs_time_with_max_and_release for measurement: 'Measurement(id: '1', name: '14991E_23_03_22_14_41_10', sensor_id: '14:99:1E')'.\n",
      "2025-03-27 11:14:38 [\u001B[92mINFO\u001B[0m] linescale3.classes.measurement.plot_force_vs_time_with_max_and_release: plot_force_vs_time_with_max_and_release for measurement: 'Measurement(id: '2', name: '14991E_23_03_22_14_47_59', sensor_id: '14:99:1E')'.\n",
      "2025-03-27 11:14:38 [\u001B[92mINFO\u001B[0m] linescale3.classes.measurement.plot_force_vs_time_with_max_and_release: plot_force_vs_time_with_max_and_release for measurement: 'Measurement(id: '3', name: '14991E_23_03_22_14_55_03', sensor_id: '14:99:1E')'.\n",
      "2025-03-27 11:14:39 [\u001B[92mINFO\u001B[0m] linescale3.classes.measurement.plot_force_vs_time_with_max_and_release: plot_force_vs_time_with_max_and_release for measurement: 'Measurement(id: '4', name: '14991E_23_03_22_15_04_05', sensor_id: '14:99:1E')'.\n",
      "2025-03-27 11:14:39 [\u001B[92mINFO\u001B[0m] linescale3.classes.measurement.plot_force_vs_time_with_max_and_release: plot_force_vs_time_with_max_and_release for measurement: 'Measurement(id: '5', name: '14991E_23_03_22_15_08_55', sensor_id: '14:99:1E')'.\n",
      "2025-03-27 11:14:39 [\u001B[92mINFO\u001B[0m] linescale3.classes.measurement.plot_force_vs_time_with_max_and_release: plot_force_vs_time_with_max_and_release for measurement: 'Measurement(id: '6', name: '14991E_23_03_22_15_12_57', sensor_id: '14:99:1E')'.\n",
      "2025-03-27 11:14:40 [\u001B[92mINFO\u001B[0m] linescale3.classes.measurement.plot_force_vs_time_with_max_and_release: plot_force_vs_time_with_max_and_release for measurement: 'Measurement(id: '7', name: '14991E_23_03_22_15_16_58', sensor_id: '14:99:1E')'.\n",
      "2025-03-27 11:14:40 [\u001B[92mINFO\u001B[0m] linescale3.classes.measurement.plot_force_vs_time_with_max_and_release: plot_force_vs_time_with_max_and_release for measurement: 'Measurement(id: '8', name: '14991E_23_03_22_15_21_49', sensor_id: '14:99:1E')'.\n",
      "2025-03-27 11:14:41 [\u001B[92mINFO\u001B[0m] linescale3.classes.measurement.plot_force_vs_time_with_max_and_release: plot_force_vs_time_with_max_and_release for measurement: 'Measurement(id: '9', name: '14991E_23_03_22_15_25_17', sensor_id: '14:99:1E')'.\n",
      "2025-03-27 11:14:41 [\u001B[92mINFO\u001B[0m] linescale3.classes.measurement.plot_force_vs_time_with_max_and_release: plot_force_vs_time_with_max_and_release for measurement: 'Measurement(id: '10', name: '14991E_23_03_22_16_11_40', sensor_id: '14:99:1E')'.\n",
      "2025-03-27 11:14:42 [\u001B[92mINFO\u001B[0m] linescale3.classes.measurement.plot_force_vs_time_with_max_and_release: plot_force_vs_time_with_max_and_release for measurement: 'Measurement(id: '11', name: '14991E_23_03_22_16_17_21', sensor_id: '14:99:1E')'.\n",
      "2025-03-27 11:14:42 [\u001B[92mINFO\u001B[0m] linescale3.classes.measurement.plot_force_vs_time_with_max_and_release: plot_force_vs_time_with_max_and_release for measurement: 'Measurement(id: '12', name: '14991E_23_03_22_16_23_13', sensor_id: '14:99:1E')'.\n",
      "2025-03-27 11:14:42 [\u001B[92mINFO\u001B[0m] linescale3.classes.measurement.plot_force_vs_time_with_max_and_release: plot_force_vs_time_with_max_and_release for measurement: 'Measurement(id: '13', name: '14991E_23_03_22_16_37_11', sensor_id: '14:99:1E')'.\n",
      "2025-03-27 11:14:42 [\u001B[92mINFO\u001B[0m] linescale3.classes.measurement.plot_force_vs_time_with_max_and_release: plot_force_vs_time_with_max_and_release for measurement: 'Measurement(id: '14', name: '14991E_23_03_22_16_41_28', sensor_id: '14:99:1E')'.\n",
      "2025-03-27 11:14:43 [\u001B[92mINFO\u001B[0m] linescale3.classes.measurement.plot_force_vs_time_with_max_and_release: plot_force_vs_time_with_max_and_release for measurement: 'Measurement(id: '15', name: '14991E_23_03_22_16_46_46', sensor_id: '14:99:1E')'.\n",
      "2025-03-27 11:14:44 [\u001B[92mINFO\u001B[0m] linescale3.classes.measurement.plot_force_vs_time_with_max_and_release: plot_force_vs_time_with_max_and_release for measurement: 'Measurement(id: '16', name: '14991E_23_03_22_16_56_53', sensor_id: '14:99:1E')'.\n",
      "2025-03-27 11:14:44 [\u001B[92mINFO\u001B[0m] linescale3.classes.measurement.plot_force_vs_time_with_max_and_release: plot_force_vs_time_with_max_and_release for measurement: 'Measurement(id: '17', name: '14991E_23_03_22_17_01_49', sensor_id: '14:99:1E')'.\n",
      "2025-03-27 11:14:45 [\u001B[92mINFO\u001B[0m] linescale3.classes.measurement.plot_force_vs_time_with_max_and_release: plot_force_vs_time_with_max_and_release for measurement: 'Measurement(id: '18', name: '14991E_23_03_22_17_05_21', sensor_id: '14:99:1E')'.\n",
      "2025-03-27 11:14:45 [\u001B[92mINFO\u001B[0m] linescale3.classes.measurement.plot_force_vs_time_with_max_and_release: plot_force_vs_time_with_max_and_release for measurement: 'Measurement(id: '19', name: '14991E_23_03_22_17_16_51', sensor_id: '14:99:1E')'.\n",
      "2025-03-27 11:14:46 [\u001B[92mINFO\u001B[0m] linescale3.classes.measurement.plot_force_vs_time_with_max_and_release: plot_force_vs_time_with_max_and_release for measurement: 'Measurement(id: '1', name: '14BFE6_23_03_22_11_11_55', sensor_id: '14:BF:E6')'.\n",
      "2025-03-27 11:14:46 [\u001B[92mINFO\u001B[0m] linescale3.classes.measurement.plot_force_vs_time_with_max_and_release: plot_force_vs_time_with_max_and_release for measurement: 'Measurement(id: '2', name: '14BFE6_23_03_22_11_24_23', sensor_id: '14:BF:E6')'.\n",
      "2025-03-27 11:14:46 [\u001B[92mINFO\u001B[0m] linescale3.classes.measurement.plot_force_vs_time_with_max_and_release: plot_force_vs_time_with_max_and_release for measurement: 'Measurement(id: '3', name: '14BFE6_23_03_22_11_31_12', sensor_id: '14:BF:E6')'.\n",
      "2025-03-27 11:14:47 [\u001B[92mINFO\u001B[0m] linescale3.classes.measurement.plot_force_vs_time_with_max_and_release: plot_force_vs_time_with_max_and_release for measurement: 'Measurement(id: '4', name: '14BFE6_23_03_22_11_54_33', sensor_id: '14:BF:E6')'.\n",
      "2025-03-27 11:14:47 [\u001B[92mINFO\u001B[0m] linescale3.classes.measurement.plot_force_vs_time_with_max_and_release: plot_force_vs_time_with_max_and_release for measurement: 'Measurement(id: '5', name: '14BFE6_23_03_22_12_02_03', sensor_id: '14:BF:E6')'.\n",
      "2025-03-27 11:14:48 [\u001B[92mINFO\u001B[0m] linescale3.classes.measurement.plot_force_vs_time_with_max_and_release: plot_force_vs_time_with_max_and_release for measurement: 'Measurement(id: '6', name: '14BFE6_23_03_22_12_07_09', sensor_id: '14:BF:E6')'.\n",
      "2025-03-27 11:14:48 [\u001B[92mINFO\u001B[0m] linescale3.classes.measurement.plot_force_vs_time_with_max_and_release: plot_force_vs_time_with_max_and_release for measurement: 'Measurement(id: '7', name: '14BFE6_23_03_22_12_11_49', sensor_id: '14:BF:E6')'.\n",
      "2025-03-27 11:14:48 [\u001B[92mINFO\u001B[0m] linescale3.classes.measurement.plot_force_vs_time_with_max_and_release: plot_force_vs_time_with_max_and_release for measurement: 'Measurement(id: '8', name: '14BFE6_23_03_22_12_16_13', sensor_id: '14:BF:E6')'.\n",
      "2025-03-27 11:14:49 [\u001B[92mINFO\u001B[0m] linescale3.classes.measurement.plot_force_vs_time_with_max_and_release: plot_force_vs_time_with_max_and_release for measurement: 'Measurement(id: '9', name: '14BFE6_23_03_22_12_23_21', sensor_id: '14:BF:E6')'.\n",
      "2025-03-27 11:14:49 [\u001B[92mINFO\u001B[0m] linescale3.classes.measurement.plot_force_vs_time_with_max_and_release: plot_force_vs_time_with_max_and_release for measurement: 'Measurement(id: '10', name: '14BFE6_23_03_22_12_27_13', sensor_id: '14:BF:E6')'.\n",
      "2025-03-27 11:14:50 [\u001B[92mINFO\u001B[0m] linescale3.classes.measurement.plot_force_vs_time_with_max_and_release: plot_force_vs_time_with_max_and_release for measurement: 'Measurement(id: '11', name: '14BFE6_23_03_22_14_40_00', sensor_id: '14:BF:E6')'.\n",
      "2025-03-27 11:14:50 [\u001B[92mINFO\u001B[0m] linescale3.classes.measurement.plot_force_vs_time_with_max_and_release: plot_force_vs_time_with_max_and_release for measurement: 'Measurement(id: '12', name: '14BFE6_23_03_22_14_47_06', sensor_id: '14:BF:E6')'.\n",
      "2025-03-27 11:14:50 [\u001B[92mINFO\u001B[0m] linescale3.classes.measurement.plot_force_vs_time_with_max_and_release: plot_force_vs_time_with_max_and_release for measurement: 'Measurement(id: '13', name: '14BFE6_23_03_22_14_54_20', sensor_id: '14:BF:E6')'.\n",
      "2025-03-27 11:14:50 [\u001B[92mINFO\u001B[0m] linescale3.classes.measurement.plot_force_vs_time_with_max_and_release: plot_force_vs_time_with_max_and_release for measurement: 'Measurement(id: '14', name: '14BFE6_23_03_22_15_00_22', sensor_id: '14:BF:E6')'.\n",
      "2025-03-27 11:14:51 [\u001B[92mINFO\u001B[0m] linescale3.classes.measurement.plot_force_vs_time_with_max_and_release: plot_force_vs_time_with_max_and_release for measurement: 'Measurement(id: '15', name: '14BFE6_23_03_22_15_03_21', sensor_id: '14:BF:E6')'.\n",
      "2025-03-27 11:14:51 [\u001B[92mINFO\u001B[0m] linescale3.classes.measurement.plot_force_vs_time_with_max_and_release: plot_force_vs_time_with_max_and_release for measurement: 'Measurement(id: '16', name: '14BFE6_23_03_22_15_08_07', sensor_id: '14:BF:E6')'.\n",
      "2025-03-27 11:14:51 [\u001B[92mINFO\u001B[0m] linescale3.classes.measurement.plot_force_vs_time_with_max_and_release: plot_force_vs_time_with_max_and_release for measurement: 'Measurement(id: '17', name: '14BFE6_23_03_22_15_11_55', sensor_id: '14:BF:E6')'.\n",
      "2025-03-27 11:14:52 [\u001B[92mINFO\u001B[0m] linescale3.classes.measurement.plot_force_vs_time_with_max_and_release: plot_force_vs_time_with_max_and_release for measurement: 'Measurement(id: '18', name: '14BFE6_23_03_22_15_16_24', sensor_id: '14:BF:E6')'.\n",
      "2025-03-27 11:14:52 [\u001B[92mINFO\u001B[0m] linescale3.classes.measurement.plot_force_vs_time_with_max_and_release: plot_force_vs_time_with_max_and_release for measurement: 'Measurement(id: '19', name: '14BFE6_23_03_22_15_20_38', sensor_id: '14:BF:E6')'.\n",
      "2025-03-27 11:14:52 [\u001B[92mINFO\u001B[0m] linescale3.classes.measurement.plot_force_vs_time_with_max_and_release: plot_force_vs_time_with_max_and_release for measurement: 'Measurement(id: '20', name: '14BFE6_23_03_22_15_24_40', sensor_id: '14:BF:E6')'.\n",
      "2025-03-27 11:14:53 [\u001B[92mINFO\u001B[0m] linescale3.classes.measurement.plot_force_vs_time_with_max_and_release: plot_force_vs_time_with_max_and_release for measurement: 'Measurement(id: '21', name: '14BFE6_23_03_22_16_10_55', sensor_id: '14:BF:E6')'.\n",
      "2025-03-27 11:14:53 [\u001B[92mINFO\u001B[0m] linescale3.classes.measurement.plot_force_vs_time_with_max_and_release: plot_force_vs_time_with_max_and_release for measurement: 'Measurement(id: '22', name: '14BFE6_23_03_22_16_16_33', sensor_id: '14:BF:E6')'.\n",
      "2025-03-27 11:14:53 [\u001B[92mINFO\u001B[0m] linescale3.classes.measurement.plot_force_vs_time_with_max_and_release: plot_force_vs_time_with_max_and_release for measurement: 'Measurement(id: '23', name: '14BFE6_23_03_22_16_21_50', sensor_id: '14:BF:E6')'.\n",
      "2025-03-27 11:14:54 [\u001B[92mINFO\u001B[0m] linescale3.classes.measurement.plot_force_vs_time_with_max_and_release: plot_force_vs_time_with_max_and_release for measurement: 'Measurement(id: '24', name: '14BFE6_23_03_22_16_36_05', sensor_id: '14:BF:E6')'.\n",
      "2025-03-27 11:14:54 [\u001B[92mINFO\u001B[0m] linescale3.classes.measurement.plot_force_vs_time_with_max_and_release: plot_force_vs_time_with_max_and_release for measurement: 'Measurement(id: '25', name: '14BFE6_23_03_22_16_40_07', sensor_id: '14:BF:E6')'.\n",
      "2025-03-27 11:14:55 [\u001B[92mINFO\u001B[0m] linescale3.classes.measurement.plot_force_vs_time_with_max_and_release: plot_force_vs_time_with_max_and_release for measurement: 'Measurement(id: '26', name: '14BFE6_23_03_22_16_44_31', sensor_id: '14:BF:E6')'.\n",
      "2025-03-27 11:14:55 [\u001B[92mINFO\u001B[0m] linescale3.classes.measurement.plot_force_vs_time_with_max_and_release: plot_force_vs_time_with_max_and_release for measurement: 'Measurement(id: '27', name: '14BFE6_23_03_22_16_56_04', sensor_id: '14:BF:E6')'.\n",
      "2025-03-27 11:14:56 [\u001B[92mINFO\u001B[0m] linescale3.classes.measurement.plot_force_vs_time_with_max_and_release: plot_force_vs_time_with_max_and_release for measurement: 'Measurement(id: '28', name: '14BFE6_23_03_22_17_00_04', sensor_id: '14:BF:E6')'.\n",
      "2025-03-27 11:14:57 [\u001B[92mINFO\u001B[0m] linescale3.classes.measurement.plot_force_vs_time_with_max_and_release: plot_force_vs_time_with_max_and_release for measurement: 'Measurement(id: '29', name: '14BFE6_23_03_22_17_04_51', sensor_id: '14:BF:E6')'.\n",
      "2025-03-27 11:14:59 [\u001B[92mINFO\u001B[0m] linescale3.classes.measurement.plot_force_vs_time_with_max_and_release: plot_force_vs_time_with_max_and_release for measurement: 'Measurement(id: '30', name: '14BFE6_23_03_22_17_07_37', sensor_id: '14:BF:E6')'.\n",
      "2025-03-27 11:15:00 [\u001B[92mINFO\u001B[0m] linescale3.classes.measurement.plot_force_vs_time_with_max_and_release: plot_force_vs_time_with_max_and_release for measurement: 'Measurement(id: '31', name: '14BFE6_23_03_22_17_16_09', sensor_id: '14:BF:E6')'.\n"
     ]
    }
   ],
   "source": [
    "ls3_series.plot_force_vs_time_with_max_and_release()"
   ]
  },
  {
   "cell_type": "markdown",
   "source": [
    "### ANALYSE: Metadaten bzw. Zusammenfassung der Daten\n",
    "\n",
    "'ls3_series.metadata_df' enthält für jeden Log (measurement_id) der 2 LineScales die Metadaten der Messung.\n",
    "\n",
    "Anmerkung zu `release`: Für jeden Log von 14:BF:E6 (LineScale zur Messung der Vorspannung) wurde die Kraft in kN ermittelt, die kurz vor dem Release vorlag. Diese Kraft ist in den Plots (/ls3/plots/force_vs_time_1/) als grüne Linie markiert. Die entsprechende Funktion befindet sich in 'ls3/classes/measurement.py' und heißt 'get_release_force'.\n",
    "\n",
    "Anmerkung zu `get_release_force`: Die Funktion filtert alle Kraftwerte über 1.0 kN (Parameter min_force=1.0). Innerhalb der gefilterten Werte wird ein Bereich ausgewählt, der 3 Sekunden vor dem Ende der Messung endet (Parameter distance_to_end_sec=3) und insgesamt 5 Sekunden lang ist (Parameter window_sec=5). Für diesen Zeitraum wird der Mittelwert (Mean) berechnet. Die release_force ist somit der Mittelwert eines 5-sekündigen Plateaus vor dem Release und wird nicht durch kurzzeitige Lastspitzen im Zugseil verfälscht."
   ],
   "metadata": {
    "collapsed": false
   }
  },
  {
   "cell_type": "code",
   "execution_count": 7,
   "outputs": [
    {
     "data": {
      "text/plain": "           measurement_name sensor_id            datetime  measurement_id  \\\n0  14991E_23_03_22_14_41_10  14:99:1E 2022-03-23 14:41:10               1   \n1  14991E_23_03_22_14_47_59  14:99:1E 2022-03-23 14:47:59               2   \n2  14991E_23_03_22_14_55_03  14:99:1E 2022-03-23 14:55:03               3   \n\n  unit mode rel_zero  speed  trig  stop  ...  timing_correction_factor  \\\n0   kN  ABS      n/a   1280   0.8   0.0  ...                       0.9   \n1   kN  ABS      n/a   1280   0.8   0.0  ...                       0.9   \n2   kN  ABS      n/a   1280   0.8   0.0  ...                       0.9   \n\n       datetime_start                  datetime_end   duration length  \\\n0 2022-03-23 14:41:10 2022-03-23 14:41:26.199296875  16.199296  23040   \n1 2022-03-23 14:47:59 2022-03-23 14:48:15.199296875  16.199296  23040   \n2 2022-03-23 14:55:03 2022-03-23 14:55:19.199296875  16.199296  23040   \n\n            max      mean  median         min  release  \n0  (4737, 1.48)  0.111598    0.06   (36, 0.0)      NaN  \n1  (4721, 1.44)  0.117817    0.06  (135, 0.0)      NaN  \n2  (3867, 1.33)  0.104375    0.06   (81, 0.0)      NaN  \n\n[3 rows x 23 columns]",
      "text/html": "<div>\n<style scoped>\n    .dataframe tbody tr th:only-of-type {\n        vertical-align: middle;\n    }\n\n    .dataframe tbody tr th {\n        vertical-align: top;\n    }\n\n    .dataframe thead th {\n        text-align: right;\n    }\n</style>\n<table border=\"1\" class=\"dataframe\">\n  <thead>\n    <tr style=\"text-align: right;\">\n      <th></th>\n      <th>measurement_name</th>\n      <th>sensor_id</th>\n      <th>datetime</th>\n      <th>measurement_id</th>\n      <th>unit</th>\n      <th>mode</th>\n      <th>rel_zero</th>\n      <th>speed</th>\n      <th>trig</th>\n      <th>stop</th>\n      <th>...</th>\n      <th>timing_correction_factor</th>\n      <th>datetime_start</th>\n      <th>datetime_end</th>\n      <th>duration</th>\n      <th>length</th>\n      <th>max</th>\n      <th>mean</th>\n      <th>median</th>\n      <th>min</th>\n      <th>release</th>\n    </tr>\n  </thead>\n  <tbody>\n    <tr>\n      <th>0</th>\n      <td>14991E_23_03_22_14_41_10</td>\n      <td>14:99:1E</td>\n      <td>2022-03-23 14:41:10</td>\n      <td>1</td>\n      <td>kN</td>\n      <td>ABS</td>\n      <td>n/a</td>\n      <td>1280</td>\n      <td>0.8</td>\n      <td>0.0</td>\n      <td>...</td>\n      <td>0.9</td>\n      <td>2022-03-23 14:41:10</td>\n      <td>2022-03-23 14:41:26.199296875</td>\n      <td>16.199296</td>\n      <td>23040</td>\n      <td>(4737, 1.48)</td>\n      <td>0.111598</td>\n      <td>0.06</td>\n      <td>(36, 0.0)</td>\n      <td>NaN</td>\n    </tr>\n    <tr>\n      <th>1</th>\n      <td>14991E_23_03_22_14_47_59</td>\n      <td>14:99:1E</td>\n      <td>2022-03-23 14:47:59</td>\n      <td>2</td>\n      <td>kN</td>\n      <td>ABS</td>\n      <td>n/a</td>\n      <td>1280</td>\n      <td>0.8</td>\n      <td>0.0</td>\n      <td>...</td>\n      <td>0.9</td>\n      <td>2022-03-23 14:47:59</td>\n      <td>2022-03-23 14:48:15.199296875</td>\n      <td>16.199296</td>\n      <td>23040</td>\n      <td>(4721, 1.44)</td>\n      <td>0.117817</td>\n      <td>0.06</td>\n      <td>(135, 0.0)</td>\n      <td>NaN</td>\n    </tr>\n    <tr>\n      <th>2</th>\n      <td>14991E_23_03_22_14_55_03</td>\n      <td>14:99:1E</td>\n      <td>2022-03-23 14:55:03</td>\n      <td>3</td>\n      <td>kN</td>\n      <td>ABS</td>\n      <td>n/a</td>\n      <td>1280</td>\n      <td>0.8</td>\n      <td>0.0</td>\n      <td>...</td>\n      <td>0.9</td>\n      <td>2022-03-23 14:55:03</td>\n      <td>2022-03-23 14:55:19.199296875</td>\n      <td>16.199296</td>\n      <td>23040</td>\n      <td>(3867, 1.33)</td>\n      <td>0.104375</td>\n      <td>0.06</td>\n      <td>(81, 0.0)</td>\n      <td>NaN</td>\n    </tr>\n  </tbody>\n</table>\n<p>3 rows × 23 columns</p>\n</div>"
     },
     "execution_count": 7,
     "metadata": {},
     "output_type": "execute_result"
    }
   ],
   "source": [
    "ls3_metadata_df = ls3_series.metadata_df\n",
    "ls3_metadata_df.head(3)"
   ],
   "metadata": {
    "collapsed": false,
    "ExecuteTime": {
     "end_time": "2025-03-27T10:15:00.836600200Z",
     "start_time": "2025-03-27T10:15:00.475473Z"
    }
   }
  },
  {
   "cell_type": "markdown",
   "source": [
    "## IMPORT: Datendokumentation laden"
   ],
   "metadata": {
    "collapsed": false
   }
  },
  {
   "cell_type": "code",
   "execution_count": 8,
   "outputs": [
    {
     "name": "stderr",
     "output_type": "stream",
     "text": [
      "2025-03-27 11:15:00 [\u001B[92mINFO\u001B[0m] linescale3.config.load_label_dict: Label dictionary loaded with 23 entries.\n"
     ]
    }
   ],
   "source": [
    "ls3_data_dict = ls3_series.create_data_dict()"
   ],
   "metadata": {
    "collapsed": false,
    "ExecuteTime": {
     "end_time": "2025-03-27T10:15:00.850331400Z",
     "start_time": "2025-03-27T10:15:00.757543700Z"
    }
   }
  },
  {
   "cell_type": "markdown",
   "source": [
    "## ANALYSE: Datendokumentation für Metadaten ansehen"
   ],
   "metadata": {
    "collapsed": false
   }
  },
  {
   "cell_type": "code",
   "execution_count": 9,
   "outputs": [
    {
     "data": {
      "text/plain": "<IPython.core.display.Markdown object>",
      "text/markdown": "|    | Variable                 | Kategorie   | Zeichen                | Deutsch             | Datentyp   | Einheit   | Beschreibung                                                 |\n|----|--------------------------|-------------|------------------------|---------------------|------------|-----------|--------------------------------------------------------------|\n|  0 | measurement_name         | ls3         | filename               | Dateiname           | object     | -         | Name der Log-Datei bzw. Serienbezeichnung der Messung        |\n|  1 | sensor_id                | ls3         | sensor\\_id             | Sensor ID           | object     | -         | ID des LineScale3 (Seriennummer)                             |\n|  2 | measurement_id           | ls3         | $ID_{\\mathrm{Log}}$    | LogNr.              | Int64      | -         | Mess-ID (interne LogNr. der LS3)                             |\n|  3 | datetime                 | ls3         | $t$                    | Zeitstempel         | object     | -         | Startzeitpunkt der Messung laut Gerät                        |\n|  4 | unit                     | ls3         | unit                   | Einheit             | object     | -         | Einheit der Kraftmessung (hier kN)                           |\n|  5 | mode                     | ls3         | mode                   | Modus               | object     | -         | Messmodus, hier ABS für absolute Kraft                       |\n|  6 | speed                    | ls3         | $f$                    | Abtastrate          | Int64      | Hz        | Messgeschwindigkeit in Hz                                    |\n|  7 | trig                     | ls3         | $F_{\\mathrm{trig}}$    | Triggerkraft        | float64    | kN        | Mindestkraft für Messbeginn                                  |\n|  8 | pre                      | ls3         | $t_{\\mathrm{pre}}$     | Vorlaufzeit         | Int64      | s         | Nachträglich ergänzter Zeitraum vor Trigger                  |\n|  9 | catch                    | ls3         | $t_{\\mathrm{catch}}$   | Aufzeichnungszeit   | Int64      | s         | Dauer der Datenerfassung nach Trigger                        |\n| 10 | timing_correction_factor | ls3         | $t_{\\mathrm{corr}}$    | Zeitkorrekturfaktor | float64    | -         | Korrekturfaktor für Zeit- und Dauerangaben (z. B. 0.9)       |\n| 11 | duration                 | ls3         | $\\Delta t$             | Messdauer           | float64    | s         | Gesamtdauer der Messung                                      |\n| 12 | length                   | ls3         | $n$                    | Anzahl Messpunkte   | Int64      | -         | Anzahl erfasster Datenpunkte                                 |\n| 13 | mean                     | ls3         | $\\bar{F}$              | Mittlere Kraft      | float64    | kN        | Arithmetisches Mittel der gemessenen Kraft                   |\n| 14 | median                   | ls3         | $F_{\\mathrm{median}}$  | Median Kraft        | float64    | kN        | Median der gemessenen Kraft                                  |\n| 15 | release                  | ls3         | $F_{\\mathrm{release}}$ | Vorspannkraft Ist   | float64    | kN        | Tatsächlich realisierte Vorspannkraft im Zugseil bei Release |\n| 16 | datetime_start           | ls3         | $t_{\\mathrm{start}}$   | Startzeitpunkt      | object     | -         | Berechneter Startzeitpunkt der Messung                       |\n| 17 | datetime_end             | ls3         | $t_{\\mathrm{end}}$     | Endzeitpunkt        | object     | -         | Berechneter Endzeitpunkt der Messung                         |\n| 18 | max                      | ls3         | $F_{\\mathrm{max}}$     | Kraftmaximum        | object     | kN        | Index und Wert der maximalen Kraft                           |\n| 19 | min                      | ls3         | $F_{\\mathrm{min}}$     | Kraftminimum        | object     | kN        | Index und Wert der minimalen Kraft                           |\n| 20 | rel_zero                 | ls3         | rel\\_zero              | Nullpunkt relativ   | float64    | -         | Für ABS-Modus nicht relevant (hier NaN)                      |\n| 21 | stop                     | ls3         | $t_{\\mathrm{stop}}$    | Stopp-Kriterium     | float64    | s         | Zeitpunkt der Beendigung der Messung (fixe Dauer bei KS)     |\n| 22 | total                    | ls3         | $t_{\\mathrm{total}}$   | Messzeitraum gesamt | Int64      | s         | Gesamtlänge der Messung inkl. Pre-Trigger-Phase              |"
     },
     "metadata": {},
     "output_type": "display_data"
    }
   ],
   "source": [
    "# In DataFrame umwandeln\n",
    "ls3_data_dict_df =build_data_dict_df(ls3_data_dict)\n",
    "\n",
    "# In Markdown umwandeln und anzeigen\n",
    "md_text = ls3_data_dict_df.to_markdown(tablefmt=\"github\")\n",
    "display(Markdown(md_text))"
   ],
   "metadata": {
    "collapsed": false,
    "ExecuteTime": {
     "end_time": "2025-03-27T10:15:00.927854400Z",
     "start_time": "2025-03-27T10:15:00.783598200Z"
    }
   }
  },
  {
   "cell_type": "markdown",
   "source": [
    "## EXPORT: Daten exportieren für Weiterverarbeitung (.feather, .csv, .json)"
   ],
   "metadata": {
    "collapsed": false
   }
  },
  {
   "cell_type": "code",
   "execution_count": 10,
   "outputs": [],
   "source": [
    "# DataFrame als Feather\n",
    "ls3_metadata_df.to_feather(data_export_directory / \"ls3.feather\")\n",
    "ls3_metadata_df.to_csv(data_export_directory / \"ls3.csv\", sep=\";\", index=False, encoding=\"utf-8\")\n",
    "\n",
    "# Dict als JSON (UTF-8, sauber eingerückt)\n",
    "with open(data_export_directory / \"ls3_data_dict.json\", \"w\", encoding=\"utf-8\") as f:\n",
    "    json.dump(ls3_data_dict, f,  indent=4, ensure_ascii=False)"
   ],
   "metadata": {
    "collapsed": false,
    "ExecuteTime": {
     "end_time": "2025-03-27T10:15:01.696544200Z",
     "start_time": "2025-03-27T10:15:00.858852300Z"
    }
   }
  },
  {
   "cell_type": "code",
   "execution_count": 11,
   "outputs": [],
   "source": [
    "# Feather laden\n",
    "\n",
    "# ls3_metadata_df = pd.read_feather(data_export_directory / \"ls3_metadata.feather\")\n",
    "# \n",
    "# # JSON laden\n",
    "# with open(data_export_directory / \"ls3_data_dict.json\", \"r\", encoding=\"utf-8\") as f:\n",
    "#     ls3_data_dict = json.load(f)"
   ],
   "metadata": {
    "collapsed": false,
    "ExecuteTime": {
     "end_time": "2025-03-27T10:15:01.698544900Z",
     "start_time": "2025-03-27T10:15:00.942854500Z"
    }
   }
  },
  {
   "cell_type": "markdown",
   "source": [
    "## LATEX-EXPORT: Daten und Datendokumentation als Latex-Tabelle exportieren (.tex)"
   ],
   "metadata": {
    "collapsed": false
   }
  },
  {
   "cell_type": "code",
   "execution_count": 12,
   "outputs": [
    {
     "name": "stdout",
     "output_type": "stream",
     "text": [
      "Content saved to: C:\\kyellsen\\005_Projekte\\2024_BA\\032_Feldversuch_2023_Plesse\\030_Analysen\\2023_Kronensicherung_Plesse_Kraefte_Schwingungen\\working_directory\\export_latex\\feldversuch_2_ls3_daten_dokumentation.tex\n"
     ]
    }
   ],
   "source": [
    "ls3_data_dict_df = build_data_dict_df(ls3_data_dict, escape_index=True, select_latex_fields=True)\n",
    "latex_string = ls3_data_dict_df.to_latex(index=False, escape=False)\n",
    "caption = \"Feldversuch 2 - LS3 Daten Dokumentation\"\n",
    "\n",
    "save_latex_table(latex_string, caption, latex_export_directory)"
   ],
   "metadata": {
    "collapsed": false,
    "ExecuteTime": {
     "end_time": "2025-03-27T10:15:01.787574200Z",
     "start_time": "2025-03-27T10:15:00.976929400Z"
    }
   }
  }
 ],
 "metadata": {
  "kernelspec": {
   "display_name": "Python 3 (ipykernel)",
   "language": "python",
   "name": "python3"
  },
  "language_info": {
   "codemirror_mode": {
    "name": "ipython",
    "version": 3
   },
   "file_extension": ".py",
   "mimetype": "text/x-python",
   "name": "python",
   "nbconvert_exporter": "python",
   "pygments_lexer": "ipython3",
   "version": "3.11.2"
  }
 },
 "nbformat": 4,
 "nbformat_minor": 4
}
