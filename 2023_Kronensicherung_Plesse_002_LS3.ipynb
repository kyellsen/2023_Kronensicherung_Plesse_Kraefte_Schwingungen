{
 "cells": [
  {
   "cell_type": "markdown",
   "metadata": {},
   "source": [
    "---\n",
    "title: \"2023_Kronensicherung_Plesse_LS3\"\n",
    "author: \"Kyell Jensen\"\n",
    "date: \"2024-08-06\"\n",
    "format: pdf\n",
    "editor: visual\n",
    "---"
   ]
  },
  {
   "cell_type": "markdown",
   "metadata": {
    "collapsed": false
   },
   "source": [
    "# 2023_Kronensicherung_Plesse_Kraefte_LS3\n",
    "## LS3: Daten der Kraftmessdosen (lineScale3 Data = LS3)\n",
    "\n",
    "Nutze eine geeignete Python 3.11 Umgebung (z. B. virtuelle Environment) und installier das Paket linescale3 (LS3) inklusive kj_core und kj_logger und weiteren requirements."
   ]
  },
  {
   "cell_type": "markdown",
   "metadata": {
    "collapsed": false
   },
   "source": [
    "## Package Importe\n",
    "\n",
    "Es werden zuerst benötigte Standard-Pakete importiert. Nachfolgend das extra geschriebenen Pakete LS3. Fehler beim Import dieses Pakets sind ggf. Bugs. Es nutzte eine gemeinsame CodeBasis in den Paketen kj_core (Core-Package) und kj_logger (individualisiertes Logging des Verarbeitungs-Prozesses). Diese sollte i. d. R. über die requirements mit installiert werden."
   ]
  },
  {
   "cell_type": "markdown",
   "metadata": {
    "collapsed": false
   },
   "source": [
    "### Import von Standardbibliotheken\n",
    "\n",
    "Die folgenden Bibliotheken werden importiert, um grundlegende Funktionen für Strukturierung, Datenverarbeitung, Plotting und statistische Auswertung bereit zu stellen."
   ]
  },
  {
   "cell_type": "code",
   "execution_count": 1,
   "metadata": {
    "ExecuteTime": {
     "end_time": "2025-03-23T10:51:17.308368400Z",
     "start_time": "2025-03-23T10:51:17.150677900Z"
    }
   },
   "outputs": [],
   "source": [
    "# Struktur\n",
    "from pathlib import Path\n",
    "from typing import Dict, List\n",
    "\n",
    "# Datenverarbeitung\n",
    "import numpy as np\n",
    "import pandas as pd"
   ]
  },
  {
   "cell_type": "markdown",
   "metadata": {
    "collapsed": false
   },
   "source": [
    "### Import LineScale3\n",
    "\n",
    "Das Paket linescale3 wurde vom Autor (Kyell Jensen) zum einfachen Analysieren, Plotten und zur Interpretation der CSV-Messdaten der lineScale3 Kraftmessdose der Firma lineGrip geschrieben (https://www.linegrip.com/linescale-3/). Das Packet ist auf GitHub verfügbar (https://github.com/kyellsen/linescale3). Nachfolgend wird das Packet und einige dort definierten Klassen importiert."
   ]
  },
  {
   "cell_type": "code",
   "execution_count": 2,
   "metadata": {
    "collapsed": false,
    "ExecuteTime": {
     "end_time": "2025-03-23T10:51:17.474342700Z",
     "start_time": "2025-03-23T10:51:17.150677900Z"
    }
   },
   "outputs": [],
   "source": [
    "import linescale3 as ls3\n",
    "# ls3.help() # Test"
   ]
  },
  {
   "cell_type": "markdown",
   "metadata": {
    "collapsed": false
   },
   "source": [
    "### Projekt Konfiguration laden\n",
    "\n",
    "Lege Pfade für Daten-Importe, Daten-Exporte etc. fest (ggf. anpassen an eigene Verzeichnisstruktur), ausgelagert in gemeinsame Config für verschiedene Notebooks"
   ]
  },
  {
   "cell_type": "code",
   "execution_count": 3,
   "metadata": {
    "collapsed": false,
    "ExecuteTime": {
     "end_time": "2025-03-23T10:51:17.488765200Z",
     "start_time": "2025-03-23T10:51:17.479335600Z"
    }
   },
   "outputs": [],
   "source": [
    "# Importiere alle Einstellungen aus der project_config.py\n",
    "from project_config import (\n",
    "    main_path,\n",
    "    analyse_name,\n",
    "    data_path,\n",
    "    working_directory,\n",
    "    data_export_directory,\n",
    "    latex_export_directory\n",
    ")"
   ]
  },
  {
   "cell_type": "markdown",
   "metadata": {},
   "source": [
    "## Daten Import\n",
    "\n",
    "Die Funktion 'ls3.setup' erstellt Instanzen spezifischer Klassen, die für das Paket notwendig sind (CONFIG, LOG_MANAGER, PLOT_MANAGER). \n",
    "\n",
    "Über die Klasse 'ls3.Series' wird eine neue Messreihe initialisiert und als 'ls3_series' gespeichert. Im Verzeichnis 'ls3_data_path' finden sich die Messdaten von zwei lineScale3 ('LS14BFE6' und 'LS14991E').\n",
    "LS14BFE6: Befand sich während der Messung im Zugseil zwischen den Stämmlingen und erfasste die Vorspannung. Es wurden insgesamt 31 Logs (hier Measurements) aufgezeichnet. Eine Messfrequenz von 40 Hz erschien hier ausreichend.\n",
    "LS14991E: Befand sich während der Messung in der Kronensicherung und hat die Kraft in der Kronensicherung nach dem Release gemessen. Es wurden 19 Logs erfasst, da die ersten Messungen als Referenz ohne Kronensicherung stattfanden. Hier wurde die maximale Messfrequenz von 1028 Hz gewählt, um Lastspitzen optimal zu erfassen."
   ]
  },
  {
   "cell_type": "code",
   "execution_count": 4,
   "metadata": {
    "ExecuteTime": {
     "end_time": "2025-03-23T10:51:18.104762600Z",
     "start_time": "2025-03-23T10:51:17.488765200Z"
    }
   },
   "outputs": [
    {
     "name": "stderr",
     "output_type": "stream",
     "text": [
      "2025-03-23 11:51:17 [\u001B[92mINFO\u001B[0m] kj_logger.update_config: <kj_logger.LogManager object at 0x00000211B3D4FE90> initialized - update_config! Code: 000\n",
      "2025-03-23 11:51:17 [\u001B[93mWARNING\u001B[0m] kj_core.core_config.set_working_directory: The directory C:\\kyellsen\\005_Projekte\\2024_BA\\032_Feldversuch_2023_Plesse\\030_Analysen\\2023_Kronensicherung_Plesse_Kraefte_Schwingungen\\working_directory\\ls3 already exists.\n",
      "2025-03-23 11:51:17 [\u001B[92mINFO\u001B[0m] kj_core.core_config.set_working_directory: Working directory set to C:\\kyellsen\\005_Projekte\\2024_BA\\032_Feldversuch_2023_Plesse\\030_Analysen\\2023_Kronensicherung_Plesse_Kraefte_Schwingungen\\working_directory\\ls3!\n",
      "2025-03-23 11:51:17 [\u001B[92mINFO\u001B[0m] kj_core.core_config.__init__: <linescale3.config.Config object at 0x00000211B3D4FFD0> initialized! Code: 001\n",
      "2025-03-23 11:51:17 [\u001B[92mINFO\u001B[0m] linescale3.setup: ls3: Setup linescale3 package!\n",
      "2025-03-23 11:51:17 [\u001B[92mINFO\u001B[0m] kj_core.utils.plot_manager.__init__: <kj_core.utils.plot_manager.PlotManager object at 0x00000211B4A29A10> initialized! Code: 005\n",
      "2025-03-23 11:51:17 [\u001B[92mINFO\u001B[0m] linescale3.setup: ls3: linescale3 setup completed.\n",
      "2025-03-23 11:51:17 [\u001B[92mINFO\u001B[0m] linescale3.classes.measurement.read_csv: Read CSV for Measurement(id: '1', name: '14991E_23_03_22_14_41_10', sensor_id: '14:99:1E') successful.\n",
      "2025-03-23 11:51:17 [\u001B[92mINFO\u001B[0m] linescale3.classes.measurement.read_csv: Read CSV for Measurement(id: '2', name: '14991E_23_03_22_14_47_59', sensor_id: '14:99:1E') successful.\n",
      "2025-03-23 11:51:17 [\u001B[92mINFO\u001B[0m] linescale3.classes.measurement.read_csv: Read CSV for Measurement(id: '3', name: '14991E_23_03_22_14_55_03', sensor_id: '14:99:1E') successful.\n",
      "2025-03-23 11:51:17 [\u001B[92mINFO\u001B[0m] linescale3.classes.measurement.read_csv: Read CSV for Measurement(id: '4', name: '14991E_23_03_22_15_04_05', sensor_id: '14:99:1E') successful.\n",
      "2025-03-23 11:51:17 [\u001B[92mINFO\u001B[0m] linescale3.classes.measurement.read_csv: Read CSV for Measurement(id: '5', name: '14991E_23_03_22_15_08_55', sensor_id: '14:99:1E') successful.\n",
      "2025-03-23 11:51:17 [\u001B[92mINFO\u001B[0m] linescale3.classes.measurement.read_csv: Read CSV for Measurement(id: '6', name: '14991E_23_03_22_15_12_57', sensor_id: '14:99:1E') successful.\n",
      "2025-03-23 11:51:17 [\u001B[92mINFO\u001B[0m] linescale3.classes.measurement.read_csv: Read CSV for Measurement(id: '7', name: '14991E_23_03_22_15_16_58', sensor_id: '14:99:1E') successful.\n",
      "2025-03-23 11:51:17 [\u001B[92mINFO\u001B[0m] linescale3.classes.measurement.read_csv: Read CSV for Measurement(id: '8', name: '14991E_23_03_22_15_21_49', sensor_id: '14:99:1E') successful.\n",
      "2025-03-23 11:51:17 [\u001B[92mINFO\u001B[0m] linescale3.classes.measurement.read_csv: Read CSV for Measurement(id: '9', name: '14991E_23_03_22_15_25_17', sensor_id: '14:99:1E') successful.\n",
      "2025-03-23 11:51:17 [\u001B[92mINFO\u001B[0m] linescale3.classes.measurement.read_csv: Read CSV for Measurement(id: '10', name: '14991E_23_03_22_16_11_40', sensor_id: '14:99:1E') successful.\n",
      "2025-03-23 11:51:17 [\u001B[92mINFO\u001B[0m] linescale3.classes.measurement.read_csv: Read CSV for Measurement(id: '11', name: '14991E_23_03_22_16_17_21', sensor_id: '14:99:1E') successful.\n",
      "2025-03-23 11:51:17 [\u001B[92mINFO\u001B[0m] linescale3.classes.measurement.read_csv: Read CSV for Measurement(id: '12', name: '14991E_23_03_22_16_23_13', sensor_id: '14:99:1E') successful.\n",
      "2025-03-23 11:51:17 [\u001B[92mINFO\u001B[0m] linescale3.classes.measurement.read_csv: Read CSV for Measurement(id: '13', name: '14991E_23_03_22_16_37_11', sensor_id: '14:99:1E') successful.\n",
      "2025-03-23 11:51:17 [\u001B[92mINFO\u001B[0m] linescale3.classes.measurement.read_csv: Read CSV for Measurement(id: '14', name: '14991E_23_03_22_16_41_28', sensor_id: '14:99:1E') successful.\n",
      "2025-03-23 11:51:17 [\u001B[92mINFO\u001B[0m] linescale3.classes.measurement.read_csv: Read CSV for Measurement(id: '15', name: '14991E_23_03_22_16_46_46', sensor_id: '14:99:1E') successful.\n",
      "2025-03-23 11:51:17 [\u001B[92mINFO\u001B[0m] linescale3.classes.measurement.read_csv: Read CSV for Measurement(id: '16', name: '14991E_23_03_22_16_56_53', sensor_id: '14:99:1E') successful.\n",
      "2025-03-23 11:51:17 [\u001B[92mINFO\u001B[0m] linescale3.classes.measurement.read_csv: Read CSV for Measurement(id: '17', name: '14991E_23_03_22_17_01_49', sensor_id: '14:99:1E') successful.\n",
      "2025-03-23 11:51:17 [\u001B[92mINFO\u001B[0m] linescale3.classes.measurement.read_csv: Read CSV for Measurement(id: '18', name: '14991E_23_03_22_17_05_21', sensor_id: '14:99:1E') successful.\n",
      "2025-03-23 11:51:17 [\u001B[92mINFO\u001B[0m] linescale3.classes.measurement.read_csv: Read CSV for Measurement(id: '19', name: '14991E_23_03_22_17_16_51', sensor_id: '14:99:1E') successful.\n",
      "2025-03-23 11:51:17 [\u001B[92mINFO\u001B[0m] linescale3.classes.measurement.read_csv: Read CSV for Measurement(id: '1', name: '14BFE6_23_03_22_11_11_55', sensor_id: '14:BF:E6') successful.\n",
      "2025-03-23 11:51:17 [\u001B[92mINFO\u001B[0m] linescale3.classes.measurement.read_csv: Read CSV for Measurement(id: '2', name: '14BFE6_23_03_22_11_24_23', sensor_id: '14:BF:E6') successful.\n",
      "2025-03-23 11:51:17 [\u001B[92mINFO\u001B[0m] linescale3.classes.measurement.read_csv: Read CSV for Measurement(id: '3', name: '14BFE6_23_03_22_11_31_12', sensor_id: '14:BF:E6') successful.\n",
      "2025-03-23 11:51:17 [\u001B[92mINFO\u001B[0m] linescale3.classes.measurement.read_csv: Read CSV for Measurement(id: '4', name: '14BFE6_23_03_22_11_54_33', sensor_id: '14:BF:E6') successful.\n",
      "2025-03-23 11:51:17 [\u001B[92mINFO\u001B[0m] linescale3.classes.measurement.read_csv: Read CSV for Measurement(id: '5', name: '14BFE6_23_03_22_12_02_03', sensor_id: '14:BF:E6') successful.\n",
      "2025-03-23 11:51:17 [\u001B[92mINFO\u001B[0m] linescale3.classes.measurement.read_csv: Read CSV for Measurement(id: '6', name: '14BFE6_23_03_22_12_07_09', sensor_id: '14:BF:E6') successful.\n",
      "2025-03-23 11:51:17 [\u001B[92mINFO\u001B[0m] linescale3.classes.measurement.read_csv: Read CSV for Measurement(id: '7', name: '14BFE6_23_03_22_12_11_49', sensor_id: '14:BF:E6') successful.\n",
      "2025-03-23 11:51:17 [\u001B[92mINFO\u001B[0m] linescale3.classes.measurement.read_csv: Read CSV for Measurement(id: '8', name: '14BFE6_23_03_22_12_16_13', sensor_id: '14:BF:E6') successful.\n",
      "2025-03-23 11:51:17 [\u001B[92mINFO\u001B[0m] linescale3.classes.measurement.read_csv: Read CSV for Measurement(id: '9', name: '14BFE6_23_03_22_12_23_21', sensor_id: '14:BF:E6') successful.\n",
      "2025-03-23 11:51:17 [\u001B[92mINFO\u001B[0m] linescale3.classes.measurement.read_csv: Read CSV for Measurement(id: '10', name: '14BFE6_23_03_22_12_27_13', sensor_id: '14:BF:E6') successful.\n",
      "2025-03-23 11:51:17 [\u001B[92mINFO\u001B[0m] linescale3.classes.measurement.read_csv: Read CSV for Measurement(id: '11', name: '14BFE6_23_03_22_14_40_00', sensor_id: '14:BF:E6') successful.\n",
      "2025-03-23 11:51:17 [\u001B[92mINFO\u001B[0m] linescale3.classes.measurement.read_csv: Read CSV for Measurement(id: '12', name: '14BFE6_23_03_22_14_47_06', sensor_id: '14:BF:E6') successful.\n",
      "2025-03-23 11:51:17 [\u001B[92mINFO\u001B[0m] linescale3.classes.measurement.read_csv: Read CSV for Measurement(id: '13', name: '14BFE6_23_03_22_14_54_20', sensor_id: '14:BF:E6') successful.\n",
      "2025-03-23 11:51:17 [\u001B[92mINFO\u001B[0m] linescale3.classes.measurement.read_csv: Read CSV for Measurement(id: '14', name: '14BFE6_23_03_22_15_00_22', sensor_id: '14:BF:E6') successful.\n",
      "2025-03-23 11:51:17 [\u001B[92mINFO\u001B[0m] linescale3.classes.measurement.read_csv: Read CSV for Measurement(id: '15', name: '14BFE6_23_03_22_15_03_21', sensor_id: '14:BF:E6') successful.\n",
      "2025-03-23 11:51:17 [\u001B[92mINFO\u001B[0m] linescale3.classes.measurement.read_csv: Read CSV for Measurement(id: '16', name: '14BFE6_23_03_22_15_08_07', sensor_id: '14:BF:E6') successful.\n",
      "2025-03-23 11:51:17 [\u001B[92mINFO\u001B[0m] linescale3.classes.measurement.read_csv: Read CSV for Measurement(id: '17', name: '14BFE6_23_03_22_15_11_55', sensor_id: '14:BF:E6') successful.\n",
      "2025-03-23 11:51:17 [\u001B[92mINFO\u001B[0m] linescale3.classes.measurement.read_csv: Read CSV for Measurement(id: '18', name: '14BFE6_23_03_22_15_16_24', sensor_id: '14:BF:E6') successful.\n",
      "2025-03-23 11:51:17 [\u001B[92mINFO\u001B[0m] linescale3.classes.measurement.read_csv: Read CSV for Measurement(id: '19', name: '14BFE6_23_03_22_15_20_38', sensor_id: '14:BF:E6') successful.\n",
      "2025-03-23 11:51:17 [\u001B[92mINFO\u001B[0m] linescale3.classes.measurement.read_csv: Read CSV for Measurement(id: '20', name: '14BFE6_23_03_22_15_24_40', sensor_id: '14:BF:E6') successful.\n",
      "2025-03-23 11:51:17 [\u001B[92mINFO\u001B[0m] linescale3.classes.measurement.read_csv: Read CSV for Measurement(id: '21', name: '14BFE6_23_03_22_16_10_55', sensor_id: '14:BF:E6') successful.\n",
      "2025-03-23 11:51:17 [\u001B[92mINFO\u001B[0m] linescale3.classes.measurement.read_csv: Read CSV for Measurement(id: '22', name: '14BFE6_23_03_22_16_16_33', sensor_id: '14:BF:E6') successful.\n",
      "2025-03-23 11:51:18 [\u001B[92mINFO\u001B[0m] linescale3.classes.measurement.read_csv: Read CSV for Measurement(id: '23', name: '14BFE6_23_03_22_16_21_50', sensor_id: '14:BF:E6') successful.\n",
      "2025-03-23 11:51:18 [\u001B[92mINFO\u001B[0m] linescale3.classes.measurement.read_csv: Read CSV for Measurement(id: '24', name: '14BFE6_23_03_22_16_36_05', sensor_id: '14:BF:E6') successful.\n",
      "2025-03-23 11:51:18 [\u001B[92mINFO\u001B[0m] linescale3.classes.measurement.read_csv: Read CSV for Measurement(id: '25', name: '14BFE6_23_03_22_16_40_07', sensor_id: '14:BF:E6') successful.\n",
      "2025-03-23 11:51:18 [\u001B[92mINFO\u001B[0m] linescale3.classes.measurement.read_csv: Read CSV for Measurement(id: '26', name: '14BFE6_23_03_22_16_44_31', sensor_id: '14:BF:E6') successful.\n",
      "2025-03-23 11:51:18 [\u001B[92mINFO\u001B[0m] linescale3.classes.measurement.read_csv: Read CSV for Measurement(id: '27', name: '14BFE6_23_03_22_16_56_04', sensor_id: '14:BF:E6') successful.\n",
      "2025-03-23 11:51:18 [\u001B[92mINFO\u001B[0m] linescale3.classes.measurement.read_csv: Read CSV for Measurement(id: '28', name: '14BFE6_23_03_22_17_00_04', sensor_id: '14:BF:E6') successful.\n",
      "2025-03-23 11:51:18 [\u001B[92mINFO\u001B[0m] linescale3.classes.measurement.read_csv: Read CSV for Measurement(id: '29', name: '14BFE6_23_03_22_17_04_51', sensor_id: '14:BF:E6') successful.\n",
      "2025-03-23 11:51:18 [\u001B[92mINFO\u001B[0m] linescale3.classes.measurement.read_csv: Read CSV for Measurement(id: '30', name: '14BFE6_23_03_22_17_07_37', sensor_id: '14:BF:E6') successful.\n",
      "2025-03-23 11:51:18 [\u001B[92mINFO\u001B[0m] linescale3.classes.measurement.read_csv: Read CSV for Measurement(id: '31', name: '14BFE6_23_03_22_17_16_09', sensor_id: '14:BF:E6') successful.\n"
     ]
    }
   ],
   "source": [
    "ls3.setup(working_directory=working_directory, log_level=\"info\", safe_logs_to_file=True)\n",
    "\n",
    "ls3_data_path = data_path / 'LS3'\n",
    "ls3_series = ls3.classes.Series(name=analyse_name, path=ls3_data_path)"
   ]
  },
  {
   "cell_type": "markdown",
   "metadata": {
    "collapsed": false
   },
   "source": [
    "## Explorative Datenanalyse\n",
    "\n",
    "Da teilweise für jede Messung und jeden Sensor ein Plot generiert wird, werden diese nicht im Notebook direkt angezeigt, sondern im Explorer gespeichert. Die Plots liegen entsprechend im working_directory in den Verzeichnissen ls3/plots/ bzw. ptq/plots.\n",
    "\n",
    "'ls3_series.plot_force_vs_time' erstellt für jede Messung für beide eingesetzten LineScales einen Plot, in dem die ermittelte Kraft (force in kN) gegenüber der Zeit (sec_since_start) abgebildet wird. Die Plots werden im Verzeichnis 'ls3/plots/force_vs_time_1/' abgelegt.\n",
    "\n",
    "14:BF:E6: Hat die tatsächliche Vorspannung ermittelt und hat entsprechend für alle 29 (-2) Messungen (experiment_id) einen Log aufgezeichnet.\n",
    "Aufgrund der Messtechnik wurden 2 Logs erstellt, die keine Messung darstellen. Diese dürfen nicht mit ausgewertet werden (Measurement ID 14 und 30).\n",
    "\n",
    "14:99:1E: Hat die Lasten in der Kronensicherung aufgezeichnet und hat entsprechend nur für die 19 (-1) Messungen mit Kronensicherungen einen Log aufgezeichent."
   ]
  },
  {
   "cell_type": "code",
   "execution_count": 5,
   "metadata": {
    "collapsed": false,
    "ExecuteTime": {
     "end_time": "2025-03-23T10:51:26.600285Z",
     "start_time": "2025-03-23T10:51:18.060113800Z"
    }
   },
   "outputs": [
    {
     "name": "stderr",
     "output_type": "stream",
     "text": [
      "2025-03-23 11:51:18 [\u001B[92mINFO\u001B[0m] linescale3.classes.measurement.plot_force_vs_time_with_max_and_release: plot_force_vs_time_with_max_and_release for measurement: 'Measurement(id: '1', name: '14991E_23_03_22_14_41_10', sensor_id: '14:99:1E')'.\n",
      "2025-03-23 11:51:18 [\u001B[92mINFO\u001B[0m] linescale3.classes.measurement.plot_force_vs_time_with_max_and_release: plot_force_vs_time_with_max_and_release for measurement: 'Measurement(id: '2', name: '14991E_23_03_22_14_47_59', sensor_id: '14:99:1E')'.\n",
      "2025-03-23 11:51:18 [\u001B[92mINFO\u001B[0m] linescale3.classes.measurement.plot_force_vs_time_with_max_and_release: plot_force_vs_time_with_max_and_release for measurement: 'Measurement(id: '3', name: '14991E_23_03_22_14_55_03', sensor_id: '14:99:1E')'.\n",
      "2025-03-23 11:51:18 [\u001B[92mINFO\u001B[0m] linescale3.classes.measurement.plot_force_vs_time_with_max_and_release: plot_force_vs_time_with_max_and_release for measurement: 'Measurement(id: '4', name: '14991E_23_03_22_15_04_05', sensor_id: '14:99:1E')'.\n",
      "2025-03-23 11:51:19 [\u001B[92mINFO\u001B[0m] linescale3.classes.measurement.plot_force_vs_time_with_max_and_release: plot_force_vs_time_with_max_and_release for measurement: 'Measurement(id: '5', name: '14991E_23_03_22_15_08_55', sensor_id: '14:99:1E')'.\n",
      "2025-03-23 11:51:19 [\u001B[92mINFO\u001B[0m] linescale3.classes.measurement.plot_force_vs_time_with_max_and_release: plot_force_vs_time_with_max_and_release for measurement: 'Measurement(id: '6', name: '14991E_23_03_22_15_12_57', sensor_id: '14:99:1E')'.\n",
      "2025-03-23 11:51:19 [\u001B[92mINFO\u001B[0m] linescale3.classes.measurement.plot_force_vs_time_with_max_and_release: plot_force_vs_time_with_max_and_release for measurement: 'Measurement(id: '7', name: '14991E_23_03_22_15_16_58', sensor_id: '14:99:1E')'.\n",
      "2025-03-23 11:51:19 [\u001B[92mINFO\u001B[0m] linescale3.classes.measurement.plot_force_vs_time_with_max_and_release: plot_force_vs_time_with_max_and_release for measurement: 'Measurement(id: '8', name: '14991E_23_03_22_15_21_49', sensor_id: '14:99:1E')'.\n",
      "2025-03-23 11:51:19 [\u001B[92mINFO\u001B[0m] linescale3.classes.measurement.plot_force_vs_time_with_max_and_release: plot_force_vs_time_with_max_and_release for measurement: 'Measurement(id: '9', name: '14991E_23_03_22_15_25_17', sensor_id: '14:99:1E')'.\n",
      "2025-03-23 11:51:19 [\u001B[92mINFO\u001B[0m] linescale3.classes.measurement.plot_force_vs_time_with_max_and_release: plot_force_vs_time_with_max_and_release for measurement: 'Measurement(id: '10', name: '14991E_23_03_22_16_11_40', sensor_id: '14:99:1E')'.\n",
      "2025-03-23 11:51:20 [\u001B[92mINFO\u001B[0m] linescale3.classes.measurement.plot_force_vs_time_with_max_and_release: plot_force_vs_time_with_max_and_release for measurement: 'Measurement(id: '11', name: '14991E_23_03_22_16_17_21', sensor_id: '14:99:1E')'.\n",
      "2025-03-23 11:51:20 [\u001B[92mINFO\u001B[0m] linescale3.classes.measurement.plot_force_vs_time_with_max_and_release: plot_force_vs_time_with_max_and_release for measurement: 'Measurement(id: '12', name: '14991E_23_03_22_16_23_13', sensor_id: '14:99:1E')'.\n",
      "2025-03-23 11:51:20 [\u001B[92mINFO\u001B[0m] linescale3.classes.measurement.plot_force_vs_time_with_max_and_release: plot_force_vs_time_with_max_and_release for measurement: 'Measurement(id: '13', name: '14991E_23_03_22_16_37_11', sensor_id: '14:99:1E')'.\n",
      "2025-03-23 11:51:20 [\u001B[92mINFO\u001B[0m] linescale3.classes.measurement.plot_force_vs_time_with_max_and_release: plot_force_vs_time_with_max_and_release for measurement: 'Measurement(id: '14', name: '14991E_23_03_22_16_41_28', sensor_id: '14:99:1E')'.\n",
      "2025-03-23 11:51:20 [\u001B[92mINFO\u001B[0m] linescale3.classes.measurement.plot_force_vs_time_with_max_and_release: plot_force_vs_time_with_max_and_release for measurement: 'Measurement(id: '15', name: '14991E_23_03_22_16_46_46', sensor_id: '14:99:1E')'.\n",
      "2025-03-23 11:51:21 [\u001B[92mINFO\u001B[0m] linescale3.classes.measurement.plot_force_vs_time_with_max_and_release: plot_force_vs_time_with_max_and_release for measurement: 'Measurement(id: '16', name: '14991E_23_03_22_16_56_53', sensor_id: '14:99:1E')'.\n",
      "2025-03-23 11:51:21 [\u001B[92mINFO\u001B[0m] linescale3.classes.measurement.plot_force_vs_time_with_max_and_release: plot_force_vs_time_with_max_and_release for measurement: 'Measurement(id: '17', name: '14991E_23_03_22_17_01_49', sensor_id: '14:99:1E')'.\n",
      "2025-03-23 11:51:21 [\u001B[92mINFO\u001B[0m] linescale3.classes.measurement.plot_force_vs_time_with_max_and_release: plot_force_vs_time_with_max_and_release for measurement: 'Measurement(id: '18', name: '14991E_23_03_22_17_05_21', sensor_id: '14:99:1E')'.\n",
      "2025-03-23 11:51:21 [\u001B[92mINFO\u001B[0m] linescale3.classes.measurement.plot_force_vs_time_with_max_and_release: plot_force_vs_time_with_max_and_release for measurement: 'Measurement(id: '19', name: '14991E_23_03_22_17_16_51', sensor_id: '14:99:1E')'.\n",
      "2025-03-23 11:51:21 [\u001B[92mINFO\u001B[0m] linescale3.classes.measurement.plot_force_vs_time_with_max_and_release: plot_force_vs_time_with_max_and_release for measurement: 'Measurement(id: '1', name: '14BFE6_23_03_22_11_11_55', sensor_id: '14:BF:E6')'.\n",
      "2025-03-23 11:51:21 [\u001B[92mINFO\u001B[0m] linescale3.classes.measurement.plot_force_vs_time_with_max_and_release: plot_force_vs_time_with_max_and_release for measurement: 'Measurement(id: '2', name: '14BFE6_23_03_22_11_24_23', sensor_id: '14:BF:E6')'.\n",
      "2025-03-23 11:51:22 [\u001B[92mINFO\u001B[0m] linescale3.classes.measurement.plot_force_vs_time_with_max_and_release: plot_force_vs_time_with_max_and_release for measurement: 'Measurement(id: '3', name: '14BFE6_23_03_22_11_31_12', sensor_id: '14:BF:E6')'.\n",
      "2025-03-23 11:51:22 [\u001B[92mINFO\u001B[0m] linescale3.classes.measurement.plot_force_vs_time_with_max_and_release: plot_force_vs_time_with_max_and_release for measurement: 'Measurement(id: '4', name: '14BFE6_23_03_22_11_54_33', sensor_id: '14:BF:E6')'.\n",
      "2025-03-23 11:51:22 [\u001B[92mINFO\u001B[0m] linescale3.classes.measurement.plot_force_vs_time_with_max_and_release: plot_force_vs_time_with_max_and_release for measurement: 'Measurement(id: '5', name: '14BFE6_23_03_22_12_02_03', sensor_id: '14:BF:E6')'.\n",
      "2025-03-23 11:51:22 [\u001B[92mINFO\u001B[0m] linescale3.classes.measurement.plot_force_vs_time_with_max_and_release: plot_force_vs_time_with_max_and_release for measurement: 'Measurement(id: '6', name: '14BFE6_23_03_22_12_07_09', sensor_id: '14:BF:E6')'.\n",
      "2025-03-23 11:51:22 [\u001B[92mINFO\u001B[0m] linescale3.classes.measurement.plot_force_vs_time_with_max_and_release: plot_force_vs_time_with_max_and_release for measurement: 'Measurement(id: '7', name: '14BFE6_23_03_22_12_11_49', sensor_id: '14:BF:E6')'.\n",
      "2025-03-23 11:51:22 [\u001B[92mINFO\u001B[0m] linescale3.classes.measurement.plot_force_vs_time_with_max_and_release: plot_force_vs_time_with_max_and_release for measurement: 'Measurement(id: '8', name: '14BFE6_23_03_22_12_16_13', sensor_id: '14:BF:E6')'.\n",
      "2025-03-23 11:51:22 [\u001B[92mINFO\u001B[0m] linescale3.classes.measurement.plot_force_vs_time_with_max_and_release: plot_force_vs_time_with_max_and_release for measurement: 'Measurement(id: '9', name: '14BFE6_23_03_22_12_23_21', sensor_id: '14:BF:E6')'.\n",
      "2025-03-23 11:51:23 [\u001B[92mINFO\u001B[0m] linescale3.classes.measurement.plot_force_vs_time_with_max_and_release: plot_force_vs_time_with_max_and_release for measurement: 'Measurement(id: '10', name: '14BFE6_23_03_22_12_27_13', sensor_id: '14:BF:E6')'.\n",
      "2025-03-23 11:51:23 [\u001B[92mINFO\u001B[0m] linescale3.classes.measurement.plot_force_vs_time_with_max_and_release: plot_force_vs_time_with_max_and_release for measurement: 'Measurement(id: '11', name: '14BFE6_23_03_22_14_40_00', sensor_id: '14:BF:E6')'.\n",
      "2025-03-23 11:51:23 [\u001B[92mINFO\u001B[0m] linescale3.classes.measurement.plot_force_vs_time_with_max_and_release: plot_force_vs_time_with_max_and_release for measurement: 'Measurement(id: '12', name: '14BFE6_23_03_22_14_47_06', sensor_id: '14:BF:E6')'.\n",
      "2025-03-23 11:51:23 [\u001B[92mINFO\u001B[0m] linescale3.classes.measurement.plot_force_vs_time_with_max_and_release: plot_force_vs_time_with_max_and_release for measurement: 'Measurement(id: '13', name: '14BFE6_23_03_22_14_54_20', sensor_id: '14:BF:E6')'.\n",
      "2025-03-23 11:51:23 [\u001B[92mINFO\u001B[0m] linescale3.classes.measurement.plot_force_vs_time_with_max_and_release: plot_force_vs_time_with_max_and_release for measurement: 'Measurement(id: '14', name: '14BFE6_23_03_22_15_00_22', sensor_id: '14:BF:E6')'.\n",
      "2025-03-23 11:51:23 [\u001B[92mINFO\u001B[0m] linescale3.classes.measurement.plot_force_vs_time_with_max_and_release: plot_force_vs_time_with_max_and_release for measurement: 'Measurement(id: '15', name: '14BFE6_23_03_22_15_03_21', sensor_id: '14:BF:E6')'.\n",
      "2025-03-23 11:51:24 [\u001B[92mINFO\u001B[0m] linescale3.classes.measurement.plot_force_vs_time_with_max_and_release: plot_force_vs_time_with_max_and_release for measurement: 'Measurement(id: '16', name: '14BFE6_23_03_22_15_08_07', sensor_id: '14:BF:E6')'.\n",
      "2025-03-23 11:51:24 [\u001B[92mINFO\u001B[0m] linescale3.classes.measurement.plot_force_vs_time_with_max_and_release: plot_force_vs_time_with_max_and_release for measurement: 'Measurement(id: '17', name: '14BFE6_23_03_22_15_11_55', sensor_id: '14:BF:E6')'.\n",
      "2025-03-23 11:51:24 [\u001B[92mINFO\u001B[0m] linescale3.classes.measurement.plot_force_vs_time_with_max_and_release: plot_force_vs_time_with_max_and_release for measurement: 'Measurement(id: '18', name: '14BFE6_23_03_22_15_16_24', sensor_id: '14:BF:E6')'.\n",
      "2025-03-23 11:51:24 [\u001B[92mINFO\u001B[0m] linescale3.classes.measurement.plot_force_vs_time_with_max_and_release: plot_force_vs_time_with_max_and_release for measurement: 'Measurement(id: '19', name: '14BFE6_23_03_22_15_20_38', sensor_id: '14:BF:E6')'.\n",
      "2025-03-23 11:51:24 [\u001B[92mINFO\u001B[0m] linescale3.classes.measurement.plot_force_vs_time_with_max_and_release: plot_force_vs_time_with_max_and_release for measurement: 'Measurement(id: '20', name: '14BFE6_23_03_22_15_24_40', sensor_id: '14:BF:E6')'.\n",
      "2025-03-23 11:51:24 [\u001B[92mINFO\u001B[0m] linescale3.classes.measurement.plot_force_vs_time_with_max_and_release: plot_force_vs_time_with_max_and_release for measurement: 'Measurement(id: '21', name: '14BFE6_23_03_22_16_10_55', sensor_id: '14:BF:E6')'.\n",
      "2025-03-23 11:51:25 [\u001B[92mINFO\u001B[0m] linescale3.classes.measurement.plot_force_vs_time_with_max_and_release: plot_force_vs_time_with_max_and_release for measurement: 'Measurement(id: '22', name: '14BFE6_23_03_22_16_16_33', sensor_id: '14:BF:E6')'.\n",
      "2025-03-23 11:51:25 [\u001B[92mINFO\u001B[0m] linescale3.classes.measurement.plot_force_vs_time_with_max_and_release: plot_force_vs_time_with_max_and_release for measurement: 'Measurement(id: '23', name: '14BFE6_23_03_22_16_21_50', sensor_id: '14:BF:E6')'.\n",
      "2025-03-23 11:51:25 [\u001B[92mINFO\u001B[0m] linescale3.classes.measurement.plot_force_vs_time_with_max_and_release: plot_force_vs_time_with_max_and_release for measurement: 'Measurement(id: '24', name: '14BFE6_23_03_22_16_36_05', sensor_id: '14:BF:E6')'.\n",
      "2025-03-23 11:51:25 [\u001B[92mINFO\u001B[0m] linescale3.classes.measurement.plot_force_vs_time_with_max_and_release: plot_force_vs_time_with_max_and_release for measurement: 'Measurement(id: '25', name: '14BFE6_23_03_22_16_40_07', sensor_id: '14:BF:E6')'.\n",
      "2025-03-23 11:51:25 [\u001B[92mINFO\u001B[0m] linescale3.classes.measurement.plot_force_vs_time_with_max_and_release: plot_force_vs_time_with_max_and_release for measurement: 'Measurement(id: '26', name: '14BFE6_23_03_22_16_44_31', sensor_id: '14:BF:E6')'.\n",
      "2025-03-23 11:51:25 [\u001B[92mINFO\u001B[0m] linescale3.classes.measurement.plot_force_vs_time_with_max_and_release: plot_force_vs_time_with_max_and_release for measurement: 'Measurement(id: '27', name: '14BFE6_23_03_22_16_56_04', sensor_id: '14:BF:E6')'.\n",
      "2025-03-23 11:51:26 [\u001B[92mINFO\u001B[0m] linescale3.classes.measurement.plot_force_vs_time_with_max_and_release: plot_force_vs_time_with_max_and_release for measurement: 'Measurement(id: '28', name: '14BFE6_23_03_22_17_00_04', sensor_id: '14:BF:E6')'.\n",
      "2025-03-23 11:51:26 [\u001B[92mINFO\u001B[0m] linescale3.classes.measurement.plot_force_vs_time_with_max_and_release: plot_force_vs_time_with_max_and_release for measurement: 'Measurement(id: '29', name: '14BFE6_23_03_22_17_04_51', sensor_id: '14:BF:E6')'.\n",
      "2025-03-23 11:51:26 [\u001B[92mINFO\u001B[0m] linescale3.classes.measurement.plot_force_vs_time_with_max_and_release: plot_force_vs_time_with_max_and_release for measurement: 'Measurement(id: '30', name: '14BFE6_23_03_22_17_07_37', sensor_id: '14:BF:E6')'.\n",
      "2025-03-23 11:51:26 [\u001B[92mINFO\u001B[0m] linescale3.classes.measurement.plot_force_vs_time_with_max_and_release: plot_force_vs_time_with_max_and_release for measurement: 'Measurement(id: '31', name: '14BFE6_23_03_22_17_16_09', sensor_id: '14:BF:E6')'.\n"
     ]
    }
   ],
   "source": [
    "#ls3_series.plot_force_vs_time() # Basis Funktion ohne ergänzende Markierungen für max and release (-force)\n",
    "ls3_series.plot_force_vs_time_with_max_and_release()"
   ]
  },
  {
   "cell_type": "markdown",
   "source": [
    "## Metadata DataFrame\n",
    "\n",
    "'ls3_series.metadata_df' enthält für jeden Log (measurement_id) der 2 LineScales die Metadaten der Messung.\n",
    "\n",
    "Parameter / Einstellung LineScale für Messung:\n",
    "- `datetime`: Startzeitpunkt der Messung\n",
    "- `measurement_id`: LogNr\n",
    "- `unit`: Einheit für Kraft\n",
    "- `mode`: ABS für absolute Kraft\n",
    "- `rel_zero`: Für ABS-Modus nicht relevant\n",
    "- `speed`: Messgeschwindigkeit in Hz\n",
    "- `trig`: Mindestkraft für Messbeginn in kN\n",
    "- `stop`: Stop Messung bei Kraft-Unterschreitung (hier feste Zeitspanne für Messung)\n",
    "- `pre`: Zeitraum, der vor dem trigger-zeitpunkt nachträglich ergänzt wird (in Sekunden)\n",
    "- `catch`: Zu erfassender Zeitraum (in Sekunden)\n",
    "- `total`: Gesamter Messzeitraum\n",
    "\n",
    "Korrekturfaktor:\n",
    "- `timing_correction_factor`: Die Auswertung zeigt, dass im LineScale die Zeit ca. mit dem Faktor 0.9 falsch erfasst wird. Die tatsächliche Abtastrate, Duration etc. wird entsprechend korrigiert.\n",
    "\n",
    "Berechnete Parameter:\n",
    "- `datetime_start`: Startzeitpunkt der Messung\n",
    "- `datetime_end`: Endzeitpunkt der Messung\n",
    "- `duration`: Dauer der Messung\n",
    "- `length`: Anzahl der erfassten Messpunkte\n",
    "- `max`: Index und Wert der maximalen Kraft in kN\n",
    "- `mean`: arithmetisches Mittel der Kraft\n",
    "- `median`: median der Kraft\n",
    "- `min`: Index und Wert der minmalen Kraft in kN\n",
    "- `release`: Für jeden Log von 14:BF:E6 (LineScale zur Messung der Vorspannung) wurde die Kraft in kN ermittelt, die kurz vor dem Release vorlag. Diese Kraft ist in den Plots (/ls3/plots/force_vs_time_1/) als grüne Linie markiert. Die entsprechende Funktion befindet sich in 'ls3/classes/measurement.py' und heißt 'get_release_force'.\n",
    "\n",
    "Anmerkung zu get_release_force: Die Funktion filtert alle Kraftwerte über 1.0 kN (Parameter min_force=1.0). Innerhalb der gefilterten Werte wird ein Bereich ausgewählt, der 3 Sekunden vor dem Ende der Messung endet (Parameter distance_to_end_sec=3) und insgesamt 5 Sekunden lang ist (Parameter window_sec=5). Für diesen Zeitraum wird der Mittelwert (Mean) berechnet. Die release_force ist somit der Mittelwert eines 5-sekündigen Plateaus vor dem Release und wird nicht durch kurzzeitige Lastspitzen im Zugseil verfälscht."
   ],
   "metadata": {
    "collapsed": false
   }
  },
  {
   "cell_type": "code",
   "execution_count": 6,
   "outputs": [
    {
     "data": {
      "text/plain": "           measurement_name sensor_id            datetime  measurement_id  \\\n0  14991E_23_03_22_14_41_10  14:99:1E 2022-03-23 14:41:10               1   \n1  14991E_23_03_22_14_47_59  14:99:1E 2022-03-23 14:47:59               2   \n2  14991E_23_03_22_14_55_03  14:99:1E 2022-03-23 14:55:03               3   \n3  14991E_23_03_22_15_04_05  14:99:1E 2022-03-23 15:04:05               4   \n4  14991E_23_03_22_15_08_55  14:99:1E 2022-03-23 15:08:55               5   \n\n  unit mode rel_zero  speed  trig  stop  ...  timing_correction_factor  \\\n0   kN  ABS      n/a   1280   0.8   0.0  ...                       0.9   \n1   kN  ABS      n/a   1280   0.8   0.0  ...                       0.9   \n2   kN  ABS      n/a   1280   0.8   0.0  ...                       0.9   \n3   kN  ABS      n/a   1280   0.8   0.0  ...                       0.9   \n4   kN  ABS      n/a   1280   0.8   0.0  ...                       0.9   \n\n       datetime_start                  datetime_end   duration length  \\\n0 2022-03-23 14:41:10 2022-03-23 14:41:26.199296875  16.199296  23040   \n1 2022-03-23 14:47:59 2022-03-23 14:48:15.199296875  16.199296  23040   \n2 2022-03-23 14:55:03 2022-03-23 14:55:19.199296875  16.199296  23040   \n3 2022-03-23 15:04:05 2022-03-23 15:04:21.199296875  16.199296  23040   \n4 2022-03-23 15:08:55 2022-03-23 15:09:11.199296875  16.199296  23040   \n\n            max      mean  median          min  release  \n0  (4737, 1.48)  0.111598    0.06    (36, 0.0)      NaN  \n1  (4721, 1.44)  0.117817    0.06   (135, 0.0)      NaN  \n2  (3867, 1.33)  0.104375    0.06    (81, 0.0)      NaN  \n3  (3861, 1.01)  0.072250    0.04  (49, -0.01)      NaN  \n4  (4730, 1.16)  0.108828    0.06    (73, 0.0)      NaN  \n\n[5 rows x 23 columns]",
      "text/html": "<div>\n<style scoped>\n    .dataframe tbody tr th:only-of-type {\n        vertical-align: middle;\n    }\n\n    .dataframe tbody tr th {\n        vertical-align: top;\n    }\n\n    .dataframe thead th {\n        text-align: right;\n    }\n</style>\n<table border=\"1\" class=\"dataframe\">\n  <thead>\n    <tr style=\"text-align: right;\">\n      <th></th>\n      <th>measurement_name</th>\n      <th>sensor_id</th>\n      <th>datetime</th>\n      <th>measurement_id</th>\n      <th>unit</th>\n      <th>mode</th>\n      <th>rel_zero</th>\n      <th>speed</th>\n      <th>trig</th>\n      <th>stop</th>\n      <th>...</th>\n      <th>timing_correction_factor</th>\n      <th>datetime_start</th>\n      <th>datetime_end</th>\n      <th>duration</th>\n      <th>length</th>\n      <th>max</th>\n      <th>mean</th>\n      <th>median</th>\n      <th>min</th>\n      <th>release</th>\n    </tr>\n  </thead>\n  <tbody>\n    <tr>\n      <th>0</th>\n      <td>14991E_23_03_22_14_41_10</td>\n      <td>14:99:1E</td>\n      <td>2022-03-23 14:41:10</td>\n      <td>1</td>\n      <td>kN</td>\n      <td>ABS</td>\n      <td>n/a</td>\n      <td>1280</td>\n      <td>0.8</td>\n      <td>0.0</td>\n      <td>...</td>\n      <td>0.9</td>\n      <td>2022-03-23 14:41:10</td>\n      <td>2022-03-23 14:41:26.199296875</td>\n      <td>16.199296</td>\n      <td>23040</td>\n      <td>(4737, 1.48)</td>\n      <td>0.111598</td>\n      <td>0.06</td>\n      <td>(36, 0.0)</td>\n      <td>NaN</td>\n    </tr>\n    <tr>\n      <th>1</th>\n      <td>14991E_23_03_22_14_47_59</td>\n      <td>14:99:1E</td>\n      <td>2022-03-23 14:47:59</td>\n      <td>2</td>\n      <td>kN</td>\n      <td>ABS</td>\n      <td>n/a</td>\n      <td>1280</td>\n      <td>0.8</td>\n      <td>0.0</td>\n      <td>...</td>\n      <td>0.9</td>\n      <td>2022-03-23 14:47:59</td>\n      <td>2022-03-23 14:48:15.199296875</td>\n      <td>16.199296</td>\n      <td>23040</td>\n      <td>(4721, 1.44)</td>\n      <td>0.117817</td>\n      <td>0.06</td>\n      <td>(135, 0.0)</td>\n      <td>NaN</td>\n    </tr>\n    <tr>\n      <th>2</th>\n      <td>14991E_23_03_22_14_55_03</td>\n      <td>14:99:1E</td>\n      <td>2022-03-23 14:55:03</td>\n      <td>3</td>\n      <td>kN</td>\n      <td>ABS</td>\n      <td>n/a</td>\n      <td>1280</td>\n      <td>0.8</td>\n      <td>0.0</td>\n      <td>...</td>\n      <td>0.9</td>\n      <td>2022-03-23 14:55:03</td>\n      <td>2022-03-23 14:55:19.199296875</td>\n      <td>16.199296</td>\n      <td>23040</td>\n      <td>(3867, 1.33)</td>\n      <td>0.104375</td>\n      <td>0.06</td>\n      <td>(81, 0.0)</td>\n      <td>NaN</td>\n    </tr>\n    <tr>\n      <th>3</th>\n      <td>14991E_23_03_22_15_04_05</td>\n      <td>14:99:1E</td>\n      <td>2022-03-23 15:04:05</td>\n      <td>4</td>\n      <td>kN</td>\n      <td>ABS</td>\n      <td>n/a</td>\n      <td>1280</td>\n      <td>0.8</td>\n      <td>0.0</td>\n      <td>...</td>\n      <td>0.9</td>\n      <td>2022-03-23 15:04:05</td>\n      <td>2022-03-23 15:04:21.199296875</td>\n      <td>16.199296</td>\n      <td>23040</td>\n      <td>(3861, 1.01)</td>\n      <td>0.072250</td>\n      <td>0.04</td>\n      <td>(49, -0.01)</td>\n      <td>NaN</td>\n    </tr>\n    <tr>\n      <th>4</th>\n      <td>14991E_23_03_22_15_08_55</td>\n      <td>14:99:1E</td>\n      <td>2022-03-23 15:08:55</td>\n      <td>5</td>\n      <td>kN</td>\n      <td>ABS</td>\n      <td>n/a</td>\n      <td>1280</td>\n      <td>0.8</td>\n      <td>0.0</td>\n      <td>...</td>\n      <td>0.9</td>\n      <td>2022-03-23 15:08:55</td>\n      <td>2022-03-23 15:09:11.199296875</td>\n      <td>16.199296</td>\n      <td>23040</td>\n      <td>(4730, 1.16)</td>\n      <td>0.108828</td>\n      <td>0.06</td>\n      <td>(73, 0.0)</td>\n      <td>NaN</td>\n    </tr>\n  </tbody>\n</table>\n<p>5 rows × 23 columns</p>\n</div>"
     },
     "execution_count": 6,
     "metadata": {},
     "output_type": "execute_result"
    }
   ],
   "source": [
    "ls3_metadata_df = ls3_series.metadata_df\n",
    "ls3_metadata_df.head()"
   ],
   "metadata": {
    "collapsed": false,
    "ExecuteTime": {
     "end_time": "2025-03-23T10:51:26.671082900Z",
     "start_time": "2025-03-23T10:51:26.600285Z"
    }
   }
  },
  {
   "cell_type": "markdown",
   "source": [
    "## Daten Export"
   ],
   "metadata": {
    "collapsed": false
   }
  },
  {
   "cell_type": "code",
   "execution_count": 7,
   "outputs": [],
   "source": [
    "ls3_metadata_df.to_feather(data_export_directory/\"ls3_metadata.feather\")"
   ],
   "metadata": {
    "collapsed": false,
    "ExecuteTime": {
     "end_time": "2025-03-23T10:54:56.288958900Z",
     "start_time": "2025-03-23T10:54:56.235256700Z"
    }
   }
  }
 ],
 "metadata": {
  "kernelspec": {
   "display_name": "Python 3 (ipykernel)",
   "language": "python",
   "name": "python3"
  },
  "language_info": {
   "codemirror_mode": {
    "name": "ipython",
    "version": 3
   },
   "file_extension": ".py",
   "mimetype": "text/x-python",
   "name": "python",
   "nbconvert_exporter": "python",
   "pygments_lexer": "ipython3",
   "version": "3.11.2"
  }
 },
 "nbformat": 4,
 "nbformat_minor": 4
}
