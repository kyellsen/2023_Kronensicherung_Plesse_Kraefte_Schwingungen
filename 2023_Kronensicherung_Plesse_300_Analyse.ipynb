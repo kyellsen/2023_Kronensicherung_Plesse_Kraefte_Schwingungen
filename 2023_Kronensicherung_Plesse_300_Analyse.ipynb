{
 "cells": [
  {
   "cell_type": "markdown",
   "metadata": {},
   "source": [
    "---\n",
    "title: \"2023_Kronensicherung_Plesse_Analyse\"\n",
    "author: \"Kyell Jensen\"\n",
    "date: \"2024-08-06\"\n",
    "format: pdf\n",
    "editor: visual\n",
    "---"
   ]
  },
  {
   "cell_type": "markdown",
   "metadata": {
    "collapsed": false
   },
   "source": [
    "# 2023_Kronensicherung_Plesse_Analyse\n",
    "\n",
    "## Kombinierte Analyse LineScale3, TreeQinetic und Versuchsaufzeichung\n",
    "\n",
    "Nutze eine geeignete Python 3.11 Umgebung (z. B. virtuelle Environment)."
   ]
  },
  {
   "cell_type": "markdown",
   "source": [
    "## Arbeitsumgebung vorbereiten"
   ],
   "metadata": {
    "collapsed": false
   }
  },
  {
   "cell_type": "markdown",
   "source": [
    "### IMPORT: Packages"
   ],
   "metadata": {
    "collapsed": false
   }
  },
  {
   "cell_type": "code",
   "execution_count": 11,
   "metadata": {
    "ExecuteTime": {
     "end_time": "2025-05-28T07:59:39.100727Z",
     "start_time": "2025-05-28T07:59:38.894490900Z"
    }
   },
   "outputs": [],
   "source": [
    "# Struktur & Typen\n",
    "from pathlib import Path\n",
    "from typing import Dict, List\n",
    "\n",
    "# Datenverarbeitung\n",
    "import json\n",
    "import numpy as np\n",
    "import pandas as pd\n",
    "from pandas.api.types import CategoricalDtype\n",
    "from slugify import slugify  # Zum Vereinheitlichen von Strings\n",
    "\n",
    "# Plotting\n",
    "import matplotlib.pyplot as plt\n",
    "import seaborn as sns\n",
    "from IPython.display import Markdown, display\n",
    "\n",
    "# Statistik\n",
    "from scipy.stats import linregress, f_oneway\n",
    "import statsmodels.api as sm\n",
    "import statsmodels.formula.api as smf\n",
    "import statsmodels.stats.multicomp as mc"
   ]
  },
  {
   "cell_type": "code",
   "execution_count": 12,
   "outputs": [],
   "source": [
    "# Eigene Module und Funktionen\n",
    "from kj_core.utils.latex_export import (\n",
    "    generate_latex_table,\n",
    "    generate_grouped_latex_tables,\n",
    "    save_latex_table,\n",
    "    build_data_dict_df\n",
    ")\n",
    "from kj_core.utils.labeling import (\n",
    "    get_label_from_dict,\n",
    "    get_color_dict\n",
    ")\n",
    "from kj_core import (\n",
    "    CoreConfig,\n",
    "    PlotManager,\n",
    "    get_logger\n",
    ")\n",
    "\n",
    "# Projekteinstellungen\n",
    "from project_config import (\n",
    "    working_directory,\n",
    "    data_export_directory,\n",
    "    latex_export_directory,\n",
    "    filename_clean_dataset,\n",
    "    filename_clean_data_dict\n",
    ")"
   ],
   "metadata": {
    "collapsed": false,
    "ExecuteTime": {
     "end_time": "2025-05-28T07:59:39.100727Z",
     "start_time": "2025-05-28T07:59:38.939896600Z"
    }
   }
  },
  {
   "cell_type": "markdown",
   "source": [
    "### IMPORT: Manager Instanzen"
   ],
   "metadata": {
    "collapsed": false
   }
  },
  {
   "cell_type": "code",
   "execution_count": 13,
   "outputs": [
    {
     "name": "stderr",
     "output_type": "stream",
     "text": [
      "2025-05-28 09:59:38 [\u001B[92mINFO\u001B[0m] kj_core.core_config.set_working_directory: The directory C:\\kyellsen\\005_Projekte\\2024_BA\\032_Feldversuch_2023_Plesse\\030_Analysen\\2023_Kronensicherung_Plesse_Kraefte_Schwingungen\\working_directory\\combined was successfully created.\n",
      "2025-05-28 09:59:38 [\u001B[92mINFO\u001B[0m] kj_core.core_config.set_working_directory: Working directory set to C:\\kyellsen\\005_Projekte\\2024_BA\\032_Feldversuch_2023_Plesse\\030_Analysen\\2023_Kronensicherung_Plesse_Kraefte_Schwingungen\\working_directory\\combined!\n",
      "2025-05-28 09:59:38 [\u001B[92mINFO\u001B[0m] kj_core.core_config.__init__: <CoreConfig>\n",
      "  Package:            kj_core\n",
      "  Working Directory:  C:\\kyellsen\\005_Projekte\\2024_BA\\032_Feldversuch_2023_Plesse\\030_Analysen\\2023_Kronensicherung_Plesse_Kraefte_Schwingungen\\working_directory\\combined\n",
      "  Plot Directory:     C:\\kyellsen\\005_Projekte\\2024_BA\\032_Feldversuch_2023_Plesse\\030_Analysen\\2023_Kronensicherung_Plesse_Kraefte_Schwingungen\\working_directory\\combined\\plots\n",
      "  Data Directory:     C:\\kyellsen\\005_Projekte\\2024_BA\\032_Feldversuch_2023_Plesse\\030_Analysen\\2023_Kronensicherung_Plesse_Kraefte_Schwingungen\\working_directory\\combined\\data\n",
      "  Database Directory: C:\\kyellsen\\005_Projekte\\2024_BA\\032_Feldversuch_2023_Plesse\\030_Analysen\\2023_Kronensicherung_Plesse_Kraefte_Schwingungen\\working_directory\\combined\\databases\n",
      " initialized! Code: 001\n",
      "2025-05-28 09:59:38 [\u001B[92mINFO\u001B[0m] kj_core.utils.plot_manager.__init__: <PlotManager>\n",
      "  Plot Directory:    C:\\kyellsen\\005_Projekte\\2024_BA\\032_Feldversuch_2023_Plesse\\030_Analysen\\2023_Kronensicherung_Plesse_Kraefte_Schwingungen\\working_directory\\combined\\plots\n",
      "  DPI:               300\n",
      "  Figure Size:       (8, 6)\n",
      "  Seaborn Style:     'whitegrid'\n",
      "  Color Palette:     'bright'\n",
      "  Grid Enabled:      True\n",
      "  Wide Format:       True\n",
      "  From Config:       CoreConfig\n",
      " initialized! Code: 005\n"
     ]
    }
   ],
   "source": [
    "CONFIG = CoreConfig(working_directory=f\"{working_directory}/combined\")\n",
    "PLOT_MANAGER = PlotManager(CONFIG)\n",
    "logger = get_logger(__name__)"
   ],
   "metadata": {
    "collapsed": false,
    "ExecuteTime": {
     "end_time": "2025-05-28T07:59:39.101705900Z",
     "start_time": "2025-05-28T07:59:38.953600200Z"
    }
   }
  },
  {
   "cell_type": "markdown",
   "source": [
    "## IMPORT: Daten Import"
   ],
   "metadata": {
    "collapsed": false
   }
  },
  {
   "cell_type": "code",
   "execution_count": 14,
   "outputs": [],
   "source": [
    "# Dateien laden\n",
    "df = pd.read_feather(data_export_directory / filename_clean_dataset)\n",
    "\n",
    "with open(data_export_directory / filename_clean_data_dict, \"r\", encoding=\"utf-8\") as f:\n",
    "    data_dict = json.load(f)"
   ],
   "metadata": {
    "collapsed": false,
    "ExecuteTime": {
     "end_time": "2025-05-28T07:59:39.102748300Z",
     "start_time": "2025-05-28T07:59:38.973816100Z"
    }
   }
  },
  {
   "cell_type": "markdown",
   "source": [
    "## ANALYSE: Explorative Datenanalyse"
   ],
   "metadata": {
    "collapsed": false
   }
  },
  {
   "cell_type": "code",
   "execution_count": 15,
   "outputs": [
    {
     "data": {
      "text/plain": "<IPython.core.display.Markdown object>",
      "text/markdown": "|    | Variable                | Kategorie       | Zeichen                        | Deutsch                              | Datentyp   | Einheit   | Beschreibung                                                              |\n|----|-------------------------|-----------------|--------------------------------|--------------------------------------|------------|-----------|---------------------------------------------------------------------------|\n|  0 | id                      | ptq             | ID                             | ID Messung                           | int64      | -         | Eindeutige ID der Messung                                                 |\n|  1 | rope_datetime           | ls3             | $t$                            | Zeitstempel                          | object     | -         | Startzeitpunkt der Messung laut Gerät                                     |\n|  2 | treatment               | series          | treatment                      | Behandlung                           | category   | -         | Art der KS: \\texttt{free}, \\texttt{gefa\\_dynamic}, \\texttt{cobra\\_static} |\n|  3 | release_force_target    | series          | $F_{\\mathrm{release,target}}$  | Vorspannkraft-Soll                   | float64    | kN        | Geplante Vorspannkraft im Zugseil bei Release                             |\n|  4 | rope_release            | ls3             | $F_{\\mathrm{release}}$         | Vorspannkraft-Ist                    | float64    | kN        | Tatsächlich realisierte Vorspannkraft im Zugseil bei Release              |\n|  5 | cable_max_force         | ls3             | $F_{\\mathrm{cable, max}}$      | Kraftspitze KS                       | float      | kN        | Maximale gemessene Kraftspitze in der KS                                  |\n|  6 | cable_integral          | ls3             | $\\int F\\,dt$                   | Kraftintegral                        | float      | kN·s      | Zeitliches Integral der Kraft (Fläche unter der Kraft-Zeit-Kurve)         |\n|  7 | sensor_name             | ptq             | sensor                         | Sensorname                           | object     | -         | Bezeichnung des Elastometers                                              |\n|  8 | location                | sensor_position | location                       | Position                             | string     | -         | Position des Sensors am Stamm                                             |\n|  9 | direction               | sensor_position | direction                      | Richtung                             | string     | -         | Zug- oder Druckseite                                                      |\n| 10 | height                  | sensor_position | $h$                            | Höhe                                 | Float64    | m         | Höhe des Sensors am Stamm                                                 |\n| 11 | diameter                | sensor_position | $d$                            | Durchmesser                          | Float64    | cm        | Durchmesser des Stammes                                                   |\n| 12 | max_strain              | ptq             | $\\Delta L_{\\mathrm{max}}$      | Dehnung max. gemessen                | float64    | $\\mu$m    | Gemessene maximale absolute Randfaserdehnung                              |\n| 13 | max_compression         | ptq             | $\\Delta L_{\\mathrm{comp,max}}$ | Stauchung max. gemessen              | float64    | $\\mu$m    | Gemessene maximale absolute Randfaserstauchung                            |\n| 14 | m_amplitude             | ptq_osc         | $mA$                           | Manuelle Amplitude                   | float64    | $\\mu$m    | Manuell berechnete Amplitude über den Schwingungsabschnitt                |\n| 15 | m_amplitude_2           | ptq_osc         | $mA_2$                         | Manuelle Amplitude 2                 | float64    | $\\mu$m    | Manuell berechnete Amplitude zwischen 2. Peak und Minimum                 |\n| 16 | initial_amplitude       | ptq_osc         | $A$                            | Anfangsamplitude                     | float64    | $\\mu$m    | Initiale Amplitude der angepassten Schwingung                             |\n| 17 | damping_coeff           | ptq_osc         | $\\delta$                       | Dämpfungskoeffizient                 | float64    | 1/s       | Koeffizient der exponentiellen Dämpfung                                   |\n| 18 | frequency_damped        | ptq_osc         | $f_{\\mathrm{d}}$               | Gedämpfte Frequenz                   | float64    | Hz        | Frequenz der gedämpften Schwingung                                        |\n| 19 | phase_angle             | ptq_osc         | $\\varphi$                      | Phasenwinkel                         | float64    | rad       | Anfangsphase der Schwingung                                               |\n| 20 | y_shift                 | ptq_osc         | $y_0$                          | Vertikaler Versatz                   | float64    | $\\mu$m    | Vertikaler Offset der Schwingung                                          |\n| 21 | x_shift                 | ptq_osc         | $t_0$                          | Zeitverschiebung                     | float64    | s         | Horizontale Verschiebung der Schwingung                                   |\n| 22 | frequency_undamped      | ptq_osc         | $f_0$                          | Ungedämpfte Frequenz                 | float64    | Hz        | Frequenz der ungedämpften Schwingung                                      |\n| 23 | damping_ratio           | ptq_osc         | $D$                            | Dämpfungsgrad                        | float64    | -         | Verhältnis von Dämpfung zu Frequenz                                       |\n| 24 | metrics_warning         | ptq_osc         | warning                        | Fit-Warnung                          | bool       | -         | Warnung, wenn Qualitätsmetrik Schwellenwerte unterschreitet               |\n| 25 | pearson_r               | ptq_osc_metric  | $r$                            | Pearson-Korrelation                  | float64    | -         | Korrelationskoeffizient der Anpassung                                     |\n| 26 | nrmse                   | ptq_osc_metric  | $\\mathrm{NRMSE}$               | Normalisierter RMSE                  | float64    | -         | Normalisierter mittlerer quadratischer Fehler                             |\n| 27 | nmae                    | ptq_osc_metric  | $\\mathrm{NMAE}$                | Normalisierter MAE                   | float64    | -         | Normalisierter mittlerer absoluter Fehler                                 |\n| 28 | calc_max_strain         | calc_strain     | $\\Delta L_{\\mathrm{calc,max}}$ | Dehnung max. berechnet               | float64    | $\\mu$m    | Berechnete maximale Randfaserdehnung                                      |\n| 29 | calc_max_strain_relativ | calc_strain     | $\\Delta L_{\\mathrm{calc,rel}}$ | Berechnete maximale Randfaserdehnung | float64    | $\\mu$m    | Differenz gemessene und berechnete maximale Randfaserdehnung              |\n| 30 | strain_difference       | calc_strain     | $\\Delta \\varepsilon$           | Differenz der Faserdehnung           | float64    | \\%        | Relative Differenz der berechneten und gemessenen max. Dehnung            |"
     },
     "metadata": {},
     "output_type": "display_data"
    }
   ],
   "source": [
    "# In DataFrame umwandeln\n",
    "data_dict_df= build_data_dict_df(data_dict)\n",
    "\n",
    "# In Markdown umwandeln und anzeigen\n",
    "md_text = data_dict_df.to_markdown(tablefmt=\"github\")\n",
    "display(Markdown(md_text))"
   ],
   "metadata": {
    "collapsed": false,
    "ExecuteTime": {
     "end_time": "2025-05-28T07:59:39.169670200Z",
     "start_time": "2025-05-28T07:59:39.088702700Z"
    }
   }
  },
  {
   "cell_type": "code",
   "execution_count": 16,
   "outputs": [
    {
     "data": {
      "text/plain": "    id       rope_datetime treatment  release_force_target  rope_release  \\\n4    2 2022-03-23 11:24:23      free                   2.8       2.72310   \n5    2 2022-03-23 11:24:23      free                   2.8       2.72310   \n6    2 2022-03-23 11:24:23      free                   2.8       2.72310   \n7    2 2022-03-23 11:24:23      free                   2.8       2.72310   \n8    3 2022-03-23 11:31:12      free                   2.8       2.76205   \n9    3 2022-03-23 11:31:12      free                   2.8       2.76205   \n10   3 2022-03-23 11:31:12      free                   2.8       2.76205   \n11   3 2022-03-23 11:31:12      free                   2.8       2.76205   \n12   4 2022-03-23 11:54:33      free                   2.8       2.73950   \n13   4 2022-03-23 11:54:33      free                   2.8       2.73950   \n\n    cable_max_force  cable_integral sensor_name location   direction  ...  \\\n4               NaN             0.0  Elasto(90)      StB  elongation  ...   \n5               NaN             0.0  Elasto(92)      StB  elongation  ...   \n6               NaN             0.0  Elasto(95)      StA  elongation  ...   \n7               NaN             0.0  Elasto(98)      StA  elongation  ...   \n8               NaN             0.0  Elasto(90)      StB  elongation  ...   \n9               NaN             0.0  Elasto(92)      StB  elongation  ...   \n10              NaN             0.0  Elasto(95)      StA  elongation  ...   \n11              NaN             0.0  Elasto(98)      StA  elongation  ...   \n12              NaN             0.0  Elasto(90)      StB  elongation  ...   \n13              NaN             0.0  Elasto(92)      StB  elongation  ...   \n\n    frequency_damped  phase_angle    y_shift   x_shift  frequency_undamped  \\\n4           0.441518     0.200000  -5.287164  0.116641            0.442936   \n5           0.432441    -0.200000 -14.233644 -0.009730            0.436601   \n6           0.422702    -0.200000 -19.011309 -0.123043            0.426319   \n7           0.443529    -0.065967  -1.099515  0.118608            0.445993   \n8           0.440653     0.200000   7.775284  0.097887            0.441317   \n9           0.439321    -0.075771   7.052210  0.094719            0.441380   \n10          0.436023    -0.200000  -3.785755 -0.075741            0.438127   \n11          0.441350    -0.200000 -17.747289 -0.203345            0.442888   \n12          0.439065     0.200000 -23.445975  0.120929            0.439764   \n13          0.436850    -0.200000 -19.454720  0.061912            0.438829   \n\n    damping_ratio  metrics_warning  pearson_r     nrmse      nmae  \n4        0.503994            False   0.943158  0.038866  0.018011  \n5        0.873595            False   0.929554  0.034560  0.016183  \n6        0.823807            False   0.908058  0.044873  0.024274  \n7        0.663224            False   0.980663  0.029621  0.021087  \n8        0.344951            False   0.957380  0.043035  0.018619  \n9        0.608931            False   0.933463  0.043534  0.021255  \n10       0.618021            False   0.938307  0.039020  0.022498  \n11       0.525070            False   0.974139  0.028693  0.020715  \n12       0.354677            False   0.945320  0.049764  0.021509  \n13       0.598701            False   0.922665  0.050822  0.020659  \n\n[10 rows x 33 columns]",
      "text/html": "<div>\n<style scoped>\n    .dataframe tbody tr th:only-of-type {\n        vertical-align: middle;\n    }\n\n    .dataframe tbody tr th {\n        vertical-align: top;\n    }\n\n    .dataframe thead th {\n        text-align: right;\n    }\n</style>\n<table border=\"1\" class=\"dataframe\">\n  <thead>\n    <tr style=\"text-align: right;\">\n      <th></th>\n      <th>id</th>\n      <th>rope_datetime</th>\n      <th>treatment</th>\n      <th>release_force_target</th>\n      <th>rope_release</th>\n      <th>cable_max_force</th>\n      <th>cable_integral</th>\n      <th>sensor_name</th>\n      <th>location</th>\n      <th>direction</th>\n      <th>...</th>\n      <th>frequency_damped</th>\n      <th>phase_angle</th>\n      <th>y_shift</th>\n      <th>x_shift</th>\n      <th>frequency_undamped</th>\n      <th>damping_ratio</th>\n      <th>metrics_warning</th>\n      <th>pearson_r</th>\n      <th>nrmse</th>\n      <th>nmae</th>\n    </tr>\n  </thead>\n  <tbody>\n    <tr>\n      <th>4</th>\n      <td>2</td>\n      <td>2022-03-23 11:24:23</td>\n      <td>free</td>\n      <td>2.8</td>\n      <td>2.72310</td>\n      <td>NaN</td>\n      <td>0.0</td>\n      <td>Elasto(90)</td>\n      <td>StB</td>\n      <td>elongation</td>\n      <td>...</td>\n      <td>0.441518</td>\n      <td>0.200000</td>\n      <td>-5.287164</td>\n      <td>0.116641</td>\n      <td>0.442936</td>\n      <td>0.503994</td>\n      <td>False</td>\n      <td>0.943158</td>\n      <td>0.038866</td>\n      <td>0.018011</td>\n    </tr>\n    <tr>\n      <th>5</th>\n      <td>2</td>\n      <td>2022-03-23 11:24:23</td>\n      <td>free</td>\n      <td>2.8</td>\n      <td>2.72310</td>\n      <td>NaN</td>\n      <td>0.0</td>\n      <td>Elasto(92)</td>\n      <td>StB</td>\n      <td>elongation</td>\n      <td>...</td>\n      <td>0.432441</td>\n      <td>-0.200000</td>\n      <td>-14.233644</td>\n      <td>-0.009730</td>\n      <td>0.436601</td>\n      <td>0.873595</td>\n      <td>False</td>\n      <td>0.929554</td>\n      <td>0.034560</td>\n      <td>0.016183</td>\n    </tr>\n    <tr>\n      <th>6</th>\n      <td>2</td>\n      <td>2022-03-23 11:24:23</td>\n      <td>free</td>\n      <td>2.8</td>\n      <td>2.72310</td>\n      <td>NaN</td>\n      <td>0.0</td>\n      <td>Elasto(95)</td>\n      <td>StA</td>\n      <td>elongation</td>\n      <td>...</td>\n      <td>0.422702</td>\n      <td>-0.200000</td>\n      <td>-19.011309</td>\n      <td>-0.123043</td>\n      <td>0.426319</td>\n      <td>0.823807</td>\n      <td>False</td>\n      <td>0.908058</td>\n      <td>0.044873</td>\n      <td>0.024274</td>\n    </tr>\n    <tr>\n      <th>7</th>\n      <td>2</td>\n      <td>2022-03-23 11:24:23</td>\n      <td>free</td>\n      <td>2.8</td>\n      <td>2.72310</td>\n      <td>NaN</td>\n      <td>0.0</td>\n      <td>Elasto(98)</td>\n      <td>StA</td>\n      <td>elongation</td>\n      <td>...</td>\n      <td>0.443529</td>\n      <td>-0.065967</td>\n      <td>-1.099515</td>\n      <td>0.118608</td>\n      <td>0.445993</td>\n      <td>0.663224</td>\n      <td>False</td>\n      <td>0.980663</td>\n      <td>0.029621</td>\n      <td>0.021087</td>\n    </tr>\n    <tr>\n      <th>8</th>\n      <td>3</td>\n      <td>2022-03-23 11:31:12</td>\n      <td>free</td>\n      <td>2.8</td>\n      <td>2.76205</td>\n      <td>NaN</td>\n      <td>0.0</td>\n      <td>Elasto(90)</td>\n      <td>StB</td>\n      <td>elongation</td>\n      <td>...</td>\n      <td>0.440653</td>\n      <td>0.200000</td>\n      <td>7.775284</td>\n      <td>0.097887</td>\n      <td>0.441317</td>\n      <td>0.344951</td>\n      <td>False</td>\n      <td>0.957380</td>\n      <td>0.043035</td>\n      <td>0.018619</td>\n    </tr>\n    <tr>\n      <th>9</th>\n      <td>3</td>\n      <td>2022-03-23 11:31:12</td>\n      <td>free</td>\n      <td>2.8</td>\n      <td>2.76205</td>\n      <td>NaN</td>\n      <td>0.0</td>\n      <td>Elasto(92)</td>\n      <td>StB</td>\n      <td>elongation</td>\n      <td>...</td>\n      <td>0.439321</td>\n      <td>-0.075771</td>\n      <td>7.052210</td>\n      <td>0.094719</td>\n      <td>0.441380</td>\n      <td>0.608931</td>\n      <td>False</td>\n      <td>0.933463</td>\n      <td>0.043534</td>\n      <td>0.021255</td>\n    </tr>\n    <tr>\n      <th>10</th>\n      <td>3</td>\n      <td>2022-03-23 11:31:12</td>\n      <td>free</td>\n      <td>2.8</td>\n      <td>2.76205</td>\n      <td>NaN</td>\n      <td>0.0</td>\n      <td>Elasto(95)</td>\n      <td>StA</td>\n      <td>elongation</td>\n      <td>...</td>\n      <td>0.436023</td>\n      <td>-0.200000</td>\n      <td>-3.785755</td>\n      <td>-0.075741</td>\n      <td>0.438127</td>\n      <td>0.618021</td>\n      <td>False</td>\n      <td>0.938307</td>\n      <td>0.039020</td>\n      <td>0.022498</td>\n    </tr>\n    <tr>\n      <th>11</th>\n      <td>3</td>\n      <td>2022-03-23 11:31:12</td>\n      <td>free</td>\n      <td>2.8</td>\n      <td>2.76205</td>\n      <td>NaN</td>\n      <td>0.0</td>\n      <td>Elasto(98)</td>\n      <td>StA</td>\n      <td>elongation</td>\n      <td>...</td>\n      <td>0.441350</td>\n      <td>-0.200000</td>\n      <td>-17.747289</td>\n      <td>-0.203345</td>\n      <td>0.442888</td>\n      <td>0.525070</td>\n      <td>False</td>\n      <td>0.974139</td>\n      <td>0.028693</td>\n      <td>0.020715</td>\n    </tr>\n    <tr>\n      <th>12</th>\n      <td>4</td>\n      <td>2022-03-23 11:54:33</td>\n      <td>free</td>\n      <td>2.8</td>\n      <td>2.73950</td>\n      <td>NaN</td>\n      <td>0.0</td>\n      <td>Elasto(90)</td>\n      <td>StB</td>\n      <td>elongation</td>\n      <td>...</td>\n      <td>0.439065</td>\n      <td>0.200000</td>\n      <td>-23.445975</td>\n      <td>0.120929</td>\n      <td>0.439764</td>\n      <td>0.354677</td>\n      <td>False</td>\n      <td>0.945320</td>\n      <td>0.049764</td>\n      <td>0.021509</td>\n    </tr>\n    <tr>\n      <th>13</th>\n      <td>4</td>\n      <td>2022-03-23 11:54:33</td>\n      <td>free</td>\n      <td>2.8</td>\n      <td>2.73950</td>\n      <td>NaN</td>\n      <td>0.0</td>\n      <td>Elasto(92)</td>\n      <td>StB</td>\n      <td>elongation</td>\n      <td>...</td>\n      <td>0.436850</td>\n      <td>-0.200000</td>\n      <td>-19.454720</td>\n      <td>0.061912</td>\n      <td>0.438829</td>\n      <td>0.598701</td>\n      <td>False</td>\n      <td>0.922665</td>\n      <td>0.050822</td>\n      <td>0.020659</td>\n    </tr>\n  </tbody>\n</table>\n<p>10 rows × 33 columns</p>\n</div>"
     },
     "execution_count": 16,
     "metadata": {},
     "output_type": "execute_result"
    }
   ],
   "source": [
    "df.head(10)"
   ],
   "metadata": {
    "collapsed": false,
    "ExecuteTime": {
     "end_time": "2025-05-28T07:59:39.182483300Z",
     "start_time": "2025-05-28T07:59:39.139669300Z"
    }
   }
  },
  {
   "cell_type": "code",
   "execution_count": 17,
   "outputs": [
    {
     "data": {
      "text/plain": "Index(['id', 'rope_datetime', 'treatment', 'release_force_target',\n       'rope_release', 'cable_max_force', 'cable_integral', 'sensor_name',\n       'location', 'direction', 'height', 'diameter', 'max_strain',\n       'max_compression', 'integral_intercept', 'integral_positiv',\n       'integral_negativ', 'integral_abs', 'integral_ratio', 'm_amplitude',\n       'm_amplitude_2', 'initial_amplitude', 'damping_coeff',\n       'frequency_damped', 'phase_angle', 'y_shift', 'x_shift',\n       'frequency_undamped', 'damping_ratio', 'metrics_warning', 'pearson_r',\n       'nrmse', 'nmae'],\n      dtype='object')"
     },
     "execution_count": 17,
     "metadata": {},
     "output_type": "execute_result"
    }
   ],
   "source": [
    "df.columns"
   ],
   "metadata": {
    "collapsed": false,
    "ExecuteTime": {
     "end_time": "2025-05-28T07:59:39.183482400Z",
     "start_time": "2025-05-28T07:59:39.174835500Z"
    }
   }
  },
  {
   "cell_type": "markdown",
   "source": [
    "### COMBINED: Definition von Darstellungsstandards\n",
    "Festlegen von Farbcodes für einheitliche Darstellung von Sensoren und Behandlungsvarianten für alle nachfolgenden Plots."
   ],
   "metadata": {
    "collapsed": false
   }
  },
  {
   "cell_type": "code",
   "execution_count": 18,
   "outputs": [
    {
     "name": "stdout",
     "output_type": "stream",
     "text": [
      "Index(['free', 'gefa_dynamic', 'cobra_static'], dtype='object')\n",
      "Index(['Elasto(90)', 'Elasto(92)', 'Elasto(95)', 'Elasto(98)'], dtype='object')\n"
     ]
    }
   ],
   "source": [
    "color_palette = PLOT_MANAGER.color_palette_list\n",
    "\n",
    "# Für die Spalte \"treatment\":\n",
    "treatment_color_dict = get_color_dict(df, \"treatment\", PLOT_MANAGER.color_palette_list)\n",
    "# Für die Spalte \"sensor_name\":\n",
    "sensor_color_dict = get_color_dict(df, \"sensor_name\", PLOT_MANAGER.color_palette_list)"
   ],
   "metadata": {
    "collapsed": false,
    "ExecuteTime": {
     "end_time": "2025-05-28T07:59:39.208809100Z",
     "start_time": "2025-05-28T07:59:39.183482400Z"
    }
   }
  },
  {
   "cell_type": "markdown",
   "source": [
    "### Spitzenlasten in der KS, maximale Messung Beispieldaten"
   ],
   "metadata": {
    "collapsed": false
   }
  },
  {
   "cell_type": "code",
   "execution_count": 19,
   "outputs": [
    {
     "data": {
      "text/plain": "id                                       22\nrope_datetime           2022-03-23 16:21:50\ntreatment                      cobra_static\nrelease_force_target                    2.8\nrope_release                         2.7807\ncable_max_force                        3.09\ncable_integral                     1.435639\nsensor_name                      Elasto(90)\nlocation                                StB\ndirection                        elongation\nheight                                16.55\ndiameter                            0.18462\nmax_strain                            382.4\nmax_compression                       -67.8\nintegral_intercept                 2.328604\nintegral_positiv                 282.137716\nintegral_negativ                 145.997227\nintegral_abs                     428.134943\nintegral_ratio                     1.932487\nm_amplitude                           224.3\nm_amplitude_2                         75.55\ninitial_amplitude                 169.98753\ndamping_coeff                      0.361833\nfrequency_damped                   0.546096\nphase_angle                       -0.074058\ny_shift                            0.057425\nx_shift                            0.327542\nfrequency_undamped                 0.549124\ndamping_ratio                      0.662581\nmetrics_warning                       False\npearson_r                          0.821467\nnrmse                               0.07903\nnmae                               0.026708\nName: 84, dtype: object"
     },
     "execution_count": 19,
     "metadata": {},
     "output_type": "execute_result"
    }
   ],
   "source": [
    "# Filtern der Einträge mit dem maximalen Wert in 'cable_max_force'\n",
    "max_cable_max_force = df['cable_max_force'].max()\n",
    "filtered_df = df[df['cable_max_force'] == max_cable_max_force]\n",
    "\n",
    "# Innerhalb der gefilterten Einträge den maximalen 'max_strain' finden\n",
    "max_value_row = filtered_df.loc[filtered_df['max_strain'].idxmax()]\n",
    "max_value_row"
   ],
   "metadata": {
    "collapsed": false,
    "ExecuteTime": {
     "end_time": "2025-05-28T07:59:39.285033300Z",
     "start_time": "2025-05-28T07:59:39.196798100Z"
    }
   }
  },
  {
   "cell_type": "code",
   "execution_count": 20,
   "outputs": [
    {
     "data": {
      "text/plain": "                           Zeichen                  Deutsch          Wert  \\\n0                               ID               ID Messung            22   \n1                        treatment               Behandlung  cobra-static   \n2    $F_{\\mathrm{release,target}}$       Vorspannkraft-Soll           2.8   \n3           $F_{\\mathrm{release}}$        Vorspannkraft-Ist        2.7807   \n4        $F_{\\mathrm{cable, max}}$           Kraftspitze KS          3.09   \n5                           sensor               Sensorname    Elasto(90)   \n6                         location                 Position           StB   \n7                              $h$                     Höhe         16.55   \n8                              $d$              Durchmesser       0.18462   \n9        $\\Delta L_{\\mathrm{max}}$    Dehnung max. gemessen         382.4   \n10  $\\Delta L_{\\mathrm{comp,max}}$  Stauchung max. gemessen         -67.8   \n\n   Einheit  \n0        -  \n1        -  \n2       kN  \n3       kN  \n4       kN  \n5        -  \n6        -  \n7        m  \n8       cm  \n9   $\\mu$m  \n10  $\\mu$m  ",
      "text/html": "<div>\n<style scoped>\n    .dataframe tbody tr th:only-of-type {\n        vertical-align: middle;\n    }\n\n    .dataframe tbody tr th {\n        vertical-align: top;\n    }\n\n    .dataframe thead th {\n        text-align: right;\n    }\n</style>\n<table border=\"1\" class=\"dataframe\">\n  <thead>\n    <tr style=\"text-align: right;\">\n      <th></th>\n      <th>Zeichen</th>\n      <th>Deutsch</th>\n      <th>Wert</th>\n      <th>Einheit</th>\n    </tr>\n  </thead>\n  <tbody>\n    <tr>\n      <th>0</th>\n      <td>ID</td>\n      <td>ID Messung</td>\n      <td>22</td>\n      <td>-</td>\n    </tr>\n    <tr>\n      <th>1</th>\n      <td>treatment</td>\n      <td>Behandlung</td>\n      <td>cobra-static</td>\n      <td>-</td>\n    </tr>\n    <tr>\n      <th>2</th>\n      <td>$F_{\\mathrm{release,target}}$</td>\n      <td>Vorspannkraft-Soll</td>\n      <td>2.8</td>\n      <td>kN</td>\n    </tr>\n    <tr>\n      <th>3</th>\n      <td>$F_{\\mathrm{release}}$</td>\n      <td>Vorspannkraft-Ist</td>\n      <td>2.7807</td>\n      <td>kN</td>\n    </tr>\n    <tr>\n      <th>4</th>\n      <td>$F_{\\mathrm{cable, max}}$</td>\n      <td>Kraftspitze KS</td>\n      <td>3.09</td>\n      <td>kN</td>\n    </tr>\n    <tr>\n      <th>5</th>\n      <td>sensor</td>\n      <td>Sensorname</td>\n      <td>Elasto(90)</td>\n      <td>-</td>\n    </tr>\n    <tr>\n      <th>6</th>\n      <td>location</td>\n      <td>Position</td>\n      <td>StB</td>\n      <td>-</td>\n    </tr>\n    <tr>\n      <th>7</th>\n      <td>$h$</td>\n      <td>Höhe</td>\n      <td>16.55</td>\n      <td>m</td>\n    </tr>\n    <tr>\n      <th>8</th>\n      <td>$d$</td>\n      <td>Durchmesser</td>\n      <td>0.18462</td>\n      <td>cm</td>\n    </tr>\n    <tr>\n      <th>9</th>\n      <td>$\\Delta L_{\\mathrm{max}}$</td>\n      <td>Dehnung max. gemessen</td>\n      <td>382.4</td>\n      <td>$\\mu$m</td>\n    </tr>\n    <tr>\n      <th>10</th>\n      <td>$\\Delta L_{\\mathrm{comp,max}}$</td>\n      <td>Stauchung max. gemessen</td>\n      <td>-67.8</td>\n      <td>$\\mu$m</td>\n    </tr>\n  </tbody>\n</table>\n</div>"
     },
     "execution_count": 20,
     "metadata": {},
     "output_type": "execute_result"
    }
   ],
   "source": [
    "# Liste der gewünschten Spalten in der gewünschten Reihenfolge\n",
    "columns_to_display = [\n",
    "    'id', 'treatment', 'release_force_target', 'rope_release', \n",
    "    'cable_max_force', 'sensor_name', 'location', 'height', 'diameter', 'max_strain', 'max_compression'\n",
    "]\n",
    "\n",
    "# Zeile auf die gewünschten Spalten in der angegebenen Reihenfolge beschränken\n",
    "max_value_row_filtered = max_value_row[columns_to_display]\n",
    "\n",
    "max_value_row_filtered['treatment'] = slugify(max_value_row_filtered['treatment'])\n",
    "\n",
    "# Erstelle ein DataFrame mit den zusätzlichen Informationen aus `data_dict`\n",
    "expanded_data = []\n",
    "for col in columns_to_display:\n",
    "    expanded_data.append({\n",
    "        \"Zeichen\": data_dict[col][\"Zeichen\"],\n",
    "        \"Deutsch\": data_dict[col][\"Deutsch\"],\n",
    "        \"Wert\": max_value_row_filtered[col],\n",
    "        \"Einheit\": data_dict[col][\"Einheit\"],\n",
    "    })\n",
    "\n",
    "# Neues DataFrame erstellen\n",
    "expanded_df = pd.DataFrame(expanded_data)\n",
    "expanded_df"
   ],
   "metadata": {
    "collapsed": false,
    "ExecuteTime": {
     "end_time": "2025-05-28T07:59:39.289032700Z",
     "start_time": "2025-05-28T07:59:39.217815900Z"
    }
   }
  },
  {
   "cell_type": "code",
   "execution_count": 21,
   "outputs": [
    {
     "name": "stdout",
     "output_type": "stream",
     "text": [
      "Content saved to: C:\\kyellsen\\005_Projekte\\2024_BA\\032_Feldversuch_2023_Plesse\\030_Analysen\\2023_Kronensicherung_Plesse_Kraefte_Schwingungen\\working_directory\\export_latex\\feldversuch_2_ergebnisse_werte_der_messung_mit_spitzenlast.tex\n"
     ]
    }
   ],
   "source": [
    "# LaTeX-String erstellen\n",
    "latex_string = expanded_df.to_latex(\n",
    "    index=False, \n",
    "    escape=False, \n",
    "    column_format=\"llrr\",  # Spaltenformat angepasst\n",
    "    float_format=\"{:0.2f}\".format\n",
    ")\n",
    "\n",
    "caption = \"Plesse - Ergebnisse, Werte der Messung mit Spitzenlast\"\n",
    "caption_long = \"Plesse - Ergebnisse, Messung mit der höchsten Kraftspitze in der KS (nur Werte des Elastometers mit max. Faserdehnung)\"\n",
    "\n",
    "save_latex_table(latex_string, caption, latex_export_directory, caption_long)"
   ],
   "metadata": {
    "collapsed": false,
    "ExecuteTime": {
     "end_time": "2025-05-28T07:59:39.476494500Z",
     "start_time": "2025-05-28T07:59:39.230035100Z"
    }
   }
  }
 ],
 "metadata": {
  "kernelspec": {
   "display_name": "Python 3 (ipykernel)",
   "language": "python",
   "name": "python3"
  },
  "language_info": {
   "codemirror_mode": {
    "name": "ipython",
    "version": 3
   },
   "file_extension": ".py",
   "mimetype": "text/x-python",
   "name": "python",
   "nbconvert_exporter": "python",
   "pygments_lexer": "ipython3",
   "version": "3.11.2"
  }
 },
 "nbformat": 4,
 "nbformat_minor": 4
}
