{
 "cells": [
  {
   "cell_type": "markdown",
   "metadata": {},
   "source": [
    "---\n",
    "title: \"2023_Kronensicherung_Plesse_002_LS3\"\n",
    "author: \"Kyell Jensen\"\n",
    "date: \"2024-08-06\"\n",
    "format: pdf\n",
    "editor: visual\n",
    "---"
   ]
  },
  {
   "cell_type": "markdown",
   "metadata": {
    "collapsed": false
   },
   "source": [
    "# 2023_Kronensicherung_Plesse_Kraefte_LS3\n",
    "## LS3: Daten der Kraftmessdosen (lineScale3 Data = LS3)\n",
    "\n",
    "Nutze eine geeignete Python 3.11 Umgebung (z. B. virtuelle Environment) und installier das Paket linescale3 (LS3) inklusive kj_core und kj_logger und weiteren requirements."
   ]
  },
  {
   "cell_type": "markdown",
   "metadata": {
    "collapsed": false
   },
   "source": [
    "## Arbeitsumgebung vorbereiten\n",
    "\n",
    "Es werden zuerst benötigte Standard-Pakete importiert. Nachfolgend das extra geschriebenen Pakete LS3. Fehler beim Import dieses Pakets sind ggf. Bugs. Es nutzte eine gemeinsame CodeBasis in den Paketen kj_core (Core-Package) und kj_logger (individualisiertes Logging des Verarbeitungs-Prozesses). Diese sollte i. d. R. über die requirements mit installiert werden."
   ]
  },
  {
   "cell_type": "markdown",
   "metadata": {
    "collapsed": false
   },
   "source": [
    "### IMPORT: Importieren von Standardbibliotheken\n",
    "\n",
    "Die folgenden Bibliotheken werden importiert, um grundlegende Funktionen für Strukturierung, Datenverarbeitung, Plotting und statistische Auswertung bereit zu stellen."
   ]
  },
  {
   "cell_type": "code",
   "execution_count": 1,
   "metadata": {
    "ExecuteTime": {
     "end_time": "2025-05-10T08:39:46.315993900Z",
     "start_time": "2025-05-10T08:39:45.872813200Z"
    }
   },
   "outputs": [],
   "source": [
    "import json\n",
    "from IPython.display import Markdown, display\n",
    "\n",
    "# Datenverarbeitung\n",
    "import numpy as np\n",
    "import pandas as pd"
   ]
  },
  {
   "cell_type": "markdown",
   "metadata": {
    "collapsed": false
   },
   "source": [
    "### IMPORT: Importieren eignes Packet lineScale3\n",
    "\n",
    "Das Paket linescale3 wurde vom Autor (Kyell Jensen) zum einfachen Analysieren, Plotten und zur Interpretation der CSV-Messdaten der lineScale3 Kraftmessdose der Firma lineGrip geschrieben (https://www.linegrip.com/linescale-3/). Das Packet ist auf GitHub verfügbar (https://github.com/kyellsen/linescale3). Nachfolgend wird das Packet und einige dort definierten Klassen importiert."
   ]
  },
  {
   "cell_type": "code",
   "execution_count": 2,
   "metadata": {
    "collapsed": false,
    "ExecuteTime": {
     "end_time": "2025-05-10T08:39:47.803430800Z",
     "start_time": "2025-05-10T08:39:46.317995500Z"
    }
   },
   "outputs": [],
   "source": [
    "import linescale3 as ls3\n",
    "# ls3.help() # Test"
   ]
  },
  {
   "cell_type": "markdown",
   "source": [
    "Lade allgemeine Export-Funktionen, um die Daten als Latex-Tabellen zu exportieren"
   ],
   "metadata": {
    "collapsed": false
   }
  },
  {
   "cell_type": "code",
   "execution_count": 3,
   "outputs": [],
   "source": [
    "from kj_core.utils.latex_export import (\n",
    "    save_latex_table,\n",
    "    build_data_dict_df\n",
    ")"
   ],
   "metadata": {
    "collapsed": false,
    "ExecuteTime": {
     "end_time": "2025-05-10T08:39:47.811082Z",
     "start_time": "2025-05-10T08:39:47.804431300Z"
    }
   }
  },
  {
   "cell_type": "markdown",
   "source": [
    "### IMPORT: Projekt Konfiguration laden\n",
    "\n",
    "Lege Pfade für Daten-Importe, Daten-Exporte etc. fest (ggf. anpassen an eigene Verzeichnisstruktur), ausgelagert in gemeinsame Config für verschiedene Notebooks"
   ],
   "metadata": {
    "collapsed": false
   }
  },
  {
   "cell_type": "code",
   "execution_count": 4,
   "outputs": [],
   "source": [
    "# Importiere alle Einstellungen aus der project_config.py\n",
    "from project_config import (\n",
    "    working_directory,\n",
    "    analyse_name,\n",
    "    data_path,\n",
    "    data_export_directory,\n",
    "    latex_export_directory\n",
    ")"
   ],
   "metadata": {
    "collapsed": false,
    "ExecuteTime": {
     "end_time": "2025-05-10T08:39:47.820064Z",
     "start_time": "2025-05-10T08:39:47.812072900Z"
    }
   }
  },
  {
   "cell_type": "markdown",
   "metadata": {},
   "source": [
    "## IMPORT: lineScale Daten laden\n",
    "\n",
    "Die Funktion 'ls3.setup' erstellt Instanzen spezifischer Klassen, die für das Paket notwendig sind (CONFIG, LOG_MANAGER, PLOT_MANAGER). \n",
    "\n",
    "Über die Klasse 'ls3.Series' wird eine neue Messreihe initialisiert und als 'ls3_series' gespeichert. Im Verzeichnis 'ls3_data_path' finden sich die Messdaten von zwei lineScale3 ('LS14BFE6' und 'LS14991E').\n",
    "LS14BFE6: Befand sich während der Messung im Zugseil zwischen den Stämmlingen und erfasste die Vorspannung. Es wurden insgesamt 31 Logs (hier Measurements) aufgezeichnet. Eine Messfrequenz von 40 Hz erschien hier ausreichend.\n",
    "LS14991E: Befand sich während der Messung in der Kronensicherung und hat die Kraft in der Kronensicherung nach dem Release gemessen. Es wurden 19 Logs erfasst, da die ersten Messungen als Referenz ohne Kronensicherung stattfanden. Hier wurde die maximale Messfrequenz von 1028 Hz gewählt, um Lastspitzen optimal zu erfassen."
   ]
  },
  {
   "cell_type": "code",
   "execution_count": 5,
   "metadata": {
    "ExecuteTime": {
     "end_time": "2025-05-10T08:39:48.241191200Z",
     "start_time": "2025-05-10T08:39:47.824755200Z"
    }
   },
   "outputs": [
    {
     "name": "stderr",
     "output_type": "stream",
     "text": [
      "2025-05-10 10:39:47 [\u001B[92mINFO\u001B[0m] kj_logger.update_config: <kj_logger.LogManager object at 0x0000015E470B8F10> initialized - update_config! Code: 000\n",
      "2025-05-10 10:39:47 [\u001B[93mWARNING\u001B[0m] kj_core.core_config.set_working_directory: The directory C:\\kyellsen\\005_Projekte\\2024_BA\\032_Feldversuch_2023_Plesse\\030_Analysen\\2023_Kronensicherung_Plesse_Kraefte_Schwingungen\\working_directory\\ls3 already exists.\n",
      "2025-05-10 10:39:47 [\u001B[92mINFO\u001B[0m] kj_core.core_config.set_working_directory: Working directory set to C:\\kyellsen\\005_Projekte\\2024_BA\\032_Feldversuch_2023_Plesse\\030_Analysen\\2023_Kronensicherung_Plesse_Kraefte_Schwingungen\\working_directory\\ls3!\n",
      "2025-05-10 10:39:47 [\u001B[92mINFO\u001B[0m] kj_core.core_config.__init__: <CoreConfig>\n",
      "  Package:            linescale3\n",
      "  Working Directory:  C:\\kyellsen\\005_Projekte\\2024_BA\\032_Feldversuch_2023_Plesse\\030_Analysen\\2023_Kronensicherung_Plesse_Kraefte_Schwingungen\\working_directory\\ls3\n",
      "  Plot Directory:     C:\\kyellsen\\005_Projekte\\2024_BA\\032_Feldversuch_2023_Plesse\\030_Analysen\\2023_Kronensicherung_Plesse_Kraefte_Schwingungen\\working_directory\\ls3\\plots\n",
      "  Data Directory:     C:\\kyellsen\\005_Projekte\\2024_BA\\032_Feldversuch_2023_Plesse\\030_Analysen\\2023_Kronensicherung_Plesse_Kraefte_Schwingungen\\working_directory\\ls3\\data\n",
      "  Database Directory: C:\\kyellsen\\005_Projekte\\2024_BA\\032_Feldversuch_2023_Plesse\\030_Analysen\\2023_Kronensicherung_Plesse_Kraefte_Schwingungen\\working_directory\\ls3\\databases\n",
      " initialized! Code: 001\n",
      "2025-05-10 10:39:47 [\u001B[92mINFO\u001B[0m] linescale3.setup: ls3: Setup linescale3 package!\n",
      "2025-05-10 10:39:47 [\u001B[92mINFO\u001B[0m] kj_core.utils.plot_manager.__init__: <PlotManager>\n",
      "  Plot Directory:    C:\\kyellsen\\005_Projekte\\2024_BA\\032_Feldversuch_2023_Plesse\\030_Analysen\\2023_Kronensicherung_Plesse_Kraefte_Schwingungen\\working_directory\\ls3\\plots\n",
      "  DPI:               300\n",
      "  Figure Size:       (8, 6)\n",
      "  Seaborn Style:     'whitegrid'\n",
      "  Color Palette:     'bright'\n",
      "  Grid Enabled:      True\n",
      "  Wide Format:       True\n",
      "  From Config:       Config\n",
      " initialized! Code: 005\n",
      "2025-05-10 10:39:47 [\u001B[92mINFO\u001B[0m] linescale3.setup: ls3: linescale3 setup completed.\n",
      "2025-05-10 10:39:47 [\u001B[92mINFO\u001B[0m] linescale3.classes.measurement.read_csv: Read CSV for Measurement(id: '1', name: '14_41_10', sensor_id: '14:99:1E') successful.\n",
      "2025-05-10 10:39:47 [\u001B[92mINFO\u001B[0m] linescale3.classes.measurement.read_csv: Read CSV for Measurement(id: '2', name: '14_47_59', sensor_id: '14:99:1E') successful.\n",
      "2025-05-10 10:39:47 [\u001B[92mINFO\u001B[0m] linescale3.classes.measurement.read_csv: Read CSV for Measurement(id: '3', name: '14_55_03', sensor_id: '14:99:1E') successful.\n",
      "2025-05-10 10:39:47 [\u001B[92mINFO\u001B[0m] linescale3.classes.measurement.read_csv: Read CSV for Measurement(id: '4', name: '15_04_05', sensor_id: '14:99:1E') successful.\n",
      "2025-05-10 10:39:47 [\u001B[92mINFO\u001B[0m] linescale3.classes.measurement.read_csv: Read CSV for Measurement(id: '5', name: '15_08_55', sensor_id: '14:99:1E') successful.\n",
      "2025-05-10 10:39:47 [\u001B[92mINFO\u001B[0m] linescale3.classes.measurement.read_csv: Read CSV for Measurement(id: '6', name: '15_12_57', sensor_id: '14:99:1E') successful.\n",
      "2025-05-10 10:39:47 [\u001B[92mINFO\u001B[0m] linescale3.classes.measurement.read_csv: Read CSV for Measurement(id: '7', name: '15_16_58', sensor_id: '14:99:1E') successful.\n",
      "2025-05-10 10:39:47 [\u001B[92mINFO\u001B[0m] linescale3.classes.measurement.read_csv: Read CSV for Measurement(id: '8', name: '15_21_49', sensor_id: '14:99:1E') successful.\n",
      "2025-05-10 10:39:47 [\u001B[92mINFO\u001B[0m] linescale3.classes.measurement.read_csv: Read CSV for Measurement(id: '9', name: '15_25_17', sensor_id: '14:99:1E') successful.\n",
      "2025-05-10 10:39:47 [\u001B[92mINFO\u001B[0m] linescale3.classes.measurement.read_csv: Read CSV for Measurement(id: '10', name: '16_11_40', sensor_id: '14:99:1E') successful.\n",
      "2025-05-10 10:39:47 [\u001B[92mINFO\u001B[0m] linescale3.classes.measurement.read_csv: Read CSV for Measurement(id: '11', name: '16_17_21', sensor_id: '14:99:1E') successful.\n",
      "2025-05-10 10:39:47 [\u001B[92mINFO\u001B[0m] linescale3.classes.measurement.read_csv: Read CSV for Measurement(id: '12', name: '16_23_13', sensor_id: '14:99:1E') successful.\n",
      "2025-05-10 10:39:47 [\u001B[92mINFO\u001B[0m] linescale3.classes.measurement.read_csv: Read CSV for Measurement(id: '13', name: '16_37_11', sensor_id: '14:99:1E') successful.\n",
      "2025-05-10 10:39:47 [\u001B[92mINFO\u001B[0m] linescale3.classes.measurement.read_csv: Read CSV for Measurement(id: '14', name: '16_41_28', sensor_id: '14:99:1E') successful.\n",
      "2025-05-10 10:39:48 [\u001B[92mINFO\u001B[0m] linescale3.classes.measurement.read_csv: Read CSV for Measurement(id: '15', name: '16_46_46', sensor_id: '14:99:1E') successful.\n",
      "2025-05-10 10:39:48 [\u001B[92mINFO\u001B[0m] linescale3.classes.measurement.read_csv: Read CSV for Measurement(id: '16', name: '16_56_53', sensor_id: '14:99:1E') successful.\n",
      "2025-05-10 10:39:48 [\u001B[92mINFO\u001B[0m] linescale3.classes.measurement.read_csv: Read CSV for Measurement(id: '17', name: '17_01_49', sensor_id: '14:99:1E') successful.\n",
      "2025-05-10 10:39:48 [\u001B[92mINFO\u001B[0m] linescale3.classes.measurement.read_csv: Read CSV for Measurement(id: '18', name: '17_05_21', sensor_id: '14:99:1E') successful.\n",
      "2025-05-10 10:39:48 [\u001B[92mINFO\u001B[0m] linescale3.classes.measurement.read_csv: Read CSV for Measurement(id: '19', name: '17_16_51', sensor_id: '14:99:1E') successful.\n",
      "2025-05-10 10:39:48 [\u001B[92mINFO\u001B[0m] linescale3.classes.measurement.read_csv: Read CSV for Measurement(id: '1', name: '11_11_55', sensor_id: '14:BF:E6') successful.\n",
      "2025-05-10 10:39:48 [\u001B[92mINFO\u001B[0m] linescale3.classes.measurement.read_csv: Read CSV for Measurement(id: '2', name: '11_24_23', sensor_id: '14:BF:E6') successful.\n",
      "2025-05-10 10:39:48 [\u001B[92mINFO\u001B[0m] linescale3.classes.measurement.read_csv: Read CSV for Measurement(id: '3', name: '11_31_12', sensor_id: '14:BF:E6') successful.\n",
      "2025-05-10 10:39:48 [\u001B[92mINFO\u001B[0m] linescale3.classes.measurement.read_csv: Read CSV for Measurement(id: '4', name: '11_54_33', sensor_id: '14:BF:E6') successful.\n",
      "2025-05-10 10:39:48 [\u001B[92mINFO\u001B[0m] linescale3.classes.measurement.read_csv: Read CSV for Measurement(id: '5', name: '12_02_03', sensor_id: '14:BF:E6') successful.\n",
      "2025-05-10 10:39:48 [\u001B[92mINFO\u001B[0m] linescale3.classes.measurement.read_csv: Read CSV for Measurement(id: '6', name: '12_07_09', sensor_id: '14:BF:E6') successful.\n",
      "2025-05-10 10:39:48 [\u001B[92mINFO\u001B[0m] linescale3.classes.measurement.read_csv: Read CSV for Measurement(id: '7', name: '12_11_49', sensor_id: '14:BF:E6') successful.\n",
      "2025-05-10 10:39:48 [\u001B[92mINFO\u001B[0m] linescale3.classes.measurement.read_csv: Read CSV for Measurement(id: '8', name: '12_16_13', sensor_id: '14:BF:E6') successful.\n",
      "2025-05-10 10:39:48 [\u001B[92mINFO\u001B[0m] linescale3.classes.measurement.read_csv: Read CSV for Measurement(id: '9', name: '12_23_21', sensor_id: '14:BF:E6') successful.\n",
      "2025-05-10 10:39:48 [\u001B[92mINFO\u001B[0m] linescale3.classes.measurement.read_csv: Read CSV for Measurement(id: '10', name: '12_27_13', sensor_id: '14:BF:E6') successful.\n",
      "2025-05-10 10:39:48 [\u001B[92mINFO\u001B[0m] linescale3.classes.measurement.read_csv: Read CSV for Measurement(id: '11', name: '14_40_00', sensor_id: '14:BF:E6') successful.\n",
      "2025-05-10 10:39:48 [\u001B[92mINFO\u001B[0m] linescale3.classes.measurement.read_csv: Read CSV for Measurement(id: '12', name: '14_47_06', sensor_id: '14:BF:E6') successful.\n",
      "2025-05-10 10:39:48 [\u001B[92mINFO\u001B[0m] linescale3.classes.measurement.read_csv: Read CSV for Measurement(id: '13', name: '14_54_20', sensor_id: '14:BF:E6') successful.\n",
      "2025-05-10 10:39:48 [\u001B[92mINFO\u001B[0m] linescale3.classes.measurement.read_csv: Read CSV for Measurement(id: '14', name: '15_00_22', sensor_id: '14:BF:E6') successful.\n",
      "2025-05-10 10:39:48 [\u001B[92mINFO\u001B[0m] linescale3.classes.measurement.read_csv: Read CSV for Measurement(id: '15', name: '15_03_21', sensor_id: '14:BF:E6') successful.\n",
      "2025-05-10 10:39:48 [\u001B[92mINFO\u001B[0m] linescale3.classes.measurement.read_csv: Read CSV for Measurement(id: '16', name: '15_08_07', sensor_id: '14:BF:E6') successful.\n",
      "2025-05-10 10:39:48 [\u001B[92mINFO\u001B[0m] linescale3.classes.measurement.read_csv: Read CSV for Measurement(id: '17', name: '15_11_55', sensor_id: '14:BF:E6') successful.\n",
      "2025-05-10 10:39:48 [\u001B[92mINFO\u001B[0m] linescale3.classes.measurement.read_csv: Read CSV for Measurement(id: '18', name: '15_16_24', sensor_id: '14:BF:E6') successful.\n",
      "2025-05-10 10:39:48 [\u001B[92mINFO\u001B[0m] linescale3.classes.measurement.read_csv: Read CSV for Measurement(id: '19', name: '15_20_38', sensor_id: '14:BF:E6') successful.\n",
      "2025-05-10 10:39:48 [\u001B[92mINFO\u001B[0m] linescale3.classes.measurement.read_csv: Read CSV for Measurement(id: '20', name: '15_24_40', sensor_id: '14:BF:E6') successful.\n",
      "2025-05-10 10:39:48 [\u001B[92mINFO\u001B[0m] linescale3.classes.measurement.read_csv: Read CSV for Measurement(id: '21', name: '16_10_55', sensor_id: '14:BF:E6') successful.\n",
      "2025-05-10 10:39:48 [\u001B[92mINFO\u001B[0m] linescale3.classes.measurement.read_csv: Read CSV for Measurement(id: '22', name: '16_16_33', sensor_id: '14:BF:E6') successful.\n",
      "2025-05-10 10:39:48 [\u001B[92mINFO\u001B[0m] linescale3.classes.measurement.read_csv: Read CSV for Measurement(id: '23', name: '16_21_50', sensor_id: '14:BF:E6') successful.\n",
      "2025-05-10 10:39:48 [\u001B[92mINFO\u001B[0m] linescale3.classes.measurement.read_csv: Read CSV for Measurement(id: '24', name: '16_36_05', sensor_id: '14:BF:E6') successful.\n",
      "2025-05-10 10:39:48 [\u001B[92mINFO\u001B[0m] linescale3.classes.measurement.read_csv: Read CSV for Measurement(id: '25', name: '16_40_07', sensor_id: '14:BF:E6') successful.\n",
      "2025-05-10 10:39:48 [\u001B[92mINFO\u001B[0m] linescale3.classes.measurement.read_csv: Read CSV for Measurement(id: '26', name: '16_44_31', sensor_id: '14:BF:E6') successful.\n",
      "2025-05-10 10:39:48 [\u001B[92mINFO\u001B[0m] linescale3.classes.measurement.read_csv: Read CSV for Measurement(id: '27', name: '16_56_04', sensor_id: '14:BF:E6') successful.\n",
      "2025-05-10 10:39:48 [\u001B[92mINFO\u001B[0m] linescale3.classes.measurement.read_csv: Read CSV for Measurement(id: '28', name: '17_00_04', sensor_id: '14:BF:E6') successful.\n",
      "2025-05-10 10:39:48 [\u001B[92mINFO\u001B[0m] linescale3.classes.measurement.read_csv: Read CSV for Measurement(id: '29', name: '17_04_51', sensor_id: '14:BF:E6') successful.\n",
      "2025-05-10 10:39:48 [\u001B[92mINFO\u001B[0m] linescale3.classes.measurement.read_csv: Read CSV for Measurement(id: '30', name: '17_07_37', sensor_id: '14:BF:E6') successful.\n",
      "2025-05-10 10:39:48 [\u001B[92mINFO\u001B[0m] linescale3.classes.measurement.read_csv: Read CSV for Measurement(id: '31', name: '17_16_09', sensor_id: '14:BF:E6') successful.\n"
     ]
    }
   ],
   "source": [
    "ls3.setup(working_directory=working_directory, log_level=\"info\", safe_logs_to_file=True)\n",
    "\n",
    "ls3_data_path = data_path / 'LS3'\n",
    "ls3_series = ls3.classes.Series(name=analyse_name, path=ls3_data_path)"
   ]
  },
  {
   "cell_type": "markdown",
   "metadata": {
    "collapsed": false
   },
   "source": [
    "## ANALYSE: Explorative Datenanalyse"
   ]
  },
  {
   "cell_type": "markdown",
   "source": [
    "### PLOTTING: Daten der Forcemeter\n",
    "\n",
    "Da teilweise für jede Messung und jeden Sensor ein Plot generiert wird, werden diese nicht im Notebook direkt angezeigt, sondern im Explorer gespeichert. Die Plots liegen entsprechend im working_directory in den Verzeichnissen ls3/plots/ bzw. ptq/plots.\n",
    "\n",
    "'ls3_series.plot_force_vs_time' erstellt für jede Messung für beide eingesetzten LineScales einen Plot, in dem die ermittelte Kraft (force in kN) gegenüber der Zeit (sec_since_start) abgebildet wird. Die Plots werden im Verzeichnis 'ls3/plots/force_vs_time_1/' abgelegt.\n",
    "\n",
    "14:BF:E6: Hat die tatsächliche Vorspannung ermittelt und hat entsprechend für alle 29 (-2) Messungen (experiment_id) einen Log aufgezeichnet.\n",
    "Aufgrund der Messtechnik wurden 2 Logs erstellt, die keine Messung darstellen. Diese dürfen nicht mit ausgewertet werden (Measurement ID 14 und 30).\n",
    "\n",
    "14:99:1E: Hat die Lasten in der Kronensicherung aufgezeichnet und hat entsprechend nur für die 19 (-1) Messungen mit Kronensicherungen einen Log aufgezeichent."
   ],
   "metadata": {
    "collapsed": false
   }
  },
  {
   "cell_type": "code",
   "execution_count": 6,
   "metadata": {
    "collapsed": false,
    "ExecuteTime": {
     "end_time": "2025-05-10T08:40:01.666803800Z",
     "start_time": "2025-05-10T08:39:48.244164700Z"
    }
   },
   "outputs": [
    {
     "name": "stderr",
     "output_type": "stream",
     "text": [
      "2025-05-10 10:39:48 [\u001B[92mINFO\u001B[0m] linescale3.classes.measurement.plot_force_vs_time_with_max_and_release: plot_force_vs_time_with_max_and_release for measurement: 'Measurement(id: '1', name: '14_41_10', sensor_id: '14:99:1E')'.\n",
      "2025-05-10 10:39:48 [\u001B[92mINFO\u001B[0m] linescale3.classes.measurement.plot_force_vs_time_with_max_and_release: plot_force_vs_time_with_max_and_release for measurement: 'Measurement(id: '2', name: '14_47_59', sensor_id: '14:99:1E')'.\n",
      "2025-05-10 10:39:49 [\u001B[92mINFO\u001B[0m] linescale3.classes.measurement.plot_force_vs_time_with_max_and_release: plot_force_vs_time_with_max_and_release for measurement: 'Measurement(id: '3', name: '14_55_03', sensor_id: '14:99:1E')'.\n",
      "2025-05-10 10:39:49 [\u001B[92mINFO\u001B[0m] linescale3.classes.measurement.plot_force_vs_time_with_max_and_release: plot_force_vs_time_with_max_and_release for measurement: 'Measurement(id: '4', name: '15_04_05', sensor_id: '14:99:1E')'.\n",
      "2025-05-10 10:39:49 [\u001B[92mINFO\u001B[0m] linescale3.classes.measurement.plot_force_vs_time_with_max_and_release: plot_force_vs_time_with_max_and_release for measurement: 'Measurement(id: '5', name: '15_08_55', sensor_id: '14:99:1E')'.\n",
      "2025-05-10 10:39:50 [\u001B[92mINFO\u001B[0m] linescale3.classes.measurement.plot_force_vs_time_with_max_and_release: plot_force_vs_time_with_max_and_release for measurement: 'Measurement(id: '6', name: '15_12_57', sensor_id: '14:99:1E')'.\n",
      "2025-05-10 10:39:50 [\u001B[92mINFO\u001B[0m] linescale3.classes.measurement.plot_force_vs_time_with_max_and_release: plot_force_vs_time_with_max_and_release for measurement: 'Measurement(id: '7', name: '15_16_58', sensor_id: '14:99:1E')'.\n",
      "2025-05-10 10:39:50 [\u001B[92mINFO\u001B[0m] linescale3.classes.measurement.plot_force_vs_time_with_max_and_release: plot_force_vs_time_with_max_and_release for measurement: 'Measurement(id: '8', name: '15_21_49', sensor_id: '14:99:1E')'.\n",
      "2025-05-10 10:39:51 [\u001B[92mINFO\u001B[0m] linescale3.classes.measurement.plot_force_vs_time_with_max_and_release: plot_force_vs_time_with_max_and_release for measurement: 'Measurement(id: '9', name: '15_25_17', sensor_id: '14:99:1E')'.\n",
      "2025-05-10 10:39:51 [\u001B[92mINFO\u001B[0m] linescale3.classes.measurement.plot_force_vs_time_with_max_and_release: plot_force_vs_time_with_max_and_release for measurement: 'Measurement(id: '10', name: '16_11_40', sensor_id: '14:99:1E')'.\n",
      "2025-05-10 10:39:51 [\u001B[92mINFO\u001B[0m] linescale3.classes.measurement.plot_force_vs_time_with_max_and_release: plot_force_vs_time_with_max_and_release for measurement: 'Measurement(id: '11', name: '16_17_21', sensor_id: '14:99:1E')'.\n",
      "2025-05-10 10:39:51 [\u001B[92mINFO\u001B[0m] linescale3.classes.measurement.plot_force_vs_time_with_max_and_release: plot_force_vs_time_with_max_and_release for measurement: 'Measurement(id: '12', name: '16_23_13', sensor_id: '14:99:1E')'.\n",
      "2025-05-10 10:39:52 [\u001B[92mINFO\u001B[0m] linescale3.classes.measurement.plot_force_vs_time_with_max_and_release: plot_force_vs_time_with_max_and_release for measurement: 'Measurement(id: '13', name: '16_37_11', sensor_id: '14:99:1E')'.\n",
      "2025-05-10 10:39:52 [\u001B[92mINFO\u001B[0m] linescale3.classes.measurement.plot_force_vs_time_with_max_and_release: plot_force_vs_time_with_max_and_release for measurement: 'Measurement(id: '14', name: '16_41_28', sensor_id: '14:99:1E')'.\n",
      "2025-05-10 10:39:52 [\u001B[92mINFO\u001B[0m] linescale3.classes.measurement.plot_force_vs_time_with_max_and_release: plot_force_vs_time_with_max_and_release for measurement: 'Measurement(id: '15', name: '16_46_46', sensor_id: '14:99:1E')'.\n",
      "2025-05-10 10:39:52 [\u001B[92mINFO\u001B[0m] linescale3.classes.measurement.plot_force_vs_time_with_max_and_release: plot_force_vs_time_with_max_and_release for measurement: 'Measurement(id: '16', name: '16_56_53', sensor_id: '14:99:1E')'.\n",
      "2025-05-10 10:39:53 [\u001B[92mINFO\u001B[0m] linescale3.classes.measurement.plot_force_vs_time_with_max_and_release: plot_force_vs_time_with_max_and_release for measurement: 'Measurement(id: '17', name: '17_01_49', sensor_id: '14:99:1E')'.\n",
      "2025-05-10 10:39:53 [\u001B[92mINFO\u001B[0m] linescale3.classes.measurement.plot_force_vs_time_with_max_and_release: plot_force_vs_time_with_max_and_release for measurement: 'Measurement(id: '18', name: '17_05_21', sensor_id: '14:99:1E')'.\n",
      "2025-05-10 10:39:53 [\u001B[92mINFO\u001B[0m] linescale3.classes.measurement.plot_force_vs_time_with_max_and_release: plot_force_vs_time_with_max_and_release for measurement: 'Measurement(id: '19', name: '17_16_51', sensor_id: '14:99:1E')'.\n",
      "2025-05-10 10:39:53 [\u001B[92mINFO\u001B[0m] linescale3.classes.measurement.plot_force_vs_time_with_max_and_release: plot_force_vs_time_with_max_and_release for measurement: 'Measurement(id: '1', name: '11_11_55', sensor_id: '14:BF:E6')'.\n",
      "2025-05-10 10:39:54 [\u001B[92mINFO\u001B[0m] linescale3.classes.measurement.plot_force_vs_time_with_max_and_release: plot_force_vs_time_with_max_and_release for measurement: 'Measurement(id: '2', name: '11_24_23', sensor_id: '14:BF:E6')'.\n",
      "2025-05-10 10:39:54 [\u001B[92mINFO\u001B[0m] linescale3.classes.measurement.plot_force_vs_time_with_max_and_release: plot_force_vs_time_with_max_and_release for measurement: 'Measurement(id: '3', name: '11_31_12', sensor_id: '14:BF:E6')'.\n",
      "2025-05-10 10:39:54 [\u001B[92mINFO\u001B[0m] linescale3.classes.measurement.plot_force_vs_time_with_max_and_release: plot_force_vs_time_with_max_and_release for measurement: 'Measurement(id: '4', name: '11_54_33', sensor_id: '14:BF:E6')'.\n",
      "2025-05-10 10:39:54 [\u001B[92mINFO\u001B[0m] linescale3.classes.measurement.plot_force_vs_time_with_max_and_release: plot_force_vs_time_with_max_and_release for measurement: 'Measurement(id: '5', name: '12_02_03', sensor_id: '14:BF:E6')'.\n",
      "2025-05-10 10:39:55 [\u001B[92mINFO\u001B[0m] linescale3.classes.measurement.plot_force_vs_time_with_max_and_release: plot_force_vs_time_with_max_and_release for measurement: 'Measurement(id: '6', name: '12_07_09', sensor_id: '14:BF:E6')'.\n",
      "2025-05-10 10:39:55 [\u001B[92mINFO\u001B[0m] linescale3.classes.measurement.plot_force_vs_time_with_max_and_release: plot_force_vs_time_with_max_and_release for measurement: 'Measurement(id: '7', name: '12_11_49', sensor_id: '14:BF:E6')'.\n",
      "2025-05-10 10:39:55 [\u001B[92mINFO\u001B[0m] linescale3.classes.measurement.plot_force_vs_time_with_max_and_release: plot_force_vs_time_with_max_and_release for measurement: 'Measurement(id: '8', name: '12_16_13', sensor_id: '14:BF:E6')'.\n",
      "2025-05-10 10:39:56 [\u001B[92mINFO\u001B[0m] linescale3.classes.measurement.plot_force_vs_time_with_max_and_release: plot_force_vs_time_with_max_and_release for measurement: 'Measurement(id: '9', name: '12_23_21', sensor_id: '14:BF:E6')'.\n",
      "2025-05-10 10:39:56 [\u001B[92mINFO\u001B[0m] linescale3.classes.measurement.plot_force_vs_time_with_max_and_release: plot_force_vs_time_with_max_and_release for measurement: 'Measurement(id: '10', name: '12_27_13', sensor_id: '14:BF:E6')'.\n",
      "2025-05-10 10:39:56 [\u001B[92mINFO\u001B[0m] linescale3.classes.measurement.plot_force_vs_time_with_max_and_release: plot_force_vs_time_with_max_and_release for measurement: 'Measurement(id: '11', name: '14_40_00', sensor_id: '14:BF:E6')'.\n",
      "2025-05-10 10:39:56 [\u001B[92mINFO\u001B[0m] linescale3.classes.measurement.plot_force_vs_time_with_max_and_release: plot_force_vs_time_with_max_and_release for measurement: 'Measurement(id: '12', name: '14_47_06', sensor_id: '14:BF:E6')'.\n",
      "2025-05-10 10:39:56 [\u001B[92mINFO\u001B[0m] linescale3.classes.measurement.plot_force_vs_time_with_max_and_release: plot_force_vs_time_with_max_and_release for measurement: 'Measurement(id: '13', name: '14_54_20', sensor_id: '14:BF:E6')'.\n",
      "2025-05-10 10:39:57 [\u001B[92mINFO\u001B[0m] linescale3.classes.measurement.plot_force_vs_time_with_max_and_release: plot_force_vs_time_with_max_and_release for measurement: 'Measurement(id: '14', name: '15_00_22', sensor_id: '14:BF:E6')'.\n",
      "2025-05-10 10:39:57 [\u001B[92mINFO\u001B[0m] linescale3.classes.measurement.plot_force_vs_time_with_max_and_release: plot_force_vs_time_with_max_and_release for measurement: 'Measurement(id: '15', name: '15_03_21', sensor_id: '14:BF:E6')'.\n",
      "2025-05-10 10:39:57 [\u001B[92mINFO\u001B[0m] linescale3.classes.measurement.plot_force_vs_time_with_max_and_release: plot_force_vs_time_with_max_and_release for measurement: 'Measurement(id: '16', name: '15_08_07', sensor_id: '14:BF:E6')'.\n",
      "2025-05-10 10:39:57 [\u001B[92mINFO\u001B[0m] linescale3.classes.measurement.plot_force_vs_time_with_max_and_release: plot_force_vs_time_with_max_and_release for measurement: 'Measurement(id: '17', name: '15_11_55', sensor_id: '14:BF:E6')'.\n",
      "2025-05-10 10:39:58 [\u001B[92mINFO\u001B[0m] linescale3.classes.measurement.plot_force_vs_time_with_max_and_release: plot_force_vs_time_with_max_and_release for measurement: 'Measurement(id: '18', name: '15_16_24', sensor_id: '14:BF:E6')'.\n",
      "2025-05-10 10:39:58 [\u001B[92mINFO\u001B[0m] linescale3.classes.measurement.plot_force_vs_time_with_max_and_release: plot_force_vs_time_with_max_and_release for measurement: 'Measurement(id: '19', name: '15_20_38', sensor_id: '14:BF:E6')'.\n",
      "2025-05-10 10:39:58 [\u001B[92mINFO\u001B[0m] linescale3.classes.measurement.plot_force_vs_time_with_max_and_release: plot_force_vs_time_with_max_and_release for measurement: 'Measurement(id: '20', name: '15_24_40', sensor_id: '14:BF:E6')'.\n",
      "2025-05-10 10:39:58 [\u001B[92mINFO\u001B[0m] linescale3.classes.measurement.plot_force_vs_time_with_max_and_release: plot_force_vs_time_with_max_and_release for measurement: 'Measurement(id: '21', name: '16_10_55', sensor_id: '14:BF:E6')'.\n",
      "2025-05-10 10:39:58 [\u001B[92mINFO\u001B[0m] linescale3.classes.measurement.plot_force_vs_time_with_max_and_release: plot_force_vs_time_with_max_and_release for measurement: 'Measurement(id: '22', name: '16_16_33', sensor_id: '14:BF:E6')'.\n",
      "2025-05-10 10:39:59 [\u001B[92mINFO\u001B[0m] linescale3.classes.measurement.plot_force_vs_time_with_max_and_release: plot_force_vs_time_with_max_and_release for measurement: 'Measurement(id: '23', name: '16_21_50', sensor_id: '14:BF:E6')'.\n",
      "2025-05-10 10:39:59 [\u001B[92mINFO\u001B[0m] linescale3.classes.measurement.plot_force_vs_time_with_max_and_release: plot_force_vs_time_with_max_and_release for measurement: 'Measurement(id: '24', name: '16_36_05', sensor_id: '14:BF:E6')'.\n",
      "2025-05-10 10:39:59 [\u001B[92mINFO\u001B[0m] linescale3.classes.measurement.plot_force_vs_time_with_max_and_release: plot_force_vs_time_with_max_and_release for measurement: 'Measurement(id: '25', name: '16_40_07', sensor_id: '14:BF:E6')'.\n",
      "2025-05-10 10:40:00 [\u001B[92mINFO\u001B[0m] linescale3.classes.measurement.plot_force_vs_time_with_max_and_release: plot_force_vs_time_with_max_and_release for measurement: 'Measurement(id: '26', name: '16_44_31', sensor_id: '14:BF:E6')'.\n",
      "2025-05-10 10:40:00 [\u001B[92mINFO\u001B[0m] linescale3.classes.measurement.plot_force_vs_time_with_max_and_release: plot_force_vs_time_with_max_and_release for measurement: 'Measurement(id: '27', name: '16_56_04', sensor_id: '14:BF:E6')'.\n",
      "2025-05-10 10:40:00 [\u001B[92mINFO\u001B[0m] linescale3.classes.measurement.plot_force_vs_time_with_max_and_release: plot_force_vs_time_with_max_and_release for measurement: 'Measurement(id: '28', name: '17_00_04', sensor_id: '14:BF:E6')'.\n",
      "2025-05-10 10:40:01 [\u001B[92mINFO\u001B[0m] linescale3.classes.measurement.plot_force_vs_time_with_max_and_release: plot_force_vs_time_with_max_and_release for measurement: 'Measurement(id: '29', name: '17_04_51', sensor_id: '14:BF:E6')'.\n",
      "2025-05-10 10:40:01 [\u001B[92mINFO\u001B[0m] linescale3.classes.measurement.plot_force_vs_time_with_max_and_release: plot_force_vs_time_with_max_and_release for measurement: 'Measurement(id: '30', name: '17_07_37', sensor_id: '14:BF:E6')'.\n",
      "2025-05-10 10:40:01 [\u001B[92mINFO\u001B[0m] linescale3.classes.measurement.plot_force_vs_time_with_max_and_release: plot_force_vs_time_with_max_and_release for measurement: 'Measurement(id: '31', name: '17_16_09', sensor_id: '14:BF:E6')'.\n"
     ]
    }
   ],
   "source": [
    "ls3_series.plot_force_vs_time_with_max_and_release()"
   ]
  },
  {
   "cell_type": "code",
   "execution_count": 14,
   "outputs": [
    {
     "name": "stderr",
     "output_type": "stream",
     "text": [
      "2025-05-10 10:40:22 [\u001B[92mINFO\u001B[0m] linescale3.classes.measurement.calculate_force_integral: calculate_force_integral erfolgreich: intercept=0.058, integral=1.001 kN·s\n",
      "2025-05-10 10:40:22 [\u001B[92mINFO\u001B[0m] linescale3.classes.measurement.calculate_force_integral: calculate_force_integral erfolgreich: intercept=0.056, integral=1.104 kN·s\n",
      "2025-05-10 10:40:22 [\u001B[92mINFO\u001B[0m] linescale3.classes.measurement.calculate_force_integral: calculate_force_integral erfolgreich: intercept=0.060, integral=0.832 kN·s\n",
      "2025-05-10 10:40:23 [\u001B[92mINFO\u001B[0m] linescale3.classes.measurement.calculate_force_integral: calculate_force_integral erfolgreich: intercept=0.042, integral=0.647 kN·s\n",
      "2025-05-10 10:40:23 [\u001B[92mINFO\u001B[0m] linescale3.classes.measurement.calculate_force_integral: calculate_force_integral erfolgreich: intercept=0.061, integral=0.899 kN·s\n",
      "2025-05-10 10:40:23 [\u001B[92mINFO\u001B[0m] linescale3.classes.measurement.calculate_force_integral: calculate_force_integral erfolgreich: intercept=0.041, integral=0.792 kN·s\n",
      "2025-05-10 10:40:23 [\u001B[92mINFO\u001B[0m] linescale3.classes.measurement.calculate_force_integral: calculate_force_integral erfolgreich: intercept=0.045, integral=0.741 kN·s\n",
      "2025-05-10 10:40:24 [\u001B[92mINFO\u001B[0m] linescale3.classes.measurement.calculate_force_integral: calculate_force_integral erfolgreich: intercept=0.047, integral=0.808 kN·s\n",
      "2025-05-10 10:40:24 [\u001B[92mINFO\u001B[0m] linescale3.classes.measurement.calculate_force_integral: calculate_force_integral erfolgreich: intercept=0.051, integral=0.645 kN·s\n",
      "2025-05-10 10:40:24 [\u001B[92mINFO\u001B[0m] linescale3.classes.measurement.calculate_force_integral: calculate_force_integral erfolgreich: intercept=0.449, integral=1.133 kN·s\n",
      "2025-05-10 10:40:25 [\u001B[92mINFO\u001B[0m] linescale3.classes.measurement.calculate_force_integral: calculate_force_integral erfolgreich: intercept=0.402, integral=1.506 kN·s\n",
      "2025-05-10 10:40:25 [\u001B[92mINFO\u001B[0m] linescale3.classes.measurement.calculate_force_integral: calculate_force_integral erfolgreich: intercept=0.368, integral=1.296 kN·s\n",
      "2025-05-10 10:40:25 [\u001B[92mINFO\u001B[0m] linescale3.classes.measurement.calculate_force_integral: calculate_force_integral erfolgreich: intercept=0.371, integral=1.082 kN·s\n",
      "2025-05-10 10:40:25 [\u001B[92mINFO\u001B[0m] linescale3.classes.measurement.calculate_force_integral: calculate_force_integral erfolgreich: intercept=0.349, integral=1.225 kN·s\n",
      "2025-05-10 10:40:26 [\u001B[92mINFO\u001B[0m] linescale3.classes.measurement.calculate_force_integral: calculate_force_integral erfolgreich: intercept=0.336, integral=1.305 kN·s\n",
      "2025-05-10 10:40:26 [\u001B[92mINFO\u001B[0m] linescale3.classes.measurement.calculate_force_integral: calculate_force_integral erfolgreich: intercept=0.333, integral=1.200 kN·s\n",
      "2025-05-10 10:40:27 [\u001B[92mINFO\u001B[0m] linescale3.classes.measurement.calculate_force_integral: calculate_force_integral erfolgreich: intercept=0.338, integral=0.898 kN·s\n",
      "2025-05-10 10:40:27 [\u001B[92mINFO\u001B[0m] linescale3.classes.measurement.calculate_force_integral: calculate_force_integral erfolgreich: intercept=0.334, integral=1.309 kN·s\n",
      "2025-05-10 10:40:27 [\u001B[92mINFO\u001B[0m] linescale3.classes.measurement.calculate_force_integral: calculate_force_integral erfolgreich: intercept=0.052, integral=1.073 kN·s\n",
      "2025-05-10 10:40:28 [\u001B[92mINFO\u001B[0m] linescale3.classes.measurement.calculate_force_integral: calculate_force_integral erfolgreich: intercept=2.509, integral=0.467 kN·s\n",
      "2025-05-10 10:40:28 [\u001B[92mINFO\u001B[0m] linescale3.classes.measurement.calculate_force_integral: calculate_force_integral erfolgreich: intercept=2.736, integral=1.997 kN·s\n",
      "2025-05-10 10:40:28 [\u001B[92mINFO\u001B[0m] linescale3.classes.measurement.calculate_force_integral: calculate_force_integral erfolgreich: intercept=2.772, integral=0.532 kN·s\n",
      "2025-05-10 10:40:28 [\u001B[92mINFO\u001B[0m] linescale3.classes.measurement.calculate_force_integral: calculate_force_integral erfolgreich: intercept=2.759, integral=0.583 kN·s\n",
      "2025-05-10 10:40:29 [\u001B[92mINFO\u001B[0m] linescale3.classes.measurement.calculate_force_integral: calculate_force_integral erfolgreich: intercept=2.321, integral=2.170 kN·s\n",
      "2025-05-10 10:40:29 [\u001B[92mINFO\u001B[0m] linescale3.classes.measurement.calculate_force_integral: calculate_force_integral erfolgreich: intercept=2.107, integral=10.266 kN·s\n",
      "2025-05-10 10:40:29 [\u001B[92mINFO\u001B[0m] linescale3.classes.measurement.calculate_force_integral: calculate_force_integral erfolgreich: intercept=2.371, integral=0.382 kN·s\n",
      "2025-05-10 10:40:30 [\u001B[92mINFO\u001B[0m] linescale3.classes.measurement.calculate_force_integral: calculate_force_integral erfolgreich: intercept=0.902, integral=49.181 kN·s\n",
      "2025-05-10 10:40:30 [\u001B[92mINFO\u001B[0m] linescale3.classes.measurement.calculate_force_integral: calculate_force_integral erfolgreich: intercept=1.762, integral=9.119 kN·s\n",
      "2025-05-10 10:40:30 [\u001B[92mINFO\u001B[0m] linescale3.classes.measurement.calculate_force_integral: calculate_force_integral erfolgreich: intercept=1.941, integral=2.542 kN·s\n",
      "2025-05-10 10:40:30 [\u001B[92mINFO\u001B[0m] linescale3.classes.measurement.calculate_force_integral: calculate_force_integral erfolgreich: intercept=2.763, integral=0.354 kN·s\n",
      "2025-05-10 10:40:31 [\u001B[92mINFO\u001B[0m] linescale3.classes.measurement.calculate_force_integral: calculate_force_integral erfolgreich: intercept=2.591, integral=6.964 kN·s\n",
      "2025-05-10 10:40:31 [\u001B[92mINFO\u001B[0m] linescale3.classes.measurement.calculate_force_integral: calculate_force_integral erfolgreich: intercept=1.772, integral=40.737 kN·s\n",
      "2025-05-10 10:40:31 [\u001B[92mINFO\u001B[0m] linescale3.classes.measurement.calculate_force_integral: calculate_force_integral erfolgreich: intercept=0.001, integral=14.550 kN·s\n",
      "2025-05-10 10:40:31 [\u001B[92mINFO\u001B[0m] linescale3.classes.measurement.calculate_force_integral: calculate_force_integral erfolgreich: intercept=1.583, integral=29.761 kN·s\n",
      "2025-05-10 10:40:32 [\u001B[92mINFO\u001B[0m] linescale3.classes.measurement.calculate_force_integral: calculate_force_integral erfolgreich: intercept=1.887, integral=24.789 kN·s\n",
      "2025-05-10 10:40:32 [\u001B[92mINFO\u001B[0m] linescale3.classes.measurement.calculate_force_integral: calculate_force_integral erfolgreich: intercept=2.362, integral=1.068 kN·s\n",
      "2025-05-10 10:40:33 [\u001B[92mINFO\u001B[0m] linescale3.classes.measurement.calculate_force_integral: calculate_force_integral erfolgreich: intercept=0.810, integral=50.824 kN·s\n",
      "2025-05-10 10:40:33 [\u001B[92mINFO\u001B[0m] linescale3.classes.measurement.calculate_force_integral: calculate_force_integral erfolgreich: intercept=2.067, integral=0.360 kN·s\n",
      "2025-05-10 10:40:33 [\u001B[92mINFO\u001B[0m] linescale3.classes.measurement.calculate_force_integral: calculate_force_integral erfolgreich: intercept=0.948, integral=31.047 kN·s\n",
      "2025-05-10 10:40:33 [\u001B[92mINFO\u001B[0m] linescale3.classes.measurement.calculate_force_integral: calculate_force_integral erfolgreich: intercept=1.980, integral=29.619 kN·s\n",
      "2025-05-10 10:40:34 [\u001B[92mINFO\u001B[0m] linescale3.classes.measurement.calculate_force_integral: calculate_force_integral erfolgreich: intercept=2.165, integral=14.125 kN·s\n",
      "2025-05-10 10:40:34 [\u001B[92mINFO\u001B[0m] linescale3.classes.measurement.calculate_force_integral: calculate_force_integral erfolgreich: intercept=2.797, integral=0.388 kN·s\n",
      "2025-05-10 10:40:34 [\u001B[92mINFO\u001B[0m] linescale3.classes.measurement.calculate_force_integral: calculate_force_integral erfolgreich: intercept=2.343, integral=1.505 kN·s\n",
      "2025-05-10 10:40:34 [\u001B[92mINFO\u001B[0m] linescale3.classes.measurement.calculate_force_integral: calculate_force_integral erfolgreich: intercept=2.356, integral=1.051 kN·s\n",
      "2025-05-10 10:40:35 [\u001B[92mINFO\u001B[0m] linescale3.classes.measurement.calculate_force_integral: calculate_force_integral erfolgreich: intercept=2.448, integral=0.487 kN·s\n",
      "2025-05-10 10:40:35 [\u001B[92mINFO\u001B[0m] linescale3.classes.measurement.calculate_force_integral: calculate_force_integral erfolgreich: intercept=1.609, integral=22.903 kN·s\n",
      "2025-05-10 10:40:35 [\u001B[92mINFO\u001B[0m] linescale3.classes.measurement.calculate_force_integral: calculate_force_integral erfolgreich: intercept=1.975, integral=1.698 kN·s\n",
      "2025-05-10 10:40:35 [\u001B[92mINFO\u001B[0m] linescale3.classes.measurement.calculate_force_integral: calculate_force_integral erfolgreich: intercept=0.562, integral=67.391 kN·s\n",
      "2025-05-10 10:40:36 [\u001B[92mINFO\u001B[0m] linescale3.classes.measurement.calculate_force_integral: calculate_force_integral erfolgreich: intercept=0.554, integral=0.404 kN·s\n",
      "2025-05-10 10:40:36 [\u001B[92mINFO\u001B[0m] linescale3.classes.measurement.calculate_force_integral: calculate_force_integral erfolgreich: intercept=1.696, integral=54.151 kN·s\n"
     ]
    }
   ],
   "source": [
    "ls3_series.calculate_force_integral()"
   ],
   "metadata": {
    "collapsed": false,
    "ExecuteTime": {
     "end_time": "2025-05-10T08:40:36.842216800Z",
     "start_time": "2025-05-10T08:40:22.371141400Z"
    }
   }
  },
  {
   "cell_type": "markdown",
   "source": [
    "### ANALYSE: Metadaten bzw. Zusammenfassung der Daten\n",
    "\n",
    "'ls3_series.metadata_df' enthält für jeden Log (measurement_id) der 2 LineScales die Metadaten der Messung.\n",
    "\n",
    "Anmerkung zu `release`: Für jeden Log von 14:BF:E6 (LineScale zur Messung der Vorspannung) wurde die Kraft in kN ermittelt, die kurz vor dem Release vorlag. Diese Kraft ist in den Plots (/ls3/plots/force_vs_time_1/) als grüne Linie markiert. Die entsprechende Funktion befindet sich in 'ls3/classes/measurement.py' und heißt 'get_release_force'.\n",
    "\n",
    "Anmerkung zu `get_release_force`: Die Funktion filtert alle Kraftwerte über 1.0 kN (Parameter min_force=1.0). Innerhalb der gefilterten Werte wird ein Bereich ausgewählt, der 3 Sekunden vor dem Ende der Messung endet (Parameter distance_to_end_sec=3) und insgesamt 5 Sekunden lang ist (Parameter window_sec=5). Für diesen Zeitraum wird der Mittelwert (Mean) berechnet. Die release_force ist somit der Mittelwert eines 5-sekündigen Plateaus vor dem Release und wird nicht durch kurzzeitige Lastspitzen im Zugseil verfälscht."
   ],
   "metadata": {
    "collapsed": false
   }
  },
  {
   "cell_type": "code",
   "execution_count": 8,
   "outputs": [
    {
     "data": {
      "text/plain": "  measurement_name sensor_id            datetime  measurement_id unit mode  \\\n0         14_41_10  14:99:1E 2022-03-23 14:41:10               1   kN  ABS   \n1         14_47_59  14:99:1E 2022-03-23 14:47:59               2   kN  ABS   \n2         14_55_03  14:99:1E 2022-03-23 14:55:03               3   kN  ABS   \n\n  rel_zero  speed  trig  stop  ...   duration  length           max      mean  \\\n0      n/a   1280   0.8   0.0  ...  16.199296   23040  (4737, 1.48)  0.111598   \n1      n/a   1280   0.8   0.0  ...  16.199296   23040  (4721, 1.44)  0.117817   \n2      n/a   1280   0.8   0.0  ...  16.199296   23040  (3867, 1.33)  0.104375   \n\n  median         min  release  intercept sampling_interval  integral  \n0   0.06   (36, 0.0)      NaN        NaN               NaN       NaN  \n1   0.06  (135, 0.0)      NaN        NaN               NaN       NaN  \n2   0.06   (81, 0.0)      NaN        NaN               NaN       NaN  \n\n[3 rows x 26 columns]",
      "text/html": "<div>\n<style scoped>\n    .dataframe tbody tr th:only-of-type {\n        vertical-align: middle;\n    }\n\n    .dataframe tbody tr th {\n        vertical-align: top;\n    }\n\n    .dataframe thead th {\n        text-align: right;\n    }\n</style>\n<table border=\"1\" class=\"dataframe\">\n  <thead>\n    <tr style=\"text-align: right;\">\n      <th></th>\n      <th>measurement_name</th>\n      <th>sensor_id</th>\n      <th>datetime</th>\n      <th>measurement_id</th>\n      <th>unit</th>\n      <th>mode</th>\n      <th>rel_zero</th>\n      <th>speed</th>\n      <th>trig</th>\n      <th>stop</th>\n      <th>...</th>\n      <th>duration</th>\n      <th>length</th>\n      <th>max</th>\n      <th>mean</th>\n      <th>median</th>\n      <th>min</th>\n      <th>release</th>\n      <th>intercept</th>\n      <th>sampling_interval</th>\n      <th>integral</th>\n    </tr>\n  </thead>\n  <tbody>\n    <tr>\n      <th>0</th>\n      <td>14_41_10</td>\n      <td>14:99:1E</td>\n      <td>2022-03-23 14:41:10</td>\n      <td>1</td>\n      <td>kN</td>\n      <td>ABS</td>\n      <td>n/a</td>\n      <td>1280</td>\n      <td>0.8</td>\n      <td>0.0</td>\n      <td>...</td>\n      <td>16.199296</td>\n      <td>23040</td>\n      <td>(4737, 1.48)</td>\n      <td>0.111598</td>\n      <td>0.06</td>\n      <td>(36, 0.0)</td>\n      <td>NaN</td>\n      <td>NaN</td>\n      <td>NaN</td>\n      <td>NaN</td>\n    </tr>\n    <tr>\n      <th>1</th>\n      <td>14_47_59</td>\n      <td>14:99:1E</td>\n      <td>2022-03-23 14:47:59</td>\n      <td>2</td>\n      <td>kN</td>\n      <td>ABS</td>\n      <td>n/a</td>\n      <td>1280</td>\n      <td>0.8</td>\n      <td>0.0</td>\n      <td>...</td>\n      <td>16.199296</td>\n      <td>23040</td>\n      <td>(4721, 1.44)</td>\n      <td>0.117817</td>\n      <td>0.06</td>\n      <td>(135, 0.0)</td>\n      <td>NaN</td>\n      <td>NaN</td>\n      <td>NaN</td>\n      <td>NaN</td>\n    </tr>\n    <tr>\n      <th>2</th>\n      <td>14_55_03</td>\n      <td>14:99:1E</td>\n      <td>2022-03-23 14:55:03</td>\n      <td>3</td>\n      <td>kN</td>\n      <td>ABS</td>\n      <td>n/a</td>\n      <td>1280</td>\n      <td>0.8</td>\n      <td>0.0</td>\n      <td>...</td>\n      <td>16.199296</td>\n      <td>23040</td>\n      <td>(3867, 1.33)</td>\n      <td>0.104375</td>\n      <td>0.06</td>\n      <td>(81, 0.0)</td>\n      <td>NaN</td>\n      <td>NaN</td>\n      <td>NaN</td>\n      <td>NaN</td>\n    </tr>\n  </tbody>\n</table>\n<p>3 rows × 26 columns</p>\n</div>"
     },
     "execution_count": 8,
     "metadata": {},
     "output_type": "execute_result"
    }
   ],
   "source": [
    "ls3_metadata_df = ls3_series.metadata_df\n",
    "ls3_metadata_df.head(3)"
   ],
   "metadata": {
    "collapsed": false,
    "ExecuteTime": {
     "end_time": "2025-05-10T08:40:02.028343700Z",
     "start_time": "2025-05-10T08:40:01.932027700Z"
    }
   }
  },
  {
   "cell_type": "markdown",
   "source": [
    "## IMPORT: Datendokumentation laden"
   ],
   "metadata": {
    "collapsed": false
   }
  },
  {
   "cell_type": "code",
   "execution_count": 9,
   "outputs": [
    {
     "name": "stderr",
     "output_type": "stream",
     "text": [
      "2025-05-10 10:40:02 [\u001B[92mINFO\u001B[0m] linescale3.config.load_label_dict: Label dictionary loaded with 23 entries.\n"
     ]
    }
   ],
   "source": [
    "ls3_data_dict = ls3_series.create_data_dict()"
   ],
   "metadata": {
    "collapsed": false,
    "ExecuteTime": {
     "end_time": "2025-05-10T08:40:02.028343700Z",
     "start_time": "2025-05-10T08:40:02.012309800Z"
    }
   }
  },
  {
   "cell_type": "markdown",
   "source": [
    "## ANALYSE: Datendokumentation für Metadaten ansehen"
   ],
   "metadata": {
    "collapsed": false
   }
  },
  {
   "cell_type": "code",
   "execution_count": 10,
   "outputs": [
    {
     "data": {
      "text/plain": "<IPython.core.display.Markdown object>",
      "text/markdown": "|    | Variable                 | Kategorie   | Zeichen                | Deutsch             | Datentyp   | Einheit   | Beschreibung                                                 |\n|----|--------------------------|-------------|------------------------|---------------------|------------|-----------|--------------------------------------------------------------|\n|  0 | measurement_name         | ls3         | filename               | Dateiname           | object     | -         | Name der Log-Datei bzw. Serienbezeichnung der Messung        |\n|  1 | sensor_id                | ls3         | sensor\\_id             | Sensor ID           | object     | -         | ID des LineScale3 (Seriennummer)                             |\n|  2 | measurement_id           | ls3         | $ID_{\\mathrm{Log}}$    | LogNr.              | Int64      | -         | Mess-ID (interne LogNr. der LS3)                             |\n|  3 | datetime                 | ls3         | $t$                    | Zeitstempel         | object     | -         | Startzeitpunkt der Messung laut Gerät                        |\n|  4 | unit                     | ls3         | unit                   | Einheit             | object     | -         | Einheit der Kraftmessung (hier kN)                           |\n|  5 | mode                     | ls3         | mode                   | Modus               | object     | -         | Messmodus, hier ABS für absolute Kraft                       |\n|  6 | speed                    | ls3         | $f$                    | Abtastrate          | Int64      | Hz        | Messgeschwindigkeit in Hz                                    |\n|  7 | trig                     | ls3         | $F_{\\mathrm{trig}}$    | Triggerkraft        | float64    | kN        | Mindestkraft für Messbeginn                                  |\n|  8 | pre                      | ls3         | $t_{\\mathrm{pre}}$     | Vorlaufzeit         | Int64      | s         | Nachträglich ergänzter Zeitraum vor Trigger                  |\n|  9 | catch                    | ls3         | $t_{\\mathrm{catch}}$   | Aufzeichnungszeit   | Int64      | s         | Dauer der Datenerfassung nach Trigger                        |\n| 10 | timing_correction_factor | ls3         | $t_{\\mathrm{corr}}$    | Zeitkorrekturfaktor | float64    | -         | Korrekturfaktor für Zeit- und Dauerangaben (z. B. 0.9)       |\n| 11 | duration                 | ls3         | $\\Delta t$             | Messdauer           | float64    | s         | Gesamtdauer der Messung                                      |\n| 12 | length                   | ls3         | $n$                    | Anzahl Messpunkte   | Int64      | -         | Anzahl erfasster Datenpunkte                                 |\n| 13 | mean                     | ls3         | $\\bar{F}$              | Mittlere Kraft      | float64    | kN        | Arithmetisches Mittel der gemessenen Kraft                   |\n| 14 | median                   | ls3         | $F_{\\mathrm{median}}$  | Median Kraft        | float64    | kN        | Median der gemessenen Kraft                                  |\n| 15 | release                  | ls3         | $F_{\\mathrm{release}}$ | Vorspannkraft-Ist   | float64    | kN        | Tatsächlich realisierte Vorspannkraft im Zugseil bei Release |\n| 16 | datetime_start           | ls3         | $t_{\\mathrm{start}}$   | Startzeitpunkt      | object     | -         | Berechneter Startzeitpunkt der Messung                       |\n| 17 | datetime_end             | ls3         | $t_{\\mathrm{end}}$     | Endzeitpunkt        | object     | -         | Berechneter Endzeitpunkt der Messung                         |\n| 18 | max                      | ls3         | $F_{\\mathrm{max}}$     | Kraftmaximum        | object     | kN        | Index und Wert der maximalen Kraft                           |\n| 19 | min                      | ls3         | $F_{\\mathrm{min}}$     | Kraftminimum        | object     | kN        | Index und Wert der minimalen Kraft                           |\n| 20 | rel_zero                 | ls3         | rel\\_zero              | Nullpunkt relativ   | float64    | -         | Für ABS-Modus nicht relevant (hier NaN)                      |\n| 21 | stop                     | ls3         | $t_{\\mathrm{stop}}$    | Stopp-Kriterium     | float64    | s         | Zeitpunkt der Beendigung der Messung (fixe Dauer bei KS)     |\n| 22 | total                    | ls3         | $t_{\\mathrm{total}}$   | Messzeitraum gesamt | Int64      | s         | Gesamtlänge der Messung inkl. Pre-Trigger-Phase              |"
     },
     "metadata": {},
     "output_type": "display_data"
    }
   ],
   "source": [
    "# In DataFrame umwandeln\n",
    "ls3_data_dict_df =build_data_dict_df(ls3_data_dict)\n",
    "\n",
    "# In Markdown umwandeln und anzeigen\n",
    "md_text = ls3_data_dict_df.to_markdown(tablefmt=\"github\")\n",
    "display(Markdown(md_text))"
   ],
   "metadata": {
    "collapsed": false,
    "ExecuteTime": {
     "end_time": "2025-05-10T08:40:02.053736Z",
     "start_time": "2025-05-10T08:40:02.023350700Z"
    }
   }
  },
  {
   "cell_type": "markdown",
   "source": [
    "## EXPORT: Daten exportieren für Weiterverarbeitung (.feather, .csv, .json)"
   ],
   "metadata": {
    "collapsed": false
   }
  },
  {
   "cell_type": "code",
   "execution_count": 11,
   "outputs": [],
   "source": [
    "# DataFrame als Feather\n",
    "ls3_metadata_df.to_feather(data_export_directory / \"ls3.feather\")\n",
    "ls3_metadata_df.to_csv(data_export_directory / \"ls3.csv\", sep=\";\", index=False, encoding=\"utf-8\")\n",
    "\n",
    "# Dict als JSON (UTF-8, sauber eingerückt)\n",
    "with open(data_export_directory / \"ls3_data_dict.json\", \"w\", encoding=\"utf-8\") as f:\n",
    "    json.dump(ls3_data_dict, f,  indent=4, ensure_ascii=False)"
   ],
   "metadata": {
    "collapsed": false,
    "ExecuteTime": {
     "end_time": "2025-05-10T08:40:02.194607900Z",
     "start_time": "2025-05-10T08:40:02.040739600Z"
    }
   }
  },
  {
   "cell_type": "code",
   "execution_count": 12,
   "outputs": [],
   "source": [
    "# Feather laden\n",
    "\n",
    "# ls3_metadata_df = pd.read_feather(data_export_directory / \"ls3_metadata.feather\")\n",
    "# \n",
    "# # JSON laden\n",
    "# with open(data_export_directory / \"ls3_data_dict.json\", \"r\", encoding=\"utf-8\") as f:\n",
    "#     ls3_data_dict = json.load(f)"
   ],
   "metadata": {
    "collapsed": false,
    "ExecuteTime": {
     "end_time": "2025-05-10T08:40:02.243597300Z",
     "start_time": "2025-05-10T08:40:02.066695Z"
    }
   }
  },
  {
   "cell_type": "markdown",
   "source": [
    "## LATEX-EXPORT: Datendokumentation als Latex-Tabelle exportieren (.tex)"
   ],
   "metadata": {
    "collapsed": false
   }
  },
  {
   "cell_type": "code",
   "execution_count": 13,
   "outputs": [
    {
     "name": "stdout",
     "output_type": "stream",
     "text": [
      "Content saved to: C:\\kyellsen\\005_Projekte\\2024_BA\\032_Feldversuch_2023_Plesse\\030_Analysen\\2023_Kronensicherung_Plesse_Kraefte_Schwingungen\\working_directory\\export_latex\\feldversuch_2_ls3_daten_dokumentation.tex\n"
     ]
    }
   ],
   "source": [
    "ls3_data_dict_df = build_data_dict_df(ls3_data_dict, escape_index=True, select_latex_fields=True)\n",
    "latex_string = ls3_data_dict_df.to_latex(index=False, escape=False)\n",
    "caption = \"Feldversuch 2 - LS3 Daten Dokumentation\"\n",
    "\n",
    "save_latex_table(latex_string, caption, latex_export_directory)"
   ],
   "metadata": {
    "collapsed": false,
    "ExecuteTime": {
     "end_time": "2025-05-10T08:40:02.285290200Z",
     "start_time": "2025-05-10T08:40:02.072221800Z"
    }
   }
  }
 ],
 "metadata": {
  "kernelspec": {
   "display_name": "Python 3 (ipykernel)",
   "language": "python",
   "name": "python3"
  },
  "language_info": {
   "codemirror_mode": {
    "name": "ipython",
    "version": 3
   },
   "file_extension": ".py",
   "mimetype": "text/x-python",
   "name": "python",
   "nbconvert_exporter": "python",
   "pygments_lexer": "ipython3",
   "version": "3.11.2"
  }
 },
 "nbformat": 4,
 "nbformat_minor": 4
}
