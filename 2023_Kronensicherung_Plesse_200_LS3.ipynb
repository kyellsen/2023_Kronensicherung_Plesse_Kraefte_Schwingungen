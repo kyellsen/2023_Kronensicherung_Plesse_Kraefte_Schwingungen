{
 "cells": [
  {
   "cell_type": "markdown",
   "metadata": {},
   "source": [
    "---\n",
    "title: \"2023_Kronensicherung_Plesse_002_LS3\"\n",
    "author: \"Kyell Jensen\"\n",
    "date: \"2024-08-06\"\n",
    "format: pdf\n",
    "editor: visual\n",
    "---"
   ]
  },
  {
   "cell_type": "markdown",
   "metadata": {
    "collapsed": false
   },
   "source": [
    "# 2023_Kronensicherung_Plesse_Kraefte_LS3\n",
    "## LS3: Daten der Kraftmessdosen (lineScale3 Data = LS3)\n",
    "\n",
    "Nutze eine geeignete Python 3.11 Umgebung (z. B. virtuelle Environment) und installier das Paket linescale3 (LS3) inklusive kj_core und kj_logger und weiteren requirements."
   ]
  },
  {
   "cell_type": "markdown",
   "metadata": {
    "collapsed": false
   },
   "source": [
    "## Arbeitsumgebung vorbereiten\n",
    "\n",
    "Es werden zuerst benötigte Standard-Pakete importiert. Nachfolgend das extra geschriebenen Pakete LS3. Fehler beim Import dieses Pakets sind ggf. Bugs. Es nutzte eine gemeinsame CodeBasis in den Paketen kj_core (Core-Package) und kj_logger (individualisiertes Logging des Verarbeitungs-Prozesses). Diese sollte i. d. R. über die requirements mit installiert werden."
   ]
  },
  {
   "cell_type": "markdown",
   "metadata": {
    "collapsed": false
   },
   "source": [
    "### IMPORT: Importieren von Standardbibliotheken\n",
    "\n",
    "Die folgenden Bibliotheken werden importiert, um grundlegende Funktionen für Strukturierung, Datenverarbeitung, Plotting und statistische Auswertung bereit zu stellen."
   ]
  },
  {
   "cell_type": "code",
   "execution_count": 16,
   "metadata": {
    "ExecuteTime": {
     "end_time": "2025-05-12T12:24:53.283934800Z",
     "start_time": "2025-05-12T12:24:53.182195400Z"
    }
   },
   "outputs": [],
   "source": [
    "import json\n",
    "from IPython.display import Markdown, display\n",
    "\n",
    "# Datenverarbeitung\n",
    "import numpy as np\n",
    "import pandas as pd"
   ]
  },
  {
   "cell_type": "markdown",
   "metadata": {
    "collapsed": false
   },
   "source": [
    "### IMPORT: Importieren eignes Packet lineScale3\n",
    "\n",
    "Das Paket linescale3 wurde vom Autor (Kyell Jensen) zum einfachen Analysieren, Plotten und zur Interpretation der CSV-Messdaten der lineScale3 Kraftmessdose der Firma lineGrip geschrieben (https://www.linegrip.com/linescale-3/). Das Packet ist auf GitHub verfügbar (https://github.com/kyellsen/linescale3). Nachfolgend wird das Packet und einige dort definierten Klassen importiert."
   ]
  },
  {
   "cell_type": "code",
   "execution_count": 17,
   "metadata": {
    "collapsed": false,
    "ExecuteTime": {
     "end_time": "2025-05-12T12:24:53.332927600Z",
     "start_time": "2025-05-12T12:24:53.188434800Z"
    }
   },
   "outputs": [],
   "source": [
    "import linescale3 as ls3\n",
    "from linescale3 import Series, Sensor, Measurement\n",
    "# ls3.help() # Test"
   ]
  },
  {
   "cell_type": "markdown",
   "source": [
    "Lade allgemeine Export-Funktionen, um die Daten als Latex-Tabellen zu exportieren"
   ],
   "metadata": {
    "collapsed": false
   }
  },
  {
   "cell_type": "code",
   "execution_count": 18,
   "outputs": [],
   "source": [
    "from kj_core.utils.latex_export import (\n",
    "    save_latex_table,\n",
    "    build_data_dict_df\n",
    ")"
   ],
   "metadata": {
    "collapsed": false,
    "ExecuteTime": {
     "end_time": "2025-05-12T12:24:53.427180500Z",
     "start_time": "2025-05-12T12:24:53.203121100Z"
    }
   }
  },
  {
   "cell_type": "markdown",
   "source": [
    "### IMPORT: Projekt Konfiguration laden\n",
    "\n",
    "Lege Pfade für Daten-Importe, Daten-Exporte etc. fest (ggf. anpassen an eigene Verzeichnisstruktur), ausgelagert in gemeinsame Config für verschiedene Notebooks"
   ],
   "metadata": {
    "collapsed": false
   }
  },
  {
   "cell_type": "code",
   "execution_count": 19,
   "outputs": [],
   "source": [
    "# Importiere alle Einstellungen aus der project_config.py\n",
    "from project_config import (\n",
    "    working_directory,\n",
    "    analyse_name,\n",
    "    data_path,\n",
    "    data_export_directory,\n",
    "    latex_export_directory\n",
    ")"
   ],
   "metadata": {
    "collapsed": false,
    "ExecuteTime": {
     "end_time": "2025-05-12T12:24:53.427180500Z",
     "start_time": "2025-05-12T12:24:53.207641300Z"
    }
   }
  },
  {
   "cell_type": "markdown",
   "metadata": {},
   "source": [
    "## IMPORT: lineScale Daten laden\n",
    "\n",
    "Die Funktion 'ls3.setup' erstellt Instanzen spezifischer Klassen, die für das Paket notwendig sind (CONFIG, LOG_MANAGER, PLOT_MANAGER). \n",
    "\n",
    "Über die Klasse 'ls3.Series' wird eine neue Messreihe initialisiert und als 'ls3_series' gespeichert. Im Verzeichnis 'ls3_data_path' finden sich die Messdaten von zwei lineScale3 ('LS14BFE6' und 'LS14991E').\n",
    "LS14BFE6: Befand sich während der Messung im Zugseil zwischen den Stämmlingen und erfasste die Vorspannung. Es wurden insgesamt 31 Logs (hier Measurements) aufgezeichnet. Eine Messfrequenz von 40 Hz erschien hier ausreichend.\n",
    "LS14991E: Befand sich während der Messung in der Kronensicherung und hat die Kraft in der Kronensicherung nach dem Release gemessen. Es wurden 19 Logs erfasst, da die ersten Messungen als Referenz ohne Kronensicherung stattfanden. Hier wurde die maximale Messfrequenz von 1028 Hz gewählt, um Lastspitzen optimal zu erfassen."
   ]
  },
  {
   "cell_type": "code",
   "execution_count": 20,
   "metadata": {
    "ExecuteTime": {
     "end_time": "2025-05-12T12:24:53.763886800Z",
     "start_time": "2025-05-12T12:24:53.212495100Z"
    }
   },
   "outputs": [
    {
     "name": "stderr",
     "output_type": "stream",
     "text": [
      "2025-05-12 14:24:53 [\u001B[92mINFO\u001B[0m] kj_logger.update_config: <kj_logger.LogManager object at 0x000002A90857A050> initialized - update_config! Code: 000\n",
      "2025-05-12 14:24:53 [\u001B[93mWARNING\u001B[0m] kj_core.core_config.set_working_directory: The directory C:\\kyellsen\\005_Projekte\\2024_BA\\032_Feldversuch_2023_Plesse\\030_Analysen\\2023_Kronensicherung_Plesse_Kraefte_Schwingungen\\working_directory\\ls3 already exists.\n",
      "2025-05-12 14:24:53 [\u001B[92mINFO\u001B[0m] kj_core.core_config.set_working_directory: Working directory set to C:\\kyellsen\\005_Projekte\\2024_BA\\032_Feldversuch_2023_Plesse\\030_Analysen\\2023_Kronensicherung_Plesse_Kraefte_Schwingungen\\working_directory\\ls3!\n",
      "2025-05-12 14:24:53 [\u001B[92mINFO\u001B[0m] kj_core.core_config.__init__: <CoreConfig>\n",
      "  Package:            linescale3\n",
      "  Working Directory:  C:\\kyellsen\\005_Projekte\\2024_BA\\032_Feldversuch_2023_Plesse\\030_Analysen\\2023_Kronensicherung_Plesse_Kraefte_Schwingungen\\working_directory\\ls3\n",
      "  Plot Directory:     C:\\kyellsen\\005_Projekte\\2024_BA\\032_Feldversuch_2023_Plesse\\030_Analysen\\2023_Kronensicherung_Plesse_Kraefte_Schwingungen\\working_directory\\ls3\\plots\n",
      "  Data Directory:     C:\\kyellsen\\005_Projekte\\2024_BA\\032_Feldversuch_2023_Plesse\\030_Analysen\\2023_Kronensicherung_Plesse_Kraefte_Schwingungen\\working_directory\\ls3\\data\n",
      "  Database Directory: C:\\kyellsen\\005_Projekte\\2024_BA\\032_Feldversuch_2023_Plesse\\030_Analysen\\2023_Kronensicherung_Plesse_Kraefte_Schwingungen\\working_directory\\ls3\\databases\n",
      " initialized! Code: 001\n",
      "2025-05-12 14:24:53 [\u001B[92mINFO\u001B[0m] linescale3.setup: ls3: Setup linescale3 package!\n",
      "2025-05-12 14:24:53 [\u001B[92mINFO\u001B[0m] kj_core.utils.plot_manager.__init__: <PlotManager>\n",
      "  Plot Directory:    C:\\kyellsen\\005_Projekte\\2024_BA\\032_Feldversuch_2023_Plesse\\030_Analysen\\2023_Kronensicherung_Plesse_Kraefte_Schwingungen\\working_directory\\ls3\\plots\n",
      "  DPI:               300\n",
      "  Figure Size:       (8, 6)\n",
      "  Seaborn Style:     'whitegrid'\n",
      "  Color Palette:     'bright'\n",
      "  Grid Enabled:      True\n",
      "  Wide Format:       True\n",
      "  From Config:       Config\n",
      " initialized! Code: 005\n",
      "2025-05-12 14:24:53 [\u001B[92mINFO\u001B[0m] linescale3.setup: ls3: linescale3 setup completed.\n",
      "2025-05-12 14:24:53 [\u001B[92mINFO\u001B[0m] linescale3.classes.measurement.read_csv: Read CSV for Measurement(id='1', name='14_41_10', sensor_id='14:99:1E') successful.\n",
      "2025-05-12 14:24:53 [\u001B[92mINFO\u001B[0m] linescale3.classes.measurement.read_csv: Read CSV for Measurement(id='2', name='14_47_59', sensor_id='14:99:1E') successful.\n",
      "2025-05-12 14:24:53 [\u001B[92mINFO\u001B[0m] linescale3.classes.measurement.read_csv: Read CSV for Measurement(id='3', name='14_55_03', sensor_id='14:99:1E') successful.\n",
      "2025-05-12 14:24:53 [\u001B[92mINFO\u001B[0m] linescale3.classes.measurement.read_csv: Read CSV for Measurement(id='4', name='15_04_05', sensor_id='14:99:1E') successful.\n",
      "2025-05-12 14:24:53 [\u001B[92mINFO\u001B[0m] linescale3.classes.measurement.read_csv: Read CSV for Measurement(id='5', name='15_08_55', sensor_id='14:99:1E') successful.\n",
      "2025-05-12 14:24:53 [\u001B[92mINFO\u001B[0m] linescale3.classes.measurement.read_csv: Read CSV for Measurement(id='6', name='15_12_57', sensor_id='14:99:1E') successful.\n",
      "2025-05-12 14:24:53 [\u001B[92mINFO\u001B[0m] linescale3.classes.measurement.read_csv: Read CSV for Measurement(id='7', name='15_16_58', sensor_id='14:99:1E') successful.\n",
      "2025-05-12 14:24:53 [\u001B[92mINFO\u001B[0m] linescale3.classes.measurement.read_csv: Read CSV for Measurement(id='8', name='15_21_49', sensor_id='14:99:1E') successful.\n",
      "2025-05-12 14:24:53 [\u001B[92mINFO\u001B[0m] linescale3.classes.measurement.read_csv: Read CSV for Measurement(id='9', name='15_25_17', sensor_id='14:99:1E') successful.\n",
      "2025-05-12 14:24:53 [\u001B[92mINFO\u001B[0m] linescale3.classes.measurement.read_csv: Read CSV for Measurement(id='10', name='16_11_40', sensor_id='14:99:1E') successful.\n",
      "2025-05-12 14:24:53 [\u001B[92mINFO\u001B[0m] linescale3.classes.measurement.read_csv: Read CSV for Measurement(id='11', name='16_17_21', sensor_id='14:99:1E') successful.\n",
      "2025-05-12 14:24:53 [\u001B[92mINFO\u001B[0m] linescale3.classes.measurement.read_csv: Read CSV for Measurement(id='12', name='16_23_13', sensor_id='14:99:1E') successful.\n",
      "2025-05-12 14:24:53 [\u001B[92mINFO\u001B[0m] linescale3.classes.measurement.read_csv: Read CSV for Measurement(id='13', name='16_37_11', sensor_id='14:99:1E') successful.\n",
      "2025-05-12 14:24:53 [\u001B[92mINFO\u001B[0m] linescale3.classes.measurement.read_csv: Read CSV for Measurement(id='14', name='16_41_28', sensor_id='14:99:1E') successful.\n",
      "2025-05-12 14:24:53 [\u001B[92mINFO\u001B[0m] linescale3.classes.measurement.read_csv: Read CSV for Measurement(id='15', name='16_46_46', sensor_id='14:99:1E') successful.\n",
      "2025-05-12 14:24:53 [\u001B[92mINFO\u001B[0m] linescale3.classes.measurement.read_csv: Read CSV for Measurement(id='16', name='16_56_53', sensor_id='14:99:1E') successful.\n",
      "2025-05-12 14:24:53 [\u001B[92mINFO\u001B[0m] linescale3.classes.measurement.read_csv: Read CSV for Measurement(id='17', name='17_01_49', sensor_id='14:99:1E') successful.\n",
      "2025-05-12 14:24:53 [\u001B[92mINFO\u001B[0m] linescale3.classes.measurement.read_csv: Read CSV for Measurement(id='18', name='17_05_21', sensor_id='14:99:1E') successful.\n",
      "2025-05-12 14:24:53 [\u001B[92mINFO\u001B[0m] linescale3.classes.measurement.read_csv: Read CSV for Measurement(id='19', name='17_16_51', sensor_id='14:99:1E') successful.\n",
      "2025-05-12 14:24:53 [\u001B[92mINFO\u001B[0m] linescale3.classes.measurement.read_csv: Read CSV for Measurement(id='1', name='11_11_55', sensor_id='14:BF:E6') successful.\n",
      "2025-05-12 14:24:53 [\u001B[92mINFO\u001B[0m] linescale3.classes.measurement.read_csv: Read CSV for Measurement(id='2', name='11_24_23', sensor_id='14:BF:E6') successful.\n",
      "2025-05-12 14:24:53 [\u001B[92mINFO\u001B[0m] linescale3.classes.measurement.read_csv: Read CSV for Measurement(id='3', name='11_31_12', sensor_id='14:BF:E6') successful.\n",
      "2025-05-12 14:24:53 [\u001B[92mINFO\u001B[0m] linescale3.classes.measurement.read_csv: Read CSV for Measurement(id='4', name='11_54_33', sensor_id='14:BF:E6') successful.\n",
      "2025-05-12 14:24:53 [\u001B[92mINFO\u001B[0m] linescale3.classes.measurement.read_csv: Read CSV for Measurement(id='5', name='12_02_03', sensor_id='14:BF:E6') successful.\n",
      "2025-05-12 14:24:53 [\u001B[92mINFO\u001B[0m] linescale3.classes.measurement.read_csv: Read CSV for Measurement(id='6', name='12_07_09', sensor_id='14:BF:E6') successful.\n",
      "2025-05-12 14:24:53 [\u001B[92mINFO\u001B[0m] linescale3.classes.measurement.read_csv: Read CSV for Measurement(id='7', name='12_11_49', sensor_id='14:BF:E6') successful.\n",
      "2025-05-12 14:24:53 [\u001B[92mINFO\u001B[0m] linescale3.classes.measurement.read_csv: Read CSV for Measurement(id='8', name='12_16_13', sensor_id='14:BF:E6') successful.\n",
      "2025-05-12 14:24:53 [\u001B[92mINFO\u001B[0m] linescale3.classes.measurement.read_csv: Read CSV for Measurement(id='9', name='12_23_21', sensor_id='14:BF:E6') successful.\n",
      "2025-05-12 14:24:53 [\u001B[92mINFO\u001B[0m] linescale3.classes.measurement.read_csv: Read CSV for Measurement(id='10', name='12_27_13', sensor_id='14:BF:E6') successful.\n",
      "2025-05-12 14:24:53 [\u001B[92mINFO\u001B[0m] linescale3.classes.measurement.read_csv: Read CSV for Measurement(id='11', name='14_40_00', sensor_id='14:BF:E6') successful.\n",
      "2025-05-12 14:24:53 [\u001B[92mINFO\u001B[0m] linescale3.classes.measurement.read_csv: Read CSV for Measurement(id='12', name='14_47_06', sensor_id='14:BF:E6') successful.\n",
      "2025-05-12 14:24:53 [\u001B[92mINFO\u001B[0m] linescale3.classes.measurement.read_csv: Read CSV for Measurement(id='13', name='14_54_20', sensor_id='14:BF:E6') successful.\n",
      "2025-05-12 14:24:53 [\u001B[92mINFO\u001B[0m] linescale3.classes.measurement.read_csv: Read CSV for Measurement(id='14', name='15_00_22', sensor_id='14:BF:E6') successful.\n",
      "2025-05-12 14:24:53 [\u001B[92mINFO\u001B[0m] linescale3.classes.measurement.read_csv: Read CSV for Measurement(id='15', name='15_03_21', sensor_id='14:BF:E6') successful.\n",
      "2025-05-12 14:24:53 [\u001B[92mINFO\u001B[0m] linescale3.classes.measurement.read_csv: Read CSV for Measurement(id='16', name='15_08_07', sensor_id='14:BF:E6') successful.\n",
      "2025-05-12 14:24:53 [\u001B[92mINFO\u001B[0m] linescale3.classes.measurement.read_csv: Read CSV for Measurement(id='17', name='15_11_55', sensor_id='14:BF:E6') successful.\n",
      "2025-05-12 14:24:53 [\u001B[92mINFO\u001B[0m] linescale3.classes.measurement.read_csv: Read CSV for Measurement(id='18', name='15_16_24', sensor_id='14:BF:E6') successful.\n",
      "2025-05-12 14:24:53 [\u001B[92mINFO\u001B[0m] linescale3.classes.measurement.read_csv: Read CSV for Measurement(id='19', name='15_20_38', sensor_id='14:BF:E6') successful.\n",
      "2025-05-12 14:24:53 [\u001B[92mINFO\u001B[0m] linescale3.classes.measurement.read_csv: Read CSV for Measurement(id='20', name='15_24_40', sensor_id='14:BF:E6') successful.\n",
      "2025-05-12 14:24:53 [\u001B[92mINFO\u001B[0m] linescale3.classes.measurement.read_csv: Read CSV for Measurement(id='21', name='16_10_55', sensor_id='14:BF:E6') successful.\n",
      "2025-05-12 14:24:53 [\u001B[92mINFO\u001B[0m] linescale3.classes.measurement.read_csv: Read CSV for Measurement(id='22', name='16_16_33', sensor_id='14:BF:E6') successful.\n",
      "2025-05-12 14:24:53 [\u001B[92mINFO\u001B[0m] linescale3.classes.measurement.read_csv: Read CSV for Measurement(id='23', name='16_21_50', sensor_id='14:BF:E6') successful.\n",
      "2025-05-12 14:24:53 [\u001B[92mINFO\u001B[0m] linescale3.classes.measurement.read_csv: Read CSV for Measurement(id='24', name='16_36_05', sensor_id='14:BF:E6') successful.\n",
      "2025-05-12 14:24:53 [\u001B[92mINFO\u001B[0m] linescale3.classes.measurement.read_csv: Read CSV for Measurement(id='25', name='16_40_07', sensor_id='14:BF:E6') successful.\n",
      "2025-05-12 14:24:53 [\u001B[92mINFO\u001B[0m] linescale3.classes.measurement.read_csv: Read CSV for Measurement(id='26', name='16_44_31', sensor_id='14:BF:E6') successful.\n",
      "2025-05-12 14:24:53 [\u001B[92mINFO\u001B[0m] linescale3.classes.measurement.read_csv: Read CSV for Measurement(id='27', name='16_56_04', sensor_id='14:BF:E6') successful.\n",
      "2025-05-12 14:24:53 [\u001B[92mINFO\u001B[0m] linescale3.classes.measurement.read_csv: Read CSV for Measurement(id='28', name='17_00_04', sensor_id='14:BF:E6') successful.\n",
      "2025-05-12 14:24:53 [\u001B[92mINFO\u001B[0m] linescale3.classes.measurement.read_csv: Read CSV for Measurement(id='29', name='17_04_51', sensor_id='14:BF:E6') successful.\n",
      "2025-05-12 14:24:53 [\u001B[92mINFO\u001B[0m] linescale3.classes.measurement.read_csv: Read CSV for Measurement(id='30', name='17_07_37', sensor_id='14:BF:E6') successful.\n",
      "2025-05-12 14:24:53 [\u001B[92mINFO\u001B[0m] linescale3.classes.measurement.read_csv: Read CSV for Measurement(id='31', name='17_16_09', sensor_id='14:BF:E6') successful.\n"
     ]
    }
   ],
   "source": [
    "ls3.setup(working_directory=working_directory, log_level=\"info\", safe_logs_to_file=True)\n",
    "\n",
    "ls3_data_path = data_path / 'LS3'\n",
    "ls3_series: Series = ls3.classes.Series(name=analyse_name, path=ls3_data_path)"
   ]
  },
  {
   "cell_type": "markdown",
   "metadata": {
    "collapsed": false
   },
   "source": [
    "## ANALYSE: Explorative Datenanalyse"
   ]
  },
  {
   "cell_type": "code",
   "execution_count": 21,
   "outputs": [
    {
     "name": "stderr",
     "output_type": "stream",
     "text": [
      "2025-05-12 14:24:53 [\u001B[92mINFO\u001B[0m] linescale3.classes.measurement.calculate_release_force: calculate_release_force successful: release=2.502 kN\n",
      "2025-05-12 14:24:53 [\u001B[92mINFO\u001B[0m] linescale3.classes.measurement.calculate_release_force: calculate_release_force successful: release=2.723 kN\n",
      "2025-05-12 14:24:53 [\u001B[92mINFO\u001B[0m] linescale3.classes.measurement.calculate_release_force: calculate_release_force successful: release=2.762 kN\n",
      "2025-05-12 14:24:53 [\u001B[92mINFO\u001B[0m] linescale3.classes.measurement.calculate_release_force: calculate_release_force successful: release=2.740 kN\n",
      "2025-05-12 14:24:53 [\u001B[92mINFO\u001B[0m] linescale3.classes.measurement.calculate_release_force: calculate_release_force successful: release=2.365 kN\n",
      "2025-05-12 14:24:53 [\u001B[92mINFO\u001B[0m] linescale3.classes.measurement.calculate_release_force: calculate_release_force successful: release=2.380 kN\n",
      "2025-05-12 14:24:53 [\u001B[92mINFO\u001B[0m] linescale3.classes.measurement.calculate_release_force: calculate_release_force successful: release=2.369 kN\n",
      "2025-05-12 14:24:53 [\u001B[92mINFO\u001B[0m] linescale3.classes.measurement.calculate_release_force: calculate_release_force successful: release=1.964 kN\n",
      "2025-05-12 14:24:53 [\u001B[92mINFO\u001B[0m] linescale3.classes.measurement.calculate_release_force: calculate_release_force successful: release=1.978 kN\n",
      "2025-05-12 14:24:53 [\u001B[92mINFO\u001B[0m] linescale3.classes.measurement.calculate_release_force: calculate_release_force successful: release=1.947 kN\n",
      "2025-05-12 14:24:53 [\u001B[92mINFO\u001B[0m] linescale3.classes.measurement.calculate_release_force: calculate_release_force successful: release=2.758 kN\n",
      "2025-05-12 14:24:53 [\u001B[92mINFO\u001B[0m] linescale3.classes.measurement.calculate_release_force: calculate_release_force successful: release=2.780 kN\n",
      "2025-05-12 14:24:53 [\u001B[92mINFO\u001B[0m] linescale3.classes.measurement.calculate_release_force: calculate_release_force successful: release=2.764 kN\n",
      "2025-05-12 14:24:53 [\u001B[92mINFO\u001B[0m] linescale3.classes.measurement.calculate_release_force: calculate_release_force successful: release=nan kN\n",
      "2025-05-12 14:24:53 [\u001B[92mINFO\u001B[0m] linescale3.classes.measurement.calculate_release_force: calculate_release_force successful: release=2.307 kN\n",
      "2025-05-12 14:24:53 [\u001B[92mINFO\u001B[0m] linescale3.classes.measurement.calculate_release_force: calculate_release_force successful: release=2.357 kN\n",
      "2025-05-12 14:24:53 [\u001B[92mINFO\u001B[0m] linescale3.classes.measurement.calculate_release_force: calculate_release_force successful: release=2.348 kN\n",
      "2025-05-12 14:24:53 [\u001B[92mINFO\u001B[0m] linescale3.classes.measurement.calculate_release_force: calculate_release_force successful: release=2.028 kN\n",
      "2025-05-12 14:24:53 [\u001B[92mINFO\u001B[0m] linescale3.classes.measurement.calculate_release_force: calculate_release_force successful: release=2.081 kN\n",
      "2025-05-12 14:24:53 [\u001B[92mINFO\u001B[0m] linescale3.classes.measurement.calculate_release_force: calculate_release_force successful: release=1.997 kN\n",
      "2025-05-12 14:24:53 [\u001B[92mINFO\u001B[0m] linescale3.classes.measurement.calculate_release_force: calculate_release_force successful: release=2.757 kN\n",
      "2025-05-12 14:24:53 [\u001B[92mINFO\u001B[0m] linescale3.classes.measurement.calculate_release_force: calculate_release_force successful: release=2.766 kN\n",
      "2025-05-12 14:24:53 [\u001B[92mINFO\u001B[0m] linescale3.classes.measurement.calculate_release_force: calculate_release_force successful: release=2.781 kN\n",
      "2025-05-12 14:24:53 [\u001B[92mINFO\u001B[0m] linescale3.classes.measurement.calculate_release_force: calculate_release_force successful: release=2.344 kN\n",
      "2025-05-12 14:24:53 [\u001B[92mINFO\u001B[0m] linescale3.classes.measurement.calculate_release_force: calculate_release_force successful: release=2.344 kN\n",
      "2025-05-12 14:24:53 [\u001B[92mINFO\u001B[0m] linescale3.classes.measurement.calculate_release_force: calculate_release_force successful: release=2.455 kN\n",
      "2025-05-12 14:24:53 [\u001B[92mINFO\u001B[0m] linescale3.classes.measurement.calculate_release_force: calculate_release_force successful: release=1.998 kN\n",
      "2025-05-12 14:24:53 [\u001B[92mINFO\u001B[0m] linescale3.classes.measurement.calculate_release_force: calculate_release_force successful: release=1.984 kN\n",
      "2025-05-12 14:24:53 [\u001B[92mINFO\u001B[0m] linescale3.classes.measurement.calculate_release_force: calculate_release_force successful: release=1.957 kN\n",
      "2025-05-12 14:24:53 [\u001B[92mINFO\u001B[0m] linescale3.classes.measurement.calculate_release_force: calculate_release_force successful: release=nan kN\n",
      "2025-05-12 14:24:53 [\u001B[92mINFO\u001B[0m] linescale3.classes.measurement.calculate_release_force: calculate_release_force successful: release=2.746 kN\n"
     ]
    },
    {
     "data": {
      "text/plain": "[2.502,\n 2.7231,\n 2.76205,\n 2.7395000000000005,\n 2.3647500000000004,\n 2.3799999999999994,\n 2.3691999999999998,\n 1.9644,\n 1.9783,\n 1.9468,\n 2.757849999999999,\n 2.780100000000001,\n 2.7635,\n nan,\n 2.30735,\n 2.35655,\n 2.34755,\n 2.0275499999999997,\n 2.0809499999999996,\n 1.9973999999999998,\n 2.7569499999999993,\n 2.7658,\n 2.7807000000000004,\n 2.34425,\n 2.34405,\n 2.45465,\n 1.9983999999999997,\n 1.98435,\n 1.9574,\n nan,\n 2.7456000000000005]"
     },
     "execution_count": 21,
     "metadata": {},
     "output_type": "execute_result"
    }
   ],
   "source": [
    "sensor_rope: Sensor = ls3_series.sensors[1]\n",
    "sensor_rope.calculate_release_force()"
   ],
   "metadata": {
    "collapsed": false,
    "ExecuteTime": {
     "end_time": "2025-05-12T12:24:53.960389900Z",
     "start_time": "2025-05-12T12:24:53.616301700Z"
    }
   }
  },
  {
   "cell_type": "code",
   "execution_count": 22,
   "outputs": [
    {
     "name": "stderr",
     "output_type": "stream",
     "text": [
      "2025-05-12 14:24:53 [\u001B[92mINFO\u001B[0m] linescale3.classes.measurement.apply_force_intercept: apply_force_intercept successful for measurement '14_41_10': intercept=0.058\n",
      "2025-05-12 14:24:53 [\u001B[92mINFO\u001B[0m] linescale3.classes.measurement.apply_force_intercept: apply_force_intercept successful for measurement '14_47_59': intercept=0.060\n",
      "2025-05-12 14:24:53 [\u001B[92mINFO\u001B[0m] linescale3.classes.measurement.apply_force_intercept: apply_force_intercept successful for measurement '14_55_03': intercept=0.062\n",
      "2025-05-12 14:24:54 [\u001B[92mINFO\u001B[0m] linescale3.classes.measurement.apply_force_intercept: apply_force_intercept successful for measurement '15_04_05': intercept=0.040\n",
      "2025-05-12 14:24:54 [\u001B[92mINFO\u001B[0m] linescale3.classes.measurement.apply_force_intercept: apply_force_intercept successful for measurement '15_08_55': intercept=0.064\n",
      "2025-05-12 14:24:54 [\u001B[92mINFO\u001B[0m] linescale3.classes.measurement.apply_force_intercept: apply_force_intercept successful for measurement '15_12_57': intercept=0.042\n",
      "2025-05-12 14:24:54 [\u001B[92mINFO\u001B[0m] linescale3.classes.measurement.apply_force_intercept: apply_force_intercept successful for measurement '15_16_58': intercept=0.046\n",
      "2025-05-12 14:24:54 [\u001B[92mINFO\u001B[0m] linescale3.classes.measurement.apply_force_intercept: apply_force_intercept successful for measurement '15_21_49': intercept=0.050\n",
      "2025-05-12 14:24:54 [\u001B[92mINFO\u001B[0m] linescale3.classes.measurement.apply_force_intercept: apply_force_intercept successful for measurement '15_25_17': intercept=0.051\n",
      "2025-05-12 14:24:54 [\u001B[92mINFO\u001B[0m] linescale3.classes.measurement.apply_force_intercept: apply_force_intercept successful for measurement '16_11_40': intercept=0.442\n",
      "2025-05-12 14:24:54 [\u001B[92mINFO\u001B[0m] linescale3.classes.measurement.apply_force_intercept: apply_force_intercept successful for measurement '16_17_21': intercept=0.399\n",
      "2025-05-12 14:24:54 [\u001B[92mINFO\u001B[0m] linescale3.classes.measurement.apply_force_intercept: apply_force_intercept successful for measurement '16_23_13': intercept=0.369\n",
      "2025-05-12 14:24:54 [\u001B[92mINFO\u001B[0m] linescale3.classes.measurement.apply_force_intercept: apply_force_intercept successful for measurement '16_37_11': intercept=0.369\n",
      "2025-05-12 14:24:54 [\u001B[92mINFO\u001B[0m] linescale3.classes.measurement.apply_force_intercept: apply_force_intercept successful for measurement '16_41_28': intercept=0.343\n",
      "2025-05-12 14:24:54 [\u001B[92mINFO\u001B[0m] linescale3.classes.measurement.apply_force_intercept: apply_force_intercept successful for measurement '16_46_46': intercept=0.336\n",
      "2025-05-12 14:24:54 [\u001B[92mINFO\u001B[0m] linescale3.classes.measurement.apply_force_intercept: apply_force_intercept successful for measurement '16_56_53': intercept=0.333\n",
      "2025-05-12 14:24:54 [\u001B[92mINFO\u001B[0m] linescale3.classes.measurement.apply_force_intercept: apply_force_intercept successful for measurement '17_01_49': intercept=0.325\n",
      "2025-05-12 14:24:54 [\u001B[92mINFO\u001B[0m] linescale3.classes.measurement.apply_force_intercept: apply_force_intercept successful for measurement '17_05_21': intercept=0.334\n",
      "2025-05-12 14:24:54 [\u001B[92mINFO\u001B[0m] linescale3.classes.measurement.apply_force_intercept: apply_force_intercept successful for measurement '17_16_51': intercept=0.059\n",
      "2025-05-12 14:24:54 [\u001B[92mINFO\u001B[0m] linescale3.classes.measurement.calculate_force_integral: calculate_force_integral successful: integral=1.115 kN·s\n",
      "2025-05-12 14:24:54 [\u001B[92mINFO\u001B[0m] linescale3.classes.measurement.calculate_force_integral: calculate_force_integral successful: integral=1.188 kN·s\n",
      "2025-05-12 14:24:54 [\u001B[92mINFO\u001B[0m] linescale3.classes.measurement.calculate_force_integral: calculate_force_integral successful: integral=0.912 kN·s\n",
      "2025-05-12 14:24:54 [\u001B[92mINFO\u001B[0m] linescale3.classes.measurement.calculate_force_integral: calculate_force_integral successful: integral=0.725 kN·s\n",
      "2025-05-12 14:24:54 [\u001B[92mINFO\u001B[0m] linescale3.classes.measurement.calculate_force_integral: calculate_force_integral successful: integral=0.980 kN·s\n",
      "2025-05-12 14:24:54 [\u001B[92mINFO\u001B[0m] linescale3.classes.measurement.calculate_force_integral: calculate_force_integral successful: integral=0.874 kN·s\n",
      "2025-05-12 14:24:54 [\u001B[92mINFO\u001B[0m] linescale3.classes.measurement.calculate_force_integral: calculate_force_integral successful: integral=0.815 kN·s\n",
      "2025-05-12 14:24:54 [\u001B[92mINFO\u001B[0m] linescale3.classes.measurement.calculate_force_integral: calculate_force_integral successful: integral=0.871 kN·s\n",
      "2025-05-12 14:24:54 [\u001B[92mINFO\u001B[0m] linescale3.classes.measurement.calculate_force_integral: calculate_force_integral successful: integral=0.721 kN·s\n",
      "2025-05-12 14:24:54 [\u001B[92mINFO\u001B[0m] linescale3.classes.measurement.calculate_force_integral: calculate_force_integral successful: integral=1.322 kN·s\n",
      "2025-05-12 14:24:54 [\u001B[92mINFO\u001B[0m] linescale3.classes.measurement.calculate_force_integral: calculate_force_integral successful: integral=1.697 kN·s\n",
      "2025-05-12 14:24:54 [\u001B[92mINFO\u001B[0m] linescale3.classes.measurement.calculate_force_integral: calculate_force_integral successful: integral=1.436 kN·s\n",
      "2025-05-12 14:24:54 [\u001B[92mINFO\u001B[0m] linescale3.classes.measurement.calculate_force_integral: calculate_force_integral successful: integral=1.217 kN·s\n",
      "2025-05-12 14:24:54 [\u001B[92mINFO\u001B[0m] linescale3.classes.measurement.calculate_force_integral: calculate_force_integral successful: integral=1.409 kN·s\n",
      "2025-05-12 14:24:54 [\u001B[92mINFO\u001B[0m] linescale3.classes.measurement.calculate_force_integral: calculate_force_integral successful: integral=1.456 kN·s\n",
      "2025-05-12 14:24:54 [\u001B[92mINFO\u001B[0m] linescale3.classes.measurement.calculate_force_integral: calculate_force_integral successful: integral=1.335 kN·s\n",
      "2025-05-12 14:24:54 [\u001B[92mINFO\u001B[0m] linescale3.classes.measurement.calculate_force_integral: calculate_force_integral successful: integral=1.095 kN·s\n",
      "2025-05-12 14:24:54 [\u001B[92mINFO\u001B[0m] linescale3.classes.measurement.calculate_force_integral: calculate_force_integral successful: integral=1.450 kN·s\n",
      "2025-05-12 14:24:54 [\u001B[92mINFO\u001B[0m] linescale3.classes.measurement.calculate_force_integral: calculate_force_integral successful: integral=1.145 kN·s\n"
     ]
    }
   ],
   "source": [
    "sensor_ks: Sensor = ls3_series.sensors[0]\n",
    "sensor_ks.auto_calculate_force_intercept(index_window=(0.5, 1), method=\"mean\")\n",
    "sensor_ks.calculate_force_integral()"
   ],
   "metadata": {
    "collapsed": false,
    "ExecuteTime": {
     "end_time": "2025-05-12T12:24:54.339701200Z",
     "start_time": "2025-05-12T12:24:53.916937900Z"
    }
   }
  },
  {
   "cell_type": "markdown",
   "source": [
    "### PLOTTING: Daten der Forcemeter\n",
    "\n",
    "Da teilweise für jede Messung und jeden Sensor ein Plot generiert wird, werden diese nicht im Notebook direkt angezeigt, sondern im Explorer gespeichert. Die Plots liegen entsprechend im working_directory in den Verzeichnissen ls3/plots/ bzw. ptq/plots.\n",
    "\n",
    "'ls3_series.plot_force_vs_time' erstellt für jede Messung für beide eingesetzten LineScales einen Plot, in dem die ermittelte Kraft (force in kN) gegenüber der Zeit (sec_since_start) abgebildet wird. Die Plots werden im Verzeichnis 'ls3/plots/force_vs_time_1/' abgelegt.\n",
    "\n",
    "14:BF:E6: Hat die tatsächliche Vorspannung ermittelt und hat entsprechend für alle 29 (-2) Messungen (experiment_id) einen Log aufgezeichnet.\n",
    "Aufgrund der Messtechnik wurden 2 Logs erstellt, die keine Messung darstellen. Diese dürfen nicht mit ausgewertet werden (Measurement ID 14 und 30).\n",
    "\n",
    "14:99:1E: Hat die Lasten in der Kronensicherung aufgezeichnet und hat entsprechend nur für die 19 (-1) Messungen mit Kronensicherungen einen Log aufgezeichent."
   ],
   "metadata": {
    "collapsed": false
   }
  },
  {
   "cell_type": "code",
   "execution_count": 23,
   "metadata": {
    "collapsed": false,
    "ExecuteTime": {
     "end_time": "2025-05-12T12:25:09.735226400Z",
     "start_time": "2025-05-12T12:24:54.331940700Z"
    }
   },
   "outputs": [
    {
     "name": "stderr",
     "output_type": "stream",
     "text": [
      "2025-05-12 14:24:54 [\u001B[92mINFO\u001B[0m] linescale3.classes.measurement.plot_force_vs_time: plot_force_vs_time for measurement 'Measurement(id='1', name='14_41_10', sensor_id='14:99:1E')'.\n",
      "2025-05-12 14:24:54 [\u001B[92mINFO\u001B[0m] linescale3.classes.measurement.plot_force_vs_time: plot_force_vs_time for measurement 'Measurement(id='2', name='14_47_59', sensor_id='14:99:1E')'.\n",
      "2025-05-12 14:24:55 [\u001B[92mINFO\u001B[0m] linescale3.classes.measurement.plot_force_vs_time: plot_force_vs_time for measurement 'Measurement(id='3', name='14_55_03', sensor_id='14:99:1E')'.\n",
      "2025-05-12 14:24:55 [\u001B[92mINFO\u001B[0m] linescale3.classes.measurement.plot_force_vs_time: plot_force_vs_time for measurement 'Measurement(id='4', name='15_04_05', sensor_id='14:99:1E')'.\n",
      "2025-05-12 14:24:55 [\u001B[92mINFO\u001B[0m] linescale3.classes.measurement.plot_force_vs_time: plot_force_vs_time for measurement 'Measurement(id='5', name='15_08_55', sensor_id='14:99:1E')'.\n",
      "2025-05-12 14:24:56 [\u001B[92mINFO\u001B[0m] linescale3.classes.measurement.plot_force_vs_time: plot_force_vs_time for measurement 'Measurement(id='6', name='15_12_57', sensor_id='14:99:1E')'.\n",
      "2025-05-12 14:24:56 [\u001B[92mINFO\u001B[0m] linescale3.classes.measurement.plot_force_vs_time: plot_force_vs_time for measurement 'Measurement(id='7', name='15_16_58', sensor_id='14:99:1E')'.\n",
      "2025-05-12 14:24:56 [\u001B[92mINFO\u001B[0m] linescale3.classes.measurement.plot_force_vs_time: plot_force_vs_time for measurement 'Measurement(id='8', name='15_21_49', sensor_id='14:99:1E')'.\n",
      "2025-05-12 14:24:56 [\u001B[92mINFO\u001B[0m] linescale3.classes.measurement.plot_force_vs_time: plot_force_vs_time for measurement 'Measurement(id='9', name='15_25_17', sensor_id='14:99:1E')'.\n",
      "2025-05-12 14:24:57 [\u001B[92mINFO\u001B[0m] linescale3.classes.measurement.plot_force_vs_time: plot_force_vs_time for measurement 'Measurement(id='10', name='16_11_40', sensor_id='14:99:1E')'.\n",
      "2025-05-12 14:24:57 [\u001B[92mINFO\u001B[0m] linescale3.classes.measurement.plot_force_vs_time: plot_force_vs_time for measurement 'Measurement(id='11', name='16_17_21', sensor_id='14:99:1E')'.\n",
      "2025-05-12 14:24:58 [\u001B[92mINFO\u001B[0m] linescale3.classes.measurement.plot_force_vs_time: plot_force_vs_time for measurement 'Measurement(id='12', name='16_23_13', sensor_id='14:99:1E')'.\n",
      "2025-05-12 14:24:58 [\u001B[92mINFO\u001B[0m] linescale3.classes.measurement.plot_force_vs_time: plot_force_vs_time for measurement 'Measurement(id='13', name='16_37_11', sensor_id='14:99:1E')'.\n",
      "2025-05-12 14:24:58 [\u001B[92mINFO\u001B[0m] linescale3.classes.measurement.plot_force_vs_time: plot_force_vs_time for measurement 'Measurement(id='14', name='16_41_28', sensor_id='14:99:1E')'.\n",
      "2025-05-12 14:24:58 [\u001B[92mINFO\u001B[0m] linescale3.classes.measurement.plot_force_vs_time: plot_force_vs_time for measurement 'Measurement(id='15', name='16_46_46', sensor_id='14:99:1E')'.\n",
      "2025-05-12 14:24:59 [\u001B[92mINFO\u001B[0m] linescale3.classes.measurement.plot_force_vs_time: plot_force_vs_time for measurement 'Measurement(id='16', name='16_56_53', sensor_id='14:99:1E')'.\n",
      "2025-05-12 14:24:59 [\u001B[92mINFO\u001B[0m] linescale3.classes.measurement.plot_force_vs_time: plot_force_vs_time for measurement 'Measurement(id='17', name='17_01_49', sensor_id='14:99:1E')'.\n",
      "2025-05-12 14:24:59 [\u001B[92mINFO\u001B[0m] linescale3.classes.measurement.plot_force_vs_time: plot_force_vs_time for measurement 'Measurement(id='18', name='17_05_21', sensor_id='14:99:1E')'.\n",
      "2025-05-12 14:24:59 [\u001B[92mINFO\u001B[0m] linescale3.classes.measurement.plot_force_vs_time: plot_force_vs_time for measurement 'Measurement(id='19', name='17_16_51', sensor_id='14:99:1E')'.\n",
      "2025-05-12 14:25:00 [\u001B[92mINFO\u001B[0m] linescale3.classes.measurement.plot_force_vs_time: plot_force_vs_time for measurement 'Measurement(id='1', name='11_11_55', sensor_id='14:BF:E6')'.\n",
      "2025-05-12 14:25:00 [\u001B[92mINFO\u001B[0m] linescale3.classes.measurement.plot_force_vs_time: plot_force_vs_time for measurement 'Measurement(id='2', name='11_24_23', sensor_id='14:BF:E6')'.\n",
      "2025-05-12 14:25:00 [\u001B[92mINFO\u001B[0m] linescale3.classes.measurement.plot_force_vs_time: plot_force_vs_time for measurement 'Measurement(id='3', name='11_31_12', sensor_id='14:BF:E6')'.\n",
      "2025-05-12 14:25:01 [\u001B[92mINFO\u001B[0m] linescale3.classes.measurement.plot_force_vs_time: plot_force_vs_time for measurement 'Measurement(id='4', name='11_54_33', sensor_id='14:BF:E6')'.\n",
      "2025-05-12 14:25:02 [\u001B[92mINFO\u001B[0m] linescale3.classes.measurement.plot_force_vs_time: plot_force_vs_time for measurement 'Measurement(id='5', name='12_02_03', sensor_id='14:BF:E6')'.\n",
      "2025-05-12 14:25:02 [\u001B[92mINFO\u001B[0m] linescale3.classes.measurement.plot_force_vs_time: plot_force_vs_time for measurement 'Measurement(id='6', name='12_07_09', sensor_id='14:BF:E6')'.\n",
      "2025-05-12 14:25:02 [\u001B[92mINFO\u001B[0m] linescale3.classes.measurement.plot_force_vs_time: plot_force_vs_time for measurement 'Measurement(id='7', name='12_11_49', sensor_id='14:BF:E6')'.\n",
      "2025-05-12 14:25:03 [\u001B[92mINFO\u001B[0m] linescale3.classes.measurement.plot_force_vs_time: plot_force_vs_time for measurement 'Measurement(id='8', name='12_16_13', sensor_id='14:BF:E6')'.\n",
      "2025-05-12 14:25:03 [\u001B[92mINFO\u001B[0m] linescale3.classes.measurement.plot_force_vs_time: plot_force_vs_time for measurement 'Measurement(id='9', name='12_23_21', sensor_id='14:BF:E6')'.\n",
      "2025-05-12 14:25:03 [\u001B[92mINFO\u001B[0m] linescale3.classes.measurement.plot_force_vs_time: plot_force_vs_time for measurement 'Measurement(id='10', name='12_27_13', sensor_id='14:BF:E6')'.\n",
      "2025-05-12 14:25:03 [\u001B[92mINFO\u001B[0m] linescale3.classes.measurement.plot_force_vs_time: plot_force_vs_time for measurement 'Measurement(id='11', name='14_40_00', sensor_id='14:BF:E6')'.\n",
      "2025-05-12 14:25:04 [\u001B[92mINFO\u001B[0m] linescale3.classes.measurement.plot_force_vs_time: plot_force_vs_time for measurement 'Measurement(id='12', name='14_47_06', sensor_id='14:BF:E6')'.\n",
      "2025-05-12 14:25:04 [\u001B[92mINFO\u001B[0m] linescale3.classes.measurement.plot_force_vs_time: plot_force_vs_time for measurement 'Measurement(id='13', name='14_54_20', sensor_id='14:BF:E6')'.\n",
      "2025-05-12 14:25:04 [\u001B[92mINFO\u001B[0m] linescale3.classes.measurement.plot_force_vs_time: plot_force_vs_time for measurement 'Measurement(id='14', name='15_00_22', sensor_id='14:BF:E6')'.\n",
      "2025-05-12 14:25:05 [\u001B[92mINFO\u001B[0m] linescale3.classes.measurement.plot_force_vs_time: plot_force_vs_time for measurement 'Measurement(id='15', name='15_03_21', sensor_id='14:BF:E6')'.\n",
      "2025-05-12 14:25:05 [\u001B[92mINFO\u001B[0m] linescale3.classes.measurement.plot_force_vs_time: plot_force_vs_time for measurement 'Measurement(id='16', name='15_08_07', sensor_id='14:BF:E6')'.\n",
      "2025-05-12 14:25:05 [\u001B[92mINFO\u001B[0m] linescale3.classes.measurement.plot_force_vs_time: plot_force_vs_time for measurement 'Measurement(id='17', name='15_11_55', sensor_id='14:BF:E6')'.\n",
      "2025-05-12 14:25:05 [\u001B[92mINFO\u001B[0m] linescale3.classes.measurement.plot_force_vs_time: plot_force_vs_time for measurement 'Measurement(id='18', name='15_16_24', sensor_id='14:BF:E6')'.\n",
      "2025-05-12 14:25:06 [\u001B[92mINFO\u001B[0m] linescale3.classes.measurement.plot_force_vs_time: plot_force_vs_time for measurement 'Measurement(id='19', name='15_20_38', sensor_id='14:BF:E6')'.\n",
      "2025-05-12 14:25:06 [\u001B[92mINFO\u001B[0m] linescale3.classes.measurement.plot_force_vs_time: plot_force_vs_time for measurement 'Measurement(id='20', name='15_24_40', sensor_id='14:BF:E6')'.\n",
      "2025-05-12 14:25:06 [\u001B[92mINFO\u001B[0m] linescale3.classes.measurement.plot_force_vs_time: plot_force_vs_time for measurement 'Measurement(id='21', name='16_10_55', sensor_id='14:BF:E6')'.\n",
      "2025-05-12 14:25:07 [\u001B[92mINFO\u001B[0m] linescale3.classes.measurement.plot_force_vs_time: plot_force_vs_time for measurement 'Measurement(id='22', name='16_16_33', sensor_id='14:BF:E6')'.\n",
      "2025-05-12 14:25:07 [\u001B[92mINFO\u001B[0m] linescale3.classes.measurement.plot_force_vs_time: plot_force_vs_time for measurement 'Measurement(id='23', name='16_21_50', sensor_id='14:BF:E6')'.\n",
      "2025-05-12 14:25:07 [\u001B[92mINFO\u001B[0m] linescale3.classes.measurement.plot_force_vs_time: plot_force_vs_time for measurement 'Measurement(id='24', name='16_36_05', sensor_id='14:BF:E6')'.\n",
      "2025-05-12 14:25:08 [\u001B[92mINFO\u001B[0m] linescale3.classes.measurement.plot_force_vs_time: plot_force_vs_time for measurement 'Measurement(id='25', name='16_40_07', sensor_id='14:BF:E6')'.\n",
      "2025-05-12 14:25:08 [\u001B[92mINFO\u001B[0m] linescale3.classes.measurement.plot_force_vs_time: plot_force_vs_time for measurement 'Measurement(id='26', name='16_44_31', sensor_id='14:BF:E6')'.\n",
      "2025-05-12 14:25:08 [\u001B[92mINFO\u001B[0m] linescale3.classes.measurement.plot_force_vs_time: plot_force_vs_time for measurement 'Measurement(id='27', name='16_56_04', sensor_id='14:BF:E6')'.\n",
      "2025-05-12 14:25:08 [\u001B[92mINFO\u001B[0m] linescale3.classes.measurement.plot_force_vs_time: plot_force_vs_time for measurement 'Measurement(id='28', name='17_00_04', sensor_id='14:BF:E6')'.\n",
      "2025-05-12 14:25:09 [\u001B[92mINFO\u001B[0m] linescale3.classes.measurement.plot_force_vs_time: plot_force_vs_time for measurement 'Measurement(id='29', name='17_04_51', sensor_id='14:BF:E6')'.\n",
      "2025-05-12 14:25:09 [\u001B[92mINFO\u001B[0m] linescale3.classes.measurement.plot_force_vs_time: plot_force_vs_time for measurement 'Measurement(id='30', name='17_07_37', sensor_id='14:BF:E6')'.\n",
      "2025-05-12 14:25:09 [\u001B[92mINFO\u001B[0m] linescale3.classes.measurement.plot_force_vs_time: plot_force_vs_time for measurement 'Measurement(id='31', name='17_16_09', sensor_id='14:BF:E6')'.\n"
     ]
    }
   ],
   "source": [
    "ls3_series.plot_force_vs_time()"
   ]
  },
  {
   "cell_type": "code",
   "execution_count": 24,
   "outputs": [
    {
     "name": "stderr",
     "output_type": "stream",
     "text": [
      "2025-05-12 14:25:10 [\u001B[92mINFO\u001B[0m] linescale3.classes.measurement.plot_force_integral: plot_force_integral for measurement 'Measurement(id='1', name='14_41_10', sensor_id='14:99:1E')'.\n",
      "2025-05-12 14:25:10 [\u001B[92mINFO\u001B[0m] linescale3.classes.measurement.plot_force_integral: plot_force_integral for measurement 'Measurement(id='2', name='14_47_59', sensor_id='14:99:1E')'.\n",
      "2025-05-12 14:25:10 [\u001B[92mINFO\u001B[0m] linescale3.classes.measurement.plot_force_integral: plot_force_integral for measurement 'Measurement(id='3', name='14_55_03', sensor_id='14:99:1E')'.\n",
      "2025-05-12 14:25:10 [\u001B[92mINFO\u001B[0m] linescale3.classes.measurement.plot_force_integral: plot_force_integral for measurement 'Measurement(id='4', name='15_04_05', sensor_id='14:99:1E')'.\n",
      "2025-05-12 14:25:11 [\u001B[92mINFO\u001B[0m] linescale3.classes.measurement.plot_force_integral: plot_force_integral for measurement 'Measurement(id='5', name='15_08_55', sensor_id='14:99:1E')'.\n",
      "2025-05-12 14:25:11 [\u001B[92mINFO\u001B[0m] linescale3.classes.measurement.plot_force_integral: plot_force_integral for measurement 'Measurement(id='6', name='15_12_57', sensor_id='14:99:1E')'.\n",
      "2025-05-12 14:25:11 [\u001B[92mINFO\u001B[0m] linescale3.classes.measurement.plot_force_integral: plot_force_integral for measurement 'Measurement(id='7', name='15_16_58', sensor_id='14:99:1E')'.\n",
      "2025-05-12 14:25:12 [\u001B[92mINFO\u001B[0m] linescale3.classes.measurement.plot_force_integral: plot_force_integral for measurement 'Measurement(id='8', name='15_21_49', sensor_id='14:99:1E')'.\n",
      "2025-05-12 14:25:12 [\u001B[92mINFO\u001B[0m] linescale3.classes.measurement.plot_force_integral: plot_force_integral for measurement 'Measurement(id='9', name='15_25_17', sensor_id='14:99:1E')'.\n",
      "2025-05-12 14:25:12 [\u001B[92mINFO\u001B[0m] linescale3.classes.measurement.plot_force_integral: plot_force_integral for measurement 'Measurement(id='10', name='16_11_40', sensor_id='14:99:1E')'.\n",
      "2025-05-12 14:25:12 [\u001B[92mINFO\u001B[0m] linescale3.classes.measurement.plot_force_integral: plot_force_integral for measurement 'Measurement(id='11', name='16_17_21', sensor_id='14:99:1E')'.\n",
      "2025-05-12 14:25:13 [\u001B[92mINFO\u001B[0m] linescale3.classes.measurement.plot_force_integral: plot_force_integral for measurement 'Measurement(id='12', name='16_23_13', sensor_id='14:99:1E')'.\n",
      "2025-05-12 14:25:13 [\u001B[92mINFO\u001B[0m] linescale3.classes.measurement.plot_force_integral: plot_force_integral for measurement 'Measurement(id='13', name='16_37_11', sensor_id='14:99:1E')'.\n",
      "2025-05-12 14:25:14 [\u001B[92mINFO\u001B[0m] linescale3.classes.measurement.plot_force_integral: plot_force_integral for measurement 'Measurement(id='14', name='16_41_28', sensor_id='14:99:1E')'.\n",
      "2025-05-12 14:25:14 [\u001B[92mINFO\u001B[0m] linescale3.classes.measurement.plot_force_integral: plot_force_integral for measurement 'Measurement(id='15', name='16_46_46', sensor_id='14:99:1E')'.\n",
      "2025-05-12 14:25:14 [\u001B[92mINFO\u001B[0m] linescale3.classes.measurement.plot_force_integral: plot_force_integral for measurement 'Measurement(id='16', name='16_56_53', sensor_id='14:99:1E')'.\n",
      "2025-05-12 14:25:14 [\u001B[92mINFO\u001B[0m] linescale3.classes.measurement.plot_force_integral: plot_force_integral for measurement 'Measurement(id='17', name='17_01_49', sensor_id='14:99:1E')'.\n",
      "2025-05-12 14:25:15 [\u001B[92mINFO\u001B[0m] linescale3.classes.measurement.plot_force_integral: plot_force_integral for measurement 'Measurement(id='18', name='17_05_21', sensor_id='14:99:1E')'.\n",
      "2025-05-12 14:25:15 [\u001B[92mINFO\u001B[0m] linescale3.classes.measurement.plot_force_integral: plot_force_integral for measurement 'Measurement(id='19', name='17_16_51', sensor_id='14:99:1E')'.\n"
     ]
    }
   ],
   "source": [
    "sensor_ks.plot_force_integral()"
   ],
   "metadata": {
    "collapsed": false,
    "ExecuteTime": {
     "end_time": "2025-05-12T12:25:15.429809700Z",
     "start_time": "2025-05-12T12:25:09.724851700Z"
    }
   }
  },
  {
   "cell_type": "markdown",
   "source": [
    "### ANALYSE: Metadaten bzw. Zusammenfassung der Daten\n",
    "\n",
    "'ls3_series.metadata_df' enthält für jeden Log (measurement_id) der 2 LineScales die Metadaten der Messung.\n",
    "\n",
    "Anmerkung zu `release`: Für jeden Log von 14:BF:E6 (LineScale zur Messung der Vorspannung) wurde die Kraft in kN ermittelt, die kurz vor dem Release vorlag. Diese Kraft ist in den Plots (/ls3/plots/force_vs_time_1/) als grüne Linie markiert. Die entsprechende Funktion befindet sich in 'ls3/classes/measurement.py' und heißt 'get_release_force'.\n",
    "\n",
    "Anmerkung zu `get_release_force`: Die Funktion filtert alle Kraftwerte über 1.0 kN (Parameter min_force=1.0). Innerhalb der gefilterten Werte wird ein Bereich ausgewählt, der 3 Sekunden vor dem Ende der Messung endet (Parameter distance_to_end_sec=3) und insgesamt 5 Sekunden lang ist (Parameter window_sec=5). Für diesen Zeitraum wird der Mittelwert (Mean) berechnet. Die release_force ist somit der Mittelwert eines 5-sekündigen Plateaus vor dem Release und wird nicht durch kurzzeitige Lastspitzen im Zugseil verfälscht."
   ],
   "metadata": {
    "collapsed": false
   }
  },
  {
   "cell_type": "code",
   "execution_count": 31,
   "outputs": [
    {
     "data": {
      "text/plain": "   measurement_name sensor_id            datetime  measurement_id unit mode  \\\n0          14_41_10  14:99:1E 2022-03-23 14:41:10               1   kN  ABS   \n1          14_47_59  14:99:1E 2022-03-23 14:47:59               2   kN  ABS   \n2          14_55_03  14:99:1E 2022-03-23 14:55:03               3   kN  ABS   \n3          15_04_05  14:99:1E 2022-03-23 15:04:05               4   kN  ABS   \n4          15_08_55  14:99:1E 2022-03-23 15:08:55               5   kN  ABS   \n5          15_12_57  14:99:1E 2022-03-23 15:12:57               6   kN  ABS   \n6          15_16_58  14:99:1E 2022-03-23 15:16:58               7   kN  ABS   \n7          15_21_49  14:99:1E 2022-03-23 15:21:49               8   kN  ABS   \n8          15_25_17  14:99:1E 2022-03-23 15:25:17               9   kN  ABS   \n9          16_11_40  14:99:1E 2022-03-23 16:11:40              10   kN  ABS   \n10         16_17_21  14:99:1E 2022-03-23 16:17:21              11   kN  ABS   \n11         16_23_13  14:99:1E 2022-03-23 16:23:13              12   kN  ABS   \n12         16_37_11  14:99:1E 2022-03-23 16:37:11              13   kN  ABS   \n13         16_41_28  14:99:1E 2022-03-23 16:41:28              14   kN  ABS   \n14         16_46_46  14:99:1E 2022-03-23 16:46:46              15   kN  ABS   \n15         16_56_53  14:99:1E 2022-03-23 16:56:53              16   kN  ABS   \n16         17_01_49  14:99:1E 2022-03-23 17:01:49              17   kN  ABS   \n17         17_05_21  14:99:1E 2022-03-23 17:05:21              18   kN  ABS   \n18         17_16_51  14:99:1E 2022-03-23 17:16:51              19   kN  ABS   \n19         11_11_55  14:BF:E6 2022-03-23 11:11:55               1   kN  ABS   \n20         11_24_23  14:BF:E6 2022-03-23 11:24:23               2   kN  ABS   \n21         11_31_12  14:BF:E6 2022-03-23 11:31:12               3   kN  ABS   \n22         11_54_33  14:BF:E6 2022-03-23 11:54:33               4   kN  ABS   \n23         12_02_03  14:BF:E6 2022-03-23 12:02:03               5   kN  ABS   \n24         12_07_09  14:BF:E6 2022-03-23 12:07:09               6   kN  ABS   \n25         12_11_49  14:BF:E6 2022-03-23 12:11:49               7   kN  ABS   \n26         12_16_13  14:BF:E6 2022-03-23 12:16:13               8   kN  ABS   \n27         12_23_21  14:BF:E6 2022-03-23 12:23:21               9   kN  ABS   \n28         12_27_13  14:BF:E6 2022-03-23 12:27:13              10   kN  ABS   \n29         14_40_00  14:BF:E6 2022-03-23 14:40:00              11   kN  ABS   \n30         14_47_06  14:BF:E6 2022-03-23 14:47:06              12   kN  ABS   \n31         14_54_20  14:BF:E6 2022-03-23 14:54:20              13   kN  ABS   \n32         15_00_22  14:BF:E6 2022-03-23 15:00:22              14   kN  ABS   \n33         15_03_21  14:BF:E6 2022-03-23 15:03:21              15   kN  ABS   \n34         15_08_07  14:BF:E6 2022-03-23 15:08:07              16   kN  ABS   \n35         15_11_55  14:BF:E6 2022-03-23 15:11:55              17   kN  ABS   \n36         15_16_24  14:BF:E6 2022-03-23 15:16:24              18   kN  ABS   \n37         15_20_38  14:BF:E6 2022-03-23 15:20:38              19   kN  ABS   \n38         15_24_40  14:BF:E6 2022-03-23 15:24:40              20   kN  ABS   \n39         16_10_55  14:BF:E6 2022-03-23 16:10:55              21   kN  ABS   \n40         16_16_33  14:BF:E6 2022-03-23 16:16:33              22   kN  ABS   \n41         16_21_50  14:BF:E6 2022-03-23 16:21:50              23   kN  ABS   \n42         16_36_05  14:BF:E6 2022-03-23 16:36:05              24   kN  ABS   \n43         16_40_07  14:BF:E6 2022-03-23 16:40:07              25   kN  ABS   \n44         16_44_31  14:BF:E6 2022-03-23 16:44:31              26   kN  ABS   \n45         16_56_04  14:BF:E6 2022-03-23 16:56:04              27   kN  ABS   \n46         17_00_04  14:BF:E6 2022-03-23 17:00:04              28   kN  ABS   \n47         17_04_51  14:BF:E6 2022-03-23 17:04:51              29   kN  ABS   \n48         17_07_37  14:BF:E6 2022-03-23 17:07:37              30   kN  ABS   \n49         17_16_09  14:BF:E6 2022-03-23 17:16:09              31   kN  ABS   \n\n   rel_zero  speed  trig  stop  ...    duration  length  max_index max_force  \\\n0       n/a   1280   0.8   0.0  ...   17.999218   23040       4737      1.48   \n1       n/a   1280   0.8   0.0  ...   17.999218   23040       4721      1.44   \n2       n/a   1280   0.8   0.0  ...   17.999218   23040       3867      1.33   \n3       n/a   1280   0.8   0.0  ...   17.999218   23040       3861      1.01   \n4       n/a   1280   0.8   0.0  ...   17.999218   23040       4730      1.16   \n5       n/a   1280   0.8   0.0  ...   17.999218   23040       4695      1.16   \n6       n/a   1280   0.8   0.0  ...   17.999218   23040       4670      1.01   \n7       n/a   1280   0.8   0.0  ...   17.999218   23040       4684      1.15   \n8       n/a   1280   0.8   0.0  ...   17.999218   23040       4665      1.03   \n9       n/a   1280   1.0   0.0  ...   17.999218   23040       3884      2.59   \n10      n/a   1280   1.0   0.0  ...   17.999218   23040       3879      3.04   \n11      n/a   1280   1.0   0.0  ...   17.999218   23040       3876      3.09   \n12      n/a   1280   1.0   0.0  ...   17.999218   23040       3877      2.84   \n13      n/a   1280   1.0   0.0  ...   17.999218   23040       3877      2.76   \n14      n/a   1280   1.0   0.0  ...   17.999218   23040       3876      2.80   \n15      n/a   1280   1.0   0.0  ...   17.999218   23040       3856      2.33   \n16      n/a   1280   1.0   0.0  ...   17.999218   23040       3877      2.30   \n17      n/a   1280   1.0   0.0  ...   17.999218   23040       3855      2.36   \n18      n/a   1280   1.0   0.0  ...   17.999218   23040       3881      1.74   \n19      n/a     40   0.5   0.5  ...  228.200000    9129       7123      2.57   \n20      n/a     40   0.5   0.5  ...  220.300000    8813       8463      2.88   \n21      n/a     40   0.5   0.5  ...  189.125000    7566       6120      2.86   \n22      n/a     40   0.3   0.5  ...  229.650000    9187       7343      2.82   \n23      n/a     40   0.3   0.5  ...  185.975000    7440       6104      2.41   \n24      n/a     40   0.3   0.5  ...  185.975000    7440       6329      2.41   \n25      n/a     40   0.3   0.5  ...  192.175000    7688       6117      2.41   \n26      n/a     40   0.3   0.5  ...  185.975000    7440       5223      2.01   \n27      n/a     40   0.3   0.5  ...  185.975000    7440       5772      2.02   \n28      n/a     40   0.3   0.5  ...  279.350000   11175       6977      2.01   \n29      n/a     40   0.3   0.5  ...  200.425000    8018       6678      2.84   \n30      n/a     40   0.3   0.5  ...  185.975000    7440       6230      2.85   \n31      n/a     40   0.3   0.5  ...  185.975000    7440       6767      2.85   \n32      n/a     40   0.3   0.5  ...  185.975000    7440       4072      0.55   \n33      n/a     40   0.3   0.5  ...  185.975000    7440       5706      2.40   \n34      n/a     40   0.3   0.5  ...  185.975000    7440       5269      2.41   \n35      n/a     40   0.3   0.5  ...  192.700000    7709       7192      2.45   \n36      n/a     40   0.3   0.5  ...  185.975000    7440       6275      2.07   \n37      n/a     40   0.3   0.5  ...  201.100000    8045       6777      2.13   \n38      n/a     40   0.3   0.5  ...  185.975000    7440       6673      2.06   \n39      n/a     40   0.5   0.5  ...  185.975000    7440       5818      2.83   \n40      n/a     40   0.5   0.5  ...  185.975000    7440       6402      2.84   \n41      n/a     40   0.5   0.5  ...  212.925000    8518       6897      2.85   \n42      n/a     40   0.5   0.5  ...  196.725000    7870       5423      2.42   \n43      n/a     40   0.5   0.5  ...  211.025000    8442       6925      2.43   \n44      n/a     40   0.5   0.5  ...  264.950000   10599       9300      2.51   \n45      n/a     40   0.5   0.5  ...  185.975000    7440       6025      2.05   \n46      n/a     40   0.5   0.5  ...  234.250000    9371       6186      2.08   \n47      n/a     40   0.5   0.5  ...  185.975000    7440       4918      2.01   \n48      n/a     40   0.5   0.5  ...  151.700000    6069       4005      0.60   \n49      n/a     40   0.5   0.5  ...  185.975000    7440       5153      2.82   \n\n   min_index  min_force      mean  median  integral  release  \n0         36       0.00  0.111598   0.060  1.114957      NaN  \n1        135       0.00  0.117817   0.060  1.188226      NaN  \n2         81       0.00  0.104375   0.060  0.912268      NaN  \n3         49      -0.01  0.072250   0.040  0.725232      NaN  \n4         73       0.00  0.108828   0.060  0.980189      NaN  \n5       1146      -0.01  0.080535   0.040  0.874301      NaN  \n6          4       0.00  0.082550   0.040  0.814691      NaN  \n7         16       0.00  0.090246   0.050  0.871205      NaN  \n8          6       0.00  0.083470   0.050  0.720548      NaN  \n9         94       0.00  0.404725   0.440  1.321706      NaN  \n10       690       0.00  0.383700   0.380  1.696893      NaN  \n11         4       0.00  0.353530   0.360  1.435639      NaN  \n12       275       0.00  0.346102   0.360  1.216515      NaN  \n13       520       0.00  0.329963   0.330  1.408771      NaN  \n14       260       0.00  0.324260   0.320  1.455661      NaN  \n15       243       0.00  0.317931   0.320  1.334834      NaN  \n16        46       0.00  0.304495   0.320  1.094872      NaN  \n17        48       0.00  0.320037   0.310  1.450102      NaN  \n18        28       0.00  0.112564   0.050  1.144895      NaN  \n19      9128      -0.10  1.188005   1.040       NaN  2.50200  \n20      8812      -0.10  1.249298   1.120       NaN  2.72310  \n21       529      -0.09  1.081462   0.335       NaN  2.76205  \n22      9186      -0.01  1.173566   0.870       NaN  2.73950  \n23      7403      -0.10  0.857964   0.140       NaN  2.36475  \n24      7275      -0.10  0.860966   0.130       NaN  2.38000  \n25         1      -0.08  0.968585   0.310       NaN  2.36920  \n26      6668      -0.10  0.604734   0.020       NaN  1.96440  \n27      7296      -0.10  0.752337   0.110       NaN  1.97830  \n28         0      -0.09  1.163470   1.870       NaN  1.94680  \n29      8017       0.01  1.201922   0.760       NaN  2.75785  \n30      7339      -0.07  1.006413   0.240       NaN  2.78010  \n31      6924      -0.06  0.938508   0.200       NaN  2.76350  \n32       276      -0.06  0.073011   0.000       NaN      NaN  \n33      6973      -0.07  0.730961   0.010       NaN  2.30735  \n34      7148      -0.06  0.926050   0.040       NaN  2.35655  \n35         0      -0.04  1.028355   0.340       NaN  2.34755  \n36      6583      -0.07  0.583161  -0.020       NaN  2.02755  \n37      8044      -0.07  0.880150   0.550       NaN  2.08095  \n38      6682      -0.08  0.483425   0.040       NaN  1.99740  \n39      7025      -0.09  0.886942   0.020       NaN  2.75695  \n40      7160      -0.08  0.737280   0.460       NaN  2.76580  \n41      8517      -0.08  1.128443   0.910       NaN  2.78070  \n42       392      -0.05  1.045867   0.600       NaN  2.34425  \n43      8441      -0.08  1.071758   0.820       NaN  2.34405  \n44         0      -0.07  1.271194   1.930       NaN  2.45465  \n45      7167      -0.09  0.800343  -0.060       NaN  1.99840  \n46         0      -0.06  1.114781   1.860       NaN  1.98435  \n47      6421      -0.09  0.591039   0.000       NaN  1.95740  \n48         0      -0.07  0.217461   0.170       NaN      NaN  \n49      6885      -0.09  1.029777   0.170       NaN  2.74560  \n\n[50 rows x 25 columns]",
      "text/html": "<div>\n<style scoped>\n    .dataframe tbody tr th:only-of-type {\n        vertical-align: middle;\n    }\n\n    .dataframe tbody tr th {\n        vertical-align: top;\n    }\n\n    .dataframe thead th {\n        text-align: right;\n    }\n</style>\n<table border=\"1\" class=\"dataframe\">\n  <thead>\n    <tr style=\"text-align: right;\">\n      <th></th>\n      <th>measurement_name</th>\n      <th>sensor_id</th>\n      <th>datetime</th>\n      <th>measurement_id</th>\n      <th>unit</th>\n      <th>mode</th>\n      <th>rel_zero</th>\n      <th>speed</th>\n      <th>trig</th>\n      <th>stop</th>\n      <th>...</th>\n      <th>duration</th>\n      <th>length</th>\n      <th>max_index</th>\n      <th>max_force</th>\n      <th>min_index</th>\n      <th>min_force</th>\n      <th>mean</th>\n      <th>median</th>\n      <th>integral</th>\n      <th>release</th>\n    </tr>\n  </thead>\n  <tbody>\n    <tr>\n      <th>0</th>\n      <td>14_41_10</td>\n      <td>14:99:1E</td>\n      <td>2022-03-23 14:41:10</td>\n      <td>1</td>\n      <td>kN</td>\n      <td>ABS</td>\n      <td>n/a</td>\n      <td>1280</td>\n      <td>0.8</td>\n      <td>0.0</td>\n      <td>...</td>\n      <td>17.999218</td>\n      <td>23040</td>\n      <td>4737</td>\n      <td>1.48</td>\n      <td>36</td>\n      <td>0.00</td>\n      <td>0.111598</td>\n      <td>0.060</td>\n      <td>1.114957</td>\n      <td>NaN</td>\n    </tr>\n    <tr>\n      <th>1</th>\n      <td>14_47_59</td>\n      <td>14:99:1E</td>\n      <td>2022-03-23 14:47:59</td>\n      <td>2</td>\n      <td>kN</td>\n      <td>ABS</td>\n      <td>n/a</td>\n      <td>1280</td>\n      <td>0.8</td>\n      <td>0.0</td>\n      <td>...</td>\n      <td>17.999218</td>\n      <td>23040</td>\n      <td>4721</td>\n      <td>1.44</td>\n      <td>135</td>\n      <td>0.00</td>\n      <td>0.117817</td>\n      <td>0.060</td>\n      <td>1.188226</td>\n      <td>NaN</td>\n    </tr>\n    <tr>\n      <th>2</th>\n      <td>14_55_03</td>\n      <td>14:99:1E</td>\n      <td>2022-03-23 14:55:03</td>\n      <td>3</td>\n      <td>kN</td>\n      <td>ABS</td>\n      <td>n/a</td>\n      <td>1280</td>\n      <td>0.8</td>\n      <td>0.0</td>\n      <td>...</td>\n      <td>17.999218</td>\n      <td>23040</td>\n      <td>3867</td>\n      <td>1.33</td>\n      <td>81</td>\n      <td>0.00</td>\n      <td>0.104375</td>\n      <td>0.060</td>\n      <td>0.912268</td>\n      <td>NaN</td>\n    </tr>\n    <tr>\n      <th>3</th>\n      <td>15_04_05</td>\n      <td>14:99:1E</td>\n      <td>2022-03-23 15:04:05</td>\n      <td>4</td>\n      <td>kN</td>\n      <td>ABS</td>\n      <td>n/a</td>\n      <td>1280</td>\n      <td>0.8</td>\n      <td>0.0</td>\n      <td>...</td>\n      <td>17.999218</td>\n      <td>23040</td>\n      <td>3861</td>\n      <td>1.01</td>\n      <td>49</td>\n      <td>-0.01</td>\n      <td>0.072250</td>\n      <td>0.040</td>\n      <td>0.725232</td>\n      <td>NaN</td>\n    </tr>\n    <tr>\n      <th>4</th>\n      <td>15_08_55</td>\n      <td>14:99:1E</td>\n      <td>2022-03-23 15:08:55</td>\n      <td>5</td>\n      <td>kN</td>\n      <td>ABS</td>\n      <td>n/a</td>\n      <td>1280</td>\n      <td>0.8</td>\n      <td>0.0</td>\n      <td>...</td>\n      <td>17.999218</td>\n      <td>23040</td>\n      <td>4730</td>\n      <td>1.16</td>\n      <td>73</td>\n      <td>0.00</td>\n      <td>0.108828</td>\n      <td>0.060</td>\n      <td>0.980189</td>\n      <td>NaN</td>\n    </tr>\n    <tr>\n      <th>5</th>\n      <td>15_12_57</td>\n      <td>14:99:1E</td>\n      <td>2022-03-23 15:12:57</td>\n      <td>6</td>\n      <td>kN</td>\n      <td>ABS</td>\n      <td>n/a</td>\n      <td>1280</td>\n      <td>0.8</td>\n      <td>0.0</td>\n      <td>...</td>\n      <td>17.999218</td>\n      <td>23040</td>\n      <td>4695</td>\n      <td>1.16</td>\n      <td>1146</td>\n      <td>-0.01</td>\n      <td>0.080535</td>\n      <td>0.040</td>\n      <td>0.874301</td>\n      <td>NaN</td>\n    </tr>\n    <tr>\n      <th>6</th>\n      <td>15_16_58</td>\n      <td>14:99:1E</td>\n      <td>2022-03-23 15:16:58</td>\n      <td>7</td>\n      <td>kN</td>\n      <td>ABS</td>\n      <td>n/a</td>\n      <td>1280</td>\n      <td>0.8</td>\n      <td>0.0</td>\n      <td>...</td>\n      <td>17.999218</td>\n      <td>23040</td>\n      <td>4670</td>\n      <td>1.01</td>\n      <td>4</td>\n      <td>0.00</td>\n      <td>0.082550</td>\n      <td>0.040</td>\n      <td>0.814691</td>\n      <td>NaN</td>\n    </tr>\n    <tr>\n      <th>7</th>\n      <td>15_21_49</td>\n      <td>14:99:1E</td>\n      <td>2022-03-23 15:21:49</td>\n      <td>8</td>\n      <td>kN</td>\n      <td>ABS</td>\n      <td>n/a</td>\n      <td>1280</td>\n      <td>0.8</td>\n      <td>0.0</td>\n      <td>...</td>\n      <td>17.999218</td>\n      <td>23040</td>\n      <td>4684</td>\n      <td>1.15</td>\n      <td>16</td>\n      <td>0.00</td>\n      <td>0.090246</td>\n      <td>0.050</td>\n      <td>0.871205</td>\n      <td>NaN</td>\n    </tr>\n    <tr>\n      <th>8</th>\n      <td>15_25_17</td>\n      <td>14:99:1E</td>\n      <td>2022-03-23 15:25:17</td>\n      <td>9</td>\n      <td>kN</td>\n      <td>ABS</td>\n      <td>n/a</td>\n      <td>1280</td>\n      <td>0.8</td>\n      <td>0.0</td>\n      <td>...</td>\n      <td>17.999218</td>\n      <td>23040</td>\n      <td>4665</td>\n      <td>1.03</td>\n      <td>6</td>\n      <td>0.00</td>\n      <td>0.083470</td>\n      <td>0.050</td>\n      <td>0.720548</td>\n      <td>NaN</td>\n    </tr>\n    <tr>\n      <th>9</th>\n      <td>16_11_40</td>\n      <td>14:99:1E</td>\n      <td>2022-03-23 16:11:40</td>\n      <td>10</td>\n      <td>kN</td>\n      <td>ABS</td>\n      <td>n/a</td>\n      <td>1280</td>\n      <td>1.0</td>\n      <td>0.0</td>\n      <td>...</td>\n      <td>17.999218</td>\n      <td>23040</td>\n      <td>3884</td>\n      <td>2.59</td>\n      <td>94</td>\n      <td>0.00</td>\n      <td>0.404725</td>\n      <td>0.440</td>\n      <td>1.321706</td>\n      <td>NaN</td>\n    </tr>\n    <tr>\n      <th>10</th>\n      <td>16_17_21</td>\n      <td>14:99:1E</td>\n      <td>2022-03-23 16:17:21</td>\n      <td>11</td>\n      <td>kN</td>\n      <td>ABS</td>\n      <td>n/a</td>\n      <td>1280</td>\n      <td>1.0</td>\n      <td>0.0</td>\n      <td>...</td>\n      <td>17.999218</td>\n      <td>23040</td>\n      <td>3879</td>\n      <td>3.04</td>\n      <td>690</td>\n      <td>0.00</td>\n      <td>0.383700</td>\n      <td>0.380</td>\n      <td>1.696893</td>\n      <td>NaN</td>\n    </tr>\n    <tr>\n      <th>11</th>\n      <td>16_23_13</td>\n      <td>14:99:1E</td>\n      <td>2022-03-23 16:23:13</td>\n      <td>12</td>\n      <td>kN</td>\n      <td>ABS</td>\n      <td>n/a</td>\n      <td>1280</td>\n      <td>1.0</td>\n      <td>0.0</td>\n      <td>...</td>\n      <td>17.999218</td>\n      <td>23040</td>\n      <td>3876</td>\n      <td>3.09</td>\n      <td>4</td>\n      <td>0.00</td>\n      <td>0.353530</td>\n      <td>0.360</td>\n      <td>1.435639</td>\n      <td>NaN</td>\n    </tr>\n    <tr>\n      <th>12</th>\n      <td>16_37_11</td>\n      <td>14:99:1E</td>\n      <td>2022-03-23 16:37:11</td>\n      <td>13</td>\n      <td>kN</td>\n      <td>ABS</td>\n      <td>n/a</td>\n      <td>1280</td>\n      <td>1.0</td>\n      <td>0.0</td>\n      <td>...</td>\n      <td>17.999218</td>\n      <td>23040</td>\n      <td>3877</td>\n      <td>2.84</td>\n      <td>275</td>\n      <td>0.00</td>\n      <td>0.346102</td>\n      <td>0.360</td>\n      <td>1.216515</td>\n      <td>NaN</td>\n    </tr>\n    <tr>\n      <th>13</th>\n      <td>16_41_28</td>\n      <td>14:99:1E</td>\n      <td>2022-03-23 16:41:28</td>\n      <td>14</td>\n      <td>kN</td>\n      <td>ABS</td>\n      <td>n/a</td>\n      <td>1280</td>\n      <td>1.0</td>\n      <td>0.0</td>\n      <td>...</td>\n      <td>17.999218</td>\n      <td>23040</td>\n      <td>3877</td>\n      <td>2.76</td>\n      <td>520</td>\n      <td>0.00</td>\n      <td>0.329963</td>\n      <td>0.330</td>\n      <td>1.408771</td>\n      <td>NaN</td>\n    </tr>\n    <tr>\n      <th>14</th>\n      <td>16_46_46</td>\n      <td>14:99:1E</td>\n      <td>2022-03-23 16:46:46</td>\n      <td>15</td>\n      <td>kN</td>\n      <td>ABS</td>\n      <td>n/a</td>\n      <td>1280</td>\n      <td>1.0</td>\n      <td>0.0</td>\n      <td>...</td>\n      <td>17.999218</td>\n      <td>23040</td>\n      <td>3876</td>\n      <td>2.80</td>\n      <td>260</td>\n      <td>0.00</td>\n      <td>0.324260</td>\n      <td>0.320</td>\n      <td>1.455661</td>\n      <td>NaN</td>\n    </tr>\n    <tr>\n      <th>15</th>\n      <td>16_56_53</td>\n      <td>14:99:1E</td>\n      <td>2022-03-23 16:56:53</td>\n      <td>16</td>\n      <td>kN</td>\n      <td>ABS</td>\n      <td>n/a</td>\n      <td>1280</td>\n      <td>1.0</td>\n      <td>0.0</td>\n      <td>...</td>\n      <td>17.999218</td>\n      <td>23040</td>\n      <td>3856</td>\n      <td>2.33</td>\n      <td>243</td>\n      <td>0.00</td>\n      <td>0.317931</td>\n      <td>0.320</td>\n      <td>1.334834</td>\n      <td>NaN</td>\n    </tr>\n    <tr>\n      <th>16</th>\n      <td>17_01_49</td>\n      <td>14:99:1E</td>\n      <td>2022-03-23 17:01:49</td>\n      <td>17</td>\n      <td>kN</td>\n      <td>ABS</td>\n      <td>n/a</td>\n      <td>1280</td>\n      <td>1.0</td>\n      <td>0.0</td>\n      <td>...</td>\n      <td>17.999218</td>\n      <td>23040</td>\n      <td>3877</td>\n      <td>2.30</td>\n      <td>46</td>\n      <td>0.00</td>\n      <td>0.304495</td>\n      <td>0.320</td>\n      <td>1.094872</td>\n      <td>NaN</td>\n    </tr>\n    <tr>\n      <th>17</th>\n      <td>17_05_21</td>\n      <td>14:99:1E</td>\n      <td>2022-03-23 17:05:21</td>\n      <td>18</td>\n      <td>kN</td>\n      <td>ABS</td>\n      <td>n/a</td>\n      <td>1280</td>\n      <td>1.0</td>\n      <td>0.0</td>\n      <td>...</td>\n      <td>17.999218</td>\n      <td>23040</td>\n      <td>3855</td>\n      <td>2.36</td>\n      <td>48</td>\n      <td>0.00</td>\n      <td>0.320037</td>\n      <td>0.310</td>\n      <td>1.450102</td>\n      <td>NaN</td>\n    </tr>\n    <tr>\n      <th>18</th>\n      <td>17_16_51</td>\n      <td>14:99:1E</td>\n      <td>2022-03-23 17:16:51</td>\n      <td>19</td>\n      <td>kN</td>\n      <td>ABS</td>\n      <td>n/a</td>\n      <td>1280</td>\n      <td>1.0</td>\n      <td>0.0</td>\n      <td>...</td>\n      <td>17.999218</td>\n      <td>23040</td>\n      <td>3881</td>\n      <td>1.74</td>\n      <td>28</td>\n      <td>0.00</td>\n      <td>0.112564</td>\n      <td>0.050</td>\n      <td>1.144895</td>\n      <td>NaN</td>\n    </tr>\n    <tr>\n      <th>19</th>\n      <td>11_11_55</td>\n      <td>14:BF:E6</td>\n      <td>2022-03-23 11:11:55</td>\n      <td>1</td>\n      <td>kN</td>\n      <td>ABS</td>\n      <td>n/a</td>\n      <td>40</td>\n      <td>0.5</td>\n      <td>0.5</td>\n      <td>...</td>\n      <td>228.200000</td>\n      <td>9129</td>\n      <td>7123</td>\n      <td>2.57</td>\n      <td>9128</td>\n      <td>-0.10</td>\n      <td>1.188005</td>\n      <td>1.040</td>\n      <td>NaN</td>\n      <td>2.50200</td>\n    </tr>\n    <tr>\n      <th>20</th>\n      <td>11_24_23</td>\n      <td>14:BF:E6</td>\n      <td>2022-03-23 11:24:23</td>\n      <td>2</td>\n      <td>kN</td>\n      <td>ABS</td>\n      <td>n/a</td>\n      <td>40</td>\n      <td>0.5</td>\n      <td>0.5</td>\n      <td>...</td>\n      <td>220.300000</td>\n      <td>8813</td>\n      <td>8463</td>\n      <td>2.88</td>\n      <td>8812</td>\n      <td>-0.10</td>\n      <td>1.249298</td>\n      <td>1.120</td>\n      <td>NaN</td>\n      <td>2.72310</td>\n    </tr>\n    <tr>\n      <th>21</th>\n      <td>11_31_12</td>\n      <td>14:BF:E6</td>\n      <td>2022-03-23 11:31:12</td>\n      <td>3</td>\n      <td>kN</td>\n      <td>ABS</td>\n      <td>n/a</td>\n      <td>40</td>\n      <td>0.5</td>\n      <td>0.5</td>\n      <td>...</td>\n      <td>189.125000</td>\n      <td>7566</td>\n      <td>6120</td>\n      <td>2.86</td>\n      <td>529</td>\n      <td>-0.09</td>\n      <td>1.081462</td>\n      <td>0.335</td>\n      <td>NaN</td>\n      <td>2.76205</td>\n    </tr>\n    <tr>\n      <th>22</th>\n      <td>11_54_33</td>\n      <td>14:BF:E6</td>\n      <td>2022-03-23 11:54:33</td>\n      <td>4</td>\n      <td>kN</td>\n      <td>ABS</td>\n      <td>n/a</td>\n      <td>40</td>\n      <td>0.3</td>\n      <td>0.5</td>\n      <td>...</td>\n      <td>229.650000</td>\n      <td>9187</td>\n      <td>7343</td>\n      <td>2.82</td>\n      <td>9186</td>\n      <td>-0.01</td>\n      <td>1.173566</td>\n      <td>0.870</td>\n      <td>NaN</td>\n      <td>2.73950</td>\n    </tr>\n    <tr>\n      <th>23</th>\n      <td>12_02_03</td>\n      <td>14:BF:E6</td>\n      <td>2022-03-23 12:02:03</td>\n      <td>5</td>\n      <td>kN</td>\n      <td>ABS</td>\n      <td>n/a</td>\n      <td>40</td>\n      <td>0.3</td>\n      <td>0.5</td>\n      <td>...</td>\n      <td>185.975000</td>\n      <td>7440</td>\n      <td>6104</td>\n      <td>2.41</td>\n      <td>7403</td>\n      <td>-0.10</td>\n      <td>0.857964</td>\n      <td>0.140</td>\n      <td>NaN</td>\n      <td>2.36475</td>\n    </tr>\n    <tr>\n      <th>24</th>\n      <td>12_07_09</td>\n      <td>14:BF:E6</td>\n      <td>2022-03-23 12:07:09</td>\n      <td>6</td>\n      <td>kN</td>\n      <td>ABS</td>\n      <td>n/a</td>\n      <td>40</td>\n      <td>0.3</td>\n      <td>0.5</td>\n      <td>...</td>\n      <td>185.975000</td>\n      <td>7440</td>\n      <td>6329</td>\n      <td>2.41</td>\n      <td>7275</td>\n      <td>-0.10</td>\n      <td>0.860966</td>\n      <td>0.130</td>\n      <td>NaN</td>\n      <td>2.38000</td>\n    </tr>\n    <tr>\n      <th>25</th>\n      <td>12_11_49</td>\n      <td>14:BF:E6</td>\n      <td>2022-03-23 12:11:49</td>\n      <td>7</td>\n      <td>kN</td>\n      <td>ABS</td>\n      <td>n/a</td>\n      <td>40</td>\n      <td>0.3</td>\n      <td>0.5</td>\n      <td>...</td>\n      <td>192.175000</td>\n      <td>7688</td>\n      <td>6117</td>\n      <td>2.41</td>\n      <td>1</td>\n      <td>-0.08</td>\n      <td>0.968585</td>\n      <td>0.310</td>\n      <td>NaN</td>\n      <td>2.36920</td>\n    </tr>\n    <tr>\n      <th>26</th>\n      <td>12_16_13</td>\n      <td>14:BF:E6</td>\n      <td>2022-03-23 12:16:13</td>\n      <td>8</td>\n      <td>kN</td>\n      <td>ABS</td>\n      <td>n/a</td>\n      <td>40</td>\n      <td>0.3</td>\n      <td>0.5</td>\n      <td>...</td>\n      <td>185.975000</td>\n      <td>7440</td>\n      <td>5223</td>\n      <td>2.01</td>\n      <td>6668</td>\n      <td>-0.10</td>\n      <td>0.604734</td>\n      <td>0.020</td>\n      <td>NaN</td>\n      <td>1.96440</td>\n    </tr>\n    <tr>\n      <th>27</th>\n      <td>12_23_21</td>\n      <td>14:BF:E6</td>\n      <td>2022-03-23 12:23:21</td>\n      <td>9</td>\n      <td>kN</td>\n      <td>ABS</td>\n      <td>n/a</td>\n      <td>40</td>\n      <td>0.3</td>\n      <td>0.5</td>\n      <td>...</td>\n      <td>185.975000</td>\n      <td>7440</td>\n      <td>5772</td>\n      <td>2.02</td>\n      <td>7296</td>\n      <td>-0.10</td>\n      <td>0.752337</td>\n      <td>0.110</td>\n      <td>NaN</td>\n      <td>1.97830</td>\n    </tr>\n    <tr>\n      <th>28</th>\n      <td>12_27_13</td>\n      <td>14:BF:E6</td>\n      <td>2022-03-23 12:27:13</td>\n      <td>10</td>\n      <td>kN</td>\n      <td>ABS</td>\n      <td>n/a</td>\n      <td>40</td>\n      <td>0.3</td>\n      <td>0.5</td>\n      <td>...</td>\n      <td>279.350000</td>\n      <td>11175</td>\n      <td>6977</td>\n      <td>2.01</td>\n      <td>0</td>\n      <td>-0.09</td>\n      <td>1.163470</td>\n      <td>1.870</td>\n      <td>NaN</td>\n      <td>1.94680</td>\n    </tr>\n    <tr>\n      <th>29</th>\n      <td>14_40_00</td>\n      <td>14:BF:E6</td>\n      <td>2022-03-23 14:40:00</td>\n      <td>11</td>\n      <td>kN</td>\n      <td>ABS</td>\n      <td>n/a</td>\n      <td>40</td>\n      <td>0.3</td>\n      <td>0.5</td>\n      <td>...</td>\n      <td>200.425000</td>\n      <td>8018</td>\n      <td>6678</td>\n      <td>2.84</td>\n      <td>8017</td>\n      <td>0.01</td>\n      <td>1.201922</td>\n      <td>0.760</td>\n      <td>NaN</td>\n      <td>2.75785</td>\n    </tr>\n    <tr>\n      <th>30</th>\n      <td>14_47_06</td>\n      <td>14:BF:E6</td>\n      <td>2022-03-23 14:47:06</td>\n      <td>12</td>\n      <td>kN</td>\n      <td>ABS</td>\n      <td>n/a</td>\n      <td>40</td>\n      <td>0.3</td>\n      <td>0.5</td>\n      <td>...</td>\n      <td>185.975000</td>\n      <td>7440</td>\n      <td>6230</td>\n      <td>2.85</td>\n      <td>7339</td>\n      <td>-0.07</td>\n      <td>1.006413</td>\n      <td>0.240</td>\n      <td>NaN</td>\n      <td>2.78010</td>\n    </tr>\n    <tr>\n      <th>31</th>\n      <td>14_54_20</td>\n      <td>14:BF:E6</td>\n      <td>2022-03-23 14:54:20</td>\n      <td>13</td>\n      <td>kN</td>\n      <td>ABS</td>\n      <td>n/a</td>\n      <td>40</td>\n      <td>0.3</td>\n      <td>0.5</td>\n      <td>...</td>\n      <td>185.975000</td>\n      <td>7440</td>\n      <td>6767</td>\n      <td>2.85</td>\n      <td>6924</td>\n      <td>-0.06</td>\n      <td>0.938508</td>\n      <td>0.200</td>\n      <td>NaN</td>\n      <td>2.76350</td>\n    </tr>\n    <tr>\n      <th>32</th>\n      <td>15_00_22</td>\n      <td>14:BF:E6</td>\n      <td>2022-03-23 15:00:22</td>\n      <td>14</td>\n      <td>kN</td>\n      <td>ABS</td>\n      <td>n/a</td>\n      <td>40</td>\n      <td>0.3</td>\n      <td>0.5</td>\n      <td>...</td>\n      <td>185.975000</td>\n      <td>7440</td>\n      <td>4072</td>\n      <td>0.55</td>\n      <td>276</td>\n      <td>-0.06</td>\n      <td>0.073011</td>\n      <td>0.000</td>\n      <td>NaN</td>\n      <td>NaN</td>\n    </tr>\n    <tr>\n      <th>33</th>\n      <td>15_03_21</td>\n      <td>14:BF:E6</td>\n      <td>2022-03-23 15:03:21</td>\n      <td>15</td>\n      <td>kN</td>\n      <td>ABS</td>\n      <td>n/a</td>\n      <td>40</td>\n      <td>0.3</td>\n      <td>0.5</td>\n      <td>...</td>\n      <td>185.975000</td>\n      <td>7440</td>\n      <td>5706</td>\n      <td>2.40</td>\n      <td>6973</td>\n      <td>-0.07</td>\n      <td>0.730961</td>\n      <td>0.010</td>\n      <td>NaN</td>\n      <td>2.30735</td>\n    </tr>\n    <tr>\n      <th>34</th>\n      <td>15_08_07</td>\n      <td>14:BF:E6</td>\n      <td>2022-03-23 15:08:07</td>\n      <td>16</td>\n      <td>kN</td>\n      <td>ABS</td>\n      <td>n/a</td>\n      <td>40</td>\n      <td>0.3</td>\n      <td>0.5</td>\n      <td>...</td>\n      <td>185.975000</td>\n      <td>7440</td>\n      <td>5269</td>\n      <td>2.41</td>\n      <td>7148</td>\n      <td>-0.06</td>\n      <td>0.926050</td>\n      <td>0.040</td>\n      <td>NaN</td>\n      <td>2.35655</td>\n    </tr>\n    <tr>\n      <th>35</th>\n      <td>15_11_55</td>\n      <td>14:BF:E6</td>\n      <td>2022-03-23 15:11:55</td>\n      <td>17</td>\n      <td>kN</td>\n      <td>ABS</td>\n      <td>n/a</td>\n      <td>40</td>\n      <td>0.3</td>\n      <td>0.5</td>\n      <td>...</td>\n      <td>192.700000</td>\n      <td>7709</td>\n      <td>7192</td>\n      <td>2.45</td>\n      <td>0</td>\n      <td>-0.04</td>\n      <td>1.028355</td>\n      <td>0.340</td>\n      <td>NaN</td>\n      <td>2.34755</td>\n    </tr>\n    <tr>\n      <th>36</th>\n      <td>15_16_24</td>\n      <td>14:BF:E6</td>\n      <td>2022-03-23 15:16:24</td>\n      <td>18</td>\n      <td>kN</td>\n      <td>ABS</td>\n      <td>n/a</td>\n      <td>40</td>\n      <td>0.3</td>\n      <td>0.5</td>\n      <td>...</td>\n      <td>185.975000</td>\n      <td>7440</td>\n      <td>6275</td>\n      <td>2.07</td>\n      <td>6583</td>\n      <td>-0.07</td>\n      <td>0.583161</td>\n      <td>-0.020</td>\n      <td>NaN</td>\n      <td>2.02755</td>\n    </tr>\n    <tr>\n      <th>37</th>\n      <td>15_20_38</td>\n      <td>14:BF:E6</td>\n      <td>2022-03-23 15:20:38</td>\n      <td>19</td>\n      <td>kN</td>\n      <td>ABS</td>\n      <td>n/a</td>\n      <td>40</td>\n      <td>0.3</td>\n      <td>0.5</td>\n      <td>...</td>\n      <td>201.100000</td>\n      <td>8045</td>\n      <td>6777</td>\n      <td>2.13</td>\n      <td>8044</td>\n      <td>-0.07</td>\n      <td>0.880150</td>\n      <td>0.550</td>\n      <td>NaN</td>\n      <td>2.08095</td>\n    </tr>\n    <tr>\n      <th>38</th>\n      <td>15_24_40</td>\n      <td>14:BF:E6</td>\n      <td>2022-03-23 15:24:40</td>\n      <td>20</td>\n      <td>kN</td>\n      <td>ABS</td>\n      <td>n/a</td>\n      <td>40</td>\n      <td>0.3</td>\n      <td>0.5</td>\n      <td>...</td>\n      <td>185.975000</td>\n      <td>7440</td>\n      <td>6673</td>\n      <td>2.06</td>\n      <td>6682</td>\n      <td>-0.08</td>\n      <td>0.483425</td>\n      <td>0.040</td>\n      <td>NaN</td>\n      <td>1.99740</td>\n    </tr>\n    <tr>\n      <th>39</th>\n      <td>16_10_55</td>\n      <td>14:BF:E6</td>\n      <td>2022-03-23 16:10:55</td>\n      <td>21</td>\n      <td>kN</td>\n      <td>ABS</td>\n      <td>n/a</td>\n      <td>40</td>\n      <td>0.5</td>\n      <td>0.5</td>\n      <td>...</td>\n      <td>185.975000</td>\n      <td>7440</td>\n      <td>5818</td>\n      <td>2.83</td>\n      <td>7025</td>\n      <td>-0.09</td>\n      <td>0.886942</td>\n      <td>0.020</td>\n      <td>NaN</td>\n      <td>2.75695</td>\n    </tr>\n    <tr>\n      <th>40</th>\n      <td>16_16_33</td>\n      <td>14:BF:E6</td>\n      <td>2022-03-23 16:16:33</td>\n      <td>22</td>\n      <td>kN</td>\n      <td>ABS</td>\n      <td>n/a</td>\n      <td>40</td>\n      <td>0.5</td>\n      <td>0.5</td>\n      <td>...</td>\n      <td>185.975000</td>\n      <td>7440</td>\n      <td>6402</td>\n      <td>2.84</td>\n      <td>7160</td>\n      <td>-0.08</td>\n      <td>0.737280</td>\n      <td>0.460</td>\n      <td>NaN</td>\n      <td>2.76580</td>\n    </tr>\n    <tr>\n      <th>41</th>\n      <td>16_21_50</td>\n      <td>14:BF:E6</td>\n      <td>2022-03-23 16:21:50</td>\n      <td>23</td>\n      <td>kN</td>\n      <td>ABS</td>\n      <td>n/a</td>\n      <td>40</td>\n      <td>0.5</td>\n      <td>0.5</td>\n      <td>...</td>\n      <td>212.925000</td>\n      <td>8518</td>\n      <td>6897</td>\n      <td>2.85</td>\n      <td>8517</td>\n      <td>-0.08</td>\n      <td>1.128443</td>\n      <td>0.910</td>\n      <td>NaN</td>\n      <td>2.78070</td>\n    </tr>\n    <tr>\n      <th>42</th>\n      <td>16_36_05</td>\n      <td>14:BF:E6</td>\n      <td>2022-03-23 16:36:05</td>\n      <td>24</td>\n      <td>kN</td>\n      <td>ABS</td>\n      <td>n/a</td>\n      <td>40</td>\n      <td>0.5</td>\n      <td>0.5</td>\n      <td>...</td>\n      <td>196.725000</td>\n      <td>7870</td>\n      <td>5423</td>\n      <td>2.42</td>\n      <td>392</td>\n      <td>-0.05</td>\n      <td>1.045867</td>\n      <td>0.600</td>\n      <td>NaN</td>\n      <td>2.34425</td>\n    </tr>\n    <tr>\n      <th>43</th>\n      <td>16_40_07</td>\n      <td>14:BF:E6</td>\n      <td>2022-03-23 16:40:07</td>\n      <td>25</td>\n      <td>kN</td>\n      <td>ABS</td>\n      <td>n/a</td>\n      <td>40</td>\n      <td>0.5</td>\n      <td>0.5</td>\n      <td>...</td>\n      <td>211.025000</td>\n      <td>8442</td>\n      <td>6925</td>\n      <td>2.43</td>\n      <td>8441</td>\n      <td>-0.08</td>\n      <td>1.071758</td>\n      <td>0.820</td>\n      <td>NaN</td>\n      <td>2.34405</td>\n    </tr>\n    <tr>\n      <th>44</th>\n      <td>16_44_31</td>\n      <td>14:BF:E6</td>\n      <td>2022-03-23 16:44:31</td>\n      <td>26</td>\n      <td>kN</td>\n      <td>ABS</td>\n      <td>n/a</td>\n      <td>40</td>\n      <td>0.5</td>\n      <td>0.5</td>\n      <td>...</td>\n      <td>264.950000</td>\n      <td>10599</td>\n      <td>9300</td>\n      <td>2.51</td>\n      <td>0</td>\n      <td>-0.07</td>\n      <td>1.271194</td>\n      <td>1.930</td>\n      <td>NaN</td>\n      <td>2.45465</td>\n    </tr>\n    <tr>\n      <th>45</th>\n      <td>16_56_04</td>\n      <td>14:BF:E6</td>\n      <td>2022-03-23 16:56:04</td>\n      <td>27</td>\n      <td>kN</td>\n      <td>ABS</td>\n      <td>n/a</td>\n      <td>40</td>\n      <td>0.5</td>\n      <td>0.5</td>\n      <td>...</td>\n      <td>185.975000</td>\n      <td>7440</td>\n      <td>6025</td>\n      <td>2.05</td>\n      <td>7167</td>\n      <td>-0.09</td>\n      <td>0.800343</td>\n      <td>-0.060</td>\n      <td>NaN</td>\n      <td>1.99840</td>\n    </tr>\n    <tr>\n      <th>46</th>\n      <td>17_00_04</td>\n      <td>14:BF:E6</td>\n      <td>2022-03-23 17:00:04</td>\n      <td>28</td>\n      <td>kN</td>\n      <td>ABS</td>\n      <td>n/a</td>\n      <td>40</td>\n      <td>0.5</td>\n      <td>0.5</td>\n      <td>...</td>\n      <td>234.250000</td>\n      <td>9371</td>\n      <td>6186</td>\n      <td>2.08</td>\n      <td>0</td>\n      <td>-0.06</td>\n      <td>1.114781</td>\n      <td>1.860</td>\n      <td>NaN</td>\n      <td>1.98435</td>\n    </tr>\n    <tr>\n      <th>47</th>\n      <td>17_04_51</td>\n      <td>14:BF:E6</td>\n      <td>2022-03-23 17:04:51</td>\n      <td>29</td>\n      <td>kN</td>\n      <td>ABS</td>\n      <td>n/a</td>\n      <td>40</td>\n      <td>0.5</td>\n      <td>0.5</td>\n      <td>...</td>\n      <td>185.975000</td>\n      <td>7440</td>\n      <td>4918</td>\n      <td>2.01</td>\n      <td>6421</td>\n      <td>-0.09</td>\n      <td>0.591039</td>\n      <td>0.000</td>\n      <td>NaN</td>\n      <td>1.95740</td>\n    </tr>\n    <tr>\n      <th>48</th>\n      <td>17_07_37</td>\n      <td>14:BF:E6</td>\n      <td>2022-03-23 17:07:37</td>\n      <td>30</td>\n      <td>kN</td>\n      <td>ABS</td>\n      <td>n/a</td>\n      <td>40</td>\n      <td>0.5</td>\n      <td>0.5</td>\n      <td>...</td>\n      <td>151.700000</td>\n      <td>6069</td>\n      <td>4005</td>\n      <td>0.60</td>\n      <td>0</td>\n      <td>-0.07</td>\n      <td>0.217461</td>\n      <td>0.170</td>\n      <td>NaN</td>\n      <td>NaN</td>\n    </tr>\n    <tr>\n      <th>49</th>\n      <td>17_16_09</td>\n      <td>14:BF:E6</td>\n      <td>2022-03-23 17:16:09</td>\n      <td>31</td>\n      <td>kN</td>\n      <td>ABS</td>\n      <td>n/a</td>\n      <td>40</td>\n      <td>0.5</td>\n      <td>0.5</td>\n      <td>...</td>\n      <td>185.975000</td>\n      <td>7440</td>\n      <td>5153</td>\n      <td>2.82</td>\n      <td>6885</td>\n      <td>-0.09</td>\n      <td>1.029777</td>\n      <td>0.170</td>\n      <td>NaN</td>\n      <td>2.74560</td>\n    </tr>\n  </tbody>\n</table>\n<p>50 rows × 25 columns</p>\n</div>"
     },
     "execution_count": 31,
     "metadata": {},
     "output_type": "execute_result"
    }
   ],
   "source": [
    "ls3_metadata_df = ls3_series.metadata_df\n",
    "ls3_metadata_df.head(60)"
   ],
   "metadata": {
    "collapsed": false,
    "ExecuteTime": {
     "end_time": "2025-05-12T12:36:46.953343300Z",
     "start_time": "2025-05-12T12:36:46.884595200Z"
    }
   }
  },
  {
   "cell_type": "markdown",
   "source": [
    "## IMPORT: Datendokumentation laden"
   ],
   "metadata": {
    "collapsed": false
   }
  },
  {
   "cell_type": "code",
   "execution_count": 26,
   "outputs": [
    {
     "name": "stderr",
     "output_type": "stream",
     "text": [
      "2025-05-12 14:25:15 [\u001B[92mINFO\u001B[0m] linescale3.config.load_label_dict: Label dictionary loaded with 25 entries.\n"
     ]
    },
    {
     "data": {
      "text/plain": "{'measurement_name': {'Kategorie': 'ls3',\n  'Zeichen': 'filename',\n  'Deutsch': 'Dateiname',\n  'Datentyp': 'object',\n  'Einheit': '-',\n  'Beschreibung': 'Name der Log-Datei bzw. Serienbezeichnung der Messung'},\n 'sensor_id': {'Kategorie': 'ls3',\n  'Zeichen': 'sensor\\\\_id',\n  'Deutsch': 'Sensor ID',\n  'Datentyp': 'object',\n  'Einheit': '-',\n  'Beschreibung': 'ID des LineScale3 (Seriennummer)'},\n 'measurement_id': {'Kategorie': 'ls3',\n  'Zeichen': '$ID_{\\\\mathrm{Log}}$',\n  'Deutsch': 'LogNr.',\n  'Datentyp': 'Int64',\n  'Einheit': '-',\n  'Beschreibung': 'Mess-ID (interne LogNr. der LS3)'},\n 'datetime': {'Kategorie': 'ls3',\n  'Zeichen': '$t$',\n  'Deutsch': 'Zeitstempel',\n  'Datentyp': 'object',\n  'Einheit': '-',\n  'Beschreibung': 'Startzeitpunkt der Messung laut Gerät'},\n 'unit': {'Kategorie': 'ls3',\n  'Zeichen': 'unit',\n  'Deutsch': 'Einheit',\n  'Datentyp': 'object',\n  'Einheit': '-',\n  'Beschreibung': 'Einheit der Kraftmessung (hier kN)'},\n 'mode': {'Kategorie': 'ls3',\n  'Zeichen': 'mode',\n  'Deutsch': 'Modus',\n  'Datentyp': 'object',\n  'Einheit': '-',\n  'Beschreibung': 'Messmodus, hier ABS für absolute Kraft'},\n 'speed': {'Kategorie': 'ls3',\n  'Zeichen': '$f$',\n  'Deutsch': 'Abtastrate',\n  'Datentyp': 'Int64',\n  'Einheit': 'Hz',\n  'Beschreibung': 'Messgeschwindigkeit in Hz'},\n 'trig': {'Kategorie': 'ls3',\n  'Zeichen': '$F_{\\\\mathrm{trig}}$',\n  'Deutsch': 'Triggerkraft',\n  'Datentyp': 'float64',\n  'Einheit': 'kN',\n  'Beschreibung': 'Mindestkraft für Messbeginn'},\n 'pre': {'Kategorie': 'ls3',\n  'Zeichen': '$t_{\\\\mathrm{pre}}$',\n  'Deutsch': 'Vorlaufzeit',\n  'Datentyp': 'Int64',\n  'Einheit': 's',\n  'Beschreibung': 'Nachträglich ergänzter Zeitraum vor Trigger'},\n 'catch': {'Kategorie': 'ls3',\n  'Zeichen': '$t_{\\\\mathrm{catch}}$',\n  'Deutsch': 'Aufzeichnungszeit',\n  'Datentyp': 'Int64',\n  'Einheit': 's',\n  'Beschreibung': 'Dauer der Datenerfassung nach Trigger'},\n 'duration': {'Kategorie': 'ls3',\n  'Zeichen': '$\\\\Delta t$',\n  'Deutsch': 'Messdauer',\n  'Datentyp': 'float64',\n  'Einheit': 's',\n  'Beschreibung': 'Gesamtdauer der Messung'},\n 'length': {'Kategorie': 'ls3',\n  'Zeichen': '$n$',\n  'Deutsch': 'Anzahl Messpunkte',\n  'Datentyp': 'Int64',\n  'Einheit': '-',\n  'Beschreibung': 'Anzahl erfasster Datenpunkte'},\n 'mean': {'Kategorie': 'ls3',\n  'Zeichen': '$\\\\bar{F}$',\n  'Deutsch': 'Mittlere Kraft',\n  'Datentyp': 'float64',\n  'Einheit': 'kN',\n  'Beschreibung': 'Arithmetisches Mittel der gemessenen Kraft'},\n 'median': {'Kategorie': 'ls3',\n  'Zeichen': '$F_{\\\\mathrm{median}}$',\n  'Deutsch': 'Median Kraft',\n  'Datentyp': 'float64',\n  'Einheit': 'kN',\n  'Beschreibung': 'Median der gemessenen Kraft'},\n 'release': {'Kategorie': 'ls3',\n  'Zeichen': '$F_{\\\\mathrm{release}}$',\n  'Deutsch': 'Vorspannkraft-Ist',\n  'Datentyp': 'float64',\n  'Einheit': 'kN',\n  'Beschreibung': 'Tatsächlich realisierte Vorspannkraft im Zugseil bei Release'},\n 'integral': {'Kategorie': 'ls3',\n  'Zeichen': '$\\\\int F\\\\,dt$',\n  'Deutsch': 'Kraftintegral',\n  'Datentyp': 'float',\n  'Einheit': 'kN·s',\n  'Beschreibung': 'Zeitliches Integral der Kraft (Fläche unter der Kraft-Zeit-Kurve)'},\n 'datetime_start': {'Kategorie': 'ls3',\n  'Zeichen': '$t_{\\\\mathrm{start}}$',\n  'Deutsch': 'Startzeitpunkt',\n  'Datentyp': 'object',\n  'Einheit': '-',\n  'Beschreibung': 'Berechneter Startzeitpunkt der Messung'},\n 'datetime_end': {'Kategorie': 'ls3',\n  'Zeichen': '$t_{\\\\mathrm{end}}$',\n  'Deutsch': 'Endzeitpunkt',\n  'Datentyp': 'object',\n  'Einheit': '-',\n  'Beschreibung': 'Berechneter Endzeitpunkt der Messung'},\n 'max_index': {'Kategorie': 'ls3',\n  'Zeichen': 'idx($F_{\\\\mathrm{max}}$)',\n  'Deutsch': 'Index der maximalen Kraft',\n  'Datentyp': 'int',\n  'Einheit': '',\n  'Beschreibung': 'Index (Zeitpunkt) des maximalen Kraftwertes'},\n 'max_force': {'Kategorie': 'ls3',\n  'Zeichen': '$F_{\\\\mathrm{max}}$',\n  'Deutsch': 'Maximale Kraft',\n  'Datentyp': 'float',\n  'Einheit': 'kN',\n  'Beschreibung': 'Maximale Kraftspitze'},\n 'min_index': {'Kategorie': 'ls3',\n  'Zeichen': 'idx($F_{\\\\mathrm{min}}$)',\n  'Deutsch': 'Index der minimalen Kraft',\n  'Datentyp': 'int',\n  'Einheit': '',\n  'Beschreibung': 'Index (Zeitpunkt) des minimalen Kraftwertes'},\n 'min_force': {'Kategorie': 'ls3',\n  'Zeichen': '$F_{\\\\mathrm{min}}$',\n  'Deutsch': 'Minimale Kraft',\n  'Datentyp': 'float',\n  'Einheit': 'kN',\n  'Beschreibung': 'Minimaler Kraftwert'},\n 'rel_zero': {'Kategorie': 'ls3',\n  'Zeichen': 'rel\\\\_zero',\n  'Deutsch': 'Nullpunkt relativ',\n  'Datentyp': 'float64',\n  'Einheit': '-',\n  'Beschreibung': 'Für ABS-Modus nicht relevant (hier NaN)'},\n 'stop': {'Kategorie': 'ls3',\n  'Zeichen': '$t_{\\\\mathrm{stop}}$',\n  'Deutsch': 'Stopp-Kriterium',\n  'Datentyp': 'float64',\n  'Einheit': 's',\n  'Beschreibung': 'Zeitpunkt der Beendigung der Messung (fixe Dauer bei KS)'},\n 'total': {'Kategorie': 'ls3',\n  'Zeichen': '$t_{\\\\mathrm{total}}$',\n  'Deutsch': 'Messzeitraum gesamt',\n  'Datentyp': 'Int64',\n  'Einheit': 's',\n  'Beschreibung': 'Gesamtlänge der Messung inkl. Pre-Trigger-Phase'}}"
     },
     "execution_count": 26,
     "metadata": {},
     "output_type": "execute_result"
    }
   ],
   "source": [
    "ls3_data_dict = ls3_series.create_data_dict()\n",
    "ls3_data_dict"
   ],
   "metadata": {
    "collapsed": false,
    "ExecuteTime": {
     "end_time": "2025-05-12T12:25:15.518585300Z",
     "start_time": "2025-05-12T12:25:15.506057300Z"
    }
   }
  },
  {
   "cell_type": "markdown",
   "source": [
    "## ANALYSE: Datendokumentation für Metadaten ansehen"
   ],
   "metadata": {
    "collapsed": false
   }
  },
  {
   "cell_type": "code",
   "execution_count": 27,
   "outputs": [
    {
     "data": {
      "text/plain": "<IPython.core.display.Markdown object>",
      "text/markdown": "|    | Variable         | Kategorie   | Zeichen                 | Deutsch                   | Datentyp   | Einheit   | Beschreibung                                                      |\n|----|------------------|-------------|-------------------------|---------------------------|------------|-----------|-------------------------------------------------------------------|\n|  0 | measurement_name | ls3         | filename                | Dateiname                 | object     | -         | Name der Log-Datei bzw. Serienbezeichnung der Messung             |\n|  1 | sensor_id        | ls3         | sensor\\_id              | Sensor ID                 | object     | -         | ID des LineScale3 (Seriennummer)                                  |\n|  2 | measurement_id   | ls3         | $ID_{\\mathrm{Log}}$     | LogNr.                    | Int64      | -         | Mess-ID (interne LogNr. der LS3)                                  |\n|  3 | datetime         | ls3         | $t$                     | Zeitstempel               | object     | -         | Startzeitpunkt der Messung laut Gerät                             |\n|  4 | unit             | ls3         | unit                    | Einheit                   | object     | -         | Einheit der Kraftmessung (hier kN)                                |\n|  5 | mode             | ls3         | mode                    | Modus                     | object     | -         | Messmodus, hier ABS für absolute Kraft                            |\n|  6 | speed            | ls3         | $f$                     | Abtastrate                | Int64      | Hz        | Messgeschwindigkeit in Hz                                         |\n|  7 | trig             | ls3         | $F_{\\mathrm{trig}}$     | Triggerkraft              | float64    | kN        | Mindestkraft für Messbeginn                                       |\n|  8 | pre              | ls3         | $t_{\\mathrm{pre}}$      | Vorlaufzeit               | Int64      | s         | Nachträglich ergänzter Zeitraum vor Trigger                       |\n|  9 | catch            | ls3         | $t_{\\mathrm{catch}}$    | Aufzeichnungszeit         | Int64      | s         | Dauer der Datenerfassung nach Trigger                             |\n| 10 | duration         | ls3         | $\\Delta t$              | Messdauer                 | float64    | s         | Gesamtdauer der Messung                                           |\n| 11 | length           | ls3         | $n$                     | Anzahl Messpunkte         | Int64      | -         | Anzahl erfasster Datenpunkte                                      |\n| 12 | mean             | ls3         | $\\bar{F}$               | Mittlere Kraft            | float64    | kN        | Arithmetisches Mittel der gemessenen Kraft                        |\n| 13 | median           | ls3         | $F_{\\mathrm{median}}$   | Median Kraft              | float64    | kN        | Median der gemessenen Kraft                                       |\n| 14 | release          | ls3         | $F_{\\mathrm{release}}$  | Vorspannkraft-Ist         | float64    | kN        | Tatsächlich realisierte Vorspannkraft im Zugseil bei Release      |\n| 15 | integral         | ls3         | $\\int F\\,dt$            | Kraftintegral             | float      | kN·s      | Zeitliches Integral der Kraft (Fläche unter der Kraft-Zeit-Kurve) |\n| 16 | datetime_start   | ls3         | $t_{\\mathrm{start}}$    | Startzeitpunkt            | object     | -         | Berechneter Startzeitpunkt der Messung                            |\n| 17 | datetime_end     | ls3         | $t_{\\mathrm{end}}$      | Endzeitpunkt              | object     | -         | Berechneter Endzeitpunkt der Messung                              |\n| 18 | max_index        | ls3         | idx($F_{\\mathrm{max}}$) | Index der maximalen Kraft | int        |           | Index (Zeitpunkt) des maximalen Kraftwertes                       |\n| 19 | max_force        | ls3         | $F_{\\mathrm{max}}$      | Maximale Kraft            | float      | kN        | Maximale Kraftspitze                                              |\n| 20 | min_index        | ls3         | idx($F_{\\mathrm{min}}$) | Index der minimalen Kraft | int        |           | Index (Zeitpunkt) des minimalen Kraftwertes                       |\n| 21 | min_force        | ls3         | $F_{\\mathrm{min}}$      | Minimale Kraft            | float      | kN        | Minimaler Kraftwert                                               |\n| 22 | rel_zero         | ls3         | rel\\_zero               | Nullpunkt relativ         | float64    | -         | Für ABS-Modus nicht relevant (hier NaN)                           |\n| 23 | stop             | ls3         | $t_{\\mathrm{stop}}$     | Stopp-Kriterium           | float64    | s         | Zeitpunkt der Beendigung der Messung (fixe Dauer bei KS)          |\n| 24 | total            | ls3         | $t_{\\mathrm{total}}$    | Messzeitraum gesamt       | Int64      | s         | Gesamtlänge der Messung inkl. Pre-Trigger-Phase                   |"
     },
     "metadata": {},
     "output_type": "display_data"
    }
   ],
   "source": [
    "# In DataFrame umwandeln\n",
    "ls3_data_dict_df = build_data_dict_df(ls3_data_dict)\n",
    "\n",
    "# In Markdown umwandeln und anzeigen\n",
    "md_text = ls3_data_dict_df.to_markdown(tablefmt=\"github\")\n",
    "display(Markdown(md_text))"
   ],
   "metadata": {
    "collapsed": false,
    "ExecuteTime": {
     "end_time": "2025-05-12T12:25:15.565630100Z",
     "start_time": "2025-05-12T12:25:15.519583300Z"
    }
   }
  },
  {
   "cell_type": "markdown",
   "source": [
    "## EXPORT: Daten exportieren für Weiterverarbeitung (.feather, .csv, .json)"
   ],
   "metadata": {
    "collapsed": false
   }
  },
  {
   "cell_type": "code",
   "execution_count": 28,
   "outputs": [],
   "source": [
    "# DataFrame als Feather\n",
    "ls3_metadata_df.to_feather(data_export_directory / \"ls3.feather\")\n",
    "ls3_metadata_df.to_csv(data_export_directory / \"ls3.csv\", sep=\";\", index=False, encoding=\"utf-8\")\n",
    "\n",
    "# Dict als JSON (UTF-8, sauber eingerückt)\n",
    "with open(data_export_directory / \"ls3_data_dict.json\", \"w\", encoding=\"utf-8\") as f:\n",
    "    json.dump(ls3_data_dict, f,  indent=4, ensure_ascii=False)"
   ],
   "metadata": {
    "collapsed": false,
    "ExecuteTime": {
     "end_time": "2025-05-12T12:25:15.566642300Z",
     "start_time": "2025-05-12T12:25:15.535132500Z"
    }
   }
  },
  {
   "cell_type": "code",
   "execution_count": 29,
   "outputs": [],
   "source": [
    "# Feather laden\n",
    "\n",
    "# ls3_metadata_df = pd.read_feather(data_export_directory / \"ls3_metadata.feather\")\n",
    "# \n",
    "# # JSON laden\n",
    "# with open(data_export_directory / \"ls3_data_dict.json\", \"r\", encoding=\"utf-8\") as f:\n",
    "#     ls3_data_dict = json.load(f)"
   ],
   "metadata": {
    "collapsed": false,
    "ExecuteTime": {
     "end_time": "2025-05-12T12:25:15.568125700Z",
     "start_time": "2025-05-12T12:25:15.550817800Z"
    }
   }
  },
  {
   "cell_type": "markdown",
   "source": [
    "## LATEX-EXPORT: Datendokumentation als Latex-Tabelle exportieren (.tex)"
   ],
   "metadata": {
    "collapsed": false
   }
  },
  {
   "cell_type": "code",
   "execution_count": 30,
   "outputs": [
    {
     "name": "stdout",
     "output_type": "stream",
     "text": [
      "Content saved to: C:\\kyellsen\\005_Projekte\\2024_BA\\032_Feldversuch_2023_Plesse\\030_Analysen\\2023_Kronensicherung_Plesse_Kraefte_Schwingungen\\working_directory\\export_latex\\feldversuch_2_ls3_daten_dokumentation.tex\n"
     ]
    }
   ],
   "source": [
    "ls3_data_dict_df = build_data_dict_df(ls3_data_dict, escape_index=True, select_latex_fields=True)\n",
    "latex_string = ls3_data_dict_df.to_latex(index=False, escape=False)\n",
    "caption = \"Feldversuch 2 - LS3 Daten Dokumentation\"\n",
    "\n",
    "save_latex_table(latex_string, caption, latex_export_directory)"
   ],
   "metadata": {
    "collapsed": false,
    "ExecuteTime": {
     "end_time": "2025-05-12T12:25:15.622611600Z",
     "start_time": "2025-05-12T12:25:15.559638900Z"
    }
   }
  }
 ],
 "metadata": {
  "kernelspec": {
   "display_name": "Python 3 (ipykernel)",
   "language": "python",
   "name": "python3"
  },
  "language_info": {
   "codemirror_mode": {
    "name": "ipython",
    "version": 3
   },
   "file_extension": ".py",
   "mimetype": "text/x-python",
   "name": "python",
   "nbconvert_exporter": "python",
   "pygments_lexer": "ipython3",
   "version": "3.11.2"
  }
 },
 "nbformat": 4,
 "nbformat_minor": 4
}
