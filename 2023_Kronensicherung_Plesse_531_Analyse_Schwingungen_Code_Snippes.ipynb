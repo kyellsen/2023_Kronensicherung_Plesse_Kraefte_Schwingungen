{
 "cells": [
  {
   "cell_type": "markdown",
   "source": [
    "#### ANALYSE Alternative 1: Vereinfachtes Vorgehen durch Aggregation (Mittelwert)\n",
    "\n",
    "Liefert identische Ergebnisse zu Alternative 2, sofern jeder der vier Sensoren je pro ID einmal in Daten vorkommt. In vorliegenden Fall gegeben."
   ],
   "metadata": {
    "collapsed": false
   },
   "id": "eeea6d4a896864ef"
  },
  {
   "cell_type": "code",
   "execution_count": null,
   "outputs": [],
   "source": [
    "df_mean = (\n",
    "    df\n",
    "    .groupby(\"id\")[variables]  # nur die Original-Spalten auswählen\n",
    "    .mean()  # über id mitteln\n",
    "    .add_suffix(\"_mean\")  # hier hängen wir das Suffix an\n",
    "    .reset_index()\n",
    "    .merge(\n",
    "        df[add_variables].drop_duplicates(),\n",
    "        on=\"id\"\n",
    "    )\n",
    ")\n",
    "\n",
    "df_mean.describe()"
   ],
   "metadata": {
    "collapsed": false
   },
   "id": "ff1231d70fed4fbd"
  },
  {
   "cell_type": "markdown",
   "source": [
    "#### ANALYSE Alternative 2: Werte um Sensor-Effekt und Vorspannung zu adjustieren und dann zu aggregieren (Mittelwert)\n"
   ],
   "metadata": {
    "collapsed": false
   },
   "id": "2afc158826eb57ca"
  },
  {
   "cell_type": "code",
   "execution_count": null,
   "outputs": [],
   "source": [
    "model_dict = {}\n",
    "# Erstelle eine Kopie des Original-DataFrames\n",
    "df_copy = df.copy()\n",
    "\n",
    "global_means = {var: df[var].mean() for var in variables}\n",
    "\n",
    "for var in variables:\n",
    "    try:\n",
    "        # Sum-Kontraste: Intercept = globaler Mittelwert\n",
    "        model = smf.ols(f\"{var} ~ C(sensor_name, Sum)\", data=df).fit()\n",
    "        model_dict[var] = model\n",
    "\n",
    "        # resid = y - (Intercept + Sensor-Abweichung)\n",
    "        # und resid + Intercept gibt y ohne Sensor-Effekt, zentriert am globalen Mittelwert\n",
    "        df_copy[f\"{var}_adj\"] = model.resid + model.params['Intercept']\n",
    "    except Exception as e:\n",
    "        print(f\"Fehler bei {var}: {e}\")\n",
    "\n",
    "# Aggregiere über die ID – hier wird der Mittelwert der adjustierten Werte berechnet.\n",
    "df_adj = (\n",
    "    df_copy\n",
    "    .groupby(\"id\")\n",
    "    .agg({f\"{var}_adj\": \"mean\" for var in variables})\n",
    "    .reset_index()\n",
    "    .merge(df[add_variables].drop_duplicates(), on=\"id\")\n",
    ")\n",
    "\n",
    "df_adj.describe()"
   ],
   "metadata": {
    "collapsed": false
   },
   "id": "26adab85e9ac8409"
  },
  {
   "cell_type": "markdown",
   "source": [
    "Folgende Prüfung sollte nahe Null ergeben, wenn Skalierung und mittelwerte erhalten geblieben sind:"
   ],
   "metadata": {
    "collapsed": false
   },
   "id": "9b485471fa7fe831"
  },
  {
   "cell_type": "code",
   "execution_count": null,
   "outputs": [],
   "source": [
    "# Erstelle Listen mit den aktuellen Spaltennamen\n",
    "raw_cols = [f\"{var}_mean\" for var in variables]\n",
    "adj_cols = [f\"{var}_adj\" for var in variables]\n",
    "\n",
    "# Berechne die ungewichteten ID-Mittelwerte\n",
    "mean_id_raw = df_mean[raw_cols].mean()\n",
    "mean_id_adj = df_adj[adj_cols].mean()\n",
    "\n",
    "# Die Series haben jetzt noch die Suffix-Namen – indexe sie auf die Original-Variable\n",
    "mean_id_raw.index = variables\n",
    "mean_id_adj.index = variables\n",
    "\n",
    "# Differenz ausgeben\n",
    "diff = mean_id_raw - mean_id_adj\n",
    "print(diff)"
   ],
   "metadata": {
    "collapsed": false
   },
   "id": "e9accbb2e025f2c"
  },
  {
   "cell_type": "markdown",
   "source": [
    "##### LATEX-EXPORT: Modell-Info"
   ],
   "metadata": {
    "collapsed": false
   },
   "id": "8fe3b28cc2ffe925"
  },
  {
   "cell_type": "code",
   "execution_count": null,
   "outputs": [],
   "source": [
    "def extract_model_info(model):\n",
    "    \"\"\"\n",
    "    Extrahiert zentrale Kennzahlen aus einem OLS-Modell.\n",
    "    Liefert ein Dictionary mit R-squared, Adj. R-squared, sowie den Koeffizienten,\n",
    "    Standardfehler, t-Werten und p-Werten für alle Parameter.\n",
    "    \"\"\"\n",
    "    info = {\n",
    "        \"R²\": model.rsquared,\n",
    "        \"adj_R²\": model.rsquared_adj,\n",
    "    }\n",
    "    # Iteriere über alle Parameter im Modell\n",
    "    for param in model.params.index:\n",
    "        info[f\"coef_{param}\"] = model.params[param]\n",
    "        info[f\"std_err_{param}\"] = model.bse[param]\n",
    "        info[f\"t_{param}\"] = model.tvalues[param]\n",
    "        info[f\"p_{param}\"] = model.pvalues[param]\n",
    "    return info\n",
    "\n",
    "\n",
    "# Erstelle eine Liste, in der pro Variable das extrahierte Dictionary gespeichert wird.\n",
    "model_info_list = []\n",
    "for var, model in model_dict.items():\n",
    "    info = extract_model_info(model)\n",
    "    info['variable'] = var  # Variable als Kennung hinzufügen\n",
    "    model_info_list.append(info)\n",
    "\n",
    "# Konvertiere die Liste in einen DataFrame und setze \"variable\" als Index\n",
    "df_model_info = pd.DataFrame(model_info_list).set_index(\"variable\")\n",
    "df_model_info.index.name = \"Statistik\"\n",
    "df_model_info = df_model_info.T"
   ],
   "metadata": {
    "collapsed": false
   },
   "id": "8e441cfc0e9486b7"
  },
  {
   "cell_type": "code",
   "execution_count": null,
   "outputs": [],
   "source": [
    "def format_value(x):\n",
    "    # Prüfe, ob der Wert numerisch ist\n",
    "    if isinstance(x, (int, float, np.number)):\n",
    "        if abs(x) < 0.0001:\n",
    "            return f\"{x:.2e}\"\n",
    "        else:\n",
    "            return f\"{x:.2f}\"\n",
    "    return x\n",
    "\n",
    "\n",
    "# Wende die Funktion auf alle Zellen von df_model_info an\n",
    "df_model_info = df_model_info.applymap(format_value)\n",
    "df_model_info"
   ],
   "metadata": {
    "collapsed": false
   },
   "id": "6d96a7b4ef0ef736"
  },
  {
   "cell_type": "code",
   "execution_count": null,
   "outputs": [],
   "source": [
    "# Manuelles Escapen der Unterstriche im Index\n",
    "df_model_info.index = df_model_info.index.astype(str).str.replace('(sensor_name)[T.', r'(sensor)[')\n",
    "df_model_info.index = df_model_info.index.astype(str).str.replace('_', r'\\_')"
   ],
   "metadata": {
    "collapsed": false
   },
   "id": "468459e42d426706"
  },
  {
   "cell_type": "code",
   "execution_count": null,
   "outputs": [],
   "source": [
    "# Spaltennamen mit den Kurzbezeichnungen (Zeichen) aus dem data_dict umbenennen\n",
    "df_model_info = df_model_info.rename(columns={var: data_dict[var][\"Zeichen\"] for var in variables})\n",
    "\n",
    "column_format = \"l\" + \"r\" * (len(df_model_info.columns))\n",
    "latex_string = df_model_info.to_latex(index=True, escape=False, float_format=\"%.2f\", column_format=column_format)\n",
    "\n",
    "# Definiere Beschriftung und lange Beschriftung (Caption)\n",
    "caption = \"Feldversuch 2: Ergebnisse, Zusammenfassung der OLS-Modelle\"\n",
    "caption_long = \"Übersicht über zentrale Kennzahlen der OLS-Modelle: R², Adjusted R², Koeffizienten, Standardfehler, t-Werte und p-Werte für alle Parameter.\"\n",
    "\n",
    "# Funktion zum Speichern der LaTeX-Tabelle (du passt diese Funktion ggf. an deine Gegebenheiten an)\n",
    "save_latex_table(latex_string, caption, latex_export_directory, caption_long)"
   ],
   "metadata": {
    "collapsed": false
   },
   "id": "c33d6a20ddde4bb9"
  },
  {
   "cell_type": "markdown",
   "source": [
    "#### Zusammenführen beider Alternativen für Vergleich"
   ],
   "metadata": {
    "collapsed": false
   },
   "id": "507f81c09b2ed64c"
  },
  {
   "cell_type": "code",
   "execution_count": null,
   "outputs": [],
   "source": [
    "\n",
    "# --- Zusammenführen beider Ansätze ---\n",
    "# Beide DataFrames enthalten nun jeweils den Mittelwert pro ID:\n",
    "# - df_mean: direkte Mittelwerte mit Suffix _mean\n",
    "# - df_adj: sensor-adjustierte Mittelwerte mit Suffix _adj\n",
    "grouped_df = pd.merge(df_mean, df_adj, on=add_variables, how=\"inner\")\n",
    "grouped_df"
   ],
   "metadata": {
    "collapsed": false
   },
   "id": "d207f5f670e1ccbc"
  },
  {
   "cell_type": "markdown",
   "source": [
    "#### VISUALISIERUNG: Stelle beide Methoden der Aggregation gegenüber"
   ],
   "metadata": {
    "collapsed": false
   },
   "id": "a2d686fbf965c6ed"
  },
  {
   "cell_type": "code",
   "execution_count": null,
   "outputs": [],
   "source": [
    "for i, var in enumerate(variables):\n",
    "    # Transformiere die Daten in das Long-Format: \n",
    "    # Es werden die beiden Spalten f\"{var}_mean\" und f\"{var}_adj\" unter einer neuen Spalte \"aggregation\" zusammengeführt,\n",
    "    # und die Werte in der Spalte \"value\" gespeichert.\n",
    "    df_long = pd.melt(\n",
    "        grouped_df,\n",
    "        id_vars=[\"id\", \"treatment\", \"rope_release\"],\n",
    "        value_vars=[f\"{var}_mean\", f\"{var}_adj\"],\n",
    "        var_name=\"aggregation\",\n",
    "        value_name=\"value\"\n",
    "    )\n",
    "    # Kürze die Beschriftungen, sodass nur \"mean\" bzw. \"adj\" übrig bleiben\n",
    "    df_long[\"aggregation\"] = df_long[\"aggregation\"].str.replace(f\"{var}_\", \"\", regex=False)\n",
    "\n",
    "    # Erstelle den Plot: Boxplots nach Behandlung, getrennt nach Aggregationsmethode\n",
    "    fig = plt.figure(figsize=(8, 5))\n",
    "    sns.boxplot(x=\"treatment\", y=\"value\", hue=\"aggregation\", data=df_long, dodge=True)\n",
    "\n",
    "    # Titel und Achsentitel setzen\n",
    "    plt.title(f\"Einfluss der Behandlung auf {get_label_from_dict(var, data_dict, use_titel=True)}\")\n",
    "    plt.xlabel(\"Behandlung\")\n",
    "    plt.ylabel(get_label_from_dict(var, data_dict, use_full=True))\n",
    "    plt.tight_layout()\n",
    "\n",
    "    # Speichere den Plot (ersetze PLOT_MANAGER.save_plot durch plt.show() oder deine eigene Funktion, falls nötig)\n",
    "    PLOT_MANAGER.save_plot(fig, filename=f\"effect_treatment_{i}_{var}\",\n",
    "                           subdir=\"ptq_osc_sensor_effect_4_comparision_mean_vs_adj\")"
   ],
   "metadata": {
    "collapsed": false
   },
   "id": "8f123968256fd341"
  },
  {
   "cell_type": "markdown",
   "source": [
    "#### SET: Übernimm um Sensorposition adjustierte Werte\n",
    "\n",
    "Die statistische Bereinigung um den Effekt der Sensoren erscheint geeigneter, die daten werden nachfolgend weiter verwendet"
   ],
   "metadata": {
    "collapsed": false
   },
   "id": "4314a0f9732d5a8a"
  },
  {
   "cell_type": "code",
   "execution_count": null,
   "outputs": [],
   "source": [
    "# 1. Alle \"_adj\"‑Suffixe aus den Spaltennamen entfernen\n",
    "df_adj = df_adj.rename(columns=lambda x: x[:-4] if x.endswith(\"_adj\") else x)\n",
    "\n",
    "# 2. Gewünschte Spalten vorne in der Reihenfolge id, treatment, rope_release, cable_max\n",
    "front = add_variables\n",
    "# Alle übrigen Spalten, in der vorhandenen Reihenfolge\n",
    "rest = [c for c in df_adj.columns if c not in front]\n",
    "\n",
    "# 3. DataFrame umsortieren\n",
    "df_adj = df_adj[front + rest]\n",
    "df_adj"
   ],
   "metadata": {
    "collapsed": false
   },
   "id": "16f8b070aca61b5b"
  }
 ],
 "metadata": {
  "kernelspec": {
   "display_name": "Python 3",
   "language": "python",
   "name": "python3"
  },
  "language_info": {
   "codemirror_mode": {
    "name": "ipython",
    "version": 2
   },
   "file_extension": ".py",
   "mimetype": "text/x-python",
   "name": "python",
   "nbconvert_exporter": "python",
   "pygments_lexer": "ipython2",
   "version": "2.7.6"
  }
 },
 "nbformat": 4,
 "nbformat_minor": 5
}
