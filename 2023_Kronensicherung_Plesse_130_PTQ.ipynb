{
 "cells": [
  {
   "cell_type": "markdown",
   "metadata": {},
   "source": [
    "---\n",
    "title: \"2023_Kronensicherung_Plesse_003_PTQ\"\n",
    "author: \"Kyell Jensen\"\n",
    "date: \"2024-08-06\"\n",
    "format: pdf\n",
    "editor: visual\n",
    "---"
   ]
  },
  {
   "cell_type": "markdown",
   "metadata": {
    "collapsed": false
   },
   "source": [
    "# 2023_Kronensicherung_Plesse_PTQ\n",
    "## ## PTQ: Daten der Elastometer (PicusTreeQinetic Data = PTQ)\n",
    "\n",
    "Nutze eine geeignete Python 3.11 Umgebung (z. B. virtuelle Environment) und installiere das Paket treeqinetic (PTQ) inklusive kj_core und kj_logger und weiteren requirements."
   ]
  },
  {
   "cell_type": "markdown",
   "metadata": {
    "collapsed": false
   },
   "source": [
    "## Arbeitsumgebung vorbereiten\n",
    "\n",
    "\n",
    "Es werden zuerst benötigte Standard-Pakete importiert. Nachfolgend das extra geschriebenen Pakete PTQ. Fehler beim Import dieses Pakets sind ggf. Bugs. Es nutzte eine gemeinsame CodeBasis in den Paketen kj_core (Core-Package) und kj_logger (individualisiertes Logging des Verarbeitungs-Prozesses). Diese sollte i. d. R. über die requirements mit installiert werden."
   ]
  },
  {
   "cell_type": "markdown",
   "metadata": {
    "collapsed": false
   },
   "source": [
    "### IMPORT: Importieren von Standardbibliotheken\n",
    "\n",
    "Die folgenden Bibliotheken werden importiert, um grundlegende Funktionen für Strukturierung, Datenverarbeitung, Plotting und statistische Auswertung bereit zu stellen."
   ]
  },
  {
   "cell_type": "code",
   "execution_count": 1,
   "metadata": {
    "ExecuteTime": {
     "end_time": "2025-08-26T13:33:38.362880900Z",
     "start_time": "2025-08-26T13:33:38.362880900Z"
    }
   },
   "outputs": [],
   "source": [
    "import numpy as np\n",
    "import pandas as pd\n",
    "import json\n",
    "from IPython.display import Markdown, display\n",
    "from pandas.api.types import CategoricalDtype"
   ]
  },
  {
   "cell_type": "markdown",
   "metadata": {
    "collapsed": false
   },
   "source": [
    "### IMPORT: Importieren eigenes Packet TreeQinetic\n",
    "\n",
    "Das Packet TreeQinetic wurde vom Autor (Kyell Jensen) zum einfachen Analysieren, Plotten und zur Interpretation der TXT-Messdaten der Picus TreeQinetic Elastometer und Inclinometer der Firma IML Instrumenta Mechanik Labor Electronic GmbH geschrieben (https://www.iml-electronic.de/produkt/picus-treeqinetic/). Nachfolgend wird das Packet und einige dort definierten Klassen importiert."
   ]
  },
  {
   "cell_type": "code",
   "execution_count": 2,
   "metadata": {
    "collapsed": false,
    "ExecuteTime": {
     "end_time": "2025-08-26T13:33:39.197128500Z",
     "start_time": "2025-08-26T13:33:38.362880900Z"
    }
   },
   "outputs": [],
   "source": [
    "import treeqinetic as ptq\n",
    "# ptq.help() # Test"
   ]
  },
  {
   "cell_type": "markdown",
   "source": [
    "Lade allgemeine Export-Funktionen, um die Daten als Latex-Tabellen zu exportieren"
   ],
   "metadata": {
    "collapsed": false
   }
  },
  {
   "cell_type": "code",
   "execution_count": 3,
   "outputs": [],
   "source": [
    "from kj_core.utils.latex_export import (\n",
    "    save_latex_table,\n",
    "    build_data_dict_df\n",
    ")"
   ],
   "metadata": {
    "collapsed": false,
    "ExecuteTime": {
     "end_time": "2025-08-26T13:33:39.203053600Z",
     "start_time": "2025-08-26T13:33:39.197128500Z"
    }
   }
  },
  {
   "cell_type": "markdown",
   "source": [
    "### IMPORT: Projekt Konfiguration laden\n",
    "\n",
    "Lege Pfade für Daten-Importe, Daten-Exporte etc. fest (ggf. anpassen an eigene Verzeichnisstruktur), ausgelagert in gemeinsame Config für verschiedene Notebooks"
   ],
   "metadata": {
    "collapsed": false
   }
  },
  {
   "cell_type": "code",
   "execution_count": 4,
   "outputs": [],
   "source": [
    "# Importiere alle Einstellungen aus der project_config.py\n",
    "from project_config import (\n",
    "    analyse_name,\n",
    "    working_directory,\n",
    "    data_path,\n",
    "    data_export_directory,\n",
    "    latex_export_directory\n",
    ")"
   ],
   "metadata": {
    "collapsed": false,
    "ExecuteTime": {
     "end_time": "2025-08-26T13:33:39.231316100Z",
     "start_time": "2025-08-26T13:33:39.203053600Z"
    }
   }
  },
  {
   "cell_type": "markdown",
   "source": [],
   "metadata": {
    "collapsed": false
   }
  },
  {
   "cell_type": "markdown",
   "source": [
    "## IMPORT: TreeQinetic Daten laden\n",
    "\n",
    "Aus dem Zugversuchsset wurden 4 Elastometer und 3 Inclinometer verwendet.\n",
    "\n",
    "Die Elastometer waren auf dem rechten und linken Stämmling auf der Außenseite in zwei Ebenen platziert. Beim Zusammenziehen der Stämmlinge messen diese entsprechnd eine Faserdehnung, beim Ausschwingen der Stämmlinge über ihre Ruhelage hinaus nach außen eine Faserstauchung.\n",
    "\n",
    "Die Inclinometer Daten werden hier ebefalls geladen, erschienen aber weniger geeignet zur Auswertung und werden entspricht nicht weiter berücksichtigt.\n",
    "\n",
    "Die Funktion 'ptq.setup' erstellt div. Instanzen, die für das Paket notwendig sind (CONFIG, LOG_MANAGER, PLOT_MANAGER). \n",
    "\n",
    "Über die Klasse 'ptq.Series' wird eine neue Messreihe initialisiert und als 'ptq_series' gespeichert. Im Verzeichnis ptq_data_path finden sich die PTQ Daten als TXT von insgesamt 29 Messungen. Eine Datei enthält jeweils die Daten für alle Inclinometer und Elastometer."
   ],
   "metadata": {
    "collapsed": false
   }
  },
  {
   "cell_type": "markdown",
   "source": [
    "## IMPORT: Datendokumentation laden"
   ],
   "metadata": {
    "collapsed": false
   }
  },
  {
   "cell_type": "code",
   "execution_count": 5,
   "outputs": [
    {
     "name": "stderr",
     "output_type": "stream",
     "text": [
      "2025-08-26 15:33:39 [\u001B[92mINFO\u001B[0m] kj_logger.update_config: <kj_logger.LogManager object at 0x0000018F4F4709D0> initialized - update_config! Code: 000\n",
      "2025-08-26 15:33:39 [\u001B[92mINFO\u001B[0m] kj_core.core_config.set_working_directory: The directory C:\\kyellsen\\005_Projekte\\2024_BA\\032_Feldversuch_2023_Plesse\\030_Analysen\\2023_Kronensicherung_Plesse_Kraefte_Schwingungen\\working_directory\\ptq was successfully created.\n",
      "2025-08-26 15:33:39 [\u001B[92mINFO\u001B[0m] kj_core.core_config.set_working_directory: Working directory set to C:\\kyellsen\\005_Projekte\\2024_BA\\032_Feldversuch_2023_Plesse\\030_Analysen\\2023_Kronensicherung_Plesse_Kraefte_Schwingungen\\working_directory\\ptq!\n",
      "2025-08-26 15:33:39 [\u001B[92mINFO\u001B[0m] kj_core.core_config.__init__: <CoreConfig>\n",
      "  Package:            treeqinetic\n",
      "  Working Directory:  C:\\kyellsen\\005_Projekte\\2024_BA\\032_Feldversuch_2023_Plesse\\030_Analysen\\2023_Kronensicherung_Plesse_Kraefte_Schwingungen\\working_directory\\ptq\n",
      "  Plot Directory:     C:\\kyellsen\\005_Projekte\\2024_BA\\032_Feldversuch_2023_Plesse\\030_Analysen\\2023_Kronensicherung_Plesse_Kraefte_Schwingungen\\working_directory\\ptq\\plots\n",
      "  Data Directory:     C:\\kyellsen\\005_Projekte\\2024_BA\\032_Feldversuch_2023_Plesse\\030_Analysen\\2023_Kronensicherung_Plesse_Kraefte_Schwingungen\\working_directory\\ptq\\data\n",
      "  Database Directory: C:\\kyellsen\\005_Projekte\\2024_BA\\032_Feldversuch_2023_Plesse\\030_Analysen\\2023_Kronensicherung_Plesse_Kraefte_Schwingungen\\working_directory\\ptq\\databases\n",
      " initialized! Code: 001\n",
      "2025-08-26 15:33:39 [\u001B[92mINFO\u001B[0m] treeqinetic.setup: ptq: Setup treeqinetic package!\n",
      "2025-08-26 15:33:39 [\u001B[92mINFO\u001B[0m] kj_core.utils.plot_manager.__init__: <PlotManager>\n",
      "  Plot Directory:    C:\\kyellsen\\005_Projekte\\2024_BA\\032_Feldversuch_2023_Plesse\\030_Analysen\\2023_Kronensicherung_Plesse_Kraefte_Schwingungen\\working_directory\\ptq\\plots\n",
      "  DPI:               300\n",
      "  Figure Size:       (8, 6)\n",
      "  Seaborn Style:     'whitegrid'\n",
      "  Color Palette:     'bright'\n",
      "  Grid Enabled:      True\n",
      "  Wide Format:       True\n",
      "  From Config:       Config\n",
      " initialized! Code: 005\n",
      "2025-08-26 15:33:39 [\u001B[92mINFO\u001B[0m] treeqinetic.setup: ptq: treeqinetic setup completed.\n",
      "2025-08-26 15:33:39 [\u001B[92mINFO\u001B[0m] treeqinetic.classes.measurement.read_txt: Read TXT for Measurement: 'PTQ_Meas_100346.txt', ID: 1, Start '2023-03-22 10:10:39.830198' to '2023-03-22 10:13:21.602198' successful.\n",
      "2025-08-26 15:33:39 [\u001B[92mINFO\u001B[0m] treeqinetic.classes.measurement.read_txt: Read TXT for Measurement: 'PTQ_Meas_101814.txt', ID: 2, Start '2023-03-22 10:18:33.334820' to '2023-03-22 10:21:25.691820' successful.\n",
      "2025-08-26 15:33:39 [\u001B[92mINFO\u001B[0m] treeqinetic.classes.measurement.read_txt: Read TXT for Measurement: 'PTQ_Meas_102314.txt', ID: 3, Start '2023-03-22 10:26:25.086505' to '2023-03-22 10:28:50.847505' successful.\n",
      "2025-08-26 15:33:39 [\u001B[92mINFO\u001B[0m] treeqinetic.classes.measurement.read_txt: Read TXT for Measurement: 'PTQ_Meas_104400.txt', ID: 4, Start '2023-03-22 10:50:02.131987' to '2023-03-22 10:52:43.662987' successful.\n",
      "2025-08-26 15:33:39 [\u001B[92mINFO\u001B[0m] treeqinetic.classes.measurement.read_txt: Read TXT for Measurement: 'PTQ_Meas_105549.txt', ID: 5, Start '2023-03-22 10:55:59.034260' to '2023-03-22 10:58:38.051260' successful.\n",
      "2025-08-26 15:33:39 [\u001B[92mINFO\u001B[0m] treeqinetic.classes.measurement.read_txt: Read TXT for Measurement: 'PTQ_Meas_110107.txt', ID: 6, Start '2023-03-22 11:02:37.653620' to '2023-03-22 11:04:32.486620' successful.\n",
      "2025-08-26 15:33:39 [\u001B[92mINFO\u001B[0m] treeqinetic.classes.measurement.read_txt: Read TXT for Measurement: 'PTQ_Meas_110558.txt', ID: 7, Start '2023-03-22 11:06:16.330019' to '2023-03-22 11:08:10.160019' successful.\n",
      "2025-08-26 15:33:39 [\u001B[92mINFO\u001B[0m] treeqinetic.classes.measurement.read_txt: Read TXT for Measurement: 'PTQ_Meas_111019.txt', ID: 8, Start '2023-03-22 11:10:38.251994' to '2023-03-22 11:12:26.538994' successful.\n",
      "2025-08-26 15:33:39 [\u001B[92mINFO\u001B[0m] treeqinetic.classes.measurement.read_txt: Read TXT for Measurement: 'PTQ_Meas_111713.txt', ID: 9, Start '2023-03-22 11:21:04.844142' to '2023-03-22 11:23:02.055142' successful.\n",
      "2025-08-26 15:33:39 [\u001B[92mINFO\u001B[0m] treeqinetic.classes.measurement.read_txt: Read TXT for Measurement: 'PTQ_Meas_112120.txt', ID: 10, Start '2023-03-22 11:22:46.612488' to '2023-03-22 11:26:15.605488' successful.\n",
      "2025-08-26 15:33:39 [\u001B[92mINFO\u001B[0m] treeqinetic.classes.measurement.read_txt: Read TXT for Measurement: 'PTQ_Meas_133316.txt', ID: 11, Start '2023-03-22 13:36:32.068787' to '2023-03-22 13:38:55.286787' successful.\n",
      "2025-08-26 15:33:39 [\u001B[92mINFO\u001B[0m] treeqinetic.classes.measurement.read_txt: Read TXT for Measurement: 'PTQ_Meas_134053.txt', ID: 12, Start '2023-03-22 13:42:13.782157' to '2023-03-22 13:44:46.281157' successful.\n",
      "2025-08-26 15:33:39 [\u001B[92mINFO\u001B[0m] treeqinetic.classes.measurement.read_txt: Read TXT for Measurement: 'PTQ_Meas_134807.txt', ID: 13, Start '2023-03-22 13:49:21.347406' to '2023-03-22 13:51:37.799406' successful.\n",
      "2025-08-26 15:33:39 [\u001B[92mINFO\u001B[0m] treeqinetic.classes.measurement.read_txt: Read TXT for Measurement: 'PTQ_Meas_135705.txt', ID: 14, Start '2023-03-22 13:59:44.050912' to '2023-03-22 14:02:02.505912' successful.\n",
      "2025-08-26 15:33:39 [\u001B[92mINFO\u001B[0m] treeqinetic.classes.measurement.read_txt: Read TXT for Measurement: 'PTQ_Meas_140149.txt', ID: 15, Start '2023-03-22 14:04:38.399621' to '2023-03-22 14:06:40.181621' successful.\n",
      "2025-08-26 15:33:39 [\u001B[92mINFO\u001B[0m] treeqinetic.classes.measurement.read_txt: Read TXT for Measurement: 'PTQ_Meas_140551.txt', ID: 16, Start '2023-03-22 14:08:22.949140' to '2023-03-22 14:10:39.593140' successful.\n",
      "2025-08-26 15:33:39 [\u001B[92mINFO\u001B[0m] treeqinetic.classes.measurement.read_txt: Read TXT for Measurement: 'PTQ_Meas_141006.txt', ID: 17, Start '2023-03-22 14:12:35.404214' to '2023-03-22 14:14:35.383214' successful.\n",
      "2025-08-26 15:33:39 [\u001B[92mINFO\u001B[0m] treeqinetic.classes.measurement.read_txt: Read TXT for Measurement: 'PTQ_Meas_141437.txt', ID: 18, Start '2023-03-22 14:15:47.525869999' to '2023-03-22 14:18:26.172870' successful.\n",
      "2025-08-26 15:33:39 [\u001B[92mINFO\u001B[0m] treeqinetic.classes.measurement.read_txt: Read TXT for Measurement: 'PTQ_Meas_141812.txt', ID: 19, Start '2023-03-22 14:20:37.937304' to '2023-03-22 14:22:53.243304' successful.\n",
      "2025-08-26 15:33:39 [\u001B[92mINFO\u001B[0m] treeqinetic.classes.measurement.read_txt: Read TXT for Measurement: 'PTQ_Meas_150444.txt', ID: 20, Start '2023-03-22 15:07:26.211509' to '2023-03-22 15:09:24.888509' successful.\n",
      "2025-08-26 15:33:39 [\u001B[92mINFO\u001B[0m] treeqinetic.classes.measurement.read_txt: Read TXT for Measurement: 'PTQ_Meas_151010.txt', ID: 21, Start '2023-03-22 15:11:29.776214' to '2023-03-22 15:14:08.830214' successful.\n",
      "2025-08-26 15:33:39 [\u001B[92mINFO\u001B[0m] treeqinetic.classes.measurement.read_txt: Read TXT for Measurement: 'PTQ_Meas_151557.txt', ID: 22, Start '2023-03-22 15:16:01.811379' to '2023-03-22 15:20:03.954379' successful.\n",
      "2025-08-26 15:33:39 [\u001B[92mINFO\u001B[0m] treeqinetic.classes.measurement.read_txt: Read TXT for Measurement: 'PTQ_Meas_153028.txt', ID: 23, Start '2023-03-22 15:30:29.626130' to '2023-03-22 15:32:42.861130' successful.\n",
      "2025-08-26 15:33:39 [\u001B[92mINFO\u001B[0m] treeqinetic.classes.measurement.read_txt: Read TXT for Measurement: 'PTQ_Meas_153334.txt', ID: 24, Start '2023-03-22 15:36:28.333785' to '2023-03-22 15:39:10.601785' successful.\n",
      "2025-08-26 15:33:39 [\u001B[92mINFO\u001B[0m] treeqinetic.classes.measurement.read_txt: Read TXT for Measurement: 'PTQ_Meas_153817.txt', ID: 25, Start '2023-03-22 15:39:36.853689' to '2023-03-22 15:45:22.562689' successful.\n",
      "2025-08-26 15:33:39 [\u001B[92mINFO\u001B[0m] treeqinetic.classes.measurement.read_txt: Read TXT for Measurement: 'PTQ_Meas_154457.txt', ID: 26, Start '2023-03-22 15:53:18.604797' to '2023-03-22 15:56:04.346797' successful.\n",
      "2025-08-26 15:33:39 [\u001B[92mINFO\u001B[0m] treeqinetic.classes.measurement.read_txt: Read TXT for Measurement: 'PTQ_Meas_155354.txt', ID: 27, Start '2023-03-22 15:53:59.248874' to '2023-03-22 15:57:16.416874' successful.\n",
      "2025-08-26 15:33:39 [\u001B[92mINFO\u001B[0m] treeqinetic.classes.measurement.read_txt: Read TXT for Measurement: 'PTQ_Meas_155805.txt', ID: 28, Start '2023-03-22 15:59:19.859928' to '2023-03-22 16:00:54.129927999' successful.\n",
      "2025-08-26 15:33:39 [\u001B[92mINFO\u001B[0m] treeqinetic.classes.measurement.read_txt: Read TXT for Measurement: 'PTQ_Meas_160907.txt', ID: 29, Start '2023-03-22 16:09:36.011613' to '2023-03-22 16:12:55.455613' successful.\n"
     ]
    }
   ],
   "source": [
    "ptq.setup(working_directory=working_directory, log_level=\"info\", safe_logs_to_file=True)\n",
    "\n",
    "ptq_data_path = data_path / 'PTQ/data_txt'\n",
    "ptq_series = ptq.classes.Series(name=analyse_name, path=ptq_data_path)\n",
    "\n",
    "# Relevante Elastometer\n",
    "elasto_names = [\"Elasto(90)\", \"Elasto(92)\", \"Elasto(95)\", \"Elasto(98)\"]\n",
    "inclino_names = [#'Inclino(85)X', 'Inclino(85)Y',\n",
    "       'Inclino(83)X', 'Inclino(83)Y', 'Inclino(82)X', 'Inclino(82)Y', 'Inclino(81)X', 'Inclino(81)Y']"
   ],
   "metadata": {
    "collapsed": false,
    "ExecuteTime": {
     "end_time": "2025-08-26T13:33:39.897213700Z",
     "start_time": "2025-08-26T13:33:39.219182400Z"
    }
   }
  },
  {
   "cell_type": "code",
   "execution_count": 6,
   "outputs": [
    {
     "name": "stderr",
     "output_type": "stream",
     "text": [
      "2025-08-26 15:33:39 [\u001B[92mINFO\u001B[0m] treeqinetic.classes.series.create_oscillations_data_dict: Data dictionary loaded with 28 entries.\n"
     ]
    },
    {
     "data": {
      "text/plain": "<IPython.core.display.Markdown object>",
      "text/markdown": "|    | Variable            | Kategorie      | Zeichen                            | Deutsch                                    | Datentyp   | Einheit   | Beschreibung                                                            |\n|----|---------------------|----------------|------------------------------------|--------------------------------------------|------------|-----------|-------------------------------------------------------------------------|\n|  0 | id                  | ptq            | ID                                 | ID Messung                                 | int64      | -         | Eindeutige ID der Messung                                               |\n|  1 | file_name           | ptq            | filename                           | Dateiname                                  | object     | -         | Name der Quelldatei der Messung                                         |\n|  2 | sensor_name         | ptq            | sensor                             | Sensorname                                 | object     | -         | Bezeichnung des Elastometers                                            |\n|  3 | sample_rate         | ptq            | $f_s$                              | Abtastrate                                 | float64    | Hz        | Abtastrate der Datenaufzeichnung                                        |\n|  4 | max_strain          | ptq            | $\\Delta L_{\\mathrm{max}}$          | Dehnung max. gemessen                      | float64    | $\\mu$m    | Gemessene maximale absolute Randfaserdehnung                            |\n|  5 | max_compression     | ptq            | $\\Delta L_{\\mathrm{comp,max}}$     | Stauchung max. gemessen                    | float64    | $\\mu$m    | Gemessene maximale absolute Randfaserstauchung                          |\n|  6 | max_strain_osc      | ptq            | $\\Delta L_{\\mathrm{max,osc}}$      | Maximale Dehnung (Oszillation)             | float64    | $\\mu$m    | Gemessene maximale absolute Randfaserdehnung innerhalb der Schwingung   |\n|  7 | max_compression_osc | ptq            | $\\Delta L_{\\mathrm{comp,max,osc}}$ | Maximale Stauchung (Oszillation)           | float64    | $\\mu$m    | Gemessene maximale absolute Randfaserstauchung innerhalb der Schwingung |\n|  8 | m_amplitude         | ptq_osc        | $mA$                               | Manuelle Amplitude                         | float64    | $\\mu$m    | Manuell berechnete Amplitude über den Schwingungsabschnitt              |\n|  9 | m_amplitude_2       | ptq_osc        | $mA_2$                             | Manuelle Amplitude 2                       | float64    | $\\mu$m    | Manuell berechnete Amplitude zwischen 2. Peak und Minimum               |\n| 10 | metrics_warning     | ptq_osc        | warning                            | Fit-Warnung                                | bool       | -         | Warnung, wenn Qualitätsmetrik Schwellenwerte unterschreitet             |\n| 11 | initial_amplitude   | ptq_osc        | $A$                                | Anfangsamplitude                           | float64    | $\\mu$m    | Initiale Amplitude der angepassten Schwingung                           |\n| 12 | damping_coeff       | ptq_osc        | $\\delta$                           | Dämpfungskoeffizient                       | float64    | 1/s       | Koeffizient der exponentiellen Dämpfung                                 |\n| 13 | damping_ratio       | ptq_osc        | $D$                                | Dämpfungsgrad                              | float64    | -         | Verhältnis von Dämpfung zu Frequenz                                     |\n| 14 | frequency_damped    | ptq_osc        | $f_{\\mathrm{d}}$                   | Gedämpfte Frequenz                         | float64    | Hz        | Frequenz der gedämpften Schwingung                                      |\n| 15 | frequency_undamped  | ptq_osc        | $f_0$                              | Ungedämpfte Frequenz                       | float64    | Hz        | Frequenz der ungedämpften Schwingung                                    |\n| 16 | pearson_r           | ptq_osc_metric | $r$                                | Pearson-Korrelation                        | float64    | -         | Korrelationskoeffizient der Anpassung                                   |\n| 17 | nmae                | ptq_osc_metric | $\\mathrm{NMAE}$                    | Normalisierter MAE                         | float64    | -         | Normalisierter mittlerer absoluter Fehler                               |\n| 18 | nrmse               | ptq_osc_metric | $\\mathrm{NRMSE}$                   | Normalisierter RMSE                        | float64    | -         | Normalisierter mittlerer quadratischer Fehler                           |\n| 19 | phase_angle         | ptq_osc        | $\\varphi$                          | Phasenwinkel                               | float64    | rad       | Anfangsphase der Schwingung                                             |\n| 20 | x_shift             | ptq_osc        | $t_0$                              | Zeitverschiebung                           | float64    | s         | Horizontale Verschiebung der Schwingung                                 |\n| 21 | y_shift             | ptq_osc        | $y_0$                              | Vertikaler Versatz                         | float64    | $\\mu$m    | Vertikaler Offset der Schwingung                                        |\n| 22 | p_value             | ptq_osc_metric | p                                  | p-Wert                                     | float64    | -         | Signifikanzwert der Pearson-Korrelation                                 |\n| 23 | r2                  | ptq_osc_metric | $R^2$                              | Bestimmtheitsmaß                           | float64    | -         | Erklärte Varianz durch das Modell                                       |\n| 24 | mse                 | ptq_osc_metric | $\\mathrm{MSE}$                     | Mittlerer quadratischer Fehler             | float64    | -         | Mittlerer quadratischer Fehler der Anpassung                            |\n| 25 | rmse                | ptq_osc_metric | $\\mathrm{RMSE}$                    | Wurzel des mittleren quadratischen Fehlers | float64    | -         | Wurzel aus dem mittleren quadratischen Fehler                           |\n| 26 | cv                  | ptq_osc_metric | $\\mathrm{CV}$                      | Variationskoeffizient                      | float64    | -         | Verhältnis von RMSE zum Mittelwert                                      |\n| 27 | mae                 | ptq_osc_metric | $\\mathrm{MAE}$                     | Mittlerer absoluter Fehler                 | float64    | -         | Durchschnittlicher absoluter Fehler der Anpassung                       |"
     },
     "metadata": {},
     "output_type": "display_data"
    }
   ],
   "source": [
    "ptq_data_dict = ptq_series.create_oscillations_data_dict()\n",
    "# In DataFrame umwandeln\n",
    "ptq_data_dict_df= build_data_dict_df(ptq_data_dict)\n",
    "\n",
    "# In Markdown umwandeln und anzeigen\n",
    "md_text = ptq_data_dict_df.to_markdown(tablefmt=\"github\")\n",
    "display(Markdown(md_text))"
   ],
   "metadata": {
    "collapsed": false,
    "ExecuteTime": {
     "end_time": "2025-08-26T13:33:39.959483500Z",
     "start_time": "2025-08-26T13:33:39.863323300Z"
    }
   }
  },
  {
   "cell_type": "markdown",
   "source": [
    "## ANALYSE: Explorative Datenanalyse\n",
    "\n",
    "Übersicht über alle vom PTQ erfassten Daten über alle Messungen gemeinsam (Elastos und Inclinos)."
   ],
   "metadata": {
    "collapsed": false
   }
  },
  {
   "cell_type": "code",
   "execution_count": 7,
   "outputs": [
    {
     "data": {
      "text/plain": "       ID   Nr                   Datetime  Sec_Since_Start  Elasto(98)  \\\n0       1    0 2023-03-22 10:10:39.830198            0.000         NaN   \n1       1    1 2023-03-22 10:10:40.089198            0.259        -3.7   \n2       1    2 2023-03-22 10:10:40.329198            0.499        -4.3   \n3       1    3 2023-03-22 10:10:40.575198            0.745        -5.8   \n4       1    4 2023-03-22 10:10:40.817198            0.987        -5.9   \n...    ..  ...                        ...              ...         ...   \n17831  29  559 2023-03-22 16:12:54.492613          198.481        -0.7   \n17832  29  560 2023-03-22 16:12:54.734613          198.723        -0.4   \n17833  29  561 2023-03-22 16:12:54.974613          198.963        -0.1   \n17834  29  562 2023-03-22 16:12:55.214613          199.203         0.2   \n17835  29  563 2023-03-22 16:12:55.455613          199.444         0.7   \n\n       Elasto(95)  Elasto(92)  Elasto(90)  Inclino(85)X  Inclino(85)Y  \\\n0           -10.8         2.2        14.2         0.187           0.0   \n1           -11.1         3.1        14.7         0.174           0.0   \n2           -11.4         2.6        15.2         0.161           0.0   \n3           -11.5         3.3        15.5         0.123           0.0   \n4           -11.8         3.4        15.5         0.098           0.0   \n...           ...         ...         ...           ...           ...   \n17831        -0.9        -7.3       -15.9         0.149           0.0   \n17832        -0.5        -8.0       -16.3         0.039           0.0   \n17833         0.0        -8.2       -16.4         0.071           0.0   \n17834         0.7        -9.0       -16.3         0.151           0.0   \n17835         1.0        -8.9       -15.6         0.213           0.0   \n\n       Inclino(83)X  Inclino(83)Y  Inclino(82)X  Inclino(82)Y  Inclino(81)X  \\\n0            -0.180        -0.036        -0.055         0.061        -0.004   \n1            -0.195        -0.017        -0.066         0.051        -0.002   \n2            -0.205         0.016        -0.074         0.057         0.000   \n3            -0.207         0.054        -0.082         0.077        -0.001   \n4            -0.204         0.096        -0.087         0.101        -0.001   \n...             ...           ...           ...           ...           ...   \n17831         0.527         0.112         0.030         0.122         0.008   \n17832         0.546         0.018         0.051         0.062        -0.001   \n17833         0.563        -0.070         0.071         0.006         0.000   \n17834         0.579        -0.122         0.095        -0.042        -0.002   \n17835         0.603        -0.143         0.112        -0.077        -0.004   \n\n       Inclino(81)Y  \n0            -0.004  \n1            -0.004  \n2            -0.003  \n3            -0.006  \n4            -0.003  \n...             ...  \n17831        -0.002  \n17832        -0.002  \n17833        -0.002  \n17834         0.001  \n17835         0.001  \n\n[17836 rows x 16 columns]",
      "text/html": "<div>\n<style scoped>\n    .dataframe tbody tr th:only-of-type {\n        vertical-align: middle;\n    }\n\n    .dataframe tbody tr th {\n        vertical-align: top;\n    }\n\n    .dataframe thead th {\n        text-align: right;\n    }\n</style>\n<table border=\"1\" class=\"dataframe\">\n  <thead>\n    <tr style=\"text-align: right;\">\n      <th></th>\n      <th>ID</th>\n      <th>Nr</th>\n      <th>Datetime</th>\n      <th>Sec_Since_Start</th>\n      <th>Elasto(98)</th>\n      <th>Elasto(95)</th>\n      <th>Elasto(92)</th>\n      <th>Elasto(90)</th>\n      <th>Inclino(85)X</th>\n      <th>Inclino(85)Y</th>\n      <th>Inclino(83)X</th>\n      <th>Inclino(83)Y</th>\n      <th>Inclino(82)X</th>\n      <th>Inclino(82)Y</th>\n      <th>Inclino(81)X</th>\n      <th>Inclino(81)Y</th>\n    </tr>\n  </thead>\n  <tbody>\n    <tr>\n      <th>0</th>\n      <td>1</td>\n      <td>0</td>\n      <td>2023-03-22 10:10:39.830198</td>\n      <td>0.000</td>\n      <td>NaN</td>\n      <td>-10.8</td>\n      <td>2.2</td>\n      <td>14.2</td>\n      <td>0.187</td>\n      <td>0.0</td>\n      <td>-0.180</td>\n      <td>-0.036</td>\n      <td>-0.055</td>\n      <td>0.061</td>\n      <td>-0.004</td>\n      <td>-0.004</td>\n    </tr>\n    <tr>\n      <th>1</th>\n      <td>1</td>\n      <td>1</td>\n      <td>2023-03-22 10:10:40.089198</td>\n      <td>0.259</td>\n      <td>-3.7</td>\n      <td>-11.1</td>\n      <td>3.1</td>\n      <td>14.7</td>\n      <td>0.174</td>\n      <td>0.0</td>\n      <td>-0.195</td>\n      <td>-0.017</td>\n      <td>-0.066</td>\n      <td>0.051</td>\n      <td>-0.002</td>\n      <td>-0.004</td>\n    </tr>\n    <tr>\n      <th>2</th>\n      <td>1</td>\n      <td>2</td>\n      <td>2023-03-22 10:10:40.329198</td>\n      <td>0.499</td>\n      <td>-4.3</td>\n      <td>-11.4</td>\n      <td>2.6</td>\n      <td>15.2</td>\n      <td>0.161</td>\n      <td>0.0</td>\n      <td>-0.205</td>\n      <td>0.016</td>\n      <td>-0.074</td>\n      <td>0.057</td>\n      <td>0.000</td>\n      <td>-0.003</td>\n    </tr>\n    <tr>\n      <th>3</th>\n      <td>1</td>\n      <td>3</td>\n      <td>2023-03-22 10:10:40.575198</td>\n      <td>0.745</td>\n      <td>-5.8</td>\n      <td>-11.5</td>\n      <td>3.3</td>\n      <td>15.5</td>\n      <td>0.123</td>\n      <td>0.0</td>\n      <td>-0.207</td>\n      <td>0.054</td>\n      <td>-0.082</td>\n      <td>0.077</td>\n      <td>-0.001</td>\n      <td>-0.006</td>\n    </tr>\n    <tr>\n      <th>4</th>\n      <td>1</td>\n      <td>4</td>\n      <td>2023-03-22 10:10:40.817198</td>\n      <td>0.987</td>\n      <td>-5.9</td>\n      <td>-11.8</td>\n      <td>3.4</td>\n      <td>15.5</td>\n      <td>0.098</td>\n      <td>0.0</td>\n      <td>-0.204</td>\n      <td>0.096</td>\n      <td>-0.087</td>\n      <td>0.101</td>\n      <td>-0.001</td>\n      <td>-0.003</td>\n    </tr>\n    <tr>\n      <th>...</th>\n      <td>...</td>\n      <td>...</td>\n      <td>...</td>\n      <td>...</td>\n      <td>...</td>\n      <td>...</td>\n      <td>...</td>\n      <td>...</td>\n      <td>...</td>\n      <td>...</td>\n      <td>...</td>\n      <td>...</td>\n      <td>...</td>\n      <td>...</td>\n      <td>...</td>\n      <td>...</td>\n    </tr>\n    <tr>\n      <th>17831</th>\n      <td>29</td>\n      <td>559</td>\n      <td>2023-03-22 16:12:54.492613</td>\n      <td>198.481</td>\n      <td>-0.7</td>\n      <td>-0.9</td>\n      <td>-7.3</td>\n      <td>-15.9</td>\n      <td>0.149</td>\n      <td>0.0</td>\n      <td>0.527</td>\n      <td>0.112</td>\n      <td>0.030</td>\n      <td>0.122</td>\n      <td>0.008</td>\n      <td>-0.002</td>\n    </tr>\n    <tr>\n      <th>17832</th>\n      <td>29</td>\n      <td>560</td>\n      <td>2023-03-22 16:12:54.734613</td>\n      <td>198.723</td>\n      <td>-0.4</td>\n      <td>-0.5</td>\n      <td>-8.0</td>\n      <td>-16.3</td>\n      <td>0.039</td>\n      <td>0.0</td>\n      <td>0.546</td>\n      <td>0.018</td>\n      <td>0.051</td>\n      <td>0.062</td>\n      <td>-0.001</td>\n      <td>-0.002</td>\n    </tr>\n    <tr>\n      <th>17833</th>\n      <td>29</td>\n      <td>561</td>\n      <td>2023-03-22 16:12:54.974613</td>\n      <td>198.963</td>\n      <td>-0.1</td>\n      <td>0.0</td>\n      <td>-8.2</td>\n      <td>-16.4</td>\n      <td>0.071</td>\n      <td>0.0</td>\n      <td>0.563</td>\n      <td>-0.070</td>\n      <td>0.071</td>\n      <td>0.006</td>\n      <td>0.000</td>\n      <td>-0.002</td>\n    </tr>\n    <tr>\n      <th>17834</th>\n      <td>29</td>\n      <td>562</td>\n      <td>2023-03-22 16:12:55.214613</td>\n      <td>199.203</td>\n      <td>0.2</td>\n      <td>0.7</td>\n      <td>-9.0</td>\n      <td>-16.3</td>\n      <td>0.151</td>\n      <td>0.0</td>\n      <td>0.579</td>\n      <td>-0.122</td>\n      <td>0.095</td>\n      <td>-0.042</td>\n      <td>-0.002</td>\n      <td>0.001</td>\n    </tr>\n    <tr>\n      <th>17835</th>\n      <td>29</td>\n      <td>563</td>\n      <td>2023-03-22 16:12:55.455613</td>\n      <td>199.444</td>\n      <td>0.7</td>\n      <td>1.0</td>\n      <td>-8.9</td>\n      <td>-15.6</td>\n      <td>0.213</td>\n      <td>0.0</td>\n      <td>0.603</td>\n      <td>-0.143</td>\n      <td>0.112</td>\n      <td>-0.077</td>\n      <td>-0.004</td>\n      <td>0.001</td>\n    </tr>\n  </tbody>\n</table>\n<p>17836 rows × 16 columns</p>\n</div>"
     },
     "execution_count": 7,
     "metadata": {},
     "output_type": "execute_result"
    }
   ],
   "source": [
    "ptq_df = ptq_series.get_measurements_df()\n",
    "ptq_df"
   ],
   "metadata": {
    "collapsed": false,
    "ExecuteTime": {
     "end_time": "2025-08-26T13:33:39.998277300Z",
     "start_time": "2025-08-26T13:33:39.897213700Z"
    }
   }
  },
  {
   "cell_type": "code",
   "execution_count": 8,
   "outputs": [
    {
     "data": {
      "text/plain": "Index(['ID', 'Nr', 'Datetime', 'Sec_Since_Start', 'Elasto(98)', 'Elasto(95)',\n       'Elasto(92)', 'Elasto(90)', 'Inclino(85)X', 'Inclino(85)Y',\n       'Inclino(83)X', 'Inclino(83)Y', 'Inclino(82)X', 'Inclino(82)Y',\n       'Inclino(81)X', 'Inclino(81)Y'],\n      dtype='object')"
     },
     "execution_count": 8,
     "metadata": {},
     "output_type": "execute_result"
    }
   ],
   "source": [
    "ptq_df.columns"
   ],
   "metadata": {
    "collapsed": false,
    "ExecuteTime": {
     "end_time": "2025-08-26T13:33:39.998277300Z",
     "start_time": "2025-08-26T13:33:39.931953600Z"
    }
   }
  },
  {
   "cell_type": "code",
   "execution_count": 9,
   "outputs": [
    {
     "data": {
      "text/plain": "                 ID            Nr                       Datetime  \\\ncount  17836.000000  17836.000000                          17836   \nmean      15.249047    338.457502  2023-03-22 13:34:17.235428864   \nmin        1.000000      0.000000     2023-03-22 10:10:39.830198   \n25%        8.000000    153.000000  2023-03-22 11:11:37.444994048   \n50%       16.000000    309.000000  2023-03-22 14:08:40.921139968   \n75%       23.000000    469.000000  2023-03-22 15:31:05.232380160   \nmax       29.000000   1392.000000     2023-03-22 16:12:55.455613   \nstd        8.422199    242.404703                            NaN   \n\n       Sec_Since_Start    Elasto(98)    Elasto(95)    Elasto(92)  \\\ncount     17836.000000  17461.000000  17468.000000  17657.000000   \nmean         85.133799     81.627536    105.786833    118.740437   \nmin           0.000000   -192.900000   -119.100000   -111.000000   \n25%          38.984250     16.900000      8.400000      5.700000   \n50%          77.763500     95.100000    128.500000    139.500000   \n75%         117.784500    137.500000    184.700000    213.100000   \nmax         345.709000    234.600000    266.300000    291.500000   \nstd          60.383660     64.555211     89.518611    101.978415   \n\n         Elasto(90)  Inclino(85)X  Inclino(85)Y  Inclino(83)X  Inclino(83)Y  \\\ncount  17676.000000  17448.000000       17448.0  17704.000000  17704.000000   \nmean     191.152919      0.586046           0.0      0.735073      0.022071   \nmin     -217.800000      0.000000           0.0     -7.149000     -3.127000   \n25%       13.475000      0.283000           0.0      0.424000     -0.102000   \n50%      235.850000      0.557000           0.0      0.742000      0.000000   \n75%      337.600000      0.848250           0.0      1.036000      0.127000   \nmax      429.600000      7.029000           0.0      7.341000      4.525000   \nstd      157.753868      0.392076           0.0      0.561636      0.253933   \n\n       Inclino(82)X  Inclino(82)Y  Inclino(81)X  Inclino(81)Y  \ncount  17435.000000  17435.000000  17574.000000  17574.000000  \nmean      -0.495272     -0.195005      0.009151      0.010782  \nmin       -3.483000     -2.228000     -1.346000     -0.660000  \n25%       -0.922000     -0.397500     -0.006000     -0.005750  \n50%       -0.522000     -0.221000     -0.002000     -0.001000  \n75%       -0.070000      0.000000      0.001000      0.002000  \nmax        1.570000      1.147000      2.955000      0.526000  \nstd        0.491294      0.271169      0.226831      0.075625  ",
      "text/html": "<div>\n<style scoped>\n    .dataframe tbody tr th:only-of-type {\n        vertical-align: middle;\n    }\n\n    .dataframe tbody tr th {\n        vertical-align: top;\n    }\n\n    .dataframe thead th {\n        text-align: right;\n    }\n</style>\n<table border=\"1\" class=\"dataframe\">\n  <thead>\n    <tr style=\"text-align: right;\">\n      <th></th>\n      <th>ID</th>\n      <th>Nr</th>\n      <th>Datetime</th>\n      <th>Sec_Since_Start</th>\n      <th>Elasto(98)</th>\n      <th>Elasto(95)</th>\n      <th>Elasto(92)</th>\n      <th>Elasto(90)</th>\n      <th>Inclino(85)X</th>\n      <th>Inclino(85)Y</th>\n      <th>Inclino(83)X</th>\n      <th>Inclino(83)Y</th>\n      <th>Inclino(82)X</th>\n      <th>Inclino(82)Y</th>\n      <th>Inclino(81)X</th>\n      <th>Inclino(81)Y</th>\n    </tr>\n  </thead>\n  <tbody>\n    <tr>\n      <th>count</th>\n      <td>17836.000000</td>\n      <td>17836.000000</td>\n      <td>17836</td>\n      <td>17836.000000</td>\n      <td>17461.000000</td>\n      <td>17468.000000</td>\n      <td>17657.000000</td>\n      <td>17676.000000</td>\n      <td>17448.000000</td>\n      <td>17448.0</td>\n      <td>17704.000000</td>\n      <td>17704.000000</td>\n      <td>17435.000000</td>\n      <td>17435.000000</td>\n      <td>17574.000000</td>\n      <td>17574.000000</td>\n    </tr>\n    <tr>\n      <th>mean</th>\n      <td>15.249047</td>\n      <td>338.457502</td>\n      <td>2023-03-22 13:34:17.235428864</td>\n      <td>85.133799</td>\n      <td>81.627536</td>\n      <td>105.786833</td>\n      <td>118.740437</td>\n      <td>191.152919</td>\n      <td>0.586046</td>\n      <td>0.0</td>\n      <td>0.735073</td>\n      <td>0.022071</td>\n      <td>-0.495272</td>\n      <td>-0.195005</td>\n      <td>0.009151</td>\n      <td>0.010782</td>\n    </tr>\n    <tr>\n      <th>min</th>\n      <td>1.000000</td>\n      <td>0.000000</td>\n      <td>2023-03-22 10:10:39.830198</td>\n      <td>0.000000</td>\n      <td>-192.900000</td>\n      <td>-119.100000</td>\n      <td>-111.000000</td>\n      <td>-217.800000</td>\n      <td>0.000000</td>\n      <td>0.0</td>\n      <td>-7.149000</td>\n      <td>-3.127000</td>\n      <td>-3.483000</td>\n      <td>-2.228000</td>\n      <td>-1.346000</td>\n      <td>-0.660000</td>\n    </tr>\n    <tr>\n      <th>25%</th>\n      <td>8.000000</td>\n      <td>153.000000</td>\n      <td>2023-03-22 11:11:37.444994048</td>\n      <td>38.984250</td>\n      <td>16.900000</td>\n      <td>8.400000</td>\n      <td>5.700000</td>\n      <td>13.475000</td>\n      <td>0.283000</td>\n      <td>0.0</td>\n      <td>0.424000</td>\n      <td>-0.102000</td>\n      <td>-0.922000</td>\n      <td>-0.397500</td>\n      <td>-0.006000</td>\n      <td>-0.005750</td>\n    </tr>\n    <tr>\n      <th>50%</th>\n      <td>16.000000</td>\n      <td>309.000000</td>\n      <td>2023-03-22 14:08:40.921139968</td>\n      <td>77.763500</td>\n      <td>95.100000</td>\n      <td>128.500000</td>\n      <td>139.500000</td>\n      <td>235.850000</td>\n      <td>0.557000</td>\n      <td>0.0</td>\n      <td>0.742000</td>\n      <td>0.000000</td>\n      <td>-0.522000</td>\n      <td>-0.221000</td>\n      <td>-0.002000</td>\n      <td>-0.001000</td>\n    </tr>\n    <tr>\n      <th>75%</th>\n      <td>23.000000</td>\n      <td>469.000000</td>\n      <td>2023-03-22 15:31:05.232380160</td>\n      <td>117.784500</td>\n      <td>137.500000</td>\n      <td>184.700000</td>\n      <td>213.100000</td>\n      <td>337.600000</td>\n      <td>0.848250</td>\n      <td>0.0</td>\n      <td>1.036000</td>\n      <td>0.127000</td>\n      <td>-0.070000</td>\n      <td>0.000000</td>\n      <td>0.001000</td>\n      <td>0.002000</td>\n    </tr>\n    <tr>\n      <th>max</th>\n      <td>29.000000</td>\n      <td>1392.000000</td>\n      <td>2023-03-22 16:12:55.455613</td>\n      <td>345.709000</td>\n      <td>234.600000</td>\n      <td>266.300000</td>\n      <td>291.500000</td>\n      <td>429.600000</td>\n      <td>7.029000</td>\n      <td>0.0</td>\n      <td>7.341000</td>\n      <td>4.525000</td>\n      <td>1.570000</td>\n      <td>1.147000</td>\n      <td>2.955000</td>\n      <td>0.526000</td>\n    </tr>\n    <tr>\n      <th>std</th>\n      <td>8.422199</td>\n      <td>242.404703</td>\n      <td>NaN</td>\n      <td>60.383660</td>\n      <td>64.555211</td>\n      <td>89.518611</td>\n      <td>101.978415</td>\n      <td>157.753868</td>\n      <td>0.392076</td>\n      <td>0.0</td>\n      <td>0.561636</td>\n      <td>0.253933</td>\n      <td>0.491294</td>\n      <td>0.271169</td>\n      <td>0.226831</td>\n      <td>0.075625</td>\n    </tr>\n  </tbody>\n</table>\n</div>"
     },
     "execution_count": 9,
     "metadata": {},
     "output_type": "execute_result"
    }
   ],
   "source": [
    "ptq_df.describe()"
   ],
   "metadata": {
    "collapsed": false,
    "ExecuteTime": {
     "end_time": "2025-08-26T13:33:40.199200100Z",
     "start_time": "2025-08-26T13:33:39.943846100Z"
    }
   }
  },
  {
   "cell_type": "code",
   "execution_count": 10,
   "outputs": [
    {
     "data": {
      "text/plain": "         Elasto(90)    Elasto(92)    Elasto(95)    Elasto(98)\ncount  17676.000000  17657.000000  17468.000000  17461.000000\nmean     191.152919    118.740437    105.786833     81.627536\nstd      157.753868    101.978415     89.518611     64.555211\nmin     -217.800000   -111.000000   -119.100000   -192.900000\n25%       13.475000      5.700000      8.400000     16.900000\n50%      235.850000    139.500000    128.500000     95.100000\n75%      337.600000    213.100000    184.700000    137.500000\nmax      429.600000    291.500000    266.300000    234.600000",
      "text/html": "<div>\n<style scoped>\n    .dataframe tbody tr th:only-of-type {\n        vertical-align: middle;\n    }\n\n    .dataframe tbody tr th {\n        vertical-align: top;\n    }\n\n    .dataframe thead th {\n        text-align: right;\n    }\n</style>\n<table border=\"1\" class=\"dataframe\">\n  <thead>\n    <tr style=\"text-align: right;\">\n      <th></th>\n      <th>Elasto(90)</th>\n      <th>Elasto(92)</th>\n      <th>Elasto(95)</th>\n      <th>Elasto(98)</th>\n    </tr>\n  </thead>\n  <tbody>\n    <tr>\n      <th>count</th>\n      <td>17676.000000</td>\n      <td>17657.000000</td>\n      <td>17468.000000</td>\n      <td>17461.000000</td>\n    </tr>\n    <tr>\n      <th>mean</th>\n      <td>191.152919</td>\n      <td>118.740437</td>\n      <td>105.786833</td>\n      <td>81.627536</td>\n    </tr>\n    <tr>\n      <th>std</th>\n      <td>157.753868</td>\n      <td>101.978415</td>\n      <td>89.518611</td>\n      <td>64.555211</td>\n    </tr>\n    <tr>\n      <th>min</th>\n      <td>-217.800000</td>\n      <td>-111.000000</td>\n      <td>-119.100000</td>\n      <td>-192.900000</td>\n    </tr>\n    <tr>\n      <th>25%</th>\n      <td>13.475000</td>\n      <td>5.700000</td>\n      <td>8.400000</td>\n      <td>16.900000</td>\n    </tr>\n    <tr>\n      <th>50%</th>\n      <td>235.850000</td>\n      <td>139.500000</td>\n      <td>128.500000</td>\n      <td>95.100000</td>\n    </tr>\n    <tr>\n      <th>75%</th>\n      <td>337.600000</td>\n      <td>213.100000</td>\n      <td>184.700000</td>\n      <td>137.500000</td>\n    </tr>\n    <tr>\n      <th>max</th>\n      <td>429.600000</td>\n      <td>291.500000</td>\n      <td>266.300000</td>\n      <td>234.600000</td>\n    </tr>\n  </tbody>\n</table>\n</div>"
     },
     "execution_count": 10,
     "metadata": {},
     "output_type": "execute_result"
    }
   ],
   "source": [
    "ptq_df_elasto_summary = ptq_df[elasto_names].describe()\n",
    "ptq_df_elasto_summary"
   ],
   "metadata": {
    "collapsed": false,
    "ExecuteTime": {
     "end_time": "2025-08-26T13:33:40.202200600Z",
     "start_time": "2025-08-26T13:33:40.022321600Z"
    }
   }
  },
  {
   "cell_type": "code",
   "execution_count": 11,
   "outputs": [],
   "source": [
    "#ptq_series."
   ],
   "metadata": {
    "collapsed": false,
    "ExecuteTime": {
     "end_time": "2025-08-26T13:33:40.202200600Z",
     "start_time": "2025-08-26T13:33:40.053115300Z"
    }
   }
  },
  {
   "cell_type": "markdown",
   "source": [
    "### PLOTTING: Daten aller Messungen bzw. Elastometer/Inclinometer\n",
    "\n",
    "Plotten der 4 verwendeten Elastometer in einem Plot für jede Messung. Die Plots werden im Verzeichnis ptq/plots/multi_sensors_vs_time_1/ abgelegt.\n",
    "Für alle Messungen und Elastometer ist gut zu erkennen, wie die Faserdehnung während des zusammen ziehen der Stämmlinge zunimmt, dann im Moment des Realises plötzlich abfällt, um in Folge harmonisch gedämpft auszuschwingen (nährungsweise)."
   ],
   "metadata": {
    "collapsed": false
   }
  },
  {
   "cell_type": "code",
   "execution_count": 12,
   "outputs": [
    {
     "name": "stderr",
     "output_type": "stream",
     "text": [
      "2025-08-26 15:33:40 [\u001B[92mINFO\u001B[0m] treeqinetic.classes.measurement.plot_multi_sensors: plot_multi_sensors for measurement: 'Measurement: 'PTQ_Meas_100346.txt', ID: 1, Start '2023-03-22 10:10:39.830198' to '2023-03-22 10:13:21.602198'' successful.\n",
      "2025-08-26 15:33:41 [\u001B[92mINFO\u001B[0m] treeqinetic.classes.measurement.plot_multi_sensors: plot_multi_sensors for measurement: 'Measurement: 'PTQ_Meas_101814.txt', ID: 2, Start '2023-03-22 10:18:33.334820' to '2023-03-22 10:21:25.691820'' successful.\n",
      "2025-08-26 15:33:41 [\u001B[92mINFO\u001B[0m] treeqinetic.classes.measurement.plot_multi_sensors: plot_multi_sensors for measurement: 'Measurement: 'PTQ_Meas_102314.txt', ID: 3, Start '2023-03-22 10:26:25.086505' to '2023-03-22 10:28:50.847505'' successful.\n",
      "2025-08-26 15:33:41 [\u001B[92mINFO\u001B[0m] treeqinetic.classes.measurement.plot_multi_sensors: plot_multi_sensors for measurement: 'Measurement: 'PTQ_Meas_104400.txt', ID: 4, Start '2023-03-22 10:50:02.131987' to '2023-03-22 10:52:43.662987'' successful.\n",
      "2025-08-26 15:33:41 [\u001B[92mINFO\u001B[0m] treeqinetic.classes.measurement.plot_multi_sensors: plot_multi_sensors for measurement: 'Measurement: 'PTQ_Meas_105549.txt', ID: 5, Start '2023-03-22 10:55:59.034260' to '2023-03-22 10:58:38.051260'' successful.\n",
      "2025-08-26 15:33:42 [\u001B[92mINFO\u001B[0m] treeqinetic.classes.measurement.plot_multi_sensors: plot_multi_sensors for measurement: 'Measurement: 'PTQ_Meas_110107.txt', ID: 6, Start '2023-03-22 11:02:37.653620' to '2023-03-22 11:04:32.486620'' successful.\n",
      "2025-08-26 15:33:42 [\u001B[92mINFO\u001B[0m] treeqinetic.classes.measurement.plot_multi_sensors: plot_multi_sensors for measurement: 'Measurement: 'PTQ_Meas_110558.txt', ID: 7, Start '2023-03-22 11:06:16.330019' to '2023-03-22 11:08:10.160019'' successful.\n",
      "2025-08-26 15:33:42 [\u001B[92mINFO\u001B[0m] treeqinetic.classes.measurement.plot_multi_sensors: plot_multi_sensors for measurement: 'Measurement: 'PTQ_Meas_111019.txt', ID: 8, Start '2023-03-22 11:10:38.251994' to '2023-03-22 11:12:26.538994'' successful.\n",
      "2025-08-26 15:33:42 [\u001B[92mINFO\u001B[0m] treeqinetic.classes.measurement.plot_multi_sensors: plot_multi_sensors for measurement: 'Measurement: 'PTQ_Meas_111713.txt', ID: 9, Start '2023-03-22 11:21:04.844142' to '2023-03-22 11:23:02.055142'' successful.\n",
      "2025-08-26 15:33:42 [\u001B[92mINFO\u001B[0m] treeqinetic.classes.measurement.plot_multi_sensors: plot_multi_sensors for measurement: 'Measurement: 'PTQ_Meas_112120.txt', ID: 10, Start '2023-03-22 11:22:46.612488' to '2023-03-22 11:26:15.605488'' successful.\n",
      "2025-08-26 15:33:43 [\u001B[92mINFO\u001B[0m] treeqinetic.classes.measurement.plot_multi_sensors: plot_multi_sensors for measurement: 'Measurement: 'PTQ_Meas_133316.txt', ID: 11, Start '2023-03-22 13:36:32.068787' to '2023-03-22 13:38:55.286787'' successful.\n",
      "2025-08-26 15:33:43 [\u001B[92mINFO\u001B[0m] treeqinetic.classes.measurement.plot_multi_sensors: plot_multi_sensors for measurement: 'Measurement: 'PTQ_Meas_134053.txt', ID: 12, Start '2023-03-22 13:42:13.782157' to '2023-03-22 13:44:46.281157'' successful.\n",
      "2025-08-26 15:33:43 [\u001B[92mINFO\u001B[0m] treeqinetic.classes.measurement.plot_multi_sensors: plot_multi_sensors for measurement: 'Measurement: 'PTQ_Meas_134807.txt', ID: 13, Start '2023-03-22 13:49:21.347406' to '2023-03-22 13:51:37.799406'' successful.\n",
      "2025-08-26 15:33:43 [\u001B[92mINFO\u001B[0m] treeqinetic.classes.measurement.plot_multi_sensors: plot_multi_sensors for measurement: 'Measurement: 'PTQ_Meas_135705.txt', ID: 14, Start '2023-03-22 13:59:44.050912' to '2023-03-22 14:02:02.505912'' successful.\n",
      "2025-08-26 15:33:43 [\u001B[92mINFO\u001B[0m] treeqinetic.classes.measurement.plot_multi_sensors: plot_multi_sensors for measurement: 'Measurement: 'PTQ_Meas_140149.txt', ID: 15, Start '2023-03-22 14:04:38.399621' to '2023-03-22 14:06:40.181621'' successful.\n",
      "2025-08-26 15:33:44 [\u001B[92mINFO\u001B[0m] treeqinetic.classes.measurement.plot_multi_sensors: plot_multi_sensors for measurement: 'Measurement: 'PTQ_Meas_140551.txt', ID: 16, Start '2023-03-22 14:08:22.949140' to '2023-03-22 14:10:39.593140'' successful.\n",
      "2025-08-26 15:33:44 [\u001B[92mINFO\u001B[0m] treeqinetic.classes.measurement.plot_multi_sensors: plot_multi_sensors for measurement: 'Measurement: 'PTQ_Meas_141006.txt', ID: 17, Start '2023-03-22 14:12:35.404214' to '2023-03-22 14:14:35.383214'' successful.\n",
      "2025-08-26 15:33:44 [\u001B[92mINFO\u001B[0m] treeqinetic.classes.measurement.plot_multi_sensors: plot_multi_sensors for measurement: 'Measurement: 'PTQ_Meas_141437.txt', ID: 18, Start '2023-03-22 14:15:47.525869999' to '2023-03-22 14:18:26.172870'' successful.\n",
      "2025-08-26 15:33:44 [\u001B[92mINFO\u001B[0m] treeqinetic.classes.measurement.plot_multi_sensors: plot_multi_sensors for measurement: 'Measurement: 'PTQ_Meas_141812.txt', ID: 19, Start '2023-03-22 14:20:37.937304' to '2023-03-22 14:22:53.243304'' successful.\n",
      "2025-08-26 15:33:45 [\u001B[92mINFO\u001B[0m] treeqinetic.classes.measurement.plot_multi_sensors: plot_multi_sensors for measurement: 'Measurement: 'PTQ_Meas_150444.txt', ID: 20, Start '2023-03-22 15:07:26.211509' to '2023-03-22 15:09:24.888509'' successful.\n",
      "2025-08-26 15:33:45 [\u001B[92mINFO\u001B[0m] treeqinetic.classes.measurement.plot_multi_sensors: plot_multi_sensors for measurement: 'Measurement: 'PTQ_Meas_151010.txt', ID: 21, Start '2023-03-22 15:11:29.776214' to '2023-03-22 15:14:08.830214'' successful.\n",
      "2025-08-26 15:33:45 [\u001B[92mINFO\u001B[0m] treeqinetic.classes.measurement.plot_multi_sensors: plot_multi_sensors for measurement: 'Measurement: 'PTQ_Meas_151557.txt', ID: 22, Start '2023-03-22 15:16:01.811379' to '2023-03-22 15:20:03.954379'' successful.\n",
      "2025-08-26 15:33:45 [\u001B[92mINFO\u001B[0m] treeqinetic.classes.measurement.plot_multi_sensors: plot_multi_sensors for measurement: 'Measurement: 'PTQ_Meas_153028.txt', ID: 23, Start '2023-03-22 15:30:29.626130' to '2023-03-22 15:32:42.861130'' successful.\n",
      "2025-08-26 15:33:46 [\u001B[92mINFO\u001B[0m] treeqinetic.classes.measurement.plot_multi_sensors: plot_multi_sensors for measurement: 'Measurement: 'PTQ_Meas_153334.txt', ID: 24, Start '2023-03-22 15:36:28.333785' to '2023-03-22 15:39:10.601785'' successful.\n",
      "2025-08-26 15:33:46 [\u001B[92mINFO\u001B[0m] treeqinetic.classes.measurement.plot_multi_sensors: plot_multi_sensors for measurement: 'Measurement: 'PTQ_Meas_153817.txt', ID: 25, Start '2023-03-22 15:39:36.853689' to '2023-03-22 15:45:22.562689'' successful.\n",
      "2025-08-26 15:33:46 [\u001B[92mINFO\u001B[0m] treeqinetic.classes.measurement.plot_multi_sensors: plot_multi_sensors for measurement: 'Measurement: 'PTQ_Meas_154457.txt', ID: 26, Start '2023-03-22 15:53:18.604797' to '2023-03-22 15:56:04.346797'' successful.\n",
      "2025-08-26 15:33:46 [\u001B[92mINFO\u001B[0m] treeqinetic.classes.measurement.plot_multi_sensors: plot_multi_sensors for measurement: 'Measurement: 'PTQ_Meas_155354.txt', ID: 27, Start '2023-03-22 15:53:59.248874' to '2023-03-22 15:57:16.416874'' successful.\n",
      "2025-08-26 15:33:46 [\u001B[92mINFO\u001B[0m] treeqinetic.classes.measurement.plot_multi_sensors: plot_multi_sensors for measurement: 'Measurement: 'PTQ_Meas_155805.txt', ID: 28, Start '2023-03-22 15:59:19.859928' to '2023-03-22 16:00:54.129927999'' successful.\n",
      "2025-08-26 15:33:47 [\u001B[92mINFO\u001B[0m] treeqinetic.classes.measurement.plot_multi_sensors: plot_multi_sensors for measurement: 'Measurement: 'PTQ_Meas_160907.txt', ID: 29, Start '2023-03-22 16:09:36.011613' to '2023-03-22 16:12:55.455613'' successful.\n",
      "2025-08-26 15:33:47 [\u001B[92mINFO\u001B[0m] treeqinetic.classes.measurement.plot_multi_sensors: plot_multi_sensors for measurement: 'Measurement: 'PTQ_Meas_100346.txt', ID: 1, Start '2023-03-22 10:10:39.830198' to '2023-03-22 10:13:21.602198'' successful.\n",
      "2025-08-26 15:33:47 [\u001B[92mINFO\u001B[0m] treeqinetic.classes.measurement.plot_multi_sensors: plot_multi_sensors for measurement: 'Measurement: 'PTQ_Meas_101814.txt', ID: 2, Start '2023-03-22 10:18:33.334820' to '2023-03-22 10:21:25.691820'' successful.\n",
      "2025-08-26 15:33:47 [\u001B[92mINFO\u001B[0m] treeqinetic.classes.measurement.plot_multi_sensors: plot_multi_sensors for measurement: 'Measurement: 'PTQ_Meas_102314.txt', ID: 3, Start '2023-03-22 10:26:25.086505' to '2023-03-22 10:28:50.847505'' successful.\n",
      "2025-08-26 15:33:47 [\u001B[92mINFO\u001B[0m] treeqinetic.classes.measurement.plot_multi_sensors: plot_multi_sensors for measurement: 'Measurement: 'PTQ_Meas_104400.txt', ID: 4, Start '2023-03-22 10:50:02.131987' to '2023-03-22 10:52:43.662987'' successful.\n",
      "2025-08-26 15:33:48 [\u001B[92mINFO\u001B[0m] treeqinetic.classes.measurement.plot_multi_sensors: plot_multi_sensors for measurement: 'Measurement: 'PTQ_Meas_105549.txt', ID: 5, Start '2023-03-22 10:55:59.034260' to '2023-03-22 10:58:38.051260'' successful.\n",
      "2025-08-26 15:33:48 [\u001B[92mINFO\u001B[0m] treeqinetic.classes.measurement.plot_multi_sensors: plot_multi_sensors for measurement: 'Measurement: 'PTQ_Meas_110107.txt', ID: 6, Start '2023-03-22 11:02:37.653620' to '2023-03-22 11:04:32.486620'' successful.\n",
      "2025-08-26 15:33:48 [\u001B[92mINFO\u001B[0m] treeqinetic.classes.measurement.plot_multi_sensors: plot_multi_sensors for measurement: 'Measurement: 'PTQ_Meas_110558.txt', ID: 7, Start '2023-03-22 11:06:16.330019' to '2023-03-22 11:08:10.160019'' successful.\n",
      "2025-08-26 15:33:48 [\u001B[92mINFO\u001B[0m] treeqinetic.classes.measurement.plot_multi_sensors: plot_multi_sensors for measurement: 'Measurement: 'PTQ_Meas_111019.txt', ID: 8, Start '2023-03-22 11:10:38.251994' to '2023-03-22 11:12:26.538994'' successful.\n",
      "2025-08-26 15:33:48 [\u001B[92mINFO\u001B[0m] treeqinetic.classes.measurement.plot_multi_sensors: plot_multi_sensors for measurement: 'Measurement: 'PTQ_Meas_111713.txt', ID: 9, Start '2023-03-22 11:21:04.844142' to '2023-03-22 11:23:02.055142'' successful.\n",
      "2025-08-26 15:33:49 [\u001B[92mINFO\u001B[0m] treeqinetic.classes.measurement.plot_multi_sensors: plot_multi_sensors for measurement: 'Measurement: 'PTQ_Meas_112120.txt', ID: 10, Start '2023-03-22 11:22:46.612488' to '2023-03-22 11:26:15.605488'' successful.\n",
      "2025-08-26 15:33:49 [\u001B[92mINFO\u001B[0m] treeqinetic.classes.measurement.plot_multi_sensors: plot_multi_sensors for measurement: 'Measurement: 'PTQ_Meas_133316.txt', ID: 11, Start '2023-03-22 13:36:32.068787' to '2023-03-22 13:38:55.286787'' successful.\n",
      "2025-08-26 15:33:49 [\u001B[92mINFO\u001B[0m] treeqinetic.classes.measurement.plot_multi_sensors: plot_multi_sensors for measurement: 'Measurement: 'PTQ_Meas_134053.txt', ID: 12, Start '2023-03-22 13:42:13.782157' to '2023-03-22 13:44:46.281157'' successful.\n",
      "2025-08-26 15:33:49 [\u001B[92mINFO\u001B[0m] treeqinetic.classes.measurement.plot_multi_sensors: plot_multi_sensors for measurement: 'Measurement: 'PTQ_Meas_134807.txt', ID: 13, Start '2023-03-22 13:49:21.347406' to '2023-03-22 13:51:37.799406'' successful.\n",
      "2025-08-26 15:33:49 [\u001B[92mINFO\u001B[0m] treeqinetic.classes.measurement.plot_multi_sensors: plot_multi_sensors for measurement: 'Measurement: 'PTQ_Meas_135705.txt', ID: 14, Start '2023-03-22 13:59:44.050912' to '2023-03-22 14:02:02.505912'' successful.\n",
      "2025-08-26 15:33:49 [\u001B[92mINFO\u001B[0m] treeqinetic.classes.measurement.plot_multi_sensors: plot_multi_sensors for measurement: 'Measurement: 'PTQ_Meas_140149.txt', ID: 15, Start '2023-03-22 14:04:38.399621' to '2023-03-22 14:06:40.181621'' successful.\n",
      "2025-08-26 15:33:50 [\u001B[92mINFO\u001B[0m] treeqinetic.classes.measurement.plot_multi_sensors: plot_multi_sensors for measurement: 'Measurement: 'PTQ_Meas_140551.txt', ID: 16, Start '2023-03-22 14:08:22.949140' to '2023-03-22 14:10:39.593140'' successful.\n",
      "2025-08-26 15:33:50 [\u001B[92mINFO\u001B[0m] treeqinetic.classes.measurement.plot_multi_sensors: plot_multi_sensors for measurement: 'Measurement: 'PTQ_Meas_141006.txt', ID: 17, Start '2023-03-22 14:12:35.404214' to '2023-03-22 14:14:35.383214'' successful.\n",
      "2025-08-26 15:33:50 [\u001B[92mINFO\u001B[0m] treeqinetic.classes.measurement.plot_multi_sensors: plot_multi_sensors for measurement: 'Measurement: 'PTQ_Meas_141437.txt', ID: 18, Start '2023-03-22 14:15:47.525869999' to '2023-03-22 14:18:26.172870'' successful.\n",
      "2025-08-26 15:33:50 [\u001B[92mINFO\u001B[0m] treeqinetic.classes.measurement.plot_multi_sensors: plot_multi_sensors for measurement: 'Measurement: 'PTQ_Meas_141812.txt', ID: 19, Start '2023-03-22 14:20:37.937304' to '2023-03-22 14:22:53.243304'' successful.\n",
      "2025-08-26 15:33:50 [\u001B[92mINFO\u001B[0m] treeqinetic.classes.measurement.plot_multi_sensors: plot_multi_sensors for measurement: 'Measurement: 'PTQ_Meas_150444.txt', ID: 20, Start '2023-03-22 15:07:26.211509' to '2023-03-22 15:09:24.888509'' successful.\n",
      "2025-08-26 15:33:51 [\u001B[92mINFO\u001B[0m] treeqinetic.classes.measurement.plot_multi_sensors: plot_multi_sensors for measurement: 'Measurement: 'PTQ_Meas_151010.txt', ID: 21, Start '2023-03-22 15:11:29.776214' to '2023-03-22 15:14:08.830214'' successful.\n",
      "2025-08-26 15:33:51 [\u001B[92mINFO\u001B[0m] treeqinetic.classes.measurement.plot_multi_sensors: plot_multi_sensors for measurement: 'Measurement: 'PTQ_Meas_151557.txt', ID: 22, Start '2023-03-22 15:16:01.811379' to '2023-03-22 15:20:03.954379'' successful.\n",
      "2025-08-26 15:33:51 [\u001B[92mINFO\u001B[0m] treeqinetic.classes.measurement.plot_multi_sensors: plot_multi_sensors for measurement: 'Measurement: 'PTQ_Meas_153028.txt', ID: 23, Start '2023-03-22 15:30:29.626130' to '2023-03-22 15:32:42.861130'' successful.\n",
      "2025-08-26 15:33:51 [\u001B[92mINFO\u001B[0m] treeqinetic.classes.measurement.plot_multi_sensors: plot_multi_sensors for measurement: 'Measurement: 'PTQ_Meas_153334.txt', ID: 24, Start '2023-03-22 15:36:28.333785' to '2023-03-22 15:39:10.601785'' successful.\n",
      "2025-08-26 15:33:51 [\u001B[92mINFO\u001B[0m] treeqinetic.classes.measurement.plot_multi_sensors: plot_multi_sensors for measurement: 'Measurement: 'PTQ_Meas_153817.txt', ID: 25, Start '2023-03-22 15:39:36.853689' to '2023-03-22 15:45:22.562689'' successful.\n",
      "2025-08-26 15:33:52 [\u001B[92mINFO\u001B[0m] treeqinetic.classes.measurement.plot_multi_sensors: plot_multi_sensors for measurement: 'Measurement: 'PTQ_Meas_154457.txt', ID: 26, Start '2023-03-22 15:53:18.604797' to '2023-03-22 15:56:04.346797'' successful.\n",
      "2025-08-26 15:33:52 [\u001B[92mINFO\u001B[0m] treeqinetic.classes.measurement.plot_multi_sensors: plot_multi_sensors for measurement: 'Measurement: 'PTQ_Meas_155354.txt', ID: 27, Start '2023-03-22 15:53:59.248874' to '2023-03-22 15:57:16.416874'' successful.\n",
      "2025-08-26 15:33:52 [\u001B[92mINFO\u001B[0m] treeqinetic.classes.measurement.plot_multi_sensors: plot_multi_sensors for measurement: 'Measurement: 'PTQ_Meas_155805.txt', ID: 28, Start '2023-03-22 15:59:19.859928' to '2023-03-22 16:00:54.129927999'' successful.\n",
      "2025-08-26 15:33:52 [\u001B[92mINFO\u001B[0m] treeqinetic.classes.measurement.plot_multi_sensors: plot_multi_sensors for measurement: 'Measurement: 'PTQ_Meas_160907.txt', ID: 29, Start '2023-03-22 16:09:36.011613' to '2023-03-22 16:12:55.455613'' successful.\n"
     ]
    }
   ],
   "source": [
    "inclino_names = ['Inclino(81)X', 'Inclino(81)Y']\n",
    "ptq_series.plot_measurement_sensors(sensor_names=inclino_names)\n",
    "inclino_names = ['Inclino(83)X', 'Inclino(83)Y', 'Inclino(82)X', 'Inclino(82)Y']\n",
    "ptq_series.plot_measurement_sensors(sensor_names=inclino_names)"
   ],
   "metadata": {
    "collapsed": false,
    "ExecuteTime": {
     "end_time": "2025-08-26T13:33:52.745509Z",
     "start_time": "2025-08-26T13:33:40.059485300Z"
    }
   }
  },
  {
   "cell_type": "code",
   "execution_count": 13,
   "outputs": [
    {
     "name": "stderr",
     "output_type": "stream",
     "text": [
      "2025-08-26 15:33:52 [\u001B[92mINFO\u001B[0m] treeqinetic.classes.measurement.plot_multi_sensors: plot_multi_sensors for measurement: 'Measurement: 'PTQ_Meas_100346.txt', ID: 1, Start '2023-03-22 10:10:39.830198' to '2023-03-22 10:13:21.602198'' successful.\n",
      "2025-08-26 15:33:53 [\u001B[92mINFO\u001B[0m] treeqinetic.classes.measurement.plot_multi_sensors: plot_multi_sensors for measurement: 'Measurement: 'PTQ_Meas_101814.txt', ID: 2, Start '2023-03-22 10:18:33.334820' to '2023-03-22 10:21:25.691820'' successful.\n",
      "2025-08-26 15:33:53 [\u001B[92mINFO\u001B[0m] treeqinetic.classes.measurement.plot_multi_sensors: plot_multi_sensors for measurement: 'Measurement: 'PTQ_Meas_102314.txt', ID: 3, Start '2023-03-22 10:26:25.086505' to '2023-03-22 10:28:50.847505'' successful.\n",
      "2025-08-26 15:33:53 [\u001B[92mINFO\u001B[0m] treeqinetic.classes.measurement.plot_multi_sensors: plot_multi_sensors for measurement: 'Measurement: 'PTQ_Meas_104400.txt', ID: 4, Start '2023-03-22 10:50:02.131987' to '2023-03-22 10:52:43.662987'' successful.\n",
      "2025-08-26 15:33:53 [\u001B[92mINFO\u001B[0m] treeqinetic.classes.measurement.plot_multi_sensors: plot_multi_sensors for measurement: 'Measurement: 'PTQ_Meas_105549.txt', ID: 5, Start '2023-03-22 10:55:59.034260' to '2023-03-22 10:58:38.051260'' successful.\n",
      "2025-08-26 15:33:53 [\u001B[92mINFO\u001B[0m] treeqinetic.classes.measurement.plot_multi_sensors: plot_multi_sensors for measurement: 'Measurement: 'PTQ_Meas_110107.txt', ID: 6, Start '2023-03-22 11:02:37.653620' to '2023-03-22 11:04:32.486620'' successful.\n",
      "2025-08-26 15:33:54 [\u001B[92mINFO\u001B[0m] treeqinetic.classes.measurement.plot_multi_sensors: plot_multi_sensors for measurement: 'Measurement: 'PTQ_Meas_110558.txt', ID: 7, Start '2023-03-22 11:06:16.330019' to '2023-03-22 11:08:10.160019'' successful.\n",
      "2025-08-26 15:33:54 [\u001B[92mINFO\u001B[0m] treeqinetic.classes.measurement.plot_multi_sensors: plot_multi_sensors for measurement: 'Measurement: 'PTQ_Meas_111019.txt', ID: 8, Start '2023-03-22 11:10:38.251994' to '2023-03-22 11:12:26.538994'' successful.\n",
      "2025-08-26 15:33:54 [\u001B[92mINFO\u001B[0m] treeqinetic.classes.measurement.plot_multi_sensors: plot_multi_sensors for measurement: 'Measurement: 'PTQ_Meas_111713.txt', ID: 9, Start '2023-03-22 11:21:04.844142' to '2023-03-22 11:23:02.055142'' successful.\n",
      "2025-08-26 15:33:54 [\u001B[92mINFO\u001B[0m] treeqinetic.classes.measurement.plot_multi_sensors: plot_multi_sensors for measurement: 'Measurement: 'PTQ_Meas_112120.txt', ID: 10, Start '2023-03-22 11:22:46.612488' to '2023-03-22 11:26:15.605488'' successful.\n",
      "2025-08-26 15:33:54 [\u001B[92mINFO\u001B[0m] treeqinetic.classes.measurement.plot_multi_sensors: plot_multi_sensors for measurement: 'Measurement: 'PTQ_Meas_133316.txt', ID: 11, Start '2023-03-22 13:36:32.068787' to '2023-03-22 13:38:55.286787'' successful.\n",
      "2025-08-26 15:33:54 [\u001B[92mINFO\u001B[0m] treeqinetic.classes.measurement.plot_multi_sensors: plot_multi_sensors for measurement: 'Measurement: 'PTQ_Meas_134053.txt', ID: 12, Start '2023-03-22 13:42:13.782157' to '2023-03-22 13:44:46.281157'' successful.\n",
      "2025-08-26 15:33:55 [\u001B[92mINFO\u001B[0m] treeqinetic.classes.measurement.plot_multi_sensors: plot_multi_sensors for measurement: 'Measurement: 'PTQ_Meas_134807.txt', ID: 13, Start '2023-03-22 13:49:21.347406' to '2023-03-22 13:51:37.799406'' successful.\n",
      "2025-08-26 15:33:55 [\u001B[92mINFO\u001B[0m] treeqinetic.classes.measurement.plot_multi_sensors: plot_multi_sensors for measurement: 'Measurement: 'PTQ_Meas_135705.txt', ID: 14, Start '2023-03-22 13:59:44.050912' to '2023-03-22 14:02:02.505912'' successful.\n",
      "2025-08-26 15:33:55 [\u001B[92mINFO\u001B[0m] treeqinetic.classes.measurement.plot_multi_sensors: plot_multi_sensors for measurement: 'Measurement: 'PTQ_Meas_140149.txt', ID: 15, Start '2023-03-22 14:04:38.399621' to '2023-03-22 14:06:40.181621'' successful.\n",
      "2025-08-26 15:33:55 [\u001B[92mINFO\u001B[0m] treeqinetic.classes.measurement.plot_multi_sensors: plot_multi_sensors for measurement: 'Measurement: 'PTQ_Meas_140551.txt', ID: 16, Start '2023-03-22 14:08:22.949140' to '2023-03-22 14:10:39.593140'' successful.\n",
      "2025-08-26 15:33:55 [\u001B[92mINFO\u001B[0m] treeqinetic.classes.measurement.plot_multi_sensors: plot_multi_sensors for measurement: 'Measurement: 'PTQ_Meas_141006.txt', ID: 17, Start '2023-03-22 14:12:35.404214' to '2023-03-22 14:14:35.383214'' successful.\n",
      "2025-08-26 15:33:56 [\u001B[92mINFO\u001B[0m] treeqinetic.classes.measurement.plot_multi_sensors: plot_multi_sensors for measurement: 'Measurement: 'PTQ_Meas_141437.txt', ID: 18, Start '2023-03-22 14:15:47.525869999' to '2023-03-22 14:18:26.172870'' successful.\n",
      "2025-08-26 15:33:56 [\u001B[92mINFO\u001B[0m] treeqinetic.classes.measurement.plot_multi_sensors: plot_multi_sensors for measurement: 'Measurement: 'PTQ_Meas_141812.txt', ID: 19, Start '2023-03-22 14:20:37.937304' to '2023-03-22 14:22:53.243304'' successful.\n",
      "2025-08-26 15:33:56 [\u001B[92mINFO\u001B[0m] treeqinetic.classes.measurement.plot_multi_sensors: plot_multi_sensors for measurement: 'Measurement: 'PTQ_Meas_150444.txt', ID: 20, Start '2023-03-22 15:07:26.211509' to '2023-03-22 15:09:24.888509'' successful.\n",
      "2025-08-26 15:33:56 [\u001B[92mINFO\u001B[0m] treeqinetic.classes.measurement.plot_multi_sensors: plot_multi_sensors for measurement: 'Measurement: 'PTQ_Meas_151010.txt', ID: 21, Start '2023-03-22 15:11:29.776214' to '2023-03-22 15:14:08.830214'' successful.\n",
      "2025-08-26 15:33:56 [\u001B[92mINFO\u001B[0m] treeqinetic.classes.measurement.plot_multi_sensors: plot_multi_sensors for measurement: 'Measurement: 'PTQ_Meas_151557.txt', ID: 22, Start '2023-03-22 15:16:01.811379' to '2023-03-22 15:20:03.954379'' successful.\n",
      "2025-08-26 15:33:56 [\u001B[92mINFO\u001B[0m] treeqinetic.classes.measurement.plot_multi_sensors: plot_multi_sensors for measurement: 'Measurement: 'PTQ_Meas_153028.txt', ID: 23, Start '2023-03-22 15:30:29.626130' to '2023-03-22 15:32:42.861130'' successful.\n",
      "2025-08-26 15:33:57 [\u001B[92mINFO\u001B[0m] treeqinetic.classes.measurement.plot_multi_sensors: plot_multi_sensors for measurement: 'Measurement: 'PTQ_Meas_153334.txt', ID: 24, Start '2023-03-22 15:36:28.333785' to '2023-03-22 15:39:10.601785'' successful.\n",
      "2025-08-26 15:33:57 [\u001B[92mINFO\u001B[0m] treeqinetic.classes.measurement.plot_multi_sensors: plot_multi_sensors for measurement: 'Measurement: 'PTQ_Meas_153817.txt', ID: 25, Start '2023-03-22 15:39:36.853689' to '2023-03-22 15:45:22.562689'' successful.\n",
      "2025-08-26 15:33:58 [\u001B[92mINFO\u001B[0m] treeqinetic.classes.measurement.plot_multi_sensors: plot_multi_sensors for measurement: 'Measurement: 'PTQ_Meas_154457.txt', ID: 26, Start '2023-03-22 15:53:18.604797' to '2023-03-22 15:56:04.346797'' successful.\n",
      "2025-08-26 15:33:58 [\u001B[92mINFO\u001B[0m] treeqinetic.classes.measurement.plot_multi_sensors: plot_multi_sensors for measurement: 'Measurement: 'PTQ_Meas_155354.txt', ID: 27, Start '2023-03-22 15:53:59.248874' to '2023-03-22 15:57:16.416874'' successful.\n",
      "2025-08-26 15:33:58 [\u001B[92mINFO\u001B[0m] treeqinetic.classes.measurement.plot_multi_sensors: plot_multi_sensors for measurement: 'Measurement: 'PTQ_Meas_155805.txt', ID: 28, Start '2023-03-22 15:59:19.859928' to '2023-03-22 16:00:54.129927999'' successful.\n",
      "2025-08-26 15:33:58 [\u001B[92mINFO\u001B[0m] treeqinetic.classes.measurement.plot_multi_sensors: plot_multi_sensors for measurement: 'Measurement: 'PTQ_Meas_160907.txt', ID: 29, Start '2023-03-22 16:09:36.011613' to '2023-03-22 16:12:55.455613'' successful.\n"
     ]
    }
   ],
   "source": [
    "ptq_series.plot_measurement_sensors(sensor_names=elasto_names)"
   ],
   "metadata": {
    "collapsed": false,
    "ExecuteTime": {
     "end_time": "2025-08-26T13:33:58.884979600Z",
     "start_time": "2025-08-26T13:33:52.745509Z"
    }
   }
  },
  {
   "cell_type": "markdown",
   "metadata": {
    "collapsed": false
   },
   "source": [
    "## ANALYSE: Bestimmung von Schwingungsparametern\n",
    "\n",
    "### Selektieren der relevanten Bereiche\n",
    "\n",
    "Selektiere die Bereiche nach dem Release, bei dem es zu einer harmonisch gedämpften Schwingung kommt. Die Methode Series.get_oscillations sucht im Standardfall nach einem Bereich in den Messdaten mit einer Länge von 20 Sekunden. Der Anfangszeitpunkt wird durch einen plötzlichen Abfall der Dehnung auf unter Null bestimmt, bei dem die Steigung mindestens -25 beträgt. Die Suche nach dem Startzeitpunkt beginnt erst 60 Sekunden nach Messungsbeginn. Der entsprechende Code befindet sich im Paket classes/measurement.py und utils/select_oscillation.py. Die so isolierten Bereiche werden als Instanzen der Klasse Oscillation initialisiert. Weitere Parameter wie Amplitude, Frequenz und Dämpfung werden direkt berechnet.\n",
    "Parameter:\n",
    "- sensor_names: Eine Liste der Sensornamen, für die die Schwingungsdaten identifiziert werden sollen.\n",
    "- min_time_default: Die Mindestzeitspanne nach Beginn der Messung, nach der die Suche nach Schwingungen beginnt (Standard: 60 Sekunden).\n",
    "- min_value: Der minimale Wertschwellenwert, damit Sensordaten als gültig betrachtet werden.\n",
    "- threshold_slope: Der Steigungsschwellenwert, um den Beginn einer Schwingung zu bestimmen.\n",
    "- duration: Die Dauer, für die die Schwingungsdaten extrahiert werden sollen."
   ]
  },
  {
   "cell_type": "code",
   "execution_count": 14,
   "metadata": {
    "collapsed": false,
    "ExecuteTime": {
     "end_time": "2025-08-26T13:33:59.541915Z",
     "start_time": "2025-08-26T13:33:58.883936700Z"
    }
   },
   "outputs": [
    {
     "name": "stderr",
     "output_type": "stream",
     "text": [
      "2025-08-26 15:33:58 [\u001B[92mINFO\u001B[0m] treeqinetic.classes.series.get_oscillations: \n",
      " Select Oscillations for Measurement: 'PTQ_Meas_100346.txt', ID: 1, Start '2023-03-22 10:10:39.830198' to '2023-03-22 10:13:21.602198'\n",
      "2025-08-26 15:33:58 [\u001B[92mINFO\u001B[0m] treeqinetic.classes.series.get_oscillations: \n",
      " Select Oscillations for Measurement: 'PTQ_Meas_101814.txt', ID: 2, Start '2023-03-22 10:18:33.334820' to '2023-03-22 10:21:25.691820'\n",
      "2025-08-26 15:33:58 [\u001B[92mINFO\u001B[0m] treeqinetic.classes.series.get_oscillations: \n",
      " Select Oscillations for Measurement: 'PTQ_Meas_102314.txt', ID: 3, Start '2023-03-22 10:26:25.086505' to '2023-03-22 10:28:50.847505'\n",
      "2025-08-26 15:33:58 [\u001B[92mINFO\u001B[0m] treeqinetic.classes.series.get_oscillations: \n",
      " Select Oscillations for Measurement: 'PTQ_Meas_104400.txt', ID: 4, Start '2023-03-22 10:50:02.131987' to '2023-03-22 10:52:43.662987'\n",
      "2025-08-26 15:33:58 [\u001B[92mINFO\u001B[0m] treeqinetic.classes.series.get_oscillations: \n",
      " Select Oscillations for Measurement: 'PTQ_Meas_105549.txt', ID: 5, Start '2023-03-22 10:55:59.034260' to '2023-03-22 10:58:38.051260'\n",
      "2025-08-26 15:33:59 [\u001B[92mINFO\u001B[0m] treeqinetic.classes.series.get_oscillations: \n",
      " Select Oscillations for Measurement: 'PTQ_Meas_110107.txt', ID: 6, Start '2023-03-22 11:02:37.653620' to '2023-03-22 11:04:32.486620'\n",
      "2025-08-26 15:33:59 [\u001B[92mINFO\u001B[0m] treeqinetic.classes.series.get_oscillations: \n",
      " Select Oscillations for Measurement: 'PTQ_Meas_110558.txt', ID: 7, Start '2023-03-22 11:06:16.330019' to '2023-03-22 11:08:10.160019'\n",
      "2025-08-26 15:33:59 [\u001B[92mINFO\u001B[0m] treeqinetic.classes.series.get_oscillations: \n",
      " Select Oscillations for Measurement: 'PTQ_Meas_111019.txt', ID: 8, Start '2023-03-22 11:10:38.251994' to '2023-03-22 11:12:26.538994'\n",
      "2025-08-26 15:33:59 [\u001B[92mINFO\u001B[0m] treeqinetic.classes.series.get_oscillations: \n",
      " Select Oscillations for Measurement: 'PTQ_Meas_111713.txt', ID: 9, Start '2023-03-22 11:21:04.844142' to '2023-03-22 11:23:02.055142'\n",
      "2025-08-26 15:33:59 [\u001B[92mINFO\u001B[0m] treeqinetic.classes.series.get_oscillations: \n",
      " Select Oscillations for Measurement: 'PTQ_Meas_112120.txt', ID: 10, Start '2023-03-22 11:22:46.612488' to '2023-03-22 11:26:15.605488'\n",
      "2025-08-26 15:33:59 [\u001B[92mINFO\u001B[0m] treeqinetic.classes.series.get_oscillations: \n",
      " Select Oscillations for Measurement: 'PTQ_Meas_133316.txt', ID: 11, Start '2023-03-22 13:36:32.068787' to '2023-03-22 13:38:55.286787'\n",
      "2025-08-26 15:33:59 [\u001B[92mINFO\u001B[0m] treeqinetic.classes.series.get_oscillations: \n",
      " Select Oscillations for Measurement: 'PTQ_Meas_134053.txt', ID: 12, Start '2023-03-22 13:42:13.782157' to '2023-03-22 13:44:46.281157'\n",
      "2025-08-26 15:33:59 [\u001B[92mINFO\u001B[0m] treeqinetic.classes.series.get_oscillations: \n",
      " Select Oscillations for Measurement: 'PTQ_Meas_134807.txt', ID: 13, Start '2023-03-22 13:49:21.347406' to '2023-03-22 13:51:37.799406'\n",
      "2025-08-26 15:33:59 [\u001B[92mINFO\u001B[0m] treeqinetic.classes.series.get_oscillations: \n",
      " Select Oscillations for Measurement: 'PTQ_Meas_135705.txt', ID: 14, Start '2023-03-22 13:59:44.050912' to '2023-03-22 14:02:02.505912'\n",
      "2025-08-26 15:33:59 [\u001B[92mINFO\u001B[0m] treeqinetic.classes.series.get_oscillations: \n",
      " Select Oscillations for Measurement: 'PTQ_Meas_140149.txt', ID: 15, Start '2023-03-22 14:04:38.399621' to '2023-03-22 14:06:40.181621'\n",
      "2025-08-26 15:33:59 [\u001B[92mINFO\u001B[0m] treeqinetic.classes.series.get_oscillations: \n",
      " Select Oscillations for Measurement: 'PTQ_Meas_140551.txt', ID: 16, Start '2023-03-22 14:08:22.949140' to '2023-03-22 14:10:39.593140'\n",
      "2025-08-26 15:33:59 [\u001B[92mINFO\u001B[0m] treeqinetic.classes.series.get_oscillations: \n",
      " Select Oscillations for Measurement: 'PTQ_Meas_141006.txt', ID: 17, Start '2023-03-22 14:12:35.404214' to '2023-03-22 14:14:35.383214'\n",
      "2025-08-26 15:33:59 [\u001B[92mINFO\u001B[0m] treeqinetic.classes.series.get_oscillations: \n",
      " Select Oscillations for Measurement: 'PTQ_Meas_141437.txt', ID: 18, Start '2023-03-22 14:15:47.525869999' to '2023-03-22 14:18:26.172870'\n",
      "2025-08-26 15:33:59 [\u001B[92mINFO\u001B[0m] treeqinetic.classes.series.get_oscillations: \n",
      " Select Oscillations for Measurement: 'PTQ_Meas_141812.txt', ID: 19, Start '2023-03-22 14:20:37.937304' to '2023-03-22 14:22:53.243304'\n",
      "2025-08-26 15:33:59 [\u001B[92mINFO\u001B[0m] treeqinetic.classes.series.get_oscillations: \n",
      " Select Oscillations for Measurement: 'PTQ_Meas_150444.txt', ID: 20, Start '2023-03-22 15:07:26.211509' to '2023-03-22 15:09:24.888509'\n",
      "2025-08-26 15:33:59 [\u001B[92mINFO\u001B[0m] treeqinetic.classes.series.get_oscillations: \n",
      " Select Oscillations for Measurement: 'PTQ_Meas_151010.txt', ID: 21, Start '2023-03-22 15:11:29.776214' to '2023-03-22 15:14:08.830214'\n",
      "2025-08-26 15:33:59 [\u001B[92mINFO\u001B[0m] treeqinetic.classes.series.get_oscillations: \n",
      " Select Oscillations for Measurement: 'PTQ_Meas_151557.txt', ID: 22, Start '2023-03-22 15:16:01.811379' to '2023-03-22 15:20:03.954379'\n",
      "2025-08-26 15:33:59 [\u001B[92mINFO\u001B[0m] treeqinetic.classes.series.get_oscillations: \n",
      " Select Oscillations for Measurement: 'PTQ_Meas_153028.txt', ID: 23, Start '2023-03-22 15:30:29.626130' to '2023-03-22 15:32:42.861130'\n",
      "2025-08-26 15:33:59 [\u001B[92mINFO\u001B[0m] treeqinetic.classes.series.get_oscillations: \n",
      " Select Oscillations for Measurement: 'PTQ_Meas_153334.txt', ID: 24, Start '2023-03-22 15:36:28.333785' to '2023-03-22 15:39:10.601785'\n",
      "2025-08-26 15:33:59 [\u001B[92mINFO\u001B[0m] treeqinetic.classes.series.get_oscillations: \n",
      " Select Oscillations for Measurement: 'PTQ_Meas_153817.txt', ID: 25, Start '2023-03-22 15:39:36.853689' to '2023-03-22 15:45:22.562689'\n",
      "2025-08-26 15:33:59 [\u001B[92mINFO\u001B[0m] treeqinetic.classes.series.get_oscillations: \n",
      " Select Oscillations for Measurement: 'PTQ_Meas_154457.txt', ID: 26, Start '2023-03-22 15:53:18.604797' to '2023-03-22 15:56:04.346797'\n",
      "2025-08-26 15:33:59 [\u001B[92mINFO\u001B[0m] treeqinetic.classes.series.get_oscillations: \n",
      " Select Oscillations for Measurement: 'PTQ_Meas_155354.txt', ID: 27, Start '2023-03-22 15:53:59.248874' to '2023-03-22 15:57:16.416874'\n",
      "2025-08-26 15:33:59 [\u001B[92mINFO\u001B[0m] treeqinetic.classes.series.get_oscillations: \n",
      " Select Oscillations for Measurement: 'PTQ_Meas_155805.txt', ID: 28, Start '2023-03-22 15:59:19.859928' to '2023-03-22 16:00:54.129927999'\n",
      "2025-08-26 15:33:59 [\u001B[92mINFO\u001B[0m] treeqinetic.classes.series.get_oscillations: \n",
      " Select Oscillations for Measurement: 'PTQ_Meas_160907.txt', ID: 29, Start '2023-03-22 16:09:36.011613' to '2023-03-22 16:12:55.455613'\n"
     ]
    }
   ],
   "source": [
    "ptq_series.get_oscillations(\n",
    "    sensor_names=elasto_names,\n",
    "    min_time_default=60,\n",
    "    min_value=50,\n",
    "    threshold_slope=-50,\n",
    "    duration=17.5\n",
    ")"
   ]
  },
  {
   "cell_type": "markdown",
   "metadata": {
    "collapsed": false
   },
   "source": [
    "### Selektion optisch prüfen in Plots\n",
    "\n",
    "Plotten der relevanten Sensoren bzw. der selektierten Bereiche. Die Plots werden im Verzeichnis ptq/plots/select_oscillations_single/ bzw. ptq/plots/select_oscillations_combined/ gespeichert. In einem Combined-Plot werden alle 4 Elastometer einer Messung gemeinsam dargestellt. Hier wird manuell anhand der Plots geprüft, ob für alle Messungen und Sensoren der richtige Bereich ausgewählt wurde."
   ]
  },
  {
   "cell_type": "code",
   "execution_count": 15,
   "metadata": {
    "collapsed": false,
    "ExecuteTime": {
     "end_time": "2025-08-26T13:36:26.888778100Z",
     "start_time": "2025-08-26T13:33:59.541915Z"
    }
   },
   "outputs": [
    {
     "name": "stderr",
     "output_type": "stream",
     "text": [
      "2025-08-26 15:33:59 [\u001B[92mINFO\u001B[0m] treeqinetic.classes.series.plot_oscillations_for_measurements: Plot Oscillations for Measurement: 'PTQ_Meas_100346.txt', ID: 1, Start '2023-03-22 10:10:39.830198' to '2023-03-22 10:13:21.602198'\n",
      "2025-08-26 15:34:00 [\u001B[92mINFO\u001B[0m] treeqinetic.classes.measurement._plot_single_oscillations: plot_select_oscillation for measurement: 'Measurement: 'PTQ_Meas_100346.txt', ID: 1, Start '2023-03-22 10:10:39.830198' to '2023-03-22 10:13:21.602198'' for Elasto(90) successful.\n",
      "2025-08-26 15:34:00 [\u001B[92mINFO\u001B[0m] treeqinetic.classes.measurement._plot_single_oscillations: plot_select_oscillation for measurement: 'Measurement: 'PTQ_Meas_100346.txt', ID: 1, Start '2023-03-22 10:10:39.830198' to '2023-03-22 10:13:21.602198'' for Elasto(92) successful.\n",
      "2025-08-26 15:34:01 [\u001B[92mINFO\u001B[0m] treeqinetic.classes.measurement._plot_single_oscillations: plot_select_oscillation for measurement: 'Measurement: 'PTQ_Meas_100346.txt', ID: 1, Start '2023-03-22 10:10:39.830198' to '2023-03-22 10:13:21.602198'' for Elasto(95) successful.\n",
      "2025-08-26 15:34:02 [\u001B[92mINFO\u001B[0m] treeqinetic.classes.measurement._plot_single_oscillations: plot_select_oscillation for measurement: 'Measurement: 'PTQ_Meas_100346.txt', ID: 1, Start '2023-03-22 10:10:39.830198' to '2023-03-22 10:13:21.602198'' for Elasto(98) successful.\n",
      "2025-08-26 15:34:02 [\u001B[92mINFO\u001B[0m] treeqinetic.classes.series.plot_oscillations_for_measurements: Plot Oscillations for Measurement: 'PTQ_Meas_101814.txt', ID: 2, Start '2023-03-22 10:18:33.334820' to '2023-03-22 10:21:25.691820'\n",
      "2025-08-26 15:34:03 [\u001B[92mINFO\u001B[0m] treeqinetic.classes.measurement._plot_single_oscillations: plot_select_oscillation for measurement: 'Measurement: 'PTQ_Meas_101814.txt', ID: 2, Start '2023-03-22 10:18:33.334820' to '2023-03-22 10:21:25.691820'' for Elasto(90) successful.\n",
      "2025-08-26 15:34:04 [\u001B[92mINFO\u001B[0m] treeqinetic.classes.measurement._plot_single_oscillations: plot_select_oscillation for measurement: 'Measurement: 'PTQ_Meas_101814.txt', ID: 2, Start '2023-03-22 10:18:33.334820' to '2023-03-22 10:21:25.691820'' for Elasto(92) successful.\n",
      "2025-08-26 15:34:04 [\u001B[92mINFO\u001B[0m] treeqinetic.classes.measurement._plot_single_oscillations: plot_select_oscillation for measurement: 'Measurement: 'PTQ_Meas_101814.txt', ID: 2, Start '2023-03-22 10:18:33.334820' to '2023-03-22 10:21:25.691820'' for Elasto(95) successful.\n",
      "2025-08-26 15:34:05 [\u001B[92mINFO\u001B[0m] treeqinetic.classes.measurement._plot_single_oscillations: plot_select_oscillation for measurement: 'Measurement: 'PTQ_Meas_101814.txt', ID: 2, Start '2023-03-22 10:18:33.334820' to '2023-03-22 10:21:25.691820'' for Elasto(98) successful.\n",
      "2025-08-26 15:34:05 [\u001B[92mINFO\u001B[0m] treeqinetic.classes.series.plot_oscillations_for_measurements: Plot Oscillations for Measurement: 'PTQ_Meas_102314.txt', ID: 3, Start '2023-03-22 10:26:25.086505' to '2023-03-22 10:28:50.847505'\n",
      "2025-08-26 15:34:06 [\u001B[92mINFO\u001B[0m] treeqinetic.classes.measurement._plot_single_oscillations: plot_select_oscillation for measurement: 'Measurement: 'PTQ_Meas_102314.txt', ID: 3, Start '2023-03-22 10:26:25.086505' to '2023-03-22 10:28:50.847505'' for Elasto(90) successful.\n",
      "2025-08-26 15:34:06 [\u001B[92mINFO\u001B[0m] treeqinetic.classes.measurement._plot_single_oscillations: plot_select_oscillation for measurement: 'Measurement: 'PTQ_Meas_102314.txt', ID: 3, Start '2023-03-22 10:26:25.086505' to '2023-03-22 10:28:50.847505'' for Elasto(92) successful.\n",
      "2025-08-26 15:34:07 [\u001B[92mINFO\u001B[0m] treeqinetic.classes.measurement._plot_single_oscillations: plot_select_oscillation for measurement: 'Measurement: 'PTQ_Meas_102314.txt', ID: 3, Start '2023-03-22 10:26:25.086505' to '2023-03-22 10:28:50.847505'' for Elasto(95) successful.\n",
      "2025-08-26 15:34:08 [\u001B[92mINFO\u001B[0m] treeqinetic.classes.measurement._plot_single_oscillations: plot_select_oscillation for measurement: 'Measurement: 'PTQ_Meas_102314.txt', ID: 3, Start '2023-03-22 10:26:25.086505' to '2023-03-22 10:28:50.847505'' for Elasto(98) successful.\n",
      "2025-08-26 15:34:08 [\u001B[92mINFO\u001B[0m] treeqinetic.classes.series.plot_oscillations_for_measurements: Plot Oscillations for Measurement: 'PTQ_Meas_104400.txt', ID: 4, Start '2023-03-22 10:50:02.131987' to '2023-03-22 10:52:43.662987'\n",
      "2025-08-26 15:34:09 [\u001B[92mINFO\u001B[0m] treeqinetic.classes.measurement._plot_single_oscillations: plot_select_oscillation for measurement: 'Measurement: 'PTQ_Meas_104400.txt', ID: 4, Start '2023-03-22 10:50:02.131987' to '2023-03-22 10:52:43.662987'' for Elasto(90) successful.\n",
      "2025-08-26 15:34:09 [\u001B[92mINFO\u001B[0m] treeqinetic.classes.measurement._plot_single_oscillations: plot_select_oscillation for measurement: 'Measurement: 'PTQ_Meas_104400.txt', ID: 4, Start '2023-03-22 10:50:02.131987' to '2023-03-22 10:52:43.662987'' for Elasto(92) successful.\n",
      "2025-08-26 15:34:10 [\u001B[92mINFO\u001B[0m] treeqinetic.classes.measurement._plot_single_oscillations: plot_select_oscillation for measurement: 'Measurement: 'PTQ_Meas_104400.txt', ID: 4, Start '2023-03-22 10:50:02.131987' to '2023-03-22 10:52:43.662987'' for Elasto(95) successful.\n",
      "2025-08-26 15:34:11 [\u001B[92mINFO\u001B[0m] treeqinetic.classes.measurement._plot_single_oscillations: plot_select_oscillation for measurement: 'Measurement: 'PTQ_Meas_104400.txt', ID: 4, Start '2023-03-22 10:50:02.131987' to '2023-03-22 10:52:43.662987'' for Elasto(98) successful.\n",
      "2025-08-26 15:34:11 [\u001B[92mINFO\u001B[0m] treeqinetic.classes.series.plot_oscillations_for_measurements: Plot Oscillations for Measurement: 'PTQ_Meas_105549.txt', ID: 5, Start '2023-03-22 10:55:59.034260' to '2023-03-22 10:58:38.051260'\n",
      "2025-08-26 15:34:11 [\u001B[92mINFO\u001B[0m] treeqinetic.classes.measurement._plot_single_oscillations: plot_select_oscillation for measurement: 'Measurement: 'PTQ_Meas_105549.txt', ID: 5, Start '2023-03-22 10:55:59.034260' to '2023-03-22 10:58:38.051260'' for Elasto(90) successful.\n",
      "2025-08-26 15:34:12 [\u001B[92mINFO\u001B[0m] treeqinetic.classes.measurement._plot_single_oscillations: plot_select_oscillation for measurement: 'Measurement: 'PTQ_Meas_105549.txt', ID: 5, Start '2023-03-22 10:55:59.034260' to '2023-03-22 10:58:38.051260'' for Elasto(92) successful.\n",
      "2025-08-26 15:34:13 [\u001B[92mINFO\u001B[0m] treeqinetic.classes.measurement._plot_single_oscillations: plot_select_oscillation for measurement: 'Measurement: 'PTQ_Meas_105549.txt', ID: 5, Start '2023-03-22 10:55:59.034260' to '2023-03-22 10:58:38.051260'' for Elasto(95) successful.\n",
      "2025-08-26 15:34:13 [\u001B[92mINFO\u001B[0m] treeqinetic.classes.measurement._plot_single_oscillations: plot_select_oscillation for measurement: 'Measurement: 'PTQ_Meas_105549.txt', ID: 5, Start '2023-03-22 10:55:59.034260' to '2023-03-22 10:58:38.051260'' for Elasto(98) successful.\n",
      "2025-08-26 15:34:13 [\u001B[92mINFO\u001B[0m] treeqinetic.classes.series.plot_oscillations_for_measurements: Plot Oscillations for Measurement: 'PTQ_Meas_110107.txt', ID: 6, Start '2023-03-22 11:02:37.653620' to '2023-03-22 11:04:32.486620'\n",
      "2025-08-26 15:34:14 [\u001B[92mINFO\u001B[0m] treeqinetic.classes.measurement._plot_single_oscillations: plot_select_oscillation for measurement: 'Measurement: 'PTQ_Meas_110107.txt', ID: 6, Start '2023-03-22 11:02:37.653620' to '2023-03-22 11:04:32.486620'' for Elasto(90) successful.\n",
      "2025-08-26 15:34:15 [\u001B[92mINFO\u001B[0m] treeqinetic.classes.measurement._plot_single_oscillations: plot_select_oscillation for measurement: 'Measurement: 'PTQ_Meas_110107.txt', ID: 6, Start '2023-03-22 11:02:37.653620' to '2023-03-22 11:04:32.486620'' for Elasto(92) successful.\n",
      "2025-08-26 15:34:16 [\u001B[92mINFO\u001B[0m] treeqinetic.classes.measurement._plot_single_oscillations: plot_select_oscillation for measurement: 'Measurement: 'PTQ_Meas_110107.txt', ID: 6, Start '2023-03-22 11:02:37.653620' to '2023-03-22 11:04:32.486620'' for Elasto(95) successful.\n",
      "2025-08-26 15:34:16 [\u001B[92mINFO\u001B[0m] treeqinetic.classes.measurement._plot_single_oscillations: plot_select_oscillation for measurement: 'Measurement: 'PTQ_Meas_110107.txt', ID: 6, Start '2023-03-22 11:02:37.653620' to '2023-03-22 11:04:32.486620'' for Elasto(98) successful.\n",
      "2025-08-26 15:34:16 [\u001B[92mINFO\u001B[0m] treeqinetic.classes.series.plot_oscillations_for_measurements: Plot Oscillations for Measurement: 'PTQ_Meas_110558.txt', ID: 7, Start '2023-03-22 11:06:16.330019' to '2023-03-22 11:08:10.160019'\n",
      "2025-08-26 15:34:17 [\u001B[92mINFO\u001B[0m] treeqinetic.classes.measurement._plot_single_oscillations: plot_select_oscillation for measurement: 'Measurement: 'PTQ_Meas_110558.txt', ID: 7, Start '2023-03-22 11:06:16.330019' to '2023-03-22 11:08:10.160019'' for Elasto(90) successful.\n",
      "2025-08-26 15:34:17 [\u001B[92mINFO\u001B[0m] treeqinetic.classes.measurement._plot_single_oscillations: plot_select_oscillation for measurement: 'Measurement: 'PTQ_Meas_110558.txt', ID: 7, Start '2023-03-22 11:06:16.330019' to '2023-03-22 11:08:10.160019'' for Elasto(92) successful.\n",
      "2025-08-26 15:34:18 [\u001B[92mINFO\u001B[0m] treeqinetic.classes.measurement._plot_single_oscillations: plot_select_oscillation for measurement: 'Measurement: 'PTQ_Meas_110558.txt', ID: 7, Start '2023-03-22 11:06:16.330019' to '2023-03-22 11:08:10.160019'' for Elasto(95) successful.\n",
      "2025-08-26 15:34:19 [\u001B[92mINFO\u001B[0m] treeqinetic.classes.measurement._plot_single_oscillations: plot_select_oscillation for measurement: 'Measurement: 'PTQ_Meas_110558.txt', ID: 7, Start '2023-03-22 11:06:16.330019' to '2023-03-22 11:08:10.160019'' for Elasto(98) successful.\n",
      "2025-08-26 15:34:19 [\u001B[92mINFO\u001B[0m] treeqinetic.classes.series.plot_oscillations_for_measurements: Plot Oscillations for Measurement: 'PTQ_Meas_111019.txt', ID: 8, Start '2023-03-22 11:10:38.251994' to '2023-03-22 11:12:26.538994'\n",
      "2025-08-26 15:34:20 [\u001B[92mINFO\u001B[0m] treeqinetic.classes.measurement._plot_single_oscillations: plot_select_oscillation for measurement: 'Measurement: 'PTQ_Meas_111019.txt', ID: 8, Start '2023-03-22 11:10:38.251994' to '2023-03-22 11:12:26.538994'' for Elasto(90) successful.\n",
      "2025-08-26 15:34:20 [\u001B[92mINFO\u001B[0m] treeqinetic.classes.measurement._plot_single_oscillations: plot_select_oscillation for measurement: 'Measurement: 'PTQ_Meas_111019.txt', ID: 8, Start '2023-03-22 11:10:38.251994' to '2023-03-22 11:12:26.538994'' for Elasto(92) successful.\n",
      "2025-08-26 15:34:21 [\u001B[92mINFO\u001B[0m] treeqinetic.classes.measurement._plot_single_oscillations: plot_select_oscillation for measurement: 'Measurement: 'PTQ_Meas_111019.txt', ID: 8, Start '2023-03-22 11:10:38.251994' to '2023-03-22 11:12:26.538994'' for Elasto(95) successful.\n",
      "2025-08-26 15:34:21 [\u001B[92mINFO\u001B[0m] treeqinetic.classes.measurement._plot_single_oscillations: plot_select_oscillation for measurement: 'Measurement: 'PTQ_Meas_111019.txt', ID: 8, Start '2023-03-22 11:10:38.251994' to '2023-03-22 11:12:26.538994'' for Elasto(98) successful.\n",
      "2025-08-26 15:34:21 [\u001B[92mINFO\u001B[0m] treeqinetic.classes.series.plot_oscillations_for_measurements: Plot Oscillations for Measurement: 'PTQ_Meas_111713.txt', ID: 9, Start '2023-03-22 11:21:04.844142' to '2023-03-22 11:23:02.055142'\n",
      "2025-08-26 15:34:22 [\u001B[92mINFO\u001B[0m] treeqinetic.classes.measurement._plot_single_oscillations: plot_select_oscillation for measurement: 'Measurement: 'PTQ_Meas_111713.txt', ID: 9, Start '2023-03-22 11:21:04.844142' to '2023-03-22 11:23:02.055142'' for Elasto(90) successful.\n",
      "2025-08-26 15:34:23 [\u001B[92mINFO\u001B[0m] treeqinetic.classes.measurement._plot_single_oscillations: plot_select_oscillation for measurement: 'Measurement: 'PTQ_Meas_111713.txt', ID: 9, Start '2023-03-22 11:21:04.844142' to '2023-03-22 11:23:02.055142'' for Elasto(92) successful.\n",
      "2025-08-26 15:34:24 [\u001B[92mINFO\u001B[0m] treeqinetic.classes.measurement._plot_single_oscillations: plot_select_oscillation for measurement: 'Measurement: 'PTQ_Meas_111713.txt', ID: 9, Start '2023-03-22 11:21:04.844142' to '2023-03-22 11:23:02.055142'' for Elasto(95) successful.\n",
      "2025-08-26 15:34:24 [\u001B[92mINFO\u001B[0m] treeqinetic.classes.measurement._plot_single_oscillations: plot_select_oscillation for measurement: 'Measurement: 'PTQ_Meas_111713.txt', ID: 9, Start '2023-03-22 11:21:04.844142' to '2023-03-22 11:23:02.055142'' for Elasto(98) successful.\n",
      "2025-08-26 15:34:24 [\u001B[92mINFO\u001B[0m] treeqinetic.classes.series.plot_oscillations_for_measurements: Plot Oscillations for Measurement: 'PTQ_Meas_112120.txt', ID: 10, Start '2023-03-22 11:22:46.612488' to '2023-03-22 11:26:15.605488'\n",
      "2025-08-26 15:34:25 [\u001B[92mINFO\u001B[0m] treeqinetic.classes.measurement._plot_single_oscillations: plot_select_oscillation for measurement: 'Measurement: 'PTQ_Meas_112120.txt', ID: 10, Start '2023-03-22 11:22:46.612488' to '2023-03-22 11:26:15.605488'' for Elasto(90) successful.\n",
      "2025-08-26 15:34:25 [\u001B[92mINFO\u001B[0m] treeqinetic.classes.measurement._plot_single_oscillations: plot_select_oscillation for measurement: 'Measurement: 'PTQ_Meas_112120.txt', ID: 10, Start '2023-03-22 11:22:46.612488' to '2023-03-22 11:26:15.605488'' for Elasto(92) successful.\n",
      "2025-08-26 15:34:26 [\u001B[92mINFO\u001B[0m] treeqinetic.classes.measurement._plot_single_oscillations: plot_select_oscillation for measurement: 'Measurement: 'PTQ_Meas_112120.txt', ID: 10, Start '2023-03-22 11:22:46.612488' to '2023-03-22 11:26:15.605488'' for Elasto(95) successful.\n",
      "2025-08-26 15:34:27 [\u001B[92mINFO\u001B[0m] treeqinetic.classes.measurement._plot_single_oscillations: plot_select_oscillation for measurement: 'Measurement: 'PTQ_Meas_112120.txt', ID: 10, Start '2023-03-22 11:22:46.612488' to '2023-03-22 11:26:15.605488'' for Elasto(98) successful.\n",
      "2025-08-26 15:34:27 [\u001B[92mINFO\u001B[0m] treeqinetic.classes.series.plot_oscillations_for_measurements: Plot Oscillations for Measurement: 'PTQ_Meas_133316.txt', ID: 11, Start '2023-03-22 13:36:32.068787' to '2023-03-22 13:38:55.286787'\n",
      "2025-08-26 15:34:27 [\u001B[92mINFO\u001B[0m] treeqinetic.classes.measurement._plot_single_oscillations: plot_select_oscillation for measurement: 'Measurement: 'PTQ_Meas_133316.txt', ID: 11, Start '2023-03-22 13:36:32.068787' to '2023-03-22 13:38:55.286787'' for Elasto(90) successful.\n",
      "2025-08-26 15:34:28 [\u001B[92mINFO\u001B[0m] treeqinetic.classes.measurement._plot_single_oscillations: plot_select_oscillation for measurement: 'Measurement: 'PTQ_Meas_133316.txt', ID: 11, Start '2023-03-22 13:36:32.068787' to '2023-03-22 13:38:55.286787'' for Elasto(92) successful.\n",
      "2025-08-26 15:34:29 [\u001B[92mINFO\u001B[0m] treeqinetic.classes.measurement._plot_single_oscillations: plot_select_oscillation for measurement: 'Measurement: 'PTQ_Meas_133316.txt', ID: 11, Start '2023-03-22 13:36:32.068787' to '2023-03-22 13:38:55.286787'' for Elasto(95) successful.\n",
      "2025-08-26 15:34:30 [\u001B[92mINFO\u001B[0m] treeqinetic.classes.measurement._plot_single_oscillations: plot_select_oscillation for measurement: 'Measurement: 'PTQ_Meas_133316.txt', ID: 11, Start '2023-03-22 13:36:32.068787' to '2023-03-22 13:38:55.286787'' for Elasto(98) successful.\n",
      "2025-08-26 15:34:30 [\u001B[92mINFO\u001B[0m] treeqinetic.classes.series.plot_oscillations_for_measurements: Plot Oscillations for Measurement: 'PTQ_Meas_134053.txt', ID: 12, Start '2023-03-22 13:42:13.782157' to '2023-03-22 13:44:46.281157'\n",
      "2025-08-26 15:34:30 [\u001B[92mINFO\u001B[0m] treeqinetic.classes.measurement._plot_single_oscillations: plot_select_oscillation for measurement: 'Measurement: 'PTQ_Meas_134053.txt', ID: 12, Start '2023-03-22 13:42:13.782157' to '2023-03-22 13:44:46.281157'' for Elasto(90) successful.\n",
      "2025-08-26 15:34:31 [\u001B[92mINFO\u001B[0m] treeqinetic.classes.measurement._plot_single_oscillations: plot_select_oscillation for measurement: 'Measurement: 'PTQ_Meas_134053.txt', ID: 12, Start '2023-03-22 13:42:13.782157' to '2023-03-22 13:44:46.281157'' for Elasto(92) successful.\n",
      "2025-08-26 15:34:31 [\u001B[92mINFO\u001B[0m] treeqinetic.classes.measurement._plot_single_oscillations: plot_select_oscillation for measurement: 'Measurement: 'PTQ_Meas_134053.txt', ID: 12, Start '2023-03-22 13:42:13.782157' to '2023-03-22 13:44:46.281157'' for Elasto(95) successful.\n",
      "2025-08-26 15:34:32 [\u001B[92mINFO\u001B[0m] treeqinetic.classes.measurement._plot_single_oscillations: plot_select_oscillation for measurement: 'Measurement: 'PTQ_Meas_134053.txt', ID: 12, Start '2023-03-22 13:42:13.782157' to '2023-03-22 13:44:46.281157'' for Elasto(98) successful.\n",
      "2025-08-26 15:34:32 [\u001B[92mINFO\u001B[0m] treeqinetic.classes.series.plot_oscillations_for_measurements: Plot Oscillations for Measurement: 'PTQ_Meas_134807.txt', ID: 13, Start '2023-03-22 13:49:21.347406' to '2023-03-22 13:51:37.799406'\n",
      "2025-08-26 15:34:33 [\u001B[92mINFO\u001B[0m] treeqinetic.classes.measurement._plot_single_oscillations: plot_select_oscillation for measurement: 'Measurement: 'PTQ_Meas_134807.txt', ID: 13, Start '2023-03-22 13:49:21.347406' to '2023-03-22 13:51:37.799406'' for Elasto(90) successful.\n",
      "2025-08-26 15:34:34 [\u001B[92mINFO\u001B[0m] treeqinetic.classes.measurement._plot_single_oscillations: plot_select_oscillation for measurement: 'Measurement: 'PTQ_Meas_134807.txt', ID: 13, Start '2023-03-22 13:49:21.347406' to '2023-03-22 13:51:37.799406'' for Elasto(92) successful.\n",
      "2025-08-26 15:34:35 [\u001B[92mINFO\u001B[0m] treeqinetic.classes.measurement._plot_single_oscillations: plot_select_oscillation for measurement: 'Measurement: 'PTQ_Meas_134807.txt', ID: 13, Start '2023-03-22 13:49:21.347406' to '2023-03-22 13:51:37.799406'' for Elasto(95) successful.\n",
      "2025-08-26 15:34:35 [\u001B[92mINFO\u001B[0m] treeqinetic.classes.measurement._plot_single_oscillations: plot_select_oscillation for measurement: 'Measurement: 'PTQ_Meas_134807.txt', ID: 13, Start '2023-03-22 13:49:21.347406' to '2023-03-22 13:51:37.799406'' for Elasto(98) successful.\n",
      "2025-08-26 15:34:35 [\u001B[92mINFO\u001B[0m] treeqinetic.classes.series.plot_oscillations_for_measurements: Plot Oscillations for Measurement: 'PTQ_Meas_135705.txt', ID: 14, Start '2023-03-22 13:59:44.050912' to '2023-03-22 14:02:02.505912'\n",
      "2025-08-26 15:34:36 [\u001B[92mINFO\u001B[0m] treeqinetic.classes.measurement._plot_single_oscillations: plot_select_oscillation for measurement: 'Measurement: 'PTQ_Meas_135705.txt', ID: 14, Start '2023-03-22 13:59:44.050912' to '2023-03-22 14:02:02.505912'' for Elasto(90) successful.\n",
      "2025-08-26 15:34:37 [\u001B[92mINFO\u001B[0m] treeqinetic.classes.measurement._plot_single_oscillations: plot_select_oscillation for measurement: 'Measurement: 'PTQ_Meas_135705.txt', ID: 14, Start '2023-03-22 13:59:44.050912' to '2023-03-22 14:02:02.505912'' for Elasto(92) successful.\n",
      "2025-08-26 15:34:37 [\u001B[92mINFO\u001B[0m] treeqinetic.classes.measurement._plot_single_oscillations: plot_select_oscillation for measurement: 'Measurement: 'PTQ_Meas_135705.txt', ID: 14, Start '2023-03-22 13:59:44.050912' to '2023-03-22 14:02:02.505912'' for Elasto(95) successful.\n",
      "2025-08-26 15:34:38 [\u001B[92mINFO\u001B[0m] treeqinetic.classes.measurement._plot_single_oscillations: plot_select_oscillation for measurement: 'Measurement: 'PTQ_Meas_135705.txt', ID: 14, Start '2023-03-22 13:59:44.050912' to '2023-03-22 14:02:02.505912'' for Elasto(98) successful.\n",
      "2025-08-26 15:34:38 [\u001B[92mINFO\u001B[0m] treeqinetic.classes.series.plot_oscillations_for_measurements: Plot Oscillations for Measurement: 'PTQ_Meas_140149.txt', ID: 15, Start '2023-03-22 14:04:38.399621' to '2023-03-22 14:06:40.181621'\n",
      "2025-08-26 15:34:39 [\u001B[92mINFO\u001B[0m] treeqinetic.classes.measurement._plot_single_oscillations: plot_select_oscillation for measurement: 'Measurement: 'PTQ_Meas_140149.txt', ID: 15, Start '2023-03-22 14:04:38.399621' to '2023-03-22 14:06:40.181621'' for Elasto(90) successful.\n",
      "2025-08-26 15:34:40 [\u001B[92mINFO\u001B[0m] treeqinetic.classes.measurement._plot_single_oscillations: plot_select_oscillation for measurement: 'Measurement: 'PTQ_Meas_140149.txt', ID: 15, Start '2023-03-22 14:04:38.399621' to '2023-03-22 14:06:40.181621'' for Elasto(92) successful.\n",
      "2025-08-26 15:34:40 [\u001B[92mINFO\u001B[0m] treeqinetic.classes.measurement._plot_single_oscillations: plot_select_oscillation for measurement: 'Measurement: 'PTQ_Meas_140149.txt', ID: 15, Start '2023-03-22 14:04:38.399621' to '2023-03-22 14:06:40.181621'' for Elasto(95) successful.\n",
      "2025-08-26 15:34:41 [\u001B[92mINFO\u001B[0m] treeqinetic.classes.measurement._plot_single_oscillations: plot_select_oscillation for measurement: 'Measurement: 'PTQ_Meas_140149.txt', ID: 15, Start '2023-03-22 14:04:38.399621' to '2023-03-22 14:06:40.181621'' for Elasto(98) successful.\n",
      "2025-08-26 15:34:41 [\u001B[92mINFO\u001B[0m] treeqinetic.classes.series.plot_oscillations_for_measurements: Plot Oscillations for Measurement: 'PTQ_Meas_140551.txt', ID: 16, Start '2023-03-22 14:08:22.949140' to '2023-03-22 14:10:39.593140'\n",
      "2025-08-26 15:34:42 [\u001B[92mINFO\u001B[0m] treeqinetic.classes.measurement._plot_single_oscillations: plot_select_oscillation for measurement: 'Measurement: 'PTQ_Meas_140551.txt', ID: 16, Start '2023-03-22 14:08:22.949140' to '2023-03-22 14:10:39.593140'' for Elasto(90) successful.\n",
      "2025-08-26 15:34:42 [\u001B[92mINFO\u001B[0m] treeqinetic.classes.measurement._plot_single_oscillations: plot_select_oscillation for measurement: 'Measurement: 'PTQ_Meas_140551.txt', ID: 16, Start '2023-03-22 14:08:22.949140' to '2023-03-22 14:10:39.593140'' for Elasto(92) successful.\n",
      "2025-08-26 15:34:43 [\u001B[92mINFO\u001B[0m] treeqinetic.classes.measurement._plot_single_oscillations: plot_select_oscillation for measurement: 'Measurement: 'PTQ_Meas_140551.txt', ID: 16, Start '2023-03-22 14:08:22.949140' to '2023-03-22 14:10:39.593140'' for Elasto(95) successful.\n",
      "2025-08-26 15:34:44 [\u001B[92mINFO\u001B[0m] treeqinetic.classes.measurement._plot_single_oscillations: plot_select_oscillation for measurement: 'Measurement: 'PTQ_Meas_140551.txt', ID: 16, Start '2023-03-22 14:08:22.949140' to '2023-03-22 14:10:39.593140'' for Elasto(98) successful.\n",
      "2025-08-26 15:34:44 [\u001B[92mINFO\u001B[0m] treeqinetic.classes.series.plot_oscillations_for_measurements: Plot Oscillations for Measurement: 'PTQ_Meas_141006.txt', ID: 17, Start '2023-03-22 14:12:35.404214' to '2023-03-22 14:14:35.383214'\n",
      "2025-08-26 15:34:45 [\u001B[92mINFO\u001B[0m] treeqinetic.classes.measurement._plot_single_oscillations: plot_select_oscillation for measurement: 'Measurement: 'PTQ_Meas_141006.txt', ID: 17, Start '2023-03-22 14:12:35.404214' to '2023-03-22 14:14:35.383214'' for Elasto(90) successful.\n",
      "2025-08-26 15:34:45 [\u001B[92mINFO\u001B[0m] treeqinetic.classes.measurement._plot_single_oscillations: plot_select_oscillation for measurement: 'Measurement: 'PTQ_Meas_141006.txt', ID: 17, Start '2023-03-22 14:12:35.404214' to '2023-03-22 14:14:35.383214'' for Elasto(92) successful.\n",
      "2025-08-26 15:34:46 [\u001B[92mINFO\u001B[0m] treeqinetic.classes.measurement._plot_single_oscillations: plot_select_oscillation for measurement: 'Measurement: 'PTQ_Meas_141006.txt', ID: 17, Start '2023-03-22 14:12:35.404214' to '2023-03-22 14:14:35.383214'' for Elasto(95) successful.\n",
      "2025-08-26 15:34:47 [\u001B[92mINFO\u001B[0m] treeqinetic.classes.measurement._plot_single_oscillations: plot_select_oscillation for measurement: 'Measurement: 'PTQ_Meas_141006.txt', ID: 17, Start '2023-03-22 14:12:35.404214' to '2023-03-22 14:14:35.383214'' for Elasto(98) successful.\n",
      "2025-08-26 15:34:47 [\u001B[92mINFO\u001B[0m] treeqinetic.classes.series.plot_oscillations_for_measurements: Plot Oscillations for Measurement: 'PTQ_Meas_141437.txt', ID: 18, Start '2023-03-22 14:15:47.525869999' to '2023-03-22 14:18:26.172870'\n",
      "2025-08-26 15:34:48 [\u001B[92mINFO\u001B[0m] treeqinetic.classes.measurement._plot_single_oscillations: plot_select_oscillation for measurement: 'Measurement: 'PTQ_Meas_141437.txt', ID: 18, Start '2023-03-22 14:15:47.525869999' to '2023-03-22 14:18:26.172870'' for Elasto(90) successful.\n",
      "2025-08-26 15:34:48 [\u001B[92mINFO\u001B[0m] treeqinetic.classes.measurement._plot_single_oscillations: plot_select_oscillation for measurement: 'Measurement: 'PTQ_Meas_141437.txt', ID: 18, Start '2023-03-22 14:15:47.525869999' to '2023-03-22 14:18:26.172870'' for Elasto(92) successful.\n",
      "2025-08-26 15:34:49 [\u001B[92mINFO\u001B[0m] treeqinetic.classes.measurement._plot_single_oscillations: plot_select_oscillation for measurement: 'Measurement: 'PTQ_Meas_141437.txt', ID: 18, Start '2023-03-22 14:15:47.525869999' to '2023-03-22 14:18:26.172870'' for Elasto(95) successful.\n",
      "2025-08-26 15:34:50 [\u001B[92mINFO\u001B[0m] treeqinetic.classes.measurement._plot_single_oscillations: plot_select_oscillation for measurement: 'Measurement: 'PTQ_Meas_141437.txt', ID: 18, Start '2023-03-22 14:15:47.525869999' to '2023-03-22 14:18:26.172870'' for Elasto(98) successful.\n",
      "2025-08-26 15:34:50 [\u001B[92mINFO\u001B[0m] treeqinetic.classes.series.plot_oscillations_for_measurements: Plot Oscillations for Measurement: 'PTQ_Meas_141812.txt', ID: 19, Start '2023-03-22 14:20:37.937304' to '2023-03-22 14:22:53.243304'\n",
      "2025-08-26 15:34:51 [\u001B[92mINFO\u001B[0m] treeqinetic.classes.measurement._plot_single_oscillations: plot_select_oscillation for measurement: 'Measurement: 'PTQ_Meas_141812.txt', ID: 19, Start '2023-03-22 14:20:37.937304' to '2023-03-22 14:22:53.243304'' for Elasto(90) successful.\n",
      "2025-08-26 15:34:51 [\u001B[92mINFO\u001B[0m] treeqinetic.classes.measurement._plot_single_oscillations: plot_select_oscillation for measurement: 'Measurement: 'PTQ_Meas_141812.txt', ID: 19, Start '2023-03-22 14:20:37.937304' to '2023-03-22 14:22:53.243304'' for Elasto(92) successful.\n",
      "2025-08-26 15:34:52 [\u001B[92mINFO\u001B[0m] treeqinetic.classes.measurement._plot_single_oscillations: plot_select_oscillation for measurement: 'Measurement: 'PTQ_Meas_141812.txt', ID: 19, Start '2023-03-22 14:20:37.937304' to '2023-03-22 14:22:53.243304'' for Elasto(95) successful.\n",
      "2025-08-26 15:34:53 [\u001B[92mINFO\u001B[0m] treeqinetic.classes.measurement._plot_single_oscillations: plot_select_oscillation for measurement: 'Measurement: 'PTQ_Meas_141812.txt', ID: 19, Start '2023-03-22 14:20:37.937304' to '2023-03-22 14:22:53.243304'' for Elasto(98) successful.\n",
      "2025-08-26 15:34:53 [\u001B[92mINFO\u001B[0m] treeqinetic.classes.series.plot_oscillations_for_measurements: Plot Oscillations for Measurement: 'PTQ_Meas_150444.txt', ID: 20, Start '2023-03-22 15:07:26.211509' to '2023-03-22 15:09:24.888509'\n",
      "2025-08-26 15:34:54 [\u001B[92mINFO\u001B[0m] treeqinetic.classes.measurement._plot_single_oscillations: plot_select_oscillation for measurement: 'Measurement: 'PTQ_Meas_150444.txt', ID: 20, Start '2023-03-22 15:07:26.211509' to '2023-03-22 15:09:24.888509'' for Elasto(90) successful.\n",
      "2025-08-26 15:34:54 [\u001B[92mINFO\u001B[0m] treeqinetic.classes.measurement._plot_single_oscillations: plot_select_oscillation for measurement: 'Measurement: 'PTQ_Meas_150444.txt', ID: 20, Start '2023-03-22 15:07:26.211509' to '2023-03-22 15:09:24.888509'' for Elasto(92) successful.\n",
      "2025-08-26 15:34:55 [\u001B[92mINFO\u001B[0m] treeqinetic.classes.measurement._plot_single_oscillations: plot_select_oscillation for measurement: 'Measurement: 'PTQ_Meas_150444.txt', ID: 20, Start '2023-03-22 15:07:26.211509' to '2023-03-22 15:09:24.888509'' for Elasto(95) successful.\n",
      "2025-08-26 15:34:56 [\u001B[92mINFO\u001B[0m] treeqinetic.classes.measurement._plot_single_oscillations: plot_select_oscillation for measurement: 'Measurement: 'PTQ_Meas_150444.txt', ID: 20, Start '2023-03-22 15:07:26.211509' to '2023-03-22 15:09:24.888509'' for Elasto(98) successful.\n",
      "2025-08-26 15:34:56 [\u001B[92mINFO\u001B[0m] treeqinetic.classes.series.plot_oscillations_for_measurements: Plot Oscillations for Measurement: 'PTQ_Meas_151010.txt', ID: 21, Start '2023-03-22 15:11:29.776214' to '2023-03-22 15:14:08.830214'\n",
      "2025-08-26 15:34:57 [\u001B[92mINFO\u001B[0m] treeqinetic.classes.measurement._plot_single_oscillations: plot_select_oscillation for measurement: 'Measurement: 'PTQ_Meas_151010.txt', ID: 21, Start '2023-03-22 15:11:29.776214' to '2023-03-22 15:14:08.830214'' for Elasto(90) successful.\n",
      "2025-08-26 15:34:57 [\u001B[92mINFO\u001B[0m] treeqinetic.classes.measurement._plot_single_oscillations: plot_select_oscillation for measurement: 'Measurement: 'PTQ_Meas_151010.txt', ID: 21, Start '2023-03-22 15:11:29.776214' to '2023-03-22 15:14:08.830214'' for Elasto(92) successful.\n",
      "2025-08-26 15:34:58 [\u001B[92mINFO\u001B[0m] treeqinetic.classes.measurement._plot_single_oscillations: plot_select_oscillation for measurement: 'Measurement: 'PTQ_Meas_151010.txt', ID: 21, Start '2023-03-22 15:11:29.776214' to '2023-03-22 15:14:08.830214'' for Elasto(95) successful.\n",
      "2025-08-26 15:34:59 [\u001B[92mINFO\u001B[0m] treeqinetic.classes.measurement._plot_single_oscillations: plot_select_oscillation for measurement: 'Measurement: 'PTQ_Meas_151010.txt', ID: 21, Start '2023-03-22 15:11:29.776214' to '2023-03-22 15:14:08.830214'' for Elasto(98) successful.\n",
      "2025-08-26 15:34:59 [\u001B[92mINFO\u001B[0m] treeqinetic.classes.series.plot_oscillations_for_measurements: Plot Oscillations for Measurement: 'PTQ_Meas_151557.txt', ID: 22, Start '2023-03-22 15:16:01.811379' to '2023-03-22 15:20:03.954379'\n",
      "2025-08-26 15:35:00 [\u001B[92mINFO\u001B[0m] treeqinetic.classes.measurement._plot_single_oscillations: plot_select_oscillation for measurement: 'Measurement: 'PTQ_Meas_151557.txt', ID: 22, Start '2023-03-22 15:16:01.811379' to '2023-03-22 15:20:03.954379'' for Elasto(90) successful.\n",
      "2025-08-26 15:35:00 [\u001B[92mINFO\u001B[0m] treeqinetic.classes.measurement._plot_single_oscillations: plot_select_oscillation for measurement: 'Measurement: 'PTQ_Meas_151557.txt', ID: 22, Start '2023-03-22 15:16:01.811379' to '2023-03-22 15:20:03.954379'' for Elasto(92) successful.\n",
      "2025-08-26 15:35:02 [\u001B[92mINFO\u001B[0m] treeqinetic.classes.measurement._plot_single_oscillations: plot_select_oscillation for measurement: 'Measurement: 'PTQ_Meas_151557.txt', ID: 22, Start '2023-03-22 15:16:01.811379' to '2023-03-22 15:20:03.954379'' for Elasto(95) successful.\n",
      "2025-08-26 15:35:03 [\u001B[92mINFO\u001B[0m] treeqinetic.classes.measurement._plot_single_oscillations: plot_select_oscillation for measurement: 'Measurement: 'PTQ_Meas_151557.txt', ID: 22, Start '2023-03-22 15:16:01.811379' to '2023-03-22 15:20:03.954379'' for Elasto(98) successful.\n",
      "2025-08-26 15:35:03 [\u001B[92mINFO\u001B[0m] treeqinetic.classes.series.plot_oscillations_for_measurements: Plot Oscillations for Measurement: 'PTQ_Meas_153028.txt', ID: 23, Start '2023-03-22 15:30:29.626130' to '2023-03-22 15:32:42.861130'\n",
      "2025-08-26 15:35:04 [\u001B[92mINFO\u001B[0m] treeqinetic.classes.measurement._plot_single_oscillations: plot_select_oscillation for measurement: 'Measurement: 'PTQ_Meas_153028.txt', ID: 23, Start '2023-03-22 15:30:29.626130' to '2023-03-22 15:32:42.861130'' for Elasto(90) successful.\n",
      "2025-08-26 15:35:05 [\u001B[92mINFO\u001B[0m] treeqinetic.classes.measurement._plot_single_oscillations: plot_select_oscillation for measurement: 'Measurement: 'PTQ_Meas_153028.txt', ID: 23, Start '2023-03-22 15:30:29.626130' to '2023-03-22 15:32:42.861130'' for Elasto(92) successful.\n",
      "2025-08-26 15:35:06 [\u001B[92mINFO\u001B[0m] treeqinetic.classes.measurement._plot_single_oscillations: plot_select_oscillation for measurement: 'Measurement: 'PTQ_Meas_153028.txt', ID: 23, Start '2023-03-22 15:30:29.626130' to '2023-03-22 15:32:42.861130'' for Elasto(95) successful.\n",
      "2025-08-26 15:35:07 [\u001B[92mINFO\u001B[0m] treeqinetic.classes.measurement._plot_single_oscillations: plot_select_oscillation for measurement: 'Measurement: 'PTQ_Meas_153028.txt', ID: 23, Start '2023-03-22 15:30:29.626130' to '2023-03-22 15:32:42.861130'' for Elasto(98) successful.\n",
      "2025-08-26 15:35:07 [\u001B[92mINFO\u001B[0m] treeqinetic.classes.series.plot_oscillations_for_measurements: Plot Oscillations for Measurement: 'PTQ_Meas_153334.txt', ID: 24, Start '2023-03-22 15:36:28.333785' to '2023-03-22 15:39:10.601785'\n",
      "2025-08-26 15:35:07 [\u001B[92mINFO\u001B[0m] treeqinetic.classes.measurement._plot_single_oscillations: plot_select_oscillation for measurement: 'Measurement: 'PTQ_Meas_153334.txt', ID: 24, Start '2023-03-22 15:36:28.333785' to '2023-03-22 15:39:10.601785'' for Elasto(90) successful.\n",
      "2025-08-26 15:35:08 [\u001B[92mINFO\u001B[0m] treeqinetic.classes.measurement._plot_single_oscillations: plot_select_oscillation for measurement: 'Measurement: 'PTQ_Meas_153334.txt', ID: 24, Start '2023-03-22 15:36:28.333785' to '2023-03-22 15:39:10.601785'' for Elasto(92) successful.\n",
      "2025-08-26 15:35:09 [\u001B[92mINFO\u001B[0m] treeqinetic.classes.measurement._plot_single_oscillations: plot_select_oscillation for measurement: 'Measurement: 'PTQ_Meas_153334.txt', ID: 24, Start '2023-03-22 15:36:28.333785' to '2023-03-22 15:39:10.601785'' for Elasto(95) successful.\n",
      "2025-08-26 15:35:10 [\u001B[92mINFO\u001B[0m] treeqinetic.classes.measurement._plot_single_oscillations: plot_select_oscillation for measurement: 'Measurement: 'PTQ_Meas_153334.txt', ID: 24, Start '2023-03-22 15:36:28.333785' to '2023-03-22 15:39:10.601785'' for Elasto(98) successful.\n",
      "2025-08-26 15:35:10 [\u001B[92mINFO\u001B[0m] treeqinetic.classes.series.plot_oscillations_for_measurements: Plot Oscillations for Measurement: 'PTQ_Meas_153817.txt', ID: 25, Start '2023-03-22 15:39:36.853689' to '2023-03-22 15:45:22.562689'\n",
      "2025-08-26 15:35:11 [\u001B[92mINFO\u001B[0m] treeqinetic.classes.measurement._plot_single_oscillations: plot_select_oscillation for measurement: 'Measurement: 'PTQ_Meas_153817.txt', ID: 25, Start '2023-03-22 15:39:36.853689' to '2023-03-22 15:45:22.562689'' for Elasto(90) successful.\n",
      "2025-08-26 15:35:12 [\u001B[92mINFO\u001B[0m] treeqinetic.classes.measurement._plot_single_oscillations: plot_select_oscillation for measurement: 'Measurement: 'PTQ_Meas_153817.txt', ID: 25, Start '2023-03-22 15:39:36.853689' to '2023-03-22 15:45:22.562689'' for Elasto(92) successful.\n",
      "2025-08-26 15:35:13 [\u001B[92mINFO\u001B[0m] treeqinetic.classes.measurement._plot_single_oscillations: plot_select_oscillation for measurement: 'Measurement: 'PTQ_Meas_153817.txt', ID: 25, Start '2023-03-22 15:39:36.853689' to '2023-03-22 15:45:22.562689'' for Elasto(95) successful.\n",
      "2025-08-26 15:35:14 [\u001B[92mINFO\u001B[0m] treeqinetic.classes.measurement._plot_single_oscillations: plot_select_oscillation for measurement: 'Measurement: 'PTQ_Meas_153817.txt', ID: 25, Start '2023-03-22 15:39:36.853689' to '2023-03-22 15:45:22.562689'' for Elasto(98) successful.\n",
      "2025-08-26 15:35:14 [\u001B[92mINFO\u001B[0m] treeqinetic.classes.series.plot_oscillations_for_measurements: Plot Oscillations for Measurement: 'PTQ_Meas_154457.txt', ID: 26, Start '2023-03-22 15:53:18.604797' to '2023-03-22 15:56:04.346797'\n",
      "2025-08-26 15:35:15 [\u001B[92mINFO\u001B[0m] treeqinetic.classes.measurement._plot_single_oscillations: plot_select_oscillation for measurement: 'Measurement: 'PTQ_Meas_154457.txt', ID: 26, Start '2023-03-22 15:53:18.604797' to '2023-03-22 15:56:04.346797'' for Elasto(90) successful.\n",
      "2025-08-26 15:35:16 [\u001B[92mINFO\u001B[0m] treeqinetic.classes.measurement._plot_single_oscillations: plot_select_oscillation for measurement: 'Measurement: 'PTQ_Meas_154457.txt', ID: 26, Start '2023-03-22 15:53:18.604797' to '2023-03-22 15:56:04.346797'' for Elasto(92) successful.\n",
      "2025-08-26 15:35:17 [\u001B[92mINFO\u001B[0m] treeqinetic.classes.measurement._plot_single_oscillations: plot_select_oscillation for measurement: 'Measurement: 'PTQ_Meas_154457.txt', ID: 26, Start '2023-03-22 15:53:18.604797' to '2023-03-22 15:56:04.346797'' for Elasto(95) successful.\n",
      "2025-08-26 15:35:18 [\u001B[92mINFO\u001B[0m] treeqinetic.classes.measurement._plot_single_oscillations: plot_select_oscillation for measurement: 'Measurement: 'PTQ_Meas_154457.txt', ID: 26, Start '2023-03-22 15:53:18.604797' to '2023-03-22 15:56:04.346797'' for Elasto(98) successful.\n",
      "2025-08-26 15:35:18 [\u001B[92mINFO\u001B[0m] treeqinetic.classes.series.plot_oscillations_for_measurements: Plot Oscillations for Measurement: 'PTQ_Meas_155354.txt', ID: 27, Start '2023-03-22 15:53:59.248874' to '2023-03-22 15:57:16.416874'\n",
      "2025-08-26 15:35:18 [\u001B[92mINFO\u001B[0m] treeqinetic.classes.measurement._plot_single_oscillations: plot_select_oscillation for measurement: 'Measurement: 'PTQ_Meas_155354.txt', ID: 27, Start '2023-03-22 15:53:59.248874' to '2023-03-22 15:57:16.416874'' for Elasto(90) successful.\n",
      "2025-08-26 15:35:19 [\u001B[92mINFO\u001B[0m] treeqinetic.classes.measurement._plot_single_oscillations: plot_select_oscillation for measurement: 'Measurement: 'PTQ_Meas_155354.txt', ID: 27, Start '2023-03-22 15:53:59.248874' to '2023-03-22 15:57:16.416874'' for Elasto(92) successful.\n",
      "2025-08-26 15:35:20 [\u001B[92mINFO\u001B[0m] treeqinetic.classes.measurement._plot_single_oscillations: plot_select_oscillation for measurement: 'Measurement: 'PTQ_Meas_155354.txt', ID: 27, Start '2023-03-22 15:53:59.248874' to '2023-03-22 15:57:16.416874'' for Elasto(95) successful.\n",
      "2025-08-26 15:35:21 [\u001B[92mINFO\u001B[0m] treeqinetic.classes.measurement._plot_single_oscillations: plot_select_oscillation for measurement: 'Measurement: 'PTQ_Meas_155354.txt', ID: 27, Start '2023-03-22 15:53:59.248874' to '2023-03-22 15:57:16.416874'' for Elasto(98) successful.\n",
      "2025-08-26 15:35:21 [\u001B[92mINFO\u001B[0m] treeqinetic.classes.series.plot_oscillations_for_measurements: Plot Oscillations for Measurement: 'PTQ_Meas_155805.txt', ID: 28, Start '2023-03-22 15:59:19.859928' to '2023-03-22 16:00:54.129927999'\n",
      "2025-08-26 15:35:22 [\u001B[92mINFO\u001B[0m] treeqinetic.classes.measurement._plot_single_oscillations: plot_select_oscillation for measurement: 'Measurement: 'PTQ_Meas_155805.txt', ID: 28, Start '2023-03-22 15:59:19.859928' to '2023-03-22 16:00:54.129927999'' for Elasto(90) successful.\n",
      "2025-08-26 15:35:23 [\u001B[92mINFO\u001B[0m] treeqinetic.classes.measurement._plot_single_oscillations: plot_select_oscillation for measurement: 'Measurement: 'PTQ_Meas_155805.txt', ID: 28, Start '2023-03-22 15:59:19.859928' to '2023-03-22 16:00:54.129927999'' for Elasto(92) successful.\n",
      "2025-08-26 15:35:24 [\u001B[92mINFO\u001B[0m] treeqinetic.classes.measurement._plot_single_oscillations: plot_select_oscillation for measurement: 'Measurement: 'PTQ_Meas_155805.txt', ID: 28, Start '2023-03-22 15:59:19.859928' to '2023-03-22 16:00:54.129927999'' for Elasto(95) successful.\n",
      "2025-08-26 15:35:25 [\u001B[92mINFO\u001B[0m] treeqinetic.classes.measurement._plot_single_oscillations: plot_select_oscillation for measurement: 'Measurement: 'PTQ_Meas_155805.txt', ID: 28, Start '2023-03-22 15:59:19.859928' to '2023-03-22 16:00:54.129927999'' for Elasto(98) successful.\n",
      "2025-08-26 15:35:25 [\u001B[92mINFO\u001B[0m] treeqinetic.classes.series.plot_oscillations_for_measurements: Plot Oscillations for Measurement: 'PTQ_Meas_160907.txt', ID: 29, Start '2023-03-22 16:09:36.011613' to '2023-03-22 16:12:55.455613'\n",
      "2025-08-26 15:35:26 [\u001B[92mINFO\u001B[0m] treeqinetic.classes.measurement._plot_single_oscillations: plot_select_oscillation for measurement: 'Measurement: 'PTQ_Meas_160907.txt', ID: 29, Start '2023-03-22 16:09:36.011613' to '2023-03-22 16:12:55.455613'' for Elasto(90) successful.\n",
      "2025-08-26 15:35:26 [\u001B[92mINFO\u001B[0m] treeqinetic.classes.measurement._plot_single_oscillations: plot_select_oscillation for measurement: 'Measurement: 'PTQ_Meas_160907.txt', ID: 29, Start '2023-03-22 16:09:36.011613' to '2023-03-22 16:12:55.455613'' for Elasto(92) successful.\n",
      "2025-08-26 15:35:27 [\u001B[92mINFO\u001B[0m] treeqinetic.classes.measurement._plot_single_oscillations: plot_select_oscillation for measurement: 'Measurement: 'PTQ_Meas_160907.txt', ID: 29, Start '2023-03-22 16:09:36.011613' to '2023-03-22 16:12:55.455613'' for Elasto(95) successful.\n",
      "2025-08-26 15:35:28 [\u001B[92mINFO\u001B[0m] treeqinetic.classes.measurement._plot_single_oscillations: plot_select_oscillation for measurement: 'Measurement: 'PTQ_Meas_160907.txt', ID: 29, Start '2023-03-22 16:09:36.011613' to '2023-03-22 16:12:55.455613'' for Elasto(98) successful.\n",
      "2025-08-26 15:35:28 [\u001B[92mINFO\u001B[0m] treeqinetic.classes.series.plot_oscillations_for_measurements: Plot Oscillations for Measurement: 'PTQ_Meas_100346.txt', ID: 1, Start '2023-03-22 10:10:39.830198' to '2023-03-22 10:13:21.602198'\n",
      "2025-08-26 15:35:31 [\u001B[92mINFO\u001B[0m] treeqinetic.classes.measurement._plot_combined_oscillations: Combined plot_select_oscillation for measurement: 'Measurement: 'PTQ_Meas_100346.txt', ID: 1, Start '2023-03-22 10:10:39.830198' to '2023-03-22 10:13:21.602198'' successful.\n",
      "2025-08-26 15:35:31 [\u001B[92mINFO\u001B[0m] treeqinetic.classes.series.plot_oscillations_for_measurements: Plot Oscillations for Measurement: 'PTQ_Meas_101814.txt', ID: 2, Start '2023-03-22 10:18:33.334820' to '2023-03-22 10:21:25.691820'\n",
      "2025-08-26 15:35:33 [\u001B[92mINFO\u001B[0m] treeqinetic.classes.measurement._plot_combined_oscillations: Combined plot_select_oscillation for measurement: 'Measurement: 'PTQ_Meas_101814.txt', ID: 2, Start '2023-03-22 10:18:33.334820' to '2023-03-22 10:21:25.691820'' successful.\n",
      "2025-08-26 15:35:33 [\u001B[92mINFO\u001B[0m] treeqinetic.classes.series.plot_oscillations_for_measurements: Plot Oscillations for Measurement: 'PTQ_Meas_102314.txt', ID: 3, Start '2023-03-22 10:26:25.086505' to '2023-03-22 10:28:50.847505'\n",
      "2025-08-26 15:35:35 [\u001B[92mINFO\u001B[0m] treeqinetic.classes.measurement._plot_combined_oscillations: Combined plot_select_oscillation for measurement: 'Measurement: 'PTQ_Meas_102314.txt', ID: 3, Start '2023-03-22 10:26:25.086505' to '2023-03-22 10:28:50.847505'' successful.\n",
      "2025-08-26 15:35:35 [\u001B[92mINFO\u001B[0m] treeqinetic.classes.series.plot_oscillations_for_measurements: Plot Oscillations for Measurement: 'PTQ_Meas_104400.txt', ID: 4, Start '2023-03-22 10:50:02.131987' to '2023-03-22 10:52:43.662987'\n",
      "2025-08-26 15:35:37 [\u001B[92mINFO\u001B[0m] treeqinetic.classes.measurement._plot_combined_oscillations: Combined plot_select_oscillation for measurement: 'Measurement: 'PTQ_Meas_104400.txt', ID: 4, Start '2023-03-22 10:50:02.131987' to '2023-03-22 10:52:43.662987'' successful.\n",
      "2025-08-26 15:35:37 [\u001B[92mINFO\u001B[0m] treeqinetic.classes.series.plot_oscillations_for_measurements: Plot Oscillations for Measurement: 'PTQ_Meas_105549.txt', ID: 5, Start '2023-03-22 10:55:59.034260' to '2023-03-22 10:58:38.051260'\n",
      "2025-08-26 15:35:39 [\u001B[92mINFO\u001B[0m] treeqinetic.classes.measurement._plot_combined_oscillations: Combined plot_select_oscillation for measurement: 'Measurement: 'PTQ_Meas_105549.txt', ID: 5, Start '2023-03-22 10:55:59.034260' to '2023-03-22 10:58:38.051260'' successful.\n",
      "2025-08-26 15:35:39 [\u001B[92mINFO\u001B[0m] treeqinetic.classes.series.plot_oscillations_for_measurements: Plot Oscillations for Measurement: 'PTQ_Meas_110107.txt', ID: 6, Start '2023-03-22 11:02:37.653620' to '2023-03-22 11:04:32.486620'\n",
      "2025-08-26 15:35:41 [\u001B[92mINFO\u001B[0m] treeqinetic.classes.measurement._plot_combined_oscillations: Combined plot_select_oscillation for measurement: 'Measurement: 'PTQ_Meas_110107.txt', ID: 6, Start '2023-03-22 11:02:37.653620' to '2023-03-22 11:04:32.486620'' successful.\n",
      "2025-08-26 15:35:41 [\u001B[92mINFO\u001B[0m] treeqinetic.classes.series.plot_oscillations_for_measurements: Plot Oscillations for Measurement: 'PTQ_Meas_110558.txt', ID: 7, Start '2023-03-22 11:06:16.330019' to '2023-03-22 11:08:10.160019'\n",
      "2025-08-26 15:35:42 [\u001B[92mINFO\u001B[0m] treeqinetic.classes.measurement._plot_combined_oscillations: Combined plot_select_oscillation for measurement: 'Measurement: 'PTQ_Meas_110558.txt', ID: 7, Start '2023-03-22 11:06:16.330019' to '2023-03-22 11:08:10.160019'' successful.\n",
      "2025-08-26 15:35:42 [\u001B[92mINFO\u001B[0m] treeqinetic.classes.series.plot_oscillations_for_measurements: Plot Oscillations for Measurement: 'PTQ_Meas_111019.txt', ID: 8, Start '2023-03-22 11:10:38.251994' to '2023-03-22 11:12:26.538994'\n",
      "2025-08-26 15:35:44 [\u001B[92mINFO\u001B[0m] treeqinetic.classes.measurement._plot_combined_oscillations: Combined plot_select_oscillation for measurement: 'Measurement: 'PTQ_Meas_111019.txt', ID: 8, Start '2023-03-22 11:10:38.251994' to '2023-03-22 11:12:26.538994'' successful.\n",
      "2025-08-26 15:35:44 [\u001B[92mINFO\u001B[0m] treeqinetic.classes.series.plot_oscillations_for_measurements: Plot Oscillations for Measurement: 'PTQ_Meas_111713.txt', ID: 9, Start '2023-03-22 11:21:04.844142' to '2023-03-22 11:23:02.055142'\n",
      "2025-08-26 15:35:46 [\u001B[92mINFO\u001B[0m] treeqinetic.classes.measurement._plot_combined_oscillations: Combined plot_select_oscillation for measurement: 'Measurement: 'PTQ_Meas_111713.txt', ID: 9, Start '2023-03-22 11:21:04.844142' to '2023-03-22 11:23:02.055142'' successful.\n",
      "2025-08-26 15:35:46 [\u001B[92mINFO\u001B[0m] treeqinetic.classes.series.plot_oscillations_for_measurements: Plot Oscillations for Measurement: 'PTQ_Meas_112120.txt', ID: 10, Start '2023-03-22 11:22:46.612488' to '2023-03-22 11:26:15.605488'\n",
      "2025-08-26 15:35:48 [\u001B[92mINFO\u001B[0m] treeqinetic.classes.measurement._plot_combined_oscillations: Combined plot_select_oscillation for measurement: 'Measurement: 'PTQ_Meas_112120.txt', ID: 10, Start '2023-03-22 11:22:46.612488' to '2023-03-22 11:26:15.605488'' successful.\n",
      "2025-08-26 15:35:48 [\u001B[92mINFO\u001B[0m] treeqinetic.classes.series.plot_oscillations_for_measurements: Plot Oscillations for Measurement: 'PTQ_Meas_133316.txt', ID: 11, Start '2023-03-22 13:36:32.068787' to '2023-03-22 13:38:55.286787'\n",
      "2025-08-26 15:35:49 [\u001B[92mINFO\u001B[0m] treeqinetic.classes.measurement._plot_combined_oscillations: Combined plot_select_oscillation for measurement: 'Measurement: 'PTQ_Meas_133316.txt', ID: 11, Start '2023-03-22 13:36:32.068787' to '2023-03-22 13:38:55.286787'' successful.\n",
      "2025-08-26 15:35:49 [\u001B[92mINFO\u001B[0m] treeqinetic.classes.series.plot_oscillations_for_measurements: Plot Oscillations for Measurement: 'PTQ_Meas_134053.txt', ID: 12, Start '2023-03-22 13:42:13.782157' to '2023-03-22 13:44:46.281157'\n",
      "2025-08-26 15:35:51 [\u001B[92mINFO\u001B[0m] treeqinetic.classes.measurement._plot_combined_oscillations: Combined plot_select_oscillation for measurement: 'Measurement: 'PTQ_Meas_134053.txt', ID: 12, Start '2023-03-22 13:42:13.782157' to '2023-03-22 13:44:46.281157'' successful.\n",
      "2025-08-26 15:35:51 [\u001B[92mINFO\u001B[0m] treeqinetic.classes.series.plot_oscillations_for_measurements: Plot Oscillations for Measurement: 'PTQ_Meas_134807.txt', ID: 13, Start '2023-03-22 13:49:21.347406' to '2023-03-22 13:51:37.799406'\n",
      "2025-08-26 15:35:53 [\u001B[92mINFO\u001B[0m] treeqinetic.classes.measurement._plot_combined_oscillations: Combined plot_select_oscillation for measurement: 'Measurement: 'PTQ_Meas_134807.txt', ID: 13, Start '2023-03-22 13:49:21.347406' to '2023-03-22 13:51:37.799406'' successful.\n",
      "2025-08-26 15:35:53 [\u001B[92mINFO\u001B[0m] treeqinetic.classes.series.plot_oscillations_for_measurements: Plot Oscillations for Measurement: 'PTQ_Meas_135705.txt', ID: 14, Start '2023-03-22 13:59:44.050912' to '2023-03-22 14:02:02.505912'\n",
      "2025-08-26 15:35:55 [\u001B[92mINFO\u001B[0m] treeqinetic.classes.measurement._plot_combined_oscillations: Combined plot_select_oscillation for measurement: 'Measurement: 'PTQ_Meas_135705.txt', ID: 14, Start '2023-03-22 13:59:44.050912' to '2023-03-22 14:02:02.505912'' successful.\n",
      "2025-08-26 15:35:55 [\u001B[92mINFO\u001B[0m] treeqinetic.classes.series.plot_oscillations_for_measurements: Plot Oscillations for Measurement: 'PTQ_Meas_140149.txt', ID: 15, Start '2023-03-22 14:04:38.399621' to '2023-03-22 14:06:40.181621'\n",
      "2025-08-26 15:35:57 [\u001B[92mINFO\u001B[0m] treeqinetic.classes.measurement._plot_combined_oscillations: Combined plot_select_oscillation for measurement: 'Measurement: 'PTQ_Meas_140149.txt', ID: 15, Start '2023-03-22 14:04:38.399621' to '2023-03-22 14:06:40.181621'' successful.\n",
      "2025-08-26 15:35:57 [\u001B[92mINFO\u001B[0m] treeqinetic.classes.series.plot_oscillations_for_measurements: Plot Oscillations for Measurement: 'PTQ_Meas_140551.txt', ID: 16, Start '2023-03-22 14:08:22.949140' to '2023-03-22 14:10:39.593140'\n",
      "2025-08-26 15:35:59 [\u001B[92mINFO\u001B[0m] treeqinetic.classes.measurement._plot_combined_oscillations: Combined plot_select_oscillation for measurement: 'Measurement: 'PTQ_Meas_140551.txt', ID: 16, Start '2023-03-22 14:08:22.949140' to '2023-03-22 14:10:39.593140'' successful.\n",
      "2025-08-26 15:35:59 [\u001B[92mINFO\u001B[0m] treeqinetic.classes.series.plot_oscillations_for_measurements: Plot Oscillations for Measurement: 'PTQ_Meas_141006.txt', ID: 17, Start '2023-03-22 14:12:35.404214' to '2023-03-22 14:14:35.383214'\n",
      "2025-08-26 15:36:01 [\u001B[92mINFO\u001B[0m] treeqinetic.classes.measurement._plot_combined_oscillations: Combined plot_select_oscillation for measurement: 'Measurement: 'PTQ_Meas_141006.txt', ID: 17, Start '2023-03-22 14:12:35.404214' to '2023-03-22 14:14:35.383214'' successful.\n",
      "2025-08-26 15:36:01 [\u001B[92mINFO\u001B[0m] treeqinetic.classes.series.plot_oscillations_for_measurements: Plot Oscillations for Measurement: 'PTQ_Meas_141437.txt', ID: 18, Start '2023-03-22 14:15:47.525869999' to '2023-03-22 14:18:26.172870'\n",
      "2025-08-26 15:36:04 [\u001B[92mINFO\u001B[0m] treeqinetic.classes.measurement._plot_combined_oscillations: Combined plot_select_oscillation for measurement: 'Measurement: 'PTQ_Meas_141437.txt', ID: 18, Start '2023-03-22 14:15:47.525869999' to '2023-03-22 14:18:26.172870'' successful.\n",
      "2025-08-26 15:36:04 [\u001B[92mINFO\u001B[0m] treeqinetic.classes.series.plot_oscillations_for_measurements: Plot Oscillations for Measurement: 'PTQ_Meas_141812.txt', ID: 19, Start '2023-03-22 14:20:37.937304' to '2023-03-22 14:22:53.243304'\n",
      "2025-08-26 15:36:06 [\u001B[92mINFO\u001B[0m] treeqinetic.classes.measurement._plot_combined_oscillations: Combined plot_select_oscillation for measurement: 'Measurement: 'PTQ_Meas_141812.txt', ID: 19, Start '2023-03-22 14:20:37.937304' to '2023-03-22 14:22:53.243304'' successful.\n",
      "2025-08-26 15:36:06 [\u001B[92mINFO\u001B[0m] treeqinetic.classes.series.plot_oscillations_for_measurements: Plot Oscillations for Measurement: 'PTQ_Meas_150444.txt', ID: 20, Start '2023-03-22 15:07:26.211509' to '2023-03-22 15:09:24.888509'\n",
      "2025-08-26 15:36:08 [\u001B[92mINFO\u001B[0m] treeqinetic.classes.measurement._plot_combined_oscillations: Combined plot_select_oscillation for measurement: 'Measurement: 'PTQ_Meas_150444.txt', ID: 20, Start '2023-03-22 15:07:26.211509' to '2023-03-22 15:09:24.888509'' successful.\n",
      "2025-08-26 15:36:08 [\u001B[92mINFO\u001B[0m] treeqinetic.classes.series.plot_oscillations_for_measurements: Plot Oscillations for Measurement: 'PTQ_Meas_151010.txt', ID: 21, Start '2023-03-22 15:11:29.776214' to '2023-03-22 15:14:08.830214'\n",
      "2025-08-26 15:36:10 [\u001B[92mINFO\u001B[0m] treeqinetic.classes.measurement._plot_combined_oscillations: Combined plot_select_oscillation for measurement: 'Measurement: 'PTQ_Meas_151010.txt', ID: 21, Start '2023-03-22 15:11:29.776214' to '2023-03-22 15:14:08.830214'' successful.\n",
      "2025-08-26 15:36:10 [\u001B[92mINFO\u001B[0m] treeqinetic.classes.series.plot_oscillations_for_measurements: Plot Oscillations for Measurement: 'PTQ_Meas_151557.txt', ID: 22, Start '2023-03-22 15:16:01.811379' to '2023-03-22 15:20:03.954379'\n",
      "2025-08-26 15:36:11 [\u001B[92mINFO\u001B[0m] treeqinetic.classes.measurement._plot_combined_oscillations: Combined plot_select_oscillation for measurement: 'Measurement: 'PTQ_Meas_151557.txt', ID: 22, Start '2023-03-22 15:16:01.811379' to '2023-03-22 15:20:03.954379'' successful.\n",
      "2025-08-26 15:36:11 [\u001B[92mINFO\u001B[0m] treeqinetic.classes.series.plot_oscillations_for_measurements: Plot Oscillations for Measurement: 'PTQ_Meas_153028.txt', ID: 23, Start '2023-03-22 15:30:29.626130' to '2023-03-22 15:32:42.861130'\n",
      "2025-08-26 15:36:13 [\u001B[92mINFO\u001B[0m] treeqinetic.classes.measurement._plot_combined_oscillations: Combined plot_select_oscillation for measurement: 'Measurement: 'PTQ_Meas_153028.txt', ID: 23, Start '2023-03-22 15:30:29.626130' to '2023-03-22 15:32:42.861130'' successful.\n",
      "2025-08-26 15:36:13 [\u001B[92mINFO\u001B[0m] treeqinetic.classes.series.plot_oscillations_for_measurements: Plot Oscillations for Measurement: 'PTQ_Meas_153334.txt', ID: 24, Start '2023-03-22 15:36:28.333785' to '2023-03-22 15:39:10.601785'\n",
      "2025-08-26 15:36:15 [\u001B[92mINFO\u001B[0m] treeqinetic.classes.measurement._plot_combined_oscillations: Combined plot_select_oscillation for measurement: 'Measurement: 'PTQ_Meas_153334.txt', ID: 24, Start '2023-03-22 15:36:28.333785' to '2023-03-22 15:39:10.601785'' successful.\n",
      "2025-08-26 15:36:15 [\u001B[92mINFO\u001B[0m] treeqinetic.classes.series.plot_oscillations_for_measurements: Plot Oscillations for Measurement: 'PTQ_Meas_153817.txt', ID: 25, Start '2023-03-22 15:39:36.853689' to '2023-03-22 15:45:22.562689'\n",
      "2025-08-26 15:36:18 [\u001B[92mINFO\u001B[0m] treeqinetic.classes.measurement._plot_combined_oscillations: Combined plot_select_oscillation for measurement: 'Measurement: 'PTQ_Meas_153817.txt', ID: 25, Start '2023-03-22 15:39:36.853689' to '2023-03-22 15:45:22.562689'' successful.\n",
      "2025-08-26 15:36:18 [\u001B[92mINFO\u001B[0m] treeqinetic.classes.series.plot_oscillations_for_measurements: Plot Oscillations for Measurement: 'PTQ_Meas_154457.txt', ID: 26, Start '2023-03-22 15:53:18.604797' to '2023-03-22 15:56:04.346797'\n",
      "2025-08-26 15:36:20 [\u001B[92mINFO\u001B[0m] treeqinetic.classes.measurement._plot_combined_oscillations: Combined plot_select_oscillation for measurement: 'Measurement: 'PTQ_Meas_154457.txt', ID: 26, Start '2023-03-22 15:53:18.604797' to '2023-03-22 15:56:04.346797'' successful.\n",
      "2025-08-26 15:36:20 [\u001B[92mINFO\u001B[0m] treeqinetic.classes.series.plot_oscillations_for_measurements: Plot Oscillations for Measurement: 'PTQ_Meas_155354.txt', ID: 27, Start '2023-03-22 15:53:59.248874' to '2023-03-22 15:57:16.416874'\n",
      "2025-08-26 15:36:22 [\u001B[92mINFO\u001B[0m] treeqinetic.classes.measurement._plot_combined_oscillations: Combined plot_select_oscillation for measurement: 'Measurement: 'PTQ_Meas_155354.txt', ID: 27, Start '2023-03-22 15:53:59.248874' to '2023-03-22 15:57:16.416874'' successful.\n",
      "2025-08-26 15:36:22 [\u001B[92mINFO\u001B[0m] treeqinetic.classes.series.plot_oscillations_for_measurements: Plot Oscillations for Measurement: 'PTQ_Meas_155805.txt', ID: 28, Start '2023-03-22 15:59:19.859928' to '2023-03-22 16:00:54.129927999'\n",
      "2025-08-26 15:36:24 [\u001B[92mINFO\u001B[0m] treeqinetic.classes.measurement._plot_combined_oscillations: Combined plot_select_oscillation for measurement: 'Measurement: 'PTQ_Meas_155805.txt', ID: 28, Start '2023-03-22 15:59:19.859928' to '2023-03-22 16:00:54.129927999'' successful.\n",
      "2025-08-26 15:36:24 [\u001B[92mINFO\u001B[0m] treeqinetic.classes.series.plot_oscillations_for_measurements: Plot Oscillations for Measurement: 'PTQ_Meas_160907.txt', ID: 29, Start '2023-03-22 16:09:36.011613' to '2023-03-22 16:12:55.455613'\n",
      "2025-08-26 15:36:26 [\u001B[92mINFO\u001B[0m] treeqinetic.classes.measurement._plot_combined_oscillations: Combined plot_select_oscillation for measurement: 'Measurement: 'PTQ_Meas_160907.txt', ID: 29, Start '2023-03-22 16:09:36.011613' to '2023-03-22 16:12:55.455613'' successful.\n"
     ]
    }
   ],
   "source": [
    "ptq_series.plot_oscillations_for_measurements(sensor_names=elasto_names, combined=False)\n",
    "ptq_series.plot_oscillations_for_measurements(sensor_names=elasto_names, combined=True)"
   ]
  },
  {
   "cell_type": "code",
   "execution_count": 16,
   "outputs": [],
   "source": [
    "ptq_oscillations_ls = ptq_series.get_oscillations_list()"
   ],
   "metadata": {
    "collapsed": false,
    "ExecuteTime": {
     "end_time": "2025-08-26T13:36:26.902664300Z",
     "start_time": "2025-08-26T13:36:26.902664300Z"
    }
   }
  },
  {
   "cell_type": "markdown",
   "source": [
    "### Integral-Daten berechnen"
   ],
   "metadata": {
    "collapsed": false
   }
  },
  {
   "cell_type": "code",
   "execution_count": 17,
   "outputs": [
    {
     "name": "stderr",
     "output_type": "stream",
     "text": [
      "2025-08-26 15:36:26 [\u001B[92mINFO\u001B[0m] treeqinetic.classes.oscillation.calculate_elasto_integral: calculate_elasto_integral successful: pos=391.326, neg=365.342, abs=756.668, ratio=1.071\n",
      "2025-08-26 15:36:27 [\u001B[92mINFO\u001B[0m] treeqinetic.classes.oscillation.calculate_elasto_integral: calculate_elasto_integral successful: pos=174.631, neg=182.060, abs=356.691, ratio=0.959\n",
      "2025-08-26 15:36:27 [\u001B[92mINFO\u001B[0m] treeqinetic.classes.oscillation.calculate_elasto_integral: calculate_elasto_integral successful: pos=222.431, neg=191.815, abs=414.246, ratio=1.160\n",
      "2025-08-26 15:36:27 [\u001B[92mINFO\u001B[0m] treeqinetic.classes.oscillation.calculate_elasto_integral: calculate_elasto_integral successful: pos=232.922, neg=222.857, abs=455.779, ratio=1.045\n",
      "2025-08-26 15:36:28 [\u001B[92mINFO\u001B[0m] treeqinetic.classes.oscillation.calculate_elasto_integral: calculate_elasto_integral successful: pos=258.909, neg=319.997, abs=578.906, ratio=0.809\n",
      "2025-08-26 15:36:28 [\u001B[92mINFO\u001B[0m] treeqinetic.classes.oscillation.calculate_elasto_integral: calculate_elasto_integral successful: pos=150.398, neg=156.510, abs=306.908, ratio=0.961\n",
      "2025-08-26 15:36:28 [\u001B[92mINFO\u001B[0m] treeqinetic.classes.oscillation.calculate_elasto_integral: calculate_elasto_integral successful: pos=180.762, neg=124.969, abs=305.731, ratio=1.446\n",
      "2025-08-26 15:36:29 [\u001B[92mINFO\u001B[0m] treeqinetic.classes.oscillation.calculate_elasto_integral: calculate_elasto_integral successful: pos=231.471, neg=167.264, abs=398.736, ratio=1.384\n",
      "2025-08-26 15:36:29 [\u001B[92mINFO\u001B[0m] treeqinetic.classes.oscillation.calculate_elasto_integral: calculate_elasto_integral successful: pos=403.706, neg=390.910, abs=794.616, ratio=1.033\n",
      "2025-08-26 15:36:29 [\u001B[92mINFO\u001B[0m] treeqinetic.classes.oscillation.calculate_elasto_integral: calculate_elasto_integral successful: pos=234.624, neg=194.850, abs=429.474, ratio=1.204\n",
      "2025-08-26 15:36:30 [\u001B[92mINFO\u001B[0m] treeqinetic.classes.oscillation.calculate_elasto_integral: calculate_elasto_integral successful: pos=209.936, neg=206.755, abs=416.691, ratio=1.015\n",
      "2025-08-26 15:36:30 [\u001B[92mINFO\u001B[0m] treeqinetic.classes.oscillation.calculate_elasto_integral: calculate_elasto_integral successful: pos=205.719, neg=250.370, abs=456.088, ratio=0.822\n",
      "2025-08-26 15:36:30 [\u001B[92mINFO\u001B[0m] treeqinetic.classes.oscillation.calculate_elasto_integral: calculate_elasto_integral successful: pos=399.705, neg=387.673, abs=787.377, ratio=1.031\n",
      "2025-08-26 15:36:30 [\u001B[92mINFO\u001B[0m] treeqinetic.classes.oscillation.calculate_elasto_integral: calculate_elasto_integral successful: pos=242.349, neg=195.234, abs=437.582, ratio=1.241\n",
      "2025-08-26 15:36:31 [\u001B[92mINFO\u001B[0m] treeqinetic.classes.oscillation.calculate_elasto_integral: calculate_elasto_integral successful: pos=221.499, neg=211.343, abs=432.841, ratio=1.048\n",
      "2025-08-26 15:36:31 [\u001B[92mINFO\u001B[0m] treeqinetic.classes.oscillation.calculate_elasto_integral: calculate_elasto_integral successful: pos=281.724, neg=305.872, abs=587.596, ratio=0.921\n",
      "2025-08-26 15:36:31 [\u001B[92mINFO\u001B[0m] treeqinetic.classes.oscillation.calculate_elasto_integral: calculate_elasto_integral successful: pos=272.753, neg=348.490, abs=621.243, ratio=0.783\n",
      "2025-08-26 15:36:31 [\u001B[92mINFO\u001B[0m] treeqinetic.classes.oscillation.calculate_elasto_integral: calculate_elasto_integral successful: pos=152.714, neg=177.567, abs=330.282, ratio=0.860\n",
      "2025-08-26 15:36:32 [\u001B[92mINFO\u001B[0m] treeqinetic.classes.oscillation.calculate_elasto_integral: calculate_elasto_integral successful: pos=193.760, neg=136.409, abs=330.169, ratio=1.420\n",
      "2025-08-26 15:36:32 [\u001B[92mINFO\u001B[0m] treeqinetic.classes.oscillation.calculate_elasto_integral: calculate_elasto_integral successful: pos=261.925, neg=203.698, abs=465.622, ratio=1.286\n",
      "2025-08-26 15:36:32 [\u001B[92mINFO\u001B[0m] treeqinetic.classes.oscillation.calculate_elasto_integral: calculate_elasto_integral successful: pos=417.582, neg=375.203, abs=792.785, ratio=1.113\n",
      "2025-08-26 15:36:33 [\u001B[92mINFO\u001B[0m] treeqinetic.classes.oscillation.calculate_elasto_integral: calculate_elasto_integral successful: pos=185.515, neg=177.463, abs=362.978, ratio=1.045\n",
      "2025-08-26 15:36:33 [\u001B[92mINFO\u001B[0m] treeqinetic.classes.oscillation.calculate_elasto_integral: calculate_elasto_integral successful: pos=219.162, neg=208.885, abs=428.047, ratio=1.049\n",
      "2025-08-26 15:36:33 [\u001B[92mINFO\u001B[0m] treeqinetic.classes.oscillation.calculate_elasto_integral: calculate_elasto_integral successful: pos=233.313, neg=314.134, abs=547.448, ratio=0.743\n",
      "2025-08-26 15:36:34 [\u001B[92mINFO\u001B[0m] treeqinetic.classes.oscillation.calculate_elasto_integral: calculate_elasto_integral successful: pos=363.095, neg=291.254, abs=654.349, ratio=1.247\n",
      "2025-08-26 15:36:34 [\u001B[92mINFO\u001B[0m] treeqinetic.classes.oscillation.calculate_elasto_integral: calculate_elasto_integral successful: pos=205.401, neg=141.993, abs=347.393, ratio=1.447\n",
      "2025-08-26 15:36:34 [\u001B[92mINFO\u001B[0m] treeqinetic.classes.oscillation.calculate_elasto_integral: calculate_elasto_integral successful: pos=191.822, neg=146.699, abs=338.521, ratio=1.308\n",
      "2025-08-26 15:36:35 [\u001B[92mINFO\u001B[0m] treeqinetic.classes.oscillation.calculate_elasto_integral: calculate_elasto_integral successful: pos=259.630, neg=219.204, abs=478.834, ratio=1.184\n",
      "2025-08-26 15:36:35 [\u001B[92mINFO\u001B[0m] treeqinetic.classes.oscillation.calculate_elasto_integral: calculate_elasto_integral successful: pos=349.992, neg=369.657, abs=719.648, ratio=0.947\n",
      "2025-08-26 15:36:36 [\u001B[92mINFO\u001B[0m] treeqinetic.classes.oscillation.calculate_elasto_integral: calculate_elasto_integral successful: pos=181.506, neg=176.582, abs=358.088, ratio=1.028\n",
      "2025-08-26 15:36:36 [\u001B[92mINFO\u001B[0m] treeqinetic.classes.oscillation.calculate_elasto_integral: calculate_elasto_integral successful: pos=176.576, neg=190.182, abs=366.758, ratio=0.928\n",
      "2025-08-26 15:36:37 [\u001B[92mINFO\u001B[0m] treeqinetic.classes.oscillation.calculate_elasto_integral: calculate_elasto_integral successful: pos=246.576, neg=288.141, abs=534.716, ratio=0.856\n",
      "2025-08-26 15:36:37 [\u001B[92mINFO\u001B[0m] treeqinetic.classes.oscillation.calculate_elasto_integral: calculate_elasto_integral successful: pos=388.289, neg=279.976, abs=668.265, ratio=1.387\n",
      "2025-08-26 15:36:38 [\u001B[92mINFO\u001B[0m] treeqinetic.classes.oscillation.calculate_elasto_integral: calculate_elasto_integral successful: pos=217.387, neg=125.066, abs=342.452, ratio=1.738\n",
      "2025-08-26 15:36:38 [\u001B[92mINFO\u001B[0m] treeqinetic.classes.oscillation.calculate_elasto_integral: calculate_elasto_integral successful: pos=143.906, neg=207.505, abs=351.412, ratio=0.694\n",
      "2025-08-26 15:36:39 [\u001B[92mINFO\u001B[0m] treeqinetic.classes.oscillation.calculate_elasto_integral: calculate_elasto_integral successful: pos=200.065, neg=309.029, abs=509.095, ratio=0.647\n",
      "2025-08-26 15:36:39 [\u001B[92mINFO\u001B[0m] treeqinetic.classes.oscillation.calculate_elasto_integral: calculate_elasto_integral successful: pos=376.478, neg=331.219, abs=707.697, ratio=1.137\n",
      "2025-08-26 15:36:39 [\u001B[92mINFO\u001B[0m] treeqinetic.classes.oscillation.calculate_elasto_integral: calculate_elasto_integral successful: pos=208.582, neg=156.316, abs=364.898, ratio=1.334\n",
      "2025-08-26 15:36:40 [\u001B[92mINFO\u001B[0m] treeqinetic.classes.oscillation.calculate_elasto_integral: calculate_elasto_integral successful: pos=173.589, neg=191.939, abs=365.528, ratio=0.904\n",
      "2025-08-26 15:36:40 [\u001B[92mINFO\u001B[0m] treeqinetic.classes.oscillation.calculate_elasto_integral: calculate_elasto_integral successful: pos=226.918, neg=288.810, abs=515.728, ratio=0.786\n",
      "2025-08-26 15:36:40 [\u001B[92mINFO\u001B[0m] treeqinetic.classes.oscillation.calculate_elasto_integral: calculate_elasto_integral successful: pos=310.694, neg=227.414, abs=538.108, ratio=1.366\n",
      "2025-08-26 15:36:41 [\u001B[92mINFO\u001B[0m] treeqinetic.classes.oscillation.calculate_elasto_integral: calculate_elasto_integral successful: pos=199.937, neg=56.246, abs=256.184, ratio=3.555\n",
      "2025-08-26 15:36:41 [\u001B[92mINFO\u001B[0m] treeqinetic.classes.oscillation.calculate_elasto_integral: calculate_elasto_integral successful: pos=190.304, neg=58.365, abs=248.670, ratio=3.261\n",
      "2025-08-26 15:36:41 [\u001B[92mINFO\u001B[0m] treeqinetic.classes.oscillation.calculate_elasto_integral: calculate_elasto_integral successful: pos=219.754, neg=185.163, abs=404.917, ratio=1.187\n",
      "2025-08-26 15:36:41 [\u001B[92mINFO\u001B[0m] treeqinetic.classes.oscillation.calculate_elasto_integral: calculate_elasto_integral successful: pos=468.661, neg=217.565, abs=686.226, ratio=2.154\n",
      "2025-08-26 15:36:42 [\u001B[92mINFO\u001B[0m] treeqinetic.classes.oscillation.calculate_elasto_integral: calculate_elasto_integral successful: pos=206.839, neg=54.542, abs=261.381, ratio=3.792\n",
      "2025-08-26 15:36:42 [\u001B[92mINFO\u001B[0m] treeqinetic.classes.oscillation.calculate_elasto_integral: calculate_elasto_integral successful: pos=185.745, neg=191.329, abs=377.074, ratio=0.971\n",
      "2025-08-26 15:36:42 [\u001B[92mINFO\u001B[0m] treeqinetic.classes.oscillation.calculate_elasto_integral: calculate_elasto_integral successful: pos=164.536, neg=417.978, abs=582.514, ratio=0.394\n",
      "2025-08-26 15:36:42 [\u001B[92mINFO\u001B[0m] treeqinetic.classes.oscillation.calculate_elasto_integral: calculate_elasto_integral successful: pos=357.140, neg=232.651, abs=589.791, ratio=1.535\n",
      "2025-08-26 15:36:43 [\u001B[92mINFO\u001B[0m] treeqinetic.classes.oscillation.calculate_elasto_integral: calculate_elasto_integral successful: pos=212.254, neg=73.918, abs=286.172, ratio=2.871\n",
      "2025-08-26 15:36:43 [\u001B[92mINFO\u001B[0m] treeqinetic.classes.oscillation.calculate_elasto_integral: calculate_elasto_integral successful: pos=187.746, neg=150.094, abs=337.840, ratio=1.251\n",
      "2025-08-26 15:36:43 [\u001B[92mINFO\u001B[0m] treeqinetic.classes.oscillation.calculate_elasto_integral: calculate_elasto_integral successful: pos=255.003, neg=341.065, abs=596.068, ratio=0.748\n",
      "2025-08-26 15:36:44 [\u001B[92mINFO\u001B[0m] treeqinetic.classes.oscillation.calculate_elasto_integral: calculate_elasto_integral successful: pos=181.611, neg=244.894, abs=426.505, ratio=0.742\n",
      "2025-08-26 15:36:44 [\u001B[92mINFO\u001B[0m] treeqinetic.classes.oscillation.calculate_elasto_integral: calculate_elasto_integral successful: pos=98.069, neg=95.466, abs=193.534, ratio=1.027\n",
      "2025-08-26 15:36:44 [\u001B[92mINFO\u001B[0m] treeqinetic.classes.oscillation.calculate_elasto_integral: calculate_elasto_integral successful: pos=161.970, neg=46.653, abs=208.623, ratio=3.472\n",
      "2025-08-26 15:36:44 [\u001B[92mINFO\u001B[0m] treeqinetic.classes.oscillation.calculate_elasto_integral: calculate_elasto_integral successful: pos=236.725, neg=151.000, abs=387.725, ratio=1.568\n",
      "2025-08-26 15:36:45 [\u001B[92mINFO\u001B[0m] treeqinetic.classes.oscillation.calculate_elasto_integral: calculate_elasto_integral successful: pos=324.547, neg=253.028, abs=577.575, ratio=1.283\n",
      "2025-08-26 15:36:45 [\u001B[92mINFO\u001B[0m] treeqinetic.classes.oscillation.calculate_elasto_integral: calculate_elasto_integral successful: pos=178.481, neg=77.198, abs=255.679, ratio=2.312\n",
      "2025-08-26 15:36:45 [\u001B[92mINFO\u001B[0m] treeqinetic.classes.oscillation.calculate_elasto_integral: calculate_elasto_integral successful: pos=169.654, neg=84.041, abs=253.695, ratio=2.019\n",
      "2025-08-26 15:36:45 [\u001B[92mINFO\u001B[0m] treeqinetic.classes.oscillation.calculate_elasto_integral: calculate_elasto_integral successful: pos=251.264, neg=227.992, abs=479.256, ratio=1.102\n",
      "2025-08-26 15:36:46 [\u001B[92mINFO\u001B[0m] treeqinetic.classes.oscillation.calculate_elasto_integral: calculate_elasto_integral successful: pos=282.315, neg=280.031, abs=562.346, ratio=1.008\n",
      "2025-08-26 15:36:46 [\u001B[92mINFO\u001B[0m] treeqinetic.classes.oscillation.calculate_elasto_integral: calculate_elasto_integral successful: pos=155.737, neg=100.721, abs=256.459, ratio=1.546\n",
      "2025-08-26 15:36:46 [\u001B[92mINFO\u001B[0m] treeqinetic.classes.oscillation.calculate_elasto_integral: calculate_elasto_integral successful: pos=181.899, neg=72.058, abs=253.957, ratio=2.524\n",
      "2025-08-26 15:36:47 [\u001B[92mINFO\u001B[0m] treeqinetic.classes.oscillation.calculate_elasto_integral: calculate_elasto_integral successful: pos=266.096, neg=198.084, abs=464.180, ratio=1.343\n",
      "2025-08-26 15:36:47 [\u001B[92mINFO\u001B[0m] treeqinetic.classes.oscillation.calculate_elasto_integral: calculate_elasto_integral successful: pos=319.279, neg=214.572, abs=533.851, ratio=1.488\n",
      "2025-08-26 15:36:47 [\u001B[92mINFO\u001B[0m] treeqinetic.classes.oscillation.calculate_elasto_integral: calculate_elasto_integral successful: pos=175.990, neg=60.759, abs=236.749, ratio=2.897\n",
      "2025-08-26 15:36:48 [\u001B[92mINFO\u001B[0m] treeqinetic.classes.oscillation.calculate_elasto_integral: calculate_elasto_integral successful: pos=135.988, neg=108.009, abs=243.997, ratio=1.259\n",
      "2025-08-26 15:36:48 [\u001B[92mINFO\u001B[0m] treeqinetic.classes.oscillation.calculate_elasto_integral: calculate_elasto_integral successful: pos=193.775, neg=246.083, abs=439.858, ratio=0.787\n",
      "2025-08-26 15:36:48 [\u001B[92mINFO\u001B[0m] treeqinetic.classes.oscillation.calculate_elasto_integral: calculate_elasto_integral successful: pos=339.987, neg=206.838, abs=546.825, ratio=1.644\n",
      "2025-08-26 15:36:49 [\u001B[92mINFO\u001B[0m] treeqinetic.classes.oscillation.calculate_elasto_integral: calculate_elasto_integral successful: pos=188.744, neg=59.481, abs=248.225, ratio=3.173\n",
      "2025-08-26 15:36:49 [\u001B[92mINFO\u001B[0m] treeqinetic.classes.oscillation.calculate_elasto_integral: calculate_elasto_integral successful: pos=133.297, neg=138.982, abs=272.279, ratio=0.959\n",
      "2025-08-26 15:36:49 [\u001B[92mINFO\u001B[0m] treeqinetic.classes.oscillation.calculate_elasto_integral: calculate_elasto_integral successful: pos=182.008, neg=306.560, abs=488.569, ratio=0.594\n",
      "2025-08-26 15:36:49 [\u001B[92mINFO\u001B[0m] treeqinetic.classes.oscillation.calculate_elasto_integral: calculate_elasto_integral successful: pos=205.270, neg=201.801, abs=407.071, ratio=1.017\n",
      "2025-08-26 15:36:50 [\u001B[92mINFO\u001B[0m] treeqinetic.classes.oscillation.calculate_elasto_integral: calculate_elasto_integral successful: pos=113.945, neg=71.012, abs=184.957, ratio=1.605\n",
      "2025-08-26 15:36:50 [\u001B[92mINFO\u001B[0m] treeqinetic.classes.oscillation.calculate_elasto_integral: calculate_elasto_integral successful: pos=135.592, neg=84.604, abs=220.195, ratio=1.603\n",
      "2025-08-26 15:36:50 [\u001B[92mINFO\u001B[0m] treeqinetic.classes.oscillation.calculate_elasto_integral: calculate_elasto_integral successful: pos=195.736, neg=181.898, abs=377.634, ratio=1.076\n",
      "2025-08-26 15:36:51 [\u001B[92mINFO\u001B[0m] treeqinetic.classes.oscillation.calculate_elasto_integral: calculate_elasto_integral successful: pos=290.727, neg=162.738, abs=453.465, ratio=1.786\n",
      "2025-08-26 15:36:51 [\u001B[92mINFO\u001B[0m] treeqinetic.classes.oscillation.calculate_elasto_integral: calculate_elasto_integral successful: pos=185.203, neg=35.864, abs=221.067, ratio=5.164\n",
      "2025-08-26 15:36:51 [\u001B[92mINFO\u001B[0m] treeqinetic.classes.oscillation.calculate_elasto_integral: calculate_elasto_integral successful: pos=111.764, neg=53.143, abs=164.907, ratio=2.103\n",
      "2025-08-26 15:36:54 [\u001B[92mINFO\u001B[0m] treeqinetic.classes.oscillation.calculate_elasto_integral: calculate_elasto_integral successful: pos=183.388, neg=169.474, abs=352.862, ratio=1.082\n",
      "2025-08-26 15:36:54 [\u001B[92mINFO\u001B[0m] treeqinetic.classes.oscillation.calculate_elasto_integral: calculate_elasto_integral successful: pos=270.392, neg=170.731, abs=441.123, ratio=1.584\n",
      "2025-08-26 15:36:55 [\u001B[92mINFO\u001B[0m] treeqinetic.classes.oscillation.calculate_elasto_integral: calculate_elasto_integral successful: pos=99.077, neg=11.334, abs=110.412, ratio=8.741\n",
      "2025-08-26 15:36:55 [\u001B[92mINFO\u001B[0m] treeqinetic.classes.oscillation.calculate_elasto_integral: calculate_elasto_integral successful: pos=94.045, neg=48.186, abs=142.231, ratio=1.952\n",
      "2025-08-26 15:36:56 [\u001B[92mINFO\u001B[0m] treeqinetic.classes.oscillation.calculate_elasto_integral: calculate_elasto_integral successful: pos=119.876, neg=195.957, abs=315.833, ratio=0.612\n",
      "2025-08-26 15:36:56 [\u001B[92mINFO\u001B[0m] treeqinetic.classes.oscillation.calculate_elasto_integral: calculate_elasto_integral successful: pos=282.138, neg=145.997, abs=428.135, ratio=1.932\n",
      "2025-08-26 15:36:57 [\u001B[92mINFO\u001B[0m] treeqinetic.classes.oscillation.calculate_elasto_integral: calculate_elasto_integral successful: pos=117.106, neg=33.466, abs=150.572, ratio=3.499\n",
      "2025-08-26 15:36:57 [\u001B[92mINFO\u001B[0m] treeqinetic.classes.oscillation.calculate_elasto_integral: calculate_elasto_integral successful: pos=129.636, neg=21.265, abs=150.901, ratio=6.096\n",
      "2025-08-26 15:36:58 [\u001B[92mINFO\u001B[0m] treeqinetic.classes.oscillation.calculate_elasto_integral: calculate_elasto_integral successful: pos=180.584, neg=132.489, abs=313.073, ratio=1.363\n",
      "2025-08-26 15:36:58 [\u001B[92mINFO\u001B[0m] treeqinetic.classes.oscillation.calculate_elasto_integral: calculate_elasto_integral successful: pos=261.144, neg=207.426, abs=468.570, ratio=1.259\n",
      "2025-08-26 15:36:58 [\u001B[92mINFO\u001B[0m] treeqinetic.classes.oscillation.calculate_elasto_integral: calculate_elasto_integral successful: pos=43.023, neg=70.193, abs=113.216, ratio=0.613\n",
      "2025-08-26 15:36:58 [\u001B[92mINFO\u001B[0m] treeqinetic.classes.oscillation.calculate_elasto_integral: calculate_elasto_integral successful: pos=218.500, neg=14.735, abs=233.235, ratio=14.829\n",
      "2025-08-26 15:36:59 [\u001B[92mINFO\u001B[0m] treeqinetic.classes.oscillation.calculate_elasto_integral: calculate_elasto_integral successful: pos=202.270, neg=109.282, abs=311.552, ratio=1.851\n",
      "2025-08-26 15:36:59 [\u001B[92mINFO\u001B[0m] treeqinetic.classes.oscillation.calculate_elasto_integral: calculate_elasto_integral successful: pos=188.945, neg=163.664, abs=352.609, ratio=1.154\n",
      "2025-08-26 15:36:59 [\u001B[92mINFO\u001B[0m] treeqinetic.classes.oscillation.calculate_elasto_integral: calculate_elasto_integral successful: pos=83.986, neg=18.852, abs=102.838, ratio=4.455\n",
      "2025-08-26 15:37:00 [\u001B[92mINFO\u001B[0m] treeqinetic.classes.oscillation.calculate_elasto_integral: calculate_elasto_integral successful: pos=88.963, neg=21.493, abs=110.456, ratio=4.139\n",
      "2025-08-26 15:37:00 [\u001B[92mINFO\u001B[0m] treeqinetic.classes.oscillation.calculate_elasto_integral: calculate_elasto_integral successful: pos=155.682, neg=136.600, abs=292.282, ratio=1.140\n",
      "2025-08-26 15:37:00 [\u001B[92mINFO\u001B[0m] treeqinetic.classes.oscillation.calculate_elasto_integral: calculate_elasto_integral successful: pos=266.309, neg=185.287, abs=451.596, ratio=1.437\n",
      "2025-08-26 15:37:01 [\u001B[92mINFO\u001B[0m] treeqinetic.classes.oscillation.calculate_elasto_integral: calculate_elasto_integral successful: pos=77.428, neg=30.341, abs=107.770, ratio=2.552\n",
      "2025-08-26 15:37:01 [\u001B[92mINFO\u001B[0m] treeqinetic.classes.oscillation.calculate_elasto_integral: calculate_elasto_integral successful: pos=114.046, neg=21.214, abs=135.260, ratio=5.376\n",
      "2025-08-26 15:37:02 [\u001B[92mINFO\u001B[0m] treeqinetic.classes.oscillation.calculate_elasto_integral: calculate_elasto_integral successful: pos=173.757, neg=144.645, abs=318.401, ratio=1.201\n",
      "2025-08-26 15:37:03 [\u001B[92mINFO\u001B[0m] treeqinetic.classes.oscillation.calculate_elasto_integral: calculate_elasto_integral successful: pos=206.673, neg=152.825, abs=359.498, ratio=1.352\n",
      "2025-08-26 15:37:03 [\u001B[92mINFO\u001B[0m] treeqinetic.classes.oscillation.calculate_elasto_integral: calculate_elasto_integral successful: pos=102.058, neg=24.584, abs=126.642, ratio=4.151\n",
      "2025-08-26 15:37:04 [\u001B[92mINFO\u001B[0m] treeqinetic.classes.oscillation.calculate_elasto_integral: calculate_elasto_integral successful: pos=91.741, neg=41.051, abs=132.792, ratio=2.235\n",
      "2025-08-26 15:37:04 [\u001B[92mINFO\u001B[0m] treeqinetic.classes.oscillation.calculate_elasto_integral: calculate_elasto_integral successful: pos=146.961, neg=167.296, abs=314.257, ratio=0.878\n",
      "2025-08-26 15:37:05 [\u001B[92mINFO\u001B[0m] treeqinetic.classes.oscillation.calculate_elasto_integral: calculate_elasto_integral successful: pos=254.483, neg=134.523, abs=389.006, ratio=1.892\n",
      "2025-08-26 15:37:05 [\u001B[92mINFO\u001B[0m] treeqinetic.classes.oscillation.calculate_elasto_integral: calculate_elasto_integral successful: pos=74.020, neg=40.191, abs=114.211, ratio=1.842\n",
      "2025-08-26 15:37:06 [\u001B[92mINFO\u001B[0m] treeqinetic.classes.oscillation.calculate_elasto_integral: calculate_elasto_integral successful: pos=85.028, neg=23.352, abs=108.380, ratio=3.641\n",
      "2025-08-26 15:37:06 [\u001B[92mINFO\u001B[0m] treeqinetic.classes.oscillation.calculate_elasto_integral: calculate_elasto_integral successful: pos=193.222, neg=122.024, abs=315.246, ratio=1.583\n",
      "2025-08-26 15:37:07 [\u001B[92mINFO\u001B[0m] treeqinetic.classes.oscillation.calculate_elasto_integral: calculate_elasto_integral successful: pos=208.939, neg=170.590, abs=379.529, ratio=1.225\n",
      "2025-08-26 15:37:07 [\u001B[92mINFO\u001B[0m] treeqinetic.classes.oscillation.calculate_elasto_integral: calculate_elasto_integral successful: pos=43.616, neg=22.816, abs=66.432, ratio=1.912\n",
      "2025-08-26 15:37:08 [\u001B[92mINFO\u001B[0m] treeqinetic.classes.oscillation.calculate_elasto_integral: calculate_elasto_integral successful: pos=103.057, neg=15.977, abs=119.033, ratio=6.450\n",
      "2025-08-26 15:37:08 [\u001B[92mINFO\u001B[0m] treeqinetic.classes.oscillation.calculate_elasto_integral: calculate_elasto_integral successful: pos=168.197, neg=131.386, abs=299.582, ratio=1.280\n",
      "2025-08-26 15:37:09 [\u001B[92mINFO\u001B[0m] treeqinetic.classes.oscillation.calculate_elasto_integral: calculate_elasto_integral successful: pos=418.627, neg=156.175, abs=574.802, ratio=2.681\n",
      "2025-08-26 15:37:10 [\u001B[92mINFO\u001B[0m] treeqinetic.classes.oscillation.calculate_elasto_integral: calculate_elasto_integral successful: pos=231.919, neg=54.124, abs=286.042, ratio=4.285\n",
      "2025-08-26 15:37:10 [\u001B[92mINFO\u001B[0m] treeqinetic.classes.oscillation.calculate_elasto_integral: calculate_elasto_integral successful: pos=208.083, neg=62.501, abs=270.583, ratio=3.329\n",
      "2025-08-26 15:37:11 [\u001B[92mINFO\u001B[0m] treeqinetic.classes.oscillation.calculate_elasto_integral: calculate_elasto_integral successful: pos=212.350, neg=211.411, abs=423.761, ratio=1.004\n"
     ]
    }
   ],
   "source": [
    "for oscillation in ptq_oscillations_ls:\n",
    "    oscillation.calculate_elasto_integral(interpolate = True, sample_rate = 50.0, last_frac = 0.50, plot=True)"
   ],
   "metadata": {
    "collapsed": false,
    "ExecuteTime": {
     "end_time": "2025-08-26T13:37:11.571165700Z",
     "start_time": "2025-08-26T13:36:26.902664300Z"
    }
   }
  },
  {
   "cell_type": "markdown",
   "source": [
    "### Anpassen der harmonisch gedämpften Schwingung\n",
    "\n",
    "Aus der PTQ-Messreihe 'ptq_series' wird über `get_oscillations_list` für alle Messungen, getrennt für jeden Sensor (Elastometer), die `Oscillation`-Instanz in eine Liste zusammengeführt. Entsprechend gibt es für jede PTQ-Messung 4 `Oscillation`-Instanzen (für die 4 Elastometer).\n",
    "\n",
    "`oscillation.fit` passt alle Schwingungsdaten mit einer allgemeinen Funktion für harmonisch gedämpfte Schwingungen an:\n",
    "\\[\n",
    "y(t) = A \\cdot e^{-\\delta t} \\cdot \\cos(\\omega_d \\cdot t + \\phi) + y_0\n",
    "\\]\n",
    "\n",
    "#### Parameterbeschreibung:\n",
    "- `A` (Anfangsamplitude): Der Anfangswert der Amplitude der Schwingung. Dieser Parameter bestimmt die initiale Höhe der Schwingungsamplitude.\n",
    "- `δ` (Dämpfungskoeffizient): Dieser Wert bestimmt, wie schnell die Amplitude der Schwingung mit der Zeit abnimmt. Ein höherer Wert führt zu einer schnelleren Dämpfung der Schwingung.\n",
    "- `ω_d` (gedämpfte Kreisfrequenz): Die Frequenz der gedämpften Schwingung in Radiant pro Sekunde. Dieser Parameter bestimmt, wie schnell die Schwingung oszilliert.\n",
    "- `φ` (Phasenwinkel): Der Anfangsphasenwinkel der Schwingung. Dieser Wert bestimmt den Startpunkt der Schwingung im Schwingungszyklus.\n",
    "- `y_0` (Vertikale Verschiebung): Dieser Parameter verschiebt die gesamte Schwingungskurve vertikal und ermöglicht es, die Schwingung an die mittlere Position der Daten anzupassen.\n",
    "- `t_0` (Horizontale Verschiebung): Dieser Parameter verschiebt die gesamte Schwingungskurve horizontal über die Zeit und ermöglicht es, die Schwingung an den spezifischen Startpunkt der gemessenen Schwingung anzupassen.\n",
    "\n",
    "(siehe `ptq/analyse/fitting_function.py`)\n",
    "\n",
    "#### Zusätzliche Parameter und Konfigurationen:\n",
    "- **Startwerte und Grenzwerte:** Für die Optimierung der Parameter in `scipy.curve_fit` werden Startwerte und Grenzwerte für jeden Parameter übergeben (in `ptq/config.py` definiert).\n",
    "- **Qualitätsmetriken:** Zur Bewertung der Anpassungsgüte werden Metriken wie MAE (mittlerer absoluter Fehler), RMSE (Root Mean Square Error), und \\( R^2 \\) (Bestimmtheitsmaß) berechnet. Zusätzlich werden normalisierte Varianten (NRMSE und NMAE) zur besseren Vergleichbarkeit verwendet.\n",
    "- **Warnungen bei Überschreitung der Grenzwerte:** Wenn die für eine Metrik definierten Grenzwerte überschritten werden, wird eine Warnung im Log-Protokoll vermerkt, um auf mögliche Probleme bei der Anpassung hinzuweisen (in `ptq/config.py` definiert). Auf Basis dieser Warnung können:\n",
    "  - Start- und Grenzwerte sowie die Methodik angepasst werden.\n",
    "  - Betroffene Datensätze später ausgeschlossen werden, um fehlerhafte Anpassungen zu vermeiden.\n",
    "- **Interpolation:** Diese Option aktiviert die Interpolation der Datenpunkte, um eine ausreichende Dichte für `curve_fit` zu gewährleisten. Hierbei wird `scipy.interpolate.PchipInterpolator` verwendet, um Über- und Unterschwingungen, die nicht in den Originaldaten vorhanden sind, zu vermeiden. Nach optischer Prüfung zeigte diese Methode die besten Ergebnisse.\n",
    "\n",
    "#### Visualisierungsoptionen:\n",
    "- **Plot:** Wenn auf `True` gesetzt, wird für jede Oscillation ein Plot der angepassten Funktion zusammen mit den Originaldaten erstellt und in `working_dir/PTQ/plots/` gespeichert.\n",
    "- **Plot-Fehlerverteilung:** Wenn `plot_error` auf `True` gesetzt ist, wird ein Histogramm der Fehlerverteilung (Residuen) für jeden Fit erstellt und ebenfalls in `working_dir/PTQ/plots/` gespeichert."
   ],
   "metadata": {
    "collapsed": false
   }
  },
  {
   "cell_type": "code",
   "execution_count": 18,
   "metadata": {
    "collapsed": false,
    "ExecuteTime": {
     "end_time": "2025-08-26T13:39:08.717159200Z",
     "start_time": "2025-08-26T13:37:11.589320400Z"
    }
   },
   "outputs": [
    {
     "name": "stderr",
     "output_type": "stream",
     "text": [
      "2025-08-26 15:37:11 [\u001B[92mINFO\u001B[0m] treeqinetic.classes.oscillation.fit: fit for measurement: 'Oscillation: 'PTQ_Meas_100346.txt', ID: 1, Sensor: Elasto(90)'' successful.\n",
      "2025-08-26 15:37:13 [\u001B[92mINFO\u001B[0m] treeqinetic.classes.oscillation.fit: fit for measurement: 'Oscillation: 'PTQ_Meas_100346.txt', ID: 1, Sensor: Elasto(92)'' successful.\n",
      "2025-08-26 15:37:14 [\u001B[92mINFO\u001B[0m] treeqinetic.classes.oscillation.fit: fit for measurement: 'Oscillation: 'PTQ_Meas_100346.txt', ID: 1, Sensor: Elasto(95)'' successful.\n",
      "2025-08-26 15:37:16 [\u001B[92mINFO\u001B[0m] treeqinetic.classes.oscillation.fit: fit for measurement: 'Oscillation: 'PTQ_Meas_100346.txt', ID: 1, Sensor: Elasto(98)'' successful.\n",
      "2025-08-26 15:37:17 [\u001B[92mINFO\u001B[0m] treeqinetic.classes.oscillation.fit: fit for measurement: 'Oscillation: 'PTQ_Meas_101814.txt', ID: 2, Sensor: Elasto(90)'' successful.\n",
      "2025-08-26 15:37:19 [\u001B[92mINFO\u001B[0m] treeqinetic.classes.oscillation.fit: fit for measurement: 'Oscillation: 'PTQ_Meas_101814.txt', ID: 2, Sensor: Elasto(92)'' successful.\n",
      "2025-08-26 15:37:20 [\u001B[92mINFO\u001B[0m] treeqinetic.classes.oscillation.fit: fit for measurement: 'Oscillation: 'PTQ_Meas_101814.txt', ID: 2, Sensor: Elasto(95)'' successful.\n",
      "2025-08-26 15:37:22 [\u001B[92mINFO\u001B[0m] treeqinetic.classes.oscillation.fit: fit for measurement: 'Oscillation: 'PTQ_Meas_101814.txt', ID: 2, Sensor: Elasto(98)'' successful.\n",
      "2025-08-26 15:37:23 [\u001B[92mINFO\u001B[0m] treeqinetic.classes.oscillation.fit: fit for measurement: 'Oscillation: 'PTQ_Meas_102314.txt', ID: 3, Sensor: Elasto(90)'' successful.\n",
      "2025-08-26 15:37:24 [\u001B[92mINFO\u001B[0m] treeqinetic.classes.oscillation.fit: fit for measurement: 'Oscillation: 'PTQ_Meas_102314.txt', ID: 3, Sensor: Elasto(92)'' successful.\n",
      "2025-08-26 15:37:25 [\u001B[92mINFO\u001B[0m] treeqinetic.classes.oscillation.fit: fit for measurement: 'Oscillation: 'PTQ_Meas_102314.txt', ID: 3, Sensor: Elasto(95)'' successful.\n",
      "2025-08-26 15:37:27 [\u001B[92mINFO\u001B[0m] treeqinetic.classes.oscillation.fit: fit for measurement: 'Oscillation: 'PTQ_Meas_102314.txt', ID: 3, Sensor: Elasto(98)'' successful.\n",
      "2025-08-26 15:37:28 [\u001B[92mINFO\u001B[0m] treeqinetic.classes.oscillation.fit: fit for measurement: 'Oscillation: 'PTQ_Meas_104400.txt', ID: 4, Sensor: Elasto(90)'' successful.\n",
      "2025-08-26 15:37:29 [\u001B[92mINFO\u001B[0m] treeqinetic.classes.oscillation.fit: fit for measurement: 'Oscillation: 'PTQ_Meas_104400.txt', ID: 4, Sensor: Elasto(92)'' successful.\n",
      "2025-08-26 15:37:30 [\u001B[92mINFO\u001B[0m] treeqinetic.classes.oscillation.fit: fit for measurement: 'Oscillation: 'PTQ_Meas_104400.txt', ID: 4, Sensor: Elasto(95)'' successful.\n",
      "2025-08-26 15:37:32 [\u001B[92mINFO\u001B[0m] treeqinetic.classes.oscillation.fit: fit for measurement: 'Oscillation: 'PTQ_Meas_104400.txt', ID: 4, Sensor: Elasto(98)'' successful.\n",
      "2025-08-26 15:37:34 [\u001B[92mINFO\u001B[0m] treeqinetic.classes.oscillation.fit: fit for measurement: 'Oscillation: 'PTQ_Meas_105549.txt', ID: 5, Sensor: Elasto(90)'' successful.\n",
      "2025-08-26 15:37:35 [\u001B[92mINFO\u001B[0m] treeqinetic.classes.oscillation.fit: fit for measurement: 'Oscillation: 'PTQ_Meas_105549.txt', ID: 5, Sensor: Elasto(92)'' successful.\n",
      "2025-08-26 15:37:37 [\u001B[92mINFO\u001B[0m] treeqinetic.classes.oscillation.fit: fit for measurement: 'Oscillation: 'PTQ_Meas_105549.txt', ID: 5, Sensor: Elasto(95)'' successful.\n",
      "2025-08-26 15:37:39 [\u001B[92mINFO\u001B[0m] treeqinetic.classes.oscillation.fit: fit for measurement: 'Oscillation: 'PTQ_Meas_105549.txt', ID: 5, Sensor: Elasto(98)'' successful.\n",
      "2025-08-26 15:37:40 [\u001B[92mINFO\u001B[0m] treeqinetic.classes.oscillation.fit: fit for measurement: 'Oscillation: 'PTQ_Meas_110107.txt', ID: 6, Sensor: Elasto(90)'' successful.\n",
      "2025-08-26 15:37:42 [\u001B[92mINFO\u001B[0m] treeqinetic.classes.oscillation.fit: fit for measurement: 'Oscillation: 'PTQ_Meas_110107.txt', ID: 6, Sensor: Elasto(92)'' successful.\n",
      "2025-08-26 15:37:44 [\u001B[92mINFO\u001B[0m] treeqinetic.classes.oscillation.fit: fit for measurement: 'Oscillation: 'PTQ_Meas_110107.txt', ID: 6, Sensor: Elasto(95)'' successful.\n",
      "2025-08-26 15:37:46 [\u001B[92mINFO\u001B[0m] treeqinetic.classes.oscillation.fit: fit for measurement: 'Oscillation: 'PTQ_Meas_110107.txt', ID: 6, Sensor: Elasto(98)'' successful.\n",
      "2025-08-26 15:37:47 [\u001B[92mINFO\u001B[0m] treeqinetic.classes.oscillation.fit: fit for measurement: 'Oscillation: 'PTQ_Meas_110558.txt', ID: 7, Sensor: Elasto(90)'' successful.\n",
      "2025-08-26 15:37:49 [\u001B[92mINFO\u001B[0m] treeqinetic.classes.oscillation.fit: fit for measurement: 'Oscillation: 'PTQ_Meas_110558.txt', ID: 7, Sensor: Elasto(92)'' successful.\n",
      "2025-08-26 15:37:50 [\u001B[92mINFO\u001B[0m] treeqinetic.classes.oscillation.fit: fit for measurement: 'Oscillation: 'PTQ_Meas_110558.txt', ID: 7, Sensor: Elasto(95)'' successful.\n",
      "2025-08-26 15:37:51 [\u001B[92mINFO\u001B[0m] treeqinetic.classes.oscillation.fit: fit for measurement: 'Oscillation: 'PTQ_Meas_110558.txt', ID: 7, Sensor: Elasto(98)'' successful.\n",
      "2025-08-26 15:37:51 [\u001B[92mINFO\u001B[0m] treeqinetic.classes.oscillation.fit: fit for measurement: 'Oscillation: 'PTQ_Meas_111019.txt', ID: 8, Sensor: Elasto(90)'' successful.\n",
      "2025-08-26 15:37:52 [\u001B[92mINFO\u001B[0m] treeqinetic.classes.oscillation.fit: fit for measurement: 'Oscillation: 'PTQ_Meas_111019.txt', ID: 8, Sensor: Elasto(92)'' successful.\n",
      "2025-08-26 15:37:53 [\u001B[92mINFO\u001B[0m] treeqinetic.classes.oscillation.fit: fit for measurement: 'Oscillation: 'PTQ_Meas_111019.txt', ID: 8, Sensor: Elasto(95)'' successful.\n",
      "2025-08-26 15:37:53 [\u001B[92mINFO\u001B[0m] treeqinetic.classes.oscillation.fit: fit for measurement: 'Oscillation: 'PTQ_Meas_111019.txt', ID: 8, Sensor: Elasto(98)'' successful.\n",
      "2025-08-26 15:37:54 [\u001B[92mINFO\u001B[0m] treeqinetic.classes.oscillation.fit: fit for measurement: 'Oscillation: 'PTQ_Meas_111713.txt', ID: 9, Sensor: Elasto(90)'' successful.\n",
      "2025-08-26 15:37:55 [\u001B[92mINFO\u001B[0m] treeqinetic.classes.oscillation.fit: fit for measurement: 'Oscillation: 'PTQ_Meas_111713.txt', ID: 9, Sensor: Elasto(92)'' successful.\n",
      "2025-08-26 15:37:56 [\u001B[92mINFO\u001B[0m] treeqinetic.classes.oscillation.fit: fit for measurement: 'Oscillation: 'PTQ_Meas_111713.txt', ID: 9, Sensor: Elasto(95)'' successful.\n",
      "2025-08-26 15:37:56 [\u001B[92mINFO\u001B[0m] treeqinetic.classes.oscillation.fit: fit for measurement: 'Oscillation: 'PTQ_Meas_111713.txt', ID: 9, Sensor: Elasto(98)'' successful.\n",
      "2025-08-26 15:37:57 [\u001B[92mINFO\u001B[0m] treeqinetic.classes.oscillation.fit: fit for measurement: 'Oscillation: 'PTQ_Meas_112120.txt', ID: 10, Sensor: Elasto(90)'' successful.\n",
      "2025-08-26 15:37:58 [\u001B[92mINFO\u001B[0m] treeqinetic.classes.oscillation.fit: fit for measurement: 'Oscillation: 'PTQ_Meas_112120.txt', ID: 10, Sensor: Elasto(92)'' successful.\n",
      "2025-08-26 15:37:59 [\u001B[92mINFO\u001B[0m] treeqinetic.classes.oscillation.fit: fit for measurement: 'Oscillation: 'PTQ_Meas_112120.txt', ID: 10, Sensor: Elasto(95)'' successful.\n",
      "2025-08-26 15:37:59 [\u001B[92mINFO\u001B[0m] treeqinetic.classes.oscillation.fit: fit for measurement: 'Oscillation: 'PTQ_Meas_112120.txt', ID: 10, Sensor: Elasto(98)'' successful.\n",
      "2025-08-26 15:38:01 [\u001B[92mINFO\u001B[0m] treeqinetic.classes.oscillation.fit: fit for measurement: 'Oscillation: 'PTQ_Meas_133316.txt', ID: 11, Sensor: Elasto(90)'' successful.\n",
      "2025-08-26 15:38:02 [\u001B[92mINFO\u001B[0m] treeqinetic.classes.oscillation.fit: fit for measurement: 'Oscillation: 'PTQ_Meas_133316.txt', ID: 11, Sensor: Elasto(92)'' successful.\n",
      "2025-08-26 15:38:03 [\u001B[92mINFO\u001B[0m] treeqinetic.classes.oscillation.fit: fit for measurement: 'Oscillation: 'PTQ_Meas_133316.txt', ID: 11, Sensor: Elasto(95)'' successful.\n",
      "2025-08-26 15:38:04 [\u001B[92mINFO\u001B[0m] treeqinetic.classes.oscillation.fit: fit for measurement: 'Oscillation: 'PTQ_Meas_133316.txt', ID: 11, Sensor: Elasto(98)'' successful.\n",
      "2025-08-26 15:38:05 [\u001B[92mINFO\u001B[0m] treeqinetic.classes.oscillation.fit: fit for measurement: 'Oscillation: 'PTQ_Meas_134053.txt', ID: 12, Sensor: Elasto(90)'' successful.\n",
      "2025-08-26 15:38:05 [\u001B[92mINFO\u001B[0m] treeqinetic.classes.oscillation.fit: fit for measurement: 'Oscillation: 'PTQ_Meas_134053.txt', ID: 12, Sensor: Elasto(92)'' successful.\n",
      "2025-08-26 15:38:06 [\u001B[92mINFO\u001B[0m] treeqinetic.classes.oscillation.fit: fit for measurement: 'Oscillation: 'PTQ_Meas_134053.txt', ID: 12, Sensor: Elasto(95)'' successful.\n",
      "2025-08-26 15:38:07 [\u001B[92mINFO\u001B[0m] treeqinetic.classes.oscillation.fit: fit for measurement: 'Oscillation: 'PTQ_Meas_134053.txt', ID: 12, Sensor: Elasto(98)'' successful.\n",
      "2025-08-26 15:38:08 [\u001B[92mINFO\u001B[0m] treeqinetic.classes.oscillation.fit: fit for measurement: 'Oscillation: 'PTQ_Meas_134807.txt', ID: 13, Sensor: Elasto(90)'' successful.\n",
      "2025-08-26 15:38:08 [\u001B[92mINFO\u001B[0m] treeqinetic.classes.oscillation.fit: fit for measurement: 'Oscillation: 'PTQ_Meas_134807.txt', ID: 13, Sensor: Elasto(92)'' successful.\n",
      "2025-08-26 15:38:09 [\u001B[92mINFO\u001B[0m] treeqinetic.classes.oscillation.fit: fit for measurement: 'Oscillation: 'PTQ_Meas_134807.txt', ID: 13, Sensor: Elasto(95)'' successful.\n",
      "2025-08-26 15:38:10 [\u001B[92mINFO\u001B[0m] treeqinetic.classes.oscillation.fit: fit for measurement: 'Oscillation: 'PTQ_Meas_134807.txt', ID: 13, Sensor: Elasto(98)'' successful.\n",
      "2025-08-26 15:38:10 [\u001B[92mINFO\u001B[0m] treeqinetic.classes.oscillation.fit: fit for measurement: 'Oscillation: 'PTQ_Meas_135705.txt', ID: 14, Sensor: Elasto(90)'' successful.\n",
      "2025-08-26 15:38:11 [\u001B[92mINFO\u001B[0m] treeqinetic.classes.oscillation.fit: fit for measurement: 'Oscillation: 'PTQ_Meas_135705.txt', ID: 14, Sensor: Elasto(92)'' successful.\n",
      "2025-08-26 15:38:12 [\u001B[92mINFO\u001B[0m] treeqinetic.classes.oscillation.fit: fit for measurement: 'Oscillation: 'PTQ_Meas_135705.txt', ID: 14, Sensor: Elasto(95)'' successful.\n",
      "2025-08-26 15:38:13 [\u001B[92mINFO\u001B[0m] treeqinetic.classes.oscillation.fit: fit for measurement: 'Oscillation: 'PTQ_Meas_135705.txt', ID: 14, Sensor: Elasto(98)'' successful.\n",
      "2025-08-26 15:38:16 [\u001B[92mINFO\u001B[0m] treeqinetic.classes.oscillation.fit: fit for measurement: 'Oscillation: 'PTQ_Meas_140149.txt', ID: 15, Sensor: Elasto(90)'' successful.\n",
      "2025-08-26 15:38:18 [\u001B[92mINFO\u001B[0m] treeqinetic.classes.oscillation.fit: fit for measurement: 'Oscillation: 'PTQ_Meas_140149.txt', ID: 15, Sensor: Elasto(92)'' successful.\n",
      "2025-08-26 15:38:19 [\u001B[92mINFO\u001B[0m] treeqinetic.classes.oscillation.fit: fit for measurement: 'Oscillation: 'PTQ_Meas_140149.txt', ID: 15, Sensor: Elasto(95)'' successful.\n",
      "2025-08-26 15:38:20 [\u001B[92mINFO\u001B[0m] treeqinetic.classes.oscillation.fit: fit for measurement: 'Oscillation: 'PTQ_Meas_140149.txt', ID: 15, Sensor: Elasto(98)'' successful.\n",
      "2025-08-26 15:38:20 [\u001B[92mINFO\u001B[0m] treeqinetic.classes.oscillation.fit: fit for measurement: 'Oscillation: 'PTQ_Meas_140551.txt', ID: 16, Sensor: Elasto(90)'' successful.\n",
      "2025-08-26 15:38:21 [\u001B[92mINFO\u001B[0m] treeqinetic.classes.oscillation.fit: fit for measurement: 'Oscillation: 'PTQ_Meas_140551.txt', ID: 16, Sensor: Elasto(92)'' successful.\n",
      "2025-08-26 15:38:22 [\u001B[92mINFO\u001B[0m] treeqinetic.classes.oscillation.fit: fit for measurement: 'Oscillation: 'PTQ_Meas_140551.txt', ID: 16, Sensor: Elasto(95)'' successful.\n",
      "2025-08-26 15:38:23 [\u001B[92mINFO\u001B[0m] treeqinetic.classes.oscillation.fit: fit for measurement: 'Oscillation: 'PTQ_Meas_140551.txt', ID: 16, Sensor: Elasto(98)'' successful.\n",
      "2025-08-26 15:38:24 [\u001B[92mINFO\u001B[0m] treeqinetic.classes.oscillation.fit: fit for measurement: 'Oscillation: 'PTQ_Meas_141006.txt', ID: 17, Sensor: Elasto(90)'' successful.\n",
      "2025-08-26 15:38:25 [\u001B[92mINFO\u001B[0m] treeqinetic.classes.oscillation.fit: fit for measurement: 'Oscillation: 'PTQ_Meas_141006.txt', ID: 17, Sensor: Elasto(92)'' successful.\n",
      "2025-08-26 15:38:26 [\u001B[92mINFO\u001B[0m] treeqinetic.classes.oscillation.fit: fit for measurement: 'Oscillation: 'PTQ_Meas_141006.txt', ID: 17, Sensor: Elasto(95)'' successful.\n",
      "2025-08-26 15:38:27 [\u001B[92mINFO\u001B[0m] treeqinetic.classes.oscillation.fit: fit for measurement: 'Oscillation: 'PTQ_Meas_141006.txt', ID: 17, Sensor: Elasto(98)'' successful.\n",
      "2025-08-26 15:38:28 [\u001B[92mINFO\u001B[0m] treeqinetic.classes.oscillation.fit: fit for measurement: 'Oscillation: 'PTQ_Meas_141437.txt', ID: 18, Sensor: Elasto(90)'' successful.\n",
      "2025-08-26 15:38:29 [\u001B[92mINFO\u001B[0m] treeqinetic.classes.oscillation.fit: fit for measurement: 'Oscillation: 'PTQ_Meas_141437.txt', ID: 18, Sensor: Elasto(92)'' successful.\n",
      "2025-08-26 15:38:30 [\u001B[92mINFO\u001B[0m] treeqinetic.classes.oscillation.fit: fit for measurement: 'Oscillation: 'PTQ_Meas_141437.txt', ID: 18, Sensor: Elasto(95)'' successful.\n",
      "2025-08-26 15:38:31 [\u001B[92mINFO\u001B[0m] treeqinetic.classes.oscillation.fit: fit for measurement: 'Oscillation: 'PTQ_Meas_141437.txt', ID: 18, Sensor: Elasto(98)'' successful.\n",
      "2025-08-26 15:38:32 [\u001B[92mINFO\u001B[0m] treeqinetic.classes.oscillation.fit: fit for measurement: 'Oscillation: 'PTQ_Meas_141812.txt', ID: 19, Sensor: Elasto(90)'' successful.\n",
      "2025-08-26 15:38:33 [\u001B[92mINFO\u001B[0m] treeqinetic.classes.oscillation.fit: fit for measurement: 'Oscillation: 'PTQ_Meas_141812.txt', ID: 19, Sensor: Elasto(92)'' successful.\n",
      "2025-08-26 15:38:34 [\u001B[92mINFO\u001B[0m] treeqinetic.classes.oscillation.fit: fit for measurement: 'Oscillation: 'PTQ_Meas_141812.txt', ID: 19, Sensor: Elasto(95)'' successful.\n",
      "2025-08-26 15:38:35 [\u001B[92mINFO\u001B[0m] treeqinetic.classes.oscillation.fit: fit for measurement: 'Oscillation: 'PTQ_Meas_141812.txt', ID: 19, Sensor: Elasto(98)'' successful.\n",
      "2025-08-26 15:38:36 [\u001B[92mINFO\u001B[0m] treeqinetic.classes.oscillation.fit: fit for measurement: 'Oscillation: 'PTQ_Meas_150444.txt', ID: 20, Sensor: Elasto(90)'' successful.\n",
      "2025-08-26 15:38:37 [\u001B[92mINFO\u001B[0m] treeqinetic.classes.oscillation.fit: fit for measurement: 'Oscillation: 'PTQ_Meas_150444.txt', ID: 20, Sensor: Elasto(92)'' successful.\n",
      "2025-08-26 15:38:38 [\u001B[92mINFO\u001B[0m] treeqinetic.classes.oscillation.fit: fit for measurement: 'Oscillation: 'PTQ_Meas_150444.txt', ID: 20, Sensor: Elasto(95)'' successful.\n",
      "2025-08-26 15:38:39 [\u001B[92mINFO\u001B[0m] treeqinetic.classes.oscillation.fit: fit for measurement: 'Oscillation: 'PTQ_Meas_150444.txt', ID: 20, Sensor: Elasto(98)'' successful.\n",
      "2025-08-26 15:38:39 [\u001B[92mINFO\u001B[0m] treeqinetic.classes.oscillation.fit: fit for measurement: 'Oscillation: 'PTQ_Meas_151010.txt', ID: 21, Sensor: Elasto(90)'' successful.\n",
      "2025-08-26 15:38:40 [\u001B[93mWARNING\u001B[0m] treeqinetic.classes.oscillation.calc_metrics: 21_Elasto(92): Metric 'pearson_r' value 0.5777 outside of threshold range 0.75-1\n",
      "2025-08-26 15:38:40 [\u001B[92mINFO\u001B[0m] treeqinetic.classes.oscillation.fit: fit for measurement: 'Oscillation: 'PTQ_Meas_151010.txt', ID: 21, Sensor: Elasto(92)'' successful.\n",
      "2025-08-26 15:38:41 [\u001B[92mINFO\u001B[0m] treeqinetic.classes.oscillation.fit: fit for measurement: 'Oscillation: 'PTQ_Meas_151010.txt', ID: 21, Sensor: Elasto(95)'' successful.\n",
      "2025-08-26 15:38:42 [\u001B[92mINFO\u001B[0m] treeqinetic.classes.oscillation.fit: fit for measurement: 'Oscillation: 'PTQ_Meas_151010.txt', ID: 21, Sensor: Elasto(98)'' successful.\n",
      "2025-08-26 15:38:42 [\u001B[92mINFO\u001B[0m] treeqinetic.classes.oscillation.fit: fit for measurement: 'Oscillation: 'PTQ_Meas_151557.txt', ID: 22, Sensor: Elasto(90)'' successful.\n",
      "2025-08-26 15:38:43 [\u001B[92mINFO\u001B[0m] treeqinetic.classes.oscillation.fit: fit for measurement: 'Oscillation: 'PTQ_Meas_151557.txt', ID: 22, Sensor: Elasto(92)'' successful.\n",
      "2025-08-26 15:38:44 [\u001B[93mWARNING\u001B[0m] treeqinetic.classes.oscillation.calc_metrics: 22_Elasto(95): Metric 'pearson_r' value 0.7247 outside of threshold range 0.75-1\n",
      "2025-08-26 15:38:44 [\u001B[92mINFO\u001B[0m] treeqinetic.classes.oscillation.fit: fit for measurement: 'Oscillation: 'PTQ_Meas_151557.txt', ID: 22, Sensor: Elasto(95)'' successful.\n",
      "2025-08-26 15:38:45 [\u001B[92mINFO\u001B[0m] treeqinetic.classes.oscillation.fit: fit for measurement: 'Oscillation: 'PTQ_Meas_151557.txt', ID: 22, Sensor: Elasto(98)'' successful.\n",
      "2025-08-26 15:38:45 [\u001B[92mINFO\u001B[0m] treeqinetic.classes.oscillation.fit: fit for measurement: 'Oscillation: 'PTQ_Meas_153028.txt', ID: 23, Sensor: Elasto(90)'' successful.\n",
      "2025-08-26 15:38:46 [\u001B[93mWARNING\u001B[0m] treeqinetic.classes.oscillation.calc_metrics: 23_Elasto(92): Metric 'pearson_r' value 0.6128 outside of threshold range 0.75-1\n",
      "2025-08-26 15:38:46 [\u001B[92mINFO\u001B[0m] treeqinetic.classes.oscillation.fit: fit for measurement: 'Oscillation: 'PTQ_Meas_153028.txt', ID: 23, Sensor: Elasto(92)'' successful.\n",
      "2025-08-26 15:38:47 [\u001B[92mINFO\u001B[0m] treeqinetic.classes.oscillation.fit: fit for measurement: 'Oscillation: 'PTQ_Meas_153028.txt', ID: 23, Sensor: Elasto(95)'' successful.\n",
      "2025-08-26 15:38:48 [\u001B[92mINFO\u001B[0m] treeqinetic.classes.oscillation.fit: fit for measurement: 'Oscillation: 'PTQ_Meas_153028.txt', ID: 23, Sensor: Elasto(98)'' successful.\n",
      "2025-08-26 15:38:49 [\u001B[92mINFO\u001B[0m] treeqinetic.classes.oscillation.fit: fit for measurement: 'Oscillation: 'PTQ_Meas_153334.txt', ID: 24, Sensor: Elasto(90)'' successful.\n",
      "2025-08-26 15:38:50 [\u001B[92mINFO\u001B[0m] treeqinetic.classes.oscillation.fit: fit for measurement: 'Oscillation: 'PTQ_Meas_153334.txt', ID: 24, Sensor: Elasto(92)'' successful.\n",
      "2025-08-26 15:38:51 [\u001B[93mWARNING\u001B[0m] treeqinetic.classes.oscillation.calc_metrics: 24_Elasto(95): Metric 'pearson_r' value 0.7260 outside of threshold range 0.75-1\n",
      "2025-08-26 15:38:51 [\u001B[92mINFO\u001B[0m] treeqinetic.classes.oscillation.fit: fit for measurement: 'Oscillation: 'PTQ_Meas_153334.txt', ID: 24, Sensor: Elasto(95)'' successful.\n",
      "2025-08-26 15:38:52 [\u001B[92mINFO\u001B[0m] treeqinetic.classes.oscillation.fit: fit for measurement: 'Oscillation: 'PTQ_Meas_153334.txt', ID: 24, Sensor: Elasto(98)'' successful.\n",
      "2025-08-26 15:38:53 [\u001B[92mINFO\u001B[0m] treeqinetic.classes.oscillation.fit: fit for measurement: 'Oscillation: 'PTQ_Meas_153817.txt', ID: 25, Sensor: Elasto(90)'' successful.\n",
      "2025-08-26 15:38:54 [\u001B[92mINFO\u001B[0m] treeqinetic.classes.oscillation.fit: fit for measurement: 'Oscillation: 'PTQ_Meas_153817.txt', ID: 25, Sensor: Elasto(92)'' successful.\n",
      "2025-08-26 15:38:55 [\u001B[93mWARNING\u001B[0m] treeqinetic.classes.oscillation.calc_metrics: 25_Elasto(95): Metric 'pearson_r' value 0.6608 outside of threshold range 0.75-1\n",
      "2025-08-26 15:38:55 [\u001B[92mINFO\u001B[0m] treeqinetic.classes.oscillation.fit: fit for measurement: 'Oscillation: 'PTQ_Meas_153817.txt', ID: 25, Sensor: Elasto(95)'' successful.\n",
      "2025-08-26 15:38:56 [\u001B[92mINFO\u001B[0m] treeqinetic.classes.oscillation.fit: fit for measurement: 'Oscillation: 'PTQ_Meas_153817.txt', ID: 25, Sensor: Elasto(98)'' successful.\n",
      "2025-08-26 15:38:57 [\u001B[92mINFO\u001B[0m] treeqinetic.classes.oscillation.fit: fit for measurement: 'Oscillation: 'PTQ_Meas_154457.txt', ID: 26, Sensor: Elasto(90)'' successful.\n",
      "2025-08-26 15:38:57 [\u001B[92mINFO\u001B[0m] treeqinetic.classes.oscillation.fit: fit for measurement: 'Oscillation: 'PTQ_Meas_154457.txt', ID: 26, Sensor: Elasto(92)'' successful.\n",
      "2025-08-26 15:38:58 [\u001B[93mWARNING\u001B[0m] treeqinetic.classes.oscillation.calc_metrics: 26_Elasto(95): Metric 'pearson_r' value 0.7470 outside of threshold range 0.75-1\n",
      "2025-08-26 15:38:58 [\u001B[92mINFO\u001B[0m] treeqinetic.classes.oscillation.fit: fit for measurement: 'Oscillation: 'PTQ_Meas_154457.txt', ID: 26, Sensor: Elasto(95)'' successful.\n",
      "2025-08-26 15:38:59 [\u001B[92mINFO\u001B[0m] treeqinetic.classes.oscillation.fit: fit for measurement: 'Oscillation: 'PTQ_Meas_154457.txt', ID: 26, Sensor: Elasto(98)'' successful.\n",
      "2025-08-26 15:38:59 [\u001B[92mINFO\u001B[0m] treeqinetic.classes.oscillation.fit: fit for measurement: 'Oscillation: 'PTQ_Meas_155354.txt', ID: 27, Sensor: Elasto(90)'' successful.\n",
      "2025-08-26 15:39:00 [\u001B[92mINFO\u001B[0m] treeqinetic.classes.oscillation.fit: fit for measurement: 'Oscillation: 'PTQ_Meas_155354.txt', ID: 27, Sensor: Elasto(92)'' successful.\n",
      "2025-08-26 15:39:01 [\u001B[93mWARNING\u001B[0m] treeqinetic.classes.oscillation.calc_metrics: 27_Elasto(95): Metric 'pearson_r' value 0.6905 outside of threshold range 0.75-1\n",
      "2025-08-26 15:39:01 [\u001B[92mINFO\u001B[0m] treeqinetic.classes.oscillation.fit: fit for measurement: 'Oscillation: 'PTQ_Meas_155354.txt', ID: 27, Sensor: Elasto(95)'' successful.\n",
      "2025-08-26 15:39:02 [\u001B[92mINFO\u001B[0m] treeqinetic.classes.oscillation.fit: fit for measurement: 'Oscillation: 'PTQ_Meas_155354.txt', ID: 27, Sensor: Elasto(98)'' successful.\n",
      "2025-08-26 15:39:03 [\u001B[92mINFO\u001B[0m] treeqinetic.classes.oscillation.fit: fit for measurement: 'Oscillation: 'PTQ_Meas_155805.txt', ID: 28, Sensor: Elasto(90)'' successful.\n",
      "2025-08-26 15:39:04 [\u001B[93mWARNING\u001B[0m] treeqinetic.classes.oscillation.calc_metrics: 28_Elasto(92): Metric 'pearson_r' value 0.6130 outside of threshold range 0.75-1\n",
      "2025-08-26 15:39:04 [\u001B[92mINFO\u001B[0m] treeqinetic.classes.oscillation.fit: fit for measurement: 'Oscillation: 'PTQ_Meas_155805.txt', ID: 28, Sensor: Elasto(92)'' successful.\n",
      "2025-08-26 15:39:04 [\u001B[92mINFO\u001B[0m] treeqinetic.classes.oscillation.fit: fit for measurement: 'Oscillation: 'PTQ_Meas_155805.txt', ID: 28, Sensor: Elasto(95)'' successful.\n",
      "2025-08-26 15:39:05 [\u001B[92mINFO\u001B[0m] treeqinetic.classes.oscillation.fit: fit for measurement: 'Oscillation: 'PTQ_Meas_155805.txt', ID: 28, Sensor: Elasto(98)'' successful.\n",
      "2025-08-26 15:39:06 [\u001B[92mINFO\u001B[0m] treeqinetic.classes.oscillation.fit: fit for measurement: 'Oscillation: 'PTQ_Meas_160907.txt', ID: 29, Sensor: Elasto(90)'' successful.\n",
      "2025-08-26 15:39:06 [\u001B[92mINFO\u001B[0m] treeqinetic.classes.oscillation.fit: fit for measurement: 'Oscillation: 'PTQ_Meas_160907.txt', ID: 29, Sensor: Elasto(92)'' successful.\n",
      "2025-08-26 15:39:07 [\u001B[92mINFO\u001B[0m] treeqinetic.classes.oscillation.fit: fit for measurement: 'Oscillation: 'PTQ_Meas_160907.txt', ID: 29, Sensor: Elasto(95)'' successful.\n",
      "2025-08-26 15:39:08 [\u001B[92mINFO\u001B[0m] treeqinetic.classes.oscillation.fit: fit for measurement: 'Oscillation: 'PTQ_Meas_160907.txt', ID: 29, Sensor: Elasto(98)'' successful.\n"
     ]
    }
   ],
   "source": [
    "\n",
    "initial_param = {\n",
    "    \"initial_amplitude\": 170,\n",
    "    \"damping_coeff\": 0.32,\n",
    "    \"frequency_damped\": 0.44,\n",
    "    \"phase_angle\": 0,\n",
    "    \"y_shift\": 0,\n",
    "    \"x_shift\": 0\n",
    "}\n",
    "\n",
    "param_bounds = {\n",
    "    \"initial_amplitude\": (150, 250),\n",
    "    \"damping_coeff\": (0.1, 1),\n",
    "    \"frequency_damped\": (0.35, 0.58),\n",
    "    \"phase_angle\": (-0.2, 0.2),\n",
    "    \"y_shift\": (-60, 60),\n",
    "    \"x_shift\": (-0.25, 0.75),\n",
    "}\n",
    "\n",
    "metrics_warning = {\n",
    "    \"pearson_r\": (0.75, 1), # Kleiner 0.75 Warnung\n",
    "    \"nrmse\": (0, np.inf),\n",
    "    \"mae\": (0, np.inf),\n",
    "    \"nmae\": (0, 0.10) # Größer 0.10 Warnung\n",
    "}\n",
    "\n",
    "for oscillation in ptq_oscillations_ls:\n",
    "    oscillation.fit(\n",
    "        initial_param,\n",
    "        param_bounds,\n",
    "        optimize_criterion=\"mae\",\n",
    "        metrics_warning=metrics_warning,\n",
    "        plot=True,\n",
    "        plot_error=True,\n",
    "        dir_add=\"\",\n",
    "        interpolate=True\n",
    "    )"
   ]
  },
  {
   "cell_type": "markdown",
   "metadata": {
    "collapsed": false
   },
   "source": [
    "### Fehlerverteilung der Funktionsanpassung an Messdaten\n",
    "\n",
    "Die Funktion sammelt für alle Oscillation-Objekte die Fehler-Arrays der Anpassung und normalisiert die Fehler (um Unterschiede in der Skalierung zu entfernen).\n",
    "Anschließend werden die Fehler für alle Messungen A) für alle Sensoren gemeinsam und B) getrennt für jeden Sensor geplotet. Es werden Q-Q-Plot, Violin-Plot und Histogramme für den gleichen Sachverhalt erstellt und in `working_directory\\PTQ\\plots\\series_osc_errors` abgelegt.\n",
    "\n",
    "- `trim_hist_percent`: Beschneidet die Daten Links und Rechts um die äußersten x Prozent, da die Verteilung im Zentrum sonst kaum zu bewerten ist. Wirkt sich nur auf die Histogramme aus."
   ]
  },
  {
   "cell_type": "code",
   "execution_count": 19,
   "metadata": {
    "collapsed": false,
    "ExecuteTime": {
     "end_time": "2025-08-26T13:39:15.328581100Z",
     "start_time": "2025-08-26T13:39:08.717159200Z"
    }
   },
   "outputs": [],
   "source": [
    "all_normalized_errors = ptq_series.plot_osc_errors(plot_qq=True, plot_violin=True, plot_hist=True, hist_trim_percent=5)"
   ]
  },
  {
   "cell_type": "markdown",
   "metadata": {
    "ExecuteTime": {
     "end_time": "2023-12-01T09:59:03.316646700Z",
     "start_time": "2023-12-01T09:59:01.399969500Z"
    },
    "collapsed": false
   },
   "source": [
    "## ANALYSE: Metadaten bzw. Zusammenfassung aller Dehnungs- und Schwingungsdaten\n",
    "\n",
    "Bewerte die Güte der Anpassung"
   ]
  },
  {
   "cell_type": "code",
   "execution_count": 20,
   "outputs": [
    {
     "data": {
      "text/plain": "               id         nit         nfev  status         fun   pearson_r  \\\ncount  116.000000  116.000000   116.000000   116.0  116.000000  116.000000   \nmean    15.000000   42.551724   608.577586     0.0    8.885846    0.891233   \nstd      8.402898   13.873556   178.676348     0.0    2.623436    0.081889   \nmin      1.000000   16.000000   252.000000     0.0    4.860754    0.577722   \n25%      8.000000   33.750000   460.250000     0.0    7.095709    0.854851   \n50%     15.000000   41.500000   612.500000     0.0    8.300605    0.921162   \n75%     22.000000   50.250000   750.750000     0.0   10.181822    0.943763   \nmax     29.000000   82.000000  1078.000000     0.0   18.554284    0.987644   \n\n             p_value          r2          mse        rmse       nrmse  \\\ncount   1.160000e+02  116.000000   116.000000  116.000000  116.000000   \nmean    4.420063e-82    0.763821   306.066561   16.424190    0.052120   \nstd     4.760553e-81    0.170689   245.314610    6.052132    0.015265   \nmin     0.000000e+00    0.136988    50.590635    7.112709    0.025014   \n25%     0.000000e+00    0.693359   145.843592   12.076532    0.040727   \n50%     0.000000e+00    0.816335   216.465115   14.712081    0.048888   \n75%    2.760632e-248    0.876082   380.081837   19.494975    0.063060   \nmax     5.127273e-80    0.973909  1332.144003   36.498548    0.093978   \n\n               cv         mae        nmae  \ncount  116.000000  116.000000  116.000000  \nmean    -0.665309    8.885846    0.028895  \nstd     20.564333    2.623436    0.008707  \nmin   -164.381615    4.860754    0.014277  \n25%     -1.476578    7.095709    0.021626  \n50%     -0.534335    8.300605    0.028303  \n75%      2.161237   10.181822    0.034232  \nmax     95.362596   18.554284    0.054711  ",
      "text/html": "<div>\n<style scoped>\n    .dataframe tbody tr th:only-of-type {\n        vertical-align: middle;\n    }\n\n    .dataframe tbody tr th {\n        vertical-align: top;\n    }\n\n    .dataframe thead th {\n        text-align: right;\n    }\n</style>\n<table border=\"1\" class=\"dataframe\">\n  <thead>\n    <tr style=\"text-align: right;\">\n      <th></th>\n      <th>id</th>\n      <th>nit</th>\n      <th>nfev</th>\n      <th>status</th>\n      <th>fun</th>\n      <th>pearson_r</th>\n      <th>p_value</th>\n      <th>r2</th>\n      <th>mse</th>\n      <th>rmse</th>\n      <th>nrmse</th>\n      <th>cv</th>\n      <th>mae</th>\n      <th>nmae</th>\n    </tr>\n  </thead>\n  <tbody>\n    <tr>\n      <th>count</th>\n      <td>116.000000</td>\n      <td>116.000000</td>\n      <td>116.000000</td>\n      <td>116.0</td>\n      <td>116.000000</td>\n      <td>116.000000</td>\n      <td>1.160000e+02</td>\n      <td>116.000000</td>\n      <td>116.000000</td>\n      <td>116.000000</td>\n      <td>116.000000</td>\n      <td>116.000000</td>\n      <td>116.000000</td>\n      <td>116.000000</td>\n    </tr>\n    <tr>\n      <th>mean</th>\n      <td>15.000000</td>\n      <td>42.551724</td>\n      <td>608.577586</td>\n      <td>0.0</td>\n      <td>8.885846</td>\n      <td>0.891233</td>\n      <td>4.420063e-82</td>\n      <td>0.763821</td>\n      <td>306.066561</td>\n      <td>16.424190</td>\n      <td>0.052120</td>\n      <td>-0.665309</td>\n      <td>8.885846</td>\n      <td>0.028895</td>\n    </tr>\n    <tr>\n      <th>std</th>\n      <td>8.402898</td>\n      <td>13.873556</td>\n      <td>178.676348</td>\n      <td>0.0</td>\n      <td>2.623436</td>\n      <td>0.081889</td>\n      <td>4.760553e-81</td>\n      <td>0.170689</td>\n      <td>245.314610</td>\n      <td>6.052132</td>\n      <td>0.015265</td>\n      <td>20.564333</td>\n      <td>2.623436</td>\n      <td>0.008707</td>\n    </tr>\n    <tr>\n      <th>min</th>\n      <td>1.000000</td>\n      <td>16.000000</td>\n      <td>252.000000</td>\n      <td>0.0</td>\n      <td>4.860754</td>\n      <td>0.577722</td>\n      <td>0.000000e+00</td>\n      <td>0.136988</td>\n      <td>50.590635</td>\n      <td>7.112709</td>\n      <td>0.025014</td>\n      <td>-164.381615</td>\n      <td>4.860754</td>\n      <td>0.014277</td>\n    </tr>\n    <tr>\n      <th>25%</th>\n      <td>8.000000</td>\n      <td>33.750000</td>\n      <td>460.250000</td>\n      <td>0.0</td>\n      <td>7.095709</td>\n      <td>0.854851</td>\n      <td>0.000000e+00</td>\n      <td>0.693359</td>\n      <td>145.843592</td>\n      <td>12.076532</td>\n      <td>0.040727</td>\n      <td>-1.476578</td>\n      <td>7.095709</td>\n      <td>0.021626</td>\n    </tr>\n    <tr>\n      <th>50%</th>\n      <td>15.000000</td>\n      <td>41.500000</td>\n      <td>612.500000</td>\n      <td>0.0</td>\n      <td>8.300605</td>\n      <td>0.921162</td>\n      <td>0.000000e+00</td>\n      <td>0.816335</td>\n      <td>216.465115</td>\n      <td>14.712081</td>\n      <td>0.048888</td>\n      <td>-0.534335</td>\n      <td>8.300605</td>\n      <td>0.028303</td>\n    </tr>\n    <tr>\n      <th>75%</th>\n      <td>22.000000</td>\n      <td>50.250000</td>\n      <td>750.750000</td>\n      <td>0.0</td>\n      <td>10.181822</td>\n      <td>0.943763</td>\n      <td>2.760632e-248</td>\n      <td>0.876082</td>\n      <td>380.081837</td>\n      <td>19.494975</td>\n      <td>0.063060</td>\n      <td>2.161237</td>\n      <td>10.181822</td>\n      <td>0.034232</td>\n    </tr>\n    <tr>\n      <th>max</th>\n      <td>29.000000</td>\n      <td>82.000000</td>\n      <td>1078.000000</td>\n      <td>0.0</td>\n      <td>18.554284</td>\n      <td>0.987644</td>\n      <td>5.127273e-80</td>\n      <td>0.973909</td>\n      <td>1332.144003</td>\n      <td>36.498548</td>\n      <td>0.093978</td>\n      <td>95.362596</td>\n      <td>18.554284</td>\n      <td>0.054711</td>\n    </tr>\n  </tbody>\n</table>\n</div>"
     },
     "execution_count": 20,
     "metadata": {},
     "output_type": "execute_result"
    }
   ],
   "source": [
    "osc_optimization_details_df = ptq_series.get_osc_optimization_details_df()\n",
    "osc_optimization_details_df.describe()"
   ],
   "metadata": {
    "collapsed": false,
    "ExecuteTime": {
     "end_time": "2025-08-26T13:39:15.371823Z",
     "start_time": "2025-08-26T13:39:15.328581100Z"
    }
   }
  },
  {
   "cell_type": "markdown",
   "source": [
    "'ptq_series.get_oscillations_df' fasst aus allen Oscillation-Instanzen der Messreihe ('ptq_series') die Schwingungsparameter als pandas.DataFrame zusammen"
   ],
   "metadata": {
    "collapsed": false
   }
  },
  {
   "cell_type": "code",
   "execution_count": 21,
   "metadata": {
    "collapsed": false,
    "ExecuteTime": {
     "end_time": "2025-08-26T13:39:15.422942700Z",
     "start_time": "2025-08-26T13:39:15.371823Z"
    }
   },
   "outputs": [
    {
     "data": {
      "text/plain": "     id            file_name sensor_name  sample_rate  max_strain  \\\n0     1  PTQ_Meas_100346.txt  Elasto(90)     4.003157       368.0   \n1     1  PTQ_Meas_100346.txt  Elasto(92)     3.941160       240.9   \n2     1  PTQ_Meas_100346.txt  Elasto(95)     4.003157       215.0   \n3     1  PTQ_Meas_100346.txt  Elasto(98)     3.941160       192.8   \n4     2  PTQ_Meas_101814.txt  Elasto(90)     3.447691       429.6   \n..   ..                  ...         ...          ...         ...   \n111  28  PTQ_Meas_155805.txt  Elasto(98)     2.391119       149.1   \n112  29  PTQ_Meas_160907.txt  Elasto(90)     2.967190       387.9   \n113  29  PTQ_Meas_160907.txt  Elasto(92)     2.967190       263.4   \n114  29  PTQ_Meas_160907.txt  Elasto(95)     2.967190       237.6   \n115  29  PTQ_Meas_160907.txt  Elasto(98)     2.967190       165.8   \n\n     max_compression  max_strain_osc  max_compression_osc  m_amplitude  \\\n0             -168.1           363.5               -168.1       265.80   \n1              -86.6           239.9                -86.6       163.25   \n2             -119.1           190.2               -119.1       154.65   \n3             -132.8           141.6               -132.8       137.20   \n4             -202.2           417.5               -202.2       309.85   \n..               ...             ...                  ...          ...   \n111           -108.4           120.3               -108.4       114.35   \n112            -94.4           383.8                -94.4       239.10   \n113            -28.3           259.7                -22.0       140.85   \n114            -23.9           228.1                -23.9       126.00   \n115            -72.7           150.4                -72.7       111.55   \n\n     m_amplitude_2  ...       rmse     nrmse         cv        mae      nmae  \\\n0           162.10  ...  24.382157  0.045868 -60.280300  10.359435  0.019488   \n1            76.00  ...  13.313315  0.040776  -1.212033   6.809497  0.020856   \n2            82.25  ...  14.852713  0.048022  -0.520646   8.316242  0.026888   \n3            92.50  ...   8.212944  0.029932  -0.399388   5.589269  0.020370   \n4           162.95  ...  24.083544  0.038866  -3.478901  11.160700  0.018011   \n..             ...  ...        ...       ...        ...        ...       ...   \n111          95.15  ...   9.722030  0.042510  -1.489630   6.965469  0.030457   \n112         107.30  ...  36.498548  0.076325  12.131841  16.258373  0.033999   \n113          39.30  ...  22.091387  0.078422   5.346908  10.226893  0.036304   \n114          46.20  ...  20.255176  0.080378   3.804639   9.617778  0.038166   \n115          89.70  ...  20.965593  0.093978  -9.177909  12.110682  0.054286   \n\n     integral_intercept  integral_positiv  integral_negativ  integral_abs  \\\n0             -1.870831        391.325732        365.341989    756.667721   \n1            -10.571599        174.631434        182.059739    356.691173   \n2            -30.255247        222.431092        191.815217    414.246308   \n3            -21.122985        232.922135        222.857242    455.779377   \n4             -3.467562        258.909157        319.996801    578.905957   \n..                  ...               ...               ...           ...   \n111           -8.622783        168.196780        131.385606    299.582386   \n112          -11.971655        418.627008        156.174828    574.801836   \n113           -6.016494        231.918646         54.123696    286.042342   \n114           -2.985686        208.082876         62.500514    270.583390   \n115           -2.337977        212.350387        211.410904    423.761291   \n\n     integral_ratio  \n0          1.071122  \n1          0.959199  \n2          1.159611  \n3          1.045163  \n4          0.809099  \n..              ...  \n111        1.280177  \n112        2.680502  \n113        4.284974  \n114        3.329299  \n115        1.004444  \n\n[116 rows x 33 columns]",
      "text/html": "<div>\n<style scoped>\n    .dataframe tbody tr th:only-of-type {\n        vertical-align: middle;\n    }\n\n    .dataframe tbody tr th {\n        vertical-align: top;\n    }\n\n    .dataframe thead th {\n        text-align: right;\n    }\n</style>\n<table border=\"1\" class=\"dataframe\">\n  <thead>\n    <tr style=\"text-align: right;\">\n      <th></th>\n      <th>id</th>\n      <th>file_name</th>\n      <th>sensor_name</th>\n      <th>sample_rate</th>\n      <th>max_strain</th>\n      <th>max_compression</th>\n      <th>max_strain_osc</th>\n      <th>max_compression_osc</th>\n      <th>m_amplitude</th>\n      <th>m_amplitude_2</th>\n      <th>...</th>\n      <th>rmse</th>\n      <th>nrmse</th>\n      <th>cv</th>\n      <th>mae</th>\n      <th>nmae</th>\n      <th>integral_intercept</th>\n      <th>integral_positiv</th>\n      <th>integral_negativ</th>\n      <th>integral_abs</th>\n      <th>integral_ratio</th>\n    </tr>\n  </thead>\n  <tbody>\n    <tr>\n      <th>0</th>\n      <td>1</td>\n      <td>PTQ_Meas_100346.txt</td>\n      <td>Elasto(90)</td>\n      <td>4.003157</td>\n      <td>368.0</td>\n      <td>-168.1</td>\n      <td>363.5</td>\n      <td>-168.1</td>\n      <td>265.80</td>\n      <td>162.10</td>\n      <td>...</td>\n      <td>24.382157</td>\n      <td>0.045868</td>\n      <td>-60.280300</td>\n      <td>10.359435</td>\n      <td>0.019488</td>\n      <td>-1.870831</td>\n      <td>391.325732</td>\n      <td>365.341989</td>\n      <td>756.667721</td>\n      <td>1.071122</td>\n    </tr>\n    <tr>\n      <th>1</th>\n      <td>1</td>\n      <td>PTQ_Meas_100346.txt</td>\n      <td>Elasto(92)</td>\n      <td>3.941160</td>\n      <td>240.9</td>\n      <td>-86.6</td>\n      <td>239.9</td>\n      <td>-86.6</td>\n      <td>163.25</td>\n      <td>76.00</td>\n      <td>...</td>\n      <td>13.313315</td>\n      <td>0.040776</td>\n      <td>-1.212033</td>\n      <td>6.809497</td>\n      <td>0.020856</td>\n      <td>-10.571599</td>\n      <td>174.631434</td>\n      <td>182.059739</td>\n      <td>356.691173</td>\n      <td>0.959199</td>\n    </tr>\n    <tr>\n      <th>2</th>\n      <td>1</td>\n      <td>PTQ_Meas_100346.txt</td>\n      <td>Elasto(95)</td>\n      <td>4.003157</td>\n      <td>215.0</td>\n      <td>-119.1</td>\n      <td>190.2</td>\n      <td>-119.1</td>\n      <td>154.65</td>\n      <td>82.25</td>\n      <td>...</td>\n      <td>14.852713</td>\n      <td>0.048022</td>\n      <td>-0.520646</td>\n      <td>8.316242</td>\n      <td>0.026888</td>\n      <td>-30.255247</td>\n      <td>222.431092</td>\n      <td>191.815217</td>\n      <td>414.246308</td>\n      <td>1.159611</td>\n    </tr>\n    <tr>\n      <th>3</th>\n      <td>1</td>\n      <td>PTQ_Meas_100346.txt</td>\n      <td>Elasto(98)</td>\n      <td>3.941160</td>\n      <td>192.8</td>\n      <td>-132.8</td>\n      <td>141.6</td>\n      <td>-132.8</td>\n      <td>137.20</td>\n      <td>92.50</td>\n      <td>...</td>\n      <td>8.212944</td>\n      <td>0.029932</td>\n      <td>-0.399388</td>\n      <td>5.589269</td>\n      <td>0.020370</td>\n      <td>-21.122985</td>\n      <td>232.922135</td>\n      <td>222.857242</td>\n      <td>455.779377</td>\n      <td>1.045163</td>\n    </tr>\n    <tr>\n      <th>4</th>\n      <td>2</td>\n      <td>PTQ_Meas_101814.txt</td>\n      <td>Elasto(90)</td>\n      <td>3.447691</td>\n      <td>429.6</td>\n      <td>-202.2</td>\n      <td>417.5</td>\n      <td>-202.2</td>\n      <td>309.85</td>\n      <td>162.95</td>\n      <td>...</td>\n      <td>24.083544</td>\n      <td>0.038866</td>\n      <td>-3.478901</td>\n      <td>11.160700</td>\n      <td>0.018011</td>\n      <td>-3.467562</td>\n      <td>258.909157</td>\n      <td>319.996801</td>\n      <td>578.905957</td>\n      <td>0.809099</td>\n    </tr>\n    <tr>\n      <th>...</th>\n      <td>...</td>\n      <td>...</td>\n      <td>...</td>\n      <td>...</td>\n      <td>...</td>\n      <td>...</td>\n      <td>...</td>\n      <td>...</td>\n      <td>...</td>\n      <td>...</td>\n      <td>...</td>\n      <td>...</td>\n      <td>...</td>\n      <td>...</td>\n      <td>...</td>\n      <td>...</td>\n      <td>...</td>\n      <td>...</td>\n      <td>...</td>\n      <td>...</td>\n      <td>...</td>\n    </tr>\n    <tr>\n      <th>111</th>\n      <td>28</td>\n      <td>PTQ_Meas_155805.txt</td>\n      <td>Elasto(98)</td>\n      <td>2.391119</td>\n      <td>149.1</td>\n      <td>-108.4</td>\n      <td>120.3</td>\n      <td>-108.4</td>\n      <td>114.35</td>\n      <td>95.15</td>\n      <td>...</td>\n      <td>9.722030</td>\n      <td>0.042510</td>\n      <td>-1.489630</td>\n      <td>6.965469</td>\n      <td>0.030457</td>\n      <td>-8.622783</td>\n      <td>168.196780</td>\n      <td>131.385606</td>\n      <td>299.582386</td>\n      <td>1.280177</td>\n    </tr>\n    <tr>\n      <th>112</th>\n      <td>29</td>\n      <td>PTQ_Meas_160907.txt</td>\n      <td>Elasto(90)</td>\n      <td>2.967190</td>\n      <td>387.9</td>\n      <td>-94.4</td>\n      <td>383.8</td>\n      <td>-94.4</td>\n      <td>239.10</td>\n      <td>107.30</td>\n      <td>...</td>\n      <td>36.498548</td>\n      <td>0.076325</td>\n      <td>12.131841</td>\n      <td>16.258373</td>\n      <td>0.033999</td>\n      <td>-11.971655</td>\n      <td>418.627008</td>\n      <td>156.174828</td>\n      <td>574.801836</td>\n      <td>2.680502</td>\n    </tr>\n    <tr>\n      <th>113</th>\n      <td>29</td>\n      <td>PTQ_Meas_160907.txt</td>\n      <td>Elasto(92)</td>\n      <td>2.967190</td>\n      <td>263.4</td>\n      <td>-28.3</td>\n      <td>259.7</td>\n      <td>-22.0</td>\n      <td>140.85</td>\n      <td>39.30</td>\n      <td>...</td>\n      <td>22.091387</td>\n      <td>0.078422</td>\n      <td>5.346908</td>\n      <td>10.226893</td>\n      <td>0.036304</td>\n      <td>-6.016494</td>\n      <td>231.918646</td>\n      <td>54.123696</td>\n      <td>286.042342</td>\n      <td>4.284974</td>\n    </tr>\n    <tr>\n      <th>114</th>\n      <td>29</td>\n      <td>PTQ_Meas_160907.txt</td>\n      <td>Elasto(95)</td>\n      <td>2.967190</td>\n      <td>237.6</td>\n      <td>-23.9</td>\n      <td>228.1</td>\n      <td>-23.9</td>\n      <td>126.00</td>\n      <td>46.20</td>\n      <td>...</td>\n      <td>20.255176</td>\n      <td>0.080378</td>\n      <td>3.804639</td>\n      <td>9.617778</td>\n      <td>0.038166</td>\n      <td>-2.985686</td>\n      <td>208.082876</td>\n      <td>62.500514</td>\n      <td>270.583390</td>\n      <td>3.329299</td>\n    </tr>\n    <tr>\n      <th>115</th>\n      <td>29</td>\n      <td>PTQ_Meas_160907.txt</td>\n      <td>Elasto(98)</td>\n      <td>2.967190</td>\n      <td>165.8</td>\n      <td>-72.7</td>\n      <td>150.4</td>\n      <td>-72.7</td>\n      <td>111.55</td>\n      <td>89.70</td>\n      <td>...</td>\n      <td>20.965593</td>\n      <td>0.093978</td>\n      <td>-9.177909</td>\n      <td>12.110682</td>\n      <td>0.054286</td>\n      <td>-2.337977</td>\n      <td>212.350387</td>\n      <td>211.410904</td>\n      <td>423.761291</td>\n      <td>1.004444</td>\n    </tr>\n  </tbody>\n</table>\n<p>116 rows × 33 columns</p>\n</div>"
     },
     "execution_count": 21,
     "metadata": {},
     "output_type": "execute_result"
    }
   ],
   "source": [
    "ptq_metadata_df = ptq_series.get_oscillations_df()\n",
    "ptq_metadata_df"
   ]
  },
  {
   "cell_type": "markdown",
   "source": [
    "### ANALYSE: Bewertung der Anpassungsgüte"
   ],
   "metadata": {
    "collapsed": false
   }
  },
  {
   "cell_type": "code",
   "execution_count": 22,
   "outputs": [],
   "source": [
    "no_metrics_warning_df = osc_optimization_details_df[ptq_metadata_df['metrics_warning']==False]"
   ],
   "metadata": {
    "collapsed": false,
    "ExecuteTime": {
     "end_time": "2025-08-26T13:39:15.436227700Z",
     "start_time": "2025-08-26T13:39:15.416572100Z"
    }
   }
  },
  {
   "cell_type": "code",
   "execution_count": 23,
   "outputs": [],
   "source": [
    "#no_metrics_warning_df.describe()"
   ],
   "metadata": {
    "collapsed": false,
    "ExecuteTime": {
     "end_time": "2025-08-26T13:39:15.508520200Z",
     "start_time": "2025-08-26T13:39:15.422942700Z"
    }
   }
  },
  {
   "cell_type": "code",
   "execution_count": 24,
   "outputs": [],
   "source": [
    "metrics_warning_df = osc_optimization_details_df[ptq_metadata_df['metrics_warning']==True]"
   ],
   "metadata": {
    "collapsed": false,
    "ExecuteTime": {
     "end_time": "2025-08-26T13:39:15.508520200Z",
     "start_time": "2025-08-26T13:39:15.422942700Z"
    }
   }
  },
  {
   "cell_type": "code",
   "execution_count": 25,
   "outputs": [],
   "source": [
    "#metrics_warning_df.describe()"
   ],
   "metadata": {
    "collapsed": false,
    "ExecuteTime": {
     "end_time": "2025-08-26T13:39:15.508520200Z",
     "start_time": "2025-08-26T13:39:15.435700500Z"
    }
   }
  },
  {
   "cell_type": "markdown",
   "source": [
    "#### LATEX EXPORT: Exportiere Statistiken der Anpassungsgüte reduziert als Latex-Tabelle"
   ],
   "metadata": {
    "collapsed": false
   }
  },
  {
   "cell_type": "code",
   "execution_count": 26,
   "outputs": [
    {
     "data": {
      "text/plain": "                      $r$  $\\mathrm{MAE}$  $\\mathrm{NMAE}$  $\\mathrm{RMSE}$  \\\nGruppe                                                                        \nAlle    count  116.000000      116.000000       116.000000       116.000000   \n        mean     0.891233        8.885846         0.028895        16.424190   \n        std      0.081889        2.623436         0.008707         6.052132   \n        min      0.577722        4.860754         0.014277         7.112709   \n        max      0.987644       18.554284         0.054711        36.498548   \nWarnung count    8.000000        8.000000         8.000000         8.000000   \n        mean     0.669080        6.497468         0.032789        12.457885   \n        std      0.062794        0.895859         0.004779         1.177443   \n        min      0.577722        4.860754         0.026360        10.799246   \n        max      0.747046        7.549220         0.040196        13.547828   \nKeine   count  108.000000      108.000000       108.000000       108.000000   \n        mean     0.907689        9.062763         0.028607        16.717990   \n        std      0.054645        2.624195         0.008875         6.165457   \n        min      0.757093        5.168542         0.014277         7.112709   \n        max      0.987644       18.554284         0.054711        36.498548   \n\n               $\\mathrm{NRMSE}$  \nGruppe                           \nAlle    count        116.000000  \n        mean           0.052120  \n        std            0.015265  \n        min            0.025014  \n        max            0.093978  \nWarnung count          8.000000  \n        mean           0.062756  \n        std            0.005044  \n        min            0.055798  \n        max            0.070126  \nKeine   count        108.000000  \n        mean           0.051332  \n        std            0.015482  \n        min            0.025014  \n        max            0.093978  ",
      "text/html": "<div>\n<style scoped>\n    .dataframe tbody tr th:only-of-type {\n        vertical-align: middle;\n    }\n\n    .dataframe tbody tr th {\n        vertical-align: top;\n    }\n\n    .dataframe thead th {\n        text-align: right;\n    }\n</style>\n<table border=\"1\" class=\"dataframe\">\n  <thead>\n    <tr style=\"text-align: right;\">\n      <th></th>\n      <th></th>\n      <th>$r$</th>\n      <th>$\\mathrm{MAE}$</th>\n      <th>$\\mathrm{NMAE}$</th>\n      <th>$\\mathrm{RMSE}$</th>\n      <th>$\\mathrm{NRMSE}$</th>\n    </tr>\n    <tr>\n      <th>Gruppe</th>\n      <th></th>\n      <th></th>\n      <th></th>\n      <th></th>\n      <th></th>\n      <th></th>\n    </tr>\n  </thead>\n  <tbody>\n    <tr>\n      <th rowspan=\"5\" valign=\"top\">Alle</th>\n      <th>count</th>\n      <td>116.000000</td>\n      <td>116.000000</td>\n      <td>116.000000</td>\n      <td>116.000000</td>\n      <td>116.000000</td>\n    </tr>\n    <tr>\n      <th>mean</th>\n      <td>0.891233</td>\n      <td>8.885846</td>\n      <td>0.028895</td>\n      <td>16.424190</td>\n      <td>0.052120</td>\n    </tr>\n    <tr>\n      <th>std</th>\n      <td>0.081889</td>\n      <td>2.623436</td>\n      <td>0.008707</td>\n      <td>6.052132</td>\n      <td>0.015265</td>\n    </tr>\n    <tr>\n      <th>min</th>\n      <td>0.577722</td>\n      <td>4.860754</td>\n      <td>0.014277</td>\n      <td>7.112709</td>\n      <td>0.025014</td>\n    </tr>\n    <tr>\n      <th>max</th>\n      <td>0.987644</td>\n      <td>18.554284</td>\n      <td>0.054711</td>\n      <td>36.498548</td>\n      <td>0.093978</td>\n    </tr>\n    <tr>\n      <th rowspan=\"5\" valign=\"top\">Warnung</th>\n      <th>count</th>\n      <td>8.000000</td>\n      <td>8.000000</td>\n      <td>8.000000</td>\n      <td>8.000000</td>\n      <td>8.000000</td>\n    </tr>\n    <tr>\n      <th>mean</th>\n      <td>0.669080</td>\n      <td>6.497468</td>\n      <td>0.032789</td>\n      <td>12.457885</td>\n      <td>0.062756</td>\n    </tr>\n    <tr>\n      <th>std</th>\n      <td>0.062794</td>\n      <td>0.895859</td>\n      <td>0.004779</td>\n      <td>1.177443</td>\n      <td>0.005044</td>\n    </tr>\n    <tr>\n      <th>min</th>\n      <td>0.577722</td>\n      <td>4.860754</td>\n      <td>0.026360</td>\n      <td>10.799246</td>\n      <td>0.055798</td>\n    </tr>\n    <tr>\n      <th>max</th>\n      <td>0.747046</td>\n      <td>7.549220</td>\n      <td>0.040196</td>\n      <td>13.547828</td>\n      <td>0.070126</td>\n    </tr>\n    <tr>\n      <th rowspan=\"5\" valign=\"top\">Keine</th>\n      <th>count</th>\n      <td>108.000000</td>\n      <td>108.000000</td>\n      <td>108.000000</td>\n      <td>108.000000</td>\n      <td>108.000000</td>\n    </tr>\n    <tr>\n      <th>mean</th>\n      <td>0.907689</td>\n      <td>9.062763</td>\n      <td>0.028607</td>\n      <td>16.717990</td>\n      <td>0.051332</td>\n    </tr>\n    <tr>\n      <th>std</th>\n      <td>0.054645</td>\n      <td>2.624195</td>\n      <td>0.008875</td>\n      <td>6.165457</td>\n      <td>0.015482</td>\n    </tr>\n    <tr>\n      <th>min</th>\n      <td>0.757093</td>\n      <td>5.168542</td>\n      <td>0.014277</td>\n      <td>7.112709</td>\n      <td>0.025014</td>\n    </tr>\n    <tr>\n      <th>max</th>\n      <td>0.987644</td>\n      <td>18.554284</td>\n      <td>0.054711</td>\n      <td>36.498548</td>\n      <td>0.093978</td>\n    </tr>\n  </tbody>\n</table>\n</div>"
     },
     "execution_count": 26,
     "metadata": {},
     "output_type": "execute_result"
    }
   ],
   "source": [
    "select_cols = ['pearson_r', 'mae', 'nmae', 'rmse', 'nrmse']\n",
    "describe_agg = ['count', 'mean', 'std', 'min', 'max']\n",
    "metrics_warning_df_list = [\n",
    "    (\"Alle\", osc_optimization_details_df),\n",
    "    (\"Warnung\", metrics_warning_df),\n",
    "    (\"Keine\", no_metrics_warning_df)\n",
    "]\n",
    "\n",
    "# Erstelle eine Liste, um die statistischen DataFrames mit einer zusätzlichen Spalte \"Gruppe\" zu sammeln\n",
    "stats_list = []\n",
    "\n",
    "for label, df in metrics_warning_df_list:\n",
    "    df_stats = df[select_cols].describe().loc[describe_agg]\n",
    "    df_stats['Gruppe'] = label  # Füge die Gruppenbezeichnung als Spalte hinzu\n",
    "    # Setze \"Gruppe\" als ersten Index, falls du dies bevorzugst\n",
    "    df_stats = df_stats.set_index('Gruppe', append=True)\n",
    "    # Ersetze \"50%\" im MultiIndex der Zeilen durch \"median\" (auf Ebene 1)\n",
    "    df_stats = df_stats.swaplevel(0, 1)\n",
    "    stats_list.append(df_stats)\n",
    "\n",
    "# Verbinde die DataFrames entlang der Spaltenachse\n",
    "combined_stats = pd.concat(stats_list, axis=0)\n",
    "# Ersetze Spaltennamen durch Formelzeichen\n",
    "combined_stats.columns = [ptq_data_dict[col][\"Zeichen\"] for col in select_cols]\n",
    "combined_stats"
   ],
   "metadata": {
    "collapsed": false,
    "ExecuteTime": {
     "end_time": "2025-08-26T13:39:15.524145900Z",
     "start_time": "2025-08-26T13:39:15.436227700Z"
    }
   }
  },
  {
   "cell_type": "code",
   "execution_count": 27,
   "outputs": [
    {
     "name": "stdout",
     "output_type": "stream",
     "text": [
      "Content saved to: C:\\kyellsen\\005_Projekte\\2024_BA\\032_Feldversuch_2023_Plesse\\030_Analysen\\2023_Kronensicherung_Plesse_Kraefte_Schwingungen\\working_directory\\export_latex\\plesse_ergebnisse_schwingung_anpassungsgute.tex\n"
     ]
    }
   ],
   "source": [
    "# Exportiere die kombinierte Tabelle als LaTeX\n",
    "latex_string_combined = combined_stats.to_latex(\n",
    "    index=True,\n",
    "    escape=False,\n",
    "    float_format=\"{:0.3f}\".format,\n",
    "    column_format=\"ll|r|rr|rr\"\n",
    ")\n",
    "caption = \"Plesse - Ergebnisse, Schwingung, Anpassungsgüte\"\n",
    "caption_long = f\"Plesse - Ergebnisse, Bewertung der Anpassung der harmonisch gedämpften Schwingung an die Daten, Gruppe 'Alle' = Alle 116 Datensätze, 'Warnung' = 9 Datensätze mit r < 0,75, 'Keine' =  107 Datensätze mit r >= 0,75\"\n",
    "\n",
    "\n",
    "save_latex_table(latex_string_combined, caption, latex_export_directory, \n",
    "                   caption_long)"
   ],
   "metadata": {
    "collapsed": false,
    "ExecuteTime": {
     "end_time": "2025-08-26T13:39:15.715411500Z",
     "start_time": "2025-08-26T13:39:15.492875700Z"
    }
   }
  },
  {
   "cell_type": "markdown",
   "source": [],
   "metadata": {
    "collapsed": false
   }
  },
  {
   "cell_type": "markdown",
   "source": [
    "## EXPORT: Daten exportieren für Weiterverarbeitung (.feather, .csv, .json)"
   ],
   "metadata": {
    "collapsed": false
   }
  },
  {
   "cell_type": "code",
   "execution_count": 28,
   "outputs": [],
   "source": [
    "# DataFrame als Feather\n",
    "ptq_metadata_df.to_feather(data_export_directory / \"ptq.feather\")\n",
    "\n",
    "# Dict als JSON (UTF-8, sauber eingerückt)\n",
    "with open(data_export_directory / \"ptq_data_dict.json\", \"w\", encoding=\"utf-8\") as f:\n",
    "    json.dump(ptq_data_dict, f,  indent=4, ensure_ascii=False)\n",
    "    \n",
    "ptq_metadata_df.to_csv(data_export_directory / \"ptq.csv\", sep=\";\", index=False, encoding=\"utf-8\")"
   ],
   "metadata": {
    "collapsed": false,
    "ExecuteTime": {
     "end_time": "2025-08-26T13:39:15.747201600Z",
     "start_time": "2025-08-26T13:39:15.647100Z"
    }
   }
  },
  {
   "cell_type": "markdown",
   "source": [
    "## LATEX-EXPORT: Datendokumentation als Latex-Tabelle exportieren (.tex)"
   ],
   "metadata": {
    "collapsed": false
   }
  },
  {
   "cell_type": "code",
   "execution_count": 29,
   "outputs": [
    {
     "name": "stdout",
     "output_type": "stream",
     "text": [
      "Content saved to: C:\\kyellsen\\005_Projekte\\2024_BA\\032_Feldversuch_2023_Plesse\\030_Analysen\\2023_Kronensicherung_Plesse_Kraefte_Schwingungen\\working_directory\\export_latex\\plesse_ptq_daten_dokumentation.tex\n"
     ]
    }
   ],
   "source": [
    "ptq_data_dict_df = build_data_dict_df(ptq_data_dict, escape_index=True, select_latex_fields=True)\n",
    "\n",
    "latex_string = ptq_data_dict_df.to_latex(index=False, escape=False)\n",
    "caption = \"Plesse - PTQ Daten Dokumentation\"\n",
    "\n",
    "save_latex_table(latex_string, caption, latex_export_directory)"
   ],
   "metadata": {
    "collapsed": false,
    "ExecuteTime": {
     "end_time": "2025-08-26T13:39:15.747201600Z",
     "start_time": "2025-08-26T13:39:15.694316400Z"
    }
   }
  }
 ],
 "metadata": {
  "kernelspec": {
   "display_name": "Python 3 (ipykernel)",
   "language": "python",
   "name": "python3"
  },
  "language_info": {
   "codemirror_mode": {
    "name": "ipython",
    "version": 3
   },
   "file_extension": ".py",
   "mimetype": "text/x-python",
   "name": "python",
   "nbconvert_exporter": "python",
   "pygments_lexer": "ipython3",
   "version": "3.11.2"
  }
 },
 "nbformat": 4,
 "nbformat_minor": 4
}
