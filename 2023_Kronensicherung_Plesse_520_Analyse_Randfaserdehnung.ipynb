{
 "cells": [
  {
   "cell_type": "markdown",
   "metadata": {},
   "source": [
    "---\n",
    "title: \"2023_Kronensicherung_Plesse_Analyse_Randfaserdehnung\"\n",
    "author: \"Kyell Jensen\"\n",
    "date: \"2024-08-06\"\n",
    "format: pdf\n",
    "editor: visual\n",
    "---"
   ]
  },
  {
   "cell_type": "markdown",
   "metadata": {
    "collapsed": false
   },
   "source": [
    "# 2023_Kronensicherung_Plesse_Analyse_Randfaserdehnung\n",
    "\n",
    "## Kombinierte Analyse LineScale3, TreeQinetic und Versuchsaufzeichung\n",
    "\n",
    "Nutze eine geeignete Python 3.11 Umgebung (z. B. virtuelle Environment)."
   ]
  },
  {
   "cell_type": "markdown",
   "metadata": {
    "collapsed": false
   },
   "source": [
    "## Arbeitsumgebung vorbereiten"
   ]
  },
  {
   "cell_type": "markdown",
   "source": [
    "### IMPORT: Packages"
   ],
   "metadata": {
    "collapsed": false
   }
  },
  {
   "cell_type": "code",
   "execution_count": 1,
   "outputs": [],
   "source": [
    "# Struktur & Typen\n",
    "from pathlib import Path\n",
    "from typing import Dict, List\n",
    "\n",
    "# Datenverarbeitung\n",
    "import json\n",
    "import numpy as np\n",
    "import pandas as pd\n",
    "from pandas.api.types import CategoricalDtype\n",
    "from slugify import slugify  # Zum Vereinheitlichen von Strings\n",
    "\n",
    "# Plotting\n",
    "import matplotlib.pyplot as plt\n",
    "import seaborn as sns\n",
    "from IPython.display import Markdown, display\n",
    "\n",
    "# Statistik\n",
    "from scipy.stats import linregress, f_oneway\n",
    "import statsmodels.api as sm\n",
    "import statsmodels.formula.api as smf\n",
    "import statsmodels.stats.multicomp as mc"
   ],
   "metadata": {
    "collapsed": false,
    "ExecuteTime": {
     "end_time": "2025-05-25T11:22:43.111252Z",
     "start_time": "2025-05-25T11:22:42.376043Z"
    }
   }
  },
  {
   "cell_type": "code",
   "execution_count": 2,
   "outputs": [],
   "source": [
    "# Eigene Module und Funktionen\n",
    "from kj_core.utils.latex_export import (\n",
    "    generate_latex_table,\n",
    "    generate_grouped_latex_tables,\n",
    "    save_latex_table,\n",
    "    build_data_dict_df,\n",
    "    grouped_describe\n",
    ")\n",
    "from kj_core.utils.labeling import (\n",
    "    get_label_from_dict,\n",
    "    get_color_dict\n",
    ")\n",
    "from kj_core import (\n",
    "    CoreConfig,\n",
    "    PlotManager,\n",
    "    get_logger\n",
    ")\n",
    "\n",
    "# Projekteinstellungen\n",
    "from project_config import (\n",
    "    working_directory,\n",
    "    data_export_directory,\n",
    "    latex_export_directory,\n",
    "    filename_clean_dataset,\n",
    "    filename_clean_data_dict\n",
    ")"
   ],
   "metadata": {
    "collapsed": false,
    "ExecuteTime": {
     "end_time": "2025-05-25T11:22:43.558298800Z",
     "start_time": "2025-05-25T11:22:43.092043600Z"
    }
   }
  },
  {
   "cell_type": "markdown",
   "source": [
    "### IMPORT: Manager Instanzen"
   ],
   "metadata": {
    "collapsed": false
   }
  },
  {
   "cell_type": "code",
   "execution_count": 3,
   "outputs": [
    {
     "name": "stderr",
     "output_type": "stream",
     "text": [
      "2025-05-25 13:22:43 [\u001B[93mWARNING\u001B[0m] kj_core.core_config.set_working_directory: The directory C:\\kyellsen\\005_Projekte\\2024_BA\\032_Feldversuch_2023_Plesse\\030_Analysen\\2023_Kronensicherung_Plesse_Kraefte_Schwingungen\\working_directory\\combined already exists.\n",
      "2025-05-25 13:22:43 [\u001B[92mINFO\u001B[0m] kj_core.core_config.set_working_directory: Working directory set to C:\\kyellsen\\005_Projekte\\2024_BA\\032_Feldversuch_2023_Plesse\\030_Analysen\\2023_Kronensicherung_Plesse_Kraefte_Schwingungen\\working_directory\\combined!\n",
      "2025-05-25 13:22:43 [\u001B[92mINFO\u001B[0m] kj_core.core_config.__init__: <CoreConfig>\n",
      "  Package:            kj_core\n",
      "  Working Directory:  C:\\kyellsen\\005_Projekte\\2024_BA\\032_Feldversuch_2023_Plesse\\030_Analysen\\2023_Kronensicherung_Plesse_Kraefte_Schwingungen\\working_directory\\combined\n",
      "  Plot Directory:     C:\\kyellsen\\005_Projekte\\2024_BA\\032_Feldversuch_2023_Plesse\\030_Analysen\\2023_Kronensicherung_Plesse_Kraefte_Schwingungen\\working_directory\\combined\\plots\n",
      "  Data Directory:     C:\\kyellsen\\005_Projekte\\2024_BA\\032_Feldversuch_2023_Plesse\\030_Analysen\\2023_Kronensicherung_Plesse_Kraefte_Schwingungen\\working_directory\\combined\\data\n",
      "  Database Directory: C:\\kyellsen\\005_Projekte\\2024_BA\\032_Feldversuch_2023_Plesse\\030_Analysen\\2023_Kronensicherung_Plesse_Kraefte_Schwingungen\\working_directory\\combined\\databases\n",
      " initialized! Code: 001\n",
      "2025-05-25 13:22:43 [\u001B[92mINFO\u001B[0m] kj_core.utils.plot_manager.__init__: <PlotManager>\n",
      "  Plot Directory:    C:\\kyellsen\\005_Projekte\\2024_BA\\032_Feldversuch_2023_Plesse\\030_Analysen\\2023_Kronensicherung_Plesse_Kraefte_Schwingungen\\working_directory\\combined\\plots\n",
      "  DPI:               300\n",
      "  Figure Size:       (8, 6)\n",
      "  Seaborn Style:     'whitegrid'\n",
      "  Color Palette:     'bright'\n",
      "  Grid Enabled:      True\n",
      "  Wide Format:       True\n",
      "  From Config:       CoreConfig\n",
      " initialized! Code: 005\n"
     ]
    }
   ],
   "source": [
    "logger = get_logger(__name__)\n",
    "CONFIG = CoreConfig(working_directory=f\"{working_directory}/combined\")\n",
    "PLOT_MANAGER = PlotManager(CONFIG)"
   ],
   "metadata": {
    "collapsed": false,
    "ExecuteTime": {
     "end_time": "2025-05-25T11:22:43.610147600Z",
     "start_time": "2025-05-25T11:22:43.553300700Z"
    }
   }
  },
  {
   "cell_type": "markdown",
   "metadata": {
    "collapsed": false
   },
   "source": [
    "## IMPORT: Daten Import"
   ]
  },
  {
   "cell_type": "code",
   "execution_count": 4,
   "outputs": [],
   "source": [
    "# Dateien laden\n",
    "df = pd.read_feather(data_export_directory / filename_clean_dataset)\n",
    "\n",
    "with open(data_export_directory / filename_clean_data_dict, \"r\", encoding=\"utf-8\") as f:\n",
    "    data_dict = json.load(f)"
   ],
   "metadata": {
    "collapsed": false,
    "ExecuteTime": {
     "end_time": "2025-05-25T11:22:43.648031500Z",
     "start_time": "2025-05-25T11:22:43.565515300Z"
    }
   }
  },
  {
   "cell_type": "markdown",
   "source": [
    "## ANALYSE: Explorative Datenanalyse"
   ],
   "metadata": {
    "collapsed": false
   }
  },
  {
   "cell_type": "code",
   "execution_count": 5,
   "outputs": [
    {
     "data": {
      "text/plain": "    id       rope_datetime treatment  release_force_target  rope_release  \\\n4    2 2022-03-23 11:24:23      free                   2.8       2.72310   \n5    2 2022-03-23 11:24:23      free                   2.8       2.72310   \n6    2 2022-03-23 11:24:23      free                   2.8       2.72310   \n7    2 2022-03-23 11:24:23      free                   2.8       2.72310   \n8    3 2022-03-23 11:31:12      free                   2.8       2.76205   \n9    3 2022-03-23 11:31:12      free                   2.8       2.76205   \n10   3 2022-03-23 11:31:12      free                   2.8       2.76205   \n11   3 2022-03-23 11:31:12      free                   2.8       2.76205   \n12   4 2022-03-23 11:54:33      free                   2.8       2.73950   \n13   4 2022-03-23 11:54:33      free                   2.8       2.73950   \n\n    cable_max  cable_integral sensor_name location   direction  ...  \\\n4         NaN             0.0  Elasto(90)      StB  elongation  ...   \n5         NaN             0.0  Elasto(92)      StB  elongation  ...   \n6         NaN             0.0  Elasto(95)      StA  elongation  ...   \n7         NaN             0.0  Elasto(98)      StA  elongation  ...   \n8         NaN             0.0  Elasto(90)      StB  elongation  ...   \n9         NaN             0.0  Elasto(92)      StB  elongation  ...   \n10        NaN             0.0  Elasto(95)      StA  elongation  ...   \n11        NaN             0.0  Elasto(98)      StA  elongation  ...   \n12        NaN             0.0  Elasto(90)      StB  elongation  ...   \n13        NaN             0.0  Elasto(92)      StB  elongation  ...   \n\n    frequency_damped  phase_angle    y_shift   x_shift  frequency_undamped  \\\n4           0.441518     0.200000  -5.287164  0.116641            0.442936   \n5           0.432441    -0.200000 -14.233644 -0.009730            0.436601   \n6           0.422702    -0.200000 -19.011309 -0.123043            0.426319   \n7           0.443529    -0.065967  -1.099515  0.118608            0.445993   \n8           0.440653     0.200000   7.775284  0.097887            0.441317   \n9           0.439321    -0.075771   7.052210  0.094719            0.441380   \n10          0.436023    -0.200000  -3.785755 -0.075741            0.438127   \n11          0.441350    -0.200000 -17.747289 -0.203345            0.442888   \n12          0.439065     0.200000 -23.445975  0.120929            0.439764   \n13          0.436850    -0.200000 -19.454720  0.061912            0.438829   \n\n    damping_ratio  metrics_warning  pearson_r     nrmse      nmae  \n4        0.503994            False   0.943158  0.038866  0.018011  \n5        0.873595            False   0.929554  0.034560  0.016183  \n6        0.823807            False   0.908058  0.044873  0.024274  \n7        0.663224            False   0.980663  0.029621  0.021087  \n8        0.344951            False   0.957380  0.043035  0.018619  \n9        0.608931            False   0.933463  0.043534  0.021255  \n10       0.618021            False   0.938307  0.039020  0.022498  \n11       0.525070            False   0.974139  0.028693  0.020715  \n12       0.354677            False   0.945320  0.049764  0.021509  \n13       0.598701            False   0.922665  0.050822  0.020659  \n\n[10 rows x 33 columns]",
      "text/html": "<div>\n<style scoped>\n    .dataframe tbody tr th:only-of-type {\n        vertical-align: middle;\n    }\n\n    .dataframe tbody tr th {\n        vertical-align: top;\n    }\n\n    .dataframe thead th {\n        text-align: right;\n    }\n</style>\n<table border=\"1\" class=\"dataframe\">\n  <thead>\n    <tr style=\"text-align: right;\">\n      <th></th>\n      <th>id</th>\n      <th>rope_datetime</th>\n      <th>treatment</th>\n      <th>release_force_target</th>\n      <th>rope_release</th>\n      <th>cable_max</th>\n      <th>cable_integral</th>\n      <th>sensor_name</th>\n      <th>location</th>\n      <th>direction</th>\n      <th>...</th>\n      <th>frequency_damped</th>\n      <th>phase_angle</th>\n      <th>y_shift</th>\n      <th>x_shift</th>\n      <th>frequency_undamped</th>\n      <th>damping_ratio</th>\n      <th>metrics_warning</th>\n      <th>pearson_r</th>\n      <th>nrmse</th>\n      <th>nmae</th>\n    </tr>\n  </thead>\n  <tbody>\n    <tr>\n      <th>4</th>\n      <td>2</td>\n      <td>2022-03-23 11:24:23</td>\n      <td>free</td>\n      <td>2.8</td>\n      <td>2.72310</td>\n      <td>NaN</td>\n      <td>0.0</td>\n      <td>Elasto(90)</td>\n      <td>StB</td>\n      <td>elongation</td>\n      <td>...</td>\n      <td>0.441518</td>\n      <td>0.200000</td>\n      <td>-5.287164</td>\n      <td>0.116641</td>\n      <td>0.442936</td>\n      <td>0.503994</td>\n      <td>False</td>\n      <td>0.943158</td>\n      <td>0.038866</td>\n      <td>0.018011</td>\n    </tr>\n    <tr>\n      <th>5</th>\n      <td>2</td>\n      <td>2022-03-23 11:24:23</td>\n      <td>free</td>\n      <td>2.8</td>\n      <td>2.72310</td>\n      <td>NaN</td>\n      <td>0.0</td>\n      <td>Elasto(92)</td>\n      <td>StB</td>\n      <td>elongation</td>\n      <td>...</td>\n      <td>0.432441</td>\n      <td>-0.200000</td>\n      <td>-14.233644</td>\n      <td>-0.009730</td>\n      <td>0.436601</td>\n      <td>0.873595</td>\n      <td>False</td>\n      <td>0.929554</td>\n      <td>0.034560</td>\n      <td>0.016183</td>\n    </tr>\n    <tr>\n      <th>6</th>\n      <td>2</td>\n      <td>2022-03-23 11:24:23</td>\n      <td>free</td>\n      <td>2.8</td>\n      <td>2.72310</td>\n      <td>NaN</td>\n      <td>0.0</td>\n      <td>Elasto(95)</td>\n      <td>StA</td>\n      <td>elongation</td>\n      <td>...</td>\n      <td>0.422702</td>\n      <td>-0.200000</td>\n      <td>-19.011309</td>\n      <td>-0.123043</td>\n      <td>0.426319</td>\n      <td>0.823807</td>\n      <td>False</td>\n      <td>0.908058</td>\n      <td>0.044873</td>\n      <td>0.024274</td>\n    </tr>\n    <tr>\n      <th>7</th>\n      <td>2</td>\n      <td>2022-03-23 11:24:23</td>\n      <td>free</td>\n      <td>2.8</td>\n      <td>2.72310</td>\n      <td>NaN</td>\n      <td>0.0</td>\n      <td>Elasto(98)</td>\n      <td>StA</td>\n      <td>elongation</td>\n      <td>...</td>\n      <td>0.443529</td>\n      <td>-0.065967</td>\n      <td>-1.099515</td>\n      <td>0.118608</td>\n      <td>0.445993</td>\n      <td>0.663224</td>\n      <td>False</td>\n      <td>0.980663</td>\n      <td>0.029621</td>\n      <td>0.021087</td>\n    </tr>\n    <tr>\n      <th>8</th>\n      <td>3</td>\n      <td>2022-03-23 11:31:12</td>\n      <td>free</td>\n      <td>2.8</td>\n      <td>2.76205</td>\n      <td>NaN</td>\n      <td>0.0</td>\n      <td>Elasto(90)</td>\n      <td>StB</td>\n      <td>elongation</td>\n      <td>...</td>\n      <td>0.440653</td>\n      <td>0.200000</td>\n      <td>7.775284</td>\n      <td>0.097887</td>\n      <td>0.441317</td>\n      <td>0.344951</td>\n      <td>False</td>\n      <td>0.957380</td>\n      <td>0.043035</td>\n      <td>0.018619</td>\n    </tr>\n    <tr>\n      <th>9</th>\n      <td>3</td>\n      <td>2022-03-23 11:31:12</td>\n      <td>free</td>\n      <td>2.8</td>\n      <td>2.76205</td>\n      <td>NaN</td>\n      <td>0.0</td>\n      <td>Elasto(92)</td>\n      <td>StB</td>\n      <td>elongation</td>\n      <td>...</td>\n      <td>0.439321</td>\n      <td>-0.075771</td>\n      <td>7.052210</td>\n      <td>0.094719</td>\n      <td>0.441380</td>\n      <td>0.608931</td>\n      <td>False</td>\n      <td>0.933463</td>\n      <td>0.043534</td>\n      <td>0.021255</td>\n    </tr>\n    <tr>\n      <th>10</th>\n      <td>3</td>\n      <td>2022-03-23 11:31:12</td>\n      <td>free</td>\n      <td>2.8</td>\n      <td>2.76205</td>\n      <td>NaN</td>\n      <td>0.0</td>\n      <td>Elasto(95)</td>\n      <td>StA</td>\n      <td>elongation</td>\n      <td>...</td>\n      <td>0.436023</td>\n      <td>-0.200000</td>\n      <td>-3.785755</td>\n      <td>-0.075741</td>\n      <td>0.438127</td>\n      <td>0.618021</td>\n      <td>False</td>\n      <td>0.938307</td>\n      <td>0.039020</td>\n      <td>0.022498</td>\n    </tr>\n    <tr>\n      <th>11</th>\n      <td>3</td>\n      <td>2022-03-23 11:31:12</td>\n      <td>free</td>\n      <td>2.8</td>\n      <td>2.76205</td>\n      <td>NaN</td>\n      <td>0.0</td>\n      <td>Elasto(98)</td>\n      <td>StA</td>\n      <td>elongation</td>\n      <td>...</td>\n      <td>0.441350</td>\n      <td>-0.200000</td>\n      <td>-17.747289</td>\n      <td>-0.203345</td>\n      <td>0.442888</td>\n      <td>0.525070</td>\n      <td>False</td>\n      <td>0.974139</td>\n      <td>0.028693</td>\n      <td>0.020715</td>\n    </tr>\n    <tr>\n      <th>12</th>\n      <td>4</td>\n      <td>2022-03-23 11:54:33</td>\n      <td>free</td>\n      <td>2.8</td>\n      <td>2.73950</td>\n      <td>NaN</td>\n      <td>0.0</td>\n      <td>Elasto(90)</td>\n      <td>StB</td>\n      <td>elongation</td>\n      <td>...</td>\n      <td>0.439065</td>\n      <td>0.200000</td>\n      <td>-23.445975</td>\n      <td>0.120929</td>\n      <td>0.439764</td>\n      <td>0.354677</td>\n      <td>False</td>\n      <td>0.945320</td>\n      <td>0.049764</td>\n      <td>0.021509</td>\n    </tr>\n    <tr>\n      <th>13</th>\n      <td>4</td>\n      <td>2022-03-23 11:54:33</td>\n      <td>free</td>\n      <td>2.8</td>\n      <td>2.73950</td>\n      <td>NaN</td>\n      <td>0.0</td>\n      <td>Elasto(92)</td>\n      <td>StB</td>\n      <td>elongation</td>\n      <td>...</td>\n      <td>0.436850</td>\n      <td>-0.200000</td>\n      <td>-19.454720</td>\n      <td>0.061912</td>\n      <td>0.438829</td>\n      <td>0.598701</td>\n      <td>False</td>\n      <td>0.922665</td>\n      <td>0.050822</td>\n      <td>0.020659</td>\n    </tr>\n  </tbody>\n</table>\n<p>10 rows × 33 columns</p>\n</div>"
     },
     "execution_count": 5,
     "metadata": {},
     "output_type": "execute_result"
    }
   ],
   "source": [
    "df.head(10)"
   ],
   "metadata": {
    "collapsed": false,
    "ExecuteTime": {
     "end_time": "2025-05-25T11:22:43.677087400Z",
     "start_time": "2025-05-25T11:22:43.605148200Z"
    }
   }
  },
  {
   "cell_type": "code",
   "execution_count": 6,
   "outputs": [
    {
     "data": {
      "text/plain": "Index(['id', 'rope_datetime', 'treatment', 'release_force_target',\n       'rope_release', 'cable_max', 'cable_integral', 'sensor_name',\n       'location', 'direction', 'height', 'diameter', 'max_strain',\n       'max_compression', 'integral_intercept', 'integral_positiv',\n       'integral_negativ', 'integral_abs', 'integral_ratio', 'm_amplitude',\n       'm_amplitude_2', 'initial_amplitude', 'damping_coeff',\n       'frequency_damped', 'phase_angle', 'y_shift', 'x_shift',\n       'frequency_undamped', 'damping_ratio', 'metrics_warning', 'pearson_r',\n       'nrmse', 'nmae'],\n      dtype='object')"
     },
     "execution_count": 6,
     "metadata": {},
     "output_type": "execute_result"
    }
   ],
   "source": [
    "df.columns"
   ],
   "metadata": {
    "collapsed": false,
    "ExecuteTime": {
     "end_time": "2025-05-25T11:22:43.682080100Z",
     "start_time": "2025-05-25T11:22:43.641464100Z"
    }
   }
  },
  {
   "cell_type": "code",
   "execution_count": 7,
   "outputs": [],
   "source": [
    "df = df[['id', 'rope_datetime', 'treatment', 'release_force_target', 'rope_release', 'cable_max_force', 'sensor_name', 'location', 'direction', 'height', 'diameter', 'max_strain', 'max_compression']]"
   ],
   "metadata": {
    "collapsed": false,
    "ExecuteTime": {
     "end_time": "2025-05-25T11:22:43.682080100Z",
     "start_time": "2025-05-25T11:22:43.654032900Z"
    }
   }
  },
  {
   "cell_type": "markdown",
   "source": [
    "### COMBINED: Definition von Darstellungsstandards\n",
    "Festlegen von Farbcodes für einheitliche Darstellung von Sensoren und Behandlungsvarianten für alle nachfolgenden Plots."
   ],
   "metadata": {
    "collapsed": false
   }
  },
  {
   "cell_type": "code",
   "execution_count": 8,
   "outputs": [
    {
     "name": "stdout",
     "output_type": "stream",
     "text": [
      "Index(['free', 'gefa_dynamic', 'cobra_static'], dtype='object')\n",
      "Index(['Elasto(90)', 'Elasto(92)', 'Elasto(95)', 'Elasto(98)'], dtype='object')\n"
     ]
    }
   ],
   "source": [
    "color_palette = PLOT_MANAGER.color_palette_list\n",
    "\n",
    "# Für die Spalte \"treatment\":\n",
    "treatment_color_dict = get_color_dict(df, \"treatment\", PLOT_MANAGER.color_palette_list)\n",
    "# Für die Spalte \"sensor_name\":\n",
    "sensor_color_dict = get_color_dict(df, \"sensor_name\", PLOT_MANAGER.color_palette_list)"
   ],
   "metadata": {
    "collapsed": false,
    "ExecuteTime": {
     "end_time": "2025-05-25T11:22:43.683085900Z",
     "start_time": "2025-05-25T11:22:43.662385Z"
    }
   }
  },
  {
   "cell_type": "markdown",
   "source": [
    "### PTQ ANALYSE: Einhaltung der maximalen Randfaserdehnung"
   ],
   "metadata": {
    "collapsed": false
   }
  },
  {
   "cell_type": "code",
   "execution_count": 9,
   "outputs": [
    {
     "data": {
      "text/plain": "  sensor_name max_strain               max_compression             \n                     min median    max             min median   max\n0  Elasto(90)      310.2  354.7  429.6          -210.4 -155.6 -57.7\n1  Elasto(92)      184.6  228.3  291.5          -111.0  -40.8  -2.9\n2  Elasto(95)      155.3  216.9  266.3          -115.7  -29.2  -1.7\n3  Elasto(98)      128.9  184.8  234.6          -192.9 -124.8 -69.4",
      "text/html": "<div>\n<style scoped>\n    .dataframe tbody tr th:only-of-type {\n        vertical-align: middle;\n    }\n\n    .dataframe tbody tr th {\n        vertical-align: top;\n    }\n\n    .dataframe thead tr th {\n        text-align: left;\n    }\n</style>\n<table border=\"1\" class=\"dataframe\">\n  <thead>\n    <tr>\n      <th></th>\n      <th>sensor_name</th>\n      <th colspan=\"3\" halign=\"left\">max_strain</th>\n      <th colspan=\"3\" halign=\"left\">max_compression</th>\n    </tr>\n    <tr>\n      <th></th>\n      <th></th>\n      <th>min</th>\n      <th>median</th>\n      <th>max</th>\n      <th>min</th>\n      <th>median</th>\n      <th>max</th>\n    </tr>\n  </thead>\n  <tbody>\n    <tr>\n      <th>0</th>\n      <td>Elasto(90)</td>\n      <td>310.2</td>\n      <td>354.7</td>\n      <td>429.6</td>\n      <td>-210.4</td>\n      <td>-155.6</td>\n      <td>-57.7</td>\n    </tr>\n    <tr>\n      <th>1</th>\n      <td>Elasto(92)</td>\n      <td>184.6</td>\n      <td>228.3</td>\n      <td>291.5</td>\n      <td>-111.0</td>\n      <td>-40.8</td>\n      <td>-2.9</td>\n    </tr>\n    <tr>\n      <th>2</th>\n      <td>Elasto(95)</td>\n      <td>155.3</td>\n      <td>216.9</td>\n      <td>266.3</td>\n      <td>-115.7</td>\n      <td>-29.2</td>\n      <td>-1.7</td>\n    </tr>\n    <tr>\n      <th>3</th>\n      <td>Elasto(98)</td>\n      <td>128.9</td>\n      <td>184.8</td>\n      <td>234.6</td>\n      <td>-192.9</td>\n      <td>-124.8</td>\n      <td>-69.4</td>\n    </tr>\n  </tbody>\n</table>\n</div>"
     },
     "execution_count": 9,
     "metadata": {},
     "output_type": "execute_result"
    }
   ],
   "source": [
    "result = (\n",
    "    df.groupby('sensor_name', observed=True)[['max_strain', 'max_compression']]\n",
    "      .agg(['min', 'median', 'max'])\n",
    ")\n",
    "result = result.reset_index()\n",
    "result"
   ],
   "metadata": {
    "collapsed": false,
    "ExecuteTime": {
     "end_time": "2025-05-25T11:22:43.794541700Z",
     "start_time": "2025-05-25T11:22:43.668972200Z"
    }
   }
  },
  {
   "cell_type": "code",
   "execution_count": 10,
   "outputs": [
    {
     "data": {
      "text/plain": "       sensor $\\Delta L_{\\mathrm{max}}$                \\\n                                    min median    max   \n0  Elasto(90)                     310.2  354.7  429.6   \n1  Elasto(92)                     184.6  228.3  291.5   \n2  Elasto(95)                     155.3  216.9  266.3   \n3  Elasto(98)                     128.9  184.8  234.6   \n\n  $\\Delta L_{\\mathrm{comp,max}}$               \n                             min median   max  \n0                         -210.4 -155.6 -57.7  \n1                         -111.0  -40.8  -2.9  \n2                         -115.7  -29.2  -1.7  \n3                         -192.9 -124.8 -69.4  ",
      "text/html": "<div>\n<style scoped>\n    .dataframe tbody tr th:only-of-type {\n        vertical-align: middle;\n    }\n\n    .dataframe tbody tr th {\n        vertical-align: top;\n    }\n\n    .dataframe thead tr th {\n        text-align: left;\n    }\n</style>\n<table border=\"1\" class=\"dataframe\">\n  <thead>\n    <tr>\n      <th></th>\n      <th>sensor</th>\n      <th colspan=\"3\" halign=\"left\">$\\Delta L_{\\mathrm{max}}$</th>\n      <th colspan=\"3\" halign=\"left\">$\\Delta L_{\\mathrm{comp,max}}$</th>\n    </tr>\n    <tr>\n      <th></th>\n      <th></th>\n      <th>min</th>\n      <th>median</th>\n      <th>max</th>\n      <th>min</th>\n      <th>median</th>\n      <th>max</th>\n    </tr>\n  </thead>\n  <tbody>\n    <tr>\n      <th>0</th>\n      <td>Elasto(90)</td>\n      <td>310.2</td>\n      <td>354.7</td>\n      <td>429.6</td>\n      <td>-210.4</td>\n      <td>-155.6</td>\n      <td>-57.7</td>\n    </tr>\n    <tr>\n      <th>1</th>\n      <td>Elasto(92)</td>\n      <td>184.6</td>\n      <td>228.3</td>\n      <td>291.5</td>\n      <td>-111.0</td>\n      <td>-40.8</td>\n      <td>-2.9</td>\n    </tr>\n    <tr>\n      <th>2</th>\n      <td>Elasto(95)</td>\n      <td>155.3</td>\n      <td>216.9</td>\n      <td>266.3</td>\n      <td>-115.7</td>\n      <td>-29.2</td>\n      <td>-1.7</td>\n    </tr>\n    <tr>\n      <th>3</th>\n      <td>Elasto(98)</td>\n      <td>128.9</td>\n      <td>184.8</td>\n      <td>234.6</td>\n      <td>-192.9</td>\n      <td>-124.8</td>\n      <td>-69.4</td>\n    </tr>\n  </tbody>\n</table>\n</div>"
     },
     "execution_count": 10,
     "metadata": {},
     "output_type": "execute_result"
    }
   ],
   "source": [
    "result = result.rename_axis(index={\"sensor_name\": get_label_from_dict(\"sensor_name\", data_dict)})\n",
    "\n",
    "# Da 'result' einen MultiIndex bei den Spalten hat, ändern wir nur die erste Ebene (also die Variablennamen)\n",
    "new_level0 = [get_label_from_dict(col, data_dict, template=\"{Zeichen}\" ) for col in result.columns.levels[0]]\n",
    "result.columns = result.columns.set_levels(new_level0, level=0)\n",
    "\n",
    "result"
   ],
   "metadata": {
    "collapsed": false,
    "ExecuteTime": {
     "end_time": "2025-05-25T11:22:43.810739500Z",
     "start_time": "2025-05-25T11:22:43.702931700Z"
    }
   }
  },
  {
   "cell_type": "code",
   "execution_count": 11,
   "outputs": [
    {
     "name": "stdout",
     "output_type": "stream",
     "text": [
      "Content saved to: C:\\kyellsen\\005_Projekte\\2024_BA\\032_Feldversuch_2023_Plesse\\030_Analysen\\2023_Kronensicherung_Plesse_Kraefte_Schwingungen\\working_directory\\export_latex\\feldversuch_2_ergebnisse_dehnungswerte_der_elastometer.tex\n"
     ]
    }
   ],
   "source": [
    "latex_string = result.to_latex(index=False, escape=False, column_format=\"l|rrr|rrr\", float_format=\"{:.1f}\".format, multicolumn_format=\"c\")\n",
    "\n",
    "caption = \"Feldversuch 2 - Ergebnisse, Dehnungswerte der Elastometer\"\n",
    "caption_long = \"Feldversuch 2 - Ergebnisse, statistische Zusammenfassung der absoluten Randfaserdehnung/-Stauchung  $\\Delta L_{\\mathrm{max}}$/$\\Delta L_{\\mathrm{comp,max}}$ der Elastometer, in µm über die Länge der Messgeräte von 200~mm, jeweils Wert über alle Messungen, positive Werte = Faserdehnung, negative Werte = Faserstauchung\"\n",
    "save_latex_table(latex_string, caption, latex_export_directory, caption_long)"
   ],
   "metadata": {
    "collapsed": false,
    "ExecuteTime": {
     "end_time": "2025-05-25T11:22:44.443559700Z",
     "start_time": "2025-05-25T11:22:43.722556900Z"
    }
   }
  },
  {
   "cell_type": "code",
   "execution_count": 12,
   "outputs": [],
   "source": [
    "# Pivotieren: 'id' wird zum Zeilenindex, und es werden für jeden sensor_name die Werte der Spalten 'max_strain' und 'max_compression' eingefügt.\n",
    "pivot_df = df.pivot(index='id', columns='sensor_name', values=['max_strain', 'max_compression']) \\\n",
    "             .swaplevel(0, 1, axis=1) \\\n",
    "             .sort_index(axis=1, level=0)"
   ],
   "metadata": {
    "collapsed": false,
    "ExecuteTime": {
     "end_time": "2025-05-25T11:22:44.450072600Z",
     "start_time": "2025-05-25T11:22:43.855520Z"
    }
   }
  },
  {
   "cell_type": "code",
   "execution_count": 13,
   "outputs": [
    {
     "data": {
      "text/plain": "sensor Elasto(90)        Elasto(92)        Elasto(95)        Elasto(98)       \n              min    max        min    max        min    max        min    max\nID                                                                            \n2          -202.2  429.6     -111.0  282.6      -90.4  254.4      -93.8  207.9\n3          -180.0  427.8      -87.0  291.5     -106.8  262.2     -139.1  193.7\n4          -179.2  401.9     -110.3  266.8     -115.7  250.1     -139.4  171.8\n5          -187.2  385.9      -94.4  251.5      -71.1  236.7     -114.4  196.2\n6          -202.6  345.3      -98.8  231.0     -111.8  198.0     -166.6  145.6\n7          -207.2  343.9     -101.2  229.4     -111.0  240.3     -157.9  191.6\n8          -181.1  320.9      -88.1  207.6      -95.2  179.9     -140.9  153.6\n9          -180.9  315.2      -88.6  203.1     -101.6  201.5     -133.6  165.0\n10         -175.6  313.1      -80.9  207.9     -109.0  187.2     -156.8  128.9\n11         -210.4  367.3      -50.6  244.3      -63.9  221.1     -157.6  158.6\n12         -142.7  412.5      -16.5  283.6      -28.5  263.6     -192.9  189.1\n13         -184.0  412.5      -40.8  275.2      -15.8  266.3      -75.6  234.6\n14         -155.6  353.4      -43.1  224.1      -29.2  216.9      -89.6  173.2\n15         -167.0  357.1      -31.8  228.3      -39.9  206.0     -127.4  162.0\n16         -159.0  371.8      -27.6  242.5      -22.1  232.9     -123.5  184.8\n17         -126.5  335.3      -16.1  215.8      -37.0  225.3     -137.5  196.2\n18         -145.3  352.1      -19.6  226.8      -25.1  226.0      -85.5  214.0\n19         -103.4  327.6      -28.1  208.5      -30.2  234.5     -122.5  208.4\n20         -119.3  369.8      -39.4  225.7      -21.1  197.8     -124.8  169.9\n21         -135.8  375.7      -41.5  236.2      -18.8  213.8     -127.1  166.2\n22          -67.8  382.4      -24.6  246.1      -13.3  237.3      -69.4  201.4\n23         -133.9  354.7       -5.1  236.6      -24.5  210.1     -139.7  166.8\n24          -57.7  391.4       -9.5  221.4      -17.7  172.9     -109.3  153.9\n25         -111.5  354.3      -68.2  221.7      -26.3  210.5     -108.4  228.1\n26         -117.3  310.9      -15.5  186.1       -9.6  207.7     -107.1  209.9\n27          -95.0  310.2      -32.9  184.6       -1.7  195.8      -87.6  188.1\n28          -95.4  323.2       -2.9  188.9      -24.5  155.3     -108.4  149.1",
      "text/html": "<div>\n<style scoped>\n    .dataframe tbody tr th:only-of-type {\n        vertical-align: middle;\n    }\n\n    .dataframe tbody tr th {\n        vertical-align: top;\n    }\n\n    .dataframe thead tr th {\n        text-align: left;\n    }\n\n    .dataframe thead tr:last-of-type th {\n        text-align: right;\n    }\n</style>\n<table border=\"1\" class=\"dataframe\">\n  <thead>\n    <tr>\n      <th>sensor</th>\n      <th colspan=\"2\" halign=\"left\">Elasto(90)</th>\n      <th colspan=\"2\" halign=\"left\">Elasto(92)</th>\n      <th colspan=\"2\" halign=\"left\">Elasto(95)</th>\n      <th colspan=\"2\" halign=\"left\">Elasto(98)</th>\n    </tr>\n    <tr>\n      <th></th>\n      <th>min</th>\n      <th>max</th>\n      <th>min</th>\n      <th>max</th>\n      <th>min</th>\n      <th>max</th>\n      <th>min</th>\n      <th>max</th>\n    </tr>\n    <tr>\n      <th>ID</th>\n      <th></th>\n      <th></th>\n      <th></th>\n      <th></th>\n      <th></th>\n      <th></th>\n      <th></th>\n      <th></th>\n    </tr>\n  </thead>\n  <tbody>\n    <tr>\n      <th>2</th>\n      <td>-202.2</td>\n      <td>429.6</td>\n      <td>-111.0</td>\n      <td>282.6</td>\n      <td>-90.4</td>\n      <td>254.4</td>\n      <td>-93.8</td>\n      <td>207.9</td>\n    </tr>\n    <tr>\n      <th>3</th>\n      <td>-180.0</td>\n      <td>427.8</td>\n      <td>-87.0</td>\n      <td>291.5</td>\n      <td>-106.8</td>\n      <td>262.2</td>\n      <td>-139.1</td>\n      <td>193.7</td>\n    </tr>\n    <tr>\n      <th>4</th>\n      <td>-179.2</td>\n      <td>401.9</td>\n      <td>-110.3</td>\n      <td>266.8</td>\n      <td>-115.7</td>\n      <td>250.1</td>\n      <td>-139.4</td>\n      <td>171.8</td>\n    </tr>\n    <tr>\n      <th>5</th>\n      <td>-187.2</td>\n      <td>385.9</td>\n      <td>-94.4</td>\n      <td>251.5</td>\n      <td>-71.1</td>\n      <td>236.7</td>\n      <td>-114.4</td>\n      <td>196.2</td>\n    </tr>\n    <tr>\n      <th>6</th>\n      <td>-202.6</td>\n      <td>345.3</td>\n      <td>-98.8</td>\n      <td>231.0</td>\n      <td>-111.8</td>\n      <td>198.0</td>\n      <td>-166.6</td>\n      <td>145.6</td>\n    </tr>\n    <tr>\n      <th>7</th>\n      <td>-207.2</td>\n      <td>343.9</td>\n      <td>-101.2</td>\n      <td>229.4</td>\n      <td>-111.0</td>\n      <td>240.3</td>\n      <td>-157.9</td>\n      <td>191.6</td>\n    </tr>\n    <tr>\n      <th>8</th>\n      <td>-181.1</td>\n      <td>320.9</td>\n      <td>-88.1</td>\n      <td>207.6</td>\n      <td>-95.2</td>\n      <td>179.9</td>\n      <td>-140.9</td>\n      <td>153.6</td>\n    </tr>\n    <tr>\n      <th>9</th>\n      <td>-180.9</td>\n      <td>315.2</td>\n      <td>-88.6</td>\n      <td>203.1</td>\n      <td>-101.6</td>\n      <td>201.5</td>\n      <td>-133.6</td>\n      <td>165.0</td>\n    </tr>\n    <tr>\n      <th>10</th>\n      <td>-175.6</td>\n      <td>313.1</td>\n      <td>-80.9</td>\n      <td>207.9</td>\n      <td>-109.0</td>\n      <td>187.2</td>\n      <td>-156.8</td>\n      <td>128.9</td>\n    </tr>\n    <tr>\n      <th>11</th>\n      <td>-210.4</td>\n      <td>367.3</td>\n      <td>-50.6</td>\n      <td>244.3</td>\n      <td>-63.9</td>\n      <td>221.1</td>\n      <td>-157.6</td>\n      <td>158.6</td>\n    </tr>\n    <tr>\n      <th>12</th>\n      <td>-142.7</td>\n      <td>412.5</td>\n      <td>-16.5</td>\n      <td>283.6</td>\n      <td>-28.5</td>\n      <td>263.6</td>\n      <td>-192.9</td>\n      <td>189.1</td>\n    </tr>\n    <tr>\n      <th>13</th>\n      <td>-184.0</td>\n      <td>412.5</td>\n      <td>-40.8</td>\n      <td>275.2</td>\n      <td>-15.8</td>\n      <td>266.3</td>\n      <td>-75.6</td>\n      <td>234.6</td>\n    </tr>\n    <tr>\n      <th>14</th>\n      <td>-155.6</td>\n      <td>353.4</td>\n      <td>-43.1</td>\n      <td>224.1</td>\n      <td>-29.2</td>\n      <td>216.9</td>\n      <td>-89.6</td>\n      <td>173.2</td>\n    </tr>\n    <tr>\n      <th>15</th>\n      <td>-167.0</td>\n      <td>357.1</td>\n      <td>-31.8</td>\n      <td>228.3</td>\n      <td>-39.9</td>\n      <td>206.0</td>\n      <td>-127.4</td>\n      <td>162.0</td>\n    </tr>\n    <tr>\n      <th>16</th>\n      <td>-159.0</td>\n      <td>371.8</td>\n      <td>-27.6</td>\n      <td>242.5</td>\n      <td>-22.1</td>\n      <td>232.9</td>\n      <td>-123.5</td>\n      <td>184.8</td>\n    </tr>\n    <tr>\n      <th>17</th>\n      <td>-126.5</td>\n      <td>335.3</td>\n      <td>-16.1</td>\n      <td>215.8</td>\n      <td>-37.0</td>\n      <td>225.3</td>\n      <td>-137.5</td>\n      <td>196.2</td>\n    </tr>\n    <tr>\n      <th>18</th>\n      <td>-145.3</td>\n      <td>352.1</td>\n      <td>-19.6</td>\n      <td>226.8</td>\n      <td>-25.1</td>\n      <td>226.0</td>\n      <td>-85.5</td>\n      <td>214.0</td>\n    </tr>\n    <tr>\n      <th>19</th>\n      <td>-103.4</td>\n      <td>327.6</td>\n      <td>-28.1</td>\n      <td>208.5</td>\n      <td>-30.2</td>\n      <td>234.5</td>\n      <td>-122.5</td>\n      <td>208.4</td>\n    </tr>\n    <tr>\n      <th>20</th>\n      <td>-119.3</td>\n      <td>369.8</td>\n      <td>-39.4</td>\n      <td>225.7</td>\n      <td>-21.1</td>\n      <td>197.8</td>\n      <td>-124.8</td>\n      <td>169.9</td>\n    </tr>\n    <tr>\n      <th>21</th>\n      <td>-135.8</td>\n      <td>375.7</td>\n      <td>-41.5</td>\n      <td>236.2</td>\n      <td>-18.8</td>\n      <td>213.8</td>\n      <td>-127.1</td>\n      <td>166.2</td>\n    </tr>\n    <tr>\n      <th>22</th>\n      <td>-67.8</td>\n      <td>382.4</td>\n      <td>-24.6</td>\n      <td>246.1</td>\n      <td>-13.3</td>\n      <td>237.3</td>\n      <td>-69.4</td>\n      <td>201.4</td>\n    </tr>\n    <tr>\n      <th>23</th>\n      <td>-133.9</td>\n      <td>354.7</td>\n      <td>-5.1</td>\n      <td>236.6</td>\n      <td>-24.5</td>\n      <td>210.1</td>\n      <td>-139.7</td>\n      <td>166.8</td>\n    </tr>\n    <tr>\n      <th>24</th>\n      <td>-57.7</td>\n      <td>391.4</td>\n      <td>-9.5</td>\n      <td>221.4</td>\n      <td>-17.7</td>\n      <td>172.9</td>\n      <td>-109.3</td>\n      <td>153.9</td>\n    </tr>\n    <tr>\n      <th>25</th>\n      <td>-111.5</td>\n      <td>354.3</td>\n      <td>-68.2</td>\n      <td>221.7</td>\n      <td>-26.3</td>\n      <td>210.5</td>\n      <td>-108.4</td>\n      <td>228.1</td>\n    </tr>\n    <tr>\n      <th>26</th>\n      <td>-117.3</td>\n      <td>310.9</td>\n      <td>-15.5</td>\n      <td>186.1</td>\n      <td>-9.6</td>\n      <td>207.7</td>\n      <td>-107.1</td>\n      <td>209.9</td>\n    </tr>\n    <tr>\n      <th>27</th>\n      <td>-95.0</td>\n      <td>310.2</td>\n      <td>-32.9</td>\n      <td>184.6</td>\n      <td>-1.7</td>\n      <td>195.8</td>\n      <td>-87.6</td>\n      <td>188.1</td>\n    </tr>\n    <tr>\n      <th>28</th>\n      <td>-95.4</td>\n      <td>323.2</td>\n      <td>-2.9</td>\n      <td>188.9</td>\n      <td>-24.5</td>\n      <td>155.3</td>\n      <td>-108.4</td>\n      <td>149.1</td>\n    </tr>\n  </tbody>\n</table>\n</div>"
     },
     "execution_count": 13,
     "metadata": {},
     "output_type": "execute_result"
    }
   ],
   "source": [
    "pivot_df.index.name = get_label_from_dict(\"id\", data_dict, template=\"{Zeichen}\")\n",
    "pivot_df.columns = pivot_df.columns.set_levels([\"min\", \"max\"], level=1)\n",
    "\n",
    "# Optional: Den Index wieder als normale Spalte hinzufügen, wenn du das so möchtest\n",
    "pivot_df.columns.names = [get_label_from_dict(\"sensor_name\", data_dict, template=\"{Zeichen}\"), \"\"]\n",
    "\n",
    "pivot_df.reset_index(drop=True)\n",
    "pivot_df"
   ],
   "metadata": {
    "collapsed": false,
    "ExecuteTime": {
     "end_time": "2025-05-25T11:22:44.450072600Z",
     "start_time": "2025-05-25T11:22:43.905021500Z"
    }
   }
  },
  {
   "cell_type": "code",
   "execution_count": 14,
   "outputs": [
    {
     "name": "stdout",
     "output_type": "stream",
     "text": [
      "Content saved to: C:\\kyellsen\\005_Projekte\\2024_BA\\032_Feldversuch_2023_Plesse\\030_Analysen\\2023_Kronensicherung_Plesse_Kraefte_Schwingungen\\working_directory\\export_latex\\feldversuch_2_ergebnisse_maximalwerte_elastometer_vollstandig.tex\n"
     ]
    }
   ],
   "source": [
    "latex_string = pivot_df.to_latex(index=True, escape=False, column_format=\"l|rr|rr|rr|rr\", float_format=\"{:0.1f}\".format, multicolumn_format=\"c\")\n",
    "\n",
    "caption = \"Feldversuch 2 - Ergebnisse, Maximalwerte Elastometer vollständig\"\n",
    "caption_long = \"Feldversuch 2 - Ergebnisse, gemessene maximale absolute Randfaserdehnung der Elastometer $\\Delta L_{\\mathrm{max}}$ in µm über die Länge der Messgeräte von 200~mm, max = maximale Faserdehnung, min. = maximale Faserstauchung\"\n",
    "save_latex_table(latex_string, caption, latex_export_directory, caption_long)"
   ],
   "metadata": {
    "collapsed": false,
    "ExecuteTime": {
     "end_time": "2025-05-25T11:22:44.450072600Z",
     "start_time": "2025-05-25T11:22:43.916669400Z"
    }
   }
  },
  {
   "cell_type": "markdown",
   "source": [
    "Plotten der Maximalwerte der Vorspannung für Dehnung und Stauchung. Für jede Messung werden erst die maximalen Werte berechnet und dann getrennt nach Elasto die Verteilung im Boxplot dargestellt.\n",
    "Auffällig ist Elasto(90) mit den höchsten Dehnungswerten. Dieses Gerät ist am geringfügig dünneren Stämmling angebracht. Die Vorspannung wurde aufgrund der maximalen Messwerte von 429 µm nicht weiter erhöht."
   ],
   "metadata": {
    "collapsed": false
   }
  },
  {
   "cell_type": "code",
   "execution_count": 15,
   "outputs": [
    {
     "data": {
      "text/plain": "<Figure size 800x600 with 2 Axes>",
      "image/png": "[encoded data removed]"
     },
     "metadata": {},
     "output_type": "display_data"
    }
   ],
   "source": [
    "titel_comp_string = get_label_from_dict(\"max_compression\", data_dict, use_titel=True)\n",
    "titel_strain_string = get_label_from_dict(\"max_strain\", data_dict, use_titel=True)\n",
    "label_comp_string = get_label_from_dict(\"max_compression\", data_dict, use_axes=True)\n",
    "label_strain_string = get_label_from_dict(\"max_strain\", data_dict,  use_axes=True)\n",
    "\n",
    "\n",
    "# Erstelle die Subplots\n",
    "fig, axs = plt.subplots(1, 2, figsize=(8, 6))\n",
    "\n",
    "# Boxplot für die minimalen Werte (maximale Compression)\n",
    "sns.boxplot(data=df, x='sensor_name', y='max_compression', hue='sensor_name', palette=sensor_color_dict, ax=axs[0], legend=False)\n",
    "axs[0].set_title(titel_comp_string)\n",
    "axs[0].set_xlabel(\"Sensorname\")\n",
    "axs[0].set_ylabel(label_comp_string)\n",
    "\n",
    "# Boxplot für die maximalen Werte (maximale Strain)\n",
    "sns.boxplot(data=df, x='sensor_name', y='max_strain', hue='sensor_name', palette=sensor_color_dict, ax=axs[1], legend=False)\n",
    "axs[1].set_title(titel_strain_string)\n",
    "axs[1].set_xlabel(\"Sensorname\")\n",
    "axs[1].set_ylabel(label_strain_string)\n",
    "\n",
    "# Layout anpassen und Plot anzeigen\n",
    "plt.tight_layout()\n",
    "plt.show()\n",
    "\n",
    "PLOT_MANAGER.save_plot(fig, filename=\"max_strain_per_elasto\", subdir=\"ptq_strain\")"
   ],
   "metadata": {
    "collapsed": false,
    "ExecuteTime": {
     "end_time": "2025-05-25T11:22:46.565815200Z",
     "start_time": "2025-05-25T11:22:43.944830400Z"
    }
   }
  },
  {
   "cell_type": "markdown",
   "source": [
    "### ANALYSE: Vergleichende Berechnung der Randfaserdehnung"
   ],
   "metadata": {
    "collapsed": false
   }
  },
  {
   "cell_type": "code",
   "execution_count": 16,
   "outputs": [],
   "source": [
    "# Funktion zur Berechnung der Randfaserdehnung (in Dezimalschreibweise)\n",
    "def calculate_epsilon(force: float, H: float, h: float, d: float, E: float) -> float:\n",
    "    \"\"\"\n",
    "    Berechnet die Randfaserdehnung epsilon (dimensionslos, nicht in %).\n",
    "    \n",
    "    Parameters:\n",
    "        force (float): Zugkraft im Seil (in kN)\n",
    "        H (float): Höhe des Angriffspunktes der Zugkraft über dem Stammfuß (in m)\n",
    "        h (float): Höhe des Berechnungspunktes über dem Boden (in m)\n",
    "        d (float): Durchmesser des Stammquerschnitts auf Höhe h (in m)\n",
    "        E (float): Elastizitätsmodul des Holzes (in MPa)\n",
    "    \n",
    "    Returns:\n",
    "        float: Berechnete Randfaserdehnung epsilon (dimensionslos)\n",
    "    \"\"\"\n",
    "    force_N = force * 1000  # Umrechnung der Zugkraft von kN in N\n",
    "    M = force_N * (H - h)  # Biegemoment in N·m\n",
    "    y_max = d / 2  # maximaler Abstand zur neutralen Achse in m\n",
    "    I = (np.pi / 64) * d**4  # Flächenträgheitsmoment in m^4\n",
    "    E_Pa = E * 1e6  # Umrechnung des Elastizitätsmoduls von MPa in N/m^2\n",
    "    epsilon = (M * y_max) / (E_Pa * I)  # Dehnung in Dezimalschreibweise\n",
    "    return epsilon\n",
    "\n",
    "# Funktion zur Berechnung der absoluten Längenänderung\n",
    "def calculate_delta_l(epsilon: float, l0: float) -> float:\n",
    "    \"\"\"\n",
    "    Berechnet die absolute Längenänderung Delta L in Mikrometer.\n",
    "    \n",
    "    Parameters:\n",
    "        epsilon (float): Relative Dehnung (dimensionslos)\n",
    "        l0 (float): Ausgangslänge des Elastometers (in mm)\n",
    "    \n",
    "    Returns:\n",
    "        float: Absolute Längenänderung Delta L in Mikrometer (µm)\n",
    "    \"\"\"\n",
    "    l0_m = l0 / 1000  # Umrechnung der Ausgangslänge von mm in m\n",
    "    delta_L = epsilon * l0_m * 1e6  # Umrechnung der Längenänderung in µm\n",
    "    return delta_L\n"
   ],
   "metadata": {
    "collapsed": false,
    "ExecuteTime": {
     "end_time": "2025-05-25T11:22:46.565815200Z",
     "start_time": "2025-05-25T11:22:45.491134300Z"
    }
   }
  },
  {
   "cell_type": "code",
   "execution_count": 17,
   "outputs": [],
   "source": [
    "# Fixwerte\n",
    "l0 = 200  # mm, Ausgangslänge Elastometer\n",
    "E = 8500  # Elastizitätsmodul Buche in MPa\n",
    "height_rope = 18.30  # m, Höhe des Angriffspunktes der Zugkraft\n",
    "\n",
    "# Berechnung der neuen Spalten\n",
    "df['calc_max_strain_relativ'] = df.apply(lambda row: calculate_epsilon(\n",
    "    row['rope_release'], height_rope, row['height'], row['diameter'], E), axis=1)\n",
    "df['calc_max_strain'] = df['calc_max_strain_relativ'].apply(lambda epsilon: calculate_delta_l(epsilon, l0))"
   ],
   "metadata": {
    "collapsed": false,
    "ExecuteTime": {
     "end_time": "2025-05-25T11:22:46.581461900Z",
     "start_time": "2025-05-25T11:22:45.502293400Z"
    }
   }
  },
  {
   "cell_type": "code",
   "execution_count": 18,
   "outputs": [],
   "source": [
    "# Berechnung der Differenz und der absoluten Differenz in Prozent\n",
    "df['strain_difference'] = (df['calc_max_strain'] - df['max_strain']) / df['max_strain'] * 100"
   ],
   "metadata": {
    "collapsed": false,
    "ExecuteTime": {
     "end_time": "2025-05-25T11:22:46.628354400Z",
     "start_time": "2025-05-25T11:22:45.517504300Z"
    }
   }
  },
  {
   "cell_type": "code",
   "execution_count": 19,
   "outputs": [
    {
     "data": {
      "text/plain": "   id       rope_datetime treatment  release_force_target  rope_release  \\\n4   2 2022-03-23 11:24:23      free                   2.8        2.7231   \n5   2 2022-03-23 11:24:23      free                   2.8        2.7231   \n6   2 2022-03-23 11:24:23      free                   2.8        2.7231   \n7   2 2022-03-23 11:24:23      free                   2.8        2.7231   \n\n   cable_max sensor_name location   direction  height  diameter  max_strain  \\\n4        NaN  Elasto(90)      StB  elongation   16.55   0.18462       429.6   \n5        NaN  Elasto(92)      StB  elongation    11.6  0.241916       282.6   \n6        NaN  Elasto(95)      StA  elongation    11.6  0.245099       254.4   \n7        NaN  Elasto(98)      StA  elongation   16.85  0.203718       207.9   \n\n   max_compression  calc_max_strain_relativ  calc_max_strain  \\\n4           -202.2                 0.000908       181.500762   \n5           -111.0                 0.001544       308.857683   \n6            -90.4                 0.001485       296.979869   \n7            -93.8                 0.000560       111.931536   \n\n   strain_difference  \n4         -57.751219  \n5           9.291466  \n6          16.737370  \n7         -46.160877  ",
      "text/html": "<div>\n<style scoped>\n    .dataframe tbody tr th:only-of-type {\n        vertical-align: middle;\n    }\n\n    .dataframe tbody tr th {\n        vertical-align: top;\n    }\n\n    .dataframe thead th {\n        text-align: right;\n    }\n</style>\n<table border=\"1\" class=\"dataframe\">\n  <thead>\n    <tr style=\"text-align: right;\">\n      <th></th>\n      <th>id</th>\n      <th>rope_datetime</th>\n      <th>treatment</th>\n      <th>release_force_target</th>\n      <th>rope_release</th>\n      <th>cable_max</th>\n      <th>sensor_name</th>\n      <th>location</th>\n      <th>direction</th>\n      <th>height</th>\n      <th>diameter</th>\n      <th>max_strain</th>\n      <th>max_compression</th>\n      <th>calc_max_strain_relativ</th>\n      <th>calc_max_strain</th>\n      <th>strain_difference</th>\n    </tr>\n  </thead>\n  <tbody>\n    <tr>\n      <th>4</th>\n      <td>2</td>\n      <td>2022-03-23 11:24:23</td>\n      <td>free</td>\n      <td>2.8</td>\n      <td>2.7231</td>\n      <td>NaN</td>\n      <td>Elasto(90)</td>\n      <td>StB</td>\n      <td>elongation</td>\n      <td>16.55</td>\n      <td>0.18462</td>\n      <td>429.6</td>\n      <td>-202.2</td>\n      <td>0.000908</td>\n      <td>181.500762</td>\n      <td>-57.751219</td>\n    </tr>\n    <tr>\n      <th>5</th>\n      <td>2</td>\n      <td>2022-03-23 11:24:23</td>\n      <td>free</td>\n      <td>2.8</td>\n      <td>2.7231</td>\n      <td>NaN</td>\n      <td>Elasto(92)</td>\n      <td>StB</td>\n      <td>elongation</td>\n      <td>11.6</td>\n      <td>0.241916</td>\n      <td>282.6</td>\n      <td>-111.0</td>\n      <td>0.001544</td>\n      <td>308.857683</td>\n      <td>9.291466</td>\n    </tr>\n    <tr>\n      <th>6</th>\n      <td>2</td>\n      <td>2022-03-23 11:24:23</td>\n      <td>free</td>\n      <td>2.8</td>\n      <td>2.7231</td>\n      <td>NaN</td>\n      <td>Elasto(95)</td>\n      <td>StA</td>\n      <td>elongation</td>\n      <td>11.6</td>\n      <td>0.245099</td>\n      <td>254.4</td>\n      <td>-90.4</td>\n      <td>0.001485</td>\n      <td>296.979869</td>\n      <td>16.737370</td>\n    </tr>\n    <tr>\n      <th>7</th>\n      <td>2</td>\n      <td>2022-03-23 11:24:23</td>\n      <td>free</td>\n      <td>2.8</td>\n      <td>2.7231</td>\n      <td>NaN</td>\n      <td>Elasto(98)</td>\n      <td>StA</td>\n      <td>elongation</td>\n      <td>16.85</td>\n      <td>0.203718</td>\n      <td>207.9</td>\n      <td>-93.8</td>\n      <td>0.000560</td>\n      <td>111.931536</td>\n      <td>-46.160877</td>\n    </tr>\n  </tbody>\n</table>\n</div>"
     },
     "execution_count": 19,
     "metadata": {},
     "output_type": "execute_result"
    }
   ],
   "source": [
    "df.head(4)"
   ],
   "metadata": {
    "collapsed": false,
    "ExecuteTime": {
     "end_time": "2025-05-25T11:22:46.697370300Z",
     "start_time": "2025-05-25T11:22:45.544811800Z"
    }
   }
  },
  {
   "cell_type": "code",
   "execution_count": 20,
   "outputs": [
    {
     "data": {
      "text/plain": "<Figure size 800x350 with 1 Axes>",
      "image/png": "[encoded data removed]"
     },
     "metadata": {},
     "output_type": "display_data"
    }
   ],
   "source": [
    "# Achsenvariablen definieren\n",
    "x_key = 'sensor_name'\n",
    "y_key = 'strain_difference'\n",
    "\n",
    "plot_title = f\"Relative Differenze {get_label_from_dict(y_key, data_dict, template='{Zeichen}')}\"\n",
    "filename = f\"diff_{x_key}_{y_key}\"\n",
    "\n",
    "# Create violin plot for strain_difference grouped by sensor_name\n",
    "fig = plt.figure(figsize=(8, 3.5))\n",
    "sns.violinplot(x='sensor_name', y='strain_difference', hue='sensor_name', palette=sensor_color_dict, data=df)\n",
    "plt.title(plot_title)\n",
    "plt.xlabel(\"Sensorname\")\n",
    "plt.ylabel(get_label_from_dict(y_key, data_dict, template=\"{Zeichen}\")+\" [%]\")\n",
    "# Layout anpassen und Plot anzeigen\n",
    "plt.tight_layout()\n",
    "plt.show()\n",
    "\n",
    "PLOT_MANAGER.save_plot(fig, filename=filename, subdir=\"ptq_strain\")"
   ],
   "metadata": {
    "collapsed": false,
    "ExecuteTime": {
     "end_time": "2025-05-25T11:22:47.198777600Z",
     "start_time": "2025-05-25T11:22:45.579113200Z"
    }
   }
  },
  {
   "cell_type": "code",
   "execution_count": 21,
   "outputs": [
    {
     "data": {
      "text/plain": "       Sensor  Intercept     Slope     $R^2$        p-Wert  Slope CI (min)  \\\n0  Elasto(90) -26.487864  0.511312  0.741997  8.003693e-09        0.387119   \n1  Elasto(92)  28.825300  1.034570  0.689380  8.419368e-08        0.748518   \n2  Elasto(95)  96.500871  0.741507  0.361397  9.119913e-04        0.335496   \n3  Elasto(98)  79.073673  0.101265  0.040988  3.111818e-01       -0.100499   \n\n   Slope CI (max)  \n0        0.635505  \n1        1.320622  \n2        1.147518  \n3        0.303029  ",
      "text/html": "<div>\n<style scoped>\n    .dataframe tbody tr th:only-of-type {\n        vertical-align: middle;\n    }\n\n    .dataframe tbody tr th {\n        vertical-align: top;\n    }\n\n    .dataframe thead th {\n        text-align: right;\n    }\n</style>\n<table border=\"1\" class=\"dataframe\">\n  <thead>\n    <tr style=\"text-align: right;\">\n      <th></th>\n      <th>Sensor</th>\n      <th>Intercept</th>\n      <th>Slope</th>\n      <th>$R^2$</th>\n      <th>p-Wert</th>\n      <th>Slope CI (min)</th>\n      <th>Slope CI (max)</th>\n    </tr>\n  </thead>\n  <tbody>\n    <tr>\n      <th>0</th>\n      <td>Elasto(90)</td>\n      <td>-26.487864</td>\n      <td>0.511312</td>\n      <td>0.741997</td>\n      <td>8.003693e-09</td>\n      <td>0.387119</td>\n      <td>0.635505</td>\n    </tr>\n    <tr>\n      <th>1</th>\n      <td>Elasto(92)</td>\n      <td>28.825300</td>\n      <td>1.034570</td>\n      <td>0.689380</td>\n      <td>8.419368e-08</td>\n      <td>0.748518</td>\n      <td>1.320622</td>\n    </tr>\n    <tr>\n      <th>2</th>\n      <td>Elasto(95)</td>\n      <td>96.500871</td>\n      <td>0.741507</td>\n      <td>0.361397</td>\n      <td>9.119913e-04</td>\n      <td>0.335496</td>\n      <td>1.147518</td>\n    </tr>\n    <tr>\n      <th>3</th>\n      <td>Elasto(98)</td>\n      <td>79.073673</td>\n      <td>0.101265</td>\n      <td>0.040988</td>\n      <td>3.111818e-01</td>\n      <td>-0.100499</td>\n      <td>0.303029</td>\n    </tr>\n  </tbody>\n</table>\n</div>"
     },
     "execution_count": 21,
     "metadata": {},
     "output_type": "execute_result"
    }
   ],
   "source": [
    "# Gruppierung nach 'sensor_name'\n",
    "grouped = df.groupby('sensor_name', observed=True)\n",
    "\n",
    "# Liste zur Speicherung der Ergebnisse\n",
    "results = []\n",
    "\n",
    "for name, group in grouped:\n",
    "    # Lineare Regression durchführen\n",
    "    X = sm.add_constant(group['max_strain'])  # Intercept hinzufügen\n",
    "    y = group['calc_max_strain']\n",
    "    model = sm.OLS(y, X).fit()\n",
    "    \n",
    "    # Kennzahlen extrahieren\n",
    "    intercept = model.params['const']\n",
    "    slope = model.params['max_strain']\n",
    "    r_squared = model.rsquared\n",
    "    p_value = model.pvalues['max_strain']\n",
    "    conf_int_lower, conf_int_upper = model.conf_int().loc['max_strain']\n",
    "    \n",
    "    # Ergebnisse speichern\n",
    "    results.append({\n",
    "        'Sensor': name,\n",
    "        'Intercept': intercept,\n",
    "        'Slope': slope,\n",
    "        '$R^2$': r_squared,\n",
    "        'p-Wert': p_value,\n",
    "        'Slope CI (min)': conf_int_lower,\n",
    "        'Slope CI (max)': conf_int_upper\n",
    "    })\n",
    "\n",
    "# Ergebnisse in einem DataFrame zusammenfassen\n",
    "summary_df = pd.DataFrame(results)\n",
    "summary_df"
   ],
   "metadata": {
    "collapsed": false,
    "ExecuteTime": {
     "end_time": "2025-05-25T11:22:47.198777600Z",
     "start_time": "2025-05-25T11:22:46.260095700Z"
    }
   }
  },
  {
   "cell_type": "code",
   "execution_count": 22,
   "outputs": [
    {
     "name": "stdout",
     "output_type": "stream",
     "text": [
      "Content saved to: C:\\kyellsen\\005_Projekte\\2024_BA\\032_Feldversuch_2023_Plesse\\030_Analysen\\2023_Kronensicherung_Plesse_Kraefte_Schwingungen\\working_directory\\export_latex\\feldversuch_2_ergebnisse_zusammenfassung_regression_max_vs_berechnete_dehnung.tex\n"
     ]
    }
   ],
   "source": [
    "# p-Werte individuell formatieren: Wenn p < 0.001, dann in wissenschaftlicher Notation, sonst mit 2 Dezimalstellen\n",
    "summary_df[\"p-Wert\"] = summary_df[\"p-Wert\"].apply(lambda x: f\"{x:.2e}\" if x < 0.001 else f\"{x:.2f}\")\n",
    "\n",
    "\n",
    "# LaTeX-Tabelle erstellen\n",
    "latex_string = summary_df.to_latex(index=False, escape=False, column_format=\"l|rr|rr|rr\",  float_format=\"%.2f\")\n",
    "\n",
    "caption = \"Feldversuch 2 - Ergebnisse, Zusammenfassung Regression max. vs. berechnete Dehnung\"\n",
    "caption_long = f\"Feldversuch 2 - Ergebnisse, Ergebnisse, Zusammenfassung Regression {get_label_from_dict('max_strain', data_dict, use_titel=True)} vs. {get_label_from_dict('calc_max_strain', data_dict, use_titel=True)}\"\n",
    "save_latex_table(latex_string, caption, latex_export_directory, caption_long)"
   ],
   "metadata": {
    "collapsed": false,
    "ExecuteTime": {
     "end_time": "2025-05-25T11:22:47.198777600Z",
     "start_time": "2025-05-25T11:22:46.296872700Z"
    }
   }
  },
  {
   "cell_type": "code",
   "execution_count": 23,
   "outputs": [
    {
     "data": {
      "text/plain": "<Figure size 800x600 with 1 Axes>",
      "image/png": "[encoded data removed]"
     },
     "metadata": {},
     "output_type": "display_data"
    }
   ],
   "source": [
    "# Achsenvariablen definieren\n",
    "x_key = 'max_strain'\n",
    "y_key = 'calc_max_strain'\n",
    "plot_title = f\"Regression {get_label_from_dict(x_key, data_dict, template='{Zeichen}')} vs. {get_label_from_dict(y_key, data_dict, template='{Zeichen}')}\"\n",
    "filename = f\"{x_key}_vs_{y_key}\"\n",
    "\n",
    "# Plot erstellen\n",
    "fig = plt.figure(figsize=(8, 6))\n",
    "\n",
    "for name, group in df.groupby('sensor_name', observed=False):\n",
    "    sns.regplot(\n",
    "        x=group[x_key],\n",
    "        y=group[y_key],\n",
    "        color=sensor_color_dict.get(name, \"gray\"),\n",
    "        label=name,\n",
    "        scatter_kws={\"s\": 40}\n",
    "    )\n",
    "\n",
    "plt.title(plot_title)\n",
    "plt.xlabel(get_label_from_dict(x_key, data_dict, use_axes=True))\n",
    "plt.ylabel(get_label_from_dict(y_key, data_dict, use_axes=True))\n",
    "plt.legend(title='Sensorname')\n",
    "plt.tight_layout()\n",
    "plt.show()\n",
    "\n",
    "# Plot speichern\n",
    "PLOT_MANAGER.save_plot(fig, filename=filename, subdir=\"ptq_strain\")\n"
   ],
   "metadata": {
    "collapsed": false,
    "ExecuteTime": {
     "end_time": "2025-05-25T11:22:48.757734200Z",
     "start_time": "2025-05-25T11:22:46.328760800Z"
    }
   }
  },
  {
   "cell_type": "code",
   "execution_count": 24,
   "outputs": [
    {
     "data": {
      "text/plain": "            $\\Delta L_{\\mathrm{calc,max}}$             \\\n                                      mean         sd   \nsensor_name                                             \nElasto(90)                      158.073110  21.360503   \nElasto(92)                      268.991128  36.348913   \nElasto(95)                      258.646472  34.951034   \nElasto(98)                       97.483702  13.173024   \n\n            $\\Delta L_{\\mathrm{max}}$            $\\Delta \\varepsilon$  \\\n                                 mean         sd                 mean   \nsensor_name                                                             \nElasto(90)                 360.955556  35.985417           -56.286854   \nElasto(92)                 232.140741  29.171644            16.027369   \nElasto(95)                 218.670370  28.335922            19.079464   \nElasto(98)                 181.800000  26.336214           -45.505553   \n\n                        \n                    sd  \nsensor_name             \nElasto(90)    3.078796  \nElasto(92)    8.854493  \nElasto(95)   14.769830  \nElasto(98)    9.392444  ",
      "text/html": "<div>\n<style scoped>\n    .dataframe tbody tr th:only-of-type {\n        vertical-align: middle;\n    }\n\n    .dataframe tbody tr th {\n        vertical-align: top;\n    }\n\n    .dataframe thead tr th {\n        text-align: left;\n    }\n\n    .dataframe thead tr:last-of-type th {\n        text-align: right;\n    }\n</style>\n<table border=\"1\" class=\"dataframe\">\n  <thead>\n    <tr>\n      <th></th>\n      <th colspan=\"2\" halign=\"left\">$\\Delta L_{\\mathrm{calc,max}}$</th>\n      <th colspan=\"2\" halign=\"left\">$\\Delta L_{\\mathrm{max}}$</th>\n      <th colspan=\"2\" halign=\"left\">$\\Delta \\varepsilon$</th>\n    </tr>\n    <tr>\n      <th></th>\n      <th>mean</th>\n      <th>sd</th>\n      <th>mean</th>\n      <th>sd</th>\n      <th>mean</th>\n      <th>sd</th>\n    </tr>\n    <tr>\n      <th>sensor_name</th>\n      <th></th>\n      <th></th>\n      <th></th>\n      <th></th>\n      <th></th>\n      <th></th>\n    </tr>\n  </thead>\n  <tbody>\n    <tr>\n      <th>Elasto(90)</th>\n      <td>158.073110</td>\n      <td>21.360503</td>\n      <td>360.955556</td>\n      <td>35.985417</td>\n      <td>-56.286854</td>\n      <td>3.078796</td>\n    </tr>\n    <tr>\n      <th>Elasto(92)</th>\n      <td>268.991128</td>\n      <td>36.348913</td>\n      <td>232.140741</td>\n      <td>29.171644</td>\n      <td>16.027369</td>\n      <td>8.854493</td>\n    </tr>\n    <tr>\n      <th>Elasto(95)</th>\n      <td>258.646472</td>\n      <td>34.951034</td>\n      <td>218.670370</td>\n      <td>28.335922</td>\n      <td>19.079464</td>\n      <td>14.769830</td>\n    </tr>\n    <tr>\n      <th>Elasto(98)</th>\n      <td>97.483702</td>\n      <td>13.173024</td>\n      <td>181.800000</td>\n      <td>26.336214</td>\n      <td>-45.505553</td>\n      <td>9.392444</td>\n    </tr>\n  </tbody>\n</table>\n</div>"
     },
     "execution_count": 24,
     "metadata": {},
     "output_type": "execute_result"
    }
   ],
   "source": [
    "# Berechnung von Mittelwerten und Standardabweichungen\n",
    "df_strain_stats = df.groupby('sensor_name', observed=False).agg(\n",
    "    calc_max_strain_mean=('calc_max_strain', 'mean'),\n",
    "    calc_max_strain_sd=('calc_max_strain', 'std'),\n",
    "    ptq_max_strain_mean=('max_strain', 'mean'),\n",
    "    ptq_max_strain_sd=('max_strain', 'std'),\n",
    "    strain_difference_mean=('strain_difference', 'mean'),\n",
    "    strain_difference_sd=('strain_difference', 'std')\n",
    ")\n",
    "# Automatische Umbenennung der Spalten basierend auf data_dict\n",
    "columns_new = [(data_dict[var]['Zeichen'], stat) for var, stat in zip(\n",
    "    ['calc_max_strain', 'calc_max_strain', 'max_strain', 'max_strain', 'strain_difference', 'strain_difference'],\n",
    "    ['mean', 'sd', 'mean', 'sd', 'mean', 'sd']\n",
    ")]\n",
    "df_strain_stats.columns = pd.MultiIndex.from_tuples(columns_new)\n",
    "df_strain_stats"
   ],
   "metadata": {
    "collapsed": false,
    "ExecuteTime": {
     "end_time": "2025-05-25T11:22:48.759771800Z",
     "start_time": "2025-05-25T11:22:48.480854300Z"
    }
   }
  },
  {
   "cell_type": "code",
   "execution_count": 25,
   "outputs": [
    {
     "data": {
      "text/plain": "np.float64(34.39)"
     },
     "execution_count": 25,
     "metadata": {},
     "output_type": "execute_result"
    }
   ],
   "source": [
    "# Berechnung des MAPE\n",
    "strain_difference_mape = df['strain_difference'].abs().mean().round(2)\n",
    "strain_difference_mape"
   ],
   "metadata": {
    "collapsed": false,
    "ExecuteTime": {
     "end_time": "2025-05-25T11:22:48.759771800Z",
     "start_time": "2025-05-25T11:22:48.534869700Z"
    }
   }
  },
  {
   "cell_type": "markdown",
   "source": [
    "### LATEX-EXPORT: "
   ],
   "metadata": {
    "collapsed": false
   }
  },
  {
   "cell_type": "markdown",
   "source": [
    "#### LATEX-EXPORT: Vollständig"
   ],
   "metadata": {
    "collapsed": false
   }
  },
  {
   "cell_type": "code",
   "execution_count": 26,
   "outputs": [
    {
     "data": {
      "text/plain": "           $\\Delta L_{\\mathrm{calc,max}}$             \\\n                                     mean         sd   \nEinheit                            $\\mu$m     $\\mu$m   \nElasto(90)                      158.07311  21.360503   \nElasto(92)                     268.991128  36.348913   \nElasto(95)                     258.646472  34.951034   \nElasto(98)                      97.483702  13.173024   \nMAPE                                                   \n\n           $\\Delta L_{\\mathrm{max}}$            $\\Delta \\varepsilon$            \n                                mean         sd                 mean        sd  \nEinheit                       $\\mu$m     $\\mu$m                   \\%        \\%  \nElasto(90)                360.955556  35.985417           -56.286854  3.078796  \nElasto(92)                232.140741  29.171644            16.027369  8.854493  \nElasto(95)                 218.67037  28.335922            19.079464  14.76983  \nElasto(98)                     181.8  26.336214           -45.505553  9.392444  \nMAPE                                                           34.39            ",
      "text/html": "<div>\n<style scoped>\n    .dataframe tbody tr th:only-of-type {\n        vertical-align: middle;\n    }\n\n    .dataframe tbody tr th {\n        vertical-align: top;\n    }\n\n    .dataframe thead tr th {\n        text-align: left;\n    }\n</style>\n<table border=\"1\" class=\"dataframe\">\n  <thead>\n    <tr>\n      <th></th>\n      <th colspan=\"2\" halign=\"left\">$\\Delta L_{\\mathrm{calc,max}}$</th>\n      <th colspan=\"2\" halign=\"left\">$\\Delta L_{\\mathrm{max}}$</th>\n      <th colspan=\"2\" halign=\"left\">$\\Delta \\varepsilon$</th>\n    </tr>\n    <tr>\n      <th></th>\n      <th>mean</th>\n      <th>sd</th>\n      <th>mean</th>\n      <th>sd</th>\n      <th>mean</th>\n      <th>sd</th>\n    </tr>\n  </thead>\n  <tbody>\n    <tr>\n      <th>Einheit</th>\n      <td>$\\mu$m</td>\n      <td>$\\mu$m</td>\n      <td>$\\mu$m</td>\n      <td>$\\mu$m</td>\n      <td>\\%</td>\n      <td>\\%</td>\n    </tr>\n    <tr>\n      <th>Elasto(90)</th>\n      <td>158.07311</td>\n      <td>21.360503</td>\n      <td>360.955556</td>\n      <td>35.985417</td>\n      <td>-56.286854</td>\n      <td>3.078796</td>\n    </tr>\n    <tr>\n      <th>Elasto(92)</th>\n      <td>268.991128</td>\n      <td>36.348913</td>\n      <td>232.140741</td>\n      <td>29.171644</td>\n      <td>16.027369</td>\n      <td>8.854493</td>\n    </tr>\n    <tr>\n      <th>Elasto(95)</th>\n      <td>258.646472</td>\n      <td>34.951034</td>\n      <td>218.67037</td>\n      <td>28.335922</td>\n      <td>19.079464</td>\n      <td>14.76983</td>\n    </tr>\n    <tr>\n      <th>Elasto(98)</th>\n      <td>97.483702</td>\n      <td>13.173024</td>\n      <td>181.8</td>\n      <td>26.336214</td>\n      <td>-45.505553</td>\n      <td>9.392444</td>\n    </tr>\n    <tr>\n      <th>MAPE</th>\n      <td></td>\n      <td></td>\n      <td></td>\n      <td></td>\n      <td>34.39</td>\n      <td></td>\n    </tr>\n  </tbody>\n</table>\n</div>"
     },
     "execution_count": 26,
     "metadata": {},
     "output_type": "execute_result"
    }
   ],
   "source": [
    "# Automatische Einheitenzuweisung\n",
    "df_units = pd.DataFrame([[data_dict[var]['Einheit'] for var in ['calc_max_strain', 'calc_max_strain', 'max_strain', 'max_strain', 'strain_difference', 'strain_difference']]],\n",
    "                        columns=df_strain_stats.columns, index=['Einheit'])\n",
    "\n",
    "# MAPE als eigene Zeile hinzufügen\n",
    "df_mape = pd.DataFrame([['', '', '', '', strain_difference_mape, '']], \n",
    "                        columns=df_strain_stats.columns, index=['MAPE'])\n",
    "\n",
    "# DataFrames zusammenführen\n",
    "df_strain_stats_add = pd.concat([df_units, df_strain_stats, df_mape])\n",
    "df_strain_stats_add"
   ],
   "metadata": {
    "collapsed": false,
    "ExecuteTime": {
     "end_time": "2025-05-25T11:22:48.767826300Z",
     "start_time": "2025-05-25T11:22:48.546872400Z"
    }
   }
  },
  {
   "cell_type": "code",
   "execution_count": 27,
   "outputs": [
    {
     "name": "stdout",
     "output_type": "stream",
     "text": [
      "Content saved to: C:\\kyellsen\\005_Projekte\\2024_BA\\032_Feldversuch_2023_Plesse\\030_Analysen\\2023_Kronensicherung_Plesse_Kraefte_Schwingungen\\working_directory\\export_latex\\feldversuch_2_ergebnisse_zusammenfassung_vergleich_gemessene_und_rechnerische_faserdehnung.tex\n"
     ]
    }
   ],
   "source": [
    "# Konvertierung des DataFrames mit Multi-Index-Spalten in einen LaTeX-String\n",
    "latex_string = df_strain_stats_add.to_latex(\n",
    "    index=True,\n",
    "    escape=False,\n",
    "    float_format=\"{:0.2f}\".format,\n",
    "    multicolumn=True,\n",
    "    multicolumn_format=\"c\",\n",
    "    column_format=\"l|rr|rr|rr\"\n",
    ")\n",
    "\n",
    "# Definition der Beschriftung für die LaTeX-Tabelle\n",
    "caption = \"Feldversuch 2 - Ergebnisse, Zusammenfassung Vergleich gemessene und rechnerische Faserdehnung \"\n",
    "caption_long = \"Feldversuch 2 - Ergebnisse, Zusammenfassung Vergleich gemessene und rechnerische Faserdehnung, Mittelwerte und Standardabweichungen der Abweichung der rechnerischen von der gemessenen maximalen Dehnung, gruppiert über Elastometer bzw. Position\"\n",
    "\n",
    "save_latex_table(latex_string, caption, latex_export_directory, caption_long)"
   ],
   "metadata": {
    "collapsed": false,
    "ExecuteTime": {
     "end_time": "2025-05-25T11:22:48.767826300Z",
     "start_time": "2025-05-25T11:22:48.607883Z"
    }
   }
  },
  {
   "cell_type": "code",
   "execution_count": 28,
   "outputs": [
    {
     "ename": "KeyError",
     "evalue": "'cable_max'",
     "output_type": "error",
     "traceback": [
      "\u001B[1;31m---------------------------------------------------------------------------\u001B[0m",
      "\u001B[1;31mKeyError\u001B[0m                                  Traceback (most recent call last)",
      "Cell \u001B[1;32mIn[28], line 7\u001B[0m\n\u001B[0;32m      4\u001B[0m df_latex \u001B[38;5;241m=\u001B[39m df\u001B[38;5;241m.\u001B[39mcopy()[variables]\n\u001B[0;32m      6\u001B[0m \u001B[38;5;66;03m# Spaltennamen mit den Kurzbezeichnungen (Zeichen) aus dem data_dict umbenennen\u001B[39;00m\n\u001B[1;32m----> 7\u001B[0m df_latex \u001B[38;5;241m=\u001B[39m df_latex\u001B[38;5;241m.\u001B[39mrename(columns\u001B[38;5;241m=\u001B[39m\u001B[43m{\u001B[49m\u001B[43mvar\u001B[49m\u001B[43m:\u001B[49m\u001B[43m \u001B[49m\u001B[43mdata_dict\u001B[49m\u001B[43m[\u001B[49m\u001B[43mvar\u001B[49m\u001B[43m]\u001B[49m\u001B[43m[\u001B[49m\u001B[38;5;124;43m\"\u001B[39;49m\u001B[38;5;124;43mZeichen\u001B[39;49m\u001B[38;5;124;43m\"\u001B[39;49m\u001B[43m]\u001B[49m\u001B[43m \u001B[49m\u001B[38;5;28;43;01mfor\u001B[39;49;00m\u001B[43m \u001B[49m\u001B[43mvar\u001B[49m\u001B[43m \u001B[49m\u001B[38;5;129;43;01min\u001B[39;49;00m\u001B[43m \u001B[49m\u001B[43mvariables\u001B[49m\u001B[43m}\u001B[49m)\n\u001B[0;32m      8\u001B[0m \u001B[38;5;66;03m# Funktionsaufruf mit Beispielparametern\u001B[39;00m\n\u001B[0;32m      9\u001B[0m generate_grouped_latex_tables(\n\u001B[0;32m     10\u001B[0m     df_latex\u001B[38;5;241m=\u001B[39mdf_latex,\n\u001B[0;32m     11\u001B[0m     caption\u001B[38;5;241m=\u001B[39m\u001B[38;5;124m\"\u001B[39m\u001B[38;5;124mFeldversuch 2 - Ergebnisse, Kräfte und Randfaserdehnungen (gemessen und berechnet) vollständig\u001B[39m\u001B[38;5;124m\"\u001B[39m,\n\u001B[1;32m   (...)\u001B[0m\n\u001B[0;32m     14\u001B[0m     latex_export_directory\u001B[38;5;241m=\u001B[39mlatex_export_directory\n\u001B[0;32m     15\u001B[0m )\n",
      "Cell \u001B[1;32mIn[28], line 7\u001B[0m, in \u001B[0;36m<dictcomp>\u001B[1;34m(.0)\u001B[0m\n\u001B[0;32m      4\u001B[0m df_latex \u001B[38;5;241m=\u001B[39m df\u001B[38;5;241m.\u001B[39mcopy()[variables]\n\u001B[0;32m      6\u001B[0m \u001B[38;5;66;03m# Spaltennamen mit den Kurzbezeichnungen (Zeichen) aus dem data_dict umbenennen\u001B[39;00m\n\u001B[1;32m----> 7\u001B[0m df_latex \u001B[38;5;241m=\u001B[39m df_latex\u001B[38;5;241m.\u001B[39mrename(columns\u001B[38;5;241m=\u001B[39m{var: \u001B[43mdata_dict\u001B[49m\u001B[43m[\u001B[49m\u001B[43mvar\u001B[49m\u001B[43m]\u001B[49m[\u001B[38;5;124m\"\u001B[39m\u001B[38;5;124mZeichen\u001B[39m\u001B[38;5;124m\"\u001B[39m] \u001B[38;5;28;01mfor\u001B[39;00m var \u001B[38;5;129;01min\u001B[39;00m variables})\n\u001B[0;32m      8\u001B[0m \u001B[38;5;66;03m# Funktionsaufruf mit Beispielparametern\u001B[39;00m\n\u001B[0;32m      9\u001B[0m generate_grouped_latex_tables(\n\u001B[0;32m     10\u001B[0m     df_latex\u001B[38;5;241m=\u001B[39mdf_latex,\n\u001B[0;32m     11\u001B[0m     caption\u001B[38;5;241m=\u001B[39m\u001B[38;5;124m\"\u001B[39m\u001B[38;5;124mFeldversuch 2 - Ergebnisse, Kräfte und Randfaserdehnungen (gemessen und berechnet) vollständig\u001B[39m\u001B[38;5;124m\"\u001B[39m,\n\u001B[1;32m   (...)\u001B[0m\n\u001B[0;32m     14\u001B[0m     latex_export_directory\u001B[38;5;241m=\u001B[39mlatex_export_directory\n\u001B[0;32m     15\u001B[0m )\n",
      "\u001B[1;31mKeyError\u001B[0m: 'cable_max'"
     ]
    }
   ],
   "source": [
    "# Liste der benötigten Variablen\n",
    "variables = [\"id\", \"treatment\", \"sensor_name\", \"height\", \"diameter\", \"release_force_target\", \"rope_release\", \"cable_max_force\", \"max_compression\", \"max_strain\", \"calc_max_strain\", \"strain_difference\"]\n",
    "# DataFrame kopieren und die gewünschten Spalten auswählen\n",
    "df_latex = df.copy()[variables]\n",
    "\n",
    "# Spaltennamen mit den Kurzbezeichnungen (Zeichen) aus dem data_dict umbenennen\n",
    "df_latex = df_latex.rename(columns={var: data_dict[var][\"Zeichen\"] for var in variables})\n",
    "# Funktionsaufruf mit Beispielparametern\n",
    "generate_grouped_latex_tables(\n",
    "    df_latex=df_latex,\n",
    "    caption=\"Feldversuch 2 - Ergebnisse, Kräfte und Randfaserdehnungen (gemessen und berechnet) vollständig\",\n",
    "    column_format=\"lll|rr|rr|r|rr|rr\",\n",
    "    group_by=\"treatment\",\n",
    "    latex_export_directory=latex_export_directory\n",
    ")\n"
   ],
   "metadata": {
    "collapsed": false,
    "ExecuteTime": {
     "end_time": "2025-05-25T11:22:50.192113300Z",
     "start_time": "2025-05-25T11:22:48.628275200Z"
    }
   }
  },
  {
   "cell_type": "markdown",
   "source": [
    "#### LATEX-EXPORT: Statistische Zusammenfassung"
   ],
   "metadata": {
    "collapsed": false
   }
  },
  {
   "cell_type": "code",
   "execution_count": null,
   "outputs": [],
   "source": [
    "# DataFrame mit den relevanten Spalten erstellen\n",
    "variables = [\"rope_release\", \"cable_max_force\", \"max_compression\", \"max_strain\", \"calc_max_strain\", \"strain_difference\"]\n",
    "df_latex = grouped_describe(df, group_by=\"treatment\", cols=variables, include_overall=True)\n",
    "df_latex"
   ],
   "metadata": {
    "collapsed": false,
    "ExecuteTime": {
     "start_time": "2025-05-25T11:22:50.181879500Z"
    }
   }
  },
  {
   "cell_type": "code",
   "execution_count": null,
   "outputs": [],
   "source": [
    "# Optional: Spaltennamen gemäß data_dict umbenennen (nur, falls die Variable im data_dict existiert)\n",
    "df_latex.rename(columns={var: data_dict[var][\"Zeichen\"] for var in variables if var in data_dict}, inplace=True)\n",
    "\n",
    "df_latex.rename_axis(index={\"treatment\": \"Behandlung\"}, inplace=True)\n",
    "\n",
    "# Entferne \"%\" aus der \"Statistik\"-Ebene des MultiIndex mittels pandas' str.replace\n",
    "df_latex.index = df_latex.index.set_levels(\n",
    "    df_latex.index.levels[1].str.replace('%', '\\%'), \n",
    "    level=\"Statistik\"\n",
    ")\n",
    "\n",
    "# Entferne \"%\" aus der \"Statistik\"-Ebene des MultiIndex mittels pandas' str.replace\n",
    "df_latex.index = df_latex.index.set_levels(\n",
    "    df_latex.index.levels[0].str.replace('_', '\\_'), \n",
    "    level=\"Behandlung\"\n",
    ")\n",
    "\n",
    "# Konvertierung des DataFrames mit Multi-Index-Spalten in einen LaTeX-String\n",
    "latex_string = df_latex.to_latex(\n",
    "    index=True,\n",
    "    escape=False,\n",
    "    float_format=\"{:0.2f}\".format,\n",
    "    multicolumn=True,\n",
    "    multicolumn_format=\"c\",\n",
    "    column_format=\"ll|rr|rr|rr\"\n",
    ")\n",
    "\n",
    "# Definition der Beschriftung für die LaTeX-Tabelle\n",
    "caption = \"Feldversuch 2 - Ergebnisse, Statistische Zusammenfassung, Kräfte und Randfaserdehnungen (gemessen und berechnet)\"\n",
    "caption_long = \"Feldversuch 2 - Ergebnisse, Statistische Zusammenfassung, Kräfte und Randfaserdehnungen (gemessen und berechnet)\"\n",
    "save_latex_table(latex_string, caption, latex_export_directory, caption_long)"
   ],
   "metadata": {
    "collapsed": false,
    "ExecuteTime": {
     "start_time": "2025-05-25T11:22:50.189968500Z"
    }
   }
  },
  {
   "cell_type": "markdown",
   "source": [
    "### Theoretische Berechnungen der Belastung der KS"
   ],
   "metadata": {
    "collapsed": false
   }
  },
  {
   "cell_type": "code",
   "execution_count": null,
   "outputs": [],
   "source": [
    "def calculate_force(epsilon: float, H: float, h: float, d: float, E: float) -> float:\n",
    "    \"\"\"\n",
    "    Berechnet die Zugkraft force (in kN) basierend auf der Randfaserdehnung epsilon bzw. der Dehnung an der Elastizitätsgrenze.\n",
    "    \n",
    "    Parameters:\n",
    "        epsilon (float): Randfaserdehnung (dimensionslos, nicht in %)\n",
    "        H (float): Höhe des Angriffspunktes der Zugkraft über dem Stammfuß (m)\n",
    "        h (float): Höhe des Berechnungspunktes über dem Boden (m)\n",
    "        d (float): Durchmesser des Stammquerschnitts auf Höhe h (m)\n",
    "        E (float): Elastizitätsmodul des Holzes (in MPa)\n",
    "    \n",
    "    Returns:\n",
    "        float: Berechnete Zugkraft force (in kN)\n",
    "    \"\"\"\n",
    "    y_max = d / 2  # maximaler Abstand zur neutralen Achse in m\n",
    "    I = (np.pi / 64) * d**4  # Flächenträgheitsmoment in m^4\n",
    "    E_Pa = E * 1e6  # Umrechnung des Elastizitätsmoduls von MPa in N/m^2\n",
    "    force_N = (epsilon * E_Pa * I) / ((H - h) * y_max)  # Zugkraft in N\n",
    "    force_kN = force_N / 1000  # Umrechnung in kN\n",
    "    return force_kN"
   ],
   "metadata": {
    "collapsed": false,
    "ExecuteTime": {
     "end_time": "2025-05-25T11:22:50.232503100Z",
     "start_time": "2025-05-25T11:22:50.192113300Z"
    }
   }
  },
  {
   "cell_type": "code",
   "execution_count": null,
   "outputs": [],
   "source": [
    "# Fixwerte\n",
    "epsilon = 0.0026  # Elastizitätsgrenze Buche\n",
    "E = 8500  # Elastizitätsmodul Buche in MPa\n",
    "height_ks = 17.40  # m, Höhe des Angriffspunktes der KS\n",
    "height_forke = 10.31  # m, Höhe des Zwiesels\n",
    "stem_diameter = 0.35  # m, Durchmesser des Stammes knapp über dem Zwiesel\n",
    "\n",
    "# Berechnung der Zugkraft\n",
    "force = calculate_force(epsilon, height_ks, height_forke, stem_diameter, E)\n",
    "force"
   ],
   "metadata": {
    "collapsed": false,
    "ExecuteTime": {
     "start_time": "2025-05-25T11:22:50.202195800Z"
    }
   }
  },
  {
   "cell_type": "code",
   "execution_count": null,
   "outputs": [],
   "source": [
    "tree_height = (26.15 + 27.2)/2\n",
    "optimal_ks_height = ((tree_height - height_forke) * (2/3)) + height_forke\n",
    "optimal_ks_height"
   ],
   "metadata": {
    "collapsed": false,
    "ExecuteTime": {
     "start_time": "2025-05-25T11:22:50.210271400Z"
    }
   }
  },
  {
   "cell_type": "code",
   "execution_count": null,
   "outputs": [],
   "source": [
    "force = calculate_force(epsilon, optimal_ks_height, height_forke, stem_diameter, E)\n",
    "force"
   ],
   "metadata": {
    "collapsed": false,
    "ExecuteTime": {
     "start_time": "2025-05-25T11:22:50.212314Z"
    }
   }
  },
  {
   "cell_type": "markdown",
   "source": [
    "### PTQ: Analyse der Stauchungswerte nach Elastometer und Behandlungsvarianten"
   ],
   "metadata": {
    "collapsed": false
   }
  },
  {
   "cell_type": "markdown",
   "source": [],
   "metadata": {
    "collapsed": false
   }
  },
  {
   "cell_type": "code",
   "execution_count": null,
   "outputs": [],
   "source": [
    "# Mixed-Effects Model\n",
    "model = smf.mixedlm(\n",
    "    \"max_compression ~ C(treatment) + C(sensor_name) + rope_release\",\n",
    "    data=df,\n",
    "    groups=df[\"id\"]  # Gruppierung nach Beobachtungsgruppe\n",
    ").fit()\n",
    "\n",
    "# Ergebnisse\n",
    "print(model.summary())"
   ],
   "metadata": {
    "collapsed": false,
    "ExecuteTime": {
     "start_time": "2025-05-25T11:22:50.220355600Z"
    }
   }
  },
  {
   "cell_type": "code",
   "execution_count": null,
   "outputs": [],
   "source": [
    "# Tukey HSD Test für die 'treatment' Gruppe\n",
    "tukey_treatment = mc.pairwise_tukeyhsd(endog=df['max_compression'],\n",
    "                                    groups=df['treatment'],\n",
    "                                    alpha=0.05)\n",
    "print(tukey_treatment)\n",
    "\n",
    "# Tukey HSD Test für die 'sensor_name' Gruppe\n",
    "tukey_sensor = mc.pairwise_tukeyhsd(endog=df['max_compression'],\n",
    "                                 groups=df['sensor_name'],\n",
    "                                 alpha=0.05)\n",
    "print(tukey_sensor)"
   ],
   "metadata": {
    "collapsed": false,
    "ExecuteTime": {
     "start_time": "2025-05-25T11:22:50.222395Z"
    }
   }
  }
 ],
 "metadata": {
  "kernelspec": {
   "display_name": "Python 3 (ipykernel)",
   "language": "python",
   "name": "python3"
  },
  "language_info": {
   "codemirror_mode": {
    "name": "ipython",
    "version": 3
   },
   "file_extension": ".py",
   "mimetype": "text/x-python",
   "name": "python",
   "nbconvert_exporter": "python",
   "pygments_lexer": "ipython3",
   "version": "3.11.2"
  }
 },
 "nbformat": 4,
 "nbformat_minor": 4
}
