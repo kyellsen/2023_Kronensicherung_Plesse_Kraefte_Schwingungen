{
 "cells": [
  {
   "cell_type": "markdown",
   "metadata": {},
   "source": [
    "---\n",
    "title: \"2023_Kronensicherung_Plesse_001_Versuchsablauf\"\n",
    "author: \"Kyell Jensen\"\n",
    "date: \"2024-08-06\"\n",
    "format: pdf\n",
    "editor: visual\n",
    "---"
   ]
  },
  {
   "cell_type": "markdown",
   "metadata": {
    "collapsed": false
   },
   "source": [
    "# 2023_Kronensicherung_Plesse_Kraefte_Schwingungen\n",
    "\n",
    "## Baumdaten, Gerädeanordung und Versuchsaufzeichung\n",
    "\n",
    "Nutze eine geeignete Python 3.11 Umgebung (z. B. virtuelle Environment) und installiere die Pakete linescale3 (LS3) und treeqinetic (PTQ) inklusive kj_core und kj_logger und weiteren requirements."
   ]
  },
  {
   "cell_type": "markdown",
   "metadata": {
    "collapsed": false
   },
   "source": [
    "## Arbeitsumgebung vorbereiten\n",
    "\n",
    "Es werden zuerst benötigte Standard-Pakete importiert. Nachfolgend die zwei extra geschriebenen Pakete LS3 und PTQ. Fehler beim Import dieser zwei Pakete sind ggf. Bugs. Beide Pakete nutzen eine gemeinsame CodeBasis in den Paketen kj_core (Core-Package) und kj_logger (individualisiertes Logging des Verarbeitungs-Prozesses). Diese sollte i. d. R. über die requirements mit installiert werden."
   ]
  },
  {
   "cell_type": "markdown",
   "metadata": {
    "collapsed": false
   },
   "source": [
    "### IMPORT: Importieren von Standardbibliotheken\n",
    "\n",
    "Die folgenden Bibliotheken werden importiert, um grundlegende Funktionen für Strukturierung, Datenverarbeitung, Plotting und statistische Auswertung bereit zu stellen."
   ]
  },
  {
   "cell_type": "code",
   "execution_count": 1,
   "metadata": {
    "ExecuteTime": {
     "end_time": "2025-05-28T07:14:35.198758400Z",
     "start_time": "2025-05-28T07:14:34.673850900Z"
    }
   },
   "outputs": [],
   "source": [
    "# Struktur\n",
    "from pathlib import Path\n",
    "from typing import Dict, List\n",
    "\n",
    "# Datenverarbeitung\n",
    "import json\n",
    "from IPython.display import Markdown, display\n",
    "import numpy as np\n",
    "import pandas as pd\n",
    "from pandas.api.types import CategoricalDtype\n",
    "from slugify import slugify  # Slugify ums strings in standard Formate zu überführen"
   ]
  },
  {
   "cell_type": "markdown",
   "metadata": {
    "collapsed": false,
    "ExecuteTime": {
     "end_time": "2025-03-26T09:00:34.379448500Z",
     "start_time": "2025-03-26T09:00:32.936922Z"
    }
   },
   "source": [
    "Lade allgemeine Export-Funktionen, um die Daten als Latex-Tabellen zu exportieren"
   ]
  },
  {
   "cell_type": "code",
   "execution_count": 2,
   "outputs": [],
   "source": [
    "from kj_core.utils.latex_export import (\n",
    "    save_latex_table,\n",
    "    build_data_dict_df\n",
    ")"
   ],
   "metadata": {
    "collapsed": false,
    "ExecuteTime": {
     "end_time": "2025-05-28T07:14:37.797388900Z",
     "start_time": "2025-05-28T07:14:35.200760700Z"
    }
   }
  },
  {
   "cell_type": "markdown",
   "source": [
    "### IMPORT: Importieren von eigenen Modulen\n",
    "\n",
    "Lege Pfade für Daten-Importe, Daten-Exporte etc. fest (ggf. anpassen an eigene Verzeichnisstruktur), ausgelagert in gemeinsame Config für verschiedene Notebooks"
   ],
   "metadata": {
    "collapsed": false
   }
  },
  {
   "cell_type": "code",
   "execution_count": 3,
   "outputs": [],
   "source": [
    "# Importiere alle Einstellungen aus der project_config.py\n",
    "from project_config import (\n",
    "    analyse_name,\n",
    "    data_path,\n",
    "    working_directory,\n",
    "    data_export_directory,\n",
    "    latex_export_directory\n",
    ")\n",
    "\n"
   ],
   "metadata": {
    "collapsed": false,
    "ExecuteTime": {
     "end_time": "2025-05-28T07:14:37.797388900Z",
     "start_time": "2025-05-28T07:14:37.773088400Z"
    }
   }
  },
  {
   "cell_type": "markdown",
   "source": [
    "## Vorbemerkung"
   ],
   "metadata": {
    "collapsed": false
   }
  },
  {
   "cell_type": "markdown",
   "source": [
    "Die Daten wurden während des Versuchs als GoogleSheet erfasst und abschließend als CSV-Dateien exportiert, um ein einfaches Einlesen zur ermöglichen.\n",
    "Nachfolgend werden Datentypen für alle Spalten explizit in den *_data_dict.json angegeben, da es teils durch Python-Pandas zu Fehlerkennungen kommt.\n",
    "Zusätzlich werden teils Spaltennamen vereinheitlicht oder benannt."
   ],
   "metadata": {
    "collapsed": false
   }
  },
  {
   "cell_type": "markdown",
   "source": [
    "## Daten des Versuchsbaums (tree_df)"
   ],
   "metadata": {
    "collapsed": false,
    "ExecuteTime": {
     "end_time": "2025-03-26T08:56:04.307311Z",
     "start_time": "2025-03-26T08:56:03.209060Z"
    }
   }
  },
  {
   "cell_type": "markdown",
   "source": [
    "### IMPORT: Daten und Datendokumentation\n",
    "\n",
    "Die `tree.csv` liefert spezifische Informationen über den Versuchsbaum. Da nur ein Versuchsbaum, sind hier Daten und Datendokumentation in einer Datei."
   ],
   "metadata": {
    "collapsed": false
   }
  },
  {
   "cell_type": "code",
   "execution_count": 4,
   "outputs": [],
   "source": [
    "tree_df = pd.read_csv(\n",
    "    data_path / 'tree.csv',\n",
    "    sep=';', decimal=',',\n",
    "    na_values='NA',\n",
    "    dtype='string'  # alle Spalten als string\n",
    ")"
   ],
   "metadata": {
    "collapsed": false,
    "ExecuteTime": {
     "end_time": "2025-05-28T07:14:37.798387800Z",
     "start_time": "2025-05-28T07:14:37.780152100Z"
    }
   }
  },
  {
   "cell_type": "markdown",
   "source": [
    "### ANALYSE: Explorative Datenanalyse"
   ],
   "metadata": {
    "collapsed": false
   }
  },
  {
   "cell_type": "code",
   "execution_count": 5,
   "outputs": [],
   "source": [
    "#tree_df"
   ],
   "metadata": {
    "collapsed": false,
    "ExecuteTime": {
     "end_time": "2025-05-28T07:14:37.798387800Z",
     "start_time": "2025-05-28T07:14:37.790378900Z"
    }
   }
  },
  {
   "cell_type": "code",
   "execution_count": 6,
   "outputs": [
    {
     "data": {
      "text/plain": "<IPython.core.display.Markdown object>",
      "text/markdown": "|    | Variable            | Kategorie   | Zeichen                | Deutsch                        | Datentyp   | Einheit   | Beschreibung                        | Wert            |\n|----|---------------------|-------------|------------------------|--------------------------------|------------|-----------|-------------------------------------|-----------------|\n|  0 | baumart             | tree        | Baumart                | Baumart                        | string     | -         | Art des Baumes                      | Fagus silvatica |\n|  1 | belaubung           | tree        | Belaubung              | Belaubung                      | string     | -         | Belaubungszustand zur Messung       | unbelaubt       |\n|  2 | vitalitaet          | tree        | Vitalitaet             | Vitalität nach A. Roloff       | Int64      | Stufe     | Vitalitätsstufe nach Andreas Roloff | 1               |\n|  3 | h_st_a              | tree        | $h_{\\mathrm{StA}}$     | Höhe Stämmling A               | float64    | m         | Gesamthöhe des Stämmlings A         | 26.15           |\n|  4 | h_st_b              | tree        | $h_{\\mathrm{StB}}$     | Höhe Stämmling B               | float64    | m         | Gesamthöhe des Stämmlings B         | 27.20           |\n|  5 | u_1m                | tree        | $u_{1\\,\\mathrm{m}}$    | Umfang auf 1~m                 | float64    | cm        | Stammumfang auf 1~m Höhe            | 140.00          |\n|  6 | h_zwiesel           | tree        | $h_{\\mathrm{Zwiesel}}$ | Höhe Zwiesel                   | float64    | m         | Höhe des Zwiesels über Boden        | 10.31           |\n|  7 | h_ks                | tree        | $h_{\\mathrm{KS}}$      | Höhe Kronensicherung           | float64    | m         | Höhe der KS-Anbringung über Boden   | 17.40           |\n|  8 | l_ks                | tree        | $l_{\\mathrm{KS}}$      | Länge Kronensicherung          | float64    | cm        | Länge der eingebauten KS            | 135.00          |\n|  9 | u_st_a_h_ks         | tree        | $u_{\\mathrm{StA,KS}}$  | Umfang Stämmling A auf Höhe KS | float64    | cm        | Stammumfang von A auf Höhe der KS   | 58.00           |\n| 10 | u_st_b_h_ks         | tree        | $u_{\\mathrm{StB,KS}}$  | Umfang Stämmling B auf Höhe KS | float64    | cm        | Stammumfang von B auf Höhe der KS   | 48.00           |\n| 11 | standort_h_nn       | tree        | $h_{\\mathrm{NN}}$      | Standort Höhe über n. N.       | float64    | m         | Standorthöhe über Normalnull        | 352.00          |\n| 12 | standort_geo_breite | tree        | $\\varphi$              | Standort Geo. Breite           | float64    | Grad      | Geografische Breite des Standorts   | 51.589476       |\n| 13 | standort_geo_laenge | tree        | $\\lambda$              | Standort Geo. Länge            | float64    | Grad      | Geografische Länge des Standorts    | 9.985242        |"
     },
     "metadata": {},
     "output_type": "display_data"
    }
   ],
   "source": [
    "# In Markdown umwandeln und anzeigen\n",
    "md_text = tree_df.to_markdown(tablefmt=\"github\")\n",
    "display(Markdown(md_text))"
   ],
   "metadata": {
    "collapsed": false,
    "ExecuteTime": {
     "end_time": "2025-05-28T07:14:37.815678700Z",
     "start_time": "2025-05-28T07:14:37.796389500Z"
    }
   }
  },
  {
   "cell_type": "markdown",
   "source": [
    "### EXPORT: Daten exportieren für Weiterverarbeitung (.feather, .csv)"
   ],
   "metadata": {
    "collapsed": false,
    "ExecuteTime": {
     "end_time": "2025-03-26T09:00:34.780202300Z",
     "start_time": "2025-03-26T09:00:33.131722200Z"
    }
   }
  },
  {
   "cell_type": "code",
   "execution_count": 7,
   "outputs": [],
   "source": [
    "# DataFrame als Feather\n",
    "tree_df.to_feather(data_export_directory / \"tree.feather\")\n",
    "tree_df.to_csv(data_export_directory / \"tree.csv\", sep=\";\", index=False, encoding=\"utf-8\")"
   ],
   "metadata": {
    "collapsed": false,
    "ExecuteTime": {
     "end_time": "2025-05-28T07:14:37.888968600Z",
     "start_time": "2025-05-28T07:14:37.813676200Z"
    }
   }
  },
  {
   "cell_type": "markdown",
   "source": [
    "### LATEX-EXPORT: Daten und Datendokumentation als Latex-Tabelle exportieren (.tex)"
   ],
   "metadata": {
    "collapsed": false
   }
  },
  {
   "cell_type": "code",
   "execution_count": 8,
   "outputs": [
    {
     "name": "stdout",
     "output_type": "stream",
     "text": [
      "Content saved to: C:\\kyellsen\\005_Projekte\\2024_BA\\032_Feldversuch_2023_Plesse\\030_Analysen\\2023_Kronensicherung_Plesse_Kraefte_Schwingungen\\working_directory\\export_latex\\feldversuch_2_daten_des_versuchsbaums.tex\n"
     ]
    }
   ],
   "source": [
    "select_data_fields = [\"Zeichen\", \"Deutsch\", \"Wert\", \"Datentyp\", \"Einheit\"]\n",
    "tree_df_latex = tree_df[select_data_fields].copy()\n",
    "\n",
    "latex_string = tree_df_latex.to_latex(index=False, escape=False, column_format=\"llrrr\",\n",
    "                                      float_format=\"{:0.2f}\".format)\n",
    "caption = \"Feldversuch 2 - Daten des Versuchsbaums\"\n",
    "\n",
    "save_latex_table(latex_string, caption, latex_export_directory)"
   ],
   "metadata": {
    "collapsed": false,
    "ExecuteTime": {
     "end_time": "2025-05-28T07:14:37.966512Z",
     "start_time": "2025-05-28T07:14:37.838969700Z"
    }
   }
  },
  {
   "cell_type": "markdown",
   "source": [
    "## Daten der Geräteanordnung am Baum (sensor_df)"
   ],
   "metadata": {
    "collapsed": false
   }
  },
  {
   "cell_type": "markdown",
   "source": [
    "### IMPORT: Daten und Datendokumentation\n",
    "\n",
    "Die Datendokumentation ergibt sich aus `sensor_position_data_dict.json`.\n",
    "\n",
    "Die `sensor_position.csv` enthält detaillierte Informationen zur Anordnung der Sensoren an den Bäumen im Rahmen des Experiments. Jede Zeile beschreibt die Platzierung eines Sensors."
   ],
   "metadata": {
    "collapsed": false
   }
  },
  {
   "cell_type": "code",
   "execution_count": 9,
   "outputs": [],
   "source": [
    "# Lade das Dictionary mit der Daten Dokumentation\n",
    "with open(data_path/ \"sensor_position_data_dict.json\", \"r\", encoding=\"utf-8\") as f:\n",
    "    sensor_data_dict = json.load(f)"
   ],
   "metadata": {
    "collapsed": false,
    "ExecuteTime": {
     "end_time": "2025-05-28T07:14:38.000878300Z",
     "start_time": "2025-05-28T07:14:37.956512700Z"
    }
   }
  },
  {
   "cell_type": "code",
   "execution_count": 10,
   "outputs": [],
   "source": [
    "# Erzeuge dtype_dict dynamisch aus dem der Daten Dokumentation\n",
    "dtype_dict = {key: value[\"Datentyp\"] for key, value in sensor_data_dict.items()\n",
    "    if value[\"Datentyp\"] not in [None, \"\"]\n",
    "}\n",
    "\n",
    "# CSV einlesen mit dynamischen Datentypen\n",
    "sensor_file = data_path / 'sensor_position.csv'\n",
    "sensor_df = pd.read_csv(sensor_file, sep=';', decimal=',', na_values='NA',dtype=dtype_dict)"
   ],
   "metadata": {
    "collapsed": false,
    "ExecuteTime": {
     "end_time": "2025-05-28T07:14:38.063857600Z",
     "start_time": "2025-05-28T07:14:37.987872500Z"
    }
   }
  },
  {
   "cell_type": "markdown",
   "source": [
    "### ANALYSE: Explorative Datenanalyse"
   ],
   "metadata": {
    "collapsed": false,
    "ExecuteTime": {
     "end_time": "2025-03-26T09:10:25.653588300Z",
     "start_time": "2025-03-26T09:10:24.461482200Z"
    }
   }
  },
  {
   "cell_type": "code",
   "execution_count": 11,
   "outputs": [
    {
     "data": {
      "text/plain": "<IPython.core.display.Markdown object>",
      "text/markdown": "|    | Variable      | Kategorie       | Zeichen       | Deutsch     | Datentyp   | Einheit   | Beschreibung                             |\n|----|---------------|-----------------|---------------|-------------|------------|-----------|------------------------------------------|\n|  0 | location      | sensor_position | location      | Position    | string     | -         | Position des Sensors am Stamm            |\n|  1 | height        | sensor_position | $h$           | Höhe        | Float64    | m         | Höhe des Sensors am Stamm                |\n|  2 | diameter      | sensor_position | $d$           | Durchmesser | Float64    | cm        | Durchmesser des Stammes                  |\n|  3 | direction     | sensor_position | direction     | Richtung    | string     | -         | Zug- oder Druckseite                     |\n|  4 | type          | sensor_position | type          | Typ         | category   | -         | Typ des Sensors                          |\n|  5 | sensor_id     | sensor_position | sensor\\_id    | Sensor ID   | category   | -         | ID des Sensors                           |\n|  6 | circumference | sensor_position | $u$           | Umfang      | Float64    | m         | Umfang des Stammes am Sensor             |\n|  7 | position_id   | sensor_position | $position_\\id | Position ID | Int64      | -         | Eindeutige ID für Sensorposition am Baum |\n|  8 | note          | sensor_position | note          | Anmerkung   | string     | -         | Anmerkung zur Sensorposition             |"
     },
     "metadata": {},
     "output_type": "display_data"
    }
   ],
   "source": [
    "# In DataFrame umwandeln\n",
    "sensor_data_dict_df = build_data_dict_df(sensor_data_dict)\n",
    "\n",
    "# In Markdown umwandeln und anzeigen\n",
    "md_text = sensor_data_dict_df.to_markdown(tablefmt=\"github\")\n",
    "display(Markdown(md_text))"
   ],
   "metadata": {
    "collapsed": false,
    "ExecuteTime": {
     "end_time": "2025-05-28T07:14:38.108190Z",
     "start_time": "2025-05-28T07:14:38.016727500Z"
    }
   }
  },
  {
   "cell_type": "code",
   "execution_count": 12,
   "outputs": [
    {
     "data": {
      "text/plain": "   position_id  type sensor_id location  height  circumference direction  \\\n0            1   LS3  14:BF:E6     rope    18.3           <NA>      <NA>   \n1            2   LS3  14:99:1E    cable    17.4           <NA>      <NA>   \n2            3  TMS1       015      StA    18.0           0.45      west   \n3            4  TMS1       014      StB    18.0            0.4      west   \n4            5  TMS1       013      StA    15.0           0.67      west   \n\n   note  diameter  \n0  <NA>      <NA>  \n1  <NA>      <NA>  \n2  <NA>  0.143239  \n3  <NA>  0.127324  \n4  <NA>  0.213268  ",
      "text/html": "<div>\n<style scoped>\n    .dataframe tbody tr th:only-of-type {\n        vertical-align: middle;\n    }\n\n    .dataframe tbody tr th {\n        vertical-align: top;\n    }\n\n    .dataframe thead th {\n        text-align: right;\n    }\n</style>\n<table border=\"1\" class=\"dataframe\">\n  <thead>\n    <tr style=\"text-align: right;\">\n      <th></th>\n      <th>position_id</th>\n      <th>type</th>\n      <th>sensor_id</th>\n      <th>location</th>\n      <th>height</th>\n      <th>circumference</th>\n      <th>direction</th>\n      <th>note</th>\n      <th>diameter</th>\n    </tr>\n  </thead>\n  <tbody>\n    <tr>\n      <th>0</th>\n      <td>1</td>\n      <td>LS3</td>\n      <td>14:BF:E6</td>\n      <td>rope</td>\n      <td>18.3</td>\n      <td>&lt;NA&gt;</td>\n      <td>&lt;NA&gt;</td>\n      <td>&lt;NA&gt;</td>\n      <td>&lt;NA&gt;</td>\n    </tr>\n    <tr>\n      <th>1</th>\n      <td>2</td>\n      <td>LS3</td>\n      <td>14:99:1E</td>\n      <td>cable</td>\n      <td>17.4</td>\n      <td>&lt;NA&gt;</td>\n      <td>&lt;NA&gt;</td>\n      <td>&lt;NA&gt;</td>\n      <td>&lt;NA&gt;</td>\n    </tr>\n    <tr>\n      <th>2</th>\n      <td>3</td>\n      <td>TMS1</td>\n      <td>015</td>\n      <td>StA</td>\n      <td>18.0</td>\n      <td>0.45</td>\n      <td>west</td>\n      <td>&lt;NA&gt;</td>\n      <td>0.143239</td>\n    </tr>\n    <tr>\n      <th>3</th>\n      <td>4</td>\n      <td>TMS1</td>\n      <td>014</td>\n      <td>StB</td>\n      <td>18.0</td>\n      <td>0.4</td>\n      <td>west</td>\n      <td>&lt;NA&gt;</td>\n      <td>0.127324</td>\n    </tr>\n    <tr>\n      <th>4</th>\n      <td>5</td>\n      <td>TMS1</td>\n      <td>013</td>\n      <td>StA</td>\n      <td>15.0</td>\n      <td>0.67</td>\n      <td>west</td>\n      <td>&lt;NA&gt;</td>\n      <td>0.213268</td>\n    </tr>\n  </tbody>\n</table>\n</div>"
     },
     "execution_count": 12,
     "metadata": {},
     "output_type": "execute_result"
    }
   ],
   "source": [
    "sensor_df[\"height\"] = sensor_df[\"height\"] / 100\n",
    "sensor_df[\"circumference\"] = sensor_df[\"circumference\"] / 100\n",
    "sensor_df[\"diameter\"] = sensor_df[\"circumference\"] / np.pi\n",
    "\n",
    "sensor_df.head()"
   ],
   "metadata": {
    "collapsed": false,
    "ExecuteTime": {
     "end_time": "2025-05-28T07:14:38.110202900Z",
     "start_time": "2025-05-28T07:14:38.021245600Z"
    }
   }
  },
  {
   "cell_type": "markdown",
   "source": [
    "### EXPORT: Daten exportieren für Weiterverarbeitung (.feather, .csv, .json)"
   ],
   "metadata": {
    "collapsed": false
   }
  },
  {
   "cell_type": "code",
   "execution_count": 13,
   "outputs": [],
   "source": [
    "# DataFrame als Feather\n",
    "sensor_df.to_feather(data_export_directory / \"sensor.feather\")\n",
    "sensor_df.to_csv(data_export_directory / \"sensor.csv\", sep=\";\", index=False, encoding=\"utf-8\")\n",
    "\n",
    "# Dict als JSON (UTF-8, sauber eingerückt)\n",
    "with open(data_export_directory / \"sensor_data_dict.json\", \"w\", encoding=\"utf-8\") as f:\n",
    "    json.dump(sensor_data_dict, f,  indent=4, ensure_ascii=False)"
   ],
   "metadata": {
    "collapsed": false,
    "ExecuteTime": {
     "end_time": "2025-05-28T07:14:38.110202900Z",
     "start_time": "2025-05-28T07:14:38.043077800Z"
    }
   }
  },
  {
   "cell_type": "markdown",
   "source": [
    "### LATEX-EXPORT: Daten und Datendokumentation als Latex-Tabelle exportieren (.tex)"
   ],
   "metadata": {
    "collapsed": false
   }
  },
  {
   "cell_type": "code",
   "execution_count": 14,
   "outputs": [],
   "source": [
    "sensor_select_variables = [\"type\", \"sensor_id\", \"location\", \"direction\", \"height\", \"circumference\", \"diameter\"]"
   ],
   "metadata": {
    "collapsed": false,
    "ExecuteTime": {
     "end_time": "2025-05-28T07:14:38.110202900Z",
     "start_time": "2025-05-28T07:14:38.058861700Z"
    }
   }
  },
  {
   "cell_type": "code",
   "execution_count": 15,
   "outputs": [
    {
     "name": "stdout",
     "output_type": "stream",
     "text": [
      "Content saved to: C:\\kyellsen\\005_Projekte\\2024_BA\\032_Feldversuch_2023_Plesse\\030_Analysen\\2023_Kronensicherung_Plesse_Kraefte_Schwingungen\\working_directory\\export_latex\\feldversuch_2_gerateanordnung.tex\n"
     ]
    }
   ],
   "source": [
    "sensor_df_latex = sensor_df.copy()[sensor_select_variables]\n",
    "\n",
    "# Ersetze Spaltennamen durch Formelzeichen\n",
    "sensor_df_latex.columns = [sensor_data_dict[col][\"Zeichen\"] for col in sensor_select_variables]\n",
    "\n",
    "latex_string = sensor_df_latex.to_latex(index=False, escape=False, column_format=\"lllrrrr\",\n",
    "    float_format=\"{:0.2f}\".format)\n",
    "\n",
    "caption = \"Feldversuch 2 - Geräteanordnung\"\n",
    "save_latex_table(latex_string, caption, latex_export_directory)"
   ],
   "metadata": {
    "collapsed": false,
    "ExecuteTime": {
     "end_time": "2025-05-28T07:14:38.112363800Z",
     "start_time": "2025-05-28T07:14:38.069858700Z"
    }
   }
  },
  {
   "cell_type": "code",
   "execution_count": 16,
   "outputs": [
    {
     "name": "stdout",
     "output_type": "stream",
     "text": [
      "Content saved to: C:\\kyellsen\\005_Projekte\\2024_BA\\032_Feldversuch_2023_Plesse\\030_Analysen\\2023_Kronensicherung_Plesse_Kraefte_Schwingungen\\working_directory\\export_latex\\feldversuch_2_gerateanordnung_daten_dokumentation.tex\n"
     ]
    }
   ],
   "source": [
    "sensor_data_dict_df = build_data_dict_df(sensor_data_dict, keys=sensor_select_variables, escape_index=True, select_latex_fields=True)\n",
    "latex_string = sensor_data_dict_df.to_latex(index=False, escape=False)\n",
    "caption = \"Feldversuch 2 - Geräteanordnung Daten Dokumentation\"\n",
    "\n",
    "save_latex_table(latex_string, caption, latex_export_directory)"
   ],
   "metadata": {
    "collapsed": false,
    "ExecuteTime": {
     "end_time": "2025-05-28T07:14:38.112363800Z",
     "start_time": "2025-05-28T07:14:38.084620800Z"
    }
   }
  },
  {
   "cell_type": "markdown",
   "source": [
    "## Daten des Versuchsablaufs (series_df)"
   ],
   "metadata": {
    "collapsed": false
   }
  },
  {
   "cell_type": "markdown",
   "source": [
    "### IMPORT: Daten und Datendokumentation\n",
    "\n",
    "Die Datendokumentation ergibt sich aus `series_data_dict.json`.\n",
    "\n",
    "Die `series.csv` enthält das Protokoll des Versuchsablaufes der einzelnen Messungen. Jede Zeile repräsentiert eine einzelne Messung. "
   ],
   "metadata": {
    "collapsed": false
   }
  },
  {
   "cell_type": "code",
   "execution_count": 17,
   "outputs": [],
   "source": [
    "# Lade das Dictionary mit der Daten Dokumentation\n",
    "with open(data_path/ \"series_data_dict.json\", \"r\", encoding=\"utf-8\") as f:\n",
    "    series_data_dict = json.load(f)"
   ],
   "metadata": {
    "collapsed": false,
    "ExecuteTime": {
     "end_time": "2025-05-28T07:14:38.254905500Z",
     "start_time": "2025-05-28T07:14:38.088181300Z"
    }
   }
  },
  {
   "cell_type": "code",
   "execution_count": 18,
   "outputs": [],
   "source": [
    "# Erzeuge dtype_dict dynamisch aus dem der Daten Dokumentation\n",
    "dtype_dict = {key: value[\"Datentyp\"] for key, value in series_data_dict.items()\n",
    "    if value[\"Datentyp\"] not in [None, \"\"]\n",
    "}\n",
    "\n",
    "# CSV einlesen mit dynamischen Datentypen\n",
    "series_file = data_path / 'series.csv'\n",
    "series_df = pd.read_csv(series_file, sep=';', decimal=',', na_values='NA', dtype=dtype_dict)\n",
    "\n",
    "# Zeitspalte in Uhrzeit umwandeln\n",
    "series_df[\"time\"] = pd.to_datetime(series_df[\"time\"], format=\"%H:%M:%S\").dt.time"
   ],
   "metadata": {
    "collapsed": false,
    "ExecuteTime": {
     "end_time": "2025-05-28T07:14:38.254905500Z",
     "start_time": "2025-05-28T07:14:38.117374800Z"
    }
   }
  },
  {
   "cell_type": "code",
   "execution_count": 19,
   "outputs": [],
   "source": [
    "# Behandlungskategorien sortiert definieren\n",
    "treatment_order = ['free', 'gefa_dynamic', 'cobra_static', 'cobra_static_slack']\n",
    "treatment_category = CategoricalDtype(categories=treatment_order, ordered=True)\n",
    "series_df[\"treatment\"] = series_df[\"treatment\"].astype(treatment_category)"
   ],
   "metadata": {
    "collapsed": false,
    "ExecuteTime": {
     "end_time": "2025-05-28T07:14:38.254905500Z",
     "start_time": "2025-05-28T07:14:38.134915900Z"
    }
   }
  },
  {
   "cell_type": "markdown",
   "source": [
    "### ANALYSE: Explorative Datenanalyse\n",
    "\n",
    "Behandlungsvariante/Kronensicherung Kategorien:\n",
    "\n",
    "- **`free`**: Der Baum konnte frei ohne Kronensicherung nach dem Release ausschwingen.\n",
    "  \n",
    "- **`gefa_dynamic`**: In ca. 2/3 der Baumhöhe wurde ein dynamisches Gefa Gurtband 4t dynamisch nach ZTV-Baumpflege mit leichtem Durchhang installiert. Das Ausschwingen wurde durch die KS abgedämpft. Da die Sicherung ohne Vorspannung installiert wurde, zeigen die Plots (/ls3/plots/force_vs_time_1/) von '14:99:1E' sowohl am Anfang als auch am Ende ca. 0 kN Kraft an (LogNr 1 bis 9).\n",
    "\n",
    "- **`cobra_static`**: In ca. 2/3 der Baumhöhe wurde eine statische Cobra ultrastatic 7t (Dyneema) Sicherung installiert. Die Vorspannung betrug ca. 0,4 kN, wie sich in den Plots (/ls3/plots/force_vs_time_1/) von '14:99:1E' gut erkennen lässt. Durch das Zusammenziehen der Stämmlinge ist die Kronensicherung vor dem Release vollständig lastfrei (0 kN). Nach dem Release pendelt sich die Kraft ca. bei 0,4 kN ein (LogNr 10-18).\n",
    "\n",
    "- **`cobra_static_slack`**: Ähnlich der `cobra_static`, jedoch wurde die Vorspannung entfernt. Aufgrund von Regen wurde nur eine Messung durchgeführt und die Serie frühzeitig abgebrochen.\n"
   ],
   "metadata": {
    "collapsed": false
   }
  },
  {
   "cell_type": "code",
   "execution_count": 20,
   "outputs": [
    {
     "data": {
      "text/plain": "<IPython.core.display.Markdown object>",
      "text/markdown": "|    | Variable             | Kategorie   | Zeichen                               | Deutsch            | Datentyp   | Einheit   | Beschreibung                                                              |\n|----|----------------------|-------------|---------------------------------------|--------------------|------------|-----------|---------------------------------------------------------------------------|\n|  0 | treatment            | series      | treatment                             | Behandlung         | category   | -         | Art der KS: \\texttt{free}, \\texttt{gefa\\_dynamic}, \\texttt{cobra\\_static} |\n|  1 | release_force_target | series      | $F_{\\mathrm{release,target}}$         | Vorspannkraft-Soll | float64    | kN        | Geplante Vorspannkraft im Zugseil bei Release                             |\n|  2 | id                   | series      | id                                    | ID Messung         | Int64      | -         | ID der Messung / Beobachtung                                              |\n|  3 | time                 | series      | $t$                                   | Zeit               | string     | Zeit      | ca. Uhrzeit Beginn                                                        |\n|  4 | 14:BF:E6             | series      | $\\mathrm{LogNr\\ LS3}_{\\mathrm{Seil}}$ | LogNr. LS3 Zugseil | Int64      | -         | LogNr. LineScale3 im Zugseil                                              |\n|  5 | 14:99:1E             | series      | $\\mathrm{LogNr\\ LS3}_{\\mathrm{KS}}$   | LogNr. LS3 KS      | Int64      | -         | LogNr. LineScale3 in KS                                                   |"
     },
     "metadata": {},
     "output_type": "display_data"
    }
   ],
   "source": [
    "# In DataFrame umwandeln\n",
    "series_data_dict_df = build_data_dict_df(series_data_dict)\n",
    "\n",
    "# In Markdown umwandeln und anzeigen\n",
    "md_text = series_data_dict_df.to_markdown(tablefmt=\"github\")\n",
    "display(Markdown(md_text))"
   ],
   "metadata": {
    "collapsed": false,
    "ExecuteTime": {
     "end_time": "2025-05-28T07:14:38.283898800Z",
     "start_time": "2025-05-28T07:14:38.140050600Z"
    }
   }
  },
  {
   "cell_type": "code",
   "execution_count": 21,
   "outputs": [
    {
     "data": {
      "text/plain": "   id      time  release_force_target treatment  14:BF:E6  14:99:1E\n0   1  10:10:00                   2.5      free         1      <NA>\n1   2  10:20:00                   2.8      free         2      <NA>\n2   3  10:28:00                   2.8      free         3      <NA>\n3   4  10:47:00                   2.8      free         4      <NA>\n4   5  10:53:00                   2.4      free         5      <NA>",
      "text/html": "<div>\n<style scoped>\n    .dataframe tbody tr th:only-of-type {\n        vertical-align: middle;\n    }\n\n    .dataframe tbody tr th {\n        vertical-align: top;\n    }\n\n    .dataframe thead th {\n        text-align: right;\n    }\n</style>\n<table border=\"1\" class=\"dataframe\">\n  <thead>\n    <tr style=\"text-align: right;\">\n      <th></th>\n      <th>id</th>\n      <th>time</th>\n      <th>release_force_target</th>\n      <th>treatment</th>\n      <th>14:BF:E6</th>\n      <th>14:99:1E</th>\n    </tr>\n  </thead>\n  <tbody>\n    <tr>\n      <th>0</th>\n      <td>1</td>\n      <td>10:10:00</td>\n      <td>2.5</td>\n      <td>free</td>\n      <td>1</td>\n      <td>&lt;NA&gt;</td>\n    </tr>\n    <tr>\n      <th>1</th>\n      <td>2</td>\n      <td>10:20:00</td>\n      <td>2.8</td>\n      <td>free</td>\n      <td>2</td>\n      <td>&lt;NA&gt;</td>\n    </tr>\n    <tr>\n      <th>2</th>\n      <td>3</td>\n      <td>10:28:00</td>\n      <td>2.8</td>\n      <td>free</td>\n      <td>3</td>\n      <td>&lt;NA&gt;</td>\n    </tr>\n    <tr>\n      <th>3</th>\n      <td>4</td>\n      <td>10:47:00</td>\n      <td>2.8</td>\n      <td>free</td>\n      <td>4</td>\n      <td>&lt;NA&gt;</td>\n    </tr>\n    <tr>\n      <th>4</th>\n      <td>5</td>\n      <td>10:53:00</td>\n      <td>2.4</td>\n      <td>free</td>\n      <td>5</td>\n      <td>&lt;NA&gt;</td>\n    </tr>\n  </tbody>\n</table>\n</div>"
     },
     "execution_count": 21,
     "metadata": {},
     "output_type": "execute_result"
    }
   ],
   "source": [
    "series_df.head()"
   ],
   "metadata": {
    "collapsed": false,
    "ExecuteTime": {
     "end_time": "2025-05-28T07:14:38.284868400Z",
     "start_time": "2025-05-28T07:14:38.150916700Z"
    }
   }
  },
  {
   "cell_type": "markdown",
   "source": [
    "### EXPORT: Daten exportieren für Weiterverarbeitung (.feather, .csv, .json)"
   ],
   "metadata": {
    "collapsed": false
   }
  },
  {
   "cell_type": "code",
   "execution_count": 22,
   "outputs": [],
   "source": [
    "# DataFrame als Feather\n",
    "series_df.to_feather(data_export_directory / \"series.feather\")\n",
    "series_df.to_csv(data_export_directory / \"series.csv\", sep=\";\", index=False, encoding=\"utf-8\")\n",
    "\n",
    "# Dict als JSON (UTF-8, sauber eingerückt)\n",
    "with open(data_export_directory / \"series_data_dict.json\", \"w\", encoding=\"utf-8\") as f:\n",
    "    json.dump(series_data_dict, f,  indent=4, ensure_ascii=False)"
   ],
   "metadata": {
    "collapsed": false,
    "ExecuteTime": {
     "end_time": "2025-05-28T07:14:38.285910400Z",
     "start_time": "2025-05-28T07:14:38.162868100Z"
    }
   }
  },
  {
   "cell_type": "markdown",
   "source": [
    "### LATEX-EXPORT: Daten und Datendokumentation als Latex-Tabelle exportieren (.tex)"
   ],
   "metadata": {
    "collapsed": false
   }
  },
  {
   "cell_type": "code",
   "execution_count": 23,
   "outputs": [],
   "source": [
    "series_select_variables = [\"id\", \"time\", \"release_force_target\", \"treatment\", \"14:BF:E6\", \"14:99:1E\"]"
   ],
   "metadata": {
    "collapsed": false,
    "ExecuteTime": {
     "end_time": "2025-05-28T07:14:38.326869500Z",
     "start_time": "2025-05-28T07:14:38.174825600Z"
    }
   }
  },
  {
   "cell_type": "code",
   "execution_count": 24,
   "outputs": [
    {
     "name": "stdout",
     "output_type": "stream",
     "text": [
      "Content saved to: C:\\kyellsen\\005_Projekte\\2024_BA\\032_Feldversuch_2023_Plesse\\030_Analysen\\2023_Kronensicherung_Plesse_Kraefte_Schwingungen\\working_directory\\export_latex\\feldversuch_2_versuchsablauf.tex\n"
     ]
    }
   ],
   "source": [
    "series_df_latex = series_df.copy()[series_select_variables]\n",
    "\n",
    "# Ersetze Spaltennamen durch Formelzeichen\n",
    "series_df_latex.columns = [series_data_dict[col][\"Zeichen\"] for col in series_select_variables]\n",
    "\n",
    "series_df_latex[\"treatment\"] = series_df_latex[\"treatment\"].apply(\n",
    "    lambda x: \"\\\\texttt{\" + str(x).replace(\"_\", \"\\\\_\") + \"}\"\n",
    ")\n",
    "\n",
    "latex_string = series_df_latex.to_latex(index=False, escape=False, column_format=\"llrlrr\",\n",
    "                                        float_format=\"{:0.2f}\".format)\n",
    "\n",
    "caption = \"Feldversuch 2 - Versuchsablauf\"\n",
    "caption_long = \"Feldversuch 2 - Versuchsablauf\"\n",
    "\n",
    "save_latex_table(latex_string, caption, latex_export_directory, caption_long=caption_long)"
   ],
   "metadata": {
    "collapsed": false,
    "ExecuteTime": {
     "end_time": "2025-05-28T07:14:38.327870100Z",
     "start_time": "2025-05-28T07:14:38.183196800Z"
    }
   }
  },
  {
   "cell_type": "code",
   "execution_count": 25,
   "outputs": [
    {
     "name": "stdout",
     "output_type": "stream",
     "text": [
      "Content saved to: C:\\kyellsen\\005_Projekte\\2024_BA\\032_Feldversuch_2023_Plesse\\030_Analysen\\2023_Kronensicherung_Plesse_Kraefte_Schwingungen\\working_directory\\export_latex\\feldversuch_2_versuchsablauf_daten_dokumentation.tex\n"
     ]
    }
   ],
   "source": [
    "series_data_dict_df = build_data_dict_df(series_data_dict, keys=series_select_variables, escape_index=True, select_latex_fields=True)\n",
    "\n",
    "latex_string = series_data_dict_df.to_latex(index=False, escape=False)\n",
    "caption = \"Feldversuch 2 - Versuchsablauf Daten Dokumentation\"\n",
    "\n",
    "save_latex_table(latex_string, caption, latex_export_directory)"
   ],
   "metadata": {
    "collapsed": false,
    "ExecuteTime": {
     "end_time": "2025-05-28T07:14:38.327870100Z",
     "start_time": "2025-05-28T07:14:38.195065800Z"
    }
   }
  }
 ],
 "metadata": {
  "kernelspec": {
   "display_name": "Python 3 (ipykernel)",
   "language": "python",
   "name": "python3"
  },
  "language_info": {
   "codemirror_mode": {
    "name": "ipython",
    "version": 3
   },
   "file_extension": ".py",
   "mimetype": "text/x-python",
   "name": "python",
   "nbconvert_exporter": "python",
   "pygments_lexer": "ipython3",
   "version": "3.11.2"
  }
 },
 "nbformat": 4,
 "nbformat_minor": 4
}
