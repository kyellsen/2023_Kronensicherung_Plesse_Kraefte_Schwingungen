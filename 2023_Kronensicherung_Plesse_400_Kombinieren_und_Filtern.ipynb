{
 "cells": [
  {
   "cell_type": "markdown",
   "metadata": {},
   "source": [
    "---\n",
    "title: \"2023_Kronensicherung_Plesse_004_Combination_and_Cleaning\"\n",
    "author: \"Kyell Jensen\"\n",
    "date: \"2024-08-06\"\n",
    "format: pdf\n",
    "editor: visual\n",
    "---"
   ]
  },
  {
   "cell_type": "markdown",
   "metadata": {
    "collapsed": false
   },
   "source": [
    "# 2023_Kronensicherung_Plesse_Combination_and_Cleaning\n",
    "\n",
    "## Kombinieren und Bereinigen der Daten von LineScale3, TreeQinetic und Versuchsaufzeichung\n",
    "\n",
    "Nutze eine geeignete Python 3.11 Umgebung (z. B. virtuelle Environment)."
   ]
  },
  {
   "cell_type": "markdown",
   "metadata": {
    "collapsed": false
   },
   "source": [
    "## Arbeitsumgebung vorbereiten"
   ]
  },
  {
   "cell_type": "markdown",
   "metadata": {
    "collapsed": false
   },
   "source": [
    "### IMPORT: Importieren von Standardbibliotheken\n",
    "\n",
    "Die folgenden Bibliotheken werden importiert, um grundlegende Funktionen für Strukturierung, Datenverarbeitung, Plotting und statistische Auswertung bereit zu stellen."
   ]
  },
  {
   "cell_type": "code",
   "execution_count": 1,
   "metadata": {
    "ExecuteTime": {
     "end_time": "2025-05-28T07:59:21.302363100Z",
     "start_time": "2025-05-28T07:59:20.484589100Z"
    }
   },
   "outputs": [],
   "source": [
    "# Struktur\n",
    "from pathlib import Path\n",
    "from typing import Dict, List\n",
    "\n",
    "# Datenverarbeitung\n",
    "import json\n",
    "from IPython.display import Markdown, display\n",
    "import numpy as np\n",
    "import pandas as pd\n",
    "from pandas.api.types import CategoricalDtype"
   ]
  },
  {
   "cell_type": "markdown",
   "source": [
    "### IMPORT: Importiere eigene Packete"
   ],
   "metadata": {
    "collapsed": false
   }
  },
  {
   "cell_type": "markdown",
   "source": [
    "Lade allgemeine Export-Funktionen, um die Daten als Latex-Tabellen zu exportieren"
   ],
   "metadata": {
    "collapsed": false
   }
  },
  {
   "cell_type": "code",
   "execution_count": 2,
   "outputs": [],
   "source": [
    "from kj_core.utils.latex_export import (\n",
    "    save_latex_table,\n",
    "    build_data_dict_df\n",
    ")"
   ],
   "metadata": {
    "collapsed": false,
    "ExecuteTime": {
     "end_time": "2025-05-28T07:59:22.410825500Z",
     "start_time": "2025-05-28T07:59:21.085363600Z"
    }
   }
  },
  {
   "cell_type": "markdown",
   "source": [
    "## IMPORT: Daten Import\n",
    "\n",
    "Lege Pfade für Daten-Importe, Daten-Exporte etc. fest (ggf. anpassen an eigene Verzeichnisstruktur), ausgelagert in gemeinsame Config für verschiedene Notebooks"
   ],
   "metadata": {
    "collapsed": false
   }
  },
  {
   "cell_type": "code",
   "execution_count": 3,
   "outputs": [],
   "source": [
    "# Importiere alle Einstellungen aus der project_config.py\n",
    "from project_config import (\n",
    "    data_path,\n",
    "    data_export_directory,\n",
    "    latex_export_directory\n",
    ")"
   ],
   "metadata": {
    "collapsed": false,
    "ExecuteTime": {
     "end_time": "2025-05-28T07:59:22.429854400Z",
     "start_time": "2025-05-28T07:59:22.415285300Z"
    }
   }
  },
  {
   "cell_type": "code",
   "execution_count": 4,
   "outputs": [],
   "source": [
    "# Liste aller Dateinamen\n",
    "filenames = [\n",
    "    \"tree.feather\",\n",
    "    \"sensor.feather\",\n",
    "    \"sensor_data_dict.json\",\n",
    "    \"series.feather\",\n",
    "    \"series_data_dict.json\",\n",
    "    \"ls3_data_dict.json\",\n",
    "    \"ls3.feather\",\n",
    "    \"ptq_data_dict.json\",\n",
    "    \"ptq.feather\",\n",
    "]"
   ],
   "metadata": {
    "collapsed": false,
    "ExecuteTime": {
     "end_time": "2025-05-28T07:59:22.430868Z",
     "start_time": "2025-05-28T07:59:22.419604900Z"
    }
   }
  },
  {
   "cell_type": "code",
   "execution_count": 5,
   "outputs": [],
   "source": [
    "def load_file(path: Path):\n",
    "    try:\n",
    "        if path.suffix == \".feather\":\n",
    "            df_now = pd.read_feather(path)\n",
    "            print(f\"[Info] Feather geladen: {path.name}\")\n",
    "            return \"df\", path.stem, df_now\n",
    "        elif path.suffix == \".json\":\n",
    "            with open(path, \"r\", encoding=\"utf-8\") as f:\n",
    "                data_dict_now = json.load(f)\n",
    "                print(f\"[Info] JSON geladen: {path.name}\")\n",
    "                return \"dict\", path.stem, data_dict_now\n",
    "        else:\n",
    "            print(f\"[Warnung] Unbekannter Dateityp übersprungen: {path.name}\")\n",
    "            return None\n",
    "    except Exception as e:\n",
    "        print(f\"[Fehler] Laden fehlgeschlagen für '{path.name}': {e}\")\n",
    "        return None\n"
   ],
   "metadata": {
    "collapsed": false,
    "ExecuteTime": {
     "end_time": "2025-05-28T07:59:22.449462700Z",
     "start_time": "2025-05-28T07:59:22.436455900Z"
    }
   }
  },
  {
   "cell_type": "code",
   "execution_count": 6,
   "outputs": [
    {
     "name": "stdout",
     "output_type": "stream",
     "text": [
      "[Info] Feather geladen: tree.feather\n",
      "[Info] Feather geladen: sensor.feather\n",
      "[Info] JSON geladen: sensor_data_dict.json\n",
      "[Info] Feather geladen: series.feather\n",
      "[Info] JSON geladen: series_data_dict.json\n",
      "[Info] JSON geladen: ls3_data_dict.json\n",
      "[Info] Feather geladen: ls3.feather\n",
      "[Info] JSON geladen: ptq_data_dict.json\n",
      "[Info] Feather geladen: ptq.feather\n"
     ]
    }
   ],
   "source": [
    "# Container\n",
    "dfs = {}\n",
    "data_dicts = {}\n",
    "\n",
    "for file in filenames:\n",
    "    result = load_file(data_export_directory / file)\n",
    "    if result:\n",
    "        kind, name_stem, content = result\n",
    "        if kind == \"df\":\n",
    "            dfs[f\"{name_stem}_df\"] = content\n",
    "        elif kind == \"dict\":\n",
    "            data_dicts[f\"{name_stem}\"] = content"
   ],
   "metadata": {
    "collapsed": false,
    "ExecuteTime": {
     "end_time": "2025-05-28T07:59:22.491763Z",
     "start_time": "2025-05-28T07:59:22.443463300Z"
    }
   }
  },
  {
   "cell_type": "code",
   "execution_count": 7,
   "outputs": [
    {
     "data": {
      "text/plain": "dict_keys(['tree_df', 'sensor_df', 'series_df', 'ls3_df', 'ptq_df'])"
     },
     "execution_count": 7,
     "metadata": {},
     "output_type": "execute_result"
    }
   ],
   "source": [
    "dfs.keys()"
   ],
   "metadata": {
    "collapsed": false,
    "ExecuteTime": {
     "end_time": "2025-05-28T07:59:22.493761500Z",
     "start_time": "2025-05-28T07:59:22.488249300Z"
    }
   }
  },
  {
   "cell_type": "code",
   "execution_count": 8,
   "outputs": [
    {
     "data": {
      "text/plain": "dict_keys(['sensor_data_dict', 'series_data_dict', 'ls3_data_dict', 'ptq_data_dict'])"
     },
     "execution_count": 8,
     "metadata": {},
     "output_type": "execute_result"
    }
   ],
   "source": [
    "data_dicts.keys()"
   ],
   "metadata": {
    "collapsed": false,
    "ExecuteTime": {
     "end_time": "2025-05-28T07:59:22.520247400Z",
     "start_time": "2025-05-28T07:59:22.491763Z"
    }
   }
  },
  {
   "cell_type": "code",
   "execution_count": 9,
   "outputs": [],
   "source": [
    "# IDE-Hints: Feather-Dateien (DataFrames)\n",
    "tree_df: pd.DataFrame = dfs.get(\"tree_df\")\n",
    "sensor_df: pd.DataFrame = dfs.get(\"sensor_df\")\n",
    "series_df: pd.DataFrame = dfs.get(\"series_df\")\n",
    "ls3_df: pd.DataFrame = dfs.get(\"ls3_df\")\n",
    "ptq_df: pd.DataFrame = dfs.get(\"ptq_df\")\n",
    "\n",
    "# IDE-Hints: Data Dictionary Dateien (JSON → dict)\n",
    "sensor_data_dict: dict = data_dicts.get(\"sensor_data_dict\")\n",
    "series_data_dict: dict = data_dicts.get(\"series_data_dict\")\n",
    "ls3_data_dict: dict = data_dicts.get(\"ls3_data_dict\")\n",
    "ptq_data_dict: dict = data_dicts.get(\"ptq_data_dict\")\n"
   ],
   "metadata": {
    "collapsed": false,
    "ExecuteTime": {
     "end_time": "2025-05-28T07:59:22.520247400Z",
     "start_time": "2025-05-28T07:59:22.502240400Z"
    }
   }
  },
  {
   "cell_type": "code",
   "execution_count": 10,
   "outputs": [
    {
     "data": {
      "text/plain": "     id            file_name sensor_name  sample_rate  max_strain  \\\n0     1  PTQ_Meas_100346.txt  Elasto(90)     4.003157       368.0   \n1     1  PTQ_Meas_100346.txt  Elasto(92)     3.941160       240.9   \n2     1  PTQ_Meas_100346.txt  Elasto(95)     4.003157       215.0   \n3     1  PTQ_Meas_100346.txt  Elasto(98)     3.941160       192.8   \n4     2  PTQ_Meas_101814.txt  Elasto(90)     3.447691       429.6   \n..   ..                  ...         ...          ...         ...   \n111  28  PTQ_Meas_155805.txt  Elasto(98)     2.391119       149.1   \n112  29  PTQ_Meas_160907.txt  Elasto(90)     2.967190       387.9   \n113  29  PTQ_Meas_160907.txt  Elasto(92)     2.967190       263.4   \n114  29  PTQ_Meas_160907.txt  Elasto(95)     2.967190       237.6   \n115  29  PTQ_Meas_160907.txt  Elasto(98)     2.967190       165.8   \n\n     max_compression  max_strain_osc  max_compression_osc  m_amplitude  \\\n0             -168.1           363.5               -168.1       265.80   \n1              -86.6           239.9                -86.6       163.25   \n2             -119.1           190.2               -119.1       154.65   \n3             -132.8           141.6               -132.8       137.20   \n4             -202.2           417.5               -202.2       309.85   \n..               ...             ...                  ...          ...   \n111           -108.4           120.3               -108.4       114.35   \n112            -94.4           383.8                -94.4       239.10   \n113            -28.3           259.7                -22.0       140.85   \n114            -23.9           228.1                -23.9       126.00   \n115            -72.7           150.4                -72.7       111.55   \n\n     m_amplitude_2  ...       rmse     nrmse         cv        mae      nmae  \\\n0           162.10  ...  24.382157  0.045868 -60.280300  10.359435  0.019488   \n1            76.00  ...  13.313315  0.040776  -1.212033   6.809497  0.020856   \n2            82.25  ...  14.852713  0.048022  -0.520646   8.316242  0.026888   \n3            92.50  ...   8.212944  0.029932  -0.399388   5.589269  0.020370   \n4           162.95  ...  24.083544  0.038866  -3.478901  11.160700  0.018011   \n..             ...  ...        ...       ...        ...        ...       ...   \n111          95.15  ...   9.722030  0.042510  -1.489630   6.965469  0.030457   \n112         107.30  ...  36.498548  0.076325  12.131841  16.258373  0.033999   \n113          39.30  ...  22.091387  0.078422   5.346908  10.226893  0.036304   \n114          46.20  ...  20.255176  0.080378   3.804639   9.617778  0.038166   \n115          89.70  ...  20.965593  0.093978  -9.177909  12.110682  0.054286   \n\n     integral_intercept  integral_positiv  integral_negativ  integral_abs  \\\n0             -1.870831        391.325732        365.341989    756.667721   \n1            -10.571599        174.631434        182.059739    356.691173   \n2            -30.255247        222.431092        191.815217    414.246308   \n3            -21.122985        232.922135        222.857242    455.779377   \n4             -3.467562        258.909157        319.996801    578.905957   \n..                  ...               ...               ...           ...   \n111           -8.622783        168.196780        131.385606    299.582386   \n112          -11.971655        418.627008        156.174828    574.801836   \n113           -6.016494        231.918646         54.123696    286.042342   \n114           -2.985686        208.082876         62.500514    270.583390   \n115           -2.337977        212.350387        211.410904    423.761291   \n\n     integral_ratio  \n0          1.071122  \n1          0.959199  \n2          1.159611  \n3          1.045163  \n4          0.809099  \n..              ...  \n111        1.280177  \n112        2.680502  \n113        4.284974  \n114        3.329299  \n115        1.004444  \n\n[116 rows x 33 columns]",
      "text/html": "<div>\n<style scoped>\n    .dataframe tbody tr th:only-of-type {\n        vertical-align: middle;\n    }\n\n    .dataframe tbody tr th {\n        vertical-align: top;\n    }\n\n    .dataframe thead th {\n        text-align: right;\n    }\n</style>\n<table border=\"1\" class=\"dataframe\">\n  <thead>\n    <tr style=\"text-align: right;\">\n      <th></th>\n      <th>id</th>\n      <th>file_name</th>\n      <th>sensor_name</th>\n      <th>sample_rate</th>\n      <th>max_strain</th>\n      <th>max_compression</th>\n      <th>max_strain_osc</th>\n      <th>max_compression_osc</th>\n      <th>m_amplitude</th>\n      <th>m_amplitude_2</th>\n      <th>...</th>\n      <th>rmse</th>\n      <th>nrmse</th>\n      <th>cv</th>\n      <th>mae</th>\n      <th>nmae</th>\n      <th>integral_intercept</th>\n      <th>integral_positiv</th>\n      <th>integral_negativ</th>\n      <th>integral_abs</th>\n      <th>integral_ratio</th>\n    </tr>\n  </thead>\n  <tbody>\n    <tr>\n      <th>0</th>\n      <td>1</td>\n      <td>PTQ_Meas_100346.txt</td>\n      <td>Elasto(90)</td>\n      <td>4.003157</td>\n      <td>368.0</td>\n      <td>-168.1</td>\n      <td>363.5</td>\n      <td>-168.1</td>\n      <td>265.80</td>\n      <td>162.10</td>\n      <td>...</td>\n      <td>24.382157</td>\n      <td>0.045868</td>\n      <td>-60.280300</td>\n      <td>10.359435</td>\n      <td>0.019488</td>\n      <td>-1.870831</td>\n      <td>391.325732</td>\n      <td>365.341989</td>\n      <td>756.667721</td>\n      <td>1.071122</td>\n    </tr>\n    <tr>\n      <th>1</th>\n      <td>1</td>\n      <td>PTQ_Meas_100346.txt</td>\n      <td>Elasto(92)</td>\n      <td>3.941160</td>\n      <td>240.9</td>\n      <td>-86.6</td>\n      <td>239.9</td>\n      <td>-86.6</td>\n      <td>163.25</td>\n      <td>76.00</td>\n      <td>...</td>\n      <td>13.313315</td>\n      <td>0.040776</td>\n      <td>-1.212033</td>\n      <td>6.809497</td>\n      <td>0.020856</td>\n      <td>-10.571599</td>\n      <td>174.631434</td>\n      <td>182.059739</td>\n      <td>356.691173</td>\n      <td>0.959199</td>\n    </tr>\n    <tr>\n      <th>2</th>\n      <td>1</td>\n      <td>PTQ_Meas_100346.txt</td>\n      <td>Elasto(95)</td>\n      <td>4.003157</td>\n      <td>215.0</td>\n      <td>-119.1</td>\n      <td>190.2</td>\n      <td>-119.1</td>\n      <td>154.65</td>\n      <td>82.25</td>\n      <td>...</td>\n      <td>14.852713</td>\n      <td>0.048022</td>\n      <td>-0.520646</td>\n      <td>8.316242</td>\n      <td>0.026888</td>\n      <td>-30.255247</td>\n      <td>222.431092</td>\n      <td>191.815217</td>\n      <td>414.246308</td>\n      <td>1.159611</td>\n    </tr>\n    <tr>\n      <th>3</th>\n      <td>1</td>\n      <td>PTQ_Meas_100346.txt</td>\n      <td>Elasto(98)</td>\n      <td>3.941160</td>\n      <td>192.8</td>\n      <td>-132.8</td>\n      <td>141.6</td>\n      <td>-132.8</td>\n      <td>137.20</td>\n      <td>92.50</td>\n      <td>...</td>\n      <td>8.212944</td>\n      <td>0.029932</td>\n      <td>-0.399388</td>\n      <td>5.589269</td>\n      <td>0.020370</td>\n      <td>-21.122985</td>\n      <td>232.922135</td>\n      <td>222.857242</td>\n      <td>455.779377</td>\n      <td>1.045163</td>\n    </tr>\n    <tr>\n      <th>4</th>\n      <td>2</td>\n      <td>PTQ_Meas_101814.txt</td>\n      <td>Elasto(90)</td>\n      <td>3.447691</td>\n      <td>429.6</td>\n      <td>-202.2</td>\n      <td>417.5</td>\n      <td>-202.2</td>\n      <td>309.85</td>\n      <td>162.95</td>\n      <td>...</td>\n      <td>24.083544</td>\n      <td>0.038866</td>\n      <td>-3.478901</td>\n      <td>11.160700</td>\n      <td>0.018011</td>\n      <td>-3.467562</td>\n      <td>258.909157</td>\n      <td>319.996801</td>\n      <td>578.905957</td>\n      <td>0.809099</td>\n    </tr>\n    <tr>\n      <th>...</th>\n      <td>...</td>\n      <td>...</td>\n      <td>...</td>\n      <td>...</td>\n      <td>...</td>\n      <td>...</td>\n      <td>...</td>\n      <td>...</td>\n      <td>...</td>\n      <td>...</td>\n      <td>...</td>\n      <td>...</td>\n      <td>...</td>\n      <td>...</td>\n      <td>...</td>\n      <td>...</td>\n      <td>...</td>\n      <td>...</td>\n      <td>...</td>\n      <td>...</td>\n      <td>...</td>\n    </tr>\n    <tr>\n      <th>111</th>\n      <td>28</td>\n      <td>PTQ_Meas_155805.txt</td>\n      <td>Elasto(98)</td>\n      <td>2.391119</td>\n      <td>149.1</td>\n      <td>-108.4</td>\n      <td>120.3</td>\n      <td>-108.4</td>\n      <td>114.35</td>\n      <td>95.15</td>\n      <td>...</td>\n      <td>9.722030</td>\n      <td>0.042510</td>\n      <td>-1.489630</td>\n      <td>6.965469</td>\n      <td>0.030457</td>\n      <td>-8.622783</td>\n      <td>168.196780</td>\n      <td>131.385606</td>\n      <td>299.582386</td>\n      <td>1.280177</td>\n    </tr>\n    <tr>\n      <th>112</th>\n      <td>29</td>\n      <td>PTQ_Meas_160907.txt</td>\n      <td>Elasto(90)</td>\n      <td>2.967190</td>\n      <td>387.9</td>\n      <td>-94.4</td>\n      <td>383.8</td>\n      <td>-94.4</td>\n      <td>239.10</td>\n      <td>107.30</td>\n      <td>...</td>\n      <td>36.498548</td>\n      <td>0.076325</td>\n      <td>12.131841</td>\n      <td>16.258373</td>\n      <td>0.033999</td>\n      <td>-11.971655</td>\n      <td>418.627008</td>\n      <td>156.174828</td>\n      <td>574.801836</td>\n      <td>2.680502</td>\n    </tr>\n    <tr>\n      <th>113</th>\n      <td>29</td>\n      <td>PTQ_Meas_160907.txt</td>\n      <td>Elasto(92)</td>\n      <td>2.967190</td>\n      <td>263.4</td>\n      <td>-28.3</td>\n      <td>259.7</td>\n      <td>-22.0</td>\n      <td>140.85</td>\n      <td>39.30</td>\n      <td>...</td>\n      <td>22.091387</td>\n      <td>0.078422</td>\n      <td>5.346908</td>\n      <td>10.226893</td>\n      <td>0.036304</td>\n      <td>-6.016494</td>\n      <td>231.918646</td>\n      <td>54.123696</td>\n      <td>286.042342</td>\n      <td>4.284974</td>\n    </tr>\n    <tr>\n      <th>114</th>\n      <td>29</td>\n      <td>PTQ_Meas_160907.txt</td>\n      <td>Elasto(95)</td>\n      <td>2.967190</td>\n      <td>237.6</td>\n      <td>-23.9</td>\n      <td>228.1</td>\n      <td>-23.9</td>\n      <td>126.00</td>\n      <td>46.20</td>\n      <td>...</td>\n      <td>20.255176</td>\n      <td>0.080378</td>\n      <td>3.804639</td>\n      <td>9.617778</td>\n      <td>0.038166</td>\n      <td>-2.985686</td>\n      <td>208.082876</td>\n      <td>62.500514</td>\n      <td>270.583390</td>\n      <td>3.329299</td>\n    </tr>\n    <tr>\n      <th>115</th>\n      <td>29</td>\n      <td>PTQ_Meas_160907.txt</td>\n      <td>Elasto(98)</td>\n      <td>2.967190</td>\n      <td>165.8</td>\n      <td>-72.7</td>\n      <td>150.4</td>\n      <td>-72.7</td>\n      <td>111.55</td>\n      <td>89.70</td>\n      <td>...</td>\n      <td>20.965593</td>\n      <td>0.093978</td>\n      <td>-9.177909</td>\n      <td>12.110682</td>\n      <td>0.054286</td>\n      <td>-2.337977</td>\n      <td>212.350387</td>\n      <td>211.410904</td>\n      <td>423.761291</td>\n      <td>1.004444</td>\n    </tr>\n  </tbody>\n</table>\n<p>116 rows × 33 columns</p>\n</div>"
     },
     "execution_count": 10,
     "metadata": {},
     "output_type": "execute_result"
    }
   ],
   "source": [
    "ptq_df"
   ],
   "metadata": {
    "collapsed": false,
    "ExecuteTime": {
     "end_time": "2025-05-28T07:59:22.572196800Z",
     "start_time": "2025-05-28T07:59:22.505247900Z"
    }
   }
  },
  {
   "cell_type": "code",
   "execution_count": 11,
   "outputs": [
    {
     "data": {
      "text/plain": "   measurement_name sensor_id            datetime  measurement_id unit mode  \\\n0          14_41_10  14:99:1E 2022-03-23 14:41:10               1   kN  ABS   \n1          14_47_59  14:99:1E 2022-03-23 14:47:59               2   kN  ABS   \n2          14_55_03  14:99:1E 2022-03-23 14:55:03               3   kN  ABS   \n3          15_04_05  14:99:1E 2022-03-23 15:04:05               4   kN  ABS   \n4          15_08_55  14:99:1E 2022-03-23 15:08:55               5   kN  ABS   \n5          15_12_57  14:99:1E 2022-03-23 15:12:57               6   kN  ABS   \n6          15_16_58  14:99:1E 2022-03-23 15:16:58               7   kN  ABS   \n7          15_21_49  14:99:1E 2022-03-23 15:21:49               8   kN  ABS   \n8          15_25_17  14:99:1E 2022-03-23 15:25:17               9   kN  ABS   \n9          16_11_40  14:99:1E 2022-03-23 16:11:40              10   kN  ABS   \n10         16_17_21  14:99:1E 2022-03-23 16:17:21              11   kN  ABS   \n11         16_23_13  14:99:1E 2022-03-23 16:23:13              12   kN  ABS   \n12         16_37_11  14:99:1E 2022-03-23 16:37:11              13   kN  ABS   \n13         16_41_28  14:99:1E 2022-03-23 16:41:28              14   kN  ABS   \n14         16_46_46  14:99:1E 2022-03-23 16:46:46              15   kN  ABS   \n15         16_56_53  14:99:1E 2022-03-23 16:56:53              16   kN  ABS   \n16         17_01_49  14:99:1E 2022-03-23 17:01:49              17   kN  ABS   \n17         17_05_21  14:99:1E 2022-03-23 17:05:21              18   kN  ABS   \n18         17_16_51  14:99:1E 2022-03-23 17:16:51              19   kN  ABS   \n19         11_11_55  14:BF:E6 2022-03-23 11:11:55               1   kN  ABS   \n20         11_24_23  14:BF:E6 2022-03-23 11:24:23               2   kN  ABS   \n21         11_31_12  14:BF:E6 2022-03-23 11:31:12               3   kN  ABS   \n22         11_54_33  14:BF:E6 2022-03-23 11:54:33               4   kN  ABS   \n23         12_02_03  14:BF:E6 2022-03-23 12:02:03               5   kN  ABS   \n24         12_07_09  14:BF:E6 2022-03-23 12:07:09               6   kN  ABS   \n25         12_11_49  14:BF:E6 2022-03-23 12:11:49               7   kN  ABS   \n26         12_16_13  14:BF:E6 2022-03-23 12:16:13               8   kN  ABS   \n27         12_23_21  14:BF:E6 2022-03-23 12:23:21               9   kN  ABS   \n28         12_27_13  14:BF:E6 2022-03-23 12:27:13              10   kN  ABS   \n29         14_40_00  14:BF:E6 2022-03-23 14:40:00              11   kN  ABS   \n30         14_47_06  14:BF:E6 2022-03-23 14:47:06              12   kN  ABS   \n31         14_54_20  14:BF:E6 2022-03-23 14:54:20              13   kN  ABS   \n32         15_00_22  14:BF:E6 2022-03-23 15:00:22              14   kN  ABS   \n33         15_03_21  14:BF:E6 2022-03-23 15:03:21              15   kN  ABS   \n34         15_08_07  14:BF:E6 2022-03-23 15:08:07              16   kN  ABS   \n35         15_11_55  14:BF:E6 2022-03-23 15:11:55              17   kN  ABS   \n36         15_16_24  14:BF:E6 2022-03-23 15:16:24              18   kN  ABS   \n37         15_20_38  14:BF:E6 2022-03-23 15:20:38              19   kN  ABS   \n38         15_24_40  14:BF:E6 2022-03-23 15:24:40              20   kN  ABS   \n39         16_10_55  14:BF:E6 2022-03-23 16:10:55              21   kN  ABS   \n40         16_16_33  14:BF:E6 2022-03-23 16:16:33              22   kN  ABS   \n41         16_21_50  14:BF:E6 2022-03-23 16:21:50              23   kN  ABS   \n42         16_36_05  14:BF:E6 2022-03-23 16:36:05              24   kN  ABS   \n43         16_40_07  14:BF:E6 2022-03-23 16:40:07              25   kN  ABS   \n44         16_44_31  14:BF:E6 2022-03-23 16:44:31              26   kN  ABS   \n45         16_56_04  14:BF:E6 2022-03-23 16:56:04              27   kN  ABS   \n46         17_00_04  14:BF:E6 2022-03-23 17:00:04              28   kN  ABS   \n47         17_04_51  14:BF:E6 2022-03-23 17:04:51              29   kN  ABS   \n48         17_07_37  14:BF:E6 2022-03-23 17:07:37              30   kN  ABS   \n49         17_16_09  14:BF:E6 2022-03-23 17:16:09              31   kN  ABS   \n\n   rel_zero  speed  trig  stop  ...    duration  length  max_index max_force  \\\n0       n/a   1280   0.8   0.0  ...   17.999218   23040       4737      1.48   \n1       n/a   1280   0.8   0.0  ...   17.999218   23040       4721      1.44   \n2       n/a   1280   0.8   0.0  ...   17.999218   23040       3867      1.33   \n3       n/a   1280   0.8   0.0  ...   17.999218   23040       3861      1.01   \n4       n/a   1280   0.8   0.0  ...   17.999218   23040       4730      1.16   \n5       n/a   1280   0.8   0.0  ...   17.999218   23040       4695      1.16   \n6       n/a   1280   0.8   0.0  ...   17.999218   23040       4670      1.01   \n7       n/a   1280   0.8   0.0  ...   17.999218   23040       4684      1.15   \n8       n/a   1280   0.8   0.0  ...   17.999218   23040       4665      1.03   \n9       n/a   1280   1.0   0.0  ...   17.999218   23040       3884      2.59   \n10      n/a   1280   1.0   0.0  ...   17.999218   23040       3879      3.04   \n11      n/a   1280   1.0   0.0  ...   17.999218   23040       3876      3.09   \n12      n/a   1280   1.0   0.0  ...   17.999218   23040       3877      2.84   \n13      n/a   1280   1.0   0.0  ...   17.999218   23040       3877      2.76   \n14      n/a   1280   1.0   0.0  ...   17.999218   23040       3876      2.80   \n15      n/a   1280   1.0   0.0  ...   17.999218   23040       3856      2.33   \n16      n/a   1280   1.0   0.0  ...   17.999218   23040       3877      2.30   \n17      n/a   1280   1.0   0.0  ...   17.999218   23040       3855      2.36   \n18      n/a   1280   1.0   0.0  ...   17.999218   23040       3881      1.74   \n19      n/a     40   0.5   0.5  ...  228.200000    9129       7123      2.57   \n20      n/a     40   0.5   0.5  ...  220.300000    8813       8463      2.88   \n21      n/a     40   0.5   0.5  ...  189.125000    7566       6120      2.86   \n22      n/a     40   0.3   0.5  ...  229.650000    9187       7343      2.82   \n23      n/a     40   0.3   0.5  ...  185.975000    7440       6104      2.41   \n24      n/a     40   0.3   0.5  ...  185.975000    7440       6329      2.41   \n25      n/a     40   0.3   0.5  ...  192.175000    7688       6117      2.41   \n26      n/a     40   0.3   0.5  ...  185.975000    7440       5223      2.01   \n27      n/a     40   0.3   0.5  ...  185.975000    7440       5772      2.02   \n28      n/a     40   0.3   0.5  ...  279.350000   11175       6977      2.01   \n29      n/a     40   0.3   0.5  ...  200.425000    8018       6678      2.84   \n30      n/a     40   0.3   0.5  ...  185.975000    7440       6230      2.85   \n31      n/a     40   0.3   0.5  ...  185.975000    7440       6767      2.85   \n32      n/a     40   0.3   0.5  ...  185.975000    7440       4072      0.55   \n33      n/a     40   0.3   0.5  ...  185.975000    7440       5706      2.40   \n34      n/a     40   0.3   0.5  ...  185.975000    7440       5269      2.41   \n35      n/a     40   0.3   0.5  ...  192.700000    7709       7192      2.45   \n36      n/a     40   0.3   0.5  ...  185.975000    7440       6275      2.07   \n37      n/a     40   0.3   0.5  ...  201.100000    8045       6777      2.13   \n38      n/a     40   0.3   0.5  ...  185.975000    7440       6673      2.06   \n39      n/a     40   0.5   0.5  ...  185.975000    7440       5818      2.83   \n40      n/a     40   0.5   0.5  ...  185.975000    7440       6402      2.84   \n41      n/a     40   0.5   0.5  ...  212.925000    8518       6897      2.85   \n42      n/a     40   0.5   0.5  ...  196.725000    7870       5423      2.42   \n43      n/a     40   0.5   0.5  ...  211.025000    8442       6925      2.43   \n44      n/a     40   0.5   0.5  ...  264.950000   10599       9300      2.51   \n45      n/a     40   0.5   0.5  ...  185.975000    7440       6025      2.05   \n46      n/a     40   0.5   0.5  ...  234.250000    9371       6186      2.08   \n47      n/a     40   0.5   0.5  ...  185.975000    7440       4918      2.01   \n48      n/a     40   0.5   0.5  ...  151.700000    6069       4005      0.60   \n49      n/a     40   0.5   0.5  ...  185.975000    7440       5153      2.82   \n\n   min_index  min_force      mean  median  integral  release  \n0         36       0.00  0.111598   0.060  1.114957      NaN  \n1        135       0.00  0.117817   0.060  1.188226      NaN  \n2         81       0.00  0.104375   0.060  0.912268      NaN  \n3         49      -0.01  0.072250   0.040  0.725232      NaN  \n4         73       0.00  0.108828   0.060  0.980189      NaN  \n5       1146      -0.01  0.080535   0.040  0.874301      NaN  \n6          4       0.00  0.082550   0.040  0.814691      NaN  \n7         16       0.00  0.090246   0.050  0.871205      NaN  \n8          6       0.00  0.083470   0.050  0.720548      NaN  \n9         94       0.00  0.404725   0.440  1.321706      NaN  \n10       690       0.00  0.383700   0.380  1.696893      NaN  \n11         4       0.00  0.353530   0.360  1.435639      NaN  \n12       275       0.00  0.346102   0.360  1.216515      NaN  \n13       520       0.00  0.329963   0.330  1.408771      NaN  \n14       260       0.00  0.324260   0.320  1.455661      NaN  \n15       243       0.00  0.317931   0.320  1.334834      NaN  \n16        46       0.00  0.304495   0.320  1.094872      NaN  \n17        48       0.00  0.320037   0.310  1.450102      NaN  \n18        28       0.00  0.112564   0.050  1.144895      NaN  \n19      9128      -0.10  1.188005   1.040       NaN  2.50200  \n20      8812      -0.10  1.249298   1.120       NaN  2.72310  \n21       529      -0.09  1.081462   0.335       NaN  2.76205  \n22      9186      -0.01  1.173566   0.870       NaN  2.73950  \n23      7403      -0.10  0.857964   0.140       NaN  2.36475  \n24      7275      -0.10  0.860966   0.130       NaN  2.38000  \n25         1      -0.08  0.968585   0.310       NaN  2.36920  \n26      6668      -0.10  0.604734   0.020       NaN  1.96440  \n27      7296      -0.10  0.752337   0.110       NaN  1.97830  \n28         0      -0.09  1.163470   1.870       NaN  1.94680  \n29      8017       0.01  1.201922   0.760       NaN  2.75785  \n30      7339      -0.07  1.006413   0.240       NaN  2.78010  \n31      6924      -0.06  0.938508   0.200       NaN  2.76350  \n32       276      -0.06  0.073011   0.000       NaN      NaN  \n33      6973      -0.07  0.730961   0.010       NaN  2.30735  \n34      7148      -0.06  0.926050   0.040       NaN  2.35655  \n35         0      -0.04  1.028355   0.340       NaN  2.34755  \n36      6583      -0.07  0.583161  -0.020       NaN  2.02755  \n37      8044      -0.07  0.880150   0.550       NaN  2.08095  \n38      6682      -0.08  0.483425   0.040       NaN  1.99740  \n39      7025      -0.09  0.886942   0.020       NaN  2.75695  \n40      7160      -0.08  0.737280   0.460       NaN  2.76580  \n41      8517      -0.08  1.128443   0.910       NaN  2.78070  \n42       392      -0.05  1.045867   0.600       NaN  2.34425  \n43      8441      -0.08  1.071758   0.820       NaN  2.34405  \n44         0      -0.07  1.271194   1.930       NaN  2.45465  \n45      7167      -0.09  0.800343  -0.060       NaN  1.99840  \n46         0      -0.06  1.114781   1.860       NaN  1.98435  \n47      6421      -0.09  0.591039   0.000       NaN  1.95740  \n48         0      -0.07  0.217461   0.170       NaN      NaN  \n49      6885      -0.09  1.029777   0.170       NaN  2.74560  \n\n[50 rows x 25 columns]",
      "text/html": "<div>\n<style scoped>\n    .dataframe tbody tr th:only-of-type {\n        vertical-align: middle;\n    }\n\n    .dataframe tbody tr th {\n        vertical-align: top;\n    }\n\n    .dataframe thead th {\n        text-align: right;\n    }\n</style>\n<table border=\"1\" class=\"dataframe\">\n  <thead>\n    <tr style=\"text-align: right;\">\n      <th></th>\n      <th>measurement_name</th>\n      <th>sensor_id</th>\n      <th>datetime</th>\n      <th>measurement_id</th>\n      <th>unit</th>\n      <th>mode</th>\n      <th>rel_zero</th>\n      <th>speed</th>\n      <th>trig</th>\n      <th>stop</th>\n      <th>...</th>\n      <th>duration</th>\n      <th>length</th>\n      <th>max_index</th>\n      <th>max_force</th>\n      <th>min_index</th>\n      <th>min_force</th>\n      <th>mean</th>\n      <th>median</th>\n      <th>integral</th>\n      <th>release</th>\n    </tr>\n  </thead>\n  <tbody>\n    <tr>\n      <th>0</th>\n      <td>14_41_10</td>\n      <td>14:99:1E</td>\n      <td>2022-03-23 14:41:10</td>\n      <td>1</td>\n      <td>kN</td>\n      <td>ABS</td>\n      <td>n/a</td>\n      <td>1280</td>\n      <td>0.8</td>\n      <td>0.0</td>\n      <td>...</td>\n      <td>17.999218</td>\n      <td>23040</td>\n      <td>4737</td>\n      <td>1.48</td>\n      <td>36</td>\n      <td>0.00</td>\n      <td>0.111598</td>\n      <td>0.060</td>\n      <td>1.114957</td>\n      <td>NaN</td>\n    </tr>\n    <tr>\n      <th>1</th>\n      <td>14_47_59</td>\n      <td>14:99:1E</td>\n      <td>2022-03-23 14:47:59</td>\n      <td>2</td>\n      <td>kN</td>\n      <td>ABS</td>\n      <td>n/a</td>\n      <td>1280</td>\n      <td>0.8</td>\n      <td>0.0</td>\n      <td>...</td>\n      <td>17.999218</td>\n      <td>23040</td>\n      <td>4721</td>\n      <td>1.44</td>\n      <td>135</td>\n      <td>0.00</td>\n      <td>0.117817</td>\n      <td>0.060</td>\n      <td>1.188226</td>\n      <td>NaN</td>\n    </tr>\n    <tr>\n      <th>2</th>\n      <td>14_55_03</td>\n      <td>14:99:1E</td>\n      <td>2022-03-23 14:55:03</td>\n      <td>3</td>\n      <td>kN</td>\n      <td>ABS</td>\n      <td>n/a</td>\n      <td>1280</td>\n      <td>0.8</td>\n      <td>0.0</td>\n      <td>...</td>\n      <td>17.999218</td>\n      <td>23040</td>\n      <td>3867</td>\n      <td>1.33</td>\n      <td>81</td>\n      <td>0.00</td>\n      <td>0.104375</td>\n      <td>0.060</td>\n      <td>0.912268</td>\n      <td>NaN</td>\n    </tr>\n    <tr>\n      <th>3</th>\n      <td>15_04_05</td>\n      <td>14:99:1E</td>\n      <td>2022-03-23 15:04:05</td>\n      <td>4</td>\n      <td>kN</td>\n      <td>ABS</td>\n      <td>n/a</td>\n      <td>1280</td>\n      <td>0.8</td>\n      <td>0.0</td>\n      <td>...</td>\n      <td>17.999218</td>\n      <td>23040</td>\n      <td>3861</td>\n      <td>1.01</td>\n      <td>49</td>\n      <td>-0.01</td>\n      <td>0.072250</td>\n      <td>0.040</td>\n      <td>0.725232</td>\n      <td>NaN</td>\n    </tr>\n    <tr>\n      <th>4</th>\n      <td>15_08_55</td>\n      <td>14:99:1E</td>\n      <td>2022-03-23 15:08:55</td>\n      <td>5</td>\n      <td>kN</td>\n      <td>ABS</td>\n      <td>n/a</td>\n      <td>1280</td>\n      <td>0.8</td>\n      <td>0.0</td>\n      <td>...</td>\n      <td>17.999218</td>\n      <td>23040</td>\n      <td>4730</td>\n      <td>1.16</td>\n      <td>73</td>\n      <td>0.00</td>\n      <td>0.108828</td>\n      <td>0.060</td>\n      <td>0.980189</td>\n      <td>NaN</td>\n    </tr>\n    <tr>\n      <th>5</th>\n      <td>15_12_57</td>\n      <td>14:99:1E</td>\n      <td>2022-03-23 15:12:57</td>\n      <td>6</td>\n      <td>kN</td>\n      <td>ABS</td>\n      <td>n/a</td>\n      <td>1280</td>\n      <td>0.8</td>\n      <td>0.0</td>\n      <td>...</td>\n      <td>17.999218</td>\n      <td>23040</td>\n      <td>4695</td>\n      <td>1.16</td>\n      <td>1146</td>\n      <td>-0.01</td>\n      <td>0.080535</td>\n      <td>0.040</td>\n      <td>0.874301</td>\n      <td>NaN</td>\n    </tr>\n    <tr>\n      <th>6</th>\n      <td>15_16_58</td>\n      <td>14:99:1E</td>\n      <td>2022-03-23 15:16:58</td>\n      <td>7</td>\n      <td>kN</td>\n      <td>ABS</td>\n      <td>n/a</td>\n      <td>1280</td>\n      <td>0.8</td>\n      <td>0.0</td>\n      <td>...</td>\n      <td>17.999218</td>\n      <td>23040</td>\n      <td>4670</td>\n      <td>1.01</td>\n      <td>4</td>\n      <td>0.00</td>\n      <td>0.082550</td>\n      <td>0.040</td>\n      <td>0.814691</td>\n      <td>NaN</td>\n    </tr>\n    <tr>\n      <th>7</th>\n      <td>15_21_49</td>\n      <td>14:99:1E</td>\n      <td>2022-03-23 15:21:49</td>\n      <td>8</td>\n      <td>kN</td>\n      <td>ABS</td>\n      <td>n/a</td>\n      <td>1280</td>\n      <td>0.8</td>\n      <td>0.0</td>\n      <td>...</td>\n      <td>17.999218</td>\n      <td>23040</td>\n      <td>4684</td>\n      <td>1.15</td>\n      <td>16</td>\n      <td>0.00</td>\n      <td>0.090246</td>\n      <td>0.050</td>\n      <td>0.871205</td>\n      <td>NaN</td>\n    </tr>\n    <tr>\n      <th>8</th>\n      <td>15_25_17</td>\n      <td>14:99:1E</td>\n      <td>2022-03-23 15:25:17</td>\n      <td>9</td>\n      <td>kN</td>\n      <td>ABS</td>\n      <td>n/a</td>\n      <td>1280</td>\n      <td>0.8</td>\n      <td>0.0</td>\n      <td>...</td>\n      <td>17.999218</td>\n      <td>23040</td>\n      <td>4665</td>\n      <td>1.03</td>\n      <td>6</td>\n      <td>0.00</td>\n      <td>0.083470</td>\n      <td>0.050</td>\n      <td>0.720548</td>\n      <td>NaN</td>\n    </tr>\n    <tr>\n      <th>9</th>\n      <td>16_11_40</td>\n      <td>14:99:1E</td>\n      <td>2022-03-23 16:11:40</td>\n      <td>10</td>\n      <td>kN</td>\n      <td>ABS</td>\n      <td>n/a</td>\n      <td>1280</td>\n      <td>1.0</td>\n      <td>0.0</td>\n      <td>...</td>\n      <td>17.999218</td>\n      <td>23040</td>\n      <td>3884</td>\n      <td>2.59</td>\n      <td>94</td>\n      <td>0.00</td>\n      <td>0.404725</td>\n      <td>0.440</td>\n      <td>1.321706</td>\n      <td>NaN</td>\n    </tr>\n    <tr>\n      <th>10</th>\n      <td>16_17_21</td>\n      <td>14:99:1E</td>\n      <td>2022-03-23 16:17:21</td>\n      <td>11</td>\n      <td>kN</td>\n      <td>ABS</td>\n      <td>n/a</td>\n      <td>1280</td>\n      <td>1.0</td>\n      <td>0.0</td>\n      <td>...</td>\n      <td>17.999218</td>\n      <td>23040</td>\n      <td>3879</td>\n      <td>3.04</td>\n      <td>690</td>\n      <td>0.00</td>\n      <td>0.383700</td>\n      <td>0.380</td>\n      <td>1.696893</td>\n      <td>NaN</td>\n    </tr>\n    <tr>\n      <th>11</th>\n      <td>16_23_13</td>\n      <td>14:99:1E</td>\n      <td>2022-03-23 16:23:13</td>\n      <td>12</td>\n      <td>kN</td>\n      <td>ABS</td>\n      <td>n/a</td>\n      <td>1280</td>\n      <td>1.0</td>\n      <td>0.0</td>\n      <td>...</td>\n      <td>17.999218</td>\n      <td>23040</td>\n      <td>3876</td>\n      <td>3.09</td>\n      <td>4</td>\n      <td>0.00</td>\n      <td>0.353530</td>\n      <td>0.360</td>\n      <td>1.435639</td>\n      <td>NaN</td>\n    </tr>\n    <tr>\n      <th>12</th>\n      <td>16_37_11</td>\n      <td>14:99:1E</td>\n      <td>2022-03-23 16:37:11</td>\n      <td>13</td>\n      <td>kN</td>\n      <td>ABS</td>\n      <td>n/a</td>\n      <td>1280</td>\n      <td>1.0</td>\n      <td>0.0</td>\n      <td>...</td>\n      <td>17.999218</td>\n      <td>23040</td>\n      <td>3877</td>\n      <td>2.84</td>\n      <td>275</td>\n      <td>0.00</td>\n      <td>0.346102</td>\n      <td>0.360</td>\n      <td>1.216515</td>\n      <td>NaN</td>\n    </tr>\n    <tr>\n      <th>13</th>\n      <td>16_41_28</td>\n      <td>14:99:1E</td>\n      <td>2022-03-23 16:41:28</td>\n      <td>14</td>\n      <td>kN</td>\n      <td>ABS</td>\n      <td>n/a</td>\n      <td>1280</td>\n      <td>1.0</td>\n      <td>0.0</td>\n      <td>...</td>\n      <td>17.999218</td>\n      <td>23040</td>\n      <td>3877</td>\n      <td>2.76</td>\n      <td>520</td>\n      <td>0.00</td>\n      <td>0.329963</td>\n      <td>0.330</td>\n      <td>1.408771</td>\n      <td>NaN</td>\n    </tr>\n    <tr>\n      <th>14</th>\n      <td>16_46_46</td>\n      <td>14:99:1E</td>\n      <td>2022-03-23 16:46:46</td>\n      <td>15</td>\n      <td>kN</td>\n      <td>ABS</td>\n      <td>n/a</td>\n      <td>1280</td>\n      <td>1.0</td>\n      <td>0.0</td>\n      <td>...</td>\n      <td>17.999218</td>\n      <td>23040</td>\n      <td>3876</td>\n      <td>2.80</td>\n      <td>260</td>\n      <td>0.00</td>\n      <td>0.324260</td>\n      <td>0.320</td>\n      <td>1.455661</td>\n      <td>NaN</td>\n    </tr>\n    <tr>\n      <th>15</th>\n      <td>16_56_53</td>\n      <td>14:99:1E</td>\n      <td>2022-03-23 16:56:53</td>\n      <td>16</td>\n      <td>kN</td>\n      <td>ABS</td>\n      <td>n/a</td>\n      <td>1280</td>\n      <td>1.0</td>\n      <td>0.0</td>\n      <td>...</td>\n      <td>17.999218</td>\n      <td>23040</td>\n      <td>3856</td>\n      <td>2.33</td>\n      <td>243</td>\n      <td>0.00</td>\n      <td>0.317931</td>\n      <td>0.320</td>\n      <td>1.334834</td>\n      <td>NaN</td>\n    </tr>\n    <tr>\n      <th>16</th>\n      <td>17_01_49</td>\n      <td>14:99:1E</td>\n      <td>2022-03-23 17:01:49</td>\n      <td>17</td>\n      <td>kN</td>\n      <td>ABS</td>\n      <td>n/a</td>\n      <td>1280</td>\n      <td>1.0</td>\n      <td>0.0</td>\n      <td>...</td>\n      <td>17.999218</td>\n      <td>23040</td>\n      <td>3877</td>\n      <td>2.30</td>\n      <td>46</td>\n      <td>0.00</td>\n      <td>0.304495</td>\n      <td>0.320</td>\n      <td>1.094872</td>\n      <td>NaN</td>\n    </tr>\n    <tr>\n      <th>17</th>\n      <td>17_05_21</td>\n      <td>14:99:1E</td>\n      <td>2022-03-23 17:05:21</td>\n      <td>18</td>\n      <td>kN</td>\n      <td>ABS</td>\n      <td>n/a</td>\n      <td>1280</td>\n      <td>1.0</td>\n      <td>0.0</td>\n      <td>...</td>\n      <td>17.999218</td>\n      <td>23040</td>\n      <td>3855</td>\n      <td>2.36</td>\n      <td>48</td>\n      <td>0.00</td>\n      <td>0.320037</td>\n      <td>0.310</td>\n      <td>1.450102</td>\n      <td>NaN</td>\n    </tr>\n    <tr>\n      <th>18</th>\n      <td>17_16_51</td>\n      <td>14:99:1E</td>\n      <td>2022-03-23 17:16:51</td>\n      <td>19</td>\n      <td>kN</td>\n      <td>ABS</td>\n      <td>n/a</td>\n      <td>1280</td>\n      <td>1.0</td>\n      <td>0.0</td>\n      <td>...</td>\n      <td>17.999218</td>\n      <td>23040</td>\n      <td>3881</td>\n      <td>1.74</td>\n      <td>28</td>\n      <td>0.00</td>\n      <td>0.112564</td>\n      <td>0.050</td>\n      <td>1.144895</td>\n      <td>NaN</td>\n    </tr>\n    <tr>\n      <th>19</th>\n      <td>11_11_55</td>\n      <td>14:BF:E6</td>\n      <td>2022-03-23 11:11:55</td>\n      <td>1</td>\n      <td>kN</td>\n      <td>ABS</td>\n      <td>n/a</td>\n      <td>40</td>\n      <td>0.5</td>\n      <td>0.5</td>\n      <td>...</td>\n      <td>228.200000</td>\n      <td>9129</td>\n      <td>7123</td>\n      <td>2.57</td>\n      <td>9128</td>\n      <td>-0.10</td>\n      <td>1.188005</td>\n      <td>1.040</td>\n      <td>NaN</td>\n      <td>2.50200</td>\n    </tr>\n    <tr>\n      <th>20</th>\n      <td>11_24_23</td>\n      <td>14:BF:E6</td>\n      <td>2022-03-23 11:24:23</td>\n      <td>2</td>\n      <td>kN</td>\n      <td>ABS</td>\n      <td>n/a</td>\n      <td>40</td>\n      <td>0.5</td>\n      <td>0.5</td>\n      <td>...</td>\n      <td>220.300000</td>\n      <td>8813</td>\n      <td>8463</td>\n      <td>2.88</td>\n      <td>8812</td>\n      <td>-0.10</td>\n      <td>1.249298</td>\n      <td>1.120</td>\n      <td>NaN</td>\n      <td>2.72310</td>\n    </tr>\n    <tr>\n      <th>21</th>\n      <td>11_31_12</td>\n      <td>14:BF:E6</td>\n      <td>2022-03-23 11:31:12</td>\n      <td>3</td>\n      <td>kN</td>\n      <td>ABS</td>\n      <td>n/a</td>\n      <td>40</td>\n      <td>0.5</td>\n      <td>0.5</td>\n      <td>...</td>\n      <td>189.125000</td>\n      <td>7566</td>\n      <td>6120</td>\n      <td>2.86</td>\n      <td>529</td>\n      <td>-0.09</td>\n      <td>1.081462</td>\n      <td>0.335</td>\n      <td>NaN</td>\n      <td>2.76205</td>\n    </tr>\n    <tr>\n      <th>22</th>\n      <td>11_54_33</td>\n      <td>14:BF:E6</td>\n      <td>2022-03-23 11:54:33</td>\n      <td>4</td>\n      <td>kN</td>\n      <td>ABS</td>\n      <td>n/a</td>\n      <td>40</td>\n      <td>0.3</td>\n      <td>0.5</td>\n      <td>...</td>\n      <td>229.650000</td>\n      <td>9187</td>\n      <td>7343</td>\n      <td>2.82</td>\n      <td>9186</td>\n      <td>-0.01</td>\n      <td>1.173566</td>\n      <td>0.870</td>\n      <td>NaN</td>\n      <td>2.73950</td>\n    </tr>\n    <tr>\n      <th>23</th>\n      <td>12_02_03</td>\n      <td>14:BF:E6</td>\n      <td>2022-03-23 12:02:03</td>\n      <td>5</td>\n      <td>kN</td>\n      <td>ABS</td>\n      <td>n/a</td>\n      <td>40</td>\n      <td>0.3</td>\n      <td>0.5</td>\n      <td>...</td>\n      <td>185.975000</td>\n      <td>7440</td>\n      <td>6104</td>\n      <td>2.41</td>\n      <td>7403</td>\n      <td>-0.10</td>\n      <td>0.857964</td>\n      <td>0.140</td>\n      <td>NaN</td>\n      <td>2.36475</td>\n    </tr>\n    <tr>\n      <th>24</th>\n      <td>12_07_09</td>\n      <td>14:BF:E6</td>\n      <td>2022-03-23 12:07:09</td>\n      <td>6</td>\n      <td>kN</td>\n      <td>ABS</td>\n      <td>n/a</td>\n      <td>40</td>\n      <td>0.3</td>\n      <td>0.5</td>\n      <td>...</td>\n      <td>185.975000</td>\n      <td>7440</td>\n      <td>6329</td>\n      <td>2.41</td>\n      <td>7275</td>\n      <td>-0.10</td>\n      <td>0.860966</td>\n      <td>0.130</td>\n      <td>NaN</td>\n      <td>2.38000</td>\n    </tr>\n    <tr>\n      <th>25</th>\n      <td>12_11_49</td>\n      <td>14:BF:E6</td>\n      <td>2022-03-23 12:11:49</td>\n      <td>7</td>\n      <td>kN</td>\n      <td>ABS</td>\n      <td>n/a</td>\n      <td>40</td>\n      <td>0.3</td>\n      <td>0.5</td>\n      <td>...</td>\n      <td>192.175000</td>\n      <td>7688</td>\n      <td>6117</td>\n      <td>2.41</td>\n      <td>1</td>\n      <td>-0.08</td>\n      <td>0.968585</td>\n      <td>0.310</td>\n      <td>NaN</td>\n      <td>2.36920</td>\n    </tr>\n    <tr>\n      <th>26</th>\n      <td>12_16_13</td>\n      <td>14:BF:E6</td>\n      <td>2022-03-23 12:16:13</td>\n      <td>8</td>\n      <td>kN</td>\n      <td>ABS</td>\n      <td>n/a</td>\n      <td>40</td>\n      <td>0.3</td>\n      <td>0.5</td>\n      <td>...</td>\n      <td>185.975000</td>\n      <td>7440</td>\n      <td>5223</td>\n      <td>2.01</td>\n      <td>6668</td>\n      <td>-0.10</td>\n      <td>0.604734</td>\n      <td>0.020</td>\n      <td>NaN</td>\n      <td>1.96440</td>\n    </tr>\n    <tr>\n      <th>27</th>\n      <td>12_23_21</td>\n      <td>14:BF:E6</td>\n      <td>2022-03-23 12:23:21</td>\n      <td>9</td>\n      <td>kN</td>\n      <td>ABS</td>\n      <td>n/a</td>\n      <td>40</td>\n      <td>0.3</td>\n      <td>0.5</td>\n      <td>...</td>\n      <td>185.975000</td>\n      <td>7440</td>\n      <td>5772</td>\n      <td>2.02</td>\n      <td>7296</td>\n      <td>-0.10</td>\n      <td>0.752337</td>\n      <td>0.110</td>\n      <td>NaN</td>\n      <td>1.97830</td>\n    </tr>\n    <tr>\n      <th>28</th>\n      <td>12_27_13</td>\n      <td>14:BF:E6</td>\n      <td>2022-03-23 12:27:13</td>\n      <td>10</td>\n      <td>kN</td>\n      <td>ABS</td>\n      <td>n/a</td>\n      <td>40</td>\n      <td>0.3</td>\n      <td>0.5</td>\n      <td>...</td>\n      <td>279.350000</td>\n      <td>11175</td>\n      <td>6977</td>\n      <td>2.01</td>\n      <td>0</td>\n      <td>-0.09</td>\n      <td>1.163470</td>\n      <td>1.870</td>\n      <td>NaN</td>\n      <td>1.94680</td>\n    </tr>\n    <tr>\n      <th>29</th>\n      <td>14_40_00</td>\n      <td>14:BF:E6</td>\n      <td>2022-03-23 14:40:00</td>\n      <td>11</td>\n      <td>kN</td>\n      <td>ABS</td>\n      <td>n/a</td>\n      <td>40</td>\n      <td>0.3</td>\n      <td>0.5</td>\n      <td>...</td>\n      <td>200.425000</td>\n      <td>8018</td>\n      <td>6678</td>\n      <td>2.84</td>\n      <td>8017</td>\n      <td>0.01</td>\n      <td>1.201922</td>\n      <td>0.760</td>\n      <td>NaN</td>\n      <td>2.75785</td>\n    </tr>\n    <tr>\n      <th>30</th>\n      <td>14_47_06</td>\n      <td>14:BF:E6</td>\n      <td>2022-03-23 14:47:06</td>\n      <td>12</td>\n      <td>kN</td>\n      <td>ABS</td>\n      <td>n/a</td>\n      <td>40</td>\n      <td>0.3</td>\n      <td>0.5</td>\n      <td>...</td>\n      <td>185.975000</td>\n      <td>7440</td>\n      <td>6230</td>\n      <td>2.85</td>\n      <td>7339</td>\n      <td>-0.07</td>\n      <td>1.006413</td>\n      <td>0.240</td>\n      <td>NaN</td>\n      <td>2.78010</td>\n    </tr>\n    <tr>\n      <th>31</th>\n      <td>14_54_20</td>\n      <td>14:BF:E6</td>\n      <td>2022-03-23 14:54:20</td>\n      <td>13</td>\n      <td>kN</td>\n      <td>ABS</td>\n      <td>n/a</td>\n      <td>40</td>\n      <td>0.3</td>\n      <td>0.5</td>\n      <td>...</td>\n      <td>185.975000</td>\n      <td>7440</td>\n      <td>6767</td>\n      <td>2.85</td>\n      <td>6924</td>\n      <td>-0.06</td>\n      <td>0.938508</td>\n      <td>0.200</td>\n      <td>NaN</td>\n      <td>2.76350</td>\n    </tr>\n    <tr>\n      <th>32</th>\n      <td>15_00_22</td>\n      <td>14:BF:E6</td>\n      <td>2022-03-23 15:00:22</td>\n      <td>14</td>\n      <td>kN</td>\n      <td>ABS</td>\n      <td>n/a</td>\n      <td>40</td>\n      <td>0.3</td>\n      <td>0.5</td>\n      <td>...</td>\n      <td>185.975000</td>\n      <td>7440</td>\n      <td>4072</td>\n      <td>0.55</td>\n      <td>276</td>\n      <td>-0.06</td>\n      <td>0.073011</td>\n      <td>0.000</td>\n      <td>NaN</td>\n      <td>NaN</td>\n    </tr>\n    <tr>\n      <th>33</th>\n      <td>15_03_21</td>\n      <td>14:BF:E6</td>\n      <td>2022-03-23 15:03:21</td>\n      <td>15</td>\n      <td>kN</td>\n      <td>ABS</td>\n      <td>n/a</td>\n      <td>40</td>\n      <td>0.3</td>\n      <td>0.5</td>\n      <td>...</td>\n      <td>185.975000</td>\n      <td>7440</td>\n      <td>5706</td>\n      <td>2.40</td>\n      <td>6973</td>\n      <td>-0.07</td>\n      <td>0.730961</td>\n      <td>0.010</td>\n      <td>NaN</td>\n      <td>2.30735</td>\n    </tr>\n    <tr>\n      <th>34</th>\n      <td>15_08_07</td>\n      <td>14:BF:E6</td>\n      <td>2022-03-23 15:08:07</td>\n      <td>16</td>\n      <td>kN</td>\n      <td>ABS</td>\n      <td>n/a</td>\n      <td>40</td>\n      <td>0.3</td>\n      <td>0.5</td>\n      <td>...</td>\n      <td>185.975000</td>\n      <td>7440</td>\n      <td>5269</td>\n      <td>2.41</td>\n      <td>7148</td>\n      <td>-0.06</td>\n      <td>0.926050</td>\n      <td>0.040</td>\n      <td>NaN</td>\n      <td>2.35655</td>\n    </tr>\n    <tr>\n      <th>35</th>\n      <td>15_11_55</td>\n      <td>14:BF:E6</td>\n      <td>2022-03-23 15:11:55</td>\n      <td>17</td>\n      <td>kN</td>\n      <td>ABS</td>\n      <td>n/a</td>\n      <td>40</td>\n      <td>0.3</td>\n      <td>0.5</td>\n      <td>...</td>\n      <td>192.700000</td>\n      <td>7709</td>\n      <td>7192</td>\n      <td>2.45</td>\n      <td>0</td>\n      <td>-0.04</td>\n      <td>1.028355</td>\n      <td>0.340</td>\n      <td>NaN</td>\n      <td>2.34755</td>\n    </tr>\n    <tr>\n      <th>36</th>\n      <td>15_16_24</td>\n      <td>14:BF:E6</td>\n      <td>2022-03-23 15:16:24</td>\n      <td>18</td>\n      <td>kN</td>\n      <td>ABS</td>\n      <td>n/a</td>\n      <td>40</td>\n      <td>0.3</td>\n      <td>0.5</td>\n      <td>...</td>\n      <td>185.975000</td>\n      <td>7440</td>\n      <td>6275</td>\n      <td>2.07</td>\n      <td>6583</td>\n      <td>-0.07</td>\n      <td>0.583161</td>\n      <td>-0.020</td>\n      <td>NaN</td>\n      <td>2.02755</td>\n    </tr>\n    <tr>\n      <th>37</th>\n      <td>15_20_38</td>\n      <td>14:BF:E6</td>\n      <td>2022-03-23 15:20:38</td>\n      <td>19</td>\n      <td>kN</td>\n      <td>ABS</td>\n      <td>n/a</td>\n      <td>40</td>\n      <td>0.3</td>\n      <td>0.5</td>\n      <td>...</td>\n      <td>201.100000</td>\n      <td>8045</td>\n      <td>6777</td>\n      <td>2.13</td>\n      <td>8044</td>\n      <td>-0.07</td>\n      <td>0.880150</td>\n      <td>0.550</td>\n      <td>NaN</td>\n      <td>2.08095</td>\n    </tr>\n    <tr>\n      <th>38</th>\n      <td>15_24_40</td>\n      <td>14:BF:E6</td>\n      <td>2022-03-23 15:24:40</td>\n      <td>20</td>\n      <td>kN</td>\n      <td>ABS</td>\n      <td>n/a</td>\n      <td>40</td>\n      <td>0.3</td>\n      <td>0.5</td>\n      <td>...</td>\n      <td>185.975000</td>\n      <td>7440</td>\n      <td>6673</td>\n      <td>2.06</td>\n      <td>6682</td>\n      <td>-0.08</td>\n      <td>0.483425</td>\n      <td>0.040</td>\n      <td>NaN</td>\n      <td>1.99740</td>\n    </tr>\n    <tr>\n      <th>39</th>\n      <td>16_10_55</td>\n      <td>14:BF:E6</td>\n      <td>2022-03-23 16:10:55</td>\n      <td>21</td>\n      <td>kN</td>\n      <td>ABS</td>\n      <td>n/a</td>\n      <td>40</td>\n      <td>0.5</td>\n      <td>0.5</td>\n      <td>...</td>\n      <td>185.975000</td>\n      <td>7440</td>\n      <td>5818</td>\n      <td>2.83</td>\n      <td>7025</td>\n      <td>-0.09</td>\n      <td>0.886942</td>\n      <td>0.020</td>\n      <td>NaN</td>\n      <td>2.75695</td>\n    </tr>\n    <tr>\n      <th>40</th>\n      <td>16_16_33</td>\n      <td>14:BF:E6</td>\n      <td>2022-03-23 16:16:33</td>\n      <td>22</td>\n      <td>kN</td>\n      <td>ABS</td>\n      <td>n/a</td>\n      <td>40</td>\n      <td>0.5</td>\n      <td>0.5</td>\n      <td>...</td>\n      <td>185.975000</td>\n      <td>7440</td>\n      <td>6402</td>\n      <td>2.84</td>\n      <td>7160</td>\n      <td>-0.08</td>\n      <td>0.737280</td>\n      <td>0.460</td>\n      <td>NaN</td>\n      <td>2.76580</td>\n    </tr>\n    <tr>\n      <th>41</th>\n      <td>16_21_50</td>\n      <td>14:BF:E6</td>\n      <td>2022-03-23 16:21:50</td>\n      <td>23</td>\n      <td>kN</td>\n      <td>ABS</td>\n      <td>n/a</td>\n      <td>40</td>\n      <td>0.5</td>\n      <td>0.5</td>\n      <td>...</td>\n      <td>212.925000</td>\n      <td>8518</td>\n      <td>6897</td>\n      <td>2.85</td>\n      <td>8517</td>\n      <td>-0.08</td>\n      <td>1.128443</td>\n      <td>0.910</td>\n      <td>NaN</td>\n      <td>2.78070</td>\n    </tr>\n    <tr>\n      <th>42</th>\n      <td>16_36_05</td>\n      <td>14:BF:E6</td>\n      <td>2022-03-23 16:36:05</td>\n      <td>24</td>\n      <td>kN</td>\n      <td>ABS</td>\n      <td>n/a</td>\n      <td>40</td>\n      <td>0.5</td>\n      <td>0.5</td>\n      <td>...</td>\n      <td>196.725000</td>\n      <td>7870</td>\n      <td>5423</td>\n      <td>2.42</td>\n      <td>392</td>\n      <td>-0.05</td>\n      <td>1.045867</td>\n      <td>0.600</td>\n      <td>NaN</td>\n      <td>2.34425</td>\n    </tr>\n    <tr>\n      <th>43</th>\n      <td>16_40_07</td>\n      <td>14:BF:E6</td>\n      <td>2022-03-23 16:40:07</td>\n      <td>25</td>\n      <td>kN</td>\n      <td>ABS</td>\n      <td>n/a</td>\n      <td>40</td>\n      <td>0.5</td>\n      <td>0.5</td>\n      <td>...</td>\n      <td>211.025000</td>\n      <td>8442</td>\n      <td>6925</td>\n      <td>2.43</td>\n      <td>8441</td>\n      <td>-0.08</td>\n      <td>1.071758</td>\n      <td>0.820</td>\n      <td>NaN</td>\n      <td>2.34405</td>\n    </tr>\n    <tr>\n      <th>44</th>\n      <td>16_44_31</td>\n      <td>14:BF:E6</td>\n      <td>2022-03-23 16:44:31</td>\n      <td>26</td>\n      <td>kN</td>\n      <td>ABS</td>\n      <td>n/a</td>\n      <td>40</td>\n      <td>0.5</td>\n      <td>0.5</td>\n      <td>...</td>\n      <td>264.950000</td>\n      <td>10599</td>\n      <td>9300</td>\n      <td>2.51</td>\n      <td>0</td>\n      <td>-0.07</td>\n      <td>1.271194</td>\n      <td>1.930</td>\n      <td>NaN</td>\n      <td>2.45465</td>\n    </tr>\n    <tr>\n      <th>45</th>\n      <td>16_56_04</td>\n      <td>14:BF:E6</td>\n      <td>2022-03-23 16:56:04</td>\n      <td>27</td>\n      <td>kN</td>\n      <td>ABS</td>\n      <td>n/a</td>\n      <td>40</td>\n      <td>0.5</td>\n      <td>0.5</td>\n      <td>...</td>\n      <td>185.975000</td>\n      <td>7440</td>\n      <td>6025</td>\n      <td>2.05</td>\n      <td>7167</td>\n      <td>-0.09</td>\n      <td>0.800343</td>\n      <td>-0.060</td>\n      <td>NaN</td>\n      <td>1.99840</td>\n    </tr>\n    <tr>\n      <th>46</th>\n      <td>17_00_04</td>\n      <td>14:BF:E6</td>\n      <td>2022-03-23 17:00:04</td>\n      <td>28</td>\n      <td>kN</td>\n      <td>ABS</td>\n      <td>n/a</td>\n      <td>40</td>\n      <td>0.5</td>\n      <td>0.5</td>\n      <td>...</td>\n      <td>234.250000</td>\n      <td>9371</td>\n      <td>6186</td>\n      <td>2.08</td>\n      <td>0</td>\n      <td>-0.06</td>\n      <td>1.114781</td>\n      <td>1.860</td>\n      <td>NaN</td>\n      <td>1.98435</td>\n    </tr>\n    <tr>\n      <th>47</th>\n      <td>17_04_51</td>\n      <td>14:BF:E6</td>\n      <td>2022-03-23 17:04:51</td>\n      <td>29</td>\n      <td>kN</td>\n      <td>ABS</td>\n      <td>n/a</td>\n      <td>40</td>\n      <td>0.5</td>\n      <td>0.5</td>\n      <td>...</td>\n      <td>185.975000</td>\n      <td>7440</td>\n      <td>4918</td>\n      <td>2.01</td>\n      <td>6421</td>\n      <td>-0.09</td>\n      <td>0.591039</td>\n      <td>0.000</td>\n      <td>NaN</td>\n      <td>1.95740</td>\n    </tr>\n    <tr>\n      <th>48</th>\n      <td>17_07_37</td>\n      <td>14:BF:E6</td>\n      <td>2022-03-23 17:07:37</td>\n      <td>30</td>\n      <td>kN</td>\n      <td>ABS</td>\n      <td>n/a</td>\n      <td>40</td>\n      <td>0.5</td>\n      <td>0.5</td>\n      <td>...</td>\n      <td>151.700000</td>\n      <td>6069</td>\n      <td>4005</td>\n      <td>0.60</td>\n      <td>0</td>\n      <td>-0.07</td>\n      <td>0.217461</td>\n      <td>0.170</td>\n      <td>NaN</td>\n      <td>NaN</td>\n    </tr>\n    <tr>\n      <th>49</th>\n      <td>17_16_09</td>\n      <td>14:BF:E6</td>\n      <td>2022-03-23 17:16:09</td>\n      <td>31</td>\n      <td>kN</td>\n      <td>ABS</td>\n      <td>n/a</td>\n      <td>40</td>\n      <td>0.5</td>\n      <td>0.5</td>\n      <td>...</td>\n      <td>185.975000</td>\n      <td>7440</td>\n      <td>5153</td>\n      <td>2.82</td>\n      <td>6885</td>\n      <td>-0.09</td>\n      <td>1.029777</td>\n      <td>0.170</td>\n      <td>NaN</td>\n      <td>2.74560</td>\n    </tr>\n  </tbody>\n</table>\n<p>50 rows × 25 columns</p>\n</div>"
     },
     "execution_count": 11,
     "metadata": {},
     "output_type": "execute_result"
    }
   ],
   "source": [
    "ls3_df"
   ],
   "metadata": {
    "collapsed": false,
    "ExecuteTime": {
     "end_time": "2025-05-28T07:59:22.576181400Z",
     "start_time": "2025-05-28T07:59:22.532603700Z"
    }
   }
  },
  {
   "cell_type": "markdown",
   "source": [
    "## MERGE: Zusammenführen der Daten von LS3, PTQ und Versuchsprotokoll"
   ],
   "metadata": {
    "collapsed": false
   }
  },
  {
   "cell_type": "markdown",
   "source": [
    "Beginne mit PTQ-Daten, füge dann schrittweise die Daten des Versuchsablaufes, der Sensorpositionierung und Kraftmessung hinzu"
   ],
   "metadata": {
    "collapsed": false
   }
  },
  {
   "cell_type": "code",
   "execution_count": 12,
   "outputs": [],
   "source": [
    "df = pd.merge(ptq_df, series_df, on='id', how='left')\n",
    "# df"
   ],
   "metadata": {
    "collapsed": false,
    "ExecuteTime": {
     "end_time": "2025-05-28T07:59:22.610798200Z",
     "start_time": "2025-05-28T07:59:22.569227300Z"
    }
   }
  },
  {
   "cell_type": "markdown",
   "source": [
    "Ergänze die Daten der Sensorpositionierung"
   ],
   "metadata": {
    "collapsed": false
   }
  },
  {
   "cell_type": "code",
   "execution_count": 13,
   "outputs": [],
   "source": [
    "# Merging df and elasto_df\n",
    "# Geräte vom Typ Elastometer auswählen aus dem sensor_df\n",
    "elasto_df = sensor_df[sensor_df[\"type\"] == \"Elasto\"].copy()\n",
    "\n",
    "# Passe die sensor_namen einheitlich für beide DataFrames an\n",
    "elasto_df[\"sensor_name\"] = elasto_df[\"type\"].astype(str) + \"(\" + elasto_df[\"sensor_id\"].astype(str) + \")\"\n",
    "\n",
    "# Perform the left join on sensor_name\n",
    "df = df.merge(elasto_df, on=\"sensor_name\", how=\"left\")\n",
    "\n",
    "# Gewünschte Reihenfolge\n",
    "elasto_names = [\"Elasto(90)\", \"Elasto(92)\", \"Elasto(95)\", \"Elasto(98)\"]\n",
    "# Definieren als geordneter CategoricalDtype\n",
    "elasto_cat_type = CategoricalDtype(categories=elasto_names, ordered=True)\n",
    "# Setzen des Typs auf die Spalte\n",
    "df[\"sensor_name\"] = df[\"sensor_name\"].astype(elasto_cat_type)\n",
    "# df"
   ],
   "metadata": {
    "collapsed": false,
    "ExecuteTime": {
     "end_time": "2025-05-28T07:59:22.611798500Z",
     "start_time": "2025-05-28T07:59:22.587212Z"
    }
   }
  },
  {
   "cell_type": "markdown",
   "source": [
    "Ergänze die LS3-Daten"
   ],
   "metadata": {
    "collapsed": false
   }
  },
  {
   "cell_type": "code",
   "execution_count": 14,
   "outputs": [],
   "source": [
    "# Function to prepare ls3_metadata\n",
    "def extract_ls3_subset(df, sensor_id, new_prefix):\n",
    "    return (df.query(f\"sensor_id == '{sensor_id}'\")\n",
    "            .drop('sensor_id', axis=1)\n",
    "            .add_prefix(new_prefix)\n",
    "            .rename(columns={f'{new_prefix}measurement_id': sensor_id}))\n",
    "\n",
    "# Merging ls3_metadata with the main DataFrame\n",
    "df = df.merge(extract_ls3_subset(ls3_df, '14:BF:E6', 'rope_'), on='14:BF:E6', how='left')     \n",
    "df = df.merge(extract_ls3_subset(ls3_df, '14:99:1E', 'cable_'), on='14:99:1E', how='left')     "
   ],
   "metadata": {
    "collapsed": false,
    "ExecuteTime": {
     "end_time": "2025-05-28T07:59:22.697258300Z",
     "start_time": "2025-05-28T07:59:22.597836400Z"
    }
   }
  },
  {
   "cell_type": "code",
   "execution_count": 15,
   "outputs": [
    {
     "data": {
      "text/plain": "     id            file_name sensor_name  sample_rate  max_strain  \\\n0     1  PTQ_Meas_100346.txt  Elasto(90)     4.003157       368.0   \n1     1  PTQ_Meas_100346.txt  Elasto(92)     3.941160       240.9   \n2     1  PTQ_Meas_100346.txt  Elasto(95)     4.003157       215.0   \n3     1  PTQ_Meas_100346.txt  Elasto(98)     3.941160       192.8   \n4     2  PTQ_Meas_101814.txt  Elasto(90)     3.447691       429.6   \n..   ..                  ...         ...          ...         ...   \n111  28  PTQ_Meas_155805.txt  Elasto(98)     2.391119       149.1   \n112  29  PTQ_Meas_160907.txt  Elasto(90)     2.967190       387.9   \n113  29  PTQ_Meas_160907.txt  Elasto(92)     2.967190       263.4   \n114  29  PTQ_Meas_160907.txt  Elasto(95)     2.967190       237.6   \n115  29  PTQ_Meas_160907.txt  Elasto(98)     2.967190       165.8   \n\n     max_compression  max_strain_osc  max_compression_osc  m_amplitude  \\\n0             -168.1           363.5               -168.1       265.80   \n1              -86.6           239.9                -86.6       163.25   \n2             -119.1           190.2               -119.1       154.65   \n3             -132.8           141.6               -132.8       137.20   \n4             -202.2           417.5               -202.2       309.85   \n..               ...             ...                  ...          ...   \n111           -108.4           120.3               -108.4       114.35   \n112            -94.4           383.8                -94.4       239.10   \n113            -28.3           259.7                -22.0       140.85   \n114            -23.9           228.1                -23.9       126.00   \n115            -72.7           150.4                -72.7       111.55   \n\n     m_amplitude_2  ...  cable_duration  cable_length  cable_max_index  \\\n0           162.10  ...             NaN           NaN              NaN   \n1            76.00  ...             NaN           NaN              NaN   \n2            82.25  ...             NaN           NaN              NaN   \n3            92.50  ...             NaN           NaN              NaN   \n4           162.95  ...             NaN           NaN              NaN   \n..             ...  ...             ...           ...              ...   \n111          95.15  ...       17.999218       23040.0           3855.0   \n112         107.30  ...       17.999218       23040.0           3881.0   \n113          39.30  ...       17.999218       23040.0           3881.0   \n114          46.20  ...       17.999218       23040.0           3881.0   \n115          89.70  ...       17.999218       23040.0           3881.0   \n\n     cable_max_force  cable_min_index  cable_min_force  cable_mean  \\\n0                NaN              NaN              NaN         NaN   \n1                NaN              NaN              NaN         NaN   \n2                NaN              NaN              NaN         NaN   \n3                NaN              NaN              NaN         NaN   \n4                NaN              NaN              NaN         NaN   \n..               ...              ...              ...         ...   \n111             2.36             48.0              0.0    0.320037   \n112             1.74             28.0              0.0    0.112564   \n113             1.74             28.0              0.0    0.112564   \n114             1.74             28.0              0.0    0.112564   \n115             1.74             28.0              0.0    0.112564   \n\n     cable_median  cable_integral  cable_release  \n0             NaN             NaN            NaN  \n1             NaN             NaN            NaN  \n2             NaN             NaN            NaN  \n3             NaN             NaN            NaN  \n4             NaN             NaN            NaN  \n..            ...             ...            ...  \n111          0.31        1.450102            NaN  \n112          0.05        1.144895            NaN  \n113          0.05        1.144895            NaN  \n114          0.05        1.144895            NaN  \n115          0.05        1.144895            NaN  \n\n[116 rows x 93 columns]",
      "text/html": "<div>\n<style scoped>\n    .dataframe tbody tr th:only-of-type {\n        vertical-align: middle;\n    }\n\n    .dataframe tbody tr th {\n        vertical-align: top;\n    }\n\n    .dataframe thead th {\n        text-align: right;\n    }\n</style>\n<table border=\"1\" class=\"dataframe\">\n  <thead>\n    <tr style=\"text-align: right;\">\n      <th></th>\n      <th>id</th>\n      <th>file_name</th>\n      <th>sensor_name</th>\n      <th>sample_rate</th>\n      <th>max_strain</th>\n      <th>max_compression</th>\n      <th>max_strain_osc</th>\n      <th>max_compression_osc</th>\n      <th>m_amplitude</th>\n      <th>m_amplitude_2</th>\n      <th>...</th>\n      <th>cable_duration</th>\n      <th>cable_length</th>\n      <th>cable_max_index</th>\n      <th>cable_max_force</th>\n      <th>cable_min_index</th>\n      <th>cable_min_force</th>\n      <th>cable_mean</th>\n      <th>cable_median</th>\n      <th>cable_integral</th>\n      <th>cable_release</th>\n    </tr>\n  </thead>\n  <tbody>\n    <tr>\n      <th>0</th>\n      <td>1</td>\n      <td>PTQ_Meas_100346.txt</td>\n      <td>Elasto(90)</td>\n      <td>4.003157</td>\n      <td>368.0</td>\n      <td>-168.1</td>\n      <td>363.5</td>\n      <td>-168.1</td>\n      <td>265.80</td>\n      <td>162.10</td>\n      <td>...</td>\n      <td>NaN</td>\n      <td>NaN</td>\n      <td>NaN</td>\n      <td>NaN</td>\n      <td>NaN</td>\n      <td>NaN</td>\n      <td>NaN</td>\n      <td>NaN</td>\n      <td>NaN</td>\n      <td>NaN</td>\n    </tr>\n    <tr>\n      <th>1</th>\n      <td>1</td>\n      <td>PTQ_Meas_100346.txt</td>\n      <td>Elasto(92)</td>\n      <td>3.941160</td>\n      <td>240.9</td>\n      <td>-86.6</td>\n      <td>239.9</td>\n      <td>-86.6</td>\n      <td>163.25</td>\n      <td>76.00</td>\n      <td>...</td>\n      <td>NaN</td>\n      <td>NaN</td>\n      <td>NaN</td>\n      <td>NaN</td>\n      <td>NaN</td>\n      <td>NaN</td>\n      <td>NaN</td>\n      <td>NaN</td>\n      <td>NaN</td>\n      <td>NaN</td>\n    </tr>\n    <tr>\n      <th>2</th>\n      <td>1</td>\n      <td>PTQ_Meas_100346.txt</td>\n      <td>Elasto(95)</td>\n      <td>4.003157</td>\n      <td>215.0</td>\n      <td>-119.1</td>\n      <td>190.2</td>\n      <td>-119.1</td>\n      <td>154.65</td>\n      <td>82.25</td>\n      <td>...</td>\n      <td>NaN</td>\n      <td>NaN</td>\n      <td>NaN</td>\n      <td>NaN</td>\n      <td>NaN</td>\n      <td>NaN</td>\n      <td>NaN</td>\n      <td>NaN</td>\n      <td>NaN</td>\n      <td>NaN</td>\n    </tr>\n    <tr>\n      <th>3</th>\n      <td>1</td>\n      <td>PTQ_Meas_100346.txt</td>\n      <td>Elasto(98)</td>\n      <td>3.941160</td>\n      <td>192.8</td>\n      <td>-132.8</td>\n      <td>141.6</td>\n      <td>-132.8</td>\n      <td>137.20</td>\n      <td>92.50</td>\n      <td>...</td>\n      <td>NaN</td>\n      <td>NaN</td>\n      <td>NaN</td>\n      <td>NaN</td>\n      <td>NaN</td>\n      <td>NaN</td>\n      <td>NaN</td>\n      <td>NaN</td>\n      <td>NaN</td>\n      <td>NaN</td>\n    </tr>\n    <tr>\n      <th>4</th>\n      <td>2</td>\n      <td>PTQ_Meas_101814.txt</td>\n      <td>Elasto(90)</td>\n      <td>3.447691</td>\n      <td>429.6</td>\n      <td>-202.2</td>\n      <td>417.5</td>\n      <td>-202.2</td>\n      <td>309.85</td>\n      <td>162.95</td>\n      <td>...</td>\n      <td>NaN</td>\n      <td>NaN</td>\n      <td>NaN</td>\n      <td>NaN</td>\n      <td>NaN</td>\n      <td>NaN</td>\n      <td>NaN</td>\n      <td>NaN</td>\n      <td>NaN</td>\n      <td>NaN</td>\n    </tr>\n    <tr>\n      <th>...</th>\n      <td>...</td>\n      <td>...</td>\n      <td>...</td>\n      <td>...</td>\n      <td>...</td>\n      <td>...</td>\n      <td>...</td>\n      <td>...</td>\n      <td>...</td>\n      <td>...</td>\n      <td>...</td>\n      <td>...</td>\n      <td>...</td>\n      <td>...</td>\n      <td>...</td>\n      <td>...</td>\n      <td>...</td>\n      <td>...</td>\n      <td>...</td>\n      <td>...</td>\n      <td>...</td>\n    </tr>\n    <tr>\n      <th>111</th>\n      <td>28</td>\n      <td>PTQ_Meas_155805.txt</td>\n      <td>Elasto(98)</td>\n      <td>2.391119</td>\n      <td>149.1</td>\n      <td>-108.4</td>\n      <td>120.3</td>\n      <td>-108.4</td>\n      <td>114.35</td>\n      <td>95.15</td>\n      <td>...</td>\n      <td>17.999218</td>\n      <td>23040.0</td>\n      <td>3855.0</td>\n      <td>2.36</td>\n      <td>48.0</td>\n      <td>0.0</td>\n      <td>0.320037</td>\n      <td>0.31</td>\n      <td>1.450102</td>\n      <td>NaN</td>\n    </tr>\n    <tr>\n      <th>112</th>\n      <td>29</td>\n      <td>PTQ_Meas_160907.txt</td>\n      <td>Elasto(90)</td>\n      <td>2.967190</td>\n      <td>387.9</td>\n      <td>-94.4</td>\n      <td>383.8</td>\n      <td>-94.4</td>\n      <td>239.10</td>\n      <td>107.30</td>\n      <td>...</td>\n      <td>17.999218</td>\n      <td>23040.0</td>\n      <td>3881.0</td>\n      <td>1.74</td>\n      <td>28.0</td>\n      <td>0.0</td>\n      <td>0.112564</td>\n      <td>0.05</td>\n      <td>1.144895</td>\n      <td>NaN</td>\n    </tr>\n    <tr>\n      <th>113</th>\n      <td>29</td>\n      <td>PTQ_Meas_160907.txt</td>\n      <td>Elasto(92)</td>\n      <td>2.967190</td>\n      <td>263.4</td>\n      <td>-28.3</td>\n      <td>259.7</td>\n      <td>-22.0</td>\n      <td>140.85</td>\n      <td>39.30</td>\n      <td>...</td>\n      <td>17.999218</td>\n      <td>23040.0</td>\n      <td>3881.0</td>\n      <td>1.74</td>\n      <td>28.0</td>\n      <td>0.0</td>\n      <td>0.112564</td>\n      <td>0.05</td>\n      <td>1.144895</td>\n      <td>NaN</td>\n    </tr>\n    <tr>\n      <th>114</th>\n      <td>29</td>\n      <td>PTQ_Meas_160907.txt</td>\n      <td>Elasto(95)</td>\n      <td>2.967190</td>\n      <td>237.6</td>\n      <td>-23.9</td>\n      <td>228.1</td>\n      <td>-23.9</td>\n      <td>126.00</td>\n      <td>46.20</td>\n      <td>...</td>\n      <td>17.999218</td>\n      <td>23040.0</td>\n      <td>3881.0</td>\n      <td>1.74</td>\n      <td>28.0</td>\n      <td>0.0</td>\n      <td>0.112564</td>\n      <td>0.05</td>\n      <td>1.144895</td>\n      <td>NaN</td>\n    </tr>\n    <tr>\n      <th>115</th>\n      <td>29</td>\n      <td>PTQ_Meas_160907.txt</td>\n      <td>Elasto(98)</td>\n      <td>2.967190</td>\n      <td>165.8</td>\n      <td>-72.7</td>\n      <td>150.4</td>\n      <td>-72.7</td>\n      <td>111.55</td>\n      <td>89.70</td>\n      <td>...</td>\n      <td>17.999218</td>\n      <td>23040.0</td>\n      <td>3881.0</td>\n      <td>1.74</td>\n      <td>28.0</td>\n      <td>0.0</td>\n      <td>0.112564</td>\n      <td>0.05</td>\n      <td>1.144895</td>\n      <td>NaN</td>\n    </tr>\n  </tbody>\n</table>\n<p>116 rows × 93 columns</p>\n</div>"
     },
     "execution_count": 15,
     "metadata": {},
     "output_type": "execute_result"
    }
   ],
   "source": [
    "df"
   ],
   "metadata": {
    "collapsed": false,
    "ExecuteTime": {
     "end_time": "2025-05-28T07:59:22.762110200Z",
     "start_time": "2025-05-28T07:59:22.621276500Z"
    }
   }
  },
  {
   "cell_type": "markdown",
   "source": [
    "#### Analysiere Metrik Warnungen\n"
   ],
   "metadata": {
    "collapsed": false
   }
  },
  {
   "cell_type": "code",
   "execution_count": 16,
   "outputs": [
    {
     "data": {
      "text/plain": "       treatment sensor_name  warning_count                   ids\n9   cobra_static  Elasto(92)              3          [21, 23, 28]\n10  cobra_static  Elasto(95)              5  [22, 24, 25, 26, 27]",
      "text/html": "<div>\n<style scoped>\n    .dataframe tbody tr th:only-of-type {\n        vertical-align: middle;\n    }\n\n    .dataframe tbody tr th {\n        vertical-align: top;\n    }\n\n    .dataframe thead th {\n        text-align: right;\n    }\n</style>\n<table border=\"1\" class=\"dataframe\">\n  <thead>\n    <tr style=\"text-align: right;\">\n      <th></th>\n      <th>treatment</th>\n      <th>sensor_name</th>\n      <th>warning_count</th>\n      <th>ids</th>\n    </tr>\n  </thead>\n  <tbody>\n    <tr>\n      <th>9</th>\n      <td>cobra_static</td>\n      <td>Elasto(92)</td>\n      <td>3</td>\n      <td>[21, 23, 28]</td>\n    </tr>\n    <tr>\n      <th>10</th>\n      <td>cobra_static</td>\n      <td>Elasto(95)</td>\n      <td>5</td>\n      <td>[22, 24, 25, 26, 27]</td>\n    </tr>\n  </tbody>\n</table>\n</div>"
     },
     "execution_count": 16,
     "metadata": {},
     "output_type": "execute_result"
    }
   ],
   "source": [
    "# Filtere den DataFrame auf Zeilen, bei denen metrics_warning True ist\n",
    "warnings_df = df[df['metrics_warning']]\n",
    "\n",
    "# Gruppiere nach 'treatment' und 'sensor_name', zähle Warnungen und sammle IDs\n",
    "warnings_summary = (\n",
    "    warnings_df\n",
    "    .groupby(['treatment', 'sensor_name'], observed=False)\n",
    "    .agg(\n",
    "        warning_count=('metrics_warning', 'size'),\n",
    "         ids=('id', lambda x: sorted(x.astype(str).tolist()))\n",
    "    )\n",
    "    .reset_index()\n",
    ")\n",
    "\n",
    "warnings_summary = warnings_summary[warnings_summary['warning_count'] > 0]\n",
    "warnings_summary"
   ],
   "metadata": {
    "collapsed": false,
    "ExecuteTime": {
     "end_time": "2025-05-28T07:59:22.793138100Z",
     "start_time": "2025-05-28T07:59:22.643354600Z"
    }
   }
  },
  {
   "cell_type": "code",
   "execution_count": 17,
   "outputs": [
    {
     "name": "stdout",
     "output_type": "stream",
     "text": [
      "Content saved to: C:\\kyellsen\\005_Projekte\\2024_BA\\032_Feldversuch_2023_Plesse\\030_Analysen\\2023_Kronensicherung_Plesse_Kraefte_Schwingungen\\working_directory\\export_latex\\feldversuch_2_ergebnisse_schwingung_warnung_anpassungsgute.tex\n"
     ]
    }
   ],
   "source": [
    "# LaTeX-String erstellen\n",
    "latex_string = warnings_summary.to_latex(\n",
    "    index=False, \n",
    "    escape=True, \n",
    "    column_format=\"llll\",  # Spaltenformat angepasst\n",
    "    float_format=\"{:0.2f}\".format\n",
    ")\n",
    "\n",
    "caption = \"Feldversuch 2 - Ergebnisse, Schwingung, Warnung Anpassungsgüte\"\n",
    "caption_long = \"Feldversuch 2 - Ergebnisse, Schwingung, Warnung Anpassungsgüte, r < 0,75\"\n",
    "\n",
    "save_latex_table(latex_string, caption, latex_export_directory, caption_long)"
   ],
   "metadata": {
    "collapsed": false,
    "ExecuteTime": {
     "end_time": "2025-05-28T07:59:22.947025800Z",
     "start_time": "2025-05-28T07:59:22.668260100Z"
    }
   }
  },
  {
   "cell_type": "markdown",
   "source": [
    "### EXPORT: Ungefilterte Daten exportieren für Externe (.feather, .csv)\n",
    " "
   ],
   "metadata": {
    "collapsed": false
   }
  },
  {
   "cell_type": "code",
   "execution_count": 18,
   "outputs": [],
   "source": [
    "df.to_feather(data_export_directory / \"_dataset_full.feather\")\n",
    "df.to_csv(data_export_directory / \"_dataset_full.csv\", sep=\";\", index=True, encoding=\"utf-8\")"
   ],
   "metadata": {
    "collapsed": false,
    "ExecuteTime": {
     "end_time": "2025-05-28T07:59:22.956051700Z",
     "start_time": "2025-05-28T07:59:22.759111600Z"
    }
   }
  },
  {
   "cell_type": "markdown",
   "source": [
    "## CLEANING: Daten bereinigen und Filtern"
   ],
   "metadata": {
    "collapsed": false
   }
  },
  {
   "cell_type": "code",
   "execution_count": 19,
   "outputs": [],
   "source": [
    "# Liste der Spalten, die beibehalten werden sollen (mit neuem Namen)\n",
    "select_cols = [\n",
    "    'id', 'rope_datetime', 'treatment', 'release_force_target',\n",
    "    'rope_release', 'cable_max_force', 'cable_integral', \n",
    "\n",
    "    # umbenannt\n",
    "    'sensor_name', 'location', 'direction', 'height', 'diameter',\n",
    "    'max_strain', 'max_compression',\n",
    "    'integral_intercept', 'integral_positiv', 'integral_negativ',\n",
    "    'integral_abs', 'integral_ratio',\n",
    "    'm_amplitude', 'm_amplitude_2',\n",
    "    'initial_amplitude', 'damping_coeff', 'frequency_damped', 'phase_angle', 'y_shift', 'x_shift',\n",
    "    'frequency_undamped', 'damping_ratio',\n",
    "    'metrics_warning', 'pearson_r', 'nrmse', 'nmae'\n",
    "]\n",
    "\n",
    "df = (\n",
    "    df\n",
    "    # Auswahl der gewünschten Spalten\n",
    "    [select_cols]\n",
    "    # Filter auf gültige Kombinationen\n",
    "    .query(\n",
    "        \"release_force_target in [2.0, 2.4, 2.8] \"\n",
    "        \"and treatment in ['free', 'gefa_dynamic', 'cobra_static']\"\n",
    "    )\n",
    "    .copy()\n",
    ")"
   ],
   "metadata": {
    "collapsed": false,
    "ExecuteTime": {
     "end_time": "2025-05-28T07:59:22.996640500Z",
     "start_time": "2025-05-28T07:59:22.794138500Z"
    }
   }
  },
  {
   "cell_type": "code",
   "execution_count": 20,
   "outputs": [],
   "source": [
    "# Nicht verwendete Kategorien entfernen\n",
    "df[\"treatment\"] = df[\"treatment\"].cat.remove_unused_categories()\n",
    "df['cable_integral'] = df['cable_integral'].fillna(0)"
   ],
   "metadata": {
    "collapsed": false,
    "ExecuteTime": {
     "end_time": "2025-05-28T07:59:22.998624500Z",
     "start_time": "2025-05-28T07:59:22.815049200Z"
    }
   }
  },
  {
   "cell_type": "code",
   "execution_count": 21,
   "outputs": [
    {
     "data": {
      "text/plain": "    id       rope_datetime treatment  release_force_target  rope_release  \\\n4    2 2022-03-23 11:24:23      free                   2.8       2.72310   \n5    2 2022-03-23 11:24:23      free                   2.8       2.72310   \n6    2 2022-03-23 11:24:23      free                   2.8       2.72310   \n7    2 2022-03-23 11:24:23      free                   2.8       2.72310   \n8    3 2022-03-23 11:31:12      free                   2.8       2.76205   \n9    3 2022-03-23 11:31:12      free                   2.8       2.76205   \n10   3 2022-03-23 11:31:12      free                   2.8       2.76205   \n11   3 2022-03-23 11:31:12      free                   2.8       2.76205   \n12   4 2022-03-23 11:54:33      free                   2.8       2.73950   \n13   4 2022-03-23 11:54:33      free                   2.8       2.73950   \n\n    cable_max_force  cable_integral sensor_name location   direction  ...  \\\n4               NaN             0.0  Elasto(90)      StB  elongation  ...   \n5               NaN             0.0  Elasto(92)      StB  elongation  ...   \n6               NaN             0.0  Elasto(95)      StA  elongation  ...   \n7               NaN             0.0  Elasto(98)      StA  elongation  ...   \n8               NaN             0.0  Elasto(90)      StB  elongation  ...   \n9               NaN             0.0  Elasto(92)      StB  elongation  ...   \n10              NaN             0.0  Elasto(95)      StA  elongation  ...   \n11              NaN             0.0  Elasto(98)      StA  elongation  ...   \n12              NaN             0.0  Elasto(90)      StB  elongation  ...   \n13              NaN             0.0  Elasto(92)      StB  elongation  ...   \n\n    frequency_damped  phase_angle    y_shift   x_shift  frequency_undamped  \\\n4           0.441518     0.200000  -5.287164  0.116641            0.442936   \n5           0.432441    -0.200000 -14.233644 -0.009730            0.436601   \n6           0.422702    -0.200000 -19.011309 -0.123043            0.426319   \n7           0.443529    -0.065967  -1.099515  0.118608            0.445993   \n8           0.440653     0.200000   7.775284  0.097887            0.441317   \n9           0.439321    -0.075771   7.052210  0.094719            0.441380   \n10          0.436023    -0.200000  -3.785755 -0.075741            0.438127   \n11          0.441350    -0.200000 -17.747289 -0.203345            0.442888   \n12          0.439065     0.200000 -23.445975  0.120929            0.439764   \n13          0.436850    -0.200000 -19.454720  0.061912            0.438829   \n\n    damping_ratio  metrics_warning  pearson_r     nrmse      nmae  \n4        0.503994            False   0.943158  0.038866  0.018011  \n5        0.873595            False   0.929554  0.034560  0.016183  \n6        0.823807            False   0.908058  0.044873  0.024274  \n7        0.663224            False   0.980663  0.029621  0.021087  \n8        0.344951            False   0.957380  0.043035  0.018619  \n9        0.608931            False   0.933463  0.043534  0.021255  \n10       0.618021            False   0.938307  0.039020  0.022498  \n11       0.525070            False   0.974139  0.028693  0.020715  \n12       0.354677            False   0.945320  0.049764  0.021509  \n13       0.598701            False   0.922665  0.050822  0.020659  \n\n[10 rows x 33 columns]",
      "text/html": "<div>\n<style scoped>\n    .dataframe tbody tr th:only-of-type {\n        vertical-align: middle;\n    }\n\n    .dataframe tbody tr th {\n        vertical-align: top;\n    }\n\n    .dataframe thead th {\n        text-align: right;\n    }\n</style>\n<table border=\"1\" class=\"dataframe\">\n  <thead>\n    <tr style=\"text-align: right;\">\n      <th></th>\n      <th>id</th>\n      <th>rope_datetime</th>\n      <th>treatment</th>\n      <th>release_force_target</th>\n      <th>rope_release</th>\n      <th>cable_max_force</th>\n      <th>cable_integral</th>\n      <th>sensor_name</th>\n      <th>location</th>\n      <th>direction</th>\n      <th>...</th>\n      <th>frequency_damped</th>\n      <th>phase_angle</th>\n      <th>y_shift</th>\n      <th>x_shift</th>\n      <th>frequency_undamped</th>\n      <th>damping_ratio</th>\n      <th>metrics_warning</th>\n      <th>pearson_r</th>\n      <th>nrmse</th>\n      <th>nmae</th>\n    </tr>\n  </thead>\n  <tbody>\n    <tr>\n      <th>4</th>\n      <td>2</td>\n      <td>2022-03-23 11:24:23</td>\n      <td>free</td>\n      <td>2.8</td>\n      <td>2.72310</td>\n      <td>NaN</td>\n      <td>0.0</td>\n      <td>Elasto(90)</td>\n      <td>StB</td>\n      <td>elongation</td>\n      <td>...</td>\n      <td>0.441518</td>\n      <td>0.200000</td>\n      <td>-5.287164</td>\n      <td>0.116641</td>\n      <td>0.442936</td>\n      <td>0.503994</td>\n      <td>False</td>\n      <td>0.943158</td>\n      <td>0.038866</td>\n      <td>0.018011</td>\n    </tr>\n    <tr>\n      <th>5</th>\n      <td>2</td>\n      <td>2022-03-23 11:24:23</td>\n      <td>free</td>\n      <td>2.8</td>\n      <td>2.72310</td>\n      <td>NaN</td>\n      <td>0.0</td>\n      <td>Elasto(92)</td>\n      <td>StB</td>\n      <td>elongation</td>\n      <td>...</td>\n      <td>0.432441</td>\n      <td>-0.200000</td>\n      <td>-14.233644</td>\n      <td>-0.009730</td>\n      <td>0.436601</td>\n      <td>0.873595</td>\n      <td>False</td>\n      <td>0.929554</td>\n      <td>0.034560</td>\n      <td>0.016183</td>\n    </tr>\n    <tr>\n      <th>6</th>\n      <td>2</td>\n      <td>2022-03-23 11:24:23</td>\n      <td>free</td>\n      <td>2.8</td>\n      <td>2.72310</td>\n      <td>NaN</td>\n      <td>0.0</td>\n      <td>Elasto(95)</td>\n      <td>StA</td>\n      <td>elongation</td>\n      <td>...</td>\n      <td>0.422702</td>\n      <td>-0.200000</td>\n      <td>-19.011309</td>\n      <td>-0.123043</td>\n      <td>0.426319</td>\n      <td>0.823807</td>\n      <td>False</td>\n      <td>0.908058</td>\n      <td>0.044873</td>\n      <td>0.024274</td>\n    </tr>\n    <tr>\n      <th>7</th>\n      <td>2</td>\n      <td>2022-03-23 11:24:23</td>\n      <td>free</td>\n      <td>2.8</td>\n      <td>2.72310</td>\n      <td>NaN</td>\n      <td>0.0</td>\n      <td>Elasto(98)</td>\n      <td>StA</td>\n      <td>elongation</td>\n      <td>...</td>\n      <td>0.443529</td>\n      <td>-0.065967</td>\n      <td>-1.099515</td>\n      <td>0.118608</td>\n      <td>0.445993</td>\n      <td>0.663224</td>\n      <td>False</td>\n      <td>0.980663</td>\n      <td>0.029621</td>\n      <td>0.021087</td>\n    </tr>\n    <tr>\n      <th>8</th>\n      <td>3</td>\n      <td>2022-03-23 11:31:12</td>\n      <td>free</td>\n      <td>2.8</td>\n      <td>2.76205</td>\n      <td>NaN</td>\n      <td>0.0</td>\n      <td>Elasto(90)</td>\n      <td>StB</td>\n      <td>elongation</td>\n      <td>...</td>\n      <td>0.440653</td>\n      <td>0.200000</td>\n      <td>7.775284</td>\n      <td>0.097887</td>\n      <td>0.441317</td>\n      <td>0.344951</td>\n      <td>False</td>\n      <td>0.957380</td>\n      <td>0.043035</td>\n      <td>0.018619</td>\n    </tr>\n    <tr>\n      <th>9</th>\n      <td>3</td>\n      <td>2022-03-23 11:31:12</td>\n      <td>free</td>\n      <td>2.8</td>\n      <td>2.76205</td>\n      <td>NaN</td>\n      <td>0.0</td>\n      <td>Elasto(92)</td>\n      <td>StB</td>\n      <td>elongation</td>\n      <td>...</td>\n      <td>0.439321</td>\n      <td>-0.075771</td>\n      <td>7.052210</td>\n      <td>0.094719</td>\n      <td>0.441380</td>\n      <td>0.608931</td>\n      <td>False</td>\n      <td>0.933463</td>\n      <td>0.043534</td>\n      <td>0.021255</td>\n    </tr>\n    <tr>\n      <th>10</th>\n      <td>3</td>\n      <td>2022-03-23 11:31:12</td>\n      <td>free</td>\n      <td>2.8</td>\n      <td>2.76205</td>\n      <td>NaN</td>\n      <td>0.0</td>\n      <td>Elasto(95)</td>\n      <td>StA</td>\n      <td>elongation</td>\n      <td>...</td>\n      <td>0.436023</td>\n      <td>-0.200000</td>\n      <td>-3.785755</td>\n      <td>-0.075741</td>\n      <td>0.438127</td>\n      <td>0.618021</td>\n      <td>False</td>\n      <td>0.938307</td>\n      <td>0.039020</td>\n      <td>0.022498</td>\n    </tr>\n    <tr>\n      <th>11</th>\n      <td>3</td>\n      <td>2022-03-23 11:31:12</td>\n      <td>free</td>\n      <td>2.8</td>\n      <td>2.76205</td>\n      <td>NaN</td>\n      <td>0.0</td>\n      <td>Elasto(98)</td>\n      <td>StA</td>\n      <td>elongation</td>\n      <td>...</td>\n      <td>0.441350</td>\n      <td>-0.200000</td>\n      <td>-17.747289</td>\n      <td>-0.203345</td>\n      <td>0.442888</td>\n      <td>0.525070</td>\n      <td>False</td>\n      <td>0.974139</td>\n      <td>0.028693</td>\n      <td>0.020715</td>\n    </tr>\n    <tr>\n      <th>12</th>\n      <td>4</td>\n      <td>2022-03-23 11:54:33</td>\n      <td>free</td>\n      <td>2.8</td>\n      <td>2.73950</td>\n      <td>NaN</td>\n      <td>0.0</td>\n      <td>Elasto(90)</td>\n      <td>StB</td>\n      <td>elongation</td>\n      <td>...</td>\n      <td>0.439065</td>\n      <td>0.200000</td>\n      <td>-23.445975</td>\n      <td>0.120929</td>\n      <td>0.439764</td>\n      <td>0.354677</td>\n      <td>False</td>\n      <td>0.945320</td>\n      <td>0.049764</td>\n      <td>0.021509</td>\n    </tr>\n    <tr>\n      <th>13</th>\n      <td>4</td>\n      <td>2022-03-23 11:54:33</td>\n      <td>free</td>\n      <td>2.8</td>\n      <td>2.73950</td>\n      <td>NaN</td>\n      <td>0.0</td>\n      <td>Elasto(92)</td>\n      <td>StB</td>\n      <td>elongation</td>\n      <td>...</td>\n      <td>0.436850</td>\n      <td>-0.200000</td>\n      <td>-19.454720</td>\n      <td>0.061912</td>\n      <td>0.438829</td>\n      <td>0.598701</td>\n      <td>False</td>\n      <td>0.922665</td>\n      <td>0.050822</td>\n      <td>0.020659</td>\n    </tr>\n  </tbody>\n</table>\n<p>10 rows × 33 columns</p>\n</div>"
     },
     "execution_count": 21,
     "metadata": {},
     "output_type": "execute_result"
    }
   ],
   "source": [
    "df.head(10)"
   ],
   "metadata": {
    "collapsed": false,
    "ExecuteTime": {
     "end_time": "2025-05-28T07:59:23.000220700Z",
     "start_time": "2025-05-28T07:59:22.820360200Z"
    }
   }
  },
  {
   "cell_type": "markdown",
   "source": [
    "### EDIT: Datendokumentation an zusammengeführte und gefilterte Daten anpassen\n",
    "\n",
    "Passe Datendokumentation den zusammengeführten und gefilterten Daten an, ergänze weitere später berechnete Features, erstellt vollstände aktuelle Datendokumentation"
   ],
   "metadata": {
    "collapsed": false
   }
  },
  {
   "cell_type": "code",
   "execution_count": 22,
   "outputs": [],
   "source": [
    "# Lade das Dictionary mit der Daten Dokumentation\n",
    "with open(data_path / \"calc_strain_data_dict.json\", \"r\", encoding=\"utf-8\") as f:\n",
    "    calc_strain_data_dict = json.load(f)\n",
    "    \n",
    "select_cols += list(calc_strain_data_dict.keys())"
   ],
   "metadata": {
    "collapsed": false,
    "ExecuteTime": {
     "end_time": "2025-05-28T07:59:23.077228900Z",
     "start_time": "2025-05-28T07:59:22.843564900Z"
    }
   }
  },
  {
   "cell_type": "code",
   "execution_count": 23,
   "outputs": [],
   "source": [
    "# Rope-Keys erzeugen\n",
    "ls3_rope_data_dict = {f\"rope_{k}\": v for k, v in ls3_data_dict.items()}\n",
    "# Cable-Keys erzeugen\n",
    "ls3_cable_data_dict = {    f\"cable_{k}\": v for k, v in ls3_data_dict.items()}"
   ],
   "metadata": {
    "collapsed": false,
    "ExecuteTime": {
     "end_time": "2025-05-28T07:59:23.102227300Z",
     "start_time": "2025-05-28T07:59:22.894056300Z"
    }
   }
  },
  {
   "cell_type": "code",
   "execution_count": 24,
   "outputs": [],
   "source": [
    "# Alles zusammenführen\n",
    "full_data_dict = {\n",
    "    **sensor_data_dict,\n",
    "    **series_data_dict,\n",
    "    **ls3_rope_data_dict,\n",
    "    **ls3_cable_data_dict,\n",
    "    **ptq_data_dict,\n",
    "    **calc_strain_data_dict\n",
    "}"
   ],
   "metadata": {
    "collapsed": false,
    "ExecuteTime": {
     "end_time": "2025-05-28T07:59:23.102227300Z",
     "start_time": "2025-05-28T07:59:22.900107400Z"
    }
   }
  },
  {
   "cell_type": "code",
   "execution_count": 25,
   "outputs": [],
   "source": [
    "# 1. sensor → Deutsch\n",
    "if \"sensor\" in full_data_dict:\n",
    "    full_data_dict[\"sensor\"][\"Deutsch\"] = \"Elastometer\"\n",
    "\n",
    "# 2. cable_max → Beschreibung, Deutsch, Zeichen\n",
    "if \"cable_max_force\" in full_data_dict:\n",
    "    full_data_dict[\"cable_max_force\"][\"Beschreibung\"] = \"Maximale gemessene Kraftspitze in der KS\"\n",
    "    full_data_dict[\"cable_max_force\"][\"Deutsch\"] = \"Kraftspitze KS\"\n",
    "    full_data_dict[\"cable_max_force\"][\"Zeichen\"] = \"$F_{\\\\mathrm{cable, max}}$\""
   ],
   "metadata": {
    "collapsed": false,
    "ExecuteTime": {
     "end_time": "2025-05-28T07:59:23.103227300Z",
     "start_time": "2025-05-28T07:59:22.905026600Z"
    }
   }
  },
  {
   "cell_type": "code",
   "execution_count": 26,
   "outputs": [
    {
     "data": {
      "text/plain": "{'id': {'Kategorie': 'ptq',\n  'Zeichen': 'ID',\n  'Deutsch': 'ID Messung',\n  'Datentyp': 'int64',\n  'Einheit': '-',\n  'Beschreibung': 'Eindeutige ID der Messung'},\n 'rope_datetime': {'Kategorie': 'ls3',\n  'Zeichen': '$t$',\n  'Deutsch': 'Zeitstempel',\n  'Datentyp': 'object',\n  'Einheit': '-',\n  'Beschreibung': 'Startzeitpunkt der Messung laut Gerät'},\n 'treatment': {'Kategorie': 'series',\n  'Zeichen': 'treatment',\n  'Deutsch': 'Behandlung',\n  'Datentyp': 'category',\n  'Einheit': '-',\n  'Beschreibung': 'Art der KS: \\\\texttt{free}, \\\\texttt{gefa\\\\_dynamic}, \\\\texttt{cobra\\\\_static}'},\n 'release_force_target': {'Kategorie': 'series',\n  'Zeichen': '$F_{\\\\mathrm{release,target}}$',\n  'Deutsch': 'Vorspannkraft-Soll',\n  'Datentyp': 'float64',\n  'Einheit': 'kN',\n  'Beschreibung': 'Geplante Vorspannkraft im Zugseil bei Release'},\n 'rope_release': {'Kategorie': 'ls3',\n  'Zeichen': '$F_{\\\\mathrm{release}}$',\n  'Deutsch': 'Vorspannkraft-Ist',\n  'Datentyp': 'float64',\n  'Einheit': 'kN',\n  'Beschreibung': 'Tatsächlich realisierte Vorspannkraft im Zugseil bei Release'},\n 'cable_max_force': {'Kategorie': 'ls3',\n  'Zeichen': '$F_{\\\\mathrm{cable, max}}$',\n  'Deutsch': 'Kraftspitze KS',\n  'Datentyp': 'float',\n  'Einheit': 'kN',\n  'Beschreibung': 'Maximale gemessene Kraftspitze in der KS'},\n 'cable_integral': {'Kategorie': 'ls3',\n  'Zeichen': '$\\\\int F\\\\,dt$',\n  'Deutsch': 'Kraftintegral',\n  'Datentyp': 'float',\n  'Einheit': 'kN·s',\n  'Beschreibung': 'Zeitliches Integral der Kraft (Fläche unter der Kraft-Zeit-Kurve)'},\n 'sensor_name': {'Kategorie': 'ptq',\n  'Zeichen': 'sensor',\n  'Deutsch': 'Sensorname',\n  'Datentyp': 'object',\n  'Einheit': '-',\n  'Beschreibung': 'Bezeichnung des Elastometers'},\n 'location': {'Kategorie': 'sensor_position',\n  'Zeichen': 'location',\n  'Deutsch': 'Position',\n  'Datentyp': 'string',\n  'Einheit': '-',\n  'Beschreibung': 'Position des Sensors am Stamm'},\n 'direction': {'Kategorie': 'sensor_position',\n  'Zeichen': 'direction',\n  'Deutsch': 'Richtung',\n  'Datentyp': 'string',\n  'Einheit': '-',\n  'Beschreibung': 'Zug- oder Druckseite'},\n 'height': {'Kategorie': 'sensor_position',\n  'Zeichen': '$h$',\n  'Deutsch': 'Höhe',\n  'Datentyp': 'Float64',\n  'Einheit': 'm',\n  'Beschreibung': 'Höhe des Sensors am Stamm'},\n 'diameter': {'Kategorie': 'sensor_position',\n  'Zeichen': '$d$',\n  'Deutsch': 'Durchmesser',\n  'Datentyp': 'Float64',\n  'Einheit': 'cm',\n  'Beschreibung': 'Durchmesser des Stammes'},\n 'max_strain': {'Kategorie': 'ptq',\n  'Zeichen': '$\\\\Delta L_{\\\\mathrm{max}}$',\n  'Deutsch': 'Dehnung max. gemessen',\n  'Datentyp': 'float64',\n  'Einheit': '$\\\\mu$m',\n  'Beschreibung': 'Gemessene maximale absolute Randfaserdehnung'},\n 'max_compression': {'Kategorie': 'ptq',\n  'Zeichen': '$\\\\Delta L_{\\\\mathrm{comp,max}}$',\n  'Deutsch': 'Stauchung max. gemessen',\n  'Datentyp': 'float64',\n  'Einheit': '$\\\\mu$m',\n  'Beschreibung': 'Gemessene maximale absolute Randfaserstauchung'},\n 'm_amplitude': {'Kategorie': 'ptq_osc',\n  'Zeichen': '$mA$',\n  'Deutsch': 'Manuelle Amplitude',\n  'Datentyp': 'float64',\n  'Einheit': '$\\\\mu$m',\n  'Beschreibung': 'Manuell berechnete Amplitude über den Schwingungsabschnitt'},\n 'm_amplitude_2': {'Kategorie': 'ptq_osc',\n  'Zeichen': '$mA_2$',\n  'Deutsch': 'Manuelle Amplitude 2',\n  'Datentyp': 'float64',\n  'Einheit': '$\\\\mu$m',\n  'Beschreibung': 'Manuell berechnete Amplitude zwischen 2. Peak und Minimum'},\n 'initial_amplitude': {'Kategorie': 'ptq_osc',\n  'Zeichen': '$A$',\n  'Deutsch': 'Anfangsamplitude',\n  'Datentyp': 'float64',\n  'Einheit': '$\\\\mu$m',\n  'Beschreibung': 'Initiale Amplitude der angepassten Schwingung'},\n 'damping_coeff': {'Kategorie': 'ptq_osc',\n  'Zeichen': '$\\\\delta$',\n  'Deutsch': 'Dämpfungskoeffizient',\n  'Datentyp': 'float64',\n  'Einheit': '1/s',\n  'Beschreibung': 'Koeffizient der exponentiellen Dämpfung'},\n 'frequency_damped': {'Kategorie': 'ptq_osc',\n  'Zeichen': '$f_{\\\\mathrm{d}}$',\n  'Deutsch': 'Gedämpfte Frequenz',\n  'Datentyp': 'float64',\n  'Einheit': 'Hz',\n  'Beschreibung': 'Frequenz der gedämpften Schwingung'},\n 'phase_angle': {'Kategorie': 'ptq_osc',\n  'Zeichen': '$\\\\varphi$',\n  'Deutsch': 'Phasenwinkel',\n  'Datentyp': 'float64',\n  'Einheit': 'rad',\n  'Beschreibung': 'Anfangsphase der Schwingung'},\n 'y_shift': {'Kategorie': 'ptq_osc',\n  'Zeichen': '$y_0$',\n  'Deutsch': 'Vertikaler Versatz',\n  'Datentyp': 'float64',\n  'Einheit': '$\\\\mu$m',\n  'Beschreibung': 'Vertikaler Offset der Schwingung'},\n 'x_shift': {'Kategorie': 'ptq_osc',\n  'Zeichen': '$t_0$',\n  'Deutsch': 'Zeitverschiebung',\n  'Datentyp': 'float64',\n  'Einheit': 's',\n  'Beschreibung': 'Horizontale Verschiebung der Schwingung'},\n 'frequency_undamped': {'Kategorie': 'ptq_osc',\n  'Zeichen': '$f_0$',\n  'Deutsch': 'Ungedämpfte Frequenz',\n  'Datentyp': 'float64',\n  'Einheit': 'Hz',\n  'Beschreibung': 'Frequenz der ungedämpften Schwingung'},\n 'damping_ratio': {'Kategorie': 'ptq_osc',\n  'Zeichen': '$D$',\n  'Deutsch': 'Dämpfungsgrad',\n  'Datentyp': 'float64',\n  'Einheit': '-',\n  'Beschreibung': 'Verhältnis von Dämpfung zu Frequenz'},\n 'metrics_warning': {'Kategorie': 'ptq_osc',\n  'Zeichen': 'warning',\n  'Deutsch': 'Fit-Warnung',\n  'Datentyp': 'bool',\n  'Einheit': '-',\n  'Beschreibung': 'Warnung, wenn Qualitätsmetrik Schwellenwerte unterschreitet'},\n 'pearson_r': {'Kategorie': 'ptq_osc_metric',\n  'Zeichen': '$r$',\n  'Deutsch': 'Pearson-Korrelation',\n  'Datentyp': 'float64',\n  'Einheit': '-',\n  'Beschreibung': 'Korrelationskoeffizient der Anpassung'},\n 'nrmse': {'Kategorie': 'ptq_osc_metric',\n  'Zeichen': '$\\\\mathrm{NRMSE}$',\n  'Deutsch': 'Normalisierter RMSE',\n  'Datentyp': 'float64',\n  'Einheit': '-',\n  'Beschreibung': 'Normalisierter mittlerer quadratischer Fehler'},\n 'nmae': {'Kategorie': 'ptq_osc_metric',\n  'Zeichen': '$\\\\mathrm{NMAE}$',\n  'Deutsch': 'Normalisierter MAE',\n  'Datentyp': 'float64',\n  'Einheit': '-',\n  'Beschreibung': 'Normalisierter mittlerer absoluter Fehler'},\n 'calc_max_strain': {'Kategorie': 'calc_strain',\n  'Zeichen': '$\\\\Delta L_{\\\\mathrm{calc,max}}$',\n  'Deutsch': 'Dehnung max. berechnet',\n  'Datentyp': 'float64',\n  'Einheit': '$\\\\mu$m',\n  'Beschreibung': 'Berechnete maximale Randfaserdehnung'},\n 'calc_max_strain_relativ': {'Kategorie': 'calc_strain',\n  'Zeichen': '$\\\\Delta L_{\\\\mathrm{calc,rel}}$',\n  'Deutsch': 'Berechnete maximale Randfaserdehnung',\n  'Datentyp': 'float64',\n  'Einheit': '$\\\\mu$m',\n  'Beschreibung': 'Differenz gemessene und berechnete maximale Randfaserdehnung'},\n 'strain_difference': {'Kategorie': 'calc_strain',\n  'Zeichen': '$\\\\Delta \\\\varepsilon$',\n  'Deutsch': 'Differenz der Faserdehnung',\n  'Datentyp': 'float64',\n  'Einheit': '\\\\%',\n  'Beschreibung': 'Relative Differenz der berechneten und gemessenen max. Dehnung'}}"
     },
     "execution_count": 26,
     "metadata": {},
     "output_type": "execute_result"
    }
   ],
   "source": [
    "data_dict = {key: full_data_dict[key] for key in select_cols if key in full_data_dict}\n",
    "data_dict"
   ],
   "metadata": {
    "collapsed": false,
    "ExecuteTime": {
     "end_time": "2025-05-28T07:59:23.103227300Z",
     "start_time": "2025-05-28T07:59:22.910541800Z"
    }
   }
  },
  {
   "cell_type": "code",
   "execution_count": 27,
   "outputs": [
    {
     "data": {
      "text/plain": "     id       rope_datetime     treatment  release_force_target  rope_release  \\\n4     2 2022-03-23 11:24:23          free                   2.8       2.72310   \n5     2 2022-03-23 11:24:23          free                   2.8       2.72310   \n6     2 2022-03-23 11:24:23          free                   2.8       2.72310   \n7     2 2022-03-23 11:24:23          free                   2.8       2.72310   \n8     3 2022-03-23 11:31:12          free                   2.8       2.76205   \n..   ..                 ...           ...                   ...           ...   \n99   25 2022-03-23 16:44:31  cobra_static                   2.4       2.45465   \n100  26 2022-03-23 16:56:04  cobra_static                   2.0       1.99840   \n101  26 2022-03-23 16:56:04  cobra_static                   2.0       1.99840   \n102  26 2022-03-23 16:56:04  cobra_static                   2.0       1.99840   \n103  26 2022-03-23 16:56:04  cobra_static                   2.0       1.99840   \n\n     cable_max_force  cable_integral sensor_name location   direction  ...  \\\n4                NaN        0.000000  Elasto(90)      StB  elongation  ...   \n5                NaN        0.000000  Elasto(92)      StB  elongation  ...   \n6                NaN        0.000000  Elasto(95)      StA  elongation  ...   \n7                NaN        0.000000  Elasto(98)      StA  elongation  ...   \n8                NaN        0.000000  Elasto(90)      StB  elongation  ...   \n..               ...             ...         ...      ...         ...  ...   \n99              2.80        1.455661  Elasto(98)      StA  elongation  ...   \n100             2.33        1.334834  Elasto(90)      StB  elongation  ...   \n101             2.33        1.334834  Elasto(92)      StB  elongation  ...   \n102             2.33        1.334834  Elasto(95)      StA  elongation  ...   \n103             2.33        1.334834  Elasto(98)      StA  elongation  ...   \n\n     frequency_damped  phase_angle    y_shift   x_shift  frequency_undamped  \\\n4            0.441518     0.200000  -5.287164  0.116641            0.442936   \n5            0.432441    -0.200000 -14.233644 -0.009730            0.436601   \n6            0.422702    -0.200000 -19.011309 -0.123043            0.426319   \n7            0.443529    -0.065967  -1.099515  0.118608            0.445993   \n8            0.440653     0.200000   7.775284  0.097887            0.441317   \n..                ...          ...        ...       ...                 ...   \n99           0.526233     0.200000   0.004065 -0.123942            0.530764   \n100          0.543590    -0.200000  -5.140277  0.088797            0.546791   \n101          0.350000    -0.200000  -2.964533 -0.079053            0.384487   \n102          0.466347    -0.200000   4.559008 -0.153434            0.492757   \n103          0.531654    -0.200000   1.756473 -0.185551            0.535915   \n\n     damping_ratio  metrics_warning  pearson_r     nrmse      nmae  \n4         0.503994            False   0.943158  0.038866  0.018011  \n5         0.873595            False   0.929554  0.034560  0.016183  \n6         0.823807            False   0.908058  0.044873  0.024274  \n7         0.663224            False   0.980663  0.029621  0.021087  \n8         0.344951            False   0.957380  0.043035  0.018619  \n..             ...              ...        ...       ...       ...  \n99        0.826263            False   0.939117  0.040525  0.028335  \n100       0.682871            False   0.890898  0.044373  0.022288  \n101       2.857143            False   0.866183  0.057465  0.033882  \n102       2.144327             True   0.747046  0.070126  0.040196  \n103       0.797061            False   0.928892  0.047247  0.036816  \n\n[100 rows x 33 columns]",
      "text/html": "<div>\n<style scoped>\n    .dataframe tbody tr th:only-of-type {\n        vertical-align: middle;\n    }\n\n    .dataframe tbody tr th {\n        vertical-align: top;\n    }\n\n    .dataframe thead th {\n        text-align: right;\n    }\n</style>\n<table border=\"1\" class=\"dataframe\">\n  <thead>\n    <tr style=\"text-align: right;\">\n      <th></th>\n      <th>id</th>\n      <th>rope_datetime</th>\n      <th>treatment</th>\n      <th>release_force_target</th>\n      <th>rope_release</th>\n      <th>cable_max_force</th>\n      <th>cable_integral</th>\n      <th>sensor_name</th>\n      <th>location</th>\n      <th>direction</th>\n      <th>...</th>\n      <th>frequency_damped</th>\n      <th>phase_angle</th>\n      <th>y_shift</th>\n      <th>x_shift</th>\n      <th>frequency_undamped</th>\n      <th>damping_ratio</th>\n      <th>metrics_warning</th>\n      <th>pearson_r</th>\n      <th>nrmse</th>\n      <th>nmae</th>\n    </tr>\n  </thead>\n  <tbody>\n    <tr>\n      <th>4</th>\n      <td>2</td>\n      <td>2022-03-23 11:24:23</td>\n      <td>free</td>\n      <td>2.8</td>\n      <td>2.72310</td>\n      <td>NaN</td>\n      <td>0.000000</td>\n      <td>Elasto(90)</td>\n      <td>StB</td>\n      <td>elongation</td>\n      <td>...</td>\n      <td>0.441518</td>\n      <td>0.200000</td>\n      <td>-5.287164</td>\n      <td>0.116641</td>\n      <td>0.442936</td>\n      <td>0.503994</td>\n      <td>False</td>\n      <td>0.943158</td>\n      <td>0.038866</td>\n      <td>0.018011</td>\n    </tr>\n    <tr>\n      <th>5</th>\n      <td>2</td>\n      <td>2022-03-23 11:24:23</td>\n      <td>free</td>\n      <td>2.8</td>\n      <td>2.72310</td>\n      <td>NaN</td>\n      <td>0.000000</td>\n      <td>Elasto(92)</td>\n      <td>StB</td>\n      <td>elongation</td>\n      <td>...</td>\n      <td>0.432441</td>\n      <td>-0.200000</td>\n      <td>-14.233644</td>\n      <td>-0.009730</td>\n      <td>0.436601</td>\n      <td>0.873595</td>\n      <td>False</td>\n      <td>0.929554</td>\n      <td>0.034560</td>\n      <td>0.016183</td>\n    </tr>\n    <tr>\n      <th>6</th>\n      <td>2</td>\n      <td>2022-03-23 11:24:23</td>\n      <td>free</td>\n      <td>2.8</td>\n      <td>2.72310</td>\n      <td>NaN</td>\n      <td>0.000000</td>\n      <td>Elasto(95)</td>\n      <td>StA</td>\n      <td>elongation</td>\n      <td>...</td>\n      <td>0.422702</td>\n      <td>-0.200000</td>\n      <td>-19.011309</td>\n      <td>-0.123043</td>\n      <td>0.426319</td>\n      <td>0.823807</td>\n      <td>False</td>\n      <td>0.908058</td>\n      <td>0.044873</td>\n      <td>0.024274</td>\n    </tr>\n    <tr>\n      <th>7</th>\n      <td>2</td>\n      <td>2022-03-23 11:24:23</td>\n      <td>free</td>\n      <td>2.8</td>\n      <td>2.72310</td>\n      <td>NaN</td>\n      <td>0.000000</td>\n      <td>Elasto(98)</td>\n      <td>StA</td>\n      <td>elongation</td>\n      <td>...</td>\n      <td>0.443529</td>\n      <td>-0.065967</td>\n      <td>-1.099515</td>\n      <td>0.118608</td>\n      <td>0.445993</td>\n      <td>0.663224</td>\n      <td>False</td>\n      <td>0.980663</td>\n      <td>0.029621</td>\n      <td>0.021087</td>\n    </tr>\n    <tr>\n      <th>8</th>\n      <td>3</td>\n      <td>2022-03-23 11:31:12</td>\n      <td>free</td>\n      <td>2.8</td>\n      <td>2.76205</td>\n      <td>NaN</td>\n      <td>0.000000</td>\n      <td>Elasto(90)</td>\n      <td>StB</td>\n      <td>elongation</td>\n      <td>...</td>\n      <td>0.440653</td>\n      <td>0.200000</td>\n      <td>7.775284</td>\n      <td>0.097887</td>\n      <td>0.441317</td>\n      <td>0.344951</td>\n      <td>False</td>\n      <td>0.957380</td>\n      <td>0.043035</td>\n      <td>0.018619</td>\n    </tr>\n    <tr>\n      <th>...</th>\n      <td>...</td>\n      <td>...</td>\n      <td>...</td>\n      <td>...</td>\n      <td>...</td>\n      <td>...</td>\n      <td>...</td>\n      <td>...</td>\n      <td>...</td>\n      <td>...</td>\n      <td>...</td>\n      <td>...</td>\n      <td>...</td>\n      <td>...</td>\n      <td>...</td>\n      <td>...</td>\n      <td>...</td>\n      <td>...</td>\n      <td>...</td>\n      <td>...</td>\n      <td>...</td>\n    </tr>\n    <tr>\n      <th>99</th>\n      <td>25</td>\n      <td>2022-03-23 16:44:31</td>\n      <td>cobra_static</td>\n      <td>2.4</td>\n      <td>2.45465</td>\n      <td>2.80</td>\n      <td>1.455661</td>\n      <td>Elasto(98)</td>\n      <td>StA</td>\n      <td>elongation</td>\n      <td>...</td>\n      <td>0.526233</td>\n      <td>0.200000</td>\n      <td>0.004065</td>\n      <td>-0.123942</td>\n      <td>0.530764</td>\n      <td>0.826263</td>\n      <td>False</td>\n      <td>0.939117</td>\n      <td>0.040525</td>\n      <td>0.028335</td>\n    </tr>\n    <tr>\n      <th>100</th>\n      <td>26</td>\n      <td>2022-03-23 16:56:04</td>\n      <td>cobra_static</td>\n      <td>2.0</td>\n      <td>1.99840</td>\n      <td>2.33</td>\n      <td>1.334834</td>\n      <td>Elasto(90)</td>\n      <td>StB</td>\n      <td>elongation</td>\n      <td>...</td>\n      <td>0.543590</td>\n      <td>-0.200000</td>\n      <td>-5.140277</td>\n      <td>0.088797</td>\n      <td>0.546791</td>\n      <td>0.682871</td>\n      <td>False</td>\n      <td>0.890898</td>\n      <td>0.044373</td>\n      <td>0.022288</td>\n    </tr>\n    <tr>\n      <th>101</th>\n      <td>26</td>\n      <td>2022-03-23 16:56:04</td>\n      <td>cobra_static</td>\n      <td>2.0</td>\n      <td>1.99840</td>\n      <td>2.33</td>\n      <td>1.334834</td>\n      <td>Elasto(92)</td>\n      <td>StB</td>\n      <td>elongation</td>\n      <td>...</td>\n      <td>0.350000</td>\n      <td>-0.200000</td>\n      <td>-2.964533</td>\n      <td>-0.079053</td>\n      <td>0.384487</td>\n      <td>2.857143</td>\n      <td>False</td>\n      <td>0.866183</td>\n      <td>0.057465</td>\n      <td>0.033882</td>\n    </tr>\n    <tr>\n      <th>102</th>\n      <td>26</td>\n      <td>2022-03-23 16:56:04</td>\n      <td>cobra_static</td>\n      <td>2.0</td>\n      <td>1.99840</td>\n      <td>2.33</td>\n      <td>1.334834</td>\n      <td>Elasto(95)</td>\n      <td>StA</td>\n      <td>elongation</td>\n      <td>...</td>\n      <td>0.466347</td>\n      <td>-0.200000</td>\n      <td>4.559008</td>\n      <td>-0.153434</td>\n      <td>0.492757</td>\n      <td>2.144327</td>\n      <td>True</td>\n      <td>0.747046</td>\n      <td>0.070126</td>\n      <td>0.040196</td>\n    </tr>\n    <tr>\n      <th>103</th>\n      <td>26</td>\n      <td>2022-03-23 16:56:04</td>\n      <td>cobra_static</td>\n      <td>2.0</td>\n      <td>1.99840</td>\n      <td>2.33</td>\n      <td>1.334834</td>\n      <td>Elasto(98)</td>\n      <td>StA</td>\n      <td>elongation</td>\n      <td>...</td>\n      <td>0.531654</td>\n      <td>-0.200000</td>\n      <td>1.756473</td>\n      <td>-0.185551</td>\n      <td>0.535915</td>\n      <td>0.797061</td>\n      <td>False</td>\n      <td>0.928892</td>\n      <td>0.047247</td>\n      <td>0.036816</td>\n    </tr>\n  </tbody>\n</table>\n<p>100 rows × 33 columns</p>\n</div>"
     },
     "execution_count": 27,
     "metadata": {},
     "output_type": "execute_result"
    }
   ],
   "source": [
    "df.head(100)"
   ],
   "metadata": {
    "collapsed": false,
    "ExecuteTime": {
     "end_time": "2025-05-28T07:59:23.104227600Z",
     "start_time": "2025-05-28T07:59:22.920024100Z"
    }
   }
  },
  {
   "cell_type": "code",
   "execution_count": 28,
   "outputs": [
    {
     "data": {
      "text/plain": "<IPython.core.display.Markdown object>",
      "text/markdown": "|    | Variable                | Kategorie       | Zeichen                        | Deutsch                              | Datentyp   | Einheit   | Beschreibung                                                              |\n|----|-------------------------|-----------------|--------------------------------|--------------------------------------|------------|-----------|---------------------------------------------------------------------------|\n|  0 | id                      | ptq             | ID                             | ID Messung                           | int64      | -         | Eindeutige ID der Messung                                                 |\n|  1 | rope_datetime           | ls3             | $t$                            | Zeitstempel                          | object     | -         | Startzeitpunkt der Messung laut Gerät                                     |\n|  2 | treatment               | series          | treatment                      | Behandlung                           | category   | -         | Art der KS: \\texttt{free}, \\texttt{gefa\\_dynamic}, \\texttt{cobra\\_static} |\n|  3 | release_force_target    | series          | $F_{\\mathrm{release,target}}$  | Vorspannkraft-Soll                   | float64    | kN        | Geplante Vorspannkraft im Zugseil bei Release                             |\n|  4 | rope_release            | ls3             | $F_{\\mathrm{release}}$         | Vorspannkraft-Ist                    | float64    | kN        | Tatsächlich realisierte Vorspannkraft im Zugseil bei Release              |\n|  5 | cable_max_force         | ls3             | $F_{\\mathrm{cable, max}}$      | Kraftspitze KS                       | float      | kN        | Maximale gemessene Kraftspitze in der KS                                  |\n|  6 | cable_integral          | ls3             | $\\int F\\,dt$                   | Kraftintegral                        | float      | kN·s      | Zeitliches Integral der Kraft (Fläche unter der Kraft-Zeit-Kurve)         |\n|  7 | sensor_name             | ptq             | sensor                         | Sensorname                           | object     | -         | Bezeichnung des Elastometers                                              |\n|  8 | location                | sensor_position | location                       | Position                             | string     | -         | Position des Sensors am Stamm                                             |\n|  9 | direction               | sensor_position | direction                      | Richtung                             | string     | -         | Zug- oder Druckseite                                                      |\n| 10 | height                  | sensor_position | $h$                            | Höhe                                 | Float64    | m         | Höhe des Sensors am Stamm                                                 |\n| 11 | diameter                | sensor_position | $d$                            | Durchmesser                          | Float64    | cm        | Durchmesser des Stammes                                                   |\n| 12 | max_strain              | ptq             | $\\Delta L_{\\mathrm{max}}$      | Dehnung max. gemessen                | float64    | $\\mu$m    | Gemessene maximale absolute Randfaserdehnung                              |\n| 13 | max_compression         | ptq             | $\\Delta L_{\\mathrm{comp,max}}$ | Stauchung max. gemessen              | float64    | $\\mu$m    | Gemessene maximale absolute Randfaserstauchung                            |\n| 14 | m_amplitude             | ptq_osc         | $mA$                           | Manuelle Amplitude                   | float64    | $\\mu$m    | Manuell berechnete Amplitude über den Schwingungsabschnitt                |\n| 15 | m_amplitude_2           | ptq_osc         | $mA_2$                         | Manuelle Amplitude 2                 | float64    | $\\mu$m    | Manuell berechnete Amplitude zwischen 2. Peak und Minimum                 |\n| 16 | initial_amplitude       | ptq_osc         | $A$                            | Anfangsamplitude                     | float64    | $\\mu$m    | Initiale Amplitude der angepassten Schwingung                             |\n| 17 | damping_coeff           | ptq_osc         | $\\delta$                       | Dämpfungskoeffizient                 | float64    | 1/s       | Koeffizient der exponentiellen Dämpfung                                   |\n| 18 | frequency_damped        | ptq_osc         | $f_{\\mathrm{d}}$               | Gedämpfte Frequenz                   | float64    | Hz        | Frequenz der gedämpften Schwingung                                        |\n| 19 | phase_angle             | ptq_osc         | $\\varphi$                      | Phasenwinkel                         | float64    | rad       | Anfangsphase der Schwingung                                               |\n| 20 | y_shift                 | ptq_osc         | $y_0$                          | Vertikaler Versatz                   | float64    | $\\mu$m    | Vertikaler Offset der Schwingung                                          |\n| 21 | x_shift                 | ptq_osc         | $t_0$                          | Zeitverschiebung                     | float64    | s         | Horizontale Verschiebung der Schwingung                                   |\n| 22 | frequency_undamped      | ptq_osc         | $f_0$                          | Ungedämpfte Frequenz                 | float64    | Hz        | Frequenz der ungedämpften Schwingung                                      |\n| 23 | damping_ratio           | ptq_osc         | $D$                            | Dämpfungsgrad                        | float64    | -         | Verhältnis von Dämpfung zu Frequenz                                       |\n| 24 | metrics_warning         | ptq_osc         | warning                        | Fit-Warnung                          | bool       | -         | Warnung, wenn Qualitätsmetrik Schwellenwerte unterschreitet               |\n| 25 | pearson_r               | ptq_osc_metric  | $r$                            | Pearson-Korrelation                  | float64    | -         | Korrelationskoeffizient der Anpassung                                     |\n| 26 | nrmse                   | ptq_osc_metric  | $\\mathrm{NRMSE}$               | Normalisierter RMSE                  | float64    | -         | Normalisierter mittlerer quadratischer Fehler                             |\n| 27 | nmae                    | ptq_osc_metric  | $\\mathrm{NMAE}$                | Normalisierter MAE                   | float64    | -         | Normalisierter mittlerer absoluter Fehler                                 |\n| 28 | calc_max_strain         | calc_strain     | $\\Delta L_{\\mathrm{calc,max}}$ | Dehnung max. berechnet               | float64    | $\\mu$m    | Berechnete maximale Randfaserdehnung                                      |\n| 29 | calc_max_strain_relativ | calc_strain     | $\\Delta L_{\\mathrm{calc,rel}}$ | Berechnete maximale Randfaserdehnung | float64    | $\\mu$m    | Differenz gemessene und berechnete maximale Randfaserdehnung              |\n| 30 | strain_difference       | calc_strain     | $\\Delta \\varepsilon$           | Differenz der Faserdehnung           | float64    | \\%        | Relative Differenz der berechneten und gemessenen max. Dehnung            |"
     },
     "metadata": {},
     "output_type": "display_data"
    }
   ],
   "source": [
    "# In DataFrame umwandeln\n",
    "data_dict_df =  build_data_dict_df(data_dict)\n",
    "\n",
    "# In Markdown umwandeln und anzeigen\n",
    "md_text = data_dict_df.to_markdown(tablefmt=\"github\")\n",
    "display(Markdown(md_text))"
   ],
   "metadata": {
    "collapsed": false,
    "ExecuteTime": {
     "end_time": "2025-05-28T07:59:23.122226900Z",
     "start_time": "2025-05-28T07:59:22.945017Z"
    }
   }
  },
  {
   "cell_type": "markdown",
   "source": [
    "### EXPORT: Gefilterte Daten und Datendokumentation exportieren für Weiterverarbeitung (.feather, .csv, .json)"
   ],
   "metadata": {
    "collapsed": false
   }
  },
  {
   "cell_type": "code",
   "execution_count": 29,
   "outputs": [],
   "source": [
    "df.to_feather(data_export_directory / \"_dataset_clean.feather\")\n",
    "df.to_csv(data_export_directory / \"_dataset_clean.csv\", sep=\";\", index=True, encoding=\"utf-8\")\n",
    "\n",
    "with open(data_export_directory / \"_data_dict_clean.json\", \"w\", encoding=\"utf-8\") as f:\n",
    "    json.dump(data_dict, f, indent=4, ensure_ascii=False)"
   ],
   "metadata": {
    "collapsed": false,
    "ExecuteTime": {
     "end_time": "2025-05-28T07:59:23.269339800Z",
     "start_time": "2025-05-28T07:59:22.969107Z"
    }
   }
  },
  {
   "cell_type": "markdown",
   "source": [
    "### LATEX-EXPORT: Datendokumentation als Latex-Tabelle exportieren (.tex)"
   ],
   "metadata": {
    "collapsed": false
   }
  },
  {
   "cell_type": "code",
   "execution_count": 30,
   "outputs": [
    {
     "name": "stdout",
     "output_type": "stream",
     "text": [
      "Content saved to: C:\\kyellsen\\005_Projekte\\2024_BA\\032_Feldversuch_2023_Plesse\\030_Analysen\\2023_Kronensicherung_Plesse_Kraefte_Schwingungen\\working_directory\\export_latex\\feldversuch_2_ergebnisse_daten_dokumentation.tex\n"
     ]
    }
   ],
   "source": [
    "# Erzeuge DataFrame für LaTeX mit einheitlichem Aufbau\n",
    "data_dict_df = build_data_dict_df(data_dict, escape_index=True, select_latex_fields=True)\n",
    "\n",
    "# Exportiere als LaTeX\n",
    "latex_string = data_dict_df.to_latex(index=False, escape=False)\n",
    "\n",
    "caption = \"Feldversuch 2 - Ergebnisse, Daten Dokumentation\"\n",
    "caption_long = \"Feldversuch 2 - Ergebnisse, Daten Dokumentation, Kräfte, Dehnungen und Schwingungsparameter\"\n",
    "\n",
    "save_latex_table(latex_string, caption, latex_export_directory, caption_long=caption_long)"
   ],
   "metadata": {
    "collapsed": false,
    "ExecuteTime": {
     "end_time": "2025-05-28T07:59:23.423226600Z",
     "start_time": "2025-05-28T07:59:22.993621900Z"
    }
   }
  }
 ],
 "metadata": {
  "kernelspec": {
   "display_name": "Python 3 (ipykernel)",
   "language": "python",
   "name": "python3"
  },
  "language_info": {
   "codemirror_mode": {
    "name": "ipython",
    "version": 3
   },
   "file_extension": ".py",
   "mimetype": "text/x-python",
   "name": "python",
   "nbconvert_exporter": "python",
   "pygments_lexer": "ipython3",
   "version": "3.11.2"
  }
 },
 "nbformat": 4,
 "nbformat_minor": 4
}
