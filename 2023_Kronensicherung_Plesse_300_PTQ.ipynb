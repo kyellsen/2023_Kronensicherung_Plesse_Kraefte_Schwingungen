{
 "cells": [
  {
   "cell_type": "markdown",
   "metadata": {},
   "source": [
    "---\n",
    "title: \"2023_Kronensicherung_Plesse_003_PTQ\"\n",
    "author: \"Kyell Jensen\"\n",
    "date: \"2024-08-06\"\n",
    "format: pdf\n",
    "editor: visual\n",
    "---"
   ]
  },
  {
   "cell_type": "markdown",
   "metadata": {
    "collapsed": false
   },
   "source": [
    "# 2023_Kronensicherung_Plesse_PTQ\n",
    "## ## PTQ: Daten der Elastometer (PicusTreeQinetic Data = PTQ)\n",
    "\n",
    "Nutze eine geeignete Python 3.11 Umgebung (z. B. virtuelle Environment) und installiere das Paket treeqinetic (PTQ) inklusive kj_core und kj_logger und weiteren requirements."
   ]
  },
  {
   "cell_type": "markdown",
   "metadata": {
    "collapsed": false
   },
   "source": [
    "## Arbeitsumgebung vorbereiten\n",
    "\n",
    "\n",
    "Es werden zuerst benötigte Standard-Pakete importiert. Nachfolgend das extra geschriebenen Pakete PTQ. Fehler beim Import dieses Pakets sind ggf. Bugs. Es nutzte eine gemeinsame CodeBasis in den Paketen kj_core (Core-Package) und kj_logger (individualisiertes Logging des Verarbeitungs-Prozesses). Diese sollte i. d. R. über die requirements mit installiert werden."
   ]
  },
  {
   "cell_type": "markdown",
   "metadata": {
    "collapsed": false
   },
   "source": [
    "### IMPORT: Importieren von Standardbibliotheken\n",
    "\n",
    "Die folgenden Bibliotheken werden importiert, um grundlegende Funktionen für Strukturierung, Datenverarbeitung, Plotting und statistische Auswertung bereit zu stellen."
   ]
  },
  {
   "cell_type": "code",
   "execution_count": null,
   "metadata": {
    "is_executing": true
   },
   "outputs": [],
   "source": [
    "import numpy as np\n",
    "import pandas as pd\n",
    "import json\n",
    "from IPython.display import Markdown, display\n",
    "from pandas.api.types import CategoricalDtype"
   ]
  },
  {
   "cell_type": "markdown",
   "metadata": {
    "collapsed": false
   },
   "source": [
    "### IMPORT: Importieren eigenes Packet TreeQinetic\n",
    "\n",
    "Das Packet TreeQinetic wurde vom Autor (Kyell Jensen) zum einfachen Analysieren, Plotten und zur Interpretation der TXT-Messdaten der Picus TreeQinetic Elastometer und Inclinometer der Firma IML Instrumenta Mechanik Labor Electronic GmbH geschrieben (https://www.iml-electronic.de/produkt/picus-treeqinetic/). Nachfolgend wird das Packet und einige dort definierten Klassen importiert."
   ]
  },
  {
   "cell_type": "code",
   "execution_count": null,
   "metadata": {
    "collapsed": false,
    "is_executing": true
   },
   "outputs": [],
   "source": [
    "import treeqinetic as ptq\n",
    "# ptq.help() # Test"
   ]
  },
  {
   "cell_type": "markdown",
   "source": [
    "Lade allgemeine Export-Funktionen, um die Daten als Latex-Tabellen zu exportieren"
   ],
   "metadata": {
    "collapsed": false
   }
  },
  {
   "cell_type": "code",
   "execution_count": null,
   "outputs": [],
   "source": [
    "from kj_core.utils.latex_export import (\n",
    "    save_latex_table,\n",
    "    build_data_dict_df\n",
    ")"
   ],
   "metadata": {
    "collapsed": false,
    "is_executing": true
   }
  },
  {
   "cell_type": "markdown",
   "source": [
    "### IMPORT: Projekt Konfiguration laden\n",
    "\n",
    "Lege Pfade für Daten-Importe, Daten-Exporte etc. fest (ggf. anpassen an eigene Verzeichnisstruktur), ausgelagert in gemeinsame Config für verschiedene Notebooks"
   ],
   "metadata": {
    "collapsed": false
   }
  },
  {
   "cell_type": "code",
   "execution_count": null,
   "outputs": [],
   "source": [
    "# Importiere alle Einstellungen aus der project_config.py\n",
    "from project_config import (\n",
    "    analyse_name,\n",
    "    working_directory,\n",
    "    data_path,\n",
    "    data_export_directory,\n",
    "    latex_export_directory\n",
    ")"
   ],
   "metadata": {
    "collapsed": false,
    "is_executing": true
   }
  },
  {
   "cell_type": "markdown",
   "source": [],
   "metadata": {
    "collapsed": false
   }
  },
  {
   "cell_type": "markdown",
   "source": [
    "## IMPORT: TreeQinetic Daten laden\n",
    "\n",
    "Aus dem Zugversuchsset wurden 4 Elastometer und 3 Inclinometer verwendet.\n",
    "\n",
    "Die Elastometer waren auf dem rechten und linken Stämmling auf der Außenseite in zwei Ebenen platziert. Beim Zusammenziehen der Stämmlinge messen diese entsprechnd eine Faserdehnung, beim Ausschwingen der Stämmlinge über ihre Ruhelage hinaus nach außen eine Faserstauchung.\n",
    "\n",
    "Die Inclinometer Daten werden hier ebefalls geladen, erschienen aber weniger geeignet zur Auswertung und werden entspricht nicht weiter berücksichtigt.\n",
    "\n",
    "Die Funktion 'ptq.setup' erstellt div. Instanzen, die für das Paket notwendig sind (CONFIG, LOG_MANAGER, PLOT_MANAGER). \n",
    "\n",
    "Über die Klasse 'ptq.Series' wird eine neue Messreihe initialisiert und als 'ptq_series' gespeichert. Im Verzeichnis ptq_data_path finden sich die PTQ Daten als TXT von insgesamt 29 Messungen. Eine Datei enthält jeweils die Daten für alle Inclinometer und Elastometer."
   ],
   "metadata": {
    "collapsed": false
   }
  },
  {
   "cell_type": "markdown",
   "source": [
    "## IMPORT: Datendokumentation laden"
   ],
   "metadata": {
    "collapsed": false
   }
  },
  {
   "cell_type": "code",
   "execution_count": null,
   "outputs": [],
   "source": [
    "ptq.setup(working_directory=working_directory, log_level=\"info\", safe_logs_to_file=True)\n",
    "\n",
    "ptq_data_path = data_path / 'PTQ/data_txt'\n",
    "ptq_series = ptq.classes.Series(name=analyse_name, path=ptq_data_path)\n",
    "\n",
    "# Relevante Elastometer\n",
    "elasto_names = [\"Elasto(90)\", \"Elasto(92)\", \"Elasto(95)\", \"Elasto(98)\"]"
   ],
   "metadata": {
    "collapsed": false,
    "is_executing": true
   }
  },
  {
   "cell_type": "code",
   "execution_count": null,
   "outputs": [],
   "source": [
    "ptq_data_dict = ptq_series.create_oscillations_data_dict()\n",
    "# In DataFrame umwandeln\n",
    "ptq_data_dict_df= build_data_dict_df(ptq_data_dict)\n",
    "\n",
    "# In Markdown umwandeln und anzeigen\n",
    "md_text = ptq_data_dict_df.to_markdown(tablefmt=\"github\")\n",
    "display(Markdown(md_text))"
   ],
   "metadata": {
    "collapsed": false,
    "is_executing": true
   }
  },
  {
   "cell_type": "markdown",
   "source": [
    "## ANALYSE: Explorative Datenanalyse\n",
    "\n",
    "Übersicht über alle vom PTQ erfassten Daten über alle Messungen gemeinsam (Elastos und Inclinos)."
   ],
   "metadata": {
    "collapsed": false
   }
  },
  {
   "cell_type": "code",
   "execution_count": null,
   "outputs": [],
   "source": [
    "ptq_df = ptq_series.get_measurements_df()\n",
    "ptq_df"
   ],
   "metadata": {
    "collapsed": false,
    "is_executing": true
   }
  },
  {
   "cell_type": "code",
   "execution_count": null,
   "outputs": [],
   "source": [
    "ptq_df.describe()"
   ],
   "metadata": {
    "collapsed": false,
    "is_executing": true
   }
  },
  {
   "cell_type": "code",
   "execution_count": null,
   "outputs": [],
   "source": [
    "ptq_df_elasto_summary = ptq_df[elasto_names].describe()\n",
    "ptq_df_elasto_summary"
   ],
   "metadata": {
    "collapsed": false,
    "is_executing": true
   }
  },
  {
   "cell_type": "markdown",
   "source": [
    "### PLOTTING: Daten aller Messungen bzw. Elastometer\n",
    "\n",
    "Plotten der 4 verwendeten Elastometer in einem Plot für jede Messung. Die Plots werden im Verzeichnis ptq/plots/multi_sensors_vs_time_1/ abgelegt.\n",
    "Für alle Messungen und Elastometer ist gut zu erkennen, wie die Faserdehnung während des zusammen ziehen der Stämmlinge zunimmt, dann im Moment des Realises plötzlich abfällt, um in Folge harmonisch gedämpft auszuschwingen (nährungsweise)."
   ],
   "metadata": {
    "collapsed": false
   }
  },
  {
   "cell_type": "code",
   "execution_count": null,
   "outputs": [],
   "source": [
    "ptq_series.plot_measurement_sensors(sensor_names=elasto_names)"
   ],
   "metadata": {
    "collapsed": false,
    "is_executing": true
   }
  },
  {
   "cell_type": "markdown",
   "metadata": {
    "collapsed": false
   },
   "source": [
    "## ANALYSE: Bestimmung von Schwingungsparametern\n",
    "\n",
    "### Selektieren der relevanten Bereiche\n",
    "\n",
    "Selektiere die Bereiche nach dem Release, bei dem es zu einer harmonisch gedämpften Schwingung kommt. Die Methode Series.get_oscillations sucht im Standardfall nach einem Bereich in den Messdaten mit einer Länge von 20 Sekunden. Der Anfangszeitpunkt wird durch einen plötzlichen Abfall der Dehnung auf unter Null bestimmt, bei dem die Steigung mindestens -25 beträgt. Die Suche nach dem Startzeitpunkt beginnt erst 60 Sekunden nach Messungsbeginn. Der entsprechende Code befindet sich im Paket classes/measurement.py und utils/select_oscillation.py. Die so isolierten Bereiche werden als Instanzen der Klasse Oscillation initialisiert. Weitere Parameter wie Amplitude, Frequenz und Dämpfung werden direkt berechnet.\n",
    "Parameter:\n",
    "- sensor_names: Eine Liste der Sensornamen, für die die Schwingungsdaten identifiziert werden sollen.\n",
    "- min_time_default: Die Mindestzeitspanne nach Beginn der Messung, nach der die Suche nach Schwingungen beginnt (Standard: 60 Sekunden).\n",
    "- min_value: Der minimale Wertschwellenwert, damit Sensordaten als gültig betrachtet werden.\n",
    "- threshold_slope: Der Steigungsschwellenwert, um den Beginn einer Schwingung zu bestimmen.\n",
    "- duration: Die Dauer, für die die Schwingungsdaten extrahiert werden sollen."
   ]
  },
  {
   "cell_type": "code",
   "execution_count": null,
   "metadata": {
    "collapsed": false,
    "is_executing": true
   },
   "outputs": [],
   "source": [
    "ptq_series.get_oscillations(\n",
    "    sensor_names=elasto_names,\n",
    "    min_time_default=60,\n",
    "    min_value=50,\n",
    "    threshold_slope=-50,\n",
    "    duration=17.5\n",
    ")"
   ]
  },
  {
   "cell_type": "markdown",
   "metadata": {
    "collapsed": false
   },
   "source": [
    "### Selektion optisch prüfen in Plots\n",
    "\n",
    "Plotten der relevanten Sensoren bzw. der selektierten Bereiche. Die Plots werden im Verzeichnis ptq/plots/select_oscillations_single/ bzw. ptq/plots/select_oscillations_combined/ gespeichert. In einem Combined-Plot werden alle 4 Elastometer einer Messung gemeinsam dargestellt. Hier wird manuell anhand der Plots geprüft, ob für alle Messungen und Sensoren der richtige Bereich ausgewählt wurde."
   ]
  },
  {
   "cell_type": "code",
   "execution_count": null,
   "metadata": {
    "collapsed": false,
    "is_executing": true
   },
   "outputs": [],
   "source": [
    "ptq_series.plot_oscillations_for_measurements(sensor_names=elasto_names, combined=False)\n",
    "ptq_series.plot_oscillations_for_measurements(sensor_names=elasto_names, combined=True)"
   ]
  },
  {
   "cell_type": "markdown",
   "metadata": {
    "collapsed": false
   },
   "source": [
    "### Anpassen der harmonisch gedämpften Schwingung\n",
    "\n",
    "Aus der PTQ-Messreihe 'ptq_series' wird über `get_oscillations_list` für alle Messungen, getrennt für jeden Sensor (Elastometer), die `Oscillation`-Instanz in eine Liste zusammengeführt. Entsprechend gibt es für jede PTQ-Messung 4 `Oscillation`-Instanzen (für die 4 Elastometer).\n",
    "\n",
    "`oscillation.fit` passt alle Schwingungsdaten mit einer allgemeinen Funktion für harmonisch gedämpfte Schwingungen an:\n",
    "\\[\n",
    "y(t) = A \\cdot e^{-\\delta t} \\cdot \\cos(\\omega_d \\cdot t + \\phi) + y_0\n",
    "\\]\n",
    "\n",
    "#### Parameterbeschreibung:\n",
    "- `A` (Anfangsamplitude): Der Anfangswert der Amplitude der Schwingung. Dieser Parameter bestimmt die initiale Höhe der Schwingungsamplitude.\n",
    "- `δ` (Dämpfungskoeffizient): Dieser Wert bestimmt, wie schnell die Amplitude der Schwingung mit der Zeit abnimmt. Ein höherer Wert führt zu einer schnelleren Dämpfung der Schwingung.\n",
    "- `ω_d` (gedämpfte Kreisfrequenz): Die Frequenz der gedämpften Schwingung in Radiant pro Sekunde. Dieser Parameter bestimmt, wie schnell die Schwingung oszilliert.\n",
    "- `φ` (Phasenwinkel): Der Anfangsphasenwinkel der Schwingung. Dieser Wert bestimmt den Startpunkt der Schwingung im Schwingungszyklus.\n",
    "- `y_0` (Vertikale Verschiebung): Dieser Parameter verschiebt die gesamte Schwingungskurve vertikal und ermöglicht es, die Schwingung an die mittlere Position der Daten anzupassen.\n",
    "- `t_0` (Horizontale Verschiebung): Dieser Parameter verschiebt die gesamte Schwingungskurve horizontal über die Zeit und ermöglicht es, die Schwingung an den spezifischen Startpunkt der gemessenen Schwingung anzupassen.\n",
    "\n",
    "(siehe `ptq/analyse/fitting_function.py`)\n",
    "\n",
    "#### Zusätzliche Parameter und Konfigurationen:\n",
    "- **Startwerte und Grenzwerte:** Für die Optimierung der Parameter in `scipy.curve_fit` werden Startwerte und Grenzwerte für jeden Parameter übergeben (in `ptq/config.py` definiert).\n",
    "- **Qualitätsmetriken:** Zur Bewertung der Anpassungsgüte werden Metriken wie MAE (mittlerer absoluter Fehler), RMSE (Root Mean Square Error), und \\( R^2 \\) (Bestimmtheitsmaß) berechnet. Zusätzlich werden normalisierte Varianten (NRMSE und NMAE) zur besseren Vergleichbarkeit verwendet.\n",
    "- **Warnungen bei Überschreitung der Grenzwerte:** Wenn die für eine Metrik definierten Grenzwerte überschritten werden, wird eine Warnung im Log-Protokoll vermerkt, um auf mögliche Probleme bei der Anpassung hinzuweisen (in `ptq/config.py` definiert). Auf Basis dieser Warnung können:\n",
    "  - Start- und Grenzwerte sowie die Methodik angepasst werden.\n",
    "  - Betroffene Datensätze später ausgeschlossen werden, um fehlerhafte Anpassungen zu vermeiden.\n",
    "- **Interpolation:** Diese Option aktiviert die Interpolation der Datenpunkte, um eine ausreichende Dichte für `curve_fit` zu gewährleisten. Hierbei wird `scipy.interpolate.PchipInterpolator` verwendet, um Über- und Unterschwingungen, die nicht in den Originaldaten vorhanden sind, zu vermeiden. Nach optischer Prüfung zeigte diese Methode die besten Ergebnisse.\n",
    "\n",
    "#### Visualisierungsoptionen:\n",
    "- **Plot:** Wenn auf `True` gesetzt, wird für jede Oscillation ein Plot der angepassten Funktion zusammen mit den Originaldaten erstellt und in `working_dir/PTQ/plots/` gespeichert.\n",
    "- **Plot-Fehlerverteilung:** Wenn `plot_error` auf `True` gesetzt ist, wird ein Histogramm der Fehlerverteilung (Residuen) für jeden Fit erstellt und ebenfalls in `working_dir/PTQ/plots/` gespeichert."
   ]
  },
  {
   "cell_type": "code",
   "execution_count": null,
   "metadata": {
    "collapsed": false,
    "is_executing": true
   },
   "outputs": [],
   "source": [
    "ptq_oscillations_ls = ptq_series.get_oscillations_list()\n",
    "\n",
    "initial_param = {\n",
    "    \"initial_amplitude\": 170,\n",
    "    \"damping_coeff\": 0.32,\n",
    "    \"frequency_damped\": 0.44,\n",
    "    \"phase_angle\": 0,\n",
    "    \"y_shift\": 0,\n",
    "    \"x_shift\": 0\n",
    "}\n",
    "\n",
    "param_bounds = {\n",
    "    \"initial_amplitude\": (150, 250),\n",
    "    \"damping_coeff\": (0.1, 1),\n",
    "    \"frequency_damped\": (0.35, 0.58),\n",
    "    \"phase_angle\": (-0.2, 0.2),\n",
    "    \"y_shift\": (-60, 60),\n",
    "    \"x_shift\": (-0.25, 0.75),\n",
    "}\n",
    "\n",
    "metrics_warning = {\n",
    "    \"pearson_r\": (0.75, 1),\n",
    "    \"nrmse\": (0, np.inf),\n",
    "    \"mae\": (0, np.inf),\n",
    "    \"nmae\": (0, 0.10)\n",
    "}\n",
    "\n",
    "for oscillation in ptq_oscillations_ls:\n",
    "    oscillation.fit(\n",
    "        initial_param,\n",
    "        param_bounds,\n",
    "        optimize_criterion=\"mae\",\n",
    "        metrics_warning=metrics_warning,\n",
    "        plot=False,\n",
    "        plot_error=False,\n",
    "        dir_add=\"\",\n",
    "        interpolate=True\n",
    "    )"
   ]
  },
  {
   "cell_type": "markdown",
   "metadata": {
    "collapsed": false
   },
   "source": [
    "### Fehlerverteilung der Funktionsanpassung an Messdaten\n",
    "\n",
    "Die Funktion sammelt für alle Oscillation-Objekte die Fehler-Arrays der Anpassung und normalisiert die Fehler (um Unterschiede in der Skalierung zu entfernen).\n",
    "Anschließend werden die Fehler für alle Messungen A) für alle Sensoren gemeinsam und B) getrennt für jeden Sensor geplotet. Es werden Q-Q-Plot, Violin-Plot und Histogramme für den gleichen Sachverhalt erstellt und in `working_directory\\PTQ\\plots\\series_osc_errors` abgelegt.\n",
    "\n",
    "- `trim_hist_percent`: Beschneidet die Daten Links und Rechts um die äußersten x Prozent, da die Verteilung im Zentrum sonst kaum zu bewerten ist. Wirkt sich nur auf die Histogramme aus."
   ]
  },
  {
   "cell_type": "code",
   "execution_count": null,
   "metadata": {
    "collapsed": false,
    "is_executing": true
   },
   "outputs": [],
   "source": [
    "all_normalized_errors = ptq_series.plot_osc_errors(plot_qq=True, plot_violin=True, plot_hist=True, hist_trim_percent=5)"
   ]
  },
  {
   "cell_type": "markdown",
   "metadata": {
    "ExecuteTime": {
     "end_time": "2023-12-01T09:59:03.316646700Z",
     "start_time": "2023-12-01T09:59:01.399969500Z"
    },
    "collapsed": false
   },
   "source": [
    "## ANALYSE: Metadaten bzw. Zusammenfassung aller Dehnungs- und Schwingungsdaten\n",
    "\n",
    "Bewerte die Güte der Anpassung"
   ]
  },
  {
   "cell_type": "code",
   "execution_count": null,
   "outputs": [],
   "source": [
    "osc_optimization_details_df = ptq_series.get_osc_optimization_details_df()\n",
    "osc_optimization_details_df.describe()"
   ],
   "metadata": {
    "collapsed": false,
    "is_executing": true
   }
  },
  {
   "cell_type": "markdown",
   "source": [
    "'ptq_series.get_oscillations_df' fasst aus allen Oscillation-Instanzen der Messreihe ('ptq_series') die Schwingungsparameter als pandas.DataFrame zusammen"
   ],
   "metadata": {
    "collapsed": false
   }
  },
  {
   "cell_type": "code",
   "execution_count": null,
   "metadata": {
    "collapsed": false,
    "is_executing": true
   },
   "outputs": [],
   "source": [
    "ptq_metadata_df = ptq_series.get_oscillations_df()"
   ]
  },
  {
   "cell_type": "markdown",
   "source": [
    "### ANALYSE: Bewertung der Anpassungsgüte"
   ],
   "metadata": {
    "collapsed": false
   }
  },
  {
   "cell_type": "code",
   "execution_count": null,
   "outputs": [],
   "source": [
    "no_metrics_warning_df = osc_optimization_details_df[ptq_metadata_df['metrics_warning']==False]"
   ],
   "metadata": {
    "collapsed": false,
    "is_executing": true
   }
  },
  {
   "cell_type": "code",
   "execution_count": null,
   "outputs": [],
   "source": [
    "#no_metrics_warning_df.describe()"
   ],
   "metadata": {
    "collapsed": false,
    "is_executing": true
   }
  },
  {
   "cell_type": "code",
   "execution_count": null,
   "outputs": [],
   "source": [
    "metrics_warning_df = osc_optimization_details_df[ptq_metadata_df['metrics_warning']==True]"
   ],
   "metadata": {
    "collapsed": false,
    "is_executing": true
   }
  },
  {
   "cell_type": "code",
   "execution_count": null,
   "outputs": [],
   "source": [
    "#metrics_warning_df.describe()"
   ],
   "metadata": {
    "collapsed": false,
    "is_executing": true
   }
  },
  {
   "cell_type": "markdown",
   "source": [
    "#### LATEX EXPORT: Exportiere Statistiken der Anpassungsgüte reduziert als Latex-Tabelle"
   ],
   "metadata": {
    "collapsed": false
   }
  },
  {
   "cell_type": "code",
   "execution_count": null,
   "outputs": [],
   "source": [
    "select_cols = ['pearson_r', 'mae', 'nmae', 'rmse', 'nrmse']\n",
    "describe_agg = ['mean', 'std', 'min', 'max']\n",
    "metrics_warning_df_list = [\n",
    "    (\"Alle\", osc_optimization_details_df),\n",
    "    (\"Warnung\", metrics_warning_df),\n",
    "    (\"Keine\", no_metrics_warning_df)\n",
    "]\n",
    "\n",
    "# Erstelle eine Liste, um die statistischen DataFrames mit einer zusätzlichen Spalte \"Gruppe\" zu sammeln\n",
    "stats_list = []\n",
    "\n",
    "for label, df in metrics_warning_df_list:\n",
    "    df_stats = df[select_cols].describe().loc[describe_agg]\n",
    "    df_stats['Gruppe'] = label  # Füge die Gruppenbezeichnung als Spalte hinzu\n",
    "    # Setze \"Gruppe\" als ersten Index, falls du dies bevorzugst\n",
    "    df_stats = df_stats.set_index('Gruppe', append=True)\n",
    "    # Ersetze \"50%\" im MultiIndex der Zeilen durch \"median\" (auf Ebene 1)\n",
    "    df_stats = df_stats.swaplevel(0, 1)\n",
    "    stats_list.append(df_stats)\n",
    "\n",
    "# Verbinde die DataFrames entlang der Spaltenachse\n",
    "combined_stats = pd.concat(stats_list, axis=0)\n",
    "# Ersetze Spaltennamen durch Formelzeichen\n",
    "combined_stats.columns = [ptq_data_dict[col][\"Zeichen\"] for col in select_cols]\n",
    "combined_stats"
   ],
   "metadata": {
    "collapsed": false,
    "is_executing": true
   }
  },
  {
   "cell_type": "code",
   "execution_count": null,
   "outputs": [],
   "source": [
    "# Exportiere die kombinierte Tabelle als LaTeX\n",
    "latex_string_combined = combined_stats.to_latex(\n",
    "    index=True,\n",
    "    escape=False,\n",
    "    float_format=\"{:0.3f}\".format,\n",
    "    column_format=\"ll|r|rr|rr\"\n",
    ")\n",
    "caption = \"Feldversuch 2 - Ergebnisse, Schwingung, Anpassungsgüte\"\n",
    "caption_long = f\"Feldversuch 2 - Ergebnisse, Bewertung der Anpassung der harmonisch gedämpften Schwingung an die Daten, Gruppe 'Alle' = Alle 116 Datensätze, 'Warnung' = 9 Datensätze mit r < 0,75, 'Keine' =  107 Datensätze mit r >= 0,75\"\n",
    "\n",
    "\n",
    "save_latex_table(latex_string_combined, caption, latex_export_directory, \n",
    "                   caption_long)"
   ],
   "metadata": {
    "collapsed": false,
    "is_executing": true
   }
  },
  {
   "cell_type": "markdown",
   "source": [],
   "metadata": {
    "collapsed": false
   }
  },
  {
   "cell_type": "markdown",
   "source": [
    "## EXPORT: Daten exportieren für Weiterverarbeitung (.feather, .csv, .json)"
   ],
   "metadata": {
    "collapsed": false
   }
  },
  {
   "cell_type": "code",
   "execution_count": null,
   "outputs": [],
   "source": [
    "# DataFrame als Feather\n",
    "ptq_metadata_df.to_feather(data_export_directory / \"ptq.feather\")\n",
    "\n",
    "# Dict als JSON (UTF-8, sauber eingerückt)\n",
    "with open(data_export_directory / \"ptq_data_dict.json\", \"w\", encoding=\"utf-8\") as f:\n",
    "    json.dump(ptq_data_dict, f,  indent=4, ensure_ascii=False)\n",
    "    \n",
    "ptq_metadata_df.to_csv(data_export_directory / \"ptq.csv\", sep=\";\", index=False, encoding=\"utf-8\")"
   ],
   "metadata": {
    "collapsed": false,
    "is_executing": true
   }
  },
  {
   "cell_type": "markdown",
   "source": [
    "## LATEX-EXPORT: Datendokumentation als Latex-Tabelle exportieren (.tex)"
   ],
   "metadata": {
    "collapsed": false
   }
  },
  {
   "cell_type": "code",
   "execution_count": null,
   "outputs": [],
   "source": [
    "ptq_data_dict_df = build_data_dict_df(ptq_data_dict, escape_index=True, select_latex_fields=True)\n",
    "\n",
    "latex_string = ptq_data_dict_df.to_latex(index=False, escape=False)\n",
    "caption = \"Feldversuch 2 - PTQ Daten Dokumentation\"\n",
    "\n",
    "save_latex_table(latex_string, caption, latex_export_directory)"
   ],
   "metadata": {
    "collapsed": false,
    "is_executing": true
   }
  }
 ],
 "metadata": {
  "kernelspec": {
   "display_name": "Python 3 (ipykernel)",
   "language": "python",
   "name": "python3"
  },
  "language_info": {
   "codemirror_mode": {
    "name": "ipython",
    "version": 3
   },
   "file_extension": ".py",
   "mimetype": "text/x-python",
   "name": "python",
   "nbconvert_exporter": "python",
   "pygments_lexer": "ipython3",
   "version": "3.11.2"
  }
 },
 "nbformat": 4,
 "nbformat_minor": 4
}
