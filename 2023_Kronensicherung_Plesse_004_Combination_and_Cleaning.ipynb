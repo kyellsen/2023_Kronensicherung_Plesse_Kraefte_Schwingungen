{
 "cells": [
  {
   "cell_type": "markdown",
   "metadata": {},
   "source": [
    "---\n",
    "title: \"2023_Kronensicherung_Plesse_Combination_and_Cleaning\"\n",
    "author: \"Kyell Jensen\"\n",
    "date: \"2024-08-06\"\n",
    "format: pdf\n",
    "editor: visual\n",
    "---"
   ]
  },
  {
   "cell_type": "markdown",
   "metadata": {
    "collapsed": false
   },
   "source": [
    "# 2023_Kronensicherung_Plesse_Combination_and_Cleaning\n",
    "\n",
    "## Kombinieren und Bereinigen der Daten von LineScale3, TreeQinetic und Versuchsaufzeichung\n",
    "\n",
    "Nutze eine geeignete Python 3.11 Umgebung (z. B. virtuelle Environment)."
   ]
  },
  {
   "cell_type": "markdown",
   "metadata": {
    "collapsed": false
   },
   "source": [
    "## Arbeitsumgebung vorbereiten"
   ]
  },
  {
   "cell_type": "markdown",
   "metadata": {
    "collapsed": false
   },
   "source": [
    "### IMPORT: Importieren von Standardbibliotheken\n",
    "\n",
    "Die folgenden Bibliotheken werden importiert, um grundlegende Funktionen für Strukturierung, Datenverarbeitung, Plotting und statistische Auswertung bereit zu stellen."
   ]
  },
  {
   "cell_type": "code",
   "execution_count": 1,
   "metadata": {
    "ExecuteTime": {
     "end_time": "2025-03-27T08:06:13.431562800Z",
     "start_time": "2025-03-27T08:06:13.426892700Z"
    }
   },
   "outputs": [],
   "source": [
    "# Struktur\n",
    "from pathlib import Path\n",
    "from typing import Dict, List\n",
    "\n",
    "# Datenverarbeitung\n",
    "import json\n",
    "from IPython.display import Markdown, display\n",
    "import numpy as np\n",
    "import pandas as pd\n",
    "from pandas.api.types import CategoricalDtype\n"
   ]
  },
  {
   "cell_type": "markdown",
   "metadata": {
    "collapsed": false
   },
   "source": [
    "## IMPORT: Daten Import\n",
    "\n",
    "Lege Pfade für Daten-Importe, Daten-Exporte etc. fest (ggf. anpassen an eigene Verzeichnisstruktur), ausgelagert in gemeinsame Config für verschiedene Notebooks"
   ]
  },
  {
   "cell_type": "code",
   "execution_count": 2,
   "metadata": {
    "collapsed": false,
    "ExecuteTime": {
     "end_time": "2025-03-27T08:06:13.437336500Z",
     "start_time": "2025-03-27T08:06:13.431562800Z"
    }
   },
   "outputs": [],
   "source": [
    "# Importiere alle Einstellungen aus der project_config.py\n",
    "from project_config import (\n",
    "    main_path,\n",
    "    analyse_name,\n",
    "    data_path,\n",
    "    working_directory,\n",
    "    data_export_directory,\n",
    "    latex_export_directory\n",
    ")"
   ]
  },
  {
   "cell_type": "code",
   "execution_count": 3,
   "outputs": [],
   "source": [
    "from utils.latex_export import (\n",
    "    save_latex_table,\n",
    "    build_data_dict_df\n",
    ")"
   ],
   "metadata": {
    "collapsed": false,
    "ExecuteTime": {
     "end_time": "2025-03-27T08:06:13.458722Z",
     "start_time": "2025-03-27T08:06:13.437336500Z"
    }
   }
  },
  {
   "cell_type": "code",
   "execution_count": 4,
   "outputs": [],
   "source": [
    "# Liste aller Dateinamen\n",
    "filenames = [\n",
    "    \"tree.feather\",\n",
    "    \"sensor.feather\",\n",
    "    \"sensor_data_dict.json\",\n",
    "    \"series.feather\",\n",
    "    \"series_data_dict.json\",\n",
    "    \"ls3_data_dict.json\",\n",
    "    \"ls3.feather\",\n",
    "    \"ptq_data_dict.json\",\n",
    "    \"ptq.feather\",\n",
    "]"
   ],
   "metadata": {
    "collapsed": false,
    "ExecuteTime": {
     "end_time": "2025-03-27T08:06:13.465310600Z",
     "start_time": "2025-03-27T08:06:13.458197800Z"
    }
   }
  },
  {
   "cell_type": "code",
   "execution_count": 5,
   "outputs": [],
   "source": [
    "def load_file(path: Path):\n",
    "    try:\n",
    "        if path.suffix == \".feather\":\n",
    "            df_now = pd.read_feather(path)\n",
    "            print(f\"[Info] Feather geladen: {path.name}\")\n",
    "            return \"df\", path.stem, df_now\n",
    "        elif path.suffix == \".json\":\n",
    "            with open(path, \"r\", encoding=\"utf-8\") as f:\n",
    "                data_dict_now = json.load(f)\n",
    "                print(f\"[Info] JSON geladen: {path.name}\")\n",
    "                return \"dict\", path.stem, data_dict_now\n",
    "        else:\n",
    "            print(f\"[Warnung] Unbekannter Dateityp übersprungen: {path.name}\")\n",
    "            return None\n",
    "    except Exception as e:\n",
    "        print(f\"[Fehler] Laden fehlgeschlagen für '{path.name}': {e}\")\n",
    "        return None\n"
   ],
   "metadata": {
    "collapsed": false,
    "ExecuteTime": {
     "end_time": "2025-03-27T08:06:13.465310600Z",
     "start_time": "2025-03-27T08:06:13.458722Z"
    }
   }
  },
  {
   "cell_type": "code",
   "execution_count": 6,
   "outputs": [
    {
     "name": "stdout",
     "output_type": "stream",
     "text": [
      "[Info] Feather geladen: tree.feather\n",
      "[Info] Feather geladen: sensor.feather\n",
      "[Info] JSON geladen: sensor_data_dict.json\n",
      "[Info] Feather geladen: series.feather\n",
      "[Info] JSON geladen: series_data_dict.json\n",
      "[Info] JSON geladen: ls3_data_dict.json\n",
      "[Info] Feather geladen: ls3.feather\n",
      "[Info] JSON geladen: ptq_data_dict.json\n",
      "[Info] Feather geladen: ptq.feather\n"
     ]
    }
   ],
   "source": [
    "# Container\n",
    "dfs = {}\n",
    "data_dicts = {}\n",
    "\n",
    "for file in filenames:\n",
    "    result = load_file(data_export_directory / file)\n",
    "    if result:\n",
    "        kind, name_stem, content = result\n",
    "        if kind == \"df\":\n",
    "            dfs[f\"{name_stem}_df\"] = content\n",
    "        elif kind == \"dict\":\n",
    "            data_dicts[f\"{name_stem}\"] = content"
   ],
   "metadata": {
    "collapsed": false,
    "ExecuteTime": {
     "end_time": "2025-03-27T08:06:13.590513400Z",
     "start_time": "2025-03-27T08:06:13.465310600Z"
    }
   }
  },
  {
   "cell_type": "code",
   "execution_count": 7,
   "outputs": [
    {
     "data": {
      "text/plain": "dict_keys(['tree_df', 'sensor_df', 'series_df', 'ls3_df', 'ptq_df'])"
     },
     "execution_count": 7,
     "metadata": {},
     "output_type": "execute_result"
    }
   ],
   "source": [
    "dfs.keys()"
   ],
   "metadata": {
    "collapsed": false,
    "ExecuteTime": {
     "end_time": "2025-03-27T08:06:13.611768100Z",
     "start_time": "2025-03-27T08:06:13.590513400Z"
    }
   }
  },
  {
   "cell_type": "code",
   "execution_count": 8,
   "outputs": [
    {
     "data": {
      "text/plain": "dict_keys(['sensor_data_dict', 'series_data_dict', 'ls3_data_dict', 'ptq_data_dict'])"
     },
     "execution_count": 8,
     "metadata": {},
     "output_type": "execute_result"
    }
   ],
   "source": [
    "data_dicts.keys()"
   ],
   "metadata": {
    "collapsed": false,
    "ExecuteTime": {
     "end_time": "2025-03-27T08:06:13.611768100Z",
     "start_time": "2025-03-27T08:06:13.599180500Z"
    }
   }
  },
  {
   "cell_type": "code",
   "execution_count": 9,
   "outputs": [],
   "source": [
    "# IDE-Hints: Feather-Dateien (DataFrames)\n",
    "tree_df: pd.DataFrame = dfs.get(\"tree_df\")\n",
    "sensor_df: pd.DataFrame = dfs.get(\"sensor_df\")\n",
    "series_df: pd.DataFrame = dfs.get(\"series_df\")\n",
    "ls3_df: pd.DataFrame = dfs.get(\"ls3_df\")\n",
    "ptq_df: pd.DataFrame = dfs.get(\"ptq_df\")\n",
    "\n",
    "# IDE-Hints: Data Dictionary Dateien (JSON → dict)\n",
    "sensor_data_dict: dict = data_dicts.get(\"sensor_data_dict\")\n",
    "series_data_dict: dict = data_dicts.get(\"series_data_dict\")\n",
    "ls3_data_dict: dict = data_dicts.get(\"ls3_data_dict\")\n",
    "ptq_data_dict: dict = data_dicts.get(\"ptq_data_dict\")\n"
   ],
   "metadata": {
    "collapsed": false,
    "ExecuteTime": {
     "end_time": "2025-03-27T08:06:13.627009300Z",
     "start_time": "2025-03-27T08:06:13.606878700Z"
    }
   }
  },
  {
   "cell_type": "markdown",
   "source": [
    "## MERGE: Zusammenführen der Daten von LS3, PTQ und Versuchsprotokoll"
   ],
   "metadata": {
    "collapsed": false
   }
  },
  {
   "cell_type": "markdown",
   "source": [
    "Beginne mit PTQ-Daten, füge dann schrittweise die Daten des Versuchsablaufes, der Sensorpositionierung und Kraftmessung hinzu"
   ],
   "metadata": {
    "collapsed": false
   }
  },
  {
   "cell_type": "code",
   "execution_count": 10,
   "outputs": [],
   "source": [
    "df = pd.merge(ptq_df, series_df, on='id', how='left')\n",
    "# df"
   ],
   "metadata": {
    "collapsed": false,
    "ExecuteTime": {
     "end_time": "2025-03-27T08:06:13.722556100Z",
     "start_time": "2025-03-27T08:06:13.611768100Z"
    }
   }
  },
  {
   "cell_type": "markdown",
   "source": [
    "Ergänze die Daten der Sensorpositionierung"
   ],
   "metadata": {
    "collapsed": false
   }
  },
  {
   "cell_type": "code",
   "execution_count": 11,
   "outputs": [],
   "source": [
    "# Merging df and elasto_df\n",
    "# Geräte vom Typ Elastometer auswählen aus dem sensor_df\n",
    "elasto_df = sensor_df[sensor_df[\"type\"] == \"Elasto\"].copy()\n",
    "\n",
    "# Passe die sensor_namen einheitlich für beide DataFrames an\n",
    "elasto_df[\"sensor_name\"] = elasto_df[\"type\"].astype(str) + \"(\" + elasto_df[\"sensor_id\"].astype(str) + \")\"\n",
    "\n",
    "# Perform the left join on sensor_name\n",
    "df = df.merge(elasto_df, on=\"sensor_name\", how=\"left\")\n",
    "\n",
    "# Gewünschte Reihenfolge\n",
    "elasto_names = [\"Elasto(90)\", \"Elasto(92)\", \"Elasto(95)\", \"Elasto(98)\"]\n",
    "# Definieren als geordneter CategoricalDtype\n",
    "elasto_cat_type = CategoricalDtype(categories=elasto_names, ordered=True)\n",
    "# Setzen des Typs auf die Spalte\n",
    "df[\"sensor_name\"] = df[\"sensor_name\"].astype(elasto_cat_type)\n",
    "# df"
   ],
   "metadata": {
    "collapsed": false,
    "ExecuteTime": {
     "end_time": "2025-03-27T08:06:13.722556100Z",
     "start_time": "2025-03-27T08:06:13.642645900Z"
    }
   }
  },
  {
   "cell_type": "markdown",
   "source": [
    "Ergänze die LS3-Daten"
   ],
   "metadata": {
    "collapsed": false
   }
  },
  {
   "cell_type": "code",
   "execution_count": 12,
   "outputs": [],
   "source": [
    "# Function to prepare ls3_metadata\n",
    "def extract_ls3_subset(df, sensor_id, new_prefix):\n",
    "    return (df.query(f\"sensor_id == '{sensor_id}'\")\n",
    "            .drop('sensor_id', axis=1)\n",
    "            .add_prefix(new_prefix)\n",
    "            .rename(columns={f'{new_prefix}measurement_id': sensor_id}))\n",
    "\n",
    "# Merging ls3_metadata with the main DataFrame\n",
    "df = df.merge(extract_ls3_subset(ls3_df, '14:BF:E6', 'rope_'), on='14:BF:E6', how='left')     \n",
    "df = df.merge(extract_ls3_subset(ls3_df, '14:99:1E', 'cable_'), on='14:99:1E', how='left')     "
   ],
   "metadata": {
    "collapsed": false,
    "ExecuteTime": {
     "end_time": "2025-03-27T08:06:13.722556100Z",
     "start_time": "2025-03-27T08:06:13.662290800Z"
    }
   }
  },
  {
   "cell_type": "code",
   "execution_count": 13,
   "outputs": [
    {
     "data": {
      "text/plain": "   id            file_name sensor_name  sample_rate  max_strain  \\\n0   1  PTQ_Meas_100346.txt  Elasto(90)     4.003157       363.5   \n1   1  PTQ_Meas_100346.txt  Elasto(92)     3.941160       239.9   \n2   1  PTQ_Meas_100346.txt  Elasto(95)     4.003157       190.2   \n3   1  PTQ_Meas_100346.txt  Elasto(98)     3.941160       141.6   \n4   2  PTQ_Meas_101814.txt  Elasto(90)     3.447691       417.5   \n5   2  PTQ_Meas_101814.txt  Elasto(92)     3.447691       271.6   \n6   2  PTQ_Meas_101814.txt  Elasto(95)     3.447691       226.9   \n7   2  PTQ_Meas_101814.txt  Elasto(98)     3.447691       175.5   \n8   3  PTQ_Meas_102314.txt  Elasto(90)     3.649011       424.6   \n9   3  PTQ_Meas_102314.txt  Elasto(92)     3.649011       289.0   \n\n   max_compression  max_strain_osc  max_compression_osc  m_amplitude  \\\n0           -168.1           363.5               -168.1       265.80   \n1            -86.6           239.9                -86.6       163.25   \n2           -119.1           190.2               -119.1       154.65   \n3           -132.8           141.6               -132.8       137.20   \n4           -202.2           417.5               -202.2       309.85   \n5           -111.0           271.6               -111.0       191.30   \n6            -90.4           226.9                -90.4       158.65   \n7            -93.8           175.5                -93.8       134.65   \n8           -180.0           424.6               -180.0       302.30   \n9            -87.0           289.0                -87.0       188.00   \n\n   m_amplitude_2  ...  cable_timing_correction_factor  cable_datetime_start  \\\n0         162.10  ...                             NaN                   NaT   \n1          76.00  ...                             NaN                   NaT   \n2          82.25  ...                             NaN                   NaT   \n3          92.50  ...                             NaN                   NaT   \n4         162.95  ...                             NaN                   NaT   \n5          79.55  ...                             NaN                   NaT   \n6          82.05  ...                             NaN                   NaT   \n7          91.35  ...                             NaN                   NaT   \n8         178.35  ...                             NaN                   NaT   \n9          88.40  ...                             NaN                   NaT   \n\n   cable_datetime_end  cable_duration  cable_length  cable_max  cable_mean  \\\n0                 NaT             NaN           NaN        NaN         NaN   \n1                 NaT             NaN           NaN        NaN         NaN   \n2                 NaT             NaN           NaN        NaN         NaN   \n3                 NaT             NaN           NaN        NaN         NaN   \n4                 NaT             NaN           NaN        NaN         NaN   \n5                 NaT             NaN           NaN        NaN         NaN   \n6                 NaT             NaN           NaN        NaN         NaN   \n7                 NaT             NaN           NaN        NaN         NaN   \n8                 NaT             NaN           NaN        NaN         NaN   \n9                 NaT             NaN           NaN        NaN         NaN   \n\n   cable_median  cable_min  cable_release  \n0           NaN        NaN            NaN  \n1           NaN        NaN            NaN  \n2           NaN        NaN            NaN  \n3           NaN        NaN            NaN  \n4           NaN        NaN            NaN  \n5           NaN        NaN            NaN  \n6           NaN        NaN            NaN  \n7           NaN        NaN            NaN  \n8           NaN        NaN            NaN  \n9           NaN        NaN            NaN  \n\n[10 rows x 84 columns]",
      "text/html": "<div>\n<style scoped>\n    .dataframe tbody tr th:only-of-type {\n        vertical-align: middle;\n    }\n\n    .dataframe tbody tr th {\n        vertical-align: top;\n    }\n\n    .dataframe thead th {\n        text-align: right;\n    }\n</style>\n<table border=\"1\" class=\"dataframe\">\n  <thead>\n    <tr style=\"text-align: right;\">\n      <th></th>\n      <th>id</th>\n      <th>file_name</th>\n      <th>sensor_name</th>\n      <th>sample_rate</th>\n      <th>max_strain</th>\n      <th>max_compression</th>\n      <th>max_strain_osc</th>\n      <th>max_compression_osc</th>\n      <th>m_amplitude</th>\n      <th>m_amplitude_2</th>\n      <th>...</th>\n      <th>cable_timing_correction_factor</th>\n      <th>cable_datetime_start</th>\n      <th>cable_datetime_end</th>\n      <th>cable_duration</th>\n      <th>cable_length</th>\n      <th>cable_max</th>\n      <th>cable_mean</th>\n      <th>cable_median</th>\n      <th>cable_min</th>\n      <th>cable_release</th>\n    </tr>\n  </thead>\n  <tbody>\n    <tr>\n      <th>0</th>\n      <td>1</td>\n      <td>PTQ_Meas_100346.txt</td>\n      <td>Elasto(90)</td>\n      <td>4.003157</td>\n      <td>363.5</td>\n      <td>-168.1</td>\n      <td>363.5</td>\n      <td>-168.1</td>\n      <td>265.80</td>\n      <td>162.10</td>\n      <td>...</td>\n      <td>NaN</td>\n      <td>NaT</td>\n      <td>NaT</td>\n      <td>NaN</td>\n      <td>NaN</td>\n      <td>NaN</td>\n      <td>NaN</td>\n      <td>NaN</td>\n      <td>NaN</td>\n      <td>NaN</td>\n    </tr>\n    <tr>\n      <th>1</th>\n      <td>1</td>\n      <td>PTQ_Meas_100346.txt</td>\n      <td>Elasto(92)</td>\n      <td>3.941160</td>\n      <td>239.9</td>\n      <td>-86.6</td>\n      <td>239.9</td>\n      <td>-86.6</td>\n      <td>163.25</td>\n      <td>76.00</td>\n      <td>...</td>\n      <td>NaN</td>\n      <td>NaT</td>\n      <td>NaT</td>\n      <td>NaN</td>\n      <td>NaN</td>\n      <td>NaN</td>\n      <td>NaN</td>\n      <td>NaN</td>\n      <td>NaN</td>\n      <td>NaN</td>\n    </tr>\n    <tr>\n      <th>2</th>\n      <td>1</td>\n      <td>PTQ_Meas_100346.txt</td>\n      <td>Elasto(95)</td>\n      <td>4.003157</td>\n      <td>190.2</td>\n      <td>-119.1</td>\n      <td>190.2</td>\n      <td>-119.1</td>\n      <td>154.65</td>\n      <td>82.25</td>\n      <td>...</td>\n      <td>NaN</td>\n      <td>NaT</td>\n      <td>NaT</td>\n      <td>NaN</td>\n      <td>NaN</td>\n      <td>NaN</td>\n      <td>NaN</td>\n      <td>NaN</td>\n      <td>NaN</td>\n      <td>NaN</td>\n    </tr>\n    <tr>\n      <th>3</th>\n      <td>1</td>\n      <td>PTQ_Meas_100346.txt</td>\n      <td>Elasto(98)</td>\n      <td>3.941160</td>\n      <td>141.6</td>\n      <td>-132.8</td>\n      <td>141.6</td>\n      <td>-132.8</td>\n      <td>137.20</td>\n      <td>92.50</td>\n      <td>...</td>\n      <td>NaN</td>\n      <td>NaT</td>\n      <td>NaT</td>\n      <td>NaN</td>\n      <td>NaN</td>\n      <td>NaN</td>\n      <td>NaN</td>\n      <td>NaN</td>\n      <td>NaN</td>\n      <td>NaN</td>\n    </tr>\n    <tr>\n      <th>4</th>\n      <td>2</td>\n      <td>PTQ_Meas_101814.txt</td>\n      <td>Elasto(90)</td>\n      <td>3.447691</td>\n      <td>417.5</td>\n      <td>-202.2</td>\n      <td>417.5</td>\n      <td>-202.2</td>\n      <td>309.85</td>\n      <td>162.95</td>\n      <td>...</td>\n      <td>NaN</td>\n      <td>NaT</td>\n      <td>NaT</td>\n      <td>NaN</td>\n      <td>NaN</td>\n      <td>NaN</td>\n      <td>NaN</td>\n      <td>NaN</td>\n      <td>NaN</td>\n      <td>NaN</td>\n    </tr>\n    <tr>\n      <th>5</th>\n      <td>2</td>\n      <td>PTQ_Meas_101814.txt</td>\n      <td>Elasto(92)</td>\n      <td>3.447691</td>\n      <td>271.6</td>\n      <td>-111.0</td>\n      <td>271.6</td>\n      <td>-111.0</td>\n      <td>191.30</td>\n      <td>79.55</td>\n      <td>...</td>\n      <td>NaN</td>\n      <td>NaT</td>\n      <td>NaT</td>\n      <td>NaN</td>\n      <td>NaN</td>\n      <td>NaN</td>\n      <td>NaN</td>\n      <td>NaN</td>\n      <td>NaN</td>\n      <td>NaN</td>\n    </tr>\n    <tr>\n      <th>6</th>\n      <td>2</td>\n      <td>PTQ_Meas_101814.txt</td>\n      <td>Elasto(95)</td>\n      <td>3.447691</td>\n      <td>226.9</td>\n      <td>-90.4</td>\n      <td>226.9</td>\n      <td>-90.4</td>\n      <td>158.65</td>\n      <td>82.05</td>\n      <td>...</td>\n      <td>NaN</td>\n      <td>NaT</td>\n      <td>NaT</td>\n      <td>NaN</td>\n      <td>NaN</td>\n      <td>NaN</td>\n      <td>NaN</td>\n      <td>NaN</td>\n      <td>NaN</td>\n      <td>NaN</td>\n    </tr>\n    <tr>\n      <th>7</th>\n      <td>2</td>\n      <td>PTQ_Meas_101814.txt</td>\n      <td>Elasto(98)</td>\n      <td>3.447691</td>\n      <td>175.5</td>\n      <td>-93.8</td>\n      <td>175.5</td>\n      <td>-93.8</td>\n      <td>134.65</td>\n      <td>91.35</td>\n      <td>...</td>\n      <td>NaN</td>\n      <td>NaT</td>\n      <td>NaT</td>\n      <td>NaN</td>\n      <td>NaN</td>\n      <td>NaN</td>\n      <td>NaN</td>\n      <td>NaN</td>\n      <td>NaN</td>\n      <td>NaN</td>\n    </tr>\n    <tr>\n      <th>8</th>\n      <td>3</td>\n      <td>PTQ_Meas_102314.txt</td>\n      <td>Elasto(90)</td>\n      <td>3.649011</td>\n      <td>424.6</td>\n      <td>-180.0</td>\n      <td>424.6</td>\n      <td>-180.0</td>\n      <td>302.30</td>\n      <td>178.35</td>\n      <td>...</td>\n      <td>NaN</td>\n      <td>NaT</td>\n      <td>NaT</td>\n      <td>NaN</td>\n      <td>NaN</td>\n      <td>NaN</td>\n      <td>NaN</td>\n      <td>NaN</td>\n      <td>NaN</td>\n      <td>NaN</td>\n    </tr>\n    <tr>\n      <th>9</th>\n      <td>3</td>\n      <td>PTQ_Meas_102314.txt</td>\n      <td>Elasto(92)</td>\n      <td>3.649011</td>\n      <td>289.0</td>\n      <td>-87.0</td>\n      <td>289.0</td>\n      <td>-87.0</td>\n      <td>188.00</td>\n      <td>88.40</td>\n      <td>...</td>\n      <td>NaN</td>\n      <td>NaT</td>\n      <td>NaT</td>\n      <td>NaN</td>\n      <td>NaN</td>\n      <td>NaN</td>\n      <td>NaN</td>\n      <td>NaN</td>\n      <td>NaN</td>\n      <td>NaN</td>\n    </tr>\n  </tbody>\n</table>\n<p>10 rows × 84 columns</p>\n</div>"
     },
     "execution_count": 13,
     "metadata": {},
     "output_type": "execute_result"
    }
   ],
   "source": [
    "df.head(10)"
   ],
   "metadata": {
    "collapsed": false,
    "ExecuteTime": {
     "end_time": "2025-03-27T08:06:13.722556100Z",
     "start_time": "2025-03-27T08:06:13.677786600Z"
    }
   }
  },
  {
   "cell_type": "markdown",
   "source": [
    "### EXPORT: Ungefilterte Daten exportieren für Externe (.feather, .csv)\n",
    " "
   ],
   "metadata": {
    "collapsed": false
   }
  },
  {
   "cell_type": "code",
   "execution_count": 14,
   "outputs": [],
   "source": [
    "df.to_feather(data_export_directory / \"_dataset_full.feather\")\n",
    "df.to_csv(data_export_directory / \"_dataset_full.csv\", sep=\";\", index=True, encoding=\"utf-8\")"
   ],
   "metadata": {
    "collapsed": false,
    "ExecuteTime": {
     "end_time": "2025-03-27T08:06:13.828625900Z",
     "start_time": "2025-03-27T08:06:13.706911500Z"
    }
   }
  },
  {
   "cell_type": "markdown",
   "source": [
    "## CLEANING: Daten bereinigen und Filtern"
   ],
   "metadata": {
    "collapsed": false
   }
  },
  {
   "cell_type": "code",
   "execution_count": 15,
   "outputs": [],
   "source": [
    "# Liste der Spalten, die beibehalten werden sollen\n",
    "select_cols = ['id', 'rope_datetime', 'treatment', 'release_force_target', \n",
    "               'rope_release', 'cable_max',\n",
    "               'sensor_name', 'location', 'direction', 'height', 'diameter',\n",
    "               'max_strain', 'max_compression',\n",
    "               'm_amplitude', 'm_amplitude_2', \n",
    "               'initial_amplitude', 'damping_coeff', 'frequency_damped', 'phase_angle', 'y_shift', 'x_shift', 'frequency_undamped', 'damping_ratio', \n",
    "               'metrics_warning', 'pearson_r', 'nrmse', 'nmae'\n",
    "               ]\n",
    "\n",
    "# DataFrame filtern\n",
    "df = (\n",
    "    df[select_cols]\n",
    "    .query(\"release_force_target in [2.0, 2.4, 2.8] and treatment in ['free', 'gefa_dynamic', 'cobra_static']\")\n",
    "    .copy()\n",
    ")"
   ],
   "metadata": {
    "collapsed": false,
    "ExecuteTime": {
     "end_time": "2025-03-27T08:06:13.828625900Z",
     "start_time": "2025-03-27T08:06:13.787590300Z"
    }
   }
  },
  {
   "cell_type": "code",
   "execution_count": 16,
   "outputs": [],
   "source": [
    "# Nicht verwendete Kategorien entfernen\n",
    "df[\"treatment\"] = df[\"treatment\"].cat.remove_unused_categories()"
   ],
   "metadata": {
    "collapsed": false,
    "ExecuteTime": {
     "end_time": "2025-03-27T08:06:13.828625900Z",
     "start_time": "2025-03-27T08:06:13.789678300Z"
    }
   }
  },
  {
   "cell_type": "code",
   "execution_count": 17,
   "outputs": [],
   "source": [
    "# cable_max enthält noch ein np.ndarray mit index etc., nur Messwerte F benötigt\n",
    "df['cable_max'] = df['cable_max'].apply(\n",
    "    lambda x: float(x[1]) if isinstance(x, (tuple, list, np.ndarray)) and len(x) > 1 else x\n",
    ")"
   ],
   "metadata": {
    "collapsed": false,
    "ExecuteTime": {
     "end_time": "2025-03-27T08:06:13.862267800Z",
     "start_time": "2025-03-27T08:06:13.795763900Z"
    }
   }
  },
  {
   "cell_type": "code",
   "execution_count": 18,
   "outputs": [
    {
     "data": {
      "text/plain": "    id       rope_datetime treatment  release_force_target  rope_release  \\\n4    2 2022-03-23 11:24:23      free                   2.8       2.72310   \n5    2 2022-03-23 11:24:23      free                   2.8       2.72310   \n6    2 2022-03-23 11:24:23      free                   2.8       2.72310   \n7    2 2022-03-23 11:24:23      free                   2.8       2.72310   \n8    3 2022-03-23 11:31:12      free                   2.8       2.76205   \n9    3 2022-03-23 11:31:12      free                   2.8       2.76205   \n10   3 2022-03-23 11:31:12      free                   2.8       2.76205   \n11   3 2022-03-23 11:31:12      free                   2.8       2.76205   \n12   4 2022-03-23 11:54:33      free                   2.8       2.73950   \n13   4 2022-03-23 11:54:33      free                   2.8       2.73950   \n\n    cable_max sensor_name location   direction  height  ...  frequency_damped  \\\n4         NaN  Elasto(90)      StB  elongation   16.55  ...          0.441518   \n5         NaN  Elasto(92)      StB  elongation    11.6  ...          0.432441   \n6         NaN  Elasto(95)      StA  elongation    11.6  ...          0.422702   \n7         NaN  Elasto(98)      StA  elongation   16.85  ...          0.443529   \n8         NaN  Elasto(90)      StB  elongation   16.55  ...          0.440654   \n9         NaN  Elasto(92)      StB  elongation    11.6  ...          0.439249   \n10        NaN  Elasto(95)      StA  elongation    11.6  ...          0.436023   \n11        NaN  Elasto(98)      StA  elongation   16.85  ...          0.441350   \n12        NaN  Elasto(90)      StB  elongation   16.55  ...          0.439065   \n13        NaN  Elasto(92)      StB  elongation    11.6  ...          0.436850   \n\n    phase_angle    y_shift   x_shift  frequency_undamped  damping_ratio  \\\n4      0.200000  -5.287164  0.116641            0.442936       0.503994   \n5     -0.200000 -14.233643 -0.009730            0.436601       0.873595   \n6     -0.200000 -19.011253 -0.123043            0.426319       0.823806   \n7     -0.065967  -1.099515  0.118608            0.445993       0.663224   \n8      0.200000   7.775263  0.097887            0.441317       0.344954   \n9     -0.200000   7.070001  0.049121            0.441269       0.603287   \n10    -0.200000  -3.785755 -0.075741            0.438127       0.618021   \n11    -0.200000 -17.747289 -0.203345            0.442888       0.525070   \n12     0.200000 -23.445975  0.120929            0.439764       0.354677   \n13    -0.200000 -19.454721  0.061912            0.438829       0.598701   \n\n    metrics_warning  pearson_r     nrmse      nmae  \n4             False   0.943158  0.038866  0.018011  \n5             False   0.929554  0.034560  0.016183  \n6             False   0.908058  0.044873  0.024274  \n7             False   0.980663  0.029621  0.021087  \n8             False   0.957381  0.043035  0.018619  \n9             False   0.932950  0.043734  0.021138  \n10            False   0.938307  0.039020  0.022498  \n11            False   0.974139  0.028693  0.020715  \n12            False   0.945320  0.049764  0.021509  \n13            False   0.922665  0.050822  0.020659  \n\n[10 rows x 27 columns]",
      "text/html": "<div>\n<style scoped>\n    .dataframe tbody tr th:only-of-type {\n        vertical-align: middle;\n    }\n\n    .dataframe tbody tr th {\n        vertical-align: top;\n    }\n\n    .dataframe thead th {\n        text-align: right;\n    }\n</style>\n<table border=\"1\" class=\"dataframe\">\n  <thead>\n    <tr style=\"text-align: right;\">\n      <th></th>\n      <th>id</th>\n      <th>rope_datetime</th>\n      <th>treatment</th>\n      <th>release_force_target</th>\n      <th>rope_release</th>\n      <th>cable_max</th>\n      <th>sensor_name</th>\n      <th>location</th>\n      <th>direction</th>\n      <th>height</th>\n      <th>...</th>\n      <th>frequency_damped</th>\n      <th>phase_angle</th>\n      <th>y_shift</th>\n      <th>x_shift</th>\n      <th>frequency_undamped</th>\n      <th>damping_ratio</th>\n      <th>metrics_warning</th>\n      <th>pearson_r</th>\n      <th>nrmse</th>\n      <th>nmae</th>\n    </tr>\n  </thead>\n  <tbody>\n    <tr>\n      <th>4</th>\n      <td>2</td>\n      <td>2022-03-23 11:24:23</td>\n      <td>free</td>\n      <td>2.8</td>\n      <td>2.72310</td>\n      <td>NaN</td>\n      <td>Elasto(90)</td>\n      <td>StB</td>\n      <td>elongation</td>\n      <td>16.55</td>\n      <td>...</td>\n      <td>0.441518</td>\n      <td>0.200000</td>\n      <td>-5.287164</td>\n      <td>0.116641</td>\n      <td>0.442936</td>\n      <td>0.503994</td>\n      <td>False</td>\n      <td>0.943158</td>\n      <td>0.038866</td>\n      <td>0.018011</td>\n    </tr>\n    <tr>\n      <th>5</th>\n      <td>2</td>\n      <td>2022-03-23 11:24:23</td>\n      <td>free</td>\n      <td>2.8</td>\n      <td>2.72310</td>\n      <td>NaN</td>\n      <td>Elasto(92)</td>\n      <td>StB</td>\n      <td>elongation</td>\n      <td>11.6</td>\n      <td>...</td>\n      <td>0.432441</td>\n      <td>-0.200000</td>\n      <td>-14.233643</td>\n      <td>-0.009730</td>\n      <td>0.436601</td>\n      <td>0.873595</td>\n      <td>False</td>\n      <td>0.929554</td>\n      <td>0.034560</td>\n      <td>0.016183</td>\n    </tr>\n    <tr>\n      <th>6</th>\n      <td>2</td>\n      <td>2022-03-23 11:24:23</td>\n      <td>free</td>\n      <td>2.8</td>\n      <td>2.72310</td>\n      <td>NaN</td>\n      <td>Elasto(95)</td>\n      <td>StA</td>\n      <td>elongation</td>\n      <td>11.6</td>\n      <td>...</td>\n      <td>0.422702</td>\n      <td>-0.200000</td>\n      <td>-19.011253</td>\n      <td>-0.123043</td>\n      <td>0.426319</td>\n      <td>0.823806</td>\n      <td>False</td>\n      <td>0.908058</td>\n      <td>0.044873</td>\n      <td>0.024274</td>\n    </tr>\n    <tr>\n      <th>7</th>\n      <td>2</td>\n      <td>2022-03-23 11:24:23</td>\n      <td>free</td>\n      <td>2.8</td>\n      <td>2.72310</td>\n      <td>NaN</td>\n      <td>Elasto(98)</td>\n      <td>StA</td>\n      <td>elongation</td>\n      <td>16.85</td>\n      <td>...</td>\n      <td>0.443529</td>\n      <td>-0.065967</td>\n      <td>-1.099515</td>\n      <td>0.118608</td>\n      <td>0.445993</td>\n      <td>0.663224</td>\n      <td>False</td>\n      <td>0.980663</td>\n      <td>0.029621</td>\n      <td>0.021087</td>\n    </tr>\n    <tr>\n      <th>8</th>\n      <td>3</td>\n      <td>2022-03-23 11:31:12</td>\n      <td>free</td>\n      <td>2.8</td>\n      <td>2.76205</td>\n      <td>NaN</td>\n      <td>Elasto(90)</td>\n      <td>StB</td>\n      <td>elongation</td>\n      <td>16.55</td>\n      <td>...</td>\n      <td>0.440654</td>\n      <td>0.200000</td>\n      <td>7.775263</td>\n      <td>0.097887</td>\n      <td>0.441317</td>\n      <td>0.344954</td>\n      <td>False</td>\n      <td>0.957381</td>\n      <td>0.043035</td>\n      <td>0.018619</td>\n    </tr>\n    <tr>\n      <th>9</th>\n      <td>3</td>\n      <td>2022-03-23 11:31:12</td>\n      <td>free</td>\n      <td>2.8</td>\n      <td>2.76205</td>\n      <td>NaN</td>\n      <td>Elasto(92)</td>\n      <td>StB</td>\n      <td>elongation</td>\n      <td>11.6</td>\n      <td>...</td>\n      <td>0.439249</td>\n      <td>-0.200000</td>\n      <td>7.070001</td>\n      <td>0.049121</td>\n      <td>0.441269</td>\n      <td>0.603287</td>\n      <td>False</td>\n      <td>0.932950</td>\n      <td>0.043734</td>\n      <td>0.021138</td>\n    </tr>\n    <tr>\n      <th>10</th>\n      <td>3</td>\n      <td>2022-03-23 11:31:12</td>\n      <td>free</td>\n      <td>2.8</td>\n      <td>2.76205</td>\n      <td>NaN</td>\n      <td>Elasto(95)</td>\n      <td>StA</td>\n      <td>elongation</td>\n      <td>11.6</td>\n      <td>...</td>\n      <td>0.436023</td>\n      <td>-0.200000</td>\n      <td>-3.785755</td>\n      <td>-0.075741</td>\n      <td>0.438127</td>\n      <td>0.618021</td>\n      <td>False</td>\n      <td>0.938307</td>\n      <td>0.039020</td>\n      <td>0.022498</td>\n    </tr>\n    <tr>\n      <th>11</th>\n      <td>3</td>\n      <td>2022-03-23 11:31:12</td>\n      <td>free</td>\n      <td>2.8</td>\n      <td>2.76205</td>\n      <td>NaN</td>\n      <td>Elasto(98)</td>\n      <td>StA</td>\n      <td>elongation</td>\n      <td>16.85</td>\n      <td>...</td>\n      <td>0.441350</td>\n      <td>-0.200000</td>\n      <td>-17.747289</td>\n      <td>-0.203345</td>\n      <td>0.442888</td>\n      <td>0.525070</td>\n      <td>False</td>\n      <td>0.974139</td>\n      <td>0.028693</td>\n      <td>0.020715</td>\n    </tr>\n    <tr>\n      <th>12</th>\n      <td>4</td>\n      <td>2022-03-23 11:54:33</td>\n      <td>free</td>\n      <td>2.8</td>\n      <td>2.73950</td>\n      <td>NaN</td>\n      <td>Elasto(90)</td>\n      <td>StB</td>\n      <td>elongation</td>\n      <td>16.55</td>\n      <td>...</td>\n      <td>0.439065</td>\n      <td>0.200000</td>\n      <td>-23.445975</td>\n      <td>0.120929</td>\n      <td>0.439764</td>\n      <td>0.354677</td>\n      <td>False</td>\n      <td>0.945320</td>\n      <td>0.049764</td>\n      <td>0.021509</td>\n    </tr>\n    <tr>\n      <th>13</th>\n      <td>4</td>\n      <td>2022-03-23 11:54:33</td>\n      <td>free</td>\n      <td>2.8</td>\n      <td>2.73950</td>\n      <td>NaN</td>\n      <td>Elasto(92)</td>\n      <td>StB</td>\n      <td>elongation</td>\n      <td>11.6</td>\n      <td>...</td>\n      <td>0.436850</td>\n      <td>-0.200000</td>\n      <td>-19.454721</td>\n      <td>0.061912</td>\n      <td>0.438829</td>\n      <td>0.598701</td>\n      <td>False</td>\n      <td>0.922665</td>\n      <td>0.050822</td>\n      <td>0.020659</td>\n    </tr>\n  </tbody>\n</table>\n<p>10 rows × 27 columns</p>\n</div>"
     },
     "execution_count": 18,
     "metadata": {},
     "output_type": "execute_result"
    }
   ],
   "source": [
    "df.head(10)"
   ],
   "metadata": {
    "collapsed": false,
    "ExecuteTime": {
     "end_time": "2025-03-27T08:06:13.917367Z",
     "start_time": "2025-03-27T08:06:13.801891600Z"
    }
   }
  },
  {
   "cell_type": "markdown",
   "source": [
    "### EDIT: Datendokumentation an zusammengeführte und gefilterte Daten anpassen\n",
    "\n",
    "Passe Datendokumentation den zusammengeführten und gefilterten Daten an, ergänze weitere später berechnete Features, erstellt vollstände aktuelle Datendokumentation"
   ],
   "metadata": {
    "collapsed": false
   }
  },
  {
   "cell_type": "code",
   "execution_count": 19,
   "outputs": [],
   "source": [
    "# Lade das Dictionary mit der Daten Dokumentation\n",
    "with open(data_path / \"calc_strain_data_dict.json\", \"r\", encoding=\"utf-8\") as f:\n",
    "    calc_strain_data_dict = json.load(f)\n",
    "    \n",
    "select_cols += list(calc_strain_data_dict.keys())"
   ],
   "metadata": {
    "collapsed": false,
    "ExecuteTime": {
     "end_time": "2025-03-27T08:06:13.995539300Z",
     "start_time": "2025-03-27T08:06:13.828625900Z"
    }
   }
  },
  {
   "cell_type": "code",
   "execution_count": 20,
   "outputs": [],
   "source": [
    "# Rope-Keys erzeugen\n",
    "ls3_rope_data_dict = {f\"rope_{k}\": v for k, v in ls3_data_dict.items()}\n",
    "# Cable-Keys erzeugen\n",
    "ls3_cable_data_dict = {    f\"cable_{k}\": v for k, v in ls3_data_dict.items()}"
   ],
   "metadata": {
    "collapsed": false,
    "ExecuteTime": {
     "end_time": "2025-03-27T08:06:14.025967800Z",
     "start_time": "2025-03-27T08:06:13.858550100Z"
    }
   }
  },
  {
   "cell_type": "code",
   "execution_count": 31,
   "outputs": [],
   "source": [
    "# Alles zusammenführen\n",
    "full_data_dict = {\n",
    "    **sensor_data_dict,\n",
    "    **series_data_dict,\n",
    "    **ls3_rope_data_dict,\n",
    "    **ls3_cable_data_dict,\n",
    "    **ptq_data_dict,\n",
    "    **calc_strain_data_dict\n",
    "}"
   ],
   "metadata": {
    "collapsed": false,
    "ExecuteTime": {
     "end_time": "2025-03-27T08:09:05.688152900Z",
     "start_time": "2025-03-27T08:09:05.584933700Z"
    }
   }
  },
  {
   "cell_type": "code",
   "execution_count": 32,
   "outputs": [],
   "source": [
    "# 1. sensor → Deutsch\n",
    "if \"sensor\" in full_data_dict:\n",
    "    full_data_dict[\"sensor\"][\"Deutsch\"] = \"Elastometer\"\n",
    "\n",
    "# 2. cable_max → Beschreibung, Deutsch, Zeichen\n",
    "if \"cable_max\" in full_data_dict:\n",
    "    full_data_dict[\"cable_max\"][\"Beschreibung\"] = \"Maximale gemessene Kraftspitze in der KS\"\n",
    "    full_data_dict[\"cable_max\"][\"Deutsch\"] = \"Kraftspitze KS\"\n",
    "    full_data_dict[\"cable_max\"][\"Zeichen\"] = \"$F_{\\\\mathrm{cable, max}}$\""
   ],
   "metadata": {
    "collapsed": false,
    "ExecuteTime": {
     "end_time": "2025-03-27T08:09:06.571266400Z",
     "start_time": "2025-03-27T08:09:06.500383300Z"
    }
   }
  },
  {
   "cell_type": "code",
   "execution_count": 33,
   "outputs": [
    {
     "data": {
      "text/plain": "{'id': {'Kategorie': 'ptq',\n  'Zeichen': 'ID',\n  'Deutsch': 'ID Messung',\n  'Datentyp': 'int64',\n  'Einheit': '-',\n  'Beschreibung': 'Eindeutige ID der Messung'},\n 'rope_datetime': {'Kategorie': 'ls3',\n  'Zeichen': '$t$',\n  'Deutsch': 'Zeitstempel',\n  'Datentyp': 'object',\n  'Einheit': '-',\n  'Beschreibung': 'Startzeitpunkt der Messung laut Gerät'},\n 'treatment': {'Kategorie': 'series',\n  'Zeichen': 'treatment',\n  'Deutsch': 'Behandlungsvariante',\n  'Datentyp': 'category',\n  'Einheit': '-',\n  'Beschreibung': 'Art der KS: \\\\texttt{free}, \\\\texttt{gefa\\\\_dynamic}, \\\\texttt{cobra\\\\_static}'},\n 'release_force_target': {'Kategorie': 'series',\n  'Zeichen': '$F_{\\\\mathrm{release,target}}$',\n  'Deutsch': 'Vorspannkraft Soll',\n  'Datentyp': 'float64',\n  'Einheit': 'kN',\n  'Beschreibung': 'Geplante Vorspannkraft im Zugseil bei Release'},\n 'rope_release': {'Kategorie': 'ls3',\n  'Zeichen': '$F_{\\\\mathrm{release}}$',\n  'Deutsch': 'Vorspannkraft Ist',\n  'Datentyp': 'float64',\n  'Einheit': 'kN',\n  'Beschreibung': 'Tatsächlich realisierte Vorspannkraft im Zugseil bei Release'},\n 'cable_max': {'Kategorie': 'ls3',\n  'Zeichen': '$F_{\\\\mathrm{cable, max}}$',\n  'Deutsch': 'Kraftspitze KS',\n  'Datentyp': 'object',\n  'Einheit': 'kN',\n  'Beschreibung': 'Maximale gemessene Kraftspitze in der KS'},\n 'sensor_name': {'Kategorie': 'ptq',\n  'Zeichen': 'sensor',\n  'Deutsch': 'Sensorname',\n  'Datentyp': 'object',\n  'Einheit': '-',\n  'Beschreibung': 'Bezeichnung des Elastometers'},\n 'location': {'Kategorie': 'sensor_position',\n  'Zeichen': 'location',\n  'Deutsch': 'Position',\n  'Datentyp': 'string',\n  'Einheit': '-',\n  'Beschreibung': 'Position des Sensors am Stamm'},\n 'direction': {'Kategorie': 'sensor_position',\n  'Zeichen': 'direction',\n  'Deutsch': 'Richtung',\n  'Datentyp': 'string',\n  'Einheit': '-',\n  'Beschreibung': 'Zug- oder Druckseite'},\n 'height': {'Kategorie': 'sensor_position',\n  'Zeichen': '$h$',\n  'Deutsch': 'Höhe',\n  'Datentyp': 'Float64',\n  'Einheit': 'm',\n  'Beschreibung': 'Höhe des Sensors am Stamm'},\n 'diameter': {'Kategorie': 'sensor_position',\n  'Zeichen': '$d$',\n  'Deutsch': 'Durchmesser',\n  'Datentyp': 'Float64',\n  'Einheit': 'cm',\n  'Beschreibung': 'Durchmesser des Stammes'},\n 'max_strain': {'Kategorie': 'ptq',\n  'Zeichen': '$\\\\Delta l_{\\\\mathrm{max}}$',\n  'Deutsch': 'Dehnung max. gemessen',\n  'Datentyp': 'float64',\n  'Einheit': '$\\\\mu$m',\n  'Beschreibung': 'Gemessene maximale absolute Randfaserdehnung'},\n 'max_compression': {'Kategorie': 'ptq',\n  'Zeichen': '$\\\\Delta l_{\\\\mathrm{comp,max}}$',\n  'Deutsch': 'Stauchung max. gemessen',\n  'Datentyp': 'float64',\n  'Einheit': '$\\\\mu$m',\n  'Beschreibung': 'Gemessene maximale absolute Randfaserstauchung'},\n 'm_amplitude': {'Kategorie': 'ptq_osc',\n  'Zeichen': '$mA$',\n  'Deutsch': 'Manuelle Amplitude',\n  'Datentyp': 'float64',\n  'Einheit': '$\\\\mu$m',\n  'Beschreibung': 'Manuell berechnete Amplitude über den Schwingungsabschnitt'},\n 'm_amplitude_2': {'Kategorie': 'ptq_osc',\n  'Zeichen': '$mA_2$',\n  'Deutsch': 'Manuelle Amplitude 2',\n  'Datentyp': 'float64',\n  'Einheit': '$\\\\mu$m',\n  'Beschreibung': 'Manuell berechnete Amplitude zwischen 2. Peak und Minimum'},\n 'initial_amplitude': {'Kategorie': 'ptq_osc',\n  'Zeichen': '$A$',\n  'Deutsch': 'Anfangsamplitude',\n  'Datentyp': 'float64',\n  'Einheit': '$\\\\mu$m',\n  'Beschreibung': 'Initiale Amplitude der angepassten Schwingung'},\n 'damping_coeff': {'Kategorie': 'ptq_osc',\n  'Zeichen': '$\\\\delta$',\n  'Deutsch': 'Dämpfungskoeffizient',\n  'Datentyp': 'float64',\n  'Einheit': '1/s',\n  'Beschreibung': 'Koeffizient der exponentiellen Dämpfung'},\n 'frequency_damped': {'Kategorie': 'ptq_osc',\n  'Zeichen': '$f_{\\\\mathrm{d}}$',\n  'Deutsch': 'Gedämpfte Frequenz',\n  'Datentyp': 'float64',\n  'Einheit': 'Hz',\n  'Beschreibung': 'Frequenz der gedämpften Schwingung'},\n 'phase_angle': {'Kategorie': 'ptq_osc',\n  'Zeichen': '$\\\\varphi$',\n  'Deutsch': 'Phasenwinkel',\n  'Datentyp': 'float64',\n  'Einheit': 'rad',\n  'Beschreibung': 'Anfangsphase der Schwingung'},\n 'y_shift': {'Kategorie': 'ptq_osc',\n  'Zeichen': '$y_0$',\n  'Deutsch': 'Vertikaler Versatz',\n  'Datentyp': 'float64',\n  'Einheit': '$\\\\mu$m',\n  'Beschreibung': 'Vertikaler Offset der Schwingung'},\n 'x_shift': {'Kategorie': 'ptq_osc',\n  'Zeichen': '$t_0$',\n  'Deutsch': 'Zeitverschiebung',\n  'Datentyp': 'float64',\n  'Einheit': 's',\n  'Beschreibung': 'Horizontale Verschiebung der Schwingung'},\n 'frequency_undamped': {'Kategorie': 'ptq_osc',\n  'Zeichen': '$f_0$',\n  'Deutsch': 'Ungedämpfte Frequenz',\n  'Datentyp': 'float64',\n  'Einheit': 'Hz',\n  'Beschreibung': 'Frequenz der ungedämpften Schwingung'},\n 'damping_ratio': {'Kategorie': 'ptq_osc',\n  'Zeichen': '$D$',\n  'Deutsch': 'Dämpfungsgrad',\n  'Datentyp': 'float64',\n  'Einheit': '-',\n  'Beschreibung': 'Verhältnis von Dämpfung zu Frequenz'},\n 'metrics_warning': {'Kategorie': 'ptq_osc',\n  'Zeichen': 'warning',\n  'Deutsch': 'Fit-Warnung',\n  'Datentyp': 'bool',\n  'Einheit': '-',\n  'Beschreibung': 'Warnung, wenn Qualitätsmetrik Schwellenwerte unterschreitet'},\n 'pearson_r': {'Kategorie': 'ptq_osc_metric',\n  'Zeichen': '$r$',\n  'Deutsch': 'Pearson-Korrelation',\n  'Datentyp': 'float64',\n  'Einheit': '-',\n  'Beschreibung': 'Korrelationskoeffizient der Anpassung'},\n 'nrmse': {'Kategorie': 'ptq_osc_metric',\n  'Zeichen': '$\\\\mathrm{NRMSE}$',\n  'Deutsch': 'Normalisierter RMSE',\n  'Datentyp': 'float64',\n  'Einheit': '-',\n  'Beschreibung': 'Normalisierter mittlerer quadratischer Fehler'},\n 'nmae': {'Kategorie': 'ptq_osc_metric',\n  'Zeichen': '$\\\\mathrm{NMAE}$',\n  'Deutsch': 'Normalisierter MAE',\n  'Datentyp': 'float64',\n  'Einheit': '-',\n  'Beschreibung': 'Normalisierter mittlerer absoluter Fehler'},\n 'calc_max_strain': {'Kategorie': 'calc_strain',\n  'Zeichen': '$\\\\varepsilon_{\\\\mathrm{calc,max}}$',\n  'Deutsch': 'Dehnung max. berechnet',\n  'Datentyp': 'float64',\n  'Einheit': '$\\\\mu$m',\n  'Beschreibung': 'Berechnete maximale Randfaserdehnung'},\n 'calc_max_strain_relativ': {'Kategorie': 'calc_strain',\n  'Zeichen': '$\\\\varepsilon_{\\\\mathrm{calc,rel}}$',\n  'Deutsch': 'Berechnete maximale Randfaserdehnung',\n  'Datentyp': 'float64',\n  'Einheit': '$\\\\mu$m',\n  'Beschreibung': 'Differenz gemessene und berechnete maximale Randfaserdehnung'},\n 'strain_difference': {'Kategorie': 'calc_strain',\n  'Zeichen': '$\\\\Delta \\\\varepsilon$',\n  'Deutsch': 'Differenz der Faserdehnung',\n  'Datentyp': 'float64',\n  'Einheit': '\\\\%',\n  'Beschreibung': 'Relative Differenz der berechneten und gemessenen max. Dehnung'}}"
     },
     "execution_count": 33,
     "metadata": {},
     "output_type": "execute_result"
    }
   ],
   "source": [
    "data_dict = {key: full_data_dict[key] for key in select_cols if key in full_data_dict}\n",
    "data_dict"
   ],
   "metadata": {
    "collapsed": false,
    "ExecuteTime": {
     "end_time": "2025-03-27T08:09:08.320489500Z",
     "start_time": "2025-03-27T08:09:08.230564300Z"
    }
   }
  },
  {
   "cell_type": "code",
   "execution_count": 24,
   "outputs": [
    {
     "data": {
      "text/plain": "     id       rope_datetime     treatment  release_force_target  rope_release  \\\n4     2 2022-03-23 11:24:23          free                   2.8       2.72310   \n5     2 2022-03-23 11:24:23          free                   2.8       2.72310   \n6     2 2022-03-23 11:24:23          free                   2.8       2.72310   \n7     2 2022-03-23 11:24:23          free                   2.8       2.72310   \n8     3 2022-03-23 11:31:12          free                   2.8       2.76205   \n..   ..                 ...           ...                   ...           ...   \n99   25 2022-03-23 16:44:31  cobra_static                   2.4       2.45465   \n100  26 2022-03-23 16:56:04  cobra_static                   2.0       1.99840   \n101  26 2022-03-23 16:56:04  cobra_static                   2.0       1.99840   \n102  26 2022-03-23 16:56:04  cobra_static                   2.0       1.99840   \n103  26 2022-03-23 16:56:04  cobra_static                   2.0       1.99840   \n\n     cable_max sensor_name location   direction  height  ...  \\\n4          NaN  Elasto(90)      StB  elongation   16.55  ...   \n5          NaN  Elasto(92)      StB  elongation    11.6  ...   \n6          NaN  Elasto(95)      StA  elongation    11.6  ...   \n7          NaN  Elasto(98)      StA  elongation   16.85  ...   \n8          NaN  Elasto(90)      StB  elongation   16.55  ...   \n..         ...         ...      ...         ...     ...  ...   \n99        2.80  Elasto(98)      StA  elongation   16.85  ...   \n100       2.33  Elasto(90)      StB  elongation   16.55  ...   \n101       2.33  Elasto(92)      StB  elongation    11.6  ...   \n102       2.33  Elasto(95)      StA  elongation    11.6  ...   \n103       2.33  Elasto(98)      StA  elongation   16.85  ...   \n\n     frequency_damped  phase_angle    y_shift   x_shift  frequency_undamped  \\\n4            0.441518     0.200000  -5.287164  0.116641            0.442936   \n5            0.432441    -0.200000 -14.233643 -0.009730            0.436601   \n6            0.422702    -0.200000 -19.011253 -0.123043            0.426319   \n7            0.443529    -0.065967  -1.099515  0.118608            0.445993   \n8            0.440654     0.200000   7.775263  0.097887            0.441317   \n..                ...          ...        ...       ...                 ...   \n99           0.526233     0.200000   0.004065 -0.123942            0.530764   \n100          0.543593    -0.200000  -5.142911  0.088797            0.546794   \n101          0.350000    -0.200000  -2.964532 -0.079053            0.384487   \n102          0.466347    -0.200000   4.559008 -0.153434            0.492757   \n103          0.531654    -0.200000   1.756473 -0.185551            0.535915   \n\n     damping_ratio  metrics_warning  pearson_r     nrmse      nmae  \n4         0.503994            False   0.943158  0.038866  0.018011  \n5         0.873595            False   0.929554  0.034560  0.016183  \n6         0.823806            False   0.908058  0.044873  0.024274  \n7         0.663224            False   0.980663  0.029621  0.021087  \n8         0.344954            False   0.957381  0.043035  0.018619  \n..             ...              ...        ...       ...       ...  \n99        0.826263            False   0.939117  0.040525  0.028335  \n100       0.682883            False   0.890900  0.044374  0.022288  \n101       2.857143            False   0.866183  0.057465  0.033882  \n102       2.144327             True   0.747046  0.070126  0.040196  \n103       0.797061            False   0.928892  0.047247  0.036816  \n\n[100 rows x 27 columns]",
      "text/html": "<div>\n<style scoped>\n    .dataframe tbody tr th:only-of-type {\n        vertical-align: middle;\n    }\n\n    .dataframe tbody tr th {\n        vertical-align: top;\n    }\n\n    .dataframe thead th {\n        text-align: right;\n    }\n</style>\n<table border=\"1\" class=\"dataframe\">\n  <thead>\n    <tr style=\"text-align: right;\">\n      <th></th>\n      <th>id</th>\n      <th>rope_datetime</th>\n      <th>treatment</th>\n      <th>release_force_target</th>\n      <th>rope_release</th>\n      <th>cable_max</th>\n      <th>sensor_name</th>\n      <th>location</th>\n      <th>direction</th>\n      <th>height</th>\n      <th>...</th>\n      <th>frequency_damped</th>\n      <th>phase_angle</th>\n      <th>y_shift</th>\n      <th>x_shift</th>\n      <th>frequency_undamped</th>\n      <th>damping_ratio</th>\n      <th>metrics_warning</th>\n      <th>pearson_r</th>\n      <th>nrmse</th>\n      <th>nmae</th>\n    </tr>\n  </thead>\n  <tbody>\n    <tr>\n      <th>4</th>\n      <td>2</td>\n      <td>2022-03-23 11:24:23</td>\n      <td>free</td>\n      <td>2.8</td>\n      <td>2.72310</td>\n      <td>NaN</td>\n      <td>Elasto(90)</td>\n      <td>StB</td>\n      <td>elongation</td>\n      <td>16.55</td>\n      <td>...</td>\n      <td>0.441518</td>\n      <td>0.200000</td>\n      <td>-5.287164</td>\n      <td>0.116641</td>\n      <td>0.442936</td>\n      <td>0.503994</td>\n      <td>False</td>\n      <td>0.943158</td>\n      <td>0.038866</td>\n      <td>0.018011</td>\n    </tr>\n    <tr>\n      <th>5</th>\n      <td>2</td>\n      <td>2022-03-23 11:24:23</td>\n      <td>free</td>\n      <td>2.8</td>\n      <td>2.72310</td>\n      <td>NaN</td>\n      <td>Elasto(92)</td>\n      <td>StB</td>\n      <td>elongation</td>\n      <td>11.6</td>\n      <td>...</td>\n      <td>0.432441</td>\n      <td>-0.200000</td>\n      <td>-14.233643</td>\n      <td>-0.009730</td>\n      <td>0.436601</td>\n      <td>0.873595</td>\n      <td>False</td>\n      <td>0.929554</td>\n      <td>0.034560</td>\n      <td>0.016183</td>\n    </tr>\n    <tr>\n      <th>6</th>\n      <td>2</td>\n      <td>2022-03-23 11:24:23</td>\n      <td>free</td>\n      <td>2.8</td>\n      <td>2.72310</td>\n      <td>NaN</td>\n      <td>Elasto(95)</td>\n      <td>StA</td>\n      <td>elongation</td>\n      <td>11.6</td>\n      <td>...</td>\n      <td>0.422702</td>\n      <td>-0.200000</td>\n      <td>-19.011253</td>\n      <td>-0.123043</td>\n      <td>0.426319</td>\n      <td>0.823806</td>\n      <td>False</td>\n      <td>0.908058</td>\n      <td>0.044873</td>\n      <td>0.024274</td>\n    </tr>\n    <tr>\n      <th>7</th>\n      <td>2</td>\n      <td>2022-03-23 11:24:23</td>\n      <td>free</td>\n      <td>2.8</td>\n      <td>2.72310</td>\n      <td>NaN</td>\n      <td>Elasto(98)</td>\n      <td>StA</td>\n      <td>elongation</td>\n      <td>16.85</td>\n      <td>...</td>\n      <td>0.443529</td>\n      <td>-0.065967</td>\n      <td>-1.099515</td>\n      <td>0.118608</td>\n      <td>0.445993</td>\n      <td>0.663224</td>\n      <td>False</td>\n      <td>0.980663</td>\n      <td>0.029621</td>\n      <td>0.021087</td>\n    </tr>\n    <tr>\n      <th>8</th>\n      <td>3</td>\n      <td>2022-03-23 11:31:12</td>\n      <td>free</td>\n      <td>2.8</td>\n      <td>2.76205</td>\n      <td>NaN</td>\n      <td>Elasto(90)</td>\n      <td>StB</td>\n      <td>elongation</td>\n      <td>16.55</td>\n      <td>...</td>\n      <td>0.440654</td>\n      <td>0.200000</td>\n      <td>7.775263</td>\n      <td>0.097887</td>\n      <td>0.441317</td>\n      <td>0.344954</td>\n      <td>False</td>\n      <td>0.957381</td>\n      <td>0.043035</td>\n      <td>0.018619</td>\n    </tr>\n    <tr>\n      <th>...</th>\n      <td>...</td>\n      <td>...</td>\n      <td>...</td>\n      <td>...</td>\n      <td>...</td>\n      <td>...</td>\n      <td>...</td>\n      <td>...</td>\n      <td>...</td>\n      <td>...</td>\n      <td>...</td>\n      <td>...</td>\n      <td>...</td>\n      <td>...</td>\n      <td>...</td>\n      <td>...</td>\n      <td>...</td>\n      <td>...</td>\n      <td>...</td>\n      <td>...</td>\n      <td>...</td>\n    </tr>\n    <tr>\n      <th>99</th>\n      <td>25</td>\n      <td>2022-03-23 16:44:31</td>\n      <td>cobra_static</td>\n      <td>2.4</td>\n      <td>2.45465</td>\n      <td>2.80</td>\n      <td>Elasto(98)</td>\n      <td>StA</td>\n      <td>elongation</td>\n      <td>16.85</td>\n      <td>...</td>\n      <td>0.526233</td>\n      <td>0.200000</td>\n      <td>0.004065</td>\n      <td>-0.123942</td>\n      <td>0.530764</td>\n      <td>0.826263</td>\n      <td>False</td>\n      <td>0.939117</td>\n      <td>0.040525</td>\n      <td>0.028335</td>\n    </tr>\n    <tr>\n      <th>100</th>\n      <td>26</td>\n      <td>2022-03-23 16:56:04</td>\n      <td>cobra_static</td>\n      <td>2.0</td>\n      <td>1.99840</td>\n      <td>2.33</td>\n      <td>Elasto(90)</td>\n      <td>StB</td>\n      <td>elongation</td>\n      <td>16.55</td>\n      <td>...</td>\n      <td>0.543593</td>\n      <td>-0.200000</td>\n      <td>-5.142911</td>\n      <td>0.088797</td>\n      <td>0.546794</td>\n      <td>0.682883</td>\n      <td>False</td>\n      <td>0.890900</td>\n      <td>0.044374</td>\n      <td>0.022288</td>\n    </tr>\n    <tr>\n      <th>101</th>\n      <td>26</td>\n      <td>2022-03-23 16:56:04</td>\n      <td>cobra_static</td>\n      <td>2.0</td>\n      <td>1.99840</td>\n      <td>2.33</td>\n      <td>Elasto(92)</td>\n      <td>StB</td>\n      <td>elongation</td>\n      <td>11.6</td>\n      <td>...</td>\n      <td>0.350000</td>\n      <td>-0.200000</td>\n      <td>-2.964532</td>\n      <td>-0.079053</td>\n      <td>0.384487</td>\n      <td>2.857143</td>\n      <td>False</td>\n      <td>0.866183</td>\n      <td>0.057465</td>\n      <td>0.033882</td>\n    </tr>\n    <tr>\n      <th>102</th>\n      <td>26</td>\n      <td>2022-03-23 16:56:04</td>\n      <td>cobra_static</td>\n      <td>2.0</td>\n      <td>1.99840</td>\n      <td>2.33</td>\n      <td>Elasto(95)</td>\n      <td>StA</td>\n      <td>elongation</td>\n      <td>11.6</td>\n      <td>...</td>\n      <td>0.466347</td>\n      <td>-0.200000</td>\n      <td>4.559008</td>\n      <td>-0.153434</td>\n      <td>0.492757</td>\n      <td>2.144327</td>\n      <td>True</td>\n      <td>0.747046</td>\n      <td>0.070126</td>\n      <td>0.040196</td>\n    </tr>\n    <tr>\n      <th>103</th>\n      <td>26</td>\n      <td>2022-03-23 16:56:04</td>\n      <td>cobra_static</td>\n      <td>2.0</td>\n      <td>1.99840</td>\n      <td>2.33</td>\n      <td>Elasto(98)</td>\n      <td>StA</td>\n      <td>elongation</td>\n      <td>16.85</td>\n      <td>...</td>\n      <td>0.531654</td>\n      <td>-0.200000</td>\n      <td>1.756473</td>\n      <td>-0.185551</td>\n      <td>0.535915</td>\n      <td>0.797061</td>\n      <td>False</td>\n      <td>0.928892</td>\n      <td>0.047247</td>\n      <td>0.036816</td>\n    </tr>\n  </tbody>\n</table>\n<p>100 rows × 27 columns</p>\n</div>"
     },
     "execution_count": 24,
     "metadata": {},
     "output_type": "execute_result"
    }
   ],
   "source": [
    "df.head(100)"
   ],
   "metadata": {
    "collapsed": false,
    "ExecuteTime": {
     "end_time": "2025-03-27T08:06:14.107148700Z",
     "start_time": "2025-03-27T08:06:13.882477Z"
    }
   }
  },
  {
   "cell_type": "code",
   "execution_count": 34,
   "outputs": [
    {
     "data": {
      "text/plain": "<IPython.core.display.Markdown object>",
      "text/markdown": "|                         | Kategorie       | Zeichen                           | Deutsch                              | Datentyp   | Einheit   | Beschreibung                                                              |\n|-------------------------|-----------------|-----------------------------------|--------------------------------------|------------|-----------|---------------------------------------------------------------------------|\n| id                      | ptq             | ID                                | ID Messung                           | int64      | -         | Eindeutige ID der Messung                                                 |\n| rope_datetime           | ls3             | $t$                               | Zeitstempel                          | object     | -         | Startzeitpunkt der Messung laut Gerät                                     |\n| treatment               | series          | treatment                         | Behandlungsvariante                  | category   | -         | Art der KS: \\texttt{free}, \\texttt{gefa\\_dynamic}, \\texttt{cobra\\_static} |\n| release_force_target    | series          | $F_{\\mathrm{release,target}}$     | Vorspannkraft Soll                   | float64    | kN        | Geplante Vorspannkraft im Zugseil bei Release                             |\n| rope_release            | ls3             | $F_{\\mathrm{release}}$            | Vorspannkraft Ist                    | float64    | kN        | Tatsächlich realisierte Vorspannkraft im Zugseil bei Release              |\n| cable_max               | ls3             | $F_{\\mathrm{cable, max}}$         | Kraftspitze KS                       | object     | kN        | Maximale gemessene Kraftspitze in der KS                                  |\n| sensor_name             | ptq             | sensor                            | Sensorname                           | object     | -         | Bezeichnung des Elastometers                                              |\n| location                | sensor_position | location                          | Position                             | string     | -         | Position des Sensors am Stamm                                             |\n| direction               | sensor_position | direction                         | Richtung                             | string     | -         | Zug- oder Druckseite                                                      |\n| height                  | sensor_position | $h$                               | Höhe                                 | Float64    | m         | Höhe des Sensors am Stamm                                                 |\n| diameter                | sensor_position | $d$                               | Durchmesser                          | Float64    | cm        | Durchmesser des Stammes                                                   |\n| max_strain              | ptq             | $\\Delta l_{\\mathrm{max}}$         | Dehnung max. gemessen                | float64    | $\\mu$m    | Gemessene maximale absolute Randfaserdehnung                              |\n| max_compression         | ptq             | $\\Delta l_{\\mathrm{comp,max}}$    | Stauchung max. gemessen              | float64    | $\\mu$m    | Gemessene maximale absolute Randfaserstauchung                            |\n| m_amplitude             | ptq_osc         | $mA$                              | Manuelle Amplitude                   | float64    | $\\mu$m    | Manuell berechnete Amplitude über den Schwingungsabschnitt                |\n| m_amplitude_2           | ptq_osc         | $mA_2$                            | Manuelle Amplitude 2                 | float64    | $\\mu$m    | Manuell berechnete Amplitude zwischen 2. Peak und Minimum                 |\n| initial_amplitude       | ptq_osc         | $A$                               | Anfangsamplitude                     | float64    | $\\mu$m    | Initiale Amplitude der angepassten Schwingung                             |\n| damping_coeff           | ptq_osc         | $\\delta$                          | Dämpfungskoeffizient                 | float64    | 1/s       | Koeffizient der exponentiellen Dämpfung                                   |\n| frequency_damped        | ptq_osc         | $f_{\\mathrm{d}}$                  | Gedämpfte Frequenz                   | float64    | Hz        | Frequenz der gedämpften Schwingung                                        |\n| phase_angle             | ptq_osc         | $\\varphi$                         | Phasenwinkel                         | float64    | rad       | Anfangsphase der Schwingung                                               |\n| y_shift                 | ptq_osc         | $y_0$                             | Vertikaler Versatz                   | float64    | $\\mu$m    | Vertikaler Offset der Schwingung                                          |\n| x_shift                 | ptq_osc         | $t_0$                             | Zeitverschiebung                     | float64    | s         | Horizontale Verschiebung der Schwingung                                   |\n| frequency_undamped      | ptq_osc         | $f_0$                             | Ungedämpfte Frequenz                 | float64    | Hz        | Frequenz der ungedämpften Schwingung                                      |\n| damping_ratio           | ptq_osc         | $D$                               | Dämpfungsgrad                        | float64    | -         | Verhältnis von Dämpfung zu Frequenz                                       |\n| metrics_warning         | ptq_osc         | warning                           | Fit-Warnung                          | bool       | -         | Warnung, wenn Qualitätsmetrik Schwellenwerte unterschreitet               |\n| pearson_r               | ptq_osc_metric  | $r$                               | Pearson-Korrelation                  | float64    | -         | Korrelationskoeffizient der Anpassung                                     |\n| nrmse                   | ptq_osc_metric  | $\\mathrm{NRMSE}$                  | Normalisierter RMSE                  | float64    | -         | Normalisierter mittlerer quadratischer Fehler                             |\n| nmae                    | ptq_osc_metric  | $\\mathrm{NMAE}$                   | Normalisierter MAE                   | float64    | -         | Normalisierter mittlerer absoluter Fehler                                 |\n| calc_max_strain         | calc_strain     | $\\varepsilon_{\\mathrm{calc,max}}$ | Dehnung max. berechnet               | float64    | $\\mu$m    | Berechnete maximale Randfaserdehnung                                      |\n| calc_max_strain_relativ | calc_strain     | $\\varepsilon_{\\mathrm{calc,rel}}$ | Berechnete maximale Randfaserdehnung | float64    | $\\mu$m    | Differenz gemessene und berechnete maximale Randfaserdehnung              |\n| strain_difference       | calc_strain     | $\\Delta \\varepsilon$              | Differenz der Faserdehnung           | float64    | \\%        | Relative Differenz der berechneten und gemessenen max. Dehnung            |"
     },
     "metadata": {},
     "output_type": "display_data"
    }
   ],
   "source": [
    "# In DataFrame umwandeln\n",
    "data_dict_df =  pd.DataFrame.from_dict(data_dict, orient=\"index\")\n",
    "\n",
    "# In Markdown umwandeln und anzeigen\n",
    "md_text = data_dict_df.to_markdown(tablefmt=\"github\")\n",
    "display(Markdown(md_text))"
   ],
   "metadata": {
    "collapsed": false,
    "ExecuteTime": {
     "end_time": "2025-03-27T08:09:42.825416900Z",
     "start_time": "2025-03-27T08:09:42.625424500Z"
    }
   }
  },
  {
   "cell_type": "markdown",
   "source": [
    "### EXPORT: Gefilterte Daten und Datendokumentation exportieren für Weiterverarbeitung (.feather, .csv, .json)"
   ],
   "metadata": {
    "collapsed": false
   }
  },
  {
   "cell_type": "code",
   "execution_count": 26,
   "outputs": [],
   "source": [
    "df.to_feather(data_export_directory / \"_dataset_clean.feather\")\n",
    "df.to_csv(data_export_directory / \"_dataset_clean.csv\", sep=\";\", index=True, encoding=\"utf-8\")\n",
    "\n",
    "with open(data_export_directory / \"_data_dict_clean.csv\", \"w\", encoding=\"utf-8\") as f:\n",
    "    json.dump(data_dict, f, indent=4, ensure_ascii=False)"
   ],
   "metadata": {
    "collapsed": false,
    "ExecuteTime": {
     "end_time": "2025-03-27T08:06:14.191352900Z",
     "start_time": "2025-03-27T08:06:14.014044200Z"
    }
   }
  },
  {
   "cell_type": "markdown",
   "source": [
    "### LATEX-EXPORT: Datendokumentation als Latex-Tabelle exportieren (.tex)"
   ],
   "metadata": {
    "collapsed": false
   }
  },
  {
   "cell_type": "code",
   "execution_count": 27,
   "outputs": [
    {
     "name": "stdout",
     "output_type": "stream",
     "text": [
      "Content saved to: C:\\kyellsen\\005_Projekte\\2024_BA\\032_Feldversuch_2023_Plesse\\030_Analysen\\2023_Kronensicherung_Plesse_Kraefte_Schwingungen\\working_directory\\export_latex\\feldversuch_2_ergebnisse_daten_dokumentation.tex\n"
     ]
    }
   ],
   "source": [
    "# Erzeuge DataFrame für LaTeX mit einheitlichem Aufbau\n",
    "data_dict_df = build_data_dict_df(data_dict)\n",
    "\n",
    "# Exportiere als LaTeX\n",
    "latex_string = data_dict_df.to_latex(index=False, escape=False)\n",
    "\n",
    "caption = \"Feldversuch 2 - Ergebnisse, Daten Dokumentation\"\n",
    "caption_long = \"Feldversuch 2 - Ergebnisse, Daten Dokumentation, Kräfte, Dehnungen und Schwingungsparameter\"\n",
    "\n",
    "save_latex_table(latex_string, caption, latex_export_directory, caption_long=caption_long)"
   ],
   "metadata": {
    "collapsed": false,
    "ExecuteTime": {
     "end_time": "2025-03-27T08:06:14.470769100Z",
     "start_time": "2025-03-27T08:06:14.025967800Z"
    }
   }
  }
 ],
 "metadata": {
  "kernelspec": {
   "display_name": "Python 3 (ipykernel)",
   "language": "python",
   "name": "python3"
  },
  "language_info": {
   "codemirror_mode": {
    "name": "ipython",
    "version": 3
   },
   "file_extension": ".py",
   "mimetype": "text/x-python",
   "name": "python",
   "nbconvert_exporter": "python",
   "pygments_lexer": "ipython3",
   "version": "3.11.2"
  }
 },
 "nbformat": 4,
 "nbformat_minor": 4
}
