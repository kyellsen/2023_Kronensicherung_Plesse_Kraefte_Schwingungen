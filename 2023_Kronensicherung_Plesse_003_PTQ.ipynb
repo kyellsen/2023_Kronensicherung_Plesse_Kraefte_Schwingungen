{
 "cells": [
  {
   "cell_type": "markdown",
   "metadata": {},
   "source": [
    "---\n",
    "title: \"2023_Kronensicherung_Plesse_PTQ\"\n",
    "author: \"Kyell Jensen\"\n",
    "date: \"2024-08-06\"\n",
    "format: pdf\n",
    "editor: visual\n",
    "---"
   ]
  },
  {
   "cell_type": "markdown",
   "metadata": {
    "collapsed": false
   },
   "source": [
    "# 2023_Kronensicherung_Plesse_PTQ\n",
    "## ## PTQ: Daten der Elastometer (PicusTreeQinetic Data = PTQ)\n",
    "\n",
    "Nutze eine geeignete Python 3.11 Umgebung (z. B. virtuelle Environment) und installiere das Paket treeqinetic (PTQ) inklusive kj_core und kj_logger und weiteren requirements."
   ]
  },
  {
   "cell_type": "markdown",
   "metadata": {
    "collapsed": false
   },
   "source": [
    "## Package Importe\n",
    "\n",
    "\n",
    "Es werden zuerst benötigte Standard-Pakete importiert. Nachfolgend das extra geschriebenen Pakete PTQ. Fehler beim Import dieses Pakets sind ggf. Bugs. Es nutzte eine gemeinsame CodeBasis in den Paketen kj_core (Core-Package) und kj_logger (individualisiertes Logging des Verarbeitungs-Prozesses). Diese sollte i. d. R. über die requirements mit installiert werden."
   ]
  },
  {
   "cell_type": "markdown",
   "metadata": {
    "collapsed": false
   },
   "source": [
    "### Import von Standardbibliotheken\n",
    "\n",
    "Die folgenden Bibliotheken werden importiert, um grundlegende Funktionen für Strukturierung, Datenverarbeitung, Plotting und statistische Auswertung bereit zu stellen."
   ]
  },
  {
   "cell_type": "code",
   "execution_count": 1,
   "metadata": {
    "ExecuteTime": {
     "end_time": "2025-03-23T11:08:05.822077300Z",
     "start_time": "2025-03-23T11:08:04.938118900Z"
    }
   },
   "outputs": [],
   "source": [
    "# Struktur\n",
    "from pathlib import Path\n",
    "from typing import Dict, List\n",
    "\n",
    "# Datenverarbeitung\n",
    "import numpy as np\n",
    "import pandas as pd\n",
    "from pandas.api.types import CategoricalDtype"
   ]
  },
  {
   "cell_type": "markdown",
   "metadata": {
    "collapsed": false
   },
   "source": [
    "### Import TreeQinetic\n",
    "\n",
    "Das Packet TreeQinetic wurde vom Autor (Kyell Jensen) zum einfachen Analysieren, Plotten und zur Interpretation der TXT-Messdaten der Picus TreeQinetic Elastometer und Inclinometer der Firma IML Instrumenta Mechanik Labor Electronic GmbH geschrieben (https://www.iml-electronic.de/produkt/picus-treeqinetic/). Nachfolgend wird das Packet und einige dort definierten Klassen importiert."
   ]
  },
  {
   "cell_type": "code",
   "execution_count": 2,
   "metadata": {
    "collapsed": false,
    "ExecuteTime": {
     "end_time": "2025-03-23T11:08:06.001214400Z",
     "start_time": "2025-03-23T11:08:04.949109300Z"
    }
   },
   "outputs": [],
   "source": [
    "import treeqinetic as ptq\n",
    "# ptq.help() # Test"
   ]
  },
  {
   "cell_type": "markdown",
   "source": [
    "### Import von Latex Tabellen export Funktionen"
   ],
   "metadata": {
    "collapsed": false
   }
  },
  {
   "cell_type": "code",
   "execution_count": 3,
   "outputs": [],
   "source": [
    "from utils_latex_export import (\n",
    "    save_latex_table,\n",
    "    extract_latex_dict_from_json\n",
    ")"
   ],
   "metadata": {
    "collapsed": false,
    "ExecuteTime": {
     "end_time": "2025-03-23T11:08:06.025378800Z",
     "start_time": "2025-03-23T11:08:05.595682800Z"
    }
   }
  },
  {
   "cell_type": "markdown",
   "metadata": {
    "collapsed": false
   },
   "source": [
    "### Projekt Konfiguration laden\n",
    "\n",
    "Lege Pfade für Daten-Importe, Daten-Exporte etc. fest (ggf. anpassen an eigene Verzeichnisstruktur), ausgelagert in gemeinsame Config für verschiedene Notebooks"
   ]
  },
  {
   "cell_type": "code",
   "execution_count": 4,
   "metadata": {
    "collapsed": false,
    "ExecuteTime": {
     "end_time": "2025-03-23T11:08:06.025378800Z",
     "start_time": "2025-03-23T11:08:05.619896900Z"
    }
   },
   "outputs": [],
   "source": [
    "# Importiere alle Einstellungen aus der project_config.py\n",
    "from project_config import (\n",
    "    main_path,\n",
    "    analyse_name,\n",
    "    data_path,\n",
    "    working_directory,\n",
    "    data_export_directory,\n",
    "    latex_export_directory\n",
    ")"
   ]
  },
  {
   "cell_type": "markdown",
   "source": [],
   "metadata": {
    "collapsed": false
   }
  },
  {
   "cell_type": "markdown",
   "source": [
    "## Daten Import\n",
    "\n",
    "Aus dem Zugversuchsset wurden 4 Elastometer und 3 Inclinometer verwendet.\n",
    "\n",
    "Die Elastometer waren auf dem rechten und linken Stämmling auf der Außenseite in zwei Ebenen platziert. Beim Zusammenziehen der Stämmlinge messen diese entsprechnd eine Faserdehnung, beim Ausschwingen der Stämmlinge über ihre Ruhelage hinaus nach außen eine Faserstauchung.\n",
    "\n",
    "Die Inclinometer Daten werden hier ebefalls geladen, erschienen aber weniger geeignet zur Auswertung und werden entspricht nicht weiter berücksichtigt.\n",
    "\n",
    "Die Funktion 'ptq.setup' erstellt div. Instanzen, die für das Paket notwendig sind (CONFIG, LOG_MANAGER, PLOT_MANAGER). \n",
    "\n",
    "Über die Klasse 'ptq.Series' wird eine neue Messreihe initialisiert und als 'ptq_series' gespeichert. Im Verzeichnis ptq_data_path finden sich die PTQ Daten als TXT von insgesamt 29 Messungen. Eine Datei enthält jeweils die Daten für alle Inclinometer und Elastometer."
   ],
   "metadata": {
    "collapsed": false
   }
  },
  {
   "cell_type": "code",
   "execution_count": 5,
   "outputs": [
    {
     "name": "stderr",
     "output_type": "stream",
     "text": [
      "2025-03-23 12:08:05 [\u001B[92mINFO\u001B[0m] kj_logger.update_config: <kj_logger.LogManager object at 0x00000230BBE45190> initialized - update_config! Code: 000\n",
      "2025-03-23 12:08:05 [\u001B[93mWARNING\u001B[0m] kj_core.core_config.set_working_directory: The directory C:\\kyellsen\\005_Projekte\\2024_BA\\032_Feldversuch_2023_Plesse\\030_Analysen\\2023_Kronensicherung_Plesse_Kraefte_Schwingungen\\working_directory\\ptq already exists.\n",
      "2025-03-23 12:08:05 [\u001B[92mINFO\u001B[0m] kj_core.core_config.set_working_directory: Working directory set to C:\\kyellsen\\005_Projekte\\2024_BA\\032_Feldversuch_2023_Plesse\\030_Analysen\\2023_Kronensicherung_Plesse_Kraefte_Schwingungen\\working_directory\\ptq!\n",
      "2025-03-23 12:08:05 [\u001B[92mINFO\u001B[0m] kj_core.core_config.__init__: <treeqinetic.config.Config object at 0x00000230BCF61750> initialized! Code: 001\n",
      "2025-03-23 12:08:05 [\u001B[92mINFO\u001B[0m] treeqinetic.setup: ptq: Setup treeqinetic package!\n",
      "2025-03-23 12:08:05 [\u001B[92mINFO\u001B[0m] kj_core.utils.plot_manager.__init__: <kj_core.utils.plot_manager.PlotManager object at 0x00000230BCB1B210> initialized! Code: 005\n",
      "2025-03-23 12:08:05 [\u001B[92mINFO\u001B[0m] treeqinetic.setup: ptq: treeqinetic setup completed.\n",
      "2025-03-23 12:08:05 [\u001B[92mINFO\u001B[0m] treeqinetic.classes.measurement.read_txt: Read TXT for Measurement: 'PTQ_Meas_100346.txt', ID: 1, Start '2023-03-22 10:10:39.830198' to '2023-03-22 10:13:21.602198' successful.\n",
      "2025-03-23 12:08:05 [\u001B[92mINFO\u001B[0m] treeqinetic.classes.measurement.read_txt: Read TXT for Measurement: 'PTQ_Meas_101814.txt', ID: 2, Start '2023-03-22 10:18:33.334820' to '2023-03-22 10:21:25.691820' successful.\n",
      "2025-03-23 12:08:05 [\u001B[92mINFO\u001B[0m] treeqinetic.classes.measurement.read_txt: Read TXT for Measurement: 'PTQ_Meas_102314.txt', ID: 3, Start '2023-03-22 10:26:25.086505' to '2023-03-22 10:28:50.847505' successful.\n",
      "2025-03-23 12:08:05 [\u001B[92mINFO\u001B[0m] treeqinetic.classes.measurement.read_txt: Read TXT for Measurement: 'PTQ_Meas_104400.txt', ID: 4, Start '2023-03-22 10:50:02.131987' to '2023-03-22 10:52:43.662987' successful.\n",
      "2025-03-23 12:08:05 [\u001B[92mINFO\u001B[0m] treeqinetic.classes.measurement.read_txt: Read TXT for Measurement: 'PTQ_Meas_105549.txt', ID: 5, Start '2023-03-22 10:55:59.034260' to '2023-03-22 10:58:38.051260' successful.\n",
      "2025-03-23 12:08:05 [\u001B[92mINFO\u001B[0m] treeqinetic.classes.measurement.read_txt: Read TXT for Measurement: 'PTQ_Meas_110107.txt', ID: 6, Start '2023-03-22 11:02:37.653620' to '2023-03-22 11:04:32.486620' successful.\n",
      "2025-03-23 12:08:05 [\u001B[92mINFO\u001B[0m] treeqinetic.classes.measurement.read_txt: Read TXT for Measurement: 'PTQ_Meas_110558.txt', ID: 7, Start '2023-03-22 11:06:16.330019' to '2023-03-22 11:08:10.160019' successful.\n",
      "2025-03-23 12:08:05 [\u001B[92mINFO\u001B[0m] treeqinetic.classes.measurement.read_txt: Read TXT for Measurement: 'PTQ_Meas_111019.txt', ID: 8, Start '2023-03-22 11:10:38.251994' to '2023-03-22 11:12:26.538994' successful.\n",
      "2025-03-23 12:08:05 [\u001B[92mINFO\u001B[0m] treeqinetic.classes.measurement.read_txt: Read TXT for Measurement: 'PTQ_Meas_111713.txt', ID: 9, Start '2023-03-22 11:21:04.844142' to '2023-03-22 11:23:02.055142' successful.\n",
      "2025-03-23 12:08:05 [\u001B[92mINFO\u001B[0m] treeqinetic.classes.measurement.read_txt: Read TXT for Measurement: 'PTQ_Meas_112120.txt', ID: 10, Start '2023-03-22 11:22:46.612488' to '2023-03-22 11:26:15.605488' successful.\n",
      "2025-03-23 12:08:05 [\u001B[92mINFO\u001B[0m] treeqinetic.classes.measurement.read_txt: Read TXT for Measurement: 'PTQ_Meas_133316.txt', ID: 11, Start '2023-03-22 13:36:32.068787' to '2023-03-22 13:38:55.286787' successful.\n",
      "2025-03-23 12:08:05 [\u001B[92mINFO\u001B[0m] treeqinetic.classes.measurement.read_txt: Read TXT for Measurement: 'PTQ_Meas_134053.txt', ID: 12, Start '2023-03-22 13:42:13.782157' to '2023-03-22 13:44:46.281157' successful.\n",
      "2025-03-23 12:08:05 [\u001B[92mINFO\u001B[0m] treeqinetic.classes.measurement.read_txt: Read TXT for Measurement: 'PTQ_Meas_134807.txt', ID: 13, Start '2023-03-22 13:49:21.347406' to '2023-03-22 13:51:37.799406' successful.\n",
      "2025-03-23 12:08:05 [\u001B[92mINFO\u001B[0m] treeqinetic.classes.measurement.read_txt: Read TXT for Measurement: 'PTQ_Meas_135705.txt', ID: 14, Start '2023-03-22 13:59:44.050912' to '2023-03-22 14:02:02.505912' successful.\n",
      "2025-03-23 12:08:05 [\u001B[92mINFO\u001B[0m] treeqinetic.classes.measurement.read_txt: Read TXT for Measurement: 'PTQ_Meas_140149.txt', ID: 15, Start '2023-03-22 14:04:38.399621' to '2023-03-22 14:06:40.181621' successful.\n",
      "2025-03-23 12:08:05 [\u001B[92mINFO\u001B[0m] treeqinetic.classes.measurement.read_txt: Read TXT for Measurement: 'PTQ_Meas_140551.txt', ID: 16, Start '2023-03-22 14:08:22.949140' to '2023-03-22 14:10:39.593140' successful.\n",
      "2025-03-23 12:08:05 [\u001B[92mINFO\u001B[0m] treeqinetic.classes.measurement.read_txt: Read TXT for Measurement: 'PTQ_Meas_141006.txt', ID: 17, Start '2023-03-22 14:12:35.404214' to '2023-03-22 14:14:35.383214' successful.\n",
      "2025-03-23 12:08:05 [\u001B[92mINFO\u001B[0m] treeqinetic.classes.measurement.read_txt: Read TXT for Measurement: 'PTQ_Meas_141437.txt', ID: 18, Start '2023-03-22 14:15:47.525869999' to '2023-03-22 14:18:26.172870' successful.\n",
      "2025-03-23 12:08:06 [\u001B[92mINFO\u001B[0m] treeqinetic.classes.measurement.read_txt: Read TXT for Measurement: 'PTQ_Meas_141812.txt', ID: 19, Start '2023-03-22 14:20:37.937304' to '2023-03-22 14:22:53.243304' successful.\n",
      "2025-03-23 12:08:06 [\u001B[92mINFO\u001B[0m] treeqinetic.classes.measurement.read_txt: Read TXT for Measurement: 'PTQ_Meas_150444.txt', ID: 20, Start '2023-03-22 15:07:26.211509' to '2023-03-22 15:09:24.888509' successful.\n",
      "2025-03-23 12:08:06 [\u001B[92mINFO\u001B[0m] treeqinetic.classes.measurement.read_txt: Read TXT for Measurement: 'PTQ_Meas_151010.txt', ID: 21, Start '2023-03-22 15:11:29.776214' to '2023-03-22 15:14:08.830214' successful.\n",
      "2025-03-23 12:08:06 [\u001B[92mINFO\u001B[0m] treeqinetic.classes.measurement.read_txt: Read TXT for Measurement: 'PTQ_Meas_151557.txt', ID: 22, Start '2023-03-22 15:16:01.811379' to '2023-03-22 15:20:03.954379' successful.\n",
      "2025-03-23 12:08:06 [\u001B[92mINFO\u001B[0m] treeqinetic.classes.measurement.read_txt: Read TXT for Measurement: 'PTQ_Meas_153028.txt', ID: 23, Start '2023-03-22 15:30:29.626130' to '2023-03-22 15:32:42.861130' successful.\n",
      "2025-03-23 12:08:06 [\u001B[92mINFO\u001B[0m] treeqinetic.classes.measurement.read_txt: Read TXT for Measurement: 'PTQ_Meas_153334.txt', ID: 24, Start '2023-03-22 15:36:28.333785' to '2023-03-22 15:39:10.601785' successful.\n",
      "2025-03-23 12:08:06 [\u001B[92mINFO\u001B[0m] treeqinetic.classes.measurement.read_txt: Read TXT for Measurement: 'PTQ_Meas_153817.txt', ID: 25, Start '2023-03-22 15:39:36.853689' to '2023-03-22 15:45:22.562689' successful.\n",
      "2025-03-23 12:08:06 [\u001B[92mINFO\u001B[0m] treeqinetic.classes.measurement.read_txt: Read TXT for Measurement: 'PTQ_Meas_154457.txt', ID: 26, Start '2023-03-22 15:53:18.604797' to '2023-03-22 15:56:04.346797' successful.\n",
      "2025-03-23 12:08:06 [\u001B[92mINFO\u001B[0m] treeqinetic.classes.measurement.read_txt: Read TXT for Measurement: 'PTQ_Meas_155354.txt', ID: 27, Start '2023-03-22 15:53:59.248874' to '2023-03-22 15:57:16.416874' successful.\n",
      "2025-03-23 12:08:06 [\u001B[92mINFO\u001B[0m] treeqinetic.classes.measurement.read_txt: Read TXT for Measurement: 'PTQ_Meas_155805.txt', ID: 28, Start '2023-03-22 15:59:19.859928' to '2023-03-22 16:00:54.129927999' successful.\n",
      "2025-03-23 12:08:06 [\u001B[92mINFO\u001B[0m] treeqinetic.classes.measurement.read_txt: Read TXT for Measurement: 'PTQ_Meas_160907.txt', ID: 29, Start '2023-03-22 16:09:36.011613' to '2023-03-22 16:12:55.455613' successful.\n"
     ]
    }
   ],
   "source": [
    "ptq.setup(working_directory=working_directory, log_level=\"info\", safe_logs_to_file=True)\n",
    "\n",
    "ptq_data_path = data_path / 'PTQ/data_txt'\n",
    "ptq_series = ptq.classes.Series(name=analyse_name, path=ptq_data_path)\n",
    "\n",
    "elasto_names = [\"Elasto(95)\", \"Elasto(98)\", \"Elasto(92)\", \"Elasto(90)\"]"
   ],
   "metadata": {
    "collapsed": false,
    "ExecuteTime": {
     "end_time": "2025-03-23T11:08:06.554260500Z",
     "start_time": "2025-03-23T11:08:05.626096500Z"
    }
   }
  },
  {
   "cell_type": "markdown",
   "source": [
    "## Explorative Datenanalyse\n",
    "\n",
    "Übersicht über alle vom PTQ erfassten Daten über alle Messungen gemeinsam (Elastos und Inclinos)."
   ],
   "metadata": {
    "collapsed": false
   }
  },
  {
   "cell_type": "code",
   "execution_count": 6,
   "outputs": [
    {
     "data": {
      "text/plain": "                 ID            Nr                       Datetime  \\\ncount  17836.000000  17836.000000                          17836   \nmean      15.249047    338.457502  2023-03-22 13:34:17.235428864   \nmin        1.000000      0.000000     2023-03-22 10:10:39.830198   \n25%        8.000000    153.000000  2023-03-22 11:11:37.444994048   \n50%       16.000000    309.000000  2023-03-22 14:08:40.921139968   \n75%       23.000000    469.000000  2023-03-22 15:31:05.232380160   \nmax       29.000000   1392.000000     2023-03-22 16:12:55.455613   \nstd        8.422199    242.404703                            NaN   \n\n       Sec_Since_Start    Elasto(98)    Elasto(95)    Elasto(92)  \\\ncount     17836.000000  17461.000000  17468.000000  17657.000000   \nmean         85.133799     81.627536    105.786833    118.740437   \nmin           0.000000   -192.900000   -119.100000   -111.000000   \n25%          38.984250     16.900000      8.400000      5.700000   \n50%          77.763500     95.100000    128.500000    139.500000   \n75%         117.784500    137.500000    184.700000    213.100000   \nmax         345.709000    234.600000    266.300000    291.500000   \nstd          60.383660     64.555211     89.518611    101.978415   \n\n         Elasto(90)  Inclino(85)X  Inclino(85)Y  Inclino(83)X  Inclino(83)Y  \\\ncount  17676.000000  17448.000000       17448.0  17704.000000  17704.000000   \nmean     191.147720      0.586046           0.0      0.735073      0.022071   \nmin     -217.800000      0.000000           0.0     -7.149000     -3.127000   \n25%       13.475000      0.283000           0.0      0.424000     -0.102000   \n50%      235.850000      0.557000           0.0      0.742000      0.000000   \n75%      337.600000      0.848250           0.0      1.036000      0.127000   \nmax      429.600000      7.029000           0.0      7.341000      4.525000   \nstd      157.750503      0.392076           0.0      0.561636      0.253933   \n\n       Inclino(82)X  Inclino(82)Y  Inclino(81)X  Inclino(81)Y  \ncount  17435.000000  17435.000000  17574.000000  17574.000000  \nmean      -0.495272     -0.195005      0.009151      0.010782  \nmin       -3.483000     -2.228000     -1.346000     -0.660000  \n25%       -0.922000     -0.397500     -0.006000     -0.005750  \n50%       -0.522000     -0.221000     -0.002000     -0.001000  \n75%       -0.070000      0.000000      0.001000      0.002000  \nmax        1.570000      1.147000      2.955000      0.526000  \nstd        0.491294      0.271169      0.226831      0.075625  ",
      "text/html": "<div>\n<style scoped>\n    .dataframe tbody tr th:only-of-type {\n        vertical-align: middle;\n    }\n\n    .dataframe tbody tr th {\n        vertical-align: top;\n    }\n\n    .dataframe thead th {\n        text-align: right;\n    }\n</style>\n<table border=\"1\" class=\"dataframe\">\n  <thead>\n    <tr style=\"text-align: right;\">\n      <th></th>\n      <th>ID</th>\n      <th>Nr</th>\n      <th>Datetime</th>\n      <th>Sec_Since_Start</th>\n      <th>Elasto(98)</th>\n      <th>Elasto(95)</th>\n      <th>Elasto(92)</th>\n      <th>Elasto(90)</th>\n      <th>Inclino(85)X</th>\n      <th>Inclino(85)Y</th>\n      <th>Inclino(83)X</th>\n      <th>Inclino(83)Y</th>\n      <th>Inclino(82)X</th>\n      <th>Inclino(82)Y</th>\n      <th>Inclino(81)X</th>\n      <th>Inclino(81)Y</th>\n    </tr>\n  </thead>\n  <tbody>\n    <tr>\n      <th>count</th>\n      <td>17836.000000</td>\n      <td>17836.000000</td>\n      <td>17836</td>\n      <td>17836.000000</td>\n      <td>17461.000000</td>\n      <td>17468.000000</td>\n      <td>17657.000000</td>\n      <td>17676.000000</td>\n      <td>17448.000000</td>\n      <td>17448.0</td>\n      <td>17704.000000</td>\n      <td>17704.000000</td>\n      <td>17435.000000</td>\n      <td>17435.000000</td>\n      <td>17574.000000</td>\n      <td>17574.000000</td>\n    </tr>\n    <tr>\n      <th>mean</th>\n      <td>15.249047</td>\n      <td>338.457502</td>\n      <td>2023-03-22 13:34:17.235428864</td>\n      <td>85.133799</td>\n      <td>81.627536</td>\n      <td>105.786833</td>\n      <td>118.740437</td>\n      <td>191.147720</td>\n      <td>0.586046</td>\n      <td>0.0</td>\n      <td>0.735073</td>\n      <td>0.022071</td>\n      <td>-0.495272</td>\n      <td>-0.195005</td>\n      <td>0.009151</td>\n      <td>0.010782</td>\n    </tr>\n    <tr>\n      <th>min</th>\n      <td>1.000000</td>\n      <td>0.000000</td>\n      <td>2023-03-22 10:10:39.830198</td>\n      <td>0.000000</td>\n      <td>-192.900000</td>\n      <td>-119.100000</td>\n      <td>-111.000000</td>\n      <td>-217.800000</td>\n      <td>0.000000</td>\n      <td>0.0</td>\n      <td>-7.149000</td>\n      <td>-3.127000</td>\n      <td>-3.483000</td>\n      <td>-2.228000</td>\n      <td>-1.346000</td>\n      <td>-0.660000</td>\n    </tr>\n    <tr>\n      <th>25%</th>\n      <td>8.000000</td>\n      <td>153.000000</td>\n      <td>2023-03-22 11:11:37.444994048</td>\n      <td>38.984250</td>\n      <td>16.900000</td>\n      <td>8.400000</td>\n      <td>5.700000</td>\n      <td>13.475000</td>\n      <td>0.283000</td>\n      <td>0.0</td>\n      <td>0.424000</td>\n      <td>-0.102000</td>\n      <td>-0.922000</td>\n      <td>-0.397500</td>\n      <td>-0.006000</td>\n      <td>-0.005750</td>\n    </tr>\n    <tr>\n      <th>50%</th>\n      <td>16.000000</td>\n      <td>309.000000</td>\n      <td>2023-03-22 14:08:40.921139968</td>\n      <td>77.763500</td>\n      <td>95.100000</td>\n      <td>128.500000</td>\n      <td>139.500000</td>\n      <td>235.850000</td>\n      <td>0.557000</td>\n      <td>0.0</td>\n      <td>0.742000</td>\n      <td>0.000000</td>\n      <td>-0.522000</td>\n      <td>-0.221000</td>\n      <td>-0.002000</td>\n      <td>-0.001000</td>\n    </tr>\n    <tr>\n      <th>75%</th>\n      <td>23.000000</td>\n      <td>469.000000</td>\n      <td>2023-03-22 15:31:05.232380160</td>\n      <td>117.784500</td>\n      <td>137.500000</td>\n      <td>184.700000</td>\n      <td>213.100000</td>\n      <td>337.600000</td>\n      <td>0.848250</td>\n      <td>0.0</td>\n      <td>1.036000</td>\n      <td>0.127000</td>\n      <td>-0.070000</td>\n      <td>0.000000</td>\n      <td>0.001000</td>\n      <td>0.002000</td>\n    </tr>\n    <tr>\n      <th>max</th>\n      <td>29.000000</td>\n      <td>1392.000000</td>\n      <td>2023-03-22 16:12:55.455613</td>\n      <td>345.709000</td>\n      <td>234.600000</td>\n      <td>266.300000</td>\n      <td>291.500000</td>\n      <td>429.600000</td>\n      <td>7.029000</td>\n      <td>0.0</td>\n      <td>7.341000</td>\n      <td>4.525000</td>\n      <td>1.570000</td>\n      <td>1.147000</td>\n      <td>2.955000</td>\n      <td>0.526000</td>\n    </tr>\n    <tr>\n      <th>std</th>\n      <td>8.422199</td>\n      <td>242.404703</td>\n      <td>NaN</td>\n      <td>60.383660</td>\n      <td>64.555211</td>\n      <td>89.518611</td>\n      <td>101.978415</td>\n      <td>157.750503</td>\n      <td>0.392076</td>\n      <td>0.0</td>\n      <td>0.561636</td>\n      <td>0.253933</td>\n      <td>0.491294</td>\n      <td>0.271169</td>\n      <td>0.226831</td>\n      <td>0.075625</td>\n    </tr>\n  </tbody>\n</table>\n</div>"
     },
     "execution_count": 6,
     "metadata": {},
     "output_type": "execute_result"
    }
   ],
   "source": [
    "ptq_df = ptq_series.get_measurements_df()\n",
    "ptq_df.describe()"
   ],
   "metadata": {
    "collapsed": false,
    "ExecuteTime": {
     "end_time": "2025-03-23T11:08:06.554260500Z",
     "start_time": "2025-03-23T11:08:06.199912500Z"
    }
   }
  },
  {
   "cell_type": "markdown",
   "source": [
    "### Einhaltung der maximalen Faserdehnung"
   ],
   "metadata": {
    "collapsed": false
   }
  },
  {
   "cell_type": "code",
   "execution_count": 7,
   "outputs": [
    {
     "data": {
      "text/plain": "         Elasto(95)    Elasto(98)    Elasto(92)    Elasto(90)\ncount  17468.000000  17461.000000  17657.000000  17676.000000\nmean     105.786833     81.627536    118.740437    191.147720\nstd       89.518611     64.555211    101.978415    157.750503\nmin     -119.100000   -192.900000   -111.000000   -217.800000\n25%        8.400000     16.900000      5.700000     13.475000\n50%      128.500000     95.100000    139.500000    235.850000\n75%      184.700000    137.500000    213.100000    337.600000\nmax      266.300000    234.600000    291.500000    429.600000",
      "text/html": "<div>\n<style scoped>\n    .dataframe tbody tr th:only-of-type {\n        vertical-align: middle;\n    }\n\n    .dataframe tbody tr th {\n        vertical-align: top;\n    }\n\n    .dataframe thead th {\n        text-align: right;\n    }\n</style>\n<table border=\"1\" class=\"dataframe\">\n  <thead>\n    <tr style=\"text-align: right;\">\n      <th></th>\n      <th>Elasto(95)</th>\n      <th>Elasto(98)</th>\n      <th>Elasto(92)</th>\n      <th>Elasto(90)</th>\n    </tr>\n  </thead>\n  <tbody>\n    <tr>\n      <th>count</th>\n      <td>17468.000000</td>\n      <td>17461.000000</td>\n      <td>17657.000000</td>\n      <td>17676.000000</td>\n    </tr>\n    <tr>\n      <th>mean</th>\n      <td>105.786833</td>\n      <td>81.627536</td>\n      <td>118.740437</td>\n      <td>191.147720</td>\n    </tr>\n    <tr>\n      <th>std</th>\n      <td>89.518611</td>\n      <td>64.555211</td>\n      <td>101.978415</td>\n      <td>157.750503</td>\n    </tr>\n    <tr>\n      <th>min</th>\n      <td>-119.100000</td>\n      <td>-192.900000</td>\n      <td>-111.000000</td>\n      <td>-217.800000</td>\n    </tr>\n    <tr>\n      <th>25%</th>\n      <td>8.400000</td>\n      <td>16.900000</td>\n      <td>5.700000</td>\n      <td>13.475000</td>\n    </tr>\n    <tr>\n      <th>50%</th>\n      <td>128.500000</td>\n      <td>95.100000</td>\n      <td>139.500000</td>\n      <td>235.850000</td>\n    </tr>\n    <tr>\n      <th>75%</th>\n      <td>184.700000</td>\n      <td>137.500000</td>\n      <td>213.100000</td>\n      <td>337.600000</td>\n    </tr>\n    <tr>\n      <th>max</th>\n      <td>266.300000</td>\n      <td>234.600000</td>\n      <td>291.500000</td>\n      <td>429.600000</td>\n    </tr>\n  </tbody>\n</table>\n</div>"
     },
     "execution_count": 7,
     "metadata": {},
     "output_type": "execute_result"
    }
   ],
   "source": [
    "ptq_df_elasto_summary = ptq_df[elasto_names].describe()\n",
    "ptq_df_elasto_summary"
   ],
   "metadata": {
    "collapsed": false,
    "ExecuteTime": {
     "end_time": "2025-03-23T11:08:06.554260500Z",
     "start_time": "2025-03-23T11:08:06.273840800Z"
    }
   }
  },
  {
   "cell_type": "markdown",
   "source": [
    "Analyse maximaler Dehnung und Stauchung, Prüfung auf Einhaltung der Elastizitätsgrenze (Fagus s. ca. 520 µm über 200~mm Länge des Elastos). \n",
    "Elasto(90) mit 429.6 mit der maximalen Faserdehnung"
   ],
   "metadata": {
    "collapsed": false
   }
  },
  {
   "cell_type": "code",
   "execution_count": 8,
   "outputs": [
    {
     "data": {
      "text/plain": "     Elasto(95)  Elasto(98)  Elasto(92)  Elasto(90)\nmin      -119.1      -192.9      -111.0      -217.8\nmax       266.3       234.6       291.5       429.6",
      "text/html": "<div>\n<style scoped>\n    .dataframe tbody tr th:only-of-type {\n        vertical-align: middle;\n    }\n\n    .dataframe tbody tr th {\n        vertical-align: top;\n    }\n\n    .dataframe thead th {\n        text-align: right;\n    }\n</style>\n<table border=\"1\" class=\"dataframe\">\n  <thead>\n    <tr style=\"text-align: right;\">\n      <th></th>\n      <th>Elasto(95)</th>\n      <th>Elasto(98)</th>\n      <th>Elasto(92)</th>\n      <th>Elasto(90)</th>\n    </tr>\n  </thead>\n  <tbody>\n    <tr>\n      <th>min</th>\n      <td>-119.1</td>\n      <td>-192.9</td>\n      <td>-111.0</td>\n      <td>-217.8</td>\n    </tr>\n    <tr>\n      <th>max</th>\n      <td>266.3</td>\n      <td>234.6</td>\n      <td>291.5</td>\n      <td>429.6</td>\n    </tr>\n  </tbody>\n</table>\n</div>"
     },
     "execution_count": 8,
     "metadata": {},
     "output_type": "execute_result"
    }
   ],
   "source": [
    "ptq_df_elasto_min_max = ptq_df_elasto_summary.loc[['min', 'max']]\n",
    "ptq_df_elasto_min_max"
   ],
   "metadata": {
    "collapsed": false,
    "ExecuteTime": {
     "end_time": "2025-03-23T11:08:06.554260500Z",
     "start_time": "2025-03-23T11:08:06.302740800Z"
    }
   }
  },
  {
   "cell_type": "code",
   "execution_count": 9,
   "outputs": [
    {
     "name": "stdout",
     "output_type": "stream",
     "text": [
      "Content saved to: C:\\kyellsen\\005_Projekte\\2024_BA\\032_Feldversuch_2023_Plesse\\030_Analysen\\2023_Kronensicherung_Plesse_Kraefte_Schwingungen\\working_directory\\export_latex\\feldversuch_2_ergebnisse_maximale_dehnungswerte_der_elastometer.tex\n"
     ]
    }
   ],
   "source": [
    "latex_string = ptq_df_elasto_min_max.to_latex(index=True, escape=True, column_format=\"r|rrrr\", float_format=\"{:0.2f}\".format)\n",
    "\n",
    "caption = \"Feldversuch 2 - Ergebnisse, Maximale Dehnungswerte der Elastometer\"\n",
    "caption_long = \"Feldversuch 2 - Ergebnisse, Maximale Dehnungswerte der Elastometer in µm über die Länge der Messgeräte von 200~mm, jeweils der maximale gemessene Werte über alle Messungen, positive Werte = Faserdehnung, negative Werte = Faserstauchung\"\n",
    "save_latex_table(latex_string, caption, latex_export_directory, caption_long)"
   ],
   "metadata": {
    "collapsed": false,
    "ExecuteTime": {
     "end_time": "2025-03-23T11:08:06.678687800Z",
     "start_time": "2025-03-23T11:08:06.318313700Z"
    }
   }
  },
  {
   "cell_type": "markdown",
   "source": [
    "Für jedes Elasto innerhalb jeder Messung getrennt. Werte werden bei der Gesamtauswertung später verwendet."
   ],
   "metadata": {
    "collapsed": false
   }
  },
  {
   "cell_type": "code",
   "execution_count": 10,
   "outputs": [
    {
     "data": {
      "text/plain": "   Elasto(95)        Elasto(98)        Elasto(92)        Elasto(90)       \n          min    max        min    max        min    max        min    max\nID                                                                        \n1      -119.1  215.0     -132.8  192.8      -86.6  240.9     -168.1  368.0\n2       -90.4  254.4      -93.8  207.9     -111.0  282.6     -202.2  429.6\n3      -106.8  262.2     -139.1  193.7      -87.0  291.5     -180.0  427.8",
      "text/html": "<div>\n<style scoped>\n    .dataframe tbody tr th:only-of-type {\n        vertical-align: middle;\n    }\n\n    .dataframe tbody tr th {\n        vertical-align: top;\n    }\n\n    .dataframe thead tr th {\n        text-align: left;\n    }\n\n    .dataframe thead tr:last-of-type th {\n        text-align: right;\n    }\n</style>\n<table border=\"1\" class=\"dataframe\">\n  <thead>\n    <tr>\n      <th></th>\n      <th colspan=\"2\" halign=\"left\">Elasto(95)</th>\n      <th colspan=\"2\" halign=\"left\">Elasto(98)</th>\n      <th colspan=\"2\" halign=\"left\">Elasto(92)</th>\n      <th colspan=\"2\" halign=\"left\">Elasto(90)</th>\n    </tr>\n    <tr>\n      <th></th>\n      <th>min</th>\n      <th>max</th>\n      <th>min</th>\n      <th>max</th>\n      <th>min</th>\n      <th>max</th>\n      <th>min</th>\n      <th>max</th>\n    </tr>\n    <tr>\n      <th>ID</th>\n      <th></th>\n      <th></th>\n      <th></th>\n      <th></th>\n      <th></th>\n      <th></th>\n      <th></th>\n      <th></th>\n    </tr>\n  </thead>\n  <tbody>\n    <tr>\n      <th>1</th>\n      <td>-119.1</td>\n      <td>215.0</td>\n      <td>-132.8</td>\n      <td>192.8</td>\n      <td>-86.6</td>\n      <td>240.9</td>\n      <td>-168.1</td>\n      <td>368.0</td>\n    </tr>\n    <tr>\n      <th>2</th>\n      <td>-90.4</td>\n      <td>254.4</td>\n      <td>-93.8</td>\n      <td>207.9</td>\n      <td>-111.0</td>\n      <td>282.6</td>\n      <td>-202.2</td>\n      <td>429.6</td>\n    </tr>\n    <tr>\n      <th>3</th>\n      <td>-106.8</td>\n      <td>262.2</td>\n      <td>-139.1</td>\n      <td>193.7</td>\n      <td>-87.0</td>\n      <td>291.5</td>\n      <td>-180.0</td>\n      <td>427.8</td>\n    </tr>\n  </tbody>\n</table>\n</div>"
     },
     "execution_count": 10,
     "metadata": {},
     "output_type": "execute_result"
    }
   ],
   "source": [
    "# Gruppiere nach ID und berechne min und max für jede Elasto-Spalte\n",
    "ptq_df_elasto_min_max = ptq_df.groupby('ID')[elasto_names].agg(['min', 'max'])\n",
    "ptq_df_elasto_min_max.head(3)"
   ],
   "metadata": {
    "collapsed": false,
    "ExecuteTime": {
     "end_time": "2025-03-23T11:08:06.678687800Z",
     "start_time": "2025-03-23T11:08:06.485207800Z"
    }
   }
  },
  {
   "cell_type": "code",
   "execution_count": 11,
   "outputs": [
    {
     "name": "stdout",
     "output_type": "stream",
     "text": [
      "Content saved to: C:\\kyellsen\\005_Projekte\\2024_BA\\032_Feldversuch_2023_Plesse\\030_Analysen\\2023_Kronensicherung_Plesse_Kraefte_Schwingungen\\working_directory\\export_latex\\feldversuch_2_ergebnisse_maximalwerte_elastometer_vollstandig.tex\n"
     ]
    }
   ],
   "source": [
    "latex_string = ptq_df_elasto_min_max.reset_index().to_latex(index=False, escape=True, column_format=\"r|rr|rr|rr|rr\", float_format=\"{:0.2f}\".format)\n",
    "\n",
    "caption = \"Feldversuch 2 - Ergebnisse, Maximalwerte Elastometer vollständig\"\n",
    "caption_long = \"Feldversuch 2 - Ergebnisse, Maximalwerte Elastometer vollständig, Faserstauchung als min., Faserdehnung als max. in µm über 200~mm Länge Messgerät\"\n",
    "save_latex_table(latex_string, caption, latex_export_directory, caption_long)"
   ],
   "metadata": {
    "collapsed": false,
    "ExecuteTime": {
     "end_time": "2025-03-23T11:08:06.741189500Z",
     "start_time": "2025-03-23T11:08:06.512287Z"
    }
   }
  },
  {
   "cell_type": "markdown",
   "source": [
    "Die maximalen Dehnungs- und Stauchungswerte der Elastometer werden in der Struktur angepasst, um später mit den anderen Daten zusammenzuführen."
   ],
   "metadata": {
    "collapsed": false
   }
  },
  {
   "cell_type": "code",
   "execution_count": 12,
   "outputs": [
    {
     "data": {
      "text/plain": "   id sensor_name  max_compression  max_strain\n0   1  Elasto(95)           -119.1       215.0\n1   1  Elasto(98)           -132.8       192.8\n2   1  Elasto(92)            -86.6       240.9\n3   1  Elasto(90)           -168.1       368.0\n4   2  Elasto(95)            -90.4       254.4\n5   2  Elasto(98)            -93.8       207.9\n6   2  Elasto(92)           -111.0       282.6\n7   2  Elasto(90)           -202.2       429.6\n8   3  Elasto(95)           -106.8       262.2\n9   3  Elasto(98)           -139.1       193.7",
      "text/html": "<div>\n<style scoped>\n    .dataframe tbody tr th:only-of-type {\n        vertical-align: middle;\n    }\n\n    .dataframe tbody tr th {\n        vertical-align: top;\n    }\n\n    .dataframe thead th {\n        text-align: right;\n    }\n</style>\n<table border=\"1\" class=\"dataframe\">\n  <thead>\n    <tr style=\"text-align: right;\">\n      <th></th>\n      <th>id</th>\n      <th>sensor_name</th>\n      <th>max_compression</th>\n      <th>max_strain</th>\n    </tr>\n  </thead>\n  <tbody>\n    <tr>\n      <th>0</th>\n      <td>1</td>\n      <td>Elasto(95)</td>\n      <td>-119.1</td>\n      <td>215.0</td>\n    </tr>\n    <tr>\n      <th>1</th>\n      <td>1</td>\n      <td>Elasto(98)</td>\n      <td>-132.8</td>\n      <td>192.8</td>\n    </tr>\n    <tr>\n      <th>2</th>\n      <td>1</td>\n      <td>Elasto(92)</td>\n      <td>-86.6</td>\n      <td>240.9</td>\n    </tr>\n    <tr>\n      <th>3</th>\n      <td>1</td>\n      <td>Elasto(90)</td>\n      <td>-168.1</td>\n      <td>368.0</td>\n    </tr>\n    <tr>\n      <th>4</th>\n      <td>2</td>\n      <td>Elasto(95)</td>\n      <td>-90.4</td>\n      <td>254.4</td>\n    </tr>\n    <tr>\n      <th>5</th>\n      <td>2</td>\n      <td>Elasto(98)</td>\n      <td>-93.8</td>\n      <td>207.9</td>\n    </tr>\n    <tr>\n      <th>6</th>\n      <td>2</td>\n      <td>Elasto(92)</td>\n      <td>-111.0</td>\n      <td>282.6</td>\n    </tr>\n    <tr>\n      <th>7</th>\n      <td>2</td>\n      <td>Elasto(90)</td>\n      <td>-202.2</td>\n      <td>429.6</td>\n    </tr>\n    <tr>\n      <th>8</th>\n      <td>3</td>\n      <td>Elasto(95)</td>\n      <td>-106.8</td>\n      <td>262.2</td>\n    </tr>\n    <tr>\n      <th>9</th>\n      <td>3</td>\n      <td>Elasto(98)</td>\n      <td>-139.1</td>\n      <td>193.7</td>\n    </tr>\n  </tbody>\n</table>\n</div>"
     },
     "execution_count": 12,
     "metadata": {},
     "output_type": "execute_result"
    }
   ],
   "source": [
    "ptq_df_elasto = ptq_df_elasto_min_max.stack(level=0, future_stack=True).reset_index()\n",
    "\n",
    "ptq_df_elasto = ptq_df_elasto.rename(columns={\n",
    "    'ID': 'id', \n",
    "    'level_1': 'sensor_name',\n",
    "    'max': 'max_strain',\n",
    "    'min': 'max_compression'\n",
    "})\n",
    "\n",
    "ptq_df_elasto.head(10)"
   ],
   "metadata": {
    "collapsed": false,
    "ExecuteTime": {
     "end_time": "2025-03-23T11:08:06.747706400Z",
     "start_time": "2025-03-23T11:08:06.531941400Z"
    }
   }
  },
  {
   "cell_type": "markdown",
   "source": [
    "## Plotten aller Messungen bzw. Elastometer\n",
    "\n",
    "Plotten der 4 verwendeten Elastometer in einem Plot für jede Messung. Die Plots werden im Verzeichnis ptq/plots/multi_sensors_vs_time_1/ abgelegt.\n",
    "Für alle Messungen und Elastometer ist gut zu erkennen, wie die Faserdehnung während des zusammen ziehen der Stämmlinge zunimmt, dann im Moment des Realises plötzlich abfällt, um in Folge harmonisch gedämpft auszuschwingen (nährungsweise)."
   ],
   "metadata": {
    "collapsed": false
   }
  },
  {
   "cell_type": "code",
   "execution_count": 13,
   "outputs": [
    {
     "name": "stderr",
     "output_type": "stream",
     "text": [
      "2025-03-23 12:08:06 [\u001B[92mINFO\u001B[0m] treeqinetic.classes.measurement.plot_multi_sensors: plot_multi_sensors for measurement: 'Measurement: 'PTQ_Meas_100346.txt', ID: 1, Start '2023-03-22 10:10:39.830198' to '2023-03-22 10:13:21.602198'' successful.\n",
      "2025-03-23 12:08:07 [\u001B[92mINFO\u001B[0m] treeqinetic.classes.measurement.plot_multi_sensors: plot_multi_sensors for measurement: 'Measurement: 'PTQ_Meas_101814.txt', ID: 2, Start '2023-03-22 10:18:33.334820' to '2023-03-22 10:21:25.691820'' successful.\n",
      "2025-03-23 12:08:07 [\u001B[92mINFO\u001B[0m] treeqinetic.classes.measurement.plot_multi_sensors: plot_multi_sensors for measurement: 'Measurement: 'PTQ_Meas_102314.txt', ID: 3, Start '2023-03-22 10:26:25.086505' to '2023-03-22 10:28:50.847505'' successful.\n",
      "2025-03-23 12:08:07 [\u001B[92mINFO\u001B[0m] treeqinetic.classes.measurement.plot_multi_sensors: plot_multi_sensors for measurement: 'Measurement: 'PTQ_Meas_104400.txt', ID: 4, Start '2023-03-22 10:50:02.131987' to '2023-03-22 10:52:43.662987'' successful.\n",
      "2025-03-23 12:08:07 [\u001B[92mINFO\u001B[0m] treeqinetic.classes.measurement.plot_multi_sensors: plot_multi_sensors for measurement: 'Measurement: 'PTQ_Meas_105549.txt', ID: 5, Start '2023-03-22 10:55:59.034260' to '2023-03-22 10:58:38.051260'' successful.\n",
      "2025-03-23 12:08:07 [\u001B[92mINFO\u001B[0m] treeqinetic.classes.measurement.plot_multi_sensors: plot_multi_sensors for measurement: 'Measurement: 'PTQ_Meas_110107.txt', ID: 6, Start '2023-03-22 11:02:37.653620' to '2023-03-22 11:04:32.486620'' successful.\n",
      "2025-03-23 12:08:08 [\u001B[92mINFO\u001B[0m] treeqinetic.classes.measurement.plot_multi_sensors: plot_multi_sensors for measurement: 'Measurement: 'PTQ_Meas_110558.txt', ID: 7, Start '2023-03-22 11:06:16.330019' to '2023-03-22 11:08:10.160019'' successful.\n",
      "2025-03-23 12:08:08 [\u001B[92mINFO\u001B[0m] treeqinetic.classes.measurement.plot_multi_sensors: plot_multi_sensors for measurement: 'Measurement: 'PTQ_Meas_111019.txt', ID: 8, Start '2023-03-22 11:10:38.251994' to '2023-03-22 11:12:26.538994'' successful.\n",
      "2025-03-23 12:08:08 [\u001B[92mINFO\u001B[0m] treeqinetic.classes.measurement.plot_multi_sensors: plot_multi_sensors for measurement: 'Measurement: 'PTQ_Meas_111713.txt', ID: 9, Start '2023-03-22 11:21:04.844142' to '2023-03-22 11:23:02.055142'' successful.\n",
      "2025-03-23 12:08:08 [\u001B[92mINFO\u001B[0m] treeqinetic.classes.measurement.plot_multi_sensors: plot_multi_sensors for measurement: 'Measurement: 'PTQ_Meas_112120.txt', ID: 10, Start '2023-03-22 11:22:46.612488' to '2023-03-22 11:26:15.605488'' successful.\n",
      "2025-03-23 12:08:08 [\u001B[92mINFO\u001B[0m] treeqinetic.classes.measurement.plot_multi_sensors: plot_multi_sensors for measurement: 'Measurement: 'PTQ_Meas_133316.txt', ID: 11, Start '2023-03-22 13:36:32.068787' to '2023-03-22 13:38:55.286787'' successful.\n",
      "2025-03-23 12:08:09 [\u001B[92mINFO\u001B[0m] treeqinetic.classes.measurement.plot_multi_sensors: plot_multi_sensors for measurement: 'Measurement: 'PTQ_Meas_134053.txt', ID: 12, Start '2023-03-22 13:42:13.782157' to '2023-03-22 13:44:46.281157'' successful.\n",
      "2025-03-23 12:08:09 [\u001B[92mINFO\u001B[0m] treeqinetic.classes.measurement.plot_multi_sensors: plot_multi_sensors for measurement: 'Measurement: 'PTQ_Meas_134807.txt', ID: 13, Start '2023-03-22 13:49:21.347406' to '2023-03-22 13:51:37.799406'' successful.\n",
      "2025-03-23 12:08:09 [\u001B[92mINFO\u001B[0m] treeqinetic.classes.measurement.plot_multi_sensors: plot_multi_sensors for measurement: 'Measurement: 'PTQ_Meas_135705.txt', ID: 14, Start '2023-03-22 13:59:44.050912' to '2023-03-22 14:02:02.505912'' successful.\n",
      "2025-03-23 12:08:09 [\u001B[92mINFO\u001B[0m] treeqinetic.classes.measurement.plot_multi_sensors: plot_multi_sensors for measurement: 'Measurement: 'PTQ_Meas_140149.txt', ID: 15, Start '2023-03-22 14:04:38.399621' to '2023-03-22 14:06:40.181621'' successful.\n",
      "2025-03-23 12:08:09 [\u001B[92mINFO\u001B[0m] treeqinetic.classes.measurement.plot_multi_sensors: plot_multi_sensors for measurement: 'Measurement: 'PTQ_Meas_140551.txt', ID: 16, Start '2023-03-22 14:08:22.949140' to '2023-03-22 14:10:39.593140'' successful.\n",
      "2025-03-23 12:08:09 [\u001B[92mINFO\u001B[0m] treeqinetic.classes.measurement.plot_multi_sensors: plot_multi_sensors for measurement: 'Measurement: 'PTQ_Meas_141006.txt', ID: 17, Start '2023-03-22 14:12:35.404214' to '2023-03-22 14:14:35.383214'' successful.\n",
      "2025-03-23 12:08:10 [\u001B[92mINFO\u001B[0m] treeqinetic.classes.measurement.plot_multi_sensors: plot_multi_sensors for measurement: 'Measurement: 'PTQ_Meas_141437.txt', ID: 18, Start '2023-03-22 14:15:47.525869999' to '2023-03-22 14:18:26.172870'' successful.\n",
      "2025-03-23 12:08:10 [\u001B[92mINFO\u001B[0m] treeqinetic.classes.measurement.plot_multi_sensors: plot_multi_sensors for measurement: 'Measurement: 'PTQ_Meas_141812.txt', ID: 19, Start '2023-03-22 14:20:37.937304' to '2023-03-22 14:22:53.243304'' successful.\n",
      "2025-03-23 12:08:10 [\u001B[92mINFO\u001B[0m] treeqinetic.classes.measurement.plot_multi_sensors: plot_multi_sensors for measurement: 'Measurement: 'PTQ_Meas_150444.txt', ID: 20, Start '2023-03-22 15:07:26.211509' to '2023-03-22 15:09:24.888509'' successful.\n",
      "2025-03-23 12:08:10 [\u001B[92mINFO\u001B[0m] treeqinetic.classes.measurement.plot_multi_sensors: plot_multi_sensors for measurement: 'Measurement: 'PTQ_Meas_151010.txt', ID: 21, Start '2023-03-22 15:11:29.776214' to '2023-03-22 15:14:08.830214'' successful.\n",
      "2025-03-23 12:08:10 [\u001B[92mINFO\u001B[0m] treeqinetic.classes.measurement.plot_multi_sensors: plot_multi_sensors for measurement: 'Measurement: 'PTQ_Meas_151557.txt', ID: 22, Start '2023-03-22 15:16:01.811379' to '2023-03-22 15:20:03.954379'' successful.\n",
      "2025-03-23 12:08:10 [\u001B[92mINFO\u001B[0m] treeqinetic.classes.measurement.plot_multi_sensors: plot_multi_sensors for measurement: 'Measurement: 'PTQ_Meas_153028.txt', ID: 23, Start '2023-03-22 15:30:29.626130' to '2023-03-22 15:32:42.861130'' successful.\n",
      "2025-03-23 12:08:10 [\u001B[92mINFO\u001B[0m] treeqinetic.classes.measurement.plot_multi_sensors: plot_multi_sensors for measurement: 'Measurement: 'PTQ_Meas_153334.txt', ID: 24, Start '2023-03-22 15:36:28.333785' to '2023-03-22 15:39:10.601785'' successful.\n",
      "2025-03-23 12:08:11 [\u001B[92mINFO\u001B[0m] treeqinetic.classes.measurement.plot_multi_sensors: plot_multi_sensors for measurement: 'Measurement: 'PTQ_Meas_153817.txt', ID: 25, Start '2023-03-22 15:39:36.853689' to '2023-03-22 15:45:22.562689'' successful.\n",
      "2025-03-23 12:08:11 [\u001B[92mINFO\u001B[0m] treeqinetic.classes.measurement.plot_multi_sensors: plot_multi_sensors for measurement: 'Measurement: 'PTQ_Meas_154457.txt', ID: 26, Start '2023-03-22 15:53:18.604797' to '2023-03-22 15:56:04.346797'' successful.\n",
      "2025-03-23 12:08:11 [\u001B[92mINFO\u001B[0m] treeqinetic.classes.measurement.plot_multi_sensors: plot_multi_sensors for measurement: 'Measurement: 'PTQ_Meas_155354.txt', ID: 27, Start '2023-03-22 15:53:59.248874' to '2023-03-22 15:57:16.416874'' successful.\n",
      "2025-03-23 12:08:11 [\u001B[92mINFO\u001B[0m] treeqinetic.classes.measurement.plot_multi_sensors: plot_multi_sensors for measurement: 'Measurement: 'PTQ_Meas_155805.txt', ID: 28, Start '2023-03-22 15:59:19.859928' to '2023-03-22 16:00:54.129927999'' successful.\n",
      "2025-03-23 12:08:11 [\u001B[92mINFO\u001B[0m] treeqinetic.classes.measurement.plot_multi_sensors: plot_multi_sensors for measurement: 'Measurement: 'PTQ_Meas_160907.txt', ID: 29, Start '2023-03-22 16:09:36.011613' to '2023-03-22 16:12:55.455613'' successful.\n"
     ]
    }
   ],
   "source": [
    "ptq_series.plot_measurement_sensors(sensor_names=elasto_names)"
   ],
   "metadata": {
    "collapsed": false,
    "ExecuteTime": {
     "end_time": "2025-03-23T11:08:11.747739900Z",
     "start_time": "2025-03-23T11:08:06.554260500Z"
    }
   }
  },
  {
   "cell_type": "markdown",
   "metadata": {
    "collapsed": false
   },
   "source": [
    "## Bestimmung von Schwingungsparametern\n",
    "\n",
    "### Selektieren der relevanten Bereiche\n",
    "\n",
    "Selektiere die Bereiche nach dem Release, bei dem es zu einer harmonisch gedämpften Schwingung kommt. Die Methode Series.get_oscillations sucht im Standardfall nach einem Bereich in den Messdaten mit einer Länge von 20 Sekunden. Der Anfangszeitpunkt wird durch einen plötzlichen Abfall der Dehnung auf unter Null bestimmt, bei dem die Steigung mindestens -25 beträgt. Die Suche nach dem Startzeitpunkt beginnt erst 60 Sekunden nach Messungsbeginn. Der entsprechende Code befindet sich im Paket classes/measurement.py und utils/select_oscillation.py. Die so isolierten Bereiche werden als Instanzen der Klasse Oscillation initialisiert. Weitere Parameter wie Amplitude, Frequenz und Dämpfung werden direkt berechnet.\n",
    "Parameter:\n",
    "- sensor_names: Eine Liste der Sensornamen, für die die Schwingungsdaten identifiziert werden sollen.\n",
    "- min_time_default: Die Mindestzeitspanne nach Beginn der Messung, nach der die Suche nach Schwingungen beginnt (Standard: 60 Sekunden).\n",
    "- min_value: Der minimale Wertschwellenwert, damit Sensordaten als gültig betrachtet werden.\n",
    "- threshold_slope: Der Steigungsschwellenwert, um den Beginn einer Schwingung zu bestimmen.\n",
    "- duration: Die Dauer, für die die Schwingungsdaten extrahiert werden sollen."
   ]
  },
  {
   "cell_type": "code",
   "execution_count": 14,
   "metadata": {
    "collapsed": false,
    "ExecuteTime": {
     "end_time": "2025-03-23T11:08:12.287448400Z",
     "start_time": "2025-03-23T11:08:11.747739900Z"
    }
   },
   "outputs": [
    {
     "name": "stderr",
     "output_type": "stream",
     "text": [
      "2025-03-23 12:08:11 [\u001B[92mINFO\u001B[0m] treeqinetic.classes.series.get_oscillations: \n",
      " Select Oscillations for Measurement: 'PTQ_Meas_100346.txt', ID: 1, Start '2023-03-22 10:10:39.830198' to '2023-03-22 10:13:21.602198'\n",
      "2025-03-23 12:08:11 [\u001B[92mINFO\u001B[0m] treeqinetic.classes.series.get_oscillations: \n",
      " Select Oscillations for Measurement: 'PTQ_Meas_101814.txt', ID: 2, Start '2023-03-22 10:18:33.334820' to '2023-03-22 10:21:25.691820'\n",
      "2025-03-23 12:08:11 [\u001B[92mINFO\u001B[0m] treeqinetic.classes.series.get_oscillations: \n",
      " Select Oscillations for Measurement: 'PTQ_Meas_102314.txt', ID: 3, Start '2023-03-22 10:26:25.086505' to '2023-03-22 10:28:50.847505'\n",
      "2025-03-23 12:08:11 [\u001B[92mINFO\u001B[0m] treeqinetic.classes.series.get_oscillations: \n",
      " Select Oscillations for Measurement: 'PTQ_Meas_104400.txt', ID: 4, Start '2023-03-22 10:50:02.131987' to '2023-03-22 10:52:43.662987'\n",
      "2025-03-23 12:08:11 [\u001B[92mINFO\u001B[0m] treeqinetic.classes.series.get_oscillations: \n",
      " Select Oscillations for Measurement: 'PTQ_Meas_105549.txt', ID: 5, Start '2023-03-22 10:55:59.034260' to '2023-03-22 10:58:38.051260'\n",
      "2025-03-23 12:08:11 [\u001B[92mINFO\u001B[0m] treeqinetic.classes.series.get_oscillations: \n",
      " Select Oscillations for Measurement: 'PTQ_Meas_110107.txt', ID: 6, Start '2023-03-22 11:02:37.653620' to '2023-03-22 11:04:32.486620'\n",
      "2025-03-23 12:08:11 [\u001B[92mINFO\u001B[0m] treeqinetic.classes.series.get_oscillations: \n",
      " Select Oscillations for Measurement: 'PTQ_Meas_110558.txt', ID: 7, Start '2023-03-22 11:06:16.330019' to '2023-03-22 11:08:10.160019'\n",
      "2025-03-23 12:08:11 [\u001B[92mINFO\u001B[0m] treeqinetic.classes.series.get_oscillations: \n",
      " Select Oscillations for Measurement: 'PTQ_Meas_111019.txt', ID: 8, Start '2023-03-22 11:10:38.251994' to '2023-03-22 11:12:26.538994'\n",
      "2025-03-23 12:08:11 [\u001B[92mINFO\u001B[0m] treeqinetic.classes.series.get_oscillations: \n",
      " Select Oscillations for Measurement: 'PTQ_Meas_111713.txt', ID: 9, Start '2023-03-22 11:21:04.844142' to '2023-03-22 11:23:02.055142'\n",
      "2025-03-23 12:08:11 [\u001B[92mINFO\u001B[0m] treeqinetic.classes.series.get_oscillations: \n",
      " Select Oscillations for Measurement: 'PTQ_Meas_112120.txt', ID: 10, Start '2023-03-22 11:22:46.612488' to '2023-03-22 11:26:15.605488'\n",
      "2025-03-23 12:08:11 [\u001B[92mINFO\u001B[0m] treeqinetic.classes.series.get_oscillations: \n",
      " Select Oscillations for Measurement: 'PTQ_Meas_133316.txt', ID: 11, Start '2023-03-22 13:36:32.068787' to '2023-03-22 13:38:55.286787'\n",
      "2025-03-23 12:08:11 [\u001B[92mINFO\u001B[0m] treeqinetic.classes.series.get_oscillations: \n",
      " Select Oscillations for Measurement: 'PTQ_Meas_134053.txt', ID: 12, Start '2023-03-22 13:42:13.782157' to '2023-03-22 13:44:46.281157'\n",
      "2025-03-23 12:08:11 [\u001B[92mINFO\u001B[0m] treeqinetic.classes.series.get_oscillations: \n",
      " Select Oscillations for Measurement: 'PTQ_Meas_134807.txt', ID: 13, Start '2023-03-22 13:49:21.347406' to '2023-03-22 13:51:37.799406'\n",
      "2025-03-23 12:08:11 [\u001B[92mINFO\u001B[0m] treeqinetic.classes.series.get_oscillations: \n",
      " Select Oscillations for Measurement: 'PTQ_Meas_135705.txt', ID: 14, Start '2023-03-22 13:59:44.050912' to '2023-03-22 14:02:02.505912'\n",
      "2025-03-23 12:08:11 [\u001B[92mINFO\u001B[0m] treeqinetic.classes.series.get_oscillations: \n",
      " Select Oscillations for Measurement: 'PTQ_Meas_140149.txt', ID: 15, Start '2023-03-22 14:04:38.399621' to '2023-03-22 14:06:40.181621'\n",
      "2025-03-23 12:08:12 [\u001B[92mINFO\u001B[0m] treeqinetic.classes.series.get_oscillations: \n",
      " Select Oscillations for Measurement: 'PTQ_Meas_140551.txt', ID: 16, Start '2023-03-22 14:08:22.949140' to '2023-03-22 14:10:39.593140'\n",
      "2025-03-23 12:08:12 [\u001B[92mINFO\u001B[0m] treeqinetic.classes.series.get_oscillations: \n",
      " Select Oscillations for Measurement: 'PTQ_Meas_141006.txt', ID: 17, Start '2023-03-22 14:12:35.404214' to '2023-03-22 14:14:35.383214'\n",
      "2025-03-23 12:08:12 [\u001B[92mINFO\u001B[0m] treeqinetic.classes.series.get_oscillations: \n",
      " Select Oscillations for Measurement: 'PTQ_Meas_141437.txt', ID: 18, Start '2023-03-22 14:15:47.525869999' to '2023-03-22 14:18:26.172870'\n",
      "2025-03-23 12:08:12 [\u001B[92mINFO\u001B[0m] treeqinetic.classes.series.get_oscillations: \n",
      " Select Oscillations for Measurement: 'PTQ_Meas_141812.txt', ID: 19, Start '2023-03-22 14:20:37.937304' to '2023-03-22 14:22:53.243304'\n",
      "2025-03-23 12:08:12 [\u001B[92mINFO\u001B[0m] treeqinetic.classes.series.get_oscillations: \n",
      " Select Oscillations for Measurement: 'PTQ_Meas_150444.txt', ID: 20, Start '2023-03-22 15:07:26.211509' to '2023-03-22 15:09:24.888509'\n",
      "2025-03-23 12:08:12 [\u001B[92mINFO\u001B[0m] treeqinetic.classes.series.get_oscillations: \n",
      " Select Oscillations for Measurement: 'PTQ_Meas_151010.txt', ID: 21, Start '2023-03-22 15:11:29.776214' to '2023-03-22 15:14:08.830214'\n",
      "2025-03-23 12:08:12 [\u001B[92mINFO\u001B[0m] treeqinetic.classes.series.get_oscillations: \n",
      " Select Oscillations for Measurement: 'PTQ_Meas_151557.txt', ID: 22, Start '2023-03-22 15:16:01.811379' to '2023-03-22 15:20:03.954379'\n",
      "2025-03-23 12:08:12 [\u001B[92mINFO\u001B[0m] treeqinetic.classes.series.get_oscillations: \n",
      " Select Oscillations for Measurement: 'PTQ_Meas_153028.txt', ID: 23, Start '2023-03-22 15:30:29.626130' to '2023-03-22 15:32:42.861130'\n",
      "2025-03-23 12:08:12 [\u001B[92mINFO\u001B[0m] treeqinetic.classes.series.get_oscillations: \n",
      " Select Oscillations for Measurement: 'PTQ_Meas_153334.txt', ID: 24, Start '2023-03-22 15:36:28.333785' to '2023-03-22 15:39:10.601785'\n",
      "2025-03-23 12:08:12 [\u001B[92mINFO\u001B[0m] treeqinetic.classes.series.get_oscillations: \n",
      " Select Oscillations for Measurement: 'PTQ_Meas_153817.txt', ID: 25, Start '2023-03-22 15:39:36.853689' to '2023-03-22 15:45:22.562689'\n",
      "2025-03-23 12:08:12 [\u001B[92mINFO\u001B[0m] treeqinetic.classes.series.get_oscillations: \n",
      " Select Oscillations for Measurement: 'PTQ_Meas_154457.txt', ID: 26, Start '2023-03-22 15:53:18.604797' to '2023-03-22 15:56:04.346797'\n",
      "2025-03-23 12:08:12 [\u001B[92mINFO\u001B[0m] treeqinetic.classes.series.get_oscillations: \n",
      " Select Oscillations for Measurement: 'PTQ_Meas_155354.txt', ID: 27, Start '2023-03-22 15:53:59.248874' to '2023-03-22 15:57:16.416874'\n",
      "2025-03-23 12:08:12 [\u001B[92mINFO\u001B[0m] treeqinetic.classes.series.get_oscillations: \n",
      " Select Oscillations for Measurement: 'PTQ_Meas_155805.txt', ID: 28, Start '2023-03-22 15:59:19.859928' to '2023-03-22 16:00:54.129927999'\n",
      "2025-03-23 12:08:12 [\u001B[92mINFO\u001B[0m] treeqinetic.classes.series.get_oscillations: \n",
      " Select Oscillations for Measurement: 'PTQ_Meas_160907.txt', ID: 29, Start '2023-03-22 16:09:36.011613' to '2023-03-22 16:12:55.455613'\n"
     ]
    }
   ],
   "source": [
    "ptq_series.get_oscillations(\n",
    "    sensor_names=elasto_names,\n",
    "    min_time_default=60,\n",
    "    min_value=50,\n",
    "    threshold_slope=-50,\n",
    "    duration=17.5\n",
    ")"
   ]
  },
  {
   "cell_type": "markdown",
   "metadata": {
    "collapsed": false
   },
   "source": [
    "### Selektion optisch prüfen in Plots\n",
    "\n",
    "Plotten der relevanten Sensoren bzw. der selektierten Bereiche. Die Plots werden im Verzeichnis ptq/plots/select_oscillations_single/ bzw. ptq/plots/select_oscillations_combined/ gespeichert. In einem Combined-Plot werden alle 4 Elastometer einer Messung gemeinsam dargestellt. Hier wird manuell anhand der Plots geprüft, ob für alle Messungen und Sensoren der richtige Bereich ausgewählt wurde."
   ]
  },
  {
   "cell_type": "code",
   "execution_count": 15,
   "metadata": {
    "collapsed": false,
    "ExecuteTime": {
     "end_time": "2025-03-23T11:10:06.887377900Z",
     "start_time": "2025-03-23T11:08:12.279541100Z"
    }
   },
   "outputs": [
    {
     "name": "stderr",
     "output_type": "stream",
     "text": [
      "2025-03-23 12:08:12 [\u001B[92mINFO\u001B[0m] treeqinetic.classes.series.plot_oscillations_for_measurements: Plot Oscillations for Measurement: 'PTQ_Meas_100346.txt', ID: 1, Start '2023-03-22 10:10:39.830198' to '2023-03-22 10:13:21.602198'\n",
      "2025-03-23 12:08:12 [\u001B[92mINFO\u001B[0m] treeqinetic.classes.measurement._plot_single_oscillations: plot_select_oscillation for measurement: 'Measurement: 'PTQ_Meas_100346.txt', ID: 1, Start '2023-03-22 10:10:39.830198' to '2023-03-22 10:13:21.602198'' for Elasto(95) successful.\n",
      "2025-03-23 12:08:13 [\u001B[92mINFO\u001B[0m] treeqinetic.classes.measurement._plot_single_oscillations: plot_select_oscillation for measurement: 'Measurement: 'PTQ_Meas_100346.txt', ID: 1, Start '2023-03-22 10:10:39.830198' to '2023-03-22 10:13:21.602198'' for Elasto(98) successful.\n",
      "2025-03-23 12:08:13 [\u001B[92mINFO\u001B[0m] treeqinetic.classes.measurement._plot_single_oscillations: plot_select_oscillation for measurement: 'Measurement: 'PTQ_Meas_100346.txt', ID: 1, Start '2023-03-22 10:10:39.830198' to '2023-03-22 10:13:21.602198'' for Elasto(92) successful.\n",
      "2025-03-23 12:08:14 [\u001B[92mINFO\u001B[0m] treeqinetic.classes.measurement._plot_single_oscillations: plot_select_oscillation for measurement: 'Measurement: 'PTQ_Meas_100346.txt', ID: 1, Start '2023-03-22 10:10:39.830198' to '2023-03-22 10:13:21.602198'' for Elasto(90) successful.\n",
      "2025-03-23 12:08:14 [\u001B[92mINFO\u001B[0m] treeqinetic.classes.series.plot_oscillations_for_measurements: Plot Oscillations for Measurement: 'PTQ_Meas_101814.txt', ID: 2, Start '2023-03-22 10:18:33.334820' to '2023-03-22 10:21:25.691820'\n",
      "2025-03-23 12:08:15 [\u001B[92mINFO\u001B[0m] treeqinetic.classes.measurement._plot_single_oscillations: plot_select_oscillation for measurement: 'Measurement: 'PTQ_Meas_101814.txt', ID: 2, Start '2023-03-22 10:18:33.334820' to '2023-03-22 10:21:25.691820'' for Elasto(95) successful.\n",
      "2025-03-23 12:08:15 [\u001B[92mINFO\u001B[0m] treeqinetic.classes.measurement._plot_single_oscillations: plot_select_oscillation for measurement: 'Measurement: 'PTQ_Meas_101814.txt', ID: 2, Start '2023-03-22 10:18:33.334820' to '2023-03-22 10:21:25.691820'' for Elasto(98) successful.\n",
      "2025-03-23 12:08:16 [\u001B[92mINFO\u001B[0m] treeqinetic.classes.measurement._plot_single_oscillations: plot_select_oscillation for measurement: 'Measurement: 'PTQ_Meas_101814.txt', ID: 2, Start '2023-03-22 10:18:33.334820' to '2023-03-22 10:21:25.691820'' for Elasto(92) successful.\n",
      "2025-03-23 12:08:16 [\u001B[92mINFO\u001B[0m] treeqinetic.classes.measurement._plot_single_oscillations: plot_select_oscillation for measurement: 'Measurement: 'PTQ_Meas_101814.txt', ID: 2, Start '2023-03-22 10:18:33.334820' to '2023-03-22 10:21:25.691820'' for Elasto(90) successful.\n",
      "2025-03-23 12:08:16 [\u001B[92mINFO\u001B[0m] treeqinetic.classes.series.plot_oscillations_for_measurements: Plot Oscillations for Measurement: 'PTQ_Meas_102314.txt', ID: 3, Start '2023-03-22 10:26:25.086505' to '2023-03-22 10:28:50.847505'\n",
      "2025-03-23 12:08:17 [\u001B[92mINFO\u001B[0m] treeqinetic.classes.measurement._plot_single_oscillations: plot_select_oscillation for measurement: 'Measurement: 'PTQ_Meas_102314.txt', ID: 3, Start '2023-03-22 10:26:25.086505' to '2023-03-22 10:28:50.847505'' for Elasto(95) successful.\n",
      "2025-03-23 12:08:17 [\u001B[92mINFO\u001B[0m] treeqinetic.classes.measurement._plot_single_oscillations: plot_select_oscillation for measurement: 'Measurement: 'PTQ_Meas_102314.txt', ID: 3, Start '2023-03-22 10:26:25.086505' to '2023-03-22 10:28:50.847505'' for Elasto(98) successful.\n",
      "2025-03-23 12:08:17 [\u001B[92mINFO\u001B[0m] treeqinetic.classes.measurement._plot_single_oscillations: plot_select_oscillation for measurement: 'Measurement: 'PTQ_Meas_102314.txt', ID: 3, Start '2023-03-22 10:26:25.086505' to '2023-03-22 10:28:50.847505'' for Elasto(92) successful.\n",
      "2025-03-23 12:08:18 [\u001B[92mINFO\u001B[0m] treeqinetic.classes.measurement._plot_single_oscillations: plot_select_oscillation for measurement: 'Measurement: 'PTQ_Meas_102314.txt', ID: 3, Start '2023-03-22 10:26:25.086505' to '2023-03-22 10:28:50.847505'' for Elasto(90) successful.\n",
      "2025-03-23 12:08:18 [\u001B[92mINFO\u001B[0m] treeqinetic.classes.series.plot_oscillations_for_measurements: Plot Oscillations for Measurement: 'PTQ_Meas_104400.txt', ID: 4, Start '2023-03-22 10:50:02.131987' to '2023-03-22 10:52:43.662987'\n",
      "2025-03-23 12:08:18 [\u001B[92mINFO\u001B[0m] treeqinetic.classes.measurement._plot_single_oscillations: plot_select_oscillation for measurement: 'Measurement: 'PTQ_Meas_104400.txt', ID: 4, Start '2023-03-22 10:50:02.131987' to '2023-03-22 10:52:43.662987'' for Elasto(95) successful.\n",
      "2025-03-23 12:08:19 [\u001B[92mINFO\u001B[0m] treeqinetic.classes.measurement._plot_single_oscillations: plot_select_oscillation for measurement: 'Measurement: 'PTQ_Meas_104400.txt', ID: 4, Start '2023-03-22 10:50:02.131987' to '2023-03-22 10:52:43.662987'' for Elasto(98) successful.\n",
      "2025-03-23 12:08:19 [\u001B[92mINFO\u001B[0m] treeqinetic.classes.measurement._plot_single_oscillations: plot_select_oscillation for measurement: 'Measurement: 'PTQ_Meas_104400.txt', ID: 4, Start '2023-03-22 10:50:02.131987' to '2023-03-22 10:52:43.662987'' for Elasto(92) successful.\n",
      "2025-03-23 12:08:19 [\u001B[92mINFO\u001B[0m] treeqinetic.classes.measurement._plot_single_oscillations: plot_select_oscillation for measurement: 'Measurement: 'PTQ_Meas_104400.txt', ID: 4, Start '2023-03-22 10:50:02.131987' to '2023-03-22 10:52:43.662987'' for Elasto(90) successful.\n",
      "2025-03-23 12:08:19 [\u001B[92mINFO\u001B[0m] treeqinetic.classes.series.plot_oscillations_for_measurements: Plot Oscillations for Measurement: 'PTQ_Meas_105549.txt', ID: 5, Start '2023-03-22 10:55:59.034260' to '2023-03-22 10:58:38.051260'\n",
      "2025-03-23 12:08:20 [\u001B[92mINFO\u001B[0m] treeqinetic.classes.measurement._plot_single_oscillations: plot_select_oscillation for measurement: 'Measurement: 'PTQ_Meas_105549.txt', ID: 5, Start '2023-03-22 10:55:59.034260' to '2023-03-22 10:58:38.051260'' for Elasto(95) successful.\n",
      "2025-03-23 12:08:20 [\u001B[92mINFO\u001B[0m] treeqinetic.classes.measurement._plot_single_oscillations: plot_select_oscillation for measurement: 'Measurement: 'PTQ_Meas_105549.txt', ID: 5, Start '2023-03-22 10:55:59.034260' to '2023-03-22 10:58:38.051260'' for Elasto(98) successful.\n",
      "2025-03-23 12:08:20 [\u001B[92mINFO\u001B[0m] treeqinetic.classes.measurement._plot_single_oscillations: plot_select_oscillation for measurement: 'Measurement: 'PTQ_Meas_105549.txt', ID: 5, Start '2023-03-22 10:55:59.034260' to '2023-03-22 10:58:38.051260'' for Elasto(92) successful.\n",
      "2025-03-23 12:08:21 [\u001B[92mINFO\u001B[0m] treeqinetic.classes.measurement._plot_single_oscillations: plot_select_oscillation for measurement: 'Measurement: 'PTQ_Meas_105549.txt', ID: 5, Start '2023-03-22 10:55:59.034260' to '2023-03-22 10:58:38.051260'' for Elasto(90) successful.\n",
      "2025-03-23 12:08:21 [\u001B[92mINFO\u001B[0m] treeqinetic.classes.series.plot_oscillations_for_measurements: Plot Oscillations for Measurement: 'PTQ_Meas_110107.txt', ID: 6, Start '2023-03-22 11:02:37.653620' to '2023-03-22 11:04:32.486620'\n",
      "2025-03-23 12:08:21 [\u001B[92mINFO\u001B[0m] treeqinetic.classes.measurement._plot_single_oscillations: plot_select_oscillation for measurement: 'Measurement: 'PTQ_Meas_110107.txt', ID: 6, Start '2023-03-22 11:02:37.653620' to '2023-03-22 11:04:32.486620'' for Elasto(95) successful.\n",
      "2025-03-23 12:08:21 [\u001B[92mINFO\u001B[0m] treeqinetic.classes.measurement._plot_single_oscillations: plot_select_oscillation for measurement: 'Measurement: 'PTQ_Meas_110107.txt', ID: 6, Start '2023-03-22 11:02:37.653620' to '2023-03-22 11:04:32.486620'' for Elasto(98) successful.\n",
      "2025-03-23 12:08:22 [\u001B[92mINFO\u001B[0m] treeqinetic.classes.measurement._plot_single_oscillations: plot_select_oscillation for measurement: 'Measurement: 'PTQ_Meas_110107.txt', ID: 6, Start '2023-03-22 11:02:37.653620' to '2023-03-22 11:04:32.486620'' for Elasto(92) successful.\n",
      "2025-03-23 12:08:22 [\u001B[92mINFO\u001B[0m] treeqinetic.classes.measurement._plot_single_oscillations: plot_select_oscillation for measurement: 'Measurement: 'PTQ_Meas_110107.txt', ID: 6, Start '2023-03-22 11:02:37.653620' to '2023-03-22 11:04:32.486620'' for Elasto(90) successful.\n",
      "2025-03-23 12:08:22 [\u001B[92mINFO\u001B[0m] treeqinetic.classes.series.plot_oscillations_for_measurements: Plot Oscillations for Measurement: 'PTQ_Meas_110558.txt', ID: 7, Start '2023-03-22 11:06:16.330019' to '2023-03-22 11:08:10.160019'\n",
      "2025-03-23 12:08:22 [\u001B[92mINFO\u001B[0m] treeqinetic.classes.measurement._plot_single_oscillations: plot_select_oscillation for measurement: 'Measurement: 'PTQ_Meas_110558.txt', ID: 7, Start '2023-03-22 11:06:16.330019' to '2023-03-22 11:08:10.160019'' for Elasto(95) successful.\n",
      "2025-03-23 12:08:23 [\u001B[92mINFO\u001B[0m] treeqinetic.classes.measurement._plot_single_oscillations: plot_select_oscillation for measurement: 'Measurement: 'PTQ_Meas_110558.txt', ID: 7, Start '2023-03-22 11:06:16.330019' to '2023-03-22 11:08:10.160019'' for Elasto(98) successful.\n",
      "2025-03-23 12:08:23 [\u001B[92mINFO\u001B[0m] treeqinetic.classes.measurement._plot_single_oscillations: plot_select_oscillation for measurement: 'Measurement: 'PTQ_Meas_110558.txt', ID: 7, Start '2023-03-22 11:06:16.330019' to '2023-03-22 11:08:10.160019'' for Elasto(92) successful.\n",
      "2025-03-23 12:08:24 [\u001B[92mINFO\u001B[0m] treeqinetic.classes.measurement._plot_single_oscillations: plot_select_oscillation for measurement: 'Measurement: 'PTQ_Meas_110558.txt', ID: 7, Start '2023-03-22 11:06:16.330019' to '2023-03-22 11:08:10.160019'' for Elasto(90) successful.\n",
      "2025-03-23 12:08:24 [\u001B[92mINFO\u001B[0m] treeqinetic.classes.series.plot_oscillations_for_measurements: Plot Oscillations for Measurement: 'PTQ_Meas_111019.txt', ID: 8, Start '2023-03-22 11:10:38.251994' to '2023-03-22 11:12:26.538994'\n",
      "2025-03-23 12:08:24 [\u001B[92mINFO\u001B[0m] treeqinetic.classes.measurement._plot_single_oscillations: plot_select_oscillation for measurement: 'Measurement: 'PTQ_Meas_111019.txt', ID: 8, Start '2023-03-22 11:10:38.251994' to '2023-03-22 11:12:26.538994'' for Elasto(95) successful.\n",
      "2025-03-23 12:08:24 [\u001B[92mINFO\u001B[0m] treeqinetic.classes.measurement._plot_single_oscillations: plot_select_oscillation for measurement: 'Measurement: 'PTQ_Meas_111019.txt', ID: 8, Start '2023-03-22 11:10:38.251994' to '2023-03-22 11:12:26.538994'' for Elasto(98) successful.\n",
      "2025-03-23 12:08:25 [\u001B[92mINFO\u001B[0m] treeqinetic.classes.measurement._plot_single_oscillations: plot_select_oscillation for measurement: 'Measurement: 'PTQ_Meas_111019.txt', ID: 8, Start '2023-03-22 11:10:38.251994' to '2023-03-22 11:12:26.538994'' for Elasto(92) successful.\n",
      "2025-03-23 12:08:25 [\u001B[92mINFO\u001B[0m] treeqinetic.classes.measurement._plot_single_oscillations: plot_select_oscillation for measurement: 'Measurement: 'PTQ_Meas_111019.txt', ID: 8, Start '2023-03-22 11:10:38.251994' to '2023-03-22 11:12:26.538994'' for Elasto(90) successful.\n",
      "2025-03-23 12:08:25 [\u001B[92mINFO\u001B[0m] treeqinetic.classes.series.plot_oscillations_for_measurements: Plot Oscillations for Measurement: 'PTQ_Meas_111713.txt', ID: 9, Start '2023-03-22 11:21:04.844142' to '2023-03-22 11:23:02.055142'\n",
      "2025-03-23 12:08:25 [\u001B[92mINFO\u001B[0m] treeqinetic.classes.measurement._plot_single_oscillations: plot_select_oscillation for measurement: 'Measurement: 'PTQ_Meas_111713.txt', ID: 9, Start '2023-03-22 11:21:04.844142' to '2023-03-22 11:23:02.055142'' for Elasto(95) successful.\n",
      "2025-03-23 12:08:26 [\u001B[92mINFO\u001B[0m] treeqinetic.classes.measurement._plot_single_oscillations: plot_select_oscillation for measurement: 'Measurement: 'PTQ_Meas_111713.txt', ID: 9, Start '2023-03-22 11:21:04.844142' to '2023-03-22 11:23:02.055142'' for Elasto(98) successful.\n",
      "2025-03-23 12:08:26 [\u001B[92mINFO\u001B[0m] treeqinetic.classes.measurement._plot_single_oscillations: plot_select_oscillation for measurement: 'Measurement: 'PTQ_Meas_111713.txt', ID: 9, Start '2023-03-22 11:21:04.844142' to '2023-03-22 11:23:02.055142'' for Elasto(92) successful.\n",
      "2025-03-23 12:08:26 [\u001B[92mINFO\u001B[0m] treeqinetic.classes.measurement._plot_single_oscillations: plot_select_oscillation for measurement: 'Measurement: 'PTQ_Meas_111713.txt', ID: 9, Start '2023-03-22 11:21:04.844142' to '2023-03-22 11:23:02.055142'' for Elasto(90) successful.\n",
      "2025-03-23 12:08:26 [\u001B[92mINFO\u001B[0m] treeqinetic.classes.series.plot_oscillations_for_measurements: Plot Oscillations for Measurement: 'PTQ_Meas_112120.txt', ID: 10, Start '2023-03-22 11:22:46.612488' to '2023-03-22 11:26:15.605488'\n",
      "2025-03-23 12:08:27 [\u001B[92mINFO\u001B[0m] treeqinetic.classes.measurement._plot_single_oscillations: plot_select_oscillation for measurement: 'Measurement: 'PTQ_Meas_112120.txt', ID: 10, Start '2023-03-22 11:22:46.612488' to '2023-03-22 11:26:15.605488'' for Elasto(95) successful.\n",
      "2025-03-23 12:08:27 [\u001B[92mINFO\u001B[0m] treeqinetic.classes.measurement._plot_single_oscillations: plot_select_oscillation for measurement: 'Measurement: 'PTQ_Meas_112120.txt', ID: 10, Start '2023-03-22 11:22:46.612488' to '2023-03-22 11:26:15.605488'' for Elasto(98) successful.\n",
      "2025-03-23 12:08:27 [\u001B[92mINFO\u001B[0m] treeqinetic.classes.measurement._plot_single_oscillations: plot_select_oscillation for measurement: 'Measurement: 'PTQ_Meas_112120.txt', ID: 10, Start '2023-03-22 11:22:46.612488' to '2023-03-22 11:26:15.605488'' for Elasto(92) successful.\n",
      "2025-03-23 12:08:28 [\u001B[92mINFO\u001B[0m] treeqinetic.classes.measurement._plot_single_oscillations: plot_select_oscillation for measurement: 'Measurement: 'PTQ_Meas_112120.txt', ID: 10, Start '2023-03-22 11:22:46.612488' to '2023-03-22 11:26:15.605488'' for Elasto(90) successful.\n",
      "2025-03-23 12:08:28 [\u001B[92mINFO\u001B[0m] treeqinetic.classes.series.plot_oscillations_for_measurements: Plot Oscillations for Measurement: 'PTQ_Meas_133316.txt', ID: 11, Start '2023-03-22 13:36:32.068787' to '2023-03-22 13:38:55.286787'\n",
      "2025-03-23 12:08:28 [\u001B[92mINFO\u001B[0m] treeqinetic.classes.measurement._plot_single_oscillations: plot_select_oscillation for measurement: 'Measurement: 'PTQ_Meas_133316.txt', ID: 11, Start '2023-03-22 13:36:32.068787' to '2023-03-22 13:38:55.286787'' for Elasto(95) successful.\n",
      "2025-03-23 12:08:28 [\u001B[92mINFO\u001B[0m] treeqinetic.classes.measurement._plot_single_oscillations: plot_select_oscillation for measurement: 'Measurement: 'PTQ_Meas_133316.txt', ID: 11, Start '2023-03-22 13:36:32.068787' to '2023-03-22 13:38:55.286787'' for Elasto(98) successful.\n",
      "2025-03-23 12:08:29 [\u001B[92mINFO\u001B[0m] treeqinetic.classes.measurement._plot_single_oscillations: plot_select_oscillation for measurement: 'Measurement: 'PTQ_Meas_133316.txt', ID: 11, Start '2023-03-22 13:36:32.068787' to '2023-03-22 13:38:55.286787'' for Elasto(92) successful.\n",
      "2025-03-23 12:08:29 [\u001B[92mINFO\u001B[0m] treeqinetic.classes.measurement._plot_single_oscillations: plot_select_oscillation for measurement: 'Measurement: 'PTQ_Meas_133316.txt', ID: 11, Start '2023-03-22 13:36:32.068787' to '2023-03-22 13:38:55.286787'' for Elasto(90) successful.\n",
      "2025-03-23 12:08:29 [\u001B[92mINFO\u001B[0m] treeqinetic.classes.series.plot_oscillations_for_measurements: Plot Oscillations for Measurement: 'PTQ_Meas_134053.txt', ID: 12, Start '2023-03-22 13:42:13.782157' to '2023-03-22 13:44:46.281157'\n",
      "2025-03-23 12:08:29 [\u001B[92mINFO\u001B[0m] treeqinetic.classes.measurement._plot_single_oscillations: plot_select_oscillation for measurement: 'Measurement: 'PTQ_Meas_134053.txt', ID: 12, Start '2023-03-22 13:42:13.782157' to '2023-03-22 13:44:46.281157'' for Elasto(95) successful.\n",
      "2025-03-23 12:08:30 [\u001B[92mINFO\u001B[0m] treeqinetic.classes.measurement._plot_single_oscillations: plot_select_oscillation for measurement: 'Measurement: 'PTQ_Meas_134053.txt', ID: 12, Start '2023-03-22 13:42:13.782157' to '2023-03-22 13:44:46.281157'' for Elasto(98) successful.\n",
      "2025-03-23 12:08:30 [\u001B[92mINFO\u001B[0m] treeqinetic.classes.measurement._plot_single_oscillations: plot_select_oscillation for measurement: 'Measurement: 'PTQ_Meas_134053.txt', ID: 12, Start '2023-03-22 13:42:13.782157' to '2023-03-22 13:44:46.281157'' for Elasto(92) successful.\n",
      "2025-03-23 12:08:31 [\u001B[92mINFO\u001B[0m] treeqinetic.classes.measurement._plot_single_oscillations: plot_select_oscillation for measurement: 'Measurement: 'PTQ_Meas_134053.txt', ID: 12, Start '2023-03-22 13:42:13.782157' to '2023-03-22 13:44:46.281157'' for Elasto(90) successful.\n",
      "2025-03-23 12:08:31 [\u001B[92mINFO\u001B[0m] treeqinetic.classes.series.plot_oscillations_for_measurements: Plot Oscillations for Measurement: 'PTQ_Meas_134807.txt', ID: 13, Start '2023-03-22 13:49:21.347406' to '2023-03-22 13:51:37.799406'\n",
      "2025-03-23 12:08:31 [\u001B[92mINFO\u001B[0m] treeqinetic.classes.measurement._plot_single_oscillations: plot_select_oscillation for measurement: 'Measurement: 'PTQ_Meas_134807.txt', ID: 13, Start '2023-03-22 13:49:21.347406' to '2023-03-22 13:51:37.799406'' for Elasto(95) successful.\n",
      "2025-03-23 12:08:31 [\u001B[92mINFO\u001B[0m] treeqinetic.classes.measurement._plot_single_oscillations: plot_select_oscillation for measurement: 'Measurement: 'PTQ_Meas_134807.txt', ID: 13, Start '2023-03-22 13:49:21.347406' to '2023-03-22 13:51:37.799406'' for Elasto(98) successful.\n",
      "2025-03-23 12:08:32 [\u001B[92mINFO\u001B[0m] treeqinetic.classes.measurement._plot_single_oscillations: plot_select_oscillation for measurement: 'Measurement: 'PTQ_Meas_134807.txt', ID: 13, Start '2023-03-22 13:49:21.347406' to '2023-03-22 13:51:37.799406'' for Elasto(92) successful.\n",
      "2025-03-23 12:08:32 [\u001B[92mINFO\u001B[0m] treeqinetic.classes.measurement._plot_single_oscillations: plot_select_oscillation for measurement: 'Measurement: 'PTQ_Meas_134807.txt', ID: 13, Start '2023-03-22 13:49:21.347406' to '2023-03-22 13:51:37.799406'' for Elasto(90) successful.\n",
      "2025-03-23 12:08:32 [\u001B[92mINFO\u001B[0m] treeqinetic.classes.series.plot_oscillations_for_measurements: Plot Oscillations for Measurement: 'PTQ_Meas_135705.txt', ID: 14, Start '2023-03-22 13:59:44.050912' to '2023-03-22 14:02:02.505912'\n",
      "2025-03-23 12:08:32 [\u001B[92mINFO\u001B[0m] treeqinetic.classes.measurement._plot_single_oscillations: plot_select_oscillation for measurement: 'Measurement: 'PTQ_Meas_135705.txt', ID: 14, Start '2023-03-22 13:59:44.050912' to '2023-03-22 14:02:02.505912'' for Elasto(95) successful.\n",
      "2025-03-23 12:08:33 [\u001B[92mINFO\u001B[0m] treeqinetic.classes.measurement._plot_single_oscillations: plot_select_oscillation for measurement: 'Measurement: 'PTQ_Meas_135705.txt', ID: 14, Start '2023-03-22 13:59:44.050912' to '2023-03-22 14:02:02.505912'' for Elasto(98) successful.\n",
      "2025-03-23 12:08:33 [\u001B[92mINFO\u001B[0m] treeqinetic.classes.measurement._plot_single_oscillations: plot_select_oscillation for measurement: 'Measurement: 'PTQ_Meas_135705.txt', ID: 14, Start '2023-03-22 13:59:44.050912' to '2023-03-22 14:02:02.505912'' for Elasto(92) successful.\n",
      "2025-03-23 12:08:34 [\u001B[92mINFO\u001B[0m] treeqinetic.classes.measurement._plot_single_oscillations: plot_select_oscillation for measurement: 'Measurement: 'PTQ_Meas_135705.txt', ID: 14, Start '2023-03-22 13:59:44.050912' to '2023-03-22 14:02:02.505912'' for Elasto(90) successful.\n",
      "2025-03-23 12:08:34 [\u001B[92mINFO\u001B[0m] treeqinetic.classes.series.plot_oscillations_for_measurements: Plot Oscillations for Measurement: 'PTQ_Meas_140149.txt', ID: 15, Start '2023-03-22 14:04:38.399621' to '2023-03-22 14:06:40.181621'\n",
      "2025-03-23 12:08:34 [\u001B[92mINFO\u001B[0m] treeqinetic.classes.measurement._plot_single_oscillations: plot_select_oscillation for measurement: 'Measurement: 'PTQ_Meas_140149.txt', ID: 15, Start '2023-03-22 14:04:38.399621' to '2023-03-22 14:06:40.181621'' for Elasto(95) successful.\n",
      "2025-03-23 12:08:34 [\u001B[92mINFO\u001B[0m] treeqinetic.classes.measurement._plot_single_oscillations: plot_select_oscillation for measurement: 'Measurement: 'PTQ_Meas_140149.txt', ID: 15, Start '2023-03-22 14:04:38.399621' to '2023-03-22 14:06:40.181621'' for Elasto(98) successful.\n",
      "2025-03-23 12:08:35 [\u001B[92mINFO\u001B[0m] treeqinetic.classes.measurement._plot_single_oscillations: plot_select_oscillation for measurement: 'Measurement: 'PTQ_Meas_140149.txt', ID: 15, Start '2023-03-22 14:04:38.399621' to '2023-03-22 14:06:40.181621'' for Elasto(92) successful.\n",
      "2025-03-23 12:08:35 [\u001B[92mINFO\u001B[0m] treeqinetic.classes.measurement._plot_single_oscillations: plot_select_oscillation for measurement: 'Measurement: 'PTQ_Meas_140149.txt', ID: 15, Start '2023-03-22 14:04:38.399621' to '2023-03-22 14:06:40.181621'' for Elasto(90) successful.\n",
      "2025-03-23 12:08:35 [\u001B[92mINFO\u001B[0m] treeqinetic.classes.series.plot_oscillations_for_measurements: Plot Oscillations for Measurement: 'PTQ_Meas_140551.txt', ID: 16, Start '2023-03-22 14:08:22.949140' to '2023-03-22 14:10:39.593140'\n",
      "2025-03-23 12:08:35 [\u001B[92mINFO\u001B[0m] treeqinetic.classes.measurement._plot_single_oscillations: plot_select_oscillation for measurement: 'Measurement: 'PTQ_Meas_140551.txt', ID: 16, Start '2023-03-22 14:08:22.949140' to '2023-03-22 14:10:39.593140'' for Elasto(95) successful.\n",
      "2025-03-23 12:08:36 [\u001B[92mINFO\u001B[0m] treeqinetic.classes.measurement._plot_single_oscillations: plot_select_oscillation for measurement: 'Measurement: 'PTQ_Meas_140551.txt', ID: 16, Start '2023-03-22 14:08:22.949140' to '2023-03-22 14:10:39.593140'' for Elasto(98) successful.\n",
      "2025-03-23 12:08:36 [\u001B[92mINFO\u001B[0m] treeqinetic.classes.measurement._plot_single_oscillations: plot_select_oscillation for measurement: 'Measurement: 'PTQ_Meas_140551.txt', ID: 16, Start '2023-03-22 14:08:22.949140' to '2023-03-22 14:10:39.593140'' for Elasto(92) successful.\n",
      "2025-03-23 12:08:36 [\u001B[92mINFO\u001B[0m] treeqinetic.classes.measurement._plot_single_oscillations: plot_select_oscillation for measurement: 'Measurement: 'PTQ_Meas_140551.txt', ID: 16, Start '2023-03-22 14:08:22.949140' to '2023-03-22 14:10:39.593140'' for Elasto(90) successful.\n",
      "2025-03-23 12:08:36 [\u001B[92mINFO\u001B[0m] treeqinetic.classes.series.plot_oscillations_for_measurements: Plot Oscillations for Measurement: 'PTQ_Meas_141006.txt', ID: 17, Start '2023-03-22 14:12:35.404214' to '2023-03-22 14:14:35.383214'\n",
      "2025-03-23 12:08:37 [\u001B[92mINFO\u001B[0m] treeqinetic.classes.measurement._plot_single_oscillations: plot_select_oscillation for measurement: 'Measurement: 'PTQ_Meas_141006.txt', ID: 17, Start '2023-03-22 14:12:35.404214' to '2023-03-22 14:14:35.383214'' for Elasto(95) successful.\n",
      "2025-03-23 12:08:37 [\u001B[92mINFO\u001B[0m] treeqinetic.classes.measurement._plot_single_oscillations: plot_select_oscillation for measurement: 'Measurement: 'PTQ_Meas_141006.txt', ID: 17, Start '2023-03-22 14:12:35.404214' to '2023-03-22 14:14:35.383214'' for Elasto(98) successful.\n",
      "2025-03-23 12:08:38 [\u001B[92mINFO\u001B[0m] treeqinetic.classes.measurement._plot_single_oscillations: plot_select_oscillation for measurement: 'Measurement: 'PTQ_Meas_141006.txt', ID: 17, Start '2023-03-22 14:12:35.404214' to '2023-03-22 14:14:35.383214'' for Elasto(92) successful.\n",
      "2025-03-23 12:08:38 [\u001B[92mINFO\u001B[0m] treeqinetic.classes.measurement._plot_single_oscillations: plot_select_oscillation for measurement: 'Measurement: 'PTQ_Meas_141006.txt', ID: 17, Start '2023-03-22 14:12:35.404214' to '2023-03-22 14:14:35.383214'' for Elasto(90) successful.\n",
      "2025-03-23 12:08:38 [\u001B[92mINFO\u001B[0m] treeqinetic.classes.series.plot_oscillations_for_measurements: Plot Oscillations for Measurement: 'PTQ_Meas_141437.txt', ID: 18, Start '2023-03-22 14:15:47.525869999' to '2023-03-22 14:18:26.172870'\n",
      "2025-03-23 12:08:38 [\u001B[92mINFO\u001B[0m] treeqinetic.classes.measurement._plot_single_oscillations: plot_select_oscillation for measurement: 'Measurement: 'PTQ_Meas_141437.txt', ID: 18, Start '2023-03-22 14:15:47.525869999' to '2023-03-22 14:18:26.172870'' for Elasto(95) successful.\n",
      "2025-03-23 12:08:39 [\u001B[92mINFO\u001B[0m] treeqinetic.classes.measurement._plot_single_oscillations: plot_select_oscillation for measurement: 'Measurement: 'PTQ_Meas_141437.txt', ID: 18, Start '2023-03-22 14:15:47.525869999' to '2023-03-22 14:18:26.172870'' for Elasto(98) successful.\n",
      "2025-03-23 12:08:39 [\u001B[92mINFO\u001B[0m] treeqinetic.classes.measurement._plot_single_oscillations: plot_select_oscillation for measurement: 'Measurement: 'PTQ_Meas_141437.txt', ID: 18, Start '2023-03-22 14:15:47.525869999' to '2023-03-22 14:18:26.172870'' for Elasto(92) successful.\n",
      "2025-03-23 12:08:39 [\u001B[92mINFO\u001B[0m] treeqinetic.classes.measurement._plot_single_oscillations: plot_select_oscillation for measurement: 'Measurement: 'PTQ_Meas_141437.txt', ID: 18, Start '2023-03-22 14:15:47.525869999' to '2023-03-22 14:18:26.172870'' for Elasto(90) successful.\n",
      "2025-03-23 12:08:39 [\u001B[92mINFO\u001B[0m] treeqinetic.classes.series.plot_oscillations_for_measurements: Plot Oscillations for Measurement: 'PTQ_Meas_141812.txt', ID: 19, Start '2023-03-22 14:20:37.937304' to '2023-03-22 14:22:53.243304'\n",
      "2025-03-23 12:08:40 [\u001B[92mINFO\u001B[0m] treeqinetic.classes.measurement._plot_single_oscillations: plot_select_oscillation for measurement: 'Measurement: 'PTQ_Meas_141812.txt', ID: 19, Start '2023-03-22 14:20:37.937304' to '2023-03-22 14:22:53.243304'' for Elasto(95) successful.\n",
      "2025-03-23 12:08:40 [\u001B[92mINFO\u001B[0m] treeqinetic.classes.measurement._plot_single_oscillations: plot_select_oscillation for measurement: 'Measurement: 'PTQ_Meas_141812.txt', ID: 19, Start '2023-03-22 14:20:37.937304' to '2023-03-22 14:22:53.243304'' for Elasto(98) successful.\n",
      "2025-03-23 12:08:40 [\u001B[92mINFO\u001B[0m] treeqinetic.classes.measurement._plot_single_oscillations: plot_select_oscillation for measurement: 'Measurement: 'PTQ_Meas_141812.txt', ID: 19, Start '2023-03-22 14:20:37.937304' to '2023-03-22 14:22:53.243304'' for Elasto(92) successful.\n",
      "2025-03-23 12:08:41 [\u001B[92mINFO\u001B[0m] treeqinetic.classes.measurement._plot_single_oscillations: plot_select_oscillation for measurement: 'Measurement: 'PTQ_Meas_141812.txt', ID: 19, Start '2023-03-22 14:20:37.937304' to '2023-03-22 14:22:53.243304'' for Elasto(90) successful.\n",
      "2025-03-23 12:08:41 [\u001B[92mINFO\u001B[0m] treeqinetic.classes.series.plot_oscillations_for_measurements: Plot Oscillations for Measurement: 'PTQ_Meas_150444.txt', ID: 20, Start '2023-03-22 15:07:26.211509' to '2023-03-22 15:09:24.888509'\n",
      "2025-03-23 12:08:41 [\u001B[92mINFO\u001B[0m] treeqinetic.classes.measurement._plot_single_oscillations: plot_select_oscillation for measurement: 'Measurement: 'PTQ_Meas_150444.txt', ID: 20, Start '2023-03-22 15:07:26.211509' to '2023-03-22 15:09:24.888509'' for Elasto(95) successful.\n",
      "2025-03-23 12:08:41 [\u001B[92mINFO\u001B[0m] treeqinetic.classes.measurement._plot_single_oscillations: plot_select_oscillation for measurement: 'Measurement: 'PTQ_Meas_150444.txt', ID: 20, Start '2023-03-22 15:07:26.211509' to '2023-03-22 15:09:24.888509'' for Elasto(98) successful.\n",
      "2025-03-23 12:08:42 [\u001B[92mINFO\u001B[0m] treeqinetic.classes.measurement._plot_single_oscillations: plot_select_oscillation for measurement: 'Measurement: 'PTQ_Meas_150444.txt', ID: 20, Start '2023-03-22 15:07:26.211509' to '2023-03-22 15:09:24.888509'' for Elasto(92) successful.\n",
      "2025-03-23 12:08:42 [\u001B[92mINFO\u001B[0m] treeqinetic.classes.measurement._plot_single_oscillations: plot_select_oscillation for measurement: 'Measurement: 'PTQ_Meas_150444.txt', ID: 20, Start '2023-03-22 15:07:26.211509' to '2023-03-22 15:09:24.888509'' for Elasto(90) successful.\n",
      "2025-03-23 12:08:42 [\u001B[92mINFO\u001B[0m] treeqinetic.classes.series.plot_oscillations_for_measurements: Plot Oscillations for Measurement: 'PTQ_Meas_151010.txt', ID: 21, Start '2023-03-22 15:11:29.776214' to '2023-03-22 15:14:08.830214'\n",
      "2025-03-23 12:08:42 [\u001B[92mINFO\u001B[0m] treeqinetic.classes.measurement._plot_single_oscillations: plot_select_oscillation for measurement: 'Measurement: 'PTQ_Meas_151010.txt', ID: 21, Start '2023-03-22 15:11:29.776214' to '2023-03-22 15:14:08.830214'' for Elasto(95) successful.\n",
      "2025-03-23 12:08:43 [\u001B[92mINFO\u001B[0m] treeqinetic.classes.measurement._plot_single_oscillations: plot_select_oscillation for measurement: 'Measurement: 'PTQ_Meas_151010.txt', ID: 21, Start '2023-03-22 15:11:29.776214' to '2023-03-22 15:14:08.830214'' for Elasto(98) successful.\n",
      "2025-03-23 12:08:43 [\u001B[92mINFO\u001B[0m] treeqinetic.classes.measurement._plot_single_oscillations: plot_select_oscillation for measurement: 'Measurement: 'PTQ_Meas_151010.txt', ID: 21, Start '2023-03-22 15:11:29.776214' to '2023-03-22 15:14:08.830214'' for Elasto(92) successful.\n",
      "2025-03-23 12:08:43 [\u001B[92mINFO\u001B[0m] treeqinetic.classes.measurement._plot_single_oscillations: plot_select_oscillation for measurement: 'Measurement: 'PTQ_Meas_151010.txt', ID: 21, Start '2023-03-22 15:11:29.776214' to '2023-03-22 15:14:08.830214'' for Elasto(90) successful.\n",
      "2025-03-23 12:08:43 [\u001B[92mINFO\u001B[0m] treeqinetic.classes.series.plot_oscillations_for_measurements: Plot Oscillations for Measurement: 'PTQ_Meas_151557.txt', ID: 22, Start '2023-03-22 15:16:01.811379' to '2023-03-22 15:20:03.954379'\n",
      "2025-03-23 12:08:44 [\u001B[92mINFO\u001B[0m] treeqinetic.classes.measurement._plot_single_oscillations: plot_select_oscillation for measurement: 'Measurement: 'PTQ_Meas_151557.txt', ID: 22, Start '2023-03-22 15:16:01.811379' to '2023-03-22 15:20:03.954379'' for Elasto(95) successful.\n",
      "2025-03-23 12:08:44 [\u001B[92mINFO\u001B[0m] treeqinetic.classes.measurement._plot_single_oscillations: plot_select_oscillation for measurement: 'Measurement: 'PTQ_Meas_151557.txt', ID: 22, Start '2023-03-22 15:16:01.811379' to '2023-03-22 15:20:03.954379'' for Elasto(98) successful.\n",
      "2025-03-23 12:08:44 [\u001B[92mINFO\u001B[0m] treeqinetic.classes.measurement._plot_single_oscillations: plot_select_oscillation for measurement: 'Measurement: 'PTQ_Meas_151557.txt', ID: 22, Start '2023-03-22 15:16:01.811379' to '2023-03-22 15:20:03.954379'' for Elasto(92) successful.\n",
      "2025-03-23 12:08:45 [\u001B[92mINFO\u001B[0m] treeqinetic.classes.measurement._plot_single_oscillations: plot_select_oscillation for measurement: 'Measurement: 'PTQ_Meas_151557.txt', ID: 22, Start '2023-03-22 15:16:01.811379' to '2023-03-22 15:20:03.954379'' for Elasto(90) successful.\n",
      "2025-03-23 12:08:45 [\u001B[92mINFO\u001B[0m] treeqinetic.classes.series.plot_oscillations_for_measurements: Plot Oscillations for Measurement: 'PTQ_Meas_153028.txt', ID: 23, Start '2023-03-22 15:30:29.626130' to '2023-03-22 15:32:42.861130'\n",
      "2025-03-23 12:08:45 [\u001B[92mINFO\u001B[0m] treeqinetic.classes.measurement._plot_single_oscillations: plot_select_oscillation for measurement: 'Measurement: 'PTQ_Meas_153028.txt', ID: 23, Start '2023-03-22 15:30:29.626130' to '2023-03-22 15:32:42.861130'' for Elasto(95) successful.\n",
      "2025-03-23 12:08:46 [\u001B[92mINFO\u001B[0m] treeqinetic.classes.measurement._plot_single_oscillations: plot_select_oscillation for measurement: 'Measurement: 'PTQ_Meas_153028.txt', ID: 23, Start '2023-03-22 15:30:29.626130' to '2023-03-22 15:32:42.861130'' for Elasto(98) successful.\n",
      "2025-03-23 12:08:46 [\u001B[92mINFO\u001B[0m] treeqinetic.classes.measurement._plot_single_oscillations: plot_select_oscillation for measurement: 'Measurement: 'PTQ_Meas_153028.txt', ID: 23, Start '2023-03-22 15:30:29.626130' to '2023-03-22 15:32:42.861130'' for Elasto(92) successful.\n",
      "2025-03-23 12:08:46 [\u001B[92mINFO\u001B[0m] treeqinetic.classes.measurement._plot_single_oscillations: plot_select_oscillation for measurement: 'Measurement: 'PTQ_Meas_153028.txt', ID: 23, Start '2023-03-22 15:30:29.626130' to '2023-03-22 15:32:42.861130'' for Elasto(90) successful.\n",
      "2025-03-23 12:08:46 [\u001B[92mINFO\u001B[0m] treeqinetic.classes.series.plot_oscillations_for_measurements: Plot Oscillations for Measurement: 'PTQ_Meas_153334.txt', ID: 24, Start '2023-03-22 15:36:28.333785' to '2023-03-22 15:39:10.601785'\n",
      "2025-03-23 12:08:47 [\u001B[92mINFO\u001B[0m] treeqinetic.classes.measurement._plot_single_oscillations: plot_select_oscillation for measurement: 'Measurement: 'PTQ_Meas_153334.txt', ID: 24, Start '2023-03-22 15:36:28.333785' to '2023-03-22 15:39:10.601785'' for Elasto(95) successful.\n",
      "2025-03-23 12:08:48 [\u001B[92mINFO\u001B[0m] treeqinetic.classes.measurement._plot_single_oscillations: plot_select_oscillation for measurement: 'Measurement: 'PTQ_Meas_153334.txt', ID: 24, Start '2023-03-22 15:36:28.333785' to '2023-03-22 15:39:10.601785'' for Elasto(98) successful.\n",
      "2025-03-23 12:08:49 [\u001B[92mINFO\u001B[0m] treeqinetic.classes.measurement._plot_single_oscillations: plot_select_oscillation for measurement: 'Measurement: 'PTQ_Meas_153334.txt', ID: 24, Start '2023-03-22 15:36:28.333785' to '2023-03-22 15:39:10.601785'' for Elasto(92) successful.\n",
      "2025-03-23 12:08:50 [\u001B[92mINFO\u001B[0m] treeqinetic.classes.measurement._plot_single_oscillations: plot_select_oscillation for measurement: 'Measurement: 'PTQ_Meas_153334.txt', ID: 24, Start '2023-03-22 15:36:28.333785' to '2023-03-22 15:39:10.601785'' for Elasto(90) successful.\n",
      "2025-03-23 12:08:50 [\u001B[92mINFO\u001B[0m] treeqinetic.classes.series.plot_oscillations_for_measurements: Plot Oscillations for Measurement: 'PTQ_Meas_153817.txt', ID: 25, Start '2023-03-22 15:39:36.853689' to '2023-03-22 15:45:22.562689'\n",
      "2025-03-23 12:08:50 [\u001B[92mINFO\u001B[0m] treeqinetic.classes.measurement._plot_single_oscillations: plot_select_oscillation for measurement: 'Measurement: 'PTQ_Meas_153817.txt', ID: 25, Start '2023-03-22 15:39:36.853689' to '2023-03-22 15:45:22.562689'' for Elasto(95) successful.\n",
      "2025-03-23 12:08:51 [\u001B[92mINFO\u001B[0m] treeqinetic.classes.measurement._plot_single_oscillations: plot_select_oscillation for measurement: 'Measurement: 'PTQ_Meas_153817.txt', ID: 25, Start '2023-03-22 15:39:36.853689' to '2023-03-22 15:45:22.562689'' for Elasto(98) successful.\n",
      "2025-03-23 12:08:51 [\u001B[92mINFO\u001B[0m] treeqinetic.classes.measurement._plot_single_oscillations: plot_select_oscillation for measurement: 'Measurement: 'PTQ_Meas_153817.txt', ID: 25, Start '2023-03-22 15:39:36.853689' to '2023-03-22 15:45:22.562689'' for Elasto(92) successful.\n",
      "2025-03-23 12:08:52 [\u001B[92mINFO\u001B[0m] treeqinetic.classes.measurement._plot_single_oscillations: plot_select_oscillation for measurement: 'Measurement: 'PTQ_Meas_153817.txt', ID: 25, Start '2023-03-22 15:39:36.853689' to '2023-03-22 15:45:22.562689'' for Elasto(90) successful.\n",
      "2025-03-23 12:08:52 [\u001B[92mINFO\u001B[0m] treeqinetic.classes.series.plot_oscillations_for_measurements: Plot Oscillations for Measurement: 'PTQ_Meas_154457.txt', ID: 26, Start '2023-03-22 15:53:18.604797' to '2023-03-22 15:56:04.346797'\n",
      "2025-03-23 12:08:52 [\u001B[92mINFO\u001B[0m] treeqinetic.classes.measurement._plot_single_oscillations: plot_select_oscillation for measurement: 'Measurement: 'PTQ_Meas_154457.txt', ID: 26, Start '2023-03-22 15:53:18.604797' to '2023-03-22 15:56:04.346797'' for Elasto(95) successful.\n",
      "2025-03-23 12:08:52 [\u001B[92mINFO\u001B[0m] treeqinetic.classes.measurement._plot_single_oscillations: plot_select_oscillation for measurement: 'Measurement: 'PTQ_Meas_154457.txt', ID: 26, Start '2023-03-22 15:53:18.604797' to '2023-03-22 15:56:04.346797'' for Elasto(98) successful.\n",
      "2025-03-23 12:08:53 [\u001B[92mINFO\u001B[0m] treeqinetic.classes.measurement._plot_single_oscillations: plot_select_oscillation for measurement: 'Measurement: 'PTQ_Meas_154457.txt', ID: 26, Start '2023-03-22 15:53:18.604797' to '2023-03-22 15:56:04.346797'' for Elasto(92) successful.\n",
      "2025-03-23 12:08:53 [\u001B[92mINFO\u001B[0m] treeqinetic.classes.measurement._plot_single_oscillations: plot_select_oscillation for measurement: 'Measurement: 'PTQ_Meas_154457.txt', ID: 26, Start '2023-03-22 15:53:18.604797' to '2023-03-22 15:56:04.346797'' for Elasto(90) successful.\n",
      "2025-03-23 12:08:53 [\u001B[92mINFO\u001B[0m] treeqinetic.classes.series.plot_oscillations_for_measurements: Plot Oscillations for Measurement: 'PTQ_Meas_155354.txt', ID: 27, Start '2023-03-22 15:53:59.248874' to '2023-03-22 15:57:16.416874'\n",
      "2025-03-23 12:08:54 [\u001B[92mINFO\u001B[0m] treeqinetic.classes.measurement._plot_single_oscillations: plot_select_oscillation for measurement: 'Measurement: 'PTQ_Meas_155354.txt', ID: 27, Start '2023-03-22 15:53:59.248874' to '2023-03-22 15:57:16.416874'' for Elasto(95) successful.\n",
      "2025-03-23 12:08:54 [\u001B[92mINFO\u001B[0m] treeqinetic.classes.measurement._plot_single_oscillations: plot_select_oscillation for measurement: 'Measurement: 'PTQ_Meas_155354.txt', ID: 27, Start '2023-03-22 15:53:59.248874' to '2023-03-22 15:57:16.416874'' for Elasto(98) successful.\n",
      "2025-03-23 12:08:55 [\u001B[92mINFO\u001B[0m] treeqinetic.classes.measurement._plot_single_oscillations: plot_select_oscillation for measurement: 'Measurement: 'PTQ_Meas_155354.txt', ID: 27, Start '2023-03-22 15:53:59.248874' to '2023-03-22 15:57:16.416874'' for Elasto(92) successful.\n",
      "2025-03-23 12:08:55 [\u001B[92mINFO\u001B[0m] treeqinetic.classes.measurement._plot_single_oscillations: plot_select_oscillation for measurement: 'Measurement: 'PTQ_Meas_155354.txt', ID: 27, Start '2023-03-22 15:53:59.248874' to '2023-03-22 15:57:16.416874'' for Elasto(90) successful.\n",
      "2025-03-23 12:08:55 [\u001B[92mINFO\u001B[0m] treeqinetic.classes.series.plot_oscillations_for_measurements: Plot Oscillations for Measurement: 'PTQ_Meas_155805.txt', ID: 28, Start '2023-03-22 15:59:19.859928' to '2023-03-22 16:00:54.129927999'\n",
      "2025-03-23 12:08:56 [\u001B[92mINFO\u001B[0m] treeqinetic.classes.measurement._plot_single_oscillations: plot_select_oscillation for measurement: 'Measurement: 'PTQ_Meas_155805.txt', ID: 28, Start '2023-03-22 15:59:19.859928' to '2023-03-22 16:00:54.129927999'' for Elasto(95) successful.\n",
      "2025-03-23 12:08:56 [\u001B[92mINFO\u001B[0m] treeqinetic.classes.measurement._plot_single_oscillations: plot_select_oscillation for measurement: 'Measurement: 'PTQ_Meas_155805.txt', ID: 28, Start '2023-03-22 15:59:19.859928' to '2023-03-22 16:00:54.129927999'' for Elasto(98) successful.\n",
      "2025-03-23 12:08:57 [\u001B[92mINFO\u001B[0m] treeqinetic.classes.measurement._plot_single_oscillations: plot_select_oscillation for measurement: 'Measurement: 'PTQ_Meas_155805.txt', ID: 28, Start '2023-03-22 15:59:19.859928' to '2023-03-22 16:00:54.129927999'' for Elasto(92) successful.\n",
      "2025-03-23 12:08:57 [\u001B[92mINFO\u001B[0m] treeqinetic.classes.measurement._plot_single_oscillations: plot_select_oscillation for measurement: 'Measurement: 'PTQ_Meas_155805.txt', ID: 28, Start '2023-03-22 15:59:19.859928' to '2023-03-22 16:00:54.129927999'' for Elasto(90) successful.\n",
      "2025-03-23 12:08:57 [\u001B[92mINFO\u001B[0m] treeqinetic.classes.series.plot_oscillations_for_measurements: Plot Oscillations for Measurement: 'PTQ_Meas_160907.txt', ID: 29, Start '2023-03-22 16:09:36.011613' to '2023-03-22 16:12:55.455613'\n",
      "2025-03-23 12:08:58 [\u001B[92mINFO\u001B[0m] treeqinetic.classes.measurement._plot_single_oscillations: plot_select_oscillation for measurement: 'Measurement: 'PTQ_Meas_160907.txt', ID: 29, Start '2023-03-22 16:09:36.011613' to '2023-03-22 16:12:55.455613'' for Elasto(95) successful.\n",
      "2025-03-23 12:08:58 [\u001B[92mINFO\u001B[0m] treeqinetic.classes.measurement._plot_single_oscillations: plot_select_oscillation for measurement: 'Measurement: 'PTQ_Meas_160907.txt', ID: 29, Start '2023-03-22 16:09:36.011613' to '2023-03-22 16:12:55.455613'' for Elasto(98) successful.\n",
      "2025-03-23 12:08:59 [\u001B[92mINFO\u001B[0m] treeqinetic.classes.measurement._plot_single_oscillations: plot_select_oscillation for measurement: 'Measurement: 'PTQ_Meas_160907.txt', ID: 29, Start '2023-03-22 16:09:36.011613' to '2023-03-22 16:12:55.455613'' for Elasto(92) successful.\n",
      "2025-03-23 12:08:59 [\u001B[92mINFO\u001B[0m] treeqinetic.classes.measurement._plot_single_oscillations: plot_select_oscillation for measurement: 'Measurement: 'PTQ_Meas_160907.txt', ID: 29, Start '2023-03-22 16:09:36.011613' to '2023-03-22 16:12:55.455613'' for Elasto(90) successful.\n",
      "2025-03-23 12:08:59 [\u001B[92mINFO\u001B[0m] treeqinetic.classes.series.plot_oscillations_for_measurements: Plot Oscillations for Measurement: 'PTQ_Meas_100346.txt', ID: 1, Start '2023-03-22 10:10:39.830198' to '2023-03-22 10:13:21.602198'\n",
      "2025-03-23 12:09:01 [\u001B[92mINFO\u001B[0m] treeqinetic.classes.measurement._plot_combined_oscillations: Combined plot_select_oscillation for measurement: 'Measurement: 'PTQ_Meas_100346.txt', ID: 1, Start '2023-03-22 10:10:39.830198' to '2023-03-22 10:13:21.602198'' successful.\n",
      "2025-03-23 12:09:01 [\u001B[92mINFO\u001B[0m] treeqinetic.classes.series.plot_oscillations_for_measurements: Plot Oscillations for Measurement: 'PTQ_Meas_101814.txt', ID: 2, Start '2023-03-22 10:18:33.334820' to '2023-03-22 10:21:25.691820'\n",
      "2025-03-23 12:09:04 [\u001B[92mINFO\u001B[0m] treeqinetic.classes.measurement._plot_combined_oscillations: Combined plot_select_oscillation for measurement: 'Measurement: 'PTQ_Meas_101814.txt', ID: 2, Start '2023-03-22 10:18:33.334820' to '2023-03-22 10:21:25.691820'' successful.\n",
      "2025-03-23 12:09:04 [\u001B[92mINFO\u001B[0m] treeqinetic.classes.series.plot_oscillations_for_measurements: Plot Oscillations for Measurement: 'PTQ_Meas_102314.txt', ID: 3, Start '2023-03-22 10:26:25.086505' to '2023-03-22 10:28:50.847505'\n",
      "2025-03-23 12:09:07 [\u001B[92mINFO\u001B[0m] treeqinetic.classes.measurement._plot_combined_oscillations: Combined plot_select_oscillation for measurement: 'Measurement: 'PTQ_Meas_102314.txt', ID: 3, Start '2023-03-22 10:26:25.086505' to '2023-03-22 10:28:50.847505'' successful.\n",
      "2025-03-23 12:09:07 [\u001B[92mINFO\u001B[0m] treeqinetic.classes.series.plot_oscillations_for_measurements: Plot Oscillations for Measurement: 'PTQ_Meas_104400.txt', ID: 4, Start '2023-03-22 10:50:02.131987' to '2023-03-22 10:52:43.662987'\n",
      "2025-03-23 12:09:09 [\u001B[92mINFO\u001B[0m] treeqinetic.classes.measurement._plot_combined_oscillations: Combined plot_select_oscillation for measurement: 'Measurement: 'PTQ_Meas_104400.txt', ID: 4, Start '2023-03-22 10:50:02.131987' to '2023-03-22 10:52:43.662987'' successful.\n",
      "2025-03-23 12:09:09 [\u001B[92mINFO\u001B[0m] treeqinetic.classes.series.plot_oscillations_for_measurements: Plot Oscillations for Measurement: 'PTQ_Meas_105549.txt', ID: 5, Start '2023-03-22 10:55:59.034260' to '2023-03-22 10:58:38.051260'\n",
      "2025-03-23 12:09:11 [\u001B[92mINFO\u001B[0m] treeqinetic.classes.measurement._plot_combined_oscillations: Combined plot_select_oscillation for measurement: 'Measurement: 'PTQ_Meas_105549.txt', ID: 5, Start '2023-03-22 10:55:59.034260' to '2023-03-22 10:58:38.051260'' successful.\n",
      "2025-03-23 12:09:11 [\u001B[92mINFO\u001B[0m] treeqinetic.classes.series.plot_oscillations_for_measurements: Plot Oscillations for Measurement: 'PTQ_Meas_110107.txt', ID: 6, Start '2023-03-22 11:02:37.653620' to '2023-03-22 11:04:32.486620'\n",
      "2025-03-23 12:09:14 [\u001B[92mINFO\u001B[0m] treeqinetic.classes.measurement._plot_combined_oscillations: Combined plot_select_oscillation for measurement: 'Measurement: 'PTQ_Meas_110107.txt', ID: 6, Start '2023-03-22 11:02:37.653620' to '2023-03-22 11:04:32.486620'' successful.\n",
      "2025-03-23 12:09:14 [\u001B[92mINFO\u001B[0m] treeqinetic.classes.series.plot_oscillations_for_measurements: Plot Oscillations for Measurement: 'PTQ_Meas_110558.txt', ID: 7, Start '2023-03-22 11:06:16.330019' to '2023-03-22 11:08:10.160019'\n",
      "2025-03-23 12:09:16 [\u001B[92mINFO\u001B[0m] treeqinetic.classes.measurement._plot_combined_oscillations: Combined plot_select_oscillation for measurement: 'Measurement: 'PTQ_Meas_110558.txt', ID: 7, Start '2023-03-22 11:06:16.330019' to '2023-03-22 11:08:10.160019'' successful.\n",
      "2025-03-23 12:09:16 [\u001B[92mINFO\u001B[0m] treeqinetic.classes.series.plot_oscillations_for_measurements: Plot Oscillations for Measurement: 'PTQ_Meas_111019.txt', ID: 8, Start '2023-03-22 11:10:38.251994' to '2023-03-22 11:12:26.538994'\n",
      "2025-03-23 12:09:18 [\u001B[92mINFO\u001B[0m] treeqinetic.classes.measurement._plot_combined_oscillations: Combined plot_select_oscillation for measurement: 'Measurement: 'PTQ_Meas_111019.txt', ID: 8, Start '2023-03-22 11:10:38.251994' to '2023-03-22 11:12:26.538994'' successful.\n",
      "2025-03-23 12:09:18 [\u001B[92mINFO\u001B[0m] treeqinetic.classes.series.plot_oscillations_for_measurements: Plot Oscillations for Measurement: 'PTQ_Meas_111713.txt', ID: 9, Start '2023-03-22 11:21:04.844142' to '2023-03-22 11:23:02.055142'\n",
      "2025-03-23 12:09:20 [\u001B[92mINFO\u001B[0m] treeqinetic.classes.measurement._plot_combined_oscillations: Combined plot_select_oscillation for measurement: 'Measurement: 'PTQ_Meas_111713.txt', ID: 9, Start '2023-03-22 11:21:04.844142' to '2023-03-22 11:23:02.055142'' successful.\n",
      "2025-03-23 12:09:20 [\u001B[92mINFO\u001B[0m] treeqinetic.classes.series.plot_oscillations_for_measurements: Plot Oscillations for Measurement: 'PTQ_Meas_112120.txt', ID: 10, Start '2023-03-22 11:22:46.612488' to '2023-03-22 11:26:15.605488'\n",
      "2025-03-23 12:09:22 [\u001B[92mINFO\u001B[0m] treeqinetic.classes.measurement._plot_combined_oscillations: Combined plot_select_oscillation for measurement: 'Measurement: 'PTQ_Meas_112120.txt', ID: 10, Start '2023-03-22 11:22:46.612488' to '2023-03-22 11:26:15.605488'' successful.\n",
      "2025-03-23 12:09:22 [\u001B[92mINFO\u001B[0m] treeqinetic.classes.series.plot_oscillations_for_measurements: Plot Oscillations for Measurement: 'PTQ_Meas_133316.txt', ID: 11, Start '2023-03-22 13:36:32.068787' to '2023-03-22 13:38:55.286787'\n",
      "2025-03-23 12:09:24 [\u001B[92mINFO\u001B[0m] treeqinetic.classes.measurement._plot_combined_oscillations: Combined plot_select_oscillation for measurement: 'Measurement: 'PTQ_Meas_133316.txt', ID: 11, Start '2023-03-22 13:36:32.068787' to '2023-03-22 13:38:55.286787'' successful.\n",
      "2025-03-23 12:09:24 [\u001B[92mINFO\u001B[0m] treeqinetic.classes.series.plot_oscillations_for_measurements: Plot Oscillations for Measurement: 'PTQ_Meas_134053.txt', ID: 12, Start '2023-03-22 13:42:13.782157' to '2023-03-22 13:44:46.281157'\n",
      "2025-03-23 12:09:27 [\u001B[92mINFO\u001B[0m] treeqinetic.classes.measurement._plot_combined_oscillations: Combined plot_select_oscillation for measurement: 'Measurement: 'PTQ_Meas_134053.txt', ID: 12, Start '2023-03-22 13:42:13.782157' to '2023-03-22 13:44:46.281157'' successful.\n",
      "2025-03-23 12:09:27 [\u001B[92mINFO\u001B[0m] treeqinetic.classes.series.plot_oscillations_for_measurements: Plot Oscillations for Measurement: 'PTQ_Meas_134807.txt', ID: 13, Start '2023-03-22 13:49:21.347406' to '2023-03-22 13:51:37.799406'\n",
      "2025-03-23 12:09:30 [\u001B[92mINFO\u001B[0m] treeqinetic.classes.measurement._plot_combined_oscillations: Combined plot_select_oscillation for measurement: 'Measurement: 'PTQ_Meas_134807.txt', ID: 13, Start '2023-03-22 13:49:21.347406' to '2023-03-22 13:51:37.799406'' successful.\n",
      "2025-03-23 12:09:30 [\u001B[92mINFO\u001B[0m] treeqinetic.classes.series.plot_oscillations_for_measurements: Plot Oscillations for Measurement: 'PTQ_Meas_135705.txt', ID: 14, Start '2023-03-22 13:59:44.050912' to '2023-03-22 14:02:02.505912'\n",
      "2025-03-23 12:09:32 [\u001B[92mINFO\u001B[0m] treeqinetic.classes.measurement._plot_combined_oscillations: Combined plot_select_oscillation for measurement: 'Measurement: 'PTQ_Meas_135705.txt', ID: 14, Start '2023-03-22 13:59:44.050912' to '2023-03-22 14:02:02.505912'' successful.\n",
      "2025-03-23 12:09:32 [\u001B[92mINFO\u001B[0m] treeqinetic.classes.series.plot_oscillations_for_measurements: Plot Oscillations for Measurement: 'PTQ_Meas_140149.txt', ID: 15, Start '2023-03-22 14:04:38.399621' to '2023-03-22 14:06:40.181621'\n",
      "2025-03-23 12:09:34 [\u001B[92mINFO\u001B[0m] treeqinetic.classes.measurement._plot_combined_oscillations: Combined plot_select_oscillation for measurement: 'Measurement: 'PTQ_Meas_140149.txt', ID: 15, Start '2023-03-22 14:04:38.399621' to '2023-03-22 14:06:40.181621'' successful.\n",
      "2025-03-23 12:09:34 [\u001B[92mINFO\u001B[0m] treeqinetic.classes.series.plot_oscillations_for_measurements: Plot Oscillations for Measurement: 'PTQ_Meas_140551.txt', ID: 16, Start '2023-03-22 14:08:22.949140' to '2023-03-22 14:10:39.593140'\n",
      "2025-03-23 12:09:36 [\u001B[92mINFO\u001B[0m] treeqinetic.classes.measurement._plot_combined_oscillations: Combined plot_select_oscillation for measurement: 'Measurement: 'PTQ_Meas_140551.txt', ID: 16, Start '2023-03-22 14:08:22.949140' to '2023-03-22 14:10:39.593140'' successful.\n",
      "2025-03-23 12:09:36 [\u001B[92mINFO\u001B[0m] treeqinetic.classes.series.plot_oscillations_for_measurements: Plot Oscillations for Measurement: 'PTQ_Meas_141006.txt', ID: 17, Start '2023-03-22 14:12:35.404214' to '2023-03-22 14:14:35.383214'\n",
      "2025-03-23 12:09:38 [\u001B[92mINFO\u001B[0m] treeqinetic.classes.measurement._plot_combined_oscillations: Combined plot_select_oscillation for measurement: 'Measurement: 'PTQ_Meas_141006.txt', ID: 17, Start '2023-03-22 14:12:35.404214' to '2023-03-22 14:14:35.383214'' successful.\n",
      "2025-03-23 12:09:38 [\u001B[92mINFO\u001B[0m] treeqinetic.classes.series.plot_oscillations_for_measurements: Plot Oscillations for Measurement: 'PTQ_Meas_141437.txt', ID: 18, Start '2023-03-22 14:15:47.525869999' to '2023-03-22 14:18:26.172870'\n",
      "2025-03-23 12:09:41 [\u001B[92mINFO\u001B[0m] treeqinetic.classes.measurement._plot_combined_oscillations: Combined plot_select_oscillation for measurement: 'Measurement: 'PTQ_Meas_141437.txt', ID: 18, Start '2023-03-22 14:15:47.525869999' to '2023-03-22 14:18:26.172870'' successful.\n",
      "2025-03-23 12:09:41 [\u001B[92mINFO\u001B[0m] treeqinetic.classes.series.plot_oscillations_for_measurements: Plot Oscillations for Measurement: 'PTQ_Meas_141812.txt', ID: 19, Start '2023-03-22 14:20:37.937304' to '2023-03-22 14:22:53.243304'\n",
      "2025-03-23 12:09:43 [\u001B[92mINFO\u001B[0m] treeqinetic.classes.measurement._plot_combined_oscillations: Combined plot_select_oscillation for measurement: 'Measurement: 'PTQ_Meas_141812.txt', ID: 19, Start '2023-03-22 14:20:37.937304' to '2023-03-22 14:22:53.243304'' successful.\n",
      "2025-03-23 12:09:43 [\u001B[92mINFO\u001B[0m] treeqinetic.classes.series.plot_oscillations_for_measurements: Plot Oscillations for Measurement: 'PTQ_Meas_150444.txt', ID: 20, Start '2023-03-22 15:07:26.211509' to '2023-03-22 15:09:24.888509'\n",
      "2025-03-23 12:09:45 [\u001B[92mINFO\u001B[0m] treeqinetic.classes.measurement._plot_combined_oscillations: Combined plot_select_oscillation for measurement: 'Measurement: 'PTQ_Meas_150444.txt', ID: 20, Start '2023-03-22 15:07:26.211509' to '2023-03-22 15:09:24.888509'' successful.\n",
      "2025-03-23 12:09:45 [\u001B[92mINFO\u001B[0m] treeqinetic.classes.series.plot_oscillations_for_measurements: Plot Oscillations for Measurement: 'PTQ_Meas_151010.txt', ID: 21, Start '2023-03-22 15:11:29.776214' to '2023-03-22 15:14:08.830214'\n",
      "2025-03-23 12:09:48 [\u001B[92mINFO\u001B[0m] treeqinetic.classes.measurement._plot_combined_oscillations: Combined plot_select_oscillation for measurement: 'Measurement: 'PTQ_Meas_151010.txt', ID: 21, Start '2023-03-22 15:11:29.776214' to '2023-03-22 15:14:08.830214'' successful.\n",
      "2025-03-23 12:09:48 [\u001B[92mINFO\u001B[0m] treeqinetic.classes.series.plot_oscillations_for_measurements: Plot Oscillations for Measurement: 'PTQ_Meas_151557.txt', ID: 22, Start '2023-03-22 15:16:01.811379' to '2023-03-22 15:20:03.954379'\n",
      "2025-03-23 12:09:50 [\u001B[92mINFO\u001B[0m] treeqinetic.classes.measurement._plot_combined_oscillations: Combined plot_select_oscillation for measurement: 'Measurement: 'PTQ_Meas_151557.txt', ID: 22, Start '2023-03-22 15:16:01.811379' to '2023-03-22 15:20:03.954379'' successful.\n",
      "2025-03-23 12:09:50 [\u001B[92mINFO\u001B[0m] treeqinetic.classes.series.plot_oscillations_for_measurements: Plot Oscillations for Measurement: 'PTQ_Meas_153028.txt', ID: 23, Start '2023-03-22 15:30:29.626130' to '2023-03-22 15:32:42.861130'\n",
      "2025-03-23 12:09:52 [\u001B[92mINFO\u001B[0m] treeqinetic.classes.measurement._plot_combined_oscillations: Combined plot_select_oscillation for measurement: 'Measurement: 'PTQ_Meas_153028.txt', ID: 23, Start '2023-03-22 15:30:29.626130' to '2023-03-22 15:32:42.861130'' successful.\n",
      "2025-03-23 12:09:52 [\u001B[92mINFO\u001B[0m] treeqinetic.classes.series.plot_oscillations_for_measurements: Plot Oscillations for Measurement: 'PTQ_Meas_153334.txt', ID: 24, Start '2023-03-22 15:36:28.333785' to '2023-03-22 15:39:10.601785'\n",
      "2025-03-23 12:09:54 [\u001B[92mINFO\u001B[0m] treeqinetic.classes.measurement._plot_combined_oscillations: Combined plot_select_oscillation for measurement: 'Measurement: 'PTQ_Meas_153334.txt', ID: 24, Start '2023-03-22 15:36:28.333785' to '2023-03-22 15:39:10.601785'' successful.\n",
      "2025-03-23 12:09:54 [\u001B[92mINFO\u001B[0m] treeqinetic.classes.series.plot_oscillations_for_measurements: Plot Oscillations for Measurement: 'PTQ_Meas_153817.txt', ID: 25, Start '2023-03-22 15:39:36.853689' to '2023-03-22 15:45:22.562689'\n",
      "2025-03-23 12:09:57 [\u001B[92mINFO\u001B[0m] treeqinetic.classes.measurement._plot_combined_oscillations: Combined plot_select_oscillation for measurement: 'Measurement: 'PTQ_Meas_153817.txt', ID: 25, Start '2023-03-22 15:39:36.853689' to '2023-03-22 15:45:22.562689'' successful.\n",
      "2025-03-23 12:09:57 [\u001B[92mINFO\u001B[0m] treeqinetic.classes.series.plot_oscillations_for_measurements: Plot Oscillations for Measurement: 'PTQ_Meas_154457.txt', ID: 26, Start '2023-03-22 15:53:18.604797' to '2023-03-22 15:56:04.346797'\n",
      "2025-03-23 12:09:58 [\u001B[92mINFO\u001B[0m] treeqinetic.classes.measurement._plot_combined_oscillations: Combined plot_select_oscillation for measurement: 'Measurement: 'PTQ_Meas_154457.txt', ID: 26, Start '2023-03-22 15:53:18.604797' to '2023-03-22 15:56:04.346797'' successful.\n",
      "2025-03-23 12:09:58 [\u001B[92mINFO\u001B[0m] treeqinetic.classes.series.plot_oscillations_for_measurements: Plot Oscillations for Measurement: 'PTQ_Meas_155354.txt', ID: 27, Start '2023-03-22 15:53:59.248874' to '2023-03-22 15:57:16.416874'\n",
      "2025-03-23 12:10:02 [\u001B[92mINFO\u001B[0m] treeqinetic.classes.measurement._plot_combined_oscillations: Combined plot_select_oscillation for measurement: 'Measurement: 'PTQ_Meas_155354.txt', ID: 27, Start '2023-03-22 15:53:59.248874' to '2023-03-22 15:57:16.416874'' successful.\n",
      "2025-03-23 12:10:02 [\u001B[92mINFO\u001B[0m] treeqinetic.classes.series.plot_oscillations_for_measurements: Plot Oscillations for Measurement: 'PTQ_Meas_155805.txt', ID: 28, Start '2023-03-22 15:59:19.859928' to '2023-03-22 16:00:54.129927999'\n",
      "2025-03-23 12:10:04 [\u001B[92mINFO\u001B[0m] treeqinetic.classes.measurement._plot_combined_oscillations: Combined plot_select_oscillation for measurement: 'Measurement: 'PTQ_Meas_155805.txt', ID: 28, Start '2023-03-22 15:59:19.859928' to '2023-03-22 16:00:54.129927999'' successful.\n",
      "2025-03-23 12:10:04 [\u001B[92mINFO\u001B[0m] treeqinetic.classes.series.plot_oscillations_for_measurements: Plot Oscillations for Measurement: 'PTQ_Meas_160907.txt', ID: 29, Start '2023-03-22 16:09:36.011613' to '2023-03-22 16:12:55.455613'\n",
      "2025-03-23 12:10:06 [\u001B[92mINFO\u001B[0m] treeqinetic.classes.measurement._plot_combined_oscillations: Combined plot_select_oscillation for measurement: 'Measurement: 'PTQ_Meas_160907.txt', ID: 29, Start '2023-03-22 16:09:36.011613' to '2023-03-22 16:12:55.455613'' successful.\n"
     ]
    }
   ],
   "source": [
    "ptq_series.plot_oscillations_for_measurements(sensor_names=elasto_names, combined=False)\n",
    "ptq_series.plot_oscillations_for_measurements(sensor_names=elasto_names, combined=True)"
   ]
  },
  {
   "cell_type": "markdown",
   "metadata": {
    "collapsed": false
   },
   "source": [
    "### PTQ: Anpassen der harmonisch gedämpften Schwingung\n",
    "\n",
    "Aus der PTQ-Messreihe 'ptq_series' wird über `get_oscillations_list` für alle Messungen, getrennt für jeden Sensor (Elastometer), die `Oscillation`-Instanz in eine Liste zusammengeführt. Entsprechend gibt es für jede PTQ-Messung 4 `Oscillation`-Instanzen (für die 4 Elastometer).\n",
    "\n",
    "`oscillation.fit` passt alle Schwingungsdaten mit einer allgemeinen Funktion für harmonisch gedämpfte Schwingungen an:\n",
    "\\[\n",
    "y(t) = A \\cdot e^{-\\delta t} \\cdot \\cos(\\omega_d \\cdot t + \\phi) + y_0\n",
    "\\]\n",
    "\n",
    "#### Parameterbeschreibung:\n",
    "- `A` (Anfangsamplitude): Der Anfangswert der Amplitude der Schwingung. Dieser Parameter bestimmt die initiale Höhe der Schwingungsamplitude.\n",
    "- `δ` (Dämpfungskoeffizient): Dieser Wert bestimmt, wie schnell die Amplitude der Schwingung mit der Zeit abnimmt. Ein höherer Wert führt zu einer schnelleren Dämpfung der Schwingung.\n",
    "- `ω_d` (gedämpfte Kreisfrequenz): Die Frequenz der gedämpften Schwingung in Radiant pro Sekunde. Dieser Parameter bestimmt, wie schnell die Schwingung oszilliert.\n",
    "- `φ` (Phasenwinkel): Der Anfangsphasenwinkel der Schwingung. Dieser Wert bestimmt den Startpunkt der Schwingung im Schwingungszyklus.\n",
    "- `y_0` (Vertikale Verschiebung): Dieser Parameter verschiebt die gesamte Schwingungskurve vertikal und ermöglicht es, die Schwingung an die mittlere Position der Daten anzupassen.\n",
    "- `t_0` (Horizontale Verschiebung): Dieser Parameter verschiebt die gesamte Schwingungskurve horizontal über die Zeit und ermöglicht es, die Schwingung an den spezifischen Startpunkt der gemessenen Schwingung anzupassen.\n",
    "\n",
    "(siehe `ptq/analyse/fitting_function.py`)\n",
    "\n",
    "#### Zusätzliche Parameter und Konfigurationen:\n",
    "- **Startwerte und Grenzwerte:** Für die Optimierung der Parameter in `scipy.curve_fit` werden Startwerte und Grenzwerte für jeden Parameter übergeben (in `ptq/config.py` definiert).\n",
    "- **Qualitätsmetriken:** Zur Bewertung der Anpassungsgüte werden Metriken wie MAE (mittlerer absoluter Fehler), RMSE (Root Mean Square Error), und \\( R^2 \\) (Bestimmtheitsmaß) berechnet. Zusätzlich werden normalisierte Varianten (NRMSE und NMAE) zur besseren Vergleichbarkeit verwendet.\n",
    "- **Warnungen bei Überschreitung der Grenzwerte:** Wenn die für eine Metrik definierten Grenzwerte überschritten werden, wird eine Warnung im Log-Protokoll vermerkt, um auf mögliche Probleme bei der Anpassung hinzuweisen (in `ptq/config.py` definiert). Auf Basis dieser Warnung können:\n",
    "  - Start- und Grenzwerte sowie die Methodik angepasst werden.\n",
    "  - Betroffene Datensätze später ausgeschlossen werden, um fehlerhafte Anpassungen zu vermeiden.\n",
    "- **Interpolation:** Diese Option aktiviert die Interpolation der Datenpunkte, um eine ausreichende Dichte für `curve_fit` zu gewährleisten. Hierbei wird `scipy.interpolate.PchipInterpolator` verwendet, um Über- und Unterschwingungen, die nicht in den Originaldaten vorhanden sind, zu vermeiden. Nach optischer Prüfung zeigte diese Methode die besten Ergebnisse.\n",
    "\n",
    "#### Visualisierungsoptionen:\n",
    "- **Plot:** Wenn auf `True` gesetzt, wird für jede Oscillation ein Plot der angepassten Funktion zusammen mit den Originaldaten erstellt und in `working_dir/PTQ/plots/` gespeichert.\n",
    "- **Plot-Fehlerverteilung:** Wenn `plot_error` auf `True` gesetzt ist, wird ein Histogramm der Fehlerverteilung (Residuen) für jeden Fit erstellt und ebenfalls in `working_dir/PTQ/plots/` gespeichert."
   ]
  },
  {
   "cell_type": "code",
   "execution_count": 16,
   "metadata": {
    "collapsed": false,
    "ExecuteTime": {
     "end_time": "2025-03-23T11:13:40.369437600Z",
     "start_time": "2025-03-23T11:10:06.887377900Z"
    }
   },
   "outputs": [
    {
     "name": "stderr",
     "output_type": "stream",
     "text": [
      "2025-03-23 12:10:08 [\u001B[92mINFO\u001B[0m] treeqinetic.classes.oscillation.fit: fit for measurement: 'Oscillation: 'PTQ_Meas_100346.txt', ID: 1, Sensor: Elasto(95)'' successful.\n",
      "2025-03-23 12:10:11 [\u001B[92mINFO\u001B[0m] treeqinetic.classes.oscillation.fit: fit for measurement: 'Oscillation: 'PTQ_Meas_100346.txt', ID: 1, Sensor: Elasto(98)'' successful.\n",
      "2025-03-23 12:10:12 [\u001B[92mINFO\u001B[0m] treeqinetic.classes.oscillation.fit: fit for measurement: 'Oscillation: 'PTQ_Meas_100346.txt', ID: 1, Sensor: Elasto(92)'' successful.\n",
      "2025-03-23 12:10:15 [\u001B[92mINFO\u001B[0m] treeqinetic.classes.oscillation.fit: fit for measurement: 'Oscillation: 'PTQ_Meas_100346.txt', ID: 1, Sensor: Elasto(90)'' successful.\n",
      "2025-03-23 12:10:16 [\u001B[92mINFO\u001B[0m] treeqinetic.classes.oscillation.fit: fit for measurement: 'Oscillation: 'PTQ_Meas_101814.txt', ID: 2, Sensor: Elasto(95)'' successful.\n",
      "2025-03-23 12:10:18 [\u001B[92mINFO\u001B[0m] treeqinetic.classes.oscillation.fit: fit for measurement: 'Oscillation: 'PTQ_Meas_101814.txt', ID: 2, Sensor: Elasto(98)'' successful.\n",
      "2025-03-23 12:10:21 [\u001B[92mINFO\u001B[0m] treeqinetic.classes.oscillation.fit: fit for measurement: 'Oscillation: 'PTQ_Meas_101814.txt', ID: 2, Sensor: Elasto(92)'' successful.\n",
      "2025-03-23 12:10:22 [\u001B[92mINFO\u001B[0m] treeqinetic.classes.oscillation.fit: fit for measurement: 'Oscillation: 'PTQ_Meas_101814.txt', ID: 2, Sensor: Elasto(90)'' successful.\n",
      "2025-03-23 12:10:24 [\u001B[92mINFO\u001B[0m] treeqinetic.classes.oscillation.fit: fit for measurement: 'Oscillation: 'PTQ_Meas_102314.txt', ID: 3, Sensor: Elasto(95)'' successful.\n",
      "2025-03-23 12:10:26 [\u001B[92mINFO\u001B[0m] treeqinetic.classes.oscillation.fit: fit for measurement: 'Oscillation: 'PTQ_Meas_102314.txt', ID: 3, Sensor: Elasto(98)'' successful.\n",
      "2025-03-23 12:10:28 [\u001B[92mINFO\u001B[0m] treeqinetic.classes.oscillation.fit: fit for measurement: 'Oscillation: 'PTQ_Meas_102314.txt', ID: 3, Sensor: Elasto(92)'' successful.\n",
      "2025-03-23 12:10:30 [\u001B[92mINFO\u001B[0m] treeqinetic.classes.oscillation.fit: fit for measurement: 'Oscillation: 'PTQ_Meas_102314.txt', ID: 3, Sensor: Elasto(90)'' successful.\n",
      "2025-03-23 12:10:31 [\u001B[92mINFO\u001B[0m] treeqinetic.classes.oscillation.fit: fit for measurement: 'Oscillation: 'PTQ_Meas_104400.txt', ID: 4, Sensor: Elasto(95)'' successful.\n",
      "2025-03-23 12:10:33 [\u001B[92mINFO\u001B[0m] treeqinetic.classes.oscillation.fit: fit for measurement: 'Oscillation: 'PTQ_Meas_104400.txt', ID: 4, Sensor: Elasto(98)'' successful.\n",
      "2025-03-23 12:10:35 [\u001B[92mINFO\u001B[0m] treeqinetic.classes.oscillation.fit: fit for measurement: 'Oscillation: 'PTQ_Meas_104400.txt', ID: 4, Sensor: Elasto(92)'' successful.\n",
      "2025-03-23 12:10:37 [\u001B[92mINFO\u001B[0m] treeqinetic.classes.oscillation.fit: fit for measurement: 'Oscillation: 'PTQ_Meas_104400.txt', ID: 4, Sensor: Elasto(90)'' successful.\n",
      "2025-03-23 12:10:39 [\u001B[92mINFO\u001B[0m] treeqinetic.classes.oscillation.fit: fit for measurement: 'Oscillation: 'PTQ_Meas_105549.txt', ID: 5, Sensor: Elasto(95)'' successful.\n",
      "2025-03-23 12:10:40 [\u001B[92mINFO\u001B[0m] treeqinetic.classes.oscillation.fit: fit for measurement: 'Oscillation: 'PTQ_Meas_105549.txt', ID: 5, Sensor: Elasto(98)'' successful.\n",
      "2025-03-23 12:10:42 [\u001B[92mINFO\u001B[0m] treeqinetic.classes.oscillation.fit: fit for measurement: 'Oscillation: 'PTQ_Meas_105549.txt', ID: 5, Sensor: Elasto(92)'' successful.\n",
      "2025-03-23 12:10:43 [\u001B[92mINFO\u001B[0m] treeqinetic.classes.oscillation.fit: fit for measurement: 'Oscillation: 'PTQ_Meas_105549.txt', ID: 5, Sensor: Elasto(90)'' successful.\n",
      "2025-03-23 12:10:45 [\u001B[92mINFO\u001B[0m] treeqinetic.classes.oscillation.fit: fit for measurement: 'Oscillation: 'PTQ_Meas_110107.txt', ID: 6, Sensor: Elasto(95)'' successful.\n",
      "2025-03-23 12:10:47 [\u001B[92mINFO\u001B[0m] treeqinetic.classes.oscillation.fit: fit for measurement: 'Oscillation: 'PTQ_Meas_110107.txt', ID: 6, Sensor: Elasto(98)'' successful.\n",
      "2025-03-23 12:10:49 [\u001B[92mINFO\u001B[0m] treeqinetic.classes.oscillation.fit: fit for measurement: 'Oscillation: 'PTQ_Meas_110107.txt', ID: 6, Sensor: Elasto(92)'' successful.\n",
      "2025-03-23 12:10:50 [\u001B[92mINFO\u001B[0m] treeqinetic.classes.oscillation.fit: fit for measurement: 'Oscillation: 'PTQ_Meas_110107.txt', ID: 6, Sensor: Elasto(90)'' successful.\n",
      "2025-03-23 12:10:52 [\u001B[92mINFO\u001B[0m] treeqinetic.classes.oscillation.fit: fit for measurement: 'Oscillation: 'PTQ_Meas_110558.txt', ID: 7, Sensor: Elasto(95)'' successful.\n",
      "2025-03-23 12:10:54 [\u001B[92mINFO\u001B[0m] treeqinetic.classes.oscillation.fit: fit for measurement: 'Oscillation: 'PTQ_Meas_110558.txt', ID: 7, Sensor: Elasto(98)'' successful.\n",
      "2025-03-23 12:10:56 [\u001B[92mINFO\u001B[0m] treeqinetic.classes.oscillation.fit: fit for measurement: 'Oscillation: 'PTQ_Meas_110558.txt', ID: 7, Sensor: Elasto(92)'' successful.\n",
      "2025-03-23 12:10:57 [\u001B[92mINFO\u001B[0m] treeqinetic.classes.oscillation.fit: fit for measurement: 'Oscillation: 'PTQ_Meas_110558.txt', ID: 7, Sensor: Elasto(90)'' successful.\n",
      "2025-03-23 12:10:59 [\u001B[92mINFO\u001B[0m] treeqinetic.classes.oscillation.fit: fit for measurement: 'Oscillation: 'PTQ_Meas_111019.txt', ID: 8, Sensor: Elasto(95)'' successful.\n",
      "2025-03-23 12:11:02 [\u001B[92mINFO\u001B[0m] treeqinetic.classes.oscillation.fit: fit for measurement: 'Oscillation: 'PTQ_Meas_111019.txt', ID: 8, Sensor: Elasto(98)'' successful.\n",
      "2025-03-23 12:11:03 [\u001B[92mINFO\u001B[0m] treeqinetic.classes.oscillation.fit: fit for measurement: 'Oscillation: 'PTQ_Meas_111019.txt', ID: 8, Sensor: Elasto(92)'' successful.\n",
      "2025-03-23 12:11:04 [\u001B[92mINFO\u001B[0m] treeqinetic.classes.oscillation.fit: fit for measurement: 'Oscillation: 'PTQ_Meas_111019.txt', ID: 8, Sensor: Elasto(90)'' successful.\n",
      "2025-03-23 12:11:06 [\u001B[92mINFO\u001B[0m] treeqinetic.classes.oscillation.fit: fit for measurement: 'Oscillation: 'PTQ_Meas_111713.txt', ID: 9, Sensor: Elasto(95)'' successful.\n",
      "2025-03-23 12:11:10 [\u001B[92mINFO\u001B[0m] treeqinetic.classes.oscillation.fit: fit for measurement: 'Oscillation: 'PTQ_Meas_111713.txt', ID: 9, Sensor: Elasto(98)'' successful.\n",
      "2025-03-23 12:11:11 [\u001B[92mINFO\u001B[0m] treeqinetic.classes.oscillation.fit: fit for measurement: 'Oscillation: 'PTQ_Meas_111713.txt', ID: 9, Sensor: Elasto(92)'' successful.\n",
      "2025-03-23 12:11:13 [\u001B[92mINFO\u001B[0m] treeqinetic.classes.oscillation.fit: fit for measurement: 'Oscillation: 'PTQ_Meas_111713.txt', ID: 9, Sensor: Elasto(90)'' successful.\n",
      "2025-03-23 12:11:15 [\u001B[92mINFO\u001B[0m] treeqinetic.classes.oscillation.fit: fit for measurement: 'Oscillation: 'PTQ_Meas_112120.txt', ID: 10, Sensor: Elasto(95)'' successful.\n",
      "2025-03-23 12:11:17 [\u001B[92mINFO\u001B[0m] treeqinetic.classes.oscillation.fit: fit for measurement: 'Oscillation: 'PTQ_Meas_112120.txt', ID: 10, Sensor: Elasto(98)'' successful.\n",
      "2025-03-23 12:11:19 [\u001B[92mINFO\u001B[0m] treeqinetic.classes.oscillation.fit: fit for measurement: 'Oscillation: 'PTQ_Meas_112120.txt', ID: 10, Sensor: Elasto(92)'' successful.\n",
      "2025-03-23 12:11:21 [\u001B[92mINFO\u001B[0m] treeqinetic.classes.oscillation.fit: fit for measurement: 'Oscillation: 'PTQ_Meas_112120.txt', ID: 10, Sensor: Elasto(90)'' successful.\n",
      "2025-03-23 12:11:23 [\u001B[92mINFO\u001B[0m] treeqinetic.classes.oscillation.fit: fit for measurement: 'Oscillation: 'PTQ_Meas_133316.txt', ID: 11, Sensor: Elasto(95)'' successful.\n",
      "2025-03-23 12:11:25 [\u001B[92mINFO\u001B[0m] treeqinetic.classes.oscillation.fit: fit for measurement: 'Oscillation: 'PTQ_Meas_133316.txt', ID: 11, Sensor: Elasto(98)'' successful.\n",
      "2025-03-23 12:11:27 [\u001B[92mINFO\u001B[0m] treeqinetic.classes.oscillation.fit: fit for measurement: 'Oscillation: 'PTQ_Meas_133316.txt', ID: 11, Sensor: Elasto(92)'' successful.\n",
      "2025-03-23 12:11:30 [\u001B[92mINFO\u001B[0m] treeqinetic.classes.oscillation.fit: fit for measurement: 'Oscillation: 'PTQ_Meas_133316.txt', ID: 11, Sensor: Elasto(90)'' successful.\n",
      "2025-03-23 12:11:32 [\u001B[92mINFO\u001B[0m] treeqinetic.classes.oscillation.fit: fit for measurement: 'Oscillation: 'PTQ_Meas_134053.txt', ID: 12, Sensor: Elasto(95)'' successful.\n",
      "2025-03-23 12:11:33 [\u001B[92mINFO\u001B[0m] treeqinetic.classes.oscillation.fit: fit for measurement: 'Oscillation: 'PTQ_Meas_134053.txt', ID: 12, Sensor: Elasto(98)'' successful.\n",
      "2025-03-23 12:11:35 [\u001B[92mINFO\u001B[0m] treeqinetic.classes.oscillation.fit: fit for measurement: 'Oscillation: 'PTQ_Meas_134053.txt', ID: 12, Sensor: Elasto(92)'' successful.\n",
      "2025-03-23 12:11:38 [\u001B[92mINFO\u001B[0m] treeqinetic.classes.oscillation.fit: fit for measurement: 'Oscillation: 'PTQ_Meas_134053.txt', ID: 12, Sensor: Elasto(90)'' successful.\n",
      "2025-03-23 12:11:39 [\u001B[92mINFO\u001B[0m] treeqinetic.classes.oscillation.fit: fit for measurement: 'Oscillation: 'PTQ_Meas_134807.txt', ID: 13, Sensor: Elasto(95)'' successful.\n",
      "2025-03-23 12:11:41 [\u001B[92mINFO\u001B[0m] treeqinetic.classes.oscillation.fit: fit for measurement: 'Oscillation: 'PTQ_Meas_134807.txt', ID: 13, Sensor: Elasto(98)'' successful.\n",
      "2025-03-23 12:11:44 [\u001B[92mINFO\u001B[0m] treeqinetic.classes.oscillation.fit: fit for measurement: 'Oscillation: 'PTQ_Meas_134807.txt', ID: 13, Sensor: Elasto(92)'' successful.\n",
      "2025-03-23 12:11:45 [\u001B[92mINFO\u001B[0m] treeqinetic.classes.oscillation.fit: fit for measurement: 'Oscillation: 'PTQ_Meas_134807.txt', ID: 13, Sensor: Elasto(90)'' successful.\n",
      "2025-03-23 12:11:47 [\u001B[92mINFO\u001B[0m] treeqinetic.classes.oscillation.fit: fit for measurement: 'Oscillation: 'PTQ_Meas_135705.txt', ID: 14, Sensor: Elasto(95)'' successful.\n",
      "2025-03-23 12:11:49 [\u001B[92mINFO\u001B[0m] treeqinetic.classes.oscillation.fit: fit for measurement: 'Oscillation: 'PTQ_Meas_135705.txt', ID: 14, Sensor: Elasto(98)'' successful.\n",
      "2025-03-23 12:11:51 [\u001B[92mINFO\u001B[0m] treeqinetic.classes.oscillation.fit: fit for measurement: 'Oscillation: 'PTQ_Meas_135705.txt', ID: 14, Sensor: Elasto(92)'' successful.\n",
      "2025-03-23 12:11:52 [\u001B[93mWARNING\u001B[0m] treeqinetic.classes.oscillation.calc_metrics: 14_Elasto(90): Metric 'pearson_r' value 0.6706 outside of threshold range 0.75-1\n",
      "2025-03-23 12:11:52 [\u001B[92mINFO\u001B[0m] treeqinetic.classes.oscillation.fit: fit for measurement: 'Oscillation: 'PTQ_Meas_135705.txt', ID: 14, Sensor: Elasto(90)'' successful.\n",
      "2025-03-23 12:11:55 [\u001B[92mINFO\u001B[0m] treeqinetic.classes.oscillation.fit: fit for measurement: 'Oscillation: 'PTQ_Meas_140149.txt', ID: 15, Sensor: Elasto(95)'' successful.\n",
      "2025-03-23 12:11:56 [\u001B[92mINFO\u001B[0m] treeqinetic.classes.oscillation.fit: fit for measurement: 'Oscillation: 'PTQ_Meas_140149.txt', ID: 15, Sensor: Elasto(98)'' successful.\n",
      "2025-03-23 12:11:58 [\u001B[92mINFO\u001B[0m] treeqinetic.classes.oscillation.fit: fit for measurement: 'Oscillation: 'PTQ_Meas_140149.txt', ID: 15, Sensor: Elasto(92)'' successful.\n",
      "2025-03-23 12:12:00 [\u001B[92mINFO\u001B[0m] treeqinetic.classes.oscillation.fit: fit for measurement: 'Oscillation: 'PTQ_Meas_140149.txt', ID: 15, Sensor: Elasto(90)'' successful.\n",
      "2025-03-23 12:12:03 [\u001B[92mINFO\u001B[0m] treeqinetic.classes.oscillation.fit: fit for measurement: 'Oscillation: 'PTQ_Meas_140551.txt', ID: 16, Sensor: Elasto(95)'' successful.\n",
      "2025-03-23 12:12:04 [\u001B[92mINFO\u001B[0m] treeqinetic.classes.oscillation.fit: fit for measurement: 'Oscillation: 'PTQ_Meas_140551.txt', ID: 16, Sensor: Elasto(98)'' successful.\n",
      "2025-03-23 12:12:07 [\u001B[92mINFO\u001B[0m] treeqinetic.classes.oscillation.fit: fit for measurement: 'Oscillation: 'PTQ_Meas_140551.txt', ID: 16, Sensor: Elasto(92)'' successful.\n",
      "2025-03-23 12:12:11 [\u001B[92mINFO\u001B[0m] treeqinetic.classes.oscillation.fit: fit for measurement: 'Oscillation: 'PTQ_Meas_140551.txt', ID: 16, Sensor: Elasto(90)'' successful.\n",
      "2025-03-23 12:12:13 [\u001B[92mINFO\u001B[0m] treeqinetic.classes.oscillation.fit: fit for measurement: 'Oscillation: 'PTQ_Meas_141006.txt', ID: 17, Sensor: Elasto(95)'' successful.\n",
      "2025-03-23 12:12:15 [\u001B[92mINFO\u001B[0m] treeqinetic.classes.oscillation.fit: fit for measurement: 'Oscillation: 'PTQ_Meas_141006.txt', ID: 17, Sensor: Elasto(98)'' successful.\n",
      "2025-03-23 12:12:17 [\u001B[92mINFO\u001B[0m] treeqinetic.classes.oscillation.fit: fit for measurement: 'Oscillation: 'PTQ_Meas_141006.txt', ID: 17, Sensor: Elasto(92)'' successful.\n",
      "2025-03-23 12:12:19 [\u001B[92mINFO\u001B[0m] treeqinetic.classes.oscillation.fit: fit for measurement: 'Oscillation: 'PTQ_Meas_141006.txt', ID: 17, Sensor: Elasto(90)'' successful.\n",
      "2025-03-23 12:12:21 [\u001B[92mINFO\u001B[0m] treeqinetic.classes.oscillation.fit: fit for measurement: 'Oscillation: 'PTQ_Meas_141437.txt', ID: 18, Sensor: Elasto(95)'' successful.\n",
      "2025-03-23 12:12:22 [\u001B[92mINFO\u001B[0m] treeqinetic.classes.oscillation.fit: fit for measurement: 'Oscillation: 'PTQ_Meas_141437.txt', ID: 18, Sensor: Elasto(98)'' successful.\n",
      "2025-03-23 12:12:26 [\u001B[92mINFO\u001B[0m] treeqinetic.classes.oscillation.fit: fit for measurement: 'Oscillation: 'PTQ_Meas_141437.txt', ID: 18, Sensor: Elasto(92)'' successful.\n",
      "2025-03-23 12:12:28 [\u001B[92mINFO\u001B[0m] treeqinetic.classes.oscillation.fit: fit for measurement: 'Oscillation: 'PTQ_Meas_141437.txt', ID: 18, Sensor: Elasto(90)'' successful.\n",
      "2025-03-23 12:12:29 [\u001B[92mINFO\u001B[0m] treeqinetic.classes.oscillation.fit: fit for measurement: 'Oscillation: 'PTQ_Meas_141812.txt', ID: 19, Sensor: Elasto(95)'' successful.\n",
      "2025-03-23 12:12:31 [\u001B[92mINFO\u001B[0m] treeqinetic.classes.oscillation.fit: fit for measurement: 'Oscillation: 'PTQ_Meas_141812.txt', ID: 19, Sensor: Elasto(98)'' successful.\n",
      "2025-03-23 12:12:32 [\u001B[92mINFO\u001B[0m] treeqinetic.classes.oscillation.fit: fit for measurement: 'Oscillation: 'PTQ_Meas_141812.txt', ID: 19, Sensor: Elasto(92)'' successful.\n",
      "2025-03-23 12:12:33 [\u001B[92mINFO\u001B[0m] treeqinetic.classes.oscillation.fit: fit for measurement: 'Oscillation: 'PTQ_Meas_141812.txt', ID: 19, Sensor: Elasto(90)'' successful.\n",
      "2025-03-23 12:12:35 [\u001B[92mINFO\u001B[0m] treeqinetic.classes.oscillation.fit: fit for measurement: 'Oscillation: 'PTQ_Meas_150444.txt', ID: 20, Sensor: Elasto(95)'' successful.\n",
      "2025-03-23 12:12:37 [\u001B[92mINFO\u001B[0m] treeqinetic.classes.oscillation.fit: fit for measurement: 'Oscillation: 'PTQ_Meas_150444.txt', ID: 20, Sensor: Elasto(98)'' successful.\n",
      "2025-03-23 12:12:38 [\u001B[92mINFO\u001B[0m] treeqinetic.classes.oscillation.fit: fit for measurement: 'Oscillation: 'PTQ_Meas_150444.txt', ID: 20, Sensor: Elasto(92)'' successful.\n",
      "2025-03-23 12:12:40 [\u001B[92mINFO\u001B[0m] treeqinetic.classes.oscillation.fit: fit for measurement: 'Oscillation: 'PTQ_Meas_150444.txt', ID: 20, Sensor: Elasto(90)'' successful.\n",
      "2025-03-23 12:12:42 [\u001B[92mINFO\u001B[0m] treeqinetic.classes.oscillation.fit: fit for measurement: 'Oscillation: 'PTQ_Meas_151010.txt', ID: 21, Sensor: Elasto(95)'' successful.\n",
      "2025-03-23 12:12:43 [\u001B[92mINFO\u001B[0m] treeqinetic.classes.oscillation.fit: fit for measurement: 'Oscillation: 'PTQ_Meas_151010.txt', ID: 21, Sensor: Elasto(98)'' successful.\n",
      "2025-03-23 12:12:44 [\u001B[93mWARNING\u001B[0m] treeqinetic.classes.oscillation.calc_metrics: 21_Elasto(92): Metric 'pearson_r' value 0.5777 outside of threshold range 0.75-1\n",
      "2025-03-23 12:12:44 [\u001B[92mINFO\u001B[0m] treeqinetic.classes.oscillation.fit: fit for measurement: 'Oscillation: 'PTQ_Meas_151010.txt', ID: 21, Sensor: Elasto(92)'' successful.\n",
      "2025-03-23 12:12:46 [\u001B[92mINFO\u001B[0m] treeqinetic.classes.oscillation.fit: fit for measurement: 'Oscillation: 'PTQ_Meas_151010.txt', ID: 21, Sensor: Elasto(90)'' successful.\n",
      "2025-03-23 12:12:47 [\u001B[93mWARNING\u001B[0m] treeqinetic.classes.oscillation.calc_metrics: 22_Elasto(95): Metric 'pearson_r' value 0.7247 outside of threshold range 0.75-1\n",
      "2025-03-23 12:12:47 [\u001B[92mINFO\u001B[0m] treeqinetic.classes.oscillation.fit: fit for measurement: 'Oscillation: 'PTQ_Meas_151557.txt', ID: 22, Sensor: Elasto(95)'' successful.\n",
      "2025-03-23 12:12:49 [\u001B[92mINFO\u001B[0m] treeqinetic.classes.oscillation.fit: fit for measurement: 'Oscillation: 'PTQ_Meas_151557.txt', ID: 22, Sensor: Elasto(98)'' successful.\n",
      "2025-03-23 12:12:50 [\u001B[92mINFO\u001B[0m] treeqinetic.classes.oscillation.fit: fit for measurement: 'Oscillation: 'PTQ_Meas_151557.txt', ID: 22, Sensor: Elasto(92)'' successful.\n",
      "2025-03-23 12:12:51 [\u001B[92mINFO\u001B[0m] treeqinetic.classes.oscillation.fit: fit for measurement: 'Oscillation: 'PTQ_Meas_151557.txt', ID: 22, Sensor: Elasto(90)'' successful.\n",
      "2025-03-23 12:12:53 [\u001B[92mINFO\u001B[0m] treeqinetic.classes.oscillation.fit: fit for measurement: 'Oscillation: 'PTQ_Meas_153028.txt', ID: 23, Sensor: Elasto(95)'' successful.\n",
      "2025-03-23 12:12:55 [\u001B[92mINFO\u001B[0m] treeqinetic.classes.oscillation.fit: fit for measurement: 'Oscillation: 'PTQ_Meas_153028.txt', ID: 23, Sensor: Elasto(98)'' successful.\n",
      "2025-03-23 12:12:56 [\u001B[93mWARNING\u001B[0m] treeqinetic.classes.oscillation.calc_metrics: 23_Elasto(92): Metric 'pearson_r' value 0.6128 outside of threshold range 0.75-1\n",
      "2025-03-23 12:12:56 [\u001B[92mINFO\u001B[0m] treeqinetic.classes.oscillation.fit: fit for measurement: 'Oscillation: 'PTQ_Meas_153028.txt', ID: 23, Sensor: Elasto(92)'' successful.\n",
      "2025-03-23 12:12:58 [\u001B[92mINFO\u001B[0m] treeqinetic.classes.oscillation.fit: fit for measurement: 'Oscillation: 'PTQ_Meas_153028.txt', ID: 23, Sensor: Elasto(90)'' successful.\n",
      "2025-03-23 12:12:59 [\u001B[93mWARNING\u001B[0m] treeqinetic.classes.oscillation.calc_metrics: 24_Elasto(95): Metric 'pearson_r' value 0.7260 outside of threshold range 0.75-1\n",
      "2025-03-23 12:12:59 [\u001B[92mINFO\u001B[0m] treeqinetic.classes.oscillation.fit: fit for measurement: 'Oscillation: 'PTQ_Meas_153334.txt', ID: 24, Sensor: Elasto(95)'' successful.\n",
      "2025-03-23 12:13:01 [\u001B[92mINFO\u001B[0m] treeqinetic.classes.oscillation.fit: fit for measurement: 'Oscillation: 'PTQ_Meas_153334.txt', ID: 24, Sensor: Elasto(98)'' successful.\n",
      "2025-03-23 12:13:04 [\u001B[92mINFO\u001B[0m] treeqinetic.classes.oscillation.fit: fit for measurement: 'Oscillation: 'PTQ_Meas_153334.txt', ID: 24, Sensor: Elasto(92)'' successful.\n",
      "2025-03-23 12:13:05 [\u001B[92mINFO\u001B[0m] treeqinetic.classes.oscillation.fit: fit for measurement: 'Oscillation: 'PTQ_Meas_153334.txt', ID: 24, Sensor: Elasto(90)'' successful.\n",
      "2025-03-23 12:13:06 [\u001B[93mWARNING\u001B[0m] treeqinetic.classes.oscillation.calc_metrics: 25_Elasto(95): Metric 'pearson_r' value 0.6608 outside of threshold range 0.75-1\n",
      "2025-03-23 12:13:06 [\u001B[92mINFO\u001B[0m] treeqinetic.classes.oscillation.fit: fit for measurement: 'Oscillation: 'PTQ_Meas_153817.txt', ID: 25, Sensor: Elasto(95)'' successful.\n",
      "2025-03-23 12:13:08 [\u001B[92mINFO\u001B[0m] treeqinetic.classes.oscillation.fit: fit for measurement: 'Oscillation: 'PTQ_Meas_153817.txt', ID: 25, Sensor: Elasto(98)'' successful.\n",
      "2025-03-23 12:13:10 [\u001B[92mINFO\u001B[0m] treeqinetic.classes.oscillation.fit: fit for measurement: 'Oscillation: 'PTQ_Meas_153817.txt', ID: 25, Sensor: Elasto(92)'' successful.\n",
      "2025-03-23 12:13:11 [\u001B[92mINFO\u001B[0m] treeqinetic.classes.oscillation.fit: fit for measurement: 'Oscillation: 'PTQ_Meas_153817.txt', ID: 25, Sensor: Elasto(90)'' successful.\n",
      "2025-03-23 12:13:12 [\u001B[93mWARNING\u001B[0m] treeqinetic.classes.oscillation.calc_metrics: 26_Elasto(95): Metric 'pearson_r' value 0.7470 outside of threshold range 0.75-1\n",
      "2025-03-23 12:13:12 [\u001B[92mINFO\u001B[0m] treeqinetic.classes.oscillation.fit: fit for measurement: 'Oscillation: 'PTQ_Meas_154457.txt', ID: 26, Sensor: Elasto(95)'' successful.\n",
      "2025-03-23 12:13:14 [\u001B[92mINFO\u001B[0m] treeqinetic.classes.oscillation.fit: fit for measurement: 'Oscillation: 'PTQ_Meas_154457.txt', ID: 26, Sensor: Elasto(98)'' successful.\n",
      "2025-03-23 12:13:15 [\u001B[92mINFO\u001B[0m] treeqinetic.classes.oscillation.fit: fit for measurement: 'Oscillation: 'PTQ_Meas_154457.txt', ID: 26, Sensor: Elasto(92)'' successful.\n",
      "2025-03-23 12:13:17 [\u001B[92mINFO\u001B[0m] treeqinetic.classes.oscillation.fit: fit for measurement: 'Oscillation: 'PTQ_Meas_154457.txt', ID: 26, Sensor: Elasto(90)'' successful.\n",
      "2025-03-23 12:13:18 [\u001B[93mWARNING\u001B[0m] treeqinetic.classes.oscillation.calc_metrics: 27_Elasto(95): Metric 'pearson_r' value 0.6905 outside of threshold range 0.75-1\n",
      "2025-03-23 12:13:18 [\u001B[92mINFO\u001B[0m] treeqinetic.classes.oscillation.fit: fit for measurement: 'Oscillation: 'PTQ_Meas_155354.txt', ID: 27, Sensor: Elasto(95)'' successful.\n",
      "2025-03-23 12:13:21 [\u001B[92mINFO\u001B[0m] treeqinetic.classes.oscillation.fit: fit for measurement: 'Oscillation: 'PTQ_Meas_155354.txt', ID: 27, Sensor: Elasto(98)'' successful.\n",
      "2025-03-23 12:13:22 [\u001B[92mINFO\u001B[0m] treeqinetic.classes.oscillation.fit: fit for measurement: 'Oscillation: 'PTQ_Meas_155354.txt', ID: 27, Sensor: Elasto(92)'' successful.\n",
      "2025-03-23 12:13:25 [\u001B[92mINFO\u001B[0m] treeqinetic.classes.oscillation.fit: fit for measurement: 'Oscillation: 'PTQ_Meas_155354.txt', ID: 27, Sensor: Elasto(90)'' successful.\n",
      "2025-03-23 12:13:26 [\u001B[92mINFO\u001B[0m] treeqinetic.classes.oscillation.fit: fit for measurement: 'Oscillation: 'PTQ_Meas_155805.txt', ID: 28, Sensor: Elasto(95)'' successful.\n",
      "2025-03-23 12:13:28 [\u001B[92mINFO\u001B[0m] treeqinetic.classes.oscillation.fit: fit for measurement: 'Oscillation: 'PTQ_Meas_155805.txt', ID: 28, Sensor: Elasto(98)'' successful.\n",
      "2025-03-23 12:13:29 [\u001B[93mWARNING\u001B[0m] treeqinetic.classes.oscillation.calc_metrics: 28_Elasto(92): Metric 'pearson_r' value 0.6130 outside of threshold range 0.75-1\n",
      "2025-03-23 12:13:29 [\u001B[92mINFO\u001B[0m] treeqinetic.classes.oscillation.fit: fit for measurement: 'Oscillation: 'PTQ_Meas_155805.txt', ID: 28, Sensor: Elasto(92)'' successful.\n",
      "2025-03-23 12:13:31 [\u001B[92mINFO\u001B[0m] treeqinetic.classes.oscillation.fit: fit for measurement: 'Oscillation: 'PTQ_Meas_155805.txt', ID: 28, Sensor: Elasto(90)'' successful.\n",
      "2025-03-23 12:13:33 [\u001B[92mINFO\u001B[0m] treeqinetic.classes.oscillation.fit: fit for measurement: 'Oscillation: 'PTQ_Meas_160907.txt', ID: 29, Sensor: Elasto(95)'' successful.\n",
      "2025-03-23 12:13:35 [\u001B[92mINFO\u001B[0m] treeqinetic.classes.oscillation.fit: fit for measurement: 'Oscillation: 'PTQ_Meas_160907.txt', ID: 29, Sensor: Elasto(98)'' successful.\n",
      "2025-03-23 12:13:37 [\u001B[92mINFO\u001B[0m] treeqinetic.classes.oscillation.fit: fit for measurement: 'Oscillation: 'PTQ_Meas_160907.txt', ID: 29, Sensor: Elasto(92)'' successful.\n",
      "2025-03-23 12:13:39 [\u001B[92mINFO\u001B[0m] treeqinetic.classes.oscillation.fit: fit for measurement: 'Oscillation: 'PTQ_Meas_160907.txt', ID: 29, Sensor: Elasto(90)'' successful.\n"
     ]
    }
   ],
   "source": [
    "ptq_oscillations_ls = ptq_series.get_oscillations_list()\n",
    "\n",
    "initial_param = {\n",
    "    \"initial_amplitude\": 170,\n",
    "    \"damping_coeff\": 0.32,\n",
    "    \"frequency\": 0.44,\n",
    "    \"phase_angle\": 0,\n",
    "    \"y_shift\": 0,\n",
    "    \"x_shift\": 0\n",
    "}\n",
    "\n",
    "param_bounds = {\n",
    "    \"initial_amplitude\": (150, 250),\n",
    "    \"damping_coeff\": (0.1, 1),\n",
    "    \"frequency\": (0.35, 0.58),\n",
    "    \"phase_angle\": (-0.2, 0.2),\n",
    "    \"y_shift\": (-60, 60),\n",
    "    \"x_shift\": (-0.25, 0.75),\n",
    "}\n",
    "\n",
    "metrics_warning = {\n",
    "    \"pearson_r\": (0.75, 1),\n",
    "    \"nrmse\": (0, np.inf),\n",
    "    \"mae\": (0, np.inf),\n",
    "    \"nmae\": (0, 0.10)\n",
    "}\n",
    "\n",
    "for oscillation in ptq_oscillations_ls:\n",
    "    oscillation.fit(initial_param, param_bounds, optimize_criterion=\"mae\", metrics_warning=metrics_warning, plot=True,\n",
    "                    plot_error=True, dir_add=\"\", interpolate=True)"
   ]
  },
  {
   "cell_type": "markdown",
   "metadata": {
    "collapsed": false
   },
   "source": [
    "### Fehlerverteilung der Funktionsanpassung an Messdaten\n",
    "\n",
    "Die Funktion sammelt für alle Oscillation-Objekte die Fehler-Arrays der Anpassung und normalisiert die Fehler (um Unterschiede in der Skalierung zu entfernen).\n",
    "Anschließend werden die Fehler für alle Messungen A) für alle Sensoren gemeinsam und B) getrennt für jeden Sensor geplotet. Es werden Q-Q-Plot, Violin-Plot und Histogramme für den gleichen Sachverhalt erstellt und in `working_directory\\PTQ\\plots\\series_osc_errors` abgelegt.\n",
    "\n",
    "- `trim_hist_percent`: Beschneidet die Daten Links und Rechts um die äußersten x Prozent, da die Verteilung im Zentrum sonst kaum zu bewerten ist. Wirkt sich nur auf die Histogramme aus."
   ]
  },
  {
   "cell_type": "code",
   "execution_count": 17,
   "metadata": {
    "collapsed": false,
    "ExecuteTime": {
     "end_time": "2025-03-23T11:13:46.636167700Z",
     "start_time": "2025-03-23T11:13:40.366739700Z"
    }
   },
   "outputs": [],
   "source": [
    "all_normalized_errors = ptq_series.plot_osc_errors(plot_qq=True, plot_violin=True, plot_hist=True, hist_trim_percent=5)"
   ]
  },
  {
   "cell_type": "markdown",
   "metadata": {
    "ExecuteTime": {
     "end_time": "2023-12-01T09:59:03.316646700Z",
     "start_time": "2023-12-01T09:59:01.399969500Z"
    },
    "collapsed": false
   },
   "source": [
    "### PTQ: Zusammenfassung der Schwingungsparameter aller Oscillations als DataFrame\n",
    "\n",
    "'ptq_series.get_oscillations_df' fasst aus allen Oscillation-Instanzen der Messreihe ('ptq_series') die Schwingungsparameter als pandas.DataFrame zusammen"
   ]
  },
  {
   "cell_type": "code",
   "execution_count": 18,
   "metadata": {
    "collapsed": false,
    "ExecuteTime": {
     "end_time": "2025-03-23T11:13:46.661933500Z",
     "start_time": "2025-03-23T11:13:46.658324800Z"
    }
   },
   "outputs": [
    {
     "name": "stdout",
     "output_type": "stream",
     "text": [
      "metrics_warning_count: 9\n"
     ]
    },
    {
     "data": {
      "text/plain": "   id            file_name sensor_name  sample_rate  max_value  min_value  \\\n0   1  PTQ_Meas_100346.txt  Elasto(95)     4.003157      190.2     -119.1   \n1   1  PTQ_Meas_100346.txt  Elasto(98)     3.941160      141.6     -132.8   \n2   1  PTQ_Meas_100346.txt  Elasto(92)     3.941160      239.9      -86.6   \n\n   m_amplitude  m_amplitude_2  metrics_warning  initial_amplitude  ...  \\\n0       154.65          82.25            False         170.297574  ...   \n1       137.20          92.50            False         170.139165  ...   \n2       163.25          76.00            False         169.680935  ...   \n\n    x_shift  pearson_r  p_value        r2         mse       rmse     nrmse  \\\n0  0.056037   0.932709      0.0  0.866563  220.603098  14.852713  0.048022   \n1 -0.071196   0.979672      0.0  0.955691   67.464479   8.213676  0.029934   \n2 -0.115989   0.931204      0.0  0.838016  177.244389  13.313316  0.040776   \n\n         cv       mae      nmae  \n0 -0.520646  8.316242  0.026888  \n1 -0.399424  5.589256  0.020370  \n2 -1.212033  6.809497  0.020856  \n\n[3 rows x 24 columns]",
      "text/html": "<div>\n<style scoped>\n    .dataframe tbody tr th:only-of-type {\n        vertical-align: middle;\n    }\n\n    .dataframe tbody tr th {\n        vertical-align: top;\n    }\n\n    .dataframe thead th {\n        text-align: right;\n    }\n</style>\n<table border=\"1\" class=\"dataframe\">\n  <thead>\n    <tr style=\"text-align: right;\">\n      <th></th>\n      <th>id</th>\n      <th>file_name</th>\n      <th>sensor_name</th>\n      <th>sample_rate</th>\n      <th>max_value</th>\n      <th>min_value</th>\n      <th>m_amplitude</th>\n      <th>m_amplitude_2</th>\n      <th>metrics_warning</th>\n      <th>initial_amplitude</th>\n      <th>...</th>\n      <th>x_shift</th>\n      <th>pearson_r</th>\n      <th>p_value</th>\n      <th>r2</th>\n      <th>mse</th>\n      <th>rmse</th>\n      <th>nrmse</th>\n      <th>cv</th>\n      <th>mae</th>\n      <th>nmae</th>\n    </tr>\n  </thead>\n  <tbody>\n    <tr>\n      <th>0</th>\n      <td>1</td>\n      <td>PTQ_Meas_100346.txt</td>\n      <td>Elasto(95)</td>\n      <td>4.003157</td>\n      <td>190.2</td>\n      <td>-119.1</td>\n      <td>154.65</td>\n      <td>82.25</td>\n      <td>False</td>\n      <td>170.297574</td>\n      <td>...</td>\n      <td>0.056037</td>\n      <td>0.932709</td>\n      <td>0.0</td>\n      <td>0.866563</td>\n      <td>220.603098</td>\n      <td>14.852713</td>\n      <td>0.048022</td>\n      <td>-0.520646</td>\n      <td>8.316242</td>\n      <td>0.026888</td>\n    </tr>\n    <tr>\n      <th>1</th>\n      <td>1</td>\n      <td>PTQ_Meas_100346.txt</td>\n      <td>Elasto(98)</td>\n      <td>3.941160</td>\n      <td>141.6</td>\n      <td>-132.8</td>\n      <td>137.20</td>\n      <td>92.50</td>\n      <td>False</td>\n      <td>170.139165</td>\n      <td>...</td>\n      <td>-0.071196</td>\n      <td>0.979672</td>\n      <td>0.0</td>\n      <td>0.955691</td>\n      <td>67.464479</td>\n      <td>8.213676</td>\n      <td>0.029934</td>\n      <td>-0.399424</td>\n      <td>5.589256</td>\n      <td>0.020370</td>\n    </tr>\n    <tr>\n      <th>2</th>\n      <td>1</td>\n      <td>PTQ_Meas_100346.txt</td>\n      <td>Elasto(92)</td>\n      <td>3.941160</td>\n      <td>239.9</td>\n      <td>-86.6</td>\n      <td>163.25</td>\n      <td>76.00</td>\n      <td>False</td>\n      <td>169.680935</td>\n      <td>...</td>\n      <td>-0.115989</td>\n      <td>0.931204</td>\n      <td>0.0</td>\n      <td>0.838016</td>\n      <td>177.244389</td>\n      <td>13.313316</td>\n      <td>0.040776</td>\n      <td>-1.212033</td>\n      <td>6.809497</td>\n      <td>0.020856</td>\n    </tr>\n  </tbody>\n</table>\n<p>3 rows × 24 columns</p>\n</div>"
     },
     "execution_count": 18,
     "metadata": {},
     "output_type": "execute_result"
    }
   ],
   "source": [
    "ptq_metadata_df = ptq_series.get_oscillations_df()\n",
    "# Converting 'sensor_name' to categorical\n",
    "ptq_metadata_df['sensor_name'] = ptq_metadata_df['sensor_name'].astype('category')\n",
    "\n",
    "metrics_warning_count = ptq_metadata_df['metrics_warning'].sum()\n",
    "print(f\"metrics_warning_count: {metrics_warning_count}\")\n",
    "ptq_metadata_df.head(3)"
   ]
  },
  {
   "cell_type": "markdown",
   "source": [
    "### PTQ: Berechnung ergänzender Schwingungsparameter\n",
    "\n",
    "Ergänze rechnerische Schwingungsparameter die Rust(2013) genutzt hat"
   ],
   "metadata": {
    "collapsed": false
   }
  },
  {
   "cell_type": "code",
   "execution_count": 19,
   "outputs": [
    {
     "data": {
      "text/plain": "   id            file_name sensor_name  sample_rate  max_value  min_value  \\\n0   1  PTQ_Meas_100346.txt  Elasto(95)     4.003157      190.2     -119.1   \n1   1  PTQ_Meas_100346.txt  Elasto(98)     3.941160      141.6     -132.8   \n2   1  PTQ_Meas_100346.txt  Elasto(92)     3.941160      239.9      -86.6   \n3   1  PTQ_Meas_100346.txt  Elasto(90)     4.003157      363.5     -168.1   \n4   2  PTQ_Meas_101814.txt  Elasto(95)     3.447691      226.9      -90.4   \n\n   m_amplitude  m_amplitude_2  metrics_warning  initial_amplitude  ...  \\\n0       154.65          82.25            False         170.297574  ...   \n1       137.20          92.50            False         170.139165  ...   \n2       163.25          76.00            False         169.680935  ...   \n3       265.80         162.10            False         171.136900  ...   \n4       158.65          82.05            False         169.477340  ...   \n\n   p_value        r2         mse       rmse     nrmse         cv        mae  \\\n0      0.0  0.866563  220.603098  14.852713  0.048022  -0.520646   8.316242   \n1      0.0  0.955691   67.464479   8.213676  0.029934  -0.399424   5.589256   \n2      0.0  0.838016  177.244389  13.313316  0.040776  -1.212033   6.809497   \n3      0.0  0.877885  594.489599  24.382157  0.045868 -60.280300  10.359435   \n4      0.0  0.806841  202.691266  14.236968  0.044873  -0.886650   7.701531   \n\n       nmae  frequency_undamped  damping_ratio  \n0  0.026888            0.439638       0.647691  \n1  0.020370            0.444416       0.540475  \n2  0.020856            0.438912       0.643421  \n3  0.019488            0.442028       0.365278  \n4  0.024274            0.426319       0.823806  \n\n[5 rows x 26 columns]",
      "text/html": "<div>\n<style scoped>\n    .dataframe tbody tr th:only-of-type {\n        vertical-align: middle;\n    }\n\n    .dataframe tbody tr th {\n        vertical-align: top;\n    }\n\n    .dataframe thead th {\n        text-align: right;\n    }\n</style>\n<table border=\"1\" class=\"dataframe\">\n  <thead>\n    <tr style=\"text-align: right;\">\n      <th></th>\n      <th>id</th>\n      <th>file_name</th>\n      <th>sensor_name</th>\n      <th>sample_rate</th>\n      <th>max_value</th>\n      <th>min_value</th>\n      <th>m_amplitude</th>\n      <th>m_amplitude_2</th>\n      <th>metrics_warning</th>\n      <th>initial_amplitude</th>\n      <th>...</th>\n      <th>p_value</th>\n      <th>r2</th>\n      <th>mse</th>\n      <th>rmse</th>\n      <th>nrmse</th>\n      <th>cv</th>\n      <th>mae</th>\n      <th>nmae</th>\n      <th>frequency_undamped</th>\n      <th>damping_ratio</th>\n    </tr>\n  </thead>\n  <tbody>\n    <tr>\n      <th>0</th>\n      <td>1</td>\n      <td>PTQ_Meas_100346.txt</td>\n      <td>Elasto(95)</td>\n      <td>4.003157</td>\n      <td>190.2</td>\n      <td>-119.1</td>\n      <td>154.65</td>\n      <td>82.25</td>\n      <td>False</td>\n      <td>170.297574</td>\n      <td>...</td>\n      <td>0.0</td>\n      <td>0.866563</td>\n      <td>220.603098</td>\n      <td>14.852713</td>\n      <td>0.048022</td>\n      <td>-0.520646</td>\n      <td>8.316242</td>\n      <td>0.026888</td>\n      <td>0.439638</td>\n      <td>0.647691</td>\n    </tr>\n    <tr>\n      <th>1</th>\n      <td>1</td>\n      <td>PTQ_Meas_100346.txt</td>\n      <td>Elasto(98)</td>\n      <td>3.941160</td>\n      <td>141.6</td>\n      <td>-132.8</td>\n      <td>137.20</td>\n      <td>92.50</td>\n      <td>False</td>\n      <td>170.139165</td>\n      <td>...</td>\n      <td>0.0</td>\n      <td>0.955691</td>\n      <td>67.464479</td>\n      <td>8.213676</td>\n      <td>0.029934</td>\n      <td>-0.399424</td>\n      <td>5.589256</td>\n      <td>0.020370</td>\n      <td>0.444416</td>\n      <td>0.540475</td>\n    </tr>\n    <tr>\n      <th>2</th>\n      <td>1</td>\n      <td>PTQ_Meas_100346.txt</td>\n      <td>Elasto(92)</td>\n      <td>3.941160</td>\n      <td>239.9</td>\n      <td>-86.6</td>\n      <td>163.25</td>\n      <td>76.00</td>\n      <td>False</td>\n      <td>169.680935</td>\n      <td>...</td>\n      <td>0.0</td>\n      <td>0.838016</td>\n      <td>177.244389</td>\n      <td>13.313316</td>\n      <td>0.040776</td>\n      <td>-1.212033</td>\n      <td>6.809497</td>\n      <td>0.020856</td>\n      <td>0.438912</td>\n      <td>0.643421</td>\n    </tr>\n    <tr>\n      <th>3</th>\n      <td>1</td>\n      <td>PTQ_Meas_100346.txt</td>\n      <td>Elasto(90)</td>\n      <td>4.003157</td>\n      <td>363.5</td>\n      <td>-168.1</td>\n      <td>265.80</td>\n      <td>162.10</td>\n      <td>False</td>\n      <td>171.136900</td>\n      <td>...</td>\n      <td>0.0</td>\n      <td>0.877885</td>\n      <td>594.489599</td>\n      <td>24.382157</td>\n      <td>0.045868</td>\n      <td>-60.280300</td>\n      <td>10.359435</td>\n      <td>0.019488</td>\n      <td>0.442028</td>\n      <td>0.365278</td>\n    </tr>\n    <tr>\n      <th>4</th>\n      <td>2</td>\n      <td>PTQ_Meas_101814.txt</td>\n      <td>Elasto(95)</td>\n      <td>3.447691</td>\n      <td>226.9</td>\n      <td>-90.4</td>\n      <td>158.65</td>\n      <td>82.05</td>\n      <td>False</td>\n      <td>169.477340</td>\n      <td>...</td>\n      <td>0.0</td>\n      <td>0.806841</td>\n      <td>202.691266</td>\n      <td>14.236968</td>\n      <td>0.044873</td>\n      <td>-0.886650</td>\n      <td>7.701531</td>\n      <td>0.024274</td>\n      <td>0.426319</td>\n      <td>0.823806</td>\n    </tr>\n  </tbody>\n</table>\n<p>5 rows × 26 columns</p>\n</div>"
     },
     "execution_count": 19,
     "metadata": {},
     "output_type": "execute_result"
    }
   ],
   "source": [
    "def calculate_additional_parameters(df: pd.DataFrame) -> pd.DataFrame:\n",
    "    \"\"\"\n",
    "    Calculate additional parameters (ungedämpfte Frequenz, Dämpfungsgrad)\n",
    "    and append them to the DataFrame.\n",
    "\n",
    "    Args:\n",
    "    df (pd.DataFrame): Input DataFrame with necessary columns, where 'frequency' is in Hz.\n",
    "\n",
    "    Returns:\n",
    "    pd.DataFrame: DataFrame with additional parameters added.\n",
    "    \"\"\"\n",
    "    # Erstelle eine Kopie des DataFrames, um inplace-Operationen zu vermeiden\n",
    "    df = df.copy()\n",
    "\n",
    "    # Umbenennen der Spalte 'frequency' zu 'frequency_damped'\n",
    "    df = df.rename(columns={'frequency': 'frequency_damped'})\n",
    "\n",
    "    # Berechnung der ungedämpften Frequenz\n",
    "    df['frequency_undamped'] = np.sqrt(df['frequency_damped']**2 + (df['damping_coeff'] / (2 * np.pi))**2)\n",
    "\n",
    "    # Berechnung des Dämpfungsgrades\n",
    "    df['damping_ratio'] = df['damping_coeff'] / df['frequency_damped']\n",
    "\n",
    "    return df\n",
    "\n",
    "# Add additional parameters\n",
    "ptq_metadata_df = calculate_additional_parameters(ptq_metadata_df)\n",
    "ptq_metadata_df.head(5)\n"
   ],
   "metadata": {
    "collapsed": false,
    "ExecuteTime": {
     "end_time": "2025-03-23T11:13:46.729117800Z",
     "start_time": "2025-03-23T11:13:46.682258300Z"
    }
   }
  },
  {
   "cell_type": "markdown",
   "source": [
    "## PTQ: Daten Vorbereitung (Data Cleaning)"
   ],
   "metadata": {
    "collapsed": false
   }
  },
  {
   "cell_type": "markdown",
   "source": [
    "Ergänze maximale Dehnung und Stauchung zum ptq_metadata_df"
   ],
   "metadata": {
    "collapsed": false
   }
  },
  {
   "cell_type": "code",
   "execution_count": 20,
   "outputs": [
    {
     "data": {
      "text/plain": "     id            file_name sensor_name  sample_rate  max_value  min_value  \\\n0     1  PTQ_Meas_100346.txt  Elasto(95)     4.003157      190.2     -119.1   \n1     1  PTQ_Meas_100346.txt  Elasto(98)     3.941160      141.6     -132.8   \n2     1  PTQ_Meas_100346.txt  Elasto(92)     3.941160      239.9      -86.6   \n3     1  PTQ_Meas_100346.txt  Elasto(90)     4.003157      363.5     -168.1   \n4     2  PTQ_Meas_101814.txt  Elasto(95)     3.447691      226.9      -90.4   \n..   ..                  ...         ...          ...        ...        ...   \n111  28  PTQ_Meas_155805.txt  Elasto(90)     2.392208      322.6      -95.4   \n112  29  PTQ_Meas_160907.txt  Elasto(95)     2.967190      228.1      -23.9   \n113  29  PTQ_Meas_160907.txt  Elasto(98)     2.967190      150.4      -72.7   \n114  29  PTQ_Meas_160907.txt  Elasto(92)     2.967190      259.7      -22.0   \n115  29  PTQ_Meas_160907.txt  Elasto(90)     2.967190      383.8      -94.4   \n\n     m_amplitude  m_amplitude_2  metrics_warning  initial_amplitude  ...  \\\n0         154.65          82.25            False         170.297574  ...   \n1         137.20          92.50            False         170.139165  ...   \n2         163.25          76.00            False         169.680935  ...   \n3         265.80         162.10            False         171.136900  ...   \n4         158.65          82.05            False         169.477340  ...   \n..           ...            ...              ...                ...  ...   \n111       209.00          97.65            False         169.647929  ...   \n112       126.00          46.20            False         169.564768  ...   \n113       111.55          89.70            False         169.967223  ...   \n114       140.85          39.30            False         169.737537  ...   \n115       239.10         107.30            False         170.454183  ...   \n\n             mse       rmse     nrmse         cv        mae      nmae  \\\n0     220.603098  14.852713  0.048022  -0.520646   8.316242  0.026888   \n1      67.464479   8.213676  0.029934  -0.399424   5.589256  0.020370   \n2     177.244389  13.313316  0.040776  -1.212033   6.809497  0.020856   \n3     594.489599  24.382157  0.045868 -60.280300  10.359435  0.019488   \n4     202.691266  14.236968  0.044873  -0.886650   7.701531  0.024274   \n..           ...        ...       ...        ...        ...       ...   \n111   337.379431  18.367891  0.043943   0.937286  10.239514  0.024497   \n112   410.272163  20.255176  0.080378   3.804639   9.617778  0.038166   \n113   439.556078  20.965593  0.093978  -9.177909  12.110682  0.054286   \n114   488.029395  22.091387  0.078422   5.346908  10.226893  0.036304   \n115  1332.144003  36.498548  0.076325  12.131841  16.258373  0.033999   \n\n     frequency_undamped  damping_ratio  max_compression  max_strain  \n0              0.439638       0.647691           -119.1       215.0  \n1              0.444416       0.540475           -132.8       192.8  \n2              0.438912       0.643421            -86.6       240.9  \n3              0.442028       0.365278           -168.1       368.0  \n4              0.426319       0.823806            -90.4       254.4  \n..                  ...            ...              ...         ...  \n111            0.528304       0.723144            -95.4       323.2  \n112            0.455556       0.777837            -23.9       237.6  \n113            0.456087       0.468520            -72.7       165.8  \n114            0.463280       0.994797            -28.3       263.4  \n115            0.464445       0.475166            -94.4       388.3  \n\n[116 rows x 28 columns]",
      "text/html": "<div>\n<style scoped>\n    .dataframe tbody tr th:only-of-type {\n        vertical-align: middle;\n    }\n\n    .dataframe tbody tr th {\n        vertical-align: top;\n    }\n\n    .dataframe thead th {\n        text-align: right;\n    }\n</style>\n<table border=\"1\" class=\"dataframe\">\n  <thead>\n    <tr style=\"text-align: right;\">\n      <th></th>\n      <th>id</th>\n      <th>file_name</th>\n      <th>sensor_name</th>\n      <th>sample_rate</th>\n      <th>max_value</th>\n      <th>min_value</th>\n      <th>m_amplitude</th>\n      <th>m_amplitude_2</th>\n      <th>metrics_warning</th>\n      <th>initial_amplitude</th>\n      <th>...</th>\n      <th>mse</th>\n      <th>rmse</th>\n      <th>nrmse</th>\n      <th>cv</th>\n      <th>mae</th>\n      <th>nmae</th>\n      <th>frequency_undamped</th>\n      <th>damping_ratio</th>\n      <th>max_compression</th>\n      <th>max_strain</th>\n    </tr>\n  </thead>\n  <tbody>\n    <tr>\n      <th>0</th>\n      <td>1</td>\n      <td>PTQ_Meas_100346.txt</td>\n      <td>Elasto(95)</td>\n      <td>4.003157</td>\n      <td>190.2</td>\n      <td>-119.1</td>\n      <td>154.65</td>\n      <td>82.25</td>\n      <td>False</td>\n      <td>170.297574</td>\n      <td>...</td>\n      <td>220.603098</td>\n      <td>14.852713</td>\n      <td>0.048022</td>\n      <td>-0.520646</td>\n      <td>8.316242</td>\n      <td>0.026888</td>\n      <td>0.439638</td>\n      <td>0.647691</td>\n      <td>-119.1</td>\n      <td>215.0</td>\n    </tr>\n    <tr>\n      <th>1</th>\n      <td>1</td>\n      <td>PTQ_Meas_100346.txt</td>\n      <td>Elasto(98)</td>\n      <td>3.941160</td>\n      <td>141.6</td>\n      <td>-132.8</td>\n      <td>137.20</td>\n      <td>92.50</td>\n      <td>False</td>\n      <td>170.139165</td>\n      <td>...</td>\n      <td>67.464479</td>\n      <td>8.213676</td>\n      <td>0.029934</td>\n      <td>-0.399424</td>\n      <td>5.589256</td>\n      <td>0.020370</td>\n      <td>0.444416</td>\n      <td>0.540475</td>\n      <td>-132.8</td>\n      <td>192.8</td>\n    </tr>\n    <tr>\n      <th>2</th>\n      <td>1</td>\n      <td>PTQ_Meas_100346.txt</td>\n      <td>Elasto(92)</td>\n      <td>3.941160</td>\n      <td>239.9</td>\n      <td>-86.6</td>\n      <td>163.25</td>\n      <td>76.00</td>\n      <td>False</td>\n      <td>169.680935</td>\n      <td>...</td>\n      <td>177.244389</td>\n      <td>13.313316</td>\n      <td>0.040776</td>\n      <td>-1.212033</td>\n      <td>6.809497</td>\n      <td>0.020856</td>\n      <td>0.438912</td>\n      <td>0.643421</td>\n      <td>-86.6</td>\n      <td>240.9</td>\n    </tr>\n    <tr>\n      <th>3</th>\n      <td>1</td>\n      <td>PTQ_Meas_100346.txt</td>\n      <td>Elasto(90)</td>\n      <td>4.003157</td>\n      <td>363.5</td>\n      <td>-168.1</td>\n      <td>265.80</td>\n      <td>162.10</td>\n      <td>False</td>\n      <td>171.136900</td>\n      <td>...</td>\n      <td>594.489599</td>\n      <td>24.382157</td>\n      <td>0.045868</td>\n      <td>-60.280300</td>\n      <td>10.359435</td>\n      <td>0.019488</td>\n      <td>0.442028</td>\n      <td>0.365278</td>\n      <td>-168.1</td>\n      <td>368.0</td>\n    </tr>\n    <tr>\n      <th>4</th>\n      <td>2</td>\n      <td>PTQ_Meas_101814.txt</td>\n      <td>Elasto(95)</td>\n      <td>3.447691</td>\n      <td>226.9</td>\n      <td>-90.4</td>\n      <td>158.65</td>\n      <td>82.05</td>\n      <td>False</td>\n      <td>169.477340</td>\n      <td>...</td>\n      <td>202.691266</td>\n      <td>14.236968</td>\n      <td>0.044873</td>\n      <td>-0.886650</td>\n      <td>7.701531</td>\n      <td>0.024274</td>\n      <td>0.426319</td>\n      <td>0.823806</td>\n      <td>-90.4</td>\n      <td>254.4</td>\n    </tr>\n    <tr>\n      <th>...</th>\n      <td>...</td>\n      <td>...</td>\n      <td>...</td>\n      <td>...</td>\n      <td>...</td>\n      <td>...</td>\n      <td>...</td>\n      <td>...</td>\n      <td>...</td>\n      <td>...</td>\n      <td>...</td>\n      <td>...</td>\n      <td>...</td>\n      <td>...</td>\n      <td>...</td>\n      <td>...</td>\n      <td>...</td>\n      <td>...</td>\n      <td>...</td>\n      <td>...</td>\n      <td>...</td>\n    </tr>\n    <tr>\n      <th>111</th>\n      <td>28</td>\n      <td>PTQ_Meas_155805.txt</td>\n      <td>Elasto(90)</td>\n      <td>2.392208</td>\n      <td>322.6</td>\n      <td>-95.4</td>\n      <td>209.00</td>\n      <td>97.65</td>\n      <td>False</td>\n      <td>169.647929</td>\n      <td>...</td>\n      <td>337.379431</td>\n      <td>18.367891</td>\n      <td>0.043943</td>\n      <td>0.937286</td>\n      <td>10.239514</td>\n      <td>0.024497</td>\n      <td>0.528304</td>\n      <td>0.723144</td>\n      <td>-95.4</td>\n      <td>323.2</td>\n    </tr>\n    <tr>\n      <th>112</th>\n      <td>29</td>\n      <td>PTQ_Meas_160907.txt</td>\n      <td>Elasto(95)</td>\n      <td>2.967190</td>\n      <td>228.1</td>\n      <td>-23.9</td>\n      <td>126.00</td>\n      <td>46.20</td>\n      <td>False</td>\n      <td>169.564768</td>\n      <td>...</td>\n      <td>410.272163</td>\n      <td>20.255176</td>\n      <td>0.080378</td>\n      <td>3.804639</td>\n      <td>9.617778</td>\n      <td>0.038166</td>\n      <td>0.455556</td>\n      <td>0.777837</td>\n      <td>-23.9</td>\n      <td>237.6</td>\n    </tr>\n    <tr>\n      <th>113</th>\n      <td>29</td>\n      <td>PTQ_Meas_160907.txt</td>\n      <td>Elasto(98)</td>\n      <td>2.967190</td>\n      <td>150.4</td>\n      <td>-72.7</td>\n      <td>111.55</td>\n      <td>89.70</td>\n      <td>False</td>\n      <td>169.967223</td>\n      <td>...</td>\n      <td>439.556078</td>\n      <td>20.965593</td>\n      <td>0.093978</td>\n      <td>-9.177909</td>\n      <td>12.110682</td>\n      <td>0.054286</td>\n      <td>0.456087</td>\n      <td>0.468520</td>\n      <td>-72.7</td>\n      <td>165.8</td>\n    </tr>\n    <tr>\n      <th>114</th>\n      <td>29</td>\n      <td>PTQ_Meas_160907.txt</td>\n      <td>Elasto(92)</td>\n      <td>2.967190</td>\n      <td>259.7</td>\n      <td>-22.0</td>\n      <td>140.85</td>\n      <td>39.30</td>\n      <td>False</td>\n      <td>169.737537</td>\n      <td>...</td>\n      <td>488.029395</td>\n      <td>22.091387</td>\n      <td>0.078422</td>\n      <td>5.346908</td>\n      <td>10.226893</td>\n      <td>0.036304</td>\n      <td>0.463280</td>\n      <td>0.994797</td>\n      <td>-28.3</td>\n      <td>263.4</td>\n    </tr>\n    <tr>\n      <th>115</th>\n      <td>29</td>\n      <td>PTQ_Meas_160907.txt</td>\n      <td>Elasto(90)</td>\n      <td>2.967190</td>\n      <td>383.8</td>\n      <td>-94.4</td>\n      <td>239.10</td>\n      <td>107.30</td>\n      <td>False</td>\n      <td>170.454183</td>\n      <td>...</td>\n      <td>1332.144003</td>\n      <td>36.498548</td>\n      <td>0.076325</td>\n      <td>12.131841</td>\n      <td>16.258373</td>\n      <td>0.033999</td>\n      <td>0.464445</td>\n      <td>0.475166</td>\n      <td>-94.4</td>\n      <td>388.3</td>\n    </tr>\n  </tbody>\n</table>\n<p>116 rows × 28 columns</p>\n</div>"
     },
     "execution_count": 20,
     "metadata": {},
     "output_type": "execute_result"
    }
   ],
   "source": [
    "# Merging ptq_metadata_df and ptq_df_elasto\n",
    "ptq_metadata_df = pd.merge(ptq_metadata_df, ptq_df_elasto, on=['id', 'sensor_name'], how='left')\n",
    "ptq_metadata_df"
   ],
   "metadata": {
    "collapsed": false,
    "ExecuteTime": {
     "end_time": "2025-03-23T11:13:46.807728800Z",
     "start_time": "2025-03-23T11:13:46.685185100Z"
    }
   }
  },
  {
   "cell_type": "code",
   "execution_count": null,
   "metadata": {
    "collapsed": false
   },
   "outputs": [],
   "source": [
    "# Liste der Spalten, die beibehalten werden sollen\n",
    "select_cols = [\n",
    "    'id', \n",
    "    'sensor_name',\n",
    "    'max_strain',\n",
    "    'max_compression',\n",
    "    'm_amplitude', \n",
    "    'm_amplitude_2', \n",
    "    'initial_amplitude',\n",
    "    'damping_coeff', \n",
    "    'damping_ratio', \n",
    "    'frequency_damped', \n",
    "    'frequency_undamped', \n",
    "    'y_shift',\n",
    "    'pearson_r',\n",
    "    'nrmse', \n",
    "    'nmae', \n",
    "]\n",
    "\n",
    "# DataFrame auf die gewünschten Spalten reduzieren\n",
    "ptq_metadata_df = ptq_metadata_df[select_cols]\n"
   ]
  },
  {
   "cell_type": "code",
   "execution_count": null,
   "outputs": [],
   "source": [
    "ptq_metadata_df.head(3)"
   ],
   "metadata": {
    "collapsed": false
   }
  },
  {
   "cell_type": "markdown",
   "source": [
    "#### Datendokumentation:"
   ],
   "metadata": {
    "collapsed": false
   }
  },
  {
   "cell_type": "code",
   "execution_count": null,
   "outputs": [],
   "source": [
    "# Lade das Dictionary mit der Daten Dokumentation\n",
    "with open(data_path / \"feature_data_dict.json\", \"r\", encoding=\"utf-8\") as f:\n",
    "    feature_data_dict = json.load(f)\n",
    "\n",
    "data_dict = {**sensor_position_dict, **series_dict, **feature_data_dict}\n",
    "\n",
    "# Keys aller gewünschten Variablen (aus kombiniertem Dict)\n",
    "selected_keys = [\"id\", \"treatment\", \"sensor_name\", \"location\", \"height\", \"diameter\", \"rope_release\", \"max_strain\", \"calc_max_strain\", \"strain_difference\", \"release_force_target\", \"cable_max\", \"max_compression\", \"m_amplitude\", \"m_amplitude_2\", \"initial_amplitude\", \"damping_coeff\", \"damping_ratio\", \"frequency_damped\", \"frequency_undamped\", \"y_shift\", \"pearson_r\", \"nmae\"]\n",
    "\n",
    "# Nutze bestehende Felder\n",
    "selected_fields = [\"Zeichen\", \"Variable\", \"Deutsch\", \"Einheit\", \"Beschreibung\"]\n",
    "\n",
    "# Erzeuge DataFrame für LaTeX mit einheitlichem Aufbau\n",
    "combined_dict_df = extract_latex_dict_from_json(data_dict, selected_keys, selected_fields)\n",
    "\n",
    "# Exportiere als LaTeX\n",
    "latex_string = combined_dict_df.to_latex(index=False, escape=False)\n",
    "\n",
    "caption = \"Feldversuch 2 - Ergebnisse, Daten Dokumentation\"\n",
    "caption_long = \"Feldversuch 2 - Ergebnisse, Kräfte, Dehnungen und Schwingungsparameter, Daten Dokumentation\"\n",
    "\n",
    "save_latex_table(latex_string, caption, latex_export_directory, caption_long=caption_long)"
   ],
   "metadata": {
    "collapsed": false
   }
  }
 ],
 "metadata": {
  "kernelspec": {
   "display_name": "Python 3 (ipykernel)",
   "language": "python",
   "name": "python3"
  },
  "language_info": {
   "codemirror_mode": {
    "name": "ipython",
    "version": 3
   },
   "file_extension": ".py",
   "mimetype": "text/x-python",
   "name": "python",
   "nbconvert_exporter": "python",
   "pygments_lexer": "ipython3",
   "version": "3.11.2"
  }
 },
 "nbformat": 4,
 "nbformat_minor": 4
}
