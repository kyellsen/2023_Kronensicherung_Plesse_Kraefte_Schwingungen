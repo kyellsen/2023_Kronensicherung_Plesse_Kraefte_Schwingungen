{
 "cells": [
  {
   "cell_type": "markdown",
   "metadata": {},
   "source": [
    "---\n",
    "title: \"2023_Kronensicherung_Plesse_003_PTQ\"\n",
    "author: \"Kyell Jensen\"\n",
    "date: \"2024-08-06\"\n",
    "format: pdf\n",
    "editor: visual\n",
    "---"
   ]
  },
  {
   "cell_type": "markdown",
   "metadata": {
    "collapsed": false
   },
   "source": [
    "# 2023_Kronensicherung_Plesse_PTQ\n",
    "## ## PTQ: Daten der Elastometer (PicusTreeQinetic Data = PTQ)\n",
    "\n",
    "Nutze eine geeignete Python 3.11 Umgebung (z. B. virtuelle Environment) und installiere das Paket treeqinetic (PTQ) inklusive kj_core und kj_logger und weiteren requirements."
   ]
  },
  {
   "cell_type": "markdown",
   "metadata": {
    "collapsed": false
   },
   "source": [
    "## Arbeitsumgebung vorbereiten\n",
    "\n",
    "\n",
    "Es werden zuerst benötigte Standard-Pakete importiert. Nachfolgend das extra geschriebenen Pakete PTQ. Fehler beim Import dieses Pakets sind ggf. Bugs. Es nutzte eine gemeinsame CodeBasis in den Paketen kj_core (Core-Package) und kj_logger (individualisiertes Logging des Verarbeitungs-Prozesses). Diese sollte i. d. R. über die requirements mit installiert werden."
   ]
  },
  {
   "cell_type": "markdown",
   "metadata": {
    "collapsed": false
   },
   "source": [
    "### IMPORT: Importieren von Standardbibliotheken\n",
    "\n",
    "Die folgenden Bibliotheken werden importiert, um grundlegende Funktionen für Strukturierung, Datenverarbeitung, Plotting und statistische Auswertung bereit zu stellen."
   ]
  },
  {
   "cell_type": "code",
   "execution_count": 1,
   "metadata": {
    "ExecuteTime": {
     "end_time": "2025-03-29T12:05:21.779526800Z",
     "start_time": "2025-03-29T12:05:19.295427500Z"
    }
   },
   "outputs": [],
   "source": [
    "import numpy as np\n",
    "import pandas as pd\n",
    "import json\n",
    "from IPython.display import Markdown, display\n",
    "from pandas.api.types import CategoricalDtype"
   ]
  },
  {
   "cell_type": "markdown",
   "metadata": {
    "collapsed": false
   },
   "source": [
    "### IMPORT: Importieren eigenes Packet TreeQinetic\n",
    "\n",
    "Das Packet TreeQinetic wurde vom Autor (Kyell Jensen) zum einfachen Analysieren, Plotten und zur Interpretation der TXT-Messdaten der Picus TreeQinetic Elastometer und Inclinometer der Firma IML Instrumenta Mechanik Labor Electronic GmbH geschrieben (https://www.iml-electronic.de/produkt/picus-treeqinetic/). Nachfolgend wird das Packet und einige dort definierten Klassen importiert."
   ]
  },
  {
   "cell_type": "code",
   "execution_count": 2,
   "metadata": {
    "collapsed": false,
    "ExecuteTime": {
     "end_time": "2025-03-29T12:05:21.795150800Z",
     "start_time": "2025-03-29T12:05:19.306485500Z"
    }
   },
   "outputs": [],
   "source": [
    "import treeqinetic as ptq\n",
    "# ptq.help() # Test"
   ]
  },
  {
   "cell_type": "markdown",
   "source": [
    "Lade allgemeine Export-Funktionen, um die Daten als Latex-Tabellen zu exportieren"
   ],
   "metadata": {
    "collapsed": false
   }
  },
  {
   "cell_type": "code",
   "execution_count": 3,
   "outputs": [],
   "source": [
    "from kj_core.utils.latex_export import (\n",
    "    save_latex_table,\n",
    "    build_data_dict_df\n",
    ")"
   ],
   "metadata": {
    "collapsed": false,
    "ExecuteTime": {
     "end_time": "2025-03-29T12:05:21.795150800Z",
     "start_time": "2025-03-29T12:05:20.445299100Z"
    }
   }
  },
  {
   "cell_type": "markdown",
   "source": [
    "### IMPORT: Projekt Konfiguration laden\n",
    "\n",
    "Lege Pfade für Daten-Importe, Daten-Exporte etc. fest (ggf. anpassen an eigene Verzeichnisstruktur), ausgelagert in gemeinsame Config für verschiedene Notebooks"
   ],
   "metadata": {
    "collapsed": false
   }
  },
  {
   "cell_type": "code",
   "execution_count": 4,
   "outputs": [],
   "source": [
    "# Importiere alle Einstellungen aus der project_config.py\n",
    "from project_config import (\n",
    "    analyse_name,\n",
    "    working_directory,\n",
    "    data_path,\n",
    "    data_export_directory,\n",
    "    latex_export_directory\n",
    ")"
   ],
   "metadata": {
    "collapsed": false,
    "ExecuteTime": {
     "end_time": "2025-03-29T12:05:21.795150800Z",
     "start_time": "2025-03-29T12:05:20.456327900Z"
    }
   }
  },
  {
   "cell_type": "markdown",
   "source": [],
   "metadata": {
    "collapsed": false
   }
  },
  {
   "cell_type": "markdown",
   "source": [
    "## IMPORT: TreeQinetic Daten laden\n",
    "\n",
    "Aus dem Zugversuchsset wurden 4 Elastometer und 3 Inclinometer verwendet.\n",
    "\n",
    "Die Elastometer waren auf dem rechten und linken Stämmling auf der Außenseite in zwei Ebenen platziert. Beim Zusammenziehen der Stämmlinge messen diese entsprechnd eine Faserdehnung, beim Ausschwingen der Stämmlinge über ihre Ruhelage hinaus nach außen eine Faserstauchung.\n",
    "\n",
    "Die Inclinometer Daten werden hier ebefalls geladen, erschienen aber weniger geeignet zur Auswertung und werden entspricht nicht weiter berücksichtigt.\n",
    "\n",
    "Die Funktion 'ptq.setup' erstellt div. Instanzen, die für das Paket notwendig sind (CONFIG, LOG_MANAGER, PLOT_MANAGER). \n",
    "\n",
    "Über die Klasse 'ptq.Series' wird eine neue Messreihe initialisiert und als 'ptq_series' gespeichert. Im Verzeichnis ptq_data_path finden sich die PTQ Daten als TXT von insgesamt 29 Messungen. Eine Datei enthält jeweils die Daten für alle Inclinometer und Elastometer."
   ],
   "metadata": {
    "collapsed": false
   }
  },
  {
   "cell_type": "code",
   "execution_count": 5,
   "outputs": [
    {
     "name": "stderr",
     "output_type": "stream",
     "text": [
      "2025-03-29 13:05:20 [\u001B[92mINFO\u001B[0m] kj_logger.update_config: <kj_logger.LogManager object at 0x0000027BFDDA8C50> initialized - update_config! Code: 000\n",
      "2025-03-29 13:05:20 [\u001B[92mINFO\u001B[0m] kj_core.core_config.set_working_directory: The directory C:\\kyellsen\\005_Projekte\\2024_BA\\032_Feldversuch_2023_Plesse\\030_Analysen\\2023_Kronensicherung_Plesse_Kraefte_Schwingungen\\working_directory\\ptq was successfully created.\n",
      "2025-03-29 13:05:20 [\u001B[92mINFO\u001B[0m] kj_core.core_config.set_working_directory: Working directory set to C:\\kyellsen\\005_Projekte\\2024_BA\\032_Feldversuch_2023_Plesse\\030_Analysen\\2023_Kronensicherung_Plesse_Kraefte_Schwingungen\\working_directory\\ptq!\n",
      "2025-03-29 13:05:20 [\u001B[92mINFO\u001B[0m] kj_core.core_config.__init__: <CoreConfig>\n",
      "  Package:            treeqinetic\n",
      "  Working Directory:  C:\\kyellsen\\005_Projekte\\2024_BA\\032_Feldversuch_2023_Plesse\\030_Analysen\\2023_Kronensicherung_Plesse_Kraefte_Schwingungen\\working_directory\\ptq\n",
      "  Plot Directory:     C:\\kyellsen\\005_Projekte\\2024_BA\\032_Feldversuch_2023_Plesse\\030_Analysen\\2023_Kronensicherung_Plesse_Kraefte_Schwingungen\\working_directory\\ptq\\plots\n",
      "  Data Directory:     C:\\kyellsen\\005_Projekte\\2024_BA\\032_Feldversuch_2023_Plesse\\030_Analysen\\2023_Kronensicherung_Plesse_Kraefte_Schwingungen\\working_directory\\ptq\\data\n",
      "  Database Directory: C:\\kyellsen\\005_Projekte\\2024_BA\\032_Feldversuch_2023_Plesse\\030_Analysen\\2023_Kronensicherung_Plesse_Kraefte_Schwingungen\\working_directory\\ptq\\databases\n",
      " initialized! Code: 001\n",
      "2025-03-29 13:05:20 [\u001B[92mINFO\u001B[0m] treeqinetic.setup: ptq: Setup treeqinetic package!\n",
      "2025-03-29 13:05:20 [\u001B[92mINFO\u001B[0m] kj_core.utils.plot_manager.__init__: <PlotManager>\n",
      "  Plot Directory:    C:\\kyellsen\\005_Projekte\\2024_BA\\032_Feldversuch_2023_Plesse\\030_Analysen\\2023_Kronensicherung_Plesse_Kraefte_Schwingungen\\working_directory\\ptq\\plots\n",
      "  DPI:               300\n",
      "  Figure Size:       (8, 6)\n",
      "  Seaborn Style:     'whitegrid'\n",
      "  Color Palette:     'bright'\n",
      "  Grid Enabled:      True\n",
      "  Wide Format:       True\n",
      "  From Config:       Config\n",
      " initialized! Code: 005\n",
      "2025-03-29 13:05:20 [\u001B[92mINFO\u001B[0m] treeqinetic.setup: ptq: treeqinetic setup completed.\n",
      "2025-03-29 13:05:20 [\u001B[92mINFO\u001B[0m] treeqinetic.classes.measurement.read_txt: Read TXT for Measurement: 'PTQ_Meas_100346.txt', ID: 1, Start '2023-03-22 10:10:39.830198' to '2023-03-22 10:13:21.602198' successful.\n",
      "2025-03-29 13:05:20 [\u001B[92mINFO\u001B[0m] treeqinetic.classes.measurement.read_txt: Read TXT for Measurement: 'PTQ_Meas_101814.txt', ID: 2, Start '2023-03-22 10:18:33.334820' to '2023-03-22 10:21:25.691820' successful.\n",
      "2025-03-29 13:05:20 [\u001B[92mINFO\u001B[0m] treeqinetic.classes.measurement.read_txt: Read TXT for Measurement: 'PTQ_Meas_102314.txt', ID: 3, Start '2023-03-22 10:26:25.086505' to '2023-03-22 10:28:50.847505' successful.\n",
      "2025-03-29 13:05:20 [\u001B[92mINFO\u001B[0m] treeqinetic.classes.measurement.read_txt: Read TXT for Measurement: 'PTQ_Meas_104400.txt', ID: 4, Start '2023-03-22 10:50:02.131987' to '2023-03-22 10:52:43.662987' successful.\n",
      "2025-03-29 13:05:20 [\u001B[92mINFO\u001B[0m] treeqinetic.classes.measurement.read_txt: Read TXT for Measurement: 'PTQ_Meas_105549.txt', ID: 5, Start '2023-03-22 10:55:59.034260' to '2023-03-22 10:58:38.051260' successful.\n",
      "2025-03-29 13:05:20 [\u001B[92mINFO\u001B[0m] treeqinetic.classes.measurement.read_txt: Read TXT for Measurement: 'PTQ_Meas_110107.txt', ID: 6, Start '2023-03-22 11:02:37.653620' to '2023-03-22 11:04:32.486620' successful.\n",
      "2025-03-29 13:05:20 [\u001B[92mINFO\u001B[0m] treeqinetic.classes.measurement.read_txt: Read TXT for Measurement: 'PTQ_Meas_110558.txt', ID: 7, Start '2023-03-22 11:06:16.330019' to '2023-03-22 11:08:10.160019' successful.\n",
      "2025-03-29 13:05:20 [\u001B[92mINFO\u001B[0m] treeqinetic.classes.measurement.read_txt: Read TXT for Measurement: 'PTQ_Meas_111019.txt', ID: 8, Start '2023-03-22 11:10:38.251994' to '2023-03-22 11:12:26.538994' successful.\n",
      "2025-03-29 13:05:20 [\u001B[92mINFO\u001B[0m] treeqinetic.classes.measurement.read_txt: Read TXT for Measurement: 'PTQ_Meas_111713.txt', ID: 9, Start '2023-03-22 11:21:04.844142' to '2023-03-22 11:23:02.055142' successful.\n",
      "2025-03-29 13:05:20 [\u001B[92mINFO\u001B[0m] treeqinetic.classes.measurement.read_txt: Read TXT for Measurement: 'PTQ_Meas_112120.txt', ID: 10, Start '2023-03-22 11:22:46.612488' to '2023-03-22 11:26:15.605488' successful.\n",
      "2025-03-29 13:05:20 [\u001B[92mINFO\u001B[0m] treeqinetic.classes.measurement.read_txt: Read TXT for Measurement: 'PTQ_Meas_133316.txt', ID: 11, Start '2023-03-22 13:36:32.068787' to '2023-03-22 13:38:55.286787' successful.\n",
      "2025-03-29 13:05:20 [\u001B[92mINFO\u001B[0m] treeqinetic.classes.measurement.read_txt: Read TXT for Measurement: 'PTQ_Meas_134053.txt', ID: 12, Start '2023-03-22 13:42:13.782157' to '2023-03-22 13:44:46.281157' successful.\n",
      "2025-03-29 13:05:20 [\u001B[92mINFO\u001B[0m] treeqinetic.classes.measurement.read_txt: Read TXT for Measurement: 'PTQ_Meas_134807.txt', ID: 13, Start '2023-03-22 13:49:21.347406' to '2023-03-22 13:51:37.799406' successful.\n",
      "2025-03-29 13:05:20 [\u001B[92mINFO\u001B[0m] treeqinetic.classes.measurement.read_txt: Read TXT for Measurement: 'PTQ_Meas_135705.txt', ID: 14, Start '2023-03-22 13:59:44.050912' to '2023-03-22 14:02:02.505912' successful.\n",
      "2025-03-29 13:05:21 [\u001B[92mINFO\u001B[0m] treeqinetic.classes.measurement.read_txt: Read TXT for Measurement: 'PTQ_Meas_140149.txt', ID: 15, Start '2023-03-22 14:04:38.399621' to '2023-03-22 14:06:40.181621' successful.\n",
      "2025-03-29 13:05:21 [\u001B[92mINFO\u001B[0m] treeqinetic.classes.measurement.read_txt: Read TXT for Measurement: 'PTQ_Meas_140551.txt', ID: 16, Start '2023-03-22 14:08:22.949140' to '2023-03-22 14:10:39.593140' successful.\n",
      "2025-03-29 13:05:21 [\u001B[92mINFO\u001B[0m] treeqinetic.classes.measurement.read_txt: Read TXT for Measurement: 'PTQ_Meas_141006.txt', ID: 17, Start '2023-03-22 14:12:35.404214' to '2023-03-22 14:14:35.383214' successful.\n",
      "2025-03-29 13:05:21 [\u001B[92mINFO\u001B[0m] treeqinetic.classes.measurement.read_txt: Read TXT for Measurement: 'PTQ_Meas_141437.txt', ID: 18, Start '2023-03-22 14:15:47.525869999' to '2023-03-22 14:18:26.172870' successful.\n",
      "2025-03-29 13:05:21 [\u001B[92mINFO\u001B[0m] treeqinetic.classes.measurement.read_txt: Read TXT for Measurement: 'PTQ_Meas_141812.txt', ID: 19, Start '2023-03-22 14:20:37.937304' to '2023-03-22 14:22:53.243304' successful.\n",
      "2025-03-29 13:05:21 [\u001B[92mINFO\u001B[0m] treeqinetic.classes.measurement.read_txt: Read TXT for Measurement: 'PTQ_Meas_150444.txt', ID: 20, Start '2023-03-22 15:07:26.211509' to '2023-03-22 15:09:24.888509' successful.\n",
      "2025-03-29 13:05:21 [\u001B[92mINFO\u001B[0m] treeqinetic.classes.measurement.read_txt: Read TXT for Measurement: 'PTQ_Meas_151010.txt', ID: 21, Start '2023-03-22 15:11:29.776214' to '2023-03-22 15:14:08.830214' successful.\n",
      "2025-03-29 13:05:21 [\u001B[92mINFO\u001B[0m] treeqinetic.classes.measurement.read_txt: Read TXT for Measurement: 'PTQ_Meas_151557.txt', ID: 22, Start '2023-03-22 15:16:01.811379' to '2023-03-22 15:20:03.954379' successful.\n",
      "2025-03-29 13:05:21 [\u001B[92mINFO\u001B[0m] treeqinetic.classes.measurement.read_txt: Read TXT for Measurement: 'PTQ_Meas_153028.txt', ID: 23, Start '2023-03-22 15:30:29.626130' to '2023-03-22 15:32:42.861130' successful.\n",
      "2025-03-29 13:05:21 [\u001B[92mINFO\u001B[0m] treeqinetic.classes.measurement.read_txt: Read TXT for Measurement: 'PTQ_Meas_153334.txt', ID: 24, Start '2023-03-22 15:36:28.333785' to '2023-03-22 15:39:10.601785' successful.\n",
      "2025-03-29 13:05:21 [\u001B[92mINFO\u001B[0m] treeqinetic.classes.measurement.read_txt: Read TXT for Measurement: 'PTQ_Meas_153817.txt', ID: 25, Start '2023-03-22 15:39:36.853689' to '2023-03-22 15:45:22.562689' successful.\n",
      "2025-03-29 13:05:21 [\u001B[92mINFO\u001B[0m] treeqinetic.classes.measurement.read_txt: Read TXT for Measurement: 'PTQ_Meas_154457.txt', ID: 26, Start '2023-03-22 15:53:18.604797' to '2023-03-22 15:56:04.346797' successful.\n",
      "2025-03-29 13:05:21 [\u001B[92mINFO\u001B[0m] treeqinetic.classes.measurement.read_txt: Read TXT for Measurement: 'PTQ_Meas_155354.txt', ID: 27, Start '2023-03-22 15:53:59.248874' to '2023-03-22 15:57:16.416874' successful.\n",
      "2025-03-29 13:05:21 [\u001B[92mINFO\u001B[0m] treeqinetic.classes.measurement.read_txt: Read TXT for Measurement: 'PTQ_Meas_155805.txt', ID: 28, Start '2023-03-22 15:59:19.859928' to '2023-03-22 16:00:54.129927999' successful.\n",
      "2025-03-29 13:05:21 [\u001B[92mINFO\u001B[0m] treeqinetic.classes.measurement.read_txt: Read TXT for Measurement: 'PTQ_Meas_160907.txt', ID: 29, Start '2023-03-22 16:09:36.011613' to '2023-03-22 16:12:55.455613' successful.\n"
     ]
    }
   ],
   "source": [
    "ptq.setup(working_directory=working_directory, log_level=\"info\", safe_logs_to_file=True)\n",
    "\n",
    "ptq_data_path = data_path / 'PTQ/data_txt'\n",
    "ptq_series = ptq.classes.Series(name=analyse_name, path=ptq_data_path)\n",
    "\n",
    "# Relevante Elastometer\n",
    "elasto_names = [\"Elasto(90)\", \"Elasto(92)\", \"Elasto(95)\", \"Elasto(98)\"]"
   ],
   "metadata": {
    "collapsed": false,
    "ExecuteTime": {
     "end_time": "2025-03-29T12:05:21.795150800Z",
     "start_time": "2025-03-29T12:05:20.466123400Z"
    }
   }
  },
  {
   "cell_type": "markdown",
   "source": [
    "## ANALYSE: Explorative Datenanalyse\n",
    "\n",
    "Übersicht über alle vom PTQ erfassten Daten über alle Messungen gemeinsam (Elastos und Inclinos)."
   ],
   "metadata": {
    "collapsed": false
   }
  },
  {
   "cell_type": "code",
   "execution_count": 6,
   "outputs": [
    {
     "data": {
      "text/plain": "       ID   Nr                   Datetime  Sec_Since_Start  Elasto(98)  \\\n0       1    0 2023-03-22 10:10:39.830198            0.000         NaN   \n1       1    1 2023-03-22 10:10:40.089198            0.259        -3.7   \n2       1    2 2023-03-22 10:10:40.329198            0.499        -4.3   \n3       1    3 2023-03-22 10:10:40.575198            0.745        -5.8   \n4       1    4 2023-03-22 10:10:40.817198            0.987        -5.9   \n...    ..  ...                        ...              ...         ...   \n17831  29  559 2023-03-22 16:12:54.492613          198.481        -0.7   \n17832  29  560 2023-03-22 16:12:54.734613          198.723        -0.4   \n17833  29  561 2023-03-22 16:12:54.974613          198.963        -0.1   \n17834  29  562 2023-03-22 16:12:55.214613          199.203         0.2   \n17835  29  563 2023-03-22 16:12:55.455613          199.444         0.7   \n\n       Elasto(95)  Elasto(92)  Elasto(90)  Inclino(85)X  Inclino(85)Y  \\\n0           -10.8         2.2        14.2         0.187           0.0   \n1           -11.1         3.1        14.7         0.174           0.0   \n2           -11.4         2.6        15.2         0.161           0.0   \n3           -11.5         3.3        15.5         0.123           0.0   \n4           -11.8         3.4        15.5         0.098           0.0   \n...           ...         ...         ...           ...           ...   \n17831        -0.9        -7.3       -15.9         0.149           0.0   \n17832        -0.5        -8.0       -16.3         0.039           0.0   \n17833         0.0        -8.2       -16.4         0.071           0.0   \n17834         0.7        -9.0       -16.3         0.151           0.0   \n17835         1.0        -8.9       -15.6         0.213           0.0   \n\n       Inclino(83)X  Inclino(83)Y  Inclino(82)X  Inclino(82)Y  Inclino(81)X  \\\n0            -0.180        -0.036        -0.055         0.061        -0.004   \n1            -0.195        -0.017        -0.066         0.051        -0.002   \n2            -0.205         0.016        -0.074         0.057         0.000   \n3            -0.207         0.054        -0.082         0.077        -0.001   \n4            -0.204         0.096        -0.087         0.101        -0.001   \n...             ...           ...           ...           ...           ...   \n17831         0.527         0.112         0.030         0.122         0.008   \n17832         0.546         0.018         0.051         0.062        -0.001   \n17833         0.563        -0.070         0.071         0.006         0.000   \n17834         0.579        -0.122         0.095        -0.042        -0.002   \n17835         0.603        -0.143         0.112        -0.077        -0.004   \n\n       Inclino(81)Y  \n0            -0.004  \n1            -0.004  \n2            -0.003  \n3            -0.006  \n4            -0.003  \n...             ...  \n17831        -0.002  \n17832        -0.002  \n17833        -0.002  \n17834         0.001  \n17835         0.001  \n\n[17836 rows x 16 columns]",
      "text/html": "<div>\n<style scoped>\n    .dataframe tbody tr th:only-of-type {\n        vertical-align: middle;\n    }\n\n    .dataframe tbody tr th {\n        vertical-align: top;\n    }\n\n    .dataframe thead th {\n        text-align: right;\n    }\n</style>\n<table border=\"1\" class=\"dataframe\">\n  <thead>\n    <tr style=\"text-align: right;\">\n      <th></th>\n      <th>ID</th>\n      <th>Nr</th>\n      <th>Datetime</th>\n      <th>Sec_Since_Start</th>\n      <th>Elasto(98)</th>\n      <th>Elasto(95)</th>\n      <th>Elasto(92)</th>\n      <th>Elasto(90)</th>\n      <th>Inclino(85)X</th>\n      <th>Inclino(85)Y</th>\n      <th>Inclino(83)X</th>\n      <th>Inclino(83)Y</th>\n      <th>Inclino(82)X</th>\n      <th>Inclino(82)Y</th>\n      <th>Inclino(81)X</th>\n      <th>Inclino(81)Y</th>\n    </tr>\n  </thead>\n  <tbody>\n    <tr>\n      <th>0</th>\n      <td>1</td>\n      <td>0</td>\n      <td>2023-03-22 10:10:39.830198</td>\n      <td>0.000</td>\n      <td>NaN</td>\n      <td>-10.8</td>\n      <td>2.2</td>\n      <td>14.2</td>\n      <td>0.187</td>\n      <td>0.0</td>\n      <td>-0.180</td>\n      <td>-0.036</td>\n      <td>-0.055</td>\n      <td>0.061</td>\n      <td>-0.004</td>\n      <td>-0.004</td>\n    </tr>\n    <tr>\n      <th>1</th>\n      <td>1</td>\n      <td>1</td>\n      <td>2023-03-22 10:10:40.089198</td>\n      <td>0.259</td>\n      <td>-3.7</td>\n      <td>-11.1</td>\n      <td>3.1</td>\n      <td>14.7</td>\n      <td>0.174</td>\n      <td>0.0</td>\n      <td>-0.195</td>\n      <td>-0.017</td>\n      <td>-0.066</td>\n      <td>0.051</td>\n      <td>-0.002</td>\n      <td>-0.004</td>\n    </tr>\n    <tr>\n      <th>2</th>\n      <td>1</td>\n      <td>2</td>\n      <td>2023-03-22 10:10:40.329198</td>\n      <td>0.499</td>\n      <td>-4.3</td>\n      <td>-11.4</td>\n      <td>2.6</td>\n      <td>15.2</td>\n      <td>0.161</td>\n      <td>0.0</td>\n      <td>-0.205</td>\n      <td>0.016</td>\n      <td>-0.074</td>\n      <td>0.057</td>\n      <td>0.000</td>\n      <td>-0.003</td>\n    </tr>\n    <tr>\n      <th>3</th>\n      <td>1</td>\n      <td>3</td>\n      <td>2023-03-22 10:10:40.575198</td>\n      <td>0.745</td>\n      <td>-5.8</td>\n      <td>-11.5</td>\n      <td>3.3</td>\n      <td>15.5</td>\n      <td>0.123</td>\n      <td>0.0</td>\n      <td>-0.207</td>\n      <td>0.054</td>\n      <td>-0.082</td>\n      <td>0.077</td>\n      <td>-0.001</td>\n      <td>-0.006</td>\n    </tr>\n    <tr>\n      <th>4</th>\n      <td>1</td>\n      <td>4</td>\n      <td>2023-03-22 10:10:40.817198</td>\n      <td>0.987</td>\n      <td>-5.9</td>\n      <td>-11.8</td>\n      <td>3.4</td>\n      <td>15.5</td>\n      <td>0.098</td>\n      <td>0.0</td>\n      <td>-0.204</td>\n      <td>0.096</td>\n      <td>-0.087</td>\n      <td>0.101</td>\n      <td>-0.001</td>\n      <td>-0.003</td>\n    </tr>\n    <tr>\n      <th>...</th>\n      <td>...</td>\n      <td>...</td>\n      <td>...</td>\n      <td>...</td>\n      <td>...</td>\n      <td>...</td>\n      <td>...</td>\n      <td>...</td>\n      <td>...</td>\n      <td>...</td>\n      <td>...</td>\n      <td>...</td>\n      <td>...</td>\n      <td>...</td>\n      <td>...</td>\n      <td>...</td>\n    </tr>\n    <tr>\n      <th>17831</th>\n      <td>29</td>\n      <td>559</td>\n      <td>2023-03-22 16:12:54.492613</td>\n      <td>198.481</td>\n      <td>-0.7</td>\n      <td>-0.9</td>\n      <td>-7.3</td>\n      <td>-15.9</td>\n      <td>0.149</td>\n      <td>0.0</td>\n      <td>0.527</td>\n      <td>0.112</td>\n      <td>0.030</td>\n      <td>0.122</td>\n      <td>0.008</td>\n      <td>-0.002</td>\n    </tr>\n    <tr>\n      <th>17832</th>\n      <td>29</td>\n      <td>560</td>\n      <td>2023-03-22 16:12:54.734613</td>\n      <td>198.723</td>\n      <td>-0.4</td>\n      <td>-0.5</td>\n      <td>-8.0</td>\n      <td>-16.3</td>\n      <td>0.039</td>\n      <td>0.0</td>\n      <td>0.546</td>\n      <td>0.018</td>\n      <td>0.051</td>\n      <td>0.062</td>\n      <td>-0.001</td>\n      <td>-0.002</td>\n    </tr>\n    <tr>\n      <th>17833</th>\n      <td>29</td>\n      <td>561</td>\n      <td>2023-03-22 16:12:54.974613</td>\n      <td>198.963</td>\n      <td>-0.1</td>\n      <td>0.0</td>\n      <td>-8.2</td>\n      <td>-16.4</td>\n      <td>0.071</td>\n      <td>0.0</td>\n      <td>0.563</td>\n      <td>-0.070</td>\n      <td>0.071</td>\n      <td>0.006</td>\n      <td>0.000</td>\n      <td>-0.002</td>\n    </tr>\n    <tr>\n      <th>17834</th>\n      <td>29</td>\n      <td>562</td>\n      <td>2023-03-22 16:12:55.214613</td>\n      <td>199.203</td>\n      <td>0.2</td>\n      <td>0.7</td>\n      <td>-9.0</td>\n      <td>-16.3</td>\n      <td>0.151</td>\n      <td>0.0</td>\n      <td>0.579</td>\n      <td>-0.122</td>\n      <td>0.095</td>\n      <td>-0.042</td>\n      <td>-0.002</td>\n      <td>0.001</td>\n    </tr>\n    <tr>\n      <th>17835</th>\n      <td>29</td>\n      <td>563</td>\n      <td>2023-03-22 16:12:55.455613</td>\n      <td>199.444</td>\n      <td>0.7</td>\n      <td>1.0</td>\n      <td>-8.9</td>\n      <td>-15.6</td>\n      <td>0.213</td>\n      <td>0.0</td>\n      <td>0.603</td>\n      <td>-0.143</td>\n      <td>0.112</td>\n      <td>-0.077</td>\n      <td>-0.004</td>\n      <td>0.001</td>\n    </tr>\n  </tbody>\n</table>\n<p>17836 rows × 16 columns</p>\n</div>"
     },
     "execution_count": 6,
     "metadata": {},
     "output_type": "execute_result"
    }
   ],
   "source": [
    "ptq_df = ptq_series.get_measurements_df()\n",
    "ptq_df"
   ],
   "metadata": {
    "collapsed": false,
    "ExecuteTime": {
     "end_time": "2025-03-29T12:05:21.795150800Z",
     "start_time": "2025-03-29T12:05:21.447935Z"
    }
   }
  },
  {
   "cell_type": "code",
   "execution_count": 7,
   "outputs": [
    {
     "data": {
      "text/plain": "                 ID            Nr                       Datetime  \\\ncount  17836.000000  17836.000000                          17836   \nmean      15.249047    338.457502  2023-03-22 13:34:17.235428864   \nmin        1.000000      0.000000     2023-03-22 10:10:39.830198   \n25%        8.000000    153.000000  2023-03-22 11:11:37.444994048   \n50%       16.000000    309.000000  2023-03-22 14:08:40.921139968   \n75%       23.000000    469.000000  2023-03-22 15:31:05.232380160   \nmax       29.000000   1392.000000     2023-03-22 16:12:55.455613   \nstd        8.422199    242.404703                            NaN   \n\n       Sec_Since_Start    Elasto(98)    Elasto(95)    Elasto(92)  \\\ncount     17836.000000  17461.000000  17468.000000  17657.000000   \nmean         85.133799     81.627536    105.786833    118.740437   \nmin           0.000000   -192.900000   -119.100000   -111.000000   \n25%          38.984250     16.900000      8.400000      5.700000   \n50%          77.763500     95.100000    128.500000    139.500000   \n75%         117.784500    137.500000    184.700000    213.100000   \nmax         345.709000    234.600000    266.300000    291.500000   \nstd          60.383660     64.555211     89.518611    101.978415   \n\n         Elasto(90)  Inclino(85)X  Inclino(85)Y  Inclino(83)X  Inclino(83)Y  \\\ncount  17676.000000  17448.000000       17448.0  17704.000000  17704.000000   \nmean     191.147720      0.586046           0.0      0.735073      0.022071   \nmin     -217.800000      0.000000           0.0     -7.149000     -3.127000   \n25%       13.475000      0.283000           0.0      0.424000     -0.102000   \n50%      235.850000      0.557000           0.0      0.742000      0.000000   \n75%      337.600000      0.848250           0.0      1.036000      0.127000   \nmax      429.600000      7.029000           0.0      7.341000      4.525000   \nstd      157.750503      0.392076           0.0      0.561636      0.253933   \n\n       Inclino(82)X  Inclino(82)Y  Inclino(81)X  Inclino(81)Y  \ncount  17435.000000  17435.000000  17574.000000  17574.000000  \nmean      -0.495272     -0.195005      0.009151      0.010782  \nmin       -3.483000     -2.228000     -1.346000     -0.660000  \n25%       -0.922000     -0.397500     -0.006000     -0.005750  \n50%       -0.522000     -0.221000     -0.002000     -0.001000  \n75%       -0.070000      0.000000      0.001000      0.002000  \nmax        1.570000      1.147000      2.955000      0.526000  \nstd        0.491294      0.271169      0.226831      0.075625  ",
      "text/html": "<div>\n<style scoped>\n    .dataframe tbody tr th:only-of-type {\n        vertical-align: middle;\n    }\n\n    .dataframe tbody tr th {\n        vertical-align: top;\n    }\n\n    .dataframe thead th {\n        text-align: right;\n    }\n</style>\n<table border=\"1\" class=\"dataframe\">\n  <thead>\n    <tr style=\"text-align: right;\">\n      <th></th>\n      <th>ID</th>\n      <th>Nr</th>\n      <th>Datetime</th>\n      <th>Sec_Since_Start</th>\n      <th>Elasto(98)</th>\n      <th>Elasto(95)</th>\n      <th>Elasto(92)</th>\n      <th>Elasto(90)</th>\n      <th>Inclino(85)X</th>\n      <th>Inclino(85)Y</th>\n      <th>Inclino(83)X</th>\n      <th>Inclino(83)Y</th>\n      <th>Inclino(82)X</th>\n      <th>Inclino(82)Y</th>\n      <th>Inclino(81)X</th>\n      <th>Inclino(81)Y</th>\n    </tr>\n  </thead>\n  <tbody>\n    <tr>\n      <th>count</th>\n      <td>17836.000000</td>\n      <td>17836.000000</td>\n      <td>17836</td>\n      <td>17836.000000</td>\n      <td>17461.000000</td>\n      <td>17468.000000</td>\n      <td>17657.000000</td>\n      <td>17676.000000</td>\n      <td>17448.000000</td>\n      <td>17448.0</td>\n      <td>17704.000000</td>\n      <td>17704.000000</td>\n      <td>17435.000000</td>\n      <td>17435.000000</td>\n      <td>17574.000000</td>\n      <td>17574.000000</td>\n    </tr>\n    <tr>\n      <th>mean</th>\n      <td>15.249047</td>\n      <td>338.457502</td>\n      <td>2023-03-22 13:34:17.235428864</td>\n      <td>85.133799</td>\n      <td>81.627536</td>\n      <td>105.786833</td>\n      <td>118.740437</td>\n      <td>191.147720</td>\n      <td>0.586046</td>\n      <td>0.0</td>\n      <td>0.735073</td>\n      <td>0.022071</td>\n      <td>-0.495272</td>\n      <td>-0.195005</td>\n      <td>0.009151</td>\n      <td>0.010782</td>\n    </tr>\n    <tr>\n      <th>min</th>\n      <td>1.000000</td>\n      <td>0.000000</td>\n      <td>2023-03-22 10:10:39.830198</td>\n      <td>0.000000</td>\n      <td>-192.900000</td>\n      <td>-119.100000</td>\n      <td>-111.000000</td>\n      <td>-217.800000</td>\n      <td>0.000000</td>\n      <td>0.0</td>\n      <td>-7.149000</td>\n      <td>-3.127000</td>\n      <td>-3.483000</td>\n      <td>-2.228000</td>\n      <td>-1.346000</td>\n      <td>-0.660000</td>\n    </tr>\n    <tr>\n      <th>25%</th>\n      <td>8.000000</td>\n      <td>153.000000</td>\n      <td>2023-03-22 11:11:37.444994048</td>\n      <td>38.984250</td>\n      <td>16.900000</td>\n      <td>8.400000</td>\n      <td>5.700000</td>\n      <td>13.475000</td>\n      <td>0.283000</td>\n      <td>0.0</td>\n      <td>0.424000</td>\n      <td>-0.102000</td>\n      <td>-0.922000</td>\n      <td>-0.397500</td>\n      <td>-0.006000</td>\n      <td>-0.005750</td>\n    </tr>\n    <tr>\n      <th>50%</th>\n      <td>16.000000</td>\n      <td>309.000000</td>\n      <td>2023-03-22 14:08:40.921139968</td>\n      <td>77.763500</td>\n      <td>95.100000</td>\n      <td>128.500000</td>\n      <td>139.500000</td>\n      <td>235.850000</td>\n      <td>0.557000</td>\n      <td>0.0</td>\n      <td>0.742000</td>\n      <td>0.000000</td>\n      <td>-0.522000</td>\n      <td>-0.221000</td>\n      <td>-0.002000</td>\n      <td>-0.001000</td>\n    </tr>\n    <tr>\n      <th>75%</th>\n      <td>23.000000</td>\n      <td>469.000000</td>\n      <td>2023-03-22 15:31:05.232380160</td>\n      <td>117.784500</td>\n      <td>137.500000</td>\n      <td>184.700000</td>\n      <td>213.100000</td>\n      <td>337.600000</td>\n      <td>0.848250</td>\n      <td>0.0</td>\n      <td>1.036000</td>\n      <td>0.127000</td>\n      <td>-0.070000</td>\n      <td>0.000000</td>\n      <td>0.001000</td>\n      <td>0.002000</td>\n    </tr>\n    <tr>\n      <th>max</th>\n      <td>29.000000</td>\n      <td>1392.000000</td>\n      <td>2023-03-22 16:12:55.455613</td>\n      <td>345.709000</td>\n      <td>234.600000</td>\n      <td>266.300000</td>\n      <td>291.500000</td>\n      <td>429.600000</td>\n      <td>7.029000</td>\n      <td>0.0</td>\n      <td>7.341000</td>\n      <td>4.525000</td>\n      <td>1.570000</td>\n      <td>1.147000</td>\n      <td>2.955000</td>\n      <td>0.526000</td>\n    </tr>\n    <tr>\n      <th>std</th>\n      <td>8.422199</td>\n      <td>242.404703</td>\n      <td>NaN</td>\n      <td>60.383660</td>\n      <td>64.555211</td>\n      <td>89.518611</td>\n      <td>101.978415</td>\n      <td>157.750503</td>\n      <td>0.392076</td>\n      <td>0.0</td>\n      <td>0.561636</td>\n      <td>0.253933</td>\n      <td>0.491294</td>\n      <td>0.271169</td>\n      <td>0.226831</td>\n      <td>0.075625</td>\n    </tr>\n  </tbody>\n</table>\n</div>"
     },
     "execution_count": 7,
     "metadata": {},
     "output_type": "execute_result"
    }
   ],
   "source": [
    "ptq_df.describe()"
   ],
   "metadata": {
    "collapsed": false,
    "ExecuteTime": {
     "end_time": "2025-03-29T12:05:21.795150800Z",
     "start_time": "2025-03-29T12:05:21.493383400Z"
    }
   }
  },
  {
   "cell_type": "code",
   "execution_count": 8,
   "outputs": [
    {
     "data": {
      "text/plain": "         Elasto(90)    Elasto(92)    Elasto(95)    Elasto(98)\ncount  17676.000000  17657.000000  17468.000000  17461.000000\nmean     191.147720    118.740437    105.786833     81.627536\nstd      157.750503    101.978415     89.518611     64.555211\nmin     -217.800000   -111.000000   -119.100000   -192.900000\n25%       13.475000      5.700000      8.400000     16.900000\n50%      235.850000    139.500000    128.500000     95.100000\n75%      337.600000    213.100000    184.700000    137.500000\nmax      429.600000    291.500000    266.300000    234.600000",
      "text/html": "<div>\n<style scoped>\n    .dataframe tbody tr th:only-of-type {\n        vertical-align: middle;\n    }\n\n    .dataframe tbody tr th {\n        vertical-align: top;\n    }\n\n    .dataframe thead th {\n        text-align: right;\n    }\n</style>\n<table border=\"1\" class=\"dataframe\">\n  <thead>\n    <tr style=\"text-align: right;\">\n      <th></th>\n      <th>Elasto(90)</th>\n      <th>Elasto(92)</th>\n      <th>Elasto(95)</th>\n      <th>Elasto(98)</th>\n    </tr>\n  </thead>\n  <tbody>\n    <tr>\n      <th>count</th>\n      <td>17676.000000</td>\n      <td>17657.000000</td>\n      <td>17468.000000</td>\n      <td>17461.000000</td>\n    </tr>\n    <tr>\n      <th>mean</th>\n      <td>191.147720</td>\n      <td>118.740437</td>\n      <td>105.786833</td>\n      <td>81.627536</td>\n    </tr>\n    <tr>\n      <th>std</th>\n      <td>157.750503</td>\n      <td>101.978415</td>\n      <td>89.518611</td>\n      <td>64.555211</td>\n    </tr>\n    <tr>\n      <th>min</th>\n      <td>-217.800000</td>\n      <td>-111.000000</td>\n      <td>-119.100000</td>\n      <td>-192.900000</td>\n    </tr>\n    <tr>\n      <th>25%</th>\n      <td>13.475000</td>\n      <td>5.700000</td>\n      <td>8.400000</td>\n      <td>16.900000</td>\n    </tr>\n    <tr>\n      <th>50%</th>\n      <td>235.850000</td>\n      <td>139.500000</td>\n      <td>128.500000</td>\n      <td>95.100000</td>\n    </tr>\n    <tr>\n      <th>75%</th>\n      <td>337.600000</td>\n      <td>213.100000</td>\n      <td>184.700000</td>\n      <td>137.500000</td>\n    </tr>\n    <tr>\n      <th>max</th>\n      <td>429.600000</td>\n      <td>291.500000</td>\n      <td>266.300000</td>\n      <td>234.600000</td>\n    </tr>\n  </tbody>\n</table>\n</div>"
     },
     "execution_count": 8,
     "metadata": {},
     "output_type": "execute_result"
    }
   ],
   "source": [
    "ptq_df_elasto_summary = ptq_df[elasto_names].describe()\n",
    "ptq_df_elasto_summary"
   ],
   "metadata": {
    "collapsed": false,
    "ExecuteTime": {
     "end_time": "2025-03-29T12:05:21.795150800Z",
     "start_time": "2025-03-29T12:05:21.633131600Z"
    }
   }
  },
  {
   "cell_type": "markdown",
   "source": [
    "### PLOTTING: Daten aller Messungen bzw. Elastometer\n",
    "\n",
    "Plotten der 4 verwendeten Elastometer in einem Plot für jede Messung. Die Plots werden im Verzeichnis ptq/plots/multi_sensors_vs_time_1/ abgelegt.\n",
    "Für alle Messungen und Elastometer ist gut zu erkennen, wie die Faserdehnung während des zusammen ziehen der Stämmlinge zunimmt, dann im Moment des Realises plötzlich abfällt, um in Folge harmonisch gedämpft auszuschwingen (nährungsweise)."
   ],
   "metadata": {
    "collapsed": false
   }
  },
  {
   "cell_type": "code",
   "execution_count": 13,
   "outputs": [
    {
     "name": "stderr",
     "output_type": "stream",
     "text": [
      "2025-03-29 13:05:22 [\u001B[92mINFO\u001B[0m] treeqinetic.classes.measurement.plot_multi_sensors: plot_multi_sensors for measurement: 'Measurement: 'PTQ_Meas_100346.txt', ID: 1, Start '2023-03-22 10:10:39.830198' to '2023-03-22 10:13:21.602198'' successful.\n",
      "2025-03-29 13:05:22 [\u001B[92mINFO\u001B[0m] treeqinetic.classes.measurement.plot_multi_sensors: plot_multi_sensors for measurement: 'Measurement: 'PTQ_Meas_101814.txt', ID: 2, Start '2023-03-22 10:18:33.334820' to '2023-03-22 10:21:25.691820'' successful.\n",
      "2025-03-29 13:05:22 [\u001B[92mINFO\u001B[0m] treeqinetic.classes.measurement.plot_multi_sensors: plot_multi_sensors for measurement: 'Measurement: 'PTQ_Meas_102314.txt', ID: 3, Start '2023-03-22 10:26:25.086505' to '2023-03-22 10:28:50.847505'' successful.\n",
      "2025-03-29 13:05:23 [\u001B[92mINFO\u001B[0m] treeqinetic.classes.measurement.plot_multi_sensors: plot_multi_sensors for measurement: 'Measurement: 'PTQ_Meas_104400.txt', ID: 4, Start '2023-03-22 10:50:02.131987' to '2023-03-22 10:52:43.662987'' successful.\n",
      "2025-03-29 13:05:23 [\u001B[92mINFO\u001B[0m] treeqinetic.classes.measurement.plot_multi_sensors: plot_multi_sensors for measurement: 'Measurement: 'PTQ_Meas_105549.txt', ID: 5, Start '2023-03-22 10:55:59.034260' to '2023-03-22 10:58:38.051260'' successful.\n",
      "2025-03-29 13:05:23 [\u001B[92mINFO\u001B[0m] treeqinetic.classes.measurement.plot_multi_sensors: plot_multi_sensors for measurement: 'Measurement: 'PTQ_Meas_110107.txt', ID: 6, Start '2023-03-22 11:02:37.653620' to '2023-03-22 11:04:32.486620'' successful.\n",
      "2025-03-29 13:05:24 [\u001B[92mINFO\u001B[0m] treeqinetic.classes.measurement.plot_multi_sensors: plot_multi_sensors for measurement: 'Measurement: 'PTQ_Meas_110558.txt', ID: 7, Start '2023-03-22 11:06:16.330019' to '2023-03-22 11:08:10.160019'' successful.\n",
      "2025-03-29 13:05:24 [\u001B[92mINFO\u001B[0m] treeqinetic.classes.measurement.plot_multi_sensors: plot_multi_sensors for measurement: 'Measurement: 'PTQ_Meas_111019.txt', ID: 8, Start '2023-03-22 11:10:38.251994' to '2023-03-22 11:12:26.538994'' successful.\n",
      "2025-03-29 13:05:24 [\u001B[92mINFO\u001B[0m] treeqinetic.classes.measurement.plot_multi_sensors: plot_multi_sensors for measurement: 'Measurement: 'PTQ_Meas_111713.txt', ID: 9, Start '2023-03-22 11:21:04.844142' to '2023-03-22 11:23:02.055142'' successful.\n",
      "2025-03-29 13:05:24 [\u001B[92mINFO\u001B[0m] treeqinetic.classes.measurement.plot_multi_sensors: plot_multi_sensors for measurement: 'Measurement: 'PTQ_Meas_112120.txt', ID: 10, Start '2023-03-22 11:22:46.612488' to '2023-03-22 11:26:15.605488'' successful.\n",
      "2025-03-29 13:05:25 [\u001B[92mINFO\u001B[0m] treeqinetic.classes.measurement.plot_multi_sensors: plot_multi_sensors for measurement: 'Measurement: 'PTQ_Meas_133316.txt', ID: 11, Start '2023-03-22 13:36:32.068787' to '2023-03-22 13:38:55.286787'' successful.\n",
      "2025-03-29 13:05:25 [\u001B[92mINFO\u001B[0m] treeqinetic.classes.measurement.plot_multi_sensors: plot_multi_sensors for measurement: 'Measurement: 'PTQ_Meas_134053.txt', ID: 12, Start '2023-03-22 13:42:13.782157' to '2023-03-22 13:44:46.281157'' successful.\n",
      "2025-03-29 13:05:25 [\u001B[92mINFO\u001B[0m] treeqinetic.classes.measurement.plot_multi_sensors: plot_multi_sensors for measurement: 'Measurement: 'PTQ_Meas_134807.txt', ID: 13, Start '2023-03-22 13:49:21.347406' to '2023-03-22 13:51:37.799406'' successful.\n",
      "2025-03-29 13:05:25 [\u001B[92mINFO\u001B[0m] treeqinetic.classes.measurement.plot_multi_sensors: plot_multi_sensors for measurement: 'Measurement: 'PTQ_Meas_135705.txt', ID: 14, Start '2023-03-22 13:59:44.050912' to '2023-03-22 14:02:02.505912'' successful.\n",
      "2025-03-29 13:05:26 [\u001B[92mINFO\u001B[0m] treeqinetic.classes.measurement.plot_multi_sensors: plot_multi_sensors for measurement: 'Measurement: 'PTQ_Meas_140149.txt', ID: 15, Start '2023-03-22 14:04:38.399621' to '2023-03-22 14:06:40.181621'' successful.\n",
      "2025-03-29 13:05:26 [\u001B[92mINFO\u001B[0m] treeqinetic.classes.measurement.plot_multi_sensors: plot_multi_sensors for measurement: 'Measurement: 'PTQ_Meas_140551.txt', ID: 16, Start '2023-03-22 14:08:22.949140' to '2023-03-22 14:10:39.593140'' successful.\n",
      "2025-03-29 13:05:26 [\u001B[92mINFO\u001B[0m] treeqinetic.classes.measurement.plot_multi_sensors: plot_multi_sensors for measurement: 'Measurement: 'PTQ_Meas_141006.txt', ID: 17, Start '2023-03-22 14:12:35.404214' to '2023-03-22 14:14:35.383214'' successful.\n",
      "2025-03-29 13:05:26 [\u001B[92mINFO\u001B[0m] treeqinetic.classes.measurement.plot_multi_sensors: plot_multi_sensors for measurement: 'Measurement: 'PTQ_Meas_141437.txt', ID: 18, Start '2023-03-22 14:15:47.525869999' to '2023-03-22 14:18:26.172870'' successful.\n",
      "2025-03-29 13:05:26 [\u001B[92mINFO\u001B[0m] treeqinetic.classes.measurement.plot_multi_sensors: plot_multi_sensors for measurement: 'Measurement: 'PTQ_Meas_141812.txt', ID: 19, Start '2023-03-22 14:20:37.937304' to '2023-03-22 14:22:53.243304'' successful.\n",
      "2025-03-29 13:05:27 [\u001B[92mINFO\u001B[0m] treeqinetic.classes.measurement.plot_multi_sensors: plot_multi_sensors for measurement: 'Measurement: 'PTQ_Meas_150444.txt', ID: 20, Start '2023-03-22 15:07:26.211509' to '2023-03-22 15:09:24.888509'' successful.\n",
      "2025-03-29 13:05:27 [\u001B[92mINFO\u001B[0m] treeqinetic.classes.measurement.plot_multi_sensors: plot_multi_sensors for measurement: 'Measurement: 'PTQ_Meas_151010.txt', ID: 21, Start '2023-03-22 15:11:29.776214' to '2023-03-22 15:14:08.830214'' successful.\n",
      "2025-03-29 13:05:27 [\u001B[92mINFO\u001B[0m] treeqinetic.classes.measurement.plot_multi_sensors: plot_multi_sensors for measurement: 'Measurement: 'PTQ_Meas_151557.txt', ID: 22, Start '2023-03-22 15:16:01.811379' to '2023-03-22 15:20:03.954379'' successful.\n",
      "2025-03-29 13:05:27 [\u001B[92mINFO\u001B[0m] treeqinetic.classes.measurement.plot_multi_sensors: plot_multi_sensors for measurement: 'Measurement: 'PTQ_Meas_153028.txt', ID: 23, Start '2023-03-22 15:30:29.626130' to '2023-03-22 15:32:42.861130'' successful.\n",
      "2025-03-29 13:05:27 [\u001B[92mINFO\u001B[0m] treeqinetic.classes.measurement.plot_multi_sensors: plot_multi_sensors for measurement: 'Measurement: 'PTQ_Meas_153334.txt', ID: 24, Start '2023-03-22 15:36:28.333785' to '2023-03-22 15:39:10.601785'' successful.\n",
      "2025-03-29 13:05:28 [\u001B[92mINFO\u001B[0m] treeqinetic.classes.measurement.plot_multi_sensors: plot_multi_sensors for measurement: 'Measurement: 'PTQ_Meas_153817.txt', ID: 25, Start '2023-03-22 15:39:36.853689' to '2023-03-22 15:45:22.562689'' successful.\n",
      "2025-03-29 13:05:28 [\u001B[92mINFO\u001B[0m] treeqinetic.classes.measurement.plot_multi_sensors: plot_multi_sensors for measurement: 'Measurement: 'PTQ_Meas_154457.txt', ID: 26, Start '2023-03-22 15:53:18.604797' to '2023-03-22 15:56:04.346797'' successful.\n",
      "2025-03-29 13:05:28 [\u001B[92mINFO\u001B[0m] treeqinetic.classes.measurement.plot_multi_sensors: plot_multi_sensors for measurement: 'Measurement: 'PTQ_Meas_155354.txt', ID: 27, Start '2023-03-22 15:53:59.248874' to '2023-03-22 15:57:16.416874'' successful.\n",
      "2025-03-29 13:05:28 [\u001B[92mINFO\u001B[0m] treeqinetic.classes.measurement.plot_multi_sensors: plot_multi_sensors for measurement: 'Measurement: 'PTQ_Meas_155805.txt', ID: 28, Start '2023-03-22 15:59:19.859928' to '2023-03-22 16:00:54.129927999'' successful.\n",
      "2025-03-29 13:05:28 [\u001B[92mINFO\u001B[0m] treeqinetic.classes.measurement.plot_multi_sensors: plot_multi_sensors for measurement: 'Measurement: 'PTQ_Meas_160907.txt', ID: 29, Start '2023-03-22 16:09:36.011613' to '2023-03-22 16:12:55.455613'' successful.\n"
     ]
    }
   ],
   "source": [
    "ptq_series.plot_measurement_sensors(sensor_names=elasto_names)"
   ],
   "metadata": {
    "collapsed": false,
    "ExecuteTime": {
     "end_time": "2025-03-29T12:05:28.914971900Z",
     "start_time": "2025-03-29T12:05:21.911984100Z"
    }
   }
  },
  {
   "cell_type": "markdown",
   "metadata": {
    "collapsed": false
   },
   "source": [
    "## ANALYSE: Bestimmung von Schwingungsparametern\n",
    "\n",
    "### Selektieren der relevanten Bereiche\n",
    "\n",
    "Selektiere die Bereiche nach dem Release, bei dem es zu einer harmonisch gedämpften Schwingung kommt. Die Methode Series.get_oscillations sucht im Standardfall nach einem Bereich in den Messdaten mit einer Länge von 20 Sekunden. Der Anfangszeitpunkt wird durch einen plötzlichen Abfall der Dehnung auf unter Null bestimmt, bei dem die Steigung mindestens -25 beträgt. Die Suche nach dem Startzeitpunkt beginnt erst 60 Sekunden nach Messungsbeginn. Der entsprechende Code befindet sich im Paket classes/measurement.py und utils/select_oscillation.py. Die so isolierten Bereiche werden als Instanzen der Klasse Oscillation initialisiert. Weitere Parameter wie Amplitude, Frequenz und Dämpfung werden direkt berechnet.\n",
    "Parameter:\n",
    "- sensor_names: Eine Liste der Sensornamen, für die die Schwingungsdaten identifiziert werden sollen.\n",
    "- min_time_default: Die Mindestzeitspanne nach Beginn der Messung, nach der die Suche nach Schwingungen beginnt (Standard: 60 Sekunden).\n",
    "- min_value: Der minimale Wertschwellenwert, damit Sensordaten als gültig betrachtet werden.\n",
    "- threshold_slope: Der Steigungsschwellenwert, um den Beginn einer Schwingung zu bestimmen.\n",
    "- duration: Die Dauer, für die die Schwingungsdaten extrahiert werden sollen."
   ]
  },
  {
   "cell_type": "code",
   "execution_count": 14,
   "metadata": {
    "collapsed": false,
    "ExecuteTime": {
     "end_time": "2025-03-29T12:05:29.712519500Z",
     "start_time": "2025-03-29T12:05:28.914971900Z"
    }
   },
   "outputs": [
    {
     "name": "stderr",
     "output_type": "stream",
     "text": [
      "2025-03-29 13:05:28 [\u001B[92mINFO\u001B[0m] treeqinetic.classes.series.get_oscillations: \n",
      " Select Oscillations for Measurement: 'PTQ_Meas_100346.txt', ID: 1, Start '2023-03-22 10:10:39.830198' to '2023-03-22 10:13:21.602198'\n",
      "2025-03-29 13:05:28 [\u001B[92mINFO\u001B[0m] treeqinetic.classes.series.get_oscillations: \n",
      " Select Oscillations for Measurement: 'PTQ_Meas_101814.txt', ID: 2, Start '2023-03-22 10:18:33.334820' to '2023-03-22 10:21:25.691820'\n",
      "2025-03-29 13:05:28 [\u001B[92mINFO\u001B[0m] treeqinetic.classes.series.get_oscillations: \n",
      " Select Oscillations for Measurement: 'PTQ_Meas_102314.txt', ID: 3, Start '2023-03-22 10:26:25.086505' to '2023-03-22 10:28:50.847505'\n",
      "2025-03-29 13:05:28 [\u001B[92mINFO\u001B[0m] treeqinetic.classes.series.get_oscillations: \n",
      " Select Oscillations for Measurement: 'PTQ_Meas_104400.txt', ID: 4, Start '2023-03-22 10:50:02.131987' to '2023-03-22 10:52:43.662987'\n",
      "2025-03-29 13:05:28 [\u001B[92mINFO\u001B[0m] treeqinetic.classes.series.get_oscillations: \n",
      " Select Oscillations for Measurement: 'PTQ_Meas_105549.txt', ID: 5, Start '2023-03-22 10:55:59.034260' to '2023-03-22 10:58:38.051260'\n",
      "2025-03-29 13:05:29 [\u001B[92mINFO\u001B[0m] treeqinetic.classes.series.get_oscillations: \n",
      " Select Oscillations for Measurement: 'PTQ_Meas_110107.txt', ID: 6, Start '2023-03-22 11:02:37.653620' to '2023-03-22 11:04:32.486620'\n",
      "2025-03-29 13:05:29 [\u001B[92mINFO\u001B[0m] treeqinetic.classes.series.get_oscillations: \n",
      " Select Oscillations for Measurement: 'PTQ_Meas_110558.txt', ID: 7, Start '2023-03-22 11:06:16.330019' to '2023-03-22 11:08:10.160019'\n",
      "2025-03-29 13:05:29 [\u001B[92mINFO\u001B[0m] treeqinetic.classes.series.get_oscillations: \n",
      " Select Oscillations for Measurement: 'PTQ_Meas_111019.txt', ID: 8, Start '2023-03-22 11:10:38.251994' to '2023-03-22 11:12:26.538994'\n",
      "2025-03-29 13:05:29 [\u001B[92mINFO\u001B[0m] treeqinetic.classes.series.get_oscillations: \n",
      " Select Oscillations for Measurement: 'PTQ_Meas_111713.txt', ID: 9, Start '2023-03-22 11:21:04.844142' to '2023-03-22 11:23:02.055142'\n",
      "2025-03-29 13:05:29 [\u001B[92mINFO\u001B[0m] treeqinetic.classes.series.get_oscillations: \n",
      " Select Oscillations for Measurement: 'PTQ_Meas_112120.txt', ID: 10, Start '2023-03-22 11:22:46.612488' to '2023-03-22 11:26:15.605488'\n",
      "2025-03-29 13:05:29 [\u001B[92mINFO\u001B[0m] treeqinetic.classes.series.get_oscillations: \n",
      " Select Oscillations for Measurement: 'PTQ_Meas_133316.txt', ID: 11, Start '2023-03-22 13:36:32.068787' to '2023-03-22 13:38:55.286787'\n",
      "2025-03-29 13:05:29 [\u001B[92mINFO\u001B[0m] treeqinetic.classes.series.get_oscillations: \n",
      " Select Oscillations for Measurement: 'PTQ_Meas_134053.txt', ID: 12, Start '2023-03-22 13:42:13.782157' to '2023-03-22 13:44:46.281157'\n",
      "2025-03-29 13:05:29 [\u001B[92mINFO\u001B[0m] treeqinetic.classes.series.get_oscillations: \n",
      " Select Oscillations for Measurement: 'PTQ_Meas_134807.txt', ID: 13, Start '2023-03-22 13:49:21.347406' to '2023-03-22 13:51:37.799406'\n",
      "2025-03-29 13:05:29 [\u001B[92mINFO\u001B[0m] treeqinetic.classes.series.get_oscillations: \n",
      " Select Oscillations for Measurement: 'PTQ_Meas_135705.txt', ID: 14, Start '2023-03-22 13:59:44.050912' to '2023-03-22 14:02:02.505912'\n",
      "2025-03-29 13:05:29 [\u001B[92mINFO\u001B[0m] treeqinetic.classes.series.get_oscillations: \n",
      " Select Oscillations for Measurement: 'PTQ_Meas_140149.txt', ID: 15, Start '2023-03-22 14:04:38.399621' to '2023-03-22 14:06:40.181621'\n",
      "2025-03-29 13:05:29 [\u001B[92mINFO\u001B[0m] treeqinetic.classes.series.get_oscillations: \n",
      " Select Oscillations for Measurement: 'PTQ_Meas_140551.txt', ID: 16, Start '2023-03-22 14:08:22.949140' to '2023-03-22 14:10:39.593140'\n",
      "2025-03-29 13:05:29 [\u001B[92mINFO\u001B[0m] treeqinetic.classes.series.get_oscillations: \n",
      " Select Oscillations for Measurement: 'PTQ_Meas_141006.txt', ID: 17, Start '2023-03-22 14:12:35.404214' to '2023-03-22 14:14:35.383214'\n",
      "2025-03-29 13:05:29 [\u001B[92mINFO\u001B[0m] treeqinetic.classes.series.get_oscillations: \n",
      " Select Oscillations for Measurement: 'PTQ_Meas_141437.txt', ID: 18, Start '2023-03-22 14:15:47.525869999' to '2023-03-22 14:18:26.172870'\n",
      "2025-03-29 13:05:29 [\u001B[92mINFO\u001B[0m] treeqinetic.classes.series.get_oscillations: \n",
      " Select Oscillations for Measurement: 'PTQ_Meas_141812.txt', ID: 19, Start '2023-03-22 14:20:37.937304' to '2023-03-22 14:22:53.243304'\n",
      "2025-03-29 13:05:29 [\u001B[92mINFO\u001B[0m] treeqinetic.classes.series.get_oscillations: \n",
      " Select Oscillations for Measurement: 'PTQ_Meas_150444.txt', ID: 20, Start '2023-03-22 15:07:26.211509' to '2023-03-22 15:09:24.888509'\n",
      "2025-03-29 13:05:29 [\u001B[92mINFO\u001B[0m] treeqinetic.classes.series.get_oscillations: \n",
      " Select Oscillations for Measurement: 'PTQ_Meas_151010.txt', ID: 21, Start '2023-03-22 15:11:29.776214' to '2023-03-22 15:14:08.830214'\n",
      "2025-03-29 13:05:29 [\u001B[92mINFO\u001B[0m] treeqinetic.classes.series.get_oscillations: \n",
      " Select Oscillations for Measurement: 'PTQ_Meas_151557.txt', ID: 22, Start '2023-03-22 15:16:01.811379' to '2023-03-22 15:20:03.954379'\n",
      "2025-03-29 13:05:29 [\u001B[92mINFO\u001B[0m] treeqinetic.classes.series.get_oscillations: \n",
      " Select Oscillations for Measurement: 'PTQ_Meas_153028.txt', ID: 23, Start '2023-03-22 15:30:29.626130' to '2023-03-22 15:32:42.861130'\n",
      "2025-03-29 13:05:29 [\u001B[92mINFO\u001B[0m] treeqinetic.classes.series.get_oscillations: \n",
      " Select Oscillations for Measurement: 'PTQ_Meas_153334.txt', ID: 24, Start '2023-03-22 15:36:28.333785' to '2023-03-22 15:39:10.601785'\n",
      "2025-03-29 13:05:29 [\u001B[92mINFO\u001B[0m] treeqinetic.classes.series.get_oscillations: \n",
      " Select Oscillations for Measurement: 'PTQ_Meas_153817.txt', ID: 25, Start '2023-03-22 15:39:36.853689' to '2023-03-22 15:45:22.562689'\n",
      "2025-03-29 13:05:29 [\u001B[92mINFO\u001B[0m] treeqinetic.classes.series.get_oscillations: \n",
      " Select Oscillations for Measurement: 'PTQ_Meas_154457.txt', ID: 26, Start '2023-03-22 15:53:18.604797' to '2023-03-22 15:56:04.346797'\n",
      "2025-03-29 13:05:29 [\u001B[92mINFO\u001B[0m] treeqinetic.classes.series.get_oscillations: \n",
      " Select Oscillations for Measurement: 'PTQ_Meas_155354.txt', ID: 27, Start '2023-03-22 15:53:59.248874' to '2023-03-22 15:57:16.416874'\n",
      "2025-03-29 13:05:29 [\u001B[92mINFO\u001B[0m] treeqinetic.classes.series.get_oscillations: \n",
      " Select Oscillations for Measurement: 'PTQ_Meas_155805.txt', ID: 28, Start '2023-03-22 15:59:19.859928' to '2023-03-22 16:00:54.129927999'\n",
      "2025-03-29 13:05:29 [\u001B[92mINFO\u001B[0m] treeqinetic.classes.series.get_oscillations: \n",
      " Select Oscillations for Measurement: 'PTQ_Meas_160907.txt', ID: 29, Start '2023-03-22 16:09:36.011613' to '2023-03-22 16:12:55.455613'\n"
     ]
    }
   ],
   "source": [
    "ptq_series.get_oscillations(\n",
    "    sensor_names=elasto_names,\n",
    "    min_time_default=60,\n",
    "    min_value=50,\n",
    "    threshold_slope=-50,\n",
    "    duration=17.5\n",
    ")"
   ]
  },
  {
   "cell_type": "markdown",
   "metadata": {
    "collapsed": false
   },
   "source": [
    "### Selektion optisch prüfen in Plots\n",
    "\n",
    "Plotten der relevanten Sensoren bzw. der selektierten Bereiche. Die Plots werden im Verzeichnis ptq/plots/select_oscillations_single/ bzw. ptq/plots/select_oscillations_combined/ gespeichert. In einem Combined-Plot werden alle 4 Elastometer einer Messung gemeinsam dargestellt. Hier wird manuell anhand der Plots geprüft, ob für alle Messungen und Sensoren der richtige Bereich ausgewählt wurde."
   ]
  },
  {
   "cell_type": "code",
   "execution_count": 15,
   "metadata": {
    "collapsed": false,
    "ExecuteTime": {
     "end_time": "2025-03-29T12:08:17.035553100Z",
     "start_time": "2025-03-29T12:05:29.696881300Z"
    }
   },
   "outputs": [
    {
     "name": "stderr",
     "output_type": "stream",
     "text": [
      "2025-03-29 13:05:29 [\u001B[92mINFO\u001B[0m] treeqinetic.classes.series.plot_oscillations_for_measurements: Plot Oscillations for Measurement: 'PTQ_Meas_100346.txt', ID: 1, Start '2023-03-22 10:10:39.830198' to '2023-03-22 10:13:21.602198'\n",
      "2025-03-29 13:05:30 [\u001B[92mINFO\u001B[0m] treeqinetic.classes.measurement._plot_single_oscillations: plot_select_oscillation for measurement: 'Measurement: 'PTQ_Meas_100346.txt', ID: 1, Start '2023-03-22 10:10:39.830198' to '2023-03-22 10:13:21.602198'' for Elasto(90) successful.\n",
      "2025-03-29 13:05:31 [\u001B[92mINFO\u001B[0m] treeqinetic.classes.measurement._plot_single_oscillations: plot_select_oscillation for measurement: 'Measurement: 'PTQ_Meas_100346.txt', ID: 1, Start '2023-03-22 10:10:39.830198' to '2023-03-22 10:13:21.602198'' for Elasto(92) successful.\n",
      "2025-03-29 13:05:32 [\u001B[92mINFO\u001B[0m] treeqinetic.classes.measurement._plot_single_oscillations: plot_select_oscillation for measurement: 'Measurement: 'PTQ_Meas_100346.txt', ID: 1, Start '2023-03-22 10:10:39.830198' to '2023-03-22 10:13:21.602198'' for Elasto(95) successful.\n",
      "2025-03-29 13:05:33 [\u001B[92mINFO\u001B[0m] treeqinetic.classes.measurement._plot_single_oscillations: plot_select_oscillation for measurement: 'Measurement: 'PTQ_Meas_100346.txt', ID: 1, Start '2023-03-22 10:10:39.830198' to '2023-03-22 10:13:21.602198'' for Elasto(98) successful.\n",
      "2025-03-29 13:05:33 [\u001B[92mINFO\u001B[0m] treeqinetic.classes.series.plot_oscillations_for_measurements: Plot Oscillations for Measurement: 'PTQ_Meas_101814.txt', ID: 2, Start '2023-03-22 10:18:33.334820' to '2023-03-22 10:21:25.691820'\n",
      "2025-03-29 13:05:33 [\u001B[92mINFO\u001B[0m] treeqinetic.classes.measurement._plot_single_oscillations: plot_select_oscillation for measurement: 'Measurement: 'PTQ_Meas_101814.txt', ID: 2, Start '2023-03-22 10:18:33.334820' to '2023-03-22 10:21:25.691820'' for Elasto(90) successful.\n",
      "2025-03-29 13:05:34 [\u001B[92mINFO\u001B[0m] treeqinetic.classes.measurement._plot_single_oscillations: plot_select_oscillation for measurement: 'Measurement: 'PTQ_Meas_101814.txt', ID: 2, Start '2023-03-22 10:18:33.334820' to '2023-03-22 10:21:25.691820'' for Elasto(92) successful.\n",
      "2025-03-29 13:05:34 [\u001B[92mINFO\u001B[0m] treeqinetic.classes.measurement._plot_single_oscillations: plot_select_oscillation for measurement: 'Measurement: 'PTQ_Meas_101814.txt', ID: 2, Start '2023-03-22 10:18:33.334820' to '2023-03-22 10:21:25.691820'' for Elasto(95) successful.\n",
      "2025-03-29 13:05:35 [\u001B[92mINFO\u001B[0m] treeqinetic.classes.measurement._plot_single_oscillations: plot_select_oscillation for measurement: 'Measurement: 'PTQ_Meas_101814.txt', ID: 2, Start '2023-03-22 10:18:33.334820' to '2023-03-22 10:21:25.691820'' for Elasto(98) successful.\n",
      "2025-03-29 13:05:35 [\u001B[92mINFO\u001B[0m] treeqinetic.classes.series.plot_oscillations_for_measurements: Plot Oscillations for Measurement: 'PTQ_Meas_102314.txt', ID: 3, Start '2023-03-22 10:26:25.086505' to '2023-03-22 10:28:50.847505'\n",
      "2025-03-29 13:05:35 [\u001B[92mINFO\u001B[0m] treeqinetic.classes.measurement._plot_single_oscillations: plot_select_oscillation for measurement: 'Measurement: 'PTQ_Meas_102314.txt', ID: 3, Start '2023-03-22 10:26:25.086505' to '2023-03-22 10:28:50.847505'' for Elasto(90) successful.\n",
      "2025-03-29 13:05:36 [\u001B[92mINFO\u001B[0m] treeqinetic.classes.measurement._plot_single_oscillations: plot_select_oscillation for measurement: 'Measurement: 'PTQ_Meas_102314.txt', ID: 3, Start '2023-03-22 10:26:25.086505' to '2023-03-22 10:28:50.847505'' for Elasto(92) successful.\n",
      "2025-03-29 13:05:36 [\u001B[92mINFO\u001B[0m] treeqinetic.classes.measurement._plot_single_oscillations: plot_select_oscillation for measurement: 'Measurement: 'PTQ_Meas_102314.txt', ID: 3, Start '2023-03-22 10:26:25.086505' to '2023-03-22 10:28:50.847505'' for Elasto(95) successful.\n",
      "2025-03-29 13:05:37 [\u001B[92mINFO\u001B[0m] treeqinetic.classes.measurement._plot_single_oscillations: plot_select_oscillation for measurement: 'Measurement: 'PTQ_Meas_102314.txt', ID: 3, Start '2023-03-22 10:26:25.086505' to '2023-03-22 10:28:50.847505'' for Elasto(98) successful.\n",
      "2025-03-29 13:05:37 [\u001B[92mINFO\u001B[0m] treeqinetic.classes.series.plot_oscillations_for_measurements: Plot Oscillations for Measurement: 'PTQ_Meas_104400.txt', ID: 4, Start '2023-03-22 10:50:02.131987' to '2023-03-22 10:52:43.662987'\n",
      "2025-03-29 13:05:38 [\u001B[92mINFO\u001B[0m] treeqinetic.classes.measurement._plot_single_oscillations: plot_select_oscillation for measurement: 'Measurement: 'PTQ_Meas_104400.txt', ID: 4, Start '2023-03-22 10:50:02.131987' to '2023-03-22 10:52:43.662987'' for Elasto(90) successful.\n",
      "2025-03-29 13:05:38 [\u001B[92mINFO\u001B[0m] treeqinetic.classes.measurement._plot_single_oscillations: plot_select_oscillation for measurement: 'Measurement: 'PTQ_Meas_104400.txt', ID: 4, Start '2023-03-22 10:50:02.131987' to '2023-03-22 10:52:43.662987'' for Elasto(92) successful.\n",
      "2025-03-29 13:05:39 [\u001B[92mINFO\u001B[0m] treeqinetic.classes.measurement._plot_single_oscillations: plot_select_oscillation for measurement: 'Measurement: 'PTQ_Meas_104400.txt', ID: 4, Start '2023-03-22 10:50:02.131987' to '2023-03-22 10:52:43.662987'' for Elasto(95) successful.\n",
      "2025-03-29 13:05:39 [\u001B[92mINFO\u001B[0m] treeqinetic.classes.measurement._plot_single_oscillations: plot_select_oscillation for measurement: 'Measurement: 'PTQ_Meas_104400.txt', ID: 4, Start '2023-03-22 10:50:02.131987' to '2023-03-22 10:52:43.662987'' for Elasto(98) successful.\n",
      "2025-03-29 13:05:39 [\u001B[92mINFO\u001B[0m] treeqinetic.classes.series.plot_oscillations_for_measurements: Plot Oscillations for Measurement: 'PTQ_Meas_105549.txt', ID: 5, Start '2023-03-22 10:55:59.034260' to '2023-03-22 10:58:38.051260'\n",
      "2025-03-29 13:05:40 [\u001B[92mINFO\u001B[0m] treeqinetic.classes.measurement._plot_single_oscillations: plot_select_oscillation for measurement: 'Measurement: 'PTQ_Meas_105549.txt', ID: 5, Start '2023-03-22 10:55:59.034260' to '2023-03-22 10:58:38.051260'' for Elasto(90) successful.\n",
      "2025-03-29 13:05:40 [\u001B[92mINFO\u001B[0m] treeqinetic.classes.measurement._plot_single_oscillations: plot_select_oscillation for measurement: 'Measurement: 'PTQ_Meas_105549.txt', ID: 5, Start '2023-03-22 10:55:59.034260' to '2023-03-22 10:58:38.051260'' for Elasto(92) successful.\n",
      "2025-03-29 13:05:41 [\u001B[92mINFO\u001B[0m] treeqinetic.classes.measurement._plot_single_oscillations: plot_select_oscillation for measurement: 'Measurement: 'PTQ_Meas_105549.txt', ID: 5, Start '2023-03-22 10:55:59.034260' to '2023-03-22 10:58:38.051260'' for Elasto(95) successful.\n",
      "2025-03-29 13:05:41 [\u001B[92mINFO\u001B[0m] treeqinetic.classes.measurement._plot_single_oscillations: plot_select_oscillation for measurement: 'Measurement: 'PTQ_Meas_105549.txt', ID: 5, Start '2023-03-22 10:55:59.034260' to '2023-03-22 10:58:38.051260'' for Elasto(98) successful.\n",
      "2025-03-29 13:05:41 [\u001B[92mINFO\u001B[0m] treeqinetic.classes.series.plot_oscillations_for_measurements: Plot Oscillations for Measurement: 'PTQ_Meas_110107.txt', ID: 6, Start '2023-03-22 11:02:37.653620' to '2023-03-22 11:04:32.486620'\n",
      "2025-03-29 13:05:42 [\u001B[92mINFO\u001B[0m] treeqinetic.classes.measurement._plot_single_oscillations: plot_select_oscillation for measurement: 'Measurement: 'PTQ_Meas_110107.txt', ID: 6, Start '2023-03-22 11:02:37.653620' to '2023-03-22 11:04:32.486620'' for Elasto(90) successful.\n",
      "2025-03-29 13:05:43 [\u001B[92mINFO\u001B[0m] treeqinetic.classes.measurement._plot_single_oscillations: plot_select_oscillation for measurement: 'Measurement: 'PTQ_Meas_110107.txt', ID: 6, Start '2023-03-22 11:02:37.653620' to '2023-03-22 11:04:32.486620'' for Elasto(92) successful.\n",
      "2025-03-29 13:05:43 [\u001B[92mINFO\u001B[0m] treeqinetic.classes.measurement._plot_single_oscillations: plot_select_oscillation for measurement: 'Measurement: 'PTQ_Meas_110107.txt', ID: 6, Start '2023-03-22 11:02:37.653620' to '2023-03-22 11:04:32.486620'' for Elasto(95) successful.\n",
      "2025-03-29 13:05:44 [\u001B[92mINFO\u001B[0m] treeqinetic.classes.measurement._plot_single_oscillations: plot_select_oscillation for measurement: 'Measurement: 'PTQ_Meas_110107.txt', ID: 6, Start '2023-03-22 11:02:37.653620' to '2023-03-22 11:04:32.486620'' for Elasto(98) successful.\n",
      "2025-03-29 13:05:44 [\u001B[92mINFO\u001B[0m] treeqinetic.classes.series.plot_oscillations_for_measurements: Plot Oscillations for Measurement: 'PTQ_Meas_110558.txt', ID: 7, Start '2023-03-22 11:06:16.330019' to '2023-03-22 11:08:10.160019'\n",
      "2025-03-29 13:05:44 [\u001B[92mINFO\u001B[0m] treeqinetic.classes.measurement._plot_single_oscillations: plot_select_oscillation for measurement: 'Measurement: 'PTQ_Meas_110558.txt', ID: 7, Start '2023-03-22 11:06:16.330019' to '2023-03-22 11:08:10.160019'' for Elasto(90) successful.\n",
      "2025-03-29 13:05:45 [\u001B[92mINFO\u001B[0m] treeqinetic.classes.measurement._plot_single_oscillations: plot_select_oscillation for measurement: 'Measurement: 'PTQ_Meas_110558.txt', ID: 7, Start '2023-03-22 11:06:16.330019' to '2023-03-22 11:08:10.160019'' for Elasto(92) successful.\n",
      "2025-03-29 13:05:45 [\u001B[92mINFO\u001B[0m] treeqinetic.classes.measurement._plot_single_oscillations: plot_select_oscillation for measurement: 'Measurement: 'PTQ_Meas_110558.txt', ID: 7, Start '2023-03-22 11:06:16.330019' to '2023-03-22 11:08:10.160019'' for Elasto(95) successful.\n",
      "2025-03-29 13:05:46 [\u001B[92mINFO\u001B[0m] treeqinetic.classes.measurement._plot_single_oscillations: plot_select_oscillation for measurement: 'Measurement: 'PTQ_Meas_110558.txt', ID: 7, Start '2023-03-22 11:06:16.330019' to '2023-03-22 11:08:10.160019'' for Elasto(98) successful.\n",
      "2025-03-29 13:05:46 [\u001B[92mINFO\u001B[0m] treeqinetic.classes.series.plot_oscillations_for_measurements: Plot Oscillations for Measurement: 'PTQ_Meas_111019.txt', ID: 8, Start '2023-03-22 11:10:38.251994' to '2023-03-22 11:12:26.538994'\n",
      "2025-03-29 13:05:47 [\u001B[92mINFO\u001B[0m] treeqinetic.classes.measurement._plot_single_oscillations: plot_select_oscillation for measurement: 'Measurement: 'PTQ_Meas_111019.txt', ID: 8, Start '2023-03-22 11:10:38.251994' to '2023-03-22 11:12:26.538994'' for Elasto(90) successful.\n",
      "2025-03-29 13:05:47 [\u001B[92mINFO\u001B[0m] treeqinetic.classes.measurement._plot_single_oscillations: plot_select_oscillation for measurement: 'Measurement: 'PTQ_Meas_111019.txt', ID: 8, Start '2023-03-22 11:10:38.251994' to '2023-03-22 11:12:26.538994'' for Elasto(92) successful.\n",
      "2025-03-29 13:05:48 [\u001B[92mINFO\u001B[0m] treeqinetic.classes.measurement._plot_single_oscillations: plot_select_oscillation for measurement: 'Measurement: 'PTQ_Meas_111019.txt', ID: 8, Start '2023-03-22 11:10:38.251994' to '2023-03-22 11:12:26.538994'' for Elasto(95) successful.\n",
      "2025-03-29 13:05:48 [\u001B[92mINFO\u001B[0m] treeqinetic.classes.measurement._plot_single_oscillations: plot_select_oscillation for measurement: 'Measurement: 'PTQ_Meas_111019.txt', ID: 8, Start '2023-03-22 11:10:38.251994' to '2023-03-22 11:12:26.538994'' for Elasto(98) successful.\n",
      "2025-03-29 13:05:48 [\u001B[92mINFO\u001B[0m] treeqinetic.classes.series.plot_oscillations_for_measurements: Plot Oscillations for Measurement: 'PTQ_Meas_111713.txt', ID: 9, Start '2023-03-22 11:21:04.844142' to '2023-03-22 11:23:02.055142'\n",
      "2025-03-29 13:05:49 [\u001B[92mINFO\u001B[0m] treeqinetic.classes.measurement._plot_single_oscillations: plot_select_oscillation for measurement: 'Measurement: 'PTQ_Meas_111713.txt', ID: 9, Start '2023-03-22 11:21:04.844142' to '2023-03-22 11:23:02.055142'' for Elasto(90) successful.\n",
      "2025-03-29 13:05:49 [\u001B[92mINFO\u001B[0m] treeqinetic.classes.measurement._plot_single_oscillations: plot_select_oscillation for measurement: 'Measurement: 'PTQ_Meas_111713.txt', ID: 9, Start '2023-03-22 11:21:04.844142' to '2023-03-22 11:23:02.055142'' for Elasto(92) successful.\n",
      "2025-03-29 13:05:50 [\u001B[92mINFO\u001B[0m] treeqinetic.classes.measurement._plot_single_oscillations: plot_select_oscillation for measurement: 'Measurement: 'PTQ_Meas_111713.txt', ID: 9, Start '2023-03-22 11:21:04.844142' to '2023-03-22 11:23:02.055142'' for Elasto(95) successful.\n",
      "2025-03-29 13:05:50 [\u001B[92mINFO\u001B[0m] treeqinetic.classes.measurement._plot_single_oscillations: plot_select_oscillation for measurement: 'Measurement: 'PTQ_Meas_111713.txt', ID: 9, Start '2023-03-22 11:21:04.844142' to '2023-03-22 11:23:02.055142'' for Elasto(98) successful.\n",
      "2025-03-29 13:05:50 [\u001B[92mINFO\u001B[0m] treeqinetic.classes.series.plot_oscillations_for_measurements: Plot Oscillations for Measurement: 'PTQ_Meas_112120.txt', ID: 10, Start '2023-03-22 11:22:46.612488' to '2023-03-22 11:26:15.605488'\n",
      "2025-03-29 13:05:51 [\u001B[92mINFO\u001B[0m] treeqinetic.classes.measurement._plot_single_oscillations: plot_select_oscillation for measurement: 'Measurement: 'PTQ_Meas_112120.txt', ID: 10, Start '2023-03-22 11:22:46.612488' to '2023-03-22 11:26:15.605488'' for Elasto(90) successful.\n",
      "2025-03-29 13:05:51 [\u001B[92mINFO\u001B[0m] treeqinetic.classes.measurement._plot_single_oscillations: plot_select_oscillation for measurement: 'Measurement: 'PTQ_Meas_112120.txt', ID: 10, Start '2023-03-22 11:22:46.612488' to '2023-03-22 11:26:15.605488'' for Elasto(92) successful.\n",
      "2025-03-29 13:05:52 [\u001B[92mINFO\u001B[0m] treeqinetic.classes.measurement._plot_single_oscillations: plot_select_oscillation for measurement: 'Measurement: 'PTQ_Meas_112120.txt', ID: 10, Start '2023-03-22 11:22:46.612488' to '2023-03-22 11:26:15.605488'' for Elasto(95) successful.\n",
      "2025-03-29 13:05:52 [\u001B[92mINFO\u001B[0m] treeqinetic.classes.measurement._plot_single_oscillations: plot_select_oscillation for measurement: 'Measurement: 'PTQ_Meas_112120.txt', ID: 10, Start '2023-03-22 11:22:46.612488' to '2023-03-22 11:26:15.605488'' for Elasto(98) successful.\n",
      "2025-03-29 13:05:52 [\u001B[92mINFO\u001B[0m] treeqinetic.classes.series.plot_oscillations_for_measurements: Plot Oscillations for Measurement: 'PTQ_Meas_133316.txt', ID: 11, Start '2023-03-22 13:36:32.068787' to '2023-03-22 13:38:55.286787'\n",
      "2025-03-29 13:05:53 [\u001B[92mINFO\u001B[0m] treeqinetic.classes.measurement._plot_single_oscillations: plot_select_oscillation for measurement: 'Measurement: 'PTQ_Meas_133316.txt', ID: 11, Start '2023-03-22 13:36:32.068787' to '2023-03-22 13:38:55.286787'' for Elasto(90) successful.\n",
      "2025-03-29 13:05:54 [\u001B[92mINFO\u001B[0m] treeqinetic.classes.measurement._plot_single_oscillations: plot_select_oscillation for measurement: 'Measurement: 'PTQ_Meas_133316.txt', ID: 11, Start '2023-03-22 13:36:32.068787' to '2023-03-22 13:38:55.286787'' for Elasto(92) successful.\n",
      "2025-03-29 13:05:54 [\u001B[92mINFO\u001B[0m] treeqinetic.classes.measurement._plot_single_oscillations: plot_select_oscillation for measurement: 'Measurement: 'PTQ_Meas_133316.txt', ID: 11, Start '2023-03-22 13:36:32.068787' to '2023-03-22 13:38:55.286787'' for Elasto(95) successful.\n",
      "2025-03-29 13:05:55 [\u001B[92mINFO\u001B[0m] treeqinetic.classes.measurement._plot_single_oscillations: plot_select_oscillation for measurement: 'Measurement: 'PTQ_Meas_133316.txt', ID: 11, Start '2023-03-22 13:36:32.068787' to '2023-03-22 13:38:55.286787'' for Elasto(98) successful.\n",
      "2025-03-29 13:05:55 [\u001B[92mINFO\u001B[0m] treeqinetic.classes.series.plot_oscillations_for_measurements: Plot Oscillations for Measurement: 'PTQ_Meas_134053.txt', ID: 12, Start '2023-03-22 13:42:13.782157' to '2023-03-22 13:44:46.281157'\n",
      "2025-03-29 13:05:55 [\u001B[92mINFO\u001B[0m] treeqinetic.classes.measurement._plot_single_oscillations: plot_select_oscillation for measurement: 'Measurement: 'PTQ_Meas_134053.txt', ID: 12, Start '2023-03-22 13:42:13.782157' to '2023-03-22 13:44:46.281157'' for Elasto(90) successful.\n",
      "2025-03-29 13:05:56 [\u001B[92mINFO\u001B[0m] treeqinetic.classes.measurement._plot_single_oscillations: plot_select_oscillation for measurement: 'Measurement: 'PTQ_Meas_134053.txt', ID: 12, Start '2023-03-22 13:42:13.782157' to '2023-03-22 13:44:46.281157'' for Elasto(92) successful.\n",
      "2025-03-29 13:05:56 [\u001B[92mINFO\u001B[0m] treeqinetic.classes.measurement._plot_single_oscillations: plot_select_oscillation for measurement: 'Measurement: 'PTQ_Meas_134053.txt', ID: 12, Start '2023-03-22 13:42:13.782157' to '2023-03-22 13:44:46.281157'' for Elasto(95) successful.\n",
      "2025-03-29 13:05:57 [\u001B[92mINFO\u001B[0m] treeqinetic.classes.measurement._plot_single_oscillations: plot_select_oscillation for measurement: 'Measurement: 'PTQ_Meas_134053.txt', ID: 12, Start '2023-03-22 13:42:13.782157' to '2023-03-22 13:44:46.281157'' for Elasto(98) successful.\n",
      "2025-03-29 13:05:57 [\u001B[92mINFO\u001B[0m] treeqinetic.classes.series.plot_oscillations_for_measurements: Plot Oscillations for Measurement: 'PTQ_Meas_134807.txt', ID: 13, Start '2023-03-22 13:49:21.347406' to '2023-03-22 13:51:37.799406'\n",
      "2025-03-29 13:05:58 [\u001B[92mINFO\u001B[0m] treeqinetic.classes.measurement._plot_single_oscillations: plot_select_oscillation for measurement: 'Measurement: 'PTQ_Meas_134807.txt', ID: 13, Start '2023-03-22 13:49:21.347406' to '2023-03-22 13:51:37.799406'' for Elasto(90) successful.\n",
      "2025-03-29 13:05:58 [\u001B[92mINFO\u001B[0m] treeqinetic.classes.measurement._plot_single_oscillations: plot_select_oscillation for measurement: 'Measurement: 'PTQ_Meas_134807.txt', ID: 13, Start '2023-03-22 13:49:21.347406' to '2023-03-22 13:51:37.799406'' for Elasto(92) successful.\n",
      "2025-03-29 13:05:59 [\u001B[92mINFO\u001B[0m] treeqinetic.classes.measurement._plot_single_oscillations: plot_select_oscillation for measurement: 'Measurement: 'PTQ_Meas_134807.txt', ID: 13, Start '2023-03-22 13:49:21.347406' to '2023-03-22 13:51:37.799406'' for Elasto(95) successful.\n",
      "2025-03-29 13:06:00 [\u001B[92mINFO\u001B[0m] treeqinetic.classes.measurement._plot_single_oscillations: plot_select_oscillation for measurement: 'Measurement: 'PTQ_Meas_134807.txt', ID: 13, Start '2023-03-22 13:49:21.347406' to '2023-03-22 13:51:37.799406'' for Elasto(98) successful.\n",
      "2025-03-29 13:06:00 [\u001B[92mINFO\u001B[0m] treeqinetic.classes.series.plot_oscillations_for_measurements: Plot Oscillations for Measurement: 'PTQ_Meas_135705.txt', ID: 14, Start '2023-03-22 13:59:44.050912' to '2023-03-22 14:02:02.505912'\n",
      "2025-03-29 13:06:00 [\u001B[92mINFO\u001B[0m] treeqinetic.classes.measurement._plot_single_oscillations: plot_select_oscillation for measurement: 'Measurement: 'PTQ_Meas_135705.txt', ID: 14, Start '2023-03-22 13:59:44.050912' to '2023-03-22 14:02:02.505912'' for Elasto(90) successful.\n",
      "2025-03-29 13:06:01 [\u001B[92mINFO\u001B[0m] treeqinetic.classes.measurement._plot_single_oscillations: plot_select_oscillation for measurement: 'Measurement: 'PTQ_Meas_135705.txt', ID: 14, Start '2023-03-22 13:59:44.050912' to '2023-03-22 14:02:02.505912'' for Elasto(92) successful.\n",
      "2025-03-29 13:06:02 [\u001B[92mINFO\u001B[0m] treeqinetic.classes.measurement._plot_single_oscillations: plot_select_oscillation for measurement: 'Measurement: 'PTQ_Meas_135705.txt', ID: 14, Start '2023-03-22 13:59:44.050912' to '2023-03-22 14:02:02.505912'' for Elasto(95) successful.\n",
      "2025-03-29 13:06:03 [\u001B[92mINFO\u001B[0m] treeqinetic.classes.measurement._plot_single_oscillations: plot_select_oscillation for measurement: 'Measurement: 'PTQ_Meas_135705.txt', ID: 14, Start '2023-03-22 13:59:44.050912' to '2023-03-22 14:02:02.505912'' for Elasto(98) successful.\n",
      "2025-03-29 13:06:03 [\u001B[92mINFO\u001B[0m] treeqinetic.classes.series.plot_oscillations_for_measurements: Plot Oscillations for Measurement: 'PTQ_Meas_140149.txt', ID: 15, Start '2023-03-22 14:04:38.399621' to '2023-03-22 14:06:40.181621'\n",
      "2025-03-29 13:06:03 [\u001B[92mINFO\u001B[0m] treeqinetic.classes.measurement._plot_single_oscillations: plot_select_oscillation for measurement: 'Measurement: 'PTQ_Meas_140149.txt', ID: 15, Start '2023-03-22 14:04:38.399621' to '2023-03-22 14:06:40.181621'' for Elasto(90) successful.\n",
      "2025-03-29 13:06:04 [\u001B[92mINFO\u001B[0m] treeqinetic.classes.measurement._plot_single_oscillations: plot_select_oscillation for measurement: 'Measurement: 'PTQ_Meas_140149.txt', ID: 15, Start '2023-03-22 14:04:38.399621' to '2023-03-22 14:06:40.181621'' for Elasto(92) successful.\n",
      "2025-03-29 13:06:05 [\u001B[92mINFO\u001B[0m] treeqinetic.classes.measurement._plot_single_oscillations: plot_select_oscillation for measurement: 'Measurement: 'PTQ_Meas_140149.txt', ID: 15, Start '2023-03-22 14:04:38.399621' to '2023-03-22 14:06:40.181621'' for Elasto(95) successful.\n",
      "2025-03-29 13:06:06 [\u001B[92mINFO\u001B[0m] treeqinetic.classes.measurement._plot_single_oscillations: plot_select_oscillation for measurement: 'Measurement: 'PTQ_Meas_140149.txt', ID: 15, Start '2023-03-22 14:04:38.399621' to '2023-03-22 14:06:40.181621'' for Elasto(98) successful.\n",
      "2025-03-29 13:06:06 [\u001B[92mINFO\u001B[0m] treeqinetic.classes.series.plot_oscillations_for_measurements: Plot Oscillations for Measurement: 'PTQ_Meas_140551.txt', ID: 16, Start '2023-03-22 14:08:22.949140' to '2023-03-22 14:10:39.593140'\n",
      "2025-03-29 13:06:07 [\u001B[92mINFO\u001B[0m] treeqinetic.classes.measurement._plot_single_oscillations: plot_select_oscillation for measurement: 'Measurement: 'PTQ_Meas_140551.txt', ID: 16, Start '2023-03-22 14:08:22.949140' to '2023-03-22 14:10:39.593140'' for Elasto(90) successful.\n",
      "2025-03-29 13:06:08 [\u001B[92mINFO\u001B[0m] treeqinetic.classes.measurement._plot_single_oscillations: plot_select_oscillation for measurement: 'Measurement: 'PTQ_Meas_140551.txt', ID: 16, Start '2023-03-22 14:08:22.949140' to '2023-03-22 14:10:39.593140'' for Elasto(92) successful.\n",
      "2025-03-29 13:06:08 [\u001B[92mINFO\u001B[0m] treeqinetic.classes.measurement._plot_single_oscillations: plot_select_oscillation for measurement: 'Measurement: 'PTQ_Meas_140551.txt', ID: 16, Start '2023-03-22 14:08:22.949140' to '2023-03-22 14:10:39.593140'' for Elasto(95) successful.\n",
      "2025-03-29 13:06:09 [\u001B[92mINFO\u001B[0m] treeqinetic.classes.measurement._plot_single_oscillations: plot_select_oscillation for measurement: 'Measurement: 'PTQ_Meas_140551.txt', ID: 16, Start '2023-03-22 14:08:22.949140' to '2023-03-22 14:10:39.593140'' for Elasto(98) successful.\n",
      "2025-03-29 13:06:09 [\u001B[92mINFO\u001B[0m] treeqinetic.classes.series.plot_oscillations_for_measurements: Plot Oscillations for Measurement: 'PTQ_Meas_141006.txt', ID: 17, Start '2023-03-22 14:12:35.404214' to '2023-03-22 14:14:35.383214'\n",
      "2025-03-29 13:06:11 [\u001B[92mINFO\u001B[0m] treeqinetic.classes.measurement._plot_single_oscillations: plot_select_oscillation for measurement: 'Measurement: 'PTQ_Meas_141006.txt', ID: 17, Start '2023-03-22 14:12:35.404214' to '2023-03-22 14:14:35.383214'' for Elasto(90) successful.\n",
      "2025-03-29 13:06:12 [\u001B[92mINFO\u001B[0m] treeqinetic.classes.measurement._plot_single_oscillations: plot_select_oscillation for measurement: 'Measurement: 'PTQ_Meas_141006.txt', ID: 17, Start '2023-03-22 14:12:35.404214' to '2023-03-22 14:14:35.383214'' for Elasto(92) successful.\n",
      "2025-03-29 13:06:14 [\u001B[92mINFO\u001B[0m] treeqinetic.classes.measurement._plot_single_oscillations: plot_select_oscillation for measurement: 'Measurement: 'PTQ_Meas_141006.txt', ID: 17, Start '2023-03-22 14:12:35.404214' to '2023-03-22 14:14:35.383214'' for Elasto(95) successful.\n",
      "2025-03-29 13:06:15 [\u001B[92mINFO\u001B[0m] treeqinetic.classes.measurement._plot_single_oscillations: plot_select_oscillation for measurement: 'Measurement: 'PTQ_Meas_141006.txt', ID: 17, Start '2023-03-22 14:12:35.404214' to '2023-03-22 14:14:35.383214'' for Elasto(98) successful.\n",
      "2025-03-29 13:06:15 [\u001B[92mINFO\u001B[0m] treeqinetic.classes.series.plot_oscillations_for_measurements: Plot Oscillations for Measurement: 'PTQ_Meas_141437.txt', ID: 18, Start '2023-03-22 14:15:47.525869999' to '2023-03-22 14:18:26.172870'\n",
      "2025-03-29 13:06:16 [\u001B[92mINFO\u001B[0m] treeqinetic.classes.measurement._plot_single_oscillations: plot_select_oscillation for measurement: 'Measurement: 'PTQ_Meas_141437.txt', ID: 18, Start '2023-03-22 14:15:47.525869999' to '2023-03-22 14:18:26.172870'' for Elasto(90) successful.\n",
      "2025-03-29 13:06:17 [\u001B[92mINFO\u001B[0m] treeqinetic.classes.measurement._plot_single_oscillations: plot_select_oscillation for measurement: 'Measurement: 'PTQ_Meas_141437.txt', ID: 18, Start '2023-03-22 14:15:47.525869999' to '2023-03-22 14:18:26.172870'' for Elasto(92) successful.\n",
      "2025-03-29 13:06:19 [\u001B[92mINFO\u001B[0m] treeqinetic.classes.measurement._plot_single_oscillations: plot_select_oscillation for measurement: 'Measurement: 'PTQ_Meas_141437.txt', ID: 18, Start '2023-03-22 14:15:47.525869999' to '2023-03-22 14:18:26.172870'' for Elasto(95) successful.\n",
      "2025-03-29 13:06:20 [\u001B[92mINFO\u001B[0m] treeqinetic.classes.measurement._plot_single_oscillations: plot_select_oscillation for measurement: 'Measurement: 'PTQ_Meas_141437.txt', ID: 18, Start '2023-03-22 14:15:47.525869999' to '2023-03-22 14:18:26.172870'' for Elasto(98) successful.\n",
      "2025-03-29 13:06:20 [\u001B[92mINFO\u001B[0m] treeqinetic.classes.series.plot_oscillations_for_measurements: Plot Oscillations for Measurement: 'PTQ_Meas_141812.txt', ID: 19, Start '2023-03-22 14:20:37.937304' to '2023-03-22 14:22:53.243304'\n",
      "2025-03-29 13:06:21 [\u001B[92mINFO\u001B[0m] treeqinetic.classes.measurement._plot_single_oscillations: plot_select_oscillation for measurement: 'Measurement: 'PTQ_Meas_141812.txt', ID: 19, Start '2023-03-22 14:20:37.937304' to '2023-03-22 14:22:53.243304'' for Elasto(90) successful.\n",
      "2025-03-29 13:06:22 [\u001B[92mINFO\u001B[0m] treeqinetic.classes.measurement._plot_single_oscillations: plot_select_oscillation for measurement: 'Measurement: 'PTQ_Meas_141812.txt', ID: 19, Start '2023-03-22 14:20:37.937304' to '2023-03-22 14:22:53.243304'' for Elasto(92) successful.\n",
      "2025-03-29 13:06:22 [\u001B[92mINFO\u001B[0m] treeqinetic.classes.measurement._plot_single_oscillations: plot_select_oscillation for measurement: 'Measurement: 'PTQ_Meas_141812.txt', ID: 19, Start '2023-03-22 14:20:37.937304' to '2023-03-22 14:22:53.243304'' for Elasto(95) successful.\n",
      "2025-03-29 13:06:23 [\u001B[92mINFO\u001B[0m] treeqinetic.classes.measurement._plot_single_oscillations: plot_select_oscillation for measurement: 'Measurement: 'PTQ_Meas_141812.txt', ID: 19, Start '2023-03-22 14:20:37.937304' to '2023-03-22 14:22:53.243304'' for Elasto(98) successful.\n",
      "2025-03-29 13:06:23 [\u001B[92mINFO\u001B[0m] treeqinetic.classes.series.plot_oscillations_for_measurements: Plot Oscillations for Measurement: 'PTQ_Meas_150444.txt', ID: 20, Start '2023-03-22 15:07:26.211509' to '2023-03-22 15:09:24.888509'\n",
      "2025-03-29 13:06:24 [\u001B[92mINFO\u001B[0m] treeqinetic.classes.measurement._plot_single_oscillations: plot_select_oscillation for measurement: 'Measurement: 'PTQ_Meas_150444.txt', ID: 20, Start '2023-03-22 15:07:26.211509' to '2023-03-22 15:09:24.888509'' for Elasto(90) successful.\n",
      "2025-03-29 13:06:24 [\u001B[92mINFO\u001B[0m] treeqinetic.classes.measurement._plot_single_oscillations: plot_select_oscillation for measurement: 'Measurement: 'PTQ_Meas_150444.txt', ID: 20, Start '2023-03-22 15:07:26.211509' to '2023-03-22 15:09:24.888509'' for Elasto(92) successful.\n",
      "2025-03-29 13:06:25 [\u001B[92mINFO\u001B[0m] treeqinetic.classes.measurement._plot_single_oscillations: plot_select_oscillation for measurement: 'Measurement: 'PTQ_Meas_150444.txt', ID: 20, Start '2023-03-22 15:07:26.211509' to '2023-03-22 15:09:24.888509'' for Elasto(95) successful.\n",
      "2025-03-29 13:06:26 [\u001B[92mINFO\u001B[0m] treeqinetic.classes.measurement._plot_single_oscillations: plot_select_oscillation for measurement: 'Measurement: 'PTQ_Meas_150444.txt', ID: 20, Start '2023-03-22 15:07:26.211509' to '2023-03-22 15:09:24.888509'' for Elasto(98) successful.\n",
      "2025-03-29 13:06:26 [\u001B[92mINFO\u001B[0m] treeqinetic.classes.series.plot_oscillations_for_measurements: Plot Oscillations for Measurement: 'PTQ_Meas_151010.txt', ID: 21, Start '2023-03-22 15:11:29.776214' to '2023-03-22 15:14:08.830214'\n",
      "2025-03-29 13:06:26 [\u001B[92mINFO\u001B[0m] treeqinetic.classes.measurement._plot_single_oscillations: plot_select_oscillation for measurement: 'Measurement: 'PTQ_Meas_151010.txt', ID: 21, Start '2023-03-22 15:11:29.776214' to '2023-03-22 15:14:08.830214'' for Elasto(90) successful.\n",
      "2025-03-29 13:06:27 [\u001B[92mINFO\u001B[0m] treeqinetic.classes.measurement._plot_single_oscillations: plot_select_oscillation for measurement: 'Measurement: 'PTQ_Meas_151010.txt', ID: 21, Start '2023-03-22 15:11:29.776214' to '2023-03-22 15:14:08.830214'' for Elasto(92) successful.\n",
      "2025-03-29 13:06:28 [\u001B[92mINFO\u001B[0m] treeqinetic.classes.measurement._plot_single_oscillations: plot_select_oscillation for measurement: 'Measurement: 'PTQ_Meas_151010.txt', ID: 21, Start '2023-03-22 15:11:29.776214' to '2023-03-22 15:14:08.830214'' for Elasto(95) successful.\n",
      "2025-03-29 13:06:29 [\u001B[92mINFO\u001B[0m] treeqinetic.classes.measurement._plot_single_oscillations: plot_select_oscillation for measurement: 'Measurement: 'PTQ_Meas_151010.txt', ID: 21, Start '2023-03-22 15:11:29.776214' to '2023-03-22 15:14:08.830214'' for Elasto(98) successful.\n",
      "2025-03-29 13:06:29 [\u001B[92mINFO\u001B[0m] treeqinetic.classes.series.plot_oscillations_for_measurements: Plot Oscillations for Measurement: 'PTQ_Meas_151557.txt', ID: 22, Start '2023-03-22 15:16:01.811379' to '2023-03-22 15:20:03.954379'\n",
      "2025-03-29 13:06:29 [\u001B[92mINFO\u001B[0m] treeqinetic.classes.measurement._plot_single_oscillations: plot_select_oscillation for measurement: 'Measurement: 'PTQ_Meas_151557.txt', ID: 22, Start '2023-03-22 15:16:01.811379' to '2023-03-22 15:20:03.954379'' for Elasto(90) successful.\n",
      "2025-03-29 13:06:30 [\u001B[92mINFO\u001B[0m] treeqinetic.classes.measurement._plot_single_oscillations: plot_select_oscillation for measurement: 'Measurement: 'PTQ_Meas_151557.txt', ID: 22, Start '2023-03-22 15:16:01.811379' to '2023-03-22 15:20:03.954379'' for Elasto(92) successful.\n",
      "2025-03-29 13:06:31 [\u001B[92mINFO\u001B[0m] treeqinetic.classes.measurement._plot_single_oscillations: plot_select_oscillation for measurement: 'Measurement: 'PTQ_Meas_151557.txt', ID: 22, Start '2023-03-22 15:16:01.811379' to '2023-03-22 15:20:03.954379'' for Elasto(95) successful.\n",
      "2025-03-29 13:06:32 [\u001B[92mINFO\u001B[0m] treeqinetic.classes.measurement._plot_single_oscillations: plot_select_oscillation for measurement: 'Measurement: 'PTQ_Meas_151557.txt', ID: 22, Start '2023-03-22 15:16:01.811379' to '2023-03-22 15:20:03.954379'' for Elasto(98) successful.\n",
      "2025-03-29 13:06:32 [\u001B[92mINFO\u001B[0m] treeqinetic.classes.series.plot_oscillations_for_measurements: Plot Oscillations for Measurement: 'PTQ_Meas_153028.txt', ID: 23, Start '2023-03-22 15:30:29.626130' to '2023-03-22 15:32:42.861130'\n",
      "2025-03-29 13:06:32 [\u001B[92mINFO\u001B[0m] treeqinetic.classes.measurement._plot_single_oscillations: plot_select_oscillation for measurement: 'Measurement: 'PTQ_Meas_153028.txt', ID: 23, Start '2023-03-22 15:30:29.626130' to '2023-03-22 15:32:42.861130'' for Elasto(90) successful.\n",
      "2025-03-29 13:06:33 [\u001B[92mINFO\u001B[0m] treeqinetic.classes.measurement._plot_single_oscillations: plot_select_oscillation for measurement: 'Measurement: 'PTQ_Meas_153028.txt', ID: 23, Start '2023-03-22 15:30:29.626130' to '2023-03-22 15:32:42.861130'' for Elasto(92) successful.\n",
      "2025-03-29 13:06:34 [\u001B[92mINFO\u001B[0m] treeqinetic.classes.measurement._plot_single_oscillations: plot_select_oscillation for measurement: 'Measurement: 'PTQ_Meas_153028.txt', ID: 23, Start '2023-03-22 15:30:29.626130' to '2023-03-22 15:32:42.861130'' for Elasto(95) successful.\n",
      "2025-03-29 13:06:35 [\u001B[92mINFO\u001B[0m] treeqinetic.classes.measurement._plot_single_oscillations: plot_select_oscillation for measurement: 'Measurement: 'PTQ_Meas_153028.txt', ID: 23, Start '2023-03-22 15:30:29.626130' to '2023-03-22 15:32:42.861130'' for Elasto(98) successful.\n",
      "2025-03-29 13:06:35 [\u001B[92mINFO\u001B[0m] treeqinetic.classes.series.plot_oscillations_for_measurements: Plot Oscillations for Measurement: 'PTQ_Meas_153334.txt', ID: 24, Start '2023-03-22 15:36:28.333785' to '2023-03-22 15:39:10.601785'\n",
      "2025-03-29 13:06:36 [\u001B[92mINFO\u001B[0m] treeqinetic.classes.measurement._plot_single_oscillations: plot_select_oscillation for measurement: 'Measurement: 'PTQ_Meas_153334.txt', ID: 24, Start '2023-03-22 15:36:28.333785' to '2023-03-22 15:39:10.601785'' for Elasto(90) successful.\n",
      "2025-03-29 13:06:37 [\u001B[92mINFO\u001B[0m] treeqinetic.classes.measurement._plot_single_oscillations: plot_select_oscillation for measurement: 'Measurement: 'PTQ_Meas_153334.txt', ID: 24, Start '2023-03-22 15:36:28.333785' to '2023-03-22 15:39:10.601785'' for Elasto(92) successful.\n",
      "2025-03-29 13:06:39 [\u001B[92mINFO\u001B[0m] treeqinetic.classes.measurement._plot_single_oscillations: plot_select_oscillation for measurement: 'Measurement: 'PTQ_Meas_153334.txt', ID: 24, Start '2023-03-22 15:36:28.333785' to '2023-03-22 15:39:10.601785'' for Elasto(95) successful.\n",
      "2025-03-29 13:06:40 [\u001B[92mINFO\u001B[0m] treeqinetic.classes.measurement._plot_single_oscillations: plot_select_oscillation for measurement: 'Measurement: 'PTQ_Meas_153334.txt', ID: 24, Start '2023-03-22 15:36:28.333785' to '2023-03-22 15:39:10.601785'' for Elasto(98) successful.\n",
      "2025-03-29 13:06:40 [\u001B[92mINFO\u001B[0m] treeqinetic.classes.series.plot_oscillations_for_measurements: Plot Oscillations for Measurement: 'PTQ_Meas_153817.txt', ID: 25, Start '2023-03-22 15:39:36.853689' to '2023-03-22 15:45:22.562689'\n",
      "2025-03-29 13:06:41 [\u001B[92mINFO\u001B[0m] treeqinetic.classes.measurement._plot_single_oscillations: plot_select_oscillation for measurement: 'Measurement: 'PTQ_Meas_153817.txt', ID: 25, Start '2023-03-22 15:39:36.853689' to '2023-03-22 15:45:22.562689'' for Elasto(90) successful.\n",
      "2025-03-29 13:06:42 [\u001B[92mINFO\u001B[0m] treeqinetic.classes.measurement._plot_single_oscillations: plot_select_oscillation for measurement: 'Measurement: 'PTQ_Meas_153817.txt', ID: 25, Start '2023-03-22 15:39:36.853689' to '2023-03-22 15:45:22.562689'' for Elasto(92) successful.\n",
      "2025-03-29 13:06:43 [\u001B[92mINFO\u001B[0m] treeqinetic.classes.measurement._plot_single_oscillations: plot_select_oscillation for measurement: 'Measurement: 'PTQ_Meas_153817.txt', ID: 25, Start '2023-03-22 15:39:36.853689' to '2023-03-22 15:45:22.562689'' for Elasto(95) successful.\n",
      "2025-03-29 13:06:44 [\u001B[92mINFO\u001B[0m] treeqinetic.classes.measurement._plot_single_oscillations: plot_select_oscillation for measurement: 'Measurement: 'PTQ_Meas_153817.txt', ID: 25, Start '2023-03-22 15:39:36.853689' to '2023-03-22 15:45:22.562689'' for Elasto(98) successful.\n",
      "2025-03-29 13:06:44 [\u001B[92mINFO\u001B[0m] treeqinetic.classes.series.plot_oscillations_for_measurements: Plot Oscillations for Measurement: 'PTQ_Meas_154457.txt', ID: 26, Start '2023-03-22 15:53:18.604797' to '2023-03-22 15:56:04.346797'\n",
      "2025-03-29 13:06:45 [\u001B[92mINFO\u001B[0m] treeqinetic.classes.measurement._plot_single_oscillations: plot_select_oscillation for measurement: 'Measurement: 'PTQ_Meas_154457.txt', ID: 26, Start '2023-03-22 15:53:18.604797' to '2023-03-22 15:56:04.346797'' for Elasto(90) successful.\n",
      "2025-03-29 13:06:45 [\u001B[92mINFO\u001B[0m] treeqinetic.classes.measurement._plot_single_oscillations: plot_select_oscillation for measurement: 'Measurement: 'PTQ_Meas_154457.txt', ID: 26, Start '2023-03-22 15:53:18.604797' to '2023-03-22 15:56:04.346797'' for Elasto(92) successful.\n",
      "2025-03-29 13:06:46 [\u001B[92mINFO\u001B[0m] treeqinetic.classes.measurement._plot_single_oscillations: plot_select_oscillation for measurement: 'Measurement: 'PTQ_Meas_154457.txt', ID: 26, Start '2023-03-22 15:53:18.604797' to '2023-03-22 15:56:04.346797'' for Elasto(95) successful.\n",
      "2025-03-29 13:06:46 [\u001B[92mINFO\u001B[0m] treeqinetic.classes.measurement._plot_single_oscillations: plot_select_oscillation for measurement: 'Measurement: 'PTQ_Meas_154457.txt', ID: 26, Start '2023-03-22 15:53:18.604797' to '2023-03-22 15:56:04.346797'' for Elasto(98) successful.\n",
      "2025-03-29 13:06:46 [\u001B[92mINFO\u001B[0m] treeqinetic.classes.series.plot_oscillations_for_measurements: Plot Oscillations for Measurement: 'PTQ_Meas_155354.txt', ID: 27, Start '2023-03-22 15:53:59.248874' to '2023-03-22 15:57:16.416874'\n",
      "2025-03-29 13:06:47 [\u001B[92mINFO\u001B[0m] treeqinetic.classes.measurement._plot_single_oscillations: plot_select_oscillation for measurement: 'Measurement: 'PTQ_Meas_155354.txt', ID: 27, Start '2023-03-22 15:53:59.248874' to '2023-03-22 15:57:16.416874'' for Elasto(90) successful.\n",
      "2025-03-29 13:06:48 [\u001B[92mINFO\u001B[0m] treeqinetic.classes.measurement._plot_single_oscillations: plot_select_oscillation for measurement: 'Measurement: 'PTQ_Meas_155354.txt', ID: 27, Start '2023-03-22 15:53:59.248874' to '2023-03-22 15:57:16.416874'' for Elasto(92) successful.\n",
      "2025-03-29 13:06:48 [\u001B[92mINFO\u001B[0m] treeqinetic.classes.measurement._plot_single_oscillations: plot_select_oscillation for measurement: 'Measurement: 'PTQ_Meas_155354.txt', ID: 27, Start '2023-03-22 15:53:59.248874' to '2023-03-22 15:57:16.416874'' for Elasto(95) successful.\n",
      "2025-03-29 13:06:49 [\u001B[92mINFO\u001B[0m] treeqinetic.classes.measurement._plot_single_oscillations: plot_select_oscillation for measurement: 'Measurement: 'PTQ_Meas_155354.txt', ID: 27, Start '2023-03-22 15:53:59.248874' to '2023-03-22 15:57:16.416874'' for Elasto(98) successful.\n",
      "2025-03-29 13:06:49 [\u001B[92mINFO\u001B[0m] treeqinetic.classes.series.plot_oscillations_for_measurements: Plot Oscillations for Measurement: 'PTQ_Meas_155805.txt', ID: 28, Start '2023-03-22 15:59:19.859928' to '2023-03-22 16:00:54.129927999'\n",
      "2025-03-29 13:06:50 [\u001B[92mINFO\u001B[0m] treeqinetic.classes.measurement._plot_single_oscillations: plot_select_oscillation for measurement: 'Measurement: 'PTQ_Meas_155805.txt', ID: 28, Start '2023-03-22 15:59:19.859928' to '2023-03-22 16:00:54.129927999'' for Elasto(90) successful.\n",
      "2025-03-29 13:06:50 [\u001B[92mINFO\u001B[0m] treeqinetic.classes.measurement._plot_single_oscillations: plot_select_oscillation for measurement: 'Measurement: 'PTQ_Meas_155805.txt', ID: 28, Start '2023-03-22 15:59:19.859928' to '2023-03-22 16:00:54.129927999'' for Elasto(92) successful.\n",
      "2025-03-29 13:06:51 [\u001B[92mINFO\u001B[0m] treeqinetic.classes.measurement._plot_single_oscillations: plot_select_oscillation for measurement: 'Measurement: 'PTQ_Meas_155805.txt', ID: 28, Start '2023-03-22 15:59:19.859928' to '2023-03-22 16:00:54.129927999'' for Elasto(95) successful.\n",
      "2025-03-29 13:06:52 [\u001B[92mINFO\u001B[0m] treeqinetic.classes.measurement._plot_single_oscillations: plot_select_oscillation for measurement: 'Measurement: 'PTQ_Meas_155805.txt', ID: 28, Start '2023-03-22 15:59:19.859928' to '2023-03-22 16:00:54.129927999'' for Elasto(98) successful.\n",
      "2025-03-29 13:06:52 [\u001B[92mINFO\u001B[0m] treeqinetic.classes.series.plot_oscillations_for_measurements: Plot Oscillations for Measurement: 'PTQ_Meas_160907.txt', ID: 29, Start '2023-03-22 16:09:36.011613' to '2023-03-22 16:12:55.455613'\n",
      "2025-03-29 13:06:52 [\u001B[92mINFO\u001B[0m] treeqinetic.classes.measurement._plot_single_oscillations: plot_select_oscillation for measurement: 'Measurement: 'PTQ_Meas_160907.txt', ID: 29, Start '2023-03-22 16:09:36.011613' to '2023-03-22 16:12:55.455613'' for Elasto(90) successful.\n",
      "2025-03-29 13:06:53 [\u001B[92mINFO\u001B[0m] treeqinetic.classes.measurement._plot_single_oscillations: plot_select_oscillation for measurement: 'Measurement: 'PTQ_Meas_160907.txt', ID: 29, Start '2023-03-22 16:09:36.011613' to '2023-03-22 16:12:55.455613'' for Elasto(92) successful.\n",
      "2025-03-29 13:06:54 [\u001B[92mINFO\u001B[0m] treeqinetic.classes.measurement._plot_single_oscillations: plot_select_oscillation for measurement: 'Measurement: 'PTQ_Meas_160907.txt', ID: 29, Start '2023-03-22 16:09:36.011613' to '2023-03-22 16:12:55.455613'' for Elasto(95) successful.\n",
      "2025-03-29 13:06:54 [\u001B[92mINFO\u001B[0m] treeqinetic.classes.measurement._plot_single_oscillations: plot_select_oscillation for measurement: 'Measurement: 'PTQ_Meas_160907.txt', ID: 29, Start '2023-03-22 16:09:36.011613' to '2023-03-22 16:12:55.455613'' for Elasto(98) successful.\n",
      "2025-03-29 13:06:54 [\u001B[92mINFO\u001B[0m] treeqinetic.classes.series.plot_oscillations_for_measurements: Plot Oscillations for Measurement: 'PTQ_Meas_100346.txt', ID: 1, Start '2023-03-22 10:10:39.830198' to '2023-03-22 10:13:21.602198'\n",
      "2025-03-29 13:06:58 [\u001B[92mINFO\u001B[0m] treeqinetic.classes.measurement._plot_combined_oscillations: Combined plot_select_oscillation for measurement: 'Measurement: 'PTQ_Meas_100346.txt', ID: 1, Start '2023-03-22 10:10:39.830198' to '2023-03-22 10:13:21.602198'' successful.\n",
      "2025-03-29 13:06:58 [\u001B[92mINFO\u001B[0m] treeqinetic.classes.series.plot_oscillations_for_measurements: Plot Oscillations for Measurement: 'PTQ_Meas_101814.txt', ID: 2, Start '2023-03-22 10:18:33.334820' to '2023-03-22 10:21:25.691820'\n",
      "2025-03-29 13:07:02 [\u001B[92mINFO\u001B[0m] treeqinetic.classes.measurement._plot_combined_oscillations: Combined plot_select_oscillation for measurement: 'Measurement: 'PTQ_Meas_101814.txt', ID: 2, Start '2023-03-22 10:18:33.334820' to '2023-03-22 10:21:25.691820'' successful.\n",
      "2025-03-29 13:07:02 [\u001B[92mINFO\u001B[0m] treeqinetic.classes.series.plot_oscillations_for_measurements: Plot Oscillations for Measurement: 'PTQ_Meas_102314.txt', ID: 3, Start '2023-03-22 10:26:25.086505' to '2023-03-22 10:28:50.847505'\n",
      "2025-03-29 13:07:05 [\u001B[92mINFO\u001B[0m] treeqinetic.classes.measurement._plot_combined_oscillations: Combined plot_select_oscillation for measurement: 'Measurement: 'PTQ_Meas_102314.txt', ID: 3, Start '2023-03-22 10:26:25.086505' to '2023-03-22 10:28:50.847505'' successful.\n",
      "2025-03-29 13:07:05 [\u001B[92mINFO\u001B[0m] treeqinetic.classes.series.plot_oscillations_for_measurements: Plot Oscillations for Measurement: 'PTQ_Meas_104400.txt', ID: 4, Start '2023-03-22 10:50:02.131987' to '2023-03-22 10:52:43.662987'\n",
      "2025-03-29 13:07:09 [\u001B[92mINFO\u001B[0m] treeqinetic.classes.measurement._plot_combined_oscillations: Combined plot_select_oscillation for measurement: 'Measurement: 'PTQ_Meas_104400.txt', ID: 4, Start '2023-03-22 10:50:02.131987' to '2023-03-22 10:52:43.662987'' successful.\n",
      "2025-03-29 13:07:09 [\u001B[92mINFO\u001B[0m] treeqinetic.classes.series.plot_oscillations_for_measurements: Plot Oscillations for Measurement: 'PTQ_Meas_105549.txt', ID: 5, Start '2023-03-22 10:55:59.034260' to '2023-03-22 10:58:38.051260'\n",
      "2025-03-29 13:07:13 [\u001B[92mINFO\u001B[0m] treeqinetic.classes.measurement._plot_combined_oscillations: Combined plot_select_oscillation for measurement: 'Measurement: 'PTQ_Meas_105549.txt', ID: 5, Start '2023-03-22 10:55:59.034260' to '2023-03-22 10:58:38.051260'' successful.\n",
      "2025-03-29 13:07:13 [\u001B[92mINFO\u001B[0m] treeqinetic.classes.series.plot_oscillations_for_measurements: Plot Oscillations for Measurement: 'PTQ_Meas_110107.txt', ID: 6, Start '2023-03-22 11:02:37.653620' to '2023-03-22 11:04:32.486620'\n",
      "2025-03-29 13:07:16 [\u001B[92mINFO\u001B[0m] treeqinetic.classes.measurement._plot_combined_oscillations: Combined plot_select_oscillation for measurement: 'Measurement: 'PTQ_Meas_110107.txt', ID: 6, Start '2023-03-22 11:02:37.653620' to '2023-03-22 11:04:32.486620'' successful.\n",
      "2025-03-29 13:07:16 [\u001B[92mINFO\u001B[0m] treeqinetic.classes.series.plot_oscillations_for_measurements: Plot Oscillations for Measurement: 'PTQ_Meas_110558.txt', ID: 7, Start '2023-03-22 11:06:16.330019' to '2023-03-22 11:08:10.160019'\n",
      "2025-03-29 13:07:18 [\u001B[92mINFO\u001B[0m] treeqinetic.classes.measurement._plot_combined_oscillations: Combined plot_select_oscillation for measurement: 'Measurement: 'PTQ_Meas_110558.txt', ID: 7, Start '2023-03-22 11:06:16.330019' to '2023-03-22 11:08:10.160019'' successful.\n",
      "2025-03-29 13:07:18 [\u001B[92mINFO\u001B[0m] treeqinetic.classes.series.plot_oscillations_for_measurements: Plot Oscillations for Measurement: 'PTQ_Meas_111019.txt', ID: 8, Start '2023-03-22 11:10:38.251994' to '2023-03-22 11:12:26.538994'\n",
      "2025-03-29 13:07:20 [\u001B[92mINFO\u001B[0m] treeqinetic.classes.measurement._plot_combined_oscillations: Combined plot_select_oscillation for measurement: 'Measurement: 'PTQ_Meas_111019.txt', ID: 8, Start '2023-03-22 11:10:38.251994' to '2023-03-22 11:12:26.538994'' successful.\n",
      "2025-03-29 13:07:20 [\u001B[92mINFO\u001B[0m] treeqinetic.classes.series.plot_oscillations_for_measurements: Plot Oscillations for Measurement: 'PTQ_Meas_111713.txt', ID: 9, Start '2023-03-22 11:21:04.844142' to '2023-03-22 11:23:02.055142'\n",
      "2025-03-29 13:07:22 [\u001B[92mINFO\u001B[0m] treeqinetic.classes.measurement._plot_combined_oscillations: Combined plot_select_oscillation for measurement: 'Measurement: 'PTQ_Meas_111713.txt', ID: 9, Start '2023-03-22 11:21:04.844142' to '2023-03-22 11:23:02.055142'' successful.\n",
      "2025-03-29 13:07:22 [\u001B[92mINFO\u001B[0m] treeqinetic.classes.series.plot_oscillations_for_measurements: Plot Oscillations for Measurement: 'PTQ_Meas_112120.txt', ID: 10, Start '2023-03-22 11:22:46.612488' to '2023-03-22 11:26:15.605488'\n",
      "2025-03-29 13:07:24 [\u001B[92mINFO\u001B[0m] treeqinetic.classes.measurement._plot_combined_oscillations: Combined plot_select_oscillation for measurement: 'Measurement: 'PTQ_Meas_112120.txt', ID: 10, Start '2023-03-22 11:22:46.612488' to '2023-03-22 11:26:15.605488'' successful.\n",
      "2025-03-29 13:07:24 [\u001B[92mINFO\u001B[0m] treeqinetic.classes.series.plot_oscillations_for_measurements: Plot Oscillations for Measurement: 'PTQ_Meas_133316.txt', ID: 11, Start '2023-03-22 13:36:32.068787' to '2023-03-22 13:38:55.286787'\n",
      "2025-03-29 13:07:26 [\u001B[92mINFO\u001B[0m] treeqinetic.classes.measurement._plot_combined_oscillations: Combined plot_select_oscillation for measurement: 'Measurement: 'PTQ_Meas_133316.txt', ID: 11, Start '2023-03-22 13:36:32.068787' to '2023-03-22 13:38:55.286787'' successful.\n",
      "2025-03-29 13:07:26 [\u001B[92mINFO\u001B[0m] treeqinetic.classes.series.plot_oscillations_for_measurements: Plot Oscillations for Measurement: 'PTQ_Meas_134053.txt', ID: 12, Start '2023-03-22 13:42:13.782157' to '2023-03-22 13:44:46.281157'\n",
      "2025-03-29 13:07:28 [\u001B[92mINFO\u001B[0m] treeqinetic.classes.measurement._plot_combined_oscillations: Combined plot_select_oscillation for measurement: 'Measurement: 'PTQ_Meas_134053.txt', ID: 12, Start '2023-03-22 13:42:13.782157' to '2023-03-22 13:44:46.281157'' successful.\n",
      "2025-03-29 13:07:28 [\u001B[92mINFO\u001B[0m] treeqinetic.classes.series.plot_oscillations_for_measurements: Plot Oscillations for Measurement: 'PTQ_Meas_134807.txt', ID: 13, Start '2023-03-22 13:49:21.347406' to '2023-03-22 13:51:37.799406'\n",
      "2025-03-29 13:07:30 [\u001B[92mINFO\u001B[0m] treeqinetic.classes.measurement._plot_combined_oscillations: Combined plot_select_oscillation for measurement: 'Measurement: 'PTQ_Meas_134807.txt', ID: 13, Start '2023-03-22 13:49:21.347406' to '2023-03-22 13:51:37.799406'' successful.\n",
      "2025-03-29 13:07:30 [\u001B[92mINFO\u001B[0m] treeqinetic.classes.series.plot_oscillations_for_measurements: Plot Oscillations for Measurement: 'PTQ_Meas_135705.txt', ID: 14, Start '2023-03-22 13:59:44.050912' to '2023-03-22 14:02:02.505912'\n",
      "2025-03-29 13:07:33 [\u001B[92mINFO\u001B[0m] treeqinetic.classes.measurement._plot_combined_oscillations: Combined plot_select_oscillation for measurement: 'Measurement: 'PTQ_Meas_135705.txt', ID: 14, Start '2023-03-22 13:59:44.050912' to '2023-03-22 14:02:02.505912'' successful.\n",
      "2025-03-29 13:07:33 [\u001B[92mINFO\u001B[0m] treeqinetic.classes.series.plot_oscillations_for_measurements: Plot Oscillations for Measurement: 'PTQ_Meas_140149.txt', ID: 15, Start '2023-03-22 14:04:38.399621' to '2023-03-22 14:06:40.181621'\n",
      "2025-03-29 13:07:35 [\u001B[92mINFO\u001B[0m] treeqinetic.classes.measurement._plot_combined_oscillations: Combined plot_select_oscillation for measurement: 'Measurement: 'PTQ_Meas_140149.txt', ID: 15, Start '2023-03-22 14:04:38.399621' to '2023-03-22 14:06:40.181621'' successful.\n",
      "2025-03-29 13:07:35 [\u001B[92mINFO\u001B[0m] treeqinetic.classes.series.plot_oscillations_for_measurements: Plot Oscillations for Measurement: 'PTQ_Meas_140551.txt', ID: 16, Start '2023-03-22 14:08:22.949140' to '2023-03-22 14:10:39.593140'\n",
      "2025-03-29 13:07:37 [\u001B[92mINFO\u001B[0m] treeqinetic.classes.measurement._plot_combined_oscillations: Combined plot_select_oscillation for measurement: 'Measurement: 'PTQ_Meas_140551.txt', ID: 16, Start '2023-03-22 14:08:22.949140' to '2023-03-22 14:10:39.593140'' successful.\n",
      "2025-03-29 13:07:37 [\u001B[92mINFO\u001B[0m] treeqinetic.classes.series.plot_oscillations_for_measurements: Plot Oscillations for Measurement: 'PTQ_Meas_141006.txt', ID: 17, Start '2023-03-22 14:12:35.404214' to '2023-03-22 14:14:35.383214'\n",
      "2025-03-29 13:07:39 [\u001B[92mINFO\u001B[0m] treeqinetic.classes.measurement._plot_combined_oscillations: Combined plot_select_oscillation for measurement: 'Measurement: 'PTQ_Meas_141006.txt', ID: 17, Start '2023-03-22 14:12:35.404214' to '2023-03-22 14:14:35.383214'' successful.\n",
      "2025-03-29 13:07:39 [\u001B[92mINFO\u001B[0m] treeqinetic.classes.series.plot_oscillations_for_measurements: Plot Oscillations for Measurement: 'PTQ_Meas_141437.txt', ID: 18, Start '2023-03-22 14:15:47.525869999' to '2023-03-22 14:18:26.172870'\n",
      "2025-03-29 13:07:42 [\u001B[92mINFO\u001B[0m] treeqinetic.classes.measurement._plot_combined_oscillations: Combined plot_select_oscillation for measurement: 'Measurement: 'PTQ_Meas_141437.txt', ID: 18, Start '2023-03-22 14:15:47.525869999' to '2023-03-22 14:18:26.172870'' successful.\n",
      "2025-03-29 13:07:42 [\u001B[92mINFO\u001B[0m] treeqinetic.classes.series.plot_oscillations_for_measurements: Plot Oscillations for Measurement: 'PTQ_Meas_141812.txt', ID: 19, Start '2023-03-22 14:20:37.937304' to '2023-03-22 14:22:53.243304'\n",
      "2025-03-29 13:07:44 [\u001B[92mINFO\u001B[0m] treeqinetic.classes.measurement._plot_combined_oscillations: Combined plot_select_oscillation for measurement: 'Measurement: 'PTQ_Meas_141812.txt', ID: 19, Start '2023-03-22 14:20:37.937304' to '2023-03-22 14:22:53.243304'' successful.\n",
      "2025-03-29 13:07:44 [\u001B[92mINFO\u001B[0m] treeqinetic.classes.series.plot_oscillations_for_measurements: Plot Oscillations for Measurement: 'PTQ_Meas_150444.txt', ID: 20, Start '2023-03-22 15:07:26.211509' to '2023-03-22 15:09:24.888509'\n",
      "2025-03-29 13:07:46 [\u001B[92mINFO\u001B[0m] treeqinetic.classes.measurement._plot_combined_oscillations: Combined plot_select_oscillation for measurement: 'Measurement: 'PTQ_Meas_150444.txt', ID: 20, Start '2023-03-22 15:07:26.211509' to '2023-03-22 15:09:24.888509'' successful.\n",
      "2025-03-29 13:07:46 [\u001B[92mINFO\u001B[0m] treeqinetic.classes.series.plot_oscillations_for_measurements: Plot Oscillations for Measurement: 'PTQ_Meas_151010.txt', ID: 21, Start '2023-03-22 15:11:29.776214' to '2023-03-22 15:14:08.830214'\n",
      "2025-03-29 13:07:49 [\u001B[92mINFO\u001B[0m] treeqinetic.classes.measurement._plot_combined_oscillations: Combined plot_select_oscillation for measurement: 'Measurement: 'PTQ_Meas_151010.txt', ID: 21, Start '2023-03-22 15:11:29.776214' to '2023-03-22 15:14:08.830214'' successful.\n",
      "2025-03-29 13:07:49 [\u001B[92mINFO\u001B[0m] treeqinetic.classes.series.plot_oscillations_for_measurements: Plot Oscillations for Measurement: 'PTQ_Meas_151557.txt', ID: 22, Start '2023-03-22 15:16:01.811379' to '2023-03-22 15:20:03.954379'\n",
      "2025-03-29 13:07:52 [\u001B[92mINFO\u001B[0m] treeqinetic.classes.measurement._plot_combined_oscillations: Combined plot_select_oscillation for measurement: 'Measurement: 'PTQ_Meas_151557.txt', ID: 22, Start '2023-03-22 15:16:01.811379' to '2023-03-22 15:20:03.954379'' successful.\n",
      "2025-03-29 13:07:52 [\u001B[92mINFO\u001B[0m] treeqinetic.classes.series.plot_oscillations_for_measurements: Plot Oscillations for Measurement: 'PTQ_Meas_153028.txt', ID: 23, Start '2023-03-22 15:30:29.626130' to '2023-03-22 15:32:42.861130'\n",
      "2025-03-29 13:07:54 [\u001B[92mINFO\u001B[0m] treeqinetic.classes.measurement._plot_combined_oscillations: Combined plot_select_oscillation for measurement: 'Measurement: 'PTQ_Meas_153028.txt', ID: 23, Start '2023-03-22 15:30:29.626130' to '2023-03-22 15:32:42.861130'' successful.\n",
      "2025-03-29 13:07:54 [\u001B[92mINFO\u001B[0m] treeqinetic.classes.series.plot_oscillations_for_measurements: Plot Oscillations for Measurement: 'PTQ_Meas_153334.txt', ID: 24, Start '2023-03-22 15:36:28.333785' to '2023-03-22 15:39:10.601785'\n",
      "2025-03-29 13:08:00 [\u001B[92mINFO\u001B[0m] treeqinetic.classes.measurement._plot_combined_oscillations: Combined plot_select_oscillation for measurement: 'Measurement: 'PTQ_Meas_153334.txt', ID: 24, Start '2023-03-22 15:36:28.333785' to '2023-03-22 15:39:10.601785'' successful.\n",
      "2025-03-29 13:08:00 [\u001B[92mINFO\u001B[0m] treeqinetic.classes.series.plot_oscillations_for_measurements: Plot Oscillations for Measurement: 'PTQ_Meas_153817.txt', ID: 25, Start '2023-03-22 15:39:36.853689' to '2023-03-22 15:45:22.562689'\n",
      "2025-03-29 13:08:05 [\u001B[92mINFO\u001B[0m] treeqinetic.classes.measurement._plot_combined_oscillations: Combined plot_select_oscillation for measurement: 'Measurement: 'PTQ_Meas_153817.txt', ID: 25, Start '2023-03-22 15:39:36.853689' to '2023-03-22 15:45:22.562689'' successful.\n",
      "2025-03-29 13:08:05 [\u001B[92mINFO\u001B[0m] treeqinetic.classes.series.plot_oscillations_for_measurements: Plot Oscillations for Measurement: 'PTQ_Meas_154457.txt', ID: 26, Start '2023-03-22 15:53:18.604797' to '2023-03-22 15:56:04.346797'\n",
      "2025-03-29 13:08:07 [\u001B[92mINFO\u001B[0m] treeqinetic.classes.measurement._plot_combined_oscillations: Combined plot_select_oscillation for measurement: 'Measurement: 'PTQ_Meas_154457.txt', ID: 26, Start '2023-03-22 15:53:18.604797' to '2023-03-22 15:56:04.346797'' successful.\n",
      "2025-03-29 13:08:07 [\u001B[92mINFO\u001B[0m] treeqinetic.classes.series.plot_oscillations_for_measurements: Plot Oscillations for Measurement: 'PTQ_Meas_155354.txt', ID: 27, Start '2023-03-22 15:53:59.248874' to '2023-03-22 15:57:16.416874'\n",
      "2025-03-29 13:08:10 [\u001B[92mINFO\u001B[0m] treeqinetic.classes.measurement._plot_combined_oscillations: Combined plot_select_oscillation for measurement: 'Measurement: 'PTQ_Meas_155354.txt', ID: 27, Start '2023-03-22 15:53:59.248874' to '2023-03-22 15:57:16.416874'' successful.\n",
      "2025-03-29 13:08:10 [\u001B[92mINFO\u001B[0m] treeqinetic.classes.series.plot_oscillations_for_measurements: Plot Oscillations for Measurement: 'PTQ_Meas_155805.txt', ID: 28, Start '2023-03-22 15:59:19.859928' to '2023-03-22 16:00:54.129927999'\n",
      "2025-03-29 13:08:12 [\u001B[92mINFO\u001B[0m] treeqinetic.classes.measurement._plot_combined_oscillations: Combined plot_select_oscillation for measurement: 'Measurement: 'PTQ_Meas_155805.txt', ID: 28, Start '2023-03-22 15:59:19.859928' to '2023-03-22 16:00:54.129927999'' successful.\n",
      "2025-03-29 13:08:12 [\u001B[92mINFO\u001B[0m] treeqinetic.classes.series.plot_oscillations_for_measurements: Plot Oscillations for Measurement: 'PTQ_Meas_160907.txt', ID: 29, Start '2023-03-22 16:09:36.011613' to '2023-03-22 16:12:55.455613'\n",
      "2025-03-29 13:08:17 [\u001B[92mINFO\u001B[0m] treeqinetic.classes.measurement._plot_combined_oscillations: Combined plot_select_oscillation for measurement: 'Measurement: 'PTQ_Meas_160907.txt', ID: 29, Start '2023-03-22 16:09:36.011613' to '2023-03-22 16:12:55.455613'' successful.\n"
     ]
    }
   ],
   "source": [
    "ptq_series.plot_oscillations_for_measurements(sensor_names=elasto_names, combined=False)\n",
    "ptq_series.plot_oscillations_for_measurements(sensor_names=elasto_names, combined=True)"
   ]
  },
  {
   "cell_type": "markdown",
   "metadata": {
    "collapsed": false
   },
   "source": [
    "### Anpassen der harmonisch gedämpften Schwingung\n",
    "\n",
    "Aus der PTQ-Messreihe 'ptq_series' wird über `get_oscillations_list` für alle Messungen, getrennt für jeden Sensor (Elastometer), die `Oscillation`-Instanz in eine Liste zusammengeführt. Entsprechend gibt es für jede PTQ-Messung 4 `Oscillation`-Instanzen (für die 4 Elastometer).\n",
    "\n",
    "`oscillation.fit` passt alle Schwingungsdaten mit einer allgemeinen Funktion für harmonisch gedämpfte Schwingungen an:\n",
    "\\[\n",
    "y(t) = A \\cdot e^{-\\delta t} \\cdot \\cos(\\omega_d \\cdot t + \\phi) + y_0\n",
    "\\]\n",
    "\n",
    "#### Parameterbeschreibung:\n",
    "- `A` (Anfangsamplitude): Der Anfangswert der Amplitude der Schwingung. Dieser Parameter bestimmt die initiale Höhe der Schwingungsamplitude.\n",
    "- `δ` (Dämpfungskoeffizient): Dieser Wert bestimmt, wie schnell die Amplitude der Schwingung mit der Zeit abnimmt. Ein höherer Wert führt zu einer schnelleren Dämpfung der Schwingung.\n",
    "- `ω_d` (gedämpfte Kreisfrequenz): Die Frequenz der gedämpften Schwingung in Radiant pro Sekunde. Dieser Parameter bestimmt, wie schnell die Schwingung oszilliert.\n",
    "- `φ` (Phasenwinkel): Der Anfangsphasenwinkel der Schwingung. Dieser Wert bestimmt den Startpunkt der Schwingung im Schwingungszyklus.\n",
    "- `y_0` (Vertikale Verschiebung): Dieser Parameter verschiebt die gesamte Schwingungskurve vertikal und ermöglicht es, die Schwingung an die mittlere Position der Daten anzupassen.\n",
    "- `t_0` (Horizontale Verschiebung): Dieser Parameter verschiebt die gesamte Schwingungskurve horizontal über die Zeit und ermöglicht es, die Schwingung an den spezifischen Startpunkt der gemessenen Schwingung anzupassen.\n",
    "\n",
    "(siehe `ptq/analyse/fitting_function.py`)\n",
    "\n",
    "#### Zusätzliche Parameter und Konfigurationen:\n",
    "- **Startwerte und Grenzwerte:** Für die Optimierung der Parameter in `scipy.curve_fit` werden Startwerte und Grenzwerte für jeden Parameter übergeben (in `ptq/config.py` definiert).\n",
    "- **Qualitätsmetriken:** Zur Bewertung der Anpassungsgüte werden Metriken wie MAE (mittlerer absoluter Fehler), RMSE (Root Mean Square Error), und \\( R^2 \\) (Bestimmtheitsmaß) berechnet. Zusätzlich werden normalisierte Varianten (NRMSE und NMAE) zur besseren Vergleichbarkeit verwendet.\n",
    "- **Warnungen bei Überschreitung der Grenzwerte:** Wenn die für eine Metrik definierten Grenzwerte überschritten werden, wird eine Warnung im Log-Protokoll vermerkt, um auf mögliche Probleme bei der Anpassung hinzuweisen (in `ptq/config.py` definiert). Auf Basis dieser Warnung können:\n",
    "  - Start- und Grenzwerte sowie die Methodik angepasst werden.\n",
    "  - Betroffene Datensätze später ausgeschlossen werden, um fehlerhafte Anpassungen zu vermeiden.\n",
    "- **Interpolation:** Diese Option aktiviert die Interpolation der Datenpunkte, um eine ausreichende Dichte für `curve_fit` zu gewährleisten. Hierbei wird `scipy.interpolate.PchipInterpolator` verwendet, um Über- und Unterschwingungen, die nicht in den Originaldaten vorhanden sind, zu vermeiden. Nach optischer Prüfung zeigte diese Methode die besten Ergebnisse.\n",
    "\n",
    "#### Visualisierungsoptionen:\n",
    "- **Plot:** Wenn auf `True` gesetzt, wird für jede Oscillation ein Plot der angepassten Funktion zusammen mit den Originaldaten erstellt und in `working_dir/PTQ/plots/` gespeichert.\n",
    "- **Plot-Fehlerverteilung:** Wenn `plot_error` auf `True` gesetzt ist, wird ein Histogramm der Fehlerverteilung (Residuen) für jeden Fit erstellt und ebenfalls in `working_dir/PTQ/plots/` gespeichert."
   ]
  },
  {
   "cell_type": "code",
   "execution_count": 25,
   "metadata": {
    "collapsed": false,
    "ExecuteTime": {
     "end_time": "2025-03-29T12:12:35.958093500Z",
     "start_time": "2025-03-29T12:11:37.447818900Z"
    }
   },
   "outputs": [
    {
     "name": "stderr",
     "output_type": "stream",
     "text": [
      "2025-03-29 13:11:37 [\u001B[92mINFO\u001B[0m] treeqinetic.classes.oscillation.fit: fit for measurement: 'Oscillation: 'PTQ_Meas_100346.txt', ID: 1, Sensor: Elasto(90)'' successful.\n",
      "2025-03-29 13:11:38 [\u001B[92mINFO\u001B[0m] treeqinetic.classes.oscillation.fit: fit for measurement: 'Oscillation: 'PTQ_Meas_100346.txt', ID: 1, Sensor: Elasto(92)'' successful.\n",
      "2025-03-29 13:11:38 [\u001B[92mINFO\u001B[0m] treeqinetic.classes.oscillation.fit: fit for measurement: 'Oscillation: 'PTQ_Meas_100346.txt', ID: 1, Sensor: Elasto(95)'' successful.\n",
      "2025-03-29 13:11:38 [\u001B[92mINFO\u001B[0m] treeqinetic.classes.oscillation.fit: fit for measurement: 'Oscillation: 'PTQ_Meas_100346.txt', ID: 1, Sensor: Elasto(98)'' successful.\n",
      "2025-03-29 13:11:39 [\u001B[92mINFO\u001B[0m] treeqinetic.classes.oscillation.fit: fit for measurement: 'Oscillation: 'PTQ_Meas_101814.txt', ID: 2, Sensor: Elasto(90)'' successful.\n",
      "2025-03-29 13:11:39 [\u001B[92mINFO\u001B[0m] treeqinetic.classes.oscillation.fit: fit for measurement: 'Oscillation: 'PTQ_Meas_101814.txt', ID: 2, Sensor: Elasto(92)'' successful.\n",
      "2025-03-29 13:11:39 [\u001B[92mINFO\u001B[0m] treeqinetic.classes.oscillation.fit: fit for measurement: 'Oscillation: 'PTQ_Meas_101814.txt', ID: 2, Sensor: Elasto(95)'' successful.\n",
      "2025-03-29 13:11:39 [\u001B[92mINFO\u001B[0m] treeqinetic.classes.oscillation.fit: fit for measurement: 'Oscillation: 'PTQ_Meas_101814.txt', ID: 2, Sensor: Elasto(98)'' successful.\n",
      "2025-03-29 13:11:40 [\u001B[92mINFO\u001B[0m] treeqinetic.classes.oscillation.fit: fit for measurement: 'Oscillation: 'PTQ_Meas_102314.txt', ID: 3, Sensor: Elasto(90)'' successful.\n",
      "2025-03-29 13:11:40 [\u001B[92mINFO\u001B[0m] treeqinetic.classes.oscillation.fit: fit for measurement: 'Oscillation: 'PTQ_Meas_102314.txt', ID: 3, Sensor: Elasto(92)'' successful.\n",
      "2025-03-29 13:11:40 [\u001B[92mINFO\u001B[0m] treeqinetic.classes.oscillation.fit: fit for measurement: 'Oscillation: 'PTQ_Meas_102314.txt', ID: 3, Sensor: Elasto(95)'' successful.\n",
      "2025-03-29 13:11:41 [\u001B[92mINFO\u001B[0m] treeqinetic.classes.oscillation.fit: fit for measurement: 'Oscillation: 'PTQ_Meas_102314.txt', ID: 3, Sensor: Elasto(98)'' successful.\n",
      "2025-03-29 13:11:41 [\u001B[92mINFO\u001B[0m] treeqinetic.classes.oscillation.fit: fit for measurement: 'Oscillation: 'PTQ_Meas_104400.txt', ID: 4, Sensor: Elasto(90)'' successful.\n",
      "2025-03-29 13:11:41 [\u001B[92mINFO\u001B[0m] treeqinetic.classes.oscillation.fit: fit for measurement: 'Oscillation: 'PTQ_Meas_104400.txt', ID: 4, Sensor: Elasto(92)'' successful.\n",
      "2025-03-29 13:11:41 [\u001B[92mINFO\u001B[0m] treeqinetic.classes.oscillation.fit: fit for measurement: 'Oscillation: 'PTQ_Meas_104400.txt', ID: 4, Sensor: Elasto(95)'' successful.\n",
      "2025-03-29 13:11:42 [\u001B[92mINFO\u001B[0m] treeqinetic.classes.oscillation.fit: fit for measurement: 'Oscillation: 'PTQ_Meas_104400.txt', ID: 4, Sensor: Elasto(98)'' successful.\n",
      "2025-03-29 13:11:42 [\u001B[92mINFO\u001B[0m] treeqinetic.classes.oscillation.fit: fit for measurement: 'Oscillation: 'PTQ_Meas_105549.txt', ID: 5, Sensor: Elasto(90)'' successful.\n",
      "2025-03-29 13:11:42 [\u001B[92mINFO\u001B[0m] treeqinetic.classes.oscillation.fit: fit for measurement: 'Oscillation: 'PTQ_Meas_105549.txt', ID: 5, Sensor: Elasto(92)'' successful.\n",
      "2025-03-29 13:11:42 [\u001B[92mINFO\u001B[0m] treeqinetic.classes.oscillation.fit: fit for measurement: 'Oscillation: 'PTQ_Meas_105549.txt', ID: 5, Sensor: Elasto(95)'' successful.\n",
      "2025-03-29 13:11:42 [\u001B[92mINFO\u001B[0m] treeqinetic.classes.oscillation.fit: fit for measurement: 'Oscillation: 'PTQ_Meas_105549.txt', ID: 5, Sensor: Elasto(98)'' successful.\n",
      "2025-03-29 13:11:43 [\u001B[92mINFO\u001B[0m] treeqinetic.classes.oscillation.fit: fit for measurement: 'Oscillation: 'PTQ_Meas_110107.txt', ID: 6, Sensor: Elasto(90)'' successful.\n",
      "2025-03-29 13:11:43 [\u001B[92mINFO\u001B[0m] treeqinetic.classes.oscillation.fit: fit for measurement: 'Oscillation: 'PTQ_Meas_110107.txt', ID: 6, Sensor: Elasto(92)'' successful.\n",
      "2025-03-29 13:11:43 [\u001B[92mINFO\u001B[0m] treeqinetic.classes.oscillation.fit: fit for measurement: 'Oscillation: 'PTQ_Meas_110107.txt', ID: 6, Sensor: Elasto(95)'' successful.\n",
      "2025-03-29 13:11:43 [\u001B[92mINFO\u001B[0m] treeqinetic.classes.oscillation.fit: fit for measurement: 'Oscillation: 'PTQ_Meas_110107.txt', ID: 6, Sensor: Elasto(98)'' successful.\n",
      "2025-03-29 13:11:44 [\u001B[92mINFO\u001B[0m] treeqinetic.classes.oscillation.fit: fit for measurement: 'Oscillation: 'PTQ_Meas_110558.txt', ID: 7, Sensor: Elasto(90)'' successful.\n",
      "2025-03-29 13:11:44 [\u001B[92mINFO\u001B[0m] treeqinetic.classes.oscillation.fit: fit for measurement: 'Oscillation: 'PTQ_Meas_110558.txt', ID: 7, Sensor: Elasto(92)'' successful.\n",
      "2025-03-29 13:11:44 [\u001B[92mINFO\u001B[0m] treeqinetic.classes.oscillation.fit: fit for measurement: 'Oscillation: 'PTQ_Meas_110558.txt', ID: 7, Sensor: Elasto(95)'' successful.\n",
      "2025-03-29 13:11:45 [\u001B[92mINFO\u001B[0m] treeqinetic.classes.oscillation.fit: fit for measurement: 'Oscillation: 'PTQ_Meas_110558.txt', ID: 7, Sensor: Elasto(98)'' successful.\n",
      "2025-03-29 13:11:45 [\u001B[92mINFO\u001B[0m] treeqinetic.classes.oscillation.fit: fit for measurement: 'Oscillation: 'PTQ_Meas_111019.txt', ID: 8, Sensor: Elasto(90)'' successful.\n",
      "2025-03-29 13:11:45 [\u001B[92mINFO\u001B[0m] treeqinetic.classes.oscillation.fit: fit for measurement: 'Oscillation: 'PTQ_Meas_111019.txt', ID: 8, Sensor: Elasto(92)'' successful.\n",
      "2025-03-29 13:11:45 [\u001B[92mINFO\u001B[0m] treeqinetic.classes.oscillation.fit: fit for measurement: 'Oscillation: 'PTQ_Meas_111019.txt', ID: 8, Sensor: Elasto(95)'' successful.\n",
      "2025-03-29 13:11:45 [\u001B[92mINFO\u001B[0m] treeqinetic.classes.oscillation.fit: fit for measurement: 'Oscillation: 'PTQ_Meas_111019.txt', ID: 8, Sensor: Elasto(98)'' successful.\n",
      "2025-03-29 13:11:46 [\u001B[92mINFO\u001B[0m] treeqinetic.classes.oscillation.fit: fit for measurement: 'Oscillation: 'PTQ_Meas_111713.txt', ID: 9, Sensor: Elasto(90)'' successful.\n",
      "2025-03-29 13:11:46 [\u001B[92mINFO\u001B[0m] treeqinetic.classes.oscillation.fit: fit for measurement: 'Oscillation: 'PTQ_Meas_111713.txt', ID: 9, Sensor: Elasto(92)'' successful.\n",
      "2025-03-29 13:11:46 [\u001B[92mINFO\u001B[0m] treeqinetic.classes.oscillation.fit: fit for measurement: 'Oscillation: 'PTQ_Meas_111713.txt', ID: 9, Sensor: Elasto(95)'' successful.\n",
      "2025-03-29 13:11:46 [\u001B[92mINFO\u001B[0m] treeqinetic.classes.oscillation.fit: fit for measurement: 'Oscillation: 'PTQ_Meas_111713.txt', ID: 9, Sensor: Elasto(98)'' successful.\n",
      "2025-03-29 13:11:46 [\u001B[92mINFO\u001B[0m] treeqinetic.classes.oscillation.fit: fit for measurement: 'Oscillation: 'PTQ_Meas_112120.txt', ID: 10, Sensor: Elasto(90)'' successful.\n",
      "2025-03-29 13:11:47 [\u001B[92mINFO\u001B[0m] treeqinetic.classes.oscillation.fit: fit for measurement: 'Oscillation: 'PTQ_Meas_112120.txt', ID: 10, Sensor: Elasto(92)'' successful.\n",
      "2025-03-29 13:11:47 [\u001B[92mINFO\u001B[0m] treeqinetic.classes.oscillation.fit: fit for measurement: 'Oscillation: 'PTQ_Meas_112120.txt', ID: 10, Sensor: Elasto(95)'' successful.\n",
      "2025-03-29 13:11:47 [\u001B[92mINFO\u001B[0m] treeqinetic.classes.oscillation.fit: fit for measurement: 'Oscillation: 'PTQ_Meas_112120.txt', ID: 10, Sensor: Elasto(98)'' successful.\n",
      "2025-03-29 13:11:48 [\u001B[92mINFO\u001B[0m] treeqinetic.classes.oscillation.fit: fit for measurement: 'Oscillation: 'PTQ_Meas_133316.txt', ID: 11, Sensor: Elasto(90)'' successful.\n",
      "2025-03-29 13:11:48 [\u001B[92mINFO\u001B[0m] treeqinetic.classes.oscillation.fit: fit for measurement: 'Oscillation: 'PTQ_Meas_133316.txt', ID: 11, Sensor: Elasto(92)'' successful.\n",
      "2025-03-29 13:11:48 [\u001B[92mINFO\u001B[0m] treeqinetic.classes.oscillation.fit: fit for measurement: 'Oscillation: 'PTQ_Meas_133316.txt', ID: 11, Sensor: Elasto(95)'' successful.\n",
      "2025-03-29 13:11:49 [\u001B[92mINFO\u001B[0m] treeqinetic.classes.oscillation.fit: fit for measurement: 'Oscillation: 'PTQ_Meas_133316.txt', ID: 11, Sensor: Elasto(98)'' successful.\n",
      "2025-03-29 13:11:49 [\u001B[92mINFO\u001B[0m] treeqinetic.classes.oscillation.fit: fit for measurement: 'Oscillation: 'PTQ_Meas_134053.txt', ID: 12, Sensor: Elasto(90)'' successful.\n",
      "2025-03-29 13:11:49 [\u001B[92mINFO\u001B[0m] treeqinetic.classes.oscillation.fit: fit for measurement: 'Oscillation: 'PTQ_Meas_134053.txt', ID: 12, Sensor: Elasto(92)'' successful.\n",
      "2025-03-29 13:11:50 [\u001B[92mINFO\u001B[0m] treeqinetic.classes.oscillation.fit: fit for measurement: 'Oscillation: 'PTQ_Meas_134053.txt', ID: 12, Sensor: Elasto(95)'' successful.\n",
      "2025-03-29 13:11:50 [\u001B[92mINFO\u001B[0m] treeqinetic.classes.oscillation.fit: fit for measurement: 'Oscillation: 'PTQ_Meas_134053.txt', ID: 12, Sensor: Elasto(98)'' successful.\n",
      "2025-03-29 13:11:50 [\u001B[92mINFO\u001B[0m] treeqinetic.classes.oscillation.fit: fit for measurement: 'Oscillation: 'PTQ_Meas_134807.txt', ID: 13, Sensor: Elasto(90)'' successful.\n",
      "2025-03-29 13:11:51 [\u001B[92mINFO\u001B[0m] treeqinetic.classes.oscillation.fit: fit for measurement: 'Oscillation: 'PTQ_Meas_134807.txt', ID: 13, Sensor: Elasto(92)'' successful.\n",
      "2025-03-29 13:11:51 [\u001B[92mINFO\u001B[0m] treeqinetic.classes.oscillation.fit: fit for measurement: 'Oscillation: 'PTQ_Meas_134807.txt', ID: 13, Sensor: Elasto(95)'' successful.\n",
      "2025-03-29 13:11:52 [\u001B[92mINFO\u001B[0m] treeqinetic.classes.oscillation.fit: fit for measurement: 'Oscillation: 'PTQ_Meas_134807.txt', ID: 13, Sensor: Elasto(98)'' successful.\n",
      "2025-03-29 13:11:53 [\u001B[93mWARNING\u001B[0m] treeqinetic.classes.oscillation.calc_metrics: 14_Elasto(90): Metric 'pearson_r' value 0.6706 outside of threshold range 0.75-1\n",
      "2025-03-29 13:11:53 [\u001B[92mINFO\u001B[0m] treeqinetic.classes.oscillation.fit: fit for measurement: 'Oscillation: 'PTQ_Meas_135705.txt', ID: 14, Sensor: Elasto(90)'' successful.\n",
      "2025-03-29 13:11:53 [\u001B[92mINFO\u001B[0m] treeqinetic.classes.oscillation.fit: fit for measurement: 'Oscillation: 'PTQ_Meas_135705.txt', ID: 14, Sensor: Elasto(92)'' successful.\n",
      "2025-03-29 13:11:54 [\u001B[92mINFO\u001B[0m] treeqinetic.classes.oscillation.fit: fit for measurement: 'Oscillation: 'PTQ_Meas_135705.txt', ID: 14, Sensor: Elasto(95)'' successful.\n",
      "2025-03-29 13:11:55 [\u001B[92mINFO\u001B[0m] treeqinetic.classes.oscillation.fit: fit for measurement: 'Oscillation: 'PTQ_Meas_135705.txt', ID: 14, Sensor: Elasto(98)'' successful.\n",
      "2025-03-29 13:11:56 [\u001B[92mINFO\u001B[0m] treeqinetic.classes.oscillation.fit: fit for measurement: 'Oscillation: 'PTQ_Meas_140149.txt', ID: 15, Sensor: Elasto(90)'' successful.\n",
      "2025-03-29 13:11:57 [\u001B[92mINFO\u001B[0m] treeqinetic.classes.oscillation.fit: fit for measurement: 'Oscillation: 'PTQ_Meas_140149.txt', ID: 15, Sensor: Elasto(92)'' successful.\n",
      "2025-03-29 13:11:57 [\u001B[92mINFO\u001B[0m] treeqinetic.classes.oscillation.fit: fit for measurement: 'Oscillation: 'PTQ_Meas_140149.txt', ID: 15, Sensor: Elasto(95)'' successful.\n",
      "2025-03-29 13:11:57 [\u001B[92mINFO\u001B[0m] treeqinetic.classes.oscillation.fit: fit for measurement: 'Oscillation: 'PTQ_Meas_140149.txt', ID: 15, Sensor: Elasto(98)'' successful.\n",
      "2025-03-29 13:11:57 [\u001B[92mINFO\u001B[0m] treeqinetic.classes.oscillation.fit: fit for measurement: 'Oscillation: 'PTQ_Meas_140551.txt', ID: 16, Sensor: Elasto(90)'' successful.\n",
      "2025-03-29 13:11:59 [\u001B[92mINFO\u001B[0m] treeqinetic.classes.oscillation.fit: fit for measurement: 'Oscillation: 'PTQ_Meas_140551.txt', ID: 16, Sensor: Elasto(92)'' successful.\n",
      "2025-03-29 13:12:00 [\u001B[92mINFO\u001B[0m] treeqinetic.classes.oscillation.fit: fit for measurement: 'Oscillation: 'PTQ_Meas_140551.txt', ID: 16, Sensor: Elasto(95)'' successful.\n",
      "2025-03-29 13:12:01 [\u001B[92mINFO\u001B[0m] treeqinetic.classes.oscillation.fit: fit for measurement: 'Oscillation: 'PTQ_Meas_140551.txt', ID: 16, Sensor: Elasto(98)'' successful.\n",
      "2025-03-29 13:12:02 [\u001B[92mINFO\u001B[0m] treeqinetic.classes.oscillation.fit: fit for measurement: 'Oscillation: 'PTQ_Meas_141006.txt', ID: 17, Sensor: Elasto(90)'' successful.\n",
      "2025-03-29 13:12:03 [\u001B[92mINFO\u001B[0m] treeqinetic.classes.oscillation.fit: fit for measurement: 'Oscillation: 'PTQ_Meas_141006.txt', ID: 17, Sensor: Elasto(92)'' successful.\n",
      "2025-03-29 13:12:04 [\u001B[92mINFO\u001B[0m] treeqinetic.classes.oscillation.fit: fit for measurement: 'Oscillation: 'PTQ_Meas_141006.txt', ID: 17, Sensor: Elasto(95)'' successful.\n",
      "2025-03-29 13:12:05 [\u001B[92mINFO\u001B[0m] treeqinetic.classes.oscillation.fit: fit for measurement: 'Oscillation: 'PTQ_Meas_141006.txt', ID: 17, Sensor: Elasto(98)'' successful.\n",
      "2025-03-29 13:12:05 [\u001B[92mINFO\u001B[0m] treeqinetic.classes.oscillation.fit: fit for measurement: 'Oscillation: 'PTQ_Meas_141437.txt', ID: 18, Sensor: Elasto(90)'' successful.\n",
      "2025-03-29 13:12:06 [\u001B[92mINFO\u001B[0m] treeqinetic.classes.oscillation.fit: fit for measurement: 'Oscillation: 'PTQ_Meas_141437.txt', ID: 18, Sensor: Elasto(92)'' successful.\n",
      "2025-03-29 13:12:07 [\u001B[92mINFO\u001B[0m] treeqinetic.classes.oscillation.fit: fit for measurement: 'Oscillation: 'PTQ_Meas_141437.txt', ID: 18, Sensor: Elasto(95)'' successful.\n",
      "2025-03-29 13:12:07 [\u001B[92mINFO\u001B[0m] treeqinetic.classes.oscillation.fit: fit for measurement: 'Oscillation: 'PTQ_Meas_141437.txt', ID: 18, Sensor: Elasto(98)'' successful.\n",
      "2025-03-29 13:12:08 [\u001B[92mINFO\u001B[0m] treeqinetic.classes.oscillation.fit: fit for measurement: 'Oscillation: 'PTQ_Meas_141812.txt', ID: 19, Sensor: Elasto(90)'' successful.\n",
      "2025-03-29 13:12:09 [\u001B[92mINFO\u001B[0m] treeqinetic.classes.oscillation.fit: fit for measurement: 'Oscillation: 'PTQ_Meas_141812.txt', ID: 19, Sensor: Elasto(92)'' successful.\n",
      "2025-03-29 13:12:11 [\u001B[92mINFO\u001B[0m] treeqinetic.classes.oscillation.fit: fit for measurement: 'Oscillation: 'PTQ_Meas_141812.txt', ID: 19, Sensor: Elasto(95)'' successful.\n",
      "2025-03-29 13:12:12 [\u001B[92mINFO\u001B[0m] treeqinetic.classes.oscillation.fit: fit for measurement: 'Oscillation: 'PTQ_Meas_141812.txt', ID: 19, Sensor: Elasto(98)'' successful.\n",
      "2025-03-29 13:12:13 [\u001B[92mINFO\u001B[0m] treeqinetic.classes.oscillation.fit: fit for measurement: 'Oscillation: 'PTQ_Meas_150444.txt', ID: 20, Sensor: Elasto(90)'' successful.\n",
      "2025-03-29 13:12:13 [\u001B[92mINFO\u001B[0m] treeqinetic.classes.oscillation.fit: fit for measurement: 'Oscillation: 'PTQ_Meas_150444.txt', ID: 20, Sensor: Elasto(92)'' successful.\n",
      "2025-03-29 13:12:13 [\u001B[92mINFO\u001B[0m] treeqinetic.classes.oscillation.fit: fit for measurement: 'Oscillation: 'PTQ_Meas_150444.txt', ID: 20, Sensor: Elasto(95)'' successful.\n",
      "2025-03-29 13:12:14 [\u001B[92mINFO\u001B[0m] treeqinetic.classes.oscillation.fit: fit for measurement: 'Oscillation: 'PTQ_Meas_150444.txt', ID: 20, Sensor: Elasto(98)'' successful.\n",
      "2025-03-29 13:12:15 [\u001B[92mINFO\u001B[0m] treeqinetic.classes.oscillation.fit: fit for measurement: 'Oscillation: 'PTQ_Meas_151010.txt', ID: 21, Sensor: Elasto(90)'' successful.\n",
      "2025-03-29 13:12:15 [\u001B[93mWARNING\u001B[0m] treeqinetic.classes.oscillation.calc_metrics: 21_Elasto(92): Metric 'pearson_r' value 0.5777 outside of threshold range 0.75-1\n",
      "2025-03-29 13:12:15 [\u001B[92mINFO\u001B[0m] treeqinetic.classes.oscillation.fit: fit for measurement: 'Oscillation: 'PTQ_Meas_151010.txt', ID: 21, Sensor: Elasto(92)'' successful.\n",
      "2025-03-29 13:12:15 [\u001B[92mINFO\u001B[0m] treeqinetic.classes.oscillation.fit: fit for measurement: 'Oscillation: 'PTQ_Meas_151010.txt', ID: 21, Sensor: Elasto(95)'' successful.\n",
      "2025-03-29 13:12:16 [\u001B[92mINFO\u001B[0m] treeqinetic.classes.oscillation.fit: fit for measurement: 'Oscillation: 'PTQ_Meas_151010.txt', ID: 21, Sensor: Elasto(98)'' successful.\n",
      "2025-03-29 13:12:16 [\u001B[92mINFO\u001B[0m] treeqinetic.classes.oscillation.fit: fit for measurement: 'Oscillation: 'PTQ_Meas_151557.txt', ID: 22, Sensor: Elasto(90)'' successful.\n",
      "2025-03-29 13:12:17 [\u001B[92mINFO\u001B[0m] treeqinetic.classes.oscillation.fit: fit for measurement: 'Oscillation: 'PTQ_Meas_151557.txt', ID: 22, Sensor: Elasto(92)'' successful.\n",
      "2025-03-29 13:12:17 [\u001B[93mWARNING\u001B[0m] treeqinetic.classes.oscillation.calc_metrics: 22_Elasto(95): Metric 'pearson_r' value 0.7247 outside of threshold range 0.75-1\n",
      "2025-03-29 13:12:17 [\u001B[92mINFO\u001B[0m] treeqinetic.classes.oscillation.fit: fit for measurement: 'Oscillation: 'PTQ_Meas_151557.txt', ID: 22, Sensor: Elasto(95)'' successful.\n",
      "2025-03-29 13:12:19 [\u001B[92mINFO\u001B[0m] treeqinetic.classes.oscillation.fit: fit for measurement: 'Oscillation: 'PTQ_Meas_151557.txt', ID: 22, Sensor: Elasto(98)'' successful.\n",
      "2025-03-29 13:12:19 [\u001B[92mINFO\u001B[0m] treeqinetic.classes.oscillation.fit: fit for measurement: 'Oscillation: 'PTQ_Meas_153028.txt', ID: 23, Sensor: Elasto(90)'' successful.\n",
      "2025-03-29 13:12:20 [\u001B[93mWARNING\u001B[0m] treeqinetic.classes.oscillation.calc_metrics: 23_Elasto(92): Metric 'pearson_r' value 0.6128 outside of threshold range 0.75-1\n",
      "2025-03-29 13:12:20 [\u001B[92mINFO\u001B[0m] treeqinetic.classes.oscillation.fit: fit for measurement: 'Oscillation: 'PTQ_Meas_153028.txt', ID: 23, Sensor: Elasto(92)'' successful.\n",
      "2025-03-29 13:12:20 [\u001B[92mINFO\u001B[0m] treeqinetic.classes.oscillation.fit: fit for measurement: 'Oscillation: 'PTQ_Meas_153028.txt', ID: 23, Sensor: Elasto(95)'' successful.\n",
      "2025-03-29 13:12:22 [\u001B[92mINFO\u001B[0m] treeqinetic.classes.oscillation.fit: fit for measurement: 'Oscillation: 'PTQ_Meas_153028.txt', ID: 23, Sensor: Elasto(98)'' successful.\n",
      "2025-03-29 13:12:22 [\u001B[92mINFO\u001B[0m] treeqinetic.classes.oscillation.fit: fit for measurement: 'Oscillation: 'PTQ_Meas_153334.txt', ID: 24, Sensor: Elasto(90)'' successful.\n",
      "2025-03-29 13:12:23 [\u001B[92mINFO\u001B[0m] treeqinetic.classes.oscillation.fit: fit for measurement: 'Oscillation: 'PTQ_Meas_153334.txt', ID: 24, Sensor: Elasto(92)'' successful.\n",
      "2025-03-29 13:12:23 [\u001B[93mWARNING\u001B[0m] treeqinetic.classes.oscillation.calc_metrics: 24_Elasto(95): Metric 'pearson_r' value 0.7260 outside of threshold range 0.75-1\n",
      "2025-03-29 13:12:23 [\u001B[92mINFO\u001B[0m] treeqinetic.classes.oscillation.fit: fit for measurement: 'Oscillation: 'PTQ_Meas_153334.txt', ID: 24, Sensor: Elasto(95)'' successful.\n",
      "2025-03-29 13:12:24 [\u001B[92mINFO\u001B[0m] treeqinetic.classes.oscillation.fit: fit for measurement: 'Oscillation: 'PTQ_Meas_153334.txt', ID: 24, Sensor: Elasto(98)'' successful.\n",
      "2025-03-29 13:12:25 [\u001B[92mINFO\u001B[0m] treeqinetic.classes.oscillation.fit: fit for measurement: 'Oscillation: 'PTQ_Meas_153817.txt', ID: 25, Sensor: Elasto(90)'' successful.\n",
      "2025-03-29 13:12:26 [\u001B[92mINFO\u001B[0m] treeqinetic.classes.oscillation.fit: fit for measurement: 'Oscillation: 'PTQ_Meas_153817.txt', ID: 25, Sensor: Elasto(92)'' successful.\n",
      "2025-03-29 13:12:26 [\u001B[93mWARNING\u001B[0m] treeqinetic.classes.oscillation.calc_metrics: 25_Elasto(95): Metric 'pearson_r' value 0.6608 outside of threshold range 0.75-1\n",
      "2025-03-29 13:12:26 [\u001B[92mINFO\u001B[0m] treeqinetic.classes.oscillation.fit: fit for measurement: 'Oscillation: 'PTQ_Meas_153817.txt', ID: 25, Sensor: Elasto(95)'' successful.\n",
      "2025-03-29 13:12:27 [\u001B[92mINFO\u001B[0m] treeqinetic.classes.oscillation.fit: fit for measurement: 'Oscillation: 'PTQ_Meas_153817.txt', ID: 25, Sensor: Elasto(98)'' successful.\n",
      "2025-03-29 13:12:27 [\u001B[92mINFO\u001B[0m] treeqinetic.classes.oscillation.fit: fit for measurement: 'Oscillation: 'PTQ_Meas_154457.txt', ID: 26, Sensor: Elasto(90)'' successful.\n",
      "2025-03-29 13:12:27 [\u001B[92mINFO\u001B[0m] treeqinetic.classes.oscillation.fit: fit for measurement: 'Oscillation: 'PTQ_Meas_154457.txt', ID: 26, Sensor: Elasto(92)'' successful.\n",
      "2025-03-29 13:12:28 [\u001B[93mWARNING\u001B[0m] treeqinetic.classes.oscillation.calc_metrics: 26_Elasto(95): Metric 'pearson_r' value 0.7470 outside of threshold range 0.75-1\n",
      "2025-03-29 13:12:28 [\u001B[92mINFO\u001B[0m] treeqinetic.classes.oscillation.fit: fit for measurement: 'Oscillation: 'PTQ_Meas_154457.txt', ID: 26, Sensor: Elasto(95)'' successful.\n",
      "2025-03-29 13:12:28 [\u001B[92mINFO\u001B[0m] treeqinetic.classes.oscillation.fit: fit for measurement: 'Oscillation: 'PTQ_Meas_154457.txt', ID: 26, Sensor: Elasto(98)'' successful.\n",
      "2025-03-29 13:12:29 [\u001B[92mINFO\u001B[0m] treeqinetic.classes.oscillation.fit: fit for measurement: 'Oscillation: 'PTQ_Meas_155354.txt', ID: 27, Sensor: Elasto(90)'' successful.\n",
      "2025-03-29 13:12:29 [\u001B[92mINFO\u001B[0m] treeqinetic.classes.oscillation.fit: fit for measurement: 'Oscillation: 'PTQ_Meas_155354.txt', ID: 27, Sensor: Elasto(92)'' successful.\n",
      "2025-03-29 13:12:29 [\u001B[93mWARNING\u001B[0m] treeqinetic.classes.oscillation.calc_metrics: 27_Elasto(95): Metric 'pearson_r' value 0.6905 outside of threshold range 0.75-1\n",
      "2025-03-29 13:12:29 [\u001B[92mINFO\u001B[0m] treeqinetic.classes.oscillation.fit: fit for measurement: 'Oscillation: 'PTQ_Meas_155354.txt', ID: 27, Sensor: Elasto(95)'' successful.\n",
      "2025-03-29 13:12:30 [\u001B[92mINFO\u001B[0m] treeqinetic.classes.oscillation.fit: fit for measurement: 'Oscillation: 'PTQ_Meas_155354.txt', ID: 27, Sensor: Elasto(98)'' successful.\n",
      "2025-03-29 13:12:31 [\u001B[92mINFO\u001B[0m] treeqinetic.classes.oscillation.fit: fit for measurement: 'Oscillation: 'PTQ_Meas_155805.txt', ID: 28, Sensor: Elasto(90)'' successful.\n",
      "2025-03-29 13:12:32 [\u001B[93mWARNING\u001B[0m] treeqinetic.classes.oscillation.calc_metrics: 28_Elasto(92): Metric 'pearson_r' value 0.6130 outside of threshold range 0.75-1\n",
      "2025-03-29 13:12:32 [\u001B[92mINFO\u001B[0m] treeqinetic.classes.oscillation.fit: fit for measurement: 'Oscillation: 'PTQ_Meas_155805.txt', ID: 28, Sensor: Elasto(92)'' successful.\n",
      "2025-03-29 13:12:33 [\u001B[92mINFO\u001B[0m] treeqinetic.classes.oscillation.fit: fit for measurement: 'Oscillation: 'PTQ_Meas_155805.txt', ID: 28, Sensor: Elasto(95)'' successful.\n",
      "2025-03-29 13:12:33 [\u001B[92mINFO\u001B[0m] treeqinetic.classes.oscillation.fit: fit for measurement: 'Oscillation: 'PTQ_Meas_155805.txt', ID: 28, Sensor: Elasto(98)'' successful.\n",
      "2025-03-29 13:12:33 [\u001B[92mINFO\u001B[0m] treeqinetic.classes.oscillation.fit: fit for measurement: 'Oscillation: 'PTQ_Meas_160907.txt', ID: 29, Sensor: Elasto(90)'' successful.\n",
      "2025-03-29 13:12:34 [\u001B[92mINFO\u001B[0m] treeqinetic.classes.oscillation.fit: fit for measurement: 'Oscillation: 'PTQ_Meas_160907.txt', ID: 29, Sensor: Elasto(92)'' successful.\n",
      "2025-03-29 13:12:35 [\u001B[92mINFO\u001B[0m] treeqinetic.classes.oscillation.fit: fit for measurement: 'Oscillation: 'PTQ_Meas_160907.txt', ID: 29, Sensor: Elasto(95)'' successful.\n",
      "2025-03-29 13:12:35 [\u001B[92mINFO\u001B[0m] treeqinetic.classes.oscillation.fit: fit for measurement: 'Oscillation: 'PTQ_Meas_160907.txt', ID: 29, Sensor: Elasto(98)'' successful.\n"
     ]
    }
   ],
   "source": [
    "ptq_oscillations_ls = ptq_series.get_oscillations_list()\n",
    "\n",
    "initial_param = {\n",
    "    \"initial_amplitude\": 170,\n",
    "    \"damping_coeff\": 0.32,\n",
    "    \"frequency_damped\": 0.44,\n",
    "    \"phase_angle\": 0,\n",
    "    \"y_shift\": 0,\n",
    "    \"x_shift\": 0\n",
    "}\n",
    "\n",
    "param_bounds = {\n",
    "    \"initial_amplitude\": (150, 250),\n",
    "    \"damping_coeff\": (0.1, 1),\n",
    "    \"frequency_damped\": (0.35, 0.58),\n",
    "    \"phase_angle\": (-0.2, 0.2),\n",
    "    \"y_shift\": (-60, 60),\n",
    "    \"x_shift\": (-0.25, 0.75),\n",
    "}\n",
    "\n",
    "metrics_warning = {\n",
    "    \"pearson_r\": (0.75, 1),\n",
    "    \"nrmse\": (0, np.inf),\n",
    "    \"mae\": (0, np.inf),\n",
    "    \"nmae\": (0, 0.10)\n",
    "}\n",
    "\n",
    "for oscillation in ptq_oscillations_ls:\n",
    "    oscillation.fit(\n",
    "        initial_param,\n",
    "        param_bounds,\n",
    "        optimize_criterion=\"mae\",\n",
    "        metrics_warning=metrics_warning,\n",
    "        plot=False,\n",
    "        plot_error=False,\n",
    "        dir_add=\"\",\n",
    "        interpolate=True\n",
    "    )"
   ]
  },
  {
   "cell_type": "markdown",
   "metadata": {
    "collapsed": false
   },
   "source": [
    "### Fehlerverteilung der Funktionsanpassung an Messdaten\n",
    "\n",
    "Die Funktion sammelt für alle Oscillation-Objekte die Fehler-Arrays der Anpassung und normalisiert die Fehler (um Unterschiede in der Skalierung zu entfernen).\n",
    "Anschließend werden die Fehler für alle Messungen A) für alle Sensoren gemeinsam und B) getrennt für jeden Sensor geplotet. Es werden Q-Q-Plot, Violin-Plot und Histogramme für den gleichen Sachverhalt erstellt und in `working_directory\\PTQ\\plots\\series_osc_errors` abgelegt.\n",
    "\n",
    "- `trim_hist_percent`: Beschneidet die Daten Links und Rechts um die äußersten x Prozent, da die Verteilung im Zentrum sonst kaum zu bewerten ist. Wirkt sich nur auf die Histogramme aus."
   ]
  },
  {
   "cell_type": "code",
   "execution_count": 17,
   "metadata": {
    "collapsed": false,
    "ExecuteTime": {
     "end_time": "2025-03-29T12:11:13.626003400Z",
     "start_time": "2025-03-29T12:11:04.864570700Z"
    }
   },
   "outputs": [],
   "source": [
    "all_normalized_errors = ptq_series.plot_osc_errors(plot_qq=True, plot_violin=True, plot_hist=True, hist_trim_percent=5)"
   ]
  },
  {
   "cell_type": "markdown",
   "metadata": {
    "ExecuteTime": {
     "end_time": "2023-12-01T09:59:03.316646700Z",
     "start_time": "2023-12-01T09:59:01.399969500Z"
    },
    "collapsed": false
   },
   "source": [
    "## ANALYSE: Metadaten bzw. Zusammenfassung aller Dehnungs- und Schwingungsdaten\n",
    "\n",
    "Bewerte die Güte der Anpassung"
   ]
  },
  {
   "cell_type": "code",
   "execution_count": 18,
   "outputs": [
    {
     "data": {
      "text/plain": "               id         nit         nfev  status         fun   pearson_r  \\\ncount  116.000000  116.000000   116.000000   116.0  116.000000  116.000000   \nmean    15.000000   42.474138   606.586207     0.0    9.073974    0.889016   \nstd      8.402898   13.845396   177.911168     0.0    3.310947    0.084336   \nmin      1.000000   16.000000   252.000000     0.0    4.860754    0.577722   \n25%      8.000000   33.750000   460.250000     0.0    7.095709    0.853768   \n50%     15.000000   41.500000   605.500000     0.0    8.300605    0.919387   \n75%     22.000000   50.000000   743.750000     0.0   10.230048    0.943763   \nmax     29.000000   82.000000  1078.000000     0.0   30.641411    0.987644   \n\n             p_value          r2          mse        rmse       nrmse  \\\ncount   1.160000e+02  116.000000   116.000000  116.000000  116.000000   \nmean    4.420063e-82    0.759775   350.973103   16.916159    0.053132   \nstd     4.760553e-81    0.174199   541.187781    8.085809    0.017778   \nmin     0.000000e+00    0.136988    50.590635    7.112709    0.025014   \n25%     0.000000e+00    0.685030   145.843592   12.076532    0.040790   \n50%     0.000000e+00    0.810573   216.465115   14.712081    0.049523   \n75%    5.853015e-245    0.876082   393.131995   19.827412    0.064283   \nmax     5.127273e-80    0.973909  5501.754846   74.173815    0.152001   \n\n               cv         mae        nmae  \ncount  116.000000  116.000000  116.000000  \nmean    -0.491524    9.073974    0.029283  \nstd     20.647209    3.310947    0.009197  \nmin   -164.381615    4.860754    0.014277  \n25%     -1.476578    7.095709    0.021926  \n50%     -0.509270    8.300605    0.028352  \n75%      2.285988   10.230048    0.034944  \nmax     95.362596   30.641411    0.062792  ",
      "text/html": "<div>\n<style scoped>\n    .dataframe tbody tr th:only-of-type {\n        vertical-align: middle;\n    }\n\n    .dataframe tbody tr th {\n        vertical-align: top;\n    }\n\n    .dataframe thead th {\n        text-align: right;\n    }\n</style>\n<table border=\"1\" class=\"dataframe\">\n  <thead>\n    <tr style=\"text-align: right;\">\n      <th></th>\n      <th>id</th>\n      <th>nit</th>\n      <th>nfev</th>\n      <th>status</th>\n      <th>fun</th>\n      <th>pearson_r</th>\n      <th>p_value</th>\n      <th>r2</th>\n      <th>mse</th>\n      <th>rmse</th>\n      <th>nrmse</th>\n      <th>cv</th>\n      <th>mae</th>\n      <th>nmae</th>\n    </tr>\n  </thead>\n  <tbody>\n    <tr>\n      <th>count</th>\n      <td>116.000000</td>\n      <td>116.000000</td>\n      <td>116.000000</td>\n      <td>116.0</td>\n      <td>116.000000</td>\n      <td>116.000000</td>\n      <td>1.160000e+02</td>\n      <td>116.000000</td>\n      <td>116.000000</td>\n      <td>116.000000</td>\n      <td>116.000000</td>\n      <td>116.000000</td>\n      <td>116.000000</td>\n      <td>116.000000</td>\n    </tr>\n    <tr>\n      <th>mean</th>\n      <td>15.000000</td>\n      <td>42.474138</td>\n      <td>606.586207</td>\n      <td>0.0</td>\n      <td>9.073974</td>\n      <td>0.889016</td>\n      <td>4.420063e-82</td>\n      <td>0.759775</td>\n      <td>350.973103</td>\n      <td>16.916159</td>\n      <td>0.053132</td>\n      <td>-0.491524</td>\n      <td>9.073974</td>\n      <td>0.029283</td>\n    </tr>\n    <tr>\n      <th>std</th>\n      <td>8.402898</td>\n      <td>13.845396</td>\n      <td>177.911168</td>\n      <td>0.0</td>\n      <td>3.310947</td>\n      <td>0.084336</td>\n      <td>4.760553e-81</td>\n      <td>0.174199</td>\n      <td>541.187781</td>\n      <td>8.085809</td>\n      <td>0.017778</td>\n      <td>20.647209</td>\n      <td>3.310947</td>\n      <td>0.009197</td>\n    </tr>\n    <tr>\n      <th>min</th>\n      <td>1.000000</td>\n      <td>16.000000</td>\n      <td>252.000000</td>\n      <td>0.0</td>\n      <td>4.860754</td>\n      <td>0.577722</td>\n      <td>0.000000e+00</td>\n      <td>0.136988</td>\n      <td>50.590635</td>\n      <td>7.112709</td>\n      <td>0.025014</td>\n      <td>-164.381615</td>\n      <td>4.860754</td>\n      <td>0.014277</td>\n    </tr>\n    <tr>\n      <th>25%</th>\n      <td>8.000000</td>\n      <td>33.750000</td>\n      <td>460.250000</td>\n      <td>0.0</td>\n      <td>7.095709</td>\n      <td>0.853768</td>\n      <td>0.000000e+00</td>\n      <td>0.685030</td>\n      <td>145.843592</td>\n      <td>12.076532</td>\n      <td>0.040790</td>\n      <td>-1.476578</td>\n      <td>7.095709</td>\n      <td>0.021926</td>\n    </tr>\n    <tr>\n      <th>50%</th>\n      <td>15.000000</td>\n      <td>41.500000</td>\n      <td>605.500000</td>\n      <td>0.0</td>\n      <td>8.300605</td>\n      <td>0.919387</td>\n      <td>0.000000e+00</td>\n      <td>0.810573</td>\n      <td>216.465115</td>\n      <td>14.712081</td>\n      <td>0.049523</td>\n      <td>-0.509270</td>\n      <td>8.300605</td>\n      <td>0.028352</td>\n    </tr>\n    <tr>\n      <th>75%</th>\n      <td>22.000000</td>\n      <td>50.000000</td>\n      <td>743.750000</td>\n      <td>0.0</td>\n      <td>10.230048</td>\n      <td>0.943763</td>\n      <td>5.853015e-245</td>\n      <td>0.876082</td>\n      <td>393.131995</td>\n      <td>19.827412</td>\n      <td>0.064283</td>\n      <td>2.285988</td>\n      <td>10.230048</td>\n      <td>0.034944</td>\n    </tr>\n    <tr>\n      <th>max</th>\n      <td>29.000000</td>\n      <td>82.000000</td>\n      <td>1078.000000</td>\n      <td>0.0</td>\n      <td>30.641411</td>\n      <td>0.987644</td>\n      <td>5.127273e-80</td>\n      <td>0.973909</td>\n      <td>5501.754846</td>\n      <td>74.173815</td>\n      <td>0.152001</td>\n      <td>95.362596</td>\n      <td>30.641411</td>\n      <td>0.062792</td>\n    </tr>\n  </tbody>\n</table>\n</div>"
     },
     "execution_count": 18,
     "metadata": {},
     "output_type": "execute_result"
    }
   ],
   "source": [
    "osc_optimization_details_df = ptq_series.get_osc_optimization_details_df()\n",
    "osc_optimization_details_df.describe()"
   ],
   "metadata": {
    "collapsed": false,
    "ExecuteTime": {
     "end_time": "2025-03-29T12:11:13.683812300Z",
     "start_time": "2025-03-29T12:11:13.626003400Z"
    }
   }
  },
  {
   "cell_type": "markdown",
   "source": [
    "'ptq_series.get_oscillations_df' fasst aus allen Oscillation-Instanzen der Messreihe ('ptq_series') die Schwingungsparameter als pandas.DataFrame zusammen"
   ],
   "metadata": {
    "collapsed": false
   }
  },
  {
   "cell_type": "code",
   "execution_count": 19,
   "metadata": {
    "collapsed": false,
    "ExecuteTime": {
     "end_time": "2025-03-29T12:11:13.709727900Z",
     "start_time": "2025-03-29T12:11:13.670029100Z"
    }
   },
   "outputs": [],
   "source": [
    "ptq_metadata_df = ptq_series.get_oscillations_df()"
   ]
  },
  {
   "cell_type": "code",
   "execution_count": 20,
   "outputs": [
    {
     "name": "stdout",
     "output_type": "stream",
     "text": [
      "metrics_warning_count: 9\n"
     ]
    }
   ],
   "source": [
    "metrics_warning_count = ptq_metadata_df['metrics_warning'].sum()\n",
    "print(f\"metrics_warning_count: {metrics_warning_count}\")"
   ],
   "metadata": {
    "collapsed": false,
    "ExecuteTime": {
     "end_time": "2025-03-29T12:11:13.709727900Z",
     "start_time": "2025-03-29T12:11:13.700473500Z"
    }
   }
  },
  {
   "cell_type": "markdown",
   "source": [
    "## IMPORT: Datendokumentation laden"
   ],
   "metadata": {
    "collapsed": false
   }
  },
  {
   "cell_type": "code",
   "execution_count": 21,
   "outputs": [
    {
     "name": "stderr",
     "output_type": "stream",
     "text": [
      "2025-03-29 13:11:13 [\u001B[92mINFO\u001B[0m] treeqinetic.classes.series.create_oscillations_data_dict: Data dictionary loaded with 28 entries.\n"
     ]
    }
   ],
   "source": [
    "ptq_data_dict = ptq_series.create_oscillations_data_dict()"
   ],
   "metadata": {
    "collapsed": false,
    "ExecuteTime": {
     "end_time": "2025-03-29T12:11:13.709727900Z",
     "start_time": "2025-03-29T12:11:13.700473500Z"
    }
   }
  },
  {
   "cell_type": "markdown",
   "source": [
    "## ANALYSE: Datendokumentation für Metadaten ansehen"
   ],
   "metadata": {
    "collapsed": false
   }
  },
  {
   "cell_type": "code",
   "execution_count": 22,
   "outputs": [
    {
     "data": {
      "text/plain": "<IPython.core.display.Markdown object>",
      "text/markdown": "|    | Variable            | Kategorie      | Zeichen                            | Deutsch                                    | Datentyp   | Einheit   | Beschreibung                                                            |\n|----|---------------------|----------------|------------------------------------|--------------------------------------------|------------|-----------|-------------------------------------------------------------------------|\n|  0 | id                  | ptq            | ID                                 | ID Messung                                 | int64      | -         | Eindeutige ID der Messung                                               |\n|  1 | file_name           | ptq            | filename                           | Dateiname                                  | object     | -         | Name der Quelldatei der Messung                                         |\n|  2 | sensor_name         | ptq            | sensor                             | Sensorname                                 | object     | -         | Bezeichnung des Elastometers                                            |\n|  3 | sample_rate         | ptq            | $f_s$                              | Abtastrate                                 | float64    | Hz        | Abtastrate der Datenaufzeichnung                                        |\n|  4 | max_strain          | ptq            | $\\Delta L_{\\mathrm{max}}$          | Dehnung max. gemessen                      | float64    | $\\mu$m    | Gemessene maximale absolute Randfaserdehnung                            |\n|  5 | max_compression     | ptq            | $\\Delta L_{\\mathrm{comp,max}}$     | Stauchung max. gemessen                    | float64    | $\\mu$m    | Gemessene maximale absolute Randfaserstauchung                          |\n|  6 | max_strain_osc      | ptq            | $\\Delta L_{\\mathrm{max,osc}}$      | Maximale Dehnung (Oszillation)             | float64    | $\\mu$m    | Gemessene maximale absolute Randfaserdehnung innerhalb der Schwingung   |\n|  7 | max_compression_osc | ptq            | $\\Delta L_{\\mathrm{comp,max,osc}}$ | Maximale Stauchung (Oszillation)           | float64    | $\\mu$m    | Gemessene maximale absolute Randfaserstauchung innerhalb der Schwingung |\n|  8 | m_amplitude         | ptq_osc        | $mA$                               | Manuelle Amplitude                         | float64    | $\\mu$m    | Manuell berechnete Amplitude über den Schwingungsabschnitt              |\n|  9 | m_amplitude_2       | ptq_osc        | $mA_2$                             | Manuelle Amplitude 2                       | float64    | $\\mu$m    | Manuell berechnete Amplitude zwischen 2. Peak und Minimum               |\n| 10 | metrics_warning     | ptq_osc        | warning                            | Fit-Warnung                                | bool       | -         | Warnung, wenn Qualitätsmetrik Schwellenwerte unterschreitet             |\n| 11 | initial_amplitude   | ptq_osc        | $A$                                | Anfangsamplitude                           | float64    | $\\mu$m    | Initiale Amplitude der angepassten Schwingung                           |\n| 12 | damping_coeff       | ptq_osc        | $\\delta$                           | Dämpfungskoeffizient                       | float64    | 1/s       | Koeffizient der exponentiellen Dämpfung                                 |\n| 13 | damping_ratio       | ptq_osc        | $D$                                | Dämpfungsgrad                              | float64    | -         | Verhältnis von Dämpfung zu Frequenz                                     |\n| 14 | frequency_damped    | ptq_osc        | $f_{\\mathrm{d}}$                   | Gedämpfte Frequenz                         | float64    | Hz        | Frequenz der gedämpften Schwingung                                      |\n| 15 | frequency_undamped  | ptq_osc        | $f_0$                              | Ungedämpfte Frequenz                       | float64    | Hz        | Frequenz der ungedämpften Schwingung                                    |\n| 16 | pearson_r           | ptq_osc_metric | $r$                                | Pearson-Korrelation                        | float64    | -         | Korrelationskoeffizient der Anpassung                                   |\n| 17 | nmae                | ptq_osc_metric | $\\mathrm{NMAE}$                    | Normalisierter MAE                         | float64    | -         | Normalisierter mittlerer absoluter Fehler                               |\n| 18 | nrmse               | ptq_osc_metric | $\\mathrm{NRMSE}$                   | Normalisierter RMSE                        | float64    | -         | Normalisierter mittlerer quadratischer Fehler                           |\n| 19 | phase_angle         | ptq_osc        | $\\varphi$                          | Phasenwinkel                               | float64    | rad       | Anfangsphase der Schwingung                                             |\n| 20 | x_shift             | ptq_osc        | $t_0$                              | Zeitverschiebung                           | float64    | s         | Horizontale Verschiebung der Schwingung                                 |\n| 21 | y_shift             | ptq_osc        | $y_0$                              | Vertikaler Versatz                         | float64    | $\\mu$m    | Vertikaler Offset der Schwingung                                        |\n| 22 | p_value             | ptq_osc_metric | p                                  | p-Wert                                     | float64    | -         | Signifikanzwert der Pearson-Korrelation                                 |\n| 23 | r2                  | ptq_osc_metric | $R^2$                              | Bestimmtheitsmaß                           | float64    | -         | Erklärte Varianz durch das Modell                                       |\n| 24 | mse                 | ptq_osc_metric | $\\mathrm{MSE}$                     | Mittlerer quadratischer Fehler             | float64    | -         | Mittlerer quadratischer Fehler der Anpassung                            |\n| 25 | rmse                | ptq_osc_metric | $\\mathrm{RMSE}$                    | Wurzel des mittleren quadratischen Fehlers | float64    | -         | Wurzel aus dem mittleren quadratischen Fehler                           |\n| 26 | cv                  | ptq_osc_metric | $\\mathrm{CV}$                      | Variationskoeffizient                      | float64    | -         | Verhältnis von RMSE zum Mittelwert                                      |\n| 27 | mae                 | ptq_osc_metric | $\\mathrm{MAE}$                     | Mittlerer absoluter Fehler                 | float64    | -         | Durchschnittlicher absoluter Fehler der Anpassung                       |"
     },
     "metadata": {},
     "output_type": "display_data"
    }
   ],
   "source": [
    "# In DataFrame umwandeln\n",
    "ptq_data_dict_df= build_data_dict_df(ptq_data_dict)\n",
    "\n",
    "# In Markdown umwandeln und anzeigen\n",
    "md_text = ptq_data_dict_df.to_markdown(tablefmt=\"github\")\n",
    "display(Markdown(md_text))"
   ],
   "metadata": {
    "collapsed": false,
    "ExecuteTime": {
     "end_time": "2025-03-29T12:11:13.812534300Z",
     "start_time": "2025-03-29T12:11:13.709727900Z"
    }
   }
  },
  {
   "cell_type": "markdown",
   "source": [
    "## EXPORT: Daten exportieren für Weiterverarbeitung (.feather, .csv, .json)"
   ],
   "metadata": {
    "collapsed": false
   }
  },
  {
   "cell_type": "code",
   "execution_count": 23,
   "outputs": [],
   "source": [
    "# DataFrame als Feather\n",
    "ptq_metadata_df.to_feather(data_export_directory / \"ptq.feather\")\n",
    "\n",
    "# Dict als JSON (UTF-8, sauber eingerückt)\n",
    "with open(data_export_directory / \"ptq_data_dict.json\", \"w\", encoding=\"utf-8\") as f:\n",
    "    json.dump(ptq_data_dict, f,  indent=4, ensure_ascii=False)\n",
    "    \n",
    "ptq_metadata_df.to_csv(data_export_directory / \"ptq.csv\", sep=\";\", index=False, encoding=\"utf-8\")"
   ],
   "metadata": {
    "collapsed": false,
    "ExecuteTime": {
     "end_time": "2025-03-29T12:11:13.930716Z",
     "start_time": "2025-03-29T12:11:13.735735Z"
    }
   }
  },
  {
   "cell_type": "markdown",
   "source": [
    "## LATEX-EXPORT: Daten und Datendokumentation als Latex-Tabelle exportieren (.tex)"
   ],
   "metadata": {
    "collapsed": false
   }
  },
  {
   "cell_type": "code",
   "execution_count": 24,
   "outputs": [
    {
     "name": "stdout",
     "output_type": "stream",
     "text": [
      "Content saved to: C:\\kyellsen\\005_Projekte\\2024_BA\\032_Feldversuch_2023_Plesse\\030_Analysen\\2023_Kronensicherung_Plesse_Kraefte_Schwingungen\\working_directory\\export_latex\\feldversuch_2_ptq_daten_dokumentation.tex\n"
     ]
    }
   ],
   "source": [
    "ptq_data_dict_df = build_data_dict_df(ptq_data_dict, escape_index=True, select_latex_fields=True)\n",
    "\n",
    "latex_string = ptq_data_dict_df.to_latex(index=False, escape=False)\n",
    "caption = \"Feldversuch 2 - PTQ Daten Dokumentation\"\n",
    "\n",
    "save_latex_table(latex_string, caption, latex_export_directory)"
   ],
   "metadata": {
    "collapsed": false,
    "ExecuteTime": {
     "end_time": "2025-03-29T12:11:14.015139900Z",
     "start_time": "2025-03-29T12:11:13.812534300Z"
    }
   }
  }
 ],
 "metadata": {
  "kernelspec": {
   "display_name": "Python 3 (ipykernel)",
   "language": "python",
   "name": "python3"
  },
  "language_info": {
   "codemirror_mode": {
    "name": "ipython",
    "version": 3
   },
   "file_extension": ".py",
   "mimetype": "text/x-python",
   "name": "python",
   "nbconvert_exporter": "python",
   "pygments_lexer": "ipython3",
   "version": "3.11.2"
  }
 },
 "nbformat": 4,
 "nbformat_minor": 4
}
