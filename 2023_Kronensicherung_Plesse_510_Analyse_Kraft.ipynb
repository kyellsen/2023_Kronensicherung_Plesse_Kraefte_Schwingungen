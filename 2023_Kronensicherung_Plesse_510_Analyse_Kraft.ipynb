{
 "cells": [
  {
   "cell_type": "markdown",
   "metadata": {},
   "source": [
    "---\n",
    "title: \"2023_Kronensicherung_Plesse_Analyse_Kraft\"\n",
    "author: \"Kyell Jensen\"\n",
    "date: \"2024-08-06\"\n",
    "format: pdf\n",
    "editor: visual\n",
    "---"
   ]
  },
  {
   "cell_type": "markdown",
   "metadata": {
    "collapsed": false
   },
   "source": [
    "# 2023_Kronensicherung_Plesse_Analyse_Kraft\n",
    "\n",
    "## Kombinierte Analyse LineScale3, TreeQinetic und Versuchsaufzeichung\n",
    "\n",
    "Nutze eine geeignete Python 3.11 Umgebung (z. B. virtuelle Environment)."
   ]
  },
  {
   "cell_type": "markdown",
   "metadata": {
    "collapsed": false
   },
   "source": [
    "## Arbeitsumgebung vorbereiten"
   ]
  },
  {
   "cell_type": "markdown",
   "source": [
    "### IMPORT: Packages"
   ],
   "metadata": {
    "collapsed": false
   }
  },
  {
   "cell_type": "code",
   "execution_count": null,
   "outputs": [],
   "source": [
    "# Struktur & Typen\n",
    "from pathlib import Path\n",
    "from typing import Dict, List\n",
    "\n",
    "# Datenverarbeitung\n",
    "import json\n",
    "import numpy as np\n",
    "import pandas as pd\n",
    "from pandas.api.types import CategoricalDtype\n",
    "from slugify import slugify  # Zum Vereinheitlichen von Strings\n",
    "\n",
    "# Plotting\n",
    "import matplotlib.pyplot as plt\n",
    "import seaborn as sns\n",
    "from IPython.display import Markdown, display\n",
    "\n",
    "# Statistik\n",
    "from scipy.stats import linregress, f_oneway\n",
    "import statsmodels.api as sm\n",
    "import statsmodels.formula.api as smf\n",
    "import statsmodels.stats.multicomp as mc"
   ],
   "metadata": {
    "collapsed": false,
    "is_executing": true
   }
  },
  {
   "cell_type": "code",
   "execution_count": null,
   "outputs": [],
   "source": [
    "# Eigene Module und Funktionen\n",
    "from kj_core.utils.latex_export import (\n",
    "    generate_latex_table,\n",
    "    generate_grouped_latex_tables,\n",
    "    save_latex_table,\n",
    "    build_data_dict_df\n",
    ")\n",
    "from kj_core.utils.labeling import (\n",
    "    get_label_from_dict,\n",
    "    get_color_dict\n",
    ")\n",
    "from kj_core import (\n",
    "    CoreConfig,\n",
    "    PlotManager,\n",
    "    get_logger\n",
    ")\n",
    "\n",
    "# Projekteinstellungen\n",
    "from project_config import (\n",
    "    working_directory,\n",
    "    data_export_directory,\n",
    "    latex_export_directory,\n",
    "    filename_clean_dataset,\n",
    "    filename_clean_data_dict\n",
    ")"
   ],
   "metadata": {
    "collapsed": false,
    "is_executing": true
   }
  },
  {
   "cell_type": "markdown",
   "source": [
    "### IMPORT: Manager Instanzen"
   ],
   "metadata": {
    "collapsed": false
   }
  },
  {
   "cell_type": "code",
   "execution_count": null,
   "outputs": [],
   "source": [
    "logger = get_logger(__name__)\n",
    "CONFIG = CoreConfig(working_directory=f\"{working_directory}/combined\")\n",
    "PLOT_MANAGER = PlotManager(CONFIG)"
   ],
   "metadata": {
    "collapsed": false,
    "is_executing": true
   }
  },
  {
   "cell_type": "markdown",
   "metadata": {
    "collapsed": false
   },
   "source": [
    "## IMPORT: Daten Import"
   ]
  },
  {
   "cell_type": "code",
   "execution_count": null,
   "outputs": [],
   "source": [
    "# Dateien laden\n",
    "df = pd.read_feather(data_export_directory / filename_clean_dataset)\n",
    "\n",
    "with open(data_export_directory / filename_clean_data_dict, \"r\", encoding=\"utf-8\") as f:\n",
    "    data_dict = json.load(f)"
   ],
   "metadata": {
    "collapsed": false,
    "is_executing": true
   }
  },
  {
   "cell_type": "markdown",
   "source": [
    "## ANALYSE: Explorative Datenanalyse"
   ],
   "metadata": {
    "collapsed": false
   }
  },
  {
   "cell_type": "code",
   "execution_count": null,
   "outputs": [],
   "source": [
    "df.head(10)"
   ],
   "metadata": {
    "collapsed": false,
    "is_executing": true
   }
  },
  {
   "cell_type": "code",
   "execution_count": null,
   "outputs": [],
   "source": [
    "df.columns"
   ],
   "metadata": {
    "collapsed": false,
    "is_executing": true
   }
  },
  {
   "cell_type": "markdown",
   "source": [
    "### COMBINED: Definition von Darstellungsstandards\n",
    "Festlegen von Farbcodes für einheitliche Darstellung von Sensoren und Behandlungsvarianten für alle nachfolgenden Plots."
   ],
   "metadata": {
    "collapsed": false
   }
  },
  {
   "cell_type": "code",
   "execution_count": null,
   "outputs": [],
   "source": [
    "color_palette = PLOT_MANAGER.color_palette_list\n",
    "\n",
    "# Für die Spalte \"treatment\":\n",
    "treatment_color_dict = get_color_dict(df, \"treatment\", PLOT_MANAGER.color_palette_list)"
   ],
   "metadata": {
    "collapsed": false,
    "is_executing": true
   }
  },
  {
   "cell_type": "markdown",
   "source": [
    "### LS3 ANALYSE: Zusammenhang Vorspannung und Lastspitze KS"
   ],
   "metadata": {
    "collapsed": false
   }
  },
  {
   "cell_type": "code",
   "execution_count": null,
   "outputs": [],
   "source": [
    "# Funktion zur Erstellung des Text-Strings für die statistischen Parameter\n",
    "def annotate_stats(x, y):\n",
    "    slope, intercept, r_value, p_value, std_err = linregress(x, y)\n",
    "    text_str = f\"R = {r_value:.4f}\\nSlope = {slope:.4f}\\nIntercept = {intercept:.2f}\\np-value = {p_value:.2e}\\nStd Err = {std_err:.2f}\"\n",
    "    return text_str"
   ],
   "metadata": {
    "collapsed": false,
    "is_executing": true
   }
  },
  {
   "cell_type": "code",
   "execution_count": null,
   "outputs": [],
   "source": [
    "df_grouped_by_id = df[['id', 'treatment', 'release_force_target', 'rope_release', 'cable_max']]\n",
    "df_grouped_by_id = df_grouped_by_id.groupby(['id'], observed=False).first().reset_index()\n",
    "df_grouped_by_id"
   ],
   "metadata": {
    "collapsed": false,
    "is_executing": true
   }
  },
  {
   "cell_type": "code",
   "execution_count": null,
   "outputs": [],
   "source": [
    "data_df = df_grouped_by_id\n",
    "x_var = 'release_force_target'\n",
    "y_var = 'rope_release'\n",
    "\n",
    "fig, ax1 = plt.subplots(figsize=(6, 3))\n",
    "sns.regplot(data=data_df, x=x_var, y=y_var, ax=ax1, ci=95)\n",
    "ax2 = ax1.twinx()\n",
    "ax2.axis('off')\n",
    "stats_text = annotate_stats(data_df[x_var], data_df[y_var])\n",
    "ax2.annotate(stats_text, xy=(1.01, 0.1), xycoords='axes fraction')\n",
    "#ax1.set_title(f'Regression zwischen {get_label_from_dict(x_var, data_dict)} und {get_label_from_dict(y_var, data_dict)}')\n",
    "ax1.set_xlabel(get_label_from_dict(x_var, data_dict, use_full=True))\n",
    "ax1.set_ylabel(get_label_from_dict(y_var, data_dict, use_full=True))\n",
    "plt.tight_layout()\n",
    "plt.show()\n",
    "PLOT_MANAGER.save_plot(fig, filename=f\"{x_var}_vs_{y_var}\", subdir=\"ls3_regression\")"
   ],
   "metadata": {
    "collapsed": false,
    "is_executing": true
   }
  },
  {
   "cell_type": "code",
   "execution_count": null,
   "outputs": [],
   "source": [
    "data_df = df_grouped_by_id\n",
    "group_by = 'treatment'\n",
    "x_var = 'release_force_target'\n",
    "y_var = 'rope_release'\n",
    "\n",
    "fig, ax1 = plt.subplots(figsize=(6, 4))\n",
    "ax2 = ax1.twinx()\n",
    "ax2.axis('off')\n",
    "y_pos_init = 0.1\n",
    "\n",
    "for idx, (group, color) in enumerate(treatment_color_dict.items()):\n",
    "    group_df = df_grouped_by_id[df_grouped_by_id[group_by] == group]\n",
    "    # Sicherstellen, dass in beiden Variablen Werte vorhanden sind\n",
    "    if group_df[x_var].isna().all() or group_df[y_var].isna().all():\n",
    "        continue\n",
    "    sns.regplot(x=x_var, y=y_var, data=group_df, ax=ax1, color=color, label=group, ci=95)\n",
    "    stats_text = annotate_stats(group_df[x_var], group_df[y_var])\n",
    "    ax2.annotate(f\"{group}:\\n{stats_text}\", xy=(1.01, y_pos_init + ((idx-0.3) * 0.35)), xycoords='axes fraction')\n",
    "    \n",
    "#ax1.set_title(f'Regression zwischen {get_label_from_dict(x_var, data_dict)} und {get_label_from_dict(y_var, data_dict)}')\n",
    "ax1.set_xlabel(get_label_from_dict(x_var, data_dict, use_full=True))\n",
    "ax1.set_ylabel(get_label_from_dict(y_var, data_dict, use_full=True))\n",
    "ax1.legend(title=get_label_from_dict(group_by, data_dict), loc='upper left')\n",
    "plt.tight_layout()\n",
    "plt.show()\n",
    "PLOT_MANAGER.save_plot(fig, filename=f\"{x_var}_vs_{y_var}_grouped_by_{group_by}\", subdir=\"ls3_regression\")\n"
   ],
   "metadata": {
    "collapsed": false,
    "is_executing": true
   }
  },
  {
   "cell_type": "code",
   "execution_count": null,
   "outputs": [],
   "source": [
    "data_df = df_grouped_by_id\n",
    "group_by = 'treatment'\n",
    "x_var = 'rope_release'\n",
    "y_var = 'cable_max'\n",
    "\n",
    "fig, ax1 = plt.subplots(figsize=(6, 4))\n",
    "ax2 = ax1.twinx()\n",
    "ax2.axis('off')\n",
    "y_pos_init = 0.1\n",
    "for idx, (group, color) in enumerate(treatment_color_dict.items()):\n",
    "    group_df = df_grouped_by_id[df_grouped_by_id[group_by] == group]\n",
    "    if group_df[y_var].isna().all():\n",
    "        continue\n",
    "    sns.regplot(x=x_var, y=y_var, data=group_df, ax=ax1, color=color, label=group, ci=95)\n",
    "    stats_text = annotate_stats(group_df[x_var], group_df[y_var])\n",
    "    ax2.annotate(f\"{group}:\\n{stats_text}\", xy=(1.01, y_pos_init + ((idx - 1) * 0.4)), xycoords='axes fraction')\n",
    "#ax1.set_title(f'Regression zwischen {get_label_from_dict(x_var, data_dict)} und {get_label_from_dict(y_var, data_dict)}')\n",
    "ax1.set_xlabel(get_label_from_dict(x_var, data_dict, use_full=True))\n",
    "ax1.set_ylabel(get_label_from_dict(y_var, data_dict, use_full=True))\n",
    "ax1.legend(title=get_label_from_dict(group_by, data_dict), loc='upper left')\n",
    "plt.tight_layout()\n",
    "plt.show()\n",
    "PLOT_MANAGER.save_plot(fig, filename=f\"{x_var}_vs_{y_var}\", subdir=\"ls3_regression\")"
   ],
   "metadata": {
    "collapsed": false,
    "is_executing": true
   }
  },
  {
   "cell_type": "markdown",
   "source": [
    "### LS3 ANALYSE: Lastspitze in der KS\n",
    "\n",
    "Analyse der Spitzenlasten in der KS gruppiert nach Ziel-Vorspannung und Treatment."
   ],
   "metadata": {
    "collapsed": false
   }
  },
  {
   "cell_type": "code",
   "execution_count": null,
   "outputs": [],
   "source": [
    "# Zuerst filtern wir alle Zeilen heraus, bei denen 'treatment' den Wert \"free\" hat.\n",
    "df_plot = df_grouped_by_id[df_grouped_by_id['treatment'] != \"free\"].copy()\n",
    "\n",
    "# Optional: Entferne die leere Kategorie \"free\" aus der ordered Kategorie, falls sie noch vorhanden ist.\n",
    "df_plot['treatment'] = df_plot['treatment'].cat.remove_categories([\"free\"])\n",
    "\n",
    "fig, ax = plt.subplots(figsize=(6, 4))\n",
    "sns.boxplot(data=df_plot, \n",
    "            x='release_force_target', \n",
    "            y='cable_max', \n",
    "            hue='treatment',\n",
    "            palette=treatment_color_dict,\n",
    "            ax=ax)\n",
    "\n",
    "# Stripplot (Einzeldaten)\n",
    "sns.stripplot(data=df_plot,\n",
    "              x='release_force_target',\n",
    "              y='cable_max',\n",
    "              hue='treatment',\n",
    "              dodge=True,\n",
    "              color='black',   # etwas abgesetzte Farbe\n",
    "              alpha=1,       # halbe Transparenz\n",
    "              ax=ax,\n",
    "              legend=False)\n",
    "\n",
    "\n",
    "# Setzt den Titel und die Achsenbeschriftungen entsprechend der Beschriftungsfunktion aus data_dict\n",
    "#ax.set_title(f\"{get_label_from_dict('cable_max', data_dict)} gruppiert nach {get_label_from_dict('treatment', data_dict)} und {get_label_from_dict('release_force_target', data_dict)}\")\n",
    "ax.set_xlabel(\"Behandlungsvariante\")\n",
    "ax.set_ylabel(get_label_from_dict('cable_max', data_dict, use_axes=True))\n",
    "#ax.set_ylim(0, 3.2)\n",
    "plt.tight_layout()\n",
    "ax.legend(title=\"Behandlung\")\n",
    "plt.show()\n",
    "\n",
    "PLOT_MANAGER.save_plot(fig, filename=\"cable_max_boxplot\", subdir=\"ls3_boxplot\")\n"
   ],
   "metadata": {
    "collapsed": false,
    "is_executing": true
   }
  },
  {
   "cell_type": "code",
   "execution_count": null,
   "outputs": [],
   "source": [
    "# Daten filtern\n",
    "filtered_df = df.query('treatment in [\"gefa_dynamic\", \"cobra_static\"]')[[\"release_force_target\", \"treatment\", \"cable_max\"]]\n",
    "\n",
    "# Gruppieren, Aggregieren und Pivotieren\n",
    "pivoted = (\n",
    "    filtered_df\n",
    "    .groupby(['release_force_target', 'treatment'], observed=True)['cable_max']\n",
    "    .agg(['min', 'mean', 'max'])\n",
    "    .unstack(level=0)\n",
    "    .swaplevel(axis=1)\n",
    "    .sort_index(axis=1, level=[0, 1], ascending=[True, False])\n",
    ")\n",
    "\n",
    "# Spaltennamen formatieren (Index Level 0: zwei Nachkommastellen)\n",
    "pivoted.columns = pd.MultiIndex.from_tuples(\n",
    "    [(f\"{lvl0:.2f}\", lvl1) if isinstance(lvl0, float) else (lvl0, lvl1)\n",
    "     for lvl0, lvl1 in pivoted.columns],\n",
    "    names=pivoted.columns.names\n",
    ")\n",
    "pivoted"
   ],
   "metadata": {
    "collapsed": false,
    "is_executing": true
   }
  },
  {
   "cell_type": "code",
   "execution_count": null,
   "outputs": [],
   "source": [
    "# Achsenbeschriftungen setzen\n",
    "pivoted.columns.set_names(\n",
    "    [get_label_from_dict(\"release_force_target\", data_dict, template=\"{Zeichen}\"), None],\n",
    "    inplace=True\n",
    ")\n",
    "pivoted.index.set_names(\n",
    "    get_label_from_dict(\"treatment\", data_dict),\n",
    "    inplace=True\n",
    ")"
   ],
   "metadata": {
    "collapsed": false,
    "is_executing": true
   }
  },
  {
   "cell_type": "code",
   "execution_count": null,
   "outputs": [],
   "source": [
    "latex_string = pivoted.to_latex(index=True, escape=True, float_format=\"{:0.2f}\".format, column_format=\"l|rrr|rrr|rrr\", multicolumn=True,\n",
    "    multicolumn_format=\"c\")\n",
    "\n",
    "# Beschriftung erstellen\n",
    "caption = \"Feldversuch 2 - Ergebnisse, Kraftspitze in der KS\"\n",
    "caption_long = (\n",
    "    f\"Feldversuch 2 - {get_label_from_dict('cable_max', data_dict, use_full=True)} \"\n",
    "    f\"gruppiert über {get_label_from_dict('release_force_target', data_dict, use_full=True)} und \"\n",
    "    f\"{get_label_from_dict('treatment', data_dict)}. \"\n",
    "    f\"Angegeben ist jeweils pro Gruppe das Minimum, der Mittelwert und das Maximum. \"\n",
    "    f\"Die Variante 'free' ist nicht aufgeführt, da hier keine KS eingesetzt wurde.\"\n",
    ")\n",
    "\n",
    "# LaTeX-Tabelle speichern\n",
    "save_latex_table(latex_string, caption, latex_export_directory, caption_long)"
   ],
   "metadata": {
    "collapsed": false,
    "is_executing": true
   }
  }
 ],
 "metadata": {
  "kernelspec": {
   "display_name": "Python 3 (ipykernel)",
   "language": "python",
   "name": "python3"
  },
  "language_info": {
   "codemirror_mode": {
    "name": "ipython",
    "version": 3
   },
   "file_extension": ".py",
   "mimetype": "text/x-python",
   "name": "python",
   "nbconvert_exporter": "python",
   "pygments_lexer": "ipython3",
   "version": "3.11.2"
  }
 },
 "nbformat": 4,
 "nbformat_minor": 4
}
