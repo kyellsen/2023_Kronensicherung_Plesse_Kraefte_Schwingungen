{
 "cells": [
  {
   "cell_type": "markdown",
   "metadata": {},
   "source": [
    "---\n",
    "title: \"2023_Kronensicherung_Plesse_Analyse\"\n",
    "author: \"Kyell Jensen\"\n",
    "date: \"2024-08-06\"\n",
    "format: pdf\n",
    "editor: visual\n",
    "---"
   ]
  },
  {
   "cell_type": "markdown",
   "metadata": {
    "collapsed": false
   },
   "source": [
    "# 2023_Kronensicherung_Plesse_Analyse\n",
    "\n",
    "## Kombinierte Analyse LineScale3, TreeQinetic und Versuchsaufzeichung\n",
    "\n",
    "Nutze eine geeignete Python 3.11 Umgebung (z. B. virtuelle Environment)."
   ]
  },
  {
   "cell_type": "markdown",
   "source": [
    "## Arbeitsumgebung vorbereiten\n",
    "\n",
    "Nutze gemeinsame imports.py für alle Analysen-Notebooks.\n",
    "Erstelle Instanzen für Config und PlotManager.\n",
    "Lade Dateinamen."
   ],
   "metadata": {
    "collapsed": false
   }
  },
  {
   "cell_type": "code",
   "execution_count": 3,
   "metadata": {
    "ExecuteTime": {
     "end_time": "2025-04-06T10:19:48.729174Z",
     "start_time": "2025-04-06T10:19:48.623599Z"
    }
   },
   "outputs": [],
   "source": [
    "from project_setup import load_config_and_plot_manager, load_data\n",
    "from project_config import data_export_directory, filename_clean_dataset, filename_clean_data_dict\n"
   ]
  },
  {
   "cell_type": "code",
   "execution_count": 4,
   "outputs": [
    {
     "name": "stderr",
     "output_type": "stream",
     "text": [
      "2025-04-06 12:19:48 [\u001B[93mWARNING\u001B[0m] kj_core.core_config.set_working_directory: The directory C:\\kyellsen\\005_Projekte\\2024_BA\\032_Feldversuch_2023_Plesse\\030_Analysen\\2023_Kronensicherung_Plesse_Kraefte_Schwingungen\\working_directory\\combined already exists.\n",
      "2025-04-06 12:19:48 [\u001B[92mINFO\u001B[0m] kj_core.core_config.set_working_directory: Working directory set to C:\\kyellsen\\005_Projekte\\2024_BA\\032_Feldversuch_2023_Plesse\\030_Analysen\\2023_Kronensicherung_Plesse_Kraefte_Schwingungen\\working_directory\\combined!\n",
      "2025-04-06 12:19:48 [\u001B[92mINFO\u001B[0m] kj_core.core_config.__init__: <CoreConfig>\n",
      "  Package:            kj_core\n",
      "  Working Directory:  C:\\kyellsen\\005_Projekte\\2024_BA\\032_Feldversuch_2023_Plesse\\030_Analysen\\2023_Kronensicherung_Plesse_Kraefte_Schwingungen\\working_directory\\combined\n",
      "  Plot Directory:     C:\\kyellsen\\005_Projekte\\2024_BA\\032_Feldversuch_2023_Plesse\\030_Analysen\\2023_Kronensicherung_Plesse_Kraefte_Schwingungen\\working_directory\\combined\\plots\n",
      "  Data Directory:     C:\\kyellsen\\005_Projekte\\2024_BA\\032_Feldversuch_2023_Plesse\\030_Analysen\\2023_Kronensicherung_Plesse_Kraefte_Schwingungen\\working_directory\\combined\\data\n",
      "  Database Directory: C:\\kyellsen\\005_Projekte\\2024_BA\\032_Feldversuch_2023_Plesse\\030_Analysen\\2023_Kronensicherung_Plesse_Kraefte_Schwingungen\\working_directory\\combined\\databases\n",
      " initialized! Code: 001\n",
      "2025-04-06 12:19:48 [\u001B[92mINFO\u001B[0m] project_setup.load_config_and_plot_manager: --- CONFIG geladen --- \n",
      "<CoreConfig>\n",
      "  Package:            kj_core\n",
      "  Working Directory:  C:\\kyellsen\\005_Projekte\\2024_BA\\032_Feldversuch_2023_Plesse\\030_Analysen\\2023_Kronensicherung_Plesse_Kraefte_Schwingungen\\working_directory\\combined\n",
      "  Plot Directory:     C:\\kyellsen\\005_Projekte\\2024_BA\\032_Feldversuch_2023_Plesse\\030_Analysen\\2023_Kronensicherung_Plesse_Kraefte_Schwingungen\\working_directory\\combined\\plots\n",
      "  Data Directory:     C:\\kyellsen\\005_Projekte\\2024_BA\\032_Feldversuch_2023_Plesse\\030_Analysen\\2023_Kronensicherung_Plesse_Kraefte_Schwingungen\\working_directory\\combined\\data\n",
      "  Database Directory: C:\\kyellsen\\005_Projekte\\2024_BA\\032_Feldversuch_2023_Plesse\\030_Analysen\\2023_Kronensicherung_Plesse_Kraefte_Schwingungen\\working_directory\\combined\\databases\n",
      "\n",
      "2025-04-06 12:19:48 [\u001B[92mINFO\u001B[0m] kj_core.utils.plot_manager.__init__: <PlotManager>\n",
      "  Plot Directory:    C:\\kyellsen\\005_Projekte\\2024_BA\\032_Feldversuch_2023_Plesse\\030_Analysen\\2023_Kronensicherung_Plesse_Kraefte_Schwingungen\\working_directory\\combined\\plots\n",
      "  DPI:               300\n",
      "  Figure Size:       (8, 6)\n",
      "  Seaborn Style:     'whitegrid'\n",
      "  Color Palette:     'bright'\n",
      "  Grid Enabled:      True\n",
      "  Wide Format:       True\n",
      "  From Config:       CoreConfig\n",
      " initialized! Code: 005\n",
      "2025-04-06 12:19:48 [\u001B[92mINFO\u001B[0m] project_setup.load_config_and_plot_manager: --- PLOT_MANAGER geladen --- \n",
      "<PlotManager>\n",
      "  Plot Directory:    C:\\kyellsen\\005_Projekte\\2024_BA\\032_Feldversuch_2023_Plesse\\030_Analysen\\2023_Kronensicherung_Plesse_Kraefte_Schwingungen\\working_directory\\combined\\plots\n",
      "  DPI:               300\n",
      "  Figure Size:       (8, 6)\n",
      "  Seaborn Style:     'whitegrid'\n",
      "  Color Palette:     'bright'\n",
      "  Grid Enabled:      True\n",
      "  Wide Format:       True\n",
      "  From Config:       CoreConfig\n",
      "\n",
      "2025-04-06 12:19:48 [\u001B[92mINFO\u001B[0m] project_setup.load_data: Datensatz erfolgreich geladen von: C:\\kyellsen\\005_Projekte\\2024_BA\\032_Feldversuch_2023_Plesse\\030_Analysen\\2023_Kronensicherung_Plesse_Kraefte_Schwingungen\\working_directory\\export_data\\_dataset_clean.feather\n",
      "2025-04-06 12:19:48 [\u001B[92mINFO\u001B[0m] project_setup.load_data: Daten-Dictionary erfolgreich geladen von: C:\\kyellsen\\005_Projekte\\2024_BA\\032_Feldversuch_2023_Plesse\\030_Analysen\\2023_Kronensicherung_Plesse_Kraefte_Schwingungen\\working_directory\\export_data\\_data_dict_clean.json\n"
     ]
    }
   ],
   "source": [
    "# Lade Konfiguration und PlotManager\n",
    "CONFIG, PLOT_MANAGER, logger = load_config_and_plot_manager()\n",
    "\n",
    "# Lade Datensatz und Data Dictionary\n",
    "df, data_dict = load_data(logger, data_export_directory, filename_clean_dataset, filename_clean_data_dict)"
   ],
   "metadata": {
    "collapsed": false,
    "ExecuteTime": {
     "end_time": "2025-04-06T10:19:48.829437700Z",
     "start_time": "2025-04-06T10:19:48.628558100Z"
    }
   }
  },
  {
   "cell_type": "markdown",
   "metadata": {
    "collapsed": false
   },
   "source": [
    "## IMPORT: Daten Import\n",
    "\n",
    "Lege Pfade für Daten-Importe, Daten-Exporte etc. fest (ggf. anpassen an eigene Verzeichnisstruktur), ausgelagert in gemeinsame Config für verschiedene Notebooks"
   ]
  },
  {
   "cell_type": "code",
   "execution_count": 5,
   "outputs": [],
   "source": [
    "filename_dataset = \"_dataset_clean.feather\"\n",
    "filename_data_dict = \"_data_dict_clean.json\""
   ],
   "metadata": {
    "collapsed": false,
    "ExecuteTime": {
     "end_time": "2025-04-06T10:19:48.845058400Z",
     "start_time": "2025-04-06T10:19:48.648476900Z"
    }
   }
  },
  {
   "cell_type": "code",
   "execution_count": 6,
   "outputs": [
    {
     "ename": "NameError",
     "evalue": "name 'pd' is not defined",
     "output_type": "error",
     "traceback": [
      "\u001B[1;31m---------------------------------------------------------------------------\u001B[0m",
      "\u001B[1;31mNameError\u001B[0m                                 Traceback (most recent call last)",
      "Cell \u001B[1;32mIn[6], line 2\u001B[0m\n\u001B[0;32m      1\u001B[0m \u001B[38;5;66;03m# Dateien laden\u001B[39;00m\n\u001B[1;32m----> 2\u001B[0m df \u001B[38;5;241m=\u001B[39m \u001B[43mpd\u001B[49m\u001B[38;5;241m.\u001B[39mread_feather(data_export_directory \u001B[38;5;241m/\u001B[39m filename_dataset)\n\u001B[0;32m      4\u001B[0m \u001B[38;5;28;01mwith\u001B[39;00m \u001B[38;5;28mopen\u001B[39m(data_export_directory \u001B[38;5;241m/\u001B[39m filename_data_dict, \u001B[38;5;124m\"\u001B[39m\u001B[38;5;124mr\u001B[39m\u001B[38;5;124m\"\u001B[39m, encoding\u001B[38;5;241m=\u001B[39m\u001B[38;5;124m\"\u001B[39m\u001B[38;5;124mutf-8\u001B[39m\u001B[38;5;124m\"\u001B[39m) \u001B[38;5;28;01mas\u001B[39;00m f:\n\u001B[0;32m      5\u001B[0m     data_dict \u001B[38;5;241m=\u001B[39m json\u001B[38;5;241m.\u001B[39mload(f)\n",
      "\u001B[1;31mNameError\u001B[0m: name 'pd' is not defined"
     ]
    }
   ],
   "source": [
    "# Dateien laden\n",
    "df = pd.read_feather(data_export_directory / filename_dataset)\n",
    "\n",
    "with open(data_export_directory / filename_data_dict, \"r\", encoding=\"utf-8\") as f:\n",
    "    data_dict = json.load(f)"
   ],
   "metadata": {
    "collapsed": false,
    "ExecuteTime": {
     "end_time": "2025-04-06T10:19:49.514156500Z",
     "start_time": "2025-04-06T10:19:48.648985300Z"
    }
   }
  },
  {
   "cell_type": "markdown",
   "source": [
    "## ANALYSE: Explorative Datenanalyse"
   ],
   "metadata": {
    "collapsed": false
   }
  },
  {
   "cell_type": "code",
   "execution_count": null,
   "outputs": [],
   "source": [
    "# In DataFrame umwandeln\n",
    "data_dict_df= build_data_dict_df(data_dict)\n",
    "\n",
    "# In Markdown umwandeln und anzeigen\n",
    "md_text = data_dict_df.to_markdown(tablefmt=\"github\")\n",
    "display(Markdown(md_text))"
   ],
   "metadata": {
    "collapsed": false,
    "ExecuteTime": {
     "start_time": "2025-04-06T10:19:49.495994100Z"
    }
   }
  },
  {
   "cell_type": "code",
   "execution_count": null,
   "outputs": [],
   "source": [
    "df.head(10)"
   ],
   "metadata": {
    "collapsed": false,
    "ExecuteTime": {
     "start_time": "2025-04-06T10:19:49.495994100Z"
    }
   }
  },
  {
   "cell_type": "code",
   "execution_count": null,
   "outputs": [],
   "source": [
    "df.columns"
   ],
   "metadata": {
    "collapsed": false,
    "ExecuteTime": {
     "start_time": "2025-04-06T10:19:49.506058400Z"
    }
   }
  },
  {
   "cell_type": "markdown",
   "source": [
    "### COMBINED: Definition von Darstellungsstandards\n",
    "Festlegen von Farbcodes für einheitliche Darstellung von Sensoren und Behandlungsvarianten für alle nachfolgenden Plots."
   ],
   "metadata": {
    "collapsed": false
   }
  },
  {
   "cell_type": "code",
   "execution_count": null,
   "outputs": [],
   "source": [
    "color_palette = PLOT_MANAGER.color_palette_list\n",
    "\n",
    "# Für die Spalte \"treatment\":\n",
    "treatment_color_dict = get_color_dict(df, \"treatment\", PLOT_MANAGER.color_palette_list)\n",
    "# Für die Spalte \"sensor_name\":\n",
    "sensor_color_dict = get_color_dict(df, \"sensor_name\", PLOT_MANAGER.color_palette_list)"
   ],
   "metadata": {
    "collapsed": false,
    "ExecuteTime": {
     "start_time": "2025-04-06T10:19:49.506058400Z"
    }
   }
  },
  {
   "cell_type": "markdown",
   "source": [
    "### Spitzenlasten in der KS, maximale Messung Beispieldaten"
   ],
   "metadata": {
    "collapsed": false
   }
  },
  {
   "cell_type": "code",
   "execution_count": null,
   "outputs": [],
   "source": [
    "# Filtern der Einträge mit dem maximalen Wert in 'cable_max'\n",
    "max_cable_max = df['cable_max'].max()\n",
    "filtered_df = df[df['cable_max'] == max_cable_max]\n",
    "\n",
    "# Innerhalb der gefilterten Einträge den maximalen 'max_strain' finden\n",
    "max_value_row = filtered_df.loc[filtered_df['max_strain'].idxmax()]\n",
    "max_value_row"
   ],
   "metadata": {
    "collapsed": false,
    "ExecuteTime": {
     "start_time": "2025-04-06T10:19:49.506058400Z"
    }
   }
  },
  {
   "cell_type": "code",
   "execution_count": null,
   "outputs": [],
   "source": [
    "# Liste der gewünschten Spalten in der gewünschten Reihenfolge\n",
    "columns_to_display = [\n",
    "    'id', 'treatment', 'release_force_target', 'rope_release', \n",
    "    'cable_max', 'sensor_name', 'location', 'height', 'diameter', 'max_strain', 'max_compression'\n",
    "]\n",
    "\n",
    "# Zeile auf die gewünschten Spalten in der angegebenen Reihenfolge beschränken\n",
    "max_value_row_filtered = max_value_row[columns_to_display]\n",
    "\n",
    "max_value_row_filtered['treatment'] = slugify(max_value_row_filtered['treatment'])\n",
    "\n",
    "# Erstelle ein DataFrame mit den zusätzlichen Informationen aus `data_dict`\n",
    "expanded_data = []\n",
    "for col in columns_to_display:\n",
    "    expanded_data.append({\n",
    "        \"Zeichen\": data_dict[col][\"Zeichen\"],\n",
    "        \"Deutsch\": data_dict[col][\"Deutsch\"],\n",
    "        \"Wert\": max_value_row_filtered[col],\n",
    "        \"Einheit\": data_dict[col][\"Einheit\"],\n",
    "    })\n",
    "\n",
    "# Neues DataFrame erstellen\n",
    "expanded_df = pd.DataFrame(expanded_data)\n",
    "expanded_df"
   ],
   "metadata": {
    "collapsed": false,
    "ExecuteTime": {
     "start_time": "2025-04-06T10:19:49.506058400Z"
    }
   }
  },
  {
   "cell_type": "code",
   "execution_count": null,
   "outputs": [],
   "source": [
    "# LaTeX-String erstellen\n",
    "latex_string = expanded_df.to_latex(\n",
    "    index=False, \n",
    "    escape=False, \n",
    "    column_format=\"llrr\",  # Spaltenformat angepasst\n",
    "    float_format=\"{:0.2f}\".format\n",
    ")\n",
    "\n",
    "caption = \"Feldversuch 2 - Ergebnisse, Werte der Messung mit Spitzenlast\"\n",
    "caption_long = \"Feldversuch 2 - Ergebnisse, Messung mit der höchsten Kraftspitze in der KS (nur Werte des Elastometers mit max. Faserdehnung)\"\n",
    "\n",
    "save_latex_table(latex_string, caption, latex_export_directory, caption_long)"
   ],
   "metadata": {
    "collapsed": false,
    "ExecuteTime": {
     "start_time": "2025-04-06T10:19:49.514156500Z"
    }
   }
  }
 ],
 "metadata": {
  "kernelspec": {
   "display_name": "Python 3 (ipykernel)",
   "language": "python",
   "name": "python3"
  },
  "language_info": {
   "codemirror_mode": {
    "name": "ipython",
    "version": 3
   },
   "file_extension": ".py",
   "mimetype": "text/x-python",
   "name": "python",
   "nbconvert_exporter": "python",
   "pygments_lexer": "ipython3",
   "version": "3.11.2"
  }
 },
 "nbformat": 4,
 "nbformat_minor": 4
}
