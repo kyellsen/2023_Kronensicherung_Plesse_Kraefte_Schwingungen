{
 "cells": [
  {
   "cell_type": "markdown",
   "metadata": {},
   "source": [
    "---\n",
    "title: \"2023_Kronensicherung_Plesse_Analyse\"\n",
    "author: \"Kyell Jensen\"\n",
    "date: \"2024-08-06\"\n",
    "format: pdf\n",
    "editor: visual\n",
    "---"
   ]
  },
  {
   "cell_type": "markdown",
   "metadata": {
    "collapsed": false
   },
   "source": [
    "# 2023_Kronensicherung_Plesse_Analyse\n",
    "\n",
    "## Analyse der Schwingungsparameter\n",
    "\n",
    "Nutze eine geeignete Python 3.11 Umgebung (z. B. virtuelle Environment)."
   ]
  },
  {
   "cell_type": "markdown",
   "source": [
    "## Arbeitsumgebung vorbereiten\n"
   ],
   "metadata": {
    "collapsed": false
   }
  },
  {
   "cell_type": "markdown",
   "source": [
    "### IMPORT: Packages"
   ],
   "metadata": {
    "collapsed": false
   }
  },
  {
   "cell_type": "code",
   "execution_count": 1,
   "outputs": [],
   "source": [
    "# Struktur & Typen\n",
    "from pathlib import Path\n",
    "from typing import Dict, List\n",
    "\n",
    "# Datenverarbeitung\n",
    "import json\n",
    "import numpy as np\n",
    "import pandas as pd\n",
    "from pandas.api.types import CategoricalDtype\n",
    "from slugify import slugify  # Zum Vereinheitlichen von Strings\n",
    "\n",
    "# Plotting\n",
    "import matplotlib.pyplot as plt\n",
    "import seaborn as sns\n",
    "from IPython.display import Markdown, display\n",
    "\n",
    "# Statistik\n",
    "import scipy.stats as st\n",
    "import statsmodels.api as sm\n",
    "import statsmodels.formula.api as smf\n",
    "from statsmodels.stats.multicomp import pairwise_tukeyhsd"
   ],
   "metadata": {
    "collapsed": false,
    "ExecuteTime": {
     "end_time": "2025-08-26T13:56:50.846237600Z",
     "start_time": "2025-08-26T13:56:49.112547Z"
    }
   }
  },
  {
   "cell_type": "code",
   "execution_count": 2,
   "outputs": [],
   "source": [
    "# Eigene Module und Funktionen\n",
    "from kj_core.utils.latex_export import (\n",
    "    generate_latex_table,\n",
    "    generate_grouped_latex_tables,\n",
    "    save_latex_table,\n",
    "    build_data_dict_df,\n",
    "    grouped_describe\n",
    ")\n",
    "from kj_core.utils.labeling import (\n",
    "    get_label_from_dict,\n",
    "    get_color_dict\n",
    ")\n",
    "from kj_core import (\n",
    "    CoreConfig,\n",
    "    PlotManager,\n",
    "    get_logger\n",
    ")\n",
    "\n",
    "# Projekteinstellungen\n",
    "from project_config import (\n",
    "    working_directory,\n",
    "    data_export_directory,\n",
    "    latex_export_directory,\n",
    "    filename_clean_dataset,\n",
    "    filename_clean_data_dict\n",
    ")"
   ],
   "metadata": {
    "collapsed": false,
    "ExecuteTime": {
     "end_time": "2025-08-26T13:56:51.169373800Z",
     "start_time": "2025-08-26T13:56:49.831502500Z"
    }
   }
  },
  {
   "cell_type": "markdown",
   "source": [
    "### IMPORT: Manager Instanzen"
   ],
   "metadata": {
    "collapsed": false
   }
  },
  {
   "cell_type": "code",
   "execution_count": 3,
   "outputs": [
    {
     "name": "stderr",
     "output_type": "stream",
     "text": [
      "2025-08-26 15:56:50 [\u001B[93mWARNING\u001B[0m] kj_core.core_config.set_working_directory: The directory C:\\kyellsen\\005_Projekte\\2024_BA\\032_Feldversuch_2023_Plesse\\030_Analysen\\2023_Kronensicherung_Plesse_Kraefte_Schwingungen\\working_directory\\combined already exists.\n",
      "2025-08-26 15:56:50 [\u001B[92mINFO\u001B[0m] kj_core.core_config.set_working_directory: Working directory set to C:\\kyellsen\\005_Projekte\\2024_BA\\032_Feldversuch_2023_Plesse\\030_Analysen\\2023_Kronensicherung_Plesse_Kraefte_Schwingungen\\working_directory\\combined!\n",
      "2025-08-26 15:56:50 [\u001B[92mINFO\u001B[0m] kj_core.core_config.__init__: <CoreConfig>\n",
      "  Package:            kj_core\n",
      "  Working Directory:  C:\\kyellsen\\005_Projekte\\2024_BA\\032_Feldversuch_2023_Plesse\\030_Analysen\\2023_Kronensicherung_Plesse_Kraefte_Schwingungen\\working_directory\\combined\n",
      "  Plot Directory:     C:\\kyellsen\\005_Projekte\\2024_BA\\032_Feldversuch_2023_Plesse\\030_Analysen\\2023_Kronensicherung_Plesse_Kraefte_Schwingungen\\working_directory\\combined\\plots\n",
      "  Data Directory:     C:\\kyellsen\\005_Projekte\\2024_BA\\032_Feldversuch_2023_Plesse\\030_Analysen\\2023_Kronensicherung_Plesse_Kraefte_Schwingungen\\working_directory\\combined\\data\n",
      "  Database Directory: C:\\kyellsen\\005_Projekte\\2024_BA\\032_Feldversuch_2023_Plesse\\030_Analysen\\2023_Kronensicherung_Plesse_Kraefte_Schwingungen\\working_directory\\combined\\databases\n",
      " initialized! Code: 001\n",
      "2025-08-26 15:56:50 [\u001B[92mINFO\u001B[0m] kj_core.utils.plot_manager.__init__: <PlotManager>\n",
      "  Plot Directory:    C:\\kyellsen\\005_Projekte\\2024_BA\\032_Feldversuch_2023_Plesse\\030_Analysen\\2023_Kronensicherung_Plesse_Kraefte_Schwingungen\\working_directory\\combined\\plots\n",
      "  DPI:               300\n",
      "  Figure Size:       (8, 6)\n",
      "  Seaborn Style:     'whitegrid'\n",
      "  Color Palette:     'bright'\n",
      "  Grid Enabled:      True\n",
      "  Wide Format:       True\n",
      "  From Config:       CoreConfig\n",
      " initialized! Code: 005\n"
     ]
    }
   ],
   "source": [
    "logger = get_logger(__name__)\n",
    "CONFIG = CoreConfig(working_directory=f\"{working_directory}/combined\")\n",
    "PLOT_MANAGER = PlotManager(CONFIG)"
   ],
   "metadata": {
    "collapsed": false,
    "ExecuteTime": {
     "end_time": "2025-08-26T13:56:51.301071200Z",
     "start_time": "2025-08-26T13:56:50.283320600Z"
    }
   }
  },
  {
   "cell_type": "markdown",
   "metadata": {
    "collapsed": false
   },
   "source": [
    "## IMPORT: Daten Import"
   ]
  },
  {
   "cell_type": "code",
   "execution_count": 4,
   "outputs": [],
   "source": [
    "# Dateien laden\n",
    "df = pd.read_feather(data_export_directory / filename_clean_dataset)\n",
    "\n",
    "with open(data_export_directory / filename_clean_data_dict, \"r\", encoding=\"utf-8\") as f:\n",
    "    data_dict = json.load(f)"
   ],
   "metadata": {
    "collapsed": false,
    "ExecuteTime": {
     "end_time": "2025-08-26T13:56:51.313199900Z",
     "start_time": "2025-08-26T13:56:50.302252800Z"
    }
   }
  },
  {
   "cell_type": "markdown",
   "source": [
    "## ANALYSE: Explorative Datenanalyse"
   ],
   "metadata": {
    "collapsed": false
   }
  },
  {
   "cell_type": "code",
   "execution_count": 5,
   "outputs": [
    {
     "data": {
      "text/plain": "    id       rope_datetime treatment  release_force_target  rope_release  \\\n4    2 2022-03-23 11:24:23      free                   2.8       2.72310   \n5    2 2022-03-23 11:24:23      free                   2.8       2.72310   \n6    2 2022-03-23 11:24:23      free                   2.8       2.72310   \n7    2 2022-03-23 11:24:23      free                   2.8       2.72310   \n8    3 2022-03-23 11:31:12      free                   2.8       2.76205   \n9    3 2022-03-23 11:31:12      free                   2.8       2.76205   \n10   3 2022-03-23 11:31:12      free                   2.8       2.76205   \n11   3 2022-03-23 11:31:12      free                   2.8       2.76205   \n12   4 2022-03-23 11:54:33      free                   2.8       2.73950   \n13   4 2022-03-23 11:54:33      free                   2.8       2.73950   \n\n    cable_max_force  cable_integral sensor_name location   direction  ...  \\\n4               NaN             0.0  Elasto(90)      StB  elongation  ...   \n5               NaN             0.0  Elasto(92)      StB  elongation  ...   \n6               NaN             0.0  Elasto(95)      StA  elongation  ...   \n7               NaN             0.0  Elasto(98)      StA  elongation  ...   \n8               NaN             0.0  Elasto(90)      StB  elongation  ...   \n9               NaN             0.0  Elasto(92)      StB  elongation  ...   \n10              NaN             0.0  Elasto(95)      StA  elongation  ...   \n11              NaN             0.0  Elasto(98)      StA  elongation  ...   \n12              NaN             0.0  Elasto(90)      StB  elongation  ...   \n13              NaN             0.0  Elasto(92)      StB  elongation  ...   \n\n    frequency_damped  phase_angle    y_shift   x_shift  frequency_undamped  \\\n4           0.441518     0.200000  -5.287164  0.116641            0.442936   \n5           0.432441    -0.200000 -14.233644 -0.009730            0.436601   \n6           0.422702    -0.200000 -19.011309 -0.123043            0.426319   \n7           0.443529    -0.065967  -1.099515  0.118608            0.445993   \n8           0.440653     0.200000   7.775284  0.097887            0.441317   \n9           0.439321    -0.075771   7.052210  0.094719            0.441380   \n10          0.436023    -0.200000  -3.785755 -0.075741            0.438127   \n11          0.441350    -0.200000 -17.747289 -0.203345            0.442888   \n12          0.439065     0.200000 -23.445975  0.120929            0.439764   \n13          0.436850    -0.200000 -19.454720  0.061912            0.438829   \n\n    damping_ratio  metrics_warning  pearson_r     nrmse      nmae  \n4        0.503994            False   0.943158  0.038866  0.018011  \n5        0.873595            False   0.929554  0.034560  0.016183  \n6        0.823807            False   0.908058  0.044873  0.024274  \n7        0.663224            False   0.980663  0.029621  0.021087  \n8        0.344951            False   0.957380  0.043035  0.018619  \n9        0.608931            False   0.933463  0.043534  0.021255  \n10       0.618021            False   0.938307  0.039020  0.022498  \n11       0.525070            False   0.974139  0.028693  0.020715  \n12       0.354677            False   0.945320  0.049764  0.021509  \n13       0.598701            False   0.922665  0.050822  0.020659  \n\n[10 rows x 33 columns]",
      "text/html": "<div>\n<style scoped>\n    .dataframe tbody tr th:only-of-type {\n        vertical-align: middle;\n    }\n\n    .dataframe tbody tr th {\n        vertical-align: top;\n    }\n\n    .dataframe thead th {\n        text-align: right;\n    }\n</style>\n<table border=\"1\" class=\"dataframe\">\n  <thead>\n    <tr style=\"text-align: right;\">\n      <th></th>\n      <th>id</th>\n      <th>rope_datetime</th>\n      <th>treatment</th>\n      <th>release_force_target</th>\n      <th>rope_release</th>\n      <th>cable_max_force</th>\n      <th>cable_integral</th>\n      <th>sensor_name</th>\n      <th>location</th>\n      <th>direction</th>\n      <th>...</th>\n      <th>frequency_damped</th>\n      <th>phase_angle</th>\n      <th>y_shift</th>\n      <th>x_shift</th>\n      <th>frequency_undamped</th>\n      <th>damping_ratio</th>\n      <th>metrics_warning</th>\n      <th>pearson_r</th>\n      <th>nrmse</th>\n      <th>nmae</th>\n    </tr>\n  </thead>\n  <tbody>\n    <tr>\n      <th>4</th>\n      <td>2</td>\n      <td>2022-03-23 11:24:23</td>\n      <td>free</td>\n      <td>2.8</td>\n      <td>2.72310</td>\n      <td>NaN</td>\n      <td>0.0</td>\n      <td>Elasto(90)</td>\n      <td>StB</td>\n      <td>elongation</td>\n      <td>...</td>\n      <td>0.441518</td>\n      <td>0.200000</td>\n      <td>-5.287164</td>\n      <td>0.116641</td>\n      <td>0.442936</td>\n      <td>0.503994</td>\n      <td>False</td>\n      <td>0.943158</td>\n      <td>0.038866</td>\n      <td>0.018011</td>\n    </tr>\n    <tr>\n      <th>5</th>\n      <td>2</td>\n      <td>2022-03-23 11:24:23</td>\n      <td>free</td>\n      <td>2.8</td>\n      <td>2.72310</td>\n      <td>NaN</td>\n      <td>0.0</td>\n      <td>Elasto(92)</td>\n      <td>StB</td>\n      <td>elongation</td>\n      <td>...</td>\n      <td>0.432441</td>\n      <td>-0.200000</td>\n      <td>-14.233644</td>\n      <td>-0.009730</td>\n      <td>0.436601</td>\n      <td>0.873595</td>\n      <td>False</td>\n      <td>0.929554</td>\n      <td>0.034560</td>\n      <td>0.016183</td>\n    </tr>\n    <tr>\n      <th>6</th>\n      <td>2</td>\n      <td>2022-03-23 11:24:23</td>\n      <td>free</td>\n      <td>2.8</td>\n      <td>2.72310</td>\n      <td>NaN</td>\n      <td>0.0</td>\n      <td>Elasto(95)</td>\n      <td>StA</td>\n      <td>elongation</td>\n      <td>...</td>\n      <td>0.422702</td>\n      <td>-0.200000</td>\n      <td>-19.011309</td>\n      <td>-0.123043</td>\n      <td>0.426319</td>\n      <td>0.823807</td>\n      <td>False</td>\n      <td>0.908058</td>\n      <td>0.044873</td>\n      <td>0.024274</td>\n    </tr>\n    <tr>\n      <th>7</th>\n      <td>2</td>\n      <td>2022-03-23 11:24:23</td>\n      <td>free</td>\n      <td>2.8</td>\n      <td>2.72310</td>\n      <td>NaN</td>\n      <td>0.0</td>\n      <td>Elasto(98)</td>\n      <td>StA</td>\n      <td>elongation</td>\n      <td>...</td>\n      <td>0.443529</td>\n      <td>-0.065967</td>\n      <td>-1.099515</td>\n      <td>0.118608</td>\n      <td>0.445993</td>\n      <td>0.663224</td>\n      <td>False</td>\n      <td>0.980663</td>\n      <td>0.029621</td>\n      <td>0.021087</td>\n    </tr>\n    <tr>\n      <th>8</th>\n      <td>3</td>\n      <td>2022-03-23 11:31:12</td>\n      <td>free</td>\n      <td>2.8</td>\n      <td>2.76205</td>\n      <td>NaN</td>\n      <td>0.0</td>\n      <td>Elasto(90)</td>\n      <td>StB</td>\n      <td>elongation</td>\n      <td>...</td>\n      <td>0.440653</td>\n      <td>0.200000</td>\n      <td>7.775284</td>\n      <td>0.097887</td>\n      <td>0.441317</td>\n      <td>0.344951</td>\n      <td>False</td>\n      <td>0.957380</td>\n      <td>0.043035</td>\n      <td>0.018619</td>\n    </tr>\n    <tr>\n      <th>9</th>\n      <td>3</td>\n      <td>2022-03-23 11:31:12</td>\n      <td>free</td>\n      <td>2.8</td>\n      <td>2.76205</td>\n      <td>NaN</td>\n      <td>0.0</td>\n      <td>Elasto(92)</td>\n      <td>StB</td>\n      <td>elongation</td>\n      <td>...</td>\n      <td>0.439321</td>\n      <td>-0.075771</td>\n      <td>7.052210</td>\n      <td>0.094719</td>\n      <td>0.441380</td>\n      <td>0.608931</td>\n      <td>False</td>\n      <td>0.933463</td>\n      <td>0.043534</td>\n      <td>0.021255</td>\n    </tr>\n    <tr>\n      <th>10</th>\n      <td>3</td>\n      <td>2022-03-23 11:31:12</td>\n      <td>free</td>\n      <td>2.8</td>\n      <td>2.76205</td>\n      <td>NaN</td>\n      <td>0.0</td>\n      <td>Elasto(95)</td>\n      <td>StA</td>\n      <td>elongation</td>\n      <td>...</td>\n      <td>0.436023</td>\n      <td>-0.200000</td>\n      <td>-3.785755</td>\n      <td>-0.075741</td>\n      <td>0.438127</td>\n      <td>0.618021</td>\n      <td>False</td>\n      <td>0.938307</td>\n      <td>0.039020</td>\n      <td>0.022498</td>\n    </tr>\n    <tr>\n      <th>11</th>\n      <td>3</td>\n      <td>2022-03-23 11:31:12</td>\n      <td>free</td>\n      <td>2.8</td>\n      <td>2.76205</td>\n      <td>NaN</td>\n      <td>0.0</td>\n      <td>Elasto(98)</td>\n      <td>StA</td>\n      <td>elongation</td>\n      <td>...</td>\n      <td>0.441350</td>\n      <td>-0.200000</td>\n      <td>-17.747289</td>\n      <td>-0.203345</td>\n      <td>0.442888</td>\n      <td>0.525070</td>\n      <td>False</td>\n      <td>0.974139</td>\n      <td>0.028693</td>\n      <td>0.020715</td>\n    </tr>\n    <tr>\n      <th>12</th>\n      <td>4</td>\n      <td>2022-03-23 11:54:33</td>\n      <td>free</td>\n      <td>2.8</td>\n      <td>2.73950</td>\n      <td>NaN</td>\n      <td>0.0</td>\n      <td>Elasto(90)</td>\n      <td>StB</td>\n      <td>elongation</td>\n      <td>...</td>\n      <td>0.439065</td>\n      <td>0.200000</td>\n      <td>-23.445975</td>\n      <td>0.120929</td>\n      <td>0.439764</td>\n      <td>0.354677</td>\n      <td>False</td>\n      <td>0.945320</td>\n      <td>0.049764</td>\n      <td>0.021509</td>\n    </tr>\n    <tr>\n      <th>13</th>\n      <td>4</td>\n      <td>2022-03-23 11:54:33</td>\n      <td>free</td>\n      <td>2.8</td>\n      <td>2.73950</td>\n      <td>NaN</td>\n      <td>0.0</td>\n      <td>Elasto(92)</td>\n      <td>StB</td>\n      <td>elongation</td>\n      <td>...</td>\n      <td>0.436850</td>\n      <td>-0.200000</td>\n      <td>-19.454720</td>\n      <td>0.061912</td>\n      <td>0.438829</td>\n      <td>0.598701</td>\n      <td>False</td>\n      <td>0.922665</td>\n      <td>0.050822</td>\n      <td>0.020659</td>\n    </tr>\n  </tbody>\n</table>\n<p>10 rows × 33 columns</p>\n</div>"
     },
     "execution_count": 5,
     "metadata": {},
     "output_type": "execute_result"
    }
   ],
   "source": [
    "df.head(10)"
   ],
   "metadata": {
    "collapsed": false,
    "ExecuteTime": {
     "end_time": "2025-08-26T13:56:51.313199900Z",
     "start_time": "2025-08-26T13:56:50.354385500Z"
    }
   }
  },
  {
   "cell_type": "code",
   "execution_count": 6,
   "outputs": [
    {
     "data": {
      "text/plain": "Index(['id', 'rope_datetime', 'treatment', 'release_force_target',\n       'rope_release', 'cable_max_force', 'cable_integral', 'sensor_name',\n       'location', 'direction', 'height', 'diameter', 'max_strain',\n       'max_compression', 'integral_intercept', 'integral_positiv',\n       'integral_negativ', 'integral_abs', 'integral_ratio', 'm_amplitude',\n       'm_amplitude_2', 'initial_amplitude', 'damping_coeff',\n       'frequency_damped', 'phase_angle', 'y_shift', 'x_shift',\n       'frequency_undamped', 'damping_ratio', 'metrics_warning', 'pearson_r',\n       'nrmse', 'nmae'],\n      dtype='object')"
     },
     "execution_count": 6,
     "metadata": {},
     "output_type": "execute_result"
    }
   ],
   "source": [
    "df.columns"
   ],
   "metadata": {
    "collapsed": false,
    "ExecuteTime": {
     "end_time": "2025-08-26T13:56:51.313199900Z",
     "start_time": "2025-08-26T13:56:50.399004800Z"
    }
   }
  },
  {
   "cell_type": "markdown",
   "source": [
    "### SET: Definition von Darstellungsstandards\n",
    "Festlegen von Farbcodes für einheitliche Darstellung von Sensoren und Behandlungsvarianten für alle nachfolgenden Plots."
   ],
   "metadata": {
    "collapsed": false
   }
  },
  {
   "cell_type": "code",
   "execution_count": 7,
   "outputs": [
    {
     "name": "stdout",
     "output_type": "stream",
     "text": [
      "Index(['free', 'gefa_dynamic', 'cobra_static'], dtype='object')\n",
      "Index(['Elasto(90)', 'Elasto(92)', 'Elasto(95)', 'Elasto(98)'], dtype='object')\n"
     ]
    }
   ],
   "source": [
    "color_palette = PLOT_MANAGER.color_palette_list\n",
    "\n",
    "# Für die Spalte \"treatment\":\n",
    "treatment_color_dict = get_color_dict(df, \"treatment\", PLOT_MANAGER.color_palette_list)\n",
    "# Für die Spalte \"sensor_name\":\n",
    "sensor_color_dict = get_color_dict(df, \"sensor_name\", PLOT_MANAGER.color_palette_list)"
   ],
   "metadata": {
    "collapsed": false,
    "ExecuteTime": {
     "end_time": "2025-08-26T13:56:51.313199900Z",
     "start_time": "2025-08-26T13:56:50.409754100Z"
    }
   }
  },
  {
   "cell_type": "markdown",
   "source": [
    "### LATEX-EXPORT: Latex-Export von Daten für Anhang\n",
    "\n",
    "Exportiere Rohdaten der Schwingungsanalyse vollständig"
   ],
   "metadata": {
    "collapsed": false
   }
  },
  {
   "cell_type": "code",
   "execution_count": 8,
   "outputs": [
    {
     "name": "stdout",
     "output_type": "stream",
     "text": [
      "Content saved to: C:\\kyellsen\\005_Projekte\\2024_BA\\032_Feldversuch_2023_Plesse\\030_Analysen\\2023_Kronensicherung_Plesse_Kraefte_Schwingungen\\working_directory\\export_latex\\plesse_ergebnisse_schwingungsparameter_vollstandig.tex\n"
     ]
    }
   ],
   "source": [
    "variables = ['id', 'sensor_name', 'treatment', 'm_amplitude', 'm_amplitude_2', 'initial_amplitude', 'frequency_damped', 'frequency_undamped', 'damping_coeff', 'damping_ratio', 'y_shift', 'pearson_r', 'nmae']\n",
    "\n",
    "# DataFrame kopieren und die gewünschten Spalten auswählen\n",
    "df_latex = df.copy()[variables]\n",
    "\n",
    "# Spaltennamen mit den Kurzbezeichnungen (Zeichen) aus dem data_dict umbenennen\n",
    "df_latex = df_latex.rename(columns={var: data_dict[var][\"Zeichen\"] for var in variables})\n",
    "# Funktionsaufruf mit Beispielparametern\n",
    "generate_grouped_latex_tables(\n",
    "    df_latex=df_latex,\n",
    "    caption=\"Plesse - Ergebnisse, Schwingungsparameter vollständig\",\n",
    "    column_format=\"lrl|rrr|rr|rr|r|rr\",\n",
    "    group_by=\"treatment\",\n",
    "    latex_export_directory=latex_export_directory\n",
    ")"
   ],
   "metadata": {
    "collapsed": false,
    "ExecuteTime": {
     "end_time": "2025-08-26T13:56:51.338580900Z",
     "start_time": "2025-08-26T13:56:50.435529700Z"
    }
   }
  },
  {
   "cell_type": "markdown",
   "source": [
    "## SET: Definiere zu untersuchende Schwingungsparameter\n",
    "\n",
    "In diesem Abschnitt werden die Schwingungsparameter statistisch ausgewertet. Ziel ist es, den Einfluss verschiedener Behandlungsvarianten (treatment) auf die gemessenen Schwingungsparameter zu untersuchen und dabei auch den potenziellen Einfluss der Vorspannung (rope_release) und Sensorposition (sensor_name) zu berücksichtigen.\n"
   ],
   "metadata": {
    "collapsed": false
   }
  },
  {
   "cell_type": "code",
   "execution_count": 9,
   "metadata": {
    "collapsed": false,
    "ExecuteTime": {
     "end_time": "2025-08-26T13:56:51.338580900Z",
     "start_time": "2025-08-26T13:56:50.839628Z"
    }
   },
   "outputs": [],
   "source": [
    "variables = [\n",
    "    'max_strain',\n",
    "    'max_compression',\n",
    "    'm_amplitude', \n",
    "    'm_amplitude_2',\n",
    "    'initial_amplitude',\n",
    "    'frequency_damped', \n",
    "    'frequency_undamped',\n",
    "    'damping_coeff', \n",
    "    'damping_ratio', \n",
    "    #'phase_angle', \n",
    "    'y_shift', \n",
    "    #'x_shift',\n",
    "    'pearson_r',\n",
    "    #'nrmse', \n",
    "    'nmae',\n",
    "]\n",
    "\n",
    "add_variables = [\"id\", \"treatment\", \"rope_release\", \"cable_max_force\"]"
   ]
  },
  {
   "cell_type": "markdown",
   "source": [
    "## ANALYSE: Systematischer Einfluss der Sensorposition\n",
    "\n",
    "Ziel: Visuell erkennen, ob unterschiedliche Sensoren konsistent andere Werte liefern."
   ],
   "metadata": {
    "collapsed": false
   }
  },
  {
   "cell_type": "code",
   "execution_count": 10,
   "outputs": [],
   "source": [
    "# Plot erstellen\n",
    "for i, var in enumerate(variables):\n",
    "    fig = plt.figure(figsize=(8, 5))\n",
    "    sns.boxplot(x=\"sensor_name\", y=var, data=df, dodge=True)\n",
    "    # Titel und Achsentitel setzen\n",
    "    plt.title(f\"Einfluss der Sensoren auf {get_label_from_dict(var, data_dict, use_titel=True)}\")\n",
    "    plt.xlabel(\"Sensorname\")\n",
    "    plt.ylabel(get_label_from_dict(var, data_dict, use_full=True))\n",
    "    plt.tight_layout()\n",
    "    #plt.show()\n",
    "    PLOT_MANAGER.save_plot(fig, filename=f\"sensor_effect_{i}_{var}\", subdir=\"ptq_osc_sensor_effect_no_groups\")"
   ],
   "metadata": {
    "collapsed": false,
    "ExecuteTime": {
     "end_time": "2025-08-26T13:56:56.247726900Z",
     "start_time": "2025-08-26T13:56:50.848278100Z"
    }
   }
  },
  {
   "cell_type": "markdown",
   "source": [
    "Ziel: Feststellen, ob die Variation durch unterschiedliche Sensorpostion relativ zur behandlungsbedingten Variation relevant ist."
   ],
   "metadata": {
    "collapsed": false
   }
  },
  {
   "cell_type": "code",
   "execution_count": 11,
   "outputs": [],
   "source": [
    "# Plot erstellen\n",
    "for i, var in enumerate(variables):\n",
    "    fig = plt.figure(figsize=(8, 5))\n",
    "    sns.boxplot(x=\"sensor_name\", y=var, data=df, hue=\"treatment\", palette=treatment_color_dict,  dodge=True)\n",
    "    # Stripplot: Punkte zur Veranschaulichung der Verteilung\n",
    "    sns.stripplot(x=\"sensor_name\", y=var, data=df, hue=\"treatment\", palette=treatment_color_dict, dodge=True, alpha=1, jitter=True, size=5, legend=False)\n",
    "    # Titel und Achsentitel setzen\n",
    "    plt.title(f\"Einfluss der Behandlung auf {get_label_from_dict(var, data_dict, use_titel=True)} gruppiert über Sensoren\")\n",
    "    plt.xlabel(\"Sensorname\")\n",
    "    plt.ylabel(get_label_from_dict(var, data_dict, use_full=True))\n",
    "    plt.tight_layout()\n",
    "    #plt.show()\n",
    "    PLOT_MANAGER.save_plot(fig, filename=f\"sensor_effect_by_treatment_{i}_{var}\", subdir=\"ptq_osc_sensor_effect_by_treatment\")"
   ],
   "metadata": {
    "collapsed": false,
    "ExecuteTime": {
     "end_time": "2025-08-26T13:57:07.617334700Z",
     "start_time": "2025-08-26T13:56:55.936221700Z"
    }
   }
  },
  {
   "cell_type": "markdown",
   "source": [
    "Ziel: Feststellen, ob die Variation durch unterschiedliche Behandlungen relativ zur sensorbedingten Variation relevant ist."
   ],
   "metadata": {
    "collapsed": false
   }
  },
  {
   "cell_type": "code",
   "execution_count": 12,
   "outputs": [],
   "source": [
    "# Plot erstellen\n",
    "for i, var in enumerate(variables):\n",
    "    fig = plt.figure(figsize=(8, 5))\n",
    "    sns.boxplot(x=\"treatment\", y=var, data=df, palette=sensor_color_dict, hue='sensor_name')\n",
    "    sns.stripplot(x=\"treatment\", y=var, data=df, palette=sensor_color_dict, hue='sensor_name', dodge=True, alpha=1, jitter=True, size=5, legend=False)\n",
    "    plt.title(f\"Einfluss der Sensoren auf {get_label_from_dict(var, data_dict, use_titel=True)} gruppiert über Behandlung\")\n",
    "    plt.xlabel(\"Behandlungsvariante\")\n",
    "    plt.ylabel(get_label_from_dict(var, data_dict, use_full=True))\n",
    "    plt.tight_layout()\n",
    "    #plt.show()\n",
    "    PLOT_MANAGER.save_plot(fig, filename=f\"treatment_effect_by_sensor_{i}_{var}\", subdir=\"ptq_osc_treatment_effect_by_sensor\")"
   ],
   "metadata": {
    "collapsed": false,
    "ExecuteTime": {
     "end_time": "2025-08-26T13:57:18.304497200Z",
     "start_time": "2025-08-26T13:57:07.585189600Z"
    }
   }
  },
  {
   "cell_type": "markdown",
   "source": [
    "### ANALYSE: Effekt der Sensorposition innerhalb einer Beobachtung"
   ],
   "metadata": {
    "collapsed": false
   }
  },
  {
   "cell_type": "code",
   "execution_count": 13,
   "outputs": [
    {
     "data": {
      "text/plain": "            max_strain                                                       \\\n                 count        mean        std    min     25%    50%     75%   \nsensor_name                                                                   \nElasto(90)        27.0  360.955556  35.985417  310.2  331.45  354.7  384.15   \nElasto(92)        27.0  232.140741  29.171644  184.6  212.15  228.3  245.20   \nElasto(95)        27.0  218.670370  28.335922  155.3  199.75  216.9  237.00   \nElasto(98)        27.0  181.800000  26.336214  128.9  163.50  184.8  198.80   \n\n                   max_compression              ... pearson_r            nmae  \\\n               max           count        mean  ...       75%       max count   \nsensor_name                                     ...                             \nElasto(90)   429.6            27.0 -149.022222  ...  0.954331  0.972302  27.0   \nElasto(92)   291.5            27.0  -50.892593  ...  0.929332  0.935316  27.0   \nElasto(95)   266.3            27.0  -50.437037  ...  0.922548  0.941718  27.0   \nElasto(98)   234.6            27.0 -123.570370  ...  0.975588  0.987644  27.0   \n\n                                                                         \\\n                 mean       std       min       25%       50%       75%   \nsensor_name                                                               \nElasto(90)   0.021500  0.005037  0.014277  0.017918  0.021389  0.024024   \nElasto(92)   0.029160  0.006568  0.016183  0.025229  0.028271  0.033684   \nElasto(95)   0.033910  0.007446  0.022498  0.029312  0.032552  0.037804   \nElasto(98)   0.030302  0.009289  0.019387  0.021929  0.028730  0.036272   \n\n                       \n                  max  \nsensor_name            \nElasto(90)   0.033497  \nElasto(92)   0.041554  \nElasto(95)   0.050641  \nElasto(98)   0.054711  \n\n[4 rows x 96 columns]",
      "text/html": "<div>\n<style scoped>\n    .dataframe tbody tr th:only-of-type {\n        vertical-align: middle;\n    }\n\n    .dataframe tbody tr th {\n        vertical-align: top;\n    }\n\n    .dataframe thead tr th {\n        text-align: left;\n    }\n\n    .dataframe thead tr:last-of-type th {\n        text-align: right;\n    }\n</style>\n<table border=\"1\" class=\"dataframe\">\n  <thead>\n    <tr>\n      <th></th>\n      <th colspan=\"8\" halign=\"left\">max_strain</th>\n      <th colspan=\"2\" halign=\"left\">max_compression</th>\n      <th>...</th>\n      <th colspan=\"2\" halign=\"left\">pearson_r</th>\n      <th colspan=\"8\" halign=\"left\">nmae</th>\n    </tr>\n    <tr>\n      <th></th>\n      <th>count</th>\n      <th>mean</th>\n      <th>std</th>\n      <th>min</th>\n      <th>25%</th>\n      <th>50%</th>\n      <th>75%</th>\n      <th>max</th>\n      <th>count</th>\n      <th>mean</th>\n      <th>...</th>\n      <th>75%</th>\n      <th>max</th>\n      <th>count</th>\n      <th>mean</th>\n      <th>std</th>\n      <th>min</th>\n      <th>25%</th>\n      <th>50%</th>\n      <th>75%</th>\n      <th>max</th>\n    </tr>\n    <tr>\n      <th>sensor_name</th>\n      <th></th>\n      <th></th>\n      <th></th>\n      <th></th>\n      <th></th>\n      <th></th>\n      <th></th>\n      <th></th>\n      <th></th>\n      <th></th>\n      <th></th>\n      <th></th>\n      <th></th>\n      <th></th>\n      <th></th>\n      <th></th>\n      <th></th>\n      <th></th>\n      <th></th>\n      <th></th>\n      <th></th>\n    </tr>\n  </thead>\n  <tbody>\n    <tr>\n      <th>Elasto(90)</th>\n      <td>27.0</td>\n      <td>360.955556</td>\n      <td>35.985417</td>\n      <td>310.2</td>\n      <td>331.45</td>\n      <td>354.7</td>\n      <td>384.15</td>\n      <td>429.6</td>\n      <td>27.0</td>\n      <td>-149.022222</td>\n      <td>...</td>\n      <td>0.954331</td>\n      <td>0.972302</td>\n      <td>27.0</td>\n      <td>0.021500</td>\n      <td>0.005037</td>\n      <td>0.014277</td>\n      <td>0.017918</td>\n      <td>0.021389</td>\n      <td>0.024024</td>\n      <td>0.033497</td>\n    </tr>\n    <tr>\n      <th>Elasto(92)</th>\n      <td>27.0</td>\n      <td>232.140741</td>\n      <td>29.171644</td>\n      <td>184.6</td>\n      <td>212.15</td>\n      <td>228.3</td>\n      <td>245.20</td>\n      <td>291.5</td>\n      <td>27.0</td>\n      <td>-50.892593</td>\n      <td>...</td>\n      <td>0.929332</td>\n      <td>0.935316</td>\n      <td>27.0</td>\n      <td>0.029160</td>\n      <td>0.006568</td>\n      <td>0.016183</td>\n      <td>0.025229</td>\n      <td>0.028271</td>\n      <td>0.033684</td>\n      <td>0.041554</td>\n    </tr>\n    <tr>\n      <th>Elasto(95)</th>\n      <td>27.0</td>\n      <td>218.670370</td>\n      <td>28.335922</td>\n      <td>155.3</td>\n      <td>199.75</td>\n      <td>216.9</td>\n      <td>237.00</td>\n      <td>266.3</td>\n      <td>27.0</td>\n      <td>-50.437037</td>\n      <td>...</td>\n      <td>0.922548</td>\n      <td>0.941718</td>\n      <td>27.0</td>\n      <td>0.033910</td>\n      <td>0.007446</td>\n      <td>0.022498</td>\n      <td>0.029312</td>\n      <td>0.032552</td>\n      <td>0.037804</td>\n      <td>0.050641</td>\n    </tr>\n    <tr>\n      <th>Elasto(98)</th>\n      <td>27.0</td>\n      <td>181.800000</td>\n      <td>26.336214</td>\n      <td>128.9</td>\n      <td>163.50</td>\n      <td>184.8</td>\n      <td>198.80</td>\n      <td>234.6</td>\n      <td>27.0</td>\n      <td>-123.570370</td>\n      <td>...</td>\n      <td>0.975588</td>\n      <td>0.987644</td>\n      <td>27.0</td>\n      <td>0.030302</td>\n      <td>0.009289</td>\n      <td>0.019387</td>\n      <td>0.021929</td>\n      <td>0.028730</td>\n      <td>0.036272</td>\n      <td>0.054711</td>\n    </tr>\n  </tbody>\n</table>\n<p>4 rows × 96 columns</p>\n</div>"
     },
     "execution_count": 13,
     "metadata": {},
     "output_type": "execute_result"
    }
   ],
   "source": [
    "# 1. Deskriptive Statistiken pro Sensor\n",
    "summary_by_sensor = df.groupby('sensor_name', observed=False)[variables].describe()\n",
    "summary_by_sensor"
   ],
   "metadata": {
    "collapsed": false,
    "ExecuteTime": {
     "end_time": "2025-08-26T13:57:18.454764300Z",
     "start_time": "2025-08-26T13:57:18.304497200Z"
    }
   }
  },
  {
   "cell_type": "code",
   "execution_count": 14,
   "outputs": [
    {
     "name": "stdout",
     "output_type": "stream",
     "text": [
      "\n",
      "ANOVA-Tests für Unterschiede zwischen den Sensoren:\n",
      "\n",
      "ANOVA für max_strain:\n",
      "                       sum_sq     df           F        PR(>F)\n",
      "C(sensor_name)  492818.234352    3.0  180.397796  4.550338e-41\n",
      "Residual         94703.848148  104.0         NaN           NaN\n",
      "\n",
      "ANOVA für max_compression:\n",
      "                       sum_sq     df          F        PR(>F)\n",
      "C(sensor_name)  206732.324722    3.0  50.247393  3.723270e-20\n",
      "Residual        142628.704444  104.0        NaN           NaN\n",
      "\n",
      "ANOVA für m_amplitude:\n",
      "                       sum_sq     df           F        PR(>F)\n",
      "C(sensor_name)  285512.786759    3.0  150.310192  1.134409e-37\n",
      "Residual         65849.005370  104.0         NaN           NaN\n",
      "\n",
      "ANOVA für m_amplitude_2:\n",
      "                       sum_sq     df          F        PR(>F)\n",
      "C(sensor_name)  145674.651736    3.0  79.526795  8.219855e-27\n",
      "Residual         63501.296852  104.0        NaN           NaN\n",
      "\n",
      "ANOVA für initial_amplitude:\n",
      "                      sum_sq     df         F    PR(>F)\n",
      "C(sensor_name)   1157.983993    3.0  3.386893  0.020906\n",
      "Residual        11852.588192  104.0       NaN       NaN\n",
      "\n",
      "ANOVA für frequency_damped:\n",
      "                  sum_sq     df          F    PR(>F)\n",
      "C(sensor_name)  0.041456    3.0  10.626502  0.000004\n",
      "Residual        0.135242  104.0        NaN       NaN\n",
      "\n",
      "ANOVA für frequency_undamped:\n",
      "                  sum_sq     df         F   PR(>F)\n",
      "C(sensor_name)  0.023091    3.0  5.783485  0.00107\n",
      "Residual        0.138409  104.0       NaN      NaN\n",
      "\n",
      "ANOVA für damping_coeff:\n",
      "                  sum_sq     df          F        PR(>F)\n",
      "C(sensor_name)  2.382688    3.0  15.000312  3.488759e-08\n",
      "Residual        5.506543  104.0        NaN           NaN\n",
      "\n",
      "ANOVA für damping_ratio:\n",
      "                   sum_sq     df         F        PR(>F)\n",
      "C(sensor_name)  15.710229    3.0  17.58387  2.628181e-09\n",
      "Residual        30.972775  104.0       NaN           NaN\n",
      "\n",
      "ANOVA für y_shift:\n",
      "                      sum_sq     df         F   PR(>F)\n",
      "C(sensor_name)   1317.610425    3.0  1.729894  0.16543\n",
      "Residual        26404.596571  104.0       NaN      NaN\n",
      "\n",
      "ANOVA für pearson_r:\n",
      "                  sum_sq     df          F        PR(>F)\n",
      "C(sensor_name)  0.225056    3.0  15.082199  3.208072e-08\n",
      "Residual        0.517295  104.0        NaN           NaN\n",
      "\n",
      "ANOVA für nmae:\n",
      "                  sum_sq     df          F        PR(>F)\n",
      "C(sensor_name)  0.002208    3.0  13.999663  9.825849e-08\n",
      "Residual        0.005466  104.0        NaN           NaN\n"
     ]
    }
   ],
   "source": [
    "# 3. ANOVA: Teste, ob die Unterschiede zwischen den Sensoren signifikant sind\n",
    "print(\"\\nANOVA-Tests für Unterschiede zwischen den Sensoren:\")\n",
    "for var in variables:\n",
    "    # Fit eines linearen Modells mit sensor_name als Prädiktor\n",
    "    model = smf.ols(formula=f\"{var} ~ C(sensor_name)\", data=df).fit()\n",
    "    anova_table = sm.stats.anova_lm(model, typ=2)\n",
    "    print(f\"\\nANOVA für {var}:\")\n",
    "    print(anova_table)"
   ],
   "metadata": {
    "collapsed": false,
    "ExecuteTime": {
     "end_time": "2025-08-26T13:57:18.770068200Z",
     "start_time": "2025-08-26T13:57:18.440626400Z"
    }
   }
  },
  {
   "cell_type": "markdown",
   "source": [
    "#### ANAYLSE: Optimaler Ansatz: Versuche Mixed-Linear Model\n",
    "\n",
    "Die Daten sind hierarchisch: mehrere Messungen (vier Sensoren) pro Beobachtungseinheit (`id`). Ein Mixed-Effects Modell könnte diese Struktur abbilden, indem zufällige Effekte für `id` und feste Effekte für `treatment` sowie `sensor_name` berücksichtigt werden. Zusätzlich kann `rope_release` als Kovariate eingeführt werden. Dieser Ansatz wären theoretisch optimal, aber aufgrund der geringen Stichprobengröße und der komplexen Datenstruktur treten Konvergenzprobleme auf."
   ],
   "metadata": {
    "collapsed": false
   }
  },
  {
   "cell_type": "code",
   "execution_count": 15,
   "outputs": [
    {
     "name": "stdout",
     "output_type": "stream",
     "text": [
      "\n",
      "### Ergebnisse für max_strain:\n",
      "                    Mixed Linear Model Regression Results\n",
      "==============================================================================\n",
      "Model:                    MixedLM        Dependent Variable:        max_strain\n",
      "No. Observations:         108            Method:                    REML      \n",
      "No. Groups:               27             Scale:                     353.4447  \n",
      "Min. group size:          4              Log-Likelihood:            -461.3200 \n",
      "Max. group size:          4              Converged:                 Yes       \n",
      "Mean group size:          4.0                                                 \n",
      "------------------------------------------------------------------------------\n",
      "                              Coef.   Std.Err.    z    P>|z|  [0.025   0.975] \n",
      "------------------------------------------------------------------------------\n",
      "Intercept                     220.174   22.573   9.754 0.000  175.932  264.417\n",
      "C(treatment)[T.gefa_dynamic]    5.177    7.113   0.728 0.467   -8.765   19.119\n",
      "C(treatment)[T.cobra_static]  -13.986    7.113  -1.966 0.049  -27.927   -0.046\n",
      "C(sensor_name)[T.Elasto(92)] -128.815    5.117 -25.175 0.000 -138.843 -118.786\n",
      "C(sensor_name)[T.Elasto(95)] -142.285    5.117 -27.808 0.000 -152.314 -132.257\n",
      "C(sensor_name)[T.Elasto(98)] -179.156    5.117 -35.014 0.000 -189.184 -169.127\n",
      "rope_release                   60.599    9.235   6.562 0.000   42.499   78.699\n",
      "Group Var                     139.170    4.061                                \n",
      "==============================================================================\n",
      "\n",
      "\n",
      "\n",
      "\n",
      "### Ergebnisse für max_compression:\n",
      "                    Mixed Linear Model Regression Results\n",
      "=============================================================================\n",
      "Model:                  MixedLM      Dependent Variable:      max_compression\n",
      "No. Observations:       108          Method:                  REML           \n",
      "No. Groups:             27           Scale:                   540.8129       \n",
      "Min. group size:        4            Log-Likelihood:          -473.5589      \n",
      "Max. group size:        4            Converged:               Yes            \n",
      "Mean group size:        4.0                                                  \n",
      "-----------------------------------------------------------------------------\n",
      "                              Coef.   Std.Err.   z    P>|z|  [0.025   0.975] \n",
      "-----------------------------------------------------------------------------\n",
      "Intercept                    -149.614   18.904 -7.914 0.000 -186.665 -112.562\n",
      "C(treatment)[T.gefa_dynamic]   45.872    5.888  7.791 0.000   34.333   57.412\n",
      "C(treatment)[T.cobra_static]   66.908    5.887 11.365 0.000   55.370   78.446\n",
      "C(sensor_name)[T.Elasto(92)]   98.130    6.329 15.504 0.000   85.724  110.535\n",
      "C(sensor_name)[T.Elasto(95)]   98.585    6.329 15.576 0.000   86.180  110.990\n",
      "C(sensor_name)[T.Elasto(98)]   25.452    6.329  4.021 0.000   13.047   37.857\n",
      "rope_release                  -15.602    7.644 -2.041 0.041  -30.583   -0.621\n",
      "Group Var                      20.672    2.249                               \n",
      "=============================================================================\n"
     ]
    },
    {
     "name": "stderr",
     "output_type": "stream",
     "text": [
      "C:\\kyellsen\\006_Packages\\venv_Python311\\Lib\\site-packages\\statsmodels\\base\\model.py:607: ConvergenceWarning: Maximum Likelihood optimization failed to converge. Check mle_retvals\n",
      "  warnings.warn(\"Maximum Likelihood optimization failed to \"\n",
      "C:\\kyellsen\\006_Packages\\venv_Python311\\Lib\\site-packages\\statsmodels\\regression\\mixed_linear_model.py:2200: ConvergenceWarning: Retrying MixedLM optimization with lbfgs\n",
      "  warnings.warn(\n",
      "C:\\kyellsen\\006_Packages\\venv_Python311\\Lib\\site-packages\\statsmodels\\regression\\mixed_linear_model.py:2261: ConvergenceWarning: The Hessian matrix at the estimated parameter values is not positive definite.\n",
      "  warnings.warn(msg, ConvergenceWarning)\n"
     ]
    },
    {
     "name": "stdout",
     "output_type": "stream",
     "text": [
      "\n",
      "### Ergebnisse für m_amplitude:\n",
      "                    Mixed Linear Model Regression Results\n",
      "==============================================================================\n",
      "Model:                   MixedLM        Dependent Variable:        m_amplitude\n",
      "No. Observations:        108            Method:                    REML       \n",
      "No. Groups:              27             Scale:                     132.9901   \n",
      "Min. group size:         4              Log-Likelihood:            -401.0882  \n",
      "Max. group size:         4              Converged:                 Yes        \n",
      "Mean group size:         4.0                                                  \n",
      "------------------------------------------------------------------------------\n",
      "                              Coef.   Std.Err.    z    P>|z|  [0.025   0.975] \n",
      "------------------------------------------------------------------------------\n",
      "Intercept                     176.807    8.761  20.181 0.000  159.636  193.979\n",
      "C(treatment)[T.gefa_dynamic]  -22.747    2.720  -8.363 0.000  -28.078  -17.416\n",
      "C(treatment)[T.cobra_static]  -44.541    2.720 -16.377 0.000  -49.871  -39.210\n",
      "C(sensor_name)[T.Elasto(92)] -114.750    3.139 -36.560 0.000 -120.902 -108.598\n",
      "C(sensor_name)[T.Elasto(95)] -128.313    3.139 -40.882 0.000 -134.465 -122.161\n",
      "C(sensor_name)[T.Elasto(98)] -110.141    3.139 -35.092 0.000 -116.292 -103.989\n",
      "rope_release                   40.899    3.531  11.582 0.000   33.978   47.820\n",
      "Group Var                       0.020                                         \n",
      "==============================================================================\n"
     ]
    },
    {
     "name": "stderr",
     "output_type": "stream",
     "text": [
      "C:\\kyellsen\\006_Packages\\venv_Python311\\Lib\\site-packages\\statsmodels\\base\\model.py:607: ConvergenceWarning: Maximum Likelihood optimization failed to converge. Check mle_retvals\n",
      "  warnings.warn(\"Maximum Likelihood optimization failed to \"\n",
      "C:\\kyellsen\\006_Packages\\venv_Python311\\Lib\\site-packages\\statsmodels\\regression\\mixed_linear_model.py:2200: ConvergenceWarning: Retrying MixedLM optimization with lbfgs\n",
      "  warnings.warn(\n",
      "C:\\kyellsen\\006_Packages\\venv_Python311\\Lib\\site-packages\\statsmodels\\base\\model.py:607: ConvergenceWarning: Maximum Likelihood optimization failed to converge. Check mle_retvals\n",
      "  warnings.warn(\"Maximum Likelihood optimization failed to \"\n",
      "C:\\kyellsen\\006_Packages\\venv_Python311\\Lib\\site-packages\\statsmodels\\regression\\mixed_linear_model.py:2200: ConvergenceWarning: Retrying MixedLM optimization with cg\n",
      "  warnings.warn(\n",
      "C:\\kyellsen\\006_Packages\\venv_Python311\\Lib\\site-packages\\statsmodels\\base\\model.py:607: ConvergenceWarning: Maximum Likelihood optimization failed to converge. Check mle_retvals\n",
      "  warnings.warn(\"Maximum Likelihood optimization failed to \"\n",
      "C:\\kyellsen\\006_Packages\\venv_Python311\\Lib\\site-packages\\statsmodels\\regression\\mixed_linear_model.py:2206: ConvergenceWarning: MixedLM optimization failed, trying a different optimizer may help.\n",
      "  warnings.warn(msg, ConvergenceWarning)\n",
      "C:\\kyellsen\\006_Packages\\venv_Python311\\Lib\\site-packages\\statsmodels\\regression\\mixed_linear_model.py:2218: ConvergenceWarning: Gradient optimization failed, |grad| = 0.523281\n",
      "  warnings.warn(msg, ConvergenceWarning)\n",
      "C:\\kyellsen\\006_Packages\\venv_Python311\\Lib\\site-packages\\statsmodels\\regression\\mixed_linear_model.py:2261: ConvergenceWarning: The Hessian matrix at the estimated parameter values is not positive definite.\n",
      "  warnings.warn(msg, ConvergenceWarning)\n"
     ]
    },
    {
     "name": "stdout",
     "output_type": "stream",
     "text": [
      "\n",
      "### Ergebnisse für m_amplitude_2:\n",
      "                   Mixed Linear Model Regression Results\n",
      "===========================================================================\n",
      "Model:                  MixedLM      Dependent Variable:      m_amplitude_2\n",
      "No. Observations:       108          Method:                  REML         \n",
      "No. Groups:             27           Scale:                   180.6924     \n",
      "Min. group size:        4            Log-Likelihood:          -416.5641    \n",
      "Max. group size:        4            Converged:               No           \n",
      "Mean group size:        4.0                                                \n",
      "---------------------------------------------------------------------------\n",
      "                              Coef.  Std.Err.    z    P>|z|  [0.025  0.975]\n",
      "---------------------------------------------------------------------------\n",
      "Intercept                    126.698   10.211  12.408 0.000 106.685 146.711\n",
      "C(treatment)[T.gefa_dynamic] -22.014    3.170  -6.944 0.000 -28.227 -15.801\n",
      "C(treatment)[T.cobra_static] -49.446    3.170 -15.600 0.000 -55.659 -43.234\n",
      "C(sensor_name)[T.Elasto(92)] -85.970    3.659 -23.499 0.000 -93.141 -78.800\n",
      "C(sensor_name)[T.Elasto(95)] -77.700    3.659 -21.238 0.000 -84.871 -70.529\n",
      "C(sensor_name)[T.Elasto(98)] -19.983    3.659  -5.462 0.000 -27.154 -12.813\n",
      "rope_release                  11.476    4.115   2.789 0.005   3.410  19.542\n",
      "Group Var                      0.013                                       \n",
      "===========================================================================\n"
     ]
    },
    {
     "name": "stderr",
     "output_type": "stream",
     "text": [
      "C:\\kyellsen\\006_Packages\\venv_Python311\\Lib\\site-packages\\statsmodels\\base\\model.py:607: ConvergenceWarning: Maximum Likelihood optimization failed to converge. Check mle_retvals\n",
      "  warnings.warn(\"Maximum Likelihood optimization failed to \"\n",
      "C:\\kyellsen\\006_Packages\\venv_Python311\\Lib\\site-packages\\statsmodels\\regression\\mixed_linear_model.py:2200: ConvergenceWarning: Retrying MixedLM optimization with lbfgs\n",
      "  warnings.warn(\n"
     ]
    },
    {
     "name": "stdout",
     "output_type": "stream",
     "text": [
      "\n",
      "### Ergebnisse für initial_amplitude:\n",
      "                  Mixed Linear Model Regression Results\n",
      "==========================================================================\n",
      "Model:                 MixedLM    Dependent Variable:    initial_amplitude\n",
      "No. Observations:      108        Method:                REML             \n",
      "No. Groups:            27         Scale:                 107.3820         \n",
      "Min. group size:       4          Log-Likelihood:        -392.0669        \n",
      "Max. group size:       4          Converged:             Yes              \n",
      "Mean group size:       4.0                                                \n",
      "--------------------------------------------------------------------------\n",
      "                              Coef.  Std.Err.   z    P>|z|  [0.025  0.975]\n",
      "--------------------------------------------------------------------------\n",
      "Intercept                    172.524    8.477 20.353 0.000 155.910 189.138\n",
      "C(treatment)[T.gefa_dynamic]  -0.008    2.641 -0.003 0.998  -5.184   5.168\n",
      "C(treatment)[T.cobra_static]  -5.094    2.640 -1.929 0.054 -10.269   0.082\n",
      "C(sensor_name)[T.Elasto(92)]  -8.326    2.820 -2.952 0.003 -13.854  -2.799\n",
      "C(sensor_name)[T.Elasto(95)]  -7.675    2.820 -2.721 0.007 -13.202  -2.147\n",
      "C(sensor_name)[T.Elasto(98)]  -5.262    2.820 -1.866 0.062 -10.790   0.266\n",
      "rope_release                   1.802    3.428  0.526 0.599  -4.917   8.522\n",
      "Group Var                      4.512    1.215                             \n",
      "==========================================================================\n"
     ]
    },
    {
     "name": "stderr",
     "output_type": "stream",
     "text": [
      "C:\\kyellsen\\006_Packages\\venv_Python311\\Lib\\site-packages\\statsmodels\\base\\model.py:607: ConvergenceWarning: Maximum Likelihood optimization failed to converge. Check mle_retvals\n",
      "  warnings.warn(\"Maximum Likelihood optimization failed to \"\n",
      "C:\\kyellsen\\006_Packages\\venv_Python311\\Lib\\site-packages\\statsmodels\\regression\\mixed_linear_model.py:2200: ConvergenceWarning: Retrying MixedLM optimization with lbfgs\n",
      "  warnings.warn(\n",
      "C:\\kyellsen\\006_Packages\\venv_Python311\\Lib\\site-packages\\statsmodels\\regression\\mixed_linear_model.py:2237: ConvergenceWarning: The MLE may be on the boundary of the parameter space.\n",
      "  warnings.warn(msg, ConvergenceWarning)\n",
      "C:\\kyellsen\\006_Packages\\venv_Python311\\Lib\\site-packages\\statsmodels\\regression\\mixed_linear_model.py:2261: ConvergenceWarning: The Hessian matrix at the estimated parameter values is not positive definite.\n",
      "  warnings.warn(msg, ConvergenceWarning)\n"
     ]
    },
    {
     "name": "stdout",
     "output_type": "stream",
     "text": [
      "\n",
      "### Ergebnisse für frequency_damped:\n",
      "                 Mixed Linear Model Regression Results\n",
      "=======================================================================\n",
      "Model:               MixedLM    Dependent Variable:    frequency_damped\n",
      "No. Observations:    108        Method:                REML            \n",
      "No. Groups:          27         Scale:                 0.0009          \n",
      "Min. group size:     4          Log-Likelihood:        197.8822        \n",
      "Max. group size:     4          Converged:             Yes             \n",
      "Mean group size:     4.0                                               \n",
      "-----------------------------------------------------------------------\n",
      "                             Coef.  Std.Err.   z    P>|z| [0.025 0.975]\n",
      "-----------------------------------------------------------------------\n",
      "Intercept                     0.441    0.023 18.947 0.000  0.395  0.487\n",
      "C(treatment)[T.gefa_dynamic]  0.014    0.007  1.968 0.049  0.000  0.028\n",
      "C(treatment)[T.cobra_static]  0.046    0.007  6.357 0.000  0.032  0.060\n",
      "C(sensor_name)[T.Elasto(92)] -0.046    0.008 -5.463 0.000 -0.062 -0.029\n",
      "C(sensor_name)[T.Elasto(95)] -0.030    0.008 -3.640 0.000 -0.047 -0.014\n",
      "C(sensor_name)[T.Elasto(98)] -0.001    0.008 -0.069 0.945 -0.017  0.016\n",
      "rope_release                  0.006    0.009  0.650 0.515 -0.012  0.024\n",
      "Group Var                     0.000                                    \n",
      "=======================================================================\n"
     ]
    },
    {
     "name": "stderr",
     "output_type": "stream",
     "text": [
      "C:\\kyellsen\\006_Packages\\venv_Python311\\Lib\\site-packages\\statsmodels\\base\\model.py:607: ConvergenceWarning: Maximum Likelihood optimization failed to converge. Check mle_retvals\n",
      "  warnings.warn(\"Maximum Likelihood optimization failed to \"\n",
      "C:\\kyellsen\\006_Packages\\venv_Python311\\Lib\\site-packages\\statsmodels\\regression\\mixed_linear_model.py:2200: ConvergenceWarning: Retrying MixedLM optimization with lbfgs\n",
      "  warnings.warn(\n",
      "C:\\kyellsen\\006_Packages\\venv_Python311\\Lib\\site-packages\\statsmodels\\regression\\mixed_linear_model.py:2237: ConvergenceWarning: The MLE may be on the boundary of the parameter space.\n",
      "  warnings.warn(msg, ConvergenceWarning)\n"
     ]
    },
    {
     "name": "stdout",
     "output_type": "stream",
     "text": [
      "\n",
      "### Ergebnisse für frequency_undamped:\n",
      "                 Mixed Linear Model Regression Results\n",
      "=======================================================================\n",
      "Model:               MixedLM   Dependent Variable:   frequency_undamped\n",
      "No. Observations:    108       Method:               REML              \n",
      "No. Groups:          27        Scale:                0.0007            \n",
      "Min. group size:     4         Log-Likelihood:       215.2019          \n",
      "Max. group size:     4         Converged:            Yes               \n",
      "Mean group size:     4.0                                               \n",
      "-----------------------------------------------------------------------\n",
      "                             Coef.  Std.Err.   z    P>|z| [0.025 0.975]\n",
      "-----------------------------------------------------------------------\n",
      "Intercept                     0.438    0.020 22.335 0.000  0.400  0.476\n",
      "C(treatment)[T.gefa_dynamic]  0.016    0.006  2.641 0.008  0.004  0.028\n",
      "C(treatment)[T.cobra_static]  0.060    0.006  9.927 0.000  0.048  0.072\n",
      "C(sensor_name)[T.Elasto(92)] -0.034    0.007 -4.892 0.000 -0.048 -0.021\n",
      "C(sensor_name)[T.Elasto(95)] -0.021    0.007 -2.979 0.003 -0.035 -0.007\n",
      "C(sensor_name)[T.Elasto(98)]  0.000    0.007  0.000 1.000 -0.014  0.014\n",
      "rope_release                  0.006    0.008  0.757 0.449 -0.010  0.021\n",
      "Group Var                     0.000    0.009                           \n",
      "=======================================================================\n"
     ]
    },
    {
     "name": "stderr",
     "output_type": "stream",
     "text": [
      "C:\\kyellsen\\006_Packages\\venv_Python311\\Lib\\site-packages\\statsmodels\\base\\model.py:607: ConvergenceWarning: Maximum Likelihood optimization failed to converge. Check mle_retvals\n",
      "  warnings.warn(\"Maximum Likelihood optimization failed to \"\n",
      "C:\\kyellsen\\006_Packages\\venv_Python311\\Lib\\site-packages\\statsmodels\\regression\\mixed_linear_model.py:2200: ConvergenceWarning: Retrying MixedLM optimization with lbfgs\n",
      "  warnings.warn(\n",
      "C:\\kyellsen\\006_Packages\\venv_Python311\\Lib\\site-packages\\statsmodels\\base\\model.py:607: ConvergenceWarning: Maximum Likelihood optimization failed to converge. Check mle_retvals\n",
      "  warnings.warn(\"Maximum Likelihood optimization failed to \"\n",
      "C:\\kyellsen\\006_Packages\\venv_Python311\\Lib\\site-packages\\statsmodels\\regression\\mixed_linear_model.py:2200: ConvergenceWarning: Retrying MixedLM optimization with cg\n",
      "  warnings.warn(\n",
      "C:\\kyellsen\\006_Packages\\venv_Python311\\Lib\\site-packages\\statsmodels\\base\\model.py:607: ConvergenceWarning: Maximum Likelihood optimization failed to converge. Check mle_retvals\n",
      "  warnings.warn(\"Maximum Likelihood optimization failed to \"\n",
      "C:\\kyellsen\\006_Packages\\venv_Python311\\Lib\\site-packages\\statsmodels\\regression\\mixed_linear_model.py:2206: ConvergenceWarning: MixedLM optimization failed, trying a different optimizer may help.\n",
      "  warnings.warn(msg, ConvergenceWarning)\n",
      "C:\\kyellsen\\006_Packages\\venv_Python311\\Lib\\site-packages\\statsmodels\\regression\\mixed_linear_model.py:2218: ConvergenceWarning: Gradient optimization failed, |grad| = 0.260099\n",
      "  warnings.warn(msg, ConvergenceWarning)\n",
      "C:\\kyellsen\\006_Packages\\venv_Python311\\Lib\\site-packages\\statsmodels\\regression\\mixed_linear_model.py:2237: ConvergenceWarning: The MLE may be on the boundary of the parameter space.\n",
      "  warnings.warn(msg, ConvergenceWarning)\n",
      "C:\\kyellsen\\006_Packages\\venv_Python311\\Lib\\site-packages\\statsmodels\\regression\\mixed_linear_model.py:2261: ConvergenceWarning: The Hessian matrix at the estimated parameter values is not positive definite.\n",
      "  warnings.warn(msg, ConvergenceWarning)\n"
     ]
    },
    {
     "name": "stdout",
     "output_type": "stream",
     "text": [
      "\n",
      "### Ergebnisse für damping_coeff:\n",
      "                 Mixed Linear Model Regression Results\n",
      "=======================================================================\n",
      "Model:                MixedLM     Dependent Variable:     damping_coeff\n",
      "No. Observations:     108         Method:                 REML         \n",
      "No. Groups:           27          Scale:                  0.0137       \n",
      "Min. group size:      4           Log-Likelihood:         62.4633      \n",
      "Max. group size:      4           Converged:              No           \n",
      "Mean group size:      4.0                                              \n",
      "-----------------------------------------------------------------------\n",
      "                             Coef.  Std.Err.   z    P>|z| [0.025 0.975]\n",
      "-----------------------------------------------------------------------\n",
      "Intercept                     0.093    0.089  1.046 0.296 -0.081  0.267\n",
      "C(treatment)[T.gefa_dynamic]  0.102    0.028  3.679 0.000  0.047  0.156\n",
      "C(treatment)[T.cobra_static]  0.456    0.028 16.503 0.000  0.402  0.510\n",
      "C(sensor_name)[T.Elasto(92)]  0.327    0.032 10.256 0.000  0.264  0.389\n",
      "C(sensor_name)[T.Elasto(95)]  0.302    0.032  9.478 0.000  0.240  0.365\n",
      "C(sensor_name)[T.Elasto(98)]  0.039    0.032  1.209 0.227 -0.024  0.101\n",
      "rope_release                 -0.005    0.036 -0.138 0.890 -0.075  0.065\n",
      "Group Var                     0.000                                    \n",
      "=======================================================================\n"
     ]
    },
    {
     "name": "stderr",
     "output_type": "stream",
     "text": [
      "C:\\kyellsen\\006_Packages\\venv_Python311\\Lib\\site-packages\\statsmodels\\base\\model.py:607: ConvergenceWarning: Maximum Likelihood optimization failed to converge. Check mle_retvals\n",
      "  warnings.warn(\"Maximum Likelihood optimization failed to \"\n",
      "C:\\kyellsen\\006_Packages\\venv_Python311\\Lib\\site-packages\\statsmodels\\regression\\mixed_linear_model.py:2200: ConvergenceWarning: Retrying MixedLM optimization with lbfgs\n",
      "  warnings.warn(\n",
      "C:\\kyellsen\\006_Packages\\venv_Python311\\Lib\\site-packages\\statsmodels\\regression\\mixed_linear_model.py:2237: ConvergenceWarning: The MLE may be on the boundary of the parameter space.\n",
      "  warnings.warn(msg, ConvergenceWarning)\n",
      "C:\\kyellsen\\006_Packages\\venv_Python311\\Lib\\site-packages\\statsmodels\\regression\\mixed_linear_model.py:2261: ConvergenceWarning: The Hessian matrix at the estimated parameter values is not positive definite.\n",
      "  warnings.warn(msg, ConvergenceWarning)\n"
     ]
    },
    {
     "name": "stdout",
     "output_type": "stream",
     "text": [
      "\n",
      "### Ergebnisse für damping_ratio:\n",
      "                 Mixed Linear Model Regression Results\n",
      "=======================================================================\n",
      "Model:                MixedLM     Dependent Variable:     damping_ratio\n",
      "No. Observations:     108         Method:                 REML         \n",
      "No. Groups:           27          Scale:                  0.1131       \n",
      "Min. group size:      4           Log-Likelihood:         -44.0830     \n",
      "Max. group size:      4           Converged:              Yes          \n",
      "Mean group size:      4.0                                              \n",
      "-----------------------------------------------------------------------\n",
      "                             Coef.  Std.Err.   z    P>|z| [0.025 0.975]\n",
      "-----------------------------------------------------------------------\n",
      "Intercept                     0.181    0.256  0.709 0.479 -0.320  0.682\n",
      "C(treatment)[T.gefa_dynamic]  0.208    0.079  2.617 0.009  0.052  0.363\n",
      "C(treatment)[T.cobra_static]  0.988    0.079 12.460 0.000  0.833  1.144\n",
      "C(sensor_name)[T.Elasto(92)]  0.871    0.092  9.511 0.000  0.691  1.050\n",
      "C(sensor_name)[T.Elasto(95)]  0.717    0.092  7.827 0.000  0.537  0.896\n",
      "C(sensor_name)[T.Elasto(98)]  0.082    0.092  0.893 0.372 -0.098  0.261\n",
      "rope_release                 -0.012    0.103 -0.117 0.907 -0.214  0.190\n",
      "Group Var                     0.000                                    \n",
      "=======================================================================\n",
      "\n",
      "\n",
      "\n",
      "\n",
      "### Ergebnisse für y_shift:\n",
      "                  Mixed Linear Model Regression Results\n",
      "=========================================================================\n",
      "Model:                  MixedLM       Dependent Variable:       y_shift  \n",
      "No. Observations:       108           Method:                   REML     \n",
      "No. Groups:             27            Scale:                    166.9141 \n",
      "Min. group size:        4             Log-Likelihood:           -423.1612\n",
      "Max. group size:        4             Converged:                Yes      \n",
      "Mean group size:        4.0                                              \n",
      "-------------------------------------------------------------------------\n",
      "                              Coef.  Std.Err.   z    P>|z|  [0.025 0.975]\n",
      "-------------------------------------------------------------------------\n",
      "Intercept                    -11.966   15.334 -0.780 0.435 -42.020 18.088\n",
      "C(treatment)[T.gefa_dynamic]  11.919    4.831  2.467 0.014   2.450 21.388\n",
      "C(treatment)[T.cobra_static]  12.890    4.830  2.669 0.008   3.423 22.358\n",
      "C(sensor_name)[T.Elasto(92)]   0.913    3.516  0.260 0.795  -5.979  7.805\n",
      "C(sensor_name)[T.Elasto(95)]   3.636    3.516  1.034 0.301  -3.255 10.528\n",
      "C(sensor_name)[T.Elasto(98)]   8.968    3.516  2.550 0.011   2.076 15.860\n",
      "rope_release                  -2.008    6.272 -0.320 0.749 -14.301 10.284\n",
      "Group Var                     63.217    2.726                            \n",
      "=========================================================================\n",
      "\n"
     ]
    },
    {
     "name": "stderr",
     "output_type": "stream",
     "text": [
      "C:\\kyellsen\\006_Packages\\venv_Python311\\Lib\\site-packages\\statsmodels\\base\\model.py:607: ConvergenceWarning: Maximum Likelihood optimization failed to converge. Check mle_retvals\n",
      "  warnings.warn(\"Maximum Likelihood optimization failed to \"\n",
      "C:\\kyellsen\\006_Packages\\venv_Python311\\Lib\\site-packages\\statsmodels\\regression\\mixed_linear_model.py:2200: ConvergenceWarning: Retrying MixedLM optimization with lbfgs\n",
      "  warnings.warn(\n",
      "C:\\kyellsen\\006_Packages\\venv_Python311\\Lib\\site-packages\\statsmodels\\base\\model.py:607: ConvergenceWarning: Maximum Likelihood optimization failed to converge. Check mle_retvals\n",
      "  warnings.warn(\"Maximum Likelihood optimization failed to \"\n",
      "C:\\kyellsen\\006_Packages\\venv_Python311\\Lib\\site-packages\\statsmodels\\regression\\mixed_linear_model.py:2200: ConvergenceWarning: Retrying MixedLM optimization with cg\n",
      "  warnings.warn(\n"
     ]
    },
    {
     "name": "stdout",
     "output_type": "stream",
     "text": [
      "\n",
      "### Ergebnisse für pearson_r:\n",
      "                 Mixed Linear Model Regression Results\n",
      "=======================================================================\n",
      "Model:                  MixedLM      Dependent Variable:      pearson_r\n",
      "No. Observations:       108          Method:                  REML     \n",
      "No. Groups:             27           Scale:                   0.0028   \n",
      "Min. group size:        4            Log-Likelihood:          141.9717 \n",
      "Max. group size:        4            Converged:               No       \n",
      "Mean group size:        4.0                                            \n",
      "-----------------------------------------------------------------------\n",
      "                             Coef.  Std.Err.   z    P>|z| [0.025 0.975]\n",
      "-----------------------------------------------------------------------\n",
      "Intercept                     1.010    0.040 24.950 0.000  0.931  1.090\n",
      "C(treatment)[T.gefa_dynamic] -0.067    0.013 -5.296 0.000 -0.091 -0.042\n",
      "C(treatment)[T.cobra_static] -0.112    0.013 -8.901 0.000 -0.137 -0.087\n",
      "C(sensor_name)[T.Elasto(92)] -0.080    0.015 -5.528 0.000 -0.109 -0.052\n",
      "C(sensor_name)[T.Elasto(95)] -0.078    0.015 -5.342 0.000 -0.106 -0.049\n",
      "C(sensor_name)[T.Elasto(98)]  0.022    0.015  1.526 0.127 -0.006  0.051\n",
      "rope_release                 -0.011    0.016 -0.679 0.497 -0.043  0.021\n",
      "Group Var                     0.000                                    \n",
      "=======================================================================\n",
      "\n",
      "\n",
      "\n",
      "\n",
      "### Ergebnisse für nmae:\n",
      "                Mixed Linear Model Regression Results\n",
      "======================================================================\n",
      "Model:                  MixedLM      Dependent Variable:      nmae    \n",
      "No. Observations:       108          Method:                  REML    \n",
      "No. Groups:             27           Scale:                   0.0000  \n",
      "Min. group size:        4            Log-Likelihood:          374.7062\n",
      "Max. group size:        4            Converged:               Yes     \n",
      "Mean group size:        4.0                                           \n",
      "----------------------------------------------------------------------\n",
      "                             Coef. Std.Err.   z    P>|z| [0.025 0.975]\n",
      "----------------------------------------------------------------------\n",
      "Intercept                    0.016    0.007  2.234 0.025  0.002  0.029\n",
      "C(treatment)[T.gefa_dynamic] 0.010    0.002  4.423 0.000  0.005  0.014\n",
      "C(treatment)[T.cobra_static] 0.008    0.002  3.456 0.001  0.003  0.012\n",
      "C(sensor_name)[T.Elasto(92)] 0.008    0.001  6.239 0.000  0.005  0.010\n",
      "C(sensor_name)[T.Elasto(95)] 0.012    0.001 10.107 0.000  0.010  0.015\n",
      "C(sensor_name)[T.Elasto(98)] 0.009    0.001  7.169 0.000  0.006  0.011\n",
      "rope_release                 0.000    0.003  0.030 0.976 -0.006  0.006\n",
      "Group Var                    0.000    0.002                           \n",
      "======================================================================\n",
      "\n",
      "\n"
     ]
    },
    {
     "name": "stderr",
     "output_type": "stream",
     "text": [
      "C:\\kyellsen\\006_Packages\\venv_Python311\\Lib\\site-packages\\statsmodels\\base\\model.py:607: ConvergenceWarning: Maximum Likelihood optimization failed to converge. Check mle_retvals\n",
      "  warnings.warn(\"Maximum Likelihood optimization failed to \"\n",
      "C:\\kyellsen\\006_Packages\\venv_Python311\\Lib\\site-packages\\statsmodels\\regression\\mixed_linear_model.py:2206: ConvergenceWarning: MixedLM optimization failed, trying a different optimizer may help.\n",
      "  warnings.warn(msg, ConvergenceWarning)\n",
      "C:\\kyellsen\\006_Packages\\venv_Python311\\Lib\\site-packages\\statsmodels\\regression\\mixed_linear_model.py:2218: ConvergenceWarning: Gradient optimization failed, |grad| = 0.536368\n",
      "  warnings.warn(msg, ConvergenceWarning)\n",
      "C:\\kyellsen\\006_Packages\\venv_Python311\\Lib\\site-packages\\statsmodels\\regression\\mixed_linear_model.py:2237: ConvergenceWarning: The MLE may be on the boundary of the parameter space.\n",
      "  warnings.warn(msg, ConvergenceWarning)\n",
      "C:\\kyellsen\\006_Packages\\venv_Python311\\Lib\\site-packages\\statsmodels\\regression\\mixed_linear_model.py:2261: ConvergenceWarning: The Hessian matrix at the estimated parameter values is not positive definite.\n",
      "  warnings.warn(msg, ConvergenceWarning)\n",
      "C:\\kyellsen\\006_Packages\\venv_Python311\\Lib\\site-packages\\statsmodels\\regression\\mixed_linear_model.py:2237: ConvergenceWarning: The MLE may be on the boundary of the parameter space.\n",
      "  warnings.warn(msg, ConvergenceWarning)\n"
     ]
    }
   ],
   "source": [
    "# Ergebnisse als Dictionary speichern\n",
    "results_dict = {}\n",
    "\n",
    "for var in variables:\n",
    "    model = smf.mixedlm(\n",
    "        f\"{var} ~ C(treatment) + C(sensor_name) + rope_release\", \n",
    "        data=df, \n",
    "        groups=df[\"id\"]\n",
    "    )\n",
    "    result = model.fit()\n",
    "    print(f\"\\n### Ergebnisse für {var}:\")\n",
    "    print(result.summary())\n",
    "    print(\"\\n\")"
   ],
   "metadata": {
    "collapsed": false,
    "ExecuteTime": {
     "end_time": "2025-08-26T13:57:29.389276Z",
     "start_time": "2025-08-26T13:57:18.606328100Z"
    }
   }
  },
  {
   "cell_type": "markdown",
   "source": [
    "Um dennoch aussagekräftige Ergebnisse zu erhalten, wird ein zweistufiges Verfahren genutzt.\n",
    "Zwei Varianten:\n",
    "- Mittlung über alle Sensoren innerhalb eine Beobachtung. Die Variation zwischen den Sensoren bleibt unberücksichtigt und verfälscht ggf. die Ergebnisse. Vorteil: Sehr einfach und stabil\n",
    "- Werte um Sensor-Effekt manuell adjustieren und dann aggregieren wie zuvor. Vorteile: Sensoren verfälschen nicht die Ergebnisse. Nachteil ist die höhere Komplexität und das die Gesamtvariation der Modell am ende verfälsch ist."
   ],
   "metadata": {
    "collapsed": false
   }
  },
  {
   "cell_type": "markdown",
   "source": [
    "#### ANALYSE Alternative 1: Vereinfachtes Vorgehen durch Aggregation (Mittelwert)\n",
    "\n",
    "Eine andere mögliche Vorgehensweise wäre gewesen, die systematischen Sensor‑Effekte mithilfe eines Regressionsmodells (z. B. OLS mit Summenkontrasten) zu schätzen und die Rohwerte über die Modell‑Residuen zu korrigieren. Da in unserem vollständig balancierten Design jedoch jeder der vier Sensoren pro ID genau einmal vorliegt und der Sensor‑Einfluss rein additiv ist, hebeln sich additive Sensor‑Offsets beim einfachen Mittel komplett aus. Eine vorerst verwendete Regressionskorrektur bringt hier keinen Informationsgewinn und kann entfallen."
   ],
   "metadata": {
    "collapsed": false
   }
  },
  {
   "cell_type": "code",
   "execution_count": 16,
   "outputs": [
    {
     "data": {
      "text/plain": "              id  rope_release  cable_max_force  max_strain  max_compression  \\\ncount  27.000000     27.000000        18.000000   27.000000        27.000000   \nmean   15.000000      2.371609         1.937778  248.391667       -93.480556   \nstd     7.937254      0.320477         0.799541   25.407331        31.077756   \nmin     2.000000      1.946800         1.010000  204.125000      -144.950000   \n25%     8.500000      2.012975         1.160000  232.437500      -125.262500   \n50%    15.000000      2.356550         1.890000  244.750000       -80.800000   \n75%    21.500000      2.748225         2.717500  262.400000       -73.425000   \nmax    28.000000      2.780700         3.090000  297.150000       -43.775000   \n\n       m_amplitude  m_amplitude_2  initial_amplitude  frequency_damped  \\\ncount    27.000000      27.000000          27.000000         27.000000   \nmean    163.073148      84.181019         169.782102          0.456529   \nstd      22.737134      21.178032           5.469971          0.022027   \nmin     124.700000      50.825000         164.414861          0.435009   \n25%     148.368750      61.868750         166.161477          0.437784   \n50%     162.850000      87.362500         169.854061          0.450018   \n75%     181.712500     102.618750         170.241598          0.466431   \nmax     204.950000     115.737500         189.345841          0.508053   \n\n       frequency_undamped  damping_coeff  damping_ratio    y_shift  pearson_r  \\\ncount           27.000000      27.000000      27.000000  27.000000  27.000000   \nmean             0.463876       0.434008       0.968317  -5.079368   0.890742   \nstd              0.027672       0.200735       0.442297  11.344863   0.050287   \nmin              0.436606       0.218833       0.499237 -29.681988   0.813610   \n25%              0.439283       0.276357       0.636314 -11.476625   0.846028   \n50%              0.453386       0.336295       0.748273  -2.640311   0.894191   \n75%              0.483996       0.692071       1.469274   1.091476   0.946130   \nmax              0.522475       0.748626       1.757161  15.637199   0.956986   \n\n            nmae  \ncount  27.000000  \nmean    0.028718  \nstd     0.006107  \nmin     0.019889  \n25%     0.024730  \n50%     0.027968  \n75%     0.032275  \nmax     0.043212  ",
      "text/html": "<div>\n<style scoped>\n    .dataframe tbody tr th:only-of-type {\n        vertical-align: middle;\n    }\n\n    .dataframe tbody tr th {\n        vertical-align: top;\n    }\n\n    .dataframe thead th {\n        text-align: right;\n    }\n</style>\n<table border=\"1\" class=\"dataframe\">\n  <thead>\n    <tr style=\"text-align: right;\">\n      <th></th>\n      <th>id</th>\n      <th>rope_release</th>\n      <th>cable_max_force</th>\n      <th>max_strain</th>\n      <th>max_compression</th>\n      <th>m_amplitude</th>\n      <th>m_amplitude_2</th>\n      <th>initial_amplitude</th>\n      <th>frequency_damped</th>\n      <th>frequency_undamped</th>\n      <th>damping_coeff</th>\n      <th>damping_ratio</th>\n      <th>y_shift</th>\n      <th>pearson_r</th>\n      <th>nmae</th>\n    </tr>\n  </thead>\n  <tbody>\n    <tr>\n      <th>count</th>\n      <td>27.000000</td>\n      <td>27.000000</td>\n      <td>18.000000</td>\n      <td>27.000000</td>\n      <td>27.000000</td>\n      <td>27.000000</td>\n      <td>27.000000</td>\n      <td>27.000000</td>\n      <td>27.000000</td>\n      <td>27.000000</td>\n      <td>27.000000</td>\n      <td>27.000000</td>\n      <td>27.000000</td>\n      <td>27.000000</td>\n      <td>27.000000</td>\n    </tr>\n    <tr>\n      <th>mean</th>\n      <td>15.000000</td>\n      <td>2.371609</td>\n      <td>1.937778</td>\n      <td>248.391667</td>\n      <td>-93.480556</td>\n      <td>163.073148</td>\n      <td>84.181019</td>\n      <td>169.782102</td>\n      <td>0.456529</td>\n      <td>0.463876</td>\n      <td>0.434008</td>\n      <td>0.968317</td>\n      <td>-5.079368</td>\n      <td>0.890742</td>\n      <td>0.028718</td>\n    </tr>\n    <tr>\n      <th>std</th>\n      <td>7.937254</td>\n      <td>0.320477</td>\n      <td>0.799541</td>\n      <td>25.407331</td>\n      <td>31.077756</td>\n      <td>22.737134</td>\n      <td>21.178032</td>\n      <td>5.469971</td>\n      <td>0.022027</td>\n      <td>0.027672</td>\n      <td>0.200735</td>\n      <td>0.442297</td>\n      <td>11.344863</td>\n      <td>0.050287</td>\n      <td>0.006107</td>\n    </tr>\n    <tr>\n      <th>min</th>\n      <td>2.000000</td>\n      <td>1.946800</td>\n      <td>1.010000</td>\n      <td>204.125000</td>\n      <td>-144.950000</td>\n      <td>124.700000</td>\n      <td>50.825000</td>\n      <td>164.414861</td>\n      <td>0.435009</td>\n      <td>0.436606</td>\n      <td>0.218833</td>\n      <td>0.499237</td>\n      <td>-29.681988</td>\n      <td>0.813610</td>\n      <td>0.019889</td>\n    </tr>\n    <tr>\n      <th>25%</th>\n      <td>8.500000</td>\n      <td>2.012975</td>\n      <td>1.160000</td>\n      <td>232.437500</td>\n      <td>-125.262500</td>\n      <td>148.368750</td>\n      <td>61.868750</td>\n      <td>166.161477</td>\n      <td>0.437784</td>\n      <td>0.439283</td>\n      <td>0.276357</td>\n      <td>0.636314</td>\n      <td>-11.476625</td>\n      <td>0.846028</td>\n      <td>0.024730</td>\n    </tr>\n    <tr>\n      <th>50%</th>\n      <td>15.000000</td>\n      <td>2.356550</td>\n      <td>1.890000</td>\n      <td>244.750000</td>\n      <td>-80.800000</td>\n      <td>162.850000</td>\n      <td>87.362500</td>\n      <td>169.854061</td>\n      <td>0.450018</td>\n      <td>0.453386</td>\n      <td>0.336295</td>\n      <td>0.748273</td>\n      <td>-2.640311</td>\n      <td>0.894191</td>\n      <td>0.027968</td>\n    </tr>\n    <tr>\n      <th>75%</th>\n      <td>21.500000</td>\n      <td>2.748225</td>\n      <td>2.717500</td>\n      <td>262.400000</td>\n      <td>-73.425000</td>\n      <td>181.712500</td>\n      <td>102.618750</td>\n      <td>170.241598</td>\n      <td>0.466431</td>\n      <td>0.483996</td>\n      <td>0.692071</td>\n      <td>1.469274</td>\n      <td>1.091476</td>\n      <td>0.946130</td>\n      <td>0.032275</td>\n    </tr>\n    <tr>\n      <th>max</th>\n      <td>28.000000</td>\n      <td>2.780700</td>\n      <td>3.090000</td>\n      <td>297.150000</td>\n      <td>-43.775000</td>\n      <td>204.950000</td>\n      <td>115.737500</td>\n      <td>189.345841</td>\n      <td>0.508053</td>\n      <td>0.522475</td>\n      <td>0.748626</td>\n      <td>1.757161</td>\n      <td>15.637199</td>\n      <td>0.956986</td>\n      <td>0.043212</td>\n    </tr>\n  </tbody>\n</table>\n</div>"
     },
     "execution_count": 16,
     "metadata": {},
     "output_type": "execute_result"
    }
   ],
   "source": [
    "# 1. Gruppieren, mitteln, Suffix hinzufügen, joinen und Spalten umsortieren in einer Pipeline\n",
    "df_adj = (\n",
    "    df\n",
    "    .groupby(\"id\")[variables]        # nur die Original-Spalten auswählen\n",
    "    .mean()                             # über id mitteln\n",
    "    #.add_suffix(\"_mean\")              # Suffix anfügen\n",
    "    .reset_index()\n",
    "    .merge(\n",
    "        df[add_variables].drop_duplicates(),  # Zusatzspalten (z. B. treatment, rope_release, cable_max_force)\n",
    "        on=\"id\"\n",
    "    )\n",
    ")\n",
    "\n",
    "assert df_adj['treatment'].notna().all(), \"Merge-Fehler: missing treatments!\"\n",
    "\n",
    "cols = add_variables + [c for c in df_adj.columns if c not in add_variables]\n",
    "df_adj = df_adj.loc[:, cols]\n",
    "\n",
    "# 2. Ergebnis kontrollieren\n",
    "df_adj.describe()"
   ],
   "metadata": {
    "collapsed": false,
    "ExecuteTime": {
     "end_time": "2025-08-26T13:57:29.535505700Z",
     "start_time": "2025-08-26T13:57:29.364086500Z"
    }
   }
  },
  {
   "cell_type": "code",
   "execution_count": 17,
   "outputs": [],
   "source": [
    "df_adj.to_csv(data_export_directory / \"_dataset_df_adj.csv\", sep=\";\", index=True, encoding=\"utf-8\")"
   ],
   "metadata": {
    "collapsed": false,
    "ExecuteTime": {
     "end_time": "2025-08-26T13:57:29.535505700Z",
     "start_time": "2025-08-26T13:57:29.483377400Z"
    }
   }
  },
  {
   "cell_type": "markdown",
   "source": [
    "## ANALYSE: Systematischer Einfluss der Behandlungsvariante auf Schwingungsparameter"
   ],
   "metadata": {
    "collapsed": false
   }
  },
  {
   "cell_type": "code",
   "execution_count": 18,
   "outputs": [],
   "source": [
    "# Ausgewählte Zielvariablen\n",
    "variables = [\n",
    "    'max_strain','max_compression','m_amplitude','m_amplitude_2',\n",
    "    'initial_amplitude','frequency_damped','frequency_undamped',\n",
    "    'damping_coeff','damping_ratio','y_shift','pearson_r','nmae'\n",
    "]"
   ],
   "metadata": {
    "collapsed": false,
    "ExecuteTime": {
     "end_time": "2025-08-26T13:57:29.536507700Z",
     "start_time": "2025-08-26T13:57:29.503740300Z"
    }
   }
  },
  {
   "cell_type": "markdown",
   "source": [
    "### ANALYSE: Deskriptive Statistik\n",
    "\n",
    "Es sind Unterschiede erkennbar je nach Gruppe, weitere Auswertung folgt"
   ],
   "metadata": {
    "collapsed": false
   }
  },
  {
   "cell_type": "code",
   "execution_count": 19,
   "outputs": [
    {
     "name": "stdout",
     "output_type": "stream",
     "text": [
      "                id                                               rope_release  \\\n",
      "             count  mean       std   min   25%   50%   75%   max        count   \n",
      "treatment                                                                       \n",
      "free           9.0   6.0  2.738613   2.0   4.0   6.0   8.0  10.0          9.0   \n",
      "gefa_dynamic   9.0  15.0  2.738613  11.0  13.0  15.0  17.0  19.0          9.0   \n",
      "cobra_static   9.0  24.0  2.738613  20.0  22.0  24.0  26.0  28.0          9.0   \n",
      "\n",
      "                        ... pearson_r            nmae                      \\\n",
      "                  mean  ...       75%       max count      mean       std   \n",
      "treatment               ...                                                 \n",
      "free          2.358678  ...  0.955038  0.956986   9.0  0.022945  0.002540   \n",
      "gefa_dynamic  2.379867  ...  0.899477  0.906938   9.0  0.032668  0.006300   \n",
      "cobra_static  2.376283  ...  0.845354  0.884288   9.0  0.030540  0.004037   \n",
      "\n",
      "                                                                \n",
      "                   min       25%       50%       75%       max  \n",
      "treatment                                                       \n",
      "free          0.019889  0.020772  0.022779  0.023752  0.027694  \n",
      "gefa_dynamic  0.026219  0.027996  0.030434  0.035315  0.043212  \n",
      "cobra_static  0.025708  0.027530  0.029619  0.033641  0.036187  \n",
      "\n",
      "[3 rows x 120 columns]\n"
     ]
    }
   ],
   "source": [
    "df_adj_desc = df_adj.groupby(\"treatment\", observed=True).describe()\n",
    "print(df_adj_desc)"
   ],
   "metadata": {
    "collapsed": false,
    "ExecuteTime": {
     "end_time": "2025-08-26T13:57:29.650655200Z",
     "start_time": "2025-08-26T13:57:29.503740300Z"
    }
   }
  },
  {
   "cell_type": "markdown",
   "source": [
    "### VISUALISIERUNG: Explorative Visualisierung"
   ],
   "metadata": {
    "collapsed": false
   }
  },
  {
   "cell_type": "code",
   "execution_count": 20,
   "outputs": [],
   "source": [
    "# Plot erstellen\n",
    "for i, var in enumerate(variables):\n",
    "    fig = plt.figure(figsize=(8, 5))\n",
    "    sns.boxplot(data=df_adj, x=\"treatment\", y=var, hue=\"treatment\", palette=treatment_color_dict)\n",
    "    \n",
    "    # Titel und Achsentitel setzen\n",
    "    plt.title(f\"Einfluss der Behandlung auf {get_label_from_dict(var, data_dict, use_titel=True)}\")\n",
    "    plt.xlabel(\"Behandlungsvariante\")\n",
    "    plt.ylabel(get_label_from_dict(var, data_dict, use_full=True))\n",
    "    plt.tight_layout()\n",
    "    #plt.show()\n",
    "    PLOT_MANAGER.save_plot(fig, filename=f\"treatment_effect_{i}_{var}\", subdir=\"ptq_osc_treatment_effect_df_adj\")"
   ],
   "metadata": {
    "collapsed": false,
    "ExecuteTime": {
     "end_time": "2025-08-26T13:57:35.371087Z",
     "start_time": "2025-08-26T13:57:29.619342400Z"
    }
   }
  },
  {
   "cell_type": "code",
   "execution_count": 21,
   "outputs": [
    {
     "data": {
      "text/plain": "<Figure size 800x1200 with 12 Axes>",
      "image/png": "[encoded data removed]"
     },
     "metadata": {},
     "output_type": "display_data"
    }
   ],
   "source": [
    "# Long-Format erzeugen\n",
    "df_long = df_adj.melt(\n",
    "    id_vars=add_variables, \n",
    "    value_vars=variables,\n",
    "    var_name=\"Parameter\", \n",
    "    value_name=\"Messwert\"\n",
    ")\n",
    "\n",
    "# FacetGrid mit Box- & Swarmplots\n",
    "g = sns.FacetGrid(df_long, col=\"Parameter\", col_wrap=3, sharey=False, hue=\"treatment\",\n",
    "                  palette=treatment_color_dict, height=3.5, aspect=1)\n",
    "g.map_dataframe(sns.boxplot,   x=\"treatment\", y=\"Messwert\", showfliers=False, dodge=True)\n",
    "g.map_dataframe(sns.swarmplot, x=\"treatment\", y=\"Messwert\", dodge=True, size=3, alpha=0.7, color=\"black\")\n",
    "g.set_axis_labels(\"Behandlungsvariante\", \"\").set_titles(\"{col_name}\").add_legend(title=\"Treatment\")\n",
    "for ax in g.axes.flatten():\n",
    "    for label in ax.get_xticklabels():\n",
    "        label.set_rotation(20)\n",
    "g.fig.set_size_inches(8, 12)\n",
    "plt.tight_layout()\n",
    "plt.show()\n",
    "PLOT_MANAGER.save_plot(g.fig, filename=\"treatment_effect_facet_grid\", subdir=\"ptq_osc_treatment_effect_df_adj\")"
   ],
   "metadata": {
    "collapsed": false,
    "ExecuteTime": {
     "end_time": "2025-08-26T13:58:06.991318400Z",
     "start_time": "2025-08-26T13:57:35.371087Z"
    }
   }
  },
  {
   "cell_type": "markdown",
   "source": [
    "### ANALYSE: Statistische Auswertung ANCOVA"
   ],
   "metadata": {
    "collapsed": false
   }
  },
  {
   "cell_type": "code",
   "execution_count": 22,
   "outputs": [],
   "source": [
    "treatment_order = list(df_adj[\"treatment\"].cat.categories)"
   ],
   "metadata": {
    "collapsed": false,
    "ExecuteTime": {
     "end_time": "2025-08-26T13:58:07.000882600Z",
     "start_time": "2025-08-26T13:58:06.995609100Z"
    }
   }
  },
  {
   "cell_type": "code",
   "execution_count": 23,
   "outputs": [],
   "source": [
    "# Container für alle Ergebnisse\n",
    "resid_list = []\n",
    "anova_list = []\n",
    "tukey_list = []\n",
    "\n",
    "for var in variables:\n",
    "    # 1) ANCOVA-Modell fitten\n",
    "    model = smf.ols(f\"{var} ~ C(treatment) + rope_release\", data=df_adj).fit()\n",
    "    \n",
    "    # 2) Residuen-Tests\n",
    "    W,    p_sh = st.shapiro(model.resid)\n",
    "    stat_le, p_le = st.levene(\n",
    "        *[model.resid[df_adj['treatment']==g] for g in df_adj['treatment'].cat.categories]\n",
    "    )\n",
    "    resid_list.append({\n",
    "        'variable':    var,\n",
    "        'W_shapiro':   W,\n",
    "        'p_shapiro':   p_sh,\n",
    "        'stat_levene': stat_le,\n",
    "        'p_levene':    p_le\n",
    "    })\n",
    "    \n",
    "    # 3) ANOVA-Tabelle (Typ II)\n",
    "    aov = sm.stats.anova_lm(model, typ=2)\n",
    "    \n",
    "    # Extrahiere Treatment-Effekt\n",
    "    ss_tr   = aov.loc['C(treatment)', 'sum_sq']\n",
    "    df_tr   = int(aov.loc['C(treatment)', 'df'])\n",
    "    ms_tr   = ss_tr / df_tr\n",
    "    F_tr    = aov.loc['C(treatment)', 'F']\n",
    "    p_tr    = aov.loc['C(treatment)', 'PR(>F)']\n",
    "    \n",
    "    # Extrahiere rope_release-Effekt\n",
    "    ss_rr   = aov.loc['rope_release', 'sum_sq']\n",
    "    df_rr   = int(aov.loc['rope_release', 'df'])\n",
    "    ms_rr   = ss_rr / df_rr\n",
    "    F_rr    = aov.loc['rope_release', 'F']\n",
    "    p_rr    = aov.loc['rope_release', 'PR(>F)']\n",
    "    \n",
    "    # Residual-Informationen\n",
    "    ss_res  = aov.loc['Residual', 'sum_sq']\n",
    "    df_res  = int(aov.loc['Residual', 'df'])\n",
    "    ms_res  = ss_res / df_res\n",
    "    \n",
    "    # partielle η² für Treatment und rope_release\n",
    "    eta2p_tr = ss_tr / (ss_tr + ss_res)\n",
    "    eta2p_rr = ss_rr / (ss_rr + ss_res)\n",
    "    \n",
    "    anova_list.append({\n",
    "        'variable':         var,\n",
    "        # Treatment\n",
    "        'df_treatment':     df_tr,\n",
    "        'SS_treatment':     ss_tr,\n",
    "        'MS_treatment':     ms_tr,\n",
    "        'F_treatment':      F_tr,\n",
    "        'p_treatment':      p_tr,\n",
    "        'eta2p_treatment':  eta2p_tr,\n",
    "        # rope_release\n",
    "        'df_rope':          df_rr,\n",
    "        'SS_rope':          ss_rr,\n",
    "        'MS_rope':          ms_rr,\n",
    "        'F_rope':           F_rr,\n",
    "        'p_rope':           p_rr,\n",
    "        'eta2p_rope':       eta2p_rr,\n",
    "        # Residual\n",
    "        'df_residual':      df_res,\n",
    "        'SS_residual':      ss_res,\n",
    "        'MS_residual':      ms_res\n",
    "    })\n",
    "    \n",
    "    # Tukey HSD\n",
    "    tukey = pairwise_tukeyhsd(endog=df_adj[var], groups=df_adj['treatment'], alpha=0.05)\n",
    "    tukey_df = pd.DataFrame(tukey.summary().data[1:], columns=tukey.summary().data[0])\n",
    "    tukey_df.insert(0, 'variable', var)\n",
    "    tukey_list.append(tukey_df)\n",
    "\n",
    "# Erzeuge die DataFrames\n",
    "df_resid = pd.DataFrame(resid_list).set_index('variable')\n",
    "df_anova = pd.DataFrame(anova_list).set_index('variable')\n",
    "df_tukey = pd.concat(tukey_list, ignore_index=True)"
   ],
   "metadata": {
    "collapsed": false,
    "ExecuteTime": {
     "end_time": "2025-08-26T13:58:10.882969200Z",
     "start_time": "2025-08-26T13:58:07.005082600Z"
    }
   }
  },
  {
   "cell_type": "code",
   "execution_count": 24,
   "outputs": [
    {
     "data": {
      "text/plain": "                    W_shapiro  p_shapiro  stat_levene  p_levene\nvariable                                                       \nmax_strain           0.958734   0.345713     0.362994  0.699344\nmax_compression      0.980521   0.873932     0.110419  0.895911\nm_amplitude          0.967817   0.545284     0.265410  0.769113\nm_amplitude_2        0.872693   0.003353     0.081191  0.922270\ninitial_amplitude    0.683122   0.000002     0.143846  0.866762\nfrequency_damped     0.845790   0.000952    21.744567  0.000004\nfrequency_undamped   0.840948   0.000766    22.373361  0.000003\ndamping_coeff        0.907675   0.020129     0.285480  0.754171\ndamping_ratio        0.928670   0.064116     1.859126  0.177560\ny_shift              0.941812   0.135052     0.561077  0.577900\npearson_r            0.958504   0.341521     2.855377  0.077192\nnmae                 0.931162   0.073797     1.584328  0.225796",
      "text/html": "<div>\n<style scoped>\n    .dataframe tbody tr th:only-of-type {\n        vertical-align: middle;\n    }\n\n    .dataframe tbody tr th {\n        vertical-align: top;\n    }\n\n    .dataframe thead th {\n        text-align: right;\n    }\n</style>\n<table border=\"1\" class=\"dataframe\">\n  <thead>\n    <tr style=\"text-align: right;\">\n      <th></th>\n      <th>W_shapiro</th>\n      <th>p_shapiro</th>\n      <th>stat_levene</th>\n      <th>p_levene</th>\n    </tr>\n    <tr>\n      <th>variable</th>\n      <th></th>\n      <th></th>\n      <th></th>\n      <th></th>\n    </tr>\n  </thead>\n  <tbody>\n    <tr>\n      <th>max_strain</th>\n      <td>0.958734</td>\n      <td>0.345713</td>\n      <td>0.362994</td>\n      <td>0.699344</td>\n    </tr>\n    <tr>\n      <th>max_compression</th>\n      <td>0.980521</td>\n      <td>0.873932</td>\n      <td>0.110419</td>\n      <td>0.895911</td>\n    </tr>\n    <tr>\n      <th>m_amplitude</th>\n      <td>0.967817</td>\n      <td>0.545284</td>\n      <td>0.265410</td>\n      <td>0.769113</td>\n    </tr>\n    <tr>\n      <th>m_amplitude_2</th>\n      <td>0.872693</td>\n      <td>0.003353</td>\n      <td>0.081191</td>\n      <td>0.922270</td>\n    </tr>\n    <tr>\n      <th>initial_amplitude</th>\n      <td>0.683122</td>\n      <td>0.000002</td>\n      <td>0.143846</td>\n      <td>0.866762</td>\n    </tr>\n    <tr>\n      <th>frequency_damped</th>\n      <td>0.845790</td>\n      <td>0.000952</td>\n      <td>21.744567</td>\n      <td>0.000004</td>\n    </tr>\n    <tr>\n      <th>frequency_undamped</th>\n      <td>0.840948</td>\n      <td>0.000766</td>\n      <td>22.373361</td>\n      <td>0.000003</td>\n    </tr>\n    <tr>\n      <th>damping_coeff</th>\n      <td>0.907675</td>\n      <td>0.020129</td>\n      <td>0.285480</td>\n      <td>0.754171</td>\n    </tr>\n    <tr>\n      <th>damping_ratio</th>\n      <td>0.928670</td>\n      <td>0.064116</td>\n      <td>1.859126</td>\n      <td>0.177560</td>\n    </tr>\n    <tr>\n      <th>y_shift</th>\n      <td>0.941812</td>\n      <td>0.135052</td>\n      <td>0.561077</td>\n      <td>0.577900</td>\n    </tr>\n    <tr>\n      <th>pearson_r</th>\n      <td>0.958504</td>\n      <td>0.341521</td>\n      <td>2.855377</td>\n      <td>0.077192</td>\n    </tr>\n    <tr>\n      <th>nmae</th>\n      <td>0.931162</td>\n      <td>0.073797</td>\n      <td>1.584328</td>\n      <td>0.225796</td>\n    </tr>\n  </tbody>\n</table>\n</div>"
     },
     "execution_count": 24,
     "metadata": {},
     "output_type": "execute_result"
    }
   ],
   "source": [
    "df_resid"
   ],
   "metadata": {
    "collapsed": false,
    "ExecuteTime": {
     "end_time": "2025-08-26T13:58:10.899286Z",
     "start_time": "2025-08-26T13:58:10.882969200Z"
    }
   }
  },
  {
   "cell_type": "code",
   "execution_count": 25,
   "outputs": [
    {
     "name": "stdout",
     "output_type": "stream",
     "text": [
      "                    df_treatment  SS_treatment  MS_treatment  F_treatment  \\\n",
      "variable                                                                    \n",
      "max_strain                     2   1768.951714    884.475857     3.887180   \n",
      "max_compression                2  21055.844168  10527.922084    67.536963   \n",
      "m_amplitude                    2   8924.111554   4462.055777   304.208870   \n",
      "m_amplitude_2                  2  11041.167623   5520.583812   364.347324   \n",
      "initial_amplitude              2    155.396784     77.698392     2.907589   \n",
      "frequency_damped               2      0.009956      0.004978    45.430931   \n",
      "frequency_undamped             2      0.017626      0.008813    94.844207   \n",
      "damping_coeff                  2      1.030115      0.515058   677.854377   \n",
      "damping_ratio                  2      4.885907      2.442953   280.719730   \n",
      "y_shift                        2    926.726220    463.363110     4.415121   \n",
      "pearson_r                      2      0.056992      0.028496    80.124681   \n",
      "nmae                           2      0.000470      0.000235    10.813278   \n",
      "\n",
      "                     p_treatment  eta2p_treatment  df_rope       SS_rope  \\\n",
      "variable                                                                   \n",
      "max_strain          3.513145e-02         0.252625        1  9.797710e+03   \n",
      "max_compression     2.360355e-10         0.854498        1  6.494630e+02   \n",
      "m_amplitude         2.859086e-17         0.963574        1  4.462852e+03   \n",
      "m_amplitude_2       3.849403e-18         0.969402        1  3.513875e+02   \n",
      "initial_amplitude   7.485576e-02         0.201810        1  8.667923e+00   \n",
      "frequency_damped    1.026880e-08         0.798001        1  9.935678e-05   \n",
      "frequency_undamped  7.777070e-12         0.891861        1  9.557683e-05   \n",
      "damping_coeff       3.596963e-21         0.983318        1  6.534231e-05   \n",
      "damping_ratio       6.956095e-17         0.960646        1  3.877504e-04   \n",
      "y_shift             2.383475e-02         0.277417        1  1.076073e+01   \n",
      "pearson_r           4.314015e-11         0.874488        1  3.273486e-04   \n",
      "nmae                4.892675e-04         0.484612        1  1.995793e-08   \n",
      "\n",
      "                         MS_rope      F_rope        p_rope  eta2p_rope  \\\n",
      "variable                                                                 \n",
      "max_strain          9.797710e+03   43.059928  1.074009e-06    0.651831   \n",
      "max_compression     6.494630e+02    4.166327  5.287179e-02    0.153364   \n",
      "m_amplitude         4.462852e+03  304.263121  9.320313e-15    0.929720   \n",
      "m_amplitude_2       3.513875e+02   23.190863  7.371699e-05    0.502066   \n",
      "initial_amplitude   8.667923e+00    0.324366  5.745162e-01    0.013907   \n",
      "frequency_damped    9.935678e-05    0.906770  3.508738e-01    0.037929   \n",
      "frequency_undamped  9.557683e-05    1.028578  3.210436e-01    0.042806   \n",
      "damping_coeff       6.534231e-05    0.085995  7.719610e-01    0.003725   \n",
      "damping_ratio       3.877504e-04    0.044556  8.346809e-01    0.001933   \n",
      "y_shift             1.076073e+01    0.102533  7.517020e-01    0.004438   \n",
      "pearson_r           3.273486e-04    0.920443  3.473365e-01    0.038479   \n",
      "nmae                1.995793e-08    0.000919  9.760770e-01    0.000040   \n",
      "\n",
      "                    df_residual  SS_residual  MS_residual  \n",
      "variable                                                   \n",
      "max_strain                   23  5233.341981   227.536608  \n",
      "max_compression              23  3585.328635   155.883854  \n",
      "m_amplitude                  23   337.357957    14.667737  \n",
      "m_amplitude_2                23   348.495568    15.151981  \n",
      "initial_amplitude            23   614.620295    26.722622  \n",
      "frequency_damped             23     0.002520     0.000110  \n",
      "frequency_undamped           23     0.002137     0.000093  \n",
      "damping_coeff                23     0.017476     0.000760  \n",
      "damping_ratio                23     0.200157     0.008702  \n",
      "y_shift                      23  2413.829741   104.949119  \n",
      "pearson_r                    23     0.008180     0.000356  \n",
      "nmae                         23     0.000499     0.000022  \n"
     ]
    }
   ],
   "source": [
    "print(df_anova)"
   ],
   "metadata": {
    "collapsed": false,
    "ExecuteTime": {
     "end_time": "2025-08-26T13:58:10.909501900Z",
     "start_time": "2025-08-26T13:58:10.899286Z"
    }
   }
  },
  {
   "cell_type": "code",
   "execution_count": 26,
   "outputs": [
    {
     "data": {
      "text/plain": "              variable        group1        group2  meandiff   p-adj    lower  \\\n0           max_strain  cobra_static          free   12.9194  0.5262 -16.5418   \n1           max_strain  cobra_static  gefa_dynamic   19.3806  0.2477 -10.0807   \n2           max_strain          free  gefa_dynamic    6.4611  0.8486 -23.0001   \n3      max_compression  cobra_static          free  -66.6333  0.0000 -82.2710   \n4      max_compression  cobra_static  gefa_dynamic  -21.0917  0.0069 -36.7294   \n5      max_compression          free  gefa_dynamic   45.5417  0.0000  29.9040   \n6          m_amplitude  cobra_static          free   43.8208  0.0000  27.1719   \n7          m_amplitude  cobra_static  gefa_dynamic   21.9403  0.0083   5.2913   \n8          m_amplitude          free  gefa_dynamic  -21.8806  0.0085 -38.5295   \n9        m_amplitude_2  cobra_static          free   49.2444  0.0000  42.8872   \n10       m_amplitude_2  cobra_static  gefa_dynamic   27.4736  0.0000  21.1164   \n11       m_amplitude_2          free  gefa_dynamic  -21.7708  0.0000 -28.1281   \n12   initial_amplitude  cobra_static          free    5.0618  0.1096  -0.9375   \n13   initial_amplitude  cobra_static  gefa_dynamic    5.0918  0.1070  -0.9075   \n14   initial_amplitude          free  gefa_dynamic    0.0300  0.9999  -5.9694   \n15    frequency_damped  cobra_static          free   -0.0461  0.0000  -0.0584   \n16    frequency_damped  cobra_static  gefa_dynamic   -0.0317  0.0000  -0.0440   \n17    frequency_damped          free  gefa_dynamic    0.0144  0.0200   0.0021   \n18  frequency_undamped  cobra_static          free   -0.0605  0.0000  -0.0719   \n19  frequency_undamped  cobra_static  gefa_dynamic   -0.0443  0.0000  -0.0557   \n20  frequency_undamped          free  gefa_dynamic    0.0162  0.0043   0.0049   \n21       damping_coeff  cobra_static          free   -0.4557  0.0000  -0.4875   \n22       damping_coeff  cobra_static  gefa_dynamic   -0.3542  0.0000  -0.3860   \n23       damping_coeff          free  gefa_dynamic    0.1015  0.0000   0.0697   \n24       damping_ratio  cobra_static          free   -0.9880  0.0000  -1.0956   \n25       damping_ratio  cobra_static  gefa_dynamic   -0.7807  0.0000  -0.8883   \n26       damping_ratio          free  gefa_dynamic    0.2073  0.0002   0.0997   \n27             y_shift  cobra_static          free  -12.8549  0.0314 -24.6874   \n28             y_shift  cobra_static  gefa_dynamic   -0.9785  0.9768 -12.8110   \n29             y_shift          free  gefa_dynamic   11.8764  0.0490   0.0439   \n30           pearson_r  cobra_static          free    0.1121  0.0000   0.0899   \n31           pearson_r  cobra_static  gefa_dynamic    0.0453  0.0001   0.0231   \n32           pearson_r          free  gefa_dynamic   -0.0668  0.0000  -0.0890   \n33                nmae  cobra_static          free   -0.0076  0.0047  -0.0130   \n34                nmae  cobra_static  gefa_dynamic    0.0021  0.5905  -0.0032   \n35                nmae          free  gefa_dynamic    0.0097  0.0004   0.0044   \n\n      upper  reject  \n0   42.3807   False  \n1   48.8418   False  \n2   35.9224   False  \n3  -50.9956    True  \n4   -5.4540    True  \n5   61.1794    True  \n6   60.4698    True  \n7   38.5892    True  \n8   -5.2316    True  \n9   55.6017    True  \n10  33.8309    True  \n11 -15.4136    True  \n12  11.0611   False  \n13  11.0911   False  \n14   6.0293   False  \n15  -0.0338    True  \n16  -0.0194    True  \n17   0.0267    True  \n18  -0.0492    True  \n19  -0.0330    True  \n20   0.0276    True  \n21  -0.4238    True  \n22  -0.3223    True  \n23   0.1333    True  \n24  -0.8804    True  \n25  -0.6731    True  \n26   0.3149    True  \n27  -1.0224    True  \n28  10.8540   False  \n29  23.7089    True  \n30   0.1343    True  \n31   0.0674    True  \n32  -0.0447    True  \n33  -0.0022    True  \n34   0.0075   False  \n35   0.0151    True  ",
      "text/html": "<div>\n<style scoped>\n    .dataframe tbody tr th:only-of-type {\n        vertical-align: middle;\n    }\n\n    .dataframe tbody tr th {\n        vertical-align: top;\n    }\n\n    .dataframe thead th {\n        text-align: right;\n    }\n</style>\n<table border=\"1\" class=\"dataframe\">\n  <thead>\n    <tr style=\"text-align: right;\">\n      <th></th>\n      <th>variable</th>\n      <th>group1</th>\n      <th>group2</th>\n      <th>meandiff</th>\n      <th>p-adj</th>\n      <th>lower</th>\n      <th>upper</th>\n      <th>reject</th>\n    </tr>\n  </thead>\n  <tbody>\n    <tr>\n      <th>0</th>\n      <td>max_strain</td>\n      <td>cobra_static</td>\n      <td>free</td>\n      <td>12.9194</td>\n      <td>0.5262</td>\n      <td>-16.5418</td>\n      <td>42.3807</td>\n      <td>False</td>\n    </tr>\n    <tr>\n      <th>1</th>\n      <td>max_strain</td>\n      <td>cobra_static</td>\n      <td>gefa_dynamic</td>\n      <td>19.3806</td>\n      <td>0.2477</td>\n      <td>-10.0807</td>\n      <td>48.8418</td>\n      <td>False</td>\n    </tr>\n    <tr>\n      <th>2</th>\n      <td>max_strain</td>\n      <td>free</td>\n      <td>gefa_dynamic</td>\n      <td>6.4611</td>\n      <td>0.8486</td>\n      <td>-23.0001</td>\n      <td>35.9224</td>\n      <td>False</td>\n    </tr>\n    <tr>\n      <th>3</th>\n      <td>max_compression</td>\n      <td>cobra_static</td>\n      <td>free</td>\n      <td>-66.6333</td>\n      <td>0.0000</td>\n      <td>-82.2710</td>\n      <td>-50.9956</td>\n      <td>True</td>\n    </tr>\n    <tr>\n      <th>4</th>\n      <td>max_compression</td>\n      <td>cobra_static</td>\n      <td>gefa_dynamic</td>\n      <td>-21.0917</td>\n      <td>0.0069</td>\n      <td>-36.7294</td>\n      <td>-5.4540</td>\n      <td>True</td>\n    </tr>\n    <tr>\n      <th>5</th>\n      <td>max_compression</td>\n      <td>free</td>\n      <td>gefa_dynamic</td>\n      <td>45.5417</td>\n      <td>0.0000</td>\n      <td>29.9040</td>\n      <td>61.1794</td>\n      <td>True</td>\n    </tr>\n    <tr>\n      <th>6</th>\n      <td>m_amplitude</td>\n      <td>cobra_static</td>\n      <td>free</td>\n      <td>43.8208</td>\n      <td>0.0000</td>\n      <td>27.1719</td>\n      <td>60.4698</td>\n      <td>True</td>\n    </tr>\n    <tr>\n      <th>7</th>\n      <td>m_amplitude</td>\n      <td>cobra_static</td>\n      <td>gefa_dynamic</td>\n      <td>21.9403</td>\n      <td>0.0083</td>\n      <td>5.2913</td>\n      <td>38.5892</td>\n      <td>True</td>\n    </tr>\n    <tr>\n      <th>8</th>\n      <td>m_amplitude</td>\n      <td>free</td>\n      <td>gefa_dynamic</td>\n      <td>-21.8806</td>\n      <td>0.0085</td>\n      <td>-38.5295</td>\n      <td>-5.2316</td>\n      <td>True</td>\n    </tr>\n    <tr>\n      <th>9</th>\n      <td>m_amplitude_2</td>\n      <td>cobra_static</td>\n      <td>free</td>\n      <td>49.2444</td>\n      <td>0.0000</td>\n      <td>42.8872</td>\n      <td>55.6017</td>\n      <td>True</td>\n    </tr>\n    <tr>\n      <th>10</th>\n      <td>m_amplitude_2</td>\n      <td>cobra_static</td>\n      <td>gefa_dynamic</td>\n      <td>27.4736</td>\n      <td>0.0000</td>\n      <td>21.1164</td>\n      <td>33.8309</td>\n      <td>True</td>\n    </tr>\n    <tr>\n      <th>11</th>\n      <td>m_amplitude_2</td>\n      <td>free</td>\n      <td>gefa_dynamic</td>\n      <td>-21.7708</td>\n      <td>0.0000</td>\n      <td>-28.1281</td>\n      <td>-15.4136</td>\n      <td>True</td>\n    </tr>\n    <tr>\n      <th>12</th>\n      <td>initial_amplitude</td>\n      <td>cobra_static</td>\n      <td>free</td>\n      <td>5.0618</td>\n      <td>0.1096</td>\n      <td>-0.9375</td>\n      <td>11.0611</td>\n      <td>False</td>\n    </tr>\n    <tr>\n      <th>13</th>\n      <td>initial_amplitude</td>\n      <td>cobra_static</td>\n      <td>gefa_dynamic</td>\n      <td>5.0918</td>\n      <td>0.1070</td>\n      <td>-0.9075</td>\n      <td>11.0911</td>\n      <td>False</td>\n    </tr>\n    <tr>\n      <th>14</th>\n      <td>initial_amplitude</td>\n      <td>free</td>\n      <td>gefa_dynamic</td>\n      <td>0.0300</td>\n      <td>0.9999</td>\n      <td>-5.9694</td>\n      <td>6.0293</td>\n      <td>False</td>\n    </tr>\n    <tr>\n      <th>15</th>\n      <td>frequency_damped</td>\n      <td>cobra_static</td>\n      <td>free</td>\n      <td>-0.0461</td>\n      <td>0.0000</td>\n      <td>-0.0584</td>\n      <td>-0.0338</td>\n      <td>True</td>\n    </tr>\n    <tr>\n      <th>16</th>\n      <td>frequency_damped</td>\n      <td>cobra_static</td>\n      <td>gefa_dynamic</td>\n      <td>-0.0317</td>\n      <td>0.0000</td>\n      <td>-0.0440</td>\n      <td>-0.0194</td>\n      <td>True</td>\n    </tr>\n    <tr>\n      <th>17</th>\n      <td>frequency_damped</td>\n      <td>free</td>\n      <td>gefa_dynamic</td>\n      <td>0.0144</td>\n      <td>0.0200</td>\n      <td>0.0021</td>\n      <td>0.0267</td>\n      <td>True</td>\n    </tr>\n    <tr>\n      <th>18</th>\n      <td>frequency_undamped</td>\n      <td>cobra_static</td>\n      <td>free</td>\n      <td>-0.0605</td>\n      <td>0.0000</td>\n      <td>-0.0719</td>\n      <td>-0.0492</td>\n      <td>True</td>\n    </tr>\n    <tr>\n      <th>19</th>\n      <td>frequency_undamped</td>\n      <td>cobra_static</td>\n      <td>gefa_dynamic</td>\n      <td>-0.0443</td>\n      <td>0.0000</td>\n      <td>-0.0557</td>\n      <td>-0.0330</td>\n      <td>True</td>\n    </tr>\n    <tr>\n      <th>20</th>\n      <td>frequency_undamped</td>\n      <td>free</td>\n      <td>gefa_dynamic</td>\n      <td>0.0162</td>\n      <td>0.0043</td>\n      <td>0.0049</td>\n      <td>0.0276</td>\n      <td>True</td>\n    </tr>\n    <tr>\n      <th>21</th>\n      <td>damping_coeff</td>\n      <td>cobra_static</td>\n      <td>free</td>\n      <td>-0.4557</td>\n      <td>0.0000</td>\n      <td>-0.4875</td>\n      <td>-0.4238</td>\n      <td>True</td>\n    </tr>\n    <tr>\n      <th>22</th>\n      <td>damping_coeff</td>\n      <td>cobra_static</td>\n      <td>gefa_dynamic</td>\n      <td>-0.3542</td>\n      <td>0.0000</td>\n      <td>-0.3860</td>\n      <td>-0.3223</td>\n      <td>True</td>\n    </tr>\n    <tr>\n      <th>23</th>\n      <td>damping_coeff</td>\n      <td>free</td>\n      <td>gefa_dynamic</td>\n      <td>0.1015</td>\n      <td>0.0000</td>\n      <td>0.0697</td>\n      <td>0.1333</td>\n      <td>True</td>\n    </tr>\n    <tr>\n      <th>24</th>\n      <td>damping_ratio</td>\n      <td>cobra_static</td>\n      <td>free</td>\n      <td>-0.9880</td>\n      <td>0.0000</td>\n      <td>-1.0956</td>\n      <td>-0.8804</td>\n      <td>True</td>\n    </tr>\n    <tr>\n      <th>25</th>\n      <td>damping_ratio</td>\n      <td>cobra_static</td>\n      <td>gefa_dynamic</td>\n      <td>-0.7807</td>\n      <td>0.0000</td>\n      <td>-0.8883</td>\n      <td>-0.6731</td>\n      <td>True</td>\n    </tr>\n    <tr>\n      <th>26</th>\n      <td>damping_ratio</td>\n      <td>free</td>\n      <td>gefa_dynamic</td>\n      <td>0.2073</td>\n      <td>0.0002</td>\n      <td>0.0997</td>\n      <td>0.3149</td>\n      <td>True</td>\n    </tr>\n    <tr>\n      <th>27</th>\n      <td>y_shift</td>\n      <td>cobra_static</td>\n      <td>free</td>\n      <td>-12.8549</td>\n      <td>0.0314</td>\n      <td>-24.6874</td>\n      <td>-1.0224</td>\n      <td>True</td>\n    </tr>\n    <tr>\n      <th>28</th>\n      <td>y_shift</td>\n      <td>cobra_static</td>\n      <td>gefa_dynamic</td>\n      <td>-0.9785</td>\n      <td>0.9768</td>\n      <td>-12.8110</td>\n      <td>10.8540</td>\n      <td>False</td>\n    </tr>\n    <tr>\n      <th>29</th>\n      <td>y_shift</td>\n      <td>free</td>\n      <td>gefa_dynamic</td>\n      <td>11.8764</td>\n      <td>0.0490</td>\n      <td>0.0439</td>\n      <td>23.7089</td>\n      <td>True</td>\n    </tr>\n    <tr>\n      <th>30</th>\n      <td>pearson_r</td>\n      <td>cobra_static</td>\n      <td>free</td>\n      <td>0.1121</td>\n      <td>0.0000</td>\n      <td>0.0899</td>\n      <td>0.1343</td>\n      <td>True</td>\n    </tr>\n    <tr>\n      <th>31</th>\n      <td>pearson_r</td>\n      <td>cobra_static</td>\n      <td>gefa_dynamic</td>\n      <td>0.0453</td>\n      <td>0.0001</td>\n      <td>0.0231</td>\n      <td>0.0674</td>\n      <td>True</td>\n    </tr>\n    <tr>\n      <th>32</th>\n      <td>pearson_r</td>\n      <td>free</td>\n      <td>gefa_dynamic</td>\n      <td>-0.0668</td>\n      <td>0.0000</td>\n      <td>-0.0890</td>\n      <td>-0.0447</td>\n      <td>True</td>\n    </tr>\n    <tr>\n      <th>33</th>\n      <td>nmae</td>\n      <td>cobra_static</td>\n      <td>free</td>\n      <td>-0.0076</td>\n      <td>0.0047</td>\n      <td>-0.0130</td>\n      <td>-0.0022</td>\n      <td>True</td>\n    </tr>\n    <tr>\n      <th>34</th>\n      <td>nmae</td>\n      <td>cobra_static</td>\n      <td>gefa_dynamic</td>\n      <td>0.0021</td>\n      <td>0.5905</td>\n      <td>-0.0032</td>\n      <td>0.0075</td>\n      <td>False</td>\n    </tr>\n    <tr>\n      <th>35</th>\n      <td>nmae</td>\n      <td>free</td>\n      <td>gefa_dynamic</td>\n      <td>0.0097</td>\n      <td>0.0004</td>\n      <td>0.0044</td>\n      <td>0.0151</td>\n      <td>True</td>\n    </tr>\n  </tbody>\n</table>\n</div>"
     },
     "execution_count": 26,
     "metadata": {},
     "output_type": "execute_result"
    }
   ],
   "source": [
    "df_tukey"
   ],
   "metadata": {
    "collapsed": false,
    "ExecuteTime": {
     "end_time": "2025-08-26T13:58:11.015125100Z",
     "start_time": "2025-08-26T13:58:10.909501900Z"
    }
   }
  },
  {
   "cell_type": "markdown",
   "source": [
    "### VISUALISIERUNG: Prüfung auf Normalverteilung in QQ-Plot"
   ],
   "metadata": {
    "collapsed": false
   }
  },
  {
   "cell_type": "code",
   "execution_count": 27,
   "outputs": [
    {
     "ename": "NameError",
     "evalue": "name 'results' is not defined",
     "output_type": "error",
     "traceback": [
      "\u001B[1;31m---------------------------------------------------------------------------\u001B[0m",
      "\u001B[1;31mNameError\u001B[0m                                 Traceback (most recent call last)",
      "Cell \u001B[1;32mIn[27], line 1\u001B[0m\n\u001B[1;32m----> 1\u001B[0m \u001B[38;5;28;01mfor\u001B[39;00m i, (var, model) \u001B[38;5;129;01min\u001B[39;00m \u001B[38;5;28menumerate\u001B[39m(\u001B[43mresults\u001B[49m[\u001B[38;5;124m\"\u001B[39m\u001B[38;5;124mmodel\u001B[39m\u001B[38;5;124m\"\u001B[39m]\u001B[38;5;241m.\u001B[39mitems()):\n\u001B[0;32m      2\u001B[0m     resid \u001B[38;5;241m=\u001B[39m model\u001B[38;5;241m.\u001B[39mresid\n\u001B[0;32m      3\u001B[0m     \u001B[38;5;66;03m# QQ-Plot\u001B[39;00m\n",
      "\u001B[1;31mNameError\u001B[0m: name 'results' is not defined"
     ]
    }
   ],
   "source": [
    "for i, (var, model) in enumerate(results[\"model\"].items()):\n",
    "    resid = model.resid\n",
    "    # QQ-Plot\n",
    "    fig = plt.figure(figsize=(5,5))\n",
    "    st.probplot(resid, dist=\"norm\", plot=plt)\n",
    "    plt.title(f'QQ-Plot Residuen: {var}')\n",
    "    #plt.show()\n",
    "    PLOT_MANAGER.save_plot(fig, filename=f\"treatment_effect_qq_{i}_{var}\", subdir=\"ptq_osc_treatment_effect_qq_df_adj\")"
   ],
   "metadata": {
    "collapsed": false,
    "ExecuteTime": {
     "end_time": "2025-08-26T13:58:13.348150400Z",
     "start_time": "2025-08-26T13:58:10.930264900Z"
    }
   }
  },
  {
   "cell_type": "markdown",
   "source": [
    "### ANALYSE: Effekt der Vorspannung entfernen\n",
    "\n",
    "Wir nehmen die bereits gefitteten OLS‐Modelle und subtrahieren für jede Variable den Anteil rope_release * β_rope_release aus den Originalwerten."
   ],
   "metadata": {
    "collapsed": false
   }
  },
  {
   "cell_type": "code",
   "execution_count": null,
   "outputs": [],
   "source": [
    "# Kopie von df_adj anlegen\n",
    "df_force_adj = df_adj.copy()\n",
    "\n",
    "# mittlerer rope_release-Wert\n",
    "mean_rope = df_adj['rope_release'].mean()\n",
    "\n",
    "for var in variables:\n",
    "    model = results['model'][var]\n",
    "    beta = model.params['rope_release']\n",
    "    # y_adj = y_orig - beta * (rope_release - mean_rope)\n",
    "    df_force_adj[var] = df_adj[var] - beta * (df_adj['rope_release'] - mean_rope)\n"
   ],
   "metadata": {
    "collapsed": false,
    "ExecuteTime": {
     "start_time": "2025-08-26T13:58:12.810891900Z"
    }
   }
  },
  {
   "cell_type": "code",
   "execution_count": null,
   "outputs": [],
   "source": [
    "means_diff = df_force_adj[variables].mean() - df_adj[variables].mean()\n",
    "means_diff"
   ],
   "metadata": {
    "collapsed": false,
    "ExecuteTime": {
     "start_time": "2025-08-26T13:58:12.821043100Z"
    }
   }
  },
  {
   "cell_type": "markdown",
   "source": [
    "### VISUALISIERUNG: Explorative Visualisierung ohne Effekt rope_release"
   ],
   "metadata": {
    "collapsed": false
   }
  },
  {
   "cell_type": "code",
   "execution_count": null,
   "outputs": [],
   "source": [
    "# Plot erstellen\n",
    "for i, var in enumerate(variables):\n",
    "    fig = plt.figure(figsize=(8, 5))\n",
    "    sns.boxplot(data=df_force_adj, x=\"treatment\", y=var, hue=\"treatment\")\n",
    "\n",
    "    # Titel und Achsentitel setzen\n",
    "    plt.title(f\"Einfluss der Behandlung auf {get_label_from_dict(var, data_dict, use_titel=True)}\")\n",
    "    plt.xlabel(\"Behandlungsvariante\")\n",
    "    plt.ylabel(get_label_from_dict(var, data_dict, use_full=True))\n",
    "    plt.tight_layout()\n",
    "    #plt.show()\n",
    "    PLOT_MANAGER.save_plot(fig, filename=f\"treatment_effect_ex_rr_{i}_{var}\", subdir=\"ptq_osc_treatment_effect_df_force_adj\")"
   ],
   "metadata": {
    "collapsed": false,
    "ExecuteTime": {
     "start_time": "2025-08-26T13:58:12.831156700Z"
    }
   }
  },
  {
   "cell_type": "code",
   "execution_count": null,
   "outputs": [],
   "source": [
    "for i, var in enumerate(variables):\n",
    "    fig, axes = plt.subplots(1, 2, figsize=(12, 5), sharey=True)\n",
    "    \n",
    "    # Links: Rohdaten\n",
    "    sns.boxplot(ax=axes[0], data=df_adj, x=\"treatment\", y=var, hue=\"treatment\", dodge=False)\n",
    "    axes[0].set_title(f\"{var} (roh)\")\n",
    "    axes[0].set_xlabel(\"Behandlung\")\n",
    "    axes[0].set_ylabel(get_label_from_dict(var, data_dict, use_full=True))\n",
    "    #axes[0].legend_.remove()\n",
    "    \n",
    "    # Rechts: rope_release‑bereinigt\n",
    "    sns.boxplot(ax=axes[1], data=df_force_adj, x=\"treatment\", y=var, hue=\"treatment\", dodge=False)\n",
    "    axes[1].set_title(f\"{var} (bereinigt)\")\n",
    "    axes[1].set_xlabel(\"Behandlung\")\n",
    "    axes[1].set_ylabel(\"\")  # keine y-Achsentitel doppelt\n",
    "    #axes[1].legend_.remove()\n",
    "    \n",
    "    # Gemeinsame Legende unten\n",
    "    #handles, labels = axes[1].get_legend_handles_labels()\n",
    "    #fig.legend(handles, labels, loc='lower center', ncol=len(labels))\n",
    "    \n",
    "    plt.suptitle(f\"Vergleich Boxplots für {get_label_from_dict(var, data_dict, use_titel=True)}\", y=1.02)\n",
    "    plt.tight_layout()\n",
    "    PLOT_MANAGER.save_plot(fig, filename=f\"treatment_effect_compare_force_adj_{i}_{var}\", subdir=\"ptq_osc_treatment_effect_compare_raw_vs_force_adj\")"
   ],
   "metadata": {
    "collapsed": false,
    "ExecuteTime": {
     "start_time": "2025-08-26T13:58:12.839255900Z"
    }
   }
  },
  {
   "cell_type": "markdown",
   "source": [
    "### LATEX-EXPORT: Ergebnisse systematischer Einfluss der Behandlungsvariante"
   ],
   "metadata": {
    "collapsed": false
   }
  },
  {
   "cell_type": "code",
   "execution_count": null,
   "outputs": [],
   "source": [
    "variables = ['m_amplitude', 'm_amplitude_2', 'initial_amplitude', 'frequency_damped', 'frequency_undamped', 'damping_coeff', 'damping_ratio', 'y_shift', 'pearson_r', 'nmae']\n",
    "\n",
    "df_latex = grouped_describe(df_adj, group_by=\"treatment\", cols=variables, include_overall=True)\n",
    "print(df_latex)"
   ],
   "metadata": {
    "collapsed": false,
    "ExecuteTime": {
     "start_time": "2025-08-26T13:58:12.841308200Z"
    }
   }
  },
  {
   "cell_type": "code",
   "execution_count": null,
   "outputs": [],
   "source": [
    "# Optional: Spaltennamen gemäß data_dict umbenennen (nur, falls die Variable im data_dict existiert)\n",
    "df_latex.rename(columns={var: data_dict[var][\"Zeichen\"] for var in variables if var in data_dict}, inplace=True)\n",
    "\n",
    "df_latex.rename_axis(index={\"treatment\": \"Behandlung\"}, inplace=True)\n",
    "\n",
    "# Entferne \"%\" aus der \"Statistik\"-Ebene des MultiIndex mittels pandas' str.replace\n",
    "df_latex.index = df_latex.index.set_levels(\n",
    "    df_latex.index.levels[1].str.replace('%', '\\%'), \n",
    "    level=\"Statistik\"\n",
    ")\n",
    "\n",
    "# Entferne \"%\" aus der \"Statistik\"-Ebene des MultiIndex mittels pandas' str.replace\n",
    "df_latex.index = df_latex.index.set_levels(\n",
    "    df_latex.index.levels[0].str.replace('_', '\\_'), \n",
    "    level=\"Behandlung\"\n",
    ")\n",
    "\n",
    "# Konvertierung des DataFrames mit Multi-Index-Spalten in einen LaTeX-String\n",
    "latex_string = df_latex.to_latex(\n",
    "    index=True,\n",
    "    escape=False,\n",
    "    float_format=\"{:0.2f}\".format,\n",
    "    multicolumn=True,\n",
    "    multicolumn_format=\"c\",\n",
    "    column_format=\"ll|rrr|rr|rr|r|rr\"\n",
    ")\n",
    "\n",
    "# Definition der Beschriftung für die LaTeX-Tabelle\n",
    "caption = \"Plesse - Ergebnisse, Statistische Zusammenfassung, Schwingungsparameter und Anpassungsqualität adjustiert\"\n",
    "caption_long = \"Plesse - Ergebnisse, Statistische Zusammenfassung, Schwingungsparameter und Anpassungsqualität adjustiert\"\n",
    "save_latex_table(latex_string, caption, latex_export_directory, caption_long)"
   ],
   "metadata": {
    "collapsed": false,
    "ExecuteTime": {
     "start_time": "2025-08-26T13:58:12.851403900Z"
    }
   }
  },
  {
   "cell_type": "code",
   "execution_count": null,
   "outputs": [],
   "source": [
    "# Ergebnis‑Series für jede Variable sammeln\n",
    "dfs = []\n",
    "for var in variables:\n",
    "    # 1) Modell fitten\n",
    "    model = smf.ols(f\"{var} ~ C(treatment)\", data=df_adj).fit()\n",
    "    # 2) ANOVA‑Tabelle holen\n",
    "    aov = sm.stats.anova_lm(model, typ=2)\n",
    "    \n",
    "    # 3) Werte extrahieren\n",
    "    ss_bt = aov.at[\"C(treatment)\", \"sum_sq\"]\n",
    "    df_bt = aov.at[\"C(treatment)\", \"df\"]\n",
    "    F    = aov.at[\"C(treatment)\", \"F\"]\n",
    "    p    = aov.at[\"C(treatment)\", \"PR(>F)\"]\n",
    "    \n",
    "    ss_wt = aov.at[\"Residual\", \"sum_sq\"]\n",
    "    df_wt = aov.at[\"Residual\", \"df\"]\n",
    "    \n",
    "    # 4) Mean Square und Effektstärke berechnen\n",
    "    ms_bt  = ss_bt  / df_bt\n",
    "    eta_sq = ss_bt / (ss_bt + ss_wt)\n",
    "    \n",
    "    # 5) in eine Series packen\n",
    "    s = pd.Series({\n",
    "        \"df_between\": df_bt,\n",
    "        \"df_within\":  df_wt,\n",
    "        \"SS_between\": ss_bt,\n",
    "        \"SS_within\":  ss_wt,\n",
    "        \"MS_between\": ms_bt,\n",
    "        \"F_stat\":     F,\n",
    "        \"p_value\":    p,\n",
    "        \"eta_sq\":     eta_sq\n",
    "    }, name=var)\n",
    "    \n",
    "    dfs.append(s)\n",
    "\n",
    "# 6) alle Series zu einem DataFrame zusammenfügen\n",
    "anova_results = (\n",
    "    pd.concat(dfs, axis=1)\n",
    "      .T\n",
    "      .reset_index()\n",
    "      .rename(columns={\"index\": \"Variable\"})\n",
    "      #.sort_values(\"p_value\")\n",
    "      .reset_index(drop=True)\n",
    ")\n",
    "\n",
    "print(anova_results)"
   ],
   "metadata": {
    "collapsed": false,
    "ExecuteTime": {
     "start_time": "2025-08-26T13:58:12.861543100Z"
    }
   }
  },
  {
   "cell_type": "markdown",
   "metadata": {
    "collapsed": false
   },
   "source": [
    "### ANALYSE: Post-Hoc, Unterschiede der Behandlungsvarianten\n",
    "\n",
    "Festzustellen welche paarweisen Unterschiede zwischen den Treatments signifikant sind."
   ]
  },
  {
   "cell_type": "code",
   "execution_count": null,
   "outputs": [],
   "source": [
    "from statsmodels.stats.multicomp import pairwise_tukeyhsd\n",
    "\n",
    "# Dict für alle Tukey‑Resultate\n",
    "tukey_dict = {}\n",
    "\n",
    "for var in variables:\n",
    "    # Tukey HSD fahren\n",
    "    tuk = pairwise_tukeyhsd(\n",
    "        endog=df_adj[var],\n",
    "        groups=df_adj['treatment'],\n",
    "        alpha=0.05\n",
    "    )\n",
    "    \n",
    "    print(f\"--- Post-Hoc Test (Tukey HSD) für Variable: {var} ---\")\n",
    "    print(tuk.summary())\n",
    "    print(\"\\n\")\n",
    "    \n",
    "    # ins Dict packen\n",
    "    tukey_dict[var] = tuk\n"
   ],
   "metadata": {
    "collapsed": false,
    "ExecuteTime": {
     "start_time": "2025-08-26T13:58:12.869599500Z"
    }
   }
  },
  {
   "cell_type": "code",
   "execution_count": null,
   "outputs": [],
   "source": [
    "def annotate_tukey(ax, tukey_result, significance_level=0.05):\n",
    "    \"\"\"\n",
    "    Fügt eine Textbox mit den Tukey-Test-Ergebnissen und dem festgelegten Signifikanzniveau in den Plot ein.\n",
    "    \n",
    "    Parameters:\n",
    "    ax (matplotlib.axes): Die Achse, auf der der Plot gezeichnet wird.\n",
    "    tukey_result (TukeyHSDResults): Die Ergebnisse des Tukey HSD Tests.\n",
    "    significance_level (float): Das Signifikanzniveau, standardmäßig 0.05.\n",
    "    \"\"\"\n",
    "    # Definiere die gewünschte Reihenfolge der Vergleiche\n",
    "    comparisons_order = [('free', 'gefa_dynamic'), ('free', 'cobra_static'), ('gefa_dynamic', 'cobra_static')]\n",
    "\n",
    "    # Text für die Annotation zusammenstellen\n",
    "    text_str = f\"Tukey HSD Results: \\n(Significance level = {significance_level:.2f})\\n\\n\"\n",
    "    \n",
    "    # Durchlaufe die gewünschte Vergleichsreihenfolge\n",
    "    for group1, group2 in comparisons_order:\n",
    "        # Filtere die korrekte Paarung aus den Tukey-Ergebnissen\n",
    "        for i in range(len(tukey_result._results_table.data[1:])):\n",
    "            pair = tukey_result._results_table.data[i + 1]\n",
    "            if (pair[0] == group1 and pair[1] == group2) or (pair[0] == group2 and pair[1] == group1):\n",
    "                p_value = tukey_result.pvalues[i]\n",
    "                significance = \"*\" if p_value < significance_level else \"n.s.\"\n",
    "                text_str += f\"\\n{group1} vs {group2}: \\np = {p_value:.4f} ({significance})\\n\\n\"\n",
    "    \n",
    "    # Textbox am Rand des Plots hinzufügen\n",
    "    ax.annotate(text_str, xy=(1.01, 0.1), xycoords='axes fraction', va='center', ha='left')"
   ],
   "metadata": {
    "collapsed": false,
    "ExecuteTime": {
     "start_time": "2025-08-26T13:58:12.871646200Z"
    }
   }
  },
  {
   "cell_type": "markdown",
   "source": [
    "##### VISUALISIERUNG: Adjustierte Schwingungsparameter gruppiert für Behandlungsvariante"
   ],
   "metadata": {
    "collapsed": false
   }
  },
  {
   "cell_type": "code",
   "execution_count": null,
   "outputs": [],
   "source": [
    "# Plot erstellen\n",
    "for i, var in enumerate(variables):\n",
    "    fig, ax = plt.figure(figsize=(8, 5))\n",
    "    sns.boxplot(data=df_adj, x=\"treatment\", y=var, hue=\"treatment\")\n",
    "    \n",
    "    # Titel und Achsentitel setzen\n",
    "    plt.title(f\"Einfluss der Behandlung auf {get_label_from_dict(var, data_dict, use_titel=True)}\")\n",
    "    plt.xlabel(\"Behandlungsvariante\")\n",
    "    plt.ylabel(get_label_from_dict(var, data_dict, use_full=True))\n",
    "    plt.tight_layout()\n",
    "    #plt.show()\n",
    "    PLOT_MANAGER.save_plot(fig, filename=f\"treatment_effect_{i}_{var}\", subdir=\"ptq_osc_treatment_effect_sensor_adj\")"
   ],
   "metadata": {
    "collapsed": false,
    "ExecuteTime": {
     "start_time": "2025-08-26T13:58:12.881791700Z"
    }
   }
  },
  {
   "cell_type": "code",
   "execution_count": null,
   "outputs": [],
   "source": [
    "# Anzahl der relevanten Variablen und Layout für die Subplots definieren\n",
    "n_vars, n_cols, n_rows = len(variables), 2, (len(variables) + 1) // 2\n",
    "\n",
    "# Subplots erstellen\n",
    "fig, axes = plt.subplots(n_rows, n_cols, figsize=(10, 4 * n_rows))\n",
    "axes = axes.flatten()\n",
    "\n",
    "# Für jede relevante Variable einen Plot erstellen\n",
    "for i, var in enumerate(variables):\n",
    "    sns.boxplot(ax=axes[i], data=df_adj, x=\"treatment\", y=var, palette=treatment_color_dict, hue=\"treatment\", legend=False, dodge=False)\n",
    "    sns.stripplot(ax=axes[i], data=df_adj, x=\"treatment\", y=var, dodge=False, c=\"black\", jitter=True, size=5)\n",
    "    axes[i].set_title(f\"Einfluss von Treatment auf {var}\")\n",
    "    axes[i].set_ylabel(var)\n",
    "\n",
    "# Layout anpassen, Plot anzeigen und speichern\n",
    "plt.tight_layout()\n",
    "plt.show()\n",
    "PLOT_MANAGER.save_plot(fig, filename=\"treatment_effect_all_var\", subdir=\"ptq_osc_treatment_effect_sensor_adj\")"
   ],
   "metadata": {
    "collapsed": false,
    "ExecuteTime": {
     "start_time": "2025-08-26T13:58:12.889854400Z"
    }
   }
  },
  {
   "cell_type": "markdown",
   "source": [
    "#### Vorhergesagte Werte extrahieren und Boxplots für die Sensoren erstellen"
   ],
   "metadata": {
    "collapsed": false
   }
  },
  {
   "cell_type": "markdown",
   "source": [
    "### Zusammenhangsanalyse für LS3 und PTQ"
   ],
   "metadata": {
    "collapsed": false
   }
  },
  {
   "cell_type": "code",
   "execution_count": null,
   "outputs": [],
   "source": [
    "df_adj.columns"
   ],
   "metadata": {
    "collapsed": false,
    "ExecuteTime": {
     "start_time": "2025-08-26T13:58:12.891910500Z"
    }
   }
  },
  {
   "cell_type": "code",
   "execution_count": null,
   "metadata": {
    "collapsed": false,
    "ExecuteTime": {
     "start_time": "2025-08-26T13:58:12.900200100Z"
    }
   },
   "outputs": [],
   "source": [
    "# Auswahl der neuen Spaltennamen für die Korrelationsmatrix\n",
    "columns_corr = [\n",
    "    'rope_release', \n",
    "    'cable_max_force', \n",
    "    #'max_strain',\n",
    "    'max_compression', \n",
    "    #'m_amplitude', \n",
    "    # 'm_amplitude_2', 'initial_amplitude',\n",
    "    'frequency_damped', \n",
    "    'frequency_undamped', \n",
    "    'damping_coeff',\n",
    "    'damping_ratio', \n",
    "    'y_shift', \n",
    "    'pearson_r', \n",
    "    #'nmae'\n",
    "]\n",
    "\n",
    "df_corr = df_adj.copy()[columns_corr]\n",
    "\n",
    "# Berechnung der Korrelationsmatrix\n",
    "correlation_matrix = df_corr.corr()\n",
    "\n",
    "# Visualisierung der Korrelationsmatrix mit Seaborn\n",
    "fig1, ax = plt.subplots(figsize=(8, 8))  # Anpassen der Größe der Grafik\n",
    "sns.heatmap(correlation_matrix, annot=True, cmap='coolwarm', fmt='.2f', ax=ax, annot_kws={'size': 10})\n",
    "\n",
    "# Titel und Schriftgrößen anpassen\n",
    "#plt.title('Correlation Matrix for LS3 and PTQ', fontsize=18)\n",
    "ax.set_xticklabels(ax.get_xmajorticklabels(), fontsize=12, rotation=45, ha='right')\n",
    "ax.set_yticklabels(ax.get_ymajorticklabels(), fontsize=12, rotation=45, ha='right')\n",
    "ax.set_xlabel('')\n",
    "ax.set_ylabel('')\n",
    "plt.tight_layout()\n",
    "plt.show()\n",
    "PLOT_MANAGER.save_plot(fig1, filename=\"correlation_matrix\", subdir=\"combined\")"
   ]
  },
  {
   "cell_type": "markdown",
   "source": [
    "#### Zusammenhang Vorspannung und resultierende Lastspitzen"
   ],
   "metadata": {
    "collapsed": false
   }
  },
  {
   "cell_type": "code",
   "execution_count": null,
   "metadata": {
    "collapsed": false,
    "ExecuteTime": {
     "start_time": "2025-08-26T13:58:12.905199100Z"
    }
   },
   "outputs": [],
   "source": []
  },
  {
   "cell_type": "code",
   "execution_count": null,
   "metadata": {
    "collapsed": false,
    "ExecuteTime": {
     "start_time": "2025-08-26T13:58:12.910197900Z"
    }
   },
   "outputs": [],
   "source": [
    "fig3, ax1 = plt.subplots(figsize=(8, 5))\n",
    "ax2 = ax1.twinx()\n",
    "ax2.axis('off')\n",
    "y_pos_init = 0.1\n",
    "for idx, (treatment, color) in enumerate(treatment_color_dict.items()):\n",
    "    subset = df_id[df_id['treatment'] == treatment]\n",
    "    if subset['ptq_m_amplitude'].isna().all():\n",
    "        continue\n",
    "    sns.regplot(x='ls3_rope_release', y='ptq_m_amplitude', data=subset, ax=ax1, color=color, label=treatment,\n",
    "                ci=95)\n",
    "    stats_text = annotate_stats(subset['ls3_rope_release'], subset['ptq_m_amplitude'])\n",
    "    ax2.annotate(f\"{treatment}:\\n{stats_text}\", xy=(1.01, y_pos_init + idx * 0.3), xycoords='axes fraction')\n",
    "#ax1.set_title('Correlation Between Release Force and Elongation Amplitude')\n",
    "ax1.set_xlabel('Release Force [kN]')\n",
    "ax1.set_ylabel('Elongation Amplitude [$\\mu$m] (mean for all Sensors)')\n",
    "ax1.legend(title='Treatment', loc='upper left')\n",
    "plt.tight_layout()\n",
    "plt.show()\n",
    "PLOT_MANAGER.save_plot(fig3, filename=f\"ls3_release_force_vs_ptq_m_amplitude\", subdir=\"combined\")\n"
   ]
  },
  {
   "cell_type": "code",
   "execution_count": null,
   "metadata": {
    "collapsed": false,
    "ExecuteTime": {
     "start_time": "2025-08-26T13:58:12.913272800Z"
    }
   },
   "outputs": [],
   "source": [
    "fig3, ax1 = plt.subplots(figsize=(8, 5))\n",
    "ax2 = ax1.twinx()\n",
    "ax2.axis('off')\n",
    "y_pos_init = 0.1\n",
    "for idx, (treatment, color) in enumerate(treatment_color_dict.items()):\n",
    "    subset = df_id[df_id['treatment'] == treatment]\n",
    "    if subset['ptq_m_amplitude_2'].isna().all():\n",
    "        continue\n",
    "    sns.regplot(x='ls3_rope_release', y='ptq_m_amplitude_2', data=subset, ax=ax1, color=color, label=treatment,\n",
    "                ci=95)\n",
    "    stats_text = annotate_stats(subset['ls3_rope_release'], subset['ptq_m_amplitude_2'])\n",
    "    ax2.annotate(f\"{treatment}:\\n{stats_text}\", xy=(1.01, y_pos_init + idx * 0.3), xycoords='axes fraction')\n",
    "#ax1.set_title('Correlation Between Release Force and Elongation Amplitude 2')\n",
    "ax1.set_xlabel('Release Force [kN]')\n",
    "ax1.set_ylabel('Elongation Amplitude 2 [$\\mu$m] (mean for all Sensors)')\n",
    "ax1.legend(title='Treatment', loc='upper left')\n",
    "plt.tight_layout()\n",
    "plt.show()\n",
    "PLOT_MANAGER.save_plot(fig3, filename=f\"ls3_release_force_vs_ptq_m_amplitude_2\", subdir=\"combined\")"
   ]
  },
  {
   "cell_type": "code",
   "execution_count": null,
   "outputs": [],
   "source": [
    "# Funktion zur Durchführung des ANOVA-Tests und Berechnung der Effektstärke (Eta Squared)\n",
    "def perform_anova_and_effect_size(df: pd.DataFrame, variable: str, treatments: List[str]) -> str:\n",
    "    groups = [df[df['treatment'] == treatment][variable].dropna() for treatment in treatments]\n",
    "    f_stat, p_value = f_oneway(*groups)\n",
    "\n",
    "    # Berechnung der Effektstärke (Eta Squared)\n",
    "    n = sum([len(g) for g in groups])\n",
    "    ss_total = sum([(x - df[variable].mean()) ** 2 for g in groups for x in g])\n",
    "    eta_squared = f_stat * len(groups) / (f_stat * len(groups) + (n - len(groups)))\n",
    "\n",
    "    # Überprüfung der Signifikanz\n",
    "    significance = \"*\" if p_value < 0.05 else \"\"\n",
    "\n",
    "    return f\"{variable}: {significance}\\nF-statistic = {f_stat:.2f}\\np-value = {p_value:.2e}\\nEta Squared = {eta_squared:.2f}\""
   ],
   "metadata": {
    "collapsed": false,
    "ExecuteTime": {
     "start_time": "2025-08-26T13:58:12.920360800Z"
    }
   }
  },
  {
   "cell_type": "code",
   "execution_count": null,
   "outputs": [],
   "source": [
    "# Funktion zur Erstellung von Boxplots\n",
    "def create_boxplot(df: pd.DataFrame, variable: str, group_by: str, ax: plt.Axes, color_dict: Dict[str, str], perform_stats: bool) -> None:\n",
    "    valid_df = df.dropna(subset=[variable])\n",
    "    sns.boxplot(x=group_by, y=variable, hue=group_by, data=valid_df, ax=ax, palette=color_dict, dodge=False)\n",
    "    ax2 = ax.twinx()\n",
    "    ax2.axis('off')\n",
    "    if perform_stats:\n",
    "        stats_text = perform_anova_and_effect_size(valid_df, variable, valid_df[group_by].unique())\n",
    "        ax2.annotate(stats_text, xy=(1.01, 0.1), xycoords='axes fraction')\n",
    "    ax.set_title(f'Einfluss von {group_by} auf {variable}')\n",
    "    ax.set_xlabel(group_by)\n",
    "    ax.set_ylabel(variable)\n",
    "\n",
    "# Funktion zur Erstellung kombinierter Plots\n",
    "def create_combined_plot(df: pd.DataFrame, columns: List[str], group_by: str, color_dict: Dict[str, str], num_columns: int = 3, perform_stats: bool = False) -> None:\n",
    "    num_rows = len(columns) // num_columns + (len(columns) % num_columns > 0)\n",
    "    fig, axes = plt.subplots(num_rows, num_columns, figsize=(16, 4 * num_rows))\n",
    "    axes = axes.flatten()\n",
    "\n",
    "    for idx, variable in enumerate(columns):\n",
    "        create_boxplot(df, variable, group_by, axes[idx], color_dict, perform_stats)\n",
    "\n",
    "    plt.tight_layout()\n",
    "    plt.show()\n",
    "    PLOT_MANAGER.save_plot(fig, filename=f\"combined_plot_{group_by}\", subdir=\"combined\")\n",
    "\n",
    "# Funktion zur Erstellung einzelner Plots\n",
    "def create_individual_plots(df: pd.DataFrame, columns: List[str], group_by: str, color_dict: Dict[str, str], perform_stats: bool = False) -> None:\n",
    "    for variable in columns:\n",
    "        fig, ax = plt.subplots(figsize=(8, 5))\n",
    "        create_boxplot(df, variable, group_by, ax, color_dict, perform_stats)\n",
    "        plt.tight_layout()\n",
    "        #plt.show()\n",
    "        PLOT_MANAGER.save_plot(fig, filename=f\"{group_by}_{variable}\", subdir=\"individual_plots\")"
   ],
   "metadata": {
    "collapsed": false,
    "ExecuteTime": {
     "start_time": "2025-08-26T13:58:12.922414800Z"
    }
   }
  },
  {
   "cell_type": "code",
   "execution_count": null,
   "metadata": {
    "collapsed": false,
    "ExecuteTime": {
     "start_time": "2025-08-26T13:58:12.922414800Z"
    }
   },
   "outputs": [],
   "source": [
    "columns = ['ptq_m_amplitude',\n",
    "           'ptq_m_amplitude_2',\n",
    "           'ptq_initial_amplitude',\n",
    "           'ptq_damping_coeff',\n",
    "           'ptq_angular_frequency',\n",
    "           'ptq_y_shift',\n",
    "           'ptq_pearson_r',\n",
    "           #'ptq_nrmse',\n",
    "           #'ptq_nmae',\n",
    "           #'release_force_target',\n",
    "           'rope_release',\n",
    "           'cable_max_force'\n",
    "           ]\n",
    "\n",
    "# Beispiel: Erstellen von Plots gruppiert nach 'treatment'\n",
    "create_combined_plot(df, columns, 'treatment', treatment_color_dict, perform_stats=True)\n",
    "create_individual_plots(df, columns, 'treatment', treatment_color_dict, perform_stats=True)"
   ]
  },
  {
   "cell_type": "code",
   "execution_count": null,
   "metadata": {
    "collapsed": false,
    "ExecuteTime": {
     "start_time": "2025-08-26T13:58:12.930545400Z"
    }
   },
   "outputs": [],
   "source": [
    "# Beispiel: Erstellen von Plots gruppiert nach 'ptq_sensor_name'\n",
    "columns = ['ptq_m_amplitude', 'ptq_m_amplitude_2', 'ptq_initial_amplitude', 'ptq_damping_coeff', 'ptq_angular_frequency', 'ptq_pearson_r']\n",
    "\n",
    "create_combined_plot(df, columns, 'ptq_sensor_name', sensor_color_dict)\n",
    "create_individual_plots(df, columns, 'ptq_sensor_name', sensor_color_dict)"
   ]
  }
 ],
 "metadata": {
  "kernelspec": {
   "display_name": "Python 3 (ipykernel)",
   "language": "python",
   "name": "python3"
  },
  "language_info": {
   "codemirror_mode": {
    "name": "ipython",
    "version": 3
   },
   "file_extension": ".py",
   "mimetype": "text/x-python",
   "name": "python",
   "nbconvert_exporter": "python",
   "pygments_lexer": "ipython3",
   "version": "3.11.2"
  }
 },
 "nbformat": 4,
 "nbformat_minor": 4
}
